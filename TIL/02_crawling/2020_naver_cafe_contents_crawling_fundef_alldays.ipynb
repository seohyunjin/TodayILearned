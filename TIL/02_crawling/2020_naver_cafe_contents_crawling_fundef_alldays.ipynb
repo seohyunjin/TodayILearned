{
 "cells": [
  {
   "cell_type": "markdown",
   "source": [
    "수집시간 너무 오래걸려 한번에 돌리기! 24hrs"
   ],
   "metadata": {}
  },
  {
   "cell_type": "markdown",
   "source": [
    "# 네이버 cafe 2020 contents 크롤링 _함수이용_ all day 실행편\r\n",
    "제목/ 닉네임/ 날짜 / 내용/ 댓글 데이터 여러 페이지 한번에 가져오기"
   ],
   "metadata": {}
  },
  {
   "cell_type": "markdown",
   "source": [
    "## 01. 환경설정 및 함수 정의"
   ],
   "metadata": {}
  },
  {
   "cell_type": "code",
   "execution_count": 2,
   "source": [
    "import requests\r\n",
    "import pandas as pd\r\n",
    "import numpy as np \r\n",
    "\r\n",
    "import time\r\n",
    "from selenium import webdriver\r\n",
    "from selenium.webdriver.common.keys import Keys\r\n",
    "\r\n",
    "import urllib.request\r\n",
    "from bs4 import BeautifulSoup"
   ],
   "outputs": [],
   "metadata": {}
  },
  {
   "cell_type": "markdown",
   "source": [
    "## 02. 데이터 수집 및 저장"
   ],
   "metadata": {}
  },
  {
   "cell_type": "code",
   "execution_count": 24,
   "source": [
    "# 스크롤 횟수 지정 len 확인하기\r\n",
    "dal =8\r\n",
    "if dal == 8:\r\n",
    "    url = 'https://search.naver.com/search.naver?where=article&query=%EC%8C%80%20-%EC%97%85%EC%B2%B4%2C%20-%EC%A0%9C%EA%B3%B5%EB%B0%9B%2C%20-%EC%A7%80%EC%9B%90%EB%B0%9B%2C%20-%EC%9B%90%EA%B3%A0%EB%A3%8C%2C%20-%EB%AC%B4%EC%83%81%2C%20-%ED%98%91%EC%B0%AC%2C%20-%EC%86%8C%EC%A0%95%EC%9D%98%2C%20-%EC%82%AC%EB%A3%8C%2C%20-%EA%B3%A0%EB%9E%98%EB%B0%A5%2C%20-%EA%B8%B8%EB%83%A5%EC%9D%B4%2C%20-%EA%B3%A0%EC%96%91%EC%9D%B4%2C%20-%EA%B0%95%EC%95%84%EC%A7%80&ie=utf8&st=rel&date_option=99&date_from=2020.08.01&date_to=2020.08.31&board=&srchby=text&dup_remove=1&cafe_url=&without_cafe_url=&sm=tab_opt&nso=so%3Ar%2Cp%3Afrom20200801to20200831&nso_open=1&t=0&mson=0&prdtype=0'\r\n",
    "if dal == 9:    \r\n",
    "    url = 'https://search.naver.com/search.naver?where=article&query=%EC%8C%80%20-%EC%97%85%EC%B2%B4%2C%20-%EC%A0%9C%EA%B3%B5%EB%B0%9B%2C%20-%EC%A7%80%EC%9B%90%EB%B0%9B%2C%20-%EC%9B%90%EA%B3%A0%EB%A3%8C%2C%20-%EB%AC%B4%EC%83%81%2C%20-%ED%98%91%EC%B0%AC%2C%20-%EC%86%8C%EC%A0%95%EC%9D%98%2C%20-%EC%82%AC%EB%A3%8C%2C%20-%EA%B3%A0%EB%9E%98%EB%B0%A5%2C%20-%EA%B8%B8%EB%83%A5%EC%9D%B4%2C%20-%EA%B3%A0%EC%96%91%EC%9D%B4%2C%20-%EA%B0%95%EC%95%84%EC%A7%80&ie=utf8&st=rel&date_option=99&date_from=2020.09.01&date_to=2020.09.30&board=&srchby=text&dup_remove=1&cafe_url=&without_cafe_url=&sm=tab_opt&nso=so%3Add%2Cp%3Afrom20200901to20200930&nso_open=1&t=0&mson=0&prdtype=0'\r\n",
    "\r\n",
    "browser = webdriver.Chrome(\"./chromedriver\")\r\n",
    "browser.get(url)\r\n",
    "time.sleep(1)\r\n",
    "\r\n",
    "\r\n",
    "#스크롤을 끝까지 내려주는 코드\r\n",
    "while True:\r\n",
    "    for w in range(2000):\r\n",
    "        browser.find_element_by_css_selector(\"html\").send_keys(Keys.END)\r\n",
    "    break\r\n",
    "\r\n",
    "title = browser.find_elements_by_css_selector(\"a.api_txt_lines.total_tit\")\r\n",
    "\r\n",
    "len(title)  #1000정도 수집할것. 따라서 다음 코드에서 range 2000으로 설정!\r\n"
   ],
   "outputs": [
    {
     "output_type": "execute_result",
     "data": {
      "text/plain": [
       "1000"
      ]
     },
     "metadata": {},
     "execution_count": 24
    }
   ],
   "metadata": {}
  },
  {
   "cell_type": "markdown",
   "source": [
    "## 수집 시작"
   ],
   "metadata": {}
  },
  {
   "cell_type": "code",
   "execution_count": 25,
   "source": [
    "# cafe\r\n",
    "for dal in range(8,10):  # 8월부터 9월까지\r\n",
    "\r\n",
    "    # 01. 페이지 준비(8월~ 9월 설정)\r\n",
    "    if dal == 8:\r\n",
    "        url = 'https://search.naver.com/search.naver?where=article&query=%EC%8C%80%20-%EC%97%85%EC%B2%B4%2C%20-%EC%A0%9C%EA%B3%B5%EB%B0%9B%2C%20-%EC%A7%80%EC%9B%90%EB%B0%9B%2C%20-%EC%9B%90%EA%B3%A0%EB%A3%8C%2C%20-%EB%AC%B4%EC%83%81%2C%20-%ED%98%91%EC%B0%AC%2C%20-%EC%86%8C%EC%A0%95%EC%9D%98%2C%20-%EC%82%AC%EB%A3%8C%2C%20-%EA%B3%A0%EB%9E%98%EB%B0%A5%2C%20-%EA%B8%B8%EB%83%A5%EC%9D%B4%2C%20-%EA%B3%A0%EC%96%91%EC%9D%B4%2C%20-%EA%B0%95%EC%95%84%EC%A7%80&ie=utf8&st=rel&date_option=99&date_from=2020.08.01&date_to=2020.08.31&board=&srchby=text&dup_remove=1&cafe_url=&without_cafe_url=&sm=tab_opt&nso=so%3Ar%2Cp%3Afrom20200801to20200831&nso_open=1&t=0&mson=0&prdtype=0'\r\n",
    "    if dal == 9:    \r\n",
    "        url = 'https://search.naver.com/search.naver?where=article&query=%EC%8C%80%20-%EC%97%85%EC%B2%B4%2C%20-%EC%A0%9C%EA%B3%B5%EB%B0%9B%2C%20-%EC%A7%80%EC%9B%90%EB%B0%9B%2C%20-%EC%9B%90%EA%B3%A0%EB%A3%8C%2C%20-%EB%AC%B4%EC%83%81%2C%20-%ED%98%91%EC%B0%AC%2C%20-%EC%86%8C%EC%A0%95%EC%9D%98%2C%20-%EC%82%AC%EB%A3%8C%2C%20-%EA%B3%A0%EB%9E%98%EB%B0%A5%2C%20-%EA%B8%B8%EB%83%A5%EC%9D%B4%2C%20-%EA%B3%A0%EC%96%91%EC%9D%B4%2C%20-%EA%B0%95%EC%95%84%EC%A7%80&ie=utf8&st=rel&date_option=99&date_from=2020.09.01&date_to=2020.09.30&board=&srchby=text&dup_remove=1&cafe_url=&without_cafe_url=&sm=tab_opt&nso=so%3Add%2Cp%3Afrom20200901to20200930&nso_open=1&t=0&mson=0&prdtype=0'\r\n",
    "    \r\n",
    "    browser = webdriver.Chrome(\"./chromedriver\")\r\n",
    "    browser.get(url)\r\n",
    "    time.sleep(1)\r\n",
    "\r\n",
    "\r\n",
    "    #스크롤을 끝까지 내려주는 코드\r\n",
    "    while True:\r\n",
    "        for w in range(2000):\r\n",
    "            browser.find_element_by_css_selector(\"html\").send_keys(Keys.END)\r\n",
    "        break\r\n",
    "\r\n",
    "\r\n",
    "    ##최종블로그\r\n",
    "    titles = []\r\n",
    "    dates = []\r\n",
    "    #내용\r\n",
    "    contents = []\r\n",
    "    #id\r\n",
    "    ids = []\r\n",
    "    #댓글\r\n",
    "    chats = []\r\n",
    "    chats2 = []\r\n",
    "\r\n",
    "\r\n",
    "    title = browser.find_elements_by_css_selector(\"a.api_txt_lines.total_tit\")\r\n",
    "    date = browser.find_elements_by_css_selector(\"span.sub_time.sub_txt\")\r\n",
    "\r\n",
    "    cnt = 0\r\n",
    "    while cnt <= 1050 :\r\n",
    "        try:\r\n",
    "\r\n",
    "            titles.append(title[cnt].text)\r\n",
    "            dates.append(date[cnt].text)\r\n",
    "\r\n",
    "            title[cnt].click()\r\n",
    "\r\n",
    "            time.sleep(4)\r\n",
    "\r\n",
    "            browser.switch_to.window(browser.window_handles[-1])\r\n",
    "\r\n",
    "            try:\r\n",
    "\r\n",
    "                browser.switch_to.frame('cafe_main')\r\n",
    "                #content\r\n",
    "                try:\r\n",
    "                    blogcontent = browser.find_elements_by_css_selector(\r\n",
    "                        \"div.ContentRenderer\")\r\n",
    "                    for i in blogcontent:\r\n",
    "                        contents.append(i.text)\r\n",
    "                    if blogcontent == []:\r\n",
    "                        blogcontent = browser.find_elements_by_css_selector(\r\n",
    "                            \"div.se-main-container\")\r\n",
    "                        for i in blogcontent:\r\n",
    "                            contents.append(i.text)\r\n",
    "                    if blogcontent == []:\r\n",
    "                        contents.append(np.nan)  \r\n",
    "                except:\r\n",
    "                    contents.append(np.nan)\r\n",
    "\r\n",
    "                \r\n",
    "                #id\r\n",
    "                try:        \r\n",
    "                    ids.append(browser.find_element_by_css_selector(\"a.nickname\").text)\r\n",
    "                except:\r\n",
    "                    ids.append(np.nan)\r\n",
    "\r\n",
    "\r\n",
    "                #chat\r\n",
    "\r\n",
    "                try:\r\n",
    "                    blogchat = browser.find_elements_by_css_selector(\r\n",
    "                        \"span.text_comment\")\r\n",
    "                    midchat=[]\r\n",
    "                    q = \"\"\r\n",
    "\r\n",
    "                    for j in blogchat:\r\n",
    "                        q += j.text +  \" || \"\r\n",
    "                        midchat.append(j.text)\r\n",
    "                    chats.append(q)\r\n",
    "                    chats2.append(midchat)\r\n",
    "                except:\r\n",
    "                    chats.append(np.nan)\r\n",
    "                    chats2.append(np.nan)\r\n",
    "                \r\n",
    "                browser.close()\r\n",
    "                browser.switch_to.window(browser.window_handles[0])\r\n",
    "            \r\n",
    "            except:\r\n",
    "                \r\n",
    "                browser.close()\r\n",
    "                browser.switch_to.window(browser.window_handles[0])\r\n",
    "\r\n",
    "                chats.append(np.nan)\r\n",
    "                contents.append(np.nan)\r\n",
    "                ids.append(np.nan)\r\n",
    "        \r\n",
    "        except:\r\n",
    "            browser.switch_to.window(browser.window_handles[-1])\r\n",
    "\r\n",
    "        cnt += 1\r\n",
    "        \r\n",
    "\r\n",
    "\r\n",
    "    #저장\r\n",
    "    a=pd.DataFrame(titles,columns=[\"title\"])\r\n",
    "    b = pd.DataFrame(dates, columns=[\"date\"])\r\n",
    "    c = pd.DataFrame(chats, columns=[\"chat\"])\r\n",
    "    d = pd.DataFrame(contents, columns=[\"content\"])\r\n",
    "    e = pd.DataFrame(ids,columns=[\"id\"])\r\n",
    "\r\n",
    "    df = pd.concat([a, b, c, d, e], axis=1)\r\n",
    "    \r\n",
    "    #05.엑셀파일로 저장\r\n",
    "    df.to_excel(f'./recrawlblog/naver_cafe_conents_ssal_2020_{dal}월.xlsx')\r\n",
    "\r\n",
    "    ##06. 드라이버 종료\r\n",
    "    browser.close()\r\n"
   ],
   "outputs": [],
   "metadata": {}
  }
 ],
 "metadata": {
  "interpreter": {
   "hash": "380030d1298d5a27518acca789ff38fe82bbf2e68b73263de6a6bf23efb7704c"
  },
  "kernelspec": {
   "name": "python3",
   "display_name": "Python 3.8.3 64-bit ('base': conda)"
  },
  "language_info": {
   "codemirror_mode": {
    "name": "ipython",
    "version": 3
   },
   "file_extension": ".py",
   "mimetype": "text/x-python",
   "name": "python",
   "nbconvert_exporter": "python",
   "pygments_lexer": "ipython3",
   "version": "3.8.3"
  },
  "orig_nbformat": 4
 },
 "nbformat": 4,
 "nbformat_minor": 2
}