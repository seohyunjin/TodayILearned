{
 "cells": [
  {
   "cell_type": "markdown",
   "source": [
    "# 네이버 카페 제목+등록날짜 크롤링"
   ],
   "metadata": {}
  },
  {
   "cell_type": "markdown",
   "source": [
    "동적 페이지로 스크롤을 내려야 데이터가 로딩됨 -> selenium으로 페이지 열어 스크롤 내림"
   ],
   "metadata": {}
  },
  {
   "cell_type": "markdown",
   "source": [
    "### 크롤링할 웹사이트 \r\n",
    "\r\n",
    "- 2020 키워드 \"밥\"  ## utf-8로 저장\r\n",
    "https://search.naver.com/search.naver?sm=tab_hty.top&where=article&query=%EB%B0%A5&oquery=%EC%8C%80&tqi=hdzQDdprvxsss73VMDsssssstcK-296017&nso=so%3Ar%2Cp%3Afrom20200101to20201231"
   ],
   "metadata": {}
  },
  {
   "cell_type": "code",
   "execution_count": 1,
   "source": [
    "import requests\r\n",
    "import pandas as pd\r\n",
    "\r\n",
    "import time\r\n",
    "from selenium import webdriver\r\n",
    "from selenium.webdriver.common.keys import Keys\r\n",
    "\r\n",
    "import urllib.request\r\n",
    "from bs4 import BeautifulSoup"
   ],
   "outputs": [],
   "metadata": {}
  },
  {
   "cell_type": "markdown",
   "source": [
    "## 1. driver 가져오기"
   ],
   "metadata": {}
  },
  {
   "cell_type": "code",
   "execution_count": 2,
   "source": [
    "# 밥\r\n",
    "driver = webdriver.Chrome('./chromedriver')  #다른위치에 크롬 드라이버가 있다면 위치 지정\r\n",
    "driver.get('https://search.naver.com/search.naver?sm=tab_hty.top&where=article&query=%EB%B0%A5&oquery=%EC%8C%80&tqi=hdzQDdprvxsss73VMDsssssstcK-296017&nso=so%3Ar%2Cp%3Afrom20200101to20201231')\r\n",
    "time.sleep(0.5) # 0.5 초 기다림"
   ],
   "outputs": [],
   "metadata": {}
  },
  {
   "cell_type": "markdown",
   "source": [
    "## 2. Scrolldown 함수 생성"
   ],
   "metadata": {}
  },
  {
   "cell_type": "code",
   "execution_count": 3,
   "source": [
    "# second 동안 스크롤다운 함수\r\n",
    "import datetime\r\n",
    "\r\n",
    "def doScrollDown(whileSeconds):\r\n",
    "    start = datetime.datetime.now()\r\n",
    "    end = start + datetime.timedelta(seconds=whileSeconds)\r\n",
    "    while True:\r\n",
    "        driver.execute_script('window.scrollTo(0, document.body.scrollHeight);')\r\n",
    "        time.sleep(1)\r\n",
    "        if datetime.datetime.now() > end:\r\n",
    "            break"
   ],
   "outputs": [],
   "metadata": {}
  },
  {
   "cell_type": "code",
   "execution_count": 4,
   "source": [
    "# 100초동안 스크롤 내림\r\n",
    "doScrollDown(100)"
   ],
   "outputs": [],
   "metadata": {}
  },
  {
   "cell_type": "markdown",
   "source": [
    "## 3. BeautifulSoup Libaray 이용\r\n",
    "HTML 문서를 분석 할 수 있는 파이썬 라이브러리"
   ],
   "metadata": {}
  },
  {
   "cell_type": "code",
   "execution_count": 5,
   "source": [
    "# 해당 페이지 beaufifulsoup으로 가져옴\r\n",
    "soup = BeautifulSoup(driver.page_source, 'html.parser')"
   ],
   "outputs": [],
   "metadata": {}
  },
  {
   "cell_type": "code",
   "execution_count": 6,
   "source": [
    "title = soup.select('.api_txt_lines.total_tit') # 제목부분 class\r\n",
    "date = soup.select('.sub_time.sub_txt') # 날짜부분 class\r\n",
    "\r\n",
    "total_list=[[],[]]\r\n",
    "\r\n",
    "for i in title:\r\n",
    "    total_list[0].append(i.text)\r\n",
    "\r\n",
    "for i in date:\r\n",
    "    total_list[1].append(i.text) "
   ],
   "outputs": [],
   "metadata": {}
  },
  {
   "cell_type": "markdown",
   "source": [
    "## 4. csv 파일에 저장"
   ],
   "metadata": {}
  },
  {
   "cell_type": "code",
   "execution_count": 8,
   "source": [
    "import csv\r\n",
    "\r\n",
    "f = open(f'naver_cafe_ssal_title2020.csv', 'w', encoding = 'utf-8', newline='')\r\n",
    "csvWriter = csv.writer(f)\r\n",
    "for i in total_list:\r\n",
    "    csvWriter.writerow(i) \r\n",
    "    csvWriter\r\n",
    "f.close()"
   ],
   "outputs": [],
   "metadata": {}
  },
  {
   "cell_type": "code",
   "execution_count": 20,
   "source": [
    "# 데이터 확인 \r\n",
    "df=pd.read_csv(\"naver_cafe_ssal_title2020.csv\", encoding='utf-8')\r\n",
    "df_T = df.transpose() #행열교환\r\n",
    "df_T"
   ],
   "outputs": [
    {
     "output_type": "execute_result",
     "data": {
      "text/plain": [
       "                                                     0\n",
       "쌀 카스테라 만들었어요                               2020.12.27.\n",
       "평생한쌀 백진주쌀 후기..                             2020.12.26.\n",
       "비건쌀식빵과 비건쌀크로와상 판매글입니다                      2020.12.10.\n",
       "8종 쌀쿠키.                                    2020.11.28.\n",
       "생쌀로 비건 쌀케이크를 만들었어요                         2020.12.29.\n",
       "...                                                ...\n",
       "(농부의꿈) 우렁이향미쌀 좋으네요^^                       2020.11.05.\n",
       "오늘 동지죽 쌀가루 많이 빻으셨나요? ^^;;                  2020.12.21.\n",
       "[미즈넷/하나로라이스] 하나로라이스 컬러쌀로 건강한 밥상 만들...      2020.12.03.\n",
       "[판매중][원데이딜] 강화섬쌀 백진주쌀&누룽지향찹쌀 혼합미 20키....6  2020.12.11.\n",
       "20년햇누룽지향쌀,햇수수,햇기장,햇귀리,햇청보리/율무,서리태,약...     2020.10.07.\n",
       "\n",
       "[1000 rows x 1 columns]"
      ],
      "text/html": [
       "<div>\n",
       "<style scoped>\n",
       "    .dataframe tbody tr th:only-of-type {\n",
       "        vertical-align: middle;\n",
       "    }\n",
       "\n",
       "    .dataframe tbody tr th {\n",
       "        vertical-align: top;\n",
       "    }\n",
       "\n",
       "    .dataframe thead th {\n",
       "        text-align: right;\n",
       "    }\n",
       "</style>\n",
       "<table border=\"1\" class=\"dataframe\">\n",
       "  <thead>\n",
       "    <tr style=\"text-align: right;\">\n",
       "      <th></th>\n",
       "      <th>0</th>\n",
       "    </tr>\n",
       "  </thead>\n",
       "  <tbody>\n",
       "    <tr>\n",
       "      <th>쌀 카스테라 만들었어요</th>\n",
       "      <td>2020.12.27.</td>\n",
       "    </tr>\n",
       "    <tr>\n",
       "      <th>평생한쌀 백진주쌀 후기..</th>\n",
       "      <td>2020.12.26.</td>\n",
       "    </tr>\n",
       "    <tr>\n",
       "      <th>비건쌀식빵과 비건쌀크로와상 판매글입니다</th>\n",
       "      <td>2020.12.10.</td>\n",
       "    </tr>\n",
       "    <tr>\n",
       "      <th>8종 쌀쿠키.</th>\n",
       "      <td>2020.11.28.</td>\n",
       "    </tr>\n",
       "    <tr>\n",
       "      <th>생쌀로 비건 쌀케이크를 만들었어요</th>\n",
       "      <td>2020.12.29.</td>\n",
       "    </tr>\n",
       "    <tr>\n",
       "      <th>...</th>\n",
       "      <td>...</td>\n",
       "    </tr>\n",
       "    <tr>\n",
       "      <th>(농부의꿈) 우렁이향미쌀 좋으네요^^</th>\n",
       "      <td>2020.11.05.</td>\n",
       "    </tr>\n",
       "    <tr>\n",
       "      <th>오늘 동지죽 쌀가루 많이 빻으셨나요? ^^;;</th>\n",
       "      <td>2020.12.21.</td>\n",
       "    </tr>\n",
       "    <tr>\n",
       "      <th>[미즈넷/하나로라이스] 하나로라이스 컬러쌀로 건강한 밥상 만들...</th>\n",
       "      <td>2020.12.03.</td>\n",
       "    </tr>\n",
       "    <tr>\n",
       "      <th>[판매중][원데이딜] 강화섬쌀 백진주쌀&amp;누룽지향찹쌀 혼합미 20키....6</th>\n",
       "      <td>2020.12.11.</td>\n",
       "    </tr>\n",
       "    <tr>\n",
       "      <th>20년햇누룽지향쌀,햇수수,햇기장,햇귀리,햇청보리/율무,서리태,약...</th>\n",
       "      <td>2020.10.07.</td>\n",
       "    </tr>\n",
       "  </tbody>\n",
       "</table>\n",
       "<p>1000 rows × 1 columns</p>\n",
       "</div>"
      ]
     },
     "metadata": {},
     "execution_count": 20
    }
   ],
   "metadata": {}
  },
  {
   "cell_type": "code",
   "execution_count": 21,
   "source": [
    "#전치행렬 저장\r\n",
    "df_T.to_csv('2020_naver_cafe_ssal_t.csv', encoding='utf-8', header= None)"
   ],
   "outputs": [],
   "metadata": {}
  }
 ],
 "metadata": {
  "orig_nbformat": 4,
  "language_info": {
   "name": "python",
   "version": "3.8.5",
   "mimetype": "text/x-python",
   "codemirror_mode": {
    "name": "ipython",
    "version": 3
   },
   "pygments_lexer": "ipython3",
   "nbconvert_exporter": "python",
   "file_extension": ".py"
  },
  "kernelspec": {
   "name": "python3",
   "display_name": "Python 3.8.5 64-bit ('base': conda)"
  },
  "interpreter": {
   "hash": "8c1eae21719a0790335dcb83aad72b63b602cfe5cdb2bda0f60bc11d4f154e4b"
  }
 },
 "nbformat": 4,
 "nbformat_minor": 2
}