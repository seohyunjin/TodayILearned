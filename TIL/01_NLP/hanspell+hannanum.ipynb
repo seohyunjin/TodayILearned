{
 "cells": [
  {
   "cell_type": "markdown",
   "source": [
    "# 0. 한나눔 형태소 분석기: 띄어쓰기되지 않은 문장에 대해서 문제 발생"
   ],
   "metadata": {}
  },
  {
   "cell_type": "markdown",
   "source": [
    "한나눔의 경우, 한번에 처리되는 텍스트의 범주에 한계가 있었음.\r\n",
    "\r\n",
    "약 1000개까지 정상적으로 토큰화가 됨을 확인하여, 1000보다 사이즈가 훨씬 큰 텍스트 문서를 약 1000문자단위씩 쪼개어 처리함"
   ],
   "metadata": {}
  },
  {
   "cell_type": "code",
   "execution_count": null,
   "source": [
    "data = pd.read_excel('preprocessing_cnts_dropna_data/preprocess_dropna_2015_cafe_ssal.xlsx')"
   ],
   "outputs": [],
   "metadata": {}
  },
  {
   "cell_type": "code",
   "execution_count": null,
   "source": [
    "#데이터 타입을 모두 str 로 저장\r\n",
    "data = data.astype('str')"
   ],
   "outputs": [],
   "metadata": {}
  },
  {
   "cell_type": "code",
   "execution_count": null,
   "source": [
    "# 사이즈 줄여 str로 저장 960번 나눠서 저장 (10*960번) 960번을 더할것 즉, 10개묶음 960개 만들기\r\n",
    "for i in range(0,960): # 960개 : text0~959\r\n",
    "    globals()['text{}'.format(i)] = \" \" # 1000개 text변수 생성\r\n",
    "    for j in range(10*i,10*(i+1) ):\r\n",
    "        globals()['text{}'.format(i)] += data['content'][j] # 1000개의 text변수에 10개 묶음씩 저장\r\n",
    "        # 0~9 / 10~19 / 20~29 저장~~ 9600~9609\r\n",
    "\r\n",
    "# 마지막 데이터 수동 저장\r\n",
    "text960 = ' '\r\n",
    "for k in range(9600,9607): # 9606번까지 존재\r\n",
    "    text960 += data['content'][k]"
   ],
   "outputs": [],
   "metadata": {}
  },
  {
   "cell_type": "code",
   "execution_count": null,
   "source": [
    "# 데이터 정제\r\n",
    "import re\r\n",
    "for i in range(0,961): # text0~960\r\n",
    "    globals()['text{}'.format(i)] = re.sub('[0-9]+', '', globals()['text{}'.format(i)]) # 숫자 제거\r\n",
    "    globals()['text{}'.format(i)] = re.sub('[A-Za-z]+', '', globals()['text{}'.format(i)]) # 알파벡 제거\r\n",
    "    globals()['text{}'.format(i)] = re.sub('[-=+,#/\\?:^$.@*\\\"※~&%ㆍ·!』\\\\‘’|\\(\\)\\[\\]\\<\\>`\\'…》]', '', globals()['text{}'.format(i)]) # 특수문자 제거"
   ],
   "outputs": [],
   "metadata": {}
  },
  {
   "cell_type": "code",
   "execution_count": null,
   "source": [
    "hannanum = Hannanum()\r\n",
    "for i in range(0,961):\r\n",
    "    globals()['tokenized_text{}'.format(i)] = hannanum.nouns(globals()['text{}'.format(i)] ) # data['content'][2]\r\n",
    "tokenized_text0"
   ],
   "outputs": [],
   "metadata": {}
  },
  {
   "cell_type": "code",
   "execution_count": null,
   "source": [
    "# 판다스 시리즈 만들기\r\n",
    "for i in range(0,961):\r\n",
    "    globals()['tokenized_texts{}'.format(i)] =pd.Series(globals()['tokenized_text{}'.format(i)])"
   ],
   "outputs": [],
   "metadata": {}
  },
  {
   "cell_type": "code",
   "execution_count": null,
   "source": [
    "# 시리즈 합치기\r\n",
    "series_list = []\r\n",
    "for i in range(0,961):\r\n",
    "    series_list.append(globals()['tokenized_texts{}'.format(i)] )\r\n",
    "tokenized_texts_series = pd.concat(series_list)"
   ],
   "outputs": [],
   "metadata": {}
  },
  {
   "cell_type": "code",
   "execution_count": null,
   "source": [
    "# 토큰화된 단어 전체 빈도와 함께 확인\r\n",
    "whole_word_series = tokenized_texts_series.value_counts()"
   ],
   "outputs": [],
   "metadata": {}
  },
  {
   "cell_type": "code",
   "execution_count": null,
   "source": [
    "# 데이터 저장\r\n",
    "whole_word_series.to_excel('word_series_2015_cafe.xlsx',encoding='utf-8')"
   ],
   "outputs": [],
   "metadata": {}
  },
  {
   "cell_type": "markdown",
   "source": [
    "### 띄어쓰기가 잘 처리되지 않았던 hannanum에 네이버 맞춤법검사기 이용한 라이브러리 hanspell 이용해보자!"
   ],
   "metadata": {}
  },
  {
   "cell_type": "markdown",
   "source": [
    "# 1. 띄어쓰기 처리 py.hanspell 이용"
   ],
   "metadata": {}
  },
  {
   "cell_type": "code",
   "execution_count": 3,
   "source": [
    "from hanspell import spell_checker\r\n",
    "\r\n",
    "import pandas as pd"
   ],
   "outputs": [],
   "metadata": {}
  },
  {
   "cell_type": "code",
   "execution_count": 7,
   "source": [
    "data = pd.read_excel('preprocessing_cnts_dropna_data/preprocess_dropna_2015_cafe_ssal.xlsx')"
   ],
   "outputs": [],
   "metadata": {}
  },
  {
   "cell_type": "code",
   "execution_count": 25,
   "source": [
    "data = data.astype('str')"
   ],
   "outputs": [],
   "metadata": {}
  },
  {
   "cell_type": "code",
   "execution_count": 26,
   "source": [
    "data['content']"
   ],
   "outputs": [
    {
     "output_type": "execute_result",
     "data": {
      "text/plain": [
       "0       세종시로 올해 1월 10일 이사했습니다.어제 쌀이 똑 떨어졌는데 마침 까페에 쌀공구...\n",
       "1       저희 큰아버지께서 쌀도매를 하세요^^빨간쌀 이예요.저도 작녁부터 계속 먹고있는데요^...\n",
       "2                                     제가 변비가 심해서 현미쌀100%를\n",
       "3       그동안 계속 공구후기며 공구게시판에서 보던 쌀찐빵을 구입했어요 아기간식도 요즘 고민...\n",
       "4       심심한 일요일 오후.당근쌀머핀 만들어 보았어요~당근이랑 우유는 휘리릭 갈아주고밀가루...\n",
       "                              ...                        \n",
       "9602    요리전용맛술 마트가면 보기는 했는데 저게 꼭 필요할까 하는 생각에 구매를 망설였는데...\n",
       "9603                           가능한가요;;;;;믹서기 청소가 귀찮아서 ;;;\n",
       "9604    담주부터 초기이유식 시작인데 아직 애가 못앉잖아요. 다들 그냥 분유주듯 안아서 먹이...\n",
       "9605                 어뭉들어디서 사드시나요? 아이간식사먹이는 사이트추천좀해주셔요^ ^\n",
       "9606    간혹 동물 사료용으로 쓰신다고 무료나눔하신던데...벌레가 막 나오거나 하지는 않는데...\n",
       "Name: content, Length: 9607, dtype: object"
      ]
     },
     "metadata": {},
     "execution_count": 26
    }
   ],
   "metadata": {}
  },
  {
   "cell_type": "code",
   "execution_count": 35,
   "source": [
    "# 데이터 한개만 우선확인: data['content'][1]\r\n",
    "result = spell_checker.check(data['content'][1])\r\n",
    "result.as_dict()  # 딕셔너리로 확인"
   ],
   "outputs": [
    {
     "output_type": "execute_result",
     "data": {
      "text/plain": [
       "{'result': True,\n",
       " 'original': '저희 큰아버지께서 쌀도매를 하세요^^빨간쌀 이예요.저도 작녁부터 계속 먹고있는데요^^검정쌀처럼 찹쌀적미라 밥에 섞어 드시는건데요.항암효과.당뇨예방.노화방지~~빨간색성분은 몸에 좋다고들 하잖아요.저 아시는 지인분들께서 구매를 원하셔서 오늘 시골왔다가 내일 올라가는데요^^이번에 새로농사지은 햇찹쌀이예요♡2.5키로에 15000원이구요.시중에서는 보기힘든 귀한쌀이구요.백화점에서는1키로에 1만원에 판매되고 있는 비싼쌀이예요.필요하신분들~댓글주세요♡제가 차로 가지고 가는거라~~많이는 못가져가요^^;;\\xa0\\xa0\\xa0\\xa0',\n",
       " 'checked': '저희 큰아버지께서 쌀도 애를 하세요^^빨간 쌀 이예요. 저도 작녁부터 계속 먹고 있는데요^^검정쌀처럼 찹쌀적 미라 밥에 섞어 드시는 건데요. 항암효과. 당뇨 예방. 노화 방지~~빨간색 성분은 몸에 좋다고들 하잖아요. 저 아시는 지인분들께서 구매를 원하셔서 오늘 시골 왔다가 내일 올라가는데요^^이번에 새로 농사지은 햇찹쌀이에요♡2.5킬로에 15000원이고요. 시중에서는 보기 힘든 귀한 쌀이고요. 백화점에서는 1킬로에 1만 원에 판매되고 있는 비싼 쌀이에요. 필요하신 분들~댓글 주세요♡제가 차로 가지고 가는 거라~~많이는 못 가져가요^^;;\\xa0\\xa0\\xa0\\xa0',\n",
       " 'errors': 18,\n",
       " 'words': OrderedDict([('저희', 0),\n",
       "              ('큰아버지께서', 0),\n",
       "              ('쌀도', 4),\n",
       "              ('애를', 4),\n",
       "              ('하세요^^빨간', 2),\n",
       "              ('쌀', 2),\n",
       "              ('이예요.', 2),\n",
       "              ('저도', 2),\n",
       "              ('<span', 0),\n",
       "              (\"class='violet_text'>작녁부터\", 0),\n",
       "              ('계속', 0),\n",
       "              ('먹고', 2),\n",
       "              ('있는데요^^검정쌀처럼', 2),\n",
       "              ('찹쌀적', 2),\n",
       "              ('미라', 2),\n",
       "              ('밥에', 0),\n",
       "              ('섞어', 0),\n",
       "              ('드시는', 2),\n",
       "              ('건데요.', 2),\n",
       "              ('항암효과.', 2),\n",
       "              ('당뇨', 2),\n",
       "              ('예방.', 2),\n",
       "              ('노화', 2),\n",
       "              ('방지~~빨간색', 2),\n",
       "              ('성분은', 2),\n",
       "              ('몸에', 0),\n",
       "              ('좋다고들', 0),\n",
       "              ('하잖아요.', 2),\n",
       "              ('저', 2),\n",
       "              ('아시는', 0),\n",
       "              ('지인분들께서', 0),\n",
       "              ('구매를', 0),\n",
       "              ('원하셔서', 0),\n",
       "              ('오늘', 0),\n",
       "              ('시골', 2),\n",
       "              ('왔다가', 2),\n",
       "              ('내일', 0),\n",
       "              ('올라가는데요^^이번에', 0),\n",
       "              ('새로', 2),\n",
       "              ('농사지은', 2),\n",
       "              ('햇찹쌀이에요♡2.5킬로에', 1),\n",
       "              ('15000원이고요.', 1),\n",
       "              ('시중에서는', 1),\n",
       "              ('보기', 2),\n",
       "              ('힘든', 2),\n",
       "              ('귀한', 1),\n",
       "              ('쌀이고요.', 1),\n",
       "              ('백화점에서는', 1),\n",
       "              ('1킬로에', 1),\n",
       "              ('1만', 2),\n",
       "              ('원에', 2),\n",
       "              ('판매되고', 0),\n",
       "              ('있는', 0),\n",
       "              ('비싼', 1),\n",
       "              ('쌀이에요.', 1),\n",
       "              ('필요하신', 1),\n",
       "              ('분들~댓글', 1),\n",
       "              ('주세요♡제가', 1),\n",
       "              ('차로', 0),\n",
       "              ('가지고', 0),\n",
       "              ('가는', 2),\n",
       "              ('거라~~많이는', 2),\n",
       "              ('못', 2),\n",
       "              ('가져가요^^;;<end>\\xa0\\xa0\\xa0\\xa0', 2)]),\n",
       " 'time': 0.37181925773620605}"
      ]
     },
     "metadata": {},
     "execution_count": 35
    }
   ],
   "metadata": {}
  },
  {
   "cell_type": "code",
   "execution_count": 45,
   "source": [
    "# 딕셔너리에서 checked값만 확인\r\n",
    "result.checked # 맞춤법 교정된 str만"
   ],
   "outputs": [
    {
     "output_type": "execute_result",
     "data": {
      "text/plain": [
       "'저희 큰아버지께서 쌀도 애를 하세요^^빨간 쌀 이예요. 저도 작녁부터 계속 먹고 있는데요^^검정쌀처럼 찹쌀적 미라 밥에 섞어 드시는 건데요. 항암효과. 당뇨 예방. 노화 방지~~빨간색 성분은 몸에 좋다고들 하잖아요. 저 아시는 지인분들께서 구매를 원하셔서 오늘 시골 왔다가 내일 올라가는데요^^이번에 새로 농사지은 햇찹쌀이에요♡2.5킬로에 15000원이고요. 시중에서는 보기 힘든 귀한 쌀이고요. 백화점에서는 1킬로에 1만 원에 판매되고 있는 비싼 쌀이에요. 필요하신 분들~댓글 주세요♡제가 차로 가지고 가는 거라~~많이는 못 가져가요^^;;\\xa0\\xa0\\xa0\\xa0'"
      ]
     },
     "metadata": {},
     "execution_count": 45
    }
   ],
   "metadata": {}
  },
  {
   "cell_type": "markdown",
   "source": [
    "## 01. hanspell에서 500자 이상 인식 못하기 때문에 str로 한번에 넣어 500자씩 끊기\r\n",
    "texts500_i (where i = 0~3086)으로 저장"
   ],
   "metadata": {}
  },
  {
   "cell_type": "code",
   "execution_count": 83,
   "source": [
    "# 한 블럭에 모든 문장 넣음\r\n",
    "text500s = \"\"\r\n",
    "for i in range(len(data)):\r\n",
    "    text500s += data['content'][i]"
   ],
   "outputs": [],
   "metadata": {}
  },
  {
   "cell_type": "code",
   "execution_count": 97,
   "source": [
    "# 데이터 정제\r\n",
    "import re\r\n",
    "text500s = re.sub('[A-Za-z]+', '',text500s) # 영어 제거\r\n",
    "text500s = re.sub('[-=+,#/\\?:^$.@*\\\"※~&%ㆍ·!』\\\\‘’|\\(\\)\\[\\]\\<\\>`\\'…》]', '', text500s) # 특수문자 제거"
   ],
   "outputs": [],
   "metadata": {}
  },
  {
   "cell_type": "code",
   "execution_count": 102,
   "source": [
    "text500s[1543239] #맨 마지막 문자 확인"
   ],
   "outputs": [
    {
     "output_type": "execute_result",
     "data": {
      "text/plain": [
       "'요'"
      ]
     },
     "metadata": {},
     "execution_count": 102
    }
   ],
   "metadata": {}
  },
  {
   "cell_type": "code",
   "execution_count": 2,
   "source": [
    "1543239 /500, 1543239 - 3086*500 # 반복할 횟수와, 맨마지막에 저장할 개수 확인"
   ],
   "outputs": [
    {
     "output_type": "execute_result",
     "data": {
      "text/plain": [
       "(3086.478, 239)"
      ]
     },
     "metadata": {},
     "execution_count": 2
    }
   ],
   "metadata": {}
  },
  {
   "cell_type": "code",
   "execution_count": 130,
   "source": [
    "# 사이즈 줄여 str로 저장 3086번 나눠서 저장 (500*3086번) 3086번을 더할것 즉, 500개묶음 3086개 만들기\r\n",
    "for i in range(0,3086): # 3086개 : text0~3085\r\n",
    "    globals()['text500_{}'.format(i)] = '' # 3086개 text변수 생성\r\n",
    "    for j in range(500*i,500*(i+1) ):\r\n",
    "        globals()['text500_{}'.format(i)] += text500s[j] # 3086개의 text변수에 500개 묶음씩 저장\r\n",
    "        # 0~499 / 500~999 / 1000~1499 저장~~ \r\n",
    "\r\n",
    "# 마지막 데이터3086 수동 저장\r\n",
    "text500_3086 = ' '\r\n",
    "for k in range(1543000,1543240): # 1543239번까지 존재\r\n",
    "    text500_3086 +=text500s[k]\r\n",
    "\r\n",
    "#text500_0~ 3086 데이터 분리 완성"
   ],
   "outputs": [],
   "metadata": {}
  },
  {
   "cell_type": "code",
   "execution_count": 131,
   "source": [
    "text500_3086 # 데이터 확인"
   ],
   "outputs": [
    {
     "output_type": "execute_result",
     "data": {
      "text/plain": [
       "' 아주고 감칠맛 까지 있네요멸치도 생선이니ㅋㅋㅋ다음에는 캠핑장에가서 고기 구워먹을때 사용해 봐야 겠여요가능한가요;;;;;믹서기 청소가 귀찮아서 ;;;담주부터 초기이유식 시작인데 아직 애가 못앉잖아요 다들 그냥 분유주듯 안아서 먹이시나요 어뭉들어디서 사드시나요 아이간식사먹이는 사이트추천좀해주셔요 간혹 동물 사료용으로 쓰신다고 무료나눔하신던데벌레가 막 나오거나 하지는 않는데 애기들이랑 밥해먹기에는 좀 \\xa0그래서요큰봉지로 한봉지정도되요'"
      ]
     },
     "metadata": {},
     "execution_count": 131
    }
   ],
   "metadata": {}
  },
  {
   "cell_type": "markdown",
   "source": [
    "## 02. text500_i 데이터에 hanspell 적용해보자!"
   ],
   "metadata": {}
  },
  {
   "cell_type": "code",
   "execution_count": 134,
   "source": [
    "dict_list=[]\r\n",
    "for i in range(3087): # 0~3086까지 존재\r\n",
    "    globals()['result{}'.format(i)] = spell_checker.check(globals()['text500_{}'.format(i)] )\r\n",
    "    globals()['result{}'.format(i)].as_dict()\r\n",
    "    globals()['spelling_done{}'.format(i)] = globals()['result{}'.format(i)].checked \r\n"
   ],
   "outputs": [],
   "metadata": {}
  },
  {
   "cell_type": "code",
   "execution_count": 137,
   "source": [
    "spelling_done=[]\r\n",
    "for i in range(3087):\r\n",
    "    spelling_done.append(globals()['spelling_done{}'.format(i)] )  #spelling맞춤법 검사완료된 데이터 저장"
   ],
   "outputs": [],
   "metadata": {}
  },
  {
   "cell_type": "markdown",
   "source": [
    "# 2. 빈도분석 "
   ],
   "metadata": {}
  },
  {
   "cell_type": "markdown",
   "source": [
    "## 01. 한나눔 형태소 분석기 이용"
   ],
   "metadata": {}
  },
  {
   "cell_type": "code",
   "execution_count": 140,
   "source": [
    "from konlpy.tag import *"
   ],
   "outputs": [],
   "metadata": {}
  },
  {
   "cell_type": "code",
   "execution_count": 141,
   "source": [
    "hannanum = Hannanum()\r\n",
    "for i in range(0,3087):\r\n",
    "    globals()['tokenized_text{}'.format(i)] = hannanum.nouns( globals()['spelling_done{}'.format(i)] ) # 한나눔도 한번에 많은 양의 텍스트 처리 불가! 나누어서 처리해 따로 저장\r\n",
    "tokenized_text1"
   ],
   "outputs": [
    {
     "output_type": "execute_result",
     "data": {
      "text/plain": [
       "['15000원',\n",
       " '시중',\n",
       " '쌀',\n",
       " '백화점',\n",
       " '1킬로',\n",
       " '1',\n",
       " '원',\n",
       " '판매',\n",
       " '쌀',\n",
       " '필요',\n",
       " '들',\n",
       " '댓글',\n",
       " '주세요♡제',\n",
       " '차',\n",
       " '것',\n",
       " '가져가요;;\\xa0\\xa0\\xa0\\xa0제',\n",
       " '변비',\n",
       " '현미쌀',\n",
       " '100',\n",
       " '그동안',\n",
       " '공구',\n",
       " '후',\n",
       " '공구',\n",
       " '게시판',\n",
       " '찐빵',\n",
       " '구입',\n",
       " '아기',\n",
       " '식',\n",
       " '고민',\n",
       " '차',\n",
       " '백',\n",
       " '프로',\n",
       " '쌀',\n",
       " '찐빵',\n",
       " '이거',\n",
       " '후',\n",
       " '대',\n",
       " '안내',\n",
       " '대',\n",
       " '찜기',\n",
       " '프라이팬',\n",
       " '넘넘',\n",
       " '방법',\n",
       " '훈제',\n",
       " '고구마',\n",
       " '훈제',\n",
       " '찐빵',\n",
       " '생각',\n",
       " '^ㅎ^ㅎ그랬더니',\n",
       " '찜기',\n",
       " '프라이팬',\n",
       " '두',\n",
       " '가지',\n",
       " '찐빵',\n",
       " '겉',\n",
       " '바삭하',\n",
       " '속',\n",
       " '포근',\n",
       " '촉촉ㅎㅎㅎ넘넘',\n",
       " '올겨울',\n",
       " '마을',\n",
       " '찐빵',\n",
       " '함께\\xa0\\xa0\\xa0\\xa0심심한',\n",
       " '일요일',\n",
       " '오후',\n",
       " '당근',\n",
       " '머핀',\n",
       " '당근',\n",
       " '우유',\n",
       " '휘리릭',\n",
       " '밀가루',\n",
       " '대',\n",
       " '쌀가루',\n",
       " '오늘',\n",
       " '버터',\n",
       " '부푸러가루베이킹파우더',\n",
       " '걸',\n",
       " '토핑',\n",
       " '땅콩분',\n",
       " '때',\n",
       " '감말랭이다',\n",
       " '리',\n",
       " '뽕냥하']"
      ]
     },
     "metadata": {},
     "execution_count": 141
    }
   ],
   "metadata": {}
  },
  {
   "cell_type": "markdown",
   "source": [
    "## 02. 빈도 파악"
   ],
   "metadata": {}
  },
  {
   "cell_type": "code",
   "execution_count": 142,
   "source": [
    "# 판다스 시리즈 만들기\r\n",
    "for i in range(0,3087):\r\n",
    "    globals()['tokenized_texts{}'.format(i)] =pd.Series(globals()['tokenized_text{}'.format(i)])"
   ],
   "outputs": [
    {
     "output_type": "stream",
     "name": "stderr",
     "text": [
      "<ipython-input-142-23b25d3150b0>:3: DeprecationWarning: The default dtype for empty Series will be 'object' instead of 'float64' in a future version. Specify a dtype explicitly to silence this warning.\n",
      "  globals()['tokenized_texts{}'.format(i)] =pd.Series(globals()['tokenized_text{}'.format(i)])\n"
     ]
    }
   ],
   "metadata": {}
  },
  {
   "cell_type": "code",
   "execution_count": 143,
   "source": [
    "# 시리즈 합치기\r\n",
    "series_list = []\r\n",
    "for i in range(0,961):\r\n",
    "    series_list.append(globals()['tokenized_texts{}'.format(i)] )\r\n",
    "tokenized_texts_series = pd.concat(series_list)"
   ],
   "outputs": [],
   "metadata": {}
  },
  {
   "cell_type": "code",
   "execution_count": 144,
   "source": [
    "# 판다스 시리즈 이용\r\n",
    "result= tokenized_texts_series.value_counts().head(30)\r\n",
    "result"
   ],
   "outputs": [
    {
     "output_type": "execute_result",
     "data": {
      "text/plain": [
       "것      2022\n",
       "쌀      1777\n",
       "분       684\n",
       "이유식     674\n",
       "쌀가루     589\n",
       "수       586\n",
       "밥       550\n",
       "저       539\n",
       "때       527\n",
       "정도      447\n",
       "데       446\n",
       "거       363\n",
       "집       354\n",
       "시작      346\n",
       "오늘      343\n",
       "미음      317\n",
       "맛       317\n",
       "전       308\n",
       "아기      288\n",
       "원       275\n",
       "후       274\n",
       "번       257\n",
       "중       245\n",
       "두       244\n",
       "지       230\n",
       "양       223\n",
       "곳       220\n",
       "물       203\n",
       "생각      197\n",
       "나       195\n",
       "dtype: int64"
      ]
     },
     "metadata": {},
     "execution_count": 144
    }
   ],
   "metadata": {}
  },
  {
   "cell_type": "markdown",
   "source": [
    "## 03. 전체 빈도 확인을 위해 엑셀로 저장"
   ],
   "metadata": {}
  },
  {
   "cell_type": "code",
   "execution_count": 145,
   "source": [
    "whole_word_series = tokenized_texts_series.value_counts()"
   ],
   "outputs": [],
   "metadata": {}
  },
  {
   "cell_type": "code",
   "execution_count": 147,
   "source": [
    "whole_word_series .to_excel('hanspell_word_series_2015_cafe.xlsx',encoding='utf-8')"
   ],
   "outputs": [],
   "metadata": {}
  },
  {
   "cell_type": "markdown",
   "source": [
    "### => 띄어쓰기가 어느정도 처리되었으나, 완전하지 않음. 맞춤법 조정에 의해 '밀키트'가 '밀키스'가 되는 경우 존재."
   ],
   "metadata": {}
  }
 ],
 "metadata": {
  "orig_nbformat": 4,
  "language_info": {
   "name": "python",
   "version": "3.8.5",
   "mimetype": "text/x-python",
   "codemirror_mode": {
    "name": "ipython",
    "version": 3
   },
   "pygments_lexer": "ipython3",
   "nbconvert_exporter": "python",
   "file_extension": ".py"
  },
  "kernelspec": {
   "name": "python3",
   "display_name": "Python 3.8.5 64-bit ('base': conda)"
  },
  "interpreter": {
   "hash": "8c1eae21719a0790335dcb83aad72b63b602cfe5cdb2bda0f60bc11d4f154e4b"
  }
 },
 "nbformat": 4,
 "nbformat_minor": 2
}