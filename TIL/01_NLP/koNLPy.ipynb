{
 "cells": [
  {
   "cell_type": "markdown",
   "source": [
    "# KoNLPy 한국어 처리 패키지\r\n",
    "\r\n",
    "형태소 기반으로 문서를 토큰화할 수 있는 기능을 제공하지만 새롭게 만들어진 미등록 단어들은 인식이 잘 되지 않는 단점을 가지고 있다."
   ],
   "metadata": {}
  },
  {
   "cell_type": "code",
   "execution_count": 1,
   "source": [
    "import warnings\r\n",
    "warnings.simplefilter(\"ignore\")\r\n",
    "\r\n",
    "import konlpy\r\n",
    "konlpy.__version__"
   ],
   "outputs": [
    {
     "output_type": "execute_result",
     "data": {
      "text/plain": [
       "'0.5.2'"
      ]
     },
     "metadata": {},
     "execution_count": 1
    }
   ],
   "metadata": {}
  },
  {
   "cell_type": "markdown",
   "source": [
    "## 01. 말뭉치 \r\n",
    "\r\n",
    ": 대한민국 헌법 말뭉치인 kolaw와 국회법안 말뭉치인 kobill을 제공\r\n",
    "\r\n",
    "각 말뭉치가 포함하는 파일의 이름은 fields 메서드로 알 수 있고 \r\n",
    "open 메서드로 해당 파일의 텍스트를 읽어들인다."
   ],
   "metadata": {}
  },
  {
   "cell_type": "code",
   "execution_count": 2,
   "source": [
    "from konlpy.corpus import kolaw  #대한민국 헌법 말뭉치\r\n",
    "kolaw.fileids() #파일이름 확인"
   ],
   "outputs": [
    {
     "output_type": "execute_result",
     "data": {
      "text/plain": [
       "['constitution.txt']"
      ]
     },
     "metadata": {},
     "execution_count": 2
    }
   ],
   "metadata": {}
  },
  {
   "cell_type": "code",
   "execution_count": 4,
   "source": [
    "c = kolaw.open('constitution.txt').read()  #파일 읽기\r\n",
    "print(c[:100])"
   ],
   "outputs": [
    {
     "output_type": "stream",
     "name": "stdout",
     "text": [
      "대한민국헌법\n",
      "\n",
      "유구한 역사와 전통에 빛나는 우리 대한국민은 3·1운동으로 건립된 대한민국임시정부의 법통과 불의에 항거한 4·19민주이념을 계승하고, 조국의 민주개혁과 평화적 통일의\n"
     ]
    }
   ],
   "metadata": {}
  },
  {
   "cell_type": "code",
   "execution_count": 5,
   "source": [
    "from konlpy.corpus import kobill  #국회 법안 말뭉치 불러오기\r\n",
    "kobill.fileids()"
   ],
   "outputs": [
    {
     "output_type": "execute_result",
     "data": {
      "text/plain": [
       "['1809890.txt',\n",
       " '1809891.txt',\n",
       " '1809892.txt',\n",
       " '1809893.txt',\n",
       " '1809894.txt',\n",
       " '1809895.txt',\n",
       " '1809896.txt',\n",
       " '1809897.txt',\n",
       " '1809898.txt',\n",
       " '1809899.txt']"
      ]
     },
     "metadata": {},
     "execution_count": 5
    }
   ],
   "metadata": {}
  },
  {
   "cell_type": "code",
   "execution_count": 10,
   "source": [
    "d = kobill.open('1809890.txt').read() #1809890 파일 확인\r\n",
    "print(d[:200])"
   ],
   "outputs": [
    {
     "output_type": "stream",
     "name": "stdout",
     "text": [
      "지방공무원법 일부개정법률안\n",
      "\n",
      "(정의화의원 대표발의 )\n",
      "\n",
      " 의 안\n",
      " 번 호\n",
      "\n",
      "9890\n",
      "\n",
      "발의연월일 : 2010.  11.  12.  \n",
      "\n",
      "발  의  자 : 정의화․이명수․김을동 \n",
      "\n",
      "이사철․여상규․안규백\n",
      "\n",
      "황영철․박영아․김정훈\n",
      "\n",
      "김학송 의원(10인)\n",
      "\n",
      "제안이유 및 주요내용\n",
      "\n",
      "  초등학교 저학년의 경우에도 부모의 따뜻한 사랑과 보살핌이 필요\n",
      "\n",
      "한 나이이나, 현재 \n"
     ]
    }
   ],
   "metadata": {}
  },
  {
   "cell_type": "markdown",
   "source": [
    "## 02. 형태소 분석\r\n",
    "\r\n",
    "### - Hannanum: 한나눔. KAIST Semantic Web Research Center 개발.\r\n",
    "\r\n",
    "    http://semanticweb.kaist.ac.kr/hannanum/\r\n",
    "\r\n",
    "\r\n",
    "### - Kkma: 꼬꼬마. 서울대학교 IDS(Intelligent Data Systems) 연구실 개발.\r\n",
    "\r\n",
    "    http://kkma.snu.ac.kr/\r\n",
    "\r\n",
    "\r\n",
    "### - Komoran: 코모란. Shineware에서 개발.\r\n",
    "\r\n",
    "    https://github.com/shin285/KOMORAN\r\n",
    "\r\n",
    "\r\n",
    "### - Mecab: 메카브. 일본어용 형태소 분석기를 한국어를 사용할 수 있도록 수정.\r\n",
    "\r\n",
    "    https://bitbucket.org/eunjeon/mecab-ko\r\n",
    "    \r\n",
    "\r\n",
    "### - Open Korean Text: 오픈 소스 한국어 분석기. 과거 트위터 형태소 분석기.\r\n",
    "\r\n",
    "    https://github.com/open-korean-text/open-korean-text"
   ],
   "metadata": {}
  },
  {
   "cell_type": "code",
   "execution_count": 12,
   "source": [
    "from konlpy.tag import *\r\n",
    "\r\n",
    "hannanum = Hannanum() #한나눔\r\n",
    "kkma = Kkma() #꼬꼬마\r\n",
    "komoran = Komoran() #코모란\r\n",
    "okt = Okt() #오픈소스 한국어분석기,과거 트위터 형태소 분석기"
   ],
   "outputs": [],
   "metadata": {}
  },
  {
   "cell_type": "markdown",
   "source": [
    "## - 명사추출"
   ],
   "metadata": {}
  },
  {
   "cell_type": "code",
   "execution_count": 15,
   "source": [
    "print(c[:40])"
   ],
   "outputs": [
    {
     "output_type": "stream",
     "name": "stdout",
     "text": [
      "대한민국헌법\n",
      "\n",
      "유구한 역사와 전통에 빛나는 우리 대한국민은 3·1운동으로\n"
     ]
    }
   ],
   "metadata": {}
  },
  {
   "cell_type": "code",
   "execution_count": 13,
   "source": [
    "hannanum.nouns(c[:40])"
   ],
   "outputs": [
    {
     "output_type": "execute_result",
     "data": {
      "text/plain": [
       "['대한민국헌법', '유구', '역사', '전통', '빛', '우리', '대한국민', '3·1운동']"
      ]
     },
     "metadata": {},
     "execution_count": 13
    }
   ],
   "metadata": {}
  },
  {
   "cell_type": "code",
   "execution_count": 14,
   "source": [
    "kkma.nouns(c[:40])"
   ],
   "outputs": [
    {
     "output_type": "execute_result",
     "data": {
      "text/plain": [
       "['대한',\n",
       " '대한민국',\n",
       " '대한민국헌법',\n",
       " '민국',\n",
       " '헌법',\n",
       " '유구',\n",
       " '역사',\n",
       " '전통',\n",
       " '우리',\n",
       " '국민',\n",
       " '3',\n",
       " '1',\n",
       " '1운동',\n",
       " '운동']"
      ]
     },
     "metadata": {},
     "execution_count": 14
    }
   ],
   "metadata": {}
  },
  {
   "cell_type": "code",
   "execution_count": 33,
   "source": [
    "# komoran은 빈줄이 있으면 에러가 남\r\n",
    "\"\\n\".join([s for s in c[:40].split(\"\\n\") if s])"
   ],
   "outputs": [
    {
     "output_type": "execute_result",
     "data": {
      "text/plain": [
       "'대한민국헌법\\n유구한 역사와 전통에 빛나는 우리 대한국민은 3·1운동으로'"
      ]
     },
     "metadata": {},
     "execution_count": 33
    }
   ],
   "metadata": {}
  },
  {
   "cell_type": "code",
   "execution_count": 34,
   "source": [
    "komoran.nouns(\"\\n\".join([s for s in c[:40].split(\"\\n\") if s]))"
   ],
   "outputs": [
    {
     "output_type": "execute_result",
     "data": {
      "text/plain": [
       "['대한민국', '헌법', '역사', '전통', '국민', '운동']"
      ]
     },
     "metadata": {},
     "execution_count": 34
    }
   ],
   "metadata": {}
  },
  {
   "cell_type": "code",
   "execution_count": 18,
   "source": [
    "okt.nouns(c[:40])"
   ],
   "outputs": [
    {
     "output_type": "execute_result",
     "data": {
      "text/plain": [
       "['대한민국', '헌법', '유구', '역사', '전통', '우리', '국민', '운동']"
      ]
     },
     "metadata": {},
     "execution_count": 18
    }
   ],
   "metadata": {}
  },
  {
   "cell_type": "markdown",
   "source": [
    "## - 형태소 추출\r\n",
    "모든 품사의 형태소를 알아낼때, morphs"
   ],
   "metadata": {}
  },
  {
   "cell_type": "code",
   "execution_count": 25,
   "source": [
    "print(c[:40])"
   ],
   "outputs": [
    {
     "output_type": "stream",
     "name": "stdout",
     "text": [
      "대한민국헌법\n",
      "\n",
      "유구한 역사와 전통에 빛나는 우리 대한국민은 3·1운동으로\n"
     ]
    }
   ],
   "metadata": {}
  },
  {
   "cell_type": "code",
   "execution_count": 19,
   "source": [
    "hannanum.morphs(c[:40])"
   ],
   "outputs": [
    {
     "output_type": "execute_result",
     "data": {
      "text/plain": [
       "['대한민국헌법',\n",
       " '유구',\n",
       " '하',\n",
       " 'ㄴ',\n",
       " '역사',\n",
       " '와',\n",
       " '전통',\n",
       " '에',\n",
       " '빛',\n",
       " '나는',\n",
       " '우리',\n",
       " '대한국민',\n",
       " '은',\n",
       " '3·1운동',\n",
       " '으로']"
      ]
     },
     "metadata": {},
     "execution_count": 19
    }
   ],
   "metadata": {}
  },
  {
   "cell_type": "code",
   "execution_count": 20,
   "source": [
    "kkma.morphs(c[:40])"
   ],
   "outputs": [
    {
     "output_type": "execute_result",
     "data": {
      "text/plain": [
       "['대한민국',\n",
       " '헌법',\n",
       " '유구',\n",
       " '하',\n",
       " 'ㄴ',\n",
       " '역사',\n",
       " '와',\n",
       " '전통',\n",
       " '에',\n",
       " '빛나',\n",
       " '는',\n",
       " '우리',\n",
       " '대하',\n",
       " 'ㄴ',\n",
       " '국민',\n",
       " '은',\n",
       " '3',\n",
       " '·',\n",
       " '1',\n",
       " '운동',\n",
       " '으로']"
      ]
     },
     "metadata": {},
     "execution_count": 20
    }
   ],
   "metadata": {}
  },
  {
   "cell_type": "code",
   "execution_count": 29,
   "source": [
    "# komoran은 빈줄이 있으면 에러가 남\r\n",
    "komoran.morphs(\"\\n\".join([s for s in c[:40].split(\"\\n\") if s]))"
   ],
   "outputs": [
    {
     "output_type": "execute_result",
     "data": {
      "text/plain": [
       "['대한민국',\n",
       " '헌법',\n",
       " '유구',\n",
       " '하',\n",
       " 'ㄴ',\n",
       " '역사',\n",
       " '와',\n",
       " '전통',\n",
       " '에',\n",
       " '빛나',\n",
       " '는',\n",
       " '우리',\n",
       " '대하',\n",
       " 'ㄴ',\n",
       " '국민',\n",
       " '은',\n",
       " '3',\n",
       " '·',\n",
       " '1',\n",
       " '운동',\n",
       " '으로']"
      ]
     },
     "metadata": {},
     "execution_count": 29
    }
   ],
   "metadata": {}
  },
  {
   "cell_type": "code",
   "execution_count": 23,
   "source": [
    "okt.morphs(c[:40])"
   ],
   "outputs": [
    {
     "output_type": "execute_result",
     "data": {
      "text/plain": [
       "['대한민국',\n",
       " '헌법',\n",
       " '\\n\\n',\n",
       " '유구',\n",
       " '한',\n",
       " '역사',\n",
       " '와',\n",
       " '전통',\n",
       " '에',\n",
       " '빛나는',\n",
       " '우리',\n",
       " '대',\n",
       " '한',\n",
       " '국민',\n",
       " '은',\n",
       " '3',\n",
       " '·',\n",
       " '1',\n",
       " '운동',\n",
       " '으로']"
      ]
     },
     "metadata": {},
     "execution_count": 23
    }
   ],
   "metadata": {}
  },
  {
   "cell_type": "markdown",
   "source": [
    "## - 품사 부착 \r\n",
    "pos 명령을 사용"
   ],
   "metadata": {}
  },
  {
   "cell_type": "code",
   "execution_count": 24,
   "source": [
    "hannanum.pos(c[:40])"
   ],
   "outputs": [
    {
     "output_type": "execute_result",
     "data": {
      "text/plain": [
       "[('대한민국헌법', 'N'),\n",
       " ('유구', 'N'),\n",
       " ('하', 'X'),\n",
       " ('ㄴ', 'E'),\n",
       " ('역사', 'N'),\n",
       " ('와', 'J'),\n",
       " ('전통', 'N'),\n",
       " ('에', 'J'),\n",
       " ('빛', 'N'),\n",
       " ('나는', 'J'),\n",
       " ('우리', 'N'),\n",
       " ('대한국민', 'N'),\n",
       " ('은', 'J'),\n",
       " ('3·1운동', 'N'),\n",
       " ('으로', 'J')]"
      ]
     },
     "metadata": {},
     "execution_count": 24
    }
   ],
   "metadata": {}
  },
  {
   "cell_type": "code",
   "execution_count": 44,
   "source": [
    "# 부착되는 품사 태그의 기호와 의미는 tagset 속성으로 확인\r\n",
    "hannanum.tagset"
   ],
   "outputs": [
    {
     "output_type": "execute_result",
     "data": {
      "text/plain": [
       "{'E': '어미',\n",
       " 'EC': '연결 어미',\n",
       " 'EF': '종결 어미',\n",
       " 'EP': '선어말어미',\n",
       " 'ET': '전성 어미',\n",
       " 'F': '외국어',\n",
       " 'I': '독립언',\n",
       " 'II': '감탄사',\n",
       " 'J': '관계언',\n",
       " 'JC': '격조사',\n",
       " 'JP': '서술격 조사',\n",
       " 'JX': '보조사',\n",
       " 'M': '수식언',\n",
       " 'MA': '부사',\n",
       " 'MM': '관형사',\n",
       " 'N': '체언',\n",
       " 'NB': '의존명사',\n",
       " 'NC': '보통명사',\n",
       " 'NN': '수사',\n",
       " 'NP': '대명사',\n",
       " 'NQ': '고유명사',\n",
       " 'P': '용언',\n",
       " 'PA': '형용사',\n",
       " 'PV': '동사',\n",
       " 'PX': '보조 용언',\n",
       " 'S': '기호',\n",
       " 'X': '접사',\n",
       " 'XP': '접두사',\n",
       " 'XS': '접미사'}"
      ]
     },
     "metadata": {},
     "execution_count": 44
    }
   ],
   "metadata": {}
  },
  {
   "cell_type": "code",
   "execution_count": 35,
   "source": [
    "kkma.pos(c[:40])"
   ],
   "outputs": [
    {
     "output_type": "execute_result",
     "data": {
      "text/plain": [
       "[('대한민국', 'NNG'),\n",
       " ('헌법', 'NNG'),\n",
       " ('유구', 'NNG'),\n",
       " ('하', 'XSV'),\n",
       " ('ㄴ', 'ETD'),\n",
       " ('역사', 'NNG'),\n",
       " ('와', 'JC'),\n",
       " ('전통', 'NNG'),\n",
       " ('에', 'JKM'),\n",
       " ('빛나', 'VV'),\n",
       " ('는', 'ETD'),\n",
       " ('우리', 'NNM'),\n",
       " ('대하', 'VV'),\n",
       " ('ㄴ', 'ETD'),\n",
       " ('국민', 'NNG'),\n",
       " ('은', 'JX'),\n",
       " ('3', 'NR'),\n",
       " ('·', 'SP'),\n",
       " ('1', 'NR'),\n",
       " ('운동', 'NNG'),\n",
       " ('으로', 'JKM')]"
      ]
     },
     "metadata": {},
     "execution_count": 35
    }
   ],
   "metadata": {}
  },
  {
   "cell_type": "code",
   "execution_count": 40,
   "source": [
    "# 부착되는 품사 태그의 기호와 의미는 tagset 속성으로 확인\r\n",
    "kkma.tagset"
   ],
   "outputs": [
    {
     "output_type": "execute_result",
     "data": {
      "text/plain": [
       "{'EC': '연결 어미',\n",
       " 'ECD': '의존적 연결 어미',\n",
       " 'ECE': '대등 연결 어미',\n",
       " 'ECS': '보조적 연결 어미',\n",
       " 'EF': '종결 어미',\n",
       " 'EFA': '청유형 종결 어미',\n",
       " 'EFI': '감탄형 종결 어미',\n",
       " 'EFN': '평서형 종결 어미',\n",
       " 'EFO': '명령형 종결 어미',\n",
       " 'EFQ': '의문형 종결 어미',\n",
       " 'EFR': '존칭형 종결 어미',\n",
       " 'EP': '선어말 어미',\n",
       " 'EPH': '존칭 선어말 어미',\n",
       " 'EPP': '공손 선어말 어미',\n",
       " 'EPT': '시제 선어말 어미',\n",
       " 'ET': '전성 어미',\n",
       " 'ETD': '관형형 전성 어미',\n",
       " 'ETN': '명사형 전성 어미',\n",
       " 'IC': '감탄사',\n",
       " 'JC': '접속 조사',\n",
       " 'JK': '조사',\n",
       " 'JKC': '보격 조사',\n",
       " 'JKG': '관형격 조사',\n",
       " 'JKI': '호격 조사',\n",
       " 'JKM': '부사격 조사',\n",
       " 'JKO': '목적격 조사',\n",
       " 'JKQ': '인용격 조사',\n",
       " 'JKS': '주격 조사',\n",
       " 'JX': '보조사',\n",
       " 'MA': '부사',\n",
       " 'MAC': '접속 부사',\n",
       " 'MAG': '일반 부사',\n",
       " 'MD': '관형사',\n",
       " 'MDN': '수 관형사',\n",
       " 'MDT': '일반 관형사',\n",
       " 'NN': '명사',\n",
       " 'NNB': '일반 의존 명사',\n",
       " 'NNG': '보통명사',\n",
       " 'NNM': '단위 의존 명사',\n",
       " 'NNP': '고유명사',\n",
       " 'NP': '대명사',\n",
       " 'NR': '수사',\n",
       " 'OH': '한자',\n",
       " 'OL': '외국어',\n",
       " 'ON': '숫자',\n",
       " 'SE': '줄임표',\n",
       " 'SF': '마침표, 물음표, 느낌표',\n",
       " 'SO': '붙임표(물결,숨김,빠짐)',\n",
       " 'SP': '쉼표,가운뎃점,콜론,빗금',\n",
       " 'SS': '따옴표,괄호표,줄표',\n",
       " 'SW': '기타기호 (논리수학기호,화폐기호)',\n",
       " 'UN': '명사추정범주',\n",
       " 'VA': '형용사',\n",
       " 'VC': '지정사',\n",
       " 'VCN': \"부정 지정사, 형용사 '아니다'\",\n",
       " 'VCP': \"긍정 지정사, 서술격 조사 '이다'\",\n",
       " 'VV': '동사',\n",
       " 'VX': '보조 용언',\n",
       " 'VXA': '보조 형용사',\n",
       " 'VXV': '보조 동사',\n",
       " 'XP': '접두사',\n",
       " 'XPN': '체언 접두사',\n",
       " 'XPV': '용언 접두사',\n",
       " 'XR': '어근',\n",
       " 'XSA': '형용사 파생 접미사',\n",
       " 'XSN': '명사파생 접미사',\n",
       " 'XSV': '동사 파생 접미사'}"
      ]
     },
     "metadata": {},
     "execution_count": 40
    }
   ],
   "metadata": {}
  },
  {
   "cell_type": "code",
   "execution_count": 36,
   "source": [
    "komoran.pos(\"\\n\".join([s for s in c[:40].split(\"\\n\") if s ] ))"
   ],
   "outputs": [
    {
     "output_type": "execute_result",
     "data": {
      "text/plain": [
       "[('대한민국', 'NNP'),\n",
       " ('헌법', 'NNP'),\n",
       " ('유구', 'XR'),\n",
       " ('하', 'XSA'),\n",
       " ('ㄴ', 'ETM'),\n",
       " ('역사', 'NNG'),\n",
       " ('와', 'JC'),\n",
       " ('전통', 'NNG'),\n",
       " ('에', 'JKB'),\n",
       " ('빛나', 'VV'),\n",
       " ('는', 'ETM'),\n",
       " ('우리', 'NP'),\n",
       " ('대하', 'VV'),\n",
       " ('ㄴ', 'ETM'),\n",
       " ('국민', 'NNP'),\n",
       " ('은', 'JX'),\n",
       " ('3', 'SN'),\n",
       " ('·', 'SP'),\n",
       " ('1', 'SN'),\n",
       " ('운동', 'NNP'),\n",
       " ('으로', 'JKB')]"
      ]
     },
     "metadata": {},
     "execution_count": 36
    }
   ],
   "metadata": {}
  },
  {
   "cell_type": "code",
   "execution_count": 39,
   "source": [
    "# 부착되는 품사 태그의 기호와 의미는 tagset 속성으로 확인\r\n",
    "komoran.tagset"
   ],
   "outputs": [
    {
     "output_type": "execute_result",
     "data": {
      "text/plain": [
       "{'EC': '연결 어미',\n",
       " 'EF': '종결 어미',\n",
       " 'EP': '선어말어미',\n",
       " 'ETM': '관형형 전성 어미',\n",
       " 'ETN': '명사형 전성 어미',\n",
       " 'IC': '감탄사',\n",
       " 'JC': '접속 조사',\n",
       " 'JKB': '부사격 조사',\n",
       " 'JKC': '보격 조사',\n",
       " 'JKG': '관형격 조사',\n",
       " 'JKO': '목적격 조사',\n",
       " 'JKQ': '인용격 조사',\n",
       " 'JKS': '주격 조사',\n",
       " 'JKV': '호격 조사',\n",
       " 'JX': '보조사',\n",
       " 'MAG': '일반 부사',\n",
       " 'MAJ': '접속 부사',\n",
       " 'MM': '관형사',\n",
       " 'NA': '분석불능범주',\n",
       " 'NF': '명사추정범주',\n",
       " 'NNB': '의존 명사',\n",
       " 'NNG': '일반 명사',\n",
       " 'NNP': '고유 명사',\n",
       " 'NP': '대명사',\n",
       " 'NR': '수사',\n",
       " 'NV': '용언추정범주',\n",
       " 'SE': '줄임표',\n",
       " 'SF': '마침표, 물음표, 느낌표',\n",
       " 'SH': '한자',\n",
       " 'SL': '외국어',\n",
       " 'SN': '숫자',\n",
       " 'SO': '붙임표(물결,숨김,빠짐)',\n",
       " 'SP': '쉼표,가운뎃점,콜론,빗금',\n",
       " 'SS': '따옴표,괄호표,줄표',\n",
       " 'SW': '기타기호 (논리수학기호,화폐기호)',\n",
       " 'VA': '형용사',\n",
       " 'VCN': '부정 지정사',\n",
       " 'VCP': '긍정 지정사',\n",
       " 'VV': '동사',\n",
       " 'VX': '보조 용언',\n",
       " 'XPN': '체언 접두사',\n",
       " 'XR': '어근',\n",
       " 'XSA': '형용사 파생 접미사',\n",
       " 'XSN': '명사파생 접미사',\n",
       " 'XSV': '동사 파생 접미사'}"
      ]
     },
     "metadata": {},
     "execution_count": 39
    }
   ],
   "metadata": {}
  },
  {
   "cell_type": "code",
   "execution_count": 37,
   "source": [
    "okt.pos(c[:40])"
   ],
   "outputs": [
    {
     "output_type": "execute_result",
     "data": {
      "text/plain": [
       "[('대한민국', 'Noun'),\n",
       " ('헌법', 'Noun'),\n",
       " ('\\n\\n', 'Foreign'),\n",
       " ('유구', 'Noun'),\n",
       " ('한', 'Josa'),\n",
       " ('역사', 'Noun'),\n",
       " ('와', 'Josa'),\n",
       " ('전통', 'Noun'),\n",
       " ('에', 'Josa'),\n",
       " ('빛나는', 'Verb'),\n",
       " ('우리', 'Noun'),\n",
       " ('대', 'Modifier'),\n",
       " ('한', 'Modifier'),\n",
       " ('국민', 'Noun'),\n",
       " ('은', 'Josa'),\n",
       " ('3', 'Number'),\n",
       " ('·', 'Punctuation'),\n",
       " ('1', 'Number'),\n",
       " ('운동', 'Noun'),\n",
       " ('으로', 'Josa')]"
      ]
     },
     "metadata": {},
     "execution_count": 37
    }
   ],
   "metadata": {}
  },
  {
   "cell_type": "code",
   "execution_count": 38,
   "source": [
    "# 부착되는 품사 태그의 기호와 의미는 tagset 속성으로 확인\r\n",
    "okt.tagset"
   ],
   "outputs": [
    {
     "output_type": "execute_result",
     "data": {
      "text/plain": [
       "{'Adjective': '형용사',\n",
       " 'Adverb': '부사',\n",
       " 'Alpha': '알파벳',\n",
       " 'Conjunction': '접속사',\n",
       " 'Determiner': '관형사',\n",
       " 'Eomi': '어미',\n",
       " 'Exclamation': '감탄사',\n",
       " 'Foreign': '외국어, 한자 및 기타기호',\n",
       " 'Hashtag': '트위터 해쉬태그',\n",
       " 'Josa': '조사',\n",
       " 'KoreanParticle': '(ex: ㅋㅋ)',\n",
       " 'Noun': '명사',\n",
       " 'Number': '숫자',\n",
       " 'PreEomi': '선어말어미',\n",
       " 'Punctuation': '구두점',\n",
       " 'ScreenName': '트위터 아이디',\n",
       " 'Suffix': '접미사',\n",
       " 'Unknown': '미등록어',\n",
       " 'Verb': '동사'}"
      ]
     },
     "metadata": {},
     "execution_count": 38
    }
   ],
   "metadata": {}
  },
  {
   "cell_type": "code",
   "execution_count": 49,
   "source": [
    "import pandas as pd\r\n",
    "tagsets = pd.DataFrame()\r\n",
    "N = 67\r\n",
    "tagsets[\"Hannanum-기호\"] = list(hannanum.tagset.keys()) + list(\"*\" * (N - len(hannanum.tagset)))\r\n",
    "tagsets[\"Hannanum-품사\"] = list(hannanum.tagset.values()) + list(\"*\" * (N - len(hannanum.tagset)))\r\n",
    "tagsets[\"Kkma-기호\"] = list(kkma.tagset.keys()) + list(\"*\" * (N - len(kkma.tagset)))\r\n",
    "tagsets[\"Kkma-품사\"] = list(kkma.tagset.values()) + list(\"*\" * (N - len(kkma.tagset)))\r\n",
    "tagsets[\"Komoran-기호\"] = list(komoran.tagset.keys()) + list(\"*\" * (N - len(komoran.tagset)))\r\n",
    "tagsets[\"Komoran-품사\"] = list(komoran.tagset.values()) + list(\"*\" * (N - len(komoran.tagset)))\r\n",
    "tagsets[\"OKT-기호\"] = list(okt.tagset.keys()) + list(\"*\" * (N - len(okt.tagset)))\r\n",
    "tagsets[\"OKT-품사\"] = list(okt.tagset.values()) + list(\"*\" * (N - len(okt.tagset)))\r\n",
    "tagsets"
   ],
   "outputs": [
    {
     "output_type": "execute_result",
     "data": {
      "text/plain": [
       "   Hannanum-기호 Hannanum-품사 Kkma-기호     Kkma-품사 Komoran-기호 Komoran-품사  \\\n",
       "0            E          어미      EC       연결 어미         EC      연결 어미   \n",
       "1           EC       연결 어미     ECD   의존적 연결 어미         EF      종결 어미   \n",
       "2           EF       종결 어미     ECE    대등 연결 어미         EP      선어말어미   \n",
       "3           EP       선어말어미     ECS   보조적 연결 어미        ETM  관형형 전성 어미   \n",
       "4           ET       전성 어미      EF       종결 어미        ETN  명사형 전성 어미   \n",
       "..         ...         ...     ...         ...        ...        ...   \n",
       "62           *           *     XPV      용언 접두사          *          *   \n",
       "63           *           *      XR          어근          *          *   \n",
       "64           *           *     XSA  형용사 파생 접미사          *          *   \n",
       "65           *           *     XSN    명사파생 접미사          *          *   \n",
       "66           *           *     XSV   동사 파생 접미사          *          *   \n",
       "\n",
       "         OKT-기호 OKT-품사  \n",
       "0     Adjective    형용사  \n",
       "1        Adverb     부사  \n",
       "2         Alpha    알파벳  \n",
       "3   Conjunction    접속사  \n",
       "4    Determiner    관형사  \n",
       "..          ...    ...  \n",
       "62            *      *  \n",
       "63            *      *  \n",
       "64            *      *  \n",
       "65            *      *  \n",
       "66            *      *  \n",
       "\n",
       "[67 rows x 8 columns]"
      ],
      "text/html": [
       "<div>\n",
       "<style scoped>\n",
       "    .dataframe tbody tr th:only-of-type {\n",
       "        vertical-align: middle;\n",
       "    }\n",
       "\n",
       "    .dataframe tbody tr th {\n",
       "        vertical-align: top;\n",
       "    }\n",
       "\n",
       "    .dataframe thead th {\n",
       "        text-align: right;\n",
       "    }\n",
       "</style>\n",
       "<table border=\"1\" class=\"dataframe\">\n",
       "  <thead>\n",
       "    <tr style=\"text-align: right;\">\n",
       "      <th></th>\n",
       "      <th>Hannanum-기호</th>\n",
       "      <th>Hannanum-품사</th>\n",
       "      <th>Kkma-기호</th>\n",
       "      <th>Kkma-품사</th>\n",
       "      <th>Komoran-기호</th>\n",
       "      <th>Komoran-품사</th>\n",
       "      <th>OKT-기호</th>\n",
       "      <th>OKT-품사</th>\n",
       "    </tr>\n",
       "  </thead>\n",
       "  <tbody>\n",
       "    <tr>\n",
       "      <th>0</th>\n",
       "      <td>E</td>\n",
       "      <td>어미</td>\n",
       "      <td>EC</td>\n",
       "      <td>연결 어미</td>\n",
       "      <td>EC</td>\n",
       "      <td>연결 어미</td>\n",
       "      <td>Adjective</td>\n",
       "      <td>형용사</td>\n",
       "    </tr>\n",
       "    <tr>\n",
       "      <th>1</th>\n",
       "      <td>EC</td>\n",
       "      <td>연결 어미</td>\n",
       "      <td>ECD</td>\n",
       "      <td>의존적 연결 어미</td>\n",
       "      <td>EF</td>\n",
       "      <td>종결 어미</td>\n",
       "      <td>Adverb</td>\n",
       "      <td>부사</td>\n",
       "    </tr>\n",
       "    <tr>\n",
       "      <th>2</th>\n",
       "      <td>EF</td>\n",
       "      <td>종결 어미</td>\n",
       "      <td>ECE</td>\n",
       "      <td>대등 연결 어미</td>\n",
       "      <td>EP</td>\n",
       "      <td>선어말어미</td>\n",
       "      <td>Alpha</td>\n",
       "      <td>알파벳</td>\n",
       "    </tr>\n",
       "    <tr>\n",
       "      <th>3</th>\n",
       "      <td>EP</td>\n",
       "      <td>선어말어미</td>\n",
       "      <td>ECS</td>\n",
       "      <td>보조적 연결 어미</td>\n",
       "      <td>ETM</td>\n",
       "      <td>관형형 전성 어미</td>\n",
       "      <td>Conjunction</td>\n",
       "      <td>접속사</td>\n",
       "    </tr>\n",
       "    <tr>\n",
       "      <th>4</th>\n",
       "      <td>ET</td>\n",
       "      <td>전성 어미</td>\n",
       "      <td>EF</td>\n",
       "      <td>종결 어미</td>\n",
       "      <td>ETN</td>\n",
       "      <td>명사형 전성 어미</td>\n",
       "      <td>Determiner</td>\n",
       "      <td>관형사</td>\n",
       "    </tr>\n",
       "    <tr>\n",
       "      <th>...</th>\n",
       "      <td>...</td>\n",
       "      <td>...</td>\n",
       "      <td>...</td>\n",
       "      <td>...</td>\n",
       "      <td>...</td>\n",
       "      <td>...</td>\n",
       "      <td>...</td>\n",
       "      <td>...</td>\n",
       "    </tr>\n",
       "    <tr>\n",
       "      <th>62</th>\n",
       "      <td>*</td>\n",
       "      <td>*</td>\n",
       "      <td>XPV</td>\n",
       "      <td>용언 접두사</td>\n",
       "      <td>*</td>\n",
       "      <td>*</td>\n",
       "      <td>*</td>\n",
       "      <td>*</td>\n",
       "    </tr>\n",
       "    <tr>\n",
       "      <th>63</th>\n",
       "      <td>*</td>\n",
       "      <td>*</td>\n",
       "      <td>XR</td>\n",
       "      <td>어근</td>\n",
       "      <td>*</td>\n",
       "      <td>*</td>\n",
       "      <td>*</td>\n",
       "      <td>*</td>\n",
       "    </tr>\n",
       "    <tr>\n",
       "      <th>64</th>\n",
       "      <td>*</td>\n",
       "      <td>*</td>\n",
       "      <td>XSA</td>\n",
       "      <td>형용사 파생 접미사</td>\n",
       "      <td>*</td>\n",
       "      <td>*</td>\n",
       "      <td>*</td>\n",
       "      <td>*</td>\n",
       "    </tr>\n",
       "    <tr>\n",
       "      <th>65</th>\n",
       "      <td>*</td>\n",
       "      <td>*</td>\n",
       "      <td>XSN</td>\n",
       "      <td>명사파생 접미사</td>\n",
       "      <td>*</td>\n",
       "      <td>*</td>\n",
       "      <td>*</td>\n",
       "      <td>*</td>\n",
       "    </tr>\n",
       "    <tr>\n",
       "      <th>66</th>\n",
       "      <td>*</td>\n",
       "      <td>*</td>\n",
       "      <td>XSV</td>\n",
       "      <td>동사 파생 접미사</td>\n",
       "      <td>*</td>\n",
       "      <td>*</td>\n",
       "      <td>*</td>\n",
       "      <td>*</td>\n",
       "    </tr>\n",
       "  </tbody>\n",
       "</table>\n",
       "<p>67 rows × 8 columns</p>\n",
       "</div>"
      ]
     },
     "metadata": {},
     "execution_count": 49
    }
   ],
   "metadata": {}
  },
  {
   "cell_type": "markdown",
   "source": [
    "## nltk 패키지의 Text 클래스를 결합하여 빈도분석 가능"
   ],
   "metadata": {}
  },
  {
   "cell_type": "code",
   "execution_count": 52,
   "source": [
    "from nltk import Text\r\n",
    "import matplotlib.pyplot as plt\r\n",
    "plt.rcParams['font.family'] = 'Malgun Gothic' # 폰트 깨짐 설정\r\n",
    "\r\n",
    "kolaw = Text(okt.nouns(c), name=\"kolaw\")\r\n",
    "kolaw.plot(30)\r\n",
    "plt.show()"
   ],
   "outputs": [
    {
     "output_type": "display_data",
     "data": {
      "text/plain": [
       "<Figure size 432x288 with 1 Axes>"
      ],
      "image/svg+xml": "<?xml version=\"1.0\" encoding=\"utf-8\" standalone=\"no\"?>\r\n<!DOCTYPE svg PUBLIC \"-//W3C//DTD SVG 1.1//EN\"\r\n  \"http://www.w3.org/Graphics/SVG/1.1/DTD/svg11.dtd\">\r\n<!-- Created with matplotlib (https://matplotlib.org/) -->\r\n<svg height=\"293.004017pt\" version=\"1.1\" viewBox=\"0 0 386.679688 293.004017\" width=\"386.679688pt\" xmlns=\"http://www.w3.org/2000/svg\" xmlns:xlink=\"http://www.w3.org/1999/xlink\">\r\n <metadata>\r\n  <rdf:RDF xmlns:cc=\"http://creativecommons.org/ns#\" xmlns:dc=\"http://purl.org/dc/elements/1.1/\" xmlns:rdf=\"http://www.w3.org/1999/02/22-rdf-syntax-ns#\">\r\n   <cc:Work>\r\n    <dc:type rdf:resource=\"http://purl.org/dc/dcmitype/StillImage\"/>\r\n    <dc:date>2021-08-16T19:33:47.322845</dc:date>\r\n    <dc:format>image/svg+xml</dc:format>\r\n    <dc:creator>\r\n     <cc:Agent>\r\n      <dc:title>Matplotlib v3.3.4, https://matplotlib.org/</dc:title>\r\n     </cc:Agent>\r\n    </dc:creator>\r\n   </cc:Work>\r\n  </rdf:RDF>\r\n </metadata>\r\n <defs>\r\n  <style type=\"text/css\">*{stroke-linecap:butt;stroke-linejoin:round;}</style>\r\n </defs>\r\n <g id=\"figure_1\">\r\n  <g id=\"patch_1\">\r\n   <path d=\"M 0 293.004017 \r\nL 386.679688 293.004017 \r\nL 386.679688 0 \r\nL 0 0 \r\nz\r\n\" style=\"fill:none;\"/>\r\n  </g>\r\n  <g id=\"axes_1\">\r\n   <g id=\"patch_2\">\r\n    <path d=\"M 44.679688 224.847767 \r\nL 379.479688 224.847767 \r\nL 379.479688 7.407767 \r\nL 44.679688 7.407767 \r\nz\r\n\" style=\"fill:#ffffff;\"/>\r\n   </g>\r\n   <g id=\"matplotlib.axis_1\">\r\n    <g id=\"xtick_1\">\r\n     <g id=\"line2d_1\">\r\n      <path clip-path=\"url(#pb57d2c8e85)\" d=\"M 59.897869 224.847767 \r\nL 59.897869 7.407767 \r\n\" style=\"fill:none;stroke:#c0c0c0;stroke-linecap:square;stroke-width:0.8;\"/>\r\n     </g>\r\n     <g id=\"line2d_2\">\r\n      <defs>\r\n       <path d=\"M 0 0 \r\nL 0 3.5 \r\n\" id=\"m661e43133a\" style=\"stroke:#000000;stroke-width:0.8;\"/>\r\n      </defs>\r\n      <g>\r\n       <use style=\"stroke:#000000;stroke-width:0.8;\" x=\"59.897869\" xlink:href=\"#m661e43133a\" y=\"224.847767\"/>\r\n      </g>\r\n     </g>\r\n     <g id=\"text_1\">\r\n      <!-- 제 -->\r\n      <g transform=\"translate(62.511932 241.847767)rotate(-90)scale(0.1 -0.1)\">\r\n       <defs>\r\n        <path d=\"M 78.71875 -8.796875 \r\nL 78.71875 85.40625 \r\nL 85.984375 85.40625 \r\nL 85.984375 -8.796875 \r\nz\r\nM 61.625 -5.90625 \r\nL 61.625 46.484375 \r\nL 45.21875 46.484375 \r\nL 45.21875 52.984375 \r\nL 61.625 52.984375 \r\nL 61.625 83.5 \r\nL 68.796875 83.5 \r\nL 68.796875 -5.90625 \r\nz\r\nM 48.6875 13.28125 \r\nQ 36.03125 25.734375 31 42.71875 \r\nQ 29.390625 35.796875 23.890625 26.90625 \r\nQ 18.40625 18.015625 12.109375 12.015625 \r\nL 6.390625 16.609375 \r\nQ 14.703125 22.46875 21.09375 35.125 \r\nQ 27.484375 47.796875 27.484375 59.90625 \r\nL 27.484375 70.703125 \r\nL 9.90625 70.703125 \r\nL 9.90625 77.203125 \r\nL 52.484375 77.203125 \r\nL 52.484375 70.703125 \r\nL 34.71875 70.703125 \r\nL 34.71875 59.8125 \r\nQ 34.71875 48.046875 40.453125 36.375 \r\nQ 46.1875 24.703125 54.203125 18.015625 \r\nz\r\n\" id=\"MalgunGothic-51228\"/>\r\n       </defs>\r\n       <use xlink:href=\"#MalgunGothic-51228\"/>\r\n      </g>\r\n     </g>\r\n    </g>\r\n    <g id=\"xtick_2\">\r\n     <g id=\"line2d_3\">\r\n      <path clip-path=\"url(#pb57d2c8e85)\" d=\"M 70.393167 224.847767 \r\nL 70.393167 7.407767 \r\n\" style=\"fill:none;stroke:#c0c0c0;stroke-linecap:square;stroke-width:0.8;\"/>\r\n     </g>\r\n     <g id=\"line2d_4\">\r\n      <g>\r\n       <use style=\"stroke:#000000;stroke-width:0.8;\" x=\"70.393167\" xlink:href=\"#m661e43133a\" y=\"224.847767\"/>\r\n      </g>\r\n     </g>\r\n     <g id=\"text_2\">\r\n      <!-- 법률 -->\r\n      <g transform=\"translate(73.00723 251.847767)rotate(-90)scale(0.1 -0.1)\">\r\n       <defs>\r\n        <path d=\"M 16.21875 40.28125 \r\nL 16.21875 82.328125 \r\nL 23.390625 82.328125 \r\nL 23.390625 67.1875 \r\nL 52.390625 67.1875 \r\nL 52.390625 82.328125 \r\nL 59.71875 82.328125 \r\nL 59.71875 64.203125 \r\nL 77.390625 64.203125 \r\nL 77.390625 85.40625 \r\nL 84.71875 85.40625 \r\nL 84.71875 36.71875 \r\nL 77.390625 36.71875 \r\nL 77.390625 57.625 \r\nL 59.71875 57.625 \r\nL 59.71875 40.28125 \r\nz\r\nM 52.390625 60.796875 \r\nL 23.390625 60.796875 \r\nL 23.390625 46.78125 \r\nL 52.390625 46.78125 \r\nz\r\nM 26.703125 -6.203125 \r\nL 26.703125 31.5 \r\nL 33.890625 31.5 \r\nL 33.890625 18.5 \r\nL 77.390625 18.5 \r\nL 77.390625 31.5 \r\nL 84.625 31.5 \r\nL 84.625 -6.203125 \r\nz\r\nM 77.390625 12.109375 \r\nL 33.890625 12.109375 \r\nL 33.890625 0.203125 \r\nL 77.390625 0.203125 \r\nz\r\n\" id=\"MalgunGothic-48277\"/>\r\n        <path d=\"M 21 49.21875 \r\nL 21 69.484375 \r\nL 71.78125 69.484375 \r\nL 71.78125 77.390625 \r\nL 21 77.390625 \r\nL 21 83.796875 \r\nL 79 83.796875 \r\nL 79 63.1875 \r\nL 28.21875 63.1875 \r\nL 28.21875 55.609375 \r\nL 81.109375 55.609375 \r\nL 81.109375 49.21875 \r\nz\r\nM 20.703125 -6.984375 \r\nL 20.703125 13.375 \r\nL 72.015625 13.375 \r\nL 72.015625 20.515625 \r\nL 20.703125 20.515625 \r\nL 20.703125 26.90625 \r\nL 31.296875 26.90625 \r\nL 31.296875 35.296875 \r\nL 6.296875 35.296875 \r\nL 6.296875 41.609375 \r\nL 93.703125 41.609375 \r\nL 93.703125 35.296875 \r\nL 68.703125 35.296875 \r\nL 68.703125 26.90625 \r\nL 79.203125 26.90625 \r\nL 79.203125 7.078125 \r\nL 27.875 7.078125 \r\nL 27.875 -0.59375 \r\nL 81.296875 -0.59375 \r\nL 81.296875 -6.984375 \r\nz\r\nM 61.53125 26.90625 \r\nL 61.53125 35.296875 \r\nL 38.484375 35.296875 \r\nL 38.484375 26.90625 \r\nz\r\n\" id=\"MalgunGothic-47456\"/>\r\n       </defs>\r\n       <use xlink:href=\"#MalgunGothic-48277\"/>\r\n       <use x=\"100\" xlink:href=\"#MalgunGothic-47456\"/>\r\n      </g>\r\n     </g>\r\n    </g>\r\n    <g id=\"xtick_3\">\r\n     <g id=\"line2d_5\">\r\n      <path clip-path=\"url(#pb57d2c8e85)\" d=\"M 80.888465 224.847767 \r\nL 80.888465 7.407767 \r\n\" style=\"fill:none;stroke:#c0c0c0;stroke-linecap:square;stroke-width:0.8;\"/>\r\n     </g>\r\n     <g id=\"line2d_6\">\r\n      <g>\r\n       <use style=\"stroke:#000000;stroke-width:0.8;\" x=\"80.888465\" xlink:href=\"#m661e43133a\" y=\"224.847767\"/>\r\n      </g>\r\n     </g>\r\n     <g id=\"text_3\">\r\n      <!-- 정 -->\r\n      <g transform=\"translate(83.502527 241.847767)rotate(-90)scale(0.1 -0.1)\">\r\n       <defs>\r\n        <path d=\"M 77.296875 31 \r\nL 77.296875 57.71875 \r\nL 55.328125 57.71875 \r\nL 55.328125 64.203125 \r\nL 77.296875 64.203125 \r\nL 77.296875 85.40625 \r\nL 84.625 85.40625 \r\nL 84.625 31 \r\nz\r\nM 57.078125 36.375 \r\nQ 50.6875 39.84375 44.234375 46.09375 \r\nQ 37.796875 52.34375 35.203125 57.8125 \r\nQ 32.421875 51.609375 25.921875 44.65625 \r\nQ 19.4375 37.703125 12.796875 33.984375 \r\nL 7.625 39.015625 \r\nQ 17.71875 43.84375 24.546875 53.015625 \r\nQ 31.390625 62.203125 31.390625 72.3125 \r\nL 31.390625 74.703125 \r\nL 10.6875 74.703125 \r\nL 10.6875 81.203125 \r\nL 59.1875 81.203125 \r\nL 59.1875 74.703125 \r\nL 38.484375 74.703125 \r\nL 38.484375 72.3125 \r\nQ 38.484375 62.890625 45.5625 54.25 \r\nQ 52.640625 45.609375 62.015625 41.703125 \r\nz\r\nM 55.71875 -7.421875 \r\nQ 40.96875 -7.421875 32.9375 -2.3125 \r\nQ 24.90625 2.78125 24.90625 10.890625 \r\nQ 24.90625 19 32.90625 24.046875 \r\nQ 40.921875 29.109375 55.71875 29.109375 \r\nQ 70.515625 29.109375 78.515625 24.046875 \r\nQ 86.53125 19 86.53125 10.890625 \r\nQ 86.53125 2.78125 78.484375 -2.3125 \r\nQ 70.453125 -7.421875 55.71875 -7.421875 \r\nz\r\nM 55.71875 22.90625 \r\nQ 44.53125 22.90625 38.625 19.5 \r\nQ 32.71875 16.109375 32.71875 10.890625 \r\nQ 32.71875 5.609375 38.640625 2.234375 \r\nQ 44.578125 -1.125 55.71875 -1.125 \r\nQ 66.796875 -1.125 72.75 2.21875 \r\nQ 78.71875 5.5625 78.71875 10.890625 \r\nQ 78.71875 16.15625 72.796875 19.53125 \r\nQ 66.890625 22.90625 55.71875 22.90625 \r\nz\r\n\" id=\"MalgunGothic-51221\"/>\r\n       </defs>\r\n       <use xlink:href=\"#MalgunGothic-51221\"/>\r\n      </g>\r\n     </g>\r\n    </g>\r\n    <g id=\"xtick_4\">\r\n     <g id=\"line2d_7\">\r\n      <path clip-path=\"url(#pb57d2c8e85)\" d=\"M 91.383763 224.847767 \r\nL 91.383763 7.407767 \r\n\" style=\"fill:none;stroke:#c0c0c0;stroke-linecap:square;stroke-width:0.8;\"/>\r\n     </g>\r\n     <g id=\"line2d_8\">\r\n      <g>\r\n       <use style=\"stroke:#000000;stroke-width:0.8;\" x=\"91.383763\" xlink:href=\"#m661e43133a\" y=\"224.847767\"/>\r\n      </g>\r\n     </g>\r\n     <g id=\"text_4\">\r\n      <!-- 수 -->\r\n      <g transform=\"translate(93.997825 241.847767)rotate(-90)scale(0.1 -0.1)\">\r\n       <defs>\r\n        <path d=\"M 85.796875 46.78125 \r\nQ 74.21875 48.390625 63.71875 54.65625 \r\nQ 53.21875 60.9375 50 66.796875 \r\nQ 46.484375 60.796875 36.078125 54.546875 \r\nQ 25.6875 48.296875 14.40625 46.1875 \r\nL 9.90625 52.296875 \r\nQ 24.359375 53.90625 35.328125 61.59375 \r\nQ 46.296875 69.28125 46.296875 78.328125 \r\nL 46.296875 82.421875 \r\nL 53.609375 82.421875 \r\nL 53.609375 78.328125 \r\nQ 53.609375 69.234375 64.34375 61.6875 \r\nQ 75.09375 54.15625 90.09375 52.78125 \r\nz\r\nM 53.609375 28.71875 \r\nL 53.609375 -8.796875 \r\nL 46.296875 -8.796875 \r\nL 46.296875 28.71875 \r\nL 6.296875 28.71875 \r\nL 6.296875 35.203125 \r\nL 93.703125 35.203125 \r\nL 93.703125 28.71875 \r\nz\r\n\" id=\"MalgunGothic-49688\"/>\r\n       </defs>\r\n       <use xlink:href=\"#MalgunGothic-49688\"/>\r\n      </g>\r\n     </g>\r\n    </g>\r\n    <g id=\"xtick_5\">\r\n     <g id=\"line2d_9\">\r\n      <path clip-path=\"url(#pb57d2c8e85)\" d=\"M 101.879061 224.847767 \r\nL 101.879061 7.407767 \r\n\" style=\"fill:none;stroke:#c0c0c0;stroke-linecap:square;stroke-width:0.8;\"/>\r\n     </g>\r\n     <g id=\"line2d_10\">\r\n      <g>\r\n       <use style=\"stroke:#000000;stroke-width:0.8;\" x=\"101.879061\" xlink:href=\"#m661e43133a\" y=\"224.847767\"/>\r\n      </g>\r\n     </g>\r\n     <g id=\"text_5\">\r\n      <!-- 대통령 -->\r\n      <g transform=\"translate(104.493123 261.847767)rotate(-90)scale(0.1 -0.1)\">\r\n       <defs>\r\n        <path d=\"M 79.203125 -8.796875 \r\nL 79.203125 40.1875 \r\nL 67.09375 40.1875 \r\nL 67.09375 -5.90625 \r\nL 59.90625 -5.90625 \r\nL 59.90625 83.5 \r\nL 67.09375 83.5 \r\nL 67.09375 46.6875 \r\nL 79.203125 46.6875 \r\nL 79.203125 85.40625 \r\nL 86.53125 85.40625 \r\nL 86.53125 -8.796875 \r\nz\r\nM 52.984375 18.015625 \r\nQ 39.3125 16.609375 12.890625 16.609375 \r\nL 12.890625 77.09375 \r\nL 49.03125 77.09375 \r\nL 49.03125 70.609375 \r\nL 20.125 70.609375 \r\nL 20.125 23.09375 \r\nL 28.8125 23.09375 \r\nQ 43.609375 23.09375 52.484375 24.21875 \r\nz\r\n\" id=\"MalgunGothic-45824\"/>\r\n        <path d=\"M 6.296875 30.90625 \r\nL 6.296875 37.40625 \r\nL 46.390625 37.40625 \r\nL 46.390625 47.125 \r\nL 20.796875 47.125 \r\nL 20.796875 83.296875 \r\nL 79.5 83.296875 \r\nL 79.5 76.8125 \r\nL 28.078125 76.8125 \r\nL 28.078125 68.40625 \r\nL 77.875 68.40625 \r\nL 77.875 62.015625 \r\nL 28.078125 62.015625 \r\nL 28.078125 53.515625 \r\nL 80.71875 53.515625 \r\nL 80.71875 47.125 \r\nL 53.71875 47.125 \r\nL 53.71875 37.40625 \r\nL 93.703125 37.40625 \r\nL 93.703125 30.90625 \r\nz\r\nM 50 -8.6875 \r\nQ 35.015625 -8.6875 27.140625 -4.234375 \r\nQ 19.28125 0.203125 19.28125 8.109375 \r\nQ 19.28125 16.015625 27.140625 20.453125 \r\nQ 35.015625 24.90625 50 24.90625 \r\nQ 64.984375 24.90625 72.84375 20.453125 \r\nQ 80.71875 16.015625 80.71875 8.109375 \r\nQ 80.71875 0.203125 72.84375 -4.234375 \r\nQ 64.984375 -8.6875 50 -8.6875 \r\nz\r\nM 50 18.703125 \r\nQ 27 18.703125 27 8.109375 \r\nQ 27 -2.484375 50 -2.484375 \r\nQ 73 -2.484375 73 8.109375 \r\nQ 73 18.703125 50 18.703125 \r\nz\r\n\" id=\"MalgunGothic-53685\"/>\r\n        <path d=\"M 59.90625 46.921875 \r\nL 59.90625 53.21875 \r\nL 77.296875 53.21875 \r\nL 77.296875 63.921875 \r\nL 60.109375 63.921875 \r\nL 60.109375 70.3125 \r\nL 77.296875 70.3125 \r\nL 77.296875 85.40625 \r\nL 84.625 85.40625 \r\nL 84.625 28.609375 \r\nL 77.296875 28.609375 \r\nL 77.296875 46.921875 \r\nz\r\nM 58.296875 35.5 \r\nQ 50.734375 34.234375 43.921875 33.953125 \r\nQ 37.109375 33.6875 15.484375 33.6875 \r\nL 15.484375 61.625 \r\nL 46.484375 61.625 \r\nL 46.484375 74.421875 \r\nL 15.484375 74.421875 \r\nL 15.484375 80.8125 \r\nL 53.8125 80.8125 \r\nL 53.8125 55.21875 \r\nL 22.796875 55.21875 \r\nL 22.796875 40.1875 \r\nL 33.84375 40.1875 \r\nQ 48.78125 40.1875 57.328125 41.796875 \r\nz\r\nM 54.5 -7.515625 \r\nQ 39.546875 -7.515625 31.5625 -2.953125 \r\nQ 23.578125 1.609375 23.578125 9.421875 \r\nQ 23.578125 17.1875 31.515625 21.796875 \r\nQ 39.453125 26.421875 54.5 26.421875 \r\nQ 69.734375 26.421875 77.609375 21.828125 \r\nQ 85.5 17.234375 85.5 9.421875 \r\nQ 85.5 1.5625 77.5625 -2.96875 \r\nQ 69.625 -7.515625 54.5 -7.515625 \r\nz\r\nM 54.5 20.21875 \r\nQ 43.0625 20.21875 37.21875 17.3125 \r\nQ 31.390625 14.40625 31.390625 9.421875 \r\nQ 31.390625 4.34375 37.328125 1.515625 \r\nQ 43.265625 -1.3125 54.5 -1.3125 \r\nQ 65.671875 -1.3125 71.71875 1.46875 \r\nQ 77.78125 4.25 77.78125 9.421875 \r\nQ 77.78125 14.5 71.828125 17.359375 \r\nQ 65.875 20.21875 54.5 20.21875 \r\nz\r\n\" id=\"MalgunGothic-47161\"/>\r\n       </defs>\r\n       <use xlink:href=\"#MalgunGothic-45824\"/>\r\n       <use x=\"100\" xlink:href=\"#MalgunGothic-53685\"/>\r\n       <use x=\"200\" xlink:href=\"#MalgunGothic-47161\"/>\r\n      </g>\r\n     </g>\r\n    </g>\r\n    <g id=\"xtick_6\">\r\n     <g id=\"line2d_11\">\r\n      <path clip-path=\"url(#pb57d2c8e85)\" d=\"M 112.374358 224.847767 \r\nL 112.374358 7.407767 \r\n\" style=\"fill:none;stroke:#c0c0c0;stroke-linecap:square;stroke-width:0.8;\"/>\r\n     </g>\r\n     <g id=\"line2d_12\">\r\n      <g>\r\n       <use style=\"stroke:#000000;stroke-width:0.8;\" x=\"112.374358\" xlink:href=\"#m661e43133a\" y=\"224.847767\"/>\r\n      </g>\r\n     </g>\r\n     <g id=\"text_6\">\r\n      <!-- 국가 -->\r\n      <g transform=\"translate(114.988421 251.847767)rotate(-90)scale(0.1 -0.1)\">\r\n       <defs>\r\n        <path d=\"M 71.921875 -8.796875 \r\nL 71.921875 19.671875 \r\nL 19.390625 19.671875 \r\nL 19.390625 26.21875 \r\nL 45.515625 26.21875 \r\nL 45.515625 43.796875 \r\nL 6.296875 43.796875 \r\nL 6.296875 50.296875 \r\nL 71.578125 50.296875 \r\nQ 72.40625 58.25 72.40625 75.78125 \r\nL 20.90625 75.78125 \r\nL 20.90625 82.328125 \r\nL 79.6875 82.328125 \r\nQ 79.6875 66.015625 78.609375 50.296875 \r\nL 93.703125 50.296875 \r\nL 93.703125 43.796875 \r\nL 52.78125 43.796875 \r\nL 52.78125 26.21875 \r\nL 79.203125 26.21875 \r\nL 79.203125 -8.796875 \r\nz\r\n\" id=\"MalgunGothic-44397\"/>\r\n        <path d=\"M 79.59375 40.09375 \r\nL 79.59375 -8.796875 \r\nL 72.3125 -8.796875 \r\nL 72.3125 85.40625 \r\nL 79.59375 85.40625 \r\nL 79.59375 46.578125 \r\nL 96.484375 46.578125 \r\nL 96.484375 40.09375 \r\nz\r\nM 56.390625 77 \r\nQ 55.328125 36.921875 14.015625 13.484375 \r\nL 8.40625 19.390625 \r\nQ 23.1875 25.484375 34.90625 39.15625 \r\nQ 46.625 52.828125 48.578125 70.515625 \r\nL 12.40625 70.515625 \r\nL 12.40625 77 \r\nz\r\n\" id=\"MalgunGothic-44032\"/>\r\n       </defs>\r\n       <use xlink:href=\"#MalgunGothic-44397\"/>\r\n       <use x=\"100\" xlink:href=\"#MalgunGothic-44032\"/>\r\n      </g>\r\n     </g>\r\n    </g>\r\n    <g id=\"xtick_7\">\r\n     <g id=\"line2d_13\">\r\n      <path clip-path=\"url(#pb57d2c8e85)\" d=\"M 122.869656 224.847767 \r\nL 122.869656 7.407767 \r\n\" style=\"fill:none;stroke:#c0c0c0;stroke-linecap:square;stroke-width:0.8;\"/>\r\n     </g>\r\n     <g id=\"line2d_14\">\r\n      <g>\r\n       <use style=\"stroke:#000000;stroke-width:0.8;\" x=\"122.869656\" xlink:href=\"#m661e43133a\" y=\"224.847767\"/>\r\n      </g>\r\n     </g>\r\n     <g id=\"text_7\">\r\n      <!-- 국회 -->\r\n      <g transform=\"translate(125.483719 251.847767)rotate(-90)scale(0.1 -0.1)\">\r\n       <defs>\r\n        <path d=\"M 78.078125 -8.796875 \r\nL 78.078125 85.40625 \r\nL 85.40625 85.40625 \r\nL 85.40625 -8.796875 \r\nz\r\nM 35.109375 85.203125 \r\nL 42.390625 85.203125 \r\nL 42.390625 72.90625 \r\nL 66.796875 72.90625 \r\nL 66.796875 66.40625 \r\nL 10.5 66.40625 \r\nL 10.5 72.90625 \r\nL 35.109375 72.90625 \r\nz\r\nM 42.28125 27 \r\nL 42.28125 13.484375 \r\nL 59.96875 14.0625 \r\nQ 67.828125 14.3125 70.796875 14.59375 \r\nL 71.1875 8.296875 \r\nQ 63.484375 7.671875 41.671875 7.171875 \r\nQ 19.875 6.6875 8.015625 6.6875 \r\nL 7.328125 13.09375 \r\nQ 22.078125 13.09375 35.109375 13.375 \r\nL 35.109375 27 \r\nQ 25.4375 27.875 20.203125 32.53125 \r\nQ 14.984375 37.203125 14.984375 44 \r\nQ 14.984375 51.765625 21.375 56.5625 \r\nQ 27.78125 61.375 38.8125 61.375 \r\nQ 49.75 61.375 56.078125 56.59375 \r\nQ 62.40625 51.8125 62.40625 44.578125 \r\nQ 62.40625 37.5 57.125 32.6875 \r\nQ 51.859375 27.875 42.28125 27 \r\nz\r\nM 38.8125 55.21875 \r\nQ 31.296875 55.21875 26.84375 52.0625 \r\nQ 22.40625 48.921875 22.40625 44 \r\nQ 22.40625 39.15625 26.734375 36.125 \r\nQ 31.0625 33.109375 38.8125 33.109375 \r\nQ 46.53125 33.109375 50.796875 36.15625 \r\nQ 55.078125 39.203125 55.078125 44 \r\nQ 55.078125 48.875 50.703125 52.046875 \r\nQ 46.34375 55.21875 38.8125 55.21875 \r\nz\r\n\" id=\"MalgunGothic-54924\"/>\r\n       </defs>\r\n       <use xlink:href=\"#MalgunGothic-44397\"/>\r\n       <use x=\"100\" xlink:href=\"#MalgunGothic-54924\"/>\r\n      </g>\r\n     </g>\r\n    </g>\r\n    <g id=\"xtick_8\">\r\n     <g id=\"line2d_15\">\r\n      <path clip-path=\"url(#pb57d2c8e85)\" d=\"M 133.364954 224.847767 \r\nL 133.364954 7.407767 \r\n\" style=\"fill:none;stroke:#c0c0c0;stroke-linecap:square;stroke-width:0.8;\"/>\r\n     </g>\r\n     <g id=\"line2d_16\">\r\n      <g>\r\n       <use style=\"stroke:#000000;stroke-width:0.8;\" x=\"133.364954\" xlink:href=\"#m661e43133a\" y=\"224.847767\"/>\r\n      </g>\r\n     </g>\r\n     <g id=\"text_8\">\r\n      <!-- 국민 -->\r\n      <g transform=\"translate(135.979016 251.847767)rotate(-90)scale(0.1 -0.1)\">\r\n       <defs>\r\n        <path d=\"M 77.296875 16.609375 \r\nL 77.296875 85.40625 \r\nL 84.625 85.40625 \r\nL 84.625 16.609375 \r\nz\r\nM 16.3125 34.8125 \r\nL 16.3125 79.6875 \r\nL 59.8125 79.6875 \r\nL 59.8125 34.8125 \r\nz\r\nM 52.59375 73.1875 \r\nL 23.484375 73.1875 \r\nL 23.484375 41.21875 \r\nL 52.59375 41.21875 \r\nz\r\nM 26.609375 -5.171875 \r\nL 26.609375 24.90625 \r\nL 33.890625 24.90625 \r\nL 33.890625 1.421875 \r\nL 87.109375 1.421875 \r\nL 87.109375 -5.171875 \r\nz\r\n\" id=\"MalgunGothic-48124\"/>\r\n       </defs>\r\n       <use xlink:href=\"#MalgunGothic-44397\"/>\r\n       <use x=\"100\" xlink:href=\"#MalgunGothic-48124\"/>\r\n      </g>\r\n     </g>\r\n    </g>\r\n    <g id=\"xtick_9\">\r\n     <g id=\"line2d_17\">\r\n      <path clip-path=\"url(#pb57d2c8e85)\" d=\"M 143.860252 224.847767 \r\nL 143.860252 7.407767 \r\n\" style=\"fill:none;stroke:#c0c0c0;stroke-linecap:square;stroke-width:0.8;\"/>\r\n     </g>\r\n     <g id=\"line2d_18\">\r\n      <g>\r\n       <use style=\"stroke:#000000;stroke-width:0.8;\" x=\"143.860252\" xlink:href=\"#m661e43133a\" y=\"224.847767\"/>\r\n      </g>\r\n     </g>\r\n     <g id=\"text_9\">\r\n      <!-- 관 -->\r\n      <g transform=\"translate(146.474314 241.847767)rotate(-90)scale(0.1 -0.1)\">\r\n       <defs>\r\n        <path d=\"M 81.109375 44 \r\nL 81.109375 15.1875 \r\nL 73.78125 15.1875 \r\nL 73.78125 85.40625 \r\nL 81.109375 85.40625 \r\nL 81.109375 50.59375 \r\nL 95.21875 50.59375 \r\nL 95.21875 44 \r\nz\r\nM 60.5 79 \r\nQ 60.5 59.8125 58.984375 46.09375 \r\nL 51.90625 46.578125 \r\nQ 53.21875 59.71875 53.21875 72.515625 \r\nL 13.625 72.515625 \r\nL 13.625 79 \r\nz\r\nM 66.890625 32.328125 \r\nQ 60.296875 31.78125 39.078125 31.25 \r\nQ 17.875 30.71875 6.390625 30.71875 \r\nL 5.71875 37.203125 \r\nQ 18.21875 37.203125 28.90625 37.5 \r\nL 28.90625 58.40625 \r\nL 36.1875 58.40625 \r\nL 36.1875 37.59375 \r\nQ 54.390625 37.84375 66.5 38.625 \r\nz\r\nM 22.3125 -5.609375 \r\nL 22.3125 21.578125 \r\nL 29.59375 21.578125 \r\nL 29.59375 0.875 \r\nL 83.59375 0.875 \r\nL 83.59375 -5.609375 \r\nz\r\n\" id=\"MalgunGothic-44288\"/>\r\n       </defs>\r\n       <use xlink:href=\"#MalgunGothic-44288\"/>\r\n      </g>\r\n     </g>\r\n    </g>\r\n    <g id=\"xtick_10\">\r\n     <g id=\"line2d_19\">\r\n      <path clip-path=\"url(#pb57d2c8e85)\" d=\"M 154.35555 224.847767 \r\nL 154.35555 7.407767 \r\n\" style=\"fill:none;stroke:#c0c0c0;stroke-linecap:square;stroke-width:0.8;\"/>\r\n     </g>\r\n     <g id=\"line2d_20\">\r\n      <g>\r\n       <use style=\"stroke:#000000;stroke-width:0.8;\" x=\"154.35555\" xlink:href=\"#m661e43133a\" y=\"224.847767\"/>\r\n      </g>\r\n     </g>\r\n     <g id=\"text_10\">\r\n      <!-- 때 -->\r\n      <g transform=\"translate(156.969612 241.847767)rotate(-90)scale(0.1 -0.1)\">\r\n       <defs>\r\n        <path d=\"M 80.078125 -8.796875 \r\nL 80.078125 40.921875 \r\nL 69.921875 40.921875 \r\nL 69.921875 -5.90625 \r\nL 62.59375 -5.90625 \r\nL 62.59375 83.5 \r\nL 69.921875 83.5 \r\nL 69.921875 47.3125 \r\nL 80.078125 47.3125 \r\nL 80.078125 85.40625 \r\nL 87.40625 85.40625 \r\nL 87.40625 -8.796875 \r\nz\r\nM 36.71875 16.609375 \r\nL 36.71875 79.109375 \r\nL 56 79.109375 \r\nL 56 72.703125 \r\nL 43.796875 72.703125 \r\nL 43.796875 23 \r\nQ 53.421875 23 58.40625 24.21875 \r\nL 59.28125 18.015625 \r\nQ 53.375 16.609375 36.71875 16.609375 \r\nz\r\nM 11.53125 16.609375 \r\nL 11.53125 79.109375 \r\nL 31.203125 79.109375 \r\nL 31.203125 72.703125 \r\nL 18.703125 72.703125 \r\nL 18.703125 23 \r\nQ 28.078125 23 33.203125 24.21875 \r\nL 33.890625 18.015625 \r\nQ 27.984375 16.609375 11.53125 16.609375 \r\nz\r\n\" id=\"MalgunGothic-46412\"/>\r\n       </defs>\r\n       <use xlink:href=\"#MalgunGothic-46412\"/>\r\n      </g>\r\n     </g>\r\n    </g>\r\n    <g id=\"xtick_11\">\r\n     <g id=\"line2d_21\">\r\n      <path clip-path=\"url(#pb57d2c8e85)\" d=\"M 164.850847 224.847767 \r\nL 164.850847 7.407767 \r\n\" style=\"fill:none;stroke:#c0c0c0;stroke-linecap:square;stroke-width:0.8;\"/>\r\n     </g>\r\n     <g id=\"line2d_22\">\r\n      <g>\r\n       <use style=\"stroke:#000000;stroke-width:0.8;\" x=\"164.850847\" xlink:href=\"#m661e43133a\" y=\"224.847767\"/>\r\n      </g>\r\n     </g>\r\n     <g id=\"text_11\">\r\n      <!-- 헌법 -->\r\n      <g transform=\"translate(167.46491 251.847767)rotate(-90)scale(0.1 -0.1)\">\r\n       <defs>\r\n        <path d=\"M 77.296875 15.375 \r\nL 77.296875 44.1875 \r\nL 61.1875 44.1875 \r\nL 61.1875 50.6875 \r\nL 77.296875 50.6875 \r\nL 77.296875 85.40625 \r\nL 84.625 85.40625 \r\nL 84.625 15.375 \r\nz\r\nM 7.71875 65.828125 \r\nL 7.71875 72.3125 \r\nL 31.6875 72.3125 \r\nL 31.6875 84.71875 \r\nL 38.921875 84.71875 \r\nL 38.921875 72.3125 \r\nL 62.890625 72.3125 \r\nL 62.890625 65.828125 \r\nz\r\nM 35.203125 27.09375 \r\nQ 24.65625 27.09375 18.578125 32.046875 \r\nQ 12.5 37.015625 12.5 44.09375 \r\nQ 12.5 51.171875 18.625 56.078125 \r\nQ 24.75 60.984375 35.296875 60.984375 \r\nQ 45.75 60.984375 51.875 56.078125 \r\nQ 58.015625 51.171875 58.015625 44.09375 \r\nQ 58.015625 37.015625 51.921875 32.046875 \r\nQ 45.84375 27.09375 35.203125 27.09375 \r\nz\r\nM 35.296875 54.78125 \r\nQ 28.171875 54.78125 24 51.734375 \r\nQ 19.828125 48.6875 19.828125 44.09375 \r\nQ 19.828125 39.453125 24.046875 36.375 \r\nQ 28.265625 33.296875 35.296875 33.296875 \r\nQ 42.390625 33.296875 46.53125 36.390625 \r\nQ 50.6875 39.5 50.6875 44.09375 \r\nQ 50.6875 48.640625 46.5625 51.703125 \r\nQ 42.4375 54.78125 35.296875 54.78125 \r\nz\r\nM 26.125 -6.203125 \r\nL 26.125 19.578125 \r\nL 33.296875 19.578125 \r\nL 33.296875 0.203125 \r\nL 87.109375 0.203125 \r\nL 87.109375 -6.203125 \r\nz\r\n\" id=\"MalgunGothic-54732\"/>\r\n       </defs>\r\n       <use xlink:href=\"#MalgunGothic-54732\"/>\r\n       <use x=\"100\" xlink:href=\"#MalgunGothic-48277\"/>\r\n      </g>\r\n     </g>\r\n    </g>\r\n    <g id=\"xtick_12\">\r\n     <g id=\"line2d_23\">\r\n      <path clip-path=\"url(#pb57d2c8e85)\" d=\"M 175.346145 224.847767 \r\nL 175.346145 7.407767 \r\n\" style=\"fill:none;stroke:#c0c0c0;stroke-linecap:square;stroke-width:0.8;\"/>\r\n     </g>\r\n     <g id=\"line2d_24\">\r\n      <g>\r\n       <use style=\"stroke:#000000;stroke-width:0.8;\" x=\"175.346145\" xlink:href=\"#m661e43133a\" y=\"224.847767\"/>\r\n      </g>\r\n     </g>\r\n     <g id=\"text_12\">\r\n      <!-- 그 -->\r\n      <g transform=\"translate(177.960208 241.847767)rotate(-90)scale(0.1 -0.1)\">\r\n       <defs>\r\n        <path d=\"M 6.296875 9.71875 \r\nL 6.296875 16.21875 \r\nL 69.28125 16.21875 \r\nQ 71.296875 30.953125 71.296875 47.703125 \r\nL 71.296875 70.015625 \r\nL 19.578125 70.015625 \r\nL 19.578125 76.515625 \r\nL 78.609375 76.515625 \r\nL 78.609375 50.59375 \r\nQ 78.609375 36.28125 76.421875 16.21875 \r\nL 93.703125 16.21875 \r\nL 93.703125 9.71875 \r\nz\r\n\" id=\"MalgunGothic-44536\"/>\r\n       </defs>\r\n       <use xlink:href=\"#MalgunGothic-44536\"/>\r\n      </g>\r\n     </g>\r\n    </g>\r\n    <g id=\"xtick_13\">\r\n     <g id=\"line2d_25\">\r\n      <path clip-path=\"url(#pb57d2c8e85)\" d=\"M 185.841443 224.847767 \r\nL 185.841443 7.407767 \r\n\" style=\"fill:none;stroke:#c0c0c0;stroke-linecap:square;stroke-width:0.8;\"/>\r\n     </g>\r\n     <g id=\"line2d_26\">\r\n      <g>\r\n       <use style=\"stroke:#000000;stroke-width:0.8;\" x=\"185.841443\" xlink:href=\"#m661e43133a\" y=\"224.847767\"/>\r\n      </g>\r\n     </g>\r\n     <g id=\"text_13\">\r\n      <!-- 이 -->\r\n      <g transform=\"translate(188.455505 241.847767)rotate(-90)scale(0.1 -0.1)\">\r\n       <defs>\r\n        <path d=\"M 77.296875 -8.796875 \r\nL 77.296875 85.40625 \r\nL 84.625 85.40625 \r\nL 84.625 -8.796875 \r\nz\r\nM 35.6875 14.984375 \r\nQ 24.953125 14.984375 18.328125 23.65625 \r\nQ 11.71875 32.328125 11.71875 47.125 \r\nQ 11.71875 62.109375 18.265625 70.65625 \r\nQ 24.8125 79.203125 35.6875 79.203125 \r\nQ 46.53125 79.203125 53.171875 70.65625 \r\nQ 59.8125 62.109375 59.8125 47.125 \r\nQ 59.8125 32.234375 53.140625 23.609375 \r\nQ 46.484375 14.984375 35.6875 14.984375 \r\nz\r\nM 35.6875 72.703125 \r\nQ 28.171875 72.703125 23.484375 65.6875 \r\nQ 18.796875 58.6875 18.796875 47.125 \r\nQ 18.796875 35.59375 23.53125 28.53125 \r\nQ 28.265625 21.484375 35.6875 21.484375 \r\nQ 43.0625 21.484375 47.828125 28.5625 \r\nQ 52.59375 35.640625 52.59375 47.125 \r\nQ 52.59375 58.734375 47.921875 65.71875 \r\nQ 43.265625 72.703125 35.6875 72.703125 \r\nz\r\n\" id=\"MalgunGothic-51060\"/>\r\n       </defs>\r\n       <use xlink:href=\"#MalgunGothic-51060\"/>\r\n      </g>\r\n     </g>\r\n    </g>\r\n    <g id=\"xtick_14\">\r\n     <g id=\"line2d_27\">\r\n      <path clip-path=\"url(#pb57d2c8e85)\" d=\"M 196.336741 224.847767 \r\nL 196.336741 7.407767 \r\n\" style=\"fill:none;stroke:#c0c0c0;stroke-linecap:square;stroke-width:0.8;\"/>\r\n     </g>\r\n     <g id=\"line2d_28\">\r\n      <g>\r\n       <use style=\"stroke:#000000;stroke-width:0.8;\" x=\"196.336741\" xlink:href=\"#m661e43133a\" y=\"224.847767\"/>\r\n      </g>\r\n     </g>\r\n     <g id=\"text_14\">\r\n      <!-- 모든 -->\r\n      <g transform=\"translate(198.950803 251.847767)rotate(-90)scale(0.1 -0.1)\">\r\n       <defs>\r\n        <path d=\"M 79.109375 76.609375 \r\nL 79.109375 33.984375 \r\nL 53.71875 33.984375 \r\nL 53.71875 12.015625 \r\nL 93.703125 12.015625 \r\nL 93.703125 5.421875 \r\nL 6.296875 5.421875 \r\nL 6.296875 12.015625 \r\nL 46.296875 12.015625 \r\nL 46.296875 33.984375 \r\nL 20.796875 33.984375 \r\nL 20.796875 76.609375 \r\nz\r\nM 71.78125 40.625 \r\nL 71.78125 70.015625 \r\nL 28.21875 70.015625 \r\nL 28.21875 40.625 \r\nz\r\n\" id=\"MalgunGothic-47784\"/>\r\n        <path d=\"M 21 48.390625 \r\nL 21 81.6875 \r\nL 79 81.6875 \r\nL 79 75.203125 \r\nL 28.328125 75.203125 \r\nL 28.328125 54.984375 \r\nL 79.984375 54.984375 \r\nL 79.984375 48.390625 \r\nz\r\nM 6.296875 29.78125 \r\nL 6.296875 36.28125 \r\nL 93.703125 36.28125 \r\nL 93.703125 29.78125 \r\nz\r\nM 20.609375 -5.609375 \r\nL 20.609375 21.09375 \r\nL 27.875 21.09375 \r\nL 27.875 0.875 \r\nL 81.296875 0.875 \r\nL 81.296875 -5.609375 \r\nz\r\n\" id=\"MalgunGothic-46304\"/>\r\n       </defs>\r\n       <use xlink:href=\"#MalgunGothic-47784\"/>\r\n       <use x=\"100\" xlink:href=\"#MalgunGothic-46304\"/>\r\n      </g>\r\n     </g>\r\n    </g>\r\n    <g id=\"xtick_15\">\r\n     <g id=\"line2d_29\">\r\n      <path clip-path=\"url(#pb57d2c8e85)\" d=\"M 206.832039 224.847767 \r\nL 206.832039 7.407767 \r\n\" style=\"fill:none;stroke:#c0c0c0;stroke-linecap:square;stroke-width:0.8;\"/>\r\n     </g>\r\n     <g id=\"line2d_30\">\r\n      <g>\r\n       <use style=\"stroke:#000000;stroke-width:0.8;\" x=\"206.832039\" xlink:href=\"#m661e43133a\" y=\"224.847767\"/>\r\n      </g>\r\n     </g>\r\n     <g id=\"text_15\">\r\n      <!-- 바 -->\r\n      <g transform=\"translate(209.446101 241.847767)rotate(-90)scale(0.1 -0.1)\">\r\n       <defs>\r\n        <path d=\"M 79.59375 41.109375 \r\nL 79.59375 -8.796875 \r\nL 72.3125 -8.796875 \r\nL 72.3125 85.40625 \r\nL 79.59375 85.40625 \r\nL 79.59375 47.609375 \r\nL 95.90625 47.609375 \r\nL 95.90625 41.109375 \r\nz\r\nM 12.3125 16.890625 \r\nL 12.3125 78.328125 \r\nL 19.484375 78.328125 \r\nL 19.484375 53.125 \r\nL 50.09375 53.125 \r\nL 50.09375 78.328125 \r\nL 57.328125 78.328125 \r\nL 57.328125 16.890625 \r\nz\r\nM 50.09375 46.6875 \r\nL 19.484375 46.6875 \r\nL 19.484375 23.390625 \r\nL 50.09375 23.390625 \r\nz\r\n\" id=\"MalgunGothic-48148\"/>\r\n       </defs>\r\n       <use xlink:href=\"#MalgunGothic-48148\"/>\r\n      </g>\r\n     </g>\r\n    </g>\r\n    <g id=\"xtick_16\">\r\n     <g id=\"line2d_31\">\r\n      <path clip-path=\"url(#pb57d2c8e85)\" d=\"M 217.327336 224.847767 \r\nL 217.327336 7.407767 \r\n\" style=\"fill:none;stroke:#c0c0c0;stroke-linecap:square;stroke-width:0.8;\"/>\r\n     </g>\r\n     <g id=\"line2d_32\">\r\n      <g>\r\n       <use style=\"stroke:#000000;stroke-width:0.8;\" x=\"217.327336\" xlink:href=\"#m661e43133a\" y=\"224.847767\"/>\r\n      </g>\r\n     </g>\r\n     <g id=\"text_16\">\r\n      <!-- 위 -->\r\n      <g transform=\"translate(219.941399 241.847767)rotate(-90)scale(0.1 -0.1)\">\r\n       <defs>\r\n        <path d=\"M 78.078125 -8.796875 \r\nL 78.078125 85.40625 \r\nL 85.40625 85.40625 \r\nL 85.40625 -8.796875 \r\nz\r\nM 38.921875 43.5 \r\nQ 28.125 43.5 21.5 49.0625 \r\nQ 14.890625 54.640625 14.890625 63.09375 \r\nQ 14.890625 71.578125 21.5 77.1875 \r\nQ 28.125 82.8125 38.921875 82.8125 \r\nQ 49.65625 82.8125 56.21875 77.21875 \r\nQ 62.796875 71.625 62.796875 63.09375 \r\nQ 62.796875 54.59375 56.25 49.046875 \r\nQ 49.703125 43.5 38.921875 43.5 \r\nz\r\nM 38.921875 76.515625 \r\nQ 31.34375 76.515625 26.78125 72.796875 \r\nQ 22.21875 69.09375 22.21875 63.09375 \r\nQ 22.21875 57.078125 26.78125 53.4375 \r\nQ 31.34375 49.8125 38.921875 49.8125 \r\nQ 46.53125 49.8125 51.015625 53.46875 \r\nQ 55.515625 57.125 55.515625 63.09375 \r\nQ 55.515625 69.046875 51 72.78125 \r\nQ 46.484375 76.515625 38.921875 76.515625 \r\nz\r\nM 35.890625 -6.109375 \r\nL 35.890625 28.515625 \r\nQ 14.109375 28.125 7.8125 28.125 \r\nL 7.078125 34.515625 \r\nQ 48.25 34.515625 71.921875 35.890625 \r\nL 72.3125 29.59375 \r\nQ 65.671875 29.15625 43.21875 28.609375 \r\nL 43.21875 -6.109375 \r\nz\r\n\" id=\"MalgunGothic-50948\"/>\r\n       </defs>\r\n       <use xlink:href=\"#MalgunGothic-50948\"/>\r\n      </g>\r\n     </g>\r\n    </g>\r\n    <g id=\"xtick_17\">\r\n     <g id=\"line2d_33\">\r\n      <path clip-path=\"url(#pb57d2c8e85)\" d=\"M 227.822634 224.847767 \r\nL 227.822634 7.407767 \r\n\" style=\"fill:none;stroke:#c0c0c0;stroke-linecap:square;stroke-width:0.8;\"/>\r\n     </g>\r\n     <g id=\"line2d_34\">\r\n      <g>\r\n       <use style=\"stroke:#000000;stroke-width:0.8;\" x=\"227.822634\" xlink:href=\"#m661e43133a\" y=\"224.847767\"/>\r\n      </g>\r\n     </g>\r\n     <g id=\"text_17\">\r\n      <!-- 기타 -->\r\n      <g transform=\"translate(230.436697 251.847767)rotate(-90)scale(0.1 -0.1)\">\r\n       <defs>\r\n        <path d=\"M 76.3125 -8.796875 \r\nL 76.3125 85.40625 \r\nL 83.59375 85.40625 \r\nL 83.59375 -8.796875 \r\nz\r\nM 57.421875 76.703125 \r\nQ 57.078125 57.125 46.1875 40.796875 \r\nQ 35.296875 24.46875 14.984375 13.1875 \r\nL 9.421875 19.09375 \r\nQ 24.359375 25.296875 35.828125 38.71875 \r\nQ 47.3125 52.15625 49.609375 70.21875 \r\nL 13.28125 70.21875 \r\nL 13.28125 76.703125 \r\nz\r\n\" id=\"MalgunGothic-44592\"/>\r\n        <path d=\"M 79.59375 42 \r\nL 79.59375 -8.796875 \r\nL 72.3125 -8.796875 \r\nL 72.3125 85.40625 \r\nL 79.59375 85.40625 \r\nL 79.59375 48.578125 \r\nL 95.515625 48.578125 \r\nL 95.515625 42 \r\nz\r\nM 20.40625 44.1875 \r\nL 20.40625 22.90625 \r\nL 24.859375 22.90625 \r\nQ 53.953125 22.90625 62.703125 24.21875 \r\nL 63.28125 17.921875 \r\nQ 55.375 17 46.140625 16.75 \r\nQ 36.921875 16.5 13.09375 16.5 \r\nL 13.09375 77.09375 \r\nL 57.078125 77.09375 \r\nL 57.078125 70.609375 \r\nL 20.40625 70.609375 \r\nL 20.40625 50.59375 \r\nL 54.59375 50.59375 \r\nL 54.59375 44.1875 \r\nz\r\n\" id=\"MalgunGothic-53440\"/>\r\n       </defs>\r\n       <use xlink:href=\"#MalgunGothic-44592\"/>\r\n       <use x=\"100\" xlink:href=\"#MalgunGothic-53440\"/>\r\n      </g>\r\n     </g>\r\n    </g>\r\n    <g id=\"xtick_18\">\r\n     <g id=\"line2d_35\">\r\n      <path clip-path=\"url(#pb57d2c8e85)\" d=\"M 238.317932 224.847767 \r\nL 238.317932 7.407767 \r\n\" style=\"fill:none;stroke:#c0c0c0;stroke-linecap:square;stroke-width:0.8;\"/>\r\n     </g>\r\n     <g id=\"line2d_36\">\r\n      <g>\r\n       <use style=\"stroke:#000000;stroke-width:0.8;\" x=\"238.317932\" xlink:href=\"#m661e43133a\" y=\"224.847767\"/>\r\n      </g>\r\n     </g>\r\n     <g id=\"text_18\">\r\n      <!-- 및 -->\r\n      <g transform=\"translate(240.931995 241.847767)rotate(-90)scale(0.1 -0.1)\">\r\n       <defs>\r\n        <path d=\"M 77.390625 33.015625 \r\nL 77.390625 85.40625 \r\nL 84.71875 85.40625 \r\nL 84.71875 33.015625 \r\nz\r\nM 16.21875 42.09375 \r\nL 16.21875 81.984375 \r\nL 59.8125 81.984375 \r\nL 59.8125 42.09375 \r\nz\r\nM 52.59375 75.484375 \r\nL 23.390625 75.484375 \r\nL 23.390625 48.484375 \r\nL 52.59375 48.484375 \r\nz\r\nM 88.28125 -6.6875 \r\nQ 78.71875 -5.328125 69.015625 0.671875 \r\nQ 59.328125 6.6875 55.421875 12.984375 \r\nQ 50.921875 6.390625 41.578125 0.75 \r\nQ 32.234375 -4.890625 22.90625 -6.6875 \r\nL 18.3125 -0.78125 \r\nQ 30.28125 0.921875 39.59375 7.09375 \r\nQ 48.921875 13.28125 50.984375 20.515625 \r\nL 23 20.515625 \r\nL 23 26.90625 \r\nL 51.703125 26.90625 \r\nL 51.703125 37.015625 \r\nL 58.984375 37.015625 \r\nL 58.984375 26.90625 \r\nL 87.703125 26.90625 \r\nL 87.703125 20.515625 \r\nL 59.71875 20.515625 \r\nQ 61.328125 13.71875 71.046875 7 \r\nQ 80.765625 0.296875 92.484375 -0.78125 \r\nz\r\n\" id=\"MalgunGothic-48143\"/>\r\n       </defs>\r\n       <use xlink:href=\"#MalgunGothic-48143\"/>\r\n      </g>\r\n     </g>\r\n    </g>\r\n    <g id=\"xtick_19\">\r\n     <g id=\"line2d_37\">\r\n      <path clip-path=\"url(#pb57d2c8e85)\" d=\"M 248.81323 224.847767 \r\nL 248.81323 7.407767 \r\n\" style=\"fill:none;stroke:#c0c0c0;stroke-linecap:square;stroke-width:0.8;\"/>\r\n     </g>\r\n     <g id=\"line2d_38\">\r\n      <g>\r\n       <use style=\"stroke:#000000;stroke-width:0.8;\" x=\"248.81323\" xlink:href=\"#m661e43133a\" y=\"224.847767\"/>\r\n      </g>\r\n     </g>\r\n     <g id=\"text_19\">\r\n      <!-- 사항 -->\r\n      <g transform=\"translate(251.427292 251.847767)rotate(-90)scale(0.1 -0.1)\">\r\n       <defs>\r\n        <path d=\"M 79.59375 40.625 \r\nL 79.59375 -8.796875 \r\nL 72.3125 -8.796875 \r\nL 72.3125 85.40625 \r\nL 79.59375 85.40625 \r\nL 79.59375 47.125 \r\nL 95.90625 47.125 \r\nL 95.90625 40.625 \r\nz\r\nM 58.5 15.09375 \r\nQ 50.53125 21.1875 43.75 30.25 \r\nQ 36.96875 39.3125 34.90625 46.09375 \r\nQ 32.71875 38.625 26.125 29.421875 \r\nQ 19.53125 20.21875 11.53125 13.921875 \r\nL 5.90625 18.796875 \r\nQ 17.4375 26.609375 24.3125 38.734375 \r\nQ 31.203125 50.875 31.203125 63.484375 \r\nL 31.203125 78.90625 \r\nL 38.484375 78.90625 \r\nL 38.484375 63.8125 \r\nQ 38.484375 51.515625 45.28125 39.890625 \r\nQ 52.09375 28.265625 63.625 20.796875 \r\nz\r\n\" id=\"MalgunGothic-49324\"/>\r\n        <path d=\"M 6.984375 67.28125 \r\nL 6.984375 73.6875 \r\nL 31.203125 73.6875 \r\nL 31.203125 85.890625 \r\nL 38.484375 85.890625 \r\nL 38.484375 73.6875 \r\nL 62.703125 73.6875 \r\nL 62.703125 67.28125 \r\nz\r\nM 80.078125 48.78125 \r\nL 80.078125 28.328125 \r\nL 72.796875 28.328125 \r\nL 72.796875 85.40625 \r\nL 80.078125 85.40625 \r\nL 80.078125 55.421875 \r\nL 93.3125 55.421875 \r\nL 93.3125 48.78125 \r\nz\r\nM 35.015625 30.71875 \r\nQ 24.125 30.71875 17.96875 35.1875 \r\nQ 11.8125 39.65625 11.8125 46.78125 \r\nQ 11.8125 53.953125 18.03125 58.46875 \r\nQ 24.265625 62.984375 35.109375 62.984375 \r\nQ 45.953125 62.984375 52.171875 58.46875 \r\nQ 58.40625 53.953125 58.40625 46.78125 \r\nQ 58.40625 39.75 52.171875 35.234375 \r\nQ 45.953125 30.71875 35.015625 30.71875 \r\nz\r\nM 35.109375 56.78125 \r\nQ 27.546875 56.78125 23.265625 54 \r\nQ 19 51.21875 19 46.78125 \r\nQ 19 42.390625 23.234375 39.65625 \r\nQ 27.484375 36.921875 35.109375 36.921875 \r\nQ 42.71875 36.921875 46.96875 39.65625 \r\nQ 51.21875 42.390625 51.21875 46.78125 \r\nQ 51.21875 51.21875 46.9375 54 \r\nQ 42.671875 56.78125 35.109375 56.78125 \r\nz\r\nM 50.984375 -8.109375 \r\nQ 36.078125 -8.109375 28.1875 -3.59375 \r\nQ 20.3125 0.921875 20.3125 8.796875 \r\nQ 20.3125 16.65625 28.171875 21.125 \r\nQ 36.03125 25.59375 50.984375 25.59375 \r\nQ 65.96875 25.59375 73.828125 21.140625 \r\nQ 81.6875 16.703125 81.6875 8.796875 \r\nQ 81.6875 0.875 73.78125 -3.609375 \r\nQ 65.875 -8.109375 50.984375 -8.109375 \r\nz\r\nM 50.984375 19.390625 \r\nQ 28.078125 19.390625 28.078125 8.796875 \r\nQ 28.078125 -1.90625 50.984375 -1.90625 \r\nQ 74.03125 -1.90625 74.03125 8.796875 \r\nQ 74.03125 19.390625 50.984375 19.390625 \r\nz\r\n\" id=\"MalgunGothic-54637\"/>\r\n       </defs>\r\n       <use xlink:href=\"#MalgunGothic-49324\"/>\r\n       <use x=\"100\" xlink:href=\"#MalgunGothic-54637\"/>\r\n      </g>\r\n     </g>\r\n    </g>\r\n    <g id=\"xtick_20\">\r\n     <g id=\"line2d_39\">\r\n      <path clip-path=\"url(#pb57d2c8e85)\" d=\"M 259.308528 224.847767 \r\nL 259.308528 7.407767 \r\n\" style=\"fill:none;stroke:#c0c0c0;stroke-linecap:square;stroke-width:0.8;\"/>\r\n     </g>\r\n     <g id=\"line2d_40\">\r\n      <g>\r\n       <use style=\"stroke:#000000;stroke-width:0.8;\" x=\"259.308528\" xlink:href=\"#m661e43133a\" y=\"224.847767\"/>\r\n      </g>\r\n     </g>\r\n     <g id=\"text_20\">\r\n      <!-- 권리 -->\r\n      <g transform=\"translate(261.92259 251.847767)rotate(-90)scale(0.1 -0.1)\">\r\n       <defs>\r\n        <path d=\"M 77.78125 12.203125 \r\nL 77.78125 27.484375 \r\nL 57.421875 27.484375 \r\nL 57.421875 33.796875 \r\nL 77.78125 33.796875 \r\nL 77.78125 85.40625 \r\nL 85.203125 85.40625 \r\nL 85.203125 12.203125 \r\nz\r\nM 70.609375 43.609375 \r\nQ 64.75 43.171875 44.1875 42.484375 \r\nL 44.1875 17.09375 \r\nL 37.015625 17.09375 \r\nL 37.015625 42.1875 \r\nQ 18.5625 41.5 9.625 41.5 \r\nL 8.59375 48.390625 \r\nQ 33.890625 48.390625 54.109375 49.125 \r\nQ 54.6875 58.5 54.6875 74.125 \r\nL 17.390625 74.125 \r\nL 17.390625 80.609375 \r\nL 62.015625 80.609375 \r\nQ 62.015625 60.890625 61.1875 49.421875 \r\nQ 66.9375 49.609375 70.21875 49.90625 \r\nz\r\nM 23.296875 -6 \r\nL 23.296875 22.21875 \r\nL 30.609375 22.21875 \r\nL 30.609375 0.484375 \r\nL 87.5 0.484375 \r\nL 87.5 -6 \r\nz\r\n\" id=\"MalgunGothic-44428\"/>\r\n        <path d=\"M 76.3125 -8.796875 \r\nL 76.3125 85.40625 \r\nL 83.59375 85.40625 \r\nL 83.59375 -8.796875 \r\nz\r\nM 13.375 11.53125 \r\nL 13.375 48.875 \r\nL 49.21875 48.875 \r\nL 49.21875 70.609375 \r\nL 13.375 70.609375 \r\nL 13.375 77.09375 \r\nL 56.5 77.09375 \r\nL 56.5 42.578125 \r\nL 20.703125 42.578125 \r\nL 20.703125 18.015625 \r\nQ 56.203125 18.015625 65.578125 20.015625 \r\nL 66.40625 13.71875 \r\nQ 54.6875 11.53125 13.375 11.53125 \r\nz\r\n\" id=\"MalgunGothic-47532\"/>\r\n       </defs>\r\n       <use xlink:href=\"#MalgunGothic-44428\"/>\r\n       <use x=\"100\" xlink:href=\"#MalgunGothic-47532\"/>\r\n      </g>\r\n     </g>\r\n    </g>\r\n    <g id=\"xtick_21\">\r\n     <g id=\"line2d_41\">\r\n      <path clip-path=\"url(#pb57d2c8e85)\" d=\"M 269.803825 224.847767 \r\nL 269.803825 7.407767 \r\n\" style=\"fill:none;stroke:#c0c0c0;stroke-linecap:square;stroke-width:0.8;\"/>\r\n     </g>\r\n     <g id=\"line2d_42\">\r\n      <g>\r\n       <use style=\"stroke:#000000;stroke-width:0.8;\" x=\"269.803825\" xlink:href=\"#m661e43133a\" y=\"224.847767\"/>\r\n      </g>\r\n     </g>\r\n     <g id=\"text_21\">\r\n      <!-- 안 -->\r\n      <g transform=\"translate(272.417888 241.847767)rotate(-90)scale(0.1 -0.1)\">\r\n       <defs>\r\n        <path d=\"M 80.171875 48.578125 \r\nL 80.171875 16.703125 \r\nL 72.90625 16.703125 \r\nL 72.90625 85.40625 \r\nL 80.171875 85.40625 \r\nL 80.171875 55.21875 \r\nL 94.390625 55.21875 \r\nL 94.390625 48.578125 \r\nz\r\nM 34.1875 34.1875 \r\nQ 23.734375 34.1875 16.71875 40.796875 \r\nQ 9.71875 47.40625 9.71875 57.90625 \r\nQ 9.71875 68.453125 16.671875 74.96875 \r\nQ 23.640625 81.5 34.1875 81.5 \r\nQ 44.78125 81.5 51.6875 74.953125 \r\nQ 58.59375 68.40625 58.59375 57.90625 \r\nQ 58.59375 47.46875 51.625 40.828125 \r\nQ 44.671875 34.1875 34.1875 34.1875 \r\nz\r\nM 34.1875 75.296875 \r\nQ 26.46875 75.296875 21.625 70.5625 \r\nQ 16.796875 65.828125 16.796875 57.90625 \r\nQ 16.796875 50 21.609375 45.234375 \r\nQ 26.421875 40.484375 34.1875 40.484375 \r\nQ 41.9375 40.484375 46.765625 45.234375 \r\nQ 51.609375 50 51.609375 57.90625 \r\nQ 51.609375 65.828125 46.765625 70.5625 \r\nQ 41.9375 75.296875 34.1875 75.296875 \r\nz\r\nM 21.578125 -5.609375 \r\nL 21.578125 25.296875 \r\nL 29 25.296875 \r\nL 29 0.875 \r\nL 83.109375 0.875 \r\nL 83.109375 -5.609375 \r\nz\r\n\" id=\"MalgunGothic-50504\"/>\r\n       </defs>\r\n       <use xlink:href=\"#MalgunGothic-50504\"/>\r\n      </g>\r\n     </g>\r\n    </g>\r\n    <g id=\"xtick_22\">\r\n     <g id=\"line2d_43\">\r\n      <path clip-path=\"url(#pb57d2c8e85)\" d=\"M 280.299123 224.847767 \r\nL 280.299123 7.407767 \r\n\" style=\"fill:none;stroke:#c0c0c0;stroke-linecap:square;stroke-width:0.8;\"/>\r\n     </g>\r\n     <g id=\"line2d_44\">\r\n      <g>\r\n       <use style=\"stroke:#000000;stroke-width:0.8;\" x=\"280.299123\" xlink:href=\"#m661e43133a\" y=\"224.847767\"/>\r\n      </g>\r\n     </g>\r\n     <g id=\"text_22\">\r\n      <!-- 의원 -->\r\n      <g transform=\"translate(282.913186 251.847767)rotate(-90)scale(0.1 -0.1)\">\r\n       <defs>\r\n        <path d=\"M 78.328125 -8.796875 \r\nL 78.328125 85.40625 \r\nL 85.59375 85.40625 \r\nL 85.59375 -8.796875 \r\nz\r\nM 38.28125 33.296875 \r\nQ 27.734375 33.296875 20.546875 39.6875 \r\nQ 13.375 46.09375 13.375 55.8125 \r\nQ 13.375 65.328125 20.5 71.765625 \r\nQ 27.640625 78.21875 38.28125 78.21875 \r\nQ 48.875 78.21875 56.03125 71.71875 \r\nQ 63.1875 65.234375 63.1875 55.8125 \r\nQ 63.1875 46.046875 56.046875 39.671875 \r\nQ 48.921875 33.296875 38.28125 33.296875 \r\nz\r\nM 38.28125 71.78125 \r\nQ 30.859375 71.78125 25.875 67.28125 \r\nQ 20.90625 62.796875 20.90625 55.8125 \r\nQ 20.90625 48.734375 26 44.265625 \r\nQ 31.109375 39.796875 38.28125 39.796875 \r\nQ 45.65625 39.796875 50.6875 44.265625 \r\nQ 55.71875 48.734375 55.71875 55.8125 \r\nQ 55.71875 62.890625 50.734375 67.328125 \r\nQ 45.75 71.78125 38.28125 71.78125 \r\nz\r\nM 7.171875 8.296875 \r\nL 6.5 14.59375 \r\nQ 19.09375 14.59375 41.671875 15.078125 \r\nQ 64.265625 15.578125 71.6875 16.21875 \r\nL 72.125 9.90625 \r\nQ 64.453125 9.28125 41.859375 8.78125 \r\nQ 19.28125 8.296875 7.171875 8.296875 \r\nz\r\n\" id=\"MalgunGothic-51032\"/>\r\n        <path d=\"M 77.78125 10.890625 \r\nL 77.78125 21 \r\nL 57.171875 21 \r\nL 57.171875 27.484375 \r\nL 77.78125 27.484375 \r\nL 77.78125 85.40625 \r\nL 85.203125 85.40625 \r\nL 85.203125 10.890625 \r\nz\r\nM 41.015625 47.796875 \r\nQ 30.71875 47.796875 24.1875 52.96875 \r\nQ 17.671875 58.15625 17.671875 65.828125 \r\nQ 17.671875 73.390625 24.140625 78.53125 \r\nQ 30.609375 83.6875 41.015625 83.6875 \r\nQ 51.375 83.6875 57.84375 78.578125 \r\nQ 64.3125 73.484375 64.3125 65.828125 \r\nQ 64.3125 58.109375 57.8125 52.953125 \r\nQ 51.3125 47.796875 41.015625 47.796875 \r\nz\r\nM 41.015625 77.484375 \r\nQ 33.796875 77.484375 29.390625 73.96875 \r\nQ 25 70.453125 25 65.828125 \r\nQ 25 61.078125 29.390625 57.53125 \r\nQ 33.796875 54 41.015625 54 \r\nQ 48.25 54 52.65625 57.53125 \r\nQ 57.078125 61.078125 57.078125 65.828125 \r\nQ 57.078125 70.453125 52.65625 73.96875 \r\nQ 48.25 77.484375 41.015625 77.484375 \r\nz\r\nM 71.1875 35.796875 \r\nQ 64.0625 35.296875 45.015625 34.515625 \r\nL 45.015625 14.203125 \r\nL 37.796875 14.203125 \r\nL 37.796875 34.1875 \r\nQ 18.890625 33.5 10.015625 33.5 \r\nL 8.984375 40.28125 \r\nQ 44.578125 40.28125 70.703125 42.09375 \r\nz\r\nM 23.578125 -6.296875 \r\nL 23.578125 21.921875 \r\nL 30.90625 21.921875 \r\nL 30.90625 0.203125 \r\nL 87.5 0.203125 \r\nL 87.5 -6.296875 \r\nz\r\n\" id=\"MalgunGothic-50896\"/>\r\n       </defs>\r\n       <use xlink:href=\"#MalgunGothic-51032\"/>\r\n       <use x=\"100\" xlink:href=\"#MalgunGothic-50896\"/>\r\n      </g>\r\n     </g>\r\n    </g>\r\n    <g id=\"xtick_23\">\r\n     <g id=\"line2d_45\">\r\n      <path clip-path=\"url(#pb57d2c8e85)\" d=\"M 290.794421 224.847767 \r\nL 290.794421 7.407767 \r\n\" style=\"fill:none;stroke:#c0c0c0;stroke-linecap:square;stroke-width:0.8;\"/>\r\n     </g>\r\n     <g id=\"line2d_46\">\r\n      <g>\r\n       <use style=\"stroke:#000000;stroke-width:0.8;\" x=\"290.794421\" xlink:href=\"#m661e43133a\" y=\"224.847767\"/>\r\n      </g>\r\n     </g>\r\n     <g id=\"text_23\">\r\n      <!-- 자유 -->\r\n      <g transform=\"translate(293.408484 251.847767)rotate(-90)scale(0.1 -0.1)\">\r\n       <defs>\r\n        <path d=\"M 79.59375 40.625 \r\nL 79.59375 -8.796875 \r\nL 72.3125 -8.796875 \r\nL 72.3125 85.40625 \r\nL 79.59375 85.40625 \r\nL 79.59375 47.125 \r\nL 95.90625 47.125 \r\nL 95.90625 40.625 \r\nz\r\nM 57.421875 14.203125 \r\nQ 50.4375 19.53125 43.875 28.3125 \r\nQ 37.3125 37.109375 35.109375 44.09375 \r\nQ 33.203125 37.40625 26.75 28.265625 \r\nQ 20.3125 19.140625 12.5 12.890625 \r\nL 6.890625 17.71875 \r\nQ 17.1875 24.515625 24.234375 36.9375 \r\nQ 31.296875 49.359375 31.296875 60.796875 \r\nL 31.296875 70.703125 \r\nL 10.40625 70.703125 \r\nL 10.40625 77.203125 \r\nL 58.984375 77.203125 \r\nL 58.984375 70.703125 \r\nL 38.484375 70.703125 \r\nL 38.484375 61.28125 \r\nQ 38.484375 49.8125 45.5625 38.03125 \r\nQ 52.640625 26.265625 62.5 19.671875 \r\nz\r\n\" id=\"MalgunGothic-51088\"/>\r\n        <path d=\"M 50 43.5 \r\nQ 35.59375 43.5 27.625 48.921875 \r\nQ 19.671875 54.34375 19.671875 63.71875 \r\nQ 19.671875 72.953125 27.734375 78.515625 \r\nQ 35.796875 84.078125 50 84.078125 \r\nQ 64.5 84.078125 72.5 78.515625 \r\nQ 80.515625 72.953125 80.515625 63.71875 \r\nQ 80.515625 54.4375 72.5 48.96875 \r\nQ 64.5 43.5 50 43.5 \r\nz\r\nM 50 77.78125 \r\nQ 39.265625 77.78125 33.28125 74 \r\nQ 27.296875 70.21875 27.296875 63.71875 \r\nQ 27.296875 57.328125 33.28125 53.515625 \r\nQ 39.265625 49.703125 50 49.703125 \r\nQ 60.75 49.703125 66.71875 53.515625 \r\nQ 72.703125 57.328125 72.703125 63.71875 \r\nQ 72.703125 70.21875 66.71875 74 \r\nQ 60.75 77.78125 50 77.78125 \r\nz\r\nM 29.890625 -8.6875 \r\nL 29.890625 26.125 \r\nL 6.296875 26.125 \r\nL 6.296875 32.71875 \r\nL 93.703125 32.71875 \r\nL 93.703125 26.125 \r\nL 70.125 26.125 \r\nL 70.125 -8.6875 \r\nL 62.796875 -8.6875 \r\nL 62.796875 26.125 \r\nL 37.203125 26.125 \r\nL 37.203125 -8.6875 \r\nz\r\n\" id=\"MalgunGothic-50976\"/>\r\n       </defs>\r\n       <use xlink:href=\"#MalgunGothic-51088\"/>\r\n       <use x=\"100\" xlink:href=\"#MalgunGothic-50976\"/>\r\n      </g>\r\n     </g>\r\n    </g>\r\n    <g id=\"xtick_24\">\r\n     <g id=\"line2d_47\">\r\n      <path clip-path=\"url(#pb57d2c8e85)\" d=\"M 301.289719 224.847767 \r\nL 301.289719 7.407767 \r\n\" style=\"fill:none;stroke:#c0c0c0;stroke-linecap:square;stroke-width:0.8;\"/>\r\n     </g>\r\n     <g id=\"line2d_48\">\r\n      <g>\r\n       <use style=\"stroke:#000000;stroke-width:0.8;\" x=\"301.289719\" xlink:href=\"#m661e43133a\" y=\"224.847767\"/>\r\n      </g>\r\n     </g>\r\n     <g id=\"text_24\">\r\n      <!-- 정부 -->\r\n      <g transform=\"translate(303.903781 251.847767)rotate(-90)scale(0.1 -0.1)\">\r\n       <defs>\r\n        <path d=\"M 20.40625 44.09375 \r\nL 20.40625 82.625 \r\nL 27.59375 82.625 \r\nL 27.59375 69.1875 \r\nL 72.40625 69.1875 \r\nL 72.40625 82.625 \r\nL 79.59375 82.625 \r\nL 79.59375 44.09375 \r\nz\r\nM 72.40625 62.796875 \r\nL 27.59375 62.796875 \r\nL 27.59375 50.484375 \r\nL 72.40625 50.484375 \r\nz\r\nM 53.609375 25.296875 \r\nL 53.609375 -8.796875 \r\nL 46.296875 -8.796875 \r\nL 46.296875 25.296875 \r\nL 6.296875 25.296875 \r\nL 6.296875 31.890625 \r\nL 93.703125 31.890625 \r\nL 93.703125 25.296875 \r\nz\r\n\" id=\"MalgunGothic-48512\"/>\r\n       </defs>\r\n       <use xlink:href=\"#MalgunGothic-51221\"/>\r\n       <use x=\"100\" xlink:href=\"#MalgunGothic-48512\"/>\r\n      </g>\r\n     </g>\r\n    </g>\r\n    <g id=\"xtick_25\">\r\n     <g id=\"line2d_49\">\r\n      <path clip-path=\"url(#pb57d2c8e85)\" d=\"M 311.785017 224.847767 \r\nL 311.785017 7.407767 \r\n\" style=\"fill:none;stroke:#c0c0c0;stroke-linecap:square;stroke-width:0.8;\"/>\r\n     </g>\r\n     <g id=\"line2d_50\">\r\n      <g>\r\n       <use style=\"stroke:#000000;stroke-width:0.8;\" x=\"311.785017\" xlink:href=\"#m661e43133a\" y=\"224.847767\"/>\r\n      </g>\r\n     </g>\r\n     <g id=\"text_25\">\r\n      <!-- 선거 -->\r\n      <g transform=\"translate(314.399079 251.847767)rotate(-90)scale(0.1 -0.1)\">\r\n       <defs>\r\n        <path d=\"M 76.21875 16.609375 \r\nL 76.21875 57.078125 \r\nL 54.203125 57.078125 \r\nL 54.203125 63.625 \r\nL 76.21875 63.625 \r\nL 76.21875 85.40625 \r\nL 83.5 85.40625 \r\nL 83.5 16.609375 \r\nz\r\nM 57.421875 32.328125 \r\nQ 50.4375 36.625 44.203125 43.375 \r\nQ 37.984375 50.140625 35.40625 55.71875 \r\nQ 32.671875 49.21875 25.96875 41.375 \r\nQ 19.28125 33.546875 12.796875 29.890625 \r\nL 7.515625 34.90625 \r\nQ 17.578125 39.984375 24.578125 49.96875 \r\nQ 31.59375 59.96875 31.59375 70.21875 \r\nL 31.59375 82.328125 \r\nL 38.71875 82.328125 \r\nL 38.71875 70.21875 \r\nQ 38.71875 60.84375 45.984375 51.34375 \r\nQ 53.265625 41.84375 62.3125 37.59375 \r\nz\r\nM 25.484375 -5.71875 \r\nL 25.484375 24.21875 \r\nL 32.8125 24.21875 \r\nL 32.8125 0.6875 \r\nL 85.984375 0.6875 \r\nL 85.984375 -5.71875 \r\nz\r\n\" id=\"MalgunGothic-49440\"/>\r\n        <path d=\"M 76.515625 -8.796875 \r\nL 76.515625 41.609375 \r\nL 53.421875 41.609375 \r\nL 53.421875 48.09375 \r\nL 76.515625 48.09375 \r\nL 76.515625 85.40625 \r\nL 83.796875 85.40625 \r\nL 83.796875 -8.796875 \r\nz\r\nM 55.421875 77 \r\nQ 54.390625 36.8125 12.984375 13.484375 \r\nL 7.515625 19.390625 \r\nQ 22.46875 25.59375 34.03125 39.3125 \r\nQ 45.609375 53.03125 47.609375 70.515625 \r\nL 11.375 70.515625 \r\nL 11.375 77 \r\nz\r\n\" id=\"MalgunGothic-44144\"/>\r\n       </defs>\r\n       <use xlink:href=\"#MalgunGothic-49440\"/>\r\n       <use x=\"100\" xlink:href=\"#MalgunGothic-44144\"/>\r\n      </g>\r\n     </g>\r\n    </g>\r\n    <g id=\"xtick_26\">\r\n     <g id=\"line2d_51\">\r\n      <path clip-path=\"url(#pb57d2c8e85)\" d=\"M 322.280314 224.847767 \r\nL 322.280314 7.407767 \r\n\" style=\"fill:none;stroke:#c0c0c0;stroke-linecap:square;stroke-width:0.8;\"/>\r\n     </g>\r\n     <g id=\"line2d_52\">\r\n      <g>\r\n       <use style=\"stroke:#000000;stroke-width:0.8;\" x=\"322.280314\" xlink:href=\"#m661e43133a\" y=\"224.847767\"/>\r\n      </g>\r\n     </g>\r\n     <g id=\"text_26\">\r\n      <!-- 임명 -->\r\n      <g transform=\"translate(324.894377 251.847767)rotate(-90)scale(0.1 -0.1)\">\r\n       <defs>\r\n        <path d=\"M 77.296875 33.40625 \r\nL 77.296875 85.40625 \r\nL 84.625 85.40625 \r\nL 84.625 33.40625 \r\nz\r\nM 37.59375 37.796875 \r\nQ 27.046875 37.796875 20.375 44.140625 \r\nQ 13.71875 50.484375 13.71875 60.203125 \r\nQ 13.71875 69.875 20.375 76.1875 \r\nQ 27.046875 82.515625 37.59375 82.515625 \r\nQ 48.140625 82.515625 54.875 76.234375 \r\nQ 61.625 69.96875 61.625 60.203125 \r\nQ 61.625 50.4375 54.90625 44.109375 \r\nQ 48.1875 37.796875 37.59375 37.796875 \r\nz\r\nM 37.59375 76.21875 \r\nQ 30.125 76.21875 25.5625 71.765625 \r\nQ 21 67.328125 21 60.203125 \r\nQ 21 52.984375 25.5625 48.53125 \r\nQ 30.125 44.09375 37.59375 44.09375 \r\nQ 45.171875 44.09375 49.734375 48.578125 \r\nQ 54.296875 53.078125 54.296875 60.203125 \r\nQ 54.296875 67.234375 49.734375 71.71875 \r\nQ 45.171875 76.21875 37.59375 76.21875 \r\nz\r\nM 26.609375 -6.203125 \r\nL 26.609375 28.21875 \r\nL 84.625 28.21875 \r\nL 84.625 -6.203125 \r\nz\r\nM 77.390625 21.78125 \r\nL 33.796875 21.78125 \r\nL 33.796875 0.203125 \r\nL 77.390625 0.203125 \r\nz\r\n\" id=\"MalgunGothic-51076\"/>\r\n        <path d=\"M 15.375 36.28125 \r\nL 15.375 81.109375 \r\nL 58.6875 81.109375 \r\nL 58.6875 71.6875 \r\nL 77.390625 71.6875 \r\nL 77.390625 85.40625 \r\nL 84.71875 85.40625 \r\nL 84.71875 27.875 \r\nL 77.390625 27.875 \r\nL 77.390625 45.515625 \r\nL 58.6875 45.515625 \r\nL 58.6875 36.28125 \r\nz\r\nM 51.515625 74.609375 \r\nL 22.703125 74.609375 \r\nL 22.703125 42.828125 \r\nL 51.515625 42.828125 \r\nz\r\nM 58.6875 51.8125 \r\nL 77.390625 51.8125 \r\nL 77.390625 65.375 \r\nL 58.6875 65.375 \r\nz\r\nM 54.6875 -7.90625 \r\nQ 39.9375 -7.90625 31.90625 -2.796875 \r\nQ 23.875 2.296875 23.875 10.40625 \r\nQ 23.875 18.5 31.90625 23.609375 \r\nQ 39.9375 28.71875 54.6875 28.71875 \r\nQ 69.4375 28.71875 77.46875 23.609375 \r\nQ 85.5 18.5 85.5 10.40625 \r\nQ 85.5 2.296875 77.46875 -2.796875 \r\nQ 69.4375 -7.90625 54.6875 -7.90625 \r\nz\r\nM 54.6875 22.515625 \r\nQ 43.453125 22.515625 37.5625 19.09375 \r\nQ 31.6875 15.671875 31.6875 10.40625 \r\nQ 31.6875 5.125 37.625 1.75 \r\nQ 43.5625 -1.609375 54.6875 -1.609375 \r\nQ 65.765625 -1.609375 71.71875 1.734375 \r\nQ 77.6875 5.078125 77.6875 10.40625 \r\nQ 77.6875 15.71875 71.796875 19.109375 \r\nQ 65.921875 22.515625 54.6875 22.515625 \r\nz\r\n\" id=\"MalgunGothic-47749\"/>\r\n       </defs>\r\n       <use xlink:href=\"#MalgunGothic-51076\"/>\r\n       <use x=\"100\" xlink:href=\"#MalgunGothic-47749\"/>\r\n      </g>\r\n     </g>\r\n    </g>\r\n    <g id=\"xtick_27\">\r\n     <g id=\"line2d_53\">\r\n      <path clip-path=\"url(#pb57d2c8e85)\" d=\"M 332.775612 224.847767 \r\nL 332.775612 7.407767 \r\n\" style=\"fill:none;stroke:#c0c0c0;stroke-linecap:square;stroke-width:0.8;\"/>\r\n     </g>\r\n     <g id=\"line2d_54\">\r\n      <g>\r\n       <use style=\"stroke:#000000;stroke-width:0.8;\" x=\"332.775612\" xlink:href=\"#m661e43133a\" y=\"224.847767\"/>\r\n      </g>\r\n     </g>\r\n     <g id=\"text_27\">\r\n      <!-- 직무 -->\r\n      <g transform=\"translate(335.389675 251.847767)rotate(-90)scale(0.1 -0.1)\">\r\n       <defs>\r\n        <path d=\"M 77.09375 31.109375 \r\nL 77.09375 85.40625 \r\nL 84.515625 85.40625 \r\nL 84.515625 31.109375 \r\nz\r\nM 60.5 35.890625 \r\nQ 54.59375 38.625 47.671875 45.15625 \r\nQ 40.765625 51.703125 38.09375 57.078125 \r\nQ 35.453125 51.03125 28.734375 44.0625 \r\nQ 22.015625 37.109375 15.1875 33.5 \r\nL 10.015625 38.484375 \r\nQ 20.609375 43.609375 27.515625 52.65625 \r\nQ 34.421875 61.71875 34.421875 71.484375 \r\nL 34.421875 74.703125 \r\nL 13.09375 74.703125 \r\nL 13.09375 81.203125 \r\nL 62.59375 81.203125 \r\nL 62.59375 74.703125 \r\nL 41.5 74.703125 \r\nL 41.5 71.484375 \r\nQ 41.5 62.203125 48.53125 53.90625 \r\nQ 55.5625 45.609375 65.375 41.40625 \r\nz\r\nM 77.09375 -8.796875 \r\nL 77.09375 19.28125 \r\nL 23.09375 19.28125 \r\nL 23.09375 25.78125 \r\nL 84.515625 25.78125 \r\nL 84.515625 -8.796875 \r\nz\r\n\" id=\"MalgunGothic-51649\"/>\r\n        <path d=\"M 20.796875 45.609375 \r\nL 20.796875 81.984375 \r\nL 79.109375 81.984375 \r\nL 79.109375 45.609375 \r\nz\r\nM 71.921875 75.484375 \r\nL 27.984375 75.484375 \r\nL 27.984375 52.09375 \r\nL 71.921875 52.09375 \r\nz\r\nM 53.71875 26.421875 \r\nL 53.71875 -8.796875 \r\nL 46.296875 -8.796875 \r\nL 46.296875 26.421875 \r\nL 6.296875 26.421875 \r\nL 6.296875 32.90625 \r\nL 93.703125 32.90625 \r\nL 93.703125 26.421875 \r\nz\r\n\" id=\"MalgunGothic-47924\"/>\r\n       </defs>\r\n       <use xlink:href=\"#MalgunGothic-51649\"/>\r\n       <use x=\"100\" xlink:href=\"#MalgunGothic-47924\"/>\r\n      </g>\r\n     </g>\r\n    </g>\r\n    <g id=\"xtick_28\">\r\n     <g id=\"line2d_55\">\r\n      <path clip-path=\"url(#pb57d2c8e85)\" d=\"M 343.27091 224.847767 \r\nL 343.27091 7.407767 \r\n\" style=\"fill:none;stroke:#c0c0c0;stroke-linecap:square;stroke-width:0.8;\"/>\r\n     </g>\r\n     <g id=\"line2d_56\">\r\n      <g>\r\n       <use style=\"stroke:#000000;stroke-width:0.8;\" x=\"343.27091\" xlink:href=\"#m661e43133a\" y=\"224.847767\"/>\r\n      </g>\r\n     </g>\r\n     <g id=\"text_28\">\r\n      <!-- 국무총리 -->\r\n      <g transform=\"translate(345.884973 271.847767)rotate(-90)scale(0.1 -0.1)\">\r\n       <defs>\r\n        <path d=\"M 85.40625 48.6875 \r\nQ 74.90625 49.75 64.109375 54.875 \r\nQ 53.328125 60.015625 50.09375 64.703125 \r\nQ 46.4375 59.625 36.0625 54.765625 \r\nQ 25.6875 49.90625 15.09375 48.78125 \r\nL 10.890625 55.421875 \r\nQ 21.234375 55.421875 31.96875 59.9375 \r\nQ 42.71875 64.453125 45.609375 70.90625 \r\nL 16.5 70.90625 \r\nL 16.5 77.390625 \r\nL 46.390625 77.390625 \r\nL 46.390625 86.1875 \r\nL 53.8125 86.1875 \r\nL 53.8125 77.390625 \r\nL 83.5 77.390625 \r\nL 83.5 70.90625 \r\nL 54.390625 70.90625 \r\nQ 57.328125 64.359375 68.015625 59.9375 \r\nQ 78.71875 55.515625 89.109375 55.515625 \r\nz\r\nM 6.296875 33.890625 \r\nL 6.296875 40.375 \r\nL 46.296875 40.375 \r\nL 46.296875 53.125 \r\nL 53.71875 53.125 \r\nL 53.71875 40.375 \r\nL 93.703125 40.375 \r\nL 93.703125 33.890625 \r\nz\r\nM 50 -7.8125 \r\nQ 35.359375 -7.8125 27.59375 -3.125 \r\nQ 19.828125 1.5625 19.828125 9.8125 \r\nQ 19.828125 17.875 27.609375 22.53125 \r\nQ 35.40625 27.203125 50 27.203125 \r\nQ 64.59375 27.203125 72.375 22.53125 \r\nQ 80.171875 17.875 80.171875 9.8125 \r\nQ 80.171875 1.5625 72.40625 -3.125 \r\nQ 64.65625 -7.8125 50 -7.8125 \r\nz\r\nM 50 21 \r\nQ 38.765625 21 33.078125 18.046875 \r\nQ 27.390625 15.09375 27.390625 9.8125 \r\nQ 27.390625 4.4375 33.171875 1.40625 \r\nQ 38.96875 -1.609375 50 -1.609375 \r\nQ 60.984375 -1.609375 66.796875 1.40625 \r\nQ 72.609375 4.4375 72.609375 9.8125 \r\nQ 72.609375 15.09375 66.890625 18.046875 \r\nQ 61.1875 21 50 21 \r\nz\r\n\" id=\"MalgunGothic-52509\"/>\r\n       </defs>\r\n       <use xlink:href=\"#MalgunGothic-44397\"/>\r\n       <use x=\"100\" xlink:href=\"#MalgunGothic-47924\"/>\r\n       <use x=\"200\" xlink:href=\"#MalgunGothic-52509\"/>\r\n       <use x=\"300\" xlink:href=\"#MalgunGothic-47532\"/>\r\n      </g>\r\n     </g>\r\n    </g>\r\n    <g id=\"xtick_29\">\r\n     <g id=\"line2d_57\">\r\n      <path clip-path=\"url(#pb57d2c8e85)\" d=\"M 353.766208 224.847767 \r\nL 353.766208 7.407767 \r\n\" style=\"fill:none;stroke:#c0c0c0;stroke-linecap:square;stroke-width:0.8;\"/>\r\n     </g>\r\n     <g id=\"line2d_58\">\r\n      <g>\r\n       <use style=\"stroke:#000000;stroke-width:0.8;\" x=\"353.766208\" xlink:href=\"#m661e43133a\" y=\"224.847767\"/>\r\n      </g>\r\n     </g>\r\n     <g id=\"text_29\">\r\n      <!-- 경제 -->\r\n      <g transform=\"translate(356.38027 251.847767)rotate(-90)scale(0.1 -0.1)\">\r\n       <defs>\r\n        <path d=\"M 77.296875 30.21875 \r\nL 77.296875 42 \r\nL 57.515625 42 \r\nL 57.515625 48.578125 \r\nL 77.296875 48.578125 \r\nL 77.296875 61.921875 \r\nL 58.5 61.921875 \r\nL 58.5 68.5 \r\nL 77.296875 68.5 \r\nL 77.296875 85.40625 \r\nL 84.625 85.40625 \r\nL 84.625 30.21875 \r\nz\r\nM 56.390625 80.421875 \r\nQ 55.421875 62.796875 42.84375 49.3125 \r\nQ 30.28125 35.84375 13.625 29.390625 \r\nL 8.5 35.203125 \r\nQ 22.796875 39.75 34.078125 50.265625 \r\nQ 45.359375 60.796875 47.90625 73.875 \r\nL 14.703125 73.875 \r\nL 14.703125 80.421875 \r\nz\r\nM 54.390625 -7.515625 \r\nQ 39.65625 -7.515625 31.5625 -2.234375 \r\nQ 23.484375 3.03125 23.484375 11.1875 \r\nQ 23.484375 19.34375 31.5625 24.515625 \r\nQ 39.65625 29.6875 54.390625 29.6875 \r\nQ 69.1875 29.6875 77.296875 24.515625 \r\nQ 85.40625 19.34375 85.40625 11.1875 \r\nQ 85.40625 3.03125 77.3125 -2.234375 \r\nQ 69.234375 -7.515625 54.390625 -7.515625 \r\nz\r\nM 54.390625 23.390625 \r\nQ 43.359375 23.390625 37.28125 19.921875 \r\nQ 31.203125 16.453125 31.203125 11.1875 \r\nQ 31.203125 5.859375 37.203125 2.3125 \r\nQ 43.21875 -1.21875 54.390625 -1.21875 \r\nQ 65.53125 -1.21875 71.5625 2.296875 \r\nQ 77.59375 5.8125 77.59375 11.1875 \r\nQ 77.59375 16.5 71.484375 19.9375 \r\nQ 65.375 23.390625 54.390625 23.390625 \r\nz\r\n\" id=\"MalgunGothic-44221\"/>\r\n       </defs>\r\n       <use xlink:href=\"#MalgunGothic-44221\"/>\r\n       <use x=\"100\" xlink:href=\"#MalgunGothic-51228\"/>\r\n      </g>\r\n     </g>\r\n    </g>\r\n    <g id=\"xtick_30\">\r\n     <g id=\"line2d_59\">\r\n      <path clip-path=\"url(#pb57d2c8e85)\" d=\"M 364.261506 224.847767 \r\nL 364.261506 7.407767 \r\n\" style=\"fill:none;stroke:#c0c0c0;stroke-linecap:square;stroke-width:0.8;\"/>\r\n     </g>\r\n     <g id=\"line2d_60\">\r\n      <g>\r\n       <use style=\"stroke:#000000;stroke-width:0.8;\" x=\"364.261506\" xlink:href=\"#m661e43133a\" y=\"224.847767\"/>\r\n      </g>\r\n     </g>\r\n     <g id=\"text_30\">\r\n      <!-- 의무 -->\r\n      <g transform=\"translate(366.875568 251.847767)rotate(-90)scale(0.1 -0.1)\">\r\n       <use xlink:href=\"#MalgunGothic-51032\"/>\r\n       <use x=\"100\" xlink:href=\"#MalgunGothic-47924\"/>\r\n      </g>\r\n     </g>\r\n    </g>\r\n    <g id=\"text_31\">\r\n     <!-- Samples -->\r\n     <g transform=\"translate(193.290625 283.439955)scale(0.1 -0.1)\">\r\n      <defs>\r\n       <path d=\"M 6.15625 12.453125 \r\nQ 9.46875 9.578125 15.0625 7.8125 \r\nQ 20.65625 6.0625 25.390625 6.0625 \r\nQ 41.0625 6.0625 41.0625 17.4375 \r\nQ 41.0625 20.703125 39.421875 23.1875 \r\nQ 37.796875 25.6875 35.15625 27.4375 \r\nQ 32.515625 29.203125 24.171875 33.5 \r\nQ 14.109375 38.671875 10.171875 43.03125 \r\nQ 6.25 47.40625 6.25 54 \r\nQ 6.25 62.796875 13.40625 67.921875 \r\nQ 20.5625 73.046875 31.0625 73.046875 \r\nQ 41.703125 73.046875 46.296875 70.515625 \r\nL 46.296875 61.375 \r\nQ 40.046875 65.71875 30.03125 65.71875 \r\nQ 23.1875 65.71875 18.859375 62.78125 \r\nQ 14.546875 59.859375 14.546875 54.6875 \r\nQ 14.546875 50 17.59375 47.046875 \r\nQ 20.65625 44.09375 30.28125 39.40625 \r\nQ 41.5 33.796875 45.40625 28.8125 \r\nQ 49.3125 23.828125 49.3125 18.015625 \r\nQ 49.3125 8.6875 42.578125 3.734375 \r\nQ 35.84375 -1.21875 23.921875 -1.21875 \r\nQ 20.171875 -1.21875 14.484375 -0.015625 \r\nQ 8.796875 1.171875 6.15625 2.9375 \r\nz\r\n\" id=\"MalgunGothic-83\"/>\r\n       <path d=\"M 9.625 47.65625 \r\nQ 17.140625 52.484375 26.90625 52.484375 \r\nQ 44.78125 52.484375 44.78125 33.546875 \r\nL 44.78125 0 \r\nL 37.015625 0 \r\nL 37.015625 8.0625 \r\nL 36.71875 8.0625 \r\nQ 31.390625 -1.21875 20.953125 -1.21875 \r\nQ 13.421875 -1.21875 9 2.8125 \r\nQ 4.59375 6.84375 4.59375 13.578125 \r\nQ 4.59375 27.875 21.484375 30.21875 \r\nL 36.96875 32.46875 \r\nQ 36.96875 45.84375 26.3125 45.84375 \r\nQ 16.9375 45.84375 9.625 39.453125 \r\nz\r\nM 24.421875 24.359375 \r\nQ 18.40625 23.578125 15.515625 21.421875 \r\nQ 12.640625 19.28125 12.640625 14.109375 \r\nQ 12.640625 10.203125 15.40625 7.8125 \r\nQ 18.171875 5.421875 22.65625 5.421875 \r\nQ 28.859375 5.421875 32.90625 9.8125 \r\nQ 36.96875 14.203125 36.96875 20.84375 \r\nL 36.96875 26.03125 \r\nz\r\n\" id=\"MalgunGothic-97\"/>\r\n       <path d=\"M 80.71875 0 \r\nL 72.953125 0 \r\nL 72.953125 29.4375 \r\nQ 72.953125 38.484375 70.234375 42.21875 \r\nQ 67.53125 45.953125 61.28125 45.953125 \r\nQ 56 45.953125 52.21875 40.984375 \r\nQ 48.4375 36.03125 48.4375 29.296875 \r\nL 48.4375 0 \r\nL 40.71875 0 \r\nL 40.71875 30.515625 \r\nQ 40.71875 45.953125 28.8125 45.953125 \r\nQ 23.390625 45.953125 19.765625 41.28125 \r\nQ 16.15625 36.625 16.15625 29.296875 \r\nL 16.15625 0 \r\nL 8.40625 0 \r\nL 8.40625 51.3125 \r\nL 16.15625 51.3125 \r\nL 16.15625 43.171875 \r\nL 16.359375 43.171875 \r\nQ 21.734375 52.484375 32.234375 52.484375 \r\nQ 37.203125 52.484375 41.1875 49.625 \r\nQ 45.171875 46.78125 46.734375 41.796875 \r\nQ 52.4375 52.484375 63.765625 52.484375 \r\nQ 80.71875 52.484375 80.71875 31.59375 \r\nz\r\n\" id=\"MalgunGothic-109\"/>\r\n       <path d=\"M 16.15625 7.515625 \r\nL 16.15625 -23.640625 \r\nL 8.40625 -23.640625 \r\nL 8.40625 51.3125 \r\nL 16.15625 51.3125 \r\nL 16.15625 42.234375 \r\nL 16.359375 42.234375 \r\nQ 22.46875 52.484375 34.125 52.484375 \r\nQ 43.890625 52.484375 49.546875 45.625 \r\nQ 55.21875 38.765625 55.21875 27.15625 \r\nQ 55.21875 14.15625 48.84375 6.46875 \r\nQ 42.484375 -1.21875 31.78125 -1.21875 \r\nQ 21.78125 -1.21875 16.359375 7.515625 \r\nz\r\nM 16.15625 20.796875 \r\nQ 16.15625 14.40625 20.421875 9.890625 \r\nQ 24.703125 5.375 31.109375 5.375 \r\nQ 38.671875 5.375 42.984375 11.1875 \r\nQ 47.3125 17 47.3125 27.390625 \r\nQ 47.3125 35.9375 43.234375 40.9375 \r\nQ 39.15625 45.953125 32.375 45.953125 \r\nQ 25.296875 45.953125 20.71875 40.921875 \r\nQ 16.15625 35.890625 16.15625 28.21875 \r\nz\r\n\" id=\"MalgunGothic-112\"/>\r\n       <path d=\"M 8.453125 0 \r\nL 8.453125 75.921875 \r\nL 16.15625 75.921875 \r\nL 16.15625 0 \r\nz\r\n\" id=\"MalgunGothic-108\"/>\r\n       <path d=\"M 49.3125 23.734375 \r\nL 12.9375 23.734375 \r\nQ 13.1875 14.84375 17.703125 10.125 \r\nQ 22.21875 5.421875 29.828125 5.421875 \r\nQ 38.625 5.421875 45.84375 11.234375 \r\nL 45.84375 3.8125 \r\nQ 38.96875 -1.21875 28.03125 -1.21875 \r\nQ 17.1875 -1.21875 11.0625 5.875 \r\nQ 4.9375 12.984375 4.9375 25.53125 \r\nQ 4.9375 37.203125 11.671875 44.84375 \r\nQ 18.40625 52.484375 28.375 52.484375 \r\nQ 38.328125 52.484375 43.8125 45.96875 \r\nQ 49.3125 39.453125 49.3125 27.9375 \r\nz\r\nM 41.3125 30.5625 \r\nQ 41.3125 37.75 37.859375 41.796875 \r\nQ 34.421875 45.84375 28.265625 45.84375 \r\nQ 22.46875 45.84375 18.265625 41.671875 \r\nQ 14.0625 37.5 13.03125 30.5625 \r\nz\r\n\" id=\"MalgunGothic-101\"/>\r\n       <path d=\"M 5.171875 10.453125 \r\nQ 11.921875 5.46875 19.96875 5.46875 \r\nQ 30.90625 5.46875 30.90625 12.84375 \r\nQ 30.90625 16.015625 28.515625 18.09375 \r\nQ 26.125 20.171875 19.09375 22.796875 \r\nQ 10.984375 26.03125 8.125 29.34375 \r\nQ 5.28125 32.671875 5.28125 37.75 \r\nQ 5.28125 44.28125 10.9375 48.375 \r\nQ 16.609375 52.484375 24.75 52.484375 \r\nQ 31.296875 52.484375 36.578125 50.203125 \r\nL 36.578125 42.140625 \r\nQ 30.859375 45.84375 23.53125 45.84375 \r\nQ 18.75 45.84375 16.015625 43.71875 \r\nQ 13.28125 41.609375 13.28125 38.421875 \r\nQ 13.28125 35.015625 15.296875 33.203125 \r\nQ 17.328125 31.390625 24.125 28.71875 \r\nQ 33.296875 25.140625 36.078125 21.71875 \r\nQ 38.875 18.3125 38.875 13.578125 \r\nQ 38.875 6.734375 33.234375 2.75 \r\nQ 27.59375 -1.21875 18.796875 -1.21875 \r\nQ 10.84375 -1.21875 5.171875 1.90625 \r\nz\r\n\" id=\"MalgunGothic-115\"/>\r\n      </defs>\r\n      <use xlink:href=\"#MalgunGothic-83\"/>\r\n      <use x=\"54.296875\" xlink:href=\"#MalgunGothic-97\"/>\r\n      <use x=\"106.298828\" xlink:href=\"#MalgunGothic-109\"/>\r\n      <use x=\"194.287109\" xlink:href=\"#MalgunGothic-112\"/>\r\n      <use x=\"254.345703\" xlink:href=\"#MalgunGothic-108\"/>\r\n      <use x=\"278.955078\" xlink:href=\"#MalgunGothic-101\"/>\r\n      <use x=\"332.470703\" xlink:href=\"#MalgunGothic-115\"/>\r\n     </g>\r\n    </g>\r\n   </g>\r\n   <g id=\"matplotlib.axis_2\">\r\n    <g id=\"ytick_1\">\r\n     <g id=\"line2d_61\">\r\n      <path clip-path=\"url(#pb57d2c8e85)\" d=\"M 44.679688 212.446007 \r\nL 379.479688 212.446007 \r\n\" style=\"fill:none;stroke:#c0c0c0;stroke-linecap:square;stroke-width:0.8;\"/>\r\n     </g>\r\n     <g id=\"line2d_62\">\r\n      <defs>\r\n       <path d=\"M 0 0 \r\nL -3.5 0 \r\n\" id=\"maddd9ba130\" style=\"stroke:#000000;stroke-width:0.8;\"/>\r\n      </defs>\r\n      <g>\r\n       <use style=\"stroke:#000000;stroke-width:0.8;\" x=\"44.679688\" xlink:href=\"#maddd9ba130\" y=\"212.446007\"/>\r\n      </g>\r\n     </g>\r\n     <g id=\"text_32\">\r\n      <!-- 20 -->\r\n      <g transform=\"translate(26.664063 216.242101)scale(0.1 -0.1)\">\r\n       <defs>\r\n        <path d=\"M 39.359375 52.6875 \r\nQ 39.359375 59.125 35.546875 62.78125 \r\nQ 31.734375 66.453125 25.4375 66.453125 \r\nQ 20.953125 66.453125 16.453125 64.125 \r\nQ 11.96875 61.8125 8.34375 57.765625 \r\nL 8.34375 66.15625 \r\nQ 15.328125 73.046875 26.421875 73.046875 \r\nQ 35.640625 73.046875 41.28125 67.71875 \r\nQ 46.921875 62.40625 46.921875 53.375 \r\nQ 46.921875 45.609375 43.3125 39.765625 \r\nQ 39.703125 33.9375 31 27.734375 \r\nQ 22.796875 21.96875 19.59375 18.984375 \r\nQ 16.40625 16.015625 15.109375 13.34375 \r\nQ 13.8125 10.6875 13.8125 7.03125 \r\nL 48.6875 7.03125 \r\nL 48.6875 0 \r\nL 5.5625 0 \r\nL 5.5625 3.515625 \r\nQ 5.5625 9.421875 7.203125 13.59375 \r\nQ 8.84375 17.78125 12.671875 21.75 \r\nQ 16.5 25.734375 24.953125 31.59375 \r\nQ 32.671875 36.921875 36.015625 41.71875 \r\nQ 39.359375 46.53125 39.359375 52.6875 \r\nz\r\n\" id=\"MalgunGothic-50\"/>\r\n        <path d=\"M 4.34375 34.46875 \r\nQ 4.34375 53.515625 10.546875 63.28125 \r\nQ 16.75 73.046875 28.421875 73.046875 \r\nQ 50.828125 73.046875 50.828125 36.234375 \r\nQ 50.828125 18.0625 44.59375 8.421875 \r\nQ 38.375 -1.21875 26.8125 -1.21875 \r\nQ 15.875 -1.21875 10.109375 8.125 \r\nQ 4.34375 17.484375 4.34375 34.46875 \r\nz\r\nM 12.25 34.859375 \r\nQ 12.25 5.375 27.640625 5.375 \r\nQ 42.921875 5.375 42.921875 35.296875 \r\nQ 42.921875 66.40625 28.03125 66.40625 \r\nQ 12.25 66.40625 12.25 34.859375 \r\nz\r\n\" id=\"MalgunGothic-48\"/>\r\n       </defs>\r\n       <use xlink:href=\"#MalgunGothic-50\"/>\r\n       <use x=\"55.078125\" xlink:href=\"#MalgunGothic-48\"/>\r\n      </g>\r\n     </g>\r\n    </g>\r\n    <g id=\"ytick_2\">\r\n     <g id=\"line2d_63\">\r\n      <path clip-path=\"url(#pb57d2c8e85)\" d=\"M 44.679688 187.264768 \r\nL 379.479688 187.264768 \r\n\" style=\"fill:none;stroke:#c0c0c0;stroke-linecap:square;stroke-width:0.8;\"/>\r\n     </g>\r\n     <g id=\"line2d_64\">\r\n      <g>\r\n       <use style=\"stroke:#000000;stroke-width:0.8;\" x=\"44.679688\" xlink:href=\"#maddd9ba130\" y=\"187.264768\"/>\r\n      </g>\r\n     </g>\r\n     <g id=\"text_33\">\r\n      <!-- 40 -->\r\n      <g transform=\"translate(26.664063 191.060862)scale(0.1 -0.1)\">\r\n       <defs>\r\n        <path d=\"M 42.234375 71.875 \r\nL 42.234375 24.421875 \r\nL 51.703125 24.421875 \r\nL 51.703125 17.390625 \r\nL 42.234375 17.390625 \r\nL 42.234375 0 \r\nL 34.578125 0 \r\nL 34.578125 17.390625 \r\nL 0.78125 17.390625 \r\nL 0.78125 23.96875 \r\nQ 11.375 35.890625 20.234375 48.578125 \r\nQ 29.109375 61.28125 33.9375 71.875 \r\nz\r\nM 9.765625 24.421875 \r\nL 34.578125 24.421875 \r\nL 34.578125 59.859375 \r\nQ 25.203125 43.5625 14.984375 30.953125 \r\nz\r\n\" id=\"MalgunGothic-52\"/>\r\n       </defs>\r\n       <use xlink:href=\"#MalgunGothic-52\"/>\r\n       <use x=\"55.078125\" xlink:href=\"#MalgunGothic-48\"/>\r\n      </g>\r\n     </g>\r\n    </g>\r\n    <g id=\"ytick_3\">\r\n     <g id=\"line2d_65\">\r\n      <path clip-path=\"url(#pb57d2c8e85)\" d=\"M 44.679688 162.083529 \r\nL 379.479688 162.083529 \r\n\" style=\"fill:none;stroke:#c0c0c0;stroke-linecap:square;stroke-width:0.8;\"/>\r\n     </g>\r\n     <g id=\"line2d_66\">\r\n      <g>\r\n       <use style=\"stroke:#000000;stroke-width:0.8;\" x=\"44.679688\" xlink:href=\"#maddd9ba130\" y=\"162.083529\"/>\r\n      </g>\r\n     </g>\r\n     <g id=\"text_34\">\r\n      <!-- 60 -->\r\n      <g transform=\"translate(26.664063 165.879622)scale(0.1 -0.1)\">\r\n       <defs>\r\n        <path d=\"M 46.578125 63.578125 \r\nQ 40.921875 66.40625 34.8125 66.40625 \r\nQ 24.859375 66.40625 19.1875 57.640625 \r\nQ 13.53125 48.875 13.578125 34.578125 \r\nL 13.8125 34.578125 \r\nQ 18.796875 44.875 30.28125 44.875 \r\nQ 39.796875 44.875 45.359375 38.71875 \r\nQ 50.921875 32.5625 50.921875 22.65625 \r\nQ 50.921875 12.453125 44.640625 5.609375 \r\nQ 38.375 -1.21875 28.515625 -1.21875 \r\nQ 17.4375 -1.21875 11.5 7.46875 \r\nQ 5.5625 16.15625 5.5625 31.546875 \r\nQ 5.5625 49.703125 13.234375 61.375 \r\nQ 20.90625 73.046875 34.71875 73.046875 \r\nQ 42.1875 73.046875 46.578125 71 \r\nz\r\nM 14.15625 23.53125 \r\nQ 14.15625 15.96875 18.203125 10.671875 \r\nQ 22.265625 5.375 28.8125 5.375 \r\nQ 35.109375 5.375 39.03125 10.078125 \r\nQ 42.96875 14.796875 42.96875 21.6875 \r\nQ 42.96875 29.5 39.203125 33.859375 \r\nQ 35.453125 38.234375 28.71875 38.234375 \r\nQ 22.5625 38.234375 18.359375 33.953125 \r\nQ 14.15625 29.6875 14.15625 23.53125 \r\nz\r\n\" id=\"MalgunGothic-54\"/>\r\n       </defs>\r\n       <use xlink:href=\"#MalgunGothic-54\"/>\r\n       <use x=\"55.078125\" xlink:href=\"#MalgunGothic-48\"/>\r\n      </g>\r\n     </g>\r\n    </g>\r\n    <g id=\"ytick_4\">\r\n     <g id=\"line2d_67\">\r\n      <path clip-path=\"url(#pb57d2c8e85)\" d=\"M 44.679688 136.902289 \r\nL 379.479688 136.902289 \r\n\" style=\"fill:none;stroke:#c0c0c0;stroke-linecap:square;stroke-width:0.8;\"/>\r\n     </g>\r\n     <g id=\"line2d_68\">\r\n      <g>\r\n       <use style=\"stroke:#000000;stroke-width:0.8;\" x=\"44.679688\" xlink:href=\"#maddd9ba130\" y=\"136.902289\"/>\r\n      </g>\r\n     </g>\r\n     <g id=\"text_35\">\r\n      <!-- 80 -->\r\n      <g transform=\"translate(26.664063 140.698383)scale(0.1 -0.1)\">\r\n       <defs>\r\n        <path d=\"M 4.734375 20.015625 \r\nQ 4.734375 26.078125 8.421875 31.421875 \r\nQ 12.109375 36.765625 18.015625 38.96875 \r\nQ 13.375 41.359375 10.546875 45.546875 \r\nQ 7.71875 49.75 7.71875 54.6875 \r\nQ 7.71875 59.8125 10.296875 64.03125 \r\nQ 12.890625 68.265625 17.53125 70.65625 \r\nQ 22.171875 73.046875 27.78125 73.046875 \r\nQ 36.46875 73.046875 42.1875 67.84375 \r\nQ 47.90625 62.640625 47.90625 54.6875 \r\nQ 47.90625 49.703125 45.015625 45.53125 \r\nQ 42.140625 41.359375 37.703125 38.96875 \r\nQ 43.5625 36.71875 47.21875 31.390625 \r\nQ 50.875 26.078125 50.875 20.015625 \r\nQ 50.875 10.5 44.421875 4.640625 \r\nQ 37.984375 -1.21875 27.78125 -1.21875 \r\nQ 17.671875 -1.21875 11.203125 4.703125 \r\nQ 4.734375 10.640625 4.734375 20.015625 \r\nz\r\nM 12.640625 20.75 \r\nQ 12.640625 13.71875 16.890625 9.546875 \r\nQ 21.140625 5.375 27.828125 5.375 \r\nQ 34.46875 5.375 38.78125 9.671875 \r\nQ 43.109375 13.96875 43.109375 20.75 \r\nQ 43.109375 27.046875 38.78125 31.421875 \r\nQ 34.46875 35.796875 27.828125 35.796875 \r\nQ 21.4375 35.796875 17.03125 31.5625 \r\nQ 12.640625 27.34375 12.640625 20.75 \r\nz\r\nM 15.671875 54.046875 \r\nQ 15.671875 48.828125 19.28125 45.3125 \r\nQ 22.90625 41.796875 27.828125 41.796875 \r\nQ 32.765625 41.796875 36.40625 45.3125 \r\nQ 40.046875 48.828125 40.046875 54.046875 \r\nQ 40.046875 59.421875 36.578125 62.90625 \r\nQ 33.109375 66.40625 27.828125 66.40625 \r\nQ 22.65625 66.40625 19.15625 62.953125 \r\nQ 15.671875 59.515625 15.671875 54.046875 \r\nz\r\n\" id=\"MalgunGothic-56\"/>\r\n       </defs>\r\n       <use xlink:href=\"#MalgunGothic-56\"/>\r\n       <use x=\"55.078125\" xlink:href=\"#MalgunGothic-48\"/>\r\n      </g>\r\n     </g>\r\n    </g>\r\n    <g id=\"ytick_5\">\r\n     <g id=\"line2d_69\">\r\n      <path clip-path=\"url(#pb57d2c8e85)\" d=\"M 44.679688 111.72105 \r\nL 379.479688 111.72105 \r\n\" style=\"fill:none;stroke:#c0c0c0;stroke-linecap:square;stroke-width:0.8;\"/>\r\n     </g>\r\n     <g id=\"line2d_70\">\r\n      <g>\r\n       <use style=\"stroke:#000000;stroke-width:0.8;\" x=\"44.679688\" xlink:href=\"#maddd9ba130\" y=\"111.72105\"/>\r\n      </g>\r\n     </g>\r\n     <g id=\"text_36\">\r\n      <!-- 100 -->\r\n      <g transform=\"translate(21.15625 115.517144)scale(0.1 -0.1)\">\r\n       <defs>\r\n        <path d=\"M 34.859375 0 \r\nL 27.09375 0 \r\nL 27.09375 62.0625 \r\nQ 24.859375 59.8125 19.78125 57.203125 \r\nQ 14.703125 54.59375 10.5 53.5625 \r\nL 10.5 61.859375 \r\nQ 15.875 63.375 22.015625 66.796875 \r\nQ 28.171875 70.21875 31.734375 73.4375 \r\nL 34.859375 73.4375 \r\nz\r\n\" id=\"MalgunGothic-49\"/>\r\n       </defs>\r\n       <use xlink:href=\"#MalgunGothic-49\"/>\r\n       <use x=\"55.078125\" xlink:href=\"#MalgunGothic-48\"/>\r\n       <use x=\"110.15625\" xlink:href=\"#MalgunGothic-48\"/>\r\n      </g>\r\n     </g>\r\n    </g>\r\n    <g id=\"ytick_6\">\r\n     <g id=\"line2d_71\">\r\n      <path clip-path=\"url(#pb57d2c8e85)\" d=\"M 44.679688 86.539811 \r\nL 379.479688 86.539811 \r\n\" style=\"fill:none;stroke:#c0c0c0;stroke-linecap:square;stroke-width:0.8;\"/>\r\n     </g>\r\n     <g id=\"line2d_72\">\r\n      <g>\r\n       <use style=\"stroke:#000000;stroke-width:0.8;\" x=\"44.679688\" xlink:href=\"#maddd9ba130\" y=\"86.539811\"/>\r\n      </g>\r\n     </g>\r\n     <g id=\"text_37\">\r\n      <!-- 120 -->\r\n      <g transform=\"translate(21.15625 90.335905)scale(0.1 -0.1)\">\r\n       <use xlink:href=\"#MalgunGothic-49\"/>\r\n       <use x=\"55.078125\" xlink:href=\"#MalgunGothic-50\"/>\r\n       <use x=\"110.15625\" xlink:href=\"#MalgunGothic-48\"/>\r\n      </g>\r\n     </g>\r\n    </g>\r\n    <g id=\"ytick_7\">\r\n     <g id=\"line2d_73\">\r\n      <path clip-path=\"url(#pb57d2c8e85)\" d=\"M 44.679688 61.358572 \r\nL 379.479688 61.358572 \r\n\" style=\"fill:none;stroke:#c0c0c0;stroke-linecap:square;stroke-width:0.8;\"/>\r\n     </g>\r\n     <g id=\"line2d_74\">\r\n      <g>\r\n       <use style=\"stroke:#000000;stroke-width:0.8;\" x=\"44.679688\" xlink:href=\"#maddd9ba130\" y=\"61.358572\"/>\r\n      </g>\r\n     </g>\r\n     <g id=\"text_38\">\r\n      <!-- 140 -->\r\n      <g transform=\"translate(21.15625 65.154666)scale(0.1 -0.1)\">\r\n       <use xlink:href=\"#MalgunGothic-49\"/>\r\n       <use x=\"55.078125\" xlink:href=\"#MalgunGothic-52\"/>\r\n       <use x=\"110.15625\" xlink:href=\"#MalgunGothic-48\"/>\r\n      </g>\r\n     </g>\r\n    </g>\r\n    <g id=\"ytick_8\">\r\n     <g id=\"line2d_75\">\r\n      <path clip-path=\"url(#pb57d2c8e85)\" d=\"M 44.679688 36.177333 \r\nL 379.479688 36.177333 \r\n\" style=\"fill:none;stroke:#c0c0c0;stroke-linecap:square;stroke-width:0.8;\"/>\r\n     </g>\r\n     <g id=\"line2d_76\">\r\n      <g>\r\n       <use style=\"stroke:#000000;stroke-width:0.8;\" x=\"44.679688\" xlink:href=\"#maddd9ba130\" y=\"36.177333\"/>\r\n      </g>\r\n     </g>\r\n     <g id=\"text_39\">\r\n      <!-- 160 -->\r\n      <g transform=\"translate(21.15625 39.973427)scale(0.1 -0.1)\">\r\n       <use xlink:href=\"#MalgunGothic-49\"/>\r\n       <use x=\"55.078125\" xlink:href=\"#MalgunGothic-54\"/>\r\n       <use x=\"110.15625\" xlink:href=\"#MalgunGothic-48\"/>\r\n      </g>\r\n     </g>\r\n    </g>\r\n    <g id=\"ytick_9\">\r\n     <g id=\"line2d_77\">\r\n      <path clip-path=\"url(#pb57d2c8e85)\" d=\"M 44.679688 10.996094 \r\nL 379.479688 10.996094 \r\n\" style=\"fill:none;stroke:#c0c0c0;stroke-linecap:square;stroke-width:0.8;\"/>\r\n     </g>\r\n     <g id=\"line2d_78\">\r\n      <g>\r\n       <use style=\"stroke:#000000;stroke-width:0.8;\" x=\"44.679688\" xlink:href=\"#maddd9ba130\" y=\"10.996094\"/>\r\n      </g>\r\n     </g>\r\n     <g id=\"text_40\">\r\n      <!-- 180 -->\r\n      <g transform=\"translate(21.15625 14.792188)scale(0.1 -0.1)\">\r\n       <use xlink:href=\"#MalgunGothic-49\"/>\r\n       <use x=\"55.078125\" xlink:href=\"#MalgunGothic-56\"/>\r\n       <use x=\"110.15625\" xlink:href=\"#MalgunGothic-48\"/>\r\n      </g>\r\n     </g>\r\n    </g>\r\n    <g id=\"text_41\">\r\n     <!-- Counts -->\r\n     <g transform=\"translate(14.792188 131.967611)rotate(-90)scale(0.1 -0.1)\">\r\n      <defs>\r\n       <path d=\"M 58.203125 3.078125 \r\nQ 50.25 -1.21875 38.421875 -1.21875 \r\nQ 23.25 -1.21875 14.015625 8.765625 \r\nQ 4.78125 18.75 4.78125 34.578125 \r\nQ 4.78125 51.265625 14.984375 62.15625 \r\nQ 25.203125 73.046875 41.3125 73.046875 \r\nQ 51.515625 73.046875 58.203125 70.0625 \r\nL 58.203125 61.578125 \r\nQ 50.53125 65.828125 41.15625 65.828125 \r\nQ 28.328125 65.828125 20.703125 57.171875 \r\nQ 13.09375 48.53125 13.09375 35.015625 \r\nQ 13.09375 22.078125 20.265625 14.015625 \r\nQ 27.4375 5.953125 39.40625 5.953125 \r\nQ 50.25 5.953125 58.203125 10.75 \r\nz\r\n\" id=\"MalgunGothic-67\"/>\r\n       <path d=\"M 4.9375 25 \r\nQ 4.9375 37.796875 11.890625 45.140625 \r\nQ 18.84375 52.484375 30.90625 52.484375 \r\nQ 42.140625 52.484375 48.609375 45.421875 \r\nQ 55.078125 38.375 55.078125 25.78125 \r\nQ 55.078125 13.578125 48.09375 6.171875 \r\nQ 41.109375 -1.21875 29.6875 -1.21875 \r\nQ 18.5 -1.21875 11.71875 6 \r\nQ 4.9375 13.234375 4.9375 25 \r\nz\r\nM 12.796875 25.34375 \r\nQ 12.796875 16.265625 17.546875 10.8125 \r\nQ 22.3125 5.375 30.21875 5.375 \r\nQ 38.421875 5.375 42.796875 10.625 \r\nQ 47.171875 15.875 47.171875 25.53125 \r\nQ 47.171875 35.25 42.765625 40.59375 \r\nQ 38.375 45.953125 30.21875 45.953125 \r\nQ 22.265625 45.953125 17.53125 40.421875 \r\nQ 12.796875 34.90625 12.796875 25.34375 \r\nz\r\n\" id=\"MalgunGothic-111\"/>\r\n       <path d=\"M 49.46875 0 \r\nL 41.703125 0 \r\nL 41.703125 8.109375 \r\nL 41.5 8.109375 \r\nQ 36.421875 -1.21875 25.6875 -1.21875 \r\nQ 7.328125 -1.21875 7.328125 20.65625 \r\nL 7.328125 51.3125 \r\nL 14.984375 51.3125 \r\nL 14.984375 21.921875 \r\nQ 14.984375 5.375 27.59375 5.375 \r\nQ 33.734375 5.375 37.71875 9.9375 \r\nQ 41.703125 14.5 41.703125 21.78125 \r\nL 41.703125 51.3125 \r\nL 49.46875 51.3125 \r\nz\r\n\" id=\"MalgunGothic-117\"/>\r\n       <path d=\"M 50.59375 0 \r\nL 42.828125 0 \r\nL 42.828125 29.296875 \r\nQ 42.828125 45.953125 30.671875 45.953125 \r\nQ 24.421875 45.953125 20.28125 41.234375 \r\nQ 16.15625 36.53125 16.15625 29.25 \r\nL 16.15625 0 \r\nL 8.40625 0 \r\nL 8.40625 51.3125 \r\nL 16.15625 51.3125 \r\nL 16.15625 42.71875 \r\nL 16.359375 42.71875 \r\nQ 22.125 52.484375 33.203125 52.484375 \r\nQ 41.65625 52.484375 46.125 47.0625 \r\nQ 50.59375 41.65625 50.59375 31.34375 \r\nz\r\n\" id=\"MalgunGothic-110\"/>\r\n       <path d=\"M 31.734375 0.484375 \r\nQ 28.8125 -1.125 24.265625 -1.125 \r\nQ 11.03125 -1.125 11.03125 13.765625 \r\nL 11.03125 44.625 \r\nL 2.15625 44.625 \r\nL 2.15625 51.3125 \r\nL 11.03125 51.3125 \r\nL 11.03125 63.921875 \r\nL 18.75 66.40625 \r\nL 18.75 51.3125 \r\nL 31.734375 51.3125 \r\nL 31.734375 44.625 \r\nL 18.75 44.625 \r\nL 18.75 15.1875 \r\nQ 18.75 9.765625 20.546875 7.609375 \r\nQ 22.359375 5.46875 26.421875 5.46875 \r\nQ 29.5 5.46875 31.734375 7.171875 \r\nz\r\n\" id=\"MalgunGothic-116\"/>\r\n      </defs>\r\n      <use xlink:href=\"#MalgunGothic-67\"/>\r\n      <use x=\"63.476562\" xlink:href=\"#MalgunGothic-111\"/>\r\n      <use x=\"123.388672\" xlink:href=\"#MalgunGothic-117\"/>\r\n      <use x=\"181.201172\" xlink:href=\"#MalgunGothic-110\"/>\r\n      <use x=\"239.013672\" xlink:href=\"#MalgunGothic-116\"/>\r\n      <use x=\"273.486328\" xlink:href=\"#MalgunGothic-115\"/>\r\n     </g>\r\n    </g>\r\n   </g>\r\n   <g id=\"line2d_79\">\r\n    <path clip-path=\"url(#pb57d2c8e85)\" d=\"M 59.897869 17.291404 \r\nL 70.393167 77.726377 \r\nL 80.888465 125.570732 \r\nL 91.383763 126.829794 \r\nL 101.879061 133.125104 \r\nL 112.374358 145.715723 \r\nL 122.869656 152.011033 \r\nL 133.364954 160.824467 \r\nL 143.860252 164.601653 \r\nL 154.35555 168.378838 \r\nL 164.850847 170.896962 \r\nL 175.346145 178.451334 \r\nL 185.841443 189.782892 \r\nL 196.336741 191.041954 \r\nL 206.832039 191.041954 \r\nL 217.327336 192.301016 \r\nL 227.822634 204.891635 \r\nL 238.317932 206.150697 \r\nL 248.81323 208.668821 \r\nL 259.308528 211.186945 \r\nL 269.803825 211.186945 \r\nL 280.299123 211.186945 \r\nL 290.794421 212.446007 \r\nL 301.289719 212.446007 \r\nL 311.785017 212.446007 \r\nL 322.280314 212.446007 \r\nL 332.775612 213.705069 \r\nL 343.27091 213.705069 \r\nL 353.766208 214.964131 \r\nL 364.261506 214.964131 \r\n\" style=\"fill:none;stroke:#1f77b4;stroke-linecap:square;stroke-width:2;\"/>\r\n   </g>\r\n   <g id=\"patch_3\">\r\n    <path d=\"M 44.679688 224.847767 \r\nL 44.679688 7.407767 \r\n\" style=\"fill:none;stroke:#000000;stroke-linecap:square;stroke-linejoin:miter;stroke-width:0.8;\"/>\r\n   </g>\r\n   <g id=\"patch_4\">\r\n    <path d=\"M 379.479688 224.847767 \r\nL 379.479688 7.407767 \r\n\" style=\"fill:none;stroke:#000000;stroke-linecap:square;stroke-linejoin:miter;stroke-width:0.8;\"/>\r\n   </g>\r\n   <g id=\"patch_5\">\r\n    <path d=\"M 44.679688 224.847767 \r\nL 379.479688 224.847767 \r\n\" style=\"fill:none;stroke:#000000;stroke-linecap:square;stroke-linejoin:miter;stroke-width:0.8;\"/>\r\n   </g>\r\n   <g id=\"patch_6\">\r\n    <path d=\"M 44.679688 7.407767 \r\nL 379.479688 7.407767 \r\n\" style=\"fill:none;stroke:#000000;stroke-linecap:square;stroke-linejoin:miter;stroke-width:0.8;\"/>\r\n   </g>\r\n  </g>\r\n </g>\r\n <defs>\r\n  <clipPath id=\"pb57d2c8e85\">\r\n   <rect height=\"217.44\" width=\"334.8\" x=\"44.679688\" y=\"7.407767\"/>\r\n  </clipPath>\r\n </defs>\r\n</svg>\r\n",
      "image/png": "[encoded data removed]"
     },
     "metadata": {
      "needs_background": "light"
     }
    }
   ],
   "metadata": {}
  }
 ],
 "metadata": {
  "orig_nbformat": 4,
  "language_info": {
   "name": "python",
   "version": "3.8.5",
   "mimetype": "text/x-python",
   "codemirror_mode": {
    "name": "ipython",
    "version": 3
   },
   "pygments_lexer": "ipython3",
   "nbconvert_exporter": "python",
   "file_extension": ".py"
  },
  "kernelspec": {
   "name": "python3",
   "display_name": "Python 3.8.5 64-bit ('base': conda)"
  },
  "interpreter": {
   "hash": "8c1eae21719a0790335dcb83aad72b63b602cfe5cdb2bda0f60bc11d4f154e4b"
  }
 },
 "nbformat": 4,
 "nbformat_minor": 2
}