{
  "nbformat": 4,
  "nbformat_minor": 0,
  "metadata": {
    "orig_nbformat": 4,
    "language_info": {
      "name": "python",
      "version": "3.8.5",
      "mimetype": "text/x-python",
      "codemirror_mode": {
        "name": "ipython",
        "version": 3
      },
      "pygments_lexer": "ipython3",
      "nbconvert_exporter": "python",
      "file_extension": ".py"
    },
    "kernelspec": {
      "name": "python3",
      "display_name": "Python 3.8.5 64-bit ('base': conda)"
    },
    "interpreter": {
      "hash": "8c1eae21719a0790335dcb83aad72b63b602cfe5cdb2bda0f60bc11d4f154e4b"
    },
    "colab": {
      "name": "210725_lightgbm_noscale.ipynb",
      "provenance": []
    },
    "accelerator": "GPU"
  },
  "cells": [
    {
      "cell_type": "markdown",
      "metadata": {
        "id": "QzwGTHyFmLAY"
      },
      "source": [
        "### 21.07.25 Team Complete"
      ]
    },
    {
      "cell_type": "markdown",
      "metadata": {
        "id": "OnC856y8mLAf"
      },
      "source": [
        "# lightgbm"
      ]
    },
    {
      "cell_type": "code",
      "metadata": {
        "id": "iY-FZE-GmLAh"
      },
      "source": [
        "import pandas as pd\n",
        "import numpy as np\n",
        "\n",
        "from sklearn.preprocessing import MinMaxScaler\n",
        "from sklearn.model_selection import  GridSearchCV\n",
        "from sklearn.metrics import r2_score, mean_squared_error\n",
        "from lightgbm import LGBMRegressor"
      ],
      "execution_count": 1,
      "outputs": []
    },
    {
      "cell_type": "code",
      "metadata": {
        "id": "1w7eE2b0mLAk"
      },
      "source": [
        "seed =2021\n",
        "np.random.seed(seed)"
      ],
      "execution_count": 2,
      "outputs": []
    },
    {
      "cell_type": "code",
      "metadata": {
        "id": "BeQmCjKxmLAl"
      },
      "source": [
        "# 01. 데이터불러오기\n",
        "df_감말랭이_raw = pd.read_csv('감말랭이.csv', encoding='cp949')\n",
        "df_감말랭이 = df_감말랭이_raw #원본저장"
      ],
      "execution_count": 3,
      "outputs": []
    },
    {
      "cell_type": "code",
      "metadata": {
        "colab": {
          "base_uri": "https://localhost:8080/",
          "height": 450
        },
        "id": "zlBY88ZMmLAn",
        "outputId": "8b8d05af-ca47-4362-81a7-74de2bd77624"
      },
      "source": [
        "df_감말랭이 = df_감말랭이.set_index('date') #date를 index로 지정\n",
        "df_감말랭이"
      ],
      "execution_count": 4,
      "outputs": [
        {
          "output_type": "execute_result",
          "data": {
            "text/html": [
              "<div>\n",
              "<style scoped>\n",
              "    .dataframe tbody tr th:only-of-type {\n",
              "        vertical-align: middle;\n",
              "    }\n",
              "\n",
              "    .dataframe tbody tr th {\n",
              "        vertical-align: top;\n",
              "    }\n",
              "\n",
              "    .dataframe thead th {\n",
              "        text-align: right;\n",
              "    }\n",
              "</style>\n",
              "<table border=\"1\" class=\"dataframe\">\n",
              "  <thead>\n",
              "    <tr style=\"text-align: right;\">\n",
              "      <th></th>\n",
              "      <th>PC1</th>\n",
              "      <th>PC2</th>\n",
              "      <th>감말랭이</th>\n",
              "    </tr>\n",
              "    <tr>\n",
              "      <th>date</th>\n",
              "      <th></th>\n",
              "      <th></th>\n",
              "      <th></th>\n",
              "    </tr>\n",
              "  </thead>\n",
              "  <tbody>\n",
              "    <tr>\n",
              "      <th>2018-01-01T00:00:00Z</th>\n",
              "      <td>-3.719474</td>\n",
              "      <td>0.965108</td>\n",
              "      <td>2.862813</td>\n",
              "    </tr>\n",
              "    <tr>\n",
              "      <th>2018-01-02T00:00:00Z</th>\n",
              "      <td>-3.741912</td>\n",
              "      <td>0.888377</td>\n",
              "      <td>4.328310</td>\n",
              "    </tr>\n",
              "    <tr>\n",
              "      <th>2018-01-03T00:00:00Z</th>\n",
              "      <td>-4.074829</td>\n",
              "      <td>0.748572</td>\n",
              "      <td>5.545913</td>\n",
              "    </tr>\n",
              "    <tr>\n",
              "      <th>2018-01-04T00:00:00Z</th>\n",
              "      <td>-4.325838</td>\n",
              "      <td>0.235772</td>\n",
              "      <td>5.867105</td>\n",
              "    </tr>\n",
              "    <tr>\n",
              "      <th>2018-01-05T00:00:00Z</th>\n",
              "      <td>-3.772842</td>\n",
              "      <td>0.246325</td>\n",
              "      <td>4.414783</td>\n",
              "    </tr>\n",
              "    <tr>\n",
              "      <th>...</th>\n",
              "      <td>...</td>\n",
              "      <td>...</td>\n",
              "      <td>...</td>\n",
              "    </tr>\n",
              "    <tr>\n",
              "      <th>2019-12-27T00:00:00Z</th>\n",
              "      <td>-3.280702</td>\n",
              "      <td>1.070884</td>\n",
              "      <td>4.136090</td>\n",
              "    </tr>\n",
              "    <tr>\n",
              "      <th>2019-12-28T00:00:00Z</th>\n",
              "      <td>-3.036702</td>\n",
              "      <td>0.091263</td>\n",
              "      <td>2.425077</td>\n",
              "    </tr>\n",
              "    <tr>\n",
              "      <th>2019-12-29T00:00:00Z</th>\n",
              "      <td>-2.978009</td>\n",
              "      <td>-1.269522</td>\n",
              "      <td>2.476555</td>\n",
              "    </tr>\n",
              "    <tr>\n",
              "      <th>2019-12-30T00:00:00Z</th>\n",
              "      <td>-3.011497</td>\n",
              "      <td>-1.995486</td>\n",
              "      <td>2.515690</td>\n",
              "    </tr>\n",
              "    <tr>\n",
              "      <th>2019-12-31T00:00:00Z</th>\n",
              "      <td>-4.444109</td>\n",
              "      <td>1.307838</td>\n",
              "      <td>1.822518</td>\n",
              "    </tr>\n",
              "  </tbody>\n",
              "</table>\n",
              "<p>730 rows × 3 columns</p>\n",
              "</div>"
            ],
            "text/plain": [
              "                           PC1       PC2      감말랭이\n",
              "date                                              \n",
              "2018-01-01T00:00:00Z -3.719474  0.965108  2.862813\n",
              "2018-01-02T00:00:00Z -3.741912  0.888377  4.328310\n",
              "2018-01-03T00:00:00Z -4.074829  0.748572  5.545913\n",
              "2018-01-04T00:00:00Z -4.325838  0.235772  5.867105\n",
              "2018-01-05T00:00:00Z -3.772842  0.246325  4.414783\n",
              "...                        ...       ...       ...\n",
              "2019-12-27T00:00:00Z -3.280702  1.070884  4.136090\n",
              "2019-12-28T00:00:00Z -3.036702  0.091263  2.425077\n",
              "2019-12-29T00:00:00Z -2.978009 -1.269522  2.476555\n",
              "2019-12-30T00:00:00Z -3.011497 -1.995486  2.515690\n",
              "2019-12-31T00:00:00Z -4.444109  1.307838  1.822518\n",
              "\n",
              "[730 rows x 3 columns]"
            ]
          },
          "metadata": {
            "tags": []
          },
          "execution_count": 4
        }
      ]
    },
    {
      "cell_type": "markdown",
      "metadata": {
        "id": "bG7L0Av8mLAq"
      },
      "source": [
        "## train/ test set split"
      ]
    },
    {
      "cell_type": "code",
      "metadata": {
        "colab": {
          "base_uri": "https://localhost:8080/"
        },
        "id": "gxv37HpEmLAr",
        "outputId": "9f3b96f7-f1c8-4ff0-814f-b6fae7df614a"
      },
      "source": [
        "#03. train/ test 분리\n",
        "X_train, X_test, y_train, y_test = df_감말랭이.iloc[0:365,:-1], df_감말랭이.iloc[365:730,:-1],df_감말랭이.iloc[0:365,-1], df_감말랭이.iloc[365:730,-1]\n",
        "X_train.shape, y_train.shape, X_test.shape, y_test.shape"
      ],
      "execution_count": 5,
      "outputs": [
        {
          "output_type": "execute_result",
          "data": {
            "text/plain": [
              "((365, 2), (365,), (365, 2), (365,))"
            ]
          },
          "metadata": {
            "tags": []
          },
          "execution_count": 5
        }
      ]
    },
    {
      "cell_type": "markdown",
      "metadata": {
        "id": "7MJgJ3TpmLAt"
      },
      "source": [
        "## 모델 생성, 학습 및 예측, 평가"
      ]
    },
    {
      "cell_type": "code",
      "metadata": {
        "colab": {
          "base_uri": "https://localhost:8080/"
        },
        "id": "21iUziQHmLAt",
        "outputId": "ef75ff57-7c47-4738-ef58-3396077f1576"
      },
      "source": [
        "#04. 모델 생성 및 학습\n",
        "lgb_rg = LGBMRegressor()\n",
        "\n",
        "# 하이퍼 파라미터 확인\n",
        "lgb_rg.get_params() "
      ],
      "execution_count": 6,
      "outputs": [
        {
          "output_type": "execute_result",
          "data": {
            "text/plain": [
              "{'boosting_type': 'gbdt',\n",
              " 'class_weight': None,\n",
              " 'colsample_bytree': 1.0,\n",
              " 'importance_type': 'split',\n",
              " 'learning_rate': 0.1,\n",
              " 'max_depth': -1,\n",
              " 'min_child_samples': 20,\n",
              " 'min_child_weight': 0.001,\n",
              " 'min_split_gain': 0.0,\n",
              " 'n_estimators': 100,\n",
              " 'n_jobs': -1,\n",
              " 'num_leaves': 31,\n",
              " 'objective': None,\n",
              " 'random_state': None,\n",
              " 'reg_alpha': 0.0,\n",
              " 'reg_lambda': 0.0,\n",
              " 'silent': True,\n",
              " 'subsample': 1.0,\n",
              " 'subsample_for_bin': 200000,\n",
              " 'subsample_freq': 0}"
            ]
          },
          "metadata": {
            "tags": []
          },
          "execution_count": 6
        }
      ]
    },
    {
      "cell_type": "code",
      "metadata": {
        "id": "gejknZ_XmLAu"
      },
      "source": [
        "# gridsearchCV\n",
        "params = {\n",
        "    'max_depth': [7,8,9],\n",
        "    'min_child_samples': [22,23,24,25,26,27],\n",
        "    'learning_rate' : [0.01, 0.02, 0.03],\n",
        "    'n_estimators' : [497,498,499,500,501,502,503] \n",
        "}\n",
        "gscv_lgb = GridSearchCV(lgb_rg, param_grid=params, cv=10)"
      ],
      "execution_count": 7,
      "outputs": []
    },
    {
      "cell_type": "code",
      "metadata": {
        "colab": {
          "base_uri": "https://localhost:8080/"
        },
        "id": "17gZtOUgmLAv",
        "outputId": "bfad014b-0c6f-494f-8594-04e3ec027822"
      },
      "source": [
        "# 모형학습\n",
        "gscv_lgb.fit(X_train,y_train, eval_metric='logloss') \n",
        "\n",
        "# 최적파라미터 확인\n",
        "gscv_lgb.best_params_"
      ],
      "execution_count": 8,
      "outputs": [
        {
          "output_type": "execute_result",
          "data": {
            "text/plain": [
              "{'learning_rate': 0.01,\n",
              " 'max_depth': 7,\n",
              " 'min_child_samples': 25,\n",
              " 'n_estimators': 497}"
            ]
          },
          "metadata": {
            "tags": []
          },
          "execution_count": 8
        }
      ]
    },
    {
      "cell_type": "code",
      "metadata": {
        "colab": {
          "base_uri": "https://localhost:8080/"
        },
        "id": "oBjcl_J-mLAw",
        "outputId": "5543f436-a3f4-4475-936b-99fe25341bc3"
      },
      "source": [
        "# 최적파라미터에 대한 평가점수 확인\n",
        "gscv_lgb.best_score_"
      ],
      "execution_count": 9,
      "outputs": [
        {
          "output_type": "execute_result",
          "data": {
            "text/plain": [
              "-9.634069063343569"
            ]
          },
          "metadata": {
            "tags": []
          },
          "execution_count": 9
        }
      ]
    },
    {
      "cell_type": "code",
      "metadata": {
        "colab": {
          "base_uri": "https://localhost:8080/"
        },
        "id": "e976Otn5mLAx",
        "outputId": "effcc2b0-50e5-4381-b45a-896454981a0e"
      },
      "source": [
        "#05. 평가\n",
        "# test 데이터셋으로 모형 예측 및 평가\n",
        "\n",
        "# R^2\n",
        "gscv_xgb_fit = gscv_lgb.best_estimator_\n",
        "lgb_pred = gscv_xgb_fit.predict(X_test)\n",
        "r2_score(y_test,lgb_pred)"
      ],
      "execution_count": 10,
      "outputs": [
        {
          "output_type": "execute_result",
          "data": {
            "text/plain": [
              "0.2589829376705687"
            ]
          },
          "metadata": {
            "tags": []
          },
          "execution_count": 10
        }
      ]
    },
    {
      "cell_type": "code",
      "metadata": {
        "colab": {
          "base_uri": "https://localhost:8080/"
        },
        "id": "FYsqG9XNmLAy",
        "outputId": "a6d0b982-f091-4329-9e04-cf1cb5986591"
      },
      "source": [
        "# RMSE\n",
        "mse = mean_squared_error(y_test,lgb_pred)\n",
        "rmse = np.sqrt(mse)\n",
        "rmse"
      ],
      "execution_count": 11,
      "outputs": [
        {
          "output_type": "execute_result",
          "data": {
            "text/plain": [
              "1.5220751473210803"
            ]
          },
          "metadata": {
            "tags": []
          },
          "execution_count": 11
        }
      ]
    }
  ]
}