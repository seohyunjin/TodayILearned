{
  "nbformat": 4,
  "nbformat_minor": 0,
  "metadata": {
    "orig_nbformat": 4,
    "language_info": {
      "name": "python",
      "version": "3.8.5",
      "mimetype": "text/x-python",
      "codemirror_mode": {
        "name": "ipython",
        "version": 3
      },
      "pygments_lexer": "ipython3",
      "nbconvert_exporter": "python",
      "file_extension": ".py"
    },
    "kernelspec": {
      "name": "python3",
      "display_name": "Python 3.8.5 64-bit ('base': conda)"
    },
    "interpreter": {
      "hash": "8c1eae21719a0790335dcb83aad72b63b602cfe5cdb2bda0f60bc11d4f154e4b"
    },
    "colab": {
      "name": "210727_lightgbm_고추피망파프리카.ipynb",
      "provenance": []
    },
    "accelerator": "GPU"
  },
  "cells": [
    {
      "cell_type": "markdown",
      "metadata": {
        "id": "QzwGTHyFmLAY"
      },
      "source": [
        "### 21.07.26 Team Complete"
      ]
    },
    {
      "cell_type": "markdown",
      "metadata": {
        "id": "OnC856y8mLAf"
      },
      "source": [
        "# lightgbm"
      ]
    },
    {
      "cell_type": "code",
      "metadata": {
        "id": "iY-FZE-GmLAh"
      },
      "source": [
        "import pandas as pd\n",
        "import numpy as np\n",
        "\n",
        "from sklearn.preprocessing import MinMaxScaler\n",
        "from sklearn.model_selection import  GridSearchCV\n",
        "from sklearn.metrics import r2_score, mean_squared_error\n",
        "from lightgbm import LGBMRegressor\n",
        "\n",
        "import datetime\n",
        "import matplotlib as mpl\n",
        "import matplotlib.pylab as plt"
      ],
      "execution_count": 13,
      "outputs": []
    },
    {
      "cell_type": "code",
      "metadata": {
        "id": "1w7eE2b0mLAk"
      },
      "source": [
        "seed =2021\n",
        "np.random.seed(seed)"
      ],
      "execution_count": 14,
      "outputs": []
    },
    {
      "cell_type": "code",
      "metadata": {
        "id": "BeQmCjKxmLAl"
      },
      "source": [
        "# 01. 데이터불러오기\n",
        "df_고추_피망_파프리카_raw = pd.read_csv('고추_피망_파프리카.csv', encoding='cp949')\n",
        "df_고추_피망_파프리카 = df_고추_피망_파프리카_raw #원본저장"
      ],
      "execution_count": 15,
      "outputs": []
    },
    {
      "cell_type": "code",
      "metadata": {
        "colab": {
          "base_uri": "https://localhost:8080/",
          "height": 450
        },
        "id": "zlBY88ZMmLAn",
        "outputId": "852a8153-5a8a-4fff-f11d-eb3efafd0ac0"
      },
      "source": [
        "df_고추_피망_파프리카 = df_고추_피망_파프리카.set_index('date') #date를 index로 지정\n",
        "df_고추_피망_파프리카"
      ],
      "execution_count": 16,
      "outputs": [
        {
          "output_type": "execute_result",
          "data": {
            "text/html": [
              "<div>\n",
              "<style scoped>\n",
              "    .dataframe tbody tr th:only-of-type {\n",
              "        vertical-align: middle;\n",
              "    }\n",
              "\n",
              "    .dataframe tbody tr th {\n",
              "        vertical-align: top;\n",
              "    }\n",
              "\n",
              "    .dataframe thead th {\n",
              "        text-align: right;\n",
              "    }\n",
              "</style>\n",
              "<table border=\"1\" class=\"dataframe\">\n",
              "  <thead>\n",
              "    <tr style=\"text-align: right;\">\n",
              "      <th></th>\n",
              "      <th>PC1</th>\n",
              "      <th>PC2</th>\n",
              "      <th>고추_피망_파프리카</th>\n",
              "    </tr>\n",
              "    <tr>\n",
              "      <th>date</th>\n",
              "      <th></th>\n",
              "      <th></th>\n",
              "      <th></th>\n",
              "    </tr>\n",
              "  </thead>\n",
              "  <tbody>\n",
              "    <tr>\n",
              "      <th>2018-01-01T00:00:00Z</th>\n",
              "      <td>-3.719474</td>\n",
              "      <td>0.965108</td>\n",
              "      <td>130.348193</td>\n",
              "    </tr>\n",
              "    <tr>\n",
              "      <th>2018-01-02T00:00:00Z</th>\n",
              "      <td>-3.741912</td>\n",
              "      <td>0.888377</td>\n",
              "      <td>165.836227</td>\n",
              "    </tr>\n",
              "    <tr>\n",
              "      <th>2018-01-03T00:00:00Z</th>\n",
              "      <td>-4.074829</td>\n",
              "      <td>0.748572</td>\n",
              "      <td>176.919777</td>\n",
              "    </tr>\n",
              "    <tr>\n",
              "      <th>2018-01-04T00:00:00Z</th>\n",
              "      <td>-4.325838</td>\n",
              "      <td>0.235772</td>\n",
              "      <td>182.992995</td>\n",
              "    </tr>\n",
              "    <tr>\n",
              "      <th>2018-01-05T00:00:00Z</th>\n",
              "      <td>-3.772842</td>\n",
              "      <td>0.246325</td>\n",
              "      <td>184.223550</td>\n",
              "    </tr>\n",
              "    <tr>\n",
              "      <th>...</th>\n",
              "      <td>...</td>\n",
              "      <td>...</td>\n",
              "      <td>...</td>\n",
              "    </tr>\n",
              "    <tr>\n",
              "      <th>2019-12-27T00:00:00Z</th>\n",
              "      <td>-3.280702</td>\n",
              "      <td>1.070884</td>\n",
              "      <td>166.974062</td>\n",
              "    </tr>\n",
              "    <tr>\n",
              "      <th>2019-12-28T00:00:00Z</th>\n",
              "      <td>-3.036702</td>\n",
              "      <td>0.091263</td>\n",
              "      <td>161.722930</td>\n",
              "    </tr>\n",
              "    <tr>\n",
              "      <th>2019-12-29T00:00:00Z</th>\n",
              "      <td>-2.978009</td>\n",
              "      <td>-1.269522</td>\n",
              "      <td>179.795267</td>\n",
              "    </tr>\n",
              "    <tr>\n",
              "      <th>2019-12-30T00:00:00Z</th>\n",
              "      <td>-3.011497</td>\n",
              "      <td>-1.995486</td>\n",
              "      <td>175.490610</td>\n",
              "    </tr>\n",
              "    <tr>\n",
              "      <th>2019-12-31T00:00:00Z</th>\n",
              "      <td>-4.444109</td>\n",
              "      <td>1.307838</td>\n",
              "      <td>159.653955</td>\n",
              "    </tr>\n",
              "  </tbody>\n",
              "</table>\n",
              "<p>730 rows × 3 columns</p>\n",
              "</div>"
            ],
            "text/plain": [
              "                           PC1       PC2  고추_피망_파프리카\n",
              "date                                                \n",
              "2018-01-01T00:00:00Z -3.719474  0.965108  130.348193\n",
              "2018-01-02T00:00:00Z -3.741912  0.888377  165.836227\n",
              "2018-01-03T00:00:00Z -4.074829  0.748572  176.919777\n",
              "2018-01-04T00:00:00Z -4.325838  0.235772  182.992995\n",
              "2018-01-05T00:00:00Z -3.772842  0.246325  184.223550\n",
              "...                        ...       ...         ...\n",
              "2019-12-27T00:00:00Z -3.280702  1.070884  166.974062\n",
              "2019-12-28T00:00:00Z -3.036702  0.091263  161.722930\n",
              "2019-12-29T00:00:00Z -2.978009 -1.269522  179.795267\n",
              "2019-12-30T00:00:00Z -3.011497 -1.995486  175.490610\n",
              "2019-12-31T00:00:00Z -4.444109  1.307838  159.653955\n",
              "\n",
              "[730 rows x 3 columns]"
            ]
          },
          "metadata": {
            "tags": []
          },
          "execution_count": 16
        }
      ]
    },
    {
      "cell_type": "markdown",
      "metadata": {
        "id": "bG7L0Av8mLAq"
      },
      "source": [
        "## train/ test set split"
      ]
    },
    {
      "cell_type": "code",
      "metadata": {
        "colab": {
          "base_uri": "https://localhost:8080/"
        },
        "id": "gxv37HpEmLAr",
        "outputId": "8441d14f-d0c8-4700-cade-06692040af44"
      },
      "source": [
        "#03. train/ test 분리\n",
        "X_train, X_test, y_train, y_test = df_고추_피망_파프리카.iloc[0:365,:-1], df_고추_피망_파프리카.iloc[365:730,:-1],df_고추_피망_파프리카.iloc[0:365,-1], df_고추_피망_파프리카.iloc[365:730,-1]\n",
        "X_train.shape, y_train.shape, X_test.shape, y_test.shape"
      ],
      "execution_count": 17,
      "outputs": [
        {
          "output_type": "execute_result",
          "data": {
            "text/plain": [
              "((365, 2), (365,), (365, 2), (365,))"
            ]
          },
          "metadata": {
            "tags": []
          },
          "execution_count": 17
        }
      ]
    },
    {
      "cell_type": "markdown",
      "metadata": {
        "id": "7MJgJ3TpmLAt"
      },
      "source": [
        "## 모델 생성, 학습 및 예측, 평가"
      ]
    },
    {
      "cell_type": "code",
      "metadata": {
        "colab": {
          "base_uri": "https://localhost:8080/"
        },
        "id": "21iUziQHmLAt",
        "outputId": "e8cf50d3-c77b-432a-f4fd-6aef0e17153a"
      },
      "source": [
        "#04. 모델 생성 및 학습\n",
        "lgb_rg = LGBMRegressor()\n",
        "\n",
        "# 하이퍼 파라미터 확인\n",
        "lgb_rg.get_params() "
      ],
      "execution_count": 18,
      "outputs": [
        {
          "output_type": "execute_result",
          "data": {
            "text/plain": [
              "{'boosting_type': 'gbdt',\n",
              " 'class_weight': None,\n",
              " 'colsample_bytree': 1.0,\n",
              " 'importance_type': 'split',\n",
              " 'learning_rate': 0.1,\n",
              " 'max_depth': -1,\n",
              " 'min_child_samples': 20,\n",
              " 'min_child_weight': 0.001,\n",
              " 'min_split_gain': 0.0,\n",
              " 'n_estimators': 100,\n",
              " 'n_jobs': -1,\n",
              " 'num_leaves': 31,\n",
              " 'objective': None,\n",
              " 'random_state': None,\n",
              " 'reg_alpha': 0.0,\n",
              " 'reg_lambda': 0.0,\n",
              " 'silent': True,\n",
              " 'subsample': 1.0,\n",
              " 'subsample_for_bin': 200000,\n",
              " 'subsample_freq': 0}"
            ]
          },
          "metadata": {
            "tags": []
          },
          "execution_count": 18
        }
      ]
    },
    {
      "cell_type": "code",
      "metadata": {
        "id": "gejknZ_XmLAu"
      },
      "source": [
        "# gridsearchCV\n",
        "params = {\n",
        "    'max_depth': [1, 2, 3, 4],\n",
        "    'min_child_samples': [36, 37, 38],\n",
        "    'learning_rate' : [0.01, 0.02, 0.03],\n",
        "    'n_estimators' : [500, 501, 502, 503, 504, 505] \n",
        "}\n",
        "gscv_lgb = GridSearchCV(lgb_rg, param_grid=params, cv=10)"
      ],
      "execution_count": 19,
      "outputs": []
    },
    {
      "cell_type": "code",
      "metadata": {
        "colab": {
          "base_uri": "https://localhost:8080/"
        },
        "id": "17gZtOUgmLAv",
        "outputId": "2677b79a-84d7-41f3-d4c4-64dd22c289e3"
      },
      "source": [
        "# 모형학습\n",
        "gscv_lgb.fit(X_train,y_train, eval_metric='logloss') \n",
        "\n",
        "# 최적파라미터 확인\n",
        "gscv_lgb.best_params_"
      ],
      "execution_count": 20,
      "outputs": [
        {
          "output_type": "execute_result",
          "data": {
            "text/plain": [
              "{'learning_rate': 0.03,\n",
              " 'max_depth': 3,\n",
              " 'min_child_samples': 36,\n",
              " 'n_estimators': 502}"
            ]
          },
          "metadata": {
            "tags": []
          },
          "execution_count": 20
        }
      ]
    },
    {
      "cell_type": "code",
      "metadata": {
        "colab": {
          "base_uri": "https://localhost:8080/"
        },
        "id": "oBjcl_J-mLAw",
        "outputId": "8948382c-78ce-4101-ee77-f70c8afe3425"
      },
      "source": [
        "# 최적파라미터에 대한 평가점수 확인\n",
        "gscv_lgb.best_score_"
      ],
      "execution_count": 21,
      "outputs": [
        {
          "output_type": "execute_result",
          "data": {
            "text/plain": [
              "-1.9347604819129516"
            ]
          },
          "metadata": {
            "tags": []
          },
          "execution_count": 21
        }
      ]
    },
    {
      "cell_type": "code",
      "metadata": {
        "colab": {
          "base_uri": "https://localhost:8080/"
        },
        "id": "e976Otn5mLAx",
        "outputId": "3df012c8-8f07-4ce2-e5af-e64c4638cf8c"
      },
      "source": [
        "#05. 평가\n",
        "# test 데이터셋으로 모형 예측 및 평가\n",
        "\n",
        "# R^2\n",
        "gscv_xgb_fit = gscv_lgb.best_estimator_\n",
        "lgb_pred = gscv_xgb_fit.predict(X_test)\n",
        "r2_score(y_test,lgb_pred)"
      ],
      "execution_count": 22,
      "outputs": [
        {
          "output_type": "execute_result",
          "data": {
            "text/plain": [
              "-0.08917201557487786"
            ]
          },
          "metadata": {
            "tags": []
          },
          "execution_count": 22
        }
      ]
    },
    {
      "cell_type": "code",
      "metadata": {
        "colab": {
          "base_uri": "https://localhost:8080/"
        },
        "id": "FYsqG9XNmLAy",
        "outputId": "78aabb89-54b8-46f0-ea29-a3d7d5853a6f"
      },
      "source": [
        "# RMSE\n",
        "mse = mean_squared_error(y_test,lgb_pred)\n",
        "rmse = np.sqrt(mse)\n",
        "rmse"
      ],
      "execution_count": 23,
      "outputs": [
        {
          "output_type": "execute_result",
          "data": {
            "text/plain": [
              "23.712567664088866"
            ]
          },
          "metadata": {
            "tags": []
          },
          "execution_count": 23
        }
      ]
    },
    {
      "cell_type": "markdown",
      "metadata": {
        "id": "3HwNZ6jq-Duv"
      },
      "source": [
        "## 시각화"
      ]
    },
    {
      "cell_type": "code",
      "metadata": {
        "colab": {
          "base_uri": "https://localhost:8080/",
          "height": 207
        },
        "id": "lucMzmnr-HKd",
        "outputId": "884eaf27-0479-45ea-f63b-6eabd894664c"
      },
      "source": [
        "test_date = pd.to_datetime(df_고추_피망_파프리카_raw.iloc[365:730,0].astype('str'))\n",
        "\n",
        "plt.figure(figsize=(14,4))\n",
        "plt.plot(test_date, y_test, label='real_value')\n",
        "plt.plot(test_date, lgb_pred, label='predict_value')\n",
        "plt.legend(loc='upper left')\n",
        "plt.show()"
      ],
      "execution_count": 24,
      "outputs": [
        {
          "output_type": "display_data",
          "data": {
            "image/png": "[encoded data removed]",
            "text/plain": [
              "<Figure size 1008x288 with 1 Axes>"
            ]
          },
          "metadata": {
            "tags": [],
            "needs_background": "light"
          }
        }
      ]
    }
  ]
}