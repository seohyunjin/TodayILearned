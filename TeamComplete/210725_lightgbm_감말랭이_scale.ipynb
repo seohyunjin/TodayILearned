{
  "nbformat": 4,
  "nbformat_minor": 0,
  "metadata": {
    "orig_nbformat": 4,
    "language_info": {
      "name": "python",
      "version": "3.8.5",
      "mimetype": "text/x-python",
      "codemirror_mode": {
        "name": "ipython",
        "version": 3
      },
      "pygments_lexer": "ipython3",
      "nbconvert_exporter": "python",
      "file_extension": ".py"
    },
    "kernelspec": {
      "name": "python3",
      "display_name": "Python 3.8.5 64-bit ('base': conda)"
    },
    "interpreter": {
      "hash": "8c1eae21719a0790335dcb83aad72b63b602cfe5cdb2bda0f60bc11d4f154e4b"
    },
    "colab": {
      "name": "210725_lightgbm.ipynb",
      "provenance": []
    }
  },
  "cells": [
    {
      "cell_type": "markdown",
      "metadata": {
        "id": "rIjMejJ0qNmd"
      },
      "source": [
        "### 21.07.25 Team Complete"
      ]
    },
    {
      "cell_type": "markdown",
      "metadata": {
        "id": "Q2O6qNuXqNme"
      },
      "source": [
        "# lightgbm"
      ]
    },
    {
      "cell_type": "code",
      "metadata": {
        "id": "HJkVXVYjqNmg"
      },
      "source": [
        "import pandas as pd\n",
        "import numpy as np\n",
        "\n",
        "from sklearn.preprocessing import MinMaxScaler\n",
        "from sklearn.model_selection import  GridSearchCV\n",
        "from sklearn.metrics import r2_score, mean_squared_error\n",
        "from lightgbm import LGBMRegressor"
      ],
      "execution_count": 1,
      "outputs": []
    },
    {
      "cell_type": "code",
      "metadata": {
        "id": "Stmf3hDcqNmi"
      },
      "source": [
        "seed =2021\n",
        "np.random.seed(seed)"
      ],
      "execution_count": 2,
      "outputs": []
    },
    {
      "cell_type": "code",
      "metadata": {
        "id": "LIQQVruxqNmj"
      },
      "source": [
        "# 01. 데이터불러오기\n",
        "df_감말랭이_raw = pd.read_csv('감말랭이.csv', encoding='cp949')\n",
        "df_감말랭이 = df_감말랭이_raw #원본저장"
      ],
      "execution_count": 3,
      "outputs": []
    },
    {
      "cell_type": "code",
      "metadata": {
        "id": "dPohUTu7qNmk"
      },
      "source": [
        "df_감말랭이 = df_감말랭이.set_index('date') #date를 index로 지정"
      ],
      "execution_count": 4,
      "outputs": []
    },
    {
      "cell_type": "markdown",
      "metadata": {
        "id": "RSgHLgwuqNml"
      },
      "source": [
        "## Target data 스케일링 "
      ]
    },
    {
      "cell_type": "code",
      "metadata": {
        "colab": {
          "base_uri": "https://localhost:8080/",
          "height": 450
        },
        "id": "hFFRcqD0qNmm",
        "outputId": "7a516ad9-9cfd-4157-d60c-1c498b7ac4f7"
      },
      "source": [
        "# 02. 전처리\n",
        "df_감말랭이['감말랭이_scaling'] = MinMaxScaler().fit_transform(df_감말랭이[['감말랭이']]) # 감말랭이열 scaling\n",
        "df_감말랭이"
      ],
      "execution_count": 5,
      "outputs": [
        {
          "output_type": "execute_result",
          "data": {
            "text/html": [
              "<div>\n",
              "<style scoped>\n",
              "    .dataframe tbody tr th:only-of-type {\n",
              "        vertical-align: middle;\n",
              "    }\n",
              "\n",
              "    .dataframe tbody tr th {\n",
              "        vertical-align: top;\n",
              "    }\n",
              "\n",
              "    .dataframe thead th {\n",
              "        text-align: right;\n",
              "    }\n",
              "</style>\n",
              "<table border=\"1\" class=\"dataframe\">\n",
              "  <thead>\n",
              "    <tr style=\"text-align: right;\">\n",
              "      <th></th>\n",
              "      <th>PC1</th>\n",
              "      <th>PC2</th>\n",
              "      <th>감말랭이</th>\n",
              "      <th>감말랭이_scaling</th>\n",
              "    </tr>\n",
              "    <tr>\n",
              "      <th>date</th>\n",
              "      <th></th>\n",
              "      <th></th>\n",
              "      <th></th>\n",
              "      <th></th>\n",
              "    </tr>\n",
              "  </thead>\n",
              "  <tbody>\n",
              "    <tr>\n",
              "      <th>2018-01-01T00:00:00Z</th>\n",
              "      <td>-3.719474</td>\n",
              "      <td>0.965108</td>\n",
              "      <td>2.862813</td>\n",
              "      <td>0.252020</td>\n",
              "    </tr>\n",
              "    <tr>\n",
              "      <th>2018-01-02T00:00:00Z</th>\n",
              "      <td>-3.741912</td>\n",
              "      <td>0.888377</td>\n",
              "      <td>4.328310</td>\n",
              "      <td>0.385424</td>\n",
              "    </tr>\n",
              "    <tr>\n",
              "      <th>2018-01-03T00:00:00Z</th>\n",
              "      <td>-4.074829</td>\n",
              "      <td>0.748572</td>\n",
              "      <td>5.545913</td>\n",
              "      <td>0.496263</td>\n",
              "    </tr>\n",
              "    <tr>\n",
              "      <th>2018-01-04T00:00:00Z</th>\n",
              "      <td>-4.325838</td>\n",
              "      <td>0.235772</td>\n",
              "      <td>5.867105</td>\n",
              "      <td>0.525501</td>\n",
              "    </tr>\n",
              "    <tr>\n",
              "      <th>2018-01-05T00:00:00Z</th>\n",
              "      <td>-3.772842</td>\n",
              "      <td>0.246325</td>\n",
              "      <td>4.414783</td>\n",
              "      <td>0.393296</td>\n",
              "    </tr>\n",
              "    <tr>\n",
              "      <th>...</th>\n",
              "      <td>...</td>\n",
              "      <td>...</td>\n",
              "      <td>...</td>\n",
              "      <td>...</td>\n",
              "    </tr>\n",
              "    <tr>\n",
              "      <th>2019-12-27T00:00:00Z</th>\n",
              "      <td>-3.280702</td>\n",
              "      <td>1.070884</td>\n",
              "      <td>4.136090</td>\n",
              "      <td>0.367926</td>\n",
              "    </tr>\n",
              "    <tr>\n",
              "      <th>2019-12-28T00:00:00Z</th>\n",
              "      <td>-3.036702</td>\n",
              "      <td>0.091263</td>\n",
              "      <td>2.425077</td>\n",
              "      <td>0.212172</td>\n",
              "    </tr>\n",
              "    <tr>\n",
              "      <th>2019-12-29T00:00:00Z</th>\n",
              "      <td>-2.978009</td>\n",
              "      <td>-1.269522</td>\n",
              "      <td>2.476555</td>\n",
              "      <td>0.216858</td>\n",
              "    </tr>\n",
              "    <tr>\n",
              "      <th>2019-12-30T00:00:00Z</th>\n",
              "      <td>-3.011497</td>\n",
              "      <td>-1.995486</td>\n",
              "      <td>2.515690</td>\n",
              "      <td>0.220421</td>\n",
              "    </tr>\n",
              "    <tr>\n",
              "      <th>2019-12-31T00:00:00Z</th>\n",
              "      <td>-4.444109</td>\n",
              "      <td>1.307838</td>\n",
              "      <td>1.822518</td>\n",
              "      <td>0.157321</td>\n",
              "    </tr>\n",
              "  </tbody>\n",
              "</table>\n",
              "<p>730 rows × 4 columns</p>\n",
              "</div>"
            ],
            "text/plain": [
              "                           PC1       PC2      감말랭이  감말랭이_scaling\n",
              "date                                                            \n",
              "2018-01-01T00:00:00Z -3.719474  0.965108  2.862813      0.252020\n",
              "2018-01-02T00:00:00Z -3.741912  0.888377  4.328310      0.385424\n",
              "2018-01-03T00:00:00Z -4.074829  0.748572  5.545913      0.496263\n",
              "2018-01-04T00:00:00Z -4.325838  0.235772  5.867105      0.525501\n",
              "2018-01-05T00:00:00Z -3.772842  0.246325  4.414783      0.393296\n",
              "...                        ...       ...       ...           ...\n",
              "2019-12-27T00:00:00Z -3.280702  1.070884  4.136090      0.367926\n",
              "2019-12-28T00:00:00Z -3.036702  0.091263  2.425077      0.212172\n",
              "2019-12-29T00:00:00Z -2.978009 -1.269522  2.476555      0.216858\n",
              "2019-12-30T00:00:00Z -3.011497 -1.995486  2.515690      0.220421\n",
              "2019-12-31T00:00:00Z -4.444109  1.307838  1.822518      0.157321\n",
              "\n",
              "[730 rows x 4 columns]"
            ]
          },
          "metadata": {
            "tags": []
          },
          "execution_count": 5
        }
      ]
    },
    {
      "cell_type": "code",
      "metadata": {
        "colab": {
          "base_uri": "https://localhost:8080/",
          "height": 450
        },
        "id": "pKUmk7UrqNmo",
        "outputId": "244f6354-9424-48a7-fdff-7631ed3837fa"
      },
      "source": [
        "del df_감말랭이['감말랭이'] # 스케일링 이전 column delete\n",
        "df_감말랭이"
      ],
      "execution_count": 6,
      "outputs": [
        {
          "output_type": "execute_result",
          "data": {
            "text/html": [
              "<div>\n",
              "<style scoped>\n",
              "    .dataframe tbody tr th:only-of-type {\n",
              "        vertical-align: middle;\n",
              "    }\n",
              "\n",
              "    .dataframe tbody tr th {\n",
              "        vertical-align: top;\n",
              "    }\n",
              "\n",
              "    .dataframe thead th {\n",
              "        text-align: right;\n",
              "    }\n",
              "</style>\n",
              "<table border=\"1\" class=\"dataframe\">\n",
              "  <thead>\n",
              "    <tr style=\"text-align: right;\">\n",
              "      <th></th>\n",
              "      <th>PC1</th>\n",
              "      <th>PC2</th>\n",
              "      <th>감말랭이_scaling</th>\n",
              "    </tr>\n",
              "    <tr>\n",
              "      <th>date</th>\n",
              "      <th></th>\n",
              "      <th></th>\n",
              "      <th></th>\n",
              "    </tr>\n",
              "  </thead>\n",
              "  <tbody>\n",
              "    <tr>\n",
              "      <th>2018-01-01T00:00:00Z</th>\n",
              "      <td>-3.719474</td>\n",
              "      <td>0.965108</td>\n",
              "      <td>0.252020</td>\n",
              "    </tr>\n",
              "    <tr>\n",
              "      <th>2018-01-02T00:00:00Z</th>\n",
              "      <td>-3.741912</td>\n",
              "      <td>0.888377</td>\n",
              "      <td>0.385424</td>\n",
              "    </tr>\n",
              "    <tr>\n",
              "      <th>2018-01-03T00:00:00Z</th>\n",
              "      <td>-4.074829</td>\n",
              "      <td>0.748572</td>\n",
              "      <td>0.496263</td>\n",
              "    </tr>\n",
              "    <tr>\n",
              "      <th>2018-01-04T00:00:00Z</th>\n",
              "      <td>-4.325838</td>\n",
              "      <td>0.235772</td>\n",
              "      <td>0.525501</td>\n",
              "    </tr>\n",
              "    <tr>\n",
              "      <th>2018-01-05T00:00:00Z</th>\n",
              "      <td>-3.772842</td>\n",
              "      <td>0.246325</td>\n",
              "      <td>0.393296</td>\n",
              "    </tr>\n",
              "    <tr>\n",
              "      <th>...</th>\n",
              "      <td>...</td>\n",
              "      <td>...</td>\n",
              "      <td>...</td>\n",
              "    </tr>\n",
              "    <tr>\n",
              "      <th>2019-12-27T00:00:00Z</th>\n",
              "      <td>-3.280702</td>\n",
              "      <td>1.070884</td>\n",
              "      <td>0.367926</td>\n",
              "    </tr>\n",
              "    <tr>\n",
              "      <th>2019-12-28T00:00:00Z</th>\n",
              "      <td>-3.036702</td>\n",
              "      <td>0.091263</td>\n",
              "      <td>0.212172</td>\n",
              "    </tr>\n",
              "    <tr>\n",
              "      <th>2019-12-29T00:00:00Z</th>\n",
              "      <td>-2.978009</td>\n",
              "      <td>-1.269522</td>\n",
              "      <td>0.216858</td>\n",
              "    </tr>\n",
              "    <tr>\n",
              "      <th>2019-12-30T00:00:00Z</th>\n",
              "      <td>-3.011497</td>\n",
              "      <td>-1.995486</td>\n",
              "      <td>0.220421</td>\n",
              "    </tr>\n",
              "    <tr>\n",
              "      <th>2019-12-31T00:00:00Z</th>\n",
              "      <td>-4.444109</td>\n",
              "      <td>1.307838</td>\n",
              "      <td>0.157321</td>\n",
              "    </tr>\n",
              "  </tbody>\n",
              "</table>\n",
              "<p>730 rows × 3 columns</p>\n",
              "</div>"
            ],
            "text/plain": [
              "                           PC1       PC2  감말랭이_scaling\n",
              "date                                                  \n",
              "2018-01-01T00:00:00Z -3.719474  0.965108      0.252020\n",
              "2018-01-02T00:00:00Z -3.741912  0.888377      0.385424\n",
              "2018-01-03T00:00:00Z -4.074829  0.748572      0.496263\n",
              "2018-01-04T00:00:00Z -4.325838  0.235772      0.525501\n",
              "2018-01-05T00:00:00Z -3.772842  0.246325      0.393296\n",
              "...                        ...       ...           ...\n",
              "2019-12-27T00:00:00Z -3.280702  1.070884      0.367926\n",
              "2019-12-28T00:00:00Z -3.036702  0.091263      0.212172\n",
              "2019-12-29T00:00:00Z -2.978009 -1.269522      0.216858\n",
              "2019-12-30T00:00:00Z -3.011497 -1.995486      0.220421\n",
              "2019-12-31T00:00:00Z -4.444109  1.307838      0.157321\n",
              "\n",
              "[730 rows x 3 columns]"
            ]
          },
          "metadata": {
            "tags": []
          },
          "execution_count": 6
        }
      ]
    },
    {
      "cell_type": "markdown",
      "metadata": {
        "id": "iFc9yE2RqNmp"
      },
      "source": [
        "## train/ test set split"
      ]
    },
    {
      "cell_type": "code",
      "metadata": {
        "colab": {
          "base_uri": "https://localhost:8080/"
        },
        "id": "YP3pLvBoqNmq",
        "outputId": "9f0ff17d-c0dc-4916-cb65-d03a97eaff9f"
      },
      "source": [
        "#03. train/ test 분리\n",
        "X_train, X_test, y_train, y_test = df_감말랭이.iloc[0:365,:-1], df_감말랭이.iloc[365:730,:-1],df_감말랭이.iloc[0:365,-1], df_감말랭이.iloc[365:730,-1]\n",
        "X_train.shape, y_train.shape, X_test.shape, y_test.shape"
      ],
      "execution_count": 7,
      "outputs": [
        {
          "output_type": "execute_result",
          "data": {
            "text/plain": [
              "((365, 2), (365,), (365, 2), (365,))"
            ]
          },
          "metadata": {
            "tags": []
          },
          "execution_count": 7
        }
      ]
    },
    {
      "cell_type": "markdown",
      "metadata": {
        "id": "5sVq5V1WqNms"
      },
      "source": [
        "## 모델 생성, 학습 및 예측, 평가"
      ]
    },
    {
      "cell_type": "code",
      "metadata": {
        "colab": {
          "base_uri": "https://localhost:8080/"
        },
        "id": "_Dd7PtOBqNms",
        "outputId": "03a2be71-c2be-4769-e6e6-74cb73e12b51"
      },
      "source": [
        "#04. 모델 생성 및 학습\n",
        "lgb_rg = LGBMRegressor()\n",
        "\n",
        "# 하이퍼 파라미터 확인\n",
        "lgb_rg.get_params() "
      ],
      "execution_count": 8,
      "outputs": [
        {
          "output_type": "execute_result",
          "data": {
            "text/plain": [
              "{'boosting_type': 'gbdt',\n",
              " 'class_weight': None,\n",
              " 'colsample_bytree': 1.0,\n",
              " 'importance_type': 'split',\n",
              " 'learning_rate': 0.1,\n",
              " 'max_depth': -1,\n",
              " 'min_child_samples': 20,\n",
              " 'min_child_weight': 0.001,\n",
              " 'min_split_gain': 0.0,\n",
              " 'n_estimators': 100,\n",
              " 'n_jobs': -1,\n",
              " 'num_leaves': 31,\n",
              " 'objective': None,\n",
              " 'random_state': None,\n",
              " 'reg_alpha': 0.0,\n",
              " 'reg_lambda': 0.0,\n",
              " 'silent': True,\n",
              " 'subsample': 1.0,\n",
              " 'subsample_for_bin': 200000,\n",
              " 'subsample_freq': 0}"
            ]
          },
          "metadata": {
            "tags": []
          },
          "execution_count": 8
        }
      ]
    },
    {
      "cell_type": "code",
      "metadata": {
        "id": "KFDP8kwcqNmt"
      },
      "source": [
        "# gridsearchCV\n",
        "params = {\n",
        "    'max_depth': [7,8,9],\n",
        "    'min_child_samples': [22,23,24,25,26,27],\n",
        "    'learning_rate' : [0.01, 0.02, 0.03],\n",
        "    'n_estimators' : [497,498,499,500,501,502,503] \n",
        "}\n",
        "gscv_lgb = GridSearchCV(lgb_rg, param_grid=params, cv=10)"
      ],
      "execution_count": 9,
      "outputs": []
    },
    {
      "cell_type": "code",
      "metadata": {
        "colab": {
          "base_uri": "https://localhost:8080/"
        },
        "id": "VxcQj_HIqNmu",
        "outputId": "e6849f58-c2d3-47a3-e299-9cafaae12750"
      },
      "source": [
        "# 모형학습\n",
        "gscv_lgb.fit(X_train,y_train, eval_metric='logloss') \n",
        "\n",
        "# 최적파라미터 확인\n",
        "gscv_lgb.best_params_"
      ],
      "execution_count": 10,
      "outputs": [
        {
          "output_type": "execute_result",
          "data": {
            "text/plain": [
              "{'learning_rate': 0.01,\n",
              " 'max_depth': 7,\n",
              " 'min_child_samples': 25,\n",
              " 'n_estimators': 497}"
            ]
          },
          "metadata": {
            "tags": []
          },
          "execution_count": 10
        }
      ]
    },
    {
      "cell_type": "code",
      "metadata": {
        "colab": {
          "base_uri": "https://localhost:8080/"
        },
        "id": "KlEkXqZjqNmv",
        "outputId": "9f55a679-e1f9-4dbd-8a8a-bc7efbbd2c2a"
      },
      "source": [
        "# 최적파라미터에 대한 평가점수 확인\n",
        "gscv_lgb.best_score_"
      ],
      "execution_count": 11,
      "outputs": [
        {
          "output_type": "execute_result",
          "data": {
            "text/plain": [
              "-9.634068937962962"
            ]
          },
          "metadata": {
            "tags": []
          },
          "execution_count": 11
        }
      ]
    },
    {
      "cell_type": "code",
      "metadata": {
        "colab": {
          "base_uri": "https://localhost:8080/"
        },
        "id": "JXtRf0V1qNmw",
        "outputId": "b2760762-058d-4616-dcef-39b6ee947ab4"
      },
      "source": [
        "#05. 평가\n",
        "# test 데이터셋으로 모형 예측 및 평가\n",
        "\n",
        "# R^2\n",
        "gscv_xgb_fit = gscv_lgb.best_estimator_\n",
        "lgb_pred = gscv_xgb_fit.predict(X_test)\n",
        "r2_score(y_test,lgb_pred)"
      ],
      "execution_count": 12,
      "outputs": [
        {
          "output_type": "execute_result",
          "data": {
            "text/plain": [
              "0.2589829413941712"
            ]
          },
          "metadata": {
            "tags": []
          },
          "execution_count": 12
        }
      ]
    },
    {
      "cell_type": "code",
      "metadata": {
        "colab": {
          "base_uri": "https://localhost:8080/"
        },
        "id": "bIV5RQT-qNmw",
        "outputId": "f3bf2f42-4897-46c0-f6e1-821b84cb6ee0"
      },
      "source": [
        "# RMSE\n",
        "mse = mean_squared_error(y_test,lgb_pred)\n",
        "rmse = np.sqrt(mse)\n",
        "rmse"
      ],
      "execution_count": 13,
      "outputs": [
        {
          "output_type": "execute_result",
          "data": {
            "text/plain": [
              "0.13855507333196618"
            ]
          },
          "metadata": {
            "tags": []
          },
          "execution_count": 13
        }
      ]
    }
  ]
}