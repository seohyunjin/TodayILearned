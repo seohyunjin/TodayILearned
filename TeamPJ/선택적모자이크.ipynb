{
 "cells": [
  {
   "cell_type": "markdown",
   "metadata": {},
   "source": [
    "# 얼굴 분류기 \r\n",
    "### _ 무한도전 중 승리"
   ]
  },
  {
   "cell_type": "markdown",
   "metadata": {},
   "source": [
    "### GitHub 모델 이용 https://github.com/davisking/dlib-models "
   ]
  },
  {
   "cell_type": "code",
   "execution_count": 4,
   "metadata": {},
   "outputs": [],
   "source": [
    "import warnings\r\n",
    "warnings.filterwarnings('ignore')"
   ]
  },
  {
   "cell_type": "code",
   "execution_count": 40,
   "metadata": {},
   "outputs": [],
   "source": [
    "import dlib, cv2\r\n",
    "import numpy as np\r\n",
    "import matplotlib.pyplot as plt\r\n",
    "from PIL import ImageFont, ImageDraw, Image\r\n",
    "import tensorflow.keras \r\n",
    "from tensorflow.keras import backend as K\r\n",
    "\r\n",
    "detector = dlib.get_frontal_face_detector()\r\n",
    "sp = dlib.shape_predictor('models/shape_predictor_68_face_landmarks.dat')\r\n",
    "facerec = dlib.face_recognition_model_v1('models/dlib_face_recognition_resnet_model_v1.dat')"
   ]
  },
  {
   "cell_type": "code",
   "execution_count": 11,
   "metadata": {},
   "outputs": [],
   "source": [
    "def find_faces(img):\r\n",
    "    dets = detector(img, 1)\r\n",
    "    \r\n",
    "    if len(dets) == 0:\r\n",
    "        return np.empty(0), np.empty(0), np.empty(0)\r\n",
    "    \r\n",
    "    rects, shapes = [], []\r\n",
    "    shapes_np = np.zeros((len(dets), 68, 2), dtype=np.int)\r\n",
    "    for k, d in enumerate(dets):\r\n",
    "        rect = ((d.left(), d.top()), (d.right(), d.bottom()))\r\n",
    "        rects.append(rect)\r\n",
    "\r\n",
    "        shape = sp(img, d)\r\n",
    "        \r\n",
    "        # convert dlib shape to numpy array\r\n",
    "        for i in range(0, 68):\r\n",
    "            shapes_np[k][i] = (shape.part(i).x, shape.part(i).y)\r\n",
    "\r\n",
    "        shapes.append(shape)\r\n",
    "        \r\n",
    "    return rects, shapes, shapes_np\r\n",
    "\r\n",
    "def encode_faces(img, shapes):\r\n",
    "    face_descriptors = []\r\n",
    "    for shape in shapes:\r\n",
    "        face_descriptor = facerec.compute_face_descriptor(img, shape)\r\n",
    "        face_descriptors.append(np.array(face_descriptor))\r\n",
    "\r\n",
    "    return np.array(face_descriptors)"
   ]
  },
  {
   "cell_type": "code",
   "execution_count": 38,
   "metadata": {},
   "outputs": [
    {
     "name": "stdout",
     "output_type": "stream",
     "text": [
      "[['승리one', array([-2.40262132e-02,  9.39716250e-02,  4.13361937e-02, -4.57958393e-02,\n",
      "       -1.03981122e-01, -3.15149613e-02, -5.27299419e-02, -1.32668108e-01,\n",
      "        1.32559806e-01, -8.61146748e-02,  2.70637333e-01,  7.65107339e-03,\n",
      "       -2.36778975e-01, -6.70214444e-02, -8.10003504e-02,  1.85054198e-01,\n",
      "       -1.62715316e-01, -1.71724036e-01, -6.58934563e-02,  3.38285193e-02,\n",
      "        1.11694440e-01,  5.01411073e-02,  2.06927564e-02,  7.17308233e-03,\n",
      "       -1.07667871e-01, -2.44589716e-01, -6.71811923e-02, -5.05602285e-02,\n",
      "       -1.96790062e-02, -6.58920035e-02, -8.24876130e-02,  9.94025962e-04,\n",
      "       -1.97627902e-01, -8.78196806e-02,  1.05078720e-01,  6.55246750e-02,\n",
      "       -4.50344831e-02, -1.36058539e-01,  2.01559290e-01,  4.80270572e-03,\n",
      "       -2.19820619e-01,  8.11564624e-02,  6.56966716e-02,  2.26459309e-01,\n",
      "        2.10406929e-01, -2.25828625e-02,  1.42756533e-02, -2.19403371e-01,\n",
      "        1.54290468e-01, -1.85518995e-01,  5.92763983e-02,  1.17612146e-01,\n",
      "        1.36173591e-01,  6.20408207e-02,  4.59335465e-03, -1.51092619e-01,\n",
      "        3.19082439e-02,  1.30290121e-01, -1.22613326e-01,  1.67369284e-03,\n",
      "        1.22760393e-01, -4.92371768e-02, -2.54629217e-02, -1.20327629e-01,\n",
      "        1.65615886e-01,  2.42456403e-02, -1.31567255e-01, -2.06492946e-01,\n",
      "        9.55378339e-02, -1.04893945e-01, -1.27288014e-01,  9.25231874e-02,\n",
      "       -1.78200737e-01, -1.70489073e-01, -3.01828384e-01, -7.28713721e-03,\n",
      "        3.92815202e-01,  8.09488073e-02, -2.37127826e-01,  9.32285935e-03,\n",
      "       -1.99805163e-02,  3.90489921e-02,  9.08063650e-02,  1.12350248e-01,\n",
      "       -1.36892498e-03,  1.59855690e-02, -1.34424627e-01,  1.27212787e-02,\n",
      "        2.84853458e-01, -7.99977183e-02, -8.17677230e-02,  2.12507471e-01,\n",
      "        8.60556215e-03,  6.87324330e-02,  6.55126646e-02,  5.15582636e-02,\n",
      "       -3.94874439e-02,  2.55172104e-02, -1.80966258e-01, -5.38879074e-03,\n",
      "        4.97975294e-03, -2.18546316e-02, -3.50495242e-02,  1.57899335e-01,\n",
      "       -9.63557288e-02,  6.96756467e-02, -2.99039017e-02,  3.31501700e-02,\n",
      "        2.98092607e-04, -6.66017458e-02, -1.28731132e-01, -5.30050807e-02,\n",
      "        1.06827512e-01, -1.90413639e-01,  2.05665305e-01,  1.26818836e-01,\n",
      "        1.11780003e-01,  4.13607657e-02,  1.18757851e-01,  4.59736399e-02,\n",
      "       -2.01587379e-02, -1.94119662e-03, -2.35812023e-01, -4.73832451e-02,\n",
      "        9.89878774e-02,  9.32974741e-04,  1.37595147e-01, -1.47417523e-02])], ['승리two', array([-0.0381131 ,  0.08300128,  0.09253457, -0.01210379, -0.14962366,\n",
      "        0.01980155, -0.07829851, -0.12751494,  0.08285795, -0.0882291 ,\n",
      "        0.21364689, -0.03760978, -0.24343711, -0.08217979, -0.02008344,\n",
      "        0.15759182, -0.06818017, -0.17166685, -0.02785353,  0.04396042,\n",
      "        0.00627613,  0.04253965,  0.02330241,  0.01015794, -0.12500459,\n",
      "       -0.32279682, -0.12047321, -0.04606272, -0.0579806 , -0.01137765,\n",
      "       -0.12615696,  0.08817726, -0.11912832, -0.055033  ,  0.10761653,\n",
      "        0.05045249, -0.00787995, -0.05086611,  0.20377606,  0.03319374,\n",
      "       -0.24796316,  0.06600293,  0.06288414,  0.24162143,  0.18914346,\n",
      "        0.00801563,  0.01462361, -0.11972698,  0.13268651, -0.12123196,\n",
      "        0.08635782,  0.15799494,  0.16268079,  0.04324132,  0.03756319,\n",
      "       -0.10500199, -0.01351237,  0.16270569, -0.14736851, -0.00564651,\n",
      "        0.02949947, -0.06988099, -0.00505538, -0.1364612 ,  0.1336733 ,\n",
      "        0.06657701, -0.08345699, -0.21515308,  0.1116191 , -0.1210179 ,\n",
      "       -0.14649695,  0.06281117, -0.20328996, -0.17294872, -0.32286936,\n",
      "        0.02999349,  0.32217121,  0.16834328, -0.26127568,  0.02343155,\n",
      "        0.03000604, -0.03044242,  0.0631018 ,  0.12512897, -0.01412813,\n",
      "        0.02635363, -0.06171236, -0.0594338 ,  0.23425768, -0.06302822,\n",
      "       -0.05628091,  0.21530384,  0.01572961,  0.08357245,  0.05762203,\n",
      "        0.00053691, -0.026503  ,  0.00192955, -0.20229377, -0.04791182,\n",
      "       -0.03265212, -0.02477635,  0.0076054 ,  0.13560815, -0.18535727,\n",
      "        0.10299732, -0.00916884,  0.00836277, -0.03579289,  0.00206644,\n",
      "       -0.09494101, -0.05089497,  0.13203758, -0.22892831,  0.14376037,\n",
      "        0.14258754,  0.0808451 ,  0.07798428,  0.1345343 ,  0.02559861,\n",
      "       -0.00071106, -0.02336703, -0.15345356, -0.08759558,  0.15861611,\n",
      "       -0.01895302,  0.10561736,  0.03780517])]]\n"
     ]
    }
   ],
   "source": [
    "img_paths = {\r\n",
    "     #'진호': 'user_img/jinho.jpg',\r\n",
    "     '승리one': 'del_img/victory2.jpg',\r\n",
    "     '승리two': 'del_img/victory1.jpg',\r\n",
    "}\r\n",
    "\r\n",
    "descs = []\r\n",
    "\r\n",
    "for name, img_path in img_paths.items(): \r\n",
    "    img = cv2.imread(img_path)\r\n",
    "    _, img_shapes, _ = find_faces(img)\r\n",
    "    descs.append([name, encode_faces(img, img_shapes)[0]])\r\n",
    "    \r\n",
    "np.save('user_img/descs.npy', descs)\r\n",
    "print(descs)"
   ]
  },
  {
   "cell_type": "code",
   "execution_count": 39,
   "metadata": {},
   "outputs": [],
   "source": [
    "cam = cv2.VideoCapture(\"Images/기피대상.mp4\") # 동영상\r\n",
    "cam.set(3, 640) # 너비\r\n",
    "cam.set(4, 480) # 높이\r\n",
    "font = cv2.FONT_HERSHEY_SIMPLEX # 폰트\r\n",
    "\r\n",
    "while True:\r\n",
    "    \r\n",
    "    ret, img = cam.read() \r\n",
    "    rects, shapes, _ = find_faces(img) # 얼굴 찾기\r\n",
    "    descriptors = encode_faces(img, shapes) # 인코딩\r\n",
    "    \r\n",
    "    for i, desc in enumerate(descriptors):\r\n",
    "        x = rects[i][0][0] # 얼굴 X 좌표\r\n",
    "        y = rects[i][0][1] # 얼굴 Y 좌표\r\n",
    "        w = rects[i][1][1]-rects[i][0][1] # 얼굴 너비 \r\n",
    "        h = rects[i][1][0]-rects[i][0][0] # 얼굴 높이\r\n",
    "        \r\n",
    "        # 추출된 랜드마크와 데이터베이스의 랜드마크들 중 제일 짧은 거리를 찾는 부분\r\n",
    "        descs1 = sorted(descs, key=lambda x: np.linalg.norm([desc] - x[1]))\r\n",
    "        dist = np.linalg.norm([desc] - descs1[0][1], axis=1)\r\n",
    "        \r\n",
    "        if dist < 0.45: # 그 거리가 0.45보다 작다면 그 사람으로 판단 \r\n",
    "            mosaic_img = cv2.resize(img[y:y+h, x:x+w], dsize=(0, 0), fx=0.04, fy=0.04) # 축소\r\n",
    "            mosaic_img = cv2.resize(mosaic_img, (w, h), interpolation=cv2.INTER_AREA)  # 확대\r\n",
    "            img[y:y+h, x:x+w] = mosaic_img\r\n",
    "\r\n",
    "#     한글\r\n",
    "    img = Image.fromarray(img)\r\n",
    "    draw = ImageDraw.Draw(img)\r\n",
    "    img = np.array(img)\r\n",
    "        \r\n",
    "    cv2.imshow('camera', img)\r\n",
    "    \r\n",
    "    k = cv2.waitKey(10) & 0xff # 'ESC' 키 누르면 종료\r\n",
    "    if k == 27:\r\n",
    "        break\r\n",
    "        \r\n",
    "cam.release()\r\n",
    "cv2.destroyAllWindows()"
   ]
  }
 ],
 "metadata": {
  "interpreter": {
   "hash": "8c1eae21719a0790335dcb83aad72b63b602cfe5cdb2bda0f60bc11d4f154e4b"
  },
  "kernelspec": {
   "display_name": "Python 3.8.5 64-bit ('base': conda)",
   "name": "python3"
  },
  "language_info": {
   "codemirror_mode": {
    "name": "ipython",
    "version": 3
   },
   "file_extension": ".py",
   "mimetype": "text/x-python",
   "name": "python",
   "nbconvert_exporter": "python",
   "pygments_lexer": "ipython3",
   "version": "3.8.5"
  },
  "orig_nbformat": 4
 },
 "nbformat": 4,
 "nbformat_minor": 2
}