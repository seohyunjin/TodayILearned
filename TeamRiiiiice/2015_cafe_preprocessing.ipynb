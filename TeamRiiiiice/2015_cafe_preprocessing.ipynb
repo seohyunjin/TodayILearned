{
 "cells": [
  {
   "cell_type": "markdown",
   "source": [
    "# 데이터 전처리"
   ],
   "metadata": {}
  },
  {
   "cell_type": "code",
   "execution_count": 3,
   "source": [
    "import pandas as pd\r\n",
    "import numpy as np\r\n"
   ],
   "outputs": [],
   "metadata": {}
  },
  {
   "cell_type": "code",
   "execution_count": 224,
   "source": [
    "df = pd.read_excel('total_crawl_data/naver_cafe_contents_ssal_2015.xlsx')\r\n",
    "df.columns"
   ],
   "outputs": [
    {
     "output_type": "execute_result",
     "data": {
      "text/plain": [
       "Index(['title', 'nickname', 'date', 'content', 'comments'], dtype='object')"
      ]
     },
     "metadata": {},
     "execution_count": 224
    }
   ],
   "metadata": {}
  },
  {
   "cell_type": "code",
   "execution_count": 226,
   "source": [
    "df.info()"
   ],
   "outputs": [
    {
     "output_type": "stream",
     "name": "stdout",
     "text": [
      "<class 'pandas.core.frame.DataFrame'>\n",
      "RangeIndex: 11188 entries, 0 to 11187\n",
      "Data columns (total 5 columns):\n",
      " #   Column    Non-Null Count  Dtype \n",
      "---  ------    --------------  ----- \n",
      " 0   title     11188 non-null  object\n",
      " 1   nickname  11188 non-null  object\n",
      " 2   date      11188 non-null  object\n",
      " 3   content   11142 non-null  object\n",
      " 4   comments  10180 non-null  object\n",
      "dtypes: object(5)\n",
      "memory usage: 437.2+ KB\n"
     ]
    }
   ],
   "metadata": {}
  },
  {
   "cell_type": "markdown",
   "source": [
    "## 01. 광고 아이디 제거"
   ],
   "metadata": {}
  },
  {
   "cell_type": "code",
   "execution_count": 51,
   "source": [
    "# 제거할 별명\r\n",
    "del_id = [\r\n",
    "'경민네찹쌀농장A195','삐삐야','갈래','진천임가네쌀','shdtka159','네드베둥','대한민국','연꽃',\r\n",
    "'폭도의마술','피파다시한다'\r\n",
    "]"
   ],
   "outputs": [],
   "metadata": {}
  },
  {
   "cell_type": "code",
   "execution_count": 52,
   "source": [
    "drop_index=[]\r\n",
    "for i in range(len(df)):\r\n",
    "    if df['nickname'][i] in del_id :\r\n",
    "        drop_index.append(i)\r\n",
    "\r\n",
    "len(drop_index) # 아이디로 제거할 개수 확인"
   ],
   "outputs": [
    {
     "output_type": "execute_result",
     "data": {
      "text/plain": [
       "183"
      ]
     },
     "metadata": {},
     "execution_count": 52
    }
   ],
   "metadata": {}
  },
  {
   "cell_type": "code",
   "execution_count": 53,
   "source": [
    "# 해당 아이디로 작성한 문서 제거\r\n",
    "for i in range(len(drop_index)):\r\n",
    "    drop_df = df.drop(index=drop_index)\r\n",
    "len(drop_df)"
   ],
   "outputs": [
    {
     "output_type": "execute_result",
     "data": {
      "text/plain": [
       "11005"
      ]
     },
     "metadata": {},
     "execution_count": 53
    }
   ],
   "metadata": {}
  },
  {
   "cell_type": "markdown",
   "source": [
    "## 02. 관련 없는 키워드 제거"
   ],
   "metadata": {}
  },
  {
   "cell_type": "code",
   "execution_count": 54,
   "source": [
    "# 관련 없는 문서 제거 키워드\r\n",
    "del_keywords=['출산가방', '오줌', '리퀘', 'Resoruce', '쌀흥하는', '쌀스럽다', '우리쌀님',\r\n",
    " '닭모이용', '쌀때', '카인', '힐더', '소환권', '비쌀때', '마리쌀', '드림', '유학', '배달직원', \r\n",
    " '알바', '팝니다', '한율', '거래', '공지', '쌀화환', '쌀레에빼배', '쌀박물관', '쌀쌀',\r\n",
    "  '쌀쌀한 날씨', '쌀뗴냐', '쌀 부가세', '그래프', '북한', '항쟁', '의원', '닭모이', '골동품',\r\n",
    "  '민속품', '놀이', '빨대', '스킨', '토너', '에센스', '한율', '조성', '시범', '분배', '공양'\r\n",
    "    # '후원', '기탁', '공헌', '기부', '기증', '전달', '지원', '쌀모으기''사랑의 쌀'\r\n",
    "]  "
   ],
   "outputs": [],
   "metadata": {}
  },
  {
   "cell_type": "code",
   "execution_count": 55,
   "source": [
    "# 키워드 제거한 것 \r\n",
    "for i in del_keywords:\r\n",
    "    drop_df=drop_df[drop_df['content'].str.contains(i) != True]\r\n",
    "len(drop_df)"
   ],
   "outputs": [
    {
     "output_type": "execute_result",
     "data": {
      "text/plain": [
       "9653"
      ]
     },
     "metadata": {},
     "execution_count": 55
    }
   ],
   "metadata": {}
  },
  {
   "cell_type": "code",
   "execution_count": 56,
   "source": [
    "drop_df.to_excel('preprocessing_data/preprocessing_2015_cafe_ssal.xlsx',encoding='utf-8')"
   ],
   "outputs": [],
   "metadata": {}
  },
  {
   "cell_type": "markdown",
   "source": [
    "## 03. 텍스트 분석 진행할 데이터 준비 (NA 제거)"
   ],
   "metadata": {}
  },
  {
   "cell_type": "code",
   "execution_count": 205,
   "source": [
    "drop_df = pd.read_excel('preprocessing_data/preprocessing_2015_cafe_ssal.xlsx')"
   ],
   "outputs": [],
   "metadata": {}
  },
  {
   "cell_type": "code",
   "execution_count": 207,
   "source": [
    "drop_df.info()"
   ],
   "outputs": [
    {
     "output_type": "stream",
     "name": "stdout",
     "text": [
      "<class 'pandas.core.frame.DataFrame'>\n",
      "RangeIndex: 9653 entries, 0 to 9652\n",
      "Data columns (total 6 columns):\n",
      " #   Column      Non-Null Count  Dtype \n",
      "---  ------      --------------  ----- \n",
      " 0   Unnamed: 0  9653 non-null   int64 \n",
      " 1   title       9653 non-null   object\n",
      " 2   nickname    9653 non-null   object\n",
      " 3   date        9653 non-null   object\n",
      " 4   content     9607 non-null   object\n",
      " 5   comments    8912 non-null   object\n",
      "dtypes: int64(1), object(5)\n",
      "memory usage: 452.6+ KB\n"
     ]
    }
   ],
   "metadata": {}
  },
  {
   "cell_type": "code",
   "execution_count": 208,
   "source": [
    "# contents에 null 인것 제거\r\n",
    "drop_df= drop_df.dropna(axis=0, how='any', subset=['content'])\r\n",
    "drop_df.info()"
   ],
   "outputs": [
    {
     "output_type": "stream",
     "name": "stdout",
     "text": [
      "<class 'pandas.core.frame.DataFrame'>\n",
      "Int64Index: 9607 entries, 0 to 9652\n",
      "Data columns (total 6 columns):\n",
      " #   Column      Non-Null Count  Dtype \n",
      "---  ------      --------------  ----- \n",
      " 0   Unnamed: 0  9607 non-null   int64 \n",
      " 1   title       9607 non-null   object\n",
      " 2   nickname    9607 non-null   object\n",
      " 3   date        9607 non-null   object\n",
      " 4   content     9607 non-null   object\n",
      " 5   comments    8866 non-null   object\n",
      "dtypes: int64(1), object(5)\n",
      "memory usage: 525.4+ KB\n"
     ]
    }
   ],
   "metadata": {}
  },
  {
   "cell_type": "code",
   "execution_count": 213,
   "source": [
    "# 인덱스 재설정\r\n",
    "data = drop_df.reset_index()\r\n",
    "data"
   ],
   "outputs": [
    {
     "output_type": "execute_result",
     "data": {
      "text/plain": [
       "      index  Unnamed: 0              title  nickname        date  \\\n",
       "0         0           1             공구쌀 후기       메이주  2015.01.27   \n",
       "1         1           2      빨간쌀 필요하신분이요^^   악기하는 여자  2015.01.04   \n",
       "2         2           3  쌀맛나는세상님 현미쌀 구입기^^       축복맘  2015.01.13   \n",
       "3         3           4     쌀찐빵 더 맛있게 먹기^^       은혜맘  2015.01.12   \n",
       "4         4           5       당근쌀머핀 구워보아요~      호호바다  2015.01.11   \n",
       "...     ...         ...                ...       ...         ...   \n",
       "9602   9648       11183     쌀 천연발효 요리전용 맛술        마미  2015.12.16   \n",
       "9603   9649       11184        타파웨어다지기 불린쌀  mimi9342  2015.12.30   \n",
       "9604   9650       11185        쌀가루 미음 먹일때요   주부1단입니당  2015.12.25   \n",
       "9605   9651       11186         아이쌀튀밥~떡벙들~     시크민이맘  2015.12.23   \n",
       "9606   9652       11187  벌레먹은쌀 필요하신분 계실까요?       순둥이  2015.12.30   \n",
       "\n",
       "                                                content  \\\n",
       "0     세종시로 올해 1월 10일 이사했습니다.어제 쌀이 똑 떨어졌는데 마침 까페에 쌀공구...   \n",
       "1     저희 큰아버지께서 쌀도매를 하세요^^빨간쌀 이예요.저도 작녁부터 계속 먹고있는데요^...   \n",
       "2                                   제가 변비가 심해서 현미쌀100%를   \n",
       "3     그동안 계속 공구후기며 공구게시판에서 보던 쌀찐빵을 구입했어요 아기간식도 요즘 고민...   \n",
       "4     심심한 일요일 오후.당근쌀머핀 만들어 보았어요~당근이랑 우유는 휘리릭 갈아주고밀가루...   \n",
       "...                                                 ...   \n",
       "9602  요리전용맛술 마트가면 보기는 했는데 저게 꼭 필요할까 하는 생각에 구매를 망설였는데...   \n",
       "9603                         가능한가요;;;;;믹서기 청소가 귀찮아서 ;;;   \n",
       "9604  담주부터 초기이유식 시작인데 아직 애가 못앉잖아요. 다들 그냥 분유주듯 안아서 먹이...   \n",
       "9605               어뭉들어디서 사드시나요? 아이간식사먹이는 사이트추천좀해주셔요^ ^   \n",
       "9606  간혹 동물 사료용으로 쓰신다고 무료나눔하신던데...벌레가 막 나오거나 하지는 않는데...   \n",
       "\n",
       "                                               comments  \n",
       "0     ㅎㅎ밥에 꿀발라~~~\\n꿀바른것같은데 꿀맛이 안나고 밥맛이나죠\\n꼬소름한 밥맛 ㅎㅎ...  \n",
       "1     네^^일반쌀 검정쌀 처럼 섞어드시는거구요♡\\n구입 하시는분 많으심~~메타로 가져다 ...  \n",
       "2     현미밥  어떻게하면   맛있나요?||밥솥이 중요한것 같아요~~ 밥솥 고장 나서 새로...  \n",
       "3     ||후기이벤트 당첨소식이 늦었습니다~!\\n\\n^^ 귀한후기 감사드립니다\\n훈제기에 ...  \n",
       "4     강력말고 일반 쌀가루 써도 돼요? \\n맛있어보여요 ~~^*^||원래 머핀은 박력쌀가...  \n",
       "...                                                 ...  \n",
       "9602                                                NaN  \n",
       "9603                                                안돼요  \n",
       "9604  하루빨리 혼자 앉을수있음 좋겠어여ㅜㅋㅋ||바운서에 눕혀서 살짝 세워서 먹였어요~||...  \n",
       "9605  초록마을 잘먹었던거 같아요^^||초록삐을떡뻥 어제사왔는데  잘먹긴하는데 너무작네요ㅋ...  \n",
       "9606             저 주세요. ^^  사료용으로 잘 쓰겠습니다.||네~ 채팅드릴게요^^  \n",
       "\n",
       "[9607 rows x 7 columns]"
      ],
      "text/html": [
       "<div>\n",
       "<style scoped>\n",
       "    .dataframe tbody tr th:only-of-type {\n",
       "        vertical-align: middle;\n",
       "    }\n",
       "\n",
       "    .dataframe tbody tr th {\n",
       "        vertical-align: top;\n",
       "    }\n",
       "\n",
       "    .dataframe thead th {\n",
       "        text-align: right;\n",
       "    }\n",
       "</style>\n",
       "<table border=\"1\" class=\"dataframe\">\n",
       "  <thead>\n",
       "    <tr style=\"text-align: right;\">\n",
       "      <th></th>\n",
       "      <th>index</th>\n",
       "      <th>Unnamed: 0</th>\n",
       "      <th>title</th>\n",
       "      <th>nickname</th>\n",
       "      <th>date</th>\n",
       "      <th>content</th>\n",
       "      <th>comments</th>\n",
       "    </tr>\n",
       "  </thead>\n",
       "  <tbody>\n",
       "    <tr>\n",
       "      <th>0</th>\n",
       "      <td>0</td>\n",
       "      <td>1</td>\n",
       "      <td>공구쌀 후기</td>\n",
       "      <td>메이주</td>\n",
       "      <td>2015.01.27</td>\n",
       "      <td>세종시로 올해 1월 10일 이사했습니다.어제 쌀이 똑 떨어졌는데 마침 까페에 쌀공구...</td>\n",
       "      <td>ㅎㅎ밥에 꿀발라~~~\\n꿀바른것같은데 꿀맛이 안나고 밥맛이나죠\\n꼬소름한 밥맛 ㅎㅎ...</td>\n",
       "    </tr>\n",
       "    <tr>\n",
       "      <th>1</th>\n",
       "      <td>1</td>\n",
       "      <td>2</td>\n",
       "      <td>빨간쌀 필요하신분이요^^</td>\n",
       "      <td>악기하는 여자</td>\n",
       "      <td>2015.01.04</td>\n",
       "      <td>저희 큰아버지께서 쌀도매를 하세요^^빨간쌀 이예요.저도 작녁부터 계속 먹고있는데요^...</td>\n",
       "      <td>네^^일반쌀 검정쌀 처럼 섞어드시는거구요♡\\n구입 하시는분 많으심~~메타로 가져다 ...</td>\n",
       "    </tr>\n",
       "    <tr>\n",
       "      <th>2</th>\n",
       "      <td>2</td>\n",
       "      <td>3</td>\n",
       "      <td>쌀맛나는세상님 현미쌀 구입기^^</td>\n",
       "      <td>축복맘</td>\n",
       "      <td>2015.01.13</td>\n",
       "      <td>제가 변비가 심해서 현미쌀100%를</td>\n",
       "      <td>현미밥  어떻게하면   맛있나요?||밥솥이 중요한것 같아요~~ 밥솥 고장 나서 새로...</td>\n",
       "    </tr>\n",
       "    <tr>\n",
       "      <th>3</th>\n",
       "      <td>3</td>\n",
       "      <td>4</td>\n",
       "      <td>쌀찐빵 더 맛있게 먹기^^</td>\n",
       "      <td>은혜맘</td>\n",
       "      <td>2015.01.12</td>\n",
       "      <td>그동안 계속 공구후기며 공구게시판에서 보던 쌀찐빵을 구입했어요 아기간식도 요즘 고민...</td>\n",
       "      <td>||후기이벤트 당첨소식이 늦었습니다~!\\n\\n^^ 귀한후기 감사드립니다\\n훈제기에 ...</td>\n",
       "    </tr>\n",
       "    <tr>\n",
       "      <th>4</th>\n",
       "      <td>4</td>\n",
       "      <td>5</td>\n",
       "      <td>당근쌀머핀 구워보아요~</td>\n",
       "      <td>호호바다</td>\n",
       "      <td>2015.01.11</td>\n",
       "      <td>심심한 일요일 오후.당근쌀머핀 만들어 보았어요~당근이랑 우유는 휘리릭 갈아주고밀가루...</td>\n",
       "      <td>강력말고 일반 쌀가루 써도 돼요? \\n맛있어보여요 ~~^*^||원래 머핀은 박력쌀가...</td>\n",
       "    </tr>\n",
       "    <tr>\n",
       "      <th>...</th>\n",
       "      <td>...</td>\n",
       "      <td>...</td>\n",
       "      <td>...</td>\n",
       "      <td>...</td>\n",
       "      <td>...</td>\n",
       "      <td>...</td>\n",
       "      <td>...</td>\n",
       "    </tr>\n",
       "    <tr>\n",
       "      <th>9602</th>\n",
       "      <td>9648</td>\n",
       "      <td>11183</td>\n",
       "      <td>쌀 천연발효 요리전용 맛술</td>\n",
       "      <td>마미</td>\n",
       "      <td>2015.12.16</td>\n",
       "      <td>요리전용맛술 마트가면 보기는 했는데 저게 꼭 필요할까 하는 생각에 구매를 망설였는데...</td>\n",
       "      <td>NaN</td>\n",
       "    </tr>\n",
       "    <tr>\n",
       "      <th>9603</th>\n",
       "      <td>9649</td>\n",
       "      <td>11184</td>\n",
       "      <td>타파웨어다지기 불린쌀</td>\n",
       "      <td>mimi9342</td>\n",
       "      <td>2015.12.30</td>\n",
       "      <td>가능한가요;;;;;믹서기 청소가 귀찮아서 ;;;</td>\n",
       "      <td>안돼요</td>\n",
       "    </tr>\n",
       "    <tr>\n",
       "      <th>9604</th>\n",
       "      <td>9650</td>\n",
       "      <td>11185</td>\n",
       "      <td>쌀가루 미음 먹일때요</td>\n",
       "      <td>주부1단입니당</td>\n",
       "      <td>2015.12.25</td>\n",
       "      <td>담주부터 초기이유식 시작인데 아직 애가 못앉잖아요. 다들 그냥 분유주듯 안아서 먹이...</td>\n",
       "      <td>하루빨리 혼자 앉을수있음 좋겠어여ㅜㅋㅋ||바운서에 눕혀서 살짝 세워서 먹였어요~||...</td>\n",
       "    </tr>\n",
       "    <tr>\n",
       "      <th>9605</th>\n",
       "      <td>9651</td>\n",
       "      <td>11186</td>\n",
       "      <td>아이쌀튀밥~떡벙들~</td>\n",
       "      <td>시크민이맘</td>\n",
       "      <td>2015.12.23</td>\n",
       "      <td>어뭉들어디서 사드시나요? 아이간식사먹이는 사이트추천좀해주셔요^ ^</td>\n",
       "      <td>초록마을 잘먹었던거 같아요^^||초록삐을떡뻥 어제사왔는데  잘먹긴하는데 너무작네요ㅋ...</td>\n",
       "    </tr>\n",
       "    <tr>\n",
       "      <th>9606</th>\n",
       "      <td>9652</td>\n",
       "      <td>11187</td>\n",
       "      <td>벌레먹은쌀 필요하신분 계실까요?</td>\n",
       "      <td>순둥이</td>\n",
       "      <td>2015.12.30</td>\n",
       "      <td>간혹 동물 사료용으로 쓰신다고 무료나눔하신던데...벌레가 막 나오거나 하지는 않는데...</td>\n",
       "      <td>저 주세요. ^^  사료용으로 잘 쓰겠습니다.||네~ 채팅드릴게요^^</td>\n",
       "    </tr>\n",
       "  </tbody>\n",
       "</table>\n",
       "<p>9607 rows × 7 columns</p>\n",
       "</div>"
      ]
     },
     "metadata": {},
     "execution_count": 213
    }
   ],
   "metadata": {}
  },
  {
   "cell_type": "code",
   "execution_count": 222,
   "source": [
    "data.to_excel('preprocessing_cnts_dropna_data/preprocess_dropna_2015_cafe_ssal.xlsx',encoding='utf-8')"
   ],
   "outputs": [],
   "metadata": {}
  },
  {
   "cell_type": "markdown",
   "source": [
    "# 빈도 확인_1차"
   ],
   "metadata": {}
  },
  {
   "cell_type": "code",
   "execution_count": 210,
   "source": [
    "from konlpy.tag import *"
   ],
   "outputs": [],
   "metadata": {}
  },
  {
   "cell_type": "markdown",
   "source": [
    "## 2-1. TEXT 클래스 이용 "
   ],
   "metadata": {}
  },
  {
   "cell_type": "code",
   "execution_count": 211,
   "source": [
    "# contents str로 처리\r\n",
    "q= \" \"\r\n",
    "for i in range(len(data)):\r\n",
    "    try:\r\n",
    "     q += data['content'][i]\r\n",
    "    except:\r\n",
    "     pass"
   ],
   "outputs": [],
   "metadata": {}
  },
  {
   "cell_type": "code",
   "execution_count": 212,
   "source": [
    "from nltk import Text\r\n",
    "from nltk.tokenize import RegexpTokenizer\r\n",
    "retokenize = RegexpTokenizer(\"[\\w]+\")\r\n",
    "\r\n",
    "text = Text(retokenize.tokenize(q))"
   ],
   "outputs": [],
   "metadata": {}
  },
  {
   "cell_type": "code",
   "execution_count": 88,
   "source": [
    "import matplotlib.pyplot as plt\r\n",
    "plt.rcParams['font.family'] = 'Malgun Gothic' # 폰트 깨짐 설정\r\n",
    "\r\n",
    "text.plot(20)\r\n",
    "plt.show()"
   ],
   "outputs": [
    {
     "output_type": "display_data",
     "data": {
      "text/plain": [
       "<Figure size 432x288 with 1 Axes>"
      ],
      "image/png": "[encoded data removed]"
     },
     "metadata": {
      "image/png": {
       "width": 392,
       "height": 283
      },
      "needs_background": "light"
     }
    }
   ],
   "metadata": {}
  },
  {
   "cell_type": "markdown",
   "source": [
    "## 2-2 한나눔 형태소 분석기 사용 "
   ],
   "metadata": {}
  },
  {
   "cell_type": "code",
   "execution_count": 214,
   "source": [
    "len(data)"
   ],
   "outputs": [
    {
     "output_type": "execute_result",
     "data": {
      "text/plain": [
       "9607"
      ]
     },
     "metadata": {},
     "execution_count": 214
    }
   ],
   "metadata": {}
  },
  {
   "cell_type": "code",
   "execution_count": 215,
   "source": [
    "#data 확인 :5093번 데이터가 숫자로 존재함을 확인함\r\n",
    "data['content'][5093]"
   ],
   "outputs": [
    {
     "output_type": "execute_result",
     "data": {
      "text/plain": [
       "0"
      ]
     },
     "metadata": {},
     "execution_count": 215
    }
   ],
   "metadata": {}
  },
  {
   "cell_type": "code",
   "execution_count": 216,
   "source": [
    "#데이터 타입을 모두 str 로 저장\r\n",
    "data = data.astype('str')"
   ],
   "outputs": [],
   "metadata": {}
  },
  {
   "cell_type": "code",
   "execution_count": 217,
   "source": [
    "# 사이즈 줄여 str로 저장 1000번 나눠서 저장 (10*960번) 960번을 더할것 즉, 10개묶음 960개 만들기\r\n",
    "for i in range(0,960): # 960개 : text0~959\r\n",
    "    globals()['text{}'.format(i)] = \" \" # 960개 text변수 생성\r\n",
    "    for j in range(10*i,10*(i+1) ):\r\n",
    "        globals()['text{}'.format(i)] += data['content'][j] # 960개의 text변수에 10개 묶음씩 저장\r\n",
    "        # 0~9 / 10~19 / 20~29 저장~~ 9600~9609\r\n",
    "\r\n",
    "# 마지막 데이터 수동 저장\r\n",
    "text960 = ' '\r\n",
    "for k in range(9600,9607): # 9606번까지 존재\r\n",
    "    text960 += data['content'][k]\r\n"
   ],
   "outputs": [],
   "metadata": {}
  },
  {
   "cell_type": "code",
   "execution_count": 218,
   "source": [
    "# 데이터 정제\r\n",
    "import re\r\n",
    "for i in range(0,961): # text0~960\r\n",
    "    globals()['text{}'.format(i)] = re.sub('[0-9]+', '', globals()['text{}'.format(i)]) # 숫자 제거\r\n",
    "    globals()['text{}'.format(i)] = re.sub('[A-Za-z]+', '', globals()['text{}'.format(i)]) # 알파벡 제거\r\n",
    "    globals()['text{}'.format(i)] = re.sub('[-=+,#/\\?:^$.@*\\\"※~&%ㆍ·!』\\\\‘’|\\(\\)\\[\\]\\<\\>`\\'…》]', '', globals()['text{}'.format(i)]) # 특수문자 제거"
   ],
   "outputs": [],
   "metadata": {}
  },
  {
   "cell_type": "code",
   "execution_count": 227,
   "source": [
    "hannanum = Hannanum()\r\n",
    "for i in range(0,961):\r\n",
    "    globals()['tokenized_text{}'.format(i)] = hannanum.nouns(globals()['text{}'.format(i)] ) # data['content'][2]\r\n",
    "tokenized_text0"
   ],
   "outputs": [],
   "metadata": {}
  },
  {
   "cell_type": "code",
   "execution_count": 184,
   "source": [
    "# 판다스 시리즈 만들기\r\n",
    "for i in range(0,961):\r\n",
    "    globals()['tokenized_texts{}'.format(i)] =pd.Series(globals()['tokenized_text{}'.format(i)])"
   ],
   "outputs": [],
   "metadata": {}
  },
  {
   "cell_type": "code",
   "execution_count": 185,
   "source": [
    "# 시리즈 합치기\r\n",
    "series_list = []\r\n",
    "for i in range(0,961):\r\n",
    "    series_list.append(globals()['tokenized_texts{}'.format(i)] )\r\n",
    "tokenized_texts_series = pd.concat(series_list)"
   ],
   "outputs": [],
   "metadata": {}
  },
  {
   "cell_type": "code",
   "execution_count": 187,
   "source": [
    "tokenized_texts_series"
   ],
   "outputs": [
    {
     "output_type": "execute_result",
     "data": {
      "text/plain": [
       "0               세종시\n",
       "1                올해\n",
       "2                 월\n",
       "3                 일\n",
       "4          이사했습니다어제\n",
       "          ...      \n",
       "44                것\n",
       "45            ㅠㅠ이렇게\n",
       "46             먹여도되\n",
       "47    싶을정도네요ㅠㅠㅠ언제부터\n",
       "48             잘먹을라\n",
       "Length: 191134, dtype: object"
      ]
     },
     "metadata": {},
     "execution_count": 187
    }
   ],
   "metadata": {}
  },
  {
   "cell_type": "code",
   "execution_count": 189,
   "source": [
    "# 판다스 시리즈 이용해서 빈도 확인\r\n",
    "result= tokenized_texts_series.value_counts().head(30)\r\n",
    "result"
   ],
   "outputs": [
    {
     "output_type": "execute_result",
     "data": {
      "text/plain": [
       "쌀      3198\n",
       "것      2167\n",
       "수      1527\n",
       "분      1441\n",
       "쌀가루    1130\n",
       "저       986\n",
       "밥       946\n",
       "이유식     937\n",
       "때       891\n",
       "일       688\n",
       "데       657\n",
       "오늘      542\n",
       "맛       542\n",
       "정도      501\n",
       "후       476\n",
       "원       475\n",
       "시작      463\n",
       "물       455\n",
       "쌀미음     435\n",
       "집       427\n",
       "생각      407\n",
       "키       399\n",
       "지       384\n",
       "전       383\n",
       "개       369\n",
       "양       368\n",
       "이       353\n",
       "한번      347\n",
       "월       335\n",
       "필요      319\n",
       "dtype: int64"
      ]
     },
     "metadata": {},
     "execution_count": 189
    }
   ],
   "metadata": {}
  },
  {
   "cell_type": "code",
   "execution_count": 192,
   "source": [
    "# 토큰화된 단어 전체 빈도와 함께 확인\r\n",
    "whole_word_series = tokenized_texts_series.value_counts()"
   ],
   "outputs": [],
   "metadata": {}
  },
  {
   "cell_type": "code",
   "execution_count": 194,
   "source": [
    "# 데이터 저장\r\n",
    "whole_word_series.to_excel('word_series_2015_cafe.xlsx',encoding='utf-8')"
   ],
   "outputs": [],
   "metadata": {}
  }
 ],
 "metadata": {
  "orig_nbformat": 4,
  "language_info": {
   "name": "python",
   "version": "3.8.5",
   "mimetype": "text/x-python",
   "codemirror_mode": {
    "name": "ipython",
    "version": 3
   },
   "pygments_lexer": "ipython3",
   "nbconvert_exporter": "python",
   "file_extension": ".py"
  },
  "kernelspec": {
   "name": "python3",
   "display_name": "Python 3.8.5 64-bit ('base': conda)"
  },
  "interpreter": {
   "hash": "8c1eae21719a0790335dcb83aad72b63b602cfe5cdb2bda0f60bc11d4f154e4b"
  }
 },
 "nbformat": 4,
 "nbformat_minor": 2
}