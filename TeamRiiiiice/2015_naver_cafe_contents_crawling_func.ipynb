{
 "cells": [
  {
   "cell_type": "markdown",
   "source": [
    "# 네이버 카페 contents 크롤링 _함수이용\r\n",
    "제목/ 닉네임/ 날짜 / 내용/ 댓글 데이터 여러 페이지 한번에 가져오기"
   ],
   "metadata": {}
  },
  {
   "cell_type": "code",
   "execution_count": 1,
   "source": [
    "import requests\r\n",
    "import pandas as pd\r\n",
    "\r\n",
    "import time\r\n",
    "from selenium import webdriver\r\n",
    "from selenium.webdriver.common.keys import Keys\r\n",
    "\r\n",
    "import urllib.request\r\n",
    "from bs4 import BeautifulSoup"
   ],
   "outputs": [],
   "metadata": {}
  },
  {
   "cell_type": "markdown",
   "source": [
    "### 2015 네이버 키워드 '쌀'\r\n",
    "1차 바이럴제거를 위해 검색 설정\r\n",
    "\r\n",
    ": 쌀 -업체, -제공받, -지원받, -원고료, -무상, -협찬, -소정의, -사료, -고래밥, -길냥이, -고양이, -강아지\r\n",
    "\r\n",
    "https://search.naver.com/search.naver?sm=tab_hty.top&where=article&query=%EC%8C%80&oquery=Tkf&tqi=hdzB%2Fdp0YihssA3p2MGssssss3s-479049&nso=so%3Ar%2Cp%3Afrom20150101to20151231\r\n",
    "\r\n",
    "### 01월\r\n",
    "https://search.naver.com/search.naver?where=article&query=%EC%8C%80%20-%EC%97%85%EC%B2%B4%2C%20-%EC%A0%9C%EA%B3%B5%EB%B0%9B%2C%20-%EC%A7%80%EC%9B%90%EB%B0%9B%2C%20-%EC%9B%90%EA%B3%A0%EB%A3%8C%2C%20-%EB%AC%B4%EC%83%81%2C%20-%ED%98%91%EC%B0%AC%2C%20-%EC%86%8C%EC%A0%95%EC%9D%98%2C%20-%EC%82%AC%EB%A3%8C%2C%20-%EA%B3%A0%EB%9E%98%EB%B0%A5%2C%20-%EA%B8%B8%EB%83%A5%EC%9D%B4%2C%20-%EA%B3%A0%EC%96%91%EC%9D%B4%2C%20-%EA%B0%95%EC%95%84%EC%A7%80&ie=utf8&st=rel&date_option=99&date_from=2015.01.01&date_to=2015.01.31&board=&srchby=text&dup_remove=1&cafe_url=&without_cafe_url=&sm=tab_opt&nso=so%3Ar%2Cp%3Afrom20150101to20150131&nso_open=1&t=0&mson=0&prdtype=0\r\n",
    "\r\n",
    "### 02월\r\n",
    "https://search.naver.com/search.naver?where=article&query=%EC%8C%80%20-%EC%97%85%EC%B2%B4%2C%20-%EC%A0%9C%EA%B3%B5%EB%B0%9B%2C%20-%EC%A7%80%EC%9B%90%EB%B0%9B%2C%20-%EC%9B%90%EA%B3%A0%EB%A3%8C%2C%20-%EB%AC%B4%EC%83%81%2C%20-%ED%98%91%EC%B0%AC%2C%20-%EC%86%8C%EC%A0%95%EC%9D%98%2C%20-%EC%82%AC%EB%A3%8C%2C%20-%EA%B3%A0%EB%9E%98%EB%B0%A5%2C%20-%EA%B8%B8%EB%83%A5%EC%9D%B4%2C%20-%EA%B3%A0%EC%96%91%EC%9D%B4%2C%20-%EA%B0%95%EC%95%84%EC%A7%80&ie=utf8&st=rel&date_option=99&date_from=2015.02.01&date_to=2015.02.28&board=&srchby=text&dup_remove=1&cafe_url=&without_cafe_url=&sm=tab_opt&nso=so%3Ar%2Cp%3Afrom20150201to20150228&nso_open=1&t=0&mson=0&prdtype=0\r\n",
    "\r\n",
    "### 03월\r\n",
    "https://search.naver.com/search.naver?where=article&query=%EC%8C%80%20-%EC%97%85%EC%B2%B4%2C%20-%EC%A0%9C%EA%B3%B5%EB%B0%9B%2C%20-%EC%A7%80%EC%9B%90%EB%B0%9B%2C%20-%EC%9B%90%EA%B3%A0%EB%A3%8C%2C%20-%EB%AC%B4%EC%83%81%2C%20-%ED%98%91%EC%B0%AC%2C%20-%EC%86%8C%EC%A0%95%EC%9D%98%2C%20-%EC%82%AC%EB%A3%8C%2C%20-%EA%B3%A0%EB%9E%98%EB%B0%A5%2C%20-%EA%B8%B8%EB%83%A5%EC%9D%B4%2C%20-%EA%B3%A0%EC%96%91%EC%9D%B4%2C%20-%EA%B0%95%EC%95%84%EC%A7%80&ie=utf8&st=rel&date_option=99&date_from=2015.03.01&date_to=2015.03.31&board=&srchby=text&dup_remove=1&cafe_url=&without_cafe_url=&sm=tab_opt&nso=so%3Ar%2Cp%3Afrom20150301to20150331&nso_open=1&t=0&mson=0&prdtype=0\r\n",
    "\r\n",
    "### 04월\r\n",
    "https://search.naver.com/search.naver?where=article&query=%EC%8C%80%20-%EC%97%85%EC%B2%B4%2C%20-%EC%A0%9C%EA%B3%B5%EB%B0%9B%2C%20-%EC%A7%80%EC%9B%90%EB%B0%9B%2C%20-%EC%9B%90%EA%B3%A0%EB%A3%8C%2C%20-%EB%AC%B4%EC%83%81%2C%20-%ED%98%91%EC%B0%AC%2C%20-%EC%86%8C%EC%A0%95%EC%9D%98%2C%20-%EC%82%AC%EB%A3%8C%2C%20-%EA%B3%A0%EB%9E%98%EB%B0%A5%2C%20-%EA%B8%B8%EB%83%A5%EC%9D%B4%2C%20-%EA%B3%A0%EC%96%91%EC%9D%B4%2C%20-%EA%B0%95%EC%95%84%EC%A7%80&ie=utf8&st=rel&date_option=99&date_from=2015.04.01&date_to=2015.04.30&board=&srchby=text&dup_remove=1&cafe_url=&without_cafe_url=&sm=tab_opt&nso=so%3Ar%2Cp%3Afrom20150401to20150430&nso_open=1&t=0&mson=0&prdtype=0\r\n",
    "\r\n",
    "### 05월\r\n",
    "https://search.naver.com/search.naver?where=article&query=%EC%8C%80%20-%EC%97%85%EC%B2%B4%2C%20-%EC%A0%9C%EA%B3%B5%EB%B0%9B%2C%20-%EC%A7%80%EC%9B%90%EB%B0%9B%2C%20-%EC%9B%90%EA%B3%A0%EB%A3%8C%2C%20-%EB%AC%B4%EC%83%81%2C%20-%ED%98%91%EC%B0%AC%2C%20-%EC%86%8C%EC%A0%95%EC%9D%98%2C%20-%EC%82%AC%EB%A3%8C%2C%20-%EA%B3%A0%EB%9E%98%EB%B0%A5%2C%20-%EA%B8%B8%EB%83%A5%EC%9D%B4%2C%20-%EA%B3%A0%EC%96%91%EC%9D%B4%2C%20-%EA%B0%95%EC%95%84%EC%A7%80&ie=utf8&st=rel&date_option=99&date_from=2015.05.01&date_to=2015.05.31&board=&srchby=text&dup_remove=1&cafe_url=&without_cafe_url=&sm=tab_opt&nso=so%3Ar%2Cp%3Afrom20150501to20150531&nso_open=1&t=0&mson=0&prdtype=0\r\n",
    "\r\n",
    "### 06월\r\n",
    "https://search.naver.com/search.naver?where=article&query=%EC%8C%80%20-%EC%97%85%EC%B2%B4%2C%20-%EC%A0%9C%EA%B3%B5%EB%B0%9B%2C%20-%EC%A7%80%EC%9B%90%EB%B0%9B%2C%20-%EC%9B%90%EA%B3%A0%EB%A3%8C%2C%20-%EB%AC%B4%EC%83%81%2C%20-%ED%98%91%EC%B0%AC%2C%20-%EC%86%8C%EC%A0%95%EC%9D%98%2C%20-%EC%82%AC%EB%A3%8C%2C%20-%EA%B3%A0%EB%9E%98%EB%B0%A5%2C%20-%EA%B8%B8%EB%83%A5%EC%9D%B4%2C%20-%EA%B3%A0%EC%96%91%EC%9D%B4%2C%20-%EA%B0%95%EC%95%84%EC%A7%80&ie=utf8&st=rel&date_option=99&date_from=2015.06.01&date_to=2015.06.30&board=&srchby=text&dup_remove=1&cafe_url=&without_cafe_url=&sm=tab_opt&nso=so%3Ar%2Cp%3Afrom20150601to20150630&nso_open=1&t=0&mson=0&prdtype=0"
   ],
   "metadata": {}
  },
  {
   "cell_type": "code",
   "execution_count": 2,
   "source": [
    "#쌀\r\n",
    "driver = webdriver.Chrome('./chromedriver') \r\n",
    "driver.implicitly_wait(4) # 바로 에러넘기지 말고 기다리는 시간 4초 설정\r\n",
    "driver.get('https://search.naver.com/search.naver?where=article&query=%EC%8C%80%20-%EC%97%85%EC%B2%B4%2C%20-%EC%A0%9C%EA%B3%B5%EB%B0%9B%2C%20-%EC%A7%80%EC%9B%90%EB%B0%9B%2C%20-%EC%9B%90%EA%B3%A0%EB%A3%8C%2C%20-%EB%AC%B4%EC%83%81%2C%20-%ED%98%91%EC%B0%AC%2C%20-%EC%86%8C%EC%A0%95%EC%9D%98%2C%20-%EC%82%AC%EB%A3%8C%2C%20-%EA%B3%A0%EB%9E%98%EB%B0%A5%2C%20-%EA%B8%B8%EB%83%A5%EC%9D%B4%2C%20-%EA%B3%A0%EC%96%91%EC%9D%B4%2C%20-%EA%B0%95%EC%95%84%EC%A7%80&ie=utf8&st=rel&date_option=99&date_from=2015.01.01&date_to=2015.01.31&board=&srchby=text&dup_remove=1&cafe_url=&without_cafe_url=&sm=tab_opt&nso=so%3Ar%2Cp%3Afrom20150101to20150131&nso_open=1&t=0&mson=0&prdtype=0')\r\n",
    "time.sleep(0.5)"
   ],
   "outputs": [],
   "metadata": {}
  },
  {
   "cell_type": "code",
   "execution_count": 3,
   "source": [
    "# second 동안 스크롤다운 함수\r\n",
    "import datetime\r\n",
    "\r\n",
    "def doScrollDown(whileSeconds):\r\n",
    "    start = datetime.datetime.now()\r\n",
    "    end = start + datetime.timedelta(seconds=whileSeconds)\r\n",
    "    while True:\r\n",
    "        driver.execute_script('window.scrollTo(0, document.body.scrollHeight);')\r\n",
    "        time.sleep(1)\r\n",
    "        if datetime.datetime.now() > end:\r\n",
    "            break\r\n",
    "        "
   ],
   "outputs": [],
   "metadata": {}
  },
  {
   "cell_type": "code",
   "execution_count": 4,
   "source": [
    "doScrollDown(100)"
   ],
   "outputs": [],
   "metadata": {}
  },
  {
   "cell_type": "code",
   "execution_count": 5,
   "source": [
    "# 크롤링할 주소 동적가져오기\r\n",
    "article_list = driver.find_elements_by_css_selector('.api_txt_lines.total_tit')\r\n",
    "len(article_list)"
   ],
   "outputs": [
    {
     "output_type": "execute_result",
     "data": {
      "text/plain": [
       "1000"
      ]
     },
     "metadata": {},
     "execution_count": 5
    }
   ],
   "metadata": {}
  },
  {
   "cell_type": "markdown",
   "source": [
    "## 1. 데이터 수집 함수 정의, 한번에 가져오기"
   ],
   "metadata": {}
  },
  {
   "cell_type": "code",
   "execution_count": 6,
   "source": [
    "def get_Data(driver):\r\n",
    "    driver.switch_to.frame('cafe_main') # 프레임 변경\r\n",
    "    soup = BeautifulSoup(driver.page_source, 'html.parser') # 페이지 준비\r\n",
    "\r\n",
    "    #제목/ 닉네임/ 날짜 \r\n",
    "    title = soup.select('h3.title_text')[0].text.strip() #h3태그에 title_text클래스\r\n",
    "    nickname = soup.select('a.nickname')[0].text.strip() #a테그에 nickname클래스\r\n",
    "    date = soup.select('span.date')[0].text[:10] #시간제외 날짜까지만 인덱싱하여 가져옴\r\n",
    "    \r\n",
    "    #내용\r\n",
    "    try:\r\n",
    "        content = soup.select('div.ContentRenderer')[0].text #div태그에 ContentRenderer클래스\r\n",
    "    except:\r\n",
    "        pass\r\n",
    "\r\n",
    "    # 댓글 : 여러개 존재하므로 모두가져온다음 text만 뽑음 \r\n",
    "    comments_all = soup.select('span.text_comment')\r\n",
    "    comment_list =[]\r\n",
    "    for comment in comments_all:\r\n",
    "        comment = comment.text.strip()\r\n",
    "        comment_list.append(comment)\r\n",
    "\r\n",
    "    # 댓글 : 리스트-> 문자열로 저장\r\n",
    "    seperator = '||'\r\n",
    "    comments = seperator.join(comment_list)\r\n",
    "\r\n",
    "    # 제목/ 닉네임/ 날짜 / 내용/ 댓글 데이터-> 리스트로 저장\r\n",
    "    post = [title , nickname, date, content,comments]\r\n",
    "\r\n",
    "    return post\r\n"
   ],
   "outputs": [],
   "metadata": {}
  },
  {
   "cell_type": "code",
   "execution_count": 7,
   "source": [
    "total_data=[] # 총데이터 저장할 리스트\r\n",
    "\r\n",
    "# 카페 개별 페이지 접속\r\n",
    "for article in article_list:\r\n",
    "    article.click()  # 한페이지에 접속완료\r\n",
    "    time.sleep(6)\r\n",
    "    \r\n",
    "    # 드라이버 윈도우 설정\r\n",
    "    change_tab = driver.window_handles[-1]\r\n",
    "    driver.switch_to.window(change_tab) \r\n",
    "\r\n",
    "    try:\r\n",
    "        data = get_Data(driver) # 수집\r\n",
    "        total_data.append(data)\r\n",
    "    except:\r\n",
    "        pass\r\n",
    "\r\n",
    "    driver.close() # 한페이지 수집완료\r\n",
    "\r\n",
    "    # 다른 게시글 들어갈 준비 (必)\r\n",
    "    change_tab = driver.window_handles[-1]\r\n",
    "    driver.switch_to.window(change_tab)\r\n"
   ],
   "outputs": [],
   "metadata": {}
  },
  {
   "cell_type": "markdown",
   "source": [
    "## 2.데이터 엑셀파일에 저장"
   ],
   "metadata": {}
  },
  {
   "cell_type": "code",
   "execution_count": 8,
   "source": [
    "# title , nickname, date, content,comments 데이터프레임으로 저장\r\n",
    "df = pd.DataFrame(total_data,columns=['title','nickname','date','content','comments'])\r\n",
    "df"
   ],
   "outputs": [
    {
     "output_type": "execute_result",
     "data": {
      "text/plain": [
       "                       title   nickname        date  \\\n",
       "0       일본 최고의 '쌀' 니가타 고시히카리        김수정  2015.01.20   \n",
       "1                     공구쌀 후기        메이주  2015.01.27   \n",
       "2              빨간쌀 필요하신분이요^^    악기하는 여자  2015.01.04   \n",
       "3          쌀맛나는세상님 현미쌀 구입기^^        축복맘  2015.01.13   \n",
       "4             쌀찐빵 더 맛있게 먹기^^        은혜맘  2015.01.12   \n",
       "..                       ...        ...         ...   \n",
       "972  민성이가 주말동안 별 차도가 없었어요 ㅠㅠ       민성이맘  2015.01.26   \n",
       "973                  쌀과자-완료-  피아노치는 서산댁  2015.01.28   \n",
       "974            지도 굴밥 맹글어 봤어요        가을비  2015.01.12   \n",
       "975      소교 써보면 진짜 질질 쌀수밖에..        도라잉  2015.01.21   \n",
       "976               중기 이유식할때요~       서이까꿍  2015.01.06   \n",
       "\n",
       "                                               content  \\\n",
       "0    나라마다 주식(主食)이라 부르는 음식들이 있다. 우리나라와 같은 아시아 지역에서는 ...   \n",
       "1    세종시로 올해 1월 10일 이사했습니다.어제 쌀이 똑 떨어졌는데 마침 까페에 쌀공구...   \n",
       "2    저희 큰아버지께서 쌀도매를 하세요^^빨간쌀 이예요.저도 작녁부터 계속 먹고있는데요^...   \n",
       "3    제가 변비가 심해서 현미쌀100%를 먹어야 되서 쌀맛나는세상님 현미쌀을 구매 했어요...   \n",
       "4    그동안 계속 공구후기며 공구게시판에서 보던 쌀찐빵을 구입했어요 아기간식도 요즘 고민...   \n",
       "..                                                 ...   \n",
       "972  주말 잘 보내셨나요~?^^민성이는 금욜부터 주말동안 먹은거는 쌀미음, 바나나, 찐단...   \n",
       "973   8개월이후한봉당 2300원짜구요모두 2000원이요유통기한2015 05 16읍내현대~     \n",
       "974      전캠서 저녁 식사 메뉴 힌트 얻어서지도 해봤구만요~~지발 우리집 세남자 맛있...   \n",
       "975  제이브 광역으로 백룡,크리스 한번에 죽임->다음 우리스킬턴 소교버프헤제광역 100%...   \n",
       "976  5개월에 이유식 시작해서 이제 몇일있으면 7개월 들어갑니다. 지금까지 쌀을 믹서기에...   \n",
       "\n",
       "                                              comments  \n",
       "0    ㅁ...맛있겠다....||||야식타임 참고있는데 ㅜㅜ||보기만 해도 군침이..||밥...  \n",
       "1    ㅎㅎ밥에 꿀발라~~~\\n꿀바른것같은데 꿀맛이 안나고 밥맛이나죠\\n꼬소름한 밥맛 ㅎㅎ...  \n",
       "2    네^^일반쌀 검정쌀 처럼 섞어드시는거구요♡\\n구입 하시는분 많으심~~메타로 가져다 ...  \n",
       "3    현미밥  어떻게하면   맛있나요?||밥솥이 중요한것 같아요~~ 밥솥 고장 나서 새로...  \n",
       "4    ||후기이벤트 당첨소식이 늦었습니다~!\\n\\n^^ 귀한후기 감사드립니다\\n훈제기에 ...  \n",
       "..                                                 ...  \n",
       "972  민성이가 힘든 주말을 보냈나봐요..\\n민성이가 지금 서있는 곳이 놀이방매트인가요?\\...  \n",
       "973                                                 저용  \n",
       "974  요즘 굴이 대세네요~~~||쌀보리뽕님께서 굴밥 하시는걸 보구서 \\n저도 급 맹글어 ...  \n",
       "975                        바로 골로 보내버림||상대팀도 소교가 있다면...  \n",
       "976  생쌀을 좀 오래 불리면 되나요? 초기보다 물을 더 많이 넣어서 해면 되나요? 어려워...  \n",
       "\n",
       "[977 rows x 5 columns]"
      ],
      "text/html": [
       "<div>\n",
       "<style scoped>\n",
       "    .dataframe tbody tr th:only-of-type {\n",
       "        vertical-align: middle;\n",
       "    }\n",
       "\n",
       "    .dataframe tbody tr th {\n",
       "        vertical-align: top;\n",
       "    }\n",
       "\n",
       "    .dataframe thead th {\n",
       "        text-align: right;\n",
       "    }\n",
       "</style>\n",
       "<table border=\"1\" class=\"dataframe\">\n",
       "  <thead>\n",
       "    <tr style=\"text-align: right;\">\n",
       "      <th></th>\n",
       "      <th>title</th>\n",
       "      <th>nickname</th>\n",
       "      <th>date</th>\n",
       "      <th>content</th>\n",
       "      <th>comments</th>\n",
       "    </tr>\n",
       "  </thead>\n",
       "  <tbody>\n",
       "    <tr>\n",
       "      <th>0</th>\n",
       "      <td>일본 최고의 '쌀' 니가타 고시히카리</td>\n",
       "      <td>김수정</td>\n",
       "      <td>2015.01.20</td>\n",
       "      <td>나라마다 주식(主食)이라 부르는 음식들이 있다. 우리나라와 같은 아시아 지역에서는 ...</td>\n",
       "      <td>ㅁ...맛있겠다....||||야식타임 참고있는데 ㅜㅜ||보기만 해도 군침이..||밥...</td>\n",
       "    </tr>\n",
       "    <tr>\n",
       "      <th>1</th>\n",
       "      <td>공구쌀 후기</td>\n",
       "      <td>메이주</td>\n",
       "      <td>2015.01.27</td>\n",
       "      <td>세종시로 올해 1월 10일 이사했습니다.어제 쌀이 똑 떨어졌는데 마침 까페에 쌀공구...</td>\n",
       "      <td>ㅎㅎ밥에 꿀발라~~~\\n꿀바른것같은데 꿀맛이 안나고 밥맛이나죠\\n꼬소름한 밥맛 ㅎㅎ...</td>\n",
       "    </tr>\n",
       "    <tr>\n",
       "      <th>2</th>\n",
       "      <td>빨간쌀 필요하신분이요^^</td>\n",
       "      <td>악기하는 여자</td>\n",
       "      <td>2015.01.04</td>\n",
       "      <td>저희 큰아버지께서 쌀도매를 하세요^^빨간쌀 이예요.저도 작녁부터 계속 먹고있는데요^...</td>\n",
       "      <td>네^^일반쌀 검정쌀 처럼 섞어드시는거구요♡\\n구입 하시는분 많으심~~메타로 가져다 ...</td>\n",
       "    </tr>\n",
       "    <tr>\n",
       "      <th>3</th>\n",
       "      <td>쌀맛나는세상님 현미쌀 구입기^^</td>\n",
       "      <td>축복맘</td>\n",
       "      <td>2015.01.13</td>\n",
       "      <td>제가 변비가 심해서 현미쌀100%를 먹어야 되서 쌀맛나는세상님 현미쌀을 구매 했어요...</td>\n",
       "      <td>현미밥  어떻게하면   맛있나요?||밥솥이 중요한것 같아요~~ 밥솥 고장 나서 새로...</td>\n",
       "    </tr>\n",
       "    <tr>\n",
       "      <th>4</th>\n",
       "      <td>쌀찐빵 더 맛있게 먹기^^</td>\n",
       "      <td>은혜맘</td>\n",
       "      <td>2015.01.12</td>\n",
       "      <td>그동안 계속 공구후기며 공구게시판에서 보던 쌀찐빵을 구입했어요 아기간식도 요즘 고민...</td>\n",
       "      <td>||후기이벤트 당첨소식이 늦었습니다~!\\n\\n^^ 귀한후기 감사드립니다\\n훈제기에 ...</td>\n",
       "    </tr>\n",
       "    <tr>\n",
       "      <th>...</th>\n",
       "      <td>...</td>\n",
       "      <td>...</td>\n",
       "      <td>...</td>\n",
       "      <td>...</td>\n",
       "      <td>...</td>\n",
       "    </tr>\n",
       "    <tr>\n",
       "      <th>972</th>\n",
       "      <td>민성이가 주말동안 별 차도가 없었어요 ㅠㅠ</td>\n",
       "      <td>민성이맘</td>\n",
       "      <td>2015.01.26</td>\n",
       "      <td>주말 잘 보내셨나요~?^^민성이는 금욜부터 주말동안 먹은거는 쌀미음, 바나나, 찐단...</td>\n",
       "      <td>민성이가 힘든 주말을 보냈나봐요..\\n민성이가 지금 서있는 곳이 놀이방매트인가요?\\...</td>\n",
       "    </tr>\n",
       "    <tr>\n",
       "      <th>973</th>\n",
       "      <td>쌀과자-완료-</td>\n",
       "      <td>피아노치는 서산댁</td>\n",
       "      <td>2015.01.28</td>\n",
       "      <td>8개월이후한봉당 2300원짜구요모두 2000원이요유통기한2015 05 16읍내현대~</td>\n",
       "      <td>저용</td>\n",
       "    </tr>\n",
       "    <tr>\n",
       "      <th>974</th>\n",
       "      <td>지도 굴밥 맹글어 봤어요</td>\n",
       "      <td>가을비</td>\n",
       "      <td>2015.01.12</td>\n",
       "      <td>전캠서 저녁 식사 메뉴 힌트 얻어서지도 해봤구만요~~지발 우리집 세남자 맛있...</td>\n",
       "      <td>요즘 굴이 대세네요~~~||쌀보리뽕님께서 굴밥 하시는걸 보구서 \\n저도 급 맹글어 ...</td>\n",
       "    </tr>\n",
       "    <tr>\n",
       "      <th>975</th>\n",
       "      <td>소교 써보면 진짜 질질 쌀수밖에..</td>\n",
       "      <td>도라잉</td>\n",
       "      <td>2015.01.21</td>\n",
       "      <td>제이브 광역으로 백룡,크리스 한번에 죽임-&gt;다음 우리스킬턴 소교버프헤제광역 100%...</td>\n",
       "      <td>바로 골로 보내버림||상대팀도 소교가 있다면...</td>\n",
       "    </tr>\n",
       "    <tr>\n",
       "      <th>976</th>\n",
       "      <td>중기 이유식할때요~</td>\n",
       "      <td>서이까꿍</td>\n",
       "      <td>2015.01.06</td>\n",
       "      <td>5개월에 이유식 시작해서 이제 몇일있으면 7개월 들어갑니다. 지금까지 쌀을 믹서기에...</td>\n",
       "      <td>생쌀을 좀 오래 불리면 되나요? 초기보다 물을 더 많이 넣어서 해면 되나요? 어려워...</td>\n",
       "    </tr>\n",
       "  </tbody>\n",
       "</table>\n",
       "<p>977 rows × 5 columns</p>\n",
       "</div>"
      ]
     },
     "metadata": {},
     "execution_count": 8
    }
   ],
   "metadata": {}
  },
  {
   "cell_type": "code",
   "execution_count": 9,
   "source": [
    "# 엑셀 파일로 저장\r\n",
    "writer = pd.ExcelWriter('naver_cafe_ssal_contents_2015_01.xlsx')\r\n",
    "df.to_excel(writer,index =False)\r\n",
    "writer.save()"
   ],
   "outputs": [],
   "metadata": {}
  }
 ],
 "metadata": {
  "orig_nbformat": 4,
  "language_info": {
   "name": "python",
   "version": "3.8.5",
   "mimetype": "text/x-python",
   "codemirror_mode": {
    "name": "ipython",
    "version": 3
   },
   "pygments_lexer": "ipython3",
   "nbconvert_exporter": "python",
   "file_extension": ".py"
  },
  "kernelspec": {
   "name": "python3",
   "display_name": "Python 3.8.5 64-bit ('base': conda)"
  },
  "interpreter": {
   "hash": "8c1eae21719a0790335dcb83aad72b63b602cfe5cdb2bda0f60bc11d4f154e4b"
  }
 },
 "nbformat": 4,
 "nbformat_minor": 2
}