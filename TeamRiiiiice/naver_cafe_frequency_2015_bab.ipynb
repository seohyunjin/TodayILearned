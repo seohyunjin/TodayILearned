{
 "cells": [
  {
   "cell_type": "markdown",
   "source": [
    "# naver_cafe _2015_밥"
   ],
   "metadata": {}
  },
  {
   "cell_type": "code",
   "execution_count": 3,
   "source": [
    "from konlpy.tag import Okt\r\n",
    "from collections import Counter\r\n",
    "import wordcloud\r\n",
    "\r\n",
    "import numpy as np  \r\n",
    "import pandas as pd\r\n",
    "\r\n",
    "#이미지 불러와서 사용할 것\r\n",
    "from PIL import Image  \r\n",
    "import matplotlib.pyplot as plt \r\n",
    "\r\n",
    "# 시각화시 글자 선명하게 출력하기 위함\r\n",
    "from IPython.display import set_matplotlib_formats\r\n",
    "set_matplotlib_formats('retina')"
   ],
   "outputs": [],
   "metadata": {}
  },
  {
   "cell_type": "markdown",
   "source": [
    "## 1. 데이터 로드"
   ],
   "metadata": {}
  },
  {
   "cell_type": "code",
   "execution_count": 4,
   "source": [
    "# 크롤링 데이터 불러오기\r\n",
    "text = pd.read_csv(\"crawling_Data/2015_naver_cafe_bab_t.csv\", encoding='cp949', header=None)\r\n",
    "text"
   ],
   "outputs": [
    {
     "output_type": "execute_result",
     "data": {
      "text/plain": [
       "                          0            1\n",
       "0      밥을 입에 물고 안씹는 25개월 아이  2015.12.14.\n",
       "1              첫 압력솥밥이어요~^^  2015.10.04.\n",
       "2              중국쌀로 냄비에 밥하기  2015.10.11.\n",
       "3    하루중 유일하게 편하게 밥먹는 시간..ㅠ  2015.05.15.\n",
       "4     먹어도 살찌지 않는 밥 만드는법....  2015.10.17.\n",
       "..                      ...          ...\n",
       "995              밥주기 무서워요..  2015.02.16.\n",
       "996          밥먹는거 내려놔야하나요 ㅠ  2015.08.30.\n",
       "997               아...밥하기싫소  2015.01.21.\n",
       "998            아이가밥을안먹어요...  2015.10.19.\n",
       "999            ㅋㅋ 계란밥 홀릭~~~  2015.04.19.\n",
       "\n",
       "[1000 rows x 2 columns]"
      ],
      "text/html": [
       "<div>\n",
       "<style scoped>\n",
       "    .dataframe tbody tr th:only-of-type {\n",
       "        vertical-align: middle;\n",
       "    }\n",
       "\n",
       "    .dataframe tbody tr th {\n",
       "        vertical-align: top;\n",
       "    }\n",
       "\n",
       "    .dataframe thead th {\n",
       "        text-align: right;\n",
       "    }\n",
       "</style>\n",
       "<table border=\"1\" class=\"dataframe\">\n",
       "  <thead>\n",
       "    <tr style=\"text-align: right;\">\n",
       "      <th></th>\n",
       "      <th>0</th>\n",
       "      <th>1</th>\n",
       "    </tr>\n",
       "  </thead>\n",
       "  <tbody>\n",
       "    <tr>\n",
       "      <th>0</th>\n",
       "      <td>밥을 입에 물고 안씹는 25개월 아이</td>\n",
       "      <td>2015.12.14.</td>\n",
       "    </tr>\n",
       "    <tr>\n",
       "      <th>1</th>\n",
       "      <td>첫 압력솥밥이어요~^^</td>\n",
       "      <td>2015.10.04.</td>\n",
       "    </tr>\n",
       "    <tr>\n",
       "      <th>2</th>\n",
       "      <td>중국쌀로 냄비에 밥하기</td>\n",
       "      <td>2015.10.11.</td>\n",
       "    </tr>\n",
       "    <tr>\n",
       "      <th>3</th>\n",
       "      <td>하루중 유일하게 편하게 밥먹는 시간..ㅠ</td>\n",
       "      <td>2015.05.15.</td>\n",
       "    </tr>\n",
       "    <tr>\n",
       "      <th>4</th>\n",
       "      <td>먹어도 살찌지 않는 밥 만드는법....</td>\n",
       "      <td>2015.10.17.</td>\n",
       "    </tr>\n",
       "    <tr>\n",
       "      <th>...</th>\n",
       "      <td>...</td>\n",
       "      <td>...</td>\n",
       "    </tr>\n",
       "    <tr>\n",
       "      <th>995</th>\n",
       "      <td>밥주기 무서워요..</td>\n",
       "      <td>2015.02.16.</td>\n",
       "    </tr>\n",
       "    <tr>\n",
       "      <th>996</th>\n",
       "      <td>밥먹는거 내려놔야하나요 ㅠ</td>\n",
       "      <td>2015.08.30.</td>\n",
       "    </tr>\n",
       "    <tr>\n",
       "      <th>997</th>\n",
       "      <td>아...밥하기싫소</td>\n",
       "      <td>2015.01.21.</td>\n",
       "    </tr>\n",
       "    <tr>\n",
       "      <th>998</th>\n",
       "      <td>아이가밥을안먹어요...</td>\n",
       "      <td>2015.10.19.</td>\n",
       "    </tr>\n",
       "    <tr>\n",
       "      <th>999</th>\n",
       "      <td>ㅋㅋ 계란밥 홀릭~~~</td>\n",
       "      <td>2015.04.19.</td>\n",
       "    </tr>\n",
       "  </tbody>\n",
       "</table>\n",
       "<p>1000 rows × 2 columns</p>\n",
       "</div>"
      ]
     },
     "metadata": {},
     "execution_count": 4
    }
   ],
   "metadata": {}
  },
  {
   "cell_type": "code",
   "execution_count": 5,
   "source": [
    "# 데이터 확인\r\n",
    "text[0][0]"
   ],
   "outputs": [
    {
     "output_type": "execute_result",
     "data": {
      "text/plain": [
       "'밥을 입에 물고 안씹는 25개월 아이'"
      ]
     },
     "metadata": {},
     "execution_count": 5
    }
   ],
   "metadata": {}
  },
  {
   "cell_type": "code",
   "execution_count": 6,
   "source": [
    "# 판다스의 데이터 프레임으로 가져온 text를 str로 저장\r\n",
    "q=\" \"\r\n",
    "for i in range(1000):\r\n",
    "    q+=text[0][i]"
   ],
   "outputs": [],
   "metadata": {}
  },
  {
   "cell_type": "markdown",
   "source": [
    "## 2. OKT 형태소 분석기 사용"
   ],
   "metadata": {}
  },
  {
   "cell_type": "code",
   "execution_count": 7,
   "source": [
    "# 명사추출\r\n",
    "okt = Okt()\r\n",
    "nouns_list = okt.nouns(q)"
   ],
   "outputs": [],
   "metadata": {}
  },
  {
   "cell_type": "markdown",
   "source": [
    "## 3. 데이터 정제"
   ],
   "metadata": {}
  },
  {
   "cell_type": "code",
   "execution_count": 15,
   "source": [
    "stopwords= ['밥','밥밥','때','우리','셔틀','개월']"
   ],
   "outputs": [],
   "metadata": {}
  },
  {
   "cell_type": "code",
   "execution_count": 16,
   "source": [
    "# 데이터 정제\r\n",
    "for noun in nouns_list:\r\n",
    "    if len(noun) == 1:\r\n",
    "      nouns_list.remove(noun)\r\n",
    "    if noun in stopwords:\r\n",
    "      nouns_list.remove(noun)"
   ],
   "outputs": [],
   "metadata": {}
  },
  {
   "cell_type": "markdown",
   "source": [
    "## 4. 빈도 확인"
   ],
   "metadata": {}
  },
  {
   "cell_type": "code",
   "execution_count": 21,
   "source": [
    "# 명사별 빈도구해 딕셔너리로 저장\r\n",
    "cnt = Counter(nouns_list)"
   ],
   "outputs": [],
   "metadata": {}
  },
  {
   "cell_type": "code",
   "execution_count": 22,
   "source": [
    "top20=cnt.most_common(20)\r\n",
    "top20"
   ],
   "outputs": [
    {
     "output_type": "execute_result",
     "data": {
      "text/plain": [
       "[('집밥', 79),\n",
       " ('아이', 35),\n",
       " ('오늘', 33),\n",
       " ('아침밥', 30),\n",
       " ('콩나물', 28),\n",
       " ('아기', 25),\n",
       " ('현미', 19),\n",
       " ('저녁', 19),\n",
       " ('먹기', 17),\n",
       " ('냄비', 15),\n",
       " ('시간', 14),\n",
       " ('엄마', 14),\n",
       " ('밥전', 13),\n",
       " ('길냥이', 13),\n",
       " ('혼자', 13),\n",
       " ('흙애', 13),\n",
       " ('아들', 11),\n",
       " ('새우', 11),\n",
       " ('후기', 11),\n",
       " ('아가', 11)]"
      ]
     },
     "metadata": {},
     "execution_count": 22
    }
   ],
   "metadata": {}
  },
  {
   "cell_type": "markdown",
   "source": [
    "## 5. 빈도그래프"
   ],
   "metadata": {}
  },
  {
   "cell_type": "code",
   "execution_count": 19,
   "source": [
    "# 폰트 깨짐 설정\r\n",
    "plt.rcParams['font.family'] = 'Malgun Gothic'"
   ],
   "outputs": [],
   "metadata": {}
  },
  {
   "cell_type": "code",
   "execution_count": 20,
   "source": [
    "import nltk\r\n",
    "fregra = nltk.FreqDist(nouns_list)\r\n",
    "\r\n",
    "fregra.plot(20, cumulative=False, color='black',\r\n",
    "                   title=\"네이버카페_2015_밥\", linewidth=3)"
   ],
   "outputs": [
    {
     "output_type": "display_data",
     "data": {
      "text/plain": [
       "<Figure size 432x288 with 1 Axes>"
      ],
      "image/png": "[encoded data removed]"
     },
     "metadata": {
      "image/png": {
       "width": 381,
       "height": 298
      },
      "needs_background": "light"
     }
    },
    {
     "output_type": "execute_result",
     "data": {
      "text/plain": [
       "<AxesSubplot:title={'center':'네이버카페_2015_밥'}, xlabel='Samples', ylabel='Counts'>"
      ]
     },
     "metadata": {},
     "execution_count": 20
    }
   ],
   "metadata": {}
  }
 ],
 "metadata": {
  "orig_nbformat": 4,
  "language_info": {
   "name": "python",
   "version": "3.8.5",
   "mimetype": "text/x-python",
   "codemirror_mode": {
    "name": "ipython",
    "version": 3
   },
   "pygments_lexer": "ipython3",
   "nbconvert_exporter": "python",
   "file_extension": ".py"
  },
  "kernelspec": {
   "name": "python3",
   "display_name": "Python 3.8.5 64-bit ('base': conda)"
  },
  "interpreter": {
   "hash": "8c1eae21719a0790335dcb83aad72b63b602cfe5cdb2bda0f60bc11d4f154e4b"
  }
 },
 "nbformat": 4,
 "nbformat_minor": 2
}