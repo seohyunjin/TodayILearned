{
  "nbformat": 4,
  "nbformat_minor": 2,
  "metadata": {
    "orig_nbformat": 4,
    "language_info": {
      "name": "python",
      "version": "3.8.5",
      "mimetype": "text/x-python",
      "codemirror_mode": {
        "name": "ipython",
        "version": 3
      },
      "pygments_lexer": "ipython3",
      "nbconvert_exporter": "python",
      "file_extension": ".py"
    },
    "kernelspec": {
      "name": "python3",
      "display_name": "Python 3.8.5 64-bit ('base': conda)"
    },
    "interpreter": {
      "hash": "8c1eae21719a0790335dcb83aad72b63b602cfe5cdb2bda0f60bc11d4f154e4b"
    },
    "colab": {
      "name": "mlvs090902.ipynb",
      "provenance": [],
      "collapsed_sections": [
        "ycRaM-E7hlbu",
        "J7TcgcZyIftJ",
        "95_8JzmNhj6M",
        "G0hMbkIcMe9Z",
        "6vZW-t8nONsP",
        "v8cqUQIrOvS2",
        "T12gVdxwTnYK",
        "_17BDKnl6us6",
        "-gUXZ0Wyhj6T",
        "8sDqcnmn7uBQ",
        "Ms6cAt94hj6f",
        "STWcHjjlhj6l",
        "f6Lz1UQqhj6p",
        "R6ZcrCgQZcuT"
      ]
    },
    "accelerator": "GPU"
  },
  "cells": [
    {
      "cell_type": "markdown",
      "source": [
        "\r\n",
        "따라서 학습데이터를 naver api를 이용해 감성 파악하고 알맞게 분리됨을 확인한 coupang 데이터와 2019 데이터 이용"
      ],
      "metadata": {
        "id": "L3-wJ-iXxP3R"
      }
    },
    {
      "cell_type": "markdown",
      "source": [
        "# 머신러닝 LSTM모델을 이용한 감성분석 진행 02"
      ],
      "metadata": {
        "id": "SuMaRiwwxP3T"
      }
    },
    {
      "cell_type": "markdown",
      "source": [
        "train : only coupang만!\n",
        "\n",
        "test: 직접 감성파악한 문장 300 문장 (다수결로 확정) \n",
        "\n",
        "pred: 2015, 2020 blog cafe데이터"
      ],
      "metadata": {
        "id": "PjgZO9QqmUWD"
      }
    },
    {
      "cell_type": "markdown",
      "source": [
        "# colab 환경에서 작성\n",
        "- konlpy intsall"
      ],
      "metadata": {
        "id": "ycRaM-E7hlbu"
      }
    },
    {
      "cell_type": "code",
      "execution_count": 2,
      "source": [
        "!apt-get update \r\n",
        "!apt-get install g++ openjdk-8-jdk python-dev python3-dev \r\n",
        "!pip3 install JPype1-py3 \r\n",
        "!pip3 install konlpy \r\n",
        "!JAVA_HOME=\"C:\\Program Files\\Java\\jdk-13.0.2\""
      ],
      "outputs": [
        {
          "output_type": "stream",
          "name": "stdout",
          "text": [
            "\r0% [Working]\r            \rHit:1 https://cloud.r-project.org/bin/linux/ubuntu bionic-cran40/ InRelease\n",
            "\r0% [Connecting to archive.ubuntu.com (91.189.88.152)] [Connecting to security.u\r0% [1 InRelease gpgv 3,626 B] [Connecting to archive.ubuntu.com (91.189.88.152)\r                                                                               \rIgn:2 https://developer.download.nvidia.com/compute/cuda/repos/ubuntu1804/x86_64  InRelease\n",
            "\r0% [1 InRelease gpgv 3,626 B] [Connecting to archive.ubuntu.com (91.189.88.152)\r                                                                               \rIgn:3 https://developer.download.nvidia.com/compute/machine-learning/repos/ubuntu1804/x86_64  InRelease\n",
            "\r0% [1 InRelease gpgv 3,626 B] [Waiting for headers] [Waiting for headers] [Wait\r                                                                               \rHit:4 http://security.ubuntu.com/ubuntu bionic-security InRelease\n",
            "Hit:5 https://developer.download.nvidia.com/compute/cuda/repos/ubuntu1804/x86_64  Release\n",
            "Hit:6 http://ppa.launchpad.net/c2d4u.team/c2d4u4.0+/ubuntu bionic InRelease\n",
            "Hit:7 https://developer.download.nvidia.com/compute/machine-learning/repos/ubuntu1804/x86_64  Release\n",
            "Hit:8 http://archive.ubuntu.com/ubuntu bionic InRelease\n",
            "Hit:9 http://archive.ubuntu.com/ubuntu bionic-updates InRelease\n",
            "Hit:10 http://ppa.launchpad.net/cran/libgit2/ubuntu bionic InRelease\n",
            "Hit:11 http://archive.ubuntu.com/ubuntu bionic-backports InRelease\n",
            "Hit:12 http://ppa.launchpad.net/deadsnakes/ppa/ubuntu bionic InRelease\n",
            "Hit:14 http://ppa.launchpad.net/graphics-drivers/ppa/ubuntu bionic InRelease\n",
            "Reading package lists... Done\n",
            "Reading package lists... Done\n",
            "Building dependency tree       \n",
            "Reading state information... Done\n",
            "python-dev is already the newest version (2.7.15~rc1-1).\n",
            "g++ is already the newest version (4:7.4.0-1ubuntu2.3).\n",
            "python3-dev is already the newest version (3.6.7-1~18.04).\n",
            "openjdk-8-jdk is already the newest version (8u292-b10-0ubuntu1~18.04).\n",
            "0 upgraded, 0 newly installed, 0 to remove and 45 not upgraded.\n",
            "Requirement already satisfied: JPype1-py3 in /usr/local/lib/python3.7/dist-packages (0.5.5.4)\n",
            "Requirement already satisfied: konlpy in /usr/local/lib/python3.7/dist-packages (0.5.2)\n",
            "Requirement already satisfied: lxml>=4.1.0 in /usr/local/lib/python3.7/dist-packages (from konlpy) (4.2.6)\n",
            "Requirement already satisfied: colorama in /usr/local/lib/python3.7/dist-packages (from konlpy) (0.4.4)\n",
            "Requirement already satisfied: beautifulsoup4==4.6.0 in /usr/local/lib/python3.7/dist-packages (from konlpy) (4.6.0)\n",
            "Requirement already satisfied: tweepy>=3.7.0 in /usr/local/lib/python3.7/dist-packages (from konlpy) (3.10.0)\n",
            "Requirement already satisfied: JPype1>=0.7.0 in /usr/local/lib/python3.7/dist-packages (from konlpy) (1.3.0)\n",
            "Requirement already satisfied: numpy>=1.6 in /usr/local/lib/python3.7/dist-packages (from konlpy) (1.19.5)\n",
            "Requirement already satisfied: typing-extensions in /usr/local/lib/python3.7/dist-packages (from JPype1>=0.7.0->konlpy) (3.7.4.3)\n",
            "Requirement already satisfied: requests[socks]>=2.11.1 in /usr/local/lib/python3.7/dist-packages (from tweepy>=3.7.0->konlpy) (2.23.0)\n",
            "Requirement already satisfied: six>=1.10.0 in /usr/local/lib/python3.7/dist-packages (from tweepy>=3.7.0->konlpy) (1.15.0)\n",
            "Requirement already satisfied: requests-oauthlib>=0.7.0 in /usr/local/lib/python3.7/dist-packages (from tweepy>=3.7.0->konlpy) (1.3.0)\n",
            "Requirement already satisfied: oauthlib>=3.0.0 in /usr/local/lib/python3.7/dist-packages (from requests-oauthlib>=0.7.0->tweepy>=3.7.0->konlpy) (3.1.1)\n",
            "Requirement already satisfied: idna<3,>=2.5 in /usr/local/lib/python3.7/dist-packages (from requests[socks]>=2.11.1->tweepy>=3.7.0->konlpy) (2.10)\n",
            "Requirement already satisfied: certifi>=2017.4.17 in /usr/local/lib/python3.7/dist-packages (from requests[socks]>=2.11.1->tweepy>=3.7.0->konlpy) (2021.5.30)\n",
            "Requirement already satisfied: urllib3!=1.25.0,!=1.25.1,<1.26,>=1.21.1 in /usr/local/lib/python3.7/dist-packages (from requests[socks]>=2.11.1->tweepy>=3.7.0->konlpy) (1.24.3)\n",
            "Requirement already satisfied: chardet<4,>=3.0.2 in /usr/local/lib/python3.7/dist-packages (from requests[socks]>=2.11.1->tweepy>=3.7.0->konlpy) (3.0.4)\n",
            "Requirement already satisfied: PySocks!=1.5.7,>=1.5.6 in /usr/local/lib/python3.7/dist-packages (from requests[socks]>=2.11.1->tweepy>=3.7.0->konlpy) (1.7.1)\n"
          ]
        }
      ],
      "metadata": {
        "colab": {
          "base_uri": "https://localhost:8080/"
        },
        "id": "BRo8hhwMhn8C",
        "outputId": "1b130ce2-0a4e-4aa8-f1ce-2eb978cad016"
      }
    },
    {
      "cell_type": "markdown",
      "source": [
        "# 0906 머신러닝 LSTM 모델"
      ],
      "metadata": {
        "id": "3jGlodFOhj6C"
      }
    },
    {
      "cell_type": "markdown",
      "source": [
        "## 01. 데이터 불러오기 확인"
      ],
      "metadata": {
        "id": "-65xGBTwhj6F"
      }
    },
    {
      "cell_type": "markdown",
      "source": [
        "## - 데이터 불러오기"
      ],
      "metadata": {
        "id": "qsdgxM6vOSrY"
      }
    },
    {
      "cell_type": "markdown",
      "source": [
        "### - train data 1: 2019"
      ],
      "metadata": {
        "id": "J7TcgcZyIftJ"
      }
    },
    {
      "cell_type": "code",
      "execution_count": 3,
      "source": [
        "import pandas as pd\r\n",
        "train_df = pd.read_excel('naver_senti_sentence_2019.xlsx') # 데이터 불러오기\r\n",
        "print( len(train_df) )\r\n",
        "train_df[0:3] # 확인"
      ],
      "outputs": [
        {
          "output_type": "stream",
          "name": "stdout",
          "text": [
            "16594\n"
          ]
        },
        {
          "output_type": "execute_result",
          "data": {
            "text/html": [
              "<div>\n",
              "<style scoped>\n",
              "    .dataframe tbody tr th:only-of-type {\n",
              "        vertical-align: middle;\n",
              "    }\n",
              "\n",
              "    .dataframe tbody tr th {\n",
              "        vertical-align: top;\n",
              "    }\n",
              "\n",
              "    .dataframe thead th {\n",
              "        text-align: right;\n",
              "    }\n",
              "</style>\n",
              "<table border=\"1\" class=\"dataframe\">\n",
              "  <thead>\n",
              "    <tr style=\"text-align: right;\">\n",
              "      <th></th>\n",
              "      <th>idx</th>\n",
              "      <th>train</th>\n",
              "      <th>api</th>\n",
              "    </tr>\n",
              "  </thead>\n",
              "  <tbody>\n",
              "    <tr>\n",
              "      <th>0</th>\n",
              "      <td>0</td>\n",
              "      <td>우리 아이를 위한 첫 요리 쌀미음 만들기 하루 하루가 기적같고 신기하기만 한 우리...</td>\n",
              "      <td>positive</td>\n",
              "    </tr>\n",
              "    <tr>\n",
              "      <th>1</th>\n",
              "      <td>1</td>\n",
              "      <td>가능하면 천천히 시작해서 덜 복잡한 육아를 좀 더 즐기고 싶었건만 왜 이리 아이가...</td>\n",
              "      <td>neutral</td>\n",
              "    </tr>\n",
              "    <tr>\n",
              "      <th>2</th>\n",
              "      <td>2</td>\n",
              "      <td>초기이유식 쌀미음 만들기 준비물 불린쌀 15 물 200 정 말 간단하고 쉬운 쌀미...</td>\n",
              "      <td>neutral</td>\n",
              "    </tr>\n",
              "  </tbody>\n",
              "</table>\n",
              "</div>"
            ],
            "text/plain": [
              "   idx                                              train       api\n",
              "0    0   우리 아이를 위한 첫 요리 쌀미음 만들기 하루 하루가 기적같고 신기하기만 한 우리...  positive\n",
              "1    1   가능하면 천천히 시작해서 덜 복잡한 육아를 좀 더 즐기고 싶었건만 왜 이리 아이가...   neutral\n",
              "2    2   초기이유식 쌀미음 만들기 준비물 불린쌀 15 물 200 정 말 간단하고 쉬운 쌀미...   neutral"
            ]
          },
          "metadata": {},
          "execution_count": 3
        }
      ],
      "metadata": {
        "colab": {
          "base_uri": "https://localhost:8080/",
          "height": 0
        },
        "id": "wiGgofqWIfJv",
        "outputId": "c4fff0cf-f9cd-476c-af6f-d38de57c81d5"
      }
    },
    {
      "cell_type": "code",
      "execution_count": 4,
      "source": [
        "score = []\r\n",
        "for i in range(len(train_df)):\r\n",
        "  if train_df['api'][i] == 'positive':\r\n",
        "    result = 1\r\n",
        "  elif train_df['api'][i] == 'neutral':\r\n",
        "    result = 0\r\n",
        "  else:\r\n",
        "    result = -1\r\n",
        "  score.append(result)\r\n",
        "\r\n",
        "# 데이터 프레임에 리스트 삽입\r\n",
        "train_df.insert(3,'score',score, True) #insert(삽입위치,칼럼명, 칼럼데이터, true)\r\n",
        "train_df"
      ],
      "outputs": [
        {
          "output_type": "execute_result",
          "data": {
            "text/html": [
              "<div>\n",
              "<style scoped>\n",
              "    .dataframe tbody tr th:only-of-type {\n",
              "        vertical-align: middle;\n",
              "    }\n",
              "\n",
              "    .dataframe tbody tr th {\n",
              "        vertical-align: top;\n",
              "    }\n",
              "\n",
              "    .dataframe thead th {\n",
              "        text-align: right;\n",
              "    }\n",
              "</style>\n",
              "<table border=\"1\" class=\"dataframe\">\n",
              "  <thead>\n",
              "    <tr style=\"text-align: right;\">\n",
              "      <th></th>\n",
              "      <th>idx</th>\n",
              "      <th>train</th>\n",
              "      <th>api</th>\n",
              "      <th>score</th>\n",
              "    </tr>\n",
              "  </thead>\n",
              "  <tbody>\n",
              "    <tr>\n",
              "      <th>0</th>\n",
              "      <td>0</td>\n",
              "      <td>우리 아이를 위한 첫 요리 쌀미음 만들기 하루 하루가 기적같고 신기하기만 한 우리...</td>\n",
              "      <td>positive</td>\n",
              "      <td>1</td>\n",
              "    </tr>\n",
              "    <tr>\n",
              "      <th>1</th>\n",
              "      <td>1</td>\n",
              "      <td>가능하면 천천히 시작해서 덜 복잡한 육아를 좀 더 즐기고 싶었건만 왜 이리 아이가...</td>\n",
              "      <td>neutral</td>\n",
              "      <td>0</td>\n",
              "    </tr>\n",
              "    <tr>\n",
              "      <th>2</th>\n",
              "      <td>2</td>\n",
              "      <td>초기이유식 쌀미음 만들기 준비물 불린쌀 15 물 200 정 말 간단하고 쉬운 쌀미...</td>\n",
              "      <td>neutral</td>\n",
              "      <td>0</td>\n",
              "    </tr>\n",
              "    <tr>\n",
              "      <th>3</th>\n",
              "      <td>3</td>\n",
              "      <td>레시피들마다 다 그람수나 쌀과 물의 비율이 다르기 때문에 충분히 비교 해 보고 원...</td>\n",
              "      <td>neutral</td>\n",
              "      <td>0</td>\n",
              "    </tr>\n",
              "    <tr>\n",
              "      <th>4</th>\n",
              "      <td>4</td>\n",
              "      <td>쌀 은 수북하게 한숟가락 정도 떠서 미리 물에 불려둔다</td>\n",
              "      <td>neutral</td>\n",
              "      <td>0</td>\n",
              "    </tr>\n",
              "    <tr>\n",
              "      <th>...</th>\n",
              "      <td>...</td>\n",
              "      <td>...</td>\n",
              "      <td>...</td>\n",
              "      <td>...</td>\n",
              "    </tr>\n",
              "    <tr>\n",
              "      <th>16589</th>\n",
              "      <td>16589</td>\n",
              "      <td>저희 아가는 150일에 시작 우리나라에서 아기의 첫 이유식 시작은 알레르기 반응이...</td>\n",
              "      <td>neutral</td>\n",
              "      <td>0</td>\n",
              "    </tr>\n",
              "    <tr>\n",
              "      <th>16590</th>\n",
              "      <td>16590</td>\n",
              "      <td>첫 이유식이라 해주고 싶으셨다고 고마워 맘 친정엄마 덕분에 너무나 순조롭게 시작중...</td>\n",
              "      <td>neutral</td>\n",
              "      <td>0</td>\n",
              "    </tr>\n",
              "    <tr>\n",
              "      <th>16591</th>\n",
              "      <td>16591</td>\n",
              "      <td>이유식을 준비하는 엄마들이라면 한번쯤 들어봤을 이유식전용 냄비 릴리팟 냄비 열전도율...</td>\n",
              "      <td>positive</td>\n",
              "      <td>1</td>\n",
              "    </tr>\n",
              "    <tr>\n",
              "      <th>16592</th>\n",
              "      <td>16592</td>\n",
              "      <td>앞 옆 위쪽 심지어 손잡이의 용접된 부분까지 매끄럽게 잘 만들어졌더라구요들어보니 ...</td>\n",
              "      <td>negative</td>\n",
              "      <td>-1</td>\n",
              "    </tr>\n",
              "    <tr>\n",
              "      <th>16593</th>\n",
              "      <td>16593</td>\n",
              "      <td>친구추천도 있고 후기도 좋아서 구입했는데 일단 디자인 만족 그립감 만족 스테인레스 ...</td>\n",
              "      <td>positive</td>\n",
              "      <td>1</td>\n",
              "    </tr>\n",
              "  </tbody>\n",
              "</table>\n",
              "<p>16594 rows × 4 columns</p>\n",
              "</div>"
            ],
            "text/plain": [
              "         idx  ... score\n",
              "0          0  ...     1\n",
              "1          1  ...     0\n",
              "2          2  ...     0\n",
              "3          3  ...     0\n",
              "4          4  ...     0\n",
              "...      ...  ...   ...\n",
              "16589  16589  ...     0\n",
              "16590  16590  ...     0\n",
              "16591  16591  ...     1\n",
              "16592  16592  ...    -1\n",
              "16593  16593  ...     1\n",
              "\n",
              "[16594 rows x 4 columns]"
            ]
          },
          "metadata": {},
          "execution_count": 4
        }
      ],
      "metadata": {
        "colab": {
          "base_uri": "https://localhost:8080/",
          "height": 0
        },
        "id": "-nc3Np6vJN3G",
        "outputId": "b4be5e92-ecdb-4c55-8e9b-635653c43dd1"
      }
    },
    {
      "cell_type": "code",
      "execution_count": 5,
      "source": [
        "# train data의 긍부정 비율 확인 : 긍정1 / 중립0 / 부정 -1\r\n",
        "%matplotlib inline \r\n",
        "import matplotlib.pyplot as plt\r\n",
        "\r\n",
        "train_df['score'].value_counts().plot(kind='bar')\r\n",
        "train_df['score'].value_counts()"
      ],
      "outputs": [
        {
          "output_type": "execute_result",
          "data": {
            "text/plain": [
              " 0    9318\n",
              " 1    5550\n",
              "-1    1726\n",
              "Name: score, dtype: int64"
            ]
          },
          "metadata": {},
          "execution_count": 5
        },
        {
          "output_type": "display_data",
          "data": {
            "image/png": "[encoded data removed]",
            "text/plain": [
              "<Figure size 432x288 with 1 Axes>"
            ]
          },
          "metadata": {
            "needs_background": "light"
          }
        }
      ],
      "metadata": {
        "colab": {
          "base_uri": "https://localhost:8080/",
          "height": 0
        },
        "id": "4IHQHxjiMIDT",
        "outputId": "450b97dc-5a88-4242-eeb5-0cd220ab0ba4"
      }
    },
    {
      "cell_type": "markdown",
      "source": [
        "### - train data 2 : 쿠팡"
      ],
      "metadata": {
        "id": "95_8JzmNhj6M"
      }
    },
    {
      "cell_type": "code",
      "execution_count": 6,
      "source": [
        "import pandas as pd\r\n",
        "train_df_2 = pd.read_excel('total_senti_coupang.xlsx') # 데이터 불러오기\r\n",
        "print( len(train_df_2) )\r\n",
        "train_df_2[0:3] # 확인"
      ],
      "outputs": [
        {
          "output_type": "stream",
          "name": "stdout",
          "text": [
            "15730\n"
          ]
        },
        {
          "output_type": "execute_result",
          "data": {
            "text/html": [
              "<div>\n",
              "<style scoped>\n",
              "    .dataframe tbody tr th:only-of-type {\n",
              "        vertical-align: middle;\n",
              "    }\n",
              "\n",
              "    .dataframe tbody tr th {\n",
              "        vertical-align: top;\n",
              "    }\n",
              "\n",
              "    .dataframe thead th {\n",
              "        text-align: right;\n",
              "    }\n",
              "</style>\n",
              "<table border=\"1\" class=\"dataframe\">\n",
              "  <thead>\n",
              "    <tr style=\"text-align: right;\">\n",
              "      <th></th>\n",
              "      <th>idx</th>\n",
              "      <th>train</th>\n",
              "      <th>api</th>\n",
              "      <th>score</th>\n",
              "    </tr>\n",
              "  </thead>\n",
              "  <tbody>\n",
              "    <tr>\n",
              "      <th>0</th>\n",
              "      <td>0</td>\n",
              "      <td>밥맛하면\\n곰곰쌀이죠</td>\n",
              "      <td>neutral</td>\n",
              "      <td>0</td>\n",
              "    </tr>\n",
              "    <tr>\n",
              "      <th>1</th>\n",
              "      <td>1</td>\n",
              "      <td>비록 다이어트에 실패를 가져다 준\\n곰곰쌀이지만\\n맛있는 걸 오또케요\\n진짜 최고입니다</td>\n",
              "      <td>positive</td>\n",
              "      <td>1</td>\n",
              "    </tr>\n",
              "    <tr>\n",
              "      <th>2</th>\n",
              "      <td>2</td>\n",
              "      <td>♡지난번 구입해서 먹고 다 먹어서\\n또 구입했습니다</td>\n",
              "      <td>neutral</td>\n",
              "      <td>0</td>\n",
              "    </tr>\n",
              "  </tbody>\n",
              "</table>\n",
              "</div>"
            ],
            "text/plain": [
              "   idx                                             train       api  score\n",
              "0    0                                       밥맛하면\\n곰곰쌀이죠   neutral      0\n",
              "1    1  비록 다이어트에 실패를 가져다 준\\n곰곰쌀이지만\\n맛있는 걸 오또케요\\n진짜 최고입니다  positive      1\n",
              "2    2                      ♡지난번 구입해서 먹고 다 먹어서\\n또 구입했습니다   neutral      0"
            ]
          },
          "metadata": {},
          "execution_count": 6
        }
      ],
      "metadata": {
        "colab": {
          "base_uri": "https://localhost:8080/",
          "height": 0
        },
        "id": "ul7KL_Qphj6O",
        "outputId": "ffb89140-de01-4f45-b73c-5389a91abd1d"
      }
    },
    {
      "cell_type": "code",
      "execution_count": 7,
      "source": [
        "# train data의 긍부정 비율 확인 : 긍정1 / 중립0 / 부정 -1\r\n",
        "%matplotlib inline \r\n",
        "import matplotlib.pyplot as plt\r\n",
        "\r\n",
        "train_df_2['score'].value_counts().plot(kind='bar')\r\n",
        "train_df_2['score'].value_counts()"
      ],
      "outputs": [
        {
          "output_type": "execute_result",
          "data": {
            "text/plain": [
              " 1    7771\n",
              " 0    5035\n",
              "-1    2924\n",
              "Name: score, dtype: int64"
            ]
          },
          "metadata": {},
          "execution_count": 7
        },
        {
          "output_type": "display_data",
          "data": {
            "image/png": "[encoded data removed]",
            "text/plain": [
              "<Figure size 432x288 with 1 Axes>"
            ]
          },
          "metadata": {
            "needs_background": "light"
          }
        }
      ],
      "metadata": {
        "colab": {
          "base_uri": "https://localhost:8080/",
          "height": 0
        },
        "id": "sbtEaI7Vhj6Q",
        "outputId": "89bca966-42ee-4efc-e504-e6ed185bbd94"
      }
    },
    {
      "cell_type": "markdown",
      "source": [
        "### - train 합치기"
      ],
      "metadata": {
        "id": "G0hMbkIcMe9Z"
      }
    },
    {
      "cell_type": "code",
      "execution_count": 8,
      "source": [
        "# train_df_2에 train_df 합침\r\n",
        "train_df_2 = pd.concat([train_df, train_df_2], ignore_index= True)\r\n",
        "train_df_2.reset_index(drop=False,inplace=True)\r\n",
        "train_df_2"
      ],
      "outputs": [
        {
          "output_type": "execute_result",
          "data": {
            "text/html": [
              "<div>\n",
              "<style scoped>\n",
              "    .dataframe tbody tr th:only-of-type {\n",
              "        vertical-align: middle;\n",
              "    }\n",
              "\n",
              "    .dataframe tbody tr th {\n",
              "        vertical-align: top;\n",
              "    }\n",
              "\n",
              "    .dataframe thead th {\n",
              "        text-align: right;\n",
              "    }\n",
              "</style>\n",
              "<table border=\"1\" class=\"dataframe\">\n",
              "  <thead>\n",
              "    <tr style=\"text-align: right;\">\n",
              "      <th></th>\n",
              "      <th>index</th>\n",
              "      <th>idx</th>\n",
              "      <th>train</th>\n",
              "      <th>api</th>\n",
              "      <th>score</th>\n",
              "    </tr>\n",
              "  </thead>\n",
              "  <tbody>\n",
              "    <tr>\n",
              "      <th>0</th>\n",
              "      <td>0</td>\n",
              "      <td>0</td>\n",
              "      <td>우리 아이를 위한 첫 요리 쌀미음 만들기 하루 하루가 기적같고 신기하기만 한 우리...</td>\n",
              "      <td>positive</td>\n",
              "      <td>1</td>\n",
              "    </tr>\n",
              "    <tr>\n",
              "      <th>1</th>\n",
              "      <td>1</td>\n",
              "      <td>1</td>\n",
              "      <td>가능하면 천천히 시작해서 덜 복잡한 육아를 좀 더 즐기고 싶었건만 왜 이리 아이가...</td>\n",
              "      <td>neutral</td>\n",
              "      <td>0</td>\n",
              "    </tr>\n",
              "    <tr>\n",
              "      <th>2</th>\n",
              "      <td>2</td>\n",
              "      <td>2</td>\n",
              "      <td>초기이유식 쌀미음 만들기 준비물 불린쌀 15 물 200 정 말 간단하고 쉬운 쌀미...</td>\n",
              "      <td>neutral</td>\n",
              "      <td>0</td>\n",
              "    </tr>\n",
              "    <tr>\n",
              "      <th>3</th>\n",
              "      <td>3</td>\n",
              "      <td>3</td>\n",
              "      <td>레시피들마다 다 그람수나 쌀과 물의 비율이 다르기 때문에 충분히 비교 해 보고 원...</td>\n",
              "      <td>neutral</td>\n",
              "      <td>0</td>\n",
              "    </tr>\n",
              "    <tr>\n",
              "      <th>4</th>\n",
              "      <td>4</td>\n",
              "      <td>4</td>\n",
              "      <td>쌀 은 수북하게 한숟가락 정도 떠서 미리 물에 불려둔다</td>\n",
              "      <td>neutral</td>\n",
              "      <td>0</td>\n",
              "    </tr>\n",
              "    <tr>\n",
              "      <th>...</th>\n",
              "      <td>...</td>\n",
              "      <td>...</td>\n",
              "      <td>...</td>\n",
              "      <td>...</td>\n",
              "      <td>...</td>\n",
              "    </tr>\n",
              "    <tr>\n",
              "      <th>32319</th>\n",
              "      <td>32319</td>\n",
              "      <td>15725</td>\n",
              "      <td>2인이 살고 있는 집이구 저는 주말에만 빕에서 밥을 먹어서\\n양이 좀 많은 편입니다</td>\n",
              "      <td>positive</td>\n",
              "      <td>1</td>\n",
              "    </tr>\n",
              "    <tr>\n",
              "      <th>32320</th>\n",
              "      <td>32320</td>\n",
              "      <td>15726</td>\n",
              "      <td>여름이라 더 작은거 사려다가 그냥 재구매했구요</td>\n",
              "      <td>neutral</td>\n",
              "      <td>0</td>\n",
              "    </tr>\n",
              "    <tr>\n",
              "      <th>32321</th>\n",
              "      <td>32321</td>\n",
              "      <td>15727</td>\n",
              "      <td>밥맛은 좋아요</td>\n",
              "      <td>positive</td>\n",
              "      <td>1</td>\n",
              "    </tr>\n",
              "    <tr>\n",
              "      <th>32322</th>\n",
              "      <td>32322</td>\n",
              "      <td>15728</td>\n",
              "      <td>품질 관리 잘 하시는거 같아요</td>\n",
              "      <td>positive</td>\n",
              "      <td>1</td>\n",
              "    </tr>\n",
              "    <tr>\n",
              "      <th>32323</th>\n",
              "      <td>32323</td>\n",
              "      <td>15729</td>\n",
              "      <td>잘먹을게요</td>\n",
              "      <td>positive</td>\n",
              "      <td>1</td>\n",
              "    </tr>\n",
              "  </tbody>\n",
              "</table>\n",
              "<p>32324 rows × 5 columns</p>\n",
              "</div>"
            ],
            "text/plain": [
              "       index    idx  ...       api score\n",
              "0          0      0  ...  positive     1\n",
              "1          1      1  ...   neutral     0\n",
              "2          2      2  ...   neutral     0\n",
              "3          3      3  ...   neutral     0\n",
              "4          4      4  ...   neutral     0\n",
              "...      ...    ...  ...       ...   ...\n",
              "32319  32319  15725  ...  positive     1\n",
              "32320  32320  15726  ...   neutral     0\n",
              "32321  32321  15727  ...  positive     1\n",
              "32322  32322  15728  ...  positive     1\n",
              "32323  32323  15729  ...  positive     1\n",
              "\n",
              "[32324 rows x 5 columns]"
            ]
          },
          "metadata": {},
          "execution_count": 8
        }
      ],
      "metadata": {
        "colab": {
          "base_uri": "https://localhost:8080/",
          "height": 422
        },
        "id": "9Z9pU0ZEMhZP",
        "outputId": "a466ac45-aa60-4af3-9a95-101cd9cd5ef7"
      }
    },
    {
      "cell_type": "code",
      "execution_count": 12,
      "source": [
        "# 비율 확인\r\n",
        "\r\n",
        "train_df_2['score'].value_counts().plot(kind='bar')\r\n",
        "train_df_2['score'].value_counts()"
      ],
      "outputs": [
        {
          "output_type": "execute_result",
          "data": {
            "text/plain": [
              " 0    14353\n",
              " 1    13321\n",
              "-1     4650\n",
              "Name: score, dtype: int64"
            ]
          },
          "metadata": {},
          "execution_count": 12
        },
        {
          "output_type": "display_data",
          "data": {
            "image/png": "[encoded data removed]",
            "text/plain": [
              "<Figure size 432x288 with 1 Axes>"
            ]
          },
          "metadata": {
            "needs_background": "light"
          }
        }
      ],
      "metadata": {
        "colab": {
          "base_uri": "https://localhost:8080/",
          "height": 341
        },
        "id": "k6z7MMzyNZ_G",
        "outputId": "a1977a31-fe8c-4e33-cf92-23c314eb24c1"
      }
    },
    {
      "cell_type": "markdown",
      "source": [
        "## 학습데이터 비율정해 뽑기 "
      ],
      "metadata": {
        "id": "6vZW-t8nONsP"
      }
    },
    {
      "cell_type": "markdown",
      "source": [
        "### - case0: 비율조정 x : selected_0"
      ],
      "metadata": {
        "id": "Jj6ryz_i6ir7"
      }
    },
    {
      "cell_type": "code",
      "execution_count": 23,
      "source": [
        "selected_train = train_df_2\r\n",
        "selected_train"
      ],
      "outputs": [
        {
          "output_type": "execute_result",
          "data": {
            "text/html": [
              "<div>\n",
              "<style scoped>\n",
              "    .dataframe tbody tr th:only-of-type {\n",
              "        vertical-align: middle;\n",
              "    }\n",
              "\n",
              "    .dataframe tbody tr th {\n",
              "        vertical-align: top;\n",
              "    }\n",
              "\n",
              "    .dataframe thead th {\n",
              "        text-align: right;\n",
              "    }\n",
              "</style>\n",
              "<table border=\"1\" class=\"dataframe\">\n",
              "  <thead>\n",
              "    <tr style=\"text-align: right;\">\n",
              "      <th></th>\n",
              "      <th>index</th>\n",
              "      <th>idx</th>\n",
              "      <th>train</th>\n",
              "      <th>api</th>\n",
              "      <th>score</th>\n",
              "    </tr>\n",
              "  </thead>\n",
              "  <tbody>\n",
              "    <tr>\n",
              "      <th>0</th>\n",
              "      <td>0</td>\n",
              "      <td>0</td>\n",
              "      <td>우리 아이를 위한 첫 요리 쌀미음 만들기 하루 하루가 기적같고 신기하기만 한 우리...</td>\n",
              "      <td>positive</td>\n",
              "      <td>1</td>\n",
              "    </tr>\n",
              "    <tr>\n",
              "      <th>1</th>\n",
              "      <td>1</td>\n",
              "      <td>1</td>\n",
              "      <td>가능하면 천천히 시작해서 덜 복잡한 육아를 좀 더 즐기고 싶었건만 왜 이리 아이가...</td>\n",
              "      <td>neutral</td>\n",
              "      <td>0</td>\n",
              "    </tr>\n",
              "    <tr>\n",
              "      <th>2</th>\n",
              "      <td>2</td>\n",
              "      <td>2</td>\n",
              "      <td>초기이유식 쌀미음 만들기 준비물 불린쌀 15 물 200 정 말 간단하고 쉬운 쌀미...</td>\n",
              "      <td>neutral</td>\n",
              "      <td>0</td>\n",
              "    </tr>\n",
              "    <tr>\n",
              "      <th>3</th>\n",
              "      <td>3</td>\n",
              "      <td>3</td>\n",
              "      <td>레시피들마다 다 그람수나 쌀과 물의 비율이 다르기 때문에 충분히 비교 해 보고 원...</td>\n",
              "      <td>neutral</td>\n",
              "      <td>0</td>\n",
              "    </tr>\n",
              "    <tr>\n",
              "      <th>4</th>\n",
              "      <td>4</td>\n",
              "      <td>4</td>\n",
              "      <td>쌀 은 수북하게 한숟가락 정도 떠서 미리 물에 불려둔다</td>\n",
              "      <td>neutral</td>\n",
              "      <td>0</td>\n",
              "    </tr>\n",
              "    <tr>\n",
              "      <th>...</th>\n",
              "      <td>...</td>\n",
              "      <td>...</td>\n",
              "      <td>...</td>\n",
              "      <td>...</td>\n",
              "      <td>...</td>\n",
              "    </tr>\n",
              "    <tr>\n",
              "      <th>32319</th>\n",
              "      <td>32319</td>\n",
              "      <td>15725</td>\n",
              "      <td>2인이 살고 있는 집이구 저는 주말에만 빕에서 밥을 먹어서\\n양이 좀 많은 편입니다</td>\n",
              "      <td>positive</td>\n",
              "      <td>1</td>\n",
              "    </tr>\n",
              "    <tr>\n",
              "      <th>32320</th>\n",
              "      <td>32320</td>\n",
              "      <td>15726</td>\n",
              "      <td>여름이라 더 작은거 사려다가 그냥 재구매했구요</td>\n",
              "      <td>neutral</td>\n",
              "      <td>0</td>\n",
              "    </tr>\n",
              "    <tr>\n",
              "      <th>32321</th>\n",
              "      <td>32321</td>\n",
              "      <td>15727</td>\n",
              "      <td>밥맛은 좋아요</td>\n",
              "      <td>positive</td>\n",
              "      <td>1</td>\n",
              "    </tr>\n",
              "    <tr>\n",
              "      <th>32322</th>\n",
              "      <td>32322</td>\n",
              "      <td>15728</td>\n",
              "      <td>품질 관리 잘 하시는거 같아요</td>\n",
              "      <td>positive</td>\n",
              "      <td>1</td>\n",
              "    </tr>\n",
              "    <tr>\n",
              "      <th>32323</th>\n",
              "      <td>32323</td>\n",
              "      <td>15729</td>\n",
              "      <td>잘먹을게요</td>\n",
              "      <td>positive</td>\n",
              "      <td>1</td>\n",
              "    </tr>\n",
              "  </tbody>\n",
              "</table>\n",
              "<p>32324 rows × 5 columns</p>\n",
              "</div>"
            ],
            "text/plain": [
              "       index    idx  ...       api score\n",
              "0          0      0  ...  positive     1\n",
              "1          1      1  ...   neutral     0\n",
              "2          2      2  ...   neutral     0\n",
              "3          3      3  ...   neutral     0\n",
              "4          4      4  ...   neutral     0\n",
              "...      ...    ...  ...       ...   ...\n",
              "32319  32319  15725  ...  positive     1\n",
              "32320  32320  15726  ...   neutral     0\n",
              "32321  32321  15727  ...  positive     1\n",
              "32322  32322  15728  ...  positive     1\n",
              "32323  32323  15729  ...  positive     1\n",
              "\n",
              "[32324 rows x 5 columns]"
            ]
          },
          "metadata": {},
          "execution_count": 23
        }
      ],
      "metadata": {
        "colab": {
          "base_uri": "https://localhost:8080/",
          "height": 508
        },
        "id": "04ULWc7n6iHs",
        "outputId": "7346f08c-26fd-4029-d90b-2dde724757e9"
      }
    },
    {
      "cell_type": "code",
      "execution_count": 26,
      "source": [
        "selected_train['api'].value_counts().plot(kind='bar')\r\n",
        "\r\n",
        "#train_selected_1저장\r\n",
        "selected_train.to_excel('train_ratio/train_selected0.xlsx')"
      ],
      "outputs": [
        {
          "output_type": "display_data",
          "data": {
            "image/png": "[encoded data removed]",
            "text/plain": [
              "<Figure size 432x288 with 1 Axes>"
            ]
          },
          "metadata": {
            "needs_background": "light"
          }
        }
      ],
      "metadata": {
        "colab": {
          "base_uri": "https://localhost:8080/",
          "height": 299
        },
        "id": "TE15Pmzk637a",
        "outputId": "a09ed2f6-bb39-49dc-8cf7-ca4ba41b0caa"
      }
    },
    {
      "cell_type": "markdown",
      "source": [
        "### - case1 : -1 : 4650 // 1:4650 // 0 : 4650"
      ],
      "metadata": {
        "id": "v8cqUQIrOvS2"
      }
    },
    {
      "cell_type": "code",
      "execution_count": 10,
      "source": [
        "# 긍부정 비율 동일하게 학습\r\n",
        "# -1 : 4650 // 1:4650 // 0 : 4650\r\n",
        "all_positive_su, all_negative_su,all_netural_su =[],[],[]\r\n",
        "for i in range(32324):\r\n",
        "  if train_df_2['score'][i]== 1:\r\n",
        "    all_positive_su.append(train_df_2['index'][i])\r\n",
        "  if train_df_2['score'][i]== -1:\r\n",
        "    all_negative_su.append(train_df_2['index'][i])\r\n",
        "  if train_df_2['score'][i]== 0:\r\n",
        "    all_netural_su.append(train_df_2['index'][i])\r\n",
        "    \r\n",
        "\r\n",
        "import random\r\n",
        "random.seed(2021)\r\n",
        "\r\n",
        "rand_negative_su = random.sample(all_negative_su, 4650) \r\n",
        "rand_netural_su = random.sample(all_netural_su, 4650) \r\n",
        "rand_positive_su = random.sample(all_positive_su, 4650) \r\n",
        "print ( len( rand_negative_su), len(rand_netural_su),len( rand_positive_su ) )\r\n",
        "\r\n",
        "selected_train = pd.concat ( [ train_df_2.loc[rand_positive_su,:], train_df_2.loc[rand_netural_su,:],train_df_2.loc[rand_negative_su,:] ], ignore_index=True )\r\n",
        "selected_train"
      ],
      "outputs": [
        {
          "output_type": "stream",
          "name": "stdout",
          "text": [
            "4650 4650 4650\n"
          ]
        },
        {
          "output_type": "execute_result",
          "data": {
            "text/html": [
              "<div>\n",
              "<style scoped>\n",
              "    .dataframe tbody tr th:only-of-type {\n",
              "        vertical-align: middle;\n",
              "    }\n",
              "\n",
              "    .dataframe tbody tr th {\n",
              "        vertical-align: top;\n",
              "    }\n",
              "\n",
              "    .dataframe thead th {\n",
              "        text-align: right;\n",
              "    }\n",
              "</style>\n",
              "<table border=\"1\" class=\"dataframe\">\n",
              "  <thead>\n",
              "    <tr style=\"text-align: right;\">\n",
              "      <th></th>\n",
              "      <th>index</th>\n",
              "      <th>idx</th>\n",
              "      <th>train</th>\n",
              "      <th>api</th>\n",
              "      <th>score</th>\n",
              "    </tr>\n",
              "  </thead>\n",
              "  <tbody>\n",
              "    <tr>\n",
              "      <th>0</th>\n",
              "      <td>22291</td>\n",
              "      <td>5697</td>\n",
              "      <td>\\n평이좋아 구매했고 두번째도 의심없이 주문했어요</td>\n",
              "      <td>positive</td>\n",
              "      <td>1</td>\n",
              "    </tr>\n",
              "    <tr>\n",
              "      <th>1</th>\n",
              "      <td>13235</td>\n",
              "      <td>13235</td>\n",
              "      <td>구수한 것 같기도 신맛이 느껴지기도 오묘한 맛 추운 날 가볍게 먹기에 좋을 것 같다</td>\n",
              "      <td>positive</td>\n",
              "      <td>1</td>\n",
              "    </tr>\n",
              "    <tr>\n",
              "      <th>2</th>\n",
              "      <td>21222</td>\n",
              "      <td>4628</td>\n",
              "      <td>\\n밥맛도 달게 느껴지고 진짜 맛있다 맛있다 소리가\\n절로나오네요</td>\n",
              "      <td>positive</td>\n",
              "      <td>1</td>\n",
              "    </tr>\n",
              "    <tr>\n",
              "      <th>3</th>\n",
              "      <td>1345</td>\n",
              "      <td>1345</td>\n",
              "      <td>쌀빵체험팩 구성 플레인쌀빵1 호두베리쌀빵1 한끼설기1 쌀카스테라1 바나나쌀파운드1...</td>\n",
              "      <td>positive</td>\n",
              "      <td>1</td>\n",
              "    </tr>\n",
              "    <tr>\n",
              "      <th>4</th>\n",
              "      <td>3809</td>\n",
              "      <td>3809</td>\n",
              "      <td>김치 올려서 떡국 훌훌 먹기에 좋고 성인 1인분으로 양도 충분하고 간단하게 조리해...</td>\n",
              "      <td>positive</td>\n",
              "      <td>1</td>\n",
              "    </tr>\n",
              "    <tr>\n",
              "      <th>...</th>\n",
              "      <td>...</td>\n",
              "      <td>...</td>\n",
              "      <td>...</td>\n",
              "      <td>...</td>\n",
              "      <td>...</td>\n",
              "    </tr>\n",
              "    <tr>\n",
              "      <th>13945</th>\n",
              "      <td>22463</td>\n",
              "      <td>5869</td>\n",
              "      <td>공짜로받아도 안먹을 쌀상태에요</td>\n",
              "      <td>negative</td>\n",
              "      <td>-1</td>\n",
              "    </tr>\n",
              "    <tr>\n",
              "      <th>13946</th>\n",
              "      <td>26623</td>\n",
              "      <td>10029</td>\n",
              "      <td>(잠금 뚜껑 있는것)\\n근데 이번 여름은 너무 습했는지\\n곰팡이가 나버렸네요</td>\n",
              "      <td>negative</td>\n",
              "      <td>-1</td>\n",
              "    </tr>\n",
              "    <tr>\n",
              "      <th>13947</th>\n",
              "      <td>22987</td>\n",
              "      <td>6393</td>\n",
              "      <td>맛없음 맛없음 맛없음밥을 하니 밥이 누래요</td>\n",
              "      <td>negative</td>\n",
              "      <td>-1</td>\n",
              "    </tr>\n",
              "    <tr>\n",
              "      <th>13948</th>\n",
              "      <td>23184</td>\n",
              "      <td>6590</td>\n",
              "      <td>\\n822일 도정쌀 827일주문\\n대체 어떻게하면 이딴게\\n상품평보니 벌레 부터 ...</td>\n",
              "      <td>negative</td>\n",
              "      <td>-1</td>\n",
              "    </tr>\n",
              "    <tr>\n",
              "      <th>13949</th>\n",
              "      <td>16789</td>\n",
              "      <td>195</td>\n",
              "      <td>비닐포장해도 안터지고 잘 오던데\\n이번에는 어마무시하게 큰 종이박스에 고이 보내주셨네요</td>\n",
              "      <td>negative</td>\n",
              "      <td>-1</td>\n",
              "    </tr>\n",
              "  </tbody>\n",
              "</table>\n",
              "<p>13950 rows × 5 columns</p>\n",
              "</div>"
            ],
            "text/plain": [
              "       index    idx  ...       api score\n",
              "0      22291   5697  ...  positive     1\n",
              "1      13235  13235  ...  positive     1\n",
              "2      21222   4628  ...  positive     1\n",
              "3       1345   1345  ...  positive     1\n",
              "4       3809   3809  ...  positive     1\n",
              "...      ...    ...  ...       ...   ...\n",
              "13945  22463   5869  ...  negative    -1\n",
              "13946  26623  10029  ...  negative    -1\n",
              "13947  22987   6393  ...  negative    -1\n",
              "13948  23184   6590  ...  negative    -1\n",
              "13949  16789    195  ...  negative    -1\n",
              "\n",
              "[13950 rows x 5 columns]"
            ]
          },
          "metadata": {},
          "execution_count": 10
        }
      ],
      "metadata": {
        "colab": {
          "base_uri": "https://localhost:8080/",
          "height": 545
        },
        "id": "QaWpU3QYz-4F",
        "outputId": "499003ad-8db0-4139-9206-4d4ddd452339"
      }
    },
    {
      "cell_type": "code",
      "execution_count": 24,
      "source": [
        "selected_train['api'].value_counts().plot(kind='bar')\r\n",
        "\r\n",
        "#train_selected_1저장\r\n",
        "selected_train.to_excel('train_ratio/train_selected1.xlsx')"
      ],
      "outputs": [
        {
          "output_type": "display_data",
          "data": {
            "image/png": "[encoded data removed]",
            "text/plain": [
              "<Figure size 432x288 with 1 Axes>"
            ]
          },
          "metadata": {
            "needs_background": "light"
          }
        }
      ],
      "metadata": {
        "colab": {
          "base_uri": "https://localhost:8080/",
          "height": 299
        },
        "id": "vJeKb8o956CY",
        "outputId": "b9c98627-4ba4-4c80-9cb8-4c347b88c641"
      }
    },
    {
      "cell_type": "code",
      "execution_count": null,
      "source": [
        "#학습데이터 수 조정\r\n",
        "# result2 = pd.concat([df1,df2], ignore_index=True)\r\n",
        "selected_train = pd.concat ( [ train_df_2.loc[rand_positive_su,:], train_df_2.loc[all_netural_su,:],train_df_2.loc[all_negative_su,:] ], ignore_index=True )\r\n",
        "selected_train"
      ],
      "outputs": [
        {
          "output_type": "execute_result",
          "data": {
            "text/html": [
              "<div>\n",
              "<style scoped>\n",
              "    .dataframe tbody tr th:only-of-type {\n",
              "        vertical-align: middle;\n",
              "    }\n",
              "\n",
              "    .dataframe tbody tr th {\n",
              "        vertical-align: top;\n",
              "    }\n",
              "\n",
              "    .dataframe thead th {\n",
              "        text-align: right;\n",
              "    }\n",
              "</style>\n",
              "<table border=\"1\" class=\"dataframe\">\n",
              "  <thead>\n",
              "    <tr style=\"text-align: right;\">\n",
              "      <th></th>\n",
              "      <th>idx</th>\n",
              "      <th>train</th>\n",
              "      <th>api</th>\n",
              "      <th>score</th>\n",
              "    </tr>\n",
              "  </thead>\n",
              "  <tbody>\n",
              "    <tr>\n",
              "      <th>0</th>\n",
              "      <td>5697</td>\n",
              "      <td>시중에 판매하는 대부분의 과자들이 30 인 것에 반해 처으미야 떡뻥과 스틱은 40...</td>\n",
              "      <td>positive</td>\n",
              "      <td>1</td>\n",
              "    </tr>\n",
              "    <tr>\n",
              "      <th>1</th>\n",
              "      <td>13235</td>\n",
              "      <td>구수한 것 같기도 신맛이 느껴지기도 오묘한 맛 추운 날 가볍게 먹기에 좋을 것 같다</td>\n",
              "      <td>positive</td>\n",
              "      <td>1</td>\n",
              "    </tr>\n",
              "    <tr>\n",
              "      <th>2</th>\n",
              "      <td>4628</td>\n",
              "      <td>해피키친 찐연맘왔어요</td>\n",
              "      <td>neutral</td>\n",
              "      <td>0</td>\n",
              "    </tr>\n",
              "    <tr>\n",
              "      <th>3</th>\n",
              "      <td>1345</td>\n",
              "      <td>쌀빵체험팩 구성 플레인쌀빵1 호두베리쌀빵1 한끼설기1 쌀카스테라1 바나나쌀파운드1...</td>\n",
              "      <td>positive</td>\n",
              "      <td>1</td>\n",
              "    </tr>\n",
              "    <tr>\n",
              "      <th>4</th>\n",
              "      <td>3809</td>\n",
              "      <td>김치 올려서 떡국 훌훌 먹기에 좋고 성인 1인분으로 양도 충분하고 간단하게 조리해...</td>\n",
              "      <td>positive</td>\n",
              "      <td>1</td>\n",
              "    </tr>\n",
              "    <tr>\n",
              "      <th>...</th>\n",
              "      <td>...</td>\n",
              "      <td>...</td>\n",
              "      <td>...</td>\n",
              "      <td>...</td>\n",
              "    </tr>\n",
              "    <tr>\n",
              "      <th>23648</th>\n",
              "      <td>15686</td>\n",
              "      <td>요식혀주고 이제 부터 아주 긴장되는 시간이 두구 두구 온도를 맞출라면 하루종일 온도...</td>\n",
              "      <td>neutral</td>\n",
              "      <td>0</td>\n",
              "    </tr>\n",
              "    <tr>\n",
              "      <th>23649</th>\n",
              "      <td>15705</td>\n",
              "      <td>네이버 고고맘 채널에 초기이유식 쌀미음 만드는 영상부터 소개됩니다</td>\n",
              "      <td>neutral</td>\n",
              "      <td>0</td>\n",
              "    </tr>\n",
              "    <tr>\n",
              "      <th>23650</th>\n",
              "      <td>15711</td>\n",
              "      <td>이유식강의 및 코칭을 하면서 수많은 정보가 오히려 독이 될 수의정부 디저트 맛집 봄...</td>\n",
              "      <td>positive</td>\n",
              "      <td>1</td>\n",
              "    </tr>\n",
              "    <tr>\n",
              "      <th>23651</th>\n",
              "      <td>15719</td>\n",
              "      <td>문의 010 2939 2424요즘 너무 인기 좋은 숫자 케이크입니다</td>\n",
              "      <td>positive</td>\n",
              "      <td>1</td>\n",
              "    </tr>\n",
              "    <tr>\n",
              "      <th>23652</th>\n",
              "      <td>15721</td>\n",
              "      <td>다비케이크 수업 풍경 남편의 생일을 위해 부모님의 생신을 위해 각각 방문해 주셨어요</td>\n",
              "      <td>neutral</td>\n",
              "      <td>0</td>\n",
              "    </tr>\n",
              "  </tbody>\n",
              "</table>\n",
              "<p>23653 rows × 4 columns</p>\n",
              "</div>"
            ],
            "text/plain": [
              "         idx  ... score\n",
              "0       5697  ...     1\n",
              "1      13235  ...     1\n",
              "2       4628  ...     0\n",
              "3       1345  ...     1\n",
              "4       3809  ...     1\n",
              "...      ...  ...   ...\n",
              "23648  15686  ...     0\n",
              "23649  15705  ...     0\n",
              "23650  15711  ...     1\n",
              "23651  15719  ...     1\n",
              "23652  15721  ...     0\n",
              "\n",
              "[23653 rows x 4 columns]"
            ]
          },
          "metadata": {},
          "execution_count": 25
        }
      ],
      "metadata": {
        "colab": {
          "base_uri": "https://localhost:8080/",
          "height": 422
        },
        "id": "dWR3gPFb2u-1",
        "outputId": "59801d5d-119f-40ca-fb68-38037b1e80ce"
      }
    },
    {
      "cell_type": "code",
      "execution_count": null,
      "source": [
        "selected_train['score'].value_counts()\r\n"
      ],
      "outputs": [
        {
          "output_type": "execute_result",
          "data": {
            "text/plain": [
              " 0    5035\n",
              "-1    2924\n",
              " 1    2924\n",
              "Name: score, dtype: int64"
            ]
          },
          "metadata": {},
          "execution_count": 8
        }
      ],
      "metadata": {
        "colab": {
          "base_uri": "https://localhost:8080/"
        },
        "id": "g6wkbuim5qse",
        "outputId": "3d92d858-012e-4745-f8e3-542e3f50dbaf"
      }
    },
    {
      "cell_type": "code",
      "execution_count": null,
      "source": [
        "#train_selected_1저장\r\n",
        "selected_train.to_excel('train_selected.xlsx')"
      ],
      "outputs": [],
      "metadata": {
        "id": "wM_MgVip6CJ6"
      }
    },
    {
      "cell_type": "markdown",
      "source": [
        "## - pred: 2015 blog / 2015 cafe"
      ],
      "metadata": {
        "id": "_17BDKnl6us6"
      }
    },
    {
      "cell_type": "code",
      "execution_count": 15,
      "source": [
        "import pandas as pd\r\n",
        "pred_df= pd.read_excel('kss_st_2015_blog.xlsx') # 데이터 불러오기\r\n",
        "print( len(pred_df) )\r\n",
        "pred_df[0:3] # 확인"
      ],
      "outputs": [
        {
          "output_type": "stream",
          "name": "stdout",
          "text": [
            "83227\n"
          ]
        },
        {
          "output_type": "execute_result",
          "data": {
            "text/html": [
              "<div>\n",
              "<style scoped>\n",
              "    .dataframe tbody tr th:only-of-type {\n",
              "        vertical-align: middle;\n",
              "    }\n",
              "\n",
              "    .dataframe tbody tr th {\n",
              "        vertical-align: top;\n",
              "    }\n",
              "\n",
              "    .dataframe thead th {\n",
              "        text-align: right;\n",
              "    }\n",
              "</style>\n",
              "<table border=\"1\" class=\"dataframe\">\n",
              "  <thead>\n",
              "    <tr style=\"text-align: right;\">\n",
              "      <th></th>\n",
              "      <th>idx</th>\n",
              "      <th>sentence_Data</th>\n",
              "      <th>channel</th>\n",
              "      <th>year</th>\n",
              "    </tr>\n",
              "  </thead>\n",
              "  <tbody>\n",
              "    <tr>\n",
              "      <th>0</th>\n",
              "      <td>0</td>\n",
              "      <td>한인마트는 귀찮아서 안가므로 떡볶이를 먹고싶을 때를 대비하여 이전에 마트에서 쌀가루...</td>\n",
              "      <td>blog</td>\n",
              "      <td>2015</td>\n",
              "    </tr>\n",
              "    <tr>\n",
              "      <th>1</th>\n",
              "      <td>1</td>\n",
              "      <td>그리고 오늘은 1월 1일 아무래도 설날이나 새해때 떡국을 안먹으면 억울하다 작년에도...</td>\n",
              "      <td>blog</td>\n",
              "      <td>2015</td>\n",
              "    </tr>\n",
              "    <tr>\n",
              "      <th>2</th>\n",
              "      <td>2</td>\n",
              "      <td>국물내는 재료따위 없는 나는 떡국까진 사치고 너무 먹고싶었던 고추가루엄청 많이 넣은...</td>\n",
              "      <td>blog</td>\n",
              "      <td>2015</td>\n",
              "    </tr>\n",
              "  </tbody>\n",
              "</table>\n",
              "</div>"
            ],
            "text/plain": [
              "   idx                                      sentence_Data channel  year\n",
              "0    0  한인마트는 귀찮아서 안가므로 떡볶이를 먹고싶을 때를 대비하여 이전에 마트에서 쌀가루...    blog  2015\n",
              "1    1  그리고 오늘은 1월 1일 아무래도 설날이나 새해때 떡국을 안먹으면 억울하다 작년에도...    blog  2015\n",
              "2    2  국물내는 재료따위 없는 나는 떡국까진 사치고 너무 먹고싶었던 고추가루엄청 많이 넣은...    blog  2015"
            ]
          },
          "metadata": {},
          "execution_count": 15
        }
      ],
      "metadata": {
        "colab": {
          "base_uri": "https://localhost:8080/",
          "height": 162
        },
        "id": "T3snWC3j6zTI",
        "outputId": "fea1b7ea-1580-40cd-e896-c9fa8fd5a4ec"
      }
    },
    {
      "cell_type": "code",
      "execution_count": 16,
      "source": [
        "pred_df_2= pd.read_excel('kss_st_2015_cafe.xlsx') # 데이터 불러오기\r\n",
        "print( len(pred_df_2) )\r\n",
        "pred_df_2[0:3] # 확인"
      ],
      "outputs": [
        {
          "output_type": "stream",
          "name": "stdout",
          "text": [
            "33294\n"
          ]
        },
        {
          "output_type": "execute_result",
          "data": {
            "text/html": [
              "<div>\n",
              "<style scoped>\n",
              "    .dataframe tbody tr th:only-of-type {\n",
              "        vertical-align: middle;\n",
              "    }\n",
              "\n",
              "    .dataframe tbody tr th {\n",
              "        vertical-align: top;\n",
              "    }\n",
              "\n",
              "    .dataframe thead th {\n",
              "        text-align: right;\n",
              "    }\n",
              "</style>\n",
              "<table border=\"1\" class=\"dataframe\">\n",
              "  <thead>\n",
              "    <tr style=\"text-align: right;\">\n",
              "      <th></th>\n",
              "      <th>idx</th>\n",
              "      <th>sentence_Data</th>\n",
              "      <th>channel</th>\n",
              "      <th>year</th>\n",
              "    </tr>\n",
              "  </thead>\n",
              "  <tbody>\n",
              "    <tr>\n",
              "      <th>0</th>\n",
              "      <td>0</td>\n",
              "      <td>세종시로 올해 1월 10일 이사했습니다</td>\n",
              "      <td>cafe</td>\n",
              "      <td>2015</td>\n",
              "    </tr>\n",
              "    <tr>\n",
              "      <th>1</th>\n",
              "      <td>1</td>\n",
              "      <td>어제 쌀이 똑 떨어졌는데 마침 까페에 쌀공구가 떴네요</td>\n",
              "      <td>cafe</td>\n",
              "      <td>2015</td>\n",
              "    </tr>\n",
              "    <tr>\n",
              "      <th>2</th>\n",
              "      <td>2</td>\n",
              "      <td>내일아침 밥을 하기위해 저녁에 직접 방문드리기로 했습니다</td>\n",
              "      <td>cafe</td>\n",
              "      <td>2015</td>\n",
              "    </tr>\n",
              "  </tbody>\n",
              "</table>\n",
              "</div>"
            ],
            "text/plain": [
              "   idx                    sentence_Data channel  year\n",
              "0    0            세종시로 올해 1월 10일 이사했습니다    cafe  2015\n",
              "1    1    어제 쌀이 똑 떨어졌는데 마침 까페에 쌀공구가 떴네요    cafe  2015\n",
              "2    2  내일아침 밥을 하기위해 저녁에 직접 방문드리기로 했습니다    cafe  2015"
            ]
          },
          "metadata": {},
          "execution_count": 16
        }
      ],
      "metadata": {
        "colab": {
          "base_uri": "https://localhost:8080/",
          "height": 162
        },
        "id": "_Ik21ph1980X",
        "outputId": "bfe9930d-4355-4323-e082-a2fe7c369057"
      }
    },
    {
      "cell_type": "code",
      "execution_count": 17,
      "source": [
        "#pred_df 합쳐서 한번에 진행\r\n",
        "pred_df = pd.concat([pred_df, pred_df_2],ignore_index=True)\r\n",
        "\r\n"
      ],
      "outputs": [],
      "metadata": {
        "id": "9FIjFSXS_BRz"
      }
    },
    {
      "cell_type": "code",
      "execution_count": 18,
      "source": [
        "pred_df"
      ],
      "outputs": [
        {
          "output_type": "execute_result",
          "data": {
            "text/html": [
              "<div>\n",
              "<style scoped>\n",
              "    .dataframe tbody tr th:only-of-type {\n",
              "        vertical-align: middle;\n",
              "    }\n",
              "\n",
              "    .dataframe tbody tr th {\n",
              "        vertical-align: top;\n",
              "    }\n",
              "\n",
              "    .dataframe thead th {\n",
              "        text-align: right;\n",
              "    }\n",
              "</style>\n",
              "<table border=\"1\" class=\"dataframe\">\n",
              "  <thead>\n",
              "    <tr style=\"text-align: right;\">\n",
              "      <th></th>\n",
              "      <th>idx</th>\n",
              "      <th>sentence_Data</th>\n",
              "      <th>channel</th>\n",
              "      <th>year</th>\n",
              "    </tr>\n",
              "  </thead>\n",
              "  <tbody>\n",
              "    <tr>\n",
              "      <th>0</th>\n",
              "      <td>0</td>\n",
              "      <td>한인마트는 귀찮아서 안가므로 떡볶이를 먹고싶을 때를 대비하여 이전에 마트에서 쌀가루...</td>\n",
              "      <td>blog</td>\n",
              "      <td>2015</td>\n",
              "    </tr>\n",
              "    <tr>\n",
              "      <th>1</th>\n",
              "      <td>1</td>\n",
              "      <td>그리고 오늘은 1월 1일 아무래도 설날이나 새해때 떡국을 안먹으면 억울하다 작년에도...</td>\n",
              "      <td>blog</td>\n",
              "      <td>2015</td>\n",
              "    </tr>\n",
              "    <tr>\n",
              "      <th>2</th>\n",
              "      <td>2</td>\n",
              "      <td>국물내는 재료따위 없는 나는 떡국까진 사치고 너무 먹고싶었던 고추가루엄청 많이 넣은...</td>\n",
              "      <td>blog</td>\n",
              "      <td>2015</td>\n",
              "    </tr>\n",
              "    <tr>\n",
              "      <th>3</th>\n",
              "      <td>3</td>\n",
              "      <td>블로그보면 쌀가루로 찹쌀떡진짜 잘 만들던데 내가만든건 만들다가 정말 빡쳤다는 것이 ...</td>\n",
              "      <td>blog</td>\n",
              "      <td>2015</td>\n",
              "    </tr>\n",
              "    <tr>\n",
              "      <th>4</th>\n",
              "      <td>4</td>\n",
              "      <td>라는 생각으로 만듬 찹쌀떡이없는 나라에서 산다해도 안먹고 말거야</td>\n",
              "      <td>blog</td>\n",
              "      <td>2015</td>\n",
              "    </tr>\n",
              "    <tr>\n",
              "      <th>...</th>\n",
              "      <td>...</td>\n",
              "      <td>...</td>\n",
              "      <td>...</td>\n",
              "      <td>...</td>\n",
              "    </tr>\n",
              "    <tr>\n",
              "      <th>116516</th>\n",
              "      <td>33289</td>\n",
              "      <td>식용유 미림맛술 꿀 이렇게 3가지 양념만 넣고 조리 했는데 맛이 와 비린맛 잘 잡아...</td>\n",
              "      <td>cafe</td>\n",
              "      <td>2015</td>\n",
              "    </tr>\n",
              "    <tr>\n",
              "      <th>116517</th>\n",
              "      <td>33290</td>\n",
              "      <td>가능한가요 믹서기 청소가 귀찮아서</td>\n",
              "      <td>cafe</td>\n",
              "      <td>2015</td>\n",
              "    </tr>\n",
              "    <tr>\n",
              "      <th>116518</th>\n",
              "      <td>33291</td>\n",
              "      <td>담주부터 초기이유식 시작인데 아직 애가 못앉잖아요 다들 그냥 분유주듯 안아서 먹이시나요</td>\n",
              "      <td>cafe</td>\n",
              "      <td>2015</td>\n",
              "    </tr>\n",
              "    <tr>\n",
              "      <th>116519</th>\n",
              "      <td>33292</td>\n",
              "      <td>어뭉들어디서 사드시나요 아이간식사먹이는 사이트추천좀해주셔요</td>\n",
              "      <td>cafe</td>\n",
              "      <td>2015</td>\n",
              "    </tr>\n",
              "    <tr>\n",
              "      <th>116520</th>\n",
              "      <td>33293</td>\n",
              "      <td>간혹 동물 사료용으로 쓰신다고 무료나눔하신던데 벌레가 막 나오거나 하지는 않는데 애...</td>\n",
              "      <td>cafe</td>\n",
              "      <td>2015</td>\n",
              "    </tr>\n",
              "  </tbody>\n",
              "</table>\n",
              "<p>116521 rows × 4 columns</p>\n",
              "</div>"
            ],
            "text/plain": [
              "          idx                                      sentence_Data channel  year\n",
              "0           0  한인마트는 귀찮아서 안가므로 떡볶이를 먹고싶을 때를 대비하여 이전에 마트에서 쌀가루...    blog  2015\n",
              "1           1  그리고 오늘은 1월 1일 아무래도 설날이나 새해때 떡국을 안먹으면 억울하다 작년에도...    blog  2015\n",
              "2           2  국물내는 재료따위 없는 나는 떡국까진 사치고 너무 먹고싶었던 고추가루엄청 많이 넣은...    blog  2015\n",
              "3           3  블로그보면 쌀가루로 찹쌀떡진짜 잘 만들던데 내가만든건 만들다가 정말 빡쳤다는 것이 ...    blog  2015\n",
              "4           4                라는 생각으로 만듬 찹쌀떡이없는 나라에서 산다해도 안먹고 말거야    blog  2015\n",
              "...       ...                                                ...     ...   ...\n",
              "116516  33289  식용유 미림맛술 꿀 이렇게 3가지 양념만 넣고 조리 했는데 맛이 와 비린맛 잘 잡아...    cafe  2015\n",
              "116517  33290                                 가능한가요 믹서기 청소가 귀찮아서    cafe  2015\n",
              "116518  33291   담주부터 초기이유식 시작인데 아직 애가 못앉잖아요 다들 그냥 분유주듯 안아서 먹이시나요    cafe  2015\n",
              "116519  33292                   어뭉들어디서 사드시나요 아이간식사먹이는 사이트추천좀해주셔요    cafe  2015\n",
              "116520  33293  간혹 동물 사료용으로 쓰신다고 무료나눔하신던데 벌레가 막 나오거나 하지는 않는데 애...    cafe  2015\n",
              "\n",
              "[116521 rows x 4 columns]"
            ]
          },
          "metadata": {},
          "execution_count": 18
        }
      ],
      "metadata": {
        "colab": {
          "base_uri": "https://localhost:8080/",
          "height": 525
        },
        "id": "C_qD3PXu_Wzf",
        "outputId": "6cc75292-961b-47f1-b64b-db479fff803d"
      }
    },
    {
      "cell_type": "markdown",
      "source": [
        "## - pred:2020 blog/ cafe"
      ],
      "metadata": {
        "id": "JDS-xxDyU8IG"
      }
    },
    {
      "cell_type": "code",
      "execution_count": 50,
      "source": [
        "import pandas as pd\r\n",
        "pred_df= pd.read_excel('kss_st_2020_blog.xlsx') # 데이터 불러오기\r\n",
        "print( len(pred_df) )\r\n",
        "pred_df[0:3] # 확인"
      ],
      "outputs": [
        {
          "output_type": "stream",
          "name": "stdout",
          "text": [
            "115215\n"
          ]
        },
        {
          "output_type": "execute_result",
          "data": {
            "text/html": [
              "<div>\n",
              "<style scoped>\n",
              "    .dataframe tbody tr th:only-of-type {\n",
              "        vertical-align: middle;\n",
              "    }\n",
              "\n",
              "    .dataframe tbody tr th {\n",
              "        vertical-align: top;\n",
              "    }\n",
              "\n",
              "    .dataframe thead th {\n",
              "        text-align: right;\n",
              "    }\n",
              "</style>\n",
              "<table border=\"1\" class=\"dataframe\">\n",
              "  <thead>\n",
              "    <tr style=\"text-align: right;\">\n",
              "      <th></th>\n",
              "      <th>idx</th>\n",
              "      <th>sentence_Data</th>\n",
              "      <th>channel</th>\n",
              "      <th>year</th>\n",
              "    </tr>\n",
              "  </thead>\n",
              "  <tbody>\n",
              "    <tr>\n",
              "      <th>0</th>\n",
              "      <td>0</td>\n",
              "      <td>초기이유식 2단계 소고기미음 차례 나는 튼이이유식 책을보고 만들고 있는데 초기는 책...</td>\n",
              "      <td>blog</td>\n",
              "      <td>2020</td>\n",
              "    </tr>\n",
              "    <tr>\n",
              "      <th>1</th>\n",
              "      <td>1</td>\n",
              "      <td>중기이유식 들어가면서 큐브만들고 책 보는중 무튼 엄마들이라면 이유식만들때 참고하는 ...</td>\n",
              "      <td>blog</td>\n",
              "      <td>2020</td>\n",
              "    </tr>\n",
              "    <tr>\n",
              "      <th>2</th>\n",
              "      <td>2</td>\n",
              "      <td>나도 도서관에서 2개의 이유식책을 빌렸는데 쌀미음 다음에 순서가 달랐다</td>\n",
              "      <td>blog</td>\n",
              "      <td>2020</td>\n",
              "    </tr>\n",
              "  </tbody>\n",
              "</table>\n",
              "</div>"
            ],
            "text/plain": [
              "   idx                                      sentence_Data channel  year\n",
              "0    0  초기이유식 2단계 소고기미음 차례 나는 튼이이유식 책을보고 만들고 있는데 초기는 책...    blog  2020\n",
              "1    1  중기이유식 들어가면서 큐브만들고 책 보는중 무튼 엄마들이라면 이유식만들때 참고하는 ...    blog  2020\n",
              "2    2            나도 도서관에서 2개의 이유식책을 빌렸는데 쌀미음 다음에 순서가 달랐다    blog  2020"
            ]
          },
          "metadata": {},
          "execution_count": 50
        }
      ],
      "metadata": {
        "colab": {
          "base_uri": "https://localhost:8080/",
          "height": 162
        },
        "id": "9q-3YLi9U_D_",
        "outputId": "eeb5300e-c697-488f-bdf5-bdbb451c820a"
      }
    },
    {
      "cell_type": "code",
      "execution_count": 51,
      "source": [
        "pred_df_2= pd.read_excel('kss_st_2020_cafe.xlsx') # 데이터 불러오기\r\n",
        "print( len(pred_df_2) )\r\n",
        "pred_df_2[0:3] # 확인"
      ],
      "outputs": [
        {
          "output_type": "stream",
          "name": "stdout",
          "text": [
            "33685\n"
          ]
        },
        {
          "output_type": "execute_result",
          "data": {
            "text/html": [
              "<div>\n",
              "<style scoped>\n",
              "    .dataframe tbody tr th:only-of-type {\n",
              "        vertical-align: middle;\n",
              "    }\n",
              "\n",
              "    .dataframe tbody tr th {\n",
              "        vertical-align: top;\n",
              "    }\n",
              "\n",
              "    .dataframe thead th {\n",
              "        text-align: right;\n",
              "    }\n",
              "</style>\n",
              "<table border=\"1\" class=\"dataframe\">\n",
              "  <thead>\n",
              "    <tr style=\"text-align: right;\">\n",
              "      <th></th>\n",
              "      <th>idx</th>\n",
              "      <th>sentence_Data</th>\n",
              "      <th>channel</th>\n",
              "      <th>year</th>\n",
              "    </tr>\n",
              "  </thead>\n",
              "  <tbody>\n",
              "    <tr>\n",
              "      <th>0</th>\n",
              "      <td>0</td>\n",
              "      <td>쌀구움과자 장여진 채미희 지음경향미디어메마른 쌀베이킹계의단비같은 도서가 나타났어요</td>\n",
              "      <td>cafe</td>\n",
              "      <td>2020</td>\n",
              "    </tr>\n",
              "    <tr>\n",
              "      <th>1</th>\n",
              "      <td>1</td>\n",
              "      <td>쌀베이킹을 하면서밀베이킹과는 조금다른 결과물에당황할 때도 종종 있거든요</td>\n",
              "      <td>cafe</td>\n",
              "      <td>2020</td>\n",
              "    </tr>\n",
              "    <tr>\n",
              "      <th>2</th>\n",
              "      <td>2</td>\n",
              "      <td>클래스를 다녀야하나 고민도해봤는데시간이 없는 저로썬 집에서 끙끙 앓고 있었는데너무 ...</td>\n",
              "      <td>cafe</td>\n",
              "      <td>2020</td>\n",
              "    </tr>\n",
              "  </tbody>\n",
              "</table>\n",
              "</div>"
            ],
            "text/plain": [
              "   idx                                      sentence_Data channel  year\n",
              "0    0      쌀구움과자 장여진 채미희 지음경향미디어메마른 쌀베이킹계의단비같은 도서가 나타났어요    cafe  2020\n",
              "1    1            쌀베이킹을 하면서밀베이킹과는 조금다른 결과물에당황할 때도 종종 있거든요    cafe  2020\n",
              "2    2  클래스를 다녀야하나 고민도해봤는데시간이 없는 저로썬 집에서 끙끙 앓고 있었는데너무 ...    cafe  2020"
            ]
          },
          "metadata": {},
          "execution_count": 51
        }
      ],
      "metadata": {
        "colab": {
          "base_uri": "https://localhost:8080/",
          "height": 162
        },
        "id": "zzFJGk2dVCIm",
        "outputId": "4446926c-cc75-4ce5-ae37-63eaed3b712b"
      }
    },
    {
      "cell_type": "code",
      "execution_count": 52,
      "source": [
        "#pred_df 합쳐서 한번에 진행\r\n",
        "pred_df = pd.concat([pred_df, pred_df_2],ignore_index=True)\r\n",
        "pred_df"
      ],
      "outputs": [
        {
          "output_type": "execute_result",
          "data": {
            "text/html": [
              "<div>\n",
              "<style scoped>\n",
              "    .dataframe tbody tr th:only-of-type {\n",
              "        vertical-align: middle;\n",
              "    }\n",
              "\n",
              "    .dataframe tbody tr th {\n",
              "        vertical-align: top;\n",
              "    }\n",
              "\n",
              "    .dataframe thead th {\n",
              "        text-align: right;\n",
              "    }\n",
              "</style>\n",
              "<table border=\"1\" class=\"dataframe\">\n",
              "  <thead>\n",
              "    <tr style=\"text-align: right;\">\n",
              "      <th></th>\n",
              "      <th>idx</th>\n",
              "      <th>sentence_Data</th>\n",
              "      <th>channel</th>\n",
              "      <th>year</th>\n",
              "    </tr>\n",
              "  </thead>\n",
              "  <tbody>\n",
              "    <tr>\n",
              "      <th>0</th>\n",
              "      <td>0</td>\n",
              "      <td>초기이유식 2단계 소고기미음 차례 나는 튼이이유식 책을보고 만들고 있는데 초기는 책...</td>\n",
              "      <td>blog</td>\n",
              "      <td>2020</td>\n",
              "    </tr>\n",
              "    <tr>\n",
              "      <th>1</th>\n",
              "      <td>1</td>\n",
              "      <td>중기이유식 들어가면서 큐브만들고 책 보는중 무튼 엄마들이라면 이유식만들때 참고하는 ...</td>\n",
              "      <td>blog</td>\n",
              "      <td>2020</td>\n",
              "    </tr>\n",
              "    <tr>\n",
              "      <th>2</th>\n",
              "      <td>2</td>\n",
              "      <td>나도 도서관에서 2개의 이유식책을 빌렸는데 쌀미음 다음에 순서가 달랐다</td>\n",
              "      <td>blog</td>\n",
              "      <td>2020</td>\n",
              "    </tr>\n",
              "    <tr>\n",
              "      <th>3</th>\n",
              "      <td>3</td>\n",
              "      <td>하나는 야채 하나는 철분을 위해 소고기 나는 완분임에도 야채부터 하고 소고기를 들어...</td>\n",
              "      <td>blog</td>\n",
              "      <td>2020</td>\n",
              "    </tr>\n",
              "    <tr>\n",
              "      <th>4</th>\n",
              "      <td>4</td>\n",
              "      <td>최대한 지방없는걸로 달라고 했는데 잘 모르겠다</td>\n",
              "      <td>blog</td>\n",
              "      <td>2020</td>\n",
              "    </tr>\n",
              "    <tr>\n",
              "      <th>...</th>\n",
              "      <td>...</td>\n",
              "      <td>...</td>\n",
              "      <td>...</td>\n",
              "      <td>...</td>\n",
              "    </tr>\n",
              "    <tr>\n",
              "      <th>148895</th>\n",
              "      <td>33680</td>\n",
              "      <td>재난카드 정부재난카드 카드 온누리 평택사랑권 다가능해요</td>\n",
              "      <td>cafe</td>\n",
              "      <td>2020</td>\n",
              "    </tr>\n",
              "    <tr>\n",
              "      <th>148896</th>\n",
              "      <td>33681</td>\n",
              "      <td>주문방법 참고하셔서 주문 주세요</td>\n",
              "      <td>cafe</td>\n",
              "      <td>2020</td>\n",
              "    </tr>\n",
              "    <tr>\n",
              "      <th>148897</th>\n",
              "      <td>33682</td>\n",
              "      <td>2만원 이상 무료배달해드려요 2만원 미만은 배송료 2천원입니다 주 문 방 법 1 문...</td>\n",
              "      <td>cafe</td>\n",
              "      <td>2020</td>\n",
              "    </tr>\n",
              "    <tr>\n",
              "      <th>148898</th>\n",
              "      <td>33683</td>\n",
              "      <td>2 문자로 동 호수 연락처 보내주시면 주문완료 3 계좌입금 해주시는 분들은 꼭 동 ...</td>\n",
              "      <td>cafe</td>\n",
              "      <td>2020</td>\n",
              "    </tr>\n",
              "    <tr>\n",
              "      <th>148899</th>\n",
              "      <td>33684</td>\n",
              "      <td>전화문의 010 2856 8020 계좌 582 12 053282 농협 장유진 달콤한...</td>\n",
              "      <td>cafe</td>\n",
              "      <td>2020</td>\n",
              "    </tr>\n",
              "  </tbody>\n",
              "</table>\n",
              "<p>148900 rows × 4 columns</p>\n",
              "</div>"
            ],
            "text/plain": [
              "          idx                                      sentence_Data channel  year\n",
              "0           0  초기이유식 2단계 소고기미음 차례 나는 튼이이유식 책을보고 만들고 있는데 초기는 책...    blog  2020\n",
              "1           1  중기이유식 들어가면서 큐브만들고 책 보는중 무튼 엄마들이라면 이유식만들때 참고하는 ...    blog  2020\n",
              "2           2            나도 도서관에서 2개의 이유식책을 빌렸는데 쌀미음 다음에 순서가 달랐다    blog  2020\n",
              "3           3  하나는 야채 하나는 철분을 위해 소고기 나는 완분임에도 야채부터 하고 소고기를 들어...    blog  2020\n",
              "4           4                          최대한 지방없는걸로 달라고 했는데 잘 모르겠다    blog  2020\n",
              "...       ...                                                ...     ...   ...\n",
              "148895  33680                     재난카드 정부재난카드 카드 온누리 평택사랑권 다가능해요    cafe  2020\n",
              "148896  33681                                  주문방법 참고하셔서 주문 주세요    cafe  2020\n",
              "148897  33682  2만원 이상 무료배달해드려요 2만원 미만은 배송료 2천원입니다 주 문 방 법 1 문...    cafe  2020\n",
              "148898  33683  2 문자로 동 호수 연락처 보내주시면 주문완료 3 계좌입금 해주시는 분들은 꼭 동 ...    cafe  2020\n",
              "148899  33684  전화문의 010 2856 8020 계좌 582 12 053282 농협 장유진 달콤한...    cafe  2020\n",
              "\n",
              "[148900 rows x 4 columns]"
            ]
          },
          "metadata": {},
          "execution_count": 52
        }
      ],
      "metadata": {
        "colab": {
          "base_uri": "https://localhost:8080/",
          "height": 474
        },
        "id": "5Oq4WK9xVEcQ",
        "outputId": "243d1b9e-3807-4efe-fa79-b11500ca942f"
      }
    },
    {
      "cell_type": "markdown",
      "source": [
        "## 02. 데이터 전처리"
      ],
      "metadata": {
        "id": "OOvhmfAihj6T"
      }
    },
    {
      "cell_type": "markdown",
      "source": [
        "###  - train data"
      ],
      "metadata": {
        "id": "-gUXZ0Wyhj6T"
      }
    },
    {
      "cell_type": "code",
      "execution_count": 13,
      "source": [
        "# selected_train 확인 : 쿠팡 데이터\r\n",
        "\r\n",
        "# text 컬럼이 non-null인 샘플만 selected_train에 다시 저장\r\n",
        "selected_train = selected_train[selected_train['train'].notnull()]\r\n",
        "\r\n",
        "# 수정된 selected_train의 정보를 다시 확인\r\n",
        "print(selected_train.info())\r\n",
        "\r\n",
        "# 분류 클래스의 구성을 확인\r\n",
        "print(selected_train['score'].value_counts())"
      ],
      "outputs": [
        {
          "output_type": "stream",
          "name": "stdout",
          "text": [
            "<class 'pandas.core.frame.DataFrame'>\n",
            "Int64Index: 13950 entries, 0 to 13949\n",
            "Data columns (total 5 columns):\n",
            " #   Column  Non-Null Count  Dtype \n",
            "---  ------  --------------  ----- \n",
            " 0   index   13950 non-null  int64 \n",
            " 1   idx     13950 non-null  int64 \n",
            " 2   train   13950 non-null  object\n",
            " 3   api     13950 non-null  object\n",
            " 4   score   13950 non-null  int64 \n",
            "dtypes: int64(3), object(2)\n",
            "memory usage: 653.9+ KB\n",
            "None\n",
            "-1    4650\n",
            " 1    4650\n",
            " 0    4650\n",
            "Name: score, dtype: int64\n"
          ]
        }
      ],
      "metadata": {
        "colab": {
          "base_uri": "https://localhost:8080/"
        },
        "id": "wToq87Q7hj6U",
        "outputId": "78a75ea7-bfec-4ea8-b6a2-b55c01191f47"
      }
    },
    {
      "cell_type": "markdown",
      "source": [
        "### - pred data (social)"
      ],
      "metadata": {
        "id": "8sDqcnmn7uBQ"
      }
    },
    {
      "cell_type": "code",
      "execution_count": 53,
      "source": [
        "# pred에 str이 아닌게 존재하네! nan임을 확인함 # 제거하고 데이터 다시 가져옴\r\n",
        "for i in range(len(pred_df)):\r\n",
        "    if type(pred_df['sentence_Data'][i]) != str :\r\n",
        "        print(i)"
      ],
      "outputs": [],
      "metadata": {
        "id": "A-v1OL3V7xBW"
      }
    },
    {
      "cell_type": "code",
      "execution_count": 54,
      "source": [
        "# 댓글이 있는 항목만 담기(빈 댓글 삭제)\r\n",
        "# text 컬럼이 non-null인 샘플만 train_df에 다시 저장\r\n",
        "pred_df = pred_df[pred_df['sentence_Data'].notnull()]\r\n",
        "\r\n",
        "# 수정된 train_df의 정보를 다시 확인\r\n",
        "print(pred_df.info())\r\n",
        "\r\n",
        "# null값 개수 확인\r\n",
        "print(pred_df['sentence_Data'].isnull().sum())"
      ],
      "outputs": [
        {
          "output_type": "stream",
          "name": "stdout",
          "text": [
            "<class 'pandas.core.frame.DataFrame'>\n",
            "Int64Index: 148900 entries, 0 to 148899\n",
            "Data columns (total 4 columns):\n",
            " #   Column         Non-Null Count   Dtype \n",
            "---  ------         --------------   ----- \n",
            " 0   idx            148900 non-null  int64 \n",
            " 1   sentence_Data  148900 non-null  object\n",
            " 2   channel        148900 non-null  object\n",
            " 3   year           148900 non-null  int64 \n",
            "dtypes: int64(2), object(2)\n",
            "memory usage: 5.7+ MB\n",
            "None\n",
            "0\n"
          ]
        }
      ],
      "metadata": {
        "colab": {
          "base_uri": "https://localhost:8080/"
        },
        "id": "OUl0rWH-8FTV",
        "outputId": "bf084f99-da3c-4cb0-c414-2842f6853b9c"
      }
    },
    {
      "cell_type": "code",
      "execution_count": 55,
      "source": [
        "pred_df"
      ],
      "outputs": [
        {
          "output_type": "execute_result",
          "data": {
            "text/html": [
              "<div>\n",
              "<style scoped>\n",
              "    .dataframe tbody tr th:only-of-type {\n",
              "        vertical-align: middle;\n",
              "    }\n",
              "\n",
              "    .dataframe tbody tr th {\n",
              "        vertical-align: top;\n",
              "    }\n",
              "\n",
              "    .dataframe thead th {\n",
              "        text-align: right;\n",
              "    }\n",
              "</style>\n",
              "<table border=\"1\" class=\"dataframe\">\n",
              "  <thead>\n",
              "    <tr style=\"text-align: right;\">\n",
              "      <th></th>\n",
              "      <th>idx</th>\n",
              "      <th>sentence_Data</th>\n",
              "      <th>channel</th>\n",
              "      <th>year</th>\n",
              "    </tr>\n",
              "  </thead>\n",
              "  <tbody>\n",
              "    <tr>\n",
              "      <th>0</th>\n",
              "      <td>0</td>\n",
              "      <td>초기이유식 2단계 소고기미음 차례 나는 튼이이유식 책을보고 만들고 있는데 초기는 책...</td>\n",
              "      <td>blog</td>\n",
              "      <td>2020</td>\n",
              "    </tr>\n",
              "    <tr>\n",
              "      <th>1</th>\n",
              "      <td>1</td>\n",
              "      <td>중기이유식 들어가면서 큐브만들고 책 보는중 무튼 엄마들이라면 이유식만들때 참고하는 ...</td>\n",
              "      <td>blog</td>\n",
              "      <td>2020</td>\n",
              "    </tr>\n",
              "    <tr>\n",
              "      <th>2</th>\n",
              "      <td>2</td>\n",
              "      <td>나도 도서관에서 2개의 이유식책을 빌렸는데 쌀미음 다음에 순서가 달랐다</td>\n",
              "      <td>blog</td>\n",
              "      <td>2020</td>\n",
              "    </tr>\n",
              "    <tr>\n",
              "      <th>3</th>\n",
              "      <td>3</td>\n",
              "      <td>하나는 야채 하나는 철분을 위해 소고기 나는 완분임에도 야채부터 하고 소고기를 들어...</td>\n",
              "      <td>blog</td>\n",
              "      <td>2020</td>\n",
              "    </tr>\n",
              "    <tr>\n",
              "      <th>4</th>\n",
              "      <td>4</td>\n",
              "      <td>최대한 지방없는걸로 달라고 했는데 잘 모르겠다</td>\n",
              "      <td>blog</td>\n",
              "      <td>2020</td>\n",
              "    </tr>\n",
              "    <tr>\n",
              "      <th>...</th>\n",
              "      <td>...</td>\n",
              "      <td>...</td>\n",
              "      <td>...</td>\n",
              "      <td>...</td>\n",
              "    </tr>\n",
              "    <tr>\n",
              "      <th>148895</th>\n",
              "      <td>33680</td>\n",
              "      <td>재난카드 정부재난카드 카드 온누리 평택사랑권 다가능해요</td>\n",
              "      <td>cafe</td>\n",
              "      <td>2020</td>\n",
              "    </tr>\n",
              "    <tr>\n",
              "      <th>148896</th>\n",
              "      <td>33681</td>\n",
              "      <td>주문방법 참고하셔서 주문 주세요</td>\n",
              "      <td>cafe</td>\n",
              "      <td>2020</td>\n",
              "    </tr>\n",
              "    <tr>\n",
              "      <th>148897</th>\n",
              "      <td>33682</td>\n",
              "      <td>2만원 이상 무료배달해드려요 2만원 미만은 배송료 2천원입니다 주 문 방 법 1 문...</td>\n",
              "      <td>cafe</td>\n",
              "      <td>2020</td>\n",
              "    </tr>\n",
              "    <tr>\n",
              "      <th>148898</th>\n",
              "      <td>33683</td>\n",
              "      <td>2 문자로 동 호수 연락처 보내주시면 주문완료 3 계좌입금 해주시는 분들은 꼭 동 ...</td>\n",
              "      <td>cafe</td>\n",
              "      <td>2020</td>\n",
              "    </tr>\n",
              "    <tr>\n",
              "      <th>148899</th>\n",
              "      <td>33684</td>\n",
              "      <td>전화문의 010 2856 8020 계좌 582 12 053282 농협 장유진 달콤한...</td>\n",
              "      <td>cafe</td>\n",
              "      <td>2020</td>\n",
              "    </tr>\n",
              "  </tbody>\n",
              "</table>\n",
              "<p>148900 rows × 4 columns</p>\n",
              "</div>"
            ],
            "text/plain": [
              "          idx                                      sentence_Data channel  year\n",
              "0           0  초기이유식 2단계 소고기미음 차례 나는 튼이이유식 책을보고 만들고 있는데 초기는 책...    blog  2020\n",
              "1           1  중기이유식 들어가면서 큐브만들고 책 보는중 무튼 엄마들이라면 이유식만들때 참고하는 ...    blog  2020\n",
              "2           2            나도 도서관에서 2개의 이유식책을 빌렸는데 쌀미음 다음에 순서가 달랐다    blog  2020\n",
              "3           3  하나는 야채 하나는 철분을 위해 소고기 나는 완분임에도 야채부터 하고 소고기를 들어...    blog  2020\n",
              "4           4                          최대한 지방없는걸로 달라고 했는데 잘 모르겠다    blog  2020\n",
              "...       ...                                                ...     ...   ...\n",
              "148895  33680                     재난카드 정부재난카드 카드 온누리 평택사랑권 다가능해요    cafe  2020\n",
              "148896  33681                                  주문방법 참고하셔서 주문 주세요    cafe  2020\n",
              "148897  33682  2만원 이상 무료배달해드려요 2만원 미만은 배송료 2천원입니다 주 문 방 법 1 문...    cafe  2020\n",
              "148898  33683  2 문자로 동 호수 연락처 보내주시면 주문완료 3 계좌입금 해주시는 분들은 꼭 동 ...    cafe  2020\n",
              "148899  33684  전화문의 010 2856 8020 계좌 582 12 053282 농협 장유진 달콤한...    cafe  2020\n",
              "\n",
              "[148900 rows x 4 columns]"
            ]
          },
          "metadata": {},
          "execution_count": 55
        }
      ],
      "metadata": {
        "colab": {
          "base_uri": "https://localhost:8080/",
          "height": 0
        },
        "id": "BhET4NaWi0dT",
        "outputId": "74c2b7db-66d9-48b3-a538-d160ac1bea5d"
      }
    },
    {
      "cell_type": "markdown",
      "source": [
        "## 03. train / test 분리"
      ],
      "metadata": {
        "id": "Ms6cAt94hj6f"
      }
    },
    {
      "cell_type": "markdown",
      "source": [
        "### -  train: 쿠팡 / test: 300st"
      ],
      "metadata": {
        "id": "BbumyKkFVCif"
      }
    },
    {
      "cell_type": "code",
      "execution_count": 27,
      "source": [
        "#01. 데이터 불러오기\r\n",
        "retest_data = pd.read_excel('retest300st.xlsx')\r\n",
        "retest_data\r\n",
        "\r\n",
        "#02. 전처리\r\n",
        "# retest_data의 test 칼럼을 긍정 1, 중립0 부정 -1로 교체\r\n",
        "y_score=[]\r\n",
        "for i in range(len(retest_data)):\r\n",
        "    if retest_data['test'][i] == '부정':\r\n",
        "        y_score.append(-1)\r\n",
        "    elif retest_data['test'][i] == '중립':\r\n",
        "        y_score.append(0)\r\n",
        "    else:\r\n",
        "        y_score.append(1)"
      ],
      "outputs": [],
      "metadata": {
        "id": "67Nq7D9FWHFi"
      }
    },
    {
      "cell_type": "code",
      "execution_count": 28,
      "source": [
        "# Train용 데이터셋과 Test용 데이터 셋 지정\r\n",
        "\r\n",
        "train_x = selected_train['train']\r\n",
        "train_y =selected_train['score']\r\n",
        "test_x = retest_data['content'].astype(str)\r\n",
        "test_y = y_score\r\n",
        "\r\n",
        "print(len(train_x), len(train_y), len(test_x), len(test_y))\r\n",
        "print(type(train_x), type(train_y), type(test_x), type(test_y))"
      ],
      "outputs": [
        {
          "output_type": "stream",
          "name": "stdout",
          "text": [
            "32324 32324 300 300\n",
            "<class 'pandas.core.series.Series'> <class 'pandas.core.series.Series'> <class 'pandas.core.series.Series'> <class 'list'>\n"
          ]
        }
      ],
      "metadata": {
        "colab": {
          "base_uri": "https://localhost:8080/"
        },
        "id": "KaX_kvFYVknu",
        "outputId": "5631b73e-a4e1-4053-d56a-5c431a0435a8"
      }
    },
    {
      "cell_type": "markdown",
      "source": [
        "## 04. 토큰화 및 벡터화"
      ],
      "metadata": {
        "id": "VdaLz3Lkhj6k"
      }
    },
    {
      "cell_type": "markdown",
      "source": [
        "### - x_토큰화"
      ],
      "metadata": {
        "id": "STWcHjjlhj6l"
      }
    },
    {
      "cell_type": "code",
      "execution_count": 29,
      "source": [
        "stopwords = ['의', '가', '이', '은', '들', '는', '좀', '잘', '걍', '과', '도', '를', '으로', '자', '에', '와', '한', '하다']"
      ],
      "outputs": [],
      "metadata": {
        "id": "JX9Pwp46hj6m"
      }
    },
    {
      "cell_type": "code",
      "execution_count": 30,
      "source": [
        "import konlpy \r\n",
        "from konlpy.tag import Okt \r\n",
        "okt = Okt() \r\n",
        "X_train = [] \r\n",
        "for sentence in train_x:\r\n",
        "    temp_X = [] \r\n",
        "    temp_X = okt.morphs(sentence, stem=True) # 토큰화 \r\n",
        "    temp_X = [word for word in temp_X if not word in stopwords] # 불용어 제거 \r\n",
        "    X_train.append(temp_X) \r\n",
        "    \r\n",
        "X_test = [] \r\n",
        "for sentence in test_x:\r\n",
        "    temp_X = [] \r\n",
        "    temp_X = okt.morphs(sentence, stem=True) # 토큰화 \r\n",
        "    temp_X = [word for word in temp_X if not word in stopwords] # 불용어 제거 \r\n",
        "    X_test.append(temp_X)\r\n"
      ],
      "outputs": [],
      "metadata": {
        "id": "lVAoWA6Qhj6n"
      }
    },
    {
      "cell_type": "markdown",
      "source": [
        "### - x_정수 인코딩"
      ],
      "metadata": {
        "id": "f6Lz1UQqhj6p"
      }
    },
    {
      "cell_type": "code",
      "execution_count": 31,
      "source": [
        "# 정수 인코딩\r\n",
        "from keras.preprocessing.text import Tokenizer \r\n",
        "max_words = 35000 \r\n",
        "tokenizer = Tokenizer(num_words = max_words) \r\n",
        "tokenizer.fit_on_texts(X_train) \r\n",
        "X_train = tokenizer.texts_to_sequences(X_train) \r\n",
        "X_test = tokenizer.texts_to_sequences(X_test)"
      ],
      "outputs": [],
      "metadata": {
        "id": "QpwA_ZXrhj6p"
      }
    },
    {
      "cell_type": "code",
      "execution_count": 32,
      "source": [
        "# x 길이 확인\r\n",
        "print(\"train 최대 길이 : \", max(len(l) for l in X_train)) \r\n",
        "print(\"train 평균 길이 : \", sum(map(len, X_train))/ len(X_train)) \r\n",
        "\r\n",
        "plt.xlim([0, 100]) \r\n",
        "plt.hist([len(s) for s in X_train], bins=50) \r\n",
        "plt.xlabel('length of Data') \r\n",
        "plt.ylabel('number of Data') \r\n",
        "plt.show()"
      ],
      "outputs": [
        {
          "output_type": "stream",
          "name": "stdout",
          "text": [
            "train 최대 길이 :  375\n",
            "train 평균 길이 :  15.015994307635193\n"
          ]
        },
        {
          "output_type": "display_data",
          "data": {
            "image/png": "[encoded data removed]",
            "text/plain": [
              "<Figure size 432x288 with 1 Axes>"
            ]
          },
          "metadata": {
            "needs_background": "light"
          }
        }
      ],
      "metadata": {
        "colab": {
          "base_uri": "https://localhost:8080/",
          "height": 0
        },
        "id": "27Prhgzihj6q",
        "outputId": "cecd129a-9969-4bef-8285-821606418a86"
      }
    },
    {
      "cell_type": "markdown",
      "source": [
        "### - y 원핫인코딩"
      ],
      "metadata": {
        "id": "R6ZcrCgQZcuT"
      }
    },
    {
      "cell_type": "code",
      "execution_count": 33,
      "source": [
        "# one- hot  encoding\r\n",
        "import numpy as np \r\n",
        "y_train = [] \r\n",
        "y_test = [] \r\n",
        "\r\n",
        "for i in range(len(train_y)):\r\n",
        "    if train_y.iloc[i] == 1: \r\n",
        "        y_train.append([0, 0, 1]) \r\n",
        "    elif train_y.iloc[i] == 0: \r\n",
        "        y_train.append([0, 1, 0]) \r\n",
        "    elif train_y.iloc[i] == -1: \r\n",
        "        y_train.append([1, 0, 0]) \r\n",
        "\r\n",
        "for i in range(len(test_y)): \r\n",
        "    if test_y[i] == 1: \r\n",
        "        y_test.append([0, 0, 1]) \r\n",
        "    elif test_y[i] == 0: \r\n",
        "        y_test.append([0, 1, 0]) \r\n",
        "    elif test_y[i] == -1: \r\n",
        "        y_test.append([1, 0, 0]) \r\n",
        "        \r\n",
        "y_train = np.array(y_train) \r\n",
        "y_test = np.array(y_test)"
      ],
      "outputs": [],
      "metadata": {
        "id": "UinAenKxhj6r"
      }
    },
    {
      "cell_type": "code",
      "execution_count": 34,
      "source": [
        "# y 길이확인\r\n",
        "print(\"test 최대 길이 : \", max(len(l) for l in X_test)) \r\n",
        "print(\"test 평균 길이 : \", sum(map(len, X_test))/ len(X_test)) \r\n",
        "\r\n",
        "plt.xlim([0, 100]) \r\n",
        "plt.hist([len(s) for s in X_test], bins=50) \r\n",
        "plt.xlabel('length of Data') \r\n",
        "plt.ylabel('number of Data') \r\n",
        "plt.show()"
      ],
      "outputs": [
        {
          "output_type": "stream",
          "name": "stdout",
          "text": [
            "test 최대 길이 :  78\n",
            "test 평균 길이 :  12.15\n"
          ]
        },
        {
          "output_type": "display_data",
          "data": {
            "image/png": "[encoded data removed]",
            "text/plain": [
              "<Figure size 432x288 with 1 Axes>"
            ]
          },
          "metadata": {
            "needs_background": "light"
          }
        }
      ],
      "metadata": {
        "colab": {
          "base_uri": "https://localhost:8080/",
          "height": 0
        },
        "id": "OZD6XUWNhj6r",
        "outputId": "71188152-fae0-4309-919f-64f795acaefb"
      }
    },
    {
      "cell_type": "markdown",
      "source": [
        "## 05. 모델 생성 / 학습 / 평가"
      ],
      "metadata": {
        "id": "YAx_pCmKhj6s"
      }
    },
    {
      "cell_type": "code",
      "execution_count": 35,
      "source": [
        "from keras.layers import Embedding, Dense, LSTM, Conv1D \r\n",
        "from keras.models import Sequential \r\n",
        "from keras.preprocessing.sequence import pad_sequences\r\n",
        "max_len = 20 # 전체 데이터의 길이를 20로 맞춘다 \r\n",
        " \r\n",
        "X_train = pad_sequences(X_train, maxlen=max_len) \r\n",
        "X_test = pad_sequences(X_test, maxlen=max_len)"
      ],
      "outputs": [],
      "metadata": {
        "id": "L5QsKCTChj6s"
      }
    },
    {
      "cell_type": "code",
      "execution_count": null,
      "source": [
        "model1 = Sequential() \r\n",
        "model1.add(Embedding(max_words, 100)) \r\n",
        "model1.add(LSTM(128)) \r\n",
        "model1.add(Dense(3, activation='softmax')) \r\n",
        "\r\n",
        "model1.compile(optimizer='rmsprop', loss='categorical_crossentropy', metrics=['accuracy'])  #optimizer: rmsprop\r\n",
        "history = model1.fit(X_train, y_train, epochs=30, batch_size=10, validation_split=0.1)"
      ],
      "outputs": [
        {
          "output_type": "stream",
          "name": "stdout",
          "text": [
            "Epoch 1/30\n",
            "1256/1256 [==============================] - 21s 11ms/step - loss: 0.7670 - accuracy: 0.6620 - val_loss: 0.8473 - val_accuracy: 0.6337\n",
            "Epoch 2/30\n",
            "1256/1256 [==============================] - 13s 10ms/step - loss: 0.5587 - accuracy: 0.7729 - val_loss: 0.7958 - val_accuracy: 0.6602\n",
            "Epoch 3/30\n",
            "1256/1256 [==============================] - 13s 10ms/step - loss: 0.4813 - accuracy: 0.8068 - val_loss: 0.9345 - val_accuracy: 0.6265\n",
            "Epoch 4/30\n",
            "1256/1256 [==============================] - 13s 10ms/step - loss: 0.4194 - accuracy: 0.8348 - val_loss: 0.8786 - val_accuracy: 0.6961\n",
            "Epoch 5/30\n",
            "1256/1256 [==============================] - 13s 10ms/step - loss: 0.3621 - accuracy: 0.8604 - val_loss: 0.6698 - val_accuracy: 0.7333\n",
            "Epoch 6/30\n",
            "1256/1256 [==============================] - 12s 10ms/step - loss: 0.3095 - accuracy: 0.8827 - val_loss: 1.0135 - val_accuracy: 0.6595\n",
            "Epoch 7/30\n",
            "1256/1256 [==============================] - 13s 10ms/step - loss: 0.2579 - accuracy: 0.9048 - val_loss: 0.8832 - val_accuracy: 0.7011\n",
            "Epoch 8/30\n",
            "1256/1256 [==============================] - 12s 10ms/step - loss: 0.2166 - accuracy: 0.9211 - val_loss: 1.1827 - val_accuracy: 0.6301\n",
            "Epoch 9/30\n",
            "1256/1256 [==============================] - 13s 10ms/step - loss: 0.1805 - accuracy: 0.9365 - val_loss: 1.0539 - val_accuracy: 0.6796\n",
            "Epoch 10/30\n",
            "1256/1256 [==============================] - 13s 10ms/step - loss: 0.1457 - accuracy: 0.9498 - val_loss: 1.0650 - val_accuracy: 0.7068\n",
            "Epoch 11/30\n",
            "1256/1256 [==============================] - 12s 10ms/step - loss: 0.1154 - accuracy: 0.9618 - val_loss: 0.9700 - val_accuracy: 0.7226\n",
            "Epoch 12/30\n",
            "1256/1256 [==============================] - 13s 10ms/step - loss: 0.0909 - accuracy: 0.9704 - val_loss: 1.6431 - val_accuracy: 0.6509\n",
            "Epoch 13/30\n",
            "1256/1256 [==============================] - 13s 10ms/step - loss: 0.0707 - accuracy: 0.9766 - val_loss: 1.3099 - val_accuracy: 0.7133\n",
            "Epoch 14/30\n",
            "1256/1256 [==============================] - 13s 10ms/step - loss: 0.0504 - accuracy: 0.9835 - val_loss: 2.0552 - val_accuracy: 0.6459\n",
            "Epoch 15/30\n",
            "1256/1256 [==============================] - 13s 10ms/step - loss: 0.0386 - accuracy: 0.9877 - val_loss: 2.0222 - val_accuracy: 0.6616\n",
            "Epoch 16/30\n",
            "1256/1256 [==============================] - 13s 10ms/step - loss: 0.0270 - accuracy: 0.9910 - val_loss: 1.9814 - val_accuracy: 0.6609\n",
            "Epoch 17/30\n",
            "1256/1256 [==============================] - 13s 10ms/step - loss: 0.0205 - accuracy: 0.9940 - val_loss: 2.8386 - val_accuracy: 0.6179\n",
            "Epoch 18/30\n",
            "1256/1256 [==============================] - 13s 10ms/step - loss: 0.0152 - accuracy: 0.9958 - val_loss: 2.6528 - val_accuracy: 0.6466\n",
            "Epoch 19/30\n",
            "1256/1256 [==============================] - 13s 10ms/step - loss: 0.0125 - accuracy: 0.9965 - val_loss: 2.8542 - val_accuracy: 0.6495\n",
            "Epoch 20/30\n",
            "1256/1256 [==============================] - 13s 10ms/step - loss: 0.0088 - accuracy: 0.9978 - val_loss: 2.8075 - val_accuracy: 0.6875\n",
            "Epoch 21/30\n",
            "1256/1256 [==============================] - 13s 10ms/step - loss: 0.0075 - accuracy: 0.9978 - val_loss: 3.7484 - val_accuracy: 0.6165\n",
            "Epoch 22/30\n",
            "1256/1256 [==============================] - 13s 10ms/step - loss: 0.0069 - accuracy: 0.9987 - val_loss: 3.4888 - val_accuracy: 0.6573\n",
            "Epoch 23/30\n",
            "1256/1256 [==============================] - 12s 10ms/step - loss: 0.0050 - accuracy: 0.9988 - val_loss: 3.5206 - val_accuracy: 0.6581\n",
            "Epoch 24/30\n",
            "1256/1256 [==============================] - 13s 10ms/step - loss: 0.0041 - accuracy: 0.9994 - val_loss: 3.6504 - val_accuracy: 0.6624\n",
            "Epoch 25/30\n",
            "1256/1256 [==============================] - 13s 10ms/step - loss: 0.0037 - accuracy: 0.9992 - val_loss: 3.9403 - val_accuracy: 0.6437\n",
            "Epoch 26/30\n",
            "1256/1256 [==============================] - 13s 10ms/step - loss: 0.0038 - accuracy: 0.9992 - val_loss: 4.2057 - val_accuracy: 0.6437\n",
            "Epoch 27/30\n",
            "1256/1256 [==============================] - 12s 10ms/step - loss: 0.0039 - accuracy: 0.9994 - val_loss: 4.3825 - val_accuracy: 0.6315\n",
            "Epoch 28/30\n",
            "1256/1256 [==============================] - 13s 10ms/step - loss: 0.0047 - accuracy: 0.9994 - val_loss: 5.1224 - val_accuracy: 0.6086\n",
            "Epoch 29/30\n",
            "1256/1256 [==============================] - 13s 10ms/step - loss: 0.0037 - accuracy: 0.9993 - val_loss: 4.3846 - val_accuracy: 0.6308\n",
            "Epoch 30/30\n",
            "1256/1256 [==============================] - 13s 10ms/step - loss: 0.0036 - accuracy: 0.9995 - val_loss: 5.1069 - val_accuracy: 0.6229\n"
          ]
        }
      ],
      "metadata": {
        "colab": {
          "base_uri": "https://localhost:8080/"
        },
        "id": "X6-bTLurhj6t",
        "outputId": "56a044c7-ce25-4228-a755-8f722e1dc242"
      }
    },
    {
      "cell_type": "code",
      "execution_count": null,
      "source": [
        "print('model1 전체정확도 : {:.2f}%'.format(model1.evaluate(X_test, y_test)[1]*100 ))"
      ],
      "outputs": [
        {
          "output_type": "stream",
          "name": "stdout",
          "text": [
            "10/10 [==============================] - 0s 4ms/step - loss: 5.0769 - accuracy: 0.6300\n",
            "model1 전체정확도 : 63.00%\n"
          ]
        }
      ],
      "metadata": {
        "colab": {
          "base_uri": "https://localhost:8080/"
        },
        "id": "zzXP3GQihj6u",
        "outputId": "9260367e-e988-4739-bd5c-d32781441678"
      }
    },
    {
      "cell_type": "code",
      "execution_count": null,
      "source": [
        "model2 = Sequential() \r\n",
        "model2.add(Embedding(max_words, 100)) \r\n",
        "model2.add(LSTM(128)) \r\n",
        "model2.add(Dense(3, activation='softmax')) \r\n",
        "\r\n",
        "model2.compile(optimizer='adam', loss='categorical_crossentropy', metrics=['accuracy']) \r\n",
        "history = model2.fit(X_train, y_train, epochs=10, batch_size=10, validation_split=0.1)"
      ],
      "outputs": [
        {
          "output_type": "stream",
          "name": "stdout",
          "text": [
            "Epoch 1/10\n",
            "1256/1256 [==============================] - 19s 12ms/step - loss: 0.7198 - accuracy: 0.6885 - val_loss: 0.9693 - val_accuracy: 0.5663\n",
            "Epoch 2/10\n",
            "1256/1256 [==============================] - 14s 11ms/step - loss: 0.4388 - accuracy: 0.8303 - val_loss: 0.7576 - val_accuracy: 0.6953\n",
            "Epoch 3/10\n",
            "1256/1256 [==============================] - 14s 11ms/step - loss: 0.2923 - accuracy: 0.8910 - val_loss: 0.9288 - val_accuracy: 0.6774\n",
            "Epoch 4/10\n",
            "1256/1256 [==============================] - 14s 11ms/step - loss: 0.1922 - accuracy: 0.9301 - val_loss: 1.0430 - val_accuracy: 0.6789\n",
            "Epoch 5/10\n",
            "1256/1256 [==============================] - 14s 11ms/step - loss: 0.1308 - accuracy: 0.9532 - val_loss: 1.1091 - val_accuracy: 0.7018\n",
            "Epoch 6/10\n",
            "1256/1256 [==============================] - 14s 11ms/step - loss: 0.0870 - accuracy: 0.9690 - val_loss: 1.2430 - val_accuracy: 0.7075\n",
            "Epoch 7/10\n",
            "1256/1256 [==============================] - 14s 11ms/step - loss: 0.0615 - accuracy: 0.9792 - val_loss: 1.4073 - val_accuracy: 0.7183\n",
            "Epoch 8/10\n",
            "1256/1256 [==============================] - 14s 11ms/step - loss: 0.0504 - accuracy: 0.9825 - val_loss: 1.8709 - val_accuracy: 0.6416\n",
            "Epoch 9/10\n",
            "1256/1256 [==============================] - 14s 11ms/step - loss: 0.0330 - accuracy: 0.9889 - val_loss: 2.4487 - val_accuracy: 0.5921\n",
            "Epoch 10/10\n",
            "1256/1256 [==============================] - 14s 11ms/step - loss: 0.0254 - accuracy: 0.9913 - val_loss: 2.0867 - val_accuracy: 0.6882\n"
          ]
        }
      ],
      "metadata": {
        "colab": {
          "base_uri": "https://localhost:8080/"
        },
        "id": "dSfmmHcYhj6u",
        "outputId": "b1e2631e-bbf0-4637-ecc6-0a6850675316"
      }
    },
    {
      "cell_type": "code",
      "execution_count": null,
      "source": [
        "print('model2 전체 정확도 : {:.2f}%'.format(model2.evaluate(X_test, y_test)[1]*100 ))"
      ],
      "outputs": [
        {
          "output_type": "stream",
          "name": "stdout",
          "text": [
            "10/10 [==============================] - 0s 4ms/step - loss: 2.3218 - accuracy: 0.5933\n",
            "model2 전체 정확도 : 59.33%\n"
          ]
        }
      ],
      "metadata": {
        "colab": {
          "base_uri": "https://localhost:8080/"
        },
        "id": "Ihpp1EOIhj6u",
        "outputId": "1cdc77a5-ed57-4b07-adab-79cb85032980"
      }
    },
    {
      "cell_type": "code",
      "execution_count": 36,
      "source": [
        "# model3\r\n",
        "import keras\r\n",
        "model3 = Sequential() \r\n",
        "model3.add(Embedding(max_words, 100)) \r\n",
        "model3.add(Conv1D(filters=128, kernel_size=3,\r\n",
        "                      strides=1, padding=\"causal\",\r\n",
        "                      activation=\"relu\",\r\n",
        "                      input_shape=[None, 1]) )\r\n",
        "model3.add(LSTM(128)) \r\n",
        "model3.add(Dense(3, activation='softmax')) \r\n",
        "\r\n",
        "\r\n",
        "lr_schedule = keras.callbacks.LearningRateScheduler(\r\n",
        "    lambda epoch: 1e-8 * 10**(epoch / 20))\r\n",
        "\r\n",
        "model3.compile(optimizer='rmsprop', loss='categorical_crossentropy', metrics=['accuracy'])  #optimizer: rmsprop\r\n",
        "history3 = model3.fit(X_train, y_train, epochs=30, batch_size=10, validation_split=0.1)\r\n"
      ],
      "outputs": [
        {
          "output_type": "stream",
          "name": "stdout",
          "text": [
            "Epoch 1/30\n",
            "2910/2910 [==============================] - 69s 12ms/step - loss: 0.6383 - accuracy: 0.7386 - val_loss: 0.4625 - val_accuracy: 0.8212\n",
            "Epoch 2/30\n",
            "2910/2910 [==============================] - 35s 12ms/step - loss: 0.4879 - accuracy: 0.8079 - val_loss: 0.4429 - val_accuracy: 0.8290\n",
            "Epoch 3/30\n",
            "2910/2910 [==============================] - 35s 12ms/step - loss: 0.4082 - accuracy: 0.8446 - val_loss: 0.4482 - val_accuracy: 0.8215\n",
            "Epoch 4/30\n",
            "2910/2910 [==============================] - 35s 12ms/step - loss: 0.3535 - accuracy: 0.8693 - val_loss: 0.4790 - val_accuracy: 0.8249\n",
            "Epoch 5/30\n",
            "2910/2910 [==============================] - 35s 12ms/step - loss: 0.3186 - accuracy: 0.8845 - val_loss: 0.4907 - val_accuracy: 0.8231\n",
            "Epoch 6/30\n",
            "2910/2910 [==============================] - 35s 12ms/step - loss: 0.2858 - accuracy: 0.8991 - val_loss: 0.5271 - val_accuracy: 0.8061\n",
            "Epoch 7/30\n",
            "2910/2910 [==============================] - 35s 12ms/step - loss: 0.2596 - accuracy: 0.9077 - val_loss: 0.5343 - val_accuracy: 0.8203\n",
            "Epoch 8/30\n",
            "2910/2910 [==============================] - 35s 12ms/step - loss: 0.2314 - accuracy: 0.9184 - val_loss: 0.5388 - val_accuracy: 0.8045\n",
            "Epoch 9/30\n",
            "2910/2910 [==============================] - 35s 12ms/step - loss: 0.2083 - accuracy: 0.9291 - val_loss: 0.5470 - val_accuracy: 0.8129\n",
            "Epoch 10/30\n",
            "2910/2910 [==============================] - 36s 12ms/step - loss: 0.1843 - accuracy: 0.9372 - val_loss: 0.6140 - val_accuracy: 0.8132\n",
            "Epoch 11/30\n",
            "2910/2910 [==============================] - 35s 12ms/step - loss: 0.1589 - accuracy: 0.9465 - val_loss: 0.6689 - val_accuracy: 0.8116\n",
            "Epoch 12/30\n",
            "2910/2910 [==============================] - 35s 12ms/step - loss: 0.1389 - accuracy: 0.9542 - val_loss: 0.7091 - val_accuracy: 0.8126\n",
            "Epoch 13/30\n",
            "2910/2910 [==============================] - 35s 12ms/step - loss: 0.1174 - accuracy: 0.9611 - val_loss: 0.7958 - val_accuracy: 0.8119\n",
            "Epoch 14/30\n",
            "2910/2910 [==============================] - 35s 12ms/step - loss: 0.1008 - accuracy: 0.9667 - val_loss: 0.7687 - val_accuracy: 0.8095\n",
            "Epoch 15/30\n",
            "2910/2910 [==============================] - 35s 12ms/step - loss: 0.0840 - accuracy: 0.9726 - val_loss: 0.8548 - val_accuracy: 0.8138\n",
            "Epoch 16/30\n",
            "2910/2910 [==============================] - 35s 12ms/step - loss: 0.0697 - accuracy: 0.9771 - val_loss: 0.9867 - val_accuracy: 0.8058\n",
            "Epoch 17/30\n",
            "2910/2910 [==============================] - 35s 12ms/step - loss: 0.0583 - accuracy: 0.9824 - val_loss: 0.9719 - val_accuracy: 0.8215\n",
            "Epoch 18/30\n",
            "2910/2910 [==============================] - 35s 12ms/step - loss: 0.0454 - accuracy: 0.9859 - val_loss: 1.2667 - val_accuracy: 0.8042\n",
            "Epoch 19/30\n",
            "2910/2910 [==============================] - 35s 12ms/step - loss: 0.0377 - accuracy: 0.9881 - val_loss: 1.2349 - val_accuracy: 0.8064\n",
            "Epoch 20/30\n",
            "2910/2910 [==============================] - 35s 12ms/step - loss: 0.0319 - accuracy: 0.9901 - val_loss: 1.3147 - val_accuracy: 0.8064\n",
            "Epoch 21/30\n",
            "2910/2910 [==============================] - 35s 12ms/step - loss: 0.0260 - accuracy: 0.9921 - val_loss: 1.5530 - val_accuracy: 0.8030\n",
            "Epoch 22/30\n",
            "2910/2910 [==============================] - 35s 12ms/step - loss: 0.0242 - accuracy: 0.9933 - val_loss: 1.6605 - val_accuracy: 0.7891\n",
            "Epoch 23/30\n",
            "2910/2910 [==============================] - 35s 12ms/step - loss: 0.0198 - accuracy: 0.9946 - val_loss: 1.6765 - val_accuracy: 0.7897\n",
            "Epoch 24/30\n",
            "2910/2910 [==============================] - 35s 12ms/step - loss: 0.0164 - accuracy: 0.9956 - val_loss: 1.7839 - val_accuracy: 0.8008\n",
            "Epoch 25/30\n",
            "2910/2910 [==============================] - 35s 12ms/step - loss: 0.0153 - accuracy: 0.9958 - val_loss: 1.7645 - val_accuracy: 0.7906\n",
            "Epoch 26/30\n",
            "2910/2910 [==============================] - 35s 12ms/step - loss: 0.0164 - accuracy: 0.9962 - val_loss: 1.9276 - val_accuracy: 0.7931\n",
            "Epoch 27/30\n",
            "2910/2910 [==============================] - 35s 12ms/step - loss: 0.0120 - accuracy: 0.9969 - val_loss: 2.1012 - val_accuracy: 0.7925\n",
            "Epoch 28/30\n",
            "2910/2910 [==============================] - 35s 12ms/step - loss: 0.0102 - accuracy: 0.9975 - val_loss: 2.1416 - val_accuracy: 0.8098\n",
            "Epoch 29/30\n",
            "2910/2910 [==============================] - 35s 12ms/step - loss: 0.0093 - accuracy: 0.9979 - val_loss: 2.3165 - val_accuracy: 0.7838\n",
            "Epoch 30/30\n",
            "2910/2910 [==============================] - 35s 12ms/step - loss: 0.0117 - accuracy: 0.9969 - val_loss: 2.2794 - val_accuracy: 0.7847\n"
          ]
        }
      ],
      "metadata": {
        "colab": {
          "base_uri": "https://localhost:8080/"
        },
        "id": "ZcQK8YwiaVgt",
        "outputId": "62b1ccd4-bd45-4d34-876c-85dffd834171"
      }
    },
    {
      "cell_type": "code",
      "execution_count": 39,
      "source": [
        "print('model3 전체 정확도 : {:.2f}%'.format(model3.evaluate(X_test, y_test)[1]*100 ))"
      ],
      "outputs": [
        {
          "output_type": "stream",
          "name": "stdout",
          "text": [
            "10/10 [==============================] - 0s 7ms/step - loss: 4.1756 - accuracy: 0.6533\n",
            "model3 전체 정확도 : 65.33%\n"
          ]
        }
      ],
      "metadata": {
        "colab": {
          "base_uri": "https://localhost:8080/"
        },
        "id": "b3PnQ4vgxihF",
        "outputId": "d6aa07af-2fe3-4572-9d29-3a51d14ce283"
      }
    },
    {
      "cell_type": "code",
      "execution_count": null,
      "source": [
        "# model4\r\n",
        "import keras\r\n",
        "#import tensorflow as tf\r\n",
        "lrelu= lambda x: keras.activations.relu(x, alpha=0.1)\r\n",
        "\r\n",
        "max_words =1200\r\n",
        "model4 = Sequential() \r\n",
        "model4.add(Embedding(max_words, 100)) \r\n",
        "model4.add(Conv1D(filters=128, kernel_size=5,\r\n",
        "                      strides=1, padding=\"causal\",\r\n",
        "                      activation=lrelu\r\n",
        "                   #   input_shape=[None, 1]\r\n",
        "                  ) )\r\n",
        "model4.add(LSTM(128)) \r\n",
        "model4.add(Dense(3, activation='softmax')) \r\n",
        "\r\n",
        "\r\n",
        "#lr_schedule = keras.callbacks.LearningRateScheduler(\r\n",
        "#    lambda epoch: 1e-8 * 10**(epoch / 20))\r\n",
        "\r\n",
        "model4.compile(optimizer='rmsprop', loss='categorical_crossentropy', metrics=['accuracy'])  #optimizer: rmsprop\r\n",
        "history4 = model4.fit(X_train, y_train, epochs=30, batch_size=10, validation_split=0.1)"
      ],
      "outputs": [
        {
          "output_type": "stream",
          "name": "stdout",
          "text": [
            "Epoch 1/30\n",
            "1256/1256 [==============================] - 19s 12ms/step - loss: 0.7689 - accuracy: 0.6632 - val_loss: 0.8250 - val_accuracy: 0.6530\n",
            "Epoch 2/30\n",
            "1256/1256 [==============================] - 14s 11ms/step - loss: 0.6208 - accuracy: 0.7450 - val_loss: 0.8200 - val_accuracy: 0.6559\n",
            "Epoch 3/30\n",
            "1256/1256 [==============================] - 14s 11ms/step - loss: 0.5617 - accuracy: 0.7668 - val_loss: 0.7436 - val_accuracy: 0.6688\n",
            "Epoch 4/30\n",
            "1256/1256 [==============================] - 14s 11ms/step - loss: 0.5146 - accuracy: 0.7912 - val_loss: 0.6752 - val_accuracy: 0.7190\n",
            "Epoch 5/30\n",
            "1256/1256 [==============================] - 14s 11ms/step - loss: 0.4658 - accuracy: 0.8100 - val_loss: 1.1424 - val_accuracy: 0.5627\n",
            "Epoch 6/30\n",
            "1256/1256 [==============================] - 14s 11ms/step - loss: 0.4182 - accuracy: 0.8358 - val_loss: 0.8665 - val_accuracy: 0.6452\n",
            "Epoch 7/30\n",
            "1256/1256 [==============================] - 14s 11ms/step - loss: 0.3653 - accuracy: 0.8560 - val_loss: 1.1696 - val_accuracy: 0.5857\n",
            "Epoch 8/30\n",
            "1256/1256 [==============================] - 14s 11ms/step - loss: 0.3114 - accuracy: 0.8802 - val_loss: 1.1834 - val_accuracy: 0.6222\n",
            "Epoch 9/30\n",
            "1256/1256 [==============================] - 14s 11ms/step - loss: 0.2606 - accuracy: 0.9018 - val_loss: 1.4866 - val_accuracy: 0.5950\n",
            "Epoch 10/30\n",
            "1256/1256 [==============================] - 14s 11ms/step - loss: 0.2112 - accuracy: 0.9207 - val_loss: 1.4432 - val_accuracy: 0.6208\n",
            "Epoch 11/30\n",
            "1256/1256 [==============================] - 14s 11ms/step - loss: 0.1624 - accuracy: 0.9426 - val_loss: 1.8771 - val_accuracy: 0.5849\n",
            "Epoch 12/30\n",
            "1256/1256 [==============================] - 14s 11ms/step - loss: 0.1237 - accuracy: 0.9550 - val_loss: 1.8170 - val_accuracy: 0.6093\n",
            "Epoch 13/30\n",
            "1256/1256 [==============================] - 14s 11ms/step - loss: 0.0932 - accuracy: 0.9675 - val_loss: 2.1152 - val_accuracy: 0.6050\n",
            "Epoch 14/30\n",
            "1256/1256 [==============================] - 14s 11ms/step - loss: 0.0676 - accuracy: 0.9762 - val_loss: 1.9312 - val_accuracy: 0.6609\n",
            "Epoch 15/30\n",
            "1256/1256 [==============================] - 14s 11ms/step - loss: 0.0522 - accuracy: 0.9814 - val_loss: 2.4212 - val_accuracy: 0.6229\n",
            "Epoch 16/30\n",
            "1256/1256 [==============================] - 14s 11ms/step - loss: 0.0403 - accuracy: 0.9841 - val_loss: 2.6083 - val_accuracy: 0.6229\n",
            "Epoch 17/30\n",
            "1256/1256 [==============================] - 14s 11ms/step - loss: 0.0347 - accuracy: 0.9877 - val_loss: 2.9158 - val_accuracy: 0.6215\n",
            "Epoch 18/30\n",
            "1256/1256 [==============================] - 14s 11ms/step - loss: 0.0279 - accuracy: 0.9899 - val_loss: 2.9940 - val_accuracy: 0.6208\n",
            "Epoch 19/30\n",
            "1256/1256 [==============================] - 14s 11ms/step - loss: 0.0262 - accuracy: 0.9906 - val_loss: 3.3648 - val_accuracy: 0.6122\n",
            "Epoch 20/30\n",
            "1256/1256 [==============================] - 14s 11ms/step - loss: 0.0246 - accuracy: 0.9905 - val_loss: 3.6684 - val_accuracy: 0.6172\n",
            "Epoch 21/30\n",
            "1256/1256 [==============================] - 14s 11ms/step - loss: 0.0237 - accuracy: 0.9913 - val_loss: 3.5441 - val_accuracy: 0.6158\n",
            "Epoch 22/30\n",
            "1256/1256 [==============================] - 14s 11ms/step - loss: 0.0195 - accuracy: 0.9927 - val_loss: 3.9018 - val_accuracy: 0.6244\n",
            "Epoch 23/30\n",
            "1256/1256 [==============================] - 14s 11ms/step - loss: 0.0220 - accuracy: 0.9923 - val_loss: 3.9522 - val_accuracy: 0.5957\n",
            "Epoch 24/30\n",
            "1256/1256 [==============================] - 14s 11ms/step - loss: 0.0191 - accuracy: 0.9929 - val_loss: 4.1811 - val_accuracy: 0.5892\n",
            "Epoch 25/30\n",
            "1256/1256 [==============================] - 14s 11ms/step - loss: 0.0191 - accuracy: 0.9939 - val_loss: 4.0847 - val_accuracy: 0.6229\n",
            "Epoch 26/30\n",
            "1256/1256 [==============================] - 14s 11ms/step - loss: 0.0196 - accuracy: 0.9933 - val_loss: 3.7007 - val_accuracy: 0.6366\n",
            "Epoch 27/30\n",
            "1256/1256 [==============================] - 14s 11ms/step - loss: 0.0186 - accuracy: 0.9935 - val_loss: 4.4644 - val_accuracy: 0.6029\n",
            "Epoch 28/30\n",
            "1256/1256 [==============================] - 14s 11ms/step - loss: 0.0181 - accuracy: 0.9935 - val_loss: 4.1283 - val_accuracy: 0.6186\n",
            "Epoch 29/30\n",
            "1256/1256 [==============================] - 14s 11ms/step - loss: 0.0195 - accuracy: 0.9932 - val_loss: 4.0891 - val_accuracy: 0.6158\n",
            "Epoch 30/30\n",
            "1256/1256 [==============================] - 14s 11ms/step - loss: 0.0180 - accuracy: 0.9932 - val_loss: 4.2314 - val_accuracy: 0.6194\n"
          ]
        }
      ],
      "metadata": {
        "colab": {
          "base_uri": "https://localhost:8080/"
        },
        "id": "Qogg5lvoy8Cm",
        "outputId": "3f855c34-16cd-41a9-fc6c-ec81de1fce72"
      }
    },
    {
      "cell_type": "code",
      "execution_count": null,
      "source": [
        "print('model4 전체 정확도 : {:.2f}%'.format(model4.evaluate(X_test, y_test)[1]*100 ))"
      ],
      "outputs": [
        {
          "output_type": "stream",
          "name": "stdout",
          "text": [
            "10/10 [==============================] - 0s 6ms/step - loss: 4.1886 - accuracy: 0.6200\n",
            "model4 전체 정확도 : 62.00%\n"
          ]
        }
      ],
      "metadata": {
        "colab": {
          "base_uri": "https://localhost:8080/"
        },
        "id": "aOHmzDHk4SKb",
        "outputId": "5c46a22c-2afe-4c32-b0ff-30b26ebb22a1"
      }
    },
    {
      "cell_type": "code",
      "execution_count": 37,
      "source": [
        "# model5\r\n",
        "import keras\r\n",
        "# import tensorflow as tf\r\n",
        "# lrelu= lambda x: keras.activations.relu(x, alpha=0.1)\r\n",
        "\r\n",
        "max_words =1200\r\n",
        "model5 = Sequential() \r\n",
        "model5.add(Embedding(max_words, 100)) \r\n",
        "model5.add(Conv1D(filters=128, kernel_size=5,\r\n",
        "                      strides=1, padding=\"causal\",\r\n",
        "                      activation= 'relu', #lrelu\r\n",
        "                      input_shape=[None, 1] \r\n",
        "                  ) )\r\n",
        "model5.add(LSTM(128)) \r\n",
        "model5.add(Dense(3, activation='softmax')) \r\n",
        "\r\n",
        "model5.compile(optimizer='adam', loss='categorical_crossentropy', metrics=['accuracy'])  #optimizer: rmsprop\r\n",
        "history5 = model5.fit(X_train, y_train, epochs=30, batch_size=10, validation_split=0.1)"
      ],
      "outputs": [
        {
          "output_type": "stream",
          "name": "stdout",
          "text": [
            "Epoch 1/30\n",
            "2910/2910 [==============================] - 37s 11ms/step - loss: 0.6487 - accuracy: 0.7321 - val_loss: 0.4923 - val_accuracy: 0.8008\n",
            "Epoch 2/30\n",
            "2910/2910 [==============================] - 32s 11ms/step - loss: 0.5347 - accuracy: 0.7827 - val_loss: 0.4720 - val_accuracy: 0.8101\n",
            "Epoch 3/30\n",
            "2910/2910 [==============================] - 32s 11ms/step - loss: 0.4732 - accuracy: 0.8081 - val_loss: 0.4892 - val_accuracy: 0.8067\n",
            "Epoch 4/30\n",
            "2910/2910 [==============================] - 32s 11ms/step - loss: 0.4036 - accuracy: 0.8381 - val_loss: 0.5347 - val_accuracy: 0.8126\n",
            "Epoch 5/30\n",
            "2910/2910 [==============================] - 32s 11ms/step - loss: 0.3353 - accuracy: 0.8668 - val_loss: 0.5842 - val_accuracy: 0.7915\n",
            "Epoch 6/30\n",
            "2910/2910 [==============================] - 32s 11ms/step - loss: 0.2694 - accuracy: 0.8948 - val_loss: 0.6620 - val_accuracy: 0.7952\n",
            "Epoch 7/30\n",
            "2910/2910 [==============================] - 32s 11ms/step - loss: 0.2005 - accuracy: 0.9234 - val_loss: 0.7778 - val_accuracy: 0.7838\n",
            "Epoch 8/30\n",
            "2910/2910 [==============================] - 32s 11ms/step - loss: 0.1524 - accuracy: 0.9431 - val_loss: 0.9039 - val_accuracy: 0.7838\n",
            "Epoch 9/30\n",
            "2910/2910 [==============================] - 32s 11ms/step - loss: 0.1150 - accuracy: 0.9582 - val_loss: 1.0660 - val_accuracy: 0.7776\n",
            "Epoch 10/30\n",
            "2910/2910 [==============================] - 32s 11ms/step - loss: 0.0868 - accuracy: 0.9683 - val_loss: 1.1444 - val_accuracy: 0.7955\n",
            "Epoch 11/30\n",
            "2910/2910 [==============================] - 32s 11ms/step - loss: 0.0805 - accuracy: 0.9703 - val_loss: 1.2143 - val_accuracy: 0.7875\n",
            "Epoch 12/30\n",
            "2910/2910 [==============================] - 32s 11ms/step - loss: 0.0657 - accuracy: 0.9756 - val_loss: 1.2449 - val_accuracy: 0.7822\n",
            "Epoch 13/30\n",
            "2910/2910 [==============================] - 32s 11ms/step - loss: 0.0613 - accuracy: 0.9779 - val_loss: 1.3108 - val_accuracy: 0.7826\n",
            "Epoch 14/30\n",
            "2910/2910 [==============================] - 32s 11ms/step - loss: 0.0586 - accuracy: 0.9784 - val_loss: 1.3377 - val_accuracy: 0.7819\n",
            "Epoch 15/30\n",
            "2910/2910 [==============================] - 32s 11ms/step - loss: 0.0524 - accuracy: 0.9813 - val_loss: 1.4501 - val_accuracy: 0.7773\n",
            "Epoch 16/30\n",
            "2910/2910 [==============================] - 32s 11ms/step - loss: 0.0481 - accuracy: 0.9826 - val_loss: 1.4249 - val_accuracy: 0.7739\n",
            "Epoch 17/30\n",
            "2910/2910 [==============================] - 32s 11ms/step - loss: 0.0494 - accuracy: 0.9826 - val_loss: 1.5031 - val_accuracy: 0.7847\n",
            "Epoch 18/30\n",
            "2910/2910 [==============================] - 32s 11ms/step - loss: 0.0419 - accuracy: 0.9849 - val_loss: 1.5094 - val_accuracy: 0.7872\n",
            "Epoch 19/30\n",
            "2910/2910 [==============================] - 33s 11ms/step - loss: 0.0457 - accuracy: 0.9833 - val_loss: 1.5931 - val_accuracy: 0.7850\n",
            "Epoch 20/30\n",
            "2910/2910 [==============================] - 33s 11ms/step - loss: 0.0399 - accuracy: 0.9847 - val_loss: 1.6305 - val_accuracy: 0.7717\n",
            "Epoch 21/30\n",
            "2910/2910 [==============================] - 33s 11ms/step - loss: 0.0424 - accuracy: 0.9838 - val_loss: 1.6405 - val_accuracy: 0.7810\n",
            "Epoch 22/30\n",
            "2910/2910 [==============================] - 32s 11ms/step - loss: 0.0392 - accuracy: 0.9854 - val_loss: 1.6845 - val_accuracy: 0.7782\n",
            "Epoch 23/30\n",
            "2910/2910 [==============================] - 32s 11ms/step - loss: 0.0362 - accuracy: 0.9863 - val_loss: 1.6502 - val_accuracy: 0.7776\n",
            "Epoch 24/30\n",
            "2910/2910 [==============================] - 32s 11ms/step - loss: 0.0373 - accuracy: 0.9859 - val_loss: 1.6603 - val_accuracy: 0.7819\n",
            "Epoch 25/30\n",
            "2910/2910 [==============================] - 32s 11ms/step - loss: 0.0351 - accuracy: 0.9870 - val_loss: 1.7353 - val_accuracy: 0.7844\n",
            "Epoch 26/30\n",
            "2910/2910 [==============================] - 32s 11ms/step - loss: 0.0380 - accuracy: 0.9859 - val_loss: 1.6631 - val_accuracy: 0.7807\n",
            "Epoch 27/30\n",
            "2910/2910 [==============================] - 33s 11ms/step - loss: 0.0326 - accuracy: 0.9877 - val_loss: 1.7395 - val_accuracy: 0.7739\n",
            "Epoch 28/30\n",
            "2910/2910 [==============================] - 32s 11ms/step - loss: 0.0323 - accuracy: 0.9877 - val_loss: 1.7929 - val_accuracy: 0.7829\n",
            "Epoch 29/30\n",
            "2910/2910 [==============================] - 32s 11ms/step - loss: 0.0325 - accuracy: 0.9884 - val_loss: 1.7513 - val_accuracy: 0.7838\n",
            "Epoch 30/30\n",
            "2910/2910 [==============================] - 32s 11ms/step - loss: 0.0325 - accuracy: 0.9885 - val_loss: 1.7501 - val_accuracy: 0.7829\n"
          ]
        }
      ],
      "metadata": {
        "colab": {
          "base_uri": "https://localhost:8080/"
        },
        "id": "622XGkAX3KER",
        "outputId": "ae358fb2-89c8-437d-fde9-add2fcb7cb2e"
      }
    },
    {
      "cell_type": "code",
      "execution_count": 38,
      "source": [
        "print('model5 전체 정확도 : {:.2f}%'.format(model5.evaluate(X_test, y_test)[1]*100 ))"
      ],
      "outputs": [
        {
          "output_type": "stream",
          "name": "stdout",
          "text": [
            "10/10 [==============================] - 0s 7ms/step - loss: 3.0157 - accuracy: 0.6733\n",
            "model5 전체 정확도 : 67.33%\n"
          ]
        }
      ],
      "metadata": {
        "colab": {
          "base_uri": "https://localhost:8080/"
        },
        "id": "dMP-iJXc5kBK",
        "outputId": "512d94f5-9923-4df3-d540-194b5e6d0352"
      }
    },
    {
      "cell_type": "code",
      "execution_count": 40,
      "source": [
        "# model5_2\r\n",
        "import keras\r\n",
        "# import tensorflow as tf\r\n",
        "# lrelu= lambda x: keras.activations.relu(x, alpha=0.1)\r\n",
        "\r\n",
        "max_words =1200\r\n",
        "model5_2 = Sequential() \r\n",
        "model5_2.add(Embedding(max_words, 100)) \r\n",
        "model5_2.add(Conv1D(filters=128, kernel_size=5,\r\n",
        "                      strides=1, padding=\"causal\",\r\n",
        "                      activation= 'relu', #lrelu\r\n",
        "                      input_shape=[None, 1] \r\n",
        "                  ) )\r\n",
        "model5_2.add(LSTM(128)) \r\n",
        "model5_2.add(Dense(10, activation='relu'))\r\n",
        "model5_2.add(Dense(10, activation='relu'))\r\n",
        "model5_2.add(Dense(3, activation='softmax')) \r\n",
        "\r\n",
        "model5_2.compile(optimizer='adam', loss='categorical_crossentropy', metrics=['accuracy'])  #optimizer: rmsprop\r\n",
        "history5_2 = model5_2.fit(X_train, y_train, epochs=30, batch_size=10, validation_split=0.1)\r\n",
        "\r\n",
        "print('model5_2 전체 정확도 : {:.2f}%'.format(model5_2.evaluate(X_test, y_test)[1]*100 ))"
      ],
      "outputs": [
        {
          "output_type": "stream",
          "name": "stdout",
          "text": [
            "Epoch 1/30\n",
            "2910/2910 [==============================] - 38s 12ms/step - loss: 0.6839 - accuracy: 0.7182 - val_loss: 0.4903 - val_accuracy: 0.8048\n",
            "Epoch 2/30\n",
            "2910/2910 [==============================] - 33s 11ms/step - loss: 0.5492 - accuracy: 0.7789 - val_loss: 0.4831 - val_accuracy: 0.8045\n",
            "Epoch 3/30\n",
            "2910/2910 [==============================] - 33s 11ms/step - loss: 0.4911 - accuracy: 0.8021 - val_loss: 0.4880 - val_accuracy: 0.8135\n",
            "Epoch 4/30\n",
            "2910/2910 [==============================] - 33s 11ms/step - loss: 0.4361 - accuracy: 0.8250 - val_loss: 0.5154 - val_accuracy: 0.7980\n",
            "Epoch 5/30\n",
            "2910/2910 [==============================] - 33s 11ms/step - loss: 0.3831 - accuracy: 0.8468 - val_loss: 0.5219 - val_accuracy: 0.7980\n",
            "Epoch 6/30\n",
            "2910/2910 [==============================] - 33s 11ms/step - loss: 0.3266 - accuracy: 0.8723 - val_loss: 0.5819 - val_accuracy: 0.7906\n",
            "Epoch 7/30\n",
            "2910/2910 [==============================] - 33s 11ms/step - loss: 0.2734 - accuracy: 0.8937 - val_loss: 0.6154 - val_accuracy: 0.7894\n",
            "Epoch 8/30\n",
            "2910/2910 [==============================] - 33s 11ms/step - loss: 0.2219 - accuracy: 0.9169 - val_loss: 0.7693 - val_accuracy: 0.7906\n",
            "Epoch 9/30\n",
            "2910/2910 [==============================] - 33s 11ms/step - loss: 0.1748 - accuracy: 0.9333 - val_loss: 0.8433 - val_accuracy: 0.7894\n",
            "Epoch 10/30\n",
            "2910/2910 [==============================] - 33s 11ms/step - loss: 0.1417 - accuracy: 0.9471 - val_loss: 0.9424 - val_accuracy: 0.7829\n",
            "Epoch 11/30\n",
            "2910/2910 [==============================] - 33s 11ms/step - loss: 0.1172 - accuracy: 0.9573 - val_loss: 1.0372 - val_accuracy: 0.7838\n",
            "Epoch 12/30\n",
            "2910/2910 [==============================] - 33s 11ms/step - loss: 0.1009 - accuracy: 0.9635 - val_loss: 1.0941 - val_accuracy: 0.7801\n",
            "Epoch 13/30\n",
            "2910/2910 [==============================] - 33s 11ms/step - loss: 0.0852 - accuracy: 0.9688 - val_loss: 1.1529 - val_accuracy: 0.7813\n",
            "Epoch 14/30\n",
            "2910/2910 [==============================] - 33s 11ms/step - loss: 0.0771 - accuracy: 0.9723 - val_loss: 1.1425 - val_accuracy: 0.7866\n",
            "Epoch 15/30\n",
            "2910/2910 [==============================] - 33s 11ms/step - loss: 0.0752 - accuracy: 0.9721 - val_loss: 1.1556 - val_accuracy: 0.7634\n",
            "Epoch 16/30\n",
            "2910/2910 [==============================] - 33s 11ms/step - loss: 0.0633 - accuracy: 0.9766 - val_loss: 1.2133 - val_accuracy: 0.7739\n",
            "Epoch 17/30\n",
            "2910/2910 [==============================] - 33s 11ms/step - loss: 0.0615 - accuracy: 0.9783 - val_loss: 1.3155 - val_accuracy: 0.7847\n",
            "Epoch 18/30\n",
            "2910/2910 [==============================] - 33s 11ms/step - loss: 0.0590 - accuracy: 0.9781 - val_loss: 1.2124 - val_accuracy: 0.7767\n",
            "Epoch 19/30\n",
            "2910/2910 [==============================] - 33s 11ms/step - loss: 0.0548 - accuracy: 0.9801 - val_loss: 1.3053 - val_accuracy: 0.7708\n",
            "Epoch 20/30\n",
            "2910/2910 [==============================] - 34s 12ms/step - loss: 0.0527 - accuracy: 0.9819 - val_loss: 1.2750 - val_accuracy: 0.7813\n",
            "Epoch 21/30\n",
            "2910/2910 [==============================] - 34s 12ms/step - loss: 0.0528 - accuracy: 0.9805 - val_loss: 1.2950 - val_accuracy: 0.7822\n",
            "Epoch 22/30\n",
            "2910/2910 [==============================] - 33s 11ms/step - loss: 0.0443 - accuracy: 0.9838 - val_loss: 1.3825 - val_accuracy: 0.7788\n",
            "Epoch 23/30\n",
            "2910/2910 [==============================] - 33s 11ms/step - loss: 0.0471 - accuracy: 0.9833 - val_loss: 1.3644 - val_accuracy: 0.7826\n",
            "Epoch 24/30\n",
            "2910/2910 [==============================] - 33s 11ms/step - loss: 0.0458 - accuracy: 0.9828 - val_loss: 1.3655 - val_accuracy: 0.7804\n",
            "Epoch 25/30\n",
            "2910/2910 [==============================] - 33s 11ms/step - loss: 0.0437 - accuracy: 0.9835 - val_loss: 1.3547 - val_accuracy: 0.7748\n",
            "Epoch 26/30\n",
            "2910/2910 [==============================] - 33s 11ms/step - loss: 0.0425 - accuracy: 0.9853 - val_loss: 1.2959 - val_accuracy: 0.7829\n",
            "Epoch 27/30\n",
            "2910/2910 [==============================] - 33s 11ms/step - loss: 0.0408 - accuracy: 0.9845 - val_loss: 1.4061 - val_accuracy: 0.7844\n",
            "Epoch 28/30\n",
            "2910/2910 [==============================] - 33s 11ms/step - loss: 0.0365 - accuracy: 0.9866 - val_loss: 1.5315 - val_accuracy: 0.7832\n",
            "Epoch 29/30\n",
            "2910/2910 [==============================] - 33s 11ms/step - loss: 0.0411 - accuracy: 0.9848 - val_loss: 1.4362 - val_accuracy: 0.7795\n",
            "Epoch 30/30\n",
            "2910/2910 [==============================] - 33s 11ms/step - loss: 0.0401 - accuracy: 0.9858 - val_loss: 1.4744 - val_accuracy: 0.7798\n",
            "10/10 [==============================] - 0s 5ms/step - loss: 2.2658 - accuracy: 0.7200\n",
            "model5_2 전체 정확도 : 72.00%\n"
          ]
        }
      ],
      "metadata": {
        "colab": {
          "base_uri": "https://localhost:8080/"
        },
        "id": "vfIt-WMGCw1n",
        "outputId": "5ec252c6-1bb5-400d-debf-36bf5d4ce67c"
      }
    },
    {
      "cell_type": "code",
      "execution_count": 41,
      "source": [
        "# model5_3\r\n",
        "import keras\r\n",
        "# import tensorflow as tf\r\n",
        "# lrelu= lambda x: keras.activations.relu(x, alpha=0.1)\r\n",
        "\r\n",
        "max_words =1200\r\n",
        "model5_3 = Sequential() \r\n",
        "model5_3.add(Embedding(max_words, 100)) \r\n",
        "model5_3.add(Conv1D(filters=128, kernel_size=5,\r\n",
        "                      strides=1, padding=\"causal\",\r\n",
        "                      activation= 'relu', #lrelu\r\n",
        "                      input_shape=[None, 1] \r\n",
        "                  ) )\r\n",
        "model5_3.add(LSTM(128)) \r\n",
        "model5_3.add(Dense(10, activation='relu'))\r\n",
        "model5_3.add(Dense(10, activation='relu'))\r\n",
        "\r\n",
        "model5_3.add(Dense(3, activation='softmax')) \r\n",
        "\r\n",
        "model5_3.compile(optimizer='adam', loss='categorical_crossentropy', metrics=['accuracy'])  #optimizer: rmsprop\r\n",
        "history5_3 = model5_3.fit(X_train, y_train, epochs=50, batch_size=20, validation_split=0.1)\r\n",
        "\r\n",
        "print('model5_3 전체 정확도 : {:.2f}%'.format(model5_3.evaluate(X_test, y_test)[1]*100 ))"
      ],
      "outputs": [
        {
          "output_type": "stream",
          "name": "stdout",
          "text": [
            "Epoch 1/50\n",
            "1455/1455 [==============================] - 22s 13ms/step - loss: 0.7150 - accuracy: 0.7008 - val_loss: 0.4948 - val_accuracy: 0.8104\n",
            "Epoch 2/50\n",
            "1455/1455 [==============================] - 17s 12ms/step - loss: 0.5640 - accuracy: 0.7755 - val_loss: 0.4995 - val_accuracy: 0.8005\n",
            "Epoch 3/50\n",
            "1455/1455 [==============================] - 17s 12ms/step - loss: 0.5096 - accuracy: 0.7956 - val_loss: 0.4870 - val_accuracy: 0.8113\n",
            "Epoch 4/50\n",
            "1455/1455 [==============================] - 17s 12ms/step - loss: 0.4613 - accuracy: 0.8143 - val_loss: 0.4818 - val_accuracy: 0.8104\n",
            "Epoch 5/50\n",
            "1455/1455 [==============================] - 17s 12ms/step - loss: 0.4152 - accuracy: 0.8326 - val_loss: 0.5086 - val_accuracy: 0.8113\n",
            "Epoch 6/50\n",
            "1455/1455 [==============================] - 17s 12ms/step - loss: 0.3697 - accuracy: 0.8523 - val_loss: 0.5176 - val_accuracy: 0.7989\n",
            "Epoch 7/50\n",
            "1455/1455 [==============================] - 17s 12ms/step - loss: 0.3215 - accuracy: 0.8739 - val_loss: 0.5944 - val_accuracy: 0.7847\n",
            "Epoch 8/50\n",
            "1455/1455 [==============================] - 17s 12ms/step - loss: 0.2835 - accuracy: 0.8915 - val_loss: 0.6169 - val_accuracy: 0.7955\n",
            "Epoch 9/50\n",
            "1455/1455 [==============================] - 17s 12ms/step - loss: 0.2367 - accuracy: 0.9115 - val_loss: 0.6828 - val_accuracy: 0.7940\n",
            "Epoch 10/50\n",
            "1455/1455 [==============================] - 17s 12ms/step - loss: 0.1983 - accuracy: 0.9255 - val_loss: 0.7904 - val_accuracy: 0.7853\n",
            "Epoch 11/50\n",
            "1455/1455 [==============================] - 17s 12ms/step - loss: 0.1683 - accuracy: 0.9369 - val_loss: 0.8662 - val_accuracy: 0.7807\n",
            "Epoch 12/50\n",
            "1455/1455 [==============================] - 17s 12ms/step - loss: 0.1417 - accuracy: 0.9481 - val_loss: 0.9755 - val_accuracy: 0.7878\n",
            "Epoch 13/50\n",
            "1455/1455 [==============================] - 17s 12ms/step - loss: 0.1179 - accuracy: 0.9571 - val_loss: 0.9875 - val_accuracy: 0.7745\n",
            "Epoch 14/50\n",
            "1455/1455 [==============================] - 17s 12ms/step - loss: 0.1009 - accuracy: 0.9635 - val_loss: 1.1302 - val_accuracy: 0.7723\n",
            "Epoch 15/50\n",
            "1455/1455 [==============================] - 17s 12ms/step - loss: 0.0910 - accuracy: 0.9671 - val_loss: 1.1071 - val_accuracy: 0.7832\n",
            "Epoch 16/50\n",
            "1455/1455 [==============================] - 17s 12ms/step - loss: 0.0761 - accuracy: 0.9723 - val_loss: 1.2687 - val_accuracy: 0.7853\n",
            "Epoch 17/50\n",
            "1455/1455 [==============================] - 17s 12ms/step - loss: 0.0737 - accuracy: 0.9732 - val_loss: 1.2513 - val_accuracy: 0.7816\n",
            "Epoch 18/50\n",
            "1455/1455 [==============================] - 18s 12ms/step - loss: 0.0643 - accuracy: 0.9766 - val_loss: 1.2953 - val_accuracy: 0.7792\n",
            "Epoch 19/50\n",
            "1455/1455 [==============================] - 18s 12ms/step - loss: 0.0566 - accuracy: 0.9795 - val_loss: 1.3732 - val_accuracy: 0.7816\n",
            "Epoch 20/50\n",
            "1455/1455 [==============================] - 17s 12ms/step - loss: 0.0563 - accuracy: 0.9801 - val_loss: 1.3851 - val_accuracy: 0.7785\n",
            "Epoch 21/50\n",
            "1455/1455 [==============================] - 17s 12ms/step - loss: 0.0553 - accuracy: 0.9806 - val_loss: 1.4213 - val_accuracy: 0.7727\n",
            "Epoch 22/50\n",
            "1455/1455 [==============================] - 17s 12ms/step - loss: 0.0484 - accuracy: 0.9824 - val_loss: 1.5515 - val_accuracy: 0.7798\n",
            "Epoch 23/50\n",
            "1455/1455 [==============================] - 17s 12ms/step - loss: 0.0458 - accuracy: 0.9840 - val_loss: 1.5396 - val_accuracy: 0.7727\n",
            "Epoch 24/50\n",
            "1455/1455 [==============================] - 18s 12ms/step - loss: 0.0484 - accuracy: 0.9833 - val_loss: 1.5337 - val_accuracy: 0.7693\n",
            "Epoch 25/50\n",
            "1455/1455 [==============================] - 18s 12ms/step - loss: 0.0417 - accuracy: 0.9848 - val_loss: 1.5926 - val_accuracy: 0.7813\n",
            "Epoch 26/50\n",
            "1455/1455 [==============================] - 17s 12ms/step - loss: 0.0402 - accuracy: 0.9854 - val_loss: 1.5281 - val_accuracy: 0.7745\n",
            "Epoch 27/50\n",
            "1455/1455 [==============================] - 17s 12ms/step - loss: 0.0404 - accuracy: 0.9852 - val_loss: 1.5022 - val_accuracy: 0.7742\n",
            "Epoch 28/50\n",
            "1455/1455 [==============================] - 18s 12ms/step - loss: 0.0392 - accuracy: 0.9862 - val_loss: 1.5131 - val_accuracy: 0.7705\n",
            "Epoch 29/50\n",
            "1455/1455 [==============================] - 18s 12ms/step - loss: 0.0380 - accuracy: 0.9862 - val_loss: 1.5152 - val_accuracy: 0.7822\n",
            "Epoch 30/50\n",
            "1455/1455 [==============================] - 17s 12ms/step - loss: 0.0368 - accuracy: 0.9867 - val_loss: 1.5126 - val_accuracy: 0.7773\n",
            "Epoch 31/50\n",
            "1455/1455 [==============================] - 17s 12ms/step - loss: 0.0372 - accuracy: 0.9863 - val_loss: 1.5636 - val_accuracy: 0.7730\n",
            "Epoch 32/50\n",
            "1455/1455 [==============================] - 17s 12ms/step - loss: 0.0354 - accuracy: 0.9871 - val_loss: 1.5353 - val_accuracy: 0.7798\n",
            "Epoch 33/50\n",
            "1455/1455 [==============================] - 17s 12ms/step - loss: 0.0360 - accuracy: 0.9865 - val_loss: 1.6085 - val_accuracy: 0.7708\n",
            "Epoch 34/50\n",
            "1455/1455 [==============================] - 17s 12ms/step - loss: 0.0297 - accuracy: 0.9895 - val_loss: 1.7165 - val_accuracy: 0.7764\n",
            "Epoch 35/50\n",
            "1455/1455 [==============================] - 17s 12ms/step - loss: 0.0285 - accuracy: 0.9894 - val_loss: 1.7389 - val_accuracy: 0.7776\n",
            "Epoch 36/50\n",
            "1455/1455 [==============================] - 17s 12ms/step - loss: 0.0321 - accuracy: 0.9881 - val_loss: 1.6538 - val_accuracy: 0.7785\n",
            "Epoch 37/50\n",
            "1455/1455 [==============================] - 17s 12ms/step - loss: 0.0291 - accuracy: 0.9896 - val_loss: 1.8033 - val_accuracy: 0.7723\n",
            "Epoch 38/50\n",
            "1455/1455 [==============================] - 18s 12ms/step - loss: 0.0293 - accuracy: 0.9887 - val_loss: 1.7424 - val_accuracy: 0.7655\n",
            "Epoch 39/50\n",
            "1455/1455 [==============================] - 17s 12ms/step - loss: 0.0314 - accuracy: 0.9885 - val_loss: 1.7581 - val_accuracy: 0.7702\n",
            "Epoch 40/50\n",
            "1455/1455 [==============================] - 17s 12ms/step - loss: 0.0283 - accuracy: 0.9891 - val_loss: 1.7682 - val_accuracy: 0.7770\n",
            "Epoch 41/50\n",
            "1455/1455 [==============================] - 17s 12ms/step - loss: 0.0321 - accuracy: 0.9876 - val_loss: 1.6417 - val_accuracy: 0.7767\n",
            "Epoch 42/50\n",
            "1455/1455 [==============================] - 17s 12ms/step - loss: 0.0305 - accuracy: 0.9888 - val_loss: 1.7494 - val_accuracy: 0.7739\n",
            "Epoch 43/50\n",
            "1455/1455 [==============================] - 18s 12ms/step - loss: 0.0270 - accuracy: 0.9900 - val_loss: 1.7263 - val_accuracy: 0.7730\n",
            "Epoch 44/50\n",
            "1455/1455 [==============================] - 17s 12ms/step - loss: 0.0249 - accuracy: 0.9903 - val_loss: 1.7698 - val_accuracy: 0.7689\n",
            "Epoch 45/50\n",
            "1455/1455 [==============================] - 18s 12ms/step - loss: 0.0270 - accuracy: 0.9900 - val_loss: 1.7807 - val_accuracy: 0.7767\n",
            "Epoch 46/50\n",
            "1455/1455 [==============================] - 17s 12ms/step - loss: 0.0290 - accuracy: 0.9887 - val_loss: 1.7210 - val_accuracy: 0.7705\n",
            "Epoch 47/50\n",
            "1455/1455 [==============================] - 17s 12ms/step - loss: 0.0245 - accuracy: 0.9907 - val_loss: 1.7599 - val_accuracy: 0.7711\n",
            "Epoch 48/50\n",
            "1455/1455 [==============================] - 17s 12ms/step - loss: 0.0256 - accuracy: 0.9902 - val_loss: 1.7968 - val_accuracy: 0.7655\n",
            "Epoch 49/50\n",
            "1455/1455 [==============================] - 18s 12ms/step - loss: 0.0278 - accuracy: 0.9897 - val_loss: 1.7732 - val_accuracy: 0.7742\n",
            "Epoch 50/50\n",
            "1455/1455 [==============================] - 17s 12ms/step - loss: 0.0241 - accuracy: 0.9904 - val_loss: 1.9025 - val_accuracy: 0.7736\n",
            "10/10 [==============================] - 0s 5ms/step - loss: 2.8347 - accuracy: 0.6767\n",
            "model5_3 전체 정확도 : 67.67%\n"
          ]
        }
      ],
      "metadata": {
        "colab": {
          "base_uri": "https://localhost:8080/"
        },
        "id": "6utCbefvPepU",
        "outputId": "7f825397-e6e3-4546-ee89-188a3ffcaf24"
      }
    },
    {
      "cell_type": "code",
      "execution_count": 42,
      "source": [
        "# model5_3\r\n",
        "import keras\r\n",
        "# import tensorflow as tf\r\n",
        "# lrelu= lambda x: keras.activations.relu(x, alpha=0.1)\r\n",
        "\r\n",
        "max_words =1200\r\n",
        "model5_3 = Sequential() \r\n",
        "model5_3.add(Embedding(max_words, 100)) \r\n",
        "model5_3.add(Conv1D(filters=128, kernel_size=5,\r\n",
        "                      strides=1, padding=\"causal\",\r\n",
        "                      activation= 'relu', #lrelu\r\n",
        "                      input_shape=[None, 1] \r\n",
        "                  ) )\r\n",
        "model5_3.add(LSTM(128)) \r\n",
        "model5_3.add(Dense(10, activation='relu'))\r\n",
        "model5_3.add(Dense(10, activation='relu'))\r\n",
        "\r\n",
        "model5_3.add(Dense(3, activation='softmax')) \r\n",
        "\r\n",
        "model5_3.compile(optimizer='adam', loss='categorical_crossentropy', metrics=['accuracy'])  #optimizer: rmsprop\r\n",
        "history5_3 = model5_3.fit(X_train, y_train, epochs=50, batch_size=20, validation_split=0.1)\r\n",
        "\r\n",
        "print('model5_3 전체 정확도 : {:.2f}%'.format(model5_3.evaluate(X_test, y_test)[1]*100 ))"
      ],
      "outputs": [
        {
          "output_type": "stream",
          "name": "stdout",
          "text": [
            "Epoch 1/50\n",
            "1455/1455 [==============================] - 21s 12ms/step - loss: 0.7189 - accuracy: 0.6958 - val_loss: 0.5135 - val_accuracy: 0.7940\n",
            "Epoch 2/50\n",
            "1455/1455 [==============================] - 17s 12ms/step - loss: 0.5600 - accuracy: 0.7773 - val_loss: 0.4828 - val_accuracy: 0.8101\n",
            "Epoch 3/50\n",
            "1455/1455 [==============================] - 17s 12ms/step - loss: 0.5044 - accuracy: 0.7958 - val_loss: 0.4739 - val_accuracy: 0.8045\n",
            "Epoch 4/50\n",
            "1455/1455 [==============================] - 17s 12ms/step - loss: 0.4527 - accuracy: 0.8192 - val_loss: 0.4834 - val_accuracy: 0.8076\n",
            "Epoch 5/50\n",
            "1455/1455 [==============================] - 17s 11ms/step - loss: 0.4004 - accuracy: 0.8396 - val_loss: 0.5219 - val_accuracy: 0.7993\n",
            "Epoch 6/50\n",
            "1455/1455 [==============================] - 17s 12ms/step - loss: 0.3503 - accuracy: 0.8617 - val_loss: 0.5544 - val_accuracy: 0.7968\n",
            "Epoch 7/50\n",
            "1455/1455 [==============================] - 17s 12ms/step - loss: 0.2922 - accuracy: 0.8885 - val_loss: 0.6330 - val_accuracy: 0.7875\n",
            "Epoch 8/50\n",
            "1455/1455 [==============================] - 17s 12ms/step - loss: 0.2422 - accuracy: 0.9079 - val_loss: 0.6981 - val_accuracy: 0.7881\n",
            "Epoch 9/50\n",
            "1455/1455 [==============================] - 17s 12ms/step - loss: 0.1945 - accuracy: 0.9269 - val_loss: 0.7674 - val_accuracy: 0.7816\n",
            "Epoch 10/50\n",
            "1455/1455 [==============================] - 17s 12ms/step - loss: 0.1518 - accuracy: 0.9440 - val_loss: 0.9209 - val_accuracy: 0.7844\n",
            "Epoch 11/50\n",
            "1455/1455 [==============================] - 18s 12ms/step - loss: 0.1270 - accuracy: 0.9546 - val_loss: 1.0256 - val_accuracy: 0.7826\n",
            "Epoch 12/50\n",
            "1455/1455 [==============================] - 17s 12ms/step - loss: 0.1003 - accuracy: 0.9621 - val_loss: 1.1140 - val_accuracy: 0.7782\n",
            "Epoch 13/50\n",
            "1455/1455 [==============================] - 17s 12ms/step - loss: 0.0897 - accuracy: 0.9668 - val_loss: 1.1237 - val_accuracy: 0.7779\n",
            "Epoch 14/50\n",
            "1455/1455 [==============================] - 17s 12ms/step - loss: 0.0758 - accuracy: 0.9722 - val_loss: 1.2942 - val_accuracy: 0.7918\n",
            "Epoch 15/50\n",
            "1455/1455 [==============================] - 18s 12ms/step - loss: 0.0676 - accuracy: 0.9754 - val_loss: 1.3661 - val_accuracy: 0.7826\n",
            "Epoch 16/50\n",
            "1455/1455 [==============================] - 17s 12ms/step - loss: 0.0640 - accuracy: 0.9770 - val_loss: 1.3612 - val_accuracy: 0.7816\n",
            "Epoch 17/50\n",
            "1455/1455 [==============================] - 17s 12ms/step - loss: 0.0586 - accuracy: 0.9778 - val_loss: 1.4499 - val_accuracy: 0.7872\n",
            "Epoch 18/50\n",
            "1455/1455 [==============================] - 17s 12ms/step - loss: 0.0524 - accuracy: 0.9809 - val_loss: 1.4009 - val_accuracy: 0.7770\n",
            "Epoch 19/50\n",
            "1455/1455 [==============================] - 17s 12ms/step - loss: 0.0474 - accuracy: 0.9831 - val_loss: 1.4445 - val_accuracy: 0.7813\n",
            "Epoch 20/50\n",
            "1455/1455 [==============================] - 17s 12ms/step - loss: 0.0504 - accuracy: 0.9815 - val_loss: 1.4574 - val_accuracy: 0.7767\n",
            "Epoch 21/50\n",
            "1455/1455 [==============================] - 17s 12ms/step - loss: 0.0399 - accuracy: 0.9857 - val_loss: 1.5836 - val_accuracy: 0.7835\n",
            "Epoch 22/50\n",
            "1455/1455 [==============================] - 17s 12ms/step - loss: 0.0417 - accuracy: 0.9846 - val_loss: 1.6195 - val_accuracy: 0.7912\n",
            "Epoch 23/50\n",
            "1455/1455 [==============================] - 17s 12ms/step - loss: 0.0425 - accuracy: 0.9846 - val_loss: 1.5511 - val_accuracy: 0.7801\n",
            "Epoch 24/50\n",
            "1455/1455 [==============================] - 17s 12ms/step - loss: 0.0405 - accuracy: 0.9862 - val_loss: 1.6040 - val_accuracy: 0.7887\n",
            "Epoch 25/50\n",
            "1455/1455 [==============================] - 17s 12ms/step - loss: 0.0368 - accuracy: 0.9869 - val_loss: 1.6408 - val_accuracy: 0.7804\n",
            "Epoch 26/50\n",
            "1455/1455 [==============================] - 17s 12ms/step - loss: 0.0369 - accuracy: 0.9864 - val_loss: 1.6506 - val_accuracy: 0.7891\n",
            "Epoch 27/50\n",
            "1455/1455 [==============================] - 17s 12ms/step - loss: 0.0368 - accuracy: 0.9864 - val_loss: 1.6759 - val_accuracy: 0.7788\n",
            "Epoch 28/50\n",
            "1455/1455 [==============================] - 17s 12ms/step - loss: 0.0311 - accuracy: 0.9886 - val_loss: 1.7836 - val_accuracy: 0.7853\n",
            "Epoch 29/50\n",
            "1455/1455 [==============================] - 17s 12ms/step - loss: 0.0339 - accuracy: 0.9881 - val_loss: 1.7760 - val_accuracy: 0.7822\n",
            "Epoch 30/50\n",
            "1455/1455 [==============================] - 18s 12ms/step - loss: 0.0340 - accuracy: 0.9876 - val_loss: 1.6959 - val_accuracy: 0.7928\n",
            "Epoch 31/50\n",
            "1455/1455 [==============================] - 17s 12ms/step - loss: 0.0324 - accuracy: 0.9883 - val_loss: 1.6866 - val_accuracy: 0.7832\n",
            "Epoch 32/50\n",
            "1455/1455 [==============================] - 18s 12ms/step - loss: 0.0303 - accuracy: 0.9887 - val_loss: 1.6998 - val_accuracy: 0.7884\n",
            "Epoch 33/50\n",
            "1455/1455 [==============================] - 17s 12ms/step - loss: 0.0321 - accuracy: 0.9893 - val_loss: 1.6180 - val_accuracy: 0.7897\n",
            "Epoch 34/50\n",
            "1455/1455 [==============================] - 17s 12ms/step - loss: 0.0317 - accuracy: 0.9888 - val_loss: 1.5752 - val_accuracy: 0.7863\n",
            "Epoch 35/50\n",
            "1455/1455 [==============================] - 17s 12ms/step - loss: 0.0270 - accuracy: 0.9900 - val_loss: 1.7785 - val_accuracy: 0.7810\n",
            "Epoch 36/50\n",
            "1455/1455 [==============================] - 17s 12ms/step - loss: 0.0275 - accuracy: 0.9900 - val_loss: 1.7472 - val_accuracy: 0.7847\n",
            "Epoch 37/50\n",
            "1455/1455 [==============================] - 17s 12ms/step - loss: 0.0260 - accuracy: 0.9902 - val_loss: 1.8310 - val_accuracy: 0.7785\n",
            "Epoch 38/50\n",
            "1455/1455 [==============================] - 17s 12ms/step - loss: 0.0314 - accuracy: 0.9879 - val_loss: 1.7653 - val_accuracy: 0.7822\n",
            "Epoch 39/50\n",
            "1455/1455 [==============================] - 17s 12ms/step - loss: 0.0244 - accuracy: 0.9909 - val_loss: 1.8154 - val_accuracy: 0.7816\n",
            "Epoch 40/50\n",
            "1455/1455 [==============================] - 17s 12ms/step - loss: 0.0286 - accuracy: 0.9894 - val_loss: 1.7024 - val_accuracy: 0.7792\n",
            "Epoch 41/50\n",
            "1455/1455 [==============================] - 17s 12ms/step - loss: 0.0243 - accuracy: 0.9909 - val_loss: 1.7830 - val_accuracy: 0.7829\n",
            "Epoch 42/50\n",
            "1455/1455 [==============================] - 17s 12ms/step - loss: 0.0260 - accuracy: 0.9906 - val_loss: 1.7810 - val_accuracy: 0.7779\n",
            "Epoch 43/50\n",
            "1455/1455 [==============================] - 18s 12ms/step - loss: 0.0278 - accuracy: 0.9895 - val_loss: 1.6407 - val_accuracy: 0.7754\n",
            "Epoch 44/50\n",
            "1455/1455 [==============================] - 18s 12ms/step - loss: 0.0229 - accuracy: 0.9916 - val_loss: 1.7427 - val_accuracy: 0.7856\n",
            "Epoch 45/50\n",
            "1455/1455 [==============================] - 17s 12ms/step - loss: 0.0219 - accuracy: 0.9920 - val_loss: 1.8376 - val_accuracy: 0.7785\n",
            "Epoch 46/50\n",
            "1455/1455 [==============================] - 17s 12ms/step - loss: 0.0257 - accuracy: 0.9903 - val_loss: 1.8249 - val_accuracy: 0.7798\n",
            "Epoch 47/50\n",
            "1455/1455 [==============================] - 17s 12ms/step - loss: 0.0240 - accuracy: 0.9912 - val_loss: 1.8461 - val_accuracy: 0.7742\n",
            "Epoch 48/50\n",
            "1455/1455 [==============================] - 17s 12ms/step - loss: 0.0246 - accuracy: 0.9909 - val_loss: 1.6996 - val_accuracy: 0.7829\n",
            "Epoch 49/50\n",
            "1455/1455 [==============================] - 17s 12ms/step - loss: 0.0224 - accuracy: 0.9914 - val_loss: 1.9410 - val_accuracy: 0.7767\n",
            "Epoch 50/50\n",
            "1455/1455 [==============================] - 17s 12ms/step - loss: 0.0252 - accuracy: 0.9906 - val_loss: 1.8228 - val_accuracy: 0.7894\n",
            "10/10 [==============================] - 0s 5ms/step - loss: 2.9628 - accuracy: 0.7000\n",
            "model5_3 전체 정확도 : 70.00%\n"
          ]
        }
      ],
      "metadata": {
        "id": "cLPFJInhWTeP",
        "colab": {
          "base_uri": "https://localhost:8080/"
        },
        "outputId": "0c5187f6-ce91-45cf-b4da-da116c990ab9"
      }
    },
    {
      "cell_type": "code",
      "execution_count": 43,
      "source": [
        "# model6\r\n",
        "import keras\r\n",
        "# import tensorflow as tf\r\n",
        "# lrelu= lambda x: keras.activations.relu(x, alpha=0.1)\r\n",
        "\r\n",
        "max_words =1200\r\n",
        "model6 = Sequential() \r\n",
        "model6.add(Embedding(max_words, 100)) \r\n",
        "model6.add(Conv1D(filters=128, kernel_size=5,\r\n",
        "                      strides=1, padding=\"causal\",\r\n",
        "                      activation= 'relu', #lrelu\r\n",
        "                      input_shape=[None, 1] \r\n",
        "                  ) )\r\n",
        "model6.add(LSTM(128)) \r\n",
        "model6.add(Dense(10, activation='relu')) \r\n",
        "model6.add(Dense(10, activation='relu')) \r\n",
        "model6.add(Dense(10, activation='relu')) \r\n",
        "model6.add(Dense(3, activation='softmax')) \r\n",
        "\r\n",
        "\r\n",
        "model6.compile(optimizer='adam', loss='categorical_crossentropy', metrics=['accuracy'])  #optimizer: rmsprop\r\n",
        "history6 = model6.fit(X_train, y_train, epochs=50, batch_size=10, validation_split=0.1)"
      ],
      "outputs": [
        {
          "output_type": "stream",
          "name": "stdout",
          "text": [
            "Epoch 1/50\n",
            "2910/2910 [==============================] - 36s 12ms/step - loss: 0.6846 - accuracy: 0.7150 - val_loss: 0.5306 - val_accuracy: 0.7853\n",
            "Epoch 2/50\n",
            "2910/2910 [==============================] - 33s 11ms/step - loss: 0.5541 - accuracy: 0.7771 - val_loss: 0.4875 - val_accuracy: 0.8054\n",
            "Epoch 3/50\n",
            "2910/2910 [==============================] - 33s 11ms/step - loss: 0.5010 - accuracy: 0.7986 - val_loss: 0.4875 - val_accuracy: 0.8082\n",
            "Epoch 4/50\n",
            "2910/2910 [==============================] - 33s 11ms/step - loss: 0.4517 - accuracy: 0.8171 - val_loss: 0.5056 - val_accuracy: 0.8036\n",
            "Epoch 5/50\n",
            "2910/2910 [==============================] - 33s 11ms/step - loss: 0.4045 - accuracy: 0.8361 - val_loss: 0.5269 - val_accuracy: 0.8095\n",
            "Epoch 6/50\n",
            "2910/2910 [==============================] - 34s 12ms/step - loss: 0.3556 - accuracy: 0.8557 - val_loss: 0.5574 - val_accuracy: 0.8033\n",
            "Epoch 7/50\n",
            "2910/2910 [==============================] - 34s 12ms/step - loss: 0.3055 - accuracy: 0.8774 - val_loss: 0.5966 - val_accuracy: 0.7959\n",
            "Epoch 8/50\n",
            "2910/2910 [==============================] - 33s 12ms/step - loss: 0.2581 - accuracy: 0.9002 - val_loss: 0.6675 - val_accuracy: 0.7912\n",
            "Epoch 9/50\n",
            "2910/2910 [==============================] - 33s 11ms/step - loss: 0.2163 - accuracy: 0.9167 - val_loss: 0.7266 - val_accuracy: 0.7891\n",
            "Epoch 10/50\n",
            "2910/2910 [==============================] - 33s 11ms/step - loss: 0.1789 - accuracy: 0.9326 - val_loss: 0.8406 - val_accuracy: 0.7798\n",
            "Epoch 11/50\n",
            "2910/2910 [==============================] - 33s 12ms/step - loss: 0.1467 - accuracy: 0.9450 - val_loss: 0.8495 - val_accuracy: 0.7776\n",
            "Epoch 12/50\n",
            "2910/2910 [==============================] - 33s 11ms/step - loss: 0.1270 - accuracy: 0.9534 - val_loss: 0.9419 - val_accuracy: 0.7844\n",
            "Epoch 13/50\n",
            "2910/2910 [==============================] - 33s 11ms/step - loss: 0.1098 - accuracy: 0.9607 - val_loss: 1.0168 - val_accuracy: 0.7767\n",
            "Epoch 14/50\n",
            "2910/2910 [==============================] - 34s 12ms/step - loss: 0.0964 - accuracy: 0.9659 - val_loss: 1.0939 - val_accuracy: 0.7748\n",
            "Epoch 15/50\n",
            "2910/2910 [==============================] - 35s 12ms/step - loss: 0.0867 - accuracy: 0.9691 - val_loss: 1.1621 - val_accuracy: 0.7782\n",
            "Epoch 16/50\n",
            "2910/2910 [==============================] - 33s 11ms/step - loss: 0.0808 - accuracy: 0.9717 - val_loss: 1.0950 - val_accuracy: 0.7792\n",
            "Epoch 17/50\n",
            "2910/2910 [==============================] - 34s 12ms/step - loss: 0.0747 - accuracy: 0.9732 - val_loss: 1.2182 - val_accuracy: 0.7795\n",
            "Epoch 18/50\n",
            "2910/2910 [==============================] - 34s 12ms/step - loss: 0.0710 - accuracy: 0.9742 - val_loss: 1.1790 - val_accuracy: 0.7792\n",
            "Epoch 19/50\n",
            "2910/2910 [==============================] - 33s 12ms/step - loss: 0.0645 - accuracy: 0.9773 - val_loss: 1.2103 - val_accuracy: 0.7680\n",
            "Epoch 20/50\n",
            "2910/2910 [==============================] - 34s 12ms/step - loss: 0.0562 - accuracy: 0.9803 - val_loss: 1.3665 - val_accuracy: 0.7785\n",
            "Epoch 21/50\n",
            "2910/2910 [==============================] - 35s 12ms/step - loss: 0.0603 - accuracy: 0.9786 - val_loss: 1.2871 - val_accuracy: 0.7894\n",
            "Epoch 22/50\n",
            "2910/2910 [==============================] - 34s 12ms/step - loss: 0.0528 - accuracy: 0.9811 - val_loss: 1.4468 - val_accuracy: 0.7764\n",
            "Epoch 23/50\n",
            "2910/2910 [==============================] - 35s 12ms/step - loss: 0.0523 - accuracy: 0.9813 - val_loss: 1.3290 - val_accuracy: 0.7730\n",
            "Epoch 24/50\n",
            "2910/2910 [==============================] - 35s 12ms/step - loss: 0.0559 - accuracy: 0.9796 - val_loss: 1.3849 - val_accuracy: 0.7748\n",
            "Epoch 25/50\n",
            "2910/2910 [==============================] - 34s 12ms/step - loss: 0.0477 - accuracy: 0.9827 - val_loss: 1.4913 - val_accuracy: 0.7674\n",
            "Epoch 26/50\n",
            "2910/2910 [==============================] - 34s 12ms/step - loss: 0.0479 - accuracy: 0.9825 - val_loss: 1.3608 - val_accuracy: 0.7782\n",
            "Epoch 27/50\n",
            "2910/2910 [==============================] - 34s 12ms/step - loss: 0.0491 - accuracy: 0.9828 - val_loss: 1.4369 - val_accuracy: 0.7702\n",
            "Epoch 28/50\n",
            "2910/2910 [==============================] - 34s 12ms/step - loss: 0.0476 - accuracy: 0.9825 - val_loss: 1.3045 - val_accuracy: 0.7730\n",
            "Epoch 29/50\n",
            "2910/2910 [==============================] - 35s 12ms/step - loss: 0.0414 - accuracy: 0.9845 - val_loss: 1.4668 - val_accuracy: 0.7745\n",
            "Epoch 30/50\n",
            "2910/2910 [==============================] - 34s 12ms/step - loss: 0.0455 - accuracy: 0.9834 - val_loss: 1.4022 - val_accuracy: 0.7795\n",
            "Epoch 31/50\n",
            "2910/2910 [==============================] - 33s 11ms/step - loss: 0.0420 - accuracy: 0.9850 - val_loss: 1.4541 - val_accuracy: 0.7782\n",
            "Epoch 32/50\n",
            "2910/2910 [==============================] - 33s 12ms/step - loss: 0.0405 - accuracy: 0.9850 - val_loss: 1.5842 - val_accuracy: 0.7816\n",
            "Epoch 33/50\n",
            "2910/2910 [==============================] - 33s 11ms/step - loss: 0.0388 - accuracy: 0.9856 - val_loss: 1.5217 - val_accuracy: 0.7640\n",
            "Epoch 34/50\n",
            "2910/2910 [==============================] - 34s 12ms/step - loss: 0.0394 - accuracy: 0.9849 - val_loss: 1.5554 - val_accuracy: 0.7819\n",
            "Epoch 35/50\n",
            "2910/2910 [==============================] - 34s 12ms/step - loss: 0.0401 - accuracy: 0.9859 - val_loss: 1.4637 - val_accuracy: 0.7761\n",
            "Epoch 36/50\n",
            "2910/2910 [==============================] - 35s 12ms/step - loss: 0.0382 - accuracy: 0.9857 - val_loss: 1.5138 - val_accuracy: 0.7829\n",
            "Epoch 37/50\n",
            "2910/2910 [==============================] - 34s 12ms/step - loss: 0.0340 - accuracy: 0.9871 - val_loss: 1.7233 - val_accuracy: 0.7779\n",
            "Epoch 38/50\n",
            "2910/2910 [==============================] - 33s 11ms/step - loss: 0.0356 - accuracy: 0.9869 - val_loss: 1.5737 - val_accuracy: 0.7792\n",
            "Epoch 39/50\n",
            "2910/2910 [==============================] - 33s 11ms/step - loss: 0.0415 - accuracy: 0.9844 - val_loss: 1.5313 - val_accuracy: 0.7826\n",
            "Epoch 40/50\n",
            "2910/2910 [==============================] - 33s 11ms/step - loss: 0.0314 - accuracy: 0.9884 - val_loss: 1.6611 - val_accuracy: 0.7816\n",
            "Epoch 41/50\n",
            "2910/2910 [==============================] - 33s 11ms/step - loss: 0.0360 - accuracy: 0.9870 - val_loss: 1.4827 - val_accuracy: 0.7816\n",
            "Epoch 42/50\n",
            "2910/2910 [==============================] - 34s 12ms/step - loss: 0.0362 - accuracy: 0.9868 - val_loss: 1.4789 - val_accuracy: 0.7788\n",
            "Epoch 43/50\n",
            "2910/2910 [==============================] - 33s 11ms/step - loss: 0.0300 - accuracy: 0.9887 - val_loss: 1.7962 - val_accuracy: 0.7714\n",
            "Epoch 44/50\n",
            "2910/2910 [==============================] - 33s 11ms/step - loss: 0.0352 - accuracy: 0.9869 - val_loss: 1.5653 - val_accuracy: 0.7767\n",
            "Epoch 45/50\n",
            "2910/2910 [==============================] - 34s 12ms/step - loss: 0.0340 - accuracy: 0.9877 - val_loss: 1.5135 - val_accuracy: 0.7764\n",
            "Epoch 46/50\n",
            "2910/2910 [==============================] - 33s 11ms/step - loss: 0.0332 - accuracy: 0.9875 - val_loss: 1.6435 - val_accuracy: 0.7788\n",
            "Epoch 47/50\n",
            "2910/2910 [==============================] - 34s 12ms/step - loss: 0.0334 - accuracy: 0.9878 - val_loss: 1.5750 - val_accuracy: 0.7754\n",
            "Epoch 48/50\n",
            "2910/2910 [==============================] - 33s 11ms/step - loss: 0.0328 - accuracy: 0.9883 - val_loss: 1.6414 - val_accuracy: 0.7649\n",
            "Epoch 49/50\n",
            "2910/2910 [==============================] - 33s 12ms/step - loss: 0.0287 - accuracy: 0.9898 - val_loss: 1.6602 - val_accuracy: 0.7773\n",
            "Epoch 50/50\n",
            "2910/2910 [==============================] - 34s 12ms/step - loss: 0.0357 - accuracy: 0.9865 - val_loss: 1.6545 - val_accuracy: 0.7677\n"
          ]
        }
      ],
      "metadata": {
        "colab": {
          "base_uri": "https://localhost:8080/"
        },
        "id": "cgYH268l6x1Z",
        "outputId": "31512149-357d-4db6-d528-e2b8fed84cd8"
      }
    },
    {
      "cell_type": "code",
      "execution_count": 44,
      "source": [
        "print('model6 전체 정확도 : {:.2f}%'.format(model6.evaluate(X_test, y_test)[1]*100 ))"
      ],
      "outputs": [
        {
          "output_type": "stream",
          "name": "stdout",
          "text": [
            "10/10 [==============================] - 0s 5ms/step - loss: 3.1076 - accuracy: 0.6633\n",
            "model6 전체 정확도 : 66.33%\n"
          ]
        }
      ],
      "metadata": {
        "colab": {
          "base_uri": "https://localhost:8080/"
        },
        "id": "JKRl_-3k88Og",
        "outputId": "1b3edde5-ecb6-4281-cc72-664e91323438"
      }
    },
    {
      "cell_type": "code",
      "execution_count": null,
      "source": [
        "# model1\r\n",
        "print('model1 정확도 : {:.2f}%'.format(model1.evaluate(X_test[0:100], y_test[0:100])[1]*100 ))\r\n",
        "print('model1 정확도 : {:.2f}%'.format(model1.evaluate(X_test[100:200], y_test[100:200])[1]*100 ))\r\n",
        "print('model1 정확도 : {:.2f}%'.format(model1.evaluate(X_test[200:300], y_test[200:300])[1]*100 ))\r\n",
        "\r\n",
        "mean_md1= ( model1.evaluate(X_test[0:100], y_test[0:100])[1]*100  +\r\n",
        "           model1.evaluate(X_test[100:200], y_test[100:200])[1]*100 + \r\n",
        "           model1.evaluate(X_test[200:300], y_test[200:300])[1]*100  ) /3\r\n",
        "print('model1의 정확도 평균 :',round(mean_md1,2),'%' )\r\n",
        "print('---------------------------------------------------------------------------------------')\r\n",
        "# model2\r\n",
        "print('model2 정확도 : {:.2f}%'.format(model2.evaluate(X_test[0:100], y_test[0:100])[1]*100 ))\r\n",
        "print('model2 정확도 : {:.2f}%'.format(model2.evaluate(X_test[100:200], y_test[100:200])[1]*100 ))\r\n",
        "print('model2 정확도 : {:.2f}%'.format(model2.evaluate(X_test[200:300], y_test[200:300])[1]*100 ))\r\n",
        "\r\n",
        "mean_md2= ( model2.evaluate(X_test[0:100], y_test[0:100])[1]*100  + \r\n",
        "           model2.evaluate(X_test[100:200], y_test[100:200])[1]*100 + \r\n",
        "           model2.evaluate(X_test[200:300], y_test[200:300])[1]*100  ) /3\r\n",
        "print('model2의 정확도 평균 :',round(mean_md2,2),'%' )\r\n",
        "print('---------------------------------------------------------------------------------------')\r\n",
        "# model3\r\n",
        "print('model3 정확도 : {:.2f}%'.format(model3.evaluate(X_test[0:100], y_test[0:100])[1]*100 ))\r\n",
        "print('model3 정확도 : {:.2f}%'.format(model3.evaluate(X_test[100:200], y_test[100:200])[1]*100 ))\r\n",
        "print('model3 정확도 : {:.2f}%'.format(model3.evaluate(X_test[200:300], y_test[200:300])[1]*100 ))\r\n",
        "\r\n",
        "mean_md3= ( model3.evaluate(X_test[0:100], y_test[0:100])[1]*100  +\r\n",
        "           model3.evaluate(X_test[100:200], y_test[100:200])[1]*100 +\r\n",
        "           model3.evaluate(X_test[200:300], y_test[200:300])[1]*100  ) /3\r\n",
        "print('model2의 정확도 평균 :',round(mean_md3,2),'%' )\r\n",
        "\r\n",
        "print('---------------------------------------------------------------------------------------')\r\n",
        "# model4\r\n",
        "print('model4 정확도 : {:.2f}%'.format(model4.evaluate(X_test[0:100], y_test[0:100])[1]*100 ))\r\n",
        "print('model4 정확도 : {:.2f}%'.format(model4.evaluate(X_test[100:200], y_test[100:200])[1]*100 ))\r\n",
        "print('model4 정확도 : {:.2f}%'.format(model4.evaluate(X_test[200:300], y_test[200:300])[1]*100 ))\r\n",
        "\r\n",
        "mean_md4= ( model4.evaluate(X_test[0:100], y_test[0:100])[1]*100  +\r\n",
        "           model4.evaluate(X_test[100:200], y_test[100:200])[1]*100 +\r\n",
        "           model4.evaluate(X_test[200:300], y_test[200:300])[1]*100  ) /3\r\n",
        "print('model4의 정확도 평균 :',round(mean_md4,2),'%' )"
      ],
      "outputs": [
        {
          "output_type": "stream",
          "name": "stdout",
          "text": [
            "4/4 [==============================] - 0s 6ms/step - loss: 3.2481 - accuracy: 0.6600\n",
            "model1 정확도 : 66.00%\n",
            "4/4 [==============================] - 0s 5ms/step - loss: 5.9072 - accuracy: 0.6100\n",
            "model1 정확도 : 61.00%\n",
            "4/4 [==============================] - 0s 5ms/step - loss: 6.0754 - accuracy: 0.6200\n",
            "model1 정확도 : 62.00%\n",
            "4/4 [==============================] - 0s 6ms/step - loss: 3.2481 - accuracy: 0.6600\n",
            "4/4 [==============================] - 0s 5ms/step - loss: 5.9072 - accuracy: 0.6100\n",
            "4/4 [==============================] - 0s 5ms/step - loss: 6.0754 - accuracy: 0.6200\n",
            "model1의 정확도 평균 : 63.0 %\n",
            "---------------------------------------------------------------------------------------\n",
            "4/4 [==============================] - 0s 5ms/step - loss: 1.6995 - accuracy: 0.6700\n",
            "model2 정확도 : 67.00%\n",
            "4/4 [==============================] - 0s 5ms/step - loss: 2.3658 - accuracy: 0.5600\n",
            "model2 정확도 : 56.00%\n",
            "4/4 [==============================] - 0s 5ms/step - loss: 2.9001 - accuracy: 0.5500\n",
            "model2 정확도 : 55.00%\n",
            "4/4 [==============================] - 0s 7ms/step - loss: 1.6995 - accuracy: 0.6700\n",
            "4/4 [==============================] - 0s 6ms/step - loss: 2.3658 - accuracy: 0.5600\n",
            "4/4 [==============================] - 0s 5ms/step - loss: 2.9001 - accuracy: 0.5500\n",
            "model2의 정확도 평균 : 59.33 %\n",
            "---------------------------------------------------------------------------------------\n",
            "4/4 [==============================] - 0s 10ms/step - loss: 4.1063 - accuracy: 0.7300\n",
            "model3 정확도 : 73.00%\n",
            "4/4 [==============================] - 0s 6ms/step - loss: 6.6846 - accuracy: 0.6400\n",
            "model3 정확도 : 64.00%\n",
            "4/4 [==============================] - 0s 5ms/step - loss: 6.1200 - accuracy: 0.6900\n",
            "model3 정확도 : 69.00%\n",
            "4/4 [==============================] - 0s 5ms/step - loss: 4.1063 - accuracy: 0.7300\n",
            "4/4 [==============================] - 0s 6ms/step - loss: 6.6846 - accuracy: 0.6400\n",
            "4/4 [==============================] - 0s 6ms/step - loss: 6.1200 - accuracy: 0.6900\n",
            "model2의 정확도 평균 : 68.67 %\n",
            "---------------------------------------------------------------------------------------\n",
            "4/4 [==============================] - 0s 10ms/step - loss: 3.8590 - accuracy: 0.6400\n",
            "model4 정확도 : 64.00%\n",
            "4/4 [==============================] - 0s 10ms/step - loss: 4.9197 - accuracy: 0.5900\n",
            "model4 정확도 : 59.00%\n",
            "4/4 [==============================] - 0s 6ms/step - loss: 3.7870 - accuracy: 0.6300\n",
            "model4 정확도 : 63.00%\n",
            "4/4 [==============================] - 0s 5ms/step - loss: 3.8590 - accuracy: 0.6400\n",
            "4/4 [==============================] - 0s 6ms/step - loss: 4.9197 - accuracy: 0.5900\n",
            "4/4 [==============================] - 0s 6ms/step - loss: 3.7870 - accuracy: 0.6300\n",
            "model4의 정확도 평균 : 62.0 %\n"
          ]
        }
      ],
      "metadata": {
        "colab": {
          "base_uri": "https://localhost:8080/"
        },
        "id": "HZn73kafanhe",
        "outputId": "a3ac58ce-46db-4aa4-92cd-f4d5d7602ade"
      }
    },
    {
      "cell_type": "code",
      "execution_count": 45,
      "source": [
        "print('---------------------------------------------------------------------------------------')\r\n",
        "# model5\r\n",
        "print('model5 정확도 : {:.2f}%'.format(model5.evaluate(X_test[0:100], y_test[0:100])[1]*100 ))\r\n",
        "print('model5 정확도 : {:.2f}%'.format(model5.evaluate(X_test[100:200], y_test[100:200])[1]*100 ))\r\n",
        "print('model5 정확도 : {:.2f}%'.format(model5.evaluate(X_test[200:300], y_test[200:300])[1]*100 ))\r\n",
        "\r\n",
        "mean_md5 = ( model5.evaluate(X_test[0:100], y_test[0:100])[1]*100  +\r\n",
        "            model5.evaluate(X_test[100:200], y_test[100:200])[1]*100 +\r\n",
        "            model5.evaluate(X_test[200:300], y_test[200:300])[1]*100  ) /3\r\n",
        "print('model5의 정확도 평균 :',round(mean_md5,2),'%' )\r\n",
        "\r\n",
        "print('---------------------------------------------------------------------------------------')\r\n",
        "# model5_2\r\n",
        "print('model5_2 정확도 : {:.2f}%'.format(model5_2.evaluate(X_test[0:100], y_test[0:100])[1]*100 ))\r\n",
        "print('model5_2 정확도 : {:.2f}%'.format(model5_2.evaluate(X_test[100:200], y_test[100:200])[1]*100 ))\r\n",
        "print('model5_2 정확도 : {:.2f}%'.format(model5_2.evaluate(X_test[200:300], y_test[200:300])[1]*100 ))\r\n",
        "\r\n",
        "mean_md5_2 = ( model5_2.evaluate(X_test[0:100], y_test[0:100])[1]*100  +\r\n",
        "            model5_2.evaluate(X_test[100:200], y_test[100:200])[1]*100 +\r\n",
        "            model5_2.evaluate(X_test[200:300], y_test[200:300])[1]*100  ) /3\r\n",
        "print('model5_2의 정확도 평균 :',round(mean_md5_2,2),'%' )\r\n",
        "\r\n",
        "print('---------------------------------------------------------------------------------------')\r\n",
        "# model5_2\r\n",
        "print('model5_3 정확도 : {:.2f}%'.format(model5_3.evaluate(X_test[0:100], y_test[0:100])[1]*100 ))\r\n",
        "print('model5_3 정확도 : {:.2f}%'.format(model5_3.evaluate(X_test[100:200], y_test[100:200])[1]*100 ))\r\n",
        "print('model5_3 정확도 : {:.2f}%'.format(model5_3.evaluate(X_test[200:300], y_test[200:300])[1]*100 ))\r\n",
        "\r\n",
        "mean_md5_3 = ( model5_3.evaluate(X_test[0:100], y_test[0:100])[1]*100  +\r\n",
        "            model5_3.evaluate(X_test[100:200], y_test[100:200])[1]*100 +\r\n",
        "            model5_3.evaluate(X_test[200:300], y_test[200:300])[1]*100  ) /3\r\n",
        "print('model5_3의 정확도 평균 :',round(mean_md5_3,2),'%' )\r\n",
        "\r\n",
        "\r\n",
        "print('---------------------------------------------------------------------------------------')\r\n",
        "# model6\r\n",
        "print('model6 정확도 : {:.2f}%'.format(model6.evaluate(X_test[0:100], y_test[0:100])[1]*100 ))\r\n",
        "print('model6 정확도 : {:.2f}%'.format(model6.evaluate(X_test[100:200], y_test[100:200])[1]*100 ))\r\n",
        "print('model6 정확도 : {:.2f}%'.format(model6.evaluate(X_test[200:300], y_test[200:300])[1]*100 ))\r\n",
        "\r\n",
        "mean_md6 = ( model6.evaluate(X_test[0:100], y_test[0:100])[1]*100  +\r\n",
        "            model6.evaluate(X_test[100:200], y_test[100:200])[1]*100 +\r\n",
        "            model6.evaluate(X_test[200:300], y_test[200:300])[1]*100  ) /3\r\n",
        "print('model6의 정확도 평균 :',round(mean_md6,2),'%' )"
      ],
      "outputs": [
        {
          "output_type": "stream",
          "name": "stdout",
          "text": [
            "---------------------------------------------------------------------------------------\n",
            "4/4 [==============================] - 0s 11ms/step - loss: 2.8188 - accuracy: 0.6600\n",
            "model5 정확도 : 66.00%\n",
            "4/4 [==============================] - 0s 6ms/step - loss: 3.1963 - accuracy: 0.6900\n",
            "model5 정확도 : 69.00%\n",
            "4/4 [==============================] - 0s 7ms/step - loss: 3.0320 - accuracy: 0.6700\n",
            "model5 정확도 : 67.00%\n",
            "4/4 [==============================] - 0s 7ms/step - loss: 2.8188 - accuracy: 0.6600\n",
            "4/4 [==============================] - 0s 6ms/step - loss: 3.1963 - accuracy: 0.6900\n",
            "4/4 [==============================] - 0s 6ms/step - loss: 3.0320 - accuracy: 0.6700\n",
            "model5의 정확도 평균 : 67.33 %\n",
            "---------------------------------------------------------------------------------------\n",
            "4/4 [==============================] - 0s 6ms/step - loss: 1.7159 - accuracy: 0.7900\n",
            "model5_2 정확도 : 79.00%\n",
            "4/4 [==============================] - 0s 9ms/step - loss: 2.5779 - accuracy: 0.6800\n",
            "model5_2 정확도 : 68.00%\n",
            "4/4 [==============================] - 0s 7ms/step - loss: 2.5037 - accuracy: 0.6900\n",
            "model5_2 정확도 : 69.00%\n",
            "4/4 [==============================] - 0s 6ms/step - loss: 1.7159 - accuracy: 0.7900\n",
            "4/4 [==============================] - 0s 6ms/step - loss: 2.5779 - accuracy: 0.6800\n",
            "4/4 [==============================] - 0s 7ms/step - loss: 2.5037 - accuracy: 0.6900\n",
            "model5_2의 정확도 평균 : 72.0 %\n",
            "---------------------------------------------------------------------------------------\n",
            "4/4 [==============================] - 0s 6ms/step - loss: 3.0226 - accuracy: 0.7200\n",
            "model5_3 정확도 : 72.00%\n",
            "4/4 [==============================] - 0s 6ms/step - loss: 2.6181 - accuracy: 0.7000\n",
            "model5_3 정확도 : 70.00%\n",
            "4/4 [==============================] - 0s 6ms/step - loss: 3.2476 - accuracy: 0.6800\n",
            "model5_3 정확도 : 68.00%\n",
            "4/4 [==============================] - 0s 6ms/step - loss: 3.0226 - accuracy: 0.7200\n",
            "4/4 [==============================] - 0s 6ms/step - loss: 2.6181 - accuracy: 0.7000\n",
            "4/4 [==============================] - 0s 12ms/step - loss: 3.2476 - accuracy: 0.6800\n",
            "model5_3의 정확도 평균 : 70.0 %\n",
            "---------------------------------------------------------------------------------------\n",
            "4/4 [==============================] - 0s 6ms/step - loss: 2.3847 - accuracy: 0.7200\n",
            "model6 정확도 : 72.00%\n",
            "4/4 [==============================] - 0s 6ms/step - loss: 3.2514 - accuracy: 0.6200\n",
            "model6 정확도 : 62.00%\n",
            "4/4 [==============================] - 0s 6ms/step - loss: 3.6869 - accuracy: 0.6500\n",
            "model6 정확도 : 65.00%\n",
            "4/4 [==============================] - 0s 6ms/step - loss: 2.3847 - accuracy: 0.7200\n",
            "4/4 [==============================] - 0s 9ms/step - loss: 3.2514 - accuracy: 0.6200\n",
            "4/4 [==============================] - 0s 6ms/step - loss: 3.6869 - accuracy: 0.6500\n",
            "model6의 정확도 평균 : 66.33 %\n"
          ]
        }
      ],
      "metadata": {
        "colab": {
          "base_uri": "https://localhost:8080/"
        },
        "id": "lS7rACaB4zSj",
        "outputId": "fc29c2e7-823a-419a-b1ef-067f510d1dcd"
      }
    },
    {
      "cell_type": "markdown",
      "source": [
        "## 06. pred set 예측 확인 (2015/ 2020 sns 감성분석진행3"
      ],
      "metadata": {
        "id": "OdKJRm4Jhj6w"
      }
    },
    {
      "cell_type": "code",
      "execution_count": 46,
      "source": [
        "#모델 확정 \r\n",
        "model = model5_2"
      ],
      "outputs": [],
      "metadata": {
        "id": "oTlh2Ih0dDsl"
      }
    },
    {
      "cell_type": "code",
      "execution_count": 47,
      "source": [
        "pred_df"
      ],
      "outputs": [
        {
          "output_type": "execute_result",
          "data": {
            "text/html": [
              "<div>\n",
              "<style scoped>\n",
              "    .dataframe tbody tr th:only-of-type {\n",
              "        vertical-align: middle;\n",
              "    }\n",
              "\n",
              "    .dataframe tbody tr th {\n",
              "        vertical-align: top;\n",
              "    }\n",
              "\n",
              "    .dataframe thead th {\n",
              "        text-align: right;\n",
              "    }\n",
              "</style>\n",
              "<table border=\"1\" class=\"dataframe\">\n",
              "  <thead>\n",
              "    <tr style=\"text-align: right;\">\n",
              "      <th></th>\n",
              "      <th>idx</th>\n",
              "      <th>sentence_Data</th>\n",
              "      <th>channel</th>\n",
              "      <th>year</th>\n",
              "    </tr>\n",
              "  </thead>\n",
              "  <tbody>\n",
              "    <tr>\n",
              "      <th>0</th>\n",
              "      <td>0</td>\n",
              "      <td>한인마트는 귀찮아서 안가므로 떡볶이를 먹고싶을 때를 대비하여 이전에 마트에서 쌀가루...</td>\n",
              "      <td>blog</td>\n",
              "      <td>2015</td>\n",
              "    </tr>\n",
              "    <tr>\n",
              "      <th>1</th>\n",
              "      <td>1</td>\n",
              "      <td>그리고 오늘은 1월 1일 아무래도 설날이나 새해때 떡국을 안먹으면 억울하다 작년에도...</td>\n",
              "      <td>blog</td>\n",
              "      <td>2015</td>\n",
              "    </tr>\n",
              "    <tr>\n",
              "      <th>2</th>\n",
              "      <td>2</td>\n",
              "      <td>국물내는 재료따위 없는 나는 떡국까진 사치고 너무 먹고싶었던 고추가루엄청 많이 넣은...</td>\n",
              "      <td>blog</td>\n",
              "      <td>2015</td>\n",
              "    </tr>\n",
              "    <tr>\n",
              "      <th>3</th>\n",
              "      <td>3</td>\n",
              "      <td>블로그보면 쌀가루로 찹쌀떡진짜 잘 만들던데 내가만든건 만들다가 정말 빡쳤다는 것이 ...</td>\n",
              "      <td>blog</td>\n",
              "      <td>2015</td>\n",
              "    </tr>\n",
              "    <tr>\n",
              "      <th>4</th>\n",
              "      <td>4</td>\n",
              "      <td>라는 생각으로 만듬 찹쌀떡이없는 나라에서 산다해도 안먹고 말거야</td>\n",
              "      <td>blog</td>\n",
              "      <td>2015</td>\n",
              "    </tr>\n",
              "    <tr>\n",
              "      <th>...</th>\n",
              "      <td>...</td>\n",
              "      <td>...</td>\n",
              "      <td>...</td>\n",
              "      <td>...</td>\n",
              "    </tr>\n",
              "    <tr>\n",
              "      <th>116516</th>\n",
              "      <td>33289</td>\n",
              "      <td>식용유 미림맛술 꿀 이렇게 3가지 양념만 넣고 조리 했는데 맛이 와 비린맛 잘 잡아...</td>\n",
              "      <td>cafe</td>\n",
              "      <td>2015</td>\n",
              "    </tr>\n",
              "    <tr>\n",
              "      <th>116517</th>\n",
              "      <td>33290</td>\n",
              "      <td>가능한가요 믹서기 청소가 귀찮아서</td>\n",
              "      <td>cafe</td>\n",
              "      <td>2015</td>\n",
              "    </tr>\n",
              "    <tr>\n",
              "      <th>116518</th>\n",
              "      <td>33291</td>\n",
              "      <td>담주부터 초기이유식 시작인데 아직 애가 못앉잖아요 다들 그냥 분유주듯 안아서 먹이시나요</td>\n",
              "      <td>cafe</td>\n",
              "      <td>2015</td>\n",
              "    </tr>\n",
              "    <tr>\n",
              "      <th>116519</th>\n",
              "      <td>33292</td>\n",
              "      <td>어뭉들어디서 사드시나요 아이간식사먹이는 사이트추천좀해주셔요</td>\n",
              "      <td>cafe</td>\n",
              "      <td>2015</td>\n",
              "    </tr>\n",
              "    <tr>\n",
              "      <th>116520</th>\n",
              "      <td>33293</td>\n",
              "      <td>간혹 동물 사료용으로 쓰신다고 무료나눔하신던데 벌레가 막 나오거나 하지는 않는데 애...</td>\n",
              "      <td>cafe</td>\n",
              "      <td>2015</td>\n",
              "    </tr>\n",
              "  </tbody>\n",
              "</table>\n",
              "<p>116521 rows × 4 columns</p>\n",
              "</div>"
            ],
            "text/plain": [
              "          idx                                      sentence_Data channel  year\n",
              "0           0  한인마트는 귀찮아서 안가므로 떡볶이를 먹고싶을 때를 대비하여 이전에 마트에서 쌀가루...    blog  2015\n",
              "1           1  그리고 오늘은 1월 1일 아무래도 설날이나 새해때 떡국을 안먹으면 억울하다 작년에도...    blog  2015\n",
              "2           2  국물내는 재료따위 없는 나는 떡국까진 사치고 너무 먹고싶었던 고추가루엄청 많이 넣은...    blog  2015\n",
              "3           3  블로그보면 쌀가루로 찹쌀떡진짜 잘 만들던데 내가만든건 만들다가 정말 빡쳤다는 것이 ...    blog  2015\n",
              "4           4                라는 생각으로 만듬 찹쌀떡이없는 나라에서 산다해도 안먹고 말거야    blog  2015\n",
              "...       ...                                                ...     ...   ...\n",
              "116516  33289  식용유 미림맛술 꿀 이렇게 3가지 양념만 넣고 조리 했는데 맛이 와 비린맛 잘 잡아...    cafe  2015\n",
              "116517  33290                                 가능한가요 믹서기 청소가 귀찮아서    cafe  2015\n",
              "116518  33291   담주부터 초기이유식 시작인데 아직 애가 못앉잖아요 다들 그냥 분유주듯 안아서 먹이시나요    cafe  2015\n",
              "116519  33292                   어뭉들어디서 사드시나요 아이간식사먹이는 사이트추천좀해주셔요    cafe  2015\n",
              "116520  33293  간혹 동물 사료용으로 쓰신다고 무료나눔하신던데 벌레가 막 나오거나 하지는 않는데 애...    cafe  2015\n",
              "\n",
              "[116521 rows x 4 columns]"
            ]
          },
          "metadata": {},
          "execution_count": 47
        }
      ],
      "metadata": {
        "colab": {
          "base_uri": "https://localhost:8080/",
          "height": 525
        },
        "id": "BB8E29UqeBDy",
        "outputId": "fa561006-3394-461b-8787-180dba9b96cc"
      }
    },
    {
      "cell_type": "code",
      "execution_count": 56,
      "source": [
        "# data_content\r\n",
        "\r\n",
        "# pred 토큰화 벡터화\r\n",
        "X_pred = [] \r\n",
        "for sentence in pred_df['sentence_Data'] :\r\n",
        "    temp_X = [] \r\n",
        "    temp_X = okt.morphs(sentence, stem=True) # 토큰화 \r\n",
        "    temp_X = [word for word in temp_X if not word in stopwords] # 불용어 제거 \r\n",
        "    X_pred.append(temp_X) \r\n",
        "\r\n",
        "#벡터, 토큰화   \r\n",
        "# 정수 인코딩\r\n",
        "tokenizer.fit_on_texts(X_pred ) \r\n",
        "X_pred  = tokenizer.texts_to_sequences(X_pred ) \r\n",
        "\r\n",
        "# 데이터 길이 맞추기 : padding  씌움\r\n",
        "X_pred = pad_sequences(X_pred, maxlen=max_len)\r\n",
        "\r\n",
        "##model으로 해보기\r\n",
        "# pred로 감성분석 예측\r\n",
        "predict = model.predict( X_pred )\r\n",
        "predict_labels = np.argmax(predict, axis=1) \r\n",
        "\r\n",
        "## 데이터 확인 \r\n",
        "st, pred,channel,year =[],[],[],[]\r\n",
        "# 데이터 직접 비교해보기\r\n",
        "for i in range( len(pred_df) ): \r\n",
        "    st.append( pred_df['sentence_Data'].iloc[i] ) ,\r\n",
        "    channel.append( pred_df['channel'].iloc[i] ),\r\n",
        "    year.append( pred_df['year'].iloc[i] ),\r\n",
        "    pred.append( predict_labels[i])\r\n",
        "\r\n",
        "# 2가 긍정 / 1이 중립 / 0이 부정임을 확인\r\n",
        "#0,1,2로 이루어진 pred -1, 0 ,1 로바꾸기\r\n",
        "pnr=[]\r\n",
        "for i in range(len(pred)):\r\n",
        "    if pred[i] == 0:\r\n",
        "        pnr.append(-1)\r\n",
        "    elif pred[i] ==1:\r\n",
        "        pnr.append(0)\r\n",
        "    else:\r\n",
        "        pnr.append(1)\r\n",
        "    \r\n",
        "# 데이터프레임 만들기\r\n",
        "total_ex = pd.DataFrame({'문장' : st , '감성':pnr ,'분류:': pred ,'channel':channel,'year':year} )\r\n",
        "total_ex\r\n"
      ],
      "outputs": [
        {
          "output_type": "execute_result",
          "data": {
            "text/html": [
              "<div>\n",
              "<style scoped>\n",
              "    .dataframe tbody tr th:only-of-type {\n",
              "        vertical-align: middle;\n",
              "    }\n",
              "\n",
              "    .dataframe tbody tr th {\n",
              "        vertical-align: top;\n",
              "    }\n",
              "\n",
              "    .dataframe thead th {\n",
              "        text-align: right;\n",
              "    }\n",
              "</style>\n",
              "<table border=\"1\" class=\"dataframe\">\n",
              "  <thead>\n",
              "    <tr style=\"text-align: right;\">\n",
              "      <th></th>\n",
              "      <th>문장</th>\n",
              "      <th>감성</th>\n",
              "      <th>분류:</th>\n",
              "      <th>channel</th>\n",
              "      <th>year</th>\n",
              "    </tr>\n",
              "  </thead>\n",
              "  <tbody>\n",
              "    <tr>\n",
              "      <th>0</th>\n",
              "      <td>초기이유식 2단계 소고기미음 차례 나는 튼이이유식 책을보고 만들고 있는데 초기는 책...</td>\n",
              "      <td>0</td>\n",
              "      <td>1</td>\n",
              "      <td>blog</td>\n",
              "      <td>2020</td>\n",
              "    </tr>\n",
              "    <tr>\n",
              "      <th>1</th>\n",
              "      <td>중기이유식 들어가면서 큐브만들고 책 보는중 무튼 엄마들이라면 이유식만들때 참고하는 ...</td>\n",
              "      <td>-1</td>\n",
              "      <td>0</td>\n",
              "      <td>blog</td>\n",
              "      <td>2020</td>\n",
              "    </tr>\n",
              "    <tr>\n",
              "      <th>2</th>\n",
              "      <td>나도 도서관에서 2개의 이유식책을 빌렸는데 쌀미음 다음에 순서가 달랐다</td>\n",
              "      <td>1</td>\n",
              "      <td>2</td>\n",
              "      <td>blog</td>\n",
              "      <td>2020</td>\n",
              "    </tr>\n",
              "    <tr>\n",
              "      <th>3</th>\n",
              "      <td>하나는 야채 하나는 철분을 위해 소고기 나는 완분임에도 야채부터 하고 소고기를 들어...</td>\n",
              "      <td>1</td>\n",
              "      <td>2</td>\n",
              "      <td>blog</td>\n",
              "      <td>2020</td>\n",
              "    </tr>\n",
              "    <tr>\n",
              "      <th>4</th>\n",
              "      <td>최대한 지방없는걸로 달라고 했는데 잘 모르겠다</td>\n",
              "      <td>0</td>\n",
              "      <td>1</td>\n",
              "      <td>blog</td>\n",
              "      <td>2020</td>\n",
              "    </tr>\n",
              "    <tr>\n",
              "      <th>...</th>\n",
              "      <td>...</td>\n",
              "      <td>...</td>\n",
              "      <td>...</td>\n",
              "      <td>...</td>\n",
              "      <td>...</td>\n",
              "    </tr>\n",
              "    <tr>\n",
              "      <th>148895</th>\n",
              "      <td>재난카드 정부재난카드 카드 온누리 평택사랑권 다가능해요</td>\n",
              "      <td>1</td>\n",
              "      <td>2</td>\n",
              "      <td>cafe</td>\n",
              "      <td>2020</td>\n",
              "    </tr>\n",
              "    <tr>\n",
              "      <th>148896</th>\n",
              "      <td>주문방법 참고하셔서 주문 주세요</td>\n",
              "      <td>0</td>\n",
              "      <td>1</td>\n",
              "      <td>cafe</td>\n",
              "      <td>2020</td>\n",
              "    </tr>\n",
              "    <tr>\n",
              "      <th>148897</th>\n",
              "      <td>2만원 이상 무료배달해드려요 2만원 미만은 배송료 2천원입니다 주 문 방 법 1 문...</td>\n",
              "      <td>0</td>\n",
              "      <td>1</td>\n",
              "      <td>cafe</td>\n",
              "      <td>2020</td>\n",
              "    </tr>\n",
              "    <tr>\n",
              "      <th>148898</th>\n",
              "      <td>2 문자로 동 호수 연락처 보내주시면 주문완료 3 계좌입금 해주시는 분들은 꼭 동 ...</td>\n",
              "      <td>1</td>\n",
              "      <td>2</td>\n",
              "      <td>cafe</td>\n",
              "      <td>2020</td>\n",
              "    </tr>\n",
              "    <tr>\n",
              "      <th>148899</th>\n",
              "      <td>전화문의 010 2856 8020 계좌 582 12 053282 농협 장유진 달콤한...</td>\n",
              "      <td>0</td>\n",
              "      <td>1</td>\n",
              "      <td>cafe</td>\n",
              "      <td>2020</td>\n",
              "    </tr>\n",
              "  </tbody>\n",
              "</table>\n",
              "<p>148900 rows × 5 columns</p>\n",
              "</div>"
            ],
            "text/plain": [
              "                                                       문장  감성  ...  channel  year\n",
              "0       초기이유식 2단계 소고기미음 차례 나는 튼이이유식 책을보고 만들고 있는데 초기는 책...   0  ...     blog  2020\n",
              "1       중기이유식 들어가면서 큐브만들고 책 보는중 무튼 엄마들이라면 이유식만들때 참고하는 ...  -1  ...     blog  2020\n",
              "2                 나도 도서관에서 2개의 이유식책을 빌렸는데 쌀미음 다음에 순서가 달랐다   1  ...     blog  2020\n",
              "3       하나는 야채 하나는 철분을 위해 소고기 나는 완분임에도 야채부터 하고 소고기를 들어...   1  ...     blog  2020\n",
              "4                               최대한 지방없는걸로 달라고 했는데 잘 모르겠다   0  ...     blog  2020\n",
              "...                                                   ...  ..  ...      ...   ...\n",
              "148895                     재난카드 정부재난카드 카드 온누리 평택사랑권 다가능해요   1  ...     cafe  2020\n",
              "148896                                  주문방법 참고하셔서 주문 주세요   0  ...     cafe  2020\n",
              "148897  2만원 이상 무료배달해드려요 2만원 미만은 배송료 2천원입니다 주 문 방 법 1 문...   0  ...     cafe  2020\n",
              "148898  2 문자로 동 호수 연락처 보내주시면 주문완료 3 계좌입금 해주시는 분들은 꼭 동 ...   1  ...     cafe  2020\n",
              "148899  전화문의 010 2856 8020 계좌 582 12 053282 농협 장유진 달콤한...   0  ...     cafe  2020\n",
              "\n",
              "[148900 rows x 5 columns]"
            ]
          },
          "metadata": {},
          "execution_count": 56
        }
      ],
      "metadata": {
        "id": "0eahx6NHdlr9",
        "colab": {
          "base_uri": "https://localhost:8080/",
          "height": 525
        },
        "outputId": "b491ce60-9e54-4497-cf76-74106e69f376"
      }
    },
    {
      "cell_type": "code",
      "execution_count": 57,
      "source": [
        "#엑셀로 저장\r\n",
        "total_ex.to_excel(f'pred2_cnnlstm_2020.xlsx',encoding='utf-8')"
      ],
      "outputs": [],
      "metadata": {
        "id": "BEv-v_hJXhbg"
      }
    }
  ]
}