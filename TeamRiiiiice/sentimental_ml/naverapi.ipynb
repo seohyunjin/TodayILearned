{
 "cells": [
  {
   "cell_type": "markdown",
   "source": [
    "# naver api 이용해 감성분석 진행 "
   ],
   "metadata": {}
  },
  {
   "cell_type": "code",
   "execution_count": 6,
   "source": [
    "import warnings\r\n",
    "warnings.filterwarnings('ignore')"
   ],
   "outputs": [],
   "metadata": {}
  },
  {
   "cell_type": "markdown",
   "source": [
    "## 00. 연습"
   ],
   "metadata": {}
  },
  {
   "cell_type": "code",
   "execution_count": 11,
   "source": [
    "import sys\r\n",
    "import requests\r\n",
    "import json\r\n",
    "\r\n",
    "client_id = \" ## \"\r\n",
    "client_secret = \" ## \"\r\n",
    "url=\"https://naveropenapi.apigw.ntruss.com/sentiment-analysis/v1/analyze\"\r\n",
    "\r\n",
    "headers = {\r\n",
    "    \"X-NCP-APIGW-API-KEY-ID\": client_id,\r\n",
    "    \"X-NCP-APIGW-API-KEY\": client_secret,\r\n",
    "    \"Content-Type\": \"application/json\"\r\n",
    "}\r\n",
    "\r\n",
    "content = \"싸늘하다. 가슴에 비수가 날아와 꽂힌다.\"\r\n",
    "data = {\r\n",
    "  \"content\": content\r\n",
    "}\r\n",
    "\r\n",
    "print(json.dumps(data, indent=4, sort_keys=True))\r\n",
    "response = requests.post(url, data=json.dumps(data), headers=headers)\r\n",
    "rescode = response.status_code\r\n",
    "if(rescode == 200):\r\n",
    "    print (response.text)\r\n",
    "else:\r\n",
    "    print(\"Error : \" + response.text)"
   ],
   "outputs": [
    {
     "output_type": "stream",
     "name": "stdout",
     "text": [
      "{\n",
      "    \"content\": \"\\uc2f8\\ub298\\ud558\\ub2e4. \\uac00\\uc2b4\\uc5d0 \\ube44\\uc218\\uac00 \\ub0a0\\uc544\\uc640 \\uaf42\\ud78c\\ub2e4.\"\n",
      "}\n",
      "{\"document\":{\"sentiment\":\"negative\",\"confidence\":{\"negative\":99.3676,\"positive\":0.0077638607,\"neutral\":0.62463653}},\"sentences\":[{\"content\":\"싸늘하다.\",\"offset\":0,\"length\":5,\"sentiment\":\"negative\",\"confidence\":{\"negative\":0.9961359,\"positive\":2.2740211E-4,\"neutral\":0.0036366575},\"highlights\":[{\"offset\":0,\"length\":4}]},{\"content\":\" 가슴에 비수가 날아와 꽂힌다.\",\"offset\":5,\"length\":17,\"sentiment\":\"negative\",\"confidence\":{\"negative\":0.927976,\"positive\":7.042612E-4,\"neutral\":0.07131973},\"highlights\":[{\"offset\":1,\"length\":15}]}]}\n"
     ]
    }
   ],
   "metadata": {}
  },
  {
   "cell_type": "markdown",
   "source": [
    "## 01. 데이터 불러오기"
   ],
   "metadata": {}
  },
  {
   "cell_type": "code",
   "execution_count": 109,
   "source": [
    "import pandas as pd\r\n",
    "data = pd.read_excel('train_data/coupang_naverapi_data.xlsx',header=None)"
   ],
   "outputs": [],
   "metadata": {}
  },
  {
   "cell_type": "code",
   "execution_count": 110,
   "source": [
    "data # 3960개의 데이터"
   ],
   "outputs": [
    {
     "output_type": "execute_result",
     "data": {
      "text/plain": [
       "         0                                                  1\n",
       "0        0                              2021년 2월 15일 최근 도정입니다\n",
       "1        1                          2월 26일 배송 받았고 처음 밥해 먹었습니다\n",
       "2        2                                 평들이 좋길래 믿고 구매해봤습니다\n",
       "3        3                                         만 너무 실망입니다\n",
       "4        4                 우선 쌀알들이 금가있고 쌀눈이 깨져있고 누렇고 난리도 아닙니다\n",
       "...    ...                                                ...\n",
       "3955  3955  둘째 아들이 흰 쌀밥만 고집해서 평소 밥으로 해주던\\n김밥이나 주먹밥, 유부초밥으로...\n",
       "3956  3956                              가격대비 쌀이 괜찮아서 재구매 했습니다\n",
       "3957  3957                                처음 샀을때보다 가격이 좀 올랐네요\n",
       "3958  3958             잡곡을 많이 섞어 밥을 했는데쌀로만 밥을\\n지어도 쌀이 좋은 편입니다\n",
       "3959  3959                               가격대비\\n가격이 좀 오른게 흠이네요\n",
       "\n",
       "[3960 rows x 2 columns]"
      ],
      "text/html": [
       "<div>\n",
       "<style scoped>\n",
       "    .dataframe tbody tr th:only-of-type {\n",
       "        vertical-align: middle;\n",
       "    }\n",
       "\n",
       "    .dataframe tbody tr th {\n",
       "        vertical-align: top;\n",
       "    }\n",
       "\n",
       "    .dataframe thead th {\n",
       "        text-align: right;\n",
       "    }\n",
       "</style>\n",
       "<table border=\"1\" class=\"dataframe\">\n",
       "  <thead>\n",
       "    <tr style=\"text-align: right;\">\n",
       "      <th></th>\n",
       "      <th>0</th>\n",
       "      <th>1</th>\n",
       "    </tr>\n",
       "  </thead>\n",
       "  <tbody>\n",
       "    <tr>\n",
       "      <th>0</th>\n",
       "      <td>0</td>\n",
       "      <td>2021년 2월 15일 최근 도정입니다</td>\n",
       "    </tr>\n",
       "    <tr>\n",
       "      <th>1</th>\n",
       "      <td>1</td>\n",
       "      <td>2월 26일 배송 받았고 처음 밥해 먹었습니다</td>\n",
       "    </tr>\n",
       "    <tr>\n",
       "      <th>2</th>\n",
       "      <td>2</td>\n",
       "      <td>평들이 좋길래 믿고 구매해봤습니다</td>\n",
       "    </tr>\n",
       "    <tr>\n",
       "      <th>3</th>\n",
       "      <td>3</td>\n",
       "      <td>만 너무 실망입니다</td>\n",
       "    </tr>\n",
       "    <tr>\n",
       "      <th>4</th>\n",
       "      <td>4</td>\n",
       "      <td>우선 쌀알들이 금가있고 쌀눈이 깨져있고 누렇고 난리도 아닙니다</td>\n",
       "    </tr>\n",
       "    <tr>\n",
       "      <th>...</th>\n",
       "      <td>...</td>\n",
       "      <td>...</td>\n",
       "    </tr>\n",
       "    <tr>\n",
       "      <th>3955</th>\n",
       "      <td>3955</td>\n",
       "      <td>둘째 아들이 흰 쌀밥만 고집해서 평소 밥으로 해주던\\n김밥이나 주먹밥, 유부초밥으로...</td>\n",
       "    </tr>\n",
       "    <tr>\n",
       "      <th>3956</th>\n",
       "      <td>3956</td>\n",
       "      <td>가격대비 쌀이 괜찮아서 재구매 했습니다</td>\n",
       "    </tr>\n",
       "    <tr>\n",
       "      <th>3957</th>\n",
       "      <td>3957</td>\n",
       "      <td>처음 샀을때보다 가격이 좀 올랐네요</td>\n",
       "    </tr>\n",
       "    <tr>\n",
       "      <th>3958</th>\n",
       "      <td>3958</td>\n",
       "      <td>잡곡을 많이 섞어 밥을 했는데쌀로만 밥을\\n지어도 쌀이 좋은 편입니다</td>\n",
       "    </tr>\n",
       "    <tr>\n",
       "      <th>3959</th>\n",
       "      <td>3959</td>\n",
       "      <td>가격대비\\n가격이 좀 오른게 흠이네요</td>\n",
       "    </tr>\n",
       "  </tbody>\n",
       "</table>\n",
       "<p>3960 rows × 2 columns</p>\n",
       "</div>"
      ]
     },
     "metadata": {},
     "execution_count": 110
    }
   ],
   "metadata": {}
  },
  {
   "cell_type": "markdown",
   "source": [
    "네이버에서 1000자씩 1000번까지만 무료이기 때문에 1000자 이내로 문장을 합쳐서 한번에 분석할 것임 -> \r\n",
    "4문장합치면 가능"
   ],
   "metadata": {}
  },
  {
   "cell_type": "code",
   "execution_count": null,
   "source": [
    "# 문장 합치기\r\n",
    "qqq =''\r\n",
    "for i in range(1, len(data)+1 ):\r\n",
    "    if i %4 == 0 : #4개씩 합치는 것으로 지정함 : 개인이 회당 천자 넘지 않도록 설정\r\n",
    "        ppp = '||-||'\r\n",
    "    else:\r\n",
    "        ppp = ' '\r\n",
    "    qqq = qqq + data[1][i-1] + ppp    \r\n",
    "\r\n",
    "# 4개 단위 분리\r\n",
    "p = qqq.split('||-||')\r\n",
    "len(p) # 991세트 생성"
   ],
   "outputs": [],
   "metadata": {}
  },
  {
   "cell_type": "markdown",
   "source": [
    "## 02. api이용 감성 파악 "
   ],
   "metadata": {}
  },
  {
   "cell_type": "code",
   "execution_count": null,
   "source": [
    "sentence, sentiment, = [],[]\r\n",
    "\r\n",
    "# content 지정\r\n",
    "for n in range(len(p)): # 감성분석할 데이터 세트 \r\n",
    "    content = p[n] # 세트 넣기\r\n",
    "\r\n",
    "    # 딕셔너리 생성\r\n",
    "    data = { \"content\": content }\r\n",
    "\r\n",
    "    # print(json.dumps(data, indent=4, sort_keys=True))\r\n",
    "    result = json.loads(str(requests.post(url, data=json.dumps(data), headers=headers).text))\r\n",
    "\r\n",
    "    for i in range( len(result['sentences']) ):\r\n",
    "          sentence.append( result['sentences'][i]['content'] )\r\n",
    "          sentiment.append( result['sentences'][i]['sentiment'] )\r\n"
   ],
   "outputs": [],
   "metadata": {}
  },
  {
   "cell_type": "code",
   "execution_count": 112,
   "source": [
    "total_result = pd.DataFrame({'문장':sentence, '감성':sentiment })\r\n",
    "total_result"
   ],
   "outputs": [
    {
     "output_type": "execute_result",
     "data": {
      "text/plain": [
       "                                                     문장        감성\n",
       "0                                 2021년 2월 15일 최근 도정입니다   neutral\n",
       "1                             2월 26일 배송 받았고 처음 밥해 먹었습니다   neutral\n",
       "2                                    평들이 좋길래 믿고 구매해봤습니다   neutral\n",
       "3                                            만 너무 실망입니다  negative\n",
       "4                    우선 쌀알들이 금가있고 쌀눈이 깨져있고 누렇고 난리도 아닙니다  negative\n",
       "...                                                 ...       ...\n",
       "4728   둘째 아들이 흰 쌀밥만 고집해서 평소 밥으로 해주던\\n김밥이나 주먹밥, 유부초밥으...   neutral\n",
       "4729                              가격대비 쌀이 괜찮아서 재구매 했습니다  positive\n",
       "4730                                처음 샀을때보다 가격이 좀 올랐네요  negative\n",
       "4731             잡곡을 많이 섞어 밥을 했는데쌀로만 밥을\\n지어도 쌀이 좋은 편입니다  positive\n",
       "4732                               가격대비\\n가격이 좀 오른게 흠이네요  negative\n",
       "\n",
       "[4733 rows x 2 columns]"
      ],
      "text/html": [
       "<div>\n",
       "<style scoped>\n",
       "    .dataframe tbody tr th:only-of-type {\n",
       "        vertical-align: middle;\n",
       "    }\n",
       "\n",
       "    .dataframe tbody tr th {\n",
       "        vertical-align: top;\n",
       "    }\n",
       "\n",
       "    .dataframe thead th {\n",
       "        text-align: right;\n",
       "    }\n",
       "</style>\n",
       "<table border=\"1\" class=\"dataframe\">\n",
       "  <thead>\n",
       "    <tr style=\"text-align: right;\">\n",
       "      <th></th>\n",
       "      <th>문장</th>\n",
       "      <th>감성</th>\n",
       "    </tr>\n",
       "  </thead>\n",
       "  <tbody>\n",
       "    <tr>\n",
       "      <th>0</th>\n",
       "      <td>2021년 2월 15일 최근 도정입니다</td>\n",
       "      <td>neutral</td>\n",
       "    </tr>\n",
       "    <tr>\n",
       "      <th>1</th>\n",
       "      <td>2월 26일 배송 받았고 처음 밥해 먹었습니다</td>\n",
       "      <td>neutral</td>\n",
       "    </tr>\n",
       "    <tr>\n",
       "      <th>2</th>\n",
       "      <td>평들이 좋길래 믿고 구매해봤습니다</td>\n",
       "      <td>neutral</td>\n",
       "    </tr>\n",
       "    <tr>\n",
       "      <th>3</th>\n",
       "      <td>만 너무 실망입니다</td>\n",
       "      <td>negative</td>\n",
       "    </tr>\n",
       "    <tr>\n",
       "      <th>4</th>\n",
       "      <td>우선 쌀알들이 금가있고 쌀눈이 깨져있고 누렇고 난리도 아닙니다</td>\n",
       "      <td>negative</td>\n",
       "    </tr>\n",
       "    <tr>\n",
       "      <th>...</th>\n",
       "      <td>...</td>\n",
       "      <td>...</td>\n",
       "    </tr>\n",
       "    <tr>\n",
       "      <th>4728</th>\n",
       "      <td>둘째 아들이 흰 쌀밥만 고집해서 평소 밥으로 해주던\\n김밥이나 주먹밥, 유부초밥으...</td>\n",
       "      <td>neutral</td>\n",
       "    </tr>\n",
       "    <tr>\n",
       "      <th>4729</th>\n",
       "      <td>가격대비 쌀이 괜찮아서 재구매 했습니다</td>\n",
       "      <td>positive</td>\n",
       "    </tr>\n",
       "    <tr>\n",
       "      <th>4730</th>\n",
       "      <td>처음 샀을때보다 가격이 좀 올랐네요</td>\n",
       "      <td>negative</td>\n",
       "    </tr>\n",
       "    <tr>\n",
       "      <th>4731</th>\n",
       "      <td>잡곡을 많이 섞어 밥을 했는데쌀로만 밥을\\n지어도 쌀이 좋은 편입니다</td>\n",
       "      <td>positive</td>\n",
       "    </tr>\n",
       "    <tr>\n",
       "      <th>4732</th>\n",
       "      <td>가격대비\\n가격이 좀 오른게 흠이네요</td>\n",
       "      <td>negative</td>\n",
       "    </tr>\n",
       "  </tbody>\n",
       "</table>\n",
       "<p>4733 rows × 2 columns</p>\n",
       "</div>"
      ]
     },
     "metadata": {},
     "execution_count": 112
    }
   ],
   "metadata": {}
  },
  {
   "cell_type": "code",
   "execution_count": 119,
   "source": [
    "# 엑셀로 저장\r\n",
    "total_result.to_excel('naver_senti_sentence_1part.xlsx',encoding='utf-8')"
   ],
   "outputs": [],
   "metadata": {}
  }
 ],
 "metadata": {
  "orig_nbformat": 4,
  "language_info": {
   "name": "python",
   "version": "3.8.5",
   "mimetype": "text/x-python",
   "codemirror_mode": {
    "name": "ipython",
    "version": 3
   },
   "pygments_lexer": "ipython3",
   "nbconvert_exporter": "python",
   "file_extension": ".py"
  },
  "kernelspec": {
   "name": "python3",
   "display_name": "Python 3.8.5 64-bit ('base': conda)"
  },
  "interpreter": {
   "hash": "8c1eae21719a0790335dcb83aad72b63b602cfe5cdb2bda0f60bc11d4f154e4b"
  }
 },
 "nbformat": 4,
 "nbformat_minor": 2
}