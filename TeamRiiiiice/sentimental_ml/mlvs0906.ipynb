{
  "nbformat": 4,
  "nbformat_minor": 2,
  "metadata": {
    "orig_nbformat": 4,
    "language_info": {
      "name": "python",
      "version": "3.8.5",
      "mimetype": "text/x-python",
      "codemirror_mode": {
        "name": "ipython",
        "version": 3
      },
      "pygments_lexer": "ipython3",
      "nbconvert_exporter": "python",
      "file_extension": ".py"
    },
    "kernelspec": {
      "name": "python3",
      "display_name": "Python 3.8.5 64-bit ('base': conda)"
    },
    "interpreter": {
      "hash": "8c1eae21719a0790335dcb83aad72b63b602cfe5cdb2bda0f60bc11d4f154e4b"
    },
    "colab": {
      "name": "mlvs0906.ipynb",
      "provenance": []
    }
  },
  "cells": [
    {
      "cell_type": "markdown",
      "source": [
        "앞서 진행한 lstm 모델을 이용한 감성분석에서 pred할 sns데이터에 대한 감성분석 정확도가 떨어짐을 확인하였고, 이는 학습데이터의 문제로 확인하였다.\r\n",
        "\r\n",
        "따라서 학습데이터를 naver api를 이용해 감성 파악하고 알맞게 분리됨을 확인한 coupang 데이터로만 사용하여 다시 진행한다."
      ],
      "metadata": {}
    },
    {
      "cell_type": "markdown",
      "source": [
        "# 머신러닝 LSTM모델을 이용한 감성분석 진행 02"
      ],
      "metadata": {}
    },
    {
      "cell_type": "markdown",
      "source": [
        "train : only coupang만!\r\n",
        "\r\n",
        "test: 직접 감성파악한 문장 300 문장 (다수결로 확정) \r\n",
        "\r\n",
        "pred: 2015, 2020 blog cafe데이터"
      ],
      "metadata": {
        "id": "PjgZO9QqmUWD"
      }
    },
    {
      "cell_type": "markdown",
      "source": [
        "# colab 환경에서 작성\r\n",
        "- konlpy intsall"
      ],
      "metadata": {
        "id": "ycRaM-E7hlbu"
      }
    },
    {
      "cell_type": "code",
      "execution_count": 4,
      "source": [
        "!apt-get update \r\n",
        "!apt-get install g++ openjdk-8-jdk python-dev python3-dev \r\n",
        "!pip3 install JPype1-py3 \r\n",
        "!pip3 install konlpy \r\n",
        "!JAVA_HOME=\"C:\\Program Files\\Java\\jdk-13.0.2\""
      ],
      "outputs": [
        {
          "output_type": "stream",
          "name": "stdout",
          "text": [
            "\r0% [Working]\r            \rIgn:1 https://developer.download.nvidia.com/compute/cuda/repos/ubuntu1804/x86_64  InRelease\n",
            "\r0% [Connecting to archive.ubuntu.com] [Waiting for headers] [Connected to cloud\r                                                                               \rHit:2 https://cloud.r-project.org/bin/linux/ubuntu bionic-cran40/ InRelease\n",
            "\r0% [Connecting to archive.ubuntu.com] [Waiting for headers] [Connecting to ppa.\r0% [2 InRelease gpgv 3,626 B] [Connecting to archive.ubuntu.com] [Waiting for h\r                                                                               \rIgn:3 https://developer.download.nvidia.com/compute/machine-learning/repos/ubuntu1804/x86_64  InRelease\n",
            "\r0% [2 InRelease gpgv 3,626 B] [Connecting to archive.ubuntu.com] [Waiting for h\r                                                                               \rHit:4 https://developer.download.nvidia.com/compute/cuda/repos/ubuntu1804/x86_64  Release\n",
            "\r0% [2 InRelease gpgv 3,626 B] [Connecting to archive.ubuntu.com] [Waiting for h\r                                                                               \rGet:5 http://security.ubuntu.com/ubuntu bionic-security InRelease [88.7 kB]\n",
            "Hit:6 https://developer.download.nvidia.com/compute/machine-learning/repos/ubuntu1804/x86_64  Release\n",
            "Hit:7 http://ppa.launchpad.net/c2d4u.team/c2d4u4.0+/ubuntu bionic InRelease\n",
            "Hit:8 http://archive.ubuntu.com/ubuntu bionic InRelease\n",
            "Get:10 http://archive.ubuntu.com/ubuntu bionic-updates InRelease [88.7 kB]\n",
            "Hit:11 http://ppa.launchpad.net/cran/libgit2/ubuntu bionic InRelease\n",
            "Hit:13 http://ppa.launchpad.net/deadsnakes/ppa/ubuntu bionic InRelease\n",
            "Get:14 http://archive.ubuntu.com/ubuntu bionic-backports InRelease [74.6 kB]\n",
            "Hit:15 http://ppa.launchpad.net/graphics-drivers/ppa/ubuntu bionic InRelease\n",
            "Fetched 252 kB in 3s (99.9 kB/s)\n",
            "Reading package lists... Done\n",
            "Reading package lists... Done\n",
            "Building dependency tree       \n",
            "Reading state information... Done\n",
            "python-dev is already the newest version (2.7.15~rc1-1).\n",
            "g++ is already the newest version (4:7.4.0-1ubuntu2.3).\n",
            "python3-dev is already the newest version (3.6.7-1~18.04).\n",
            "openjdk-8-jdk is already the newest version (8u292-b10-0ubuntu1~18.04).\n",
            "0 upgraded, 0 newly installed, 0 to remove and 43 not upgraded.\n",
            "Requirement already satisfied: JPype1-py3 in /usr/local/lib/python3.7/dist-packages (0.5.5.4)\n",
            "Requirement already satisfied: konlpy in /usr/local/lib/python3.7/dist-packages (0.5.2)\n",
            "Requirement already satisfied: lxml>=4.1.0 in /usr/local/lib/python3.7/dist-packages (from konlpy) (4.2.6)\n",
            "Requirement already satisfied: numpy>=1.6 in /usr/local/lib/python3.7/dist-packages (from konlpy) (1.19.5)\n",
            "Requirement already satisfied: JPype1>=0.7.0 in /usr/local/lib/python3.7/dist-packages (from konlpy) (1.3.0)\n",
            "Requirement already satisfied: tweepy>=3.7.0 in /usr/local/lib/python3.7/dist-packages (from konlpy) (3.10.0)\n",
            "Requirement already satisfied: beautifulsoup4==4.6.0 in /usr/local/lib/python3.7/dist-packages (from konlpy) (4.6.0)\n",
            "Requirement already satisfied: colorama in /usr/local/lib/python3.7/dist-packages (from konlpy) (0.4.4)\n",
            "Requirement already satisfied: typing-extensions in /usr/local/lib/python3.7/dist-packages (from JPype1>=0.7.0->konlpy) (3.7.4.3)\n",
            "Requirement already satisfied: requests[socks]>=2.11.1 in /usr/local/lib/python3.7/dist-packages (from tweepy>=3.7.0->konlpy) (2.23.0)\n",
            "Requirement already satisfied: six>=1.10.0 in /usr/local/lib/python3.7/dist-packages (from tweepy>=3.7.0->konlpy) (1.15.0)\n",
            "Requirement already satisfied: requests-oauthlib>=0.7.0 in /usr/local/lib/python3.7/dist-packages (from tweepy>=3.7.0->konlpy) (1.3.0)\n",
            "Requirement already satisfied: oauthlib>=3.0.0 in /usr/local/lib/python3.7/dist-packages (from requests-oauthlib>=0.7.0->tweepy>=3.7.0->konlpy) (3.1.1)\n",
            "Requirement already satisfied: urllib3!=1.25.0,!=1.25.1,<1.26,>=1.21.1 in /usr/local/lib/python3.7/dist-packages (from requests[socks]>=2.11.1->tweepy>=3.7.0->konlpy) (1.24.3)\n",
            "Requirement already satisfied: idna<3,>=2.5 in /usr/local/lib/python3.7/dist-packages (from requests[socks]>=2.11.1->tweepy>=3.7.0->konlpy) (2.10)\n",
            "Requirement already satisfied: certifi>=2017.4.17 in /usr/local/lib/python3.7/dist-packages (from requests[socks]>=2.11.1->tweepy>=3.7.0->konlpy) (2021.5.30)\n",
            "Requirement already satisfied: chardet<4,>=3.0.2 in /usr/local/lib/python3.7/dist-packages (from requests[socks]>=2.11.1->tweepy>=3.7.0->konlpy) (3.0.4)\n",
            "Requirement already satisfied: PySocks!=1.5.7,>=1.5.6 in /usr/local/lib/python3.7/dist-packages (from requests[socks]>=2.11.1->tweepy>=3.7.0->konlpy) (1.7.1)\n"
          ]
        }
      ],
      "metadata": {
        "colab": {
          "base_uri": "https://localhost:8080/"
        },
        "id": "BRo8hhwMhn8C",
        "outputId": "d44badba-0aae-4ab8-af02-80e6ede10f1a"
      }
    },
    {
      "cell_type": "markdown",
      "source": [
        "# 0906 머신러닝 LSTM 모델"
      ],
      "metadata": {
        "id": "3jGlodFOhj6C"
      }
    },
    {
      "cell_type": "markdown",
      "source": [
        "## 01. 데이터 불러오기 확인"
      ],
      "metadata": {
        "id": "-65xGBTwhj6F"
      }
    },
    {
      "cell_type": "markdown",
      "source": [
        "### - train data 2 : 쿠팡"
      ],
      "metadata": {
        "id": "95_8JzmNhj6M"
      }
    },
    {
      "cell_type": "code",
      "execution_count": 6,
      "source": [
        "import pandas as pd\r\n",
        "train_df_2 = pd.read_excel('train_data/coupang_naver_total/total_senti_coupang.xlsx') # 데이터 불러오기\r\n",
        "print( len(train_df_2) )\r\n",
        "train_df_2[0:3] # 확인"
      ],
      "outputs": [
        {
          "output_type": "stream",
          "name": "stdout",
          "text": [
            "15730\n"
          ]
        },
        {
          "output_type": "execute_result",
          "data": {
            "text/html": [
              "<div>\n",
              "<style scoped>\n",
              "    .dataframe tbody tr th:only-of-type {\n",
              "        vertical-align: middle;\n",
              "    }\n",
              "\n",
              "    .dataframe tbody tr th {\n",
              "        vertical-align: top;\n",
              "    }\n",
              "\n",
              "    .dataframe thead th {\n",
              "        text-align: right;\n",
              "    }\n",
              "</style>\n",
              "<table border=\"1\" class=\"dataframe\">\n",
              "  <thead>\n",
              "    <tr style=\"text-align: right;\">\n",
              "      <th></th>\n",
              "      <th>Unnamed: 0</th>\n",
              "      <th>train</th>\n",
              "      <th>api</th>\n",
              "      <th>score</th>\n",
              "    </tr>\n",
              "  </thead>\n",
              "  <tbody>\n",
              "    <tr>\n",
              "      <th>0</th>\n",
              "      <td>0</td>\n",
              "      <td>밥맛하면\\n곰곰쌀이죠</td>\n",
              "      <td>neutral</td>\n",
              "      <td>0</td>\n",
              "    </tr>\n",
              "    <tr>\n",
              "      <th>1</th>\n",
              "      <td>1</td>\n",
              "      <td>비록 다이어트에 실패를 가져다 준\\n곰곰쌀이지만\\n맛있는 걸 오또케요\\n진짜 최고입니다</td>\n",
              "      <td>positive</td>\n",
              "      <td>1</td>\n",
              "    </tr>\n",
              "    <tr>\n",
              "      <th>2</th>\n",
              "      <td>2</td>\n",
              "      <td>♡지난번 구입해서 먹고 다 먹어서\\n또 구입했습니다</td>\n",
              "      <td>neutral</td>\n",
              "      <td>0</td>\n",
              "    </tr>\n",
              "  </tbody>\n",
              "</table>\n",
              "</div>"
            ],
            "text/plain": [
              "   Unnamed: 0  ... score\n",
              "0           0  ...     0\n",
              "1           1  ...     1\n",
              "2           2  ...     0\n",
              "\n",
              "[3 rows x 4 columns]"
            ]
          },
          "metadata": {},
          "execution_count": 6
        }
      ],
      "metadata": {
        "colab": {
          "base_uri": "https://localhost:8080/",
          "height": 196
        },
        "id": "ul7KL_Qphj6O",
        "outputId": "6b19e2fb-eec9-4ce9-b48d-4d5722ce843d"
      }
    },
    {
      "cell_type": "code",
      "execution_count": 7,
      "source": [
        "len(train_df_2)"
      ],
      "outputs": [
        {
          "output_type": "execute_result",
          "data": {
            "text/plain": [
              "15730"
            ]
          },
          "metadata": {},
          "execution_count": 7
        }
      ],
      "metadata": {
        "colab": {
          "base_uri": "https://localhost:8080/"
        },
        "id": "n2Xz22Sbhj6P",
        "outputId": "664bf814-8e46-4ce9-f7ce-c309343978ff"
      }
    },
    {
      "cell_type": "code",
      "execution_count": 8,
      "source": [
        "# train data의 긍부정 비율 확인 : 긍정1 / 중립0 / 부정 -1\r\n",
        "%matplotlib inline \r\n",
        "import matplotlib.pyplot as plt\r\n",
        "\r\n",
        "train_df_2['score'].value_counts().plot(kind='bar')"
      ],
      "outputs": [
        {
          "output_type": "execute_result",
          "data": {
            "text/plain": [
              "<matplotlib.axes._subplots.AxesSubplot at 0x7f942da40150>"
            ]
          },
          "metadata": {},
          "execution_count": 8
        },
        {
          "output_type": "display_data",
          "data": {
            "image/png": "[encoded data removed]",
            "text/plain": [
              "<Figure size 432x288 with 1 Axes>"
            ]
          },
          "metadata": {
            "needs_background": "light"
          }
        }
      ],
      "metadata": {
        "colab": {
          "base_uri": "https://localhost:8080/",
          "height": 284
        },
        "id": "sbtEaI7Vhj6Q",
        "outputId": "75217737-b18b-4a2e-abc4-5099ab98b422"
      }
    },
    {
      "cell_type": "markdown",
      "source": [
        "### - pred : 2020 카페"
      ],
      "metadata": {
        "id": "NMJf9mqkhj6R"
      }
    },
    {
      "cell_type": "code",
      "execution_count": 17,
      "source": [
        "# Test 데이터 불러오기\r\n",
        "pred_df = pd.read_excel('test_data/2020cafe_clean.xlsx') # header있음 # 전처리 완료된 데이터 문서단위임"
      ],
      "outputs": [],
      "metadata": {
        "id": "tGLUGtdwhj6R"
      }
    },
    {
      "cell_type": "code",
      "execution_count": 13,
      "source": [
        "# 데이터 확인\r\n",
        "pred_df['content']"
      ],
      "outputs": [
        {
          "output_type": "execute_result",
          "data": {
            "text/plain": [
              "0       초기이유식 2단계 소고기미음 차례  나는 튼이이유식 책을보고 만들고 있는데  초기는...\n",
              "1         2020년 1월호 628호  소식지 내용입니다||-||||-||||-|| 건강한...\n",
              "2        누룩  쌀  효모  쌀막걸리 이번 막걸리 만들기에서는 쌀의 양을 2  에서 3  ...\n",
              "3       안녕하세요||-|| 해피밍입니다||-||||-||||-||  제가 며칠전 유튜브를 ...\n",
              "4       아기떡뻥 지후쌀과자 이것만 먹어요||-|| 안녕하세요||-||  글뤽이에요||-||...\n",
              "                              ...                        \n",
              "7789    피부트러블이나 장트러블이 있는 사람들은 글루텐에 신경쓰기 마련 둘다 갖고 있는 나도...\n",
              "7790    집콕생활은 쌀 소비를 촉진시킵니다||-|| 하핫  덕분에 한달넘게 먹을 수 있는 쌀...\n",
              "7791     201204 웨딩촬영 후 잠시 들렀던 본가에 핸드폰을 두고온 똥멍청이   주말내내...\n",
              "7792    코로나 확산세가 가속화 되면서 요가 못간지 어언 1개월    확진자는 아니지만 확찐...\n",
              "7793    항상 쿠팡프레시를 이용해서 장을 보다가 먹고 싶은 게 생겨서 마켓컬리로 주문  배송...\n",
              "Name: content, Length: 7794, dtype: object"
            ]
          },
          "metadata": {},
          "execution_count": 13
        }
      ],
      "metadata": {
        "colab": {
          "base_uri": "https://localhost:8080/"
        },
        "id": "Y-WveRdQhj6S",
        "outputId": "97deb575-3282-4b0c-952f-89fe99fc37c4"
      }
    },
    {
      "cell_type": "markdown",
      "source": [
        "## 02. 데이터 전처리"
      ],
      "metadata": {
        "id": "OOvhmfAihj6T"
      }
    },
    {
      "cell_type": "markdown",
      "source": [
        "###  - train data"
      ],
      "metadata": {
        "id": "-gUXZ0Wyhj6T"
      }
    },
    {
      "cell_type": "code",
      "execution_count": 14,
      "source": [
        "# train 2 확인 : 쿠팡 데이터\r\n",
        "\r\n",
        "# text 컬럼이 non-null인 샘플만 train_df에 다시 저장\r\n",
        "train_df_2 = train_df_2[train_df_2['train'].notnull()]\r\n",
        "\r\n",
        "# 수정된 train_df의 정보를 다시 확인\r\n",
        "print(train_df_2.info())\r\n",
        "\r\n",
        "# 분류 클래스의 구성을 확인\r\n",
        "print(train_df_2['score'].value_counts())"
      ],
      "outputs": [
        {
          "output_type": "stream",
          "name": "stdout",
          "text": [
            "<class 'pandas.core.frame.DataFrame'>\n",
            "Int64Index: 15730 entries, 0 to 15729\n",
            "Data columns (total 4 columns):\n",
            " #   Column      Non-Null Count  Dtype \n",
            "---  ------      --------------  ----- \n",
            " 0   Unnamed: 0  15730 non-null  int64 \n",
            " 1   train       15730 non-null  object\n",
            " 2   api         15730 non-null  object\n",
            " 3   score       15730 non-null  int64 \n",
            "dtypes: int64(2), object(2)\n",
            "memory usage: 614.5+ KB\n",
            "None\n",
            " 1    7771\n",
            " 0    5035\n",
            "-1    2924\n",
            "Name: score, dtype: int64\n"
          ]
        }
      ],
      "metadata": {
        "colab": {
          "base_uri": "https://localhost:8080/"
        },
        "id": "wToq87Q7hj6U",
        "outputId": "89305fc3-ce05-4a54-dfc4-163ad4958260"
      }
    },
    {
      "cell_type": "markdown",
      "source": [
        "### - pred set 전처리"
      ],
      "metadata": {
        "id": "jFab_wtfhj6Y"
      }
    },
    {
      "cell_type": "code",
      "execution_count": 18,
      "source": [
        "# pred에 str이 아닌게 존재하네! nan임을 확인함 # 제거하고 데이터 다시 가져옴\r\n",
        "for i in range(len(pred_df)):\r\n",
        "    if type(pred_df['content_clean'][i]) != str :\r\n",
        "        print(i)"
      ],
      "outputs": [],
      "metadata": {
        "id": "8KJybQOEhj6Y"
      }
    },
    {
      "cell_type": "code",
      "execution_count": 19,
      "source": [
        "# 댓글이 있는 항목만 담기(빈 댓글 삭제)\r\n",
        "# text 컬럼이 non-null인 샘플만 train_df에 다시 저장\r\n",
        "pred_df = pred_df[pred_df['content_clean'].notnull()]\r\n",
        "\r\n",
        "# 수정된 train_df의 정보를 다시 확인\r\n",
        "print(pred_df.info())\r\n",
        "\r\n",
        "# null값 개수 확인\r\n",
        "print(pred_df['content_clean'].isnull().sum())"
      ],
      "outputs": [
        {
          "output_type": "stream",
          "name": "stdout",
          "text": [
            "<class 'pandas.core.frame.DataFrame'>\n",
            "Int64Index: 10005 entries, 0 to 10004\n",
            "Data columns (total 8 columns):\n",
            " #   Column         Non-Null Count  Dtype \n",
            "---  ------         --------------  ----- \n",
            " 0   Unnamed: 0     10005 non-null  int64 \n",
            " 1   Unnamed: 0.1   10005 non-null  int64 \n",
            " 2   title          10005 non-null  object\n",
            " 3   nickname       10005 non-null  object\n",
            " 4   date           10005 non-null  object\n",
            " 5   content        10005 non-null  object\n",
            " 6   comments       9665 non-null   object\n",
            " 7   content_clean  10005 non-null  object\n",
            "dtypes: int64(2), object(6)\n",
            "memory usage: 703.5+ KB\n",
            "None\n",
            "0\n"
          ]
        }
      ],
      "metadata": {
        "colab": {
          "base_uri": "https://localhost:8080/"
        },
        "id": "vIm0_kL9hj6Y",
        "outputId": "946a06b1-079a-45ea-d44d-9cf9d5273289"
      }
    },
    {
      "cell_type": "markdown",
      "source": [
        "### - pred: 문서 -> 문장\n",
        "pred_df['content_clean'][0] # 문서단위로 존재함 -> 문장단위로 바꿈"
      ],
      "metadata": {
        "id": "kQouLqwnhj6Z"
      }
    },
    {
      "cell_type": "code",
      "execution_count": 20,
      "source": [
        "# contents str로 처리\r\n",
        "q= \" \"\r\n",
        "for i in range(len(pred_df)):\r\n",
        "    try:\r\n",
        "     q += pred_df['content_clean'][i]\r\n",
        "    except:\r\n",
        "     pass"
      ],
      "outputs": [],
      "metadata": {
        "id": "y0bkRpA1hj6Z"
      }
    },
    {
      "cell_type": "code",
      "execution_count": 21,
      "source": [
        "# 문장어미 구분자 대치\r\n",
        "q = q.replace('네요','네요||-||').replace('하죠','하죠||-||').replace('데요','데요||-||').replace('이네요','이네요||-||')\r\n",
        "q = q.replace('네요.','네요||-||').replace('되죠','되죠||-||').replace('대요','대요||-||').replace('이요','이요||-||')\r\n",
        "q = q.replace('돼요.','돼요||-||').replace('되요','되요||-||').replace('다닙니다','다닙니다||-||').replace('입니다','입니다||-||')\r\n",
        "q = q.replace('입니다.','입니다||-||').replace('니다','니다||-||').replace('중입니다','중입니다||-||').replace('입니다','입니다||-||')\r\n",
        "q = q.replace('나요.','나요||-||').replace('어요','어요||-||').replace('까요','까요||-||').replace('에요','에요||-||')\r\n",
        "q = q.replace('이에요','이에요||-||').replace('봐요','봐요||-||').replace('아요.','아요||-||').replace('와요','와요||-||')\r\n",
        "q = q.replace('해요','해요||-||').replace('려요','려요||-||').replace('구요','구요||-||').replace('고요','고요||-||')\r\n",
        "q = q.replace('죠','죠||-||').replace(':)','').replace('더라','더라||-||').replace('게요','게요||-||').replace('께요','께요||-||').replace('세요','세요||-||').replace('든요','든요||-||').replace('예요','예요||-||').replace('서요','서요||-||')\r\n",
        "q = q.replace('않았다','않았다||-||').replace('었다','었다||-||').replace('있다','있다||-||').replace('이다','이다||-||').replace('싶다','싶다||-||').replace('않다','않다||-||').replace('되었다','되었다||-||').replace('아니다','아니다||-||')\r\n",
        "q = q.replace('하자','하자||-||').replace('는다','는다||-||').replace('했다','했다||-||').replace('한다','한다||-||').replace('혔다','혔다||-||').replace('난다','난다||-||').replace('같아요','같아요||-||').replace('되었어','되었어||-||').replace('했어','했어||-||').replace('했지','했지||-||').replace('었어','었어||-||')\r\n",
        "\r\n",
        "#특수문자 제거\r\n",
        "q = q.replace('.','').replace('?','').replace('~','').replace('!','').replace('^','').replace('#','').replace('★','').replace('ㅋ','').replace('ㅜ','').replace('ㅠ','').replace('ㅎ','').replace('ㅏ','').replace('ㅡ','')\r\n",
        "\r\n",
        "# 구분자로 문장 분리\r\n",
        "p = q.split('||-||')\r\n",
        "print ( '분리된 문장 수 : ',len(p), '// 이전 총 문자수 : ',len(q) ) \r\n",
        "\r\n",
        "# 각 문장을 데이터 프레임으로 저장\r\n",
        "sentence_Data = pd.DataFrame({'content': p})\r\n",
        "print ( len(sentence_Data) ) \r\n",
        "sentence_Data # pred할 셋 문장단위 설정 완"
      ],
      "outputs": [
        {
          "output_type": "stream",
          "name": "stdout",
          "text": [
            "분리된 문장 수 :  48332 // 이전 총 문자수 :  2010402\n",
            "48332\n"
          ]
        },
        {
          "output_type": "execute_result",
          "data": {
            "text/html": [
              "<div>\n",
              "<style scoped>\n",
              "    .dataframe tbody tr th:only-of-type {\n",
              "        vertical-align: middle;\n",
              "    }\n",
              "\n",
              "    .dataframe tbody tr th {\n",
              "        vertical-align: top;\n",
              "    }\n",
              "\n",
              "    .dataframe thead th {\n",
              "        text-align: right;\n",
              "    }\n",
              "</style>\n",
              "<table border=\"1\" class=\"dataframe\">\n",
              "  <thead>\n",
              "    <tr style=\"text-align: right;\">\n",
              "      <th></th>\n",
              "      <th>content</th>\n",
              "    </tr>\n",
              "  </thead>\n",
              "  <tbody>\n",
              "    <tr>\n",
              "      <th>0</th>\n",
              "      <td>쌀구움과자  장여진  채미희 지음경향미디어메마른 쌀베이킹계의...</td>\n",
              "    </tr>\n",
              "    <tr>\n",
              "      <th>1</th>\n",
              "      <td>쌀베이킹을 하면서밀베이킹과는 조금다른 결과물에당황할 때도 종종 있거든요</td>\n",
              "    </tr>\n",
              "    <tr>\n",
              "      <th>2</th>\n",
              "      <td>클래스를 다녀야하나 고민도해봤는데시간이 없는 저로썬 집에서 끙끙 앓고 있었는데너...</td>\n",
              "    </tr>\n",
              "    <tr>\n",
              "      <th>3</th>\n",
              "      <td>프롤로그 쌀베이킹을 시작한 이유에 대해 적혀져있어요</td>\n",
              "    </tr>\n",
              "    <tr>\n",
              "      <th>4</th>\n",
              "      <td>떡으로 시작해서 베이킹까지  여러재료를 활용하고 다양한 가루를사용하셨다고 해요</td>\n",
              "    </tr>\n",
              "    <tr>\n",
              "      <th>...</th>\n",
              "      <td>...</td>\n",
              "    </tr>\n",
              "    <tr>\n",
              "      <th>48327</th>\n",
              "      <td>...</td>\n",
              "    </tr>\n",
              "    <tr>\n",
              "      <th>48328</th>\n",
              "      <td>윤기 좔좔 맛있는 평택쌀   쌀 추청 20    58 000원  54 000...</td>\n",
              "    </tr>\n",
              "    <tr>\n",
              "      <th>48329</th>\n",
              "      <td>재난기금카드 돌봄쿠폰 카드결제 대면결제 계좌이체 온누리상품권  현금영수증 ...</td>\n",
              "    </tr>\n",
              "    <tr>\n",
              "      <th>48330</th>\n",
              "      <td>전화문의 010 2856 8020 계좌  582 12 053282 농협 장유...</td>\n",
              "    </tr>\n",
              "    <tr>\n",
              "      <th>48331</th>\n",
              "      <td></td>\n",
              "    </tr>\n",
              "  </tbody>\n",
              "</table>\n",
              "<p>48332 rows × 1 columns</p>\n",
              "</div>"
            ],
            "text/plain": [
              "                                                 content\n",
              "0                   쌀구움과자  장여진  채미희 지음경향미디어메마른 쌀베이킹계의...\n",
              "1                쌀베이킹을 하면서밀베이킹과는 조금다른 결과물에당황할 때도 종종 있거든요\n",
              "2        클래스를 다녀야하나 고민도해봤는데시간이 없는 저로썬 집에서 끙끙 앓고 있었는데너...\n",
              "3                           프롤로그 쌀베이킹을 시작한 이유에 대해 적혀져있어요\n",
              "4            떡으로 시작해서 베이킹까지  여러재료를 활용하고 다양한 가루를사용하셨다고 해요\n",
              "...                                                  ...\n",
              "48327                                                ...\n",
              "48328      윤기 좔좔 맛있는 평택쌀   쌀 추청 20    58 000원  54 000...\n",
              "48329       재난기금카드 돌봄쿠폰 카드결제 대면결제 계좌이체 온누리상품권  현금영수증 ...\n",
              "48330      전화문의 010 2856 8020 계좌  582 12 053282 농협 장유...\n",
              "48331                                                   \n",
              "\n",
              "[48332 rows x 1 columns]"
            ]
          },
          "metadata": {},
          "execution_count": 21
        }
      ],
      "metadata": {
        "colab": {
          "base_uri": "https://localhost:8080/",
          "height": 460
        },
        "id": "S614YkCehj6a",
        "outputId": "311fccf8-35d9-4452-9bf7-16d0e332e200"
      }
    },
    {
      "cell_type": "markdown",
      "source": [
        "### - 문장단위 데이터 전처리"
      ],
      "metadata": {
        "id": "qTQwSi5Ohj6b"
      }
    },
    {
      "cell_type": "code",
      "execution_count": 22,
      "source": [
        "# 2번 이상 중복인 데이터 확인\r\n",
        "sentence = sentence_Data['content'].value_counts()\r\n",
        "idx_sentence=sentence[sentence >= 2].index.tolist()\r\n",
        "len(idx_sentence), idx_sentence"
      ],
      "outputs": [
        {
          "output_type": "execute_result",
          "data": {
            "text/plain": [
              "(684,\n",
              " ['',\n",
              "  '요',\n",
              "  '구요',\n",
              "  '고요',\n",
              "  '     공유소스 코드                                   주소복사     소스544   306740   416936   5261280   720복사      미지원으로        코드 퍼가기 기능은 더 이상 지원되지않습니다',\n",
              "  '360       도움말            멀티트랙의 트랙별 영상은 우측 관련영상에서 볼 수 있습니다',\n",
              "  ' 5분 이상 소요될 수 있으며  영상의 길이에 따라 소요 시간은 달라집니다',\n",
              "  ' 안녕하세요',\n",
              "  '  안녕하세요',\n",
              "  '  감사합니다',\n",
              "  '안녕하세요',\n",
              "  ' 감사합니다',\n",
              "  '   안녕하세요',\n",
              "  '네요',\n",
              "  '   감사합니다',\n",
              "  '  복지 질문 금지   일상 속 이야기들을 작성하는 게시판 입니다',\n",
              "  '고 하네요',\n",
              "  '고 합니다',\n",
              "  '당신의 한마디가 카페를 만들어갑니다',\n",
              "  ' 질문자 답변자 간의 기본매너를 지켜주세요',\n",
              "  ' 질문의 정보가 부정확할 경우  제한된 답변을 받을 수 있습니다',\n",
              "  '    안녕하세요',\n",
              "  '고 해요',\n",
              "  '고 한다',\n",
              "  '고 하더라',\n",
              "  '  추천은 저에게 힘이 됩니다',\n",
              "  '  백진주는 작년 출시후 올해 2월에 전량 판매 마감을 했습니다',\n",
              "  '                                                         2            3                0   0                   0                    0                                                                               0 0 도움말라이센스                        4 17 48                  2020 2 12                 동영상 인코딩 중입니다',\n",
              "  '  강화도에서 백진주를 작년 처음 재배했고   올해는 작년대비 약 두배정도 판매량이 늘어날거 같습니다',\n",
              "  '  올해는 거의 3배정도 재배 면적을 늘렸는데   작황이 예년에 비해 3 40 정도 떨어졌습니다',\n",
              "  '    수확후 바로 건조장으로 이동해서 건조를 하고요',\n",
              "  '  문의는 댓글이나 문자 부탁합니다',\n",
              "  '  작년 수확한 백진주는 전량 판매까지 약 5개월정도 걸렸는데   올해는 7 8개월정도 판매가 가능할거 같습니다',\n",
              "  '감사합니다',\n",
              "  '   고슬 고슬 알알이 살아 있는 찰진 밥을 드실수 있습니다',\n",
              "  '    백진주로 밥을 해봤습니다',\n",
              "  '  5  나눔 물품 배송에 필요한 개인정보는 당첨자에 한해서만 주고받을 수 있으며  나눔글  나눔 댓글 내 연락처를 비롯한 개인정보 기재는 작성 불가합니다',\n",
              "  '  3  원활한 나눔 진행을 위해 나눔 물품  나눔방법  당첨자 선정 기준  당첨자 발표 날짜를 기재해주시기 바랍니다',\n",
              "  '  2  나눔 규정 위반 게시글 작성시 중고나라 나눔 규정에 따라 제재될 수 있으며  규정 위반 게시글은 무통보 삭제 처리할 수 있습니다',\n",
              "  '  6  완료된 나눔글  당첨자 발표글은 1년 이내 삭제 및 수정이 불가합니다',\n",
              "  '   밥을 하실땐   물을 다소 작게 잡으세요',\n",
              "  '  4  나눔 신청은 나눔글의 댓글로만 신청받을 수 있으며  당첨자 발표는 해당 나눔글에 대한 답글로 작성해주셔야 합니다',\n",
              "  '  자세한 사항은 나눔 규정 참고 바랍니다',\n",
              "  '죠',\n",
              "  '  맛있기로 유명한 백진주쌀이라 건조후 밥을 해보았더니 역시 찰기고 윤기가 좔좔 흐르는 너무 맛있는 쌀입니다',\n",
              "  ' 저녁 8시 30분 전까지 찾아가심 됩니다',\n",
              "  '  올해는 긴장마와 태풍으로 벼 작황이 좋지 못합니다',\n",
              "  '    감사합니다',\n",
              "  '  백진주쌀 농라마트에서 판매중입니다',\n",
              "  '  농라마트에 오셔서 주문하시면 됩니다',\n",
              "  '     안녕하세요',\n",
              "  '                                                        2            3                0   0                   0                    0                                                                               0 0 도움말라이센스                        4 17 48                  2020 2 12                 동영상 인코딩 중입니다',\n",
              "  ' 특히 여성분들에게 좋은 게 자두랍니다',\n",
              "  '  아래 링크 눌러 주세요',\n",
              "  '더라',\n",
              "  ' 생강 고르는 것부터 하나씩 작업하고 숙성하는데 시간이 꽤 오래 걸려요',\n",
              "  '  찾으러 오실 경우  석동 국민은행 맞은편 버스정류장 앞  과일가게에 맡깁니다',\n",
              "  '  주문 누락 방지를 위해 부탁드립니다',\n",
              "  '  오랜만에 돌아온 열혈농사꾼입니다',\n",
              "  '  회원님의한마디와 좋아요는카페에큰힘이된답니다',\n",
              "  '    도와주세요',\n",
              "  '      안녕하세요',\n",
              "  ' 탑브레드 입니다',\n",
              "  ' 수다세상에 질문글 작성 시 무통보 삭제 될 수 있습니다',\n",
              "  '  기존 생강청과는 다른 방법으로 만드는 저온숙성생강청입니다',\n",
              "  ' 도움말 플레이어     복사 레이어 닫기                                                       2            3                0   0                   0                    0                                                                               0 0 도움말라이센스                        4 17 48                  2020 2 12                 동영상 인코딩 중입니다',\n",
              "  '     쌀 보리 율무의 입양을 기다려요',\n",
              "  '  아침 대용  간식 등으로 추천드려요',\n",
              "  '    하나도 반에반도같은종자는있지만 같은맛을 낼수는없는쌀 반드시드셔보시면 느끼십니다',\n",
              "  ' 나눔 이벤트 후기 게시판 사용시에는 말머리에서  나눔 이벤트 후기  를 선택 또는  제목에서  나눔 이벤트 후기 를 명시하고 게시글을 작성하셔야 합니다',\n",
              "  '                                                          2            3                0   0                   0                    0                                                                               0 0 도움말라이센스                        4 17 48                  2020 2 12                 동영상 인코딩 중입니다',\n",
              "  '고 하시더라',\n",
              "  '  존재하지 않는 이미지입니다',\n",
              "  '  솔담액기스 피자두액기스  2019년 8월에 담아 1년 이상 발효 숙성된 솔담액기스입니다',\n",
              "  '도 건강한쌀 신선한쌀 보약같은쌀을 꼭찾아드시는것이 내몸과가족을챙기는 길입니다',\n",
              "  ' 도와주세요',\n",
              "  ' 다 똑같다는말 절대모르시는말입니다',\n",
              "  '    낚시글 방지를 위해  제목은 단어가 아닌 구체적인 문장으로 적어주세요',\n",
              "  '  10월 2일에 백진주쌀 수확하여 저온으로 말렸습니다',\n",
              "  ' 게시글 완료후엔 본 내용은 삭제하셔도 됩니다',\n",
              "  '  흉년으로 쌀수확량이 반이상줄었읍니다',\n",
              "  '   저온숙성 생강청  저온숙성 생강식초  트라이탄보틀 430  생강청은 우유에 넣어 마시면 부드러운 진저라떼로 즐길 수 있어요',\n",
              "  '  저온숙성생강청 생강청  레몬생강청  계피생강청    2차 숙성시킨 생강청 소량 병입했어',\n",
              "  '가 쌀식빵도전했는데 성공했어',\n",
              "  ' 이것이올바른쌀 삼광쌀 이라는것을  드셔보시고자하시는분 부모님효도선물 친인척선물 가까운지인분께 강력추천하는쌀    010 7185 0804    택배가능 택배비있음   상품권 계좌입금 카드가능  배달시    꼭 중문비번부탁드립니당      입금시입금자명부탁드리겠읍니다',\n",
              "  '      구매 후기 작성시에는 상품 전체 와 부분 사진을 첨부해주세요',\n",
              "  '  식품의 유형 쌀 유통 기한 제조연월일 별도표기 인증정보 관련법상 표시사항   본 정보는 판매자가 등록한 것으로 등록 정보에 대한 일체의 책임은 판매자에게 있습니다',\n",
              "  ' 미리 감사드립니다',\n",
              "  ' 맛있어요',\n",
              "  '   일상수다 게시판 입니다',\n",
              "  '  저희 부모님께서 재배한 2020년도 백진주쌀 판매합니다',\n",
              "  ' 선거광고 안내       음소거00 00   00 07 화질 선택 옵션자동     자동       270        480        720           1080       화질  전체화면    00 01  00 03  00 05 광고정보 더보기초 후     초 후 재생    광고 후 계속됩니다',\n",
              "  '      미즈넷 미들리온 소중한 우리아기 첫 과자로 미들리온 쌀과자를 적극추천해요',\n",
              "  '  먹어도 될까요',\n",
              "  '  제목에 특수기호금지  연속글 작성 금지입니다',\n",
              "  ' 선거광고 안내       음소거00 00   00 05 화질 선택 옵션자동     자동       270        480        720           1080       화질  전체화면    00 00  00 01  00 02  00 03  00 04 광고정보 더보기초 후     초 후 재생    광고 후 계속됩니다',\n",
              "  '고하네요',\n",
              "  '  해풍맞고 자라 더 맛난 백진주쌀   그리고 구수한 누룽지 향이 나는 누룽지 향찹쌀과 백미를 섞은 누룽지 향찹쌀 혼합미   10월말에 이렇게 수확을 했습니다',\n",
              "  ' 알려주세요',\n",
              "  '     누룽지 향찹쌀 혼합미  구수한 누룽지향이 나는 누룽지향찹쌀에 백미를 7 3의 비율로 혼합했습니다',\n",
              "  '  미리 감사드려요',\n",
              "  '  알려주세요',\n",
              "  '  고맙습니다',\n",
              "  '  올려주신 레시피가 있으면 모두 동그라미 표시해 주세요',\n",
              "  '                                                       2            3                0   0                   0                    0                                                                               0 0 도움말라이센스                        4 17 48                  2020 2 12                 동영상 인코딩 중입니다',\n",
              "  '  키크는 쌀이라고도 불리는 하이아미쌀 판매합니다',\n",
              "  '  모내기부터 도정 포장 판매까지 모든작업을 직접하여 최소의 마진으로 최상의 상품을 판매하고있습니다',\n",
              "  '  물이나 탄산수에 희석해서 드셔도 되고 매실액기스처럼 요리에 조금씩 사용하셔도 좋아요  트라이탄보틀 430  기타 수제먹거리는 따로 문의 주세요',\n",
              "  '                     마우스를 드래그 하세요',\n",
              "  '  100  친환경 우리쌀로만 만든 올굿 쌀호두과자 입니다',\n",
              "  ' 감사해요',\n",
              "  ' 선거광고 안내       음소거00 00   00 00 화질 선택 옵션 화질  전체화면   광고정보 더보기초 후     초 후 재생    광고 후 계속됩니다',\n",
              "  '  기능성쌀 하이아미쌀은 일반 쌀보다 필수아미노산 함량이 31프로가 많아 성장기에 있는 어린이 및 학생들의 두뇌 활동과 호른몬분비 촉진으로 성장과 학업의 집중력에 뛰어나며 생리활성물질이 함유된 기능성 쌀로서 노약자들의 각종 질병을 예방할 수 있습니다',\n",
              "  ' 예  후기1회 작성시 친목 게시글1회 댓글1회 작성해주세요',\n",
              "  '  주문주시면 바로 도정해서 보내드립니다',\n",
              "  '  저희는 언제나 전날도정 다음날 발송으로 가장 맛있고 좋은 쌀을 보내드립니다',\n",
              "  '  많은 주문부탁드립니다',\n",
              "  '   주문서 양식 1 받는분 성함 2 받는분 전화번호 3 받는분 주소 4 상품번호 5 세금계산서 유무 입금계좌 351 0840 6458 23 농협 칠량영농조합법인  박스와 아래 링크 표시가 없는 판매 게시글은 무단 삭제 처리합니다',\n",
              "  '  드셔보셨던것중에 괜찮았던쌀 있을까요',\n",
              "  ' 유정상생님이 주신 정보로 베이킹소다 넣고 씻은 후 사진입니다',\n",
              "  '    필수 아미노산은 지방간 예방  항암  혈압 강하 기능을 가진 메치오닌과 어린이 성장발육 촉진 기능을 하는 라이신 함량이 다른 품종에 비해 월등히 높습니다',\n",
              "  '  아이보리는 다른 첨가물을 전혀 넣지 않고 생산부터 배송까지위생적인 공정을 거친다고 하니 더 안심하고 먹일수있을거같아요',\n",
              "  '마자 반죽시작했어',\n",
              "  ' 쌀이 거의 떨어져서 온라인으로 사기 애매한데혹시 쌀 세일하는 마트 아시는 분 계실까요',\n",
              "  '  3  택배를 받으신 후  네이버 스마트 스토어에 리뷰를 달아주세요',\n",
              "  '  이웃님들이 보고 유익할 수 있도록 정보를 자세히 사진 곁들여 보여주시면 더욱 좋습니다',\n",
              "  '    하이아미쌀은 찰기와 윤기가 있어 맛있는 쌀입니다',\n",
              "  '     감사합니다',\n",
              "  '고하더라',\n",
              "  '  냄새나는 쌀에 베이킹소다 한숟가락넣고 섞어 두었다',\n",
              "  '  죄송해요',\n",
              "  '    블로그에서 그대로 퍼오기 하시면 삭제 조치 되며   글로그 글을 원정대에 올리실때는 재편집  복사  붙여넣기  하여 올려 주시면 됩니다',\n",
              "  '  조언부탁드려요',\n",
              "  '  일상수다 게시판 입니다',\n",
              "  '고 하십니다',\n",
              "  ' 무섭게            이분들은 왜 집집마다 쌀받아가요         뭐하는사람들이에요',\n",
              "  '  갱신된 인증서 입니다',\n",
              "  ' 4  현재 글에 달아주셨던 주문 확인 댓글의 대댓글로 리뷰 작성 완료 라고 써주세요',\n",
              "  '   1  택배 주문 해 주실 때 배달메모란에 줌마켓 아이디와 닉네임 을 적어주세요',\n",
              "  '   17  수강 상담 방법 수강 상담 문의는 빵카페 베이킹 클래스 카페 댓글로 문의해 주세요',\n",
              "  ' 냄새도 거의 없어요',\n",
              "  '   쌀가루 이용해서 소고기단호박미음 만들었어',\n",
              "  '  올해 추수하는 모습입니다',\n",
              "  ' 추천부탁드려요',\n",
              "  ' 1통 250 씩 담았어요',\n",
              "  '   구매 후기 작성시에는 상품 전체 와 부분 사진을 첨부해주세요',\n",
              "  '    감사해요',\n",
              "  ' 위에 사진이 냄새나는 쌀이예요',\n",
              "  ' 쌀이문제일까요',\n",
              "  '     요즘 3인가구 쌀 쌓아놓고 먹진 않잖아요   그런집도있겠지만 저흰 딱 먹을치만 사요   그래서 쌀떨어져서 사야한다',\n",
              "  '  2020년 새로 갱신한 유기농인증서 입니다',\n",
              "  '   확인 후 다음단계로 넘어갈 수 있습니다',\n",
              "  '니까 그래도 쌀달라며 신랑이 걍 닫으라해서 닫구 인터폰으로보니 계속 서있더라',\n",
              "  '     검색 먼저 해보시고 질문 글 올려주세요',\n",
              "  '   주말에만 1 2번 배달음식 먹고 평일에는 집밥 먹어요',\n",
              "  '   한달전에 20키로 샀네요',\n",
              "  '  추천부탁드려요',\n",
              "  ' 아기들이 5개월때부터 이유식을 시작했는데이유식이 이렇게 힘든건지 몰랐어요',\n",
              "  '  처음 먹는 쌀과자두 너무 잘먹더라',\n",
              "  '용 팬에 비해 팬닝양이 많은 편이라 브레이크가   그래도 맛은 끝내줍니당    아 근데 매번 반죽할때보면 너무 되서 우유양이 좀 부족한듯해 추가하는데 저만 그런걸까요',\n",
              "  '아가들에게 좋은거만 먹이고싶은게 엄마 마음이자나요둘이라 모유수유도 제대로 못해줘서 이유식 만큼은잘해주고싶더라',\n",
              "  '   익일 생산  익일 배송   주문 받은 호두과자는 밤 12시를 기준으로 취합하여 익일 생산하여 배송해드립니다',\n",
              "  '  신안정에서 가꾸고 나누는 하이아미는   쌀 외관이 투명하고 아밀로스 및 단백질 함량은 다른 품종들보다 약간 낮아서 밥맛이 매우 좋습니다',\n",
              "  ' 2  현재 글의 댓글로 택배   주문자 성함 초성   주문내용 주문확인 댓글을 써주세요',\n",
              "  '  참고하세요',\n",
              "  ' 알려주시면 바로 사러 갈게요',\n",
              "  ' 소다를 안 넣었을때는 열번을 씻어도 까만물이 나왔는데 베이킹소다 넣고 씻으니 두번만에 뽀얀 뜬물이 나오더군요  넘 신기함   지은 밥이예요',\n",
              "  ' 싶었거든요',\n",
              "  '   질문이 아닌글을 남기시면 게시글 이동요청후 글이 삭제됩니다',\n",
              "  '  3개입                                        5175824934 12개입                                        5176004253 28개입                                        5176008494 30개입                                               5181985250 3개입만 주문 시 10봉 이상  12개입만 주문 시 2상자 이상  28개입만 주문 시 2봉 이상 무배     주문 후 댓글로 주문자 성함 초성   주문내용 적어주세요',\n",
              "  '        수업 문의 및 수강신청은 빵카페 링크를 클릭하시고 댓글을 남겨주세요',\n",
              "  '  중딩 초딩 두아들 있고  꼭 하루 세끼 먹는 집이라 전 두끼만 먹고싶어요',\n",
              "  '  미리 감사합니다',\n",
              "  '  수량에 따라 가중 부과 될 수 있습니다',\n",
              "  '고 근데 저희 진짜 쌀떨어졌거든요',\n",
              "  '    쌀에서 필수아미노산 8종  총 함량이 화성벼 대비 31  정도 높습니다',\n",
              "  '필요하신분 드려요',\n",
              "  '    알려주세요',\n",
              "  '                           주문 후 댓글로 택배   주문자 성함 초성   주문내용 적어주세요',\n",
              "  '   인증정보  무       원산지   인천시 강화군     상호   캠핑툴   대표자  이원석    주소   강원도 인제군 상남면 내린천로 1622   택배사  롯데택배  연락처   010 2013 6096   사업자 번호   137 17 22871   통신판매업번호   2008 인천서구 0275 호   사업자 계좌   신한 100 027 952170 이원석 캠핑툴                                         몇년동안 꾸준히 판매해온 강화섬쌀 누룽지향찹쌀 혼합미와   작년 처음 판매를 개시한 백진주쌀입니다',\n",
              "  '  해풍맞고 자라 더 맛난 백진주쌀   그리고 구수한 누룽지 향이 나는 누룽지 향찹쌀과 백미를 섞은 누룽지 향찹쌀 혼합미   지난주에 이렇게 수확을 했습니다',\n",
              "  '            12개입 1상자  28개입 1봉  택배 주문  계좌이체  카드  네이버페이 결제가능 올 굿   네이버쇼핑 스마트스토어 최초의 100 쌀로만든 호두과자 올굿 쌀호두과자입니다',\n",
              "  '      90둥이맘   재생 수12                       마우스를 드래그 하세요',\n",
              "  '   배달메모에 줌마렐라 회원 아이디와 닉네임 적어주세요',\n",
              "  '면 알려주세요',\n",
              "  ' 빵이 촉촉 쫀쫀 해요',\n",
              "  '     초기이유식 아이보리쌀가루로 시작했어',\n",
              "  '가 씻어서 밥을 해 봤습니다',\n",
              "  '  마트마다 쌀 세일할 때 샀어야 하는데 놓쳤어요',\n",
              "  '         16  현금영수증은 의무적으로 발급 가능해야 합니다',\n",
              "  ' 이 후기는 이유식데이 체험단을 통해 제품을 제공받아 쓰는 솔직후기입니다',\n",
              "  '         쌀이 떨어졌어요',\n",
              "  '  6개월된 남매둥이 키우구 있어요',\n",
              "  '  올해는 잦은 비와 태풍으로 벼 수확량 20 30 정도 감소했습니다',\n",
              "  '  저희 취재진이 다섯 달 동안 현장을 추적했는데요',\n",
              "  ' 천안  아산 외 지역 혹은 3 9시 내에 받기 어려우신 분들은 택배 주문 부탁드립니다',\n",
              "  '   초  중  고등학교 급식 납품  전국의 초  중  고등학교 급식으로 납품하고 있습니다',\n",
              "  '  다른 분들께도 추천드릴게요',\n",
              "  '만드는것도 첨이라 힘들고 먹이능건 뭐    대 환장파티  다른 육아 선배님들두 다 그렇게 시작하신거 맞죠',\n",
              "  '  20키로예요',\n",
              "  '   온라인으로 구매 가능한 쌀이면 더더욱 좋구요',\n",
              "  ' 워낙 유명한 제품이라 100  국산 쌀을 이용해서 안전하게 만든 쌀가루라고 해서처음 이유식을 시작하는 우리 둥이들에게 딱이다',\n",
              "  '    모든 쿠폰 구함글은 허용하지 않습니다',\n",
              "  '  쌀이 똑 떨어졌어요',\n",
              "  ' 주문 받은 호두과자를 익일 오전에 구워  월 토 오후 3시에서 9시 사이로 배달 해드립니다',\n",
              "  ' 남은 쌀도 버리지 않고 먹을 수 있게 되었네요',\n",
              "  '            12개입 1상자  28개입 1봉  카카오톡 1 1 문의                                     올굿 카카오톡 채팅을 해보세요',\n",
              "  '는 점입니다',\n",
              "  '   현재 햅쌀 찹쌀 찹쌀현미가능  2020년갓수확바로정미햅쌀  20키로64000  10키로32000  찹쌀20키로69000  10키로34500 한번드셔보시면 쭈    욱단골되는삼광쌀 전국어디서든 한두번 농사짓는분이라면 확고히자리매김한 그런좋은쌀     이왕같은값이면 아니 몇천원더주더라',\n",
              "  ' 고 말했다',\n",
              "  '도와주세요',\n",
              "  '고 하시네요',\n",
              "  '                 택배비 3천원 페이백 이벤트   택배 주문 시에는 무조건 택배비 3천원이 부과되죠',\n",
              "  '   럭셔리찹쌀파이  찹쌀과 동물성생크림 파스퇴르생크림  각종 견과류가 듬뿍 들어간 건강한 파이입니다',\n",
              "  '  필요하신분 드려요',\n",
              "  '    택배 주문 시에는 택배비 3 000원이 부과됩니다',\n",
              "  '  배달 주문시  1만원 이상부터  배달비 2 000원 별도 있어요',\n",
              "  ' 배뚱띠 임산부라 쌀을 들고올수가 없어요',\n",
              "  '  추천해주세요',\n",
              "  ' 필요하신분 드려요',\n",
              "  '  앞으로 아이보리 많이 이용할거같아요',\n",
              "  '     질문은 최소한 성의있게 4줄 이상 작성해주세요',\n",
              "  '  아래건 햅쌀 색 차이가 많이 나네요',\n",
              "  '                                                            2            3                0   0                   0                    0                                                                               0 0 도움말라이센스                        4 17 48                  2020 2 12                 동영상 인코딩 중입니다',\n",
              "  '     우리아기들 이유식은 아이보리로 시작했어',\n",
              "  '           스타벅스 아이스 아메리카노 기프티콘  5명    올굿 쌀호두과자 28개입 1봉  2명  후기 이벤트 많은 참여 부탁드립니다',\n",
              "  '  아마 다들 아실거예요',\n",
              "  '  아이들도 믿고 먹을 수 있는 영양간식  건강한 먹거리  올굿 쌀호두과자입니다',\n",
              "  '   아침부터 사부작 움직여서 만든 당근빵입니다',\n",
              "  ' 도움말 플레이어     복사 레이어 닫기저는 베이비무브 이용해서 이유식을 만드는데 물양을 나중에 조절을해서 쌀가루 섞을때 소량만 이용하는데 그래도 뭉침없이 잘섞이더라',\n",
              "  '토요일 애겨우 재우고 신랑이랑 신나하는데 계속 똑똑똑똑똑똑          두들기길래 애 깰까봐 잠없는애     문열었더니 절서 나왔다고 쌀좀 시주받는다',\n",
              "  '  정말 부자가 된 것 같답니다',\n",
              "  '  평일 신랑은 집밥 먹는날이 몇번 안돼요  대신 먹을땐 양 많이   전 밥보단 빵 면종류 좋아해서 밥은 많이 먹지도 않았는데  한달에 쌀20키로 먹는 울집   아 괜히 몸뚱아리가 불고있는게 아니었어',\n",
              "  '   줌마렐라 회원분들께 어떻게 돌려드릴까 고민하다 여는 이벤트   택배 주문 하신 줌마렐라 회원분들에게만 적용되는 이벤트입니다',\n",
              "  ' 5  30일 오후 10시까지 리뷰 중 3건을 뽑아 네이버 포인트 3천포인트 를 드립니다',\n",
              "  ' 선거광고 안내       음소거00 00   00 08 화질 선택 옵션자동     자동       270        480        720       화질  전체화면    00 01  00 03  00 05  00 07 광고정보 더보기초 후     초 후 재생    광고 후 계속됩니다',\n",
              "  ' 문앞 배달 후 인증사진 보낼께요',\n",
              "  '  울집 4식구 모두 확찐자  다욧 들어가야겠네요',\n",
              "  '합니다',\n",
              "  '술만들기 좋은 계절이 돌아왔네요',\n",
              "  '  맛있는 쌀 추천해주세요',\n",
              "  '    잠깐 한눈 판사이에 완전 오버 믹싱되서  분리되기 직전이라망했구나 하며 버리긴 아까워 오븐에 구웠는데    기공이 좀 아쉽긴 하지만 높이 7    초코 쌀은 첨이라 처음 치고는 성공했어',\n",
              "  '   불린쌀 가져가면 바로 갈아주는 방앗간이 있을까요',\n",
              "  '   고두밥과 물  누룩  효모를 넣은 모습입니다',\n",
              "  ' 따 라 서  100  최근도정  당일도정 쌀만 보내드리고 있습니다',\n",
              "  '밤쌀 1키로 10 000원2키로 이상부터 택배발송 합니다',\n",
              "  '  아버지 수술 받은지는 2년 넘었고요',\n",
              "  '    1불 정도 쌀가루로 꽤 많은 양을 만들수 있답니다',\n",
              "  '                 5        건설 폐기물 파묻은 땅에서 벼농사  브랜드 쌀 로 판매  앵커  경기도 일부 지역에서  건설 폐기물 이 섞인 논에서 자란 벼를 브랜드 쌀로 포장해 팔고 있습니다',\n",
              "  '  조언 부탁드려요',\n",
              "  '   쌀불리기는 보통 3시간 이상 합니다',\n",
              "  '  배달해드립니다',\n",
              "  '   버리기 전에 혹시 필요하신 분 있을까해서요',\n",
              "  '  수다세상에 질문글 작성 시 무통보 삭제 될 수 있습니다',\n",
              "  '  모든 상품의 가격은  택배비용  포함되어 있습니다',\n",
              "  '  2만원이상 배달무료2만원미만 배달료 2천원전날 예약주문건에 한하여 배송당일 오전에 제작하여오후 2시이후부터 순차적으로 비대면 문고리배송합니다',\n",
              "  '  예전에 정말 고급 식당에서 밥을 먹는데 갓지은 밥에 윤기가 좌르르 맛은정말 형용할수없이 맛나더라',\n",
              "  '  배달시 비대면으로 문앞에 둘게요',\n",
              "  '김치통에 쌀 담아서 김치냉장고에 보관해도 되나요   쌀 둘곳이 마땅치가 않네요',\n",
              "  '배달은 안됩니다',\n",
              "  ' 20키로입니다',\n",
              "  '  신기한건 떡이나  빵  소면 같은건 또 드세요',\n",
              "  '   좀비개미라고   애벌레들이 나오는 통로라고 하네요',\n",
              "  '  2  게시판 성격에 맞지 않는 홍보  후기글 등은 삭제 될수 있으며 카페활동없이 후기글만  작성시 활동정지 됩니다',\n",
              "  '                   2  1 2  2020년 백진주쌀 판매합니다',\n",
              "  '  깔때기에서 떨어지는 쌀이 개미지옥 같다는 생각이 들어 시작했는데   개미 책 읽고 유투브로 개미 천적 알아봤어요',\n",
              "  '                                    키즈배틀은배려입니다',\n",
              "  ' 혹시 필요하신분 연락주세요',\n",
              "  '야 했는데 덤핑 증후군으로 지금 계속 고생 중입니다',\n",
              "  '  서로의견을 존중해주시고 서로 내일 같이 배려해 주세요',\n",
              "  '    평생한쌀  의 쌀은 모든 제품은  국내산    상  등급 이상입니다',\n",
              "  ' 사진 삭제사진 설명을 입력하세요',\n",
              "  ' 아시는분 계실까요',\n",
              "  '  1  글제목은 5자이상 30자이내로 작성해주세요',\n",
              "  '  처리 어려우신 쌀 연락주심 감사히 찾아뵐게요',\n",
              "  ' 소비자보호법에 의한 반품  교환  환불규정을 준수 합니다',\n",
              "  '  추수기간 후에 다시 가져오도록 하겠습니다',\n",
              "  ' 선거광고 안내       음소거00 00   00 11 화질 선택 옵션자동     자동       270        480        720           1080       화질  전체화면    00 01  00 03  00 05  00 08  00 10 광고정보 더보기초 후     초 후 재생    광고 후 계속됩니다',\n",
              "  '     저번에도 배달말씀하신분들이 꽤 있으셔서요',\n",
              "  '   딸기 입고될 때 미리 예약 글 올릴게요',\n",
              "  ' 28개입만 주문하실 경우 2봉 이상 주문시 무배 3개입은 무조건 10봉 이상  배송 안내  1만원 이상 주문 시 28개입 예외  천안  아산 지역 무료 배송 해드립니다',\n",
              "  '   추천좀 해주세요',\n",
              "  '  주문번호 010 2101 7499위번호로 주문서 부탁드립니다',\n",
              "  '   방법 있을까요',\n",
              "  '     일상수다 게시판 입니다',\n",
              "  ' 직접키운 쌀을 최신식 도정기계로 가장 맛있는 쌀을 만들어 판매합니다',\n",
              "  '  오른쪽이 엄마가 주신 쌀이에요',\n",
              "  '   주말에 아이들과 재미있게 만들어 보세요',\n",
              "  '  쌀을 안 먹은지 거의 2년이 되니 살이 쭉쭉 빠져 기운이 없어보여 안쓰러울 따름입니다',\n",
              "  ' 공임비 1만원으로 나눠먹는 기쁨은 배가 되는 만원의행복    전 유기농 제품을 소량봉투로 사먹고 있었는데요',\n",
              "  '  혹시 질문글이신가요  질문은 질문 게시판에 작성해 주세요',\n",
              "  '  찾으러 오시는 건 과일가게에 맡깁니다',\n",
              "  '사진에 쌀끝에 짙은 색으로 붙어있는것들이 쌀눈입니다',\n",
              "  '          이번 영상에서는 유자청을 넣은 파운드 케이크를 구워봤어요',\n",
              "  '   아니면 원액을 냉장고에 보관했다',\n",
              "  '     박력쌀가루는 왜 포슬포슬하게 잘 안될까요',\n",
              "  '   그러다 결국 머리가 분리됩니다',\n",
              "  ' 직접오셔도 되구요',\n",
              "  '  흑미쌀식빵이 그렇게 맛있다',\n",
              "  ' 찹쌀이랑 섞여있어서 더 맛나더라',\n",
              "  ' 필요하신분 계실까요',\n",
              "  '  한수위쌀 맛있다',\n",
              "  '  일부 옥수수를 잘말려 껍질깐 찰옥수수알 쌀을 가지고 왔습니다',\n",
              "  ' 처음해보는 쌀베이킹  유튜브열심히검색하고모닝빵하고 단팥과 소보로 만들었어',\n",
              "  ' 한번 판매하고 신경안쓰는 그런 뜨내기 장사꾼이 아닌 한번 맛보시면 다시 찾는 열혈농사꾼이 되겠습니다',\n",
              "  '    쌀 불리고 말리고 갈고 체에 치고 두번 치고 담고 냉동실에 넣고 하          그래도 5번 만들양 나와서 다행이에요',\n",
              "  '     쌀 담다가 여기까지   애들하고 같이 봤는데 무섭고 짠하고     너무 많은것을 아는것도 감당하기 힘드네요',\n",
              "  '  온 베이킹입니다',\n",
              "  '    제가 애정하는 블루베리케이크 직접만든 블루베리마멀레이드의 쫀득한 식감과 테라 생크림의 조화는 최고입니다',\n",
              "  '  부모님이 안동 백진주쌀 좋아하셔서 쌀은 그걸로 사드리는데 품절이라 살수가 없네요',\n",
              "  '  사료용으로 쓰실분께 드립니다',\n",
              "  '   일본 왕개미 엉덩이에 산란관을 꽂아 알을 낳는데 몇시간 뒤에 개미가 고개를 푹 숙이며 제대로 못 걷게되고  동료들은 병든 개미를 내다버리지 않는다',\n",
              "  '     근데 습식쌀가루로 만드는게 더 맛있긴 해요',\n",
              "  '  본 내용은 삭제후 글을 올려 주시기 바랍니다',\n",
              "  ' 이유식 159일    이번주 월욜부터 시작했어',\n",
              "  '     30  정량을 넣었는데  쌀은 정량을 다 못준거같아서      죽제조기도 엄청엄청 곱게 갈리지만     안갈리는것 없게 하고 싶어서 집에 원두가는걸로 쌀 갈았는데        너무너무 곱게 잘 갈리네요',\n",
              "  ' 레시피 좀 봐주세요',\n",
              "  '   2  일지에는 사진을 5장 이상 첨부해 주세요',\n",
              "  '     카스테라를 만드려고 박력쌀가루를 넣어 만드는데 잘 안되요',\n",
              "  '  아기과자 7개엄마과자 5개 사은품으로 받았어요',\n",
              "  '  저희는 직접 농사부터 최신식 도정시설에서 직접 도정한 쌀만 판매합니다',\n",
              "  '   몰스에서는 서로에게 최소한의 예의를 지켜야하며  광고  악성댓글  상처를 줄수 있는 댓글  비방글  확인되지 않은 마녀사냥이 될 수 있는 글은 6개월 활동정지 및 강퇴됩니다',\n",
              "  '   애가 3명이인데  첫째것만 오늘 도착이요',\n",
              "  '  쌀은 맑은물이나올때까지 씻어라고 하더라',\n",
              "  '   5자이내 제목글 및 20자 이내 글내용은 삭제됩니다',\n",
              "  '  덕분에   완전 보들보들 하긴한데  담주 월요일이면 146일 혼합에서 완분 두달째인 아가에요',\n",
              "  '는 말이 많아서 쌀로 시작을 해야되는지 고민이네요',\n",
              "  '   오늘 오실분 찾고있어요',\n",
              "  '  평생한쌀 당일배송 당일도정 쌀 20  는 보관이 용이한 10   짜리 2개가 발송됩니다',\n",
              "  ' 선거광고 안내       음소거00 00   00 10 화질 선택 옵션자동     자동       270        480        720           1080       화질  전체화면    00 01  00 03  00 05  00 07  00 09 광고정보 더보기초 후     초 후 재생    광고 후 계속됩니다',\n",
              "  ' 필요하신분 가져가세요',\n",
              "  '   백진주만큼 찰진 쌀은 없을까요',\n",
              "  ' 본 게시판은 나눔 이벤트 후기 게시판입니다',\n",
              "  '는 생각은 안해봤어요',\n",
              "  '      팥이랑강남콩이랑 옥수수범벅도 맛있어요',\n",
              "  '      몰스에서는 서로에게 최소한의 예의를 지켜야하며  광고  악성댓글  상처를 줄수 있는 댓글  비방글  확인되지 않은 마녀사냥이 될 수 있는 글은 6개월 활동정지 및 강퇴됩니다',\n",
              "  '      깨소금 소 만들기   깨소금 간것 5스푼  브라운 설탕 4 5스푼 물 2스푼 속을 가득 넣고 만들어주시면 끝   참고 하시라고 영상 첨부 할께요',\n",
              "  '   올해 설날에 보고 여태 못갔어요',\n",
              "  '   윤기 차르르 찰진     추천해주세요',\n",
              "  ' 10키로 42000원 택배비포함  20키로 75000원 택배비포함  인천 강화군 재배 자루 포장후 박스에 담아 택배로 보내드립니다',\n",
              "  '쌀 잘받았어요',\n",
              "  ' 선거광고 안내       음소거00 00   00 11 화질 선택 옵션자동     자동       270        480        720       화질  전체화면    00 01  00 03  00 06  00 08  00 10 광고정보 더보기초 후     초 후 재생    광고 후 계속됩니다',\n",
              "  '  신안정에서는 2017년 지구 환경을 지키기 위해 탄소 배출을 줄이는 저탄소 농업기술을 통해 저탄소 농축산물 인증을 받았습니다',\n",
              "  ' 2019년도 쌀이라 안좋다고 생각하실수 있지만아직 도정전입니다',\n",
              "  '     티타임하는여자입니다',\n",
              "  ' 둘다 개봉해서 한번씩 썼어요',\n",
              "  '    쌀 이 영글어 갑니다',\n",
              "  '  보풀은 쪼금있습니다',\n",
              "  '위의 안내는 삭제 하시고 글 작성하시면 되세요',\n",
              "  '   아마 분명히 들어갔을거에요',\n",
              "  '   추천해주셀 맛있는 쌀이 있을까요',\n",
              "  '   갑자기 그게 아까운거에요',\n",
              "  '   이 상태로 그대로 두면 빠르면 이주에서 한달 정도면 발효가 완전히 끝이 납니다',\n",
              "  '  개봉한진 좀 됐지만 찰보리쌀도 안먹구 수습불가네요',\n",
              "  ' 맛있다',\n",
              "  '   믹서기 샀을깨 원두가는것도 들어있어서 이걸 어따써    했는데 이렇게 쓰이게 되다니      저처럼 갈아서 쓰시는 분도 계신가요       제 밥도 안차려 먹는데 참    애꺼는 별걸 다하네요',\n",
              "  ' 하네요',\n",
              "  '  근데 왜이리맛있는건지    이상하게 아이러니한현실 하하 알게된건 이미 구워지고있는녀석들을본후라수습불가이고 다행히 단팥과소보로는 2차까지마치고 구웠십니다',\n",
              "  '근데무슨정신인지 모닝빵은 중간휴지만하고 그냥 구워버린거있죠',\n",
              "  '      감사합니다',\n",
              "  ' 식품의 유형 쌀유통 기한 제조연월일 별도표기인증정보 관련법상 표시사항   본 정보는 판매자가 등록한 것으로 등록 정보에 대한 일체의 책임은 판매자에게 있습니다',\n",
              "  ' 이번에 판매할 품종은 고시히까리입니다',\n",
              "  '  20     85 000원 택비포함  10     42 500원 택비포함  맛없으시면 100 반품교환환불가능    한번 판매하고 신경안쓰는 그런 뜨내기 장사꾼이 아닌 한번 맛보시면 다시 찾는 열혈농사꾼이 되겠습니다',\n",
              "  '  식물에서 추출한 친환경 약재 만을 공동 방제하며 유기합성농약과 화학비료를 전혀 사용하지 않습니다',\n",
              "  '     누룽지 향찹쌀 혼합미  2020년 11월27일 도정 구수한 누룽지향이 나는 누룽지향찹쌀에 백미를 7 3의 비율로 혼합했습니다',\n",
              "  '고 생각합니다',\n",
              "  ' 가지러오셔야되요',\n",
              "  ' 박력 쌀가루로 만든 아메리칸 4종 쿠키예요',\n",
              "  '  주문서 양식1 받는분 성함2 받는분 전화번호3 받는분 주소4 상품번호5 세금계산서 유무입금계좌 351 0840 6458 23 농협 칠량영농조합법인 박스와 아래 링크 표시가 없는 판매 게시글은 무단 삭제 처리합니다',\n",
              "  ' 맛있게 드세요',\n",
              "  '  흑 맘님들은 쌀 몇번 헹구시나요 오늘 쌀 질문 또 드려요',\n",
              "  '면 추천좀해주세요',\n",
              "  '  경남 사천에서 직접 재배한 2020년 10월중순에 수확한 하이아미쌀 판매합니다',\n",
              "  '     라즈베리 산딸기 는 제철인 요즘만 드실수 있어요',\n",
              "  '  필요하신분 참고하세요',\n",
              "  '  농약 없이 우렁이를 논에 뿌려 키웠습니다',\n",
              "  ' 고소하니 맛있는데 시중에 파는 과자 먹고는 잘 안먹네요',\n",
              "  '  1  원정대에는 양식에 맞는 글을 올려 주셔야 합니다',\n",
              "  '    카페 내 게시시 무통보 삭제 처리됩니다',\n",
              "  '  0      황금물결 까진 아니지만  가을에 노랗게 익어가는 쌀을 기다려봅니다',\n",
              "  '    쌀이 훅훅 떨어지네요',\n",
              "  '                                            식품의 유형   쌀     유통기한 제조연월일 생산일   2020년도산 백진주쌀 누룽지향찹쌀 혼합미 2020년 10월23일도정   인증정보  무       원산지   인천시 강화군     상호   캠핑툴   대표자  이원석    주소   강원도 인제군 상남면 내린천로 1622   택배사  롯데택배  연락처   010 2013 6096   사업자 번호   137 17 22871   통신판매업번호   2008 인천서구 0275 호   사업자 계좌   신한 100 027 952170 이원석 캠핑툴                                         몇년동안 꾸준히 판매해온 강화섬쌀 누룽지향찹쌀 혼합미와   작년 처음 판매를 개시한 백진주쌀입니다',\n",
              "  ' 아시죠',\n",
              "  '    일상수다 게시판 입니다',\n",
              "  '시댁에서 쌀 보내주셨네요',\n",
              "  ' 인터넷 레시피대로했는데 반죽이 되직하게 된것같아서요',\n",
              "  '    올해는 좀 늦게 첫번째 술을 만들어 봅니다',\n",
              "  '  수술 후 관리를 잘했어',\n",
              "  ' 아직 도정안한 깨끗한 원료곡을저온창고에 깨끗히 보관중입니다',\n",
              "  '쌀가루 베이킹 수업때 배운 레시핀데이제야 복습하네요',\n",
              "  '  상했을까요',\n",
              "  '  건조기볼도 나눔합니다',\n",
              "  ' 1  게시판 성격에 맞지 않는 홍보  후기글 등은 삭제 될수 있으며 카페활동없이 후기글만 작성시 활동정지 됩니다',\n",
              "  ' 추천부탁드립니다',\n",
              "  '  즤집 둘째의 임무는 쌀 배분  코로나땜에 둘째의 임무 횟수가 잦아졌어요',\n",
              "  '다음은 개미햝기개미를 엄청나게 먹어대지만 여왕개미가 감당할 수 있을정도만 먹고 빠진다고    그러면서 한번에 마흔집 정도를 턴대요',\n",
              "  '맛있다',\n",
              "  '  만약 버려야한다',\n",
              "  '  쪽 지 로 학원이나 과외선생님을 소개받는경우 검증되지않고 단순 홍보인 경우도 많이 있습니다',\n",
              "  '질문성 글은 질문게시판으로  모든 게시글은 5줄 이상이 원칙입니다',\n",
              "  '   주문번호 010 4065 5841 위번호로 주문서 부탁드립니다',\n",
              "  '   아주조금 남아서 쌀 5   사야할까봐요',\n",
              "  '       도움 부탁드려요',\n",
              "  ' 고시히까리는초밥용쌀로 찰기와 고소한맛이 아주 좋은 쌀입니다',\n",
              "  '  카페 원칙에 위배되는 글을 올리실경우 삭제될수 있으며 강퇴 되실수도 있습니다',\n",
              "  '     개미무게에만 특화된 경사라 정말 신기해요',\n",
              "  '       제 정보가 도움이 되셨다면  추천을 꾸우욱 눌러주세요',\n",
              "  '는거 다 먹어봐도제 입맛엔 철원오대쌀이 최고에요',\n",
              "  '  그래서 쌀을 꺼내서 자세히 보니 쌀눈이 회색빛을 띠는게 있네요',\n",
              "  '  별이네개 입니다',\n",
              "  '   닉네임  주소   전화번호 현영유무  현금영수증 번호 안주시면 주문 주신 문자로 처리 해드립니다',\n",
              "  ' 괴정입니다',\n",
              "  '    보통 쌀을 불릴때 쌀누룩도 물에 넣고 불려주고  컵에 효모와 설탕 반숫갈정도 넣어서 효모도 활성화 시켜줍니다',\n",
              "  '    다양한 품종의 질 좋은 쌀을 한 번에 만나 보실 수 있으십니다',\n",
              "  '좋은하루되세요',\n",
              "  ' 오늘 쌀베이킹 매력에 푹빠졌어요',\n",
              "  '   직접 가져가실분만    첫댓글 다신분께 드립니다',\n",
              "  ' 쌀 팔아오지마라 하고 제가 직접 팔아보려는데 어느 쌀이 좋을지 모르겠네요',\n",
              "  ' 쌀이라 버릴수도 없고 해서  꾸역 꾸역 먹었는데       저희 어머니가 농사를 지시는데  쌀의 상태에 대해 말씀드리니 썩어서 그런거라며  집에 쌀이 많은데 왜 애들 썩은것 먹였냐며 혼이 났어요',\n",
              "  ' 며칠전 쌀 뜯은거같은데 집에 쌀도둑이 들었는지 지금보니 쌀이 거의 읍네요',\n",
              "  ' 다들 조심하세요',\n",
              "  '   이렇게 쌀을 아예 못 먹을 경우에는 어떻게 해야 할지 질문 드립니다',\n",
              "  '  중요한건 아버지가 쌀을 전혀 못 드세요',\n",
              "  ' 강력쌀가루 250  무염버터 20  이스트 4  우유 125  저울에서  으로 설정하고 했어',\n",
              "  '   전이아이들이너무좋아요  쌀베이킹은 1차발효가없어서시간절약 넘좋은거같아요',\n",
              "  ' 사진에 보이는  현미쌀은 롯데마트에서 구입하고깨끗한페트병에 옮겨 조금  옮겨놓은거예요',\n",
              "  '니까요',\n",
              "  '  혹시 정말 맛있는쌀 아심추천 부탁드려도 될까요',\n",
              "  '  그러고도 몇시간을 더 돌아다닌대요',\n",
              "  '  추석맞아서 송편을 만들고 싶은데 제가 사는곳엔 한국마트가 없어서 로컬 마켓에서 쉽게 구할수 있는 건식 쌀가루로 송편을 만들었어',\n",
              "  '    올여름 정선 찰옥수수를 판매했었는데요',\n",
              "  '  신안정에서 가꾸고 나누는 유기농 쌀은 친환경에 적합한 포트 육묘를 통해 평당 50주 이하로 소식재배를 합니다',\n",
              "  '  그걸 거름망에 거르면 밥알이 꽤 남더라',\n",
              "  '   충남 논산에서 농사 짓고 있는 청년농부 입니다',\n",
              "  '   고두밥은 광목천에 싸서 40분 넘게 쪄줬습니다',\n",
              "  '     오늘 밤과 낼 아침 태풍 피해없이 조용히 지나가길     아까 쌀 곰팡이인지 올렸는데 대부분  아닌것 같다고하셔서 밥을 했는데  냄새도 안좋고 밥먹고 끝맛이 이상하네요',\n",
              "  ' 몰랐어요',\n",
              "  '   맛있게 잘 먹겠습니다',\n",
              "  ' 부탁드려요',\n",
              "  '  껍질벗긴 찰옥수수쌀은 밥해드실때 알에비해 조금 덜불리시고 밥하면 되기때문에 간편합니다',\n",
              "  '  초기거든요',\n",
              "  ' 너무 감사드립니다',\n",
              "  '    발로나를 넣어서 그런지  많이 안 달고 촉촉하니 맛나요    지금 초코 생크림 올려서 찍먹하고 싶지만      낼 기대하며 어여 씻고 자야겠네요',\n",
              "  '  제가 무료로 집앞배송해드려요',\n",
              "  '  나눔글 작성시 유의사항 1  나눔글 작성 전 각 나눔게시판 상단에 위치한 중고나라 나눔 규정을 필독하여 주시길 바랍니다',\n",
              "  '   미리 감사드립니다',\n",
              "  '   하루 지나서 한번 저어주었고 밑술 후 약 36시간정도 지난 모습입니다',\n",
              "  '  밥솥에밥이 하루지나면 서서히 노랗게되면서 냄새가나길래서비스센타에 갔는데     저는 가족의 건강을 망치고있었나봅니다',\n",
              "  '는 얘기를 듣고 짠했어',\n",
              "  '사진은 오늘 찍은건데 도 퍼지진 않고 어제랑 똑같은 것 같아요',\n",
              "  '  너무 맛있어요',\n",
              "  '성의있는 글이 퀄리티있는 카페로 만들어갑니다',\n",
              "  '  수향미 신동진은 백자주보다  많이 못하다고 하셔서요',\n",
              "  '고해요',\n",
              "  '  아래 링크 눌러주세요',\n",
              "  '  진밥으로 밥을 지어도 쌀만 들어가면 위에서 안 받는다',\n",
              "  '       쌀가루와 쑥가루를 넣어서 만든 쑥쌀식빵이에요',\n",
              "  '   쌀가루로도 쉬폰같은 부드럽고 폭신폭신한 식감을 낼 수 있어요',\n",
              "  ' 난이공방입니다',\n",
              "  ' 블루베리케이크 테라의 블루베리케이크는 꼭 드셔 보시라고 말씀 드리고 싶네요',\n",
              "  '감계는 배달 안되겠죠',\n",
              "  '  당분간 쌀 않사도 좋을듯이요',\n",
              "  '   반죽기가 없어서 두개를 한꺼번에 하려니 손목 나가겠어요',\n",
              "  '  동의하신분들만 응모해주세요',\n",
              "  '  술이 익으면 위로맑은술이 고이기 시작합니다',\n",
              "  '    보통은 물을 8리터까지 쓰는데 이번에는 좀더 달달한 막걸리를 만들기 위해서 물 량을 줄였네요',\n",
              "  '      이제 한달됐는데  그냥 생쌀 30  물 240 300   야채는 8배죽 감자고구마등은 10배죽  재료 20 30  넣고  이유식미음코스로 돌리는데  끝나고 나면 밥알이 막 다 튀어서 벽에 붙어있을때가 있어요',\n",
              "  ' 올 봄쯤 사둔 개봉하지않은 현미쌀있는데 여름에 베란다뒀더니 쌀벌레생겼네요',\n",
              "  ' 찾아보니 떡해먹거나  닭 새 모이로도 쓴다던데 떡해먹는다',\n",
              "  ' 먹어도 될까요',\n",
              "  '고 말하지 않으면 모를만큼 부드럽고 폭신해요',\n",
              "  '  개미에게 배우는 생존   개미의 천적명주잠자리 애벌레사람이 편의점 가는길에 구덩이에 빠졌는데 빠져나오지 못하고 극한의 고통을 느끼다 죽는걸로 표현을 하네요',\n",
              "  '    금지게시물 및 카페안내사항                                 155371  초보맘활동 안내가이드                                 100760   카페의 건의 또는 질문  신고는 비밀건의 및 에티켓 신고 게시판을 이용하여 주시기 바랍니다',\n",
              "  ' 밥이 노랗게되면 버려야하고   많은잘못이있었네요',\n",
              "  '면 추천 부탁드리고   운정에서 구입할 만 괜찮은 곳 있다',\n",
              "  '  씻으면 검은물이 나오고 10번 씻어야 먹을수 있는 밥을 해도 오래된 쌀냄새에 후   우리 아이가 강제다이어트 밥이라고 하더라',\n",
              "  '  하이아미 백미 4     20 000원 택배비 3 000원  하이아미 백미 8     40 000원 택배비 3 000원  하이아미 백미 20   마대포장    80 000원 택배비 5 000원  하이아미 현미 4     20 000원 택배비 3 000원  하이아미 현미 8     40 000원 택배비 3 000원  하이아미 현미 20   마대포장    80 000 원 택배비 5 000원   백미와 현미 혼합 구성이 가능하며  8   이하는 택배비 3 000원  8   초과시 20  이내 택배비 5 000원입니다',\n",
              "  ' 마트에서 묵은 쌀 사드시지 마시고 최근도정한  평생한쌀  드시고 건강하세요',\n",
              "  ' 나주에서직접택배로보내드려요',\n",
              "  '    의맘모에서는 비방글 보다는 발전적인 글 게시를 원합니다',\n",
              "  '   받으러오실곳   화명도시그린207동집에 4개월아기가 있어경비실앞까지만 나갈수잇어요',\n",
              "  '   미리 준비해 두는 이유는 좀더 술을 안정적으로 만들기 위해서입니다',\n",
              "  '  무조건 먹는 사진  사진을 올리고  글도 같이 작성해 주세요',\n",
              "  ' 인천시에서 교육재난지원금이라고 하며  한아이당 쌀 10  주었쟌아요    저희는 아이들이 4명이라 40  를 받았는데 2   찹쌀 3   교동미 5   강화쌀이었던것 같아요',\n",
              "  '     제 정보가 도움이 되셨다면  추천을 꾸우욱 눌러주세요',\n",
              "  '  정말  좋은 쌀  만 고르고 골라 보내드린다고 약속 드리겠습니다',\n",
              "  '  쌀이 왔어요',\n",
              "  ' 엄마가 아는분이 햅쌀 주셨다며 가져오셔서 저 주셨는데 집에있는 쌀하고 너무 차이나요 색도 누리끼리 하고 탁한느낌  이거 햅쌀 아닌거같죠',\n",
              "  ' 오늘만 쉬고 내일 다시한번 먹여볼까요',\n",
              "  ' 조만간에 저도 한번 다녀와야겠어요',\n",
              "  '  월요일부터 이유식을 시작하려 하는데   쌀가루가 알러지가 있을 수 있다',\n",
              "  ' 존재하지 않는 이미지입니다',\n",
              "  '   막상 사먹으려나 종류가 엄청 많은데요',\n",
              "  ' 밀가루 드시면 안되는 시어머님과 남편 간식으론요런게 딱이예요',\n",
              "  ' 한개는 초코도 듬뿍 넣어봤어요',\n",
              "  '    제 정보가 도움이 되셨다면  추천을 꾸우욱 눌러주세요',\n",
              "  '   사과랑밭이랑 농장입니다',\n",
              "  '  실제로 보내신분들의 경험을 덧글로 추천해주시기 바랍니다',\n",
              "  ' 깨끗합니다',\n",
              "  '        본 정보의 모든 책임은 정보 제공자에게 있음을 고지합니다',\n",
              "  ' 쌀이 똑 떨어졌어요',\n",
              "  ' 베베  쌀미음 어제까지 먹였구요',\n",
              "  '법 지켜야해서 옆동네 풍기인삼 찌꺼기를 퇴비로 삼촌이 정성들여 키우신거구요',\n",
              "  '  저도 모내기와 수확할때 같이 했구요',\n",
              "  '        1단계 레시피 5개 작성    도전성공 인증하기    1단계 혜택받기             2단계 레시피 5개 작성    도전성공 인증하기    2단계 혜택받기     3단계 레시피 5개 작성  4  글 작성시 제목은   000단계   000빵  00번째 레시피  양식을 꼭 지켜 주세요',\n",
              "  '                                                           2            3                0   0                   0                    0                                                                               0 0 도움말라이센스                        4 17 48                  2020 2 12                 동영상 인코딩 중입니다',\n",
              "  '   보다 나은 카페환경을 위해 아래 카페규칙을 꼭 지켜주세요',\n",
              "  '  철원현우네 입니다',\n",
              "  '  저는 15년차 홈베이커입니다',\n",
              "  '얼굴에는 지금은 아무것도 안났구요',\n",
              "  '   고시히카리벼는 현재 다 소진되었습니다',\n",
              "  ' 저희집쌀통에 다 안들어가서남은쌀 페트병에 담아놨습니다',\n",
              "  ' 오늘 신랑한테 쌀 떨어져가서 사야될거같다고하니 벌써  이러네요',\n",
              "  ' 혹시 아시는분 계실까요',\n",
              "  '  향미는 밥에서 누룽지향이 하는 고소한 쌀입니다',\n",
              "  '    매장주소   충청남도 천안시 동남구 수신면 속창1길 1 6  천안 아산 직접 배달 주문 계좌이체  카드  네이버페이 결제가능 아래 링크를 통해서만 주문 가능합니다',\n",
              "  '    그런데 3   교동쌀이 색이 이상하더라',\n",
              "  '    아님 재료마다 용량이 좀 달라져야 하는지     유튜브에 질문해났는데 답을 안주셔서요',\n",
              "  ' 선거광고 안내       음소거00 00   00 04 화질 선택 옵션자동     자동       270        480    화질  전체화면    00 00  00 01  00 02  00 03  00 04 광고정보 더보기초 후     초 후 재생    광고 후 계속됩니다',\n",
              "  ' 저는 동송  갈말  대마리만 먹어봤는데 다들 어느 농협 선호하세용 다음번에 추천받아서 먹어보고 싶네용 그리고 송도내에서 오대쌀 살 수 있는곳 있을까요',\n",
              "  '고 하던데요',\n",
              "  ' 연락주세요',\n",
              "  '  010 3101 5739많은 주문 부탁드립니다',\n",
              "  ' 2  글제목은 30자이내로 작성해주세요',\n",
              "  '  소화도 돕고 밥이 맛있답니다',\n",
              "  ' 20   주문하시면 10   쌀 두개를 한상자에 넣어 보내드려요',\n",
              "  '  럭셔리찹쌀파이  찹쌀과 동물성생크림 파스퇴르생크림  각종 견과류가 듬뿍 들어간 건강한 파이입니다',\n",
              "  '  경남 사천에서 직접 재배한 2020년 9월에 수확한 하이아미쌀 판매합니다',\n",
              "  '     맛있는 당박사쌀로 당조절과 당관리  매일 꾸준히 하고있어요',\n",
              "  '  10키로 42000원 택배비포함  20키로 75000원 택배비포함  인천 강화군 재배 백진주쌀  2020년 11월27일 도정 10키로 42000원 택배비포함  20키로 75000원 택배비포함  인천 강화군 재배 자루 포장후 박스에 담아 택배로 보내드립니다',\n",
              "  ' 가지러오셔야합니다',\n",
              "  '  그때 쌀 어디꺼 쓰시는지 못물어본게후회되더라',\n",
              "  '  뭐가 문제일까요',\n",
              "  ' 너무 감사합니다',\n",
              "  '  지난번에 한바퀴도는데   없   는것   같아서여  친구가 빈손으로 오라는데신혼부부라 쌀 10  랑 디저트 사가려고하는데어떤가요  그리고 어디쌀이 좋은가용      저는 베이킹할때 유튜브보고 레시피데로 하거든요',\n",
              "  '  저희가 낼 아침 여행을 가는데 오셔서 가져가실 수 있으면 집 앞에 두겠습니다',\n",
              "  '  추천좀 해주세요',\n",
              "  '   습하고하니  쌀벌레    생겼어요',\n",
              "  '고하면 바꾸실맘님 계신가요 혹시 바꾼다면 몇키로 정도로 생각하시는지 쌀로 교환하면 위반인거면 삭제할께요',\n",
              "  '잘 먹겠습니다',\n",
              "  ' 혹시 질문글이신가요  질문은 질문 게시판에 작성해 주세요',\n",
              "  ' 아주 맛있다',\n",
              "  '       만족도와 재주문이 계속 들어오는 쌀로만든 테라  무지개쌀케이크 입니다',\n",
              "  '    몇시간 지나면 밥알이 물을 다 흡수해서 밥만 보입니다',\n",
              "  '    유기농이에요',\n",
              "  '  다들 애정하시는 쌀 있으시죵 저는 이것저것 맛있다',\n",
              "  '용이동입니다',\n",
              "  ' 몇달은 든든히 먹을꺼  같아요',\n",
              "  '    구매 후기 작성시에는 상품 전체 와 부분 사진을 첨부해주세요',\n",
              "  '  2020년 햅쌀 누룽지향이 나는 향미입니다',\n",
              "  ' 쌀 자체가 한국쌀이랑 달라서 맛없는것도 있겠지만 밥짓는방법이 틀린걸  도 모르겠단 생각이 들어서    찰기없는 외국쌀 냄비로 밥 지을때 물 양 어느정도 넣으세요',\n",
              "  '  010 4114 4745 카톡      0524   배달 주문시  1만원 이상부터  배달비 2 000원 별도 있어요',\n",
              "  '    완성된 술은 걸러서 원액과 물을 6 4로 섞어서 냉장고에 보관하면 시간이 지날수록 숙성되면서 맛이 부드럽게 변하게 됩니다',\n",
              "  '    농가에서 직접 생산 도정 발송하므로 농사 일정을 고려하여      매주 화요일과 금요일에 발송합니다',\n",
              "  '   덧술시도 마찬가지구요',\n",
              "  '  식품의 유형 쌀 등급 보통  유통기한 제조연월일 2020년산 인증정보 유기농인증 15101484   저탄소인증 2017 018  관련법상 표시사항   본 정보는 판매자가 등록한 것으로 등록 정보에 대한 일체의 책임은 판매자에게 있습니다',\n",
              "  '      재료는 쌀7키로  물7리터  쌀누룩1키로  효모 조금  쌀누룩은 인터넷으로 화왕산성쌀누룩을 구입  효모는 2년전에 100그램짜리 구입해서 냉장보관하면서 사용   밑술   쌀 2 5   물 7   쌀누룩 1   효모 조금   덧술   쌀4 5       밑술 만들고 2일하고 몇시간 지나서 덧술을 했습니다',\n",
              "  '   추천 부탁드려요',\n",
              "  '이틀전인가  입술 옆에 태열처럼 한두개   붉게 생겨서 태열인가하고 넘기고어제 씻길때보니까 저랬어요',\n",
              "  ' 모내기부터 도정 포장 판매까지 모든작업을 직접하여 최소의 마진으로최상의 상품을 판매하고있습니다',\n",
              "  '     40킬로 정도됩니다',\n",
              "  ' 고시히까리라고 아시는 분들은 아시겠지만초밥용  급 쌀로 밥맛은 아주 아주 좋은 쌀입니다',\n",
              "  '   전 아에르 베이지가 있는데 제가 그렇게 좋아하는 색이아니라서요',\n",
              "  ' 미리 감사합니다',\n",
              "  '  신안정의 벼 논에는 메뚜기를 비롯한 미꾸라지  투구 새우  반딧불이  청개구리 등 다양한 생물들이 살고 있습니다',\n",
              "  '꼭 미리 예약주문해주셔야합니다',\n",
              "  '  포장 및 배송 안내 손주들이 내려와서 쌀이 담긴 포장지를 들고 찍은 사진입니다',\n",
              "  ' 외식도 안하고 매일 집밥먹으니 쌀이 금방없어져요   그래서 혹시 시골에서 쌀 받아서 쌀 넉넉하신분들 초딩아이들 쌀 받은거있자나요 그거로 교환하자',\n",
              "  ' 오븐에 들어감 가운데가 점점 사라지네요',\n",
              "  '   도움에 미리 감사드립니다',\n",
              "  ' 좋은 쌀 추천해주세요',\n",
              "  '   주문번호 010 2101 7499 위번호로 주문서 부탁드립니다',\n",
              "  '  문자나 카톡으로 주문 남겨주세요',\n",
              "  '  모두 부모님께서 직접 농사지은거고요',\n",
              "  ' 병원가야할 정도 인가요  지금 베베  초기2까지 주문 넣어놧는데   그래도 조금씩 먹여봐도 될까요',\n",
              "  ' 아품님들    혹시 드셔보신 쌀 중에 정말 맛난 쌀이 있으신가용   여주쌀이 가장 맛나다고 생각했는데    종류가 엄  청 많네요',\n",
              "  '   제가 요리센스가 부족한지 전부칠때 부침가루에 조금씩 섞기만 하는데  요리센스 좋은 천사맘이 다른 노하우좀 알려주셨음 좋겠어요',\n",
              "  '   버려야할까요',\n",
              "  '     오늘 새로운 사실을 알았네요',\n",
              "  '    쪽 지   라는글이 들어가면 스팸 처리되기때문에  본내용을 삭제하지 않고 글을 올리시면  올리신글이 자동으로 스팸게시글로 삭제가 됩니다',\n",
              "  ' 프랑스 마트에서 산 쌀로 밥 지을때도 한국쌀이랑 똑같이 하면 되나요  그리구 여기 쌀도 씻어서 먹어야되나요  프랑스인 현지인들이랑 같이 살고있는데 밥하는거 보니까 마트에서 사온 쌀을 씻지도 않고 꼭 무슨 파스타 면 삶듯이  완전 한강 물에다가 쌀 넣고 끓여서  나중에 물 채에다가 따라 버리고 먹었는데 완전    맛이 없더라',\n",
              "  '   매번 울 셤니가 팔아오시는데  싼거만 골라오시는건지 밥이 푸석푸석하고 맛이 없어요',\n",
              "  '  핫딜 할인정보만 작성시 글삭제 및 활동정지 됩니다',\n",
              "  '혹시 아시는분 계시면 알려주심 넘 감사합니다',\n",
              "  '                                 일산아지매는 배려입니다',\n",
              "  '  서울 용산구 이촌동이고요',\n",
              "  '      2주는 쓰겠네요',\n",
              "  '   시판으로 시작하려고하다보니이유식에 대해 무지해서    쌀미음에도 알레르기가 있는 줄 몰랐어요',\n",
              "  '    후기 이벤트   28일 오후 10시까지 줌마켓 후기 게시판에 써 주신 후기 글들 중  추첨을 통해 아래의 물품을 드립니다',\n",
              "  '고 하셔서요',\n",
              "  '   산딸기 좋아 하시는분들은 꼭 드셔 보시라고 추천합니다',\n",
              "  ' 밀가루보단 포슬거리는 쌀가루 특유의 식감이 있는건 어쩔수 없는거 같아요',\n",
              "  '                                              일산아지매는 배려입니다',\n",
              "  ' 궁금해요',\n",
              "  '    몰스에서는 서로에게 최소한의 예의를 지켜야하며  광고  악성댓글  상처를 줄수 있는 댓글  비방글  확인되지 않은 마녀사냥이 될 수 있는 글은 6개월 활동정지 및 강퇴됩니다',\n",
              "  '       괜히  벌레 생길꺼같고    한숨    질문  쌀 냉장고에 보관해도 되죠',\n",
              "  ' 선거광고 안내       음소거00 00   00 08 화질 선택 옵션자동     자동       270        480        720           1080       화질  전체화면    00 01  00 03  00 05  00 07 광고정보 더보기초 후     초 후 재생    광고 후 계속됩니다',\n",
              "  '고 해서요',\n",
              "  '     박력밀가루 레시피에 박력쌀가루를 대체하고 레시피 그대로 해도 될까요',\n",
              "  ' 정보 부탁드려요',\n",
              "  '  직접키운 쌀을 최신식 도정기계로 가장 맛있는 쌀을 만들어 판매합니다',\n",
              "  '   껍질깐 옥수수알  1  양입니다',\n",
              "  '        일기형식의 5자이내 제목글 및 30자 이내 글내용은 삭제됩니다',\n",
              "  '  선물 포장과 실속포장 그리고 현우네 농원 생산물을 다양하게 준비하였습니다',\n",
              "  '    향기로운뇨자   재생 수0                       마우스를 드래그 하세요',\n",
              "  '   덧술후 하루저녁이 지난 모습입니다',\n",
              "  ' 곰팡이 일까요',\n",
              "  '  저희 아버지는  정미소 를 하시고 계십니다',\n",
              "  ' 저희 신랑이 입맛이 까다로워서 맛있는 쌀을 찾고 있어요',\n",
              "  ' 저는 2 3회 씻는데 이것부터 잘못이래요 그리고 보온은 12시간이상 하지않는걸 추천한다',\n",
              "  '  기타 수제먹거리는 따로 문의 주세요',\n",
              "  '   적당히 살려는 주는  기생파리까지     넘 작아서 벼룩파리라고도 하는데요',\n",
              "  '   윤기 촤르르에 밥알이 굵어서 진짜 맛난거 같아요',\n",
              "  ' 감사히 잘 먹겠습니다',\n",
              "  ' 밀가루 없이 쌀가루가 들어간 글루텐프리 베이킹이며  달걀 우유 버터가 들어가지 않은 비건베이킹입니다',\n",
              "  '  보관안내  보관은 꼭 실온 3 4일 혹은 냉동으로   냉장 보관하게 되면 습기가 차서 맛도 덜하고 상하기 쉬워요 장기 보관 하신다면 꼭 냉동해주세요',\n",
              "  '  찰진 쌀 추천바랍니다',\n",
              "  '  쌀가루는 슈퍼스토어나 세이브온푸드 인터내셔널 코너에서 찾을수 있답니다',\n",
              "  '  아니면 습식 쌀가루 키로로 파는 방앗간은   호매실에 없을까요',\n",
              "  '    이제부터라도 식습관을 아예 고쳐보려고 하는데요',\n",
              "  '  맛있습니다',\n",
              "  '  우렁이들과 함께 손수 풀을 메는 농부의 손길로 자랍니다',\n",
              "  '   가급적이면 간단히 만드는 방법 귀뜸도 해주심 감사해용참고로 쌀가루만으로 전부쳤다 퍽퍽해서 못먹은 1인이예요',\n",
              "  '르더라',\n",
              "  '  경남 사천에서 직접 재배한 2020년 10월에 수확한 하이아미쌀 판매합니다',\n",
              "  ' 올굿 쌀호두과자는  밀가루  글루텐   100  친환경 우리쌀 국내 최초로 밀가루가 전혀 들어가지 않은 100  국내산 친환경 쌀로만 호두과자를 만들었습니다',\n",
              "  '   혹시 저희 아버지와 같은 경우가 있을까요',\n",
              "  '  택포오만원에드려요',\n",
              "  '      마감  스페셜 원데이 쌀 찜 제누와즈 입니다',\n",
              "  '  필요하신 분 빠르게 연락주세요',\n",
              "  '    아이들 먹이는 쌀을       너무 하더라',\n",
              "  '  쌀 가격이 좀 올랐길래 최대한 저렴한걸로 구입했더니 거뭇거뭇한 쌀알이 많이 보여요     쌀 포장지에는 햅쌀 2020년 9월28 도정으로 날짜까지 적혀있는데    이 거뭇거뭇한게 왜 이런건지 아시는 분 계시면 좀 알려주셔요 며칠전 너무너무 감격하며 먹었던 우유쌀식빵  그 감동    다시 느끼고싶어 새벽에 쌀가루도착하자',\n",
              "  '                                                   일산아지매는 배려입니다',\n",
              "  '  있다',\n",
              "  '       한컵했는데 170 정도 나왔어요',\n",
              "  '  2020년 수확이 시작되었습니다',\n",
              "  ' 기린쌤입니다',\n",
              "  '      일상수다 게시판 입니다',\n",
              "  ' 잘 먹겠습니다',\n",
              "  '  원장입니다',\n",
              "  '   11월 29일 제조   딸기쌀오믈렛빵 1박스 10개 쌀오믈렛빵에 동물성생크림 파스퇴르생크림  올리고 아직은 금값인 장희딸기 2번 올라갑니다',\n",
              "  '고 들었는데 이렇게 먹어볼 기회가 생겼네요',\n",
              "  '   저번 생선택배에도 이번 쌀 택배에도 애기 까까값이라고 봉투를 넣어주셨어요',\n",
              "  '만 그냥 고두밥을 식혀서 물과 함께 넣어도 됩니다',\n",
              "  ' 도정날짜19년11월입니다',\n",
              "  '  40  내외로 소분했어',\n",
              "  '   시골에서 주신 쌀 보관을 못해서 새로 사서 먹어야 해요',\n",
              "  '가 필요할때 막걸리를 만들거나 아니면 원액 그대로도 맛이 아주 좋고 맑은술만 먹어도 됩니다',\n",
              "  '  종로구 이화동입니다',\n",
              "  '  신동진쌀은 쌀알이 굵고 밥을 했을때 윤기있고 찰집니다',\n",
              "  '   주변에 쌀벌레가 있었는데 무서워서 안 열어보고 버리려고 합니다',\n",
              "  '면 현미쌀4로도 가능할까요',\n",
              "  '   감사해요',\n",
              "  '   글로 설명하기가 어렵네요',\n",
              "  '  해풍맞고 자라 더 맛난 백진주쌀   그리고 구수한 누룽지 향이 나는 누룽지 향찹쌀과 백미를 섞은 누룽지 향찹쌀 혼합미   지난달에 이렇게 수확을 했습니다',\n",
              "  '  하  지금 너무흥분상태라  다소격해보일순있겠는데 쌀 샀는데 쌀 씻은 물이 까매서 이상하다 이상하다 씻고 또씻어도 까맣고 알이 초록색으로 보여서 오분도미라그런가 친환경쌀이라 그런가 정말 미련스럽게도 곰팡이쌀인것도 모르고 여태 20개월아기한테 그거먹인게 너무 열받고 내가 왜진작 적극적으로 인터넷으로정보좀찾아볼껄 핑계라면 독박육아라 하루하루 빡센탓에  계속쌀이맛이없다 농라에서 참 여러군데 사먹었지만 제일맛도없고 쌀알이 굴러다녀서 찹쌀섞고 미련맞게 이랬네여 아기한테 그렇게먹인게너무속상해여 좋은것만 먹이고싶어서 계속 좋은재료로 만들어먹였는데 참  그냥농라라도 기존에 이용했던   사람들이 많이 이용하는 그런데서 사먹어야겠어요',\n",
              "  '필요하신분 가져가세요',\n",
              "  '   애기 이유식 시작할때부터 좋은걸로 해먹이라며   보내주세요',\n",
              "  ' 헤이즐넛초코 아몬드시나몬 블랙스모어 말차마카다미아요렇게 4가지예요',\n",
              "  '는거 첨 알았어요',\n",
              "  '묵은쌀 드려요',\n",
              "  '   저렴한 쌀 에는 이유가 있다',\n",
              "  '  일요일인데 택배와서 깜놀  14키로   택배기사님 날도 더운데 일요일까지 무거운 쌀 배달 감사합니다',\n",
              "  '    댓글이나 쪽지 채팅은 거의 확인 안하니주문은 제 핸드폰 문자로 부탁드려요',\n",
              "  '           해외직구 쇼핑 커뮤니티   국내쇼핑 핫딜 세일정보   대한민국 최저가 쇼핑정보       똑소리 나는 쇼핑 바이블 진희맘홀릭                                                                        아이 이유식하고 남은 냉동 쌀가루요    큰 락앤락으로 2팩이나 되요',\n",
              "  '  댓글달아주세요',\n",
              "  '제 입엔 쑥 향이 향긋하니 좋은데 초딩입맛 남편은 별로랍니다',\n",
              "  '  어떤 쌀이 맛있나요  저희는 이천 임금님표 쌀 자주 먹었었는데 그냥 먹을만 했지',\n",
              "  '    껍질벗긴 옥수수알은 옥수수범벅      해드시고 밥해드시면 정말 맛있구요',\n",
              "  ' 저희는 언제나 전날도정 다음날 발송으로 가장 맛있고 좋은 쌀을 보내드립니다',\n",
              "  '      개인적인 사유로 후기 연장을 원하시는 경우 왼쪽 게시판  건의사항   클릭후 쪽지를 보내주세요',\n",
              "  '   쌀식빵 만들었어',\n",
              "  '   저같이 한국마트 없는 곳에 사시는 분들에게 도움이 될까해서 레시피 알려드려요',\n",
              "  '  10키로 42000원 택배비포함  20키로 75000원 택배비포함  인천 강화군 재배 백진주쌀  2020년 10월23일 도정 10키로 42000원 택배비포함  20키로 75000원 택배비포함  인천 강화군 재배 자루 포장후 박스에 담아 택배로 보내드립니다',\n",
              "  '   그냥 먹어도 될까요',\n",
              "  '   그후에 반죽에 뜨거운물 160  를 넣고 잘 반죽해주시면 되세요',\n",
              "  '   쌀가루 필요해서요',\n",
              "  '    잡곡이나 콩만 드시다가 좀 질리신다면 옥수수알 쌀넣은 밥해드세요',\n",
              "  '  어렵네요',\n",
              "  ' 163일 아가예요',\n",
              "  '   워킹맘이라 초기만 제가 해보고 중기부턴 시판하려했는데   쌀가루는 모두 비추신가요     혹시 괜찮은제품이 있다',\n",
              "  '쌀미음만 중단하면 될까요',\n",
              "  '   원인을 모르겠어요',\n",
              "  '     3  해당하는 레시피에 동그라미     표시해 주시고 단계별로 5개 이상 완료시 도전 성공 인증하기 게시판에    글을 남겨 주세요'])"
            ]
          },
          "metadata": {},
          "execution_count": 22
        }
      ],
      "metadata": {
        "colab": {
          "base_uri": "https://localhost:8080/"
        },
        "id": "QA7Wi4Yshj6b",
        "outputId": "9397746b-07ca-4bf6-fa38-7373baf97893"
      }
    },
    {
      "cell_type": "code",
      "execution_count": 23,
      "source": [
        "# 중복제거\r\n",
        "data2 = sentence_Data\r\n",
        "for i in idx_sentence:\r\n",
        "    data2 = data2[sentence_Data['content'] != i] # 중복 완료해서 저장\r\n",
        "# 데이터 사이즈 확인\r\n",
        "print ('중복제거 전 데이터: ', len(sentence_Data), '중복제거완료 데이터: ', len(data2) ) #중복제거 전 데이터, 중복제거완료 데이터   \r\n",
        "# null 확인\r\n",
        "print( data2.isnull().sum() )"
      ],
      "outputs": [
        {
          "output_type": "stream",
          "name": "stderr",
          "text": [
            "/usr/local/lib/python3.7/dist-packages/ipykernel_launcher.py:4: UserWarning: Boolean Series key will be reindexed to match DataFrame index.\n",
            "  after removing the cwd from sys.path.\n"
          ]
        },
        {
          "output_type": "stream",
          "name": "stdout",
          "text": [
            "중복제거 전 데이터:  48332 중복제거완료 데이터:  37243\n",
            "content    0\n",
            "dtype: int64\n"
          ]
        }
      ],
      "metadata": {
        "colab": {
          "base_uri": "https://localhost:8080/"
        },
        "id": "uL9Igv3Xhj6d",
        "outputId": "b9fd3e2f-66e1-449e-a059-0e0704140e6f"
      }
    },
    {
      "cell_type": "code",
      "execution_count": 24,
      "source": [
        "data2 # 인덱스 정렬 재필요해 보임"
      ],
      "outputs": [
        {
          "output_type": "execute_result",
          "data": {
            "text/html": [
              "<div>\n",
              "<style scoped>\n",
              "    .dataframe tbody tr th:only-of-type {\n",
              "        vertical-align: middle;\n",
              "    }\n",
              "\n",
              "    .dataframe tbody tr th {\n",
              "        vertical-align: top;\n",
              "    }\n",
              "\n",
              "    .dataframe thead th {\n",
              "        text-align: right;\n",
              "    }\n",
              "</style>\n",
              "<table border=\"1\" class=\"dataframe\">\n",
              "  <thead>\n",
              "    <tr style=\"text-align: right;\">\n",
              "      <th></th>\n",
              "      <th>content</th>\n",
              "    </tr>\n",
              "  </thead>\n",
              "  <tbody>\n",
              "    <tr>\n",
              "      <th>0</th>\n",
              "      <td>쌀구움과자  장여진  채미희 지음경향미디어메마른 쌀베이킹계의...</td>\n",
              "    </tr>\n",
              "    <tr>\n",
              "      <th>1</th>\n",
              "      <td>쌀베이킹을 하면서밀베이킹과는 조금다른 결과물에당황할 때도 종종 있거든요</td>\n",
              "    </tr>\n",
              "    <tr>\n",
              "      <th>2</th>\n",
              "      <td>클래스를 다녀야하나 고민도해봤는데시간이 없는 저로썬 집에서 끙끙 앓고 있었는데너...</td>\n",
              "    </tr>\n",
              "    <tr>\n",
              "      <th>3</th>\n",
              "      <td>프롤로그 쌀베이킹을 시작한 이유에 대해 적혀져있어요</td>\n",
              "    </tr>\n",
              "    <tr>\n",
              "      <th>4</th>\n",
              "      <td>떡으로 시작해서 베이킹까지  여러재료를 활용하고 다양한 가루를사용하셨다고 해요</td>\n",
              "    </tr>\n",
              "    <tr>\n",
              "      <th>...</th>\n",
              "      <td>...</td>\n",
              "    </tr>\n",
              "    <tr>\n",
              "      <th>48327</th>\n",
              "      <td>...</td>\n",
              "    </tr>\n",
              "    <tr>\n",
              "      <th>48328</th>\n",
              "      <td>윤기 좔좔 맛있는 평택쌀   쌀 추청 20    58 000원  54 000...</td>\n",
              "    </tr>\n",
              "    <tr>\n",
              "      <th>48329</th>\n",
              "      <td>재난기금카드 돌봄쿠폰 카드결제 대면결제 계좌이체 온누리상품권  현금영수증 ...</td>\n",
              "    </tr>\n",
              "    <tr>\n",
              "      <th>48330</th>\n",
              "      <td>전화문의 010 2856 8020 계좌  582 12 053282 농협 장유...</td>\n",
              "    </tr>\n",
              "    <tr>\n",
              "      <th>48331</th>\n",
              "      <td></td>\n",
              "    </tr>\n",
              "  </tbody>\n",
              "</table>\n",
              "<p>37243 rows × 1 columns</p>\n",
              "</div>"
            ],
            "text/plain": [
              "                                                 content\n",
              "0                   쌀구움과자  장여진  채미희 지음경향미디어메마른 쌀베이킹계의...\n",
              "1                쌀베이킹을 하면서밀베이킹과는 조금다른 결과물에당황할 때도 종종 있거든요\n",
              "2        클래스를 다녀야하나 고민도해봤는데시간이 없는 저로썬 집에서 끙끙 앓고 있었는데너...\n",
              "3                           프롤로그 쌀베이킹을 시작한 이유에 대해 적혀져있어요\n",
              "4            떡으로 시작해서 베이킹까지  여러재료를 활용하고 다양한 가루를사용하셨다고 해요\n",
              "...                                                  ...\n",
              "48327                                                ...\n",
              "48328      윤기 좔좔 맛있는 평택쌀   쌀 추청 20    58 000원  54 000...\n",
              "48329       재난기금카드 돌봄쿠폰 카드결제 대면결제 계좌이체 온누리상품권  현금영수증 ...\n",
              "48330      전화문의 010 2856 8020 계좌  582 12 053282 농협 장유...\n",
              "48331                                                   \n",
              "\n",
              "[37243 rows x 1 columns]"
            ]
          },
          "metadata": {},
          "execution_count": 24
        }
      ],
      "metadata": {
        "colab": {
          "base_uri": "https://localhost:8080/",
          "height": 0
        },
        "id": "RGrDmY6Hhj6e",
        "outputId": "7c577f5d-2984-4379-97bc-36fd145e0490"
      }
    },
    {
      "cell_type": "code",
      "execution_count": 25,
      "source": [
        "data_content = data2[['content']].dropna(axis=0) # null 제거\r\n",
        "data_content.reset_index(drop=True, inplace=True) # 인덱스 재정렬\r\n",
        "data_content"
      ],
      "outputs": [
        {
          "output_type": "execute_result",
          "data": {
            "text/html": [
              "<div>\n",
              "<style scoped>\n",
              "    .dataframe tbody tr th:only-of-type {\n",
              "        vertical-align: middle;\n",
              "    }\n",
              "\n",
              "    .dataframe tbody tr th {\n",
              "        vertical-align: top;\n",
              "    }\n",
              "\n",
              "    .dataframe thead th {\n",
              "        text-align: right;\n",
              "    }\n",
              "</style>\n",
              "<table border=\"1\" class=\"dataframe\">\n",
              "  <thead>\n",
              "    <tr style=\"text-align: right;\">\n",
              "      <th></th>\n",
              "      <th>content</th>\n",
              "    </tr>\n",
              "  </thead>\n",
              "  <tbody>\n",
              "    <tr>\n",
              "      <th>0</th>\n",
              "      <td>쌀구움과자  장여진  채미희 지음경향미디어메마른 쌀베이킹계의...</td>\n",
              "    </tr>\n",
              "    <tr>\n",
              "      <th>1</th>\n",
              "      <td>쌀베이킹을 하면서밀베이킹과는 조금다른 결과물에당황할 때도 종종 있거든요</td>\n",
              "    </tr>\n",
              "    <tr>\n",
              "      <th>2</th>\n",
              "      <td>클래스를 다녀야하나 고민도해봤는데시간이 없는 저로썬 집에서 끙끙 앓고 있었는데너...</td>\n",
              "    </tr>\n",
              "    <tr>\n",
              "      <th>3</th>\n",
              "      <td>프롤로그 쌀베이킹을 시작한 이유에 대해 적혀져있어요</td>\n",
              "    </tr>\n",
              "    <tr>\n",
              "      <th>4</th>\n",
              "      <td>떡으로 시작해서 베이킹까지  여러재료를 활용하고 다양한 가루를사용하셨다고 해요</td>\n",
              "    </tr>\n",
              "    <tr>\n",
              "      <th>...</th>\n",
              "      <td>...</td>\n",
              "    </tr>\n",
              "    <tr>\n",
              "      <th>37238</th>\n",
              "      <td>...</td>\n",
              "    </tr>\n",
              "    <tr>\n",
              "      <th>37239</th>\n",
              "      <td>윤기 좔좔 맛있는 평택쌀   쌀 추청 20    58 000원  54 000...</td>\n",
              "    </tr>\n",
              "    <tr>\n",
              "      <th>37240</th>\n",
              "      <td>재난기금카드 돌봄쿠폰 카드결제 대면결제 계좌이체 온누리상품권  현금영수증 ...</td>\n",
              "    </tr>\n",
              "    <tr>\n",
              "      <th>37241</th>\n",
              "      <td>전화문의 010 2856 8020 계좌  582 12 053282 농협 장유...</td>\n",
              "    </tr>\n",
              "    <tr>\n",
              "      <th>37242</th>\n",
              "      <td></td>\n",
              "    </tr>\n",
              "  </tbody>\n",
              "</table>\n",
              "<p>37243 rows × 1 columns</p>\n",
              "</div>"
            ],
            "text/plain": [
              "                                                 content\n",
              "0                   쌀구움과자  장여진  채미희 지음경향미디어메마른 쌀베이킹계의...\n",
              "1                쌀베이킹을 하면서밀베이킹과는 조금다른 결과물에당황할 때도 종종 있거든요\n",
              "2        클래스를 다녀야하나 고민도해봤는데시간이 없는 저로썬 집에서 끙끙 앓고 있었는데너...\n",
              "3                           프롤로그 쌀베이킹을 시작한 이유에 대해 적혀져있어요\n",
              "4            떡으로 시작해서 베이킹까지  여러재료를 활용하고 다양한 가루를사용하셨다고 해요\n",
              "...                                                  ...\n",
              "37238                                                ...\n",
              "37239      윤기 좔좔 맛있는 평택쌀   쌀 추청 20    58 000원  54 000...\n",
              "37240       재난기금카드 돌봄쿠폰 카드결제 대면결제 계좌이체 온누리상품권  현금영수증 ...\n",
              "37241      전화문의 010 2856 8020 계좌  582 12 053282 농협 장유...\n",
              "37242                                                   \n",
              "\n",
              "[37243 rows x 1 columns]"
            ]
          },
          "metadata": {},
          "execution_count": 25
        }
      ],
      "metadata": {
        "colab": {
          "base_uri": "https://localhost:8080/",
          "height": 0
        },
        "id": "I2DGJeMrhj6e",
        "outputId": "7d10fc08-8c37-4904-ab55-8515ca00144e"
      }
    },
    {
      "cell_type": "code",
      "execution_count": 26,
      "source": [
        "# pred에 str이 아닌게 존재하네! nan임을 확인함 # 제거하고 데이터 다시 가져옴\r\n",
        "for i in range(len(data2)):\r\n",
        "    if type(data_content['content'][i]) != str :\r\n",
        "        print(i) # null없음 확인 땅땅!"
      ],
      "outputs": [],
      "metadata": {
        "id": "IV2V1HGAhj6f"
      }
    },
    {
      "cell_type": "markdown",
      "source": [
        "## 03. train / test 분리"
      ],
      "metadata": {
        "id": "Ms6cAt94hj6f"
      }
    },
    {
      "cell_type": "markdown",
      "source": [
        "### -case 1) train / test split"
      ],
      "metadata": {
        "id": "_AJfQExSU-Dh"
      }
    },
    {
      "cell_type": "code",
      "execution_count": 28,
      "source": [
        "# Train용 데이터셋과 Test용 데이터 셋 분리\r\n",
        "# 예측력을 높이기 위해 수집된 데이터를 학습용과 테스트 용으로 분리하여 진행\r\n",
        "\r\n",
        "from sklearn.model_selection import train_test_split\r\n",
        "# train_x, test_x, train_y, test_y = train_test_split(train_df[0], train_df[1] , test_size=0.2, random_state=0)  # 현대만 학습\r\n",
        "train_x, test_x, train_y, test_y = train_test_split(train_df_2['train'], train_df_2['score'] , test_size=0.2, random_state=0) # 현대 쿠팡학습\r\n",
        "\r\n",
        "print(len(train_x), len(train_y), len(test_x), len(test_y))"
      ],
      "outputs": [
        {
          "output_type": "stream",
          "name": "stdout",
          "text": [
            "12584 12584 3146 3146\n"
          ]
        }
      ],
      "metadata": {
        "colab": {
          "base_uri": "https://localhost:8080/"
        },
        "id": "Jc9WMqsehj6g",
        "outputId": "edf86bc1-f3f8-40a9-b633-d2675340bfa6"
      }
    },
    {
      "cell_type": "code",
      "execution_count": 29,
      "source": [
        "# train data의 긍부정 비율 확인 : 긍정1 / 중립0 / 부정 -1\r\n",
        "%matplotlib inline \r\n",
        "import matplotlib.pyplot as plt\r\n",
        "\r\n",
        "train_y.value_counts().plot(kind='bar')"
      ],
      "outputs": [
        {
          "output_type": "execute_result",
          "data": {
            "text/plain": [
              "<matplotlib.axes._subplots.AxesSubplot at 0x7f941b82cf10>"
            ]
          },
          "metadata": {},
          "execution_count": 29
        },
        {
          "output_type": "display_data",
          "data": {
            "image/png": "[encoded data removed]",
            "text/plain": [
              "<Figure size 432x288 with 1 Axes>"
            ]
          },
          "metadata": {
            "needs_background": "light"
          }
        }
      ],
      "metadata": {
        "colab": {
          "base_uri": "https://localhost:8080/",
          "height": 284
        },
        "id": "i87D8ESthj6h",
        "outputId": "f4287b4d-adf0-41a2-b2a2-29e17b9f025e"
      }
    },
    {
      "cell_type": "code",
      "execution_count": 30,
      "source": [
        "test_y.value_counts().plot(kind='bar')"
      ],
      "outputs": [
        {
          "output_type": "execute_result",
          "data": {
            "text/plain": [
              "<matplotlib.axes._subplots.AxesSubplot at 0x7f941b5f7250>"
            ]
          },
          "metadata": {},
          "execution_count": 30
        },
        {
          "output_type": "display_data",
          "data": {
            "image/png": "[encoded data removed]",
            "text/plain": [
              "<Figure size 432x288 with 1 Axes>"
            ]
          },
          "metadata": {
            "needs_background": "light"
          }
        }
      ],
      "metadata": {
        "colab": {
          "base_uri": "https://localhost:8080/",
          "height": 284
        },
        "id": "PtwWP2vuVp7O",
        "outputId": "27fb120e-d66a-4464-e2af-43685575390b"
      }
    },
    {
      "cell_type": "markdown",
      "source": [
        "### - case2) train: 쿠팡 / test: 300st"
      ],
      "metadata": {
        "id": "BbumyKkFVCif"
      }
    },
    {
      "cell_type": "code",
      "execution_count": 33,
      "source": [
        "#01. 데이터 불러오기\r\n",
        "retest_data = pd.read_excel('test_data/retest300st.xlsx')\r\n",
        "retest_data\r\n",
        "\r\n",
        "#02. 전처리\r\n",
        "# retest_data의 test 칼럼을 긍정 1, 중립0 부정 -1로 교체\r\n",
        "y_score=[]\r\n",
        "for i in range(len(retest_data)):\r\n",
        "    if retest_data['test'][i] == '부정':\r\n",
        "        y_score.append(-1)\r\n",
        "    elif retest_data['test'][i] == '중립':\r\n",
        "        y_score.append(0)\r\n",
        "    else:\r\n",
        "        y_score.append(1)"
      ],
      "outputs": [],
      "metadata": {
        "id": "67Nq7D9FWHFi"
      }
    },
    {
      "cell_type": "code",
      "execution_count": 35,
      "source": [
        "# Train용 데이터셋과 Test용 데이터 셋 분리\r\n",
        "# test_x와 test_y 교체\r\n",
        "\r\n",
        "train_x = train_df_2['train']\r\n",
        "train_y =train_df_2['score']\r\n",
        "test_x = retest_data['content'].astype(str)\r\n",
        "test_y = y_score\r\n",
        "\r\n",
        "print(len(train_x), len(train_y), len(test_x), len(test_y))\r\n",
        "print(type(train_x), type(train_y), type(test_x), type(test_y))"
      ],
      "outputs": [
        {
          "output_type": "stream",
          "name": "stdout",
          "text": [
            "15730 15730 300 300\n",
            "<class 'pandas.core.series.Series'> <class 'pandas.core.series.Series'> <class 'pandas.core.series.Series'> <class 'list'>\n"
          ]
        }
      ],
      "metadata": {
        "colab": {
          "base_uri": "https://localhost:8080/"
        },
        "id": "KaX_kvFYVknu",
        "outputId": "a5d298a3-3395-4757-f447-5b09eec14b24"
      }
    },
    {
      "cell_type": "markdown",
      "source": [
        "## => case2 로 진행하기로함!"
      ],
      "metadata": {
        "id": "nDK3PVVoaD9j"
      }
    },
    {
      "cell_type": "markdown",
      "source": [
        "## 04. 토큰화 및 벡터화"
      ],
      "metadata": {
        "id": "VdaLz3Lkhj6k"
      }
    },
    {
      "cell_type": "markdown",
      "source": [
        "### - x_토큰화"
      ],
      "metadata": {
        "id": "STWcHjjlhj6l"
      }
    },
    {
      "cell_type": "code",
      "execution_count": 36,
      "source": [
        "stopwords = ['의', '가', '이', '은', '들', '는', '좀', '잘', '걍', '과', '도', '를', '으로', '자', '에', '와', '한', '하다']"
      ],
      "outputs": [],
      "metadata": {
        "id": "JX9Pwp46hj6m"
      }
    },
    {
      "cell_type": "code",
      "execution_count": 37,
      "source": [
        "import konlpy \r\n",
        "from konlpy.tag import Okt \r\n",
        "okt = Okt() \r\n",
        "X_train = [] \r\n",
        "for sentence in train_x:\r\n",
        "    temp_X = [] \r\n",
        "    temp_X = okt.morphs(sentence, stem=True) # 토큰화 \r\n",
        "    temp_X = [word for word in temp_X if not word in stopwords] # 불용어 제거 \r\n",
        "    X_train.append(temp_X) \r\n",
        "    \r\n",
        "X_test = [] \r\n",
        "for sentence in test_x:\r\n",
        "    temp_X = [] \r\n",
        "    temp_X = okt.morphs(sentence, stem=True) # 토큰화 \r\n",
        "    temp_X = [word for word in temp_X if not word in stopwords] # 불용어 제거 \r\n",
        "    X_test.append(temp_X)\r\n"
      ],
      "outputs": [],
      "metadata": {
        "id": "lVAoWA6Qhj6n"
      }
    },
    {
      "cell_type": "markdown",
      "source": [
        "### - x_정수 인코딩"
      ],
      "metadata": {
        "id": "f6Lz1UQqhj6p"
      }
    },
    {
      "cell_type": "code",
      "execution_count": 38,
      "source": [
        "# 정수 인코딩\r\n",
        "from keras.preprocessing.text import Tokenizer \r\n",
        "max_words = 35000 \r\n",
        "tokenizer = Tokenizer(num_words = max_words) \r\n",
        "tokenizer.fit_on_texts(X_train) \r\n",
        "X_train = tokenizer.texts_to_sequences(X_train) \r\n",
        "X_test = tokenizer.texts_to_sequences(X_test)"
      ],
      "outputs": [],
      "metadata": {
        "id": "QpwA_ZXrhj6p"
      }
    },
    {
      "cell_type": "code",
      "execution_count": 39,
      "source": [
        "# x 길이 확인\r\n",
        "print(\"train 최대 길이 : \", max(len(l) for l in X_train)) \r\n",
        "print(\"train 평균 길이 : \", sum(map(len, X_train))/ len(X_train)) \r\n",
        "\r\n",
        "plt.xlim([0, 100]) \r\n",
        "plt.hist([len(s) for s in X_train], bins=50) \r\n",
        "plt.xlabel('length of Data') \r\n",
        "plt.ylabel('number of Data') \r\n",
        "plt.show()"
      ],
      "outputs": [
        {
          "output_type": "stream",
          "name": "stdout",
          "text": [
            "train 최대 길이 :  375\n",
            "train 평균 길이 :  11.4092180546726\n"
          ]
        },
        {
          "output_type": "display_data",
          "data": {
            "image/png": "[encoded data removed]",
            "text/plain": [
              "<Figure size 432x288 with 1 Axes>"
            ]
          },
          "metadata": {
            "needs_background": "light"
          }
        }
      ],
      "metadata": {
        "colab": {
          "base_uri": "https://localhost:8080/",
          "height": 317
        },
        "id": "27Prhgzihj6q",
        "outputId": "2ff4b812-8f50-4034-8458-a3b1d88b5c9f"
      }
    },
    {
      "cell_type": "markdown",
      "source": [
        "### - y 원핫인코딩"
      ],
      "metadata": {
        "id": "R6ZcrCgQZcuT"
      }
    },
    {
      "cell_type": "code",
      "execution_count": 42,
      "source": [
        "# one- hot  encoding\r\n",
        "import numpy as np \r\n",
        "y_train = [] \r\n",
        "y_test = [] \r\n",
        "\r\n",
        "for i in range(len(train_y)):\r\n",
        "    if train_y.iloc[i] == 1: \r\n",
        "        y_train.append([0, 0, 1]) \r\n",
        "    elif train_y.iloc[i] == 0: \r\n",
        "        y_train.append([0, 1, 0]) \r\n",
        "    elif train_y.iloc[i] == -1: \r\n",
        "        y_train.append([1, 0, 0]) \r\n",
        "\r\n",
        "for i in range(len(test_y)): \r\n",
        "    if test_y[i] == 1: \r\n",
        "        y_test.append([0, 0, 1]) \r\n",
        "    elif test_y[i] == 0: \r\n",
        "        y_test.append([0, 1, 0]) \r\n",
        "    elif test_y[i] == -1: \r\n",
        "        y_test.append([1, 0, 0]) \r\n",
        "        \r\n",
        "y_train = np.array(y_train) \r\n",
        "y_test = np.array(y_test)"
      ],
      "outputs": [],
      "metadata": {
        "id": "UinAenKxhj6r"
      }
    },
    {
      "cell_type": "code",
      "execution_count": 43,
      "source": [
        "# y 길이확인\r\n",
        "print(\"test 최대 길이 : \", max(len(l) for l in X_test)) \r\n",
        "print(\"test 평균 길이 : \", sum(map(len, X_test))/ len(X_test)) \r\n",
        "\r\n",
        "plt.xlim([0, 100]) \r\n",
        "plt.hist([len(s) for s in X_test], bins=50) \r\n",
        "plt.xlabel('length of Data') \r\n",
        "plt.ylabel('number of Data') \r\n",
        "plt.show()"
      ],
      "outputs": [
        {
          "output_type": "stream",
          "name": "stdout",
          "text": [
            "test 최대 길이 :  72\n",
            "test 평균 길이 :  11.016666666666667\n"
          ]
        },
        {
          "output_type": "display_data",
          "data": {
            "image/png": "[encoded data removed]",
            "text/plain": [
              "<Figure size 432x288 with 1 Axes>"
            ]
          },
          "metadata": {
            "needs_background": "light"
          }
        }
      ],
      "metadata": {
        "colab": {
          "base_uri": "https://localhost:8080/",
          "height": 317
        },
        "id": "OZD6XUWNhj6r",
        "outputId": "2034f9b5-5f1f-481f-d117-e51f408d27ca"
      }
    },
    {
      "cell_type": "markdown",
      "source": [
        "## 05. 모델 생성 / 학습 / 평가"
      ],
      "metadata": {
        "id": "YAx_pCmKhj6s"
      }
    },
    {
      "cell_type": "code",
      "execution_count": 44,
      "source": [
        "from keras.layers import Embedding, Dense, LSTM \r\n",
        "from keras.models import Sequential \r\n",
        "from keras.preprocessing.sequence import pad_sequences\r\n",
        "max_len = 20 # 전체 데이터의 길이를 20로 맞춘다 \r\n",
        " \r\n",
        "X_train = pad_sequences(X_train, maxlen=max_len) \r\n",
        "X_test = pad_sequences(X_test, maxlen=max_len)"
      ],
      "outputs": [],
      "metadata": {
        "id": "L5QsKCTChj6s"
      }
    },
    {
      "cell_type": "code",
      "execution_count": 45,
      "source": [
        "model = Sequential() \r\n",
        "model.add(Embedding(max_words, 100)) \r\n",
        "model.add(LSTM(128)) \r\n",
        "model.add(Dense(3, activation='softmax')) \r\n",
        "\r\n",
        "model.compile(optimizer='rmsprop', loss='categorical_crossentropy', metrics=['accuracy'])  #optimizer: rmsprop\r\n",
        "history = model.fit(X_train, y_train, epochs=10, batch_size=10, validation_split=0.1)"
      ],
      "outputs": [
        {
          "output_type": "stream",
          "name": "stdout",
          "text": [
            "Epoch 1/10\n",
            "1416/1416 [==============================] - 54s 36ms/step - loss: 0.6526 - accuracy: 0.7228 - val_loss: 0.5593 - val_accuracy: 0.7648\n",
            "Epoch 2/10\n",
            "1416/1416 [==============================] - 49s 35ms/step - loss: 0.4857 - accuracy: 0.8082 - val_loss: 0.5226 - val_accuracy: 0.7985\n",
            "Epoch 3/10\n",
            "1416/1416 [==============================] - 49s 35ms/step - loss: 0.4307 - accuracy: 0.8316 - val_loss: 0.4999 - val_accuracy: 0.8036\n",
            "Epoch 4/10\n",
            "1416/1416 [==============================] - 50s 35ms/step - loss: 0.3833 - accuracy: 0.8512 - val_loss: 0.5442 - val_accuracy: 0.8137\n",
            "Epoch 5/10\n",
            "1416/1416 [==============================] - 51s 36ms/step - loss: 0.3402 - accuracy: 0.8712 - val_loss: 0.5198 - val_accuracy: 0.8150\n",
            "Epoch 6/10\n",
            "1416/1416 [==============================] - 50s 35ms/step - loss: 0.3032 - accuracy: 0.8883 - val_loss: 0.5257 - val_accuracy: 0.8061\n",
            "Epoch 7/10\n",
            "1416/1416 [==============================] - 50s 35ms/step - loss: 0.2654 - accuracy: 0.9026 - val_loss: 0.5272 - val_accuracy: 0.8195\n",
            "Epoch 8/10\n",
            "1416/1416 [==============================] - 49s 35ms/step - loss: 0.2325 - accuracy: 0.9154 - val_loss: 0.6037 - val_accuracy: 0.8055\n",
            "Epoch 9/10\n",
            "1416/1416 [==============================] - 49s 34ms/step - loss: 0.2017 - accuracy: 0.9295 - val_loss: 0.5816 - val_accuracy: 0.8163\n",
            "Epoch 10/10\n",
            "1416/1416 [==============================] - 49s 34ms/step - loss: 0.1735 - accuracy: 0.9394 - val_loss: 0.6810 - val_accuracy: 0.8131\n"
          ]
        }
      ],
      "metadata": {
        "colab": {
          "base_uri": "https://localhost:8080/"
        },
        "id": "X6-bTLurhj6t",
        "outputId": "660d487f-4ae5-48d9-9bd6-7c890e6885e3"
      }
    },
    {
      "cell_type": "code",
      "execution_count": 58,
      "source": [
        "print('model1 전체정확도 : {:.2f}%'.format(model.evaluate(X_test, y_test)[1]*100 ))"
      ],
      "outputs": [
        {
          "output_type": "stream",
          "name": "stdout",
          "text": [
            "10/10 [==============================] - 0s 11ms/step - loss: 1.4568 - accuracy: 0.6233\n",
            "model1 전체정확도 : 62.33%\n"
          ]
        }
      ],
      "metadata": {
        "colab": {
          "base_uri": "https://localhost:8080/"
        },
        "id": "zzXP3GQihj6u",
        "outputId": "0197f261-d59f-430d-bb5b-4e8f988dddb2"
      }
    },
    {
      "cell_type": "code",
      "execution_count": 59,
      "source": [
        "model2 = Sequential() \r\n",
        "model2.add(Embedding(max_words, 100)) \r\n",
        "model2.add(LSTM(128)) \r\n",
        "model2.add(Dense(3, activation='softmax')) \r\n",
        "\r\n",
        "model2.compile(optimizer='adam', loss='categorical_crossentropy', metrics=['accuracy']) \r\n",
        "history = model2.fit(X_train, y_train, epochs=10, batch_size=10, validation_split=0.1)"
      ],
      "outputs": [
        {
          "output_type": "stream",
          "name": "stdout",
          "text": [
            "Epoch 1/10\n",
            "1416/1416 [==============================] - 99s 67ms/step - loss: 0.6159 - accuracy: 0.7479 - val_loss: 0.5103 - val_accuracy: 0.7978\n",
            "Epoch 2/10\n",
            "1416/1416 [==============================] - 90s 63ms/step - loss: 0.3987 - accuracy: 0.8437 - val_loss: 0.5033 - val_accuracy: 0.8086\n",
            "Epoch 3/10\n",
            "1416/1416 [==============================] - 88s 62ms/step - loss: 0.2932 - accuracy: 0.8897 - val_loss: 0.5305 - val_accuracy: 0.7991\n",
            "Epoch 4/10\n",
            "1416/1416 [==============================] - 88s 62ms/step - loss: 0.2212 - accuracy: 0.9172 - val_loss: 0.5806 - val_accuracy: 0.8017\n",
            "Epoch 5/10\n",
            "1416/1416 [==============================] - 85s 60ms/step - loss: 0.1659 - accuracy: 0.9397 - val_loss: 0.6367 - val_accuracy: 0.8137\n",
            "Epoch 6/10\n",
            "1416/1416 [==============================] - 88s 62ms/step - loss: 0.1193 - accuracy: 0.9564 - val_loss: 0.7308 - val_accuracy: 0.7959\n",
            "Epoch 7/10\n",
            "1416/1416 [==============================] - 87s 61ms/step - loss: 0.0915 - accuracy: 0.9674 - val_loss: 0.8416 - val_accuracy: 0.7908\n",
            "Epoch 8/10\n",
            "1416/1416 [==============================] - 93s 66ms/step - loss: 0.0729 - accuracy: 0.9748 - val_loss: 0.8669 - val_accuracy: 0.8169\n",
            "Epoch 9/10\n",
            "1416/1416 [==============================] - 95s 67ms/step - loss: 0.0562 - accuracy: 0.9807 - val_loss: 0.9378 - val_accuracy: 0.8029\n",
            "Epoch 10/10\n",
            "1416/1416 [==============================] - 101s 72ms/step - loss: 0.0436 - accuracy: 0.9852 - val_loss: 1.0103 - val_accuracy: 0.7921\n"
          ]
        }
      ],
      "metadata": {
        "colab": {
          "base_uri": "https://localhost:8080/"
        },
        "id": "dSfmmHcYhj6u",
        "outputId": "0dd036d8-fa81-422d-a97c-927973c9cd4e"
      }
    },
    {
      "cell_type": "code",
      "execution_count": 60,
      "source": [
        "print('model2 전체 정확도 : {:.2f}%'.format(model2.evaluate(X_test, y_test)[1]*100 ))"
      ],
      "outputs": [
        {
          "output_type": "stream",
          "name": "stdout",
          "text": [
            "10/10 [==============================] - 0s 9ms/step - loss: 2.3467 - accuracy: 0.6000\n",
            "model2 전체 정확도 : 60.00%\n"
          ]
        }
      ],
      "metadata": {
        "colab": {
          "base_uri": "https://localhost:8080/"
        },
        "id": "Ihpp1EOIhj6u",
        "outputId": "f16ebe36-02f9-41f1-ab08-88e6d1b0527a"
      }
    },
    {
      "cell_type": "code",
      "execution_count": 61,
      "source": [
        "# model1\r\n",
        "print('model1 정확도 : {:.2f}%'.format(model.evaluate(X_test[0:100], y_test[0:100])[1]*100 ))\r\n",
        "print('model1 정확도 : {:.2f}%'.format(model.evaluate(X_test[100:200], y_test[100:200])[1]*100 ))\r\n",
        "print('model1 정확도 : {:.2f}%'.format(model.evaluate(X_test[200:300], y_test[200:300])[1]*100 ))\r\n",
        "\r\n",
        "mean_md1= ( model.evaluate(X_test[0:100], y_test[0:100])[1]*100  + model.evaluate(X_test[100:200], y_test[100:200])[1]*100 + model.evaluate(X_test[200:300], y_test[200:300])[1]*100  ) /3\r\n",
        "print('model1의 정확도 평균 :',round(mean_md1,2),'%' )\r\n",
        "\r\n",
        "# model2\r\n",
        "print('model2 정확도 : {:.2f}%'.format(model2.evaluate(X_test[0:100], y_test[0:100])[1]*100 ))\r\n",
        "print('model2 정확도 : {:.2f}%'.format(model2.evaluate(X_test[100:200], y_test[100:200])[1]*100 ))\r\n",
        "print('model2 정확도 : {:.2f}%'.format(model2.evaluate(X_test[200:300], y_test[200:300])[1]*100 ))\r\n",
        "\r\n",
        "mean_md2= ( model2.evaluate(X_test[0:100], y_test[0:100])[1]*100  + model2.evaluate(X_test[100:200], y_test[100:200])[1]*100 + model2.evaluate(X_test[200:300], y_test[200:300])[1]*100  ) /3\r\n",
        "print('model2의 정확도 평균 :',round(mean_md2,2),'%' )"
      ],
      "outputs": [
        {
          "output_type": "stream",
          "name": "stdout",
          "text": [
            "4/4 [==============================] - 0s 10ms/step - loss: 1.2141 - accuracy: 0.6900\n",
            "model1 정확도 : 69.00%\n",
            "4/4 [==============================] - 0s 8ms/step - loss: 1.5084 - accuracy: 0.6000\n",
            "model1 정확도 : 60.00%\n",
            "4/4 [==============================] - 0s 8ms/step - loss: 1.6480 - accuracy: 0.5800\n",
            "model1 정확도 : 58.00%\n",
            "4/4 [==============================] - 0s 9ms/step - loss: 1.2141 - accuracy: 0.6900\n",
            "4/4 [==============================] - 0s 8ms/step - loss: 1.5084 - accuracy: 0.6000\n",
            "4/4 [==============================] - 0s 8ms/step - loss: 1.6480 - accuracy: 0.5800\n",
            "model1의 정확도 평균 : 62.33 %\n",
            "4/4 [==============================] - 0s 9ms/step - loss: 1.9456 - accuracy: 0.6200\n",
            "model2 정확도 : 62.00%\n",
            "4/4 [==============================] - 0s 8ms/step - loss: 2.4303 - accuracy: 0.6300\n",
            "model2 정확도 : 63.00%\n",
            "4/4 [==============================] - 0s 8ms/step - loss: 2.6642 - accuracy: 0.5500\n",
            "model2 정확도 : 55.00%\n",
            "4/4 [==============================] - 0s 10ms/step - loss: 1.9456 - accuracy: 0.6200\n",
            "4/4 [==============================] - 0s 8ms/step - loss: 2.4303 - accuracy: 0.6300\n",
            "4/4 [==============================] - 0s 8ms/step - loss: 2.6642 - accuracy: 0.5500\n",
            "model2의 정확도 평균 : 60.0 %\n"
          ]
        }
      ],
      "metadata": {
        "colab": {
          "base_uri": "https://localhost:8080/"
        },
        "id": "HZn73kafanhe",
        "outputId": "5f547704-5c6d-457a-d507-478b24cfcaf8"
      }
    },
    {
      "cell_type": "markdown",
      "source": [
        "## 06. pred set 예측 확인 (2015/ 2020 sns 감성분석진행)"
      ],
      "metadata": {
        "id": "OdKJRm4Jhj6w"
      }
    },
    {
      "cell_type": "code",
      "execution_count": 62,
      "source": [
        "for num in range(4): #4번 반복 작업수행\r\n",
        "# 데이터 지정 \r\n",
        "  if num ==0: # 2020blog\r\n",
        "    pred_df = pd.read_excel('test_data/0902_2020_blog.xlsx') # header있음 # 전처리 완료된 데이터 문서단위임\r\n",
        "    pred_df0= pred_df\r\n",
        "  if num ==1: # 2020cafe\r\n",
        "    pred_df = pd.read_excel('test_data/2020cafe_clean.xlsx') # header있음 # 전처리 완료된 데이터 문서단위임\r\n",
        "    pred_df1= pred_df\r\n",
        "  if num ==2: # 2015blog\r\n",
        "    pred_df = pd.read_excel('test_data/0902_2015_blog.xlsx') # header있음 # 전처리 완료된 데이터 문서단위임\r\n",
        "    pred_df2= pred_df\r\n",
        "  if num ==3: # 2015 cafe\r\n",
        "    pred_df = pd.read_excel('test_data/0902_2015_cafe.xlsx') # header있음 # 전처리 완료된 데이터 문서단위임\r\n",
        "    pred_df3= pred_df\r\n",
        "\r\n",
        "#데이터 전처리\r\n",
        "  # contents str로 처리\r\n",
        "  q= \" \"\r\n",
        "  for i in range(len(pred_df)):\r\n",
        "      try:\r\n",
        "        q += pred_df['content'][i]  \r\n",
        "      except:\r\n",
        "        pass\r\n",
        "\r\n",
        "  # 문장어미 구분자 대치\r\n",
        "  q = q.replace('네요','네요||-||').replace('하죠','하죠||-||').replace('데요','데요||-||').replace('이네요','이네요||-||')\r\n",
        "  q = q.replace('네요.','네요||-||').replace('되죠','되죠||-||').replace('대요','대요||-||').replace('이요','이요||-||')\r\n",
        "  q = q.replace('돼요.','돼요||-||').replace('되요','되요||-||').replace('다닙니다','다닙니다||-||').replace('입니다','입니다||-||')\r\n",
        "  q = q.replace('입니다.','입니다||-||').replace('니다','니다||-||').replace('중입니다','중입니다||-||').replace('입니다','입니다||-||')\r\n",
        "  q = q.replace('나요.','나요||-||').replace('어요','어요||-||').replace('까요','까요||-||').replace('에요','에요||-||')\r\n",
        "  q = q.replace('이에요','이에요||-||').replace('봐요','봐요||-||').replace('아요.','아요||-||').replace('와요','와요||-||')\r\n",
        "  q = q.replace('해요','해요||-||').replace('려요','려요||-||').replace('구요','구요||-||').replace('고요','고요||-||')\r\n",
        "  q = q.replace('죠','죠||-||').replace(':)','').replace('더라','더라||-||').replace('게요','게요||-||').replace('께요','께요||-||').replace('세요','세요||-||').replace('든요','든요||-||').replace('예요','예요||-||').replace('서요','서요||-||')\r\n",
        "  q = q.replace('않았다','않았다||-||').replace('었다','었다||-||').replace('있다','있다||-||').replace('이다','이다||-||').replace('싶다','싶다||-||').replace('않다','않다||-||').replace('되었다','되었다||-||').replace('아니다','아니다||-||')\r\n",
        "  q = q.replace('하자','하자||-||').replace('는다','는다||-||').replace('했다','했다||-||').replace('한다','한다||-||').replace('혔다','혔다||-||').replace('난다','난다||-||').replace('같아요','같아요||-||').replace('되었어','되었어||-||').replace('했어','했어||-||').replace('했지','했지||-||').replace('었어','었어||-||')\r\n",
        "\r\n",
        "  #특수문자 제거\r\n",
        "  q = q.replace('.','').replace('?','').replace('~','').replace('!','').replace('^','').replace('#','').replace('★','').replace('ㅋ','').replace('ㅜ','').replace('ㅠ','').replace('ㅎ','').replace('ㅏ','').replace('ㅡ','')\r\n",
        "\r\n",
        "  # 구분자로 문장 분리\r\n",
        "  p = q.split('||-||')\r\n",
        "  print ( '분리된 문장 수 : ',len(p), '// 이전 총 문자수 : ',len(q) ) \r\n",
        "\r\n",
        "  # 각 문장을 데이터 프레임으로 저장\r\n",
        "  sentence_Data = pd.DataFrame({'content': p})\r\n",
        "  print ( len(sentence_Data) ) \r\n",
        "  sentence_Data # pred할 셋 문장단위 설정 완\r\n",
        "\r\n",
        "# 2번 이상 중복인 데이터 확인\r\n",
        "  sentence = sentence_Data['content'].value_counts()\r\n",
        "  idx_sentence=sentence[sentence >= 2].index.tolist()\r\n",
        "  len(idx_sentence), idx_sentence\r\n",
        "\r\n",
        "# 중복제거\r\n",
        "  data2 = sentence_Data\r\n",
        "  for i in idx_sentence:\r\n",
        "      data2 = data2[sentence_Data['content'] != i] # 중복 완료해서 저장\r\n",
        "  # 데이터 사이즈 확인\r\n",
        "  print ('중복제거 전 데이터: ', len(sentence_Data), '중복제거완료 데이터: ', len(data2) ) #중복제거 전 데이터, 중복제거완료 데이터   \r\n",
        "\r\n",
        "# null 제거\r\n",
        "  data_content = data2[['content']].dropna(axis=0) # null 제거\r\n",
        "  data_content.reset_index(drop=True, inplace=True) # 인덱스 재정렬\r\n",
        "  data_content\r\n",
        "\r\n",
        "#pred의 data_content 저장\r\n",
        "  data_content.to_excel(f'test_data/st_pred/pred_data_content{num}.xlsx',encoding='utf-8')\r\n",
        "\r\n",
        "  # pred 토큰화 벡터화\r\n",
        "  X_pred = [] \r\n",
        "  for sentence in data_content['content'] :\r\n",
        "      temp_X = [] \r\n",
        "      temp_X = okt.morphs(sentence, stem=True) # 토큰화 \r\n",
        "      temp_X = [word for word in temp_X if not word in stopwords] # 불용어 제거 \r\n",
        "      X_pred.append(temp_X) \r\n",
        "\r\n",
        "#벡터, 토큰화   \r\n",
        "  # 정수 인코딩\r\n",
        "  tokenizer.fit_on_texts(X_pred ) \r\n",
        "  X_pred  = tokenizer.texts_to_sequences(X_pred ) \r\n",
        "\r\n",
        "  # 데이터 길이 맞추기 : padding  씌움\r\n",
        "  X_pred = pad_sequences(X_pred, maxlen=max_len)\r\n",
        "\r\n",
        "##model1으로 해보기\r\n",
        "  # pred로 감성분석 예측\r\n",
        "  predict = model.predict( X_pred )\r\n",
        "  predict_labels = np.argmax(predict, axis=1) \r\n",
        "\r\n",
        "  ## 데이터 확인 \r\n",
        "  st, origin, pred =[],[],[]\r\n",
        "  # 데이터 직접 비교해보기\r\n",
        "  for i in range( len(data_content) ): \r\n",
        "      st.append( data_content['content'].iloc[i] ) ,\r\n",
        "      pred.append( predict_labels[i])\r\n",
        "\r\n",
        "  # 2가 긍정 / 1이 중립 / 0이 부정임을 확인\r\n",
        "  #0,1,2로 이루어진 pred -1, 0 ,1 로바꾸기\r\n",
        "  pnr=[]\r\n",
        "  for i in range(len(pred)):\r\n",
        "      if pred[i] == 0:\r\n",
        "          pnr.append(-1)\r\n",
        "      elif pred[i] ==1:\r\n",
        "          pnr.append(0)\r\n",
        "      else:\r\n",
        "          pnr.append(1)\r\n",
        "      \r\n",
        "  # 데이터프레임 만들기\r\n",
        "  total_ex = pd.DataFrame({'문장' : st , '감성':pnr ,'분류:': pred })\r\n",
        "  total_ex\r\n",
        "\r\n",
        "  #엑셀로 저장\r\n",
        "  total_ex.to_excel(f'cou-lstm/pred_lstm_pnr_{num}.xlsx',encoding='utf-8')\r\n",
        "\r\n",
        "## model2로도 해보기!\r\n",
        "  # pred로 감성분석 예측\r\n",
        "  predict2 = model.predict( X_pred )\r\n",
        "  predict_labels2 = np.argmax(predict2, axis=1) \r\n",
        "\r\n",
        "  ## 데이터 확인 \r\n",
        "  st, origin, pred =[],[],[]\r\n",
        "  # 데이터 직접 비교해보기\r\n",
        "  for i in range( len(data_content) ): \r\n",
        "      st.append( data_content['content'].iloc[i] ) ,\r\n",
        "      pred.append( predict_labels[i])\r\n",
        "\r\n",
        "  # 2가 긍정 / 1이 중립 / 0이 부정임을 확인\r\n",
        "  #0,1,2로 이루어진 pred -1, 0 ,1 로바꾸기\r\n",
        "  pnr=[]\r\n",
        "  for i in range(len(pred)):\r\n",
        "      if pred[i] == 0:\r\n",
        "          pnr.append(-1)\r\n",
        "      elif pred[i] ==1:\r\n",
        "          pnr.append(0)\r\n",
        "      else:\r\n",
        "          pnr.append(1)\r\n",
        "      \r\n",
        "  # 데이터프레임 만들기\r\n",
        "  total_ex = pd.DataFrame({'문장' : st , '감성':pnr ,'분류:': pred })\r\n",
        "  total_ex\r\n",
        "\r\n",
        "  #엑셀로 저장\r\n",
        "  total_ex.to_excel(f'cou-lstm/pred_lstm_md2_pnr_{num}.xlsx',encoding='utf-8')"
      ],
      "outputs": [
        {
          "output_type": "stream",
          "name": "stdout",
          "text": [
            "분리된 문장 수 :  335670 // 이전 총 문자수 :  10267596\n",
            "335670\n"
          ]
        },
        {
          "output_type": "stream",
          "name": "stderr",
          "text": [
            "/usr/local/lib/python3.7/dist-packages/ipykernel_launcher.py:57: UserWarning: Boolean Series key will be reindexed to match DataFrame index.\n"
          ]
        },
        {
          "output_type": "stream",
          "name": "stdout",
          "text": [
            "중복제거 전 데이터:  335670 중복제거완료 데이터:  134266\n",
            "분리된 문장 수 :  48949 // 이전 총 문자수 :  1926495\n",
            "48949\n"
          ]
        },
        {
          "output_type": "stream",
          "name": "stderr",
          "text": [
            "/usr/local/lib/python3.7/dist-packages/ipykernel_launcher.py:57: UserWarning: Boolean Series key will be reindexed to match DataFrame index.\n"
          ]
        },
        {
          "output_type": "stream",
          "name": "stdout",
          "text": [
            "중복제거 전 데이터:  48949 중복제거완료 데이터:  37585\n",
            "분리된 문장 수 :  224842 // 이전 총 문자수 :  7659509\n",
            "224842\n"
          ]
        },
        {
          "output_type": "stream",
          "name": "stderr",
          "text": [
            "/usr/local/lib/python3.7/dist-packages/ipykernel_launcher.py:57: UserWarning: Boolean Series key will be reindexed to match DataFrame index.\n"
          ]
        },
        {
          "output_type": "stream",
          "name": "stdout",
          "text": [
            "중복제거 전 데이터:  224842 중복제거완료 데이터:  92694\n",
            "분리된 문장 수 :  88910 // 이전 총 문자수 :  2099604\n",
            "88910\n"
          ]
        },
        {
          "output_type": "stream",
          "name": "stderr",
          "text": [
            "/usr/local/lib/python3.7/dist-packages/ipykernel_launcher.py:57: UserWarning: Boolean Series key will be reindexed to match DataFrame index.\n"
          ]
        },
        {
          "output_type": "stream",
          "name": "stdout",
          "text": [
            "중복제거 전 데이터:  88910 중복제거완료 데이터:  36354\n"
          ]
        }
      ],
      "metadata": {
        "colab": {
          "base_uri": "https://localhost:8080/"
        },
        "id": "yXGzRFP5VP2v",
        "outputId": "aa81910d-93d4-47ab-bb0c-c6fe59492ac9"
      }
    }
  ]
}