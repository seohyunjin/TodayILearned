{
 "cells": [
  {
   "cell_type": "markdown",
   "source": [
    "# 머신러닝 LSTM모델을 이용한 감성분석 진행 01"
   ],
   "metadata": {}
  },
  {
   "cell_type": "markdown",
   "source": [
    "# 0905 머신러닝 모델 돌리기 \r\n",
    "\r\n",
    "train/test data set : 현대쇼핑 + 네이버쿠팡 split 80:20\r\n",
    "\r\n",
    "pred data set : 2020 cafe\r\n",
    "\r\n",
    "lstm모델"
   ],
   "metadata": {}
  },
  {
   "cell_type": "code",
   "execution_count": 2,
   "source": [
    "import pandas as pd"
   ],
   "outputs": [],
   "metadata": {}
  },
  {
   "cell_type": "markdown",
   "source": [
    "## 01. 데이터 불러오기 확인"
   ],
   "metadata": {}
  },
  {
   "cell_type": "markdown",
   "source": [
    "### - train data 1 : 현대 쇼핑"
   ],
   "metadata": {}
  },
  {
   "cell_type": "code",
   "execution_count": 3,
   "source": [
    "# Train 데이터 불러오기\r\n",
    "train_df = pd.read_excel('train_data/naver_steam_hyundai_shop.xlsx',header=None)"
   ],
   "outputs": [],
   "metadata": {}
  },
  {
   "cell_type": "code",
   "execution_count": 4,
   "source": [
    "train_df[0:3] # 데이터 확인 # 현대쇼핑 데이터는 부정이 0이고 긍정이 +1임을 확인하였음"
   ],
   "outputs": [
    {
     "output_type": "execute_result",
     "data": {
      "text/html": [
       "<div>\n",
       "<style scoped>\n",
       "    .dataframe tbody tr th:only-of-type {\n",
       "        vertical-align: middle;\n",
       "    }\n",
       "\n",
       "    .dataframe tbody tr th {\n",
       "        vertical-align: top;\n",
       "    }\n",
       "\n",
       "    .dataframe thead th {\n",
       "        text-align: right;\n",
       "    }\n",
       "</style>\n",
       "<table border=\"1\" class=\"dataframe\">\n",
       "  <thead>\n",
       "    <tr style=\"text-align: right;\">\n",
       "      <th></th>\n",
       "      <th>0</th>\n",
       "      <th>1</th>\n",
       "    </tr>\n",
       "  </thead>\n",
       "  <tbody>\n",
       "    <tr>\n",
       "      <th>0</th>\n",
       "      <td>+@음침한 분위기+@기괴한 크리쳐들-@눈만 아픈 그래픽-@왜 넣었는지 모를 레터박...</td>\n",
       "      <td>0</td>\n",
       "    </tr>\n",
       "    <tr>\n",
       "      <th>1</th>\n",
       "      <td>+@음침한 분위기+@기괴한 크리쳐들-@눈만 아픈 그래픽-@왜 넣었는지 모를 레터박...</td>\n",
       "      <td>0</td>\n",
       "    </tr>\n",
       "    <tr>\n",
       "      <th>2</th>\n",
       "      <td>+@음침한 분위기+@기괴한 크리쳐들-@눈만 아픈 그래픽-@왜 넣었는지 모를 레터박...</td>\n",
       "      <td>1</td>\n",
       "    </tr>\n",
       "  </tbody>\n",
       "</table>\n",
       "</div>"
      ],
      "text/plain": [
       "                                                   0  1\n",
       "0   +@음침한 분위기+@기괴한 크리쳐들-@눈만 아픈 그래픽-@왜 넣었는지 모를 레터박...  0\n",
       "1   +@음침한 분위기+@기괴한 크리쳐들-@눈만 아픈 그래픽-@왜 넣었는지 모를 레터박...  0\n",
       "2   +@음침한 분위기+@기괴한 크리쳐들-@눈만 아픈 그래픽-@왜 넣었는지 모를 레터박...  1"
      ]
     },
     "metadata": {},
     "execution_count": 4
    }
   ],
   "metadata": {}
  },
  {
   "cell_type": "code",
   "execution_count": 52,
   "source": [
    "train_df[1] = train_df[1].replace(0,-1) # 부정이 -1, 긍정이 1 로 바꾸어 준다.\r\n",
    "train_df"
   ],
   "outputs": [
    {
     "output_type": "execute_result",
     "data": {
      "text/html": [
       "<div>\n",
       "<style scoped>\n",
       "    .dataframe tbody tr th:only-of-type {\n",
       "        vertical-align: middle;\n",
       "    }\n",
       "\n",
       "    .dataframe tbody tr th {\n",
       "        vertical-align: top;\n",
       "    }\n",
       "\n",
       "    .dataframe thead th {\n",
       "        text-align: right;\n",
       "    }\n",
       "</style>\n",
       "<table border=\"1\" class=\"dataframe\">\n",
       "  <thead>\n",
       "    <tr style=\"text-align: right;\">\n",
       "      <th></th>\n",
       "      <th>0</th>\n",
       "      <th>1</th>\n",
       "    </tr>\n",
       "  </thead>\n",
       "  <tbody>\n",
       "    <tr>\n",
       "      <th>0</th>\n",
       "      <td>+@음침한 분위기+@기괴한 크리쳐들-@눈만 아픈 그래픽-@왜 넣었는지 모를 레터박...</td>\n",
       "      <td>-1</td>\n",
       "    </tr>\n",
       "    <tr>\n",
       "      <th>1</th>\n",
       "      <td>+@음침한 분위기+@기괴한 크리쳐들-@눈만 아픈 그래픽-@왜 넣었는지 모를 레터박...</td>\n",
       "      <td>-1</td>\n",
       "    </tr>\n",
       "    <tr>\n",
       "      <th>2</th>\n",
       "      <td>+@음침한 분위기+@기괴한 크리쳐들-@눈만 아픈 그래픽-@왜 넣었는지 모를 레터박...</td>\n",
       "      <td>1</td>\n",
       "    </tr>\n",
       "    <tr>\n",
       "      <th>3</th>\n",
       "      <td>+@음침한 분위기+@기괴한 크리쳐들-@눈만 아픈 그래픽-@왜 넣었는지 모를 레터박...</td>\n",
       "      <td>1</td>\n",
       "    </tr>\n",
       "    <tr>\n",
       "      <th>4</th>\n",
       "      <td>+@음침한 분위기+@기괴한 크리쳐들-@눈만 아픈 그래픽-@왜 넣었는지 모를 레터박...</td>\n",
       "      <td>1</td>\n",
       "    </tr>\n",
       "    <tr>\n",
       "      <th>...</th>\n",
       "      <td>...</td>\n",
       "      <td>...</td>\n",
       "    </tr>\n",
       "    <tr>\n",
       "      <th>356827</th>\n",
       "      <td>- 7월 양산 시작한 광저우 oled 패널 공장, 이달부터 풀가동- 내년이면 55인...</td>\n",
       "      <td>1</td>\n",
       "    </tr>\n",
       "    <tr>\n",
       "      <th>356828</th>\n",
       "      <td>- 33분만 켜두면 995개</td>\n",
       "      <td>1</td>\n",
       "    </tr>\n",
       "    <tr>\n",
       "      <th>356829</th>\n",
       "      <td>- 2스테이지를 클리어 했다면 이 게임은 절반은 클리어 한거다!?! - 라스트 15...</td>\n",
       "      <td>1</td>\n",
       "    </tr>\n",
       "    <tr>\n",
       "      <th>356830</th>\n",
       "      <td>- 10점 만점 기준 - 댕댕이 같은 스토리 개연성과 엔딩 : - 20 일러스트 :...</td>\n",
       "      <td>1</td>\n",
       "    </tr>\n",
       "    <tr>\n",
       "      <th>356831</th>\n",
       "      <td>- 100g으로 포장되어 있어서 먹기 편하고 더 신선하게 보관할 수 있어서 좋아요~...</td>\n",
       "      <td>1</td>\n",
       "    </tr>\n",
       "  </tbody>\n",
       "</table>\n",
       "<p>356832 rows × 2 columns</p>\n",
       "</div>"
      ],
      "text/plain": [
       "                                                        0  1\n",
       "0        +@음침한 분위기+@기괴한 크리쳐들-@눈만 아픈 그래픽-@왜 넣었는지 모를 레터박... -1\n",
       "1        +@음침한 분위기+@기괴한 크리쳐들-@눈만 아픈 그래픽-@왜 넣었는지 모를 레터박... -1\n",
       "2        +@음침한 분위기+@기괴한 크리쳐들-@눈만 아픈 그래픽-@왜 넣었는지 모를 레터박...  1\n",
       "3        +@음침한 분위기+@기괴한 크리쳐들-@눈만 아픈 그래픽-@왜 넣었는지 모를 레터박...  1\n",
       "4        +@음침한 분위기+@기괴한 크리쳐들-@눈만 아픈 그래픽-@왜 넣었는지 모를 레터박...  1\n",
       "...                                                   ... ..\n",
       "356827  - 7월 양산 시작한 광저우 oled 패널 공장, 이달부터 풀가동- 내년이면 55인...  1\n",
       "356828                                    - 33분만 켜두면 995개  1\n",
       "356829  - 2스테이지를 클리어 했다면 이 게임은 절반은 클리어 한거다!?! - 라스트 15...  1\n",
       "356830  - 10점 만점 기준 - 댕댕이 같은 스토리 개연성과 엔딩 : - 20 일러스트 :...  1\n",
       "356831  - 100g으로 포장되어 있어서 먹기 편하고 더 신선하게 보관할 수 있어서 좋아요~...  1\n",
       "\n",
       "[356832 rows x 2 columns]"
      ]
     },
     "metadata": {},
     "execution_count": 52
    }
   ],
   "metadata": {}
  },
  {
   "cell_type": "code",
   "execution_count": 74,
   "source": [
    "# train data의 긍부정 비율 확인 : 긍정1 / 중립0 / 부정 -1\r\n",
    "%matplotlib inline \r\n",
    "import matplotlib.pyplot as plt\r\n",
    "\r\n",
    "train_df[1].value_counts().plot(kind='bar')"
   ],
   "outputs": [
    {
     "output_type": "execute_result",
     "data": {
      "text/plain": [
       "<AxesSubplot:>"
      ]
     },
     "metadata": {},
     "execution_count": 74
    },
    {
     "output_type": "display_data",
     "data": {
      "image/png": "[encoded data removed]",
      "image/svg+xml": "<?xml version=\"1.0\" encoding=\"utf-8\" standalone=\"no\"?>\r\n<!DOCTYPE svg PUBLIC \"-//W3C//DTD SVG 1.1//EN\"\r\n  \"http://www.w3.org/Graphics/SVG/1.1/DTD/svg11.dtd\">\r\n<!-- Created with matplotlib (https://matplotlib.org/) -->\r\n<svg height=\"248.810312pt\" version=\"1.1\" viewBox=\"0 0 394.375 248.810312\" width=\"394.375pt\" xmlns=\"http://www.w3.org/2000/svg\" xmlns:xlink=\"http://www.w3.org/1999/xlink\">\r\n <metadata>\r\n  <rdf:RDF xmlns:cc=\"http://creativecommons.org/ns#\" xmlns:dc=\"http://purl.org/dc/elements/1.1/\" xmlns:rdf=\"http://www.w3.org/1999/02/22-rdf-syntax-ns#\">\r\n   <cc:Work>\r\n    <dc:type rdf:resource=\"http://purl.org/dc/dcmitype/StillImage\"/>\r\n    <dc:date>2021-09-05T16:46:07.511567</dc:date>\r\n    <dc:format>image/svg+xml</dc:format>\r\n    <dc:creator>\r\n     <cc:Agent>\r\n      <dc:title>Matplotlib v3.3.4, https://matplotlib.org/</dc:title>\r\n     </cc:Agent>\r\n    </dc:creator>\r\n   </cc:Work>\r\n  </rdf:RDF>\r\n </metadata>\r\n <defs>\r\n  <style type=\"text/css\">*{stroke-linecap:butt;stroke-linejoin:round;}</style>\r\n </defs>\r\n <g id=\"figure_1\">\r\n  <g id=\"patch_1\">\r\n   <path d=\"M 0 248.810312 \r\nL 394.375 248.810312 \r\nL 394.375 0 \r\nL 0 0 \r\nz\r\n\" style=\"fill:none;\"/>\r\n  </g>\r\n  <g id=\"axes_1\">\r\n   <g id=\"patch_2\">\r\n    <path d=\"M 52.375 224.64 \r\nL 387.175 224.64 \r\nL 387.175 7.2 \r\nL 52.375 7.2 \r\nz\r\n\" style=\"fill:#ffffff;\"/>\r\n   </g>\r\n   <g id=\"patch_3\">\r\n    <path clip-path=\"url(#p80b380c278)\" d=\"M 94.225 224.64 \r\nL 177.925 224.64 \r\nL 177.925 17.554286 \r\nL 94.225 17.554286 \r\nz\r\n\" style=\"fill:#1f77b4;\"/>\r\n   </g>\r\n   <g id=\"patch_4\">\r\n    <path clip-path=\"url(#p80b380c278)\" d=\"M 261.625 224.64 \r\nL 345.325 224.64 \r\nL 345.325 19.320258 \r\nL 261.625 19.320258 \r\nz\r\n\" style=\"fill:#1f77b4;\"/>\r\n   </g>\r\n   <g id=\"matplotlib.axis_1\">\r\n    <g id=\"xtick_1\">\r\n     <g id=\"line2d_1\">\r\n      <defs>\r\n       <path d=\"M 0 0 \r\nL 0 3.5 \r\n\" id=\"m649813e746\" style=\"stroke:#000000;stroke-width:0.8;\"/>\r\n      </defs>\r\n      <g>\r\n       <use style=\"stroke:#000000;stroke-width:0.8;\" x=\"136.075\" xlink:href=\"#m649813e746\" y=\"224.64\"/>\r\n      </g>\r\n     </g>\r\n     <g id=\"text_1\">\r\n      <!-- 1 -->\r\n      <g transform=\"translate(138.834375 238.0025)rotate(-90)scale(0.1 -0.1)\">\r\n       <defs>\r\n        <path d=\"M 12.40625 8.296875 \r\nL 28.515625 8.296875 \r\nL 28.515625 63.921875 \r\nL 10.984375 60.40625 \r\nL 10.984375 69.390625 \r\nL 28.421875 72.90625 \r\nL 38.28125 72.90625 \r\nL 38.28125 8.296875 \r\nL 54.390625 8.296875 \r\nL 54.390625 0 \r\nL 12.40625 0 \r\nz\r\n\" id=\"DejaVuSans-49\"/>\r\n       </defs>\r\n       <use xlink:href=\"#DejaVuSans-49\"/>\r\n      </g>\r\n     </g>\r\n    </g>\r\n    <g id=\"xtick_2\">\r\n     <g id=\"line2d_2\">\r\n      <g>\r\n       <use style=\"stroke:#000000;stroke-width:0.8;\" x=\"303.475\" xlink:href=\"#m649813e746\" y=\"224.64\"/>\r\n      </g>\r\n     </g>\r\n     <g id=\"text_2\">\r\n      <!-- -1 -->\r\n      <g transform=\"translate(306.234375 241.610312)rotate(-90)scale(0.1 -0.1)\">\r\n       <defs>\r\n        <path d=\"M 4.890625 31.390625 \r\nL 31.203125 31.390625 \r\nL 31.203125 23.390625 \r\nL 4.890625 23.390625 \r\nz\r\n\" id=\"DejaVuSans-45\"/>\r\n       </defs>\r\n       <use xlink:href=\"#DejaVuSans-45\"/>\r\n       <use x=\"36.083984\" xlink:href=\"#DejaVuSans-49\"/>\r\n      </g>\r\n     </g>\r\n    </g>\r\n   </g>\r\n   <g id=\"matplotlib.axis_2\">\r\n    <g id=\"ytick_1\">\r\n     <g id=\"line2d_3\">\r\n      <defs>\r\n       <path d=\"M 0 0 \r\nL -3.5 0 \r\n\" id=\"me18728aaba\" style=\"stroke:#000000;stroke-width:0.8;\"/>\r\n      </defs>\r\n      <g>\r\n       <use style=\"stroke:#000000;stroke-width:0.8;\" x=\"52.375\" xlink:href=\"#me18728aaba\" y=\"224.64\"/>\r\n      </g>\r\n     </g>\r\n     <g id=\"text_3\">\r\n      <!-- 0 -->\r\n      <g transform=\"translate(39.0125 228.439219)scale(0.1 -0.1)\">\r\n       <defs>\r\n        <path d=\"M 31.78125 66.40625 \r\nQ 24.171875 66.40625 20.328125 58.90625 \r\nQ 16.5 51.421875 16.5 36.375 \r\nQ 16.5 21.390625 20.328125 13.890625 \r\nQ 24.171875 6.390625 31.78125 6.390625 \r\nQ 39.453125 6.390625 43.28125 13.890625 \r\nQ 47.125 21.390625 47.125 36.375 \r\nQ 47.125 51.421875 43.28125 58.90625 \r\nQ 39.453125 66.40625 31.78125 66.40625 \r\nz\r\nM 31.78125 74.21875 \r\nQ 44.046875 74.21875 50.515625 64.515625 \r\nQ 56.984375 54.828125 56.984375 36.375 \r\nQ 56.984375 17.96875 50.515625 8.265625 \r\nQ 44.046875 -1.421875 31.78125 -1.421875 \r\nQ 19.53125 -1.421875 13.0625 8.265625 \r\nQ 6.59375 17.96875 6.59375 36.375 \r\nQ 6.59375 54.828125 13.0625 64.515625 \r\nQ 19.53125 74.21875 31.78125 74.21875 \r\nz\r\n\" id=\"DejaVuSans-48\"/>\r\n       </defs>\r\n       <use xlink:href=\"#DejaVuSans-48\"/>\r\n      </g>\r\n     </g>\r\n    </g>\r\n    <g id=\"ytick_2\">\r\n     <g id=\"line2d_4\">\r\n      <g>\r\n       <use style=\"stroke:#000000;stroke-width:0.8;\" x=\"52.375\" xlink:href=\"#me18728aaba\" y=\"195.746469\"/>\r\n      </g>\r\n     </g>\r\n     <g id=\"text_4\">\r\n      <!-- 25000 -->\r\n      <g transform=\"translate(13.5625 199.545688)scale(0.1 -0.1)\">\r\n       <defs>\r\n        <path d=\"M 19.1875 8.296875 \r\nL 53.609375 8.296875 \r\nL 53.609375 0 \r\nL 7.328125 0 \r\nL 7.328125 8.296875 \r\nQ 12.9375 14.109375 22.625 23.890625 \r\nQ 32.328125 33.6875 34.8125 36.53125 \r\nQ 39.546875 41.84375 41.421875 45.53125 \r\nQ 43.3125 49.21875 43.3125 52.78125 \r\nQ 43.3125 58.59375 39.234375 62.25 \r\nQ 35.15625 65.921875 28.609375 65.921875 \r\nQ 23.96875 65.921875 18.8125 64.3125 \r\nQ 13.671875 62.703125 7.8125 59.421875 \r\nL 7.8125 69.390625 \r\nQ 13.765625 71.78125 18.9375 73 \r\nQ 24.125 74.21875 28.421875 74.21875 \r\nQ 39.75 74.21875 46.484375 68.546875 \r\nQ 53.21875 62.890625 53.21875 53.421875 \r\nQ 53.21875 48.921875 51.53125 44.890625 \r\nQ 49.859375 40.875 45.40625 35.40625 \r\nQ 44.1875 33.984375 37.640625 27.21875 \r\nQ 31.109375 20.453125 19.1875 8.296875 \r\nz\r\n\" id=\"DejaVuSans-50\"/>\r\n        <path d=\"M 10.796875 72.90625 \r\nL 49.515625 72.90625 \r\nL 49.515625 64.59375 \r\nL 19.828125 64.59375 \r\nL 19.828125 46.734375 \r\nQ 21.96875 47.46875 24.109375 47.828125 \r\nQ 26.265625 48.1875 28.421875 48.1875 \r\nQ 40.625 48.1875 47.75 41.5 \r\nQ 54.890625 34.8125 54.890625 23.390625 \r\nQ 54.890625 11.625 47.5625 5.09375 \r\nQ 40.234375 -1.421875 26.90625 -1.421875 \r\nQ 22.3125 -1.421875 17.546875 -0.640625 \r\nQ 12.796875 0.140625 7.71875 1.703125 \r\nL 7.71875 11.625 \r\nQ 12.109375 9.234375 16.796875 8.0625 \r\nQ 21.484375 6.890625 26.703125 6.890625 \r\nQ 35.15625 6.890625 40.078125 11.328125 \r\nQ 45.015625 15.765625 45.015625 23.390625 \r\nQ 45.015625 31 40.078125 35.4375 \r\nQ 35.15625 39.890625 26.703125 39.890625 \r\nQ 22.75 39.890625 18.8125 39.015625 \r\nQ 14.890625 38.140625 10.796875 36.28125 \r\nz\r\n\" id=\"DejaVuSans-53\"/>\r\n       </defs>\r\n       <use xlink:href=\"#DejaVuSans-50\"/>\r\n       <use x=\"63.623047\" xlink:href=\"#DejaVuSans-53\"/>\r\n       <use x=\"127.246094\" xlink:href=\"#DejaVuSans-48\"/>\r\n       <use x=\"190.869141\" xlink:href=\"#DejaVuSans-48\"/>\r\n       <use x=\"254.492188\" xlink:href=\"#DejaVuSans-48\"/>\r\n      </g>\r\n     </g>\r\n    </g>\r\n    <g id=\"ytick_3\">\r\n     <g id=\"line2d_5\">\r\n      <g>\r\n       <use style=\"stroke:#000000;stroke-width:0.8;\" x=\"52.375\" xlink:href=\"#me18728aaba\" y=\"166.852938\"/>\r\n      </g>\r\n     </g>\r\n     <g id=\"text_5\">\r\n      <!-- 50000 -->\r\n      <g transform=\"translate(13.5625 170.652157)scale(0.1 -0.1)\">\r\n       <use xlink:href=\"#DejaVuSans-53\"/>\r\n       <use x=\"63.623047\" xlink:href=\"#DejaVuSans-48\"/>\r\n       <use x=\"127.246094\" xlink:href=\"#DejaVuSans-48\"/>\r\n       <use x=\"190.869141\" xlink:href=\"#DejaVuSans-48\"/>\r\n       <use x=\"254.492188\" xlink:href=\"#DejaVuSans-48\"/>\r\n      </g>\r\n     </g>\r\n    </g>\r\n    <g id=\"ytick_4\">\r\n     <g id=\"line2d_6\">\r\n      <g>\r\n       <use style=\"stroke:#000000;stroke-width:0.8;\" x=\"52.375\" xlink:href=\"#me18728aaba\" y=\"137.959407\"/>\r\n      </g>\r\n     </g>\r\n     <g id=\"text_6\">\r\n      <!-- 75000 -->\r\n      <g transform=\"translate(13.5625 141.758626)scale(0.1 -0.1)\">\r\n       <defs>\r\n        <path d=\"M 8.203125 72.90625 \r\nL 55.078125 72.90625 \r\nL 55.078125 68.703125 \r\nL 28.609375 0 \r\nL 18.3125 0 \r\nL 43.21875 64.59375 \r\nL 8.203125 64.59375 \r\nz\r\n\" id=\"DejaVuSans-55\"/>\r\n       </defs>\r\n       <use xlink:href=\"#DejaVuSans-55\"/>\r\n       <use x=\"63.623047\" xlink:href=\"#DejaVuSans-53\"/>\r\n       <use x=\"127.246094\" xlink:href=\"#DejaVuSans-48\"/>\r\n       <use x=\"190.869141\" xlink:href=\"#DejaVuSans-48\"/>\r\n       <use x=\"254.492188\" xlink:href=\"#DejaVuSans-48\"/>\r\n      </g>\r\n     </g>\r\n    </g>\r\n    <g id=\"ytick_5\">\r\n     <g id=\"line2d_7\">\r\n      <g>\r\n       <use style=\"stroke:#000000;stroke-width:0.8;\" x=\"52.375\" xlink:href=\"#me18728aaba\" y=\"109.065877\"/>\r\n      </g>\r\n     </g>\r\n     <g id=\"text_7\">\r\n      <!-- 100000 -->\r\n      <g transform=\"translate(7.2 112.865095)scale(0.1 -0.1)\">\r\n       <use xlink:href=\"#DejaVuSans-49\"/>\r\n       <use x=\"63.623047\" xlink:href=\"#DejaVuSans-48\"/>\r\n       <use x=\"127.246094\" xlink:href=\"#DejaVuSans-48\"/>\r\n       <use x=\"190.869141\" xlink:href=\"#DejaVuSans-48\"/>\r\n       <use x=\"254.492188\" xlink:href=\"#DejaVuSans-48\"/>\r\n       <use x=\"318.115234\" xlink:href=\"#DejaVuSans-48\"/>\r\n      </g>\r\n     </g>\r\n    </g>\r\n    <g id=\"ytick_6\">\r\n     <g id=\"line2d_8\">\r\n      <g>\r\n       <use style=\"stroke:#000000;stroke-width:0.8;\" x=\"52.375\" xlink:href=\"#me18728aaba\" y=\"80.172346\"/>\r\n      </g>\r\n     </g>\r\n     <g id=\"text_8\">\r\n      <!-- 125000 -->\r\n      <g transform=\"translate(7.2 83.971565)scale(0.1 -0.1)\">\r\n       <use xlink:href=\"#DejaVuSans-49\"/>\r\n       <use x=\"63.623047\" xlink:href=\"#DejaVuSans-50\"/>\r\n       <use x=\"127.246094\" xlink:href=\"#DejaVuSans-53\"/>\r\n       <use x=\"190.869141\" xlink:href=\"#DejaVuSans-48\"/>\r\n       <use x=\"254.492188\" xlink:href=\"#DejaVuSans-48\"/>\r\n       <use x=\"318.115234\" xlink:href=\"#DejaVuSans-48\"/>\r\n      </g>\r\n     </g>\r\n    </g>\r\n    <g id=\"ytick_7\">\r\n     <g id=\"line2d_9\">\r\n      <g>\r\n       <use style=\"stroke:#000000;stroke-width:0.8;\" x=\"52.375\" xlink:href=\"#me18728aaba\" y=\"51.278815\"/>\r\n      </g>\r\n     </g>\r\n     <g id=\"text_9\">\r\n      <!-- 150000 -->\r\n      <g transform=\"translate(7.2 55.078034)scale(0.1 -0.1)\">\r\n       <use xlink:href=\"#DejaVuSans-49\"/>\r\n       <use x=\"63.623047\" xlink:href=\"#DejaVuSans-53\"/>\r\n       <use x=\"127.246094\" xlink:href=\"#DejaVuSans-48\"/>\r\n       <use x=\"190.869141\" xlink:href=\"#DejaVuSans-48\"/>\r\n       <use x=\"254.492188\" xlink:href=\"#DejaVuSans-48\"/>\r\n       <use x=\"318.115234\" xlink:href=\"#DejaVuSans-48\"/>\r\n      </g>\r\n     </g>\r\n    </g>\r\n    <g id=\"ytick_8\">\r\n     <g id=\"line2d_10\">\r\n      <g>\r\n       <use style=\"stroke:#000000;stroke-width:0.8;\" x=\"52.375\" xlink:href=\"#me18728aaba\" y=\"22.385284\"/>\r\n      </g>\r\n     </g>\r\n     <g id=\"text_10\">\r\n      <!-- 175000 -->\r\n      <g transform=\"translate(7.2 26.184503)scale(0.1 -0.1)\">\r\n       <use xlink:href=\"#DejaVuSans-49\"/>\r\n       <use x=\"63.623047\" xlink:href=\"#DejaVuSans-55\"/>\r\n       <use x=\"127.246094\" xlink:href=\"#DejaVuSans-53\"/>\r\n       <use x=\"190.869141\" xlink:href=\"#DejaVuSans-48\"/>\r\n       <use x=\"254.492188\" xlink:href=\"#DejaVuSans-48\"/>\r\n       <use x=\"318.115234\" xlink:href=\"#DejaVuSans-48\"/>\r\n      </g>\r\n     </g>\r\n    </g>\r\n   </g>\r\n   <g id=\"patch_5\">\r\n    <path d=\"M 52.375 224.64 \r\nL 52.375 7.2 \r\n\" style=\"fill:none;stroke:#000000;stroke-linecap:square;stroke-linejoin:miter;stroke-width:0.8;\"/>\r\n   </g>\r\n   <g id=\"patch_6\">\r\n    <path d=\"M 387.175 224.64 \r\nL 387.175 7.2 \r\n\" style=\"fill:none;stroke:#000000;stroke-linecap:square;stroke-linejoin:miter;stroke-width:0.8;\"/>\r\n   </g>\r\n   <g id=\"patch_7\">\r\n    <path d=\"M 52.375 224.64 \r\nL 387.175 224.64 \r\n\" style=\"fill:none;stroke:#000000;stroke-linecap:square;stroke-linejoin:miter;stroke-width:0.8;\"/>\r\n   </g>\r\n   <g id=\"patch_8\">\r\n    <path d=\"M 52.375 7.2 \r\nL 387.175 7.2 \r\n\" style=\"fill:none;stroke:#000000;stroke-linecap:square;stroke-linejoin:miter;stroke-width:0.8;\"/>\r\n   </g>\r\n  </g>\r\n </g>\r\n <defs>\r\n  <clipPath id=\"p80b380c278\">\r\n   <rect height=\"217.44\" width=\"334.8\" x=\"52.375\" y=\"7.2\"/>\r\n  </clipPath>\r\n </defs>\r\n</svg>\r\n",
      "text/plain": [
       "<Figure size 432x288 with 1 Axes>"
      ]
     },
     "metadata": {
      "needs_background": "light"
     }
    }
   ],
   "metadata": {}
  },
  {
   "cell_type": "markdown",
   "source": [
    "### - train data 2 : 쿠팡"
   ],
   "metadata": {}
  },
  {
   "cell_type": "code",
   "execution_count": 53,
   "source": [
    "train_df_2 = pd.read_excel('train_data/coupang_naver_total/total_senti_coupang.xlsx') # 데이터 불러오기\r\n",
    "print( len(train_df_2) )\r\n",
    "train_df_2[0:3] # 확인"
   ],
   "outputs": [
    {
     "output_type": "execute_result",
     "data": {
      "text/html": [
       "<div>\n",
       "<style scoped>\n",
       "    .dataframe tbody tr th:only-of-type {\n",
       "        vertical-align: middle;\n",
       "    }\n",
       "\n",
       "    .dataframe tbody tr th {\n",
       "        vertical-align: top;\n",
       "    }\n",
       "\n",
       "    .dataframe thead th {\n",
       "        text-align: right;\n",
       "    }\n",
       "</style>\n",
       "<table border=\"1\" class=\"dataframe\">\n",
       "  <thead>\n",
       "    <tr style=\"text-align: right;\">\n",
       "      <th></th>\n",
       "      <th>Unnamed: 0</th>\n",
       "      <th>train</th>\n",
       "      <th>api</th>\n",
       "      <th>score</th>\n",
       "    </tr>\n",
       "  </thead>\n",
       "  <tbody>\n",
       "    <tr>\n",
       "      <th>0</th>\n",
       "      <td>0</td>\n",
       "      <td>밥맛하면\\n곰곰쌀이죠</td>\n",
       "      <td>neutral</td>\n",
       "      <td>0</td>\n",
       "    </tr>\n",
       "    <tr>\n",
       "      <th>1</th>\n",
       "      <td>1</td>\n",
       "      <td>비록 다이어트에 실패를 가져다 준\\n곰곰쌀이지만\\n맛있는 걸 오또케요\\n진짜 최고입니다</td>\n",
       "      <td>positive</td>\n",
       "      <td>1</td>\n",
       "    </tr>\n",
       "    <tr>\n",
       "      <th>2</th>\n",
       "      <td>2</td>\n",
       "      <td>♡지난번 구입해서 먹고 다 먹어서\\n또 구입했습니다</td>\n",
       "      <td>neutral</td>\n",
       "      <td>0</td>\n",
       "    </tr>\n",
       "  </tbody>\n",
       "</table>\n",
       "</div>"
      ],
      "text/plain": [
       "   Unnamed: 0                                             train       api  \\\n",
       "0           0                                       밥맛하면\\n곰곰쌀이죠   neutral   \n",
       "1           1  비록 다이어트에 실패를 가져다 준\\n곰곰쌀이지만\\n맛있는 걸 오또케요\\n진짜 최고입니다  positive   \n",
       "2           2                      ♡지난번 구입해서 먹고 다 먹어서\\n또 구입했습니다   neutral   \n",
       "\n",
       "   score  \n",
       "0      0  \n",
       "1      1  \n",
       "2      0  "
      ]
     },
     "metadata": {},
     "execution_count": 53
    }
   ],
   "metadata": {}
  },
  {
   "cell_type": "code",
   "execution_count": 78,
   "source": [
    "len(train_df_2)"
   ],
   "outputs": [
    {
     "output_type": "execute_result",
     "data": {
      "text/plain": [
       "15730"
      ]
     },
     "metadata": {},
     "execution_count": 78
    }
   ],
   "metadata": {}
  },
  {
   "cell_type": "code",
   "execution_count": 77,
   "source": [
    "# train data의 긍부정 비율 확인 : 긍정1 / 중립0 / 부정 -1\r\n",
    "%matplotlib inline \r\n",
    "import matplotlib.pyplot as plt\r\n",
    "\r\n",
    "train_df_2['score'].value_counts().plot(kind='bar')"
   ],
   "outputs": [
    {
     "output_type": "execute_result",
     "data": {
      "text/plain": [
       "<AxesSubplot:>"
      ]
     },
     "metadata": {},
     "execution_count": 77
    },
    {
     "output_type": "display_data",
     "data": {
      "image/png": "[encoded data removed]",
      "image/svg+xml": "<?xml version=\"1.0\" encoding=\"utf-8\" standalone=\"no\"?>\r\n<!DOCTYPE svg PUBLIC \"-//W3C//DTD SVG 1.1//EN\"\r\n  \"http://www.w3.org/Graphics/SVG/1.1/DTD/svg11.dtd\">\r\n<!-- Created with matplotlib (https://matplotlib.org/) -->\r\n<svg height=\"248.810312pt\" version=\"1.1\" viewBox=\"0 0 381.65 248.810312\" width=\"381.65pt\" xmlns=\"http://www.w3.org/2000/svg\" xmlns:xlink=\"http://www.w3.org/1999/xlink\">\r\n <metadata>\r\n  <rdf:RDF xmlns:cc=\"http://creativecommons.org/ns#\" xmlns:dc=\"http://purl.org/dc/elements/1.1/\" xmlns:rdf=\"http://www.w3.org/1999/02/22-rdf-syntax-ns#\">\r\n   <cc:Work>\r\n    <dc:type rdf:resource=\"http://purl.org/dc/dcmitype/StillImage\"/>\r\n    <dc:date>2021-09-05T16:46:35.285283</dc:date>\r\n    <dc:format>image/svg+xml</dc:format>\r\n    <dc:creator>\r\n     <cc:Agent>\r\n      <dc:title>Matplotlib v3.3.4, https://matplotlib.org/</dc:title>\r\n     </cc:Agent>\r\n    </dc:creator>\r\n   </cc:Work>\r\n  </rdf:RDF>\r\n </metadata>\r\n <defs>\r\n  <style type=\"text/css\">*{stroke-linecap:butt;stroke-linejoin:round;}</style>\r\n </defs>\r\n <g id=\"figure_1\">\r\n  <g id=\"patch_1\">\r\n   <path d=\"M -0 248.810312 \r\nL 381.65 248.810312 \r\nL 381.65 0 \r\nL -0 0 \r\nz\r\n\" style=\"fill:none;\"/>\r\n  </g>\r\n  <g id=\"axes_1\">\r\n   <g id=\"patch_2\">\r\n    <path d=\"M 39.65 224.64 \r\nL 374.45 224.64 \r\nL 374.45 7.2 \r\nL 39.65 7.2 \r\nz\r\n\" style=\"fill:#ffffff;\"/>\r\n   </g>\r\n   <g id=\"patch_3\">\r\n    <path clip-path=\"url(#pf647caea89)\" d=\"M 67.55 224.64 \r\nL 123.35 224.64 \r\nL 123.35 17.554286 \r\nL 67.55 17.554286 \r\nz\r\n\" style=\"fill:#1f77b4;\"/>\r\n   </g>\r\n   <g id=\"patch_4\">\r\n    <path clip-path=\"url(#pf647caea89)\" d=\"M 179.15 224.64 \r\nL 234.95 224.64 \r\nL 234.95 90.464659 \r\nL 179.15 90.464659 \r\nz\r\n\" style=\"fill:#1f77b4;\"/>\r\n   </g>\r\n   <g id=\"patch_5\">\r\n    <path clip-path=\"url(#pf647caea89)\" d=\"M 290.75 224.64 \r\nL 346.55 224.64 \r\nL 346.55 146.719703 \r\nL 290.75 146.719703 \r\nz\r\n\" style=\"fill:#1f77b4;\"/>\r\n   </g>\r\n   <g id=\"matplotlib.axis_1\">\r\n    <g id=\"xtick_1\">\r\n     <g id=\"line2d_1\">\r\n      <defs>\r\n       <path d=\"M 0 0 \r\nL 0 3.5 \r\n\" id=\"m37d6082fd6\" style=\"stroke:#000000;stroke-width:0.8;\"/>\r\n      </defs>\r\n      <g>\r\n       <use style=\"stroke:#000000;stroke-width:0.8;\" x=\"95.45\" xlink:href=\"#m37d6082fd6\" y=\"224.64\"/>\r\n      </g>\r\n     </g>\r\n     <g id=\"text_1\">\r\n      <!-- 1 -->\r\n      <g transform=\"translate(98.209375 238.0025)rotate(-90)scale(0.1 -0.1)\">\r\n       <defs>\r\n        <path d=\"M 12.40625 8.296875 \r\nL 28.515625 8.296875 \r\nL 28.515625 63.921875 \r\nL 10.984375 60.40625 \r\nL 10.984375 69.390625 \r\nL 28.421875 72.90625 \r\nL 38.28125 72.90625 \r\nL 38.28125 8.296875 \r\nL 54.390625 8.296875 \r\nL 54.390625 0 \r\nL 12.40625 0 \r\nz\r\n\" id=\"DejaVuSans-49\"/>\r\n       </defs>\r\n       <use xlink:href=\"#DejaVuSans-49\"/>\r\n      </g>\r\n     </g>\r\n    </g>\r\n    <g id=\"xtick_2\">\r\n     <g id=\"line2d_2\">\r\n      <g>\r\n       <use style=\"stroke:#000000;stroke-width:0.8;\" x=\"207.05\" xlink:href=\"#m37d6082fd6\" y=\"224.64\"/>\r\n      </g>\r\n     </g>\r\n     <g id=\"text_2\">\r\n      <!-- 0 -->\r\n      <g transform=\"translate(209.809375 238.0025)rotate(-90)scale(0.1 -0.1)\">\r\n       <defs>\r\n        <path d=\"M 31.78125 66.40625 \r\nQ 24.171875 66.40625 20.328125 58.90625 \r\nQ 16.5 51.421875 16.5 36.375 \r\nQ 16.5 21.390625 20.328125 13.890625 \r\nQ 24.171875 6.390625 31.78125 6.390625 \r\nQ 39.453125 6.390625 43.28125 13.890625 \r\nQ 47.125 21.390625 47.125 36.375 \r\nQ 47.125 51.421875 43.28125 58.90625 \r\nQ 39.453125 66.40625 31.78125 66.40625 \r\nz\r\nM 31.78125 74.21875 \r\nQ 44.046875 74.21875 50.515625 64.515625 \r\nQ 56.984375 54.828125 56.984375 36.375 \r\nQ 56.984375 17.96875 50.515625 8.265625 \r\nQ 44.046875 -1.421875 31.78125 -1.421875 \r\nQ 19.53125 -1.421875 13.0625 8.265625 \r\nQ 6.59375 17.96875 6.59375 36.375 \r\nQ 6.59375 54.828125 13.0625 64.515625 \r\nQ 19.53125 74.21875 31.78125 74.21875 \r\nz\r\n\" id=\"DejaVuSans-48\"/>\r\n       </defs>\r\n       <use xlink:href=\"#DejaVuSans-48\"/>\r\n      </g>\r\n     </g>\r\n    </g>\r\n    <g id=\"xtick_3\">\r\n     <g id=\"line2d_3\">\r\n      <g>\r\n       <use style=\"stroke:#000000;stroke-width:0.8;\" x=\"318.65\" xlink:href=\"#m37d6082fd6\" y=\"224.64\"/>\r\n      </g>\r\n     </g>\r\n     <g id=\"text_3\">\r\n      <!-- -1 -->\r\n      <g transform=\"translate(321.409375 241.610312)rotate(-90)scale(0.1 -0.1)\">\r\n       <defs>\r\n        <path d=\"M 4.890625 31.390625 \r\nL 31.203125 31.390625 \r\nL 31.203125 23.390625 \r\nL 4.890625 23.390625 \r\nz\r\n\" id=\"DejaVuSans-45\"/>\r\n       </defs>\r\n       <use xlink:href=\"#DejaVuSans-45\"/>\r\n       <use x=\"36.083984\" xlink:href=\"#DejaVuSans-49\"/>\r\n      </g>\r\n     </g>\r\n    </g>\r\n   </g>\r\n   <g id=\"matplotlib.axis_2\">\r\n    <g id=\"ytick_1\">\r\n     <g id=\"line2d_4\">\r\n      <defs>\r\n       <path d=\"M 0 0 \r\nL -3.5 0 \r\n\" id=\"m2de33ffac4\" style=\"stroke:#000000;stroke-width:0.8;\"/>\r\n      </defs>\r\n      <g>\r\n       <use style=\"stroke:#000000;stroke-width:0.8;\" x=\"39.65\" xlink:href=\"#m2de33ffac4\" y=\"224.64\"/>\r\n      </g>\r\n     </g>\r\n     <g id=\"text_4\">\r\n      <!-- 0 -->\r\n      <g transform=\"translate(26.2875 228.439219)scale(0.1 -0.1)\">\r\n       <use xlink:href=\"#DejaVuSans-48\"/>\r\n      </g>\r\n     </g>\r\n    </g>\r\n    <g id=\"ytick_2\">\r\n     <g id=\"line2d_5\">\r\n      <g>\r\n       <use style=\"stroke:#000000;stroke-width:0.8;\" x=\"39.65\" xlink:href=\"#m2de33ffac4\" y=\"197.991472\"/>\r\n      </g>\r\n     </g>\r\n     <g id=\"text_5\">\r\n      <!-- 1000 -->\r\n      <g transform=\"translate(7.2 201.79069)scale(0.1 -0.1)\">\r\n       <use xlink:href=\"#DejaVuSans-49\"/>\r\n       <use x=\"63.623047\" xlink:href=\"#DejaVuSans-48\"/>\r\n       <use x=\"127.246094\" xlink:href=\"#DejaVuSans-48\"/>\r\n       <use x=\"190.869141\" xlink:href=\"#DejaVuSans-48\"/>\r\n      </g>\r\n     </g>\r\n    </g>\r\n    <g id=\"ytick_3\">\r\n     <g id=\"line2d_6\">\r\n      <g>\r\n       <use style=\"stroke:#000000;stroke-width:0.8;\" x=\"39.65\" xlink:href=\"#m2de33ffac4\" y=\"171.342943\"/>\r\n      </g>\r\n     </g>\r\n     <g id=\"text_6\">\r\n      <!-- 2000 -->\r\n      <g transform=\"translate(7.2 175.142162)scale(0.1 -0.1)\">\r\n       <defs>\r\n        <path d=\"M 19.1875 8.296875 \r\nL 53.609375 8.296875 \r\nL 53.609375 0 \r\nL 7.328125 0 \r\nL 7.328125 8.296875 \r\nQ 12.9375 14.109375 22.625 23.890625 \r\nQ 32.328125 33.6875 34.8125 36.53125 \r\nQ 39.546875 41.84375 41.421875 45.53125 \r\nQ 43.3125 49.21875 43.3125 52.78125 \r\nQ 43.3125 58.59375 39.234375 62.25 \r\nQ 35.15625 65.921875 28.609375 65.921875 \r\nQ 23.96875 65.921875 18.8125 64.3125 \r\nQ 13.671875 62.703125 7.8125 59.421875 \r\nL 7.8125 69.390625 \r\nQ 13.765625 71.78125 18.9375 73 \r\nQ 24.125 74.21875 28.421875 74.21875 \r\nQ 39.75 74.21875 46.484375 68.546875 \r\nQ 53.21875 62.890625 53.21875 53.421875 \r\nQ 53.21875 48.921875 51.53125 44.890625 \r\nQ 49.859375 40.875 45.40625 35.40625 \r\nQ 44.1875 33.984375 37.640625 27.21875 \r\nQ 31.109375 20.453125 19.1875 8.296875 \r\nz\r\n\" id=\"DejaVuSans-50\"/>\r\n       </defs>\r\n       <use xlink:href=\"#DejaVuSans-50\"/>\r\n       <use x=\"63.623047\" xlink:href=\"#DejaVuSans-48\"/>\r\n       <use x=\"127.246094\" xlink:href=\"#DejaVuSans-48\"/>\r\n       <use x=\"190.869141\" xlink:href=\"#DejaVuSans-48\"/>\r\n      </g>\r\n     </g>\r\n    </g>\r\n    <g id=\"ytick_4\">\r\n     <g id=\"line2d_7\">\r\n      <g>\r\n       <use style=\"stroke:#000000;stroke-width:0.8;\" x=\"39.65\" xlink:href=\"#m2de33ffac4\" y=\"144.694415\"/>\r\n      </g>\r\n     </g>\r\n     <g id=\"text_7\">\r\n      <!-- 3000 -->\r\n      <g transform=\"translate(7.2 148.493634)scale(0.1 -0.1)\">\r\n       <defs>\r\n        <path d=\"M 40.578125 39.3125 \r\nQ 47.65625 37.796875 51.625 33 \r\nQ 55.609375 28.21875 55.609375 21.1875 \r\nQ 55.609375 10.40625 48.1875 4.484375 \r\nQ 40.765625 -1.421875 27.09375 -1.421875 \r\nQ 22.515625 -1.421875 17.65625 -0.515625 \r\nQ 12.796875 0.390625 7.625 2.203125 \r\nL 7.625 11.71875 \r\nQ 11.71875 9.328125 16.59375 8.109375 \r\nQ 21.484375 6.890625 26.8125 6.890625 \r\nQ 36.078125 6.890625 40.9375 10.546875 \r\nQ 45.796875 14.203125 45.796875 21.1875 \r\nQ 45.796875 27.640625 41.28125 31.265625 \r\nQ 36.765625 34.90625 28.71875 34.90625 \r\nL 20.21875 34.90625 \r\nL 20.21875 43.015625 \r\nL 29.109375 43.015625 \r\nQ 36.375 43.015625 40.234375 45.921875 \r\nQ 44.09375 48.828125 44.09375 54.296875 \r\nQ 44.09375 59.90625 40.109375 62.90625 \r\nQ 36.140625 65.921875 28.71875 65.921875 \r\nQ 24.65625 65.921875 20.015625 65.03125 \r\nQ 15.375 64.15625 9.8125 62.3125 \r\nL 9.8125 71.09375 \r\nQ 15.4375 72.65625 20.34375 73.4375 \r\nQ 25.25 74.21875 29.59375 74.21875 \r\nQ 40.828125 74.21875 47.359375 69.109375 \r\nQ 53.90625 64.015625 53.90625 55.328125 \r\nQ 53.90625 49.265625 50.4375 45.09375 \r\nQ 46.96875 40.921875 40.578125 39.3125 \r\nz\r\n\" id=\"DejaVuSans-51\"/>\r\n       </defs>\r\n       <use xlink:href=\"#DejaVuSans-51\"/>\r\n       <use x=\"63.623047\" xlink:href=\"#DejaVuSans-48\"/>\r\n       <use x=\"127.246094\" xlink:href=\"#DejaVuSans-48\"/>\r\n       <use x=\"190.869141\" xlink:href=\"#DejaVuSans-48\"/>\r\n      </g>\r\n     </g>\r\n    </g>\r\n    <g id=\"ytick_5\">\r\n     <g id=\"line2d_8\">\r\n      <g>\r\n       <use style=\"stroke:#000000;stroke-width:0.8;\" x=\"39.65\" xlink:href=\"#m2de33ffac4\" y=\"118.045886\"/>\r\n      </g>\r\n     </g>\r\n     <g id=\"text_8\">\r\n      <!-- 4000 -->\r\n      <g transform=\"translate(7.2 121.845105)scale(0.1 -0.1)\">\r\n       <defs>\r\n        <path d=\"M 37.796875 64.3125 \r\nL 12.890625 25.390625 \r\nL 37.796875 25.390625 \r\nz\r\nM 35.203125 72.90625 \r\nL 47.609375 72.90625 \r\nL 47.609375 25.390625 \r\nL 58.015625 25.390625 \r\nL 58.015625 17.1875 \r\nL 47.609375 17.1875 \r\nL 47.609375 0 \r\nL 37.796875 0 \r\nL 37.796875 17.1875 \r\nL 4.890625 17.1875 \r\nL 4.890625 26.703125 \r\nz\r\n\" id=\"DejaVuSans-52\"/>\r\n       </defs>\r\n       <use xlink:href=\"#DejaVuSans-52\"/>\r\n       <use x=\"63.623047\" xlink:href=\"#DejaVuSans-48\"/>\r\n       <use x=\"127.246094\" xlink:href=\"#DejaVuSans-48\"/>\r\n       <use x=\"190.869141\" xlink:href=\"#DejaVuSans-48\"/>\r\n      </g>\r\n     </g>\r\n    </g>\r\n    <g id=\"ytick_6\">\r\n     <g id=\"line2d_9\">\r\n      <g>\r\n       <use style=\"stroke:#000000;stroke-width:0.8;\" x=\"39.65\" xlink:href=\"#m2de33ffac4\" y=\"91.397358\"/>\r\n      </g>\r\n     </g>\r\n     <g id=\"text_9\">\r\n      <!-- 5000 -->\r\n      <g transform=\"translate(7.2 95.196577)scale(0.1 -0.1)\">\r\n       <defs>\r\n        <path d=\"M 10.796875 72.90625 \r\nL 49.515625 72.90625 \r\nL 49.515625 64.59375 \r\nL 19.828125 64.59375 \r\nL 19.828125 46.734375 \r\nQ 21.96875 47.46875 24.109375 47.828125 \r\nQ 26.265625 48.1875 28.421875 48.1875 \r\nQ 40.625 48.1875 47.75 41.5 \r\nQ 54.890625 34.8125 54.890625 23.390625 \r\nQ 54.890625 11.625 47.5625 5.09375 \r\nQ 40.234375 -1.421875 26.90625 -1.421875 \r\nQ 22.3125 -1.421875 17.546875 -0.640625 \r\nQ 12.796875 0.140625 7.71875 1.703125 \r\nL 7.71875 11.625 \r\nQ 12.109375 9.234375 16.796875 8.0625 \r\nQ 21.484375 6.890625 26.703125 6.890625 \r\nQ 35.15625 6.890625 40.078125 11.328125 \r\nQ 45.015625 15.765625 45.015625 23.390625 \r\nQ 45.015625 31 40.078125 35.4375 \r\nQ 35.15625 39.890625 26.703125 39.890625 \r\nQ 22.75 39.890625 18.8125 39.015625 \r\nQ 14.890625 38.140625 10.796875 36.28125 \r\nz\r\n\" id=\"DejaVuSans-53\"/>\r\n       </defs>\r\n       <use xlink:href=\"#DejaVuSans-53\"/>\r\n       <use x=\"63.623047\" xlink:href=\"#DejaVuSans-48\"/>\r\n       <use x=\"127.246094\" xlink:href=\"#DejaVuSans-48\"/>\r\n       <use x=\"190.869141\" xlink:href=\"#DejaVuSans-48\"/>\r\n      </g>\r\n     </g>\r\n    </g>\r\n    <g id=\"ytick_7\">\r\n     <g id=\"line2d_10\">\r\n      <g>\r\n       <use style=\"stroke:#000000;stroke-width:0.8;\" x=\"39.65\" xlink:href=\"#m2de33ffac4\" y=\"64.74883\"/>\r\n      </g>\r\n     </g>\r\n     <g id=\"text_10\">\r\n      <!-- 6000 -->\r\n      <g transform=\"translate(7.2 68.548048)scale(0.1 -0.1)\">\r\n       <defs>\r\n        <path d=\"M 33.015625 40.375 \r\nQ 26.375 40.375 22.484375 35.828125 \r\nQ 18.609375 31.296875 18.609375 23.390625 \r\nQ 18.609375 15.53125 22.484375 10.953125 \r\nQ 26.375 6.390625 33.015625 6.390625 \r\nQ 39.65625 6.390625 43.53125 10.953125 \r\nQ 47.40625 15.53125 47.40625 23.390625 \r\nQ 47.40625 31.296875 43.53125 35.828125 \r\nQ 39.65625 40.375 33.015625 40.375 \r\nz\r\nM 52.59375 71.296875 \r\nL 52.59375 62.3125 \r\nQ 48.875 64.0625 45.09375 64.984375 \r\nQ 41.3125 65.921875 37.59375 65.921875 \r\nQ 27.828125 65.921875 22.671875 59.328125 \r\nQ 17.53125 52.734375 16.796875 39.40625 \r\nQ 19.671875 43.65625 24.015625 45.921875 \r\nQ 28.375 48.1875 33.59375 48.1875 \r\nQ 44.578125 48.1875 50.953125 41.515625 \r\nQ 57.328125 34.859375 57.328125 23.390625 \r\nQ 57.328125 12.15625 50.6875 5.359375 \r\nQ 44.046875 -1.421875 33.015625 -1.421875 \r\nQ 20.359375 -1.421875 13.671875 8.265625 \r\nQ 6.984375 17.96875 6.984375 36.375 \r\nQ 6.984375 53.65625 15.1875 63.9375 \r\nQ 23.390625 74.21875 37.203125 74.21875 \r\nQ 40.921875 74.21875 44.703125 73.484375 \r\nQ 48.484375 72.75 52.59375 71.296875 \r\nz\r\n\" id=\"DejaVuSans-54\"/>\r\n       </defs>\r\n       <use xlink:href=\"#DejaVuSans-54\"/>\r\n       <use x=\"63.623047\" xlink:href=\"#DejaVuSans-48\"/>\r\n       <use x=\"127.246094\" xlink:href=\"#DejaVuSans-48\"/>\r\n       <use x=\"190.869141\" xlink:href=\"#DejaVuSans-48\"/>\r\n      </g>\r\n     </g>\r\n    </g>\r\n    <g id=\"ytick_8\">\r\n     <g id=\"line2d_11\">\r\n      <g>\r\n       <use style=\"stroke:#000000;stroke-width:0.8;\" x=\"39.65\" xlink:href=\"#m2de33ffac4\" y=\"38.100301\"/>\r\n      </g>\r\n     </g>\r\n     <g id=\"text_11\">\r\n      <!-- 7000 -->\r\n      <g transform=\"translate(7.2 41.89952)scale(0.1 -0.1)\">\r\n       <defs>\r\n        <path d=\"M 8.203125 72.90625 \r\nL 55.078125 72.90625 \r\nL 55.078125 68.703125 \r\nL 28.609375 0 \r\nL 18.3125 0 \r\nL 43.21875 64.59375 \r\nL 8.203125 64.59375 \r\nz\r\n\" id=\"DejaVuSans-55\"/>\r\n       </defs>\r\n       <use xlink:href=\"#DejaVuSans-55\"/>\r\n       <use x=\"63.623047\" xlink:href=\"#DejaVuSans-48\"/>\r\n       <use x=\"127.246094\" xlink:href=\"#DejaVuSans-48\"/>\r\n       <use x=\"190.869141\" xlink:href=\"#DejaVuSans-48\"/>\r\n      </g>\r\n     </g>\r\n    </g>\r\n    <g id=\"ytick_9\">\r\n     <g id=\"line2d_12\">\r\n      <g>\r\n       <use style=\"stroke:#000000;stroke-width:0.8;\" x=\"39.65\" xlink:href=\"#m2de33ffac4\" y=\"11.451773\"/>\r\n      </g>\r\n     </g>\r\n     <g id=\"text_12\">\r\n      <!-- 8000 -->\r\n      <g transform=\"translate(7.2 15.250991)scale(0.1 -0.1)\">\r\n       <defs>\r\n        <path d=\"M 31.78125 34.625 \r\nQ 24.75 34.625 20.71875 30.859375 \r\nQ 16.703125 27.09375 16.703125 20.515625 \r\nQ 16.703125 13.921875 20.71875 10.15625 \r\nQ 24.75 6.390625 31.78125 6.390625 \r\nQ 38.8125 6.390625 42.859375 10.171875 \r\nQ 46.921875 13.96875 46.921875 20.515625 \r\nQ 46.921875 27.09375 42.890625 30.859375 \r\nQ 38.875 34.625 31.78125 34.625 \r\nz\r\nM 21.921875 38.8125 \r\nQ 15.578125 40.375 12.03125 44.71875 \r\nQ 8.5 49.078125 8.5 55.328125 \r\nQ 8.5 64.0625 14.71875 69.140625 \r\nQ 20.953125 74.21875 31.78125 74.21875 \r\nQ 42.671875 74.21875 48.875 69.140625 \r\nQ 55.078125 64.0625 55.078125 55.328125 \r\nQ 55.078125 49.078125 51.53125 44.71875 \r\nQ 48 40.375 41.703125 38.8125 \r\nQ 48.828125 37.15625 52.796875 32.3125 \r\nQ 56.78125 27.484375 56.78125 20.515625 \r\nQ 56.78125 9.90625 50.3125 4.234375 \r\nQ 43.84375 -1.421875 31.78125 -1.421875 \r\nQ 19.734375 -1.421875 13.25 4.234375 \r\nQ 6.78125 9.90625 6.78125 20.515625 \r\nQ 6.78125 27.484375 10.78125 32.3125 \r\nQ 14.796875 37.15625 21.921875 38.8125 \r\nz\r\nM 18.3125 54.390625 \r\nQ 18.3125 48.734375 21.84375 45.5625 \r\nQ 25.390625 42.390625 31.78125 42.390625 \r\nQ 38.140625 42.390625 41.71875 45.5625 \r\nQ 45.3125 48.734375 45.3125 54.390625 \r\nQ 45.3125 60.0625 41.71875 63.234375 \r\nQ 38.140625 66.40625 31.78125 66.40625 \r\nQ 25.390625 66.40625 21.84375 63.234375 \r\nQ 18.3125 60.0625 18.3125 54.390625 \r\nz\r\n\" id=\"DejaVuSans-56\"/>\r\n       </defs>\r\n       <use xlink:href=\"#DejaVuSans-56\"/>\r\n       <use x=\"63.623047\" xlink:href=\"#DejaVuSans-48\"/>\r\n       <use x=\"127.246094\" xlink:href=\"#DejaVuSans-48\"/>\r\n       <use x=\"190.869141\" xlink:href=\"#DejaVuSans-48\"/>\r\n      </g>\r\n     </g>\r\n    </g>\r\n   </g>\r\n   <g id=\"patch_6\">\r\n    <path d=\"M 39.65 224.64 \r\nL 39.65 7.2 \r\n\" style=\"fill:none;stroke:#000000;stroke-linecap:square;stroke-linejoin:miter;stroke-width:0.8;\"/>\r\n   </g>\r\n   <g id=\"patch_7\">\r\n    <path d=\"M 374.45 224.64 \r\nL 374.45 7.2 \r\n\" style=\"fill:none;stroke:#000000;stroke-linecap:square;stroke-linejoin:miter;stroke-width:0.8;\"/>\r\n   </g>\r\n   <g id=\"patch_8\">\r\n    <path d=\"M 39.65 224.64 \r\nL 374.45 224.64 \r\n\" style=\"fill:none;stroke:#000000;stroke-linecap:square;stroke-linejoin:miter;stroke-width:0.8;\"/>\r\n   </g>\r\n   <g id=\"patch_9\">\r\n    <path d=\"M 39.65 7.2 \r\nL 374.45 7.2 \r\n\" style=\"fill:none;stroke:#000000;stroke-linecap:square;stroke-linejoin:miter;stroke-width:0.8;\"/>\r\n   </g>\r\n  </g>\r\n </g>\r\n <defs>\r\n  <clipPath id=\"pf647caea89\">\r\n   <rect height=\"217.44\" width=\"334.8\" x=\"39.65\" y=\"7.2\"/>\r\n  </clipPath>\r\n </defs>\r\n</svg>\r\n",
      "text/plain": [
       "<Figure size 432x288 with 1 Axes>"
      ]
     },
     "metadata": {
      "needs_background": "light"
     }
    }
   ],
   "metadata": {}
  },
  {
   "cell_type": "markdown",
   "source": [
    "### - pred : 2020 카페"
   ],
   "metadata": {}
  },
  {
   "cell_type": "code",
   "execution_count": 54,
   "source": [
    "# pred 데이터 불러오기\r\n",
    "pred_df = pd.read_excel('test_data/2020cafe_clean.xlsx') # header있음 # 전처리 완료된 데이터 문서단위임"
   ],
   "outputs": [],
   "metadata": {}
  },
  {
   "cell_type": "code",
   "execution_count": 55,
   "source": [
    "# 데이터 확인\r\n",
    "pred_df['content_clean']"
   ],
   "outputs": [
    {
     "output_type": "execute_result",
     "data": {
      "text/plain": [
       "0                    쌀구움과자  장여진  채미희 지음경향미디어메마른 쌀베이킹계의단...\n",
       "1        먹던게있어서 식탁밑에 보관만하다가 개봉햇더니만 쌀이 눈에 보이게 딱 구분되어있는거 ...\n",
       "2              어제 쌀이 똑 떨어져서    한인마트 가기는 너무 멀고 동네 수퍼 스토어...\n",
       "3        가와지쌀 쌕깔이 원래 이렇개누리끼리한가요 살짝 푸루딩긴힌것같기도하고   쌀냄새도 쫌...\n",
       "4        해원고 쌀꾸러미 한두달전에 받은듯해요얼마전 남은 쌀다먹고 5키로짜리 쌀 맛나게 잘먹...\n",
       "                               ...                        \n",
       "10000    친정에서 지난주에 쌀을가져왔는데  저희먹을거빼고 10키로짜리 2만원에판매합니다 와우...\n",
       "10001    세상에 오대쌀 산지 이주된거같은데    지퍼백보관했고요 10키로 반반해서 하나는 실...\n",
       "10002    인터넷검색하니  20배라해서  쌀가루 20그람에 물400넣고 이유식 돌리니    완...\n",
       "10003     일반쌀 20    찹쌀 20   미개봉 상태인데 좀 오래되어서 가축 사료용으로 쓰...\n",
       "10004     싱싱채소  햇고구마  감자 당근 호박 대파 쌀 배달해드려요        텃밭지키미...\n",
       "Name: content_clean, Length: 10005, dtype: object"
      ]
     },
     "metadata": {},
     "execution_count": 55
    }
   ],
   "metadata": {}
  },
  {
   "cell_type": "markdown",
   "source": [
    "## 02. 데이터 전처리"
   ],
   "metadata": {}
  },
  {
   "cell_type": "markdown",
   "source": [
    "##  - train data"
   ],
   "metadata": {}
  },
  {
   "cell_type": "code",
   "execution_count": 56,
   "source": [
    "# train 1 확인\r\n",
    "\r\n",
    "# text 컬럼이 non-null인 샘플만 train_df에 다시 저장\r\n",
    "train_df = train_df[train_df[0].notnull()]\r\n",
    "\r\n",
    "# 수정된 train_df의 정보를 다시 확인\r\n",
    "print(train_df.info())\r\n",
    "\r\n",
    "# 분류 클래스의 구성을 확인\r\n",
    "print(train_df[1].value_counts())"
   ],
   "outputs": [
    {
     "output_type": "stream",
     "name": "stdout",
     "text": [
      "<class 'pandas.core.frame.DataFrame'>\n",
      "Int64Index: 356832 entries, 0 to 356831\n",
      "Data columns (total 2 columns):\n",
      " #   Column  Non-Null Count   Dtype \n",
      "---  ------  --------------   ----- \n",
      " 0   0       356832 non-null  object\n",
      " 1   1       356832 non-null  int64 \n",
      "dtypes: int64(1), object(1)\n",
      "memory usage: 8.2+ MB\n",
      "None\n",
      " 1    179180\n",
      "-1    177652\n",
      "Name: 1, dtype: int64\n"
     ]
    }
   ],
   "metadata": {}
  },
  {
   "cell_type": "code",
   "execution_count": 57,
   "source": [
    "# train 2 확인\r\n",
    "\r\n",
    "# text 컬럼이 non-null인 샘플만 train_df에 다시 저장\r\n",
    "train_df_2 = train_df_2[train_df_2['train'].notnull()]\r\n",
    "\r\n",
    "# 수정된 train_df의 정보를 다시 확인\r\n",
    "print(train_df_2.info())\r\n",
    "\r\n",
    "# 분류 클래스의 구성을 확인\r\n",
    "print(train_df_2['score'].value_counts())"
   ],
   "outputs": [
    {
     "output_type": "stream",
     "name": "stdout",
     "text": [
      "<class 'pandas.core.frame.DataFrame'>\n",
      "Int64Index: 15730 entries, 0 to 15729\n",
      "Data columns (total 4 columns):\n",
      " #   Column      Non-Null Count  Dtype \n",
      "---  ------      --------------  ----- \n",
      " 0   Unnamed: 0  15730 non-null  int64 \n",
      " 1   train       15730 non-null  object\n",
      " 2   api         15730 non-null  object\n",
      " 3   score       15730 non-null  int64 \n",
      "dtypes: int64(2), object(2)\n",
      "memory usage: 614.5+ KB\n",
      "None\n",
      " 1    7771\n",
      " 0    5035\n",
      "-1    2924\n",
      "Name: score, dtype: int64\n"
     ]
    }
   ],
   "metadata": {}
  },
  {
   "cell_type": "markdown",
   "source": [
    "### - train 합치기"
   ],
   "metadata": {}
  },
  {
   "cell_type": "code",
   "execution_count": 58,
   "source": [
    "len (train_df[0]), len(train_df_2['train'])"
   ],
   "outputs": [
    {
     "output_type": "execute_result",
     "data": {
      "text/plain": [
       "(356832, 15730)"
      ]
     },
     "metadata": {},
     "execution_count": 58
    }
   ],
   "metadata": {}
  },
  {
   "cell_type": "code",
   "execution_count": 59,
   "source": [
    "# train_x 합치기\r\n",
    "all_train_x_df= pd.concat( [train_df[0], train_df_2['train'] ], axis = 0)\r\n",
    "all_train_x_df=all_train_x_df.reset_index()\r\n",
    "all_train_x_df"
   ],
   "outputs": [
    {
     "output_type": "execute_result",
     "data": {
      "text/html": [
       "<div>\n",
       "<style scoped>\n",
       "    .dataframe tbody tr th:only-of-type {\n",
       "        vertical-align: middle;\n",
       "    }\n",
       "\n",
       "    .dataframe tbody tr th {\n",
       "        vertical-align: top;\n",
       "    }\n",
       "\n",
       "    .dataframe thead th {\n",
       "        text-align: right;\n",
       "    }\n",
       "</style>\n",
       "<table border=\"1\" class=\"dataframe\">\n",
       "  <thead>\n",
       "    <tr style=\"text-align: right;\">\n",
       "      <th></th>\n",
       "      <th>index</th>\n",
       "      <th>0</th>\n",
       "    </tr>\n",
       "  </thead>\n",
       "  <tbody>\n",
       "    <tr>\n",
       "      <th>0</th>\n",
       "      <td>0</td>\n",
       "      <td>+@음침한 분위기+@기괴한 크리쳐들-@눈만 아픈 그래픽-@왜 넣었는지 모를 레터박...</td>\n",
       "    </tr>\n",
       "    <tr>\n",
       "      <th>1</th>\n",
       "      <td>1</td>\n",
       "      <td>+@음침한 분위기+@기괴한 크리쳐들-@눈만 아픈 그래픽-@왜 넣었는지 모를 레터박...</td>\n",
       "    </tr>\n",
       "    <tr>\n",
       "      <th>2</th>\n",
       "      <td>2</td>\n",
       "      <td>+@음침한 분위기+@기괴한 크리쳐들-@눈만 아픈 그래픽-@왜 넣었는지 모를 레터박...</td>\n",
       "    </tr>\n",
       "    <tr>\n",
       "      <th>3</th>\n",
       "      <td>3</td>\n",
       "      <td>+@음침한 분위기+@기괴한 크리쳐들-@눈만 아픈 그래픽-@왜 넣었는지 모를 레터박...</td>\n",
       "    </tr>\n",
       "    <tr>\n",
       "      <th>4</th>\n",
       "      <td>4</td>\n",
       "      <td>+@음침한 분위기+@기괴한 크리쳐들-@눈만 아픈 그래픽-@왜 넣었는지 모를 레터박...</td>\n",
       "    </tr>\n",
       "    <tr>\n",
       "      <th>...</th>\n",
       "      <td>...</td>\n",
       "      <td>...</td>\n",
       "    </tr>\n",
       "    <tr>\n",
       "      <th>372557</th>\n",
       "      <td>15725</td>\n",
       "      <td>2인이 살고 있는 집이구 저는 주말에만 빕에서 밥을 먹어서\\n양이 좀 많은 편입니다</td>\n",
       "    </tr>\n",
       "    <tr>\n",
       "      <th>372558</th>\n",
       "      <td>15726</td>\n",
       "      <td>여름이라 더 작은거 사려다가 그냥 재구매했구요</td>\n",
       "    </tr>\n",
       "    <tr>\n",
       "      <th>372559</th>\n",
       "      <td>15727</td>\n",
       "      <td>밥맛은 좋아요</td>\n",
       "    </tr>\n",
       "    <tr>\n",
       "      <th>372560</th>\n",
       "      <td>15728</td>\n",
       "      <td>품질 관리 잘 하시는거 같아요</td>\n",
       "    </tr>\n",
       "    <tr>\n",
       "      <th>372561</th>\n",
       "      <td>15729</td>\n",
       "      <td>잘먹을게요</td>\n",
       "    </tr>\n",
       "  </tbody>\n",
       "</table>\n",
       "<p>372562 rows × 2 columns</p>\n",
       "</div>"
      ],
      "text/plain": [
       "        index                                                  0\n",
       "0           0   +@음침한 분위기+@기괴한 크리쳐들-@눈만 아픈 그래픽-@왜 넣었는지 모를 레터박...\n",
       "1           1   +@음침한 분위기+@기괴한 크리쳐들-@눈만 아픈 그래픽-@왜 넣었는지 모를 레터박...\n",
       "2           2   +@음침한 분위기+@기괴한 크리쳐들-@눈만 아픈 그래픽-@왜 넣었는지 모를 레터박...\n",
       "3           3   +@음침한 분위기+@기괴한 크리쳐들-@눈만 아픈 그래픽-@왜 넣었는지 모를 레터박...\n",
       "4           4   +@음침한 분위기+@기괴한 크리쳐들-@눈만 아픈 그래픽-@왜 넣었는지 모를 레터박...\n",
       "...       ...                                                ...\n",
       "372557  15725     2인이 살고 있는 집이구 저는 주말에만 빕에서 밥을 먹어서\\n양이 좀 많은 편입니다\n",
       "372558  15726                          여름이라 더 작은거 사려다가 그냥 재구매했구요\n",
       "372559  15727                                            밥맛은 좋아요\n",
       "372560  15728                                   품질 관리 잘 하시는거 같아요\n",
       "372561  15729                                              잘먹을게요\n",
       "\n",
       "[372562 rows x 2 columns]"
      ]
     },
     "metadata": {},
     "execution_count": 59
    }
   ],
   "metadata": {}
  },
  {
   "cell_type": "code",
   "execution_count": 60,
   "source": [
    "# train_y합치기\r\n",
    "all_train_y_df= pd.concat( [train_df[1], train_df_2['score'] ], axis = 0)\r\n",
    "all_train_y_df=all_train_y_df.reset_index()\r\n",
    "all_train_y_df"
   ],
   "outputs": [
    {
     "output_type": "execute_result",
     "data": {
      "text/html": [
       "<div>\n",
       "<style scoped>\n",
       "    .dataframe tbody tr th:only-of-type {\n",
       "        vertical-align: middle;\n",
       "    }\n",
       "\n",
       "    .dataframe tbody tr th {\n",
       "        vertical-align: top;\n",
       "    }\n",
       "\n",
       "    .dataframe thead th {\n",
       "        text-align: right;\n",
       "    }\n",
       "</style>\n",
       "<table border=\"1\" class=\"dataframe\">\n",
       "  <thead>\n",
       "    <tr style=\"text-align: right;\">\n",
       "      <th></th>\n",
       "      <th>index</th>\n",
       "      <th>0</th>\n",
       "    </tr>\n",
       "  </thead>\n",
       "  <tbody>\n",
       "    <tr>\n",
       "      <th>0</th>\n",
       "      <td>0</td>\n",
       "      <td>-1</td>\n",
       "    </tr>\n",
       "    <tr>\n",
       "      <th>1</th>\n",
       "      <td>1</td>\n",
       "      <td>-1</td>\n",
       "    </tr>\n",
       "    <tr>\n",
       "      <th>2</th>\n",
       "      <td>2</td>\n",
       "      <td>1</td>\n",
       "    </tr>\n",
       "    <tr>\n",
       "      <th>3</th>\n",
       "      <td>3</td>\n",
       "      <td>1</td>\n",
       "    </tr>\n",
       "    <tr>\n",
       "      <th>4</th>\n",
       "      <td>4</td>\n",
       "      <td>1</td>\n",
       "    </tr>\n",
       "    <tr>\n",
       "      <th>...</th>\n",
       "      <td>...</td>\n",
       "      <td>...</td>\n",
       "    </tr>\n",
       "    <tr>\n",
       "      <th>372557</th>\n",
       "      <td>15725</td>\n",
       "      <td>1</td>\n",
       "    </tr>\n",
       "    <tr>\n",
       "      <th>372558</th>\n",
       "      <td>15726</td>\n",
       "      <td>0</td>\n",
       "    </tr>\n",
       "    <tr>\n",
       "      <th>372559</th>\n",
       "      <td>15727</td>\n",
       "      <td>1</td>\n",
       "    </tr>\n",
       "    <tr>\n",
       "      <th>372560</th>\n",
       "      <td>15728</td>\n",
       "      <td>1</td>\n",
       "    </tr>\n",
       "    <tr>\n",
       "      <th>372561</th>\n",
       "      <td>15729</td>\n",
       "      <td>1</td>\n",
       "    </tr>\n",
       "  </tbody>\n",
       "</table>\n",
       "<p>372562 rows × 2 columns</p>\n",
       "</div>"
      ],
      "text/plain": [
       "        index  0\n",
       "0           0 -1\n",
       "1           1 -1\n",
       "2           2  1\n",
       "3           3  1\n",
       "4           4  1\n",
       "...       ... ..\n",
       "372557  15725  1\n",
       "372558  15726  0\n",
       "372559  15727  1\n",
       "372560  15728  1\n",
       "372561  15729  1\n",
       "\n",
       "[372562 rows x 2 columns]"
      ]
     },
     "metadata": {},
     "execution_count": 60
    }
   ],
   "metadata": {}
  },
  {
   "cell_type": "markdown",
   "source": [
    "### - pred set 전처리"
   ],
   "metadata": {}
  },
  {
   "cell_type": "code",
   "execution_count": 61,
   "source": [
    "# pred에 str이 아닌게 존재하네! nan임을 확인함 # 제거하고 데이터 다시 가져옴\r\n",
    "for i in range(len(pred_df)):\r\n",
    "    if type(pred_df['content_clean'][i]) != str :\r\n",
    "        print(i)"
   ],
   "outputs": [],
   "metadata": {}
  },
  {
   "cell_type": "code",
   "execution_count": 62,
   "source": [
    "# 댓글이 있는 항목만 담기(빈 댓글 삭제)\r\n",
    "# text 컬럼이 non-null인 샘플만 train_df에 다시 저장\r\n",
    "pred_df = pred_df[pred_df['content_clean'].notnull()]\r\n",
    "\r\n",
    "# 수정된 train_df의 정보를 다시 확인\r\n",
    "print(pred_df.info())\r\n",
    "\r\n",
    "# null값 개수 확인\r\n",
    "print(pred_df['content_clean'].isnull().sum())"
   ],
   "outputs": [
    {
     "output_type": "stream",
     "name": "stdout",
     "text": [
      "<class 'pandas.core.frame.DataFrame'>\n",
      "Int64Index: 10005 entries, 0 to 10004\n",
      "Data columns (total 8 columns):\n",
      " #   Column         Non-Null Count  Dtype \n",
      "---  ------         --------------  ----- \n",
      " 0   Unnamed: 0     10005 non-null  int64 \n",
      " 1   Unnamed: 0.1   10005 non-null  int64 \n",
      " 2   title          10005 non-null  object\n",
      " 3   nickname       10005 non-null  object\n",
      " 4   date           10005 non-null  object\n",
      " 5   content        10005 non-null  object\n",
      " 6   comments       9665 non-null   object\n",
      " 7   content_clean  10005 non-null  object\n",
      "dtypes: int64(2), object(6)\n",
      "memory usage: 703.5+ KB\n",
      "None\n",
      "0\n"
     ]
    }
   ],
   "metadata": {}
  },
  {
   "cell_type": "markdown",
   "source": [
    "### - pred: 문서 -> 문장\r\n",
    "pred_df['content_clean'][0] # 문서단위로 존재함 -> 문장단위로 바꿈"
   ],
   "metadata": {}
  },
  {
   "cell_type": "code",
   "execution_count": 63,
   "source": [
    "# contents str로 처리\r\n",
    "q= \" \"\r\n",
    "for i in range(len(pred_df)):\r\n",
    "    try:\r\n",
    "     q += pred_df['content_clean'][i]\r\n",
    "    except:\r\n",
    "     pass"
   ],
   "outputs": [],
   "metadata": {}
  },
  {
   "cell_type": "code",
   "execution_count": 64,
   "source": [
    "# 문장어미 구분자 대치\r\n",
    "q = q.replace('네요','네요||-||').replace('하죠','하죠||-||').replace('데요','데요||-||').replace('이네요','이네요||-||')\r\n",
    "q = q.replace('네요.','네요||-||').replace('되죠','되죠||-||').replace('대요','대요||-||').replace('이요','이요||-||')\r\n",
    "q = q.replace('돼요.','돼요||-||').replace('되요','되요||-||').replace('다닙니다','다닙니다||-||').replace('입니다','입니다||-||')\r\n",
    "q = q.replace('입니다.','입니다||-||').replace('니다','니다||-||').replace('중입니다','중입니다||-||').replace('입니다','입니다||-||')\r\n",
    "q = q.replace('나요.','나요||-||').replace('어요','어요||-||').replace('까요','까요||-||').replace('에요','에요||-||')\r\n",
    "q = q.replace('이에요','이에요||-||').replace('봐요','봐요||-||').replace('아요.','아요||-||').replace('와요','와요||-||')\r\n",
    "q = q.replace('해요','해요||-||').replace('려요','려요||-||').replace('구요','구요||-||').replace('고요','고요||-||')\r\n",
    "q = q.replace('죠','죠||-||').replace(':)','').replace('더라','더라||-||').replace('게요','게요||-||').replace('께요','께요||-||').replace('세요','세요||-||').replace('든요','든요||-||').replace('예요','예요||-||').replace('서요','서요||-||')\r\n",
    "q = q.replace('않았다','않았다||-||').replace('었다','었다||-||').replace('있다','있다||-||').replace('이다','이다||-||').replace('싶다','싶다||-||').replace('않다','않다||-||').replace('되었다','되었다||-||').replace('아니다','아니다||-||')\r\n",
    "q = q.replace('하자','하자||-||').replace('는다','는다||-||').replace('했다','했다||-||').replace('한다','한다||-||').replace('혔다','혔다||-||').replace('난다','난다||-||').replace('같아요','같아요||-||').replace('되었어','되었어||-||').replace('했어','했어||-||').replace('했지','했지||-||').replace('었어','었어||-||')\r\n",
    "\r\n",
    "#특수문자 제거\r\n",
    "q = q.replace('.','').replace('?','').replace('~','').replace('!','').replace('^','').replace('#','').replace('★','').replace('ㅋ','').replace('ㅜ','').replace('ㅠ','').replace('ㅎ','').replace('ㅏ','').replace('ㅡ','')\r\n",
    "\r\n",
    "# 구분자로 문장 분리\r\n",
    "p = q.split('||-||')\r\n",
    "print ( '분리된 문장 수 : ',len(p), '// 이전 총 문자수 : ',len(q) ) \r\n",
    "\r\n",
    "# 각 문장을 데이터 프레임으로 저장\r\n",
    "sentence_Data = pd.DataFrame({'content': p})\r\n",
    "print ( len(sentence_Data) ) \r\n",
    "sentence_Data # pred할 셋 문장단위 설정 완"
   ],
   "outputs": [
    {
     "output_type": "stream",
     "name": "stdout",
     "text": [
      "분리된 문장 수 :  48332 // 이전 총 문자수 :  2010402\n",
      "48332\n"
     ]
    },
    {
     "output_type": "execute_result",
     "data": {
      "text/html": [
       "<div>\n",
       "<style scoped>\n",
       "    .dataframe tbody tr th:only-of-type {\n",
       "        vertical-align: middle;\n",
       "    }\n",
       "\n",
       "    .dataframe tbody tr th {\n",
       "        vertical-align: top;\n",
       "    }\n",
       "\n",
       "    .dataframe thead th {\n",
       "        text-align: right;\n",
       "    }\n",
       "</style>\n",
       "<table border=\"1\" class=\"dataframe\">\n",
       "  <thead>\n",
       "    <tr style=\"text-align: right;\">\n",
       "      <th></th>\n",
       "      <th>content</th>\n",
       "    </tr>\n",
       "  </thead>\n",
       "  <tbody>\n",
       "    <tr>\n",
       "      <th>0</th>\n",
       "      <td>쌀구움과자  장여진  채미희 지음경향미디어메마른 쌀베이킹계의...</td>\n",
       "    </tr>\n",
       "    <tr>\n",
       "      <th>1</th>\n",
       "      <td>쌀베이킹을 하면서밀베이킹과는 조금다른 결과물에당황할 때도 종종 있거든요</td>\n",
       "    </tr>\n",
       "    <tr>\n",
       "      <th>2</th>\n",
       "      <td>클래스를 다녀야하나 고민도해봤는데시간이 없는 저로썬 집에서 끙끙 앓고 있었는데너...</td>\n",
       "    </tr>\n",
       "    <tr>\n",
       "      <th>3</th>\n",
       "      <td>프롤로그 쌀베이킹을 시작한 이유에 대해 적혀져있어요</td>\n",
       "    </tr>\n",
       "    <tr>\n",
       "      <th>4</th>\n",
       "      <td>떡으로 시작해서 베이킹까지  여러재료를 활용하고 다양한 가루를사용하셨다고 해요</td>\n",
       "    </tr>\n",
       "    <tr>\n",
       "      <th>...</th>\n",
       "      <td>...</td>\n",
       "    </tr>\n",
       "    <tr>\n",
       "      <th>48327</th>\n",
       "      <td>...</td>\n",
       "    </tr>\n",
       "    <tr>\n",
       "      <th>48328</th>\n",
       "      <td>윤기 좔좔 맛있는 평택쌀   쌀 추청 20    58 000원  54 000...</td>\n",
       "    </tr>\n",
       "    <tr>\n",
       "      <th>48329</th>\n",
       "      <td>재난기금카드 돌봄쿠폰 카드결제 대면결제 계좌이체 온누리상품권  현금영수증 ...</td>\n",
       "    </tr>\n",
       "    <tr>\n",
       "      <th>48330</th>\n",
       "      <td>전화문의 010 2856 8020 계좌  582 12 053282 농협 장유...</td>\n",
       "    </tr>\n",
       "    <tr>\n",
       "      <th>48331</th>\n",
       "      <td></td>\n",
       "    </tr>\n",
       "  </tbody>\n",
       "</table>\n",
       "<p>48332 rows × 1 columns</p>\n",
       "</div>"
      ],
      "text/plain": [
       "                                                 content\n",
       "0                   쌀구움과자  장여진  채미희 지음경향미디어메마른 쌀베이킹계의...\n",
       "1                쌀베이킹을 하면서밀베이킹과는 조금다른 결과물에당황할 때도 종종 있거든요\n",
       "2        클래스를 다녀야하나 고민도해봤는데시간이 없는 저로썬 집에서 끙끙 앓고 있었는데너...\n",
       "3                           프롤로그 쌀베이킹을 시작한 이유에 대해 적혀져있어요\n",
       "4            떡으로 시작해서 베이킹까지  여러재료를 활용하고 다양한 가루를사용하셨다고 해요\n",
       "...                                                  ...\n",
       "48327                                                ...\n",
       "48328      윤기 좔좔 맛있는 평택쌀   쌀 추청 20    58 000원  54 000...\n",
       "48329       재난기금카드 돌봄쿠폰 카드결제 대면결제 계좌이체 온누리상품권  현금영수증 ...\n",
       "48330      전화문의 010 2856 8020 계좌  582 12 053282 농협 장유...\n",
       "48331                                                   \n",
       "\n",
       "[48332 rows x 1 columns]"
      ]
     },
     "metadata": {},
     "execution_count": 64
    }
   ],
   "metadata": {}
  },
  {
   "cell_type": "markdown",
   "source": [
    "### - 문장단위 데이터 전처리"
   ],
   "metadata": {}
  },
  {
   "cell_type": "code",
   "execution_count": 65,
   "source": [
    "# 2번 이상 중복인 데이터 확인\r\n",
    "sentence = sentence_Data['content'].value_counts()\r\n",
    "idx_sentence=sentence[sentence >= 2].index.tolist()\r\n",
    "len(idx_sentence), idx_sentence"
   ],
   "outputs": [
    {
     "output_type": "execute_result",
     "data": {
      "text/plain": [
       "(684,\n",
       " ['',\n",
       "  '요',\n",
       "  '구요',\n",
       "  '고요',\n",
       "  '     공유소스 코드                                   주소복사     소스544   306740   416936   5261280   720복사      미지원으로        코드 퍼가기 기능은 더 이상 지원되지않습니다',\n",
       "  ' 5분 이상 소요될 수 있으며  영상의 길이에 따라 소요 시간은 달라집니다',\n",
       "  '360       도움말            멀티트랙의 트랙별 영상은 우측 관련영상에서 볼 수 있습니다',\n",
       "  ' 안녕하세요',\n",
       "  '  안녕하세요',\n",
       "  '  감사합니다',\n",
       "  '안녕하세요',\n",
       "  ' 감사합니다',\n",
       "  '   안녕하세요',\n",
       "  '네요',\n",
       "  '   감사합니다',\n",
       "  '고 하네요',\n",
       "  '  복지 질문 금지   일상 속 이야기들을 작성하는 게시판 입니다',\n",
       "  '고 합니다',\n",
       "  '당신의 한마디가 카페를 만들어갑니다',\n",
       "  ' 질문의 정보가 부정확할 경우  제한된 답변을 받을 수 있습니다',\n",
       "  ' 질문자 답변자 간의 기본매너를 지켜주세요',\n",
       "  '    안녕하세요',\n",
       "  '고 해요',\n",
       "  '고 한다',\n",
       "  '고 하더라',\n",
       "  '  추천은 저에게 힘이 됩니다',\n",
       "  '  문의는 댓글이나 문자 부탁합니다',\n",
       "  '  백진주는 작년 출시후 올해 2월에 전량 판매 마감을 했습니다',\n",
       "  '                                                         2            3                0   0                   0                    0                                                                               0 0 도움말라이센스                        4 17 48                  2020 2 12                 동영상 인코딩 중입니다',\n",
       "  '  올해는 거의 3배정도 재배 면적을 늘렸는데   작황이 예년에 비해 3 40 정도 떨어졌습니다',\n",
       "  '    수확후 바로 건조장으로 이동해서 건조를 하고요',\n",
       "  '  강화도에서 백진주를 작년 처음 재배했고   올해는 작년대비 약 두배정도 판매량이 늘어날거 같습니다',\n",
       "  '  작년 수확한 백진주는 전량 판매까지 약 5개월정도 걸렸는데   올해는 7 8개월정도 판매가 가능할거 같습니다',\n",
       "  '  2  나눔 규정 위반 게시글 작성시 중고나라 나눔 규정에 따라 제재될 수 있으며  규정 위반 게시글은 무통보 삭제 처리할 수 있습니다',\n",
       "  '감사합니다',\n",
       "  '  3  원활한 나눔 진행을 위해 나눔 물품  나눔방법  당첨자 선정 기준  당첨자 발표 날짜를 기재해주시기 바랍니다',\n",
       "  '  6  완료된 나눔글  당첨자 발표글은 1년 이내 삭제 및 수정이 불가합니다',\n",
       "  '    백진주로 밥을 해봤습니다',\n",
       "  '  5  나눔 물품 배송에 필요한 개인정보는 당첨자에 한해서만 주고받을 수 있으며  나눔글  나눔 댓글 내 연락처를 비롯한 개인정보 기재는 작성 불가합니다',\n",
       "  '  4  나눔 신청은 나눔글의 댓글로만 신청받을 수 있으며  당첨자 발표는 해당 나눔글에 대한 답글로 작성해주셔야 합니다',\n",
       "  '   밥을 하실땐   물을 다소 작게 잡으세요',\n",
       "  '  자세한 사항은 나눔 규정 참고 바랍니다',\n",
       "  '   고슬 고슬 알알이 살아 있는 찰진 밥을 드실수 있습니다',\n",
       "  '  농라마트에 오셔서 주문하시면 됩니다',\n",
       "  '     안녕하세요',\n",
       "  '  맛있기로 유명한 백진주쌀이라 건조후 밥을 해보았더니 역시 찰기고 윤기가 좔좔 흐르는 너무 맛있는 쌀입니다',\n",
       "  '죠',\n",
       "  '  올해는 긴장마와 태풍으로 벼 작황이 좋지 못합니다',\n",
       "  '  백진주쌀 농라마트에서 판매중입니다',\n",
       "  ' 저녁 8시 30분 전까지 찾아가심 됩니다',\n",
       "  '    감사합니다',\n",
       "  '                                                        2            3                0   0                   0                    0                                                                               0 0 도움말라이센스                        4 17 48                  2020 2 12                 동영상 인코딩 중입니다',\n",
       "  '  회원님의한마디와 좋아요는카페에큰힘이된답니다',\n",
       "  ' 도움말 플레이어     복사 레이어 닫기                                                       2            3                0   0                   0                    0                                                                               0 0 도움말라이센스                        4 17 48                  2020 2 12                 동영상 인코딩 중입니다',\n",
       "  ' 생강 고르는 것부터 하나씩 작업하고 숙성하는데 시간이 꽤 오래 걸려요',\n",
       "  '  주문 누락 방지를 위해 부탁드립니다',\n",
       "  '  오랜만에 돌아온 열혈농사꾼입니다',\n",
       "  '  찾으러 오실 경우  석동 국민은행 맞은편 버스정류장 앞  과일가게에 맡깁니다',\n",
       "  '    도와주세요',\n",
       "  ' 탑브레드 입니다',\n",
       "  ' 수다세상에 질문글 작성 시 무통보 삭제 될 수 있습니다',\n",
       "  '      안녕하세요',\n",
       "  '  기존 생강청과는 다른 방법으로 만드는 저온숙성생강청입니다',\n",
       "  '더라',\n",
       "  ' 특히 여성분들에게 좋은 게 자두랍니다',\n",
       "  '  아래 링크 눌러 주세요',\n",
       "  '  저온숙성생강청 생강청  레몬생강청  계피생강청    2차 숙성시킨 생강청 소량 병입했어',\n",
       "  ' 다 똑같다는말 절대모르시는말입니다',\n",
       "  '  존재하지 않는 이미지입니다',\n",
       "  '     쌀 보리 율무의 입양을 기다려요',\n",
       "  '   저온숙성 생강청  저온숙성 생강식초  트라이탄보틀 430  생강청은 우유에 넣어 마시면 부드러운 진저라떼로 즐길 수 있어요',\n",
       "  '가 쌀식빵도전했는데 성공했어',\n",
       "  '  10월 2일에 백진주쌀 수확하여 저온으로 말렸습니다',\n",
       "  '    낚시글 방지를 위해  제목은 단어가 아닌 구체적인 문장으로 적어주세요',\n",
       "  '  흉년으로 쌀수확량이 반이상줄었읍니다',\n",
       "  '  솔담액기스 피자두액기스  2019년 8월에 담아 1년 이상 발효 숙성된 솔담액기스입니다',\n",
       "  ' 이것이올바른쌀 삼광쌀 이라는것을  드셔보시고자하시는분 부모님효도선물 친인척선물 가까운지인분께 강력추천하는쌀    010 7185 0804    택배가능 택배비있음   상품권 계좌입금 카드가능  배달시    꼭 중문비번부탁드립니당      입금시입금자명부탁드리겠읍니다',\n",
       "  '                                                          2            3                0   0                   0                    0                                                                               0 0 도움말라이센스                        4 17 48                  2020 2 12                 동영상 인코딩 중입니다',\n",
       "  ' 도와주세요',\n",
       "  '  아침 대용  간식 등으로 추천드려요',\n",
       "  ' 게시글 완료후엔 본 내용은 삭제하셔도 됩니다',\n",
       "  '고 하시더라',\n",
       "  '도 건강한쌀 신선한쌀 보약같은쌀을 꼭찾아드시는것이 내몸과가족을챙기는 길입니다',\n",
       "  '    하나도 반에반도같은종자는있지만 같은맛을 낼수는없는쌀 반드시드셔보시면 느끼십니다',\n",
       "  ' 나눔 이벤트 후기 게시판 사용시에는 말머리에서  나눔 이벤트 후기  를 선택 또는  제목에서  나눔 이벤트 후기 를 명시하고 게시글을 작성하셔야 합니다',\n",
       "  ' 선거광고 안내       음소거00 00   00 00 화질 선택 옵션 화질  전체화면   광고정보 더보기초 후     초 후 재생    광고 후 계속됩니다',\n",
       "  '  기능성쌀 하이아미쌀은 일반 쌀보다 필수아미노산 함량이 31프로가 많아 성장기에 있는 어린이 및 학생들의 두뇌 활동과 호른몬분비 촉진으로 성장과 학업의 집중력에 뛰어나며 생리활성물질이 함유된 기능성 쌀로서 노약자들의 각종 질병을 예방할 수 있습니다',\n",
       "  '      구매 후기 작성시에는 상품 전체 와 부분 사진을 첨부해주세요',\n",
       "  '                                                       2            3                0   0                   0                    0                                                                               0 0 도움말라이센스                        4 17 48                  2020 2 12                 동영상 인코딩 중입니다',\n",
       "  '  해풍맞고 자라 더 맛난 백진주쌀   그리고 구수한 누룽지 향이 나는 누룽지 향찹쌀과 백미를 섞은 누룽지 향찹쌀 혼합미   10월말에 이렇게 수확을 했습니다',\n",
       "  '                     마우스를 드래그 하세요',\n",
       "  '  많은 주문부탁드립니다',\n",
       "  '고하네요',\n",
       "  ' 맛있어요',\n",
       "  '  식품의 유형 쌀 유통 기한 제조연월일 별도표기 인증정보 관련법상 표시사항   본 정보는 판매자가 등록한 것으로 등록 정보에 대한 일체의 책임은 판매자에게 있습니다',\n",
       "  '   주문서 양식 1 받는분 성함 2 받는분 전화번호 3 받는분 주소 4 상품번호 5 세금계산서 유무 입금계좌 351 0840 6458 23 농협 칠량영농조합법인  박스와 아래 링크 표시가 없는 판매 게시글은 무단 삭제 처리합니다',\n",
       "  ' 미리 감사드립니다',\n",
       "  '  올려주신 레시피가 있으면 모두 동그라미 표시해 주세요',\n",
       "  '  알려주세요',\n",
       "  ' 예  후기1회 작성시 친목 게시글1회 댓글1회 작성해주세요',\n",
       "  '   일상수다 게시판 입니다',\n",
       "  '  저희는 언제나 전날도정 다음날 발송으로 가장 맛있고 좋은 쌀을 보내드립니다',\n",
       "  '  제목에 특수기호금지  연속글 작성 금지입니다',\n",
       "  '  주문주시면 바로 도정해서 보내드립니다',\n",
       "  '  물이나 탄산수에 희석해서 드셔도 되고 매실액기스처럼 요리에 조금씩 사용하셔도 좋아요  트라이탄보틀 430  기타 수제먹거리는 따로 문의 주세요',\n",
       "  '  모내기부터 도정 포장 판매까지 모든작업을 직접하여 최소의 마진으로 최상의 상품을 판매하고있습니다',\n",
       "  '      미즈넷 미들리온 소중한 우리아기 첫 과자로 미들리온 쌀과자를 적극추천해요',\n",
       "  '  저희 부모님께서 재배한 2020년도 백진주쌀 판매합니다',\n",
       "  ' 알려주세요',\n",
       "  '  먹어도 될까요',\n",
       "  '  키크는 쌀이라고도 불리는 하이아미쌀 판매합니다',\n",
       "  ' 선거광고 안내       음소거00 00   00 07 화질 선택 옵션자동     자동       270        480        720           1080       화질  전체화면    00 01  00 03  00 05 광고정보 더보기초 후     초 후 재생    광고 후 계속됩니다',\n",
       "  ' 감사해요',\n",
       "  '  100  친환경 우리쌀로만 만든 올굿 쌀호두과자 입니다',\n",
       "  '  고맙습니다',\n",
       "  '     누룽지 향찹쌀 혼합미  구수한 누룽지향이 나는 누룽지향찹쌀에 백미를 7 3의 비율로 혼합했습니다',\n",
       "  '  미리 감사드려요',\n",
       "  ' 선거광고 안내       음소거00 00   00 05 화질 선택 옵션자동     자동       270        480        720           1080       화질  전체화면    00 00  00 01  00 02  00 03  00 04 광고정보 더보기초 후     초 후 재생    광고 후 계속됩니다',\n",
       "  ' 고 말했다',\n",
       "  '    모든 쿠폰 구함글은 허용하지 않습니다',\n",
       "  ' 무섭게            이분들은 왜 집집마다 쌀받아가요         뭐하는사람들이에요',\n",
       "  ' 천안  아산 외 지역 혹은 3 9시 내에 받기 어려우신 분들은 택배 주문 부탁드립니다',\n",
       "  '  이웃님들이 보고 유익할 수 있도록 정보를 자세히 사진 곁들여 보여주시면 더욱 좋습니다',\n",
       "  '  아이들도 믿고 먹을 수 있는 영양간식  건강한 먹거리  올굿 쌀호두과자입니다',\n",
       "  '        수업 문의 및 수강신청은 빵카페 링크를 클릭하시고 댓글을 남겨주세요',\n",
       "  ' 싶었거든요',\n",
       "  '고 하시네요',\n",
       "  ' 문앞 배달 후 인증사진 보낼께요',\n",
       "  '                 택배비 3천원 페이백 이벤트   택배 주문 시에는 무조건 택배비 3천원이 부과되죠',\n",
       "  '  해풍맞고 자라 더 맛난 백진주쌀   그리고 구수한 누룽지 향이 나는 누룽지 향찹쌀과 백미를 섞은 누룽지 향찹쌀 혼합미   지난주에 이렇게 수확을 했습니다',\n",
       "  '마자 반죽시작했어',\n",
       "  '   주말에만 1 2번 배달음식 먹고 평일에는 집밥 먹어요',\n",
       "  '   확인 후 다음단계로 넘어갈 수 있습니다',\n",
       "  '     우리아기들 이유식은 아이보리로 시작했어',\n",
       "  '     질문은 최소한 성의있게 4줄 이상 작성해주세요',\n",
       "  ' 5  30일 오후 10시까지 리뷰 중 3건을 뽑아 네이버 포인트 3천포인트 를 드립니다',\n",
       "  '  6개월된 남매둥이 키우구 있어요',\n",
       "  '  3  택배를 받으신 후  네이버 스마트 스토어에 리뷰를 달아주세요',\n",
       "  ' 위에 사진이 냄새나는 쌀이예요',\n",
       "  '  올해 추수하는 모습입니다',\n",
       "  '  앞으로 아이보리 많이 이용할거같아요',\n",
       "  '     검색 먼저 해보시고 질문 글 올려주세요',\n",
       "  '  갱신된 인증서 입니다',\n",
       "  ' 필요하신분 드려요',\n",
       "  ' 도움말 플레이어     복사 레이어 닫기저는 베이비무브 이용해서 이유식을 만드는데 물양을 나중에 조절을해서 쌀가루 섞을때 소량만 이용하는데 그래도 뭉침없이 잘섞이더라',\n",
       "  '  일상수다 게시판 입니다',\n",
       "  '필요하신분 드려요',\n",
       "  '    쌀에서 필수아미노산 8종  총 함량이 화성벼 대비 31  정도 높습니다',\n",
       "  '   17  수강 상담 방법 수강 상담 문의는 빵카페 베이킹 클래스 카페 댓글로 문의해 주세요',\n",
       "  '    블로그에서 그대로 퍼오기 하시면 삭제 조치 되며   글로그 글을 원정대에 올리실때는 재편집  복사  붙여넣기  하여 올려 주시면 됩니다',\n",
       "  '     감사합니다',\n",
       "  '고 근데 저희 진짜 쌀떨어졌거든요',\n",
       "  '   럭셔리찹쌀파이  찹쌀과 동물성생크림 파스퇴르생크림  각종 견과류가 듬뿍 들어간 건강한 파이입니다',\n",
       "  '   익일 생산  익일 배송   주문 받은 호두과자는 밤 12시를 기준으로 취합하여 익일 생산하여 배송해드립니다',\n",
       "  '  냄새나는 쌀에 베이킹소다 한숟가락넣고 섞어 두었다',\n",
       "  '  쌀이 똑 떨어졌어요',\n",
       "  '                           주문 후 댓글로 택배   주문자 성함 초성   주문내용 적어주세요',\n",
       "  '    택배 주문 시에는 택배비 3 000원이 부과됩니다',\n",
       "  '    알려주세요',\n",
       "  '   쌀가루 이용해서 소고기단호박미음 만들었어',\n",
       "  '는 점입니다',\n",
       "  '         쌀이 떨어졌어요',\n",
       "  '  정말 부자가 된 것 같답니다',\n",
       "  '  처음 먹는 쌀과자두 너무 잘먹더라',\n",
       "  '고 하십니다',\n",
       "  '   온라인으로 구매 가능한 쌀이면 더더욱 좋구요',\n",
       "  ' 선거광고 안내       음소거00 00   00 08 화질 선택 옵션자동     자동       270        480        720       화질  전체화면    00 01  00 03  00 05  00 07 광고정보 더보기초 후     초 후 재생    광고 후 계속됩니다',\n",
       "  '     요즘 3인가구 쌀 쌓아놓고 먹진 않잖아요   그런집도있겠지만 저흰 딱 먹을치만 사요   그래서 쌀떨어져서 사야한다',\n",
       "  '   구매 후기 작성시에는 상품 전체 와 부분 사진을 첨부해주세요',\n",
       "  '만드는것도 첨이라 힘들고 먹이능건 뭐    대 환장파티  다른 육아 선배님들두 다 그렇게 시작하신거 맞죠',\n",
       "  ' 소다를 안 넣었을때는 열번을 씻어도 까만물이 나왔는데 베이킹소다 넣고 씻으니 두번만에 뽀얀 뜬물이 나오더군요  넘 신기함   지은 밥이예요',\n",
       "  '  평일 신랑은 집밥 먹는날이 몇번 안돼요  대신 먹을땐 양 많이   전 밥보단 빵 면종류 좋아해서 밥은 많이 먹지도 않았는데  한달에 쌀20키로 먹는 울집   아 괜히 몸뚱아리가 불고있는게 아니었어',\n",
       "  ' 냄새도 거의 없어요',\n",
       "  '  아마 다들 아실거예요',\n",
       "  '  다른 분들께도 추천드릴게요',\n",
       "  '가 씻어서 밥을 해 봤습니다',\n",
       "  '         16  현금영수증은 의무적으로 발급 가능해야 합니다',\n",
       "  '   1  택배 주문 해 주실 때 배달메모란에 줌마켓 아이디와 닉네임 을 적어주세요',\n",
       "  '니까 그래도 쌀달라며 신랑이 걍 닫으라해서 닫구 인터폰으로보니 계속 서있더라',\n",
       "  '      90둥이맘   재생 수12                       마우스를 드래그 하세요',\n",
       "  '   아침부터 사부작 움직여서 만든 당근빵입니다',\n",
       "  '  추천부탁드려요',\n",
       "  ' 아기들이 5개월때부터 이유식을 시작했는데이유식이 이렇게 힘든건지 몰랐어요',\n",
       "  '  아래건 햅쌀 색 차이가 많이 나네요',\n",
       "  ' 주문 받은 호두과자를 익일 오전에 구워  월 토 오후 3시에서 9시 사이로 배달 해드립니다',\n",
       "  '  수량에 따라 가중 부과 될 수 있습니다',\n",
       "  '   한달전에 20키로 샀네요',\n",
       "  ' 추천부탁드려요',\n",
       "  '  중딩 초딩 두아들 있고  꼭 하루 세끼 먹는 집이라 전 두끼만 먹고싶어요',\n",
       "  ' 이 후기는 이유식데이 체험단을 통해 제품을 제공받아 쓰는 솔직후기입니다',\n",
       "  '   인증정보  무       원산지   인천시 강화군     상호   캠핑툴   대표자  이원석    주소   강원도 인제군 상남면 내린천로 1622   택배사  롯데택배  연락처   010 2013 6096   사업자 번호   137 17 22871   통신판매업번호   2008 인천서구 0275 호   사업자 계좌   신한 100 027 952170 이원석 캠핑툴                                         몇년동안 꾸준히 판매해온 강화섬쌀 누룽지향찹쌀 혼합미와   작년 처음 판매를 개시한 백진주쌀입니다',\n",
       "  '  신안정에서 가꾸고 나누는 하이아미는   쌀 외관이 투명하고 아밀로스 및 단백질 함량은 다른 품종들보다 약간 낮아서 밥맛이 매우 좋습니다',\n",
       "  '  올해는 잦은 비와 태풍으로 벼 수확량 20 30 정도 감소했습니다',\n",
       "  '  미리 감사합니다',\n",
       "  ' 알려주시면 바로 사러 갈게요',\n",
       "  '  죄송해요',\n",
       "  '    필수 아미노산은 지방간 예방  항암  혈압 강하 기능을 가진 메치오닌과 어린이 성장발육 촉진 기능을 하는 라이신 함량이 다른 품종에 비해 월등히 높습니다',\n",
       "  '도와주세요',\n",
       "  ' 쌀이문제일까요',\n",
       "  ' 쌀이 거의 떨어져서 온라인으로 사기 애매한데혹시 쌀 세일하는 마트 아시는 분 계실까요',\n",
       "  '  조언부탁드려요',\n",
       "  '   질문이 아닌글을 남기시면 게시글 이동요청후 글이 삭제됩니다',\n",
       "  '합니다',\n",
       "  '   줌마렐라 회원분들께 어떻게 돌려드릴까 고민하다 여는 이벤트   택배 주문 하신 줌마렐라 회원분들에게만 적용되는 이벤트입니다',\n",
       "  '  추천해주세요',\n",
       "  ' 유정상생님이 주신 정보로 베이킹소다 넣고 씻은 후 사진입니다',\n",
       "  '  필요하신분 드려요',\n",
       "  '            12개입 1상자  28개입 1봉  카카오톡 1 1 문의                                     올굿 카카오톡 채팅을 해보세요',\n",
       "  ' 1통 250 씩 담았어요',\n",
       "  '  20키로예요',\n",
       "  '아가들에게 좋은거만 먹이고싶은게 엄마 마음이자나요둘이라 모유수유도 제대로 못해줘서 이유식 만큼은잘해주고싶더라',\n",
       "  '  저희 취재진이 다섯 달 동안 현장을 추적했는데요',\n",
       "  '            12개입 1상자  28개입 1봉  택배 주문  계좌이체  카드  네이버페이 결제가능 올 굿   네이버쇼핑 스마트스토어 최초의 100 쌀로만든 호두과자 올굿 쌀호두과자입니다',\n",
       "  ' 2  현재 글의 댓글로 택배   주문자 성함 초성   주문내용 주문확인 댓글을 써주세요',\n",
       "  '토요일 애겨우 재우고 신랑이랑 신나하는데 계속 똑똑똑똑똑똑          두들기길래 애 깰까봐 잠없는애     문열었더니 절서 나왔다고 쌀좀 시주받는다',\n",
       "  '                                                            2            3                0   0                   0                    0                                                                               0 0 도움말라이센스                        4 17 48                  2020 2 12                 동영상 인코딩 중입니다',\n",
       "  '  울집 4식구 모두 확찐자  다욧 들어가야겠네요',\n",
       "  '   초  중  고등학교 급식 납품  전국의 초  중  고등학교 급식으로 납품하고 있습니다',\n",
       "  '  참고하세요',\n",
       "  '  3개입                                        5175824934 12개입                                        5176004253 28개입                                        5176008494 30개입                                               5181985250 3개입만 주문 시 10봉 이상  12개입만 주문 시 2상자 이상  28개입만 주문 시 2봉 이상 무배     주문 후 댓글로 주문자 성함 초성   주문내용 적어주세요',\n",
       "  '  2020년 새로 갱신한 유기농인증서 입니다',\n",
       "  '     초기이유식 아이보리쌀가루로 시작했어',\n",
       "  '  드셔보셨던것중에 괜찮았던쌀 있을까요',\n",
       "  '면 알려주세요',\n",
       "  '  아이보리는 다른 첨가물을 전혀 넣지 않고 생산부터 배송까지위생적인 공정을 거친다고 하니 더 안심하고 먹일수있을거같아요',\n",
       "  '  배달 주문시  1만원 이상부터  배달비 2 000원 별도 있어요',\n",
       "  ' 워낙 유명한 제품이라 100  국산 쌀을 이용해서 안전하게 만든 쌀가루라고 해서처음 이유식을 시작하는 우리 둥이들에게 딱이다',\n",
       "  '    감사해요',\n",
       "  ' 빵이 촉촉 쫀쫀 해요',\n",
       "  '  마트마다 쌀 세일할 때 샀어야 하는데 놓쳤어요',\n",
       "  ' 배뚱띠 임산부라 쌀을 들고올수가 없어요',\n",
       "  '   현재 햅쌀 찹쌀 찹쌀현미가능  2020년갓수확바로정미햅쌀  20키로64000  10키로32000  찹쌀20키로69000  10키로34500 한번드셔보시면 쭈    욱단골되는삼광쌀 전국어디서든 한두번 농사짓는분이라면 확고히자리매김한 그런좋은쌀     이왕같은값이면 아니 몇천원더주더라',\n",
       "  '   배달메모에 줌마렐라 회원 아이디와 닉네임 적어주세요',\n",
       "  '용 팬에 비해 팬닝양이 많은 편이라 브레이크가   그래도 맛은 끝내줍니당    아 근데 매번 반죽할때보면 너무 되서 우유양이 좀 부족한듯해 추가하는데 저만 그런걸까요',\n",
       "  ' 남은 쌀도 버리지 않고 먹을 수 있게 되었네요',\n",
       "  '고하더라',\n",
       "  '    하이아미쌀은 찰기와 윤기가 있어 맛있는 쌀입니다',\n",
       "  '           스타벅스 아이스 아메리카노 기프티콘  5명    올굿 쌀호두과자 28개입 1봉  2명  후기 이벤트 많은 참여 부탁드립니다',\n",
       "  ' 4  현재 글에 달아주셨던 주문 확인 댓글의 대댓글로 리뷰 작성 완료 라고 써주세요',\n",
       "  '쌀미음만 중단하면 될까요',\n",
       "  '술만들기 좋은 계절이 돌아왔네요',\n",
       "  ' 이유식 159일    이번주 월욜부터 시작했어',\n",
       "  '  술이 익으면 위로맑은술이 고이기 시작합니다',\n",
       "  '   윤기 촤르르에 밥알이 굵어서 진짜 맛난거 같아요',\n",
       "  '  본 내용은 삭제후 글을 올려 주시기 바랍니다',\n",
       "  '  수향미 신동진은 백자주보다  많이 못하다고 하셔서요',\n",
       "  ' 밥이 노랗게되면 버려야하고   많은잘못이있었네요',\n",
       "  '  카페 원칙에 위배되는 글을 올리실경우 삭제될수 있으며 강퇴 되실수도 있습니다',\n",
       "  ' 아주 맛있다',\n",
       "  ' 20   주문하시면 10   쌀 두개를 한상자에 넣어 보내드려요',\n",
       "  '   도움에 미리 감사드립니다',\n",
       "  '  신안정에서는 2017년 지구 환경을 지키기 위해 탄소 배출을 줄이는 저탄소 농업기술을 통해 저탄소 농축산물 인증을 받았습니다',\n",
       "  ' 공임비 1만원으로 나눠먹는 기쁨은 배가 되는 만원의행복    전 유기농 제품을 소량봉투로 사먹고 있었는데요',\n",
       "  '   그후에 반죽에 뜨거운물 160  를 넣고 잘 반죽해주시면 되세요',\n",
       "  ' 베베  쌀미음 어제까지 먹였구요',\n",
       "  '   제가 요리센스가 부족한지 전부칠때 부침가루에 조금씩 섞기만 하는데  요리센스 좋은 천사맘이 다른 노하우좀 알려주셨음 좋겠어요',\n",
       "  ' 연락주세요',\n",
       "  '법 지켜야해서 옆동네 풍기인삼 찌꺼기를 퇴비로 삼촌이 정성들여 키우신거구요',\n",
       "  '  2만원이상 배달무료2만원미만 배달료 2천원전날 예약주문건에 한하여 배송당일 오전에 제작하여오후 2시이후부터 순차적으로 비대면 문고리배송합니다',\n",
       "  ' 먹어도 될까요',\n",
       "  '  배달시 비대면으로 문앞에 둘게요',\n",
       "  '     오늘 새로운 사실을 알았네요',\n",
       "  '  온 베이킹입니다',\n",
       "  ' 맛있게 드세요',\n",
       "  '  식물에서 추출한 친환경 약재 만을 공동 방제하며 유기합성농약과 화학비료를 전혀 사용하지 않습니다',\n",
       "  '   충남 논산에서 농사 짓고 있는 청년농부 입니다',\n",
       "  '    평생한쌀  의 쌀은 모든 제품은  국내산    상  등급 이상입니다',\n",
       "  '르더라',\n",
       "  '      깨소금 소 만들기   깨소금 간것 5스푼  브라운 설탕 4 5스푼 물 2스푼 속을 가득 넣고 만들어주시면 끝   참고 하시라고 영상 첨부 할께요',\n",
       "  '  보풀은 쪼금있습니다',\n",
       "  '  껍질벗긴 찰옥수수쌀은 밥해드실때 알에비해 조금 덜불리시고 밥하면 되기때문에 간편합니다',\n",
       "  '  동의하신분들만 응모해주세요',\n",
       "  '고 말하지 않으면 모를만큼 부드럽고 폭신해요',\n",
       "  '    제가 애정하는 블루베리케이크 직접만든 블루베리마멀레이드의 쫀득한 식감과 테라 생크림의 조화는 최고입니다',\n",
       "  ' 28개입만 주문하실 경우 2봉 이상 주문시 무배 3개입은 무조건 10봉 이상  배송 안내  1만원 이상 주문 시 28개입 예외  천안  아산 지역 무료 배송 해드립니다',\n",
       "  '다음은 개미햝기개미를 엄청나게 먹어대지만 여왕개미가 감당할 수 있을정도만 먹고 빠진다고    그러면서 한번에 마흔집 정도를 턴대요',\n",
       "  '   아마 분명히 들어갔을거에요',\n",
       "  '  무조건 먹는 사진  사진을 올리고  글도 같이 작성해 주세요',\n",
       "  ' 존재하지 않는 이미지입니다',\n",
       "  '  문자나 카톡으로 주문 남겨주세요',\n",
       "  ' 깨끗합니다',\n",
       "  '  핫딜 할인정보만 작성시 글삭제 및 활동정지 됩니다',\n",
       "  '   미리 준비해 두는 이유는 좀더 술을 안정적으로 만들기 위해서입니다',\n",
       "  ' 곰팡이 일까요',\n",
       "  '  하  지금 너무흥분상태라  다소격해보일순있겠는데 쌀 샀는데 쌀 씻은 물이 까매서 이상하다 이상하다 씻고 또씻어도 까맣고 알이 초록색으로 보여서 오분도미라그런가 친환경쌀이라 그런가 정말 미련스럽게도 곰팡이쌀인것도 모르고 여태 20개월아기한테 그거먹인게 너무 열받고 내가 왜진작 적극적으로 인터넷으로정보좀찾아볼껄 핑계라면 독박육아라 하루하루 빡센탓에  계속쌀이맛이없다 농라에서 참 여러군데 사먹었지만 제일맛도없고 쌀알이 굴러다녀서 찹쌀섞고 미련맞게 이랬네여 아기한테 그렇게먹인게너무속상해여 좋은것만 먹이고싶어서 계속 좋은재료로 만들어먹였는데 참  그냥농라라도 기존에 이용했던   사람들이 많이 이용하는 그런데서 사먹어야겠어요',\n",
       "  '  종로구 이화동입니다',\n",
       "  '  선물 포장과 실속포장 그리고 현우네 농원 생산물을 다양하게 준비하였습니다',\n",
       "  '  나눔글 작성시 유의사항 1  나눔글 작성 전 각 나눔게시판 상단에 위치한 중고나라 나눔 규정을 필독하여 주시길 바랍니다',\n",
       "  ' 며칠전 쌀 뜯은거같은데 집에 쌀도둑이 들었는지 지금보니 쌀이 거의 읍네요',\n",
       "  '묵은쌀 드려요',\n",
       "  '   애가 3명이인데  첫째것만 오늘 도착이요',\n",
       "  '    다양한 품종의 질 좋은 쌀을 한 번에 만나 보실 수 있으십니다',\n",
       "  '   받으러오실곳   화명도시그린207동집에 4개월아기가 있어경비실앞까지만 나갈수잇어요',\n",
       "  ' 올굿 쌀호두과자는  밀가루  글루텐   100  친환경 우리쌀 국내 최초로 밀가루가 전혀 들어가지 않은 100  국내산 친환경 쌀로만 호두과자를 만들었습니다',\n",
       "  ' 직접키운 쌀을 최신식 도정기계로 가장 맛있는 쌀을 만들어 판매합니다',\n",
       "  ' 헤이즐넛초코 아몬드시나몬 블랙스모어 말차마카다미아요렇게 4가지예요',\n",
       "  ' 10키로 42000원 택배비포함  20키로 75000원 택배비포함  인천 강화군 재배 자루 포장후 박스에 담아 택배로 보내드립니다',\n",
       "  ' 기린쌤입니다',\n",
       "  '  경남 사천에서 직접 재배한 2020년 10월에 수확한 하이아미쌀 판매합니다',\n",
       "  '   시판으로 시작하려고하다보니이유식에 대해 무지해서    쌀미음에도 알레르기가 있는 줄 몰랐어요',\n",
       "  '  택포오만원에드려요',\n",
       "  '        일기형식의 5자이내 제목글 및 30자 이내 글내용은 삭제됩니다',\n",
       "  '는거 첨 알았어요',\n",
       "  '      재료는 쌀7키로  물7리터  쌀누룩1키로  효모 조금  쌀누룩은 인터넷으로 화왕산성쌀누룩을 구입  효모는 2년전에 100그램짜리 구입해서 냉장보관하면서 사용   밑술   쌀 2 5   물 7   쌀누룩 1   효모 조금   덧술   쌀4 5       밑술 만들고 2일하고 몇시간 지나서 덧술을 했습니다',\n",
       "  '  식품의 유형 쌀 등급 보통  유통기한 제조연월일 2020년산 인증정보 유기농인증 15101484   저탄소인증 2017 018  관련법상 표시사항   본 정보는 판매자가 등록한 것으로 등록 정보에 대한 일체의 책임은 판매자에게 있습니다',\n",
       "  '  너무 맛있어요',\n",
       "  '꼭 미리 예약주문해주셔야합니다',\n",
       "  '  철원현우네 입니다',\n",
       "  '  쌀을 안 먹은지 거의 2년이 되니 살이 쭉쭉 빠져 기운이 없어보여 안쓰러울 따름입니다',\n",
       "  '   저렴한 쌀 에는 이유가 있다',\n",
       "  '    쌀이 훅훅 떨어지네요',\n",
       "  '  해풍맞고 자라 더 맛난 백진주쌀   그리고 구수한 누룽지 향이 나는 누룽지 향찹쌀과 백미를 섞은 누룽지 향찹쌀 혼합미   지난달에 이렇게 수확을 했습니다',\n",
       "  '   올해 설날에 보고 여태 못갔어요',\n",
       "  '                 5        건설 폐기물 파묻은 땅에서 벼농사  브랜드 쌀 로 판매  앵커  경기도 일부 지역에서  건설 폐기물 이 섞인 논에서 자란 벼를 브랜드 쌀로 포장해 팔고 있습니다',\n",
       "  ' 식품의 유형 쌀유통 기한 제조연월일 별도표기인증정보 관련법상 표시사항   본 정보는 판매자가 등록한 것으로 등록 정보에 대한 일체의 책임은 판매자에게 있습니다',\n",
       "  '   적당히 살려는 주는  기생파리까지     넘 작아서 벼룩파리라고도 하는데요',\n",
       "  '   윤기 차르르 찰진     추천해주세요',\n",
       "  '   2  일지에는 사진을 5장 이상 첨부해 주세요',\n",
       "  ' 맛있다',\n",
       "  '   가급적이면 간단히 만드는 방법 귀뜸도 해주심 감사해용참고로 쌀가루만으로 전부쳤다 퍽퍽해서 못먹은 1인이예요',\n",
       "  '고 들었는데 이렇게 먹어볼 기회가 생겼네요',\n",
       "  '근데무슨정신인지 모닝빵은 중간휴지만하고 그냥 구워버린거있죠',\n",
       "  '  서울 용산구 이촌동이고요',\n",
       "  '     박력쌀가루는 왜 포슬포슬하게 잘 안될까요',\n",
       "  '   고두밥은 광목천에 싸서 40분 넘게 쪄줬습니다',\n",
       "  '맛있다',\n",
       "  '      개인적인 사유로 후기 연장을 원하시는 경우 왼쪽 게시판  건의사항   클릭후 쪽지를 보내주세요',\n",
       "  '  그걸 거름망에 거르면 밥알이 꽤 남더라',\n",
       "  '   그러다 결국 머리가 분리됩니다',\n",
       "  '  농약 없이 우렁이를 논에 뿌려 키웠습니다',\n",
       "  '   주말에 아이들과 재미있게 만들어 보세요',\n",
       "  ' 2019년도 쌀이라 안좋다고 생각하실수 있지만아직 도정전입니다',\n",
       "  '  향미는 밥에서 누룽지향이 하는 고소한 쌀입니다',\n",
       "  ' 나주에서직접택배로보내드려요',\n",
       "  ' 필요하신분 가져가세요',\n",
       "  '잘 먹겠습니다',\n",
       "  '   매번 울 셤니가 팔아오시는데  싼거만 골라오시는건지 밥이 푸석푸석하고 맛이 없어요',\n",
       "  '니까요',\n",
       "  ' 도정날짜19년11월입니다',\n",
       "  '  근데 왜이리맛있는건지    이상하게 아이러니한현실 하하 알게된건 이미 구워지고있는녀석들을본후라수습불가이고 다행히 단팥과소보로는 2차까지마치고 구웠십니다',\n",
       "  '  주문서 양식1 받는분 성함2 받는분 전화번호3 받는분 주소4 상품번호5 세금계산서 유무입금계좌 351 0840 6458 23 농협 칠량영농조합법인 박스와 아래 링크 표시가 없는 판매 게시글은 무단 삭제 처리합니다',\n",
       "  ' 인천시에서 교육재난지원금이라고 하며  한아이당 쌀 10  주었쟌아요    저희는 아이들이 4명이라 40  를 받았는데 2   찹쌀 3   교동미 5   강화쌀이었던것 같아요',\n",
       "  '   그냥 먹어도 될까요',\n",
       "  '야 했는데 덤핑 증후군으로 지금 계속 고생 중입니다',\n",
       "  '  2020년 햅쌀 누룽지향이 나는 향미입니다',\n",
       "  ' 밀가루보단 포슬거리는 쌀가루 특유의 식감이 있는건 어쩔수 없는거 같아요',\n",
       "  '   글로 설명하기가 어렵네요',\n",
       "  '  40  내외로 소분했어',\n",
       "  '  그래서 쌀을 꺼내서 자세히 보니 쌀눈이 회색빛을 띠는게 있네요',\n",
       "  '   주변에 쌀벌레가 있었는데 무서워서 안 열어보고 버리려고 합니다',\n",
       "  ' 본 게시판은 나눔 이벤트 후기 게시판입니다',\n",
       "  '  조언 부탁드려요',\n",
       "  ' 저는 2 3회 씻는데 이것부터 잘못이래요 그리고 보온은 12시간이상 하지않는걸 추천한다',\n",
       "  '   고두밥과 물  누룩  효모를 넣은 모습입니다',\n",
       "  ' 밀가루 드시면 안되는 시어머님과 남편 간식으론요런게 딱이예요',\n",
       "  '    껍질벗긴 옥수수알은 옥수수범벅      해드시고 밥해드시면 정말 맛있구요',\n",
       "  '   반죽기가 없어서 두개를 한꺼번에 하려니 손목 나가겠어요',\n",
       "  ' 궁금해요',\n",
       "  ' 인터넷 레시피대로했는데 반죽이 되직하게 된것같아서요',\n",
       "  ' 선거광고 안내       음소거00 00   00 11 화질 선택 옵션자동     자동       270        480        720       화질  전체화면    00 01  00 03  00 06  00 08  00 10 광고정보 더보기초 후     초 후 재생    광고 후 계속됩니다',\n",
       "  '  개미에게 배우는 생존   개미의 천적명주잠자리 애벌레사람이 편의점 가는길에 구덩이에 빠졌는데 빠져나오지 못하고 극한의 고통을 느끼다 죽는걸로 표현을 하네요',\n",
       "  ' 사진 삭제사진 설명을 입력하세요',\n",
       "  ' 가지러오셔야되요',\n",
       "  '  저희가 낼 아침 여행을 가는데 오셔서 가져가실 수 있으면 집 앞에 두겠습니다',\n",
       "  '    의맘모에서는 비방글 보다는 발전적인 글 게시를 원합니다',\n",
       "  '  일부 옥수수를 잘말려 껍질깐 찰옥수수알 쌀을 가지고 왔습니다',\n",
       "  '  정말  좋은 쌀  만 고르고 골라 보내드린다고 약속 드리겠습니다',\n",
       "  '   추천해주셀 맛있는 쌀이 있을까요',\n",
       "  '   쌀불리기는 보통 3시간 이상 합니다',\n",
       "  '                                              일산아지매는 배려입니다',\n",
       "  '  찾으러 오시는 건 과일가게에 맡깁니다',\n",
       "  '고해요',\n",
       "  '사진은 오늘 찍은건데 도 퍼지진 않고 어제랑 똑같은 것 같아요',\n",
       "  '  씻으면 검은물이 나오고 10번 씻어야 먹을수 있는 밥을 해도 오래된 쌀냄새에 후   우리 아이가 강제다이어트 밥이라고 하더라',\n",
       "  '면 현미쌀4로도 가능할까요',\n",
       "  ' 혹시 필요하신분 연락주세요',\n",
       "  '   사과랑밭이랑 농장입니다',\n",
       "  ' 너무 감사드립니다',\n",
       "  '   이 상태로 그대로 두면 빠르면 이주에서 한달 정도면 발효가 완전히 끝이 납니다',\n",
       "  '   쌀식빵 만들었어',\n",
       "  '  신동진쌀은 쌀알이 굵고 밥을 했을때 윤기있고 찰집니다',\n",
       "  '질문성 글은 질문게시판으로  모든 게시글은 5줄 이상이 원칙입니다',\n",
       "  '  맛있습니다',\n",
       "  '   덧술시도 마찬가지구요',\n",
       "  '    잡곡이나 콩만 드시다가 좀 질리신다면 옥수수알 쌀넣은 밥해드세요',\n",
       "  '  아니면 습식 쌀가루 키로로 파는 방앗간은   호매실에 없을까요',\n",
       "  '가 필요할때 막걸리를 만들거나 아니면 원액 그대로도 맛이 아주 좋고 맑은술만 먹어도 됩니다',\n",
       "  ' 블루베리케이크 테라의 블루베리케이크는 꼭 드셔 보시라고 말씀 드리고 싶네요',\n",
       "  '성의있는 글이 퀄리티있는 카페로 만들어갑니다',\n",
       "  '  0      황금물결 까진 아니지만  가을에 노랗게 익어가는 쌀을 기다려봅니다',\n",
       "  ' 잘 먹겠습니다',\n",
       "  ' 정보 부탁드려요',\n",
       "  ' 아시죠',\n",
       "  '고 하던데요',\n",
       "  '    후기 이벤트   28일 오후 10시까지 줌마켓 후기 게시판에 써 주신 후기 글들 중  추첨을 통해 아래의 물품을 드립니다',\n",
       "  '  주문번호 010 2101 7499위번호로 주문서 부탁드립니다',\n",
       "  ' 다들 조심하세요',\n",
       "  '  20     85 000원 택비포함  10     42 500원 택비포함  맛없으시면 100 반품교환환불가능    한번 판매하고 신경안쓰는 그런 뜨내기 장사꾼이 아닌 한번 맛보시면 다시 찾는 열혈농사꾼이 되겠습니다',\n",
       "  '는 생각은 안해봤어요',\n",
       "  ' 아품님들    혹시 드셔보신 쌀 중에 정말 맛난 쌀이 있으신가용   여주쌀이 가장 맛나다고 생각했는데    종류가 엄  청 많네요',\n",
       "  '고 하셔서요',\n",
       "  '                   2  1 2  2020년 백진주쌀 판매합니다',\n",
       "  ' 미리 감사합니다',\n",
       "  '    올여름 정선 찰옥수수를 판매했었는데요',\n",
       "  '    잠깐 한눈 판사이에 완전 오버 믹싱되서  분리되기 직전이라망했구나 하며 버리긴 아까워 오븐에 구웠는데    기공이 좀 아쉽긴 하지만 높이 7    초코 쌀은 첨이라 처음 치고는 성공했어',\n",
       "  '  한수위쌀 맛있다',\n",
       "  '위의 안내는 삭제 하시고 글 작성하시면 되세요',\n",
       "  '  1  글제목은 5자이상 30자이내로 작성해주세요',\n",
       "  '   원인을 모르겠어요',\n",
       "  ' 오븐에 들어감 가운데가 점점 사라지네요',\n",
       "  '     쌀 담다가 여기까지   애들하고 같이 봤는데 무섭고 짠하고     너무 많은것을 아는것도 감당하기 힘드네요',\n",
       "  ' 병원가야할 정도 인가요  지금 베베  초기2까지 주문 넣어놧는데   그래도 조금씩 먹여봐도 될까요',\n",
       "  '  아버지 수술 받은지는 2년 넘었고요',\n",
       "  '  필요하신 분 빠르게 연락주세요',\n",
       "  '    보통은 물을 8리터까지 쓰는데 이번에는 좀더 달달한 막걸리를 만들기 위해서 물 량을 줄였네요',\n",
       "  '    완성된 술은 걸러서 원액과 물을 6 4로 섞어서 냉장고에 보관하면 시간이 지날수록 숙성되면서 맛이 부드럽게 변하게 됩니다',\n",
       "  ' 쌀 자체가 한국쌀이랑 달라서 맛없는것도 있겠지만 밥짓는방법이 틀린걸  도 모르겠단 생각이 들어서    찰기없는 외국쌀 냄비로 밥 지을때 물 양 어느정도 넣으세요',\n",
       "  '       괜히  벌레 생길꺼같고    한숨    질문  쌀 냉장고에 보관해도 되죠',\n",
       "  '사진에 쌀끝에 짙은 색으로 붙어있는것들이 쌀눈입니다',\n",
       "  '   고시히카리벼는 현재 다 소진되었습니다',\n",
       "  '  실제로 보내신분들의 경험을 덧글로 추천해주시기 바랍니다',\n",
       "  '    매장주소   충청남도 천안시 동남구 수신면 속창1길 1 6  천안 아산 직접 배달 주문 계좌이체  카드  네이버페이 결제가능 아래 링크를 통해서만 주문 가능합니다',\n",
       "  '  기타 수제먹거리는 따로 문의 주세요',\n",
       "  ' 쌀이 똑 떨어졌어요',\n",
       "  '만 그냥 고두밥을 식혀서 물과 함께 넣어도 됩니다',\n",
       "  '감계는 배달 안되겠죠',\n",
       "  '     일상수다 게시판 입니다',\n",
       "  '    향기로운뇨자   재생 수0                       마우스를 드래그 하세요',\n",
       "  '  찰진 쌀 추천바랍니다',\n",
       "  '  건조기볼도 나눔합니다',\n",
       "  '  있다',\n",
       "  '   미리 감사드립니다',\n",
       "  '   아니면 원액을 냉장고에 보관했다',\n",
       "  '  댓글달아주세요',\n",
       "  ' 하네요',\n",
       "  '  저희는 직접 농사부터 최신식 도정시설에서 직접 도정한 쌀만 판매합니다',\n",
       "  '  월요일부터 이유식을 시작하려 하는데   쌀가루가 알러지가 있을 수 있다',\n",
       "  '  진밥으로 밥을 지어도 쌀만 들어가면 위에서 안 받는다',\n",
       "  '     카스테라를 만드려고 박력쌀가루를 넣어 만드는데 잘 안되요',\n",
       "  '  추수기간 후에 다시 가져오도록 하겠습니다',\n",
       "  '   혹시 저희 아버지와 같은 경우가 있을까요',\n",
       "  '  신안정의 벼 논에는 메뚜기를 비롯한 미꾸라지  투구 새우  반딧불이  청개구리 등 다양한 생물들이 살고 있습니다',\n",
       "  '  처리 어려우신 쌀 연락주심 감사히 찾아뵐게요',\n",
       "  '    쌀 불리고 말리고 갈고 체에 치고 두번 치고 담고 냉동실에 넣고 하          그래도 5번 만들양 나와서 다행이에요',\n",
       "  ' 한개는 초코도 듬뿍 넣어봤어요',\n",
       "  '                                            식품의 유형   쌀     유통기한 제조연월일 생산일   2020년도산 백진주쌀 누룽지향찹쌀 혼합미 2020년 10월23일도정   인증정보  무       원산지   인천시 강화군     상호   캠핑툴   대표자  이원석    주소   강원도 인제군 상남면 내린천로 1622   택배사  롯데택배  연락처   010 2013 6096   사업자 번호   137 17 22871   통신판매업번호   2008 인천서구 0275 호   사업자 계좌   신한 100 027 952170 이원석 캠핑툴                                         몇년동안 꾸준히 판매해온 강화섬쌀 누룽지향찹쌀 혼합미와   작년 처음 판매를 개시한 백진주쌀입니다',\n",
       "  ' 선거광고 안내       음소거00 00   00 11 화질 선택 옵션자동     자동       270        480        720           1080       화질  전체화면    00 01  00 03  00 05  00 08  00 10 광고정보 더보기초 후     초 후 재생    광고 후 계속됩니다',\n",
       "  ' 이번에 판매할 품종은 고시히까리입니다',\n",
       "  '  지난번에 한바퀴도는데   없   는것   같아서여  친구가 빈손으로 오라는데신혼부부라 쌀 10  랑 디저트 사가려고하는데어떤가요  그리고 어디쌀이 좋은가용      저는 베이킹할때 유튜브보고 레시피데로 하거든요',\n",
       "  '는 말이 많아서 쌀로 시작을 해야되는지 고민이네요',\n",
       "  '  상했을까요',\n",
       "  '혹시 아시는분 계시면 알려주심 넘 감사합니다',\n",
       "  '   쌀가루로도 쉬폰같은 부드럽고 폭신폭신한 식감을 낼 수 있어요',\n",
       "  '  쪽 지 로 학원이나 과외선생님을 소개받는경우 검증되지않고 단순 홍보인 경우도 많이 있습니다',\n",
       "  ' 찹쌀이랑 섞여있어서 더 맛나더라',\n",
       "  '  경남 사천에서 직접 재배한 2020년 10월중순에 수확한 하이아미쌀 판매합니다',\n",
       "  '  수술 후 관리를 잘했어',\n",
       "  '   닉네임  주소   전화번호 현영유무  현금영수증 번호 안주시면 주문 주신 문자로 처리 해드립니다',\n",
       "  '      일상수다 게시판 입니다',\n",
       "  ' 엄마가 아는분이 햅쌀 주셨다며 가져오셔서 저 주셨는데 집에있는 쌀하고 너무 차이나요 색도 누리끼리 하고 탁한느낌  이거 햅쌀 아닌거같죠',\n",
       "  '  서로의견을 존중해주시고 서로 내일 같이 배려해 주세요',\n",
       "  '     저번에도 배달말씀하신분들이 꽤 있으셔서요',\n",
       "  '                                                   일산아지매는 배려입니다',\n",
       "  '   쌀가루 필요해서요',\n",
       "  '  저희 아버지는  정미소 를 하시고 계십니다',\n",
       "  '   덧술후 하루저녁이 지난 모습입니다',\n",
       "  '      2주는 쓰겠네요',\n",
       "  '       만족도와 재주문이 계속 들어오는 쌀로만든 테라  무지개쌀케이크 입니다',\n",
       "  '     맛있는 당박사쌀로 당조절과 당관리  매일 꾸준히 하고있어요',\n",
       "  ' 프랑스 마트에서 산 쌀로 밥 지을때도 한국쌀이랑 똑같이 하면 되나요  그리구 여기 쌀도 씻어서 먹어야되나요  프랑스인 현지인들이랑 같이 살고있는데 밥하는거 보니까 마트에서 사온 쌀을 씻지도 않고 꼭 무슨 파스타 면 삶듯이  완전 한강 물에다가 쌀 넣고 끓여서  나중에 물 채에다가 따라 버리고 먹었는데 완전    맛이 없더라',\n",
       "  ' 1  게시판 성격에 맞지 않는 홍보  후기글 등은 삭제 될수 있으며 카페활동없이 후기글만 작성시 활동정지 됩니다',\n",
       "  '   갑자기 그게 아까운거에요',\n",
       "  '  사료용으로 쓰실분께 드립니다',\n",
       "  ' 저는 동송  갈말  대마리만 먹어봤는데 다들 어느 농협 선호하세용 다음번에 추천받아서 먹어보고 싶네용 그리고 송도내에서 오대쌀 살 수 있는곳 있을까요',\n",
       "  '     박력밀가루 레시피에 박력쌀가루를 대체하고 레시피 그대로 해도 될까요',\n",
       "  ' 외식도 안하고 매일 집밥먹으니 쌀이 금방없어져요   그래서 혹시 시골에서 쌀 받아서 쌀 넉넉하신분들 초딩아이들 쌀 받은거있자나요 그거로 교환하자',\n",
       "  '  모든 상품의 가격은  택배비용  포함되어 있습니다',\n",
       "  '  010 4114 4745 카톡      0524   배달 주문시  1만원 이상부터  배달비 2 000원 별도 있어요',\n",
       "  '     제 정보가 도움이 되셨다면  추천을 꾸우욱 눌러주세요',\n",
       "  '배달은 안됩니다',\n",
       "  '시댁에서 쌀 보내주셨네요',\n",
       "  '   불린쌀 가져가면 바로 갈아주는 방앗간이 있을까요',\n",
       "  ' 난이공방입니다',\n",
       "  '   믹서기 샀을깨 원두가는것도 들어있어서 이걸 어따써    했는데 이렇게 쓰이게 되다니      저처럼 갈아서 쓰시는 분도 계신가요       제 밥도 안차려 먹는데 참    애꺼는 별걸 다하네요',\n",
       "  '   습하고하니  쌀벌레    생겼어요',\n",
       "  '  다들 애정하시는 쌀 있으시죵 저는 이것저것 맛있다',\n",
       "  '   주문번호 010 2101 7499 위번호로 주문서 부탁드립니다',\n",
       "  '  쌀이 왔어요',\n",
       "  '    유기농이에요',\n",
       "  '        본 정보의 모든 책임은 정보 제공자에게 있음을 고지합니다',\n",
       "  '   좀비개미라고   애벌레들이 나오는 통로라고 하네요',\n",
       "  ' 쌀이라 버릴수도 없고 해서  꾸역 꾸역 먹었는데       저희 어머니가 농사를 지시는데  쌀의 상태에 대해 말씀드리니 썩어서 그런거라며  집에 쌀이 많은데 왜 애들 썩은것 먹였냐며 혼이 났어요',\n",
       "  '    발로나를 넣어서 그런지  많이 안 달고 촉촉하니 맛나요    지금 초코 생크림 올려서 찍먹하고 싶지만      낼 기대하며 어여 씻고 자야겠네요',\n",
       "  ' 소비자보호법에 의한 반품  교환  환불규정을 준수 합니다',\n",
       "  '  초기거든요',\n",
       "  '  깔때기에서 떨어지는 쌀이 개미지옥 같다는 생각이 들어 시작했는데   개미 책 읽고 유투브로 개미 천적 알아봤어요',\n",
       "  ' 강력쌀가루 250  무염버터 20  이스트 4  우유 125  저울에서  으로 설정하고 했어',\n",
       "  '   추천좀 해주세요',\n",
       "  '쌀가루 베이킹 수업때 배운 레시핀데이제야 복습하네요',\n",
       "  ' 쌀 팔아오지마라 하고 제가 직접 팔아보려는데 어느 쌀이 좋을지 모르겠네요',\n",
       "  '는 얘기를 듣고 짠했어',\n",
       "  '  오른쪽이 엄마가 주신 쌀이에요',\n",
       "  '  당분간 쌀 않사도 좋을듯이요',\n",
       "  '고 생각합니다',\n",
       "  '    제 정보가 도움이 되셨다면  추천을 꾸우욱 눌러주세요',\n",
       "  '  신안정에서 가꾸고 나누는 유기농 쌀은 친환경에 적합한 포트 육묘를 통해 평당 50주 이하로 소식재배를 합니다',\n",
       "  '   주문번호 010 4065 5841 위번호로 주문서 부탁드립니다',\n",
       "  '필요하신분 가져가세요',\n",
       "  ' 고소하니 맛있는데 시중에 파는 과자 먹고는 잘 안먹네요',\n",
       "  ' 아직 도정안한 깨끗한 원료곡을저온창고에 깨끗히 보관중입니다',\n",
       "  '    보통 쌀을 불릴때 쌀누룩도 물에 넣고 불려주고  컵에 효모와 설탕 반숫갈정도 넣어서 효모도 활성화 시켜줍니다',\n",
       "  ' 163일 아가예요',\n",
       "  '용이동입니다',\n",
       "  '쌀 잘받았어요',\n",
       "  '      팥이랑강남콩이랑 옥수수범벅도 맛있어요',\n",
       "  '    몰스에서는 서로에게 최소한의 예의를 지켜야하며  광고  악성댓글  상처를 줄수 있는 댓글  비방글  확인되지 않은 마녀사냥이 될 수 있는 글은 6개월 활동정지 및 강퇴됩니다',\n",
       "  '  경남 사천에서 직접 재배한 2020년 9월에 수확한 하이아미쌀 판매합니다',\n",
       "  '   저같이 한국마트 없는 곳에 사시는 분들에게 도움이 될까해서 레시피 알려드려요',\n",
       "  ' 둘다 개봉해서 한번씩 썼어요',\n",
       "  '    금지게시물 및 카페안내사항                                 155371  초보맘활동 안내가이드                                 100760   카페의 건의 또는 질문  신고는 비밀건의 및 에티켓 신고 게시판을 이용하여 주시기 바랍니다',\n",
       "  ' 아시는분 계실까요',\n",
       "  '이틀전인가  입술 옆에 태열처럼 한두개   붉게 생겨서 태열인가하고 넘기고어제 씻길때보니까 저랬어요',\n",
       "  '  쌀가루는 슈퍼스토어나 세이브온푸드 인터내셔널 코너에서 찾을수 있답니다',\n",
       "  '  신기한건 떡이나  빵  소면 같은건 또 드세요',\n",
       "  '  부모님이 안동 백진주쌀 좋아하셔서 쌀은 그걸로 사드리는데 품절이라 살수가 없네요',\n",
       "  ' 20키로입니다',\n",
       "  ' 오늘 신랑한테 쌀 떨어져가서 사야될거같다고하니 벌써  이러네요',\n",
       "  '  어떤 쌀이 맛있나요  저희는 이천 임금님표 쌀 자주 먹었었는데 그냥 먹을만 했지',\n",
       "  '  배달해드립니다',\n",
       "  '   버리기 전에 혹시 필요하신 분 있을까해서요',\n",
       "  '면 추천 부탁드리고   운정에서 구입할 만 괜찮은 곳 있다',\n",
       "  '  어렵네요',\n",
       "  '  보관안내  보관은 꼭 실온 3 4일 혹은 냉동으로   냉장 보관하게 되면 습기가 차서 맛도 덜하고 상하기 쉬워요 장기 보관 하신다면 꼭 냉동해주세요',\n",
       "  ' 혹시 질문글이신가요  질문은 질문 게시판에 작성해 주세요',\n",
       "  '   전 아에르 베이지가 있는데 제가 그렇게 좋아하는 색이아니라서요',\n",
       "  ' 따 라 서  100  최근도정  당일도정 쌀만 보내드리고 있습니다',\n",
       "  ' 가지러오셔야합니다',\n",
       "  '   애기 이유식 시작할때부터 좋은걸로 해먹이라며   보내주세요',\n",
       "  ' 올 봄쯤 사둔 개봉하지않은 현미쌀있는데 여름에 베란다뒀더니 쌀벌레생겼네요',\n",
       "  '  그때 쌀 어디꺼 쓰시는지 못물어본게후회되더라',\n",
       "  '  10키로 42000원 택배비포함  20키로 75000원 택배비포함  인천 강화군 재배 백진주쌀  2020년 10월23일 도정 10키로 42000원 택배비포함  20키로 75000원 택배비포함  인천 강화군 재배 자루 포장후 박스에 담아 택배로 보내드립니다',\n",
       "  '  일요일인데 택배와서 깜놀  14키로   택배기사님 날도 더운데 일요일까지 무거운 쌀 배달 감사합니다',\n",
       "  ' 혹시 아시는분 계실까요',\n",
       "  '    쪽 지   라는글이 들어가면 스팸 처리되기때문에  본내용을 삭제하지 않고 글을 올리시면  올리신글이 자동으로 스팸게시글로 삭제가 됩니다',\n",
       "  '  즤집 둘째의 임무는 쌀 배분  코로나땜에 둘째의 임무 횟수가 잦아졌어요',\n",
       "  ' 오늘 쌀베이킹 매력에 푹빠졌어요',\n",
       "  '면 추천좀해주세요',\n",
       "  '   아주조금 남아서 쌀 5   사야할까봐요',\n",
       "  '  밥솥에밥이 하루지나면 서서히 노랗게되면서 냄새가나길래서비스센타에 갔는데     저는 가족의 건강을 망치고있었나봅니다',\n",
       "  '     40킬로 정도됩니다',\n",
       "  '  2020년 수확이 시작되었습니다',\n",
       "  '   보다 나은 카페환경을 위해 아래 카페규칙을 꼭 지켜주세요',\n",
       "  '좋은하루되세요',\n",
       "  '얼굴에는 지금은 아무것도 안났구요',\n",
       "  '       제 정보가 도움이 되셨다면  추천을 꾸우욱 눌러주세요',\n",
       "  '    쌀 이 영글어 갑니다',\n",
       "  '  저도 모내기와 수확할때 같이 했구요',\n",
       "  ' 2  글제목은 30자이내로 작성해주세요',\n",
       "  '     티타임하는여자입니다',\n",
       "  '  흑 맘님들은 쌀 몇번 헹구시나요 오늘 쌀 질문 또 드려요',\n",
       "  '고하면 바꾸실맘님 계신가요 혹시 바꾼다면 몇키로 정도로 생각하시는지 쌀로 교환하면 위반인거면 삭제할께요',\n",
       "  '   백진주만큼 찰진 쌀은 없을까요',\n",
       "  ' 사진에 보이는  현미쌀은 롯데마트에서 구입하고깨끗한페트병에 옮겨 조금  옮겨놓은거예요',\n",
       "  ' 처음해보는 쌀베이킹  유튜브열심히검색하고모닝빵하고 단팥과 소보로 만들었어',\n",
       "  '는거 다 먹어봐도제 입맛엔 철원오대쌀이 최고에요',\n",
       "  ' 직접오셔도 되구요',\n",
       "  ' 괴정입니다',\n",
       "  '  필요하신분 참고하세요',\n",
       "  ' 조만간에 저도 한번 다녀와야겠어요',\n",
       "  '    농가에서 직접 생산 도정 발송하므로 농사 일정을 고려하여      매주 화요일과 금요일에 발송합니다',\n",
       "  '제 입엔 쑥 향이 향긋하니 좋은데 초딩입맛 남편은 별로랍니다',\n",
       "  ' 저희 신랑이 입맛이 까다로워서 맛있는 쌀을 찾고 있어요',\n",
       "  '  뭐가 문제일까요',\n",
       "  '   11월 29일 제조   딸기쌀오믈렛빵 1박스 10개 쌀오믈렛빵에 동물성생크림 파스퇴르생크림  올리고 아직은 금값인 장희딸기 2번 올라갑니다',\n",
       "  '  소화도 돕고 밥이 맛있답니다',\n",
       "  '  10키로 42000원 택배비포함  20키로 75000원 택배비포함  인천 강화군 재배 백진주쌀  2020년 11월27일 도정 10키로 42000원 택배비포함  20키로 75000원 택배비포함  인천 강화군 재배 자루 포장후 박스에 담아 택배로 보내드립니다',\n",
       "  '밤쌀 1키로 10 000원2키로 이상부터 택배발송 합니다',\n",
       "  '   껍질깐 옥수수알  1  양입니다',\n",
       "  '  아래 링크 눌러주세요',\n",
       "  ' 몇달은 든든히 먹을꺼  같아요',\n",
       "  ' 밀가루 없이 쌀가루가 들어간 글루텐프리 베이킹이며  달걀 우유 버터가 들어가지 않은 비건베이킹입니다',\n",
       "  '   전이아이들이너무좋아요  쌀베이킹은 1차발효가없어서시간절약 넘좋은거같아요',\n",
       "  '   몰스에서는 서로에게 최소한의 예의를 지켜야하며  광고  악성댓글  상처를 줄수 있는 댓글  비방글  확인되지 않은 마녀사냥이 될 수 있는 글은 6개월 활동정지 및 강퇴됩니다',\n",
       "  '    구매 후기 작성시에는 상품 전체 와 부분 사진을 첨부해주세요',\n",
       "  '     오늘 밤과 낼 아침 태풍 피해없이 조용히 지나가길     아까 쌀 곰팡이인지 올렸는데 대부분  아닌것 같다고하셔서 밥을 했는데  냄새도 안좋고 밥먹고 끝맛이 이상하네요',\n",
       "  ' 마트에서 묵은 쌀 사드시지 마시고 최근도정한  평생한쌀  드시고 건강하세요',\n",
       "  ' 저희집쌀통에 다 안들어가서남은쌀 페트병에 담아놨습니다',\n",
       "  ' 선거광고 안내       음소거00 00   00 04 화질 선택 옵션자동     자동       270        480    화질  전체화면    00 00  00 01  00 02  00 03  00 04 광고정보 더보기초 후     초 후 재생    광고 후 계속됩니다',\n",
       "  '    1불 정도 쌀가루로 꽤 많은 양을 만들수 있답니다',\n",
       "  '  제가 무료로 집앞배송해드려요',\n",
       "  '  쌀은 맑은물이나올때까지 씻어라고 하더라',\n",
       "  '   하루 지나서 한번 저어주었고 밑술 후 약 36시간정도 지난 모습입니다',\n",
       "  '  하이아미 백미 4     20 000원 택배비 3 000원  하이아미 백미 8     40 000원 택배비 3 000원  하이아미 백미 20   마대포장    80 000원 택배비 5 000원  하이아미 현미 4     20 000원 택배비 3 000원  하이아미 현미 8     40 000원 택배비 3 000원  하이아미 현미 20   마대포장    80 000 원 택배비 5 000원   백미와 현미 혼합 구성이 가능하며  8   이하는 택배비 3 000원  8   초과시 20  이내 택배비 5 000원입니다',\n",
       "  ' 감사히 잘 먹겠습니다',\n",
       "  '  혹시 정말 맛있는쌀 아심추천 부탁드려도 될까요',\n",
       "  '           해외직구 쇼핑 커뮤니티   국내쇼핑 핫딜 세일정보   대한민국 최저가 쇼핑정보       똑소리 나는 쇼핑 바이블 진희맘홀릭                                                                        아이 이유식하고 남은 냉동 쌀가루요    큰 락앤락으로 2팩이나 되요',\n",
       "  '   오늘 오실분 찾고있어요',\n",
       "  '  저는 15년차 홈베이커입니다',\n",
       "  '   맛있게 잘 먹겠습니다',\n",
       "  '   저번 생선택배에도 이번 쌀 택배에도 애기 까까값이라고 봉투를 넣어주셨어요',\n",
       "  '    댓글이나 쪽지 채팅은 거의 확인 안하니주문은 제 핸드폰 문자로 부탁드려요',\n",
       "  '      마감  스페셜 원데이 쌀 찜 제누와즈 입니다',\n",
       "  '   딸기 입고될 때 미리 예약 글 올릴게요',\n",
       "  '  010 3101 5739많은 주문 부탁드립니다',\n",
       "  '  추천좀 해주세요',\n",
       "  ' 레시피 좀 봐주세요',\n",
       "  '   추천 부탁드려요',\n",
       "  '   막상 사먹으려나 종류가 엄청 많은데요',\n",
       "  ' 오늘만 쉬고 내일 다시한번 먹여볼까요',\n",
       "  ' 저희는 언제나 전날도정 다음날 발송으로 가장 맛있고 좋은 쌀을 보내드립니다',\n",
       "  '  별이네개 입니다',\n",
       "  '     30  정량을 넣었는데  쌀은 정량을 다 못준거같아서      죽제조기도 엄청엄청 곱게 갈리지만     안갈리는것 없게 하고 싶어서 집에 원두가는걸로 쌀 갈았는데        너무너무 곱게 잘 갈리네요',\n",
       "  '  개봉한진 좀 됐지만 찰보리쌀도 안먹구 수습불가네요',\n",
       "  '    일상수다 게시판 입니다',\n",
       "  ' 필요하신분 계실까요',\n",
       "  '   시골에서 주신 쌀 보관을 못해서 새로 사서 먹어야 해요',\n",
       "  ' 선거광고 안내       음소거00 00   00 10 화질 선택 옵션자동     자동       270        480        720           1080       화질  전체화면    00 01  00 03  00 05  00 07  00 09 광고정보 더보기초 후     초 후 재생    광고 후 계속됩니다',\n",
       "  '                                                           2            3                0   0                   0                    0                                                                               0 0 도움말라이센스                        4 17 48                  2020 2 12                 동영상 인코딩 중입니다',\n",
       "  '     3  해당하는 레시피에 동그라미     표시해 주시고 단계별로 5개 이상 완료시 도전 성공 인증하기 게시판에    글을 남겨 주세요',\n",
       "  '                                 일산아지매는 배려입니다',\n",
       "  '       한컵했는데 170 정도 나왔어요',\n",
       "  '  흑미쌀식빵이 그렇게 맛있다',\n",
       "  '      이제 한달됐는데  그냥 생쌀 30  물 240 300   야채는 8배죽 감자고구마등은 10배죽  재료 20 30  넣고  이유식미음코스로 돌리는데  끝나고 나면 밥알이 막 다 튀어서 벽에 붙어있을때가 있어요',\n",
       "  '   직접 가져가실분만    첫댓글 다신분께 드립니다',\n",
       "  ' 박력 쌀가루로 만든 아메리칸 4종 쿠키예요',\n",
       "  '    카페 내 게시시 무통보 삭제 처리됩니다',\n",
       "  '   버려야할까요',\n",
       "  '     누룽지 향찹쌀 혼합미  2020년 11월27일 도정 구수한 누룽지향이 나는 누룽지향찹쌀에 백미를 7 3의 비율로 혼합했습니다',\n",
       "  '   워킹맘이라 초기만 제가 해보고 중기부턴 시판하려했는데   쌀가루는 모두 비추신가요     혹시 괜찮은제품이 있다',\n",
       "  '    그런데 3   교동쌀이 색이 이상하더라',\n",
       "  '  중요한건 아버지가 쌀을 전혀 못 드세요',\n",
       "  ' 고시히까리는초밥용쌀로 찰기와 고소한맛이 아주 좋은 쌀입니다',\n",
       "  '  쌀 가격이 좀 올랐길래 최대한 저렴한걸로 구입했더니 거뭇거뭇한 쌀알이 많이 보여요     쌀 포장지에는 햅쌀 2020년 9월28 도정으로 날짜까지 적혀있는데    이 거뭇거뭇한게 왜 이런건지 아시는 분 계시면 좀 알려주셔요 며칠전 너무너무 감격하며 먹었던 우유쌀식빵  그 감동    다시 느끼고싶어 새벽에 쌀가루도착하자',\n",
       "  '  맛있는 쌀 추천해주세요',\n",
       "  '       도움 부탁드려요',\n",
       "  '    올해는 좀 늦게 첫번째 술을 만들어 봅니다',\n",
       "  '   이렇게 쌀을 아예 못 먹을 경우에는 어떻게 해야 할지 질문 드립니다',\n",
       "  '  추석맞아서 송편을 만들고 싶은데 제가 사는곳엔 한국마트가 없어서 로컬 마켓에서 쉽게 구할수 있는 건식 쌀가루로 송편을 만들었어',\n",
       "  '    이제부터라도 식습관을 아예 고쳐보려고 하는데요',\n",
       "  '   방법 있을까요',\n",
       "  '       쌀가루와 쑥가루를 넣어서 만든 쑥쌀식빵이에요',\n",
       "  '    아님 재료마다 용량이 좀 달라져야 하는지     유튜브에 질문해났는데 답을 안주셔서요',\n",
       "  '  혹시 질문글이신가요  질문은 질문 게시판에 작성해 주세요',\n",
       "  '      감사합니다',\n",
       "  '   감사해요',\n",
       "  ' 몰랐어요',\n",
       "  '  포장 및 배송 안내 손주들이 내려와서 쌀이 담긴 포장지를 들고 찍은 사진입니다',\n",
       "  '     개미무게에만 특화된 경사라 정말 신기해요',\n",
       "  '  만약 버려야한다',\n",
       "  ' 찾아보니 떡해먹거나  닭 새 모이로도 쓴다던데 떡해먹는다',\n",
       "  '김치통에 쌀 담아서 김치냉장고에 보관해도 되나요   쌀 둘곳이 마땅치가 않네요',\n",
       "  '   5자이내 제목글 및 20자 이내 글내용은 삭제됩니다',\n",
       "  '   산딸기 좋아 하시는분들은 꼭 드셔 보시라고 추천합니다',\n",
       "  '        1단계 레시피 5개 작성    도전성공 인증하기    1단계 혜택받기             2단계 레시피 5개 작성    도전성공 인증하기    2단계 혜택받기     3단계 레시피 5개 작성  4  글 작성시 제목은   000단계   000빵  00번째 레시피  양식을 꼭 지켜 주세요',\n",
       "  '          이번 영상에서는 유자청을 넣은 파운드 케이크를 구워봤어요',\n",
       "  '     라즈베리 산딸기 는 제철인 요즘만 드실수 있어요',\n",
       "  '  예전에 정말 고급 식당에서 밥을 먹는데 갓지은 밥에 윤기가 좌르르 맛은정말 형용할수없이 맛나더라',\n",
       "  '    몇시간 지나면 밥알이 물을 다 흡수해서 밥만 보입니다',\n",
       "  ' 고시히까리라고 아시는 분들은 아시겠지만초밥용  급 쌀로 밥맛은 아주 아주 좋은 쌀입니다',\n",
       "  ' 선거광고 안내       음소거00 00   00 08 화질 선택 옵션자동     자동       270        480        720           1080       화질  전체화면    00 01  00 03  00 05  00 07 광고정보 더보기초 후     초 후 재생    광고 후 계속됩니다',\n",
       "  '  1  원정대에는 양식에 맞는 글을 올려 주셔야 합니다',\n",
       "  '   일본 왕개미 엉덩이에 산란관을 꽂아 알을 낳는데 몇시간 뒤에 개미가 고개를 푹 숙이며 제대로 못 걷게되고  동료들은 병든 개미를 내다버리지 않는다',\n",
       "  '                                    키즈배틀은배려입니다',\n",
       "  '  원장입니다',\n",
       "  ' 추천부탁드립니다',\n",
       "  '  수다세상에 질문글 작성 시 무통보 삭제 될 수 있습니다',\n",
       "  '      몰스에서는 서로에게 최소한의 예의를 지켜야하며  광고  악성댓글  상처를 줄수 있는 댓글  비방글  확인되지 않은 마녀사냥이 될 수 있는 글은 6개월 활동정지 및 강퇴됩니다',\n",
       "  ' 모내기부터 도정 포장 판매까지 모든작업을 직접하여 최소의 마진으로최상의 상품을 판매하고있습니다',\n",
       "  ' 너무 감사합니다',\n",
       "  ' 부탁드려요',\n",
       "  '고 해서요',\n",
       "  '  직접키운 쌀을 최신식 도정기계로 가장 맛있는 쌀을 만들어 판매합니다',\n",
       "  '     근데 습식쌀가루로 만드는게 더 맛있긴 해요',\n",
       "  '  럭셔리찹쌀파이  찹쌀과 동물성생크림 파스퇴르생크림  각종 견과류가 듬뿍 들어간 건강한 파이입니다',\n",
       "  '  그러고도 몇시간을 더 돌아다닌대요',\n",
       "  '  2  게시판 성격에 맞지 않는 홍보  후기글 등은 삭제 될수 있으며 카페활동없이 후기글만  작성시 활동정지 됩니다',\n",
       "  '  평생한쌀 당일배송 당일도정 쌀 20  는 보관이 용이한 10   짜리 2개가 발송됩니다',\n",
       "  '  우렁이들과 함께 손수 풀을 메는 농부의 손길로 자랍니다',\n",
       "  '    아이들 먹이는 쌀을       너무 하더라',\n",
       "  '  덕분에   완전 보들보들 하긴한데  담주 월요일이면 146일 혼합에서 완분 두달째인 아가에요',\n",
       "  '  모두 부모님께서 직접 농사지은거고요',\n",
       "  ' 한번 판매하고 신경안쓰는 그런 뜨내기 장사꾼이 아닌 한번 맛보시면 다시 찾는 열혈농사꾼이 되겠습니다',\n",
       "  '  아기과자 7개엄마과자 5개 사은품으로 받았어요',\n",
       "  ' 좋은 쌀 추천해주세요'])"
      ]
     },
     "metadata": {},
     "execution_count": 65
    }
   ],
   "metadata": {}
  },
  {
   "cell_type": "code",
   "execution_count": 66,
   "source": [
    "# 중복제거\r\n",
    "data2 = sentence_Data\r\n",
    "for i in idx_sentence:\r\n",
    "    data2 = data2[sentence_Data['content'] != i] # 중복 완료해서 저장\r\n",
    "# 데이터 사이즈 확인\r\n",
    "print ('중복제거 전 데이터: ', len(sentence_Data), '중복제거완료 데이터: ', len(data2) ) #중복제거 전 데이터, 중복제거완료 데이터   \r\n",
    "# null 확인\r\n",
    "print( data2.isnull().sum() )"
   ],
   "outputs": [
    {
     "output_type": "stream",
     "name": "stderr",
     "text": [
      "<ipython-input-66-2cf1e7073cf2>:4: UserWarning: Boolean Series key will be reindexed to match DataFrame index.\n",
      "  data2 = data2[sentence_Data['content'] != i] # 중복 완료해서 저장\n"
     ]
    },
    {
     "output_type": "stream",
     "name": "stdout",
     "text": [
      "중복제거 전 데이터:  48332 중복제거완료 데이터:  37243\n",
      "content    0\n",
      "dtype: int64\n"
     ]
    }
   ],
   "metadata": {}
  },
  {
   "cell_type": "code",
   "execution_count": 67,
   "source": [
    "data2 # 인덱스 정렬 재필요해 보임"
   ],
   "outputs": [
    {
     "output_type": "execute_result",
     "data": {
      "text/html": [
       "<div>\n",
       "<style scoped>\n",
       "    .dataframe tbody tr th:only-of-type {\n",
       "        vertical-align: middle;\n",
       "    }\n",
       "\n",
       "    .dataframe tbody tr th {\n",
       "        vertical-align: top;\n",
       "    }\n",
       "\n",
       "    .dataframe thead th {\n",
       "        text-align: right;\n",
       "    }\n",
       "</style>\n",
       "<table border=\"1\" class=\"dataframe\">\n",
       "  <thead>\n",
       "    <tr style=\"text-align: right;\">\n",
       "      <th></th>\n",
       "      <th>content</th>\n",
       "    </tr>\n",
       "  </thead>\n",
       "  <tbody>\n",
       "    <tr>\n",
       "      <th>0</th>\n",
       "      <td>쌀구움과자  장여진  채미희 지음경향미디어메마른 쌀베이킹계의...</td>\n",
       "    </tr>\n",
       "    <tr>\n",
       "      <th>1</th>\n",
       "      <td>쌀베이킹을 하면서밀베이킹과는 조금다른 결과물에당황할 때도 종종 있거든요</td>\n",
       "    </tr>\n",
       "    <tr>\n",
       "      <th>2</th>\n",
       "      <td>클래스를 다녀야하나 고민도해봤는데시간이 없는 저로썬 집에서 끙끙 앓고 있었는데너...</td>\n",
       "    </tr>\n",
       "    <tr>\n",
       "      <th>3</th>\n",
       "      <td>프롤로그 쌀베이킹을 시작한 이유에 대해 적혀져있어요</td>\n",
       "    </tr>\n",
       "    <tr>\n",
       "      <th>4</th>\n",
       "      <td>떡으로 시작해서 베이킹까지  여러재료를 활용하고 다양한 가루를사용하셨다고 해요</td>\n",
       "    </tr>\n",
       "    <tr>\n",
       "      <th>...</th>\n",
       "      <td>...</td>\n",
       "    </tr>\n",
       "    <tr>\n",
       "      <th>48327</th>\n",
       "      <td>...</td>\n",
       "    </tr>\n",
       "    <tr>\n",
       "      <th>48328</th>\n",
       "      <td>윤기 좔좔 맛있는 평택쌀   쌀 추청 20    58 000원  54 000...</td>\n",
       "    </tr>\n",
       "    <tr>\n",
       "      <th>48329</th>\n",
       "      <td>재난기금카드 돌봄쿠폰 카드결제 대면결제 계좌이체 온누리상품권  현금영수증 ...</td>\n",
       "    </tr>\n",
       "    <tr>\n",
       "      <th>48330</th>\n",
       "      <td>전화문의 010 2856 8020 계좌  582 12 053282 농협 장유...</td>\n",
       "    </tr>\n",
       "    <tr>\n",
       "      <th>48331</th>\n",
       "      <td></td>\n",
       "    </tr>\n",
       "  </tbody>\n",
       "</table>\n",
       "<p>37243 rows × 1 columns</p>\n",
       "</div>"
      ],
      "text/plain": [
       "                                                 content\n",
       "0                   쌀구움과자  장여진  채미희 지음경향미디어메마른 쌀베이킹계의...\n",
       "1                쌀베이킹을 하면서밀베이킹과는 조금다른 결과물에당황할 때도 종종 있거든요\n",
       "2        클래스를 다녀야하나 고민도해봤는데시간이 없는 저로썬 집에서 끙끙 앓고 있었는데너...\n",
       "3                           프롤로그 쌀베이킹을 시작한 이유에 대해 적혀져있어요\n",
       "4            떡으로 시작해서 베이킹까지  여러재료를 활용하고 다양한 가루를사용하셨다고 해요\n",
       "...                                                  ...\n",
       "48327                                                ...\n",
       "48328      윤기 좔좔 맛있는 평택쌀   쌀 추청 20    58 000원  54 000...\n",
       "48329       재난기금카드 돌봄쿠폰 카드결제 대면결제 계좌이체 온누리상품권  현금영수증 ...\n",
       "48330      전화문의 010 2856 8020 계좌  582 12 053282 농협 장유...\n",
       "48331                                                   \n",
       "\n",
       "[37243 rows x 1 columns]"
      ]
     },
     "metadata": {},
     "execution_count": 67
    }
   ],
   "metadata": {}
  },
  {
   "cell_type": "code",
   "execution_count": 68,
   "source": [
    "data_content = data2[['content']].dropna(axis=0) # null 제거\r\n",
    "data_content.reset_index(drop=True, inplace=True) # 인덱스 재정렬\r\n",
    "data_content"
   ],
   "outputs": [
    {
     "output_type": "execute_result",
     "data": {
      "text/html": [
       "<div>\n",
       "<style scoped>\n",
       "    .dataframe tbody tr th:only-of-type {\n",
       "        vertical-align: middle;\n",
       "    }\n",
       "\n",
       "    .dataframe tbody tr th {\n",
       "        vertical-align: top;\n",
       "    }\n",
       "\n",
       "    .dataframe thead th {\n",
       "        text-align: right;\n",
       "    }\n",
       "</style>\n",
       "<table border=\"1\" class=\"dataframe\">\n",
       "  <thead>\n",
       "    <tr style=\"text-align: right;\">\n",
       "      <th></th>\n",
       "      <th>content</th>\n",
       "    </tr>\n",
       "  </thead>\n",
       "  <tbody>\n",
       "    <tr>\n",
       "      <th>0</th>\n",
       "      <td>쌀구움과자  장여진  채미희 지음경향미디어메마른 쌀베이킹계의...</td>\n",
       "    </tr>\n",
       "    <tr>\n",
       "      <th>1</th>\n",
       "      <td>쌀베이킹을 하면서밀베이킹과는 조금다른 결과물에당황할 때도 종종 있거든요</td>\n",
       "    </tr>\n",
       "    <tr>\n",
       "      <th>2</th>\n",
       "      <td>클래스를 다녀야하나 고민도해봤는데시간이 없는 저로썬 집에서 끙끙 앓고 있었는데너...</td>\n",
       "    </tr>\n",
       "    <tr>\n",
       "      <th>3</th>\n",
       "      <td>프롤로그 쌀베이킹을 시작한 이유에 대해 적혀져있어요</td>\n",
       "    </tr>\n",
       "    <tr>\n",
       "      <th>4</th>\n",
       "      <td>떡으로 시작해서 베이킹까지  여러재료를 활용하고 다양한 가루를사용하셨다고 해요</td>\n",
       "    </tr>\n",
       "    <tr>\n",
       "      <th>...</th>\n",
       "      <td>...</td>\n",
       "    </tr>\n",
       "    <tr>\n",
       "      <th>37238</th>\n",
       "      <td>...</td>\n",
       "    </tr>\n",
       "    <tr>\n",
       "      <th>37239</th>\n",
       "      <td>윤기 좔좔 맛있는 평택쌀   쌀 추청 20    58 000원  54 000...</td>\n",
       "    </tr>\n",
       "    <tr>\n",
       "      <th>37240</th>\n",
       "      <td>재난기금카드 돌봄쿠폰 카드결제 대면결제 계좌이체 온누리상품권  현금영수증 ...</td>\n",
       "    </tr>\n",
       "    <tr>\n",
       "      <th>37241</th>\n",
       "      <td>전화문의 010 2856 8020 계좌  582 12 053282 농협 장유...</td>\n",
       "    </tr>\n",
       "    <tr>\n",
       "      <th>37242</th>\n",
       "      <td></td>\n",
       "    </tr>\n",
       "  </tbody>\n",
       "</table>\n",
       "<p>37243 rows × 1 columns</p>\n",
       "</div>"
      ],
      "text/plain": [
       "                                                 content\n",
       "0                   쌀구움과자  장여진  채미희 지음경향미디어메마른 쌀베이킹계의...\n",
       "1                쌀베이킹을 하면서밀베이킹과는 조금다른 결과물에당황할 때도 종종 있거든요\n",
       "2        클래스를 다녀야하나 고민도해봤는데시간이 없는 저로썬 집에서 끙끙 앓고 있었는데너...\n",
       "3                           프롤로그 쌀베이킹을 시작한 이유에 대해 적혀져있어요\n",
       "4            떡으로 시작해서 베이킹까지  여러재료를 활용하고 다양한 가루를사용하셨다고 해요\n",
       "...                                                  ...\n",
       "37238                                                ...\n",
       "37239      윤기 좔좔 맛있는 평택쌀   쌀 추청 20    58 000원  54 000...\n",
       "37240       재난기금카드 돌봄쿠폰 카드결제 대면결제 계좌이체 온누리상품권  현금영수증 ...\n",
       "37241      전화문의 010 2856 8020 계좌  582 12 053282 농협 장유...\n",
       "37242                                                   \n",
       "\n",
       "[37243 rows x 1 columns]"
      ]
     },
     "metadata": {},
     "execution_count": 68
    }
   ],
   "metadata": {}
  },
  {
   "cell_type": "code",
   "execution_count": 69,
   "source": [
    "# pred에 str이 아닌게 존재하네! nan임을 확인함 # 제거하고 데이터 다시 가져옴\r\n",
    "for i in range(len(data2)):\r\n",
    "    if type(data_content['content'][i]) != str :\r\n",
    "        print(i) # null없음 확인 땅땅!"
   ],
   "outputs": [],
   "metadata": {}
  },
  {
   "cell_type": "markdown",
   "source": [
    "## 03. train / test 분리"
   ],
   "metadata": {}
  },
  {
   "cell_type": "code",
   "execution_count": 254,
   "source": [
    "# Train용 데이터셋과 Test용 데이터 셋 분리\r\n",
    "# 예측력을 높이기 위해 수집된 데이터를 학습용과 테스트 용으로 분리하여 진행\r\n",
    "\r\n",
    "from sklearn.model_selection import train_test_split\r\n",
    "# train_x, test_x, train_y, test_y = train_test_split(train_df[0], train_df[1] , test_size=0.2, random_state=0)  # 현대만 학습\r\n",
    "train_x, test_x, train_y, test_y = train_test_split(all_train_x_df[0], all_train_y_df[0] , test_size=0.2, random_state=0) # 현대 쿠팡학습\r\n",
    "\r\n",
    "print(len(train_x), len(train_y), len(test_x), len(test_y))"
   ],
   "outputs": [
    {
     "output_type": "stream",
     "name": "stdout",
     "text": [
      "298049 298049 74513 74513\n"
     ]
    }
   ],
   "metadata": {}
  },
  {
   "cell_type": "code",
   "execution_count": 72,
   "source": [
    "# train data의 긍부정 비율 확인 : 긍정1 / 중립0 / 부정 -1\r\n",
    "%matplotlib inline \r\n",
    "import matplotlib.pyplot as plt\r\n",
    "\r\n",
    "train_y.value_counts().plot(kind='bar')"
   ],
   "outputs": [
    {
     "output_type": "execute_result",
     "data": {
      "text/plain": [
       "<AxesSubplot:>"
      ]
     },
     "metadata": {},
     "execution_count": 72
    },
    {
     "output_type": "display_data",
     "data": {
      "image/png": "[encoded data removed]",
      "image/svg+xml": "<?xml version=\"1.0\" encoding=\"utf-8\" standalone=\"no\"?>\r\n<!DOCTYPE svg PUBLIC \"-//W3C//DTD SVG 1.1//EN\"\r\n  \"http://www.w3.org/Graphics/SVG/1.1/DTD/svg11.dtd\">\r\n<!-- Created with matplotlib (https://matplotlib.org/) -->\r\n<svg height=\"248.810312pt\" version=\"1.1\" viewBox=\"0 0 394.375 248.810312\" width=\"394.375pt\" xmlns=\"http://www.w3.org/2000/svg\" xmlns:xlink=\"http://www.w3.org/1999/xlink\">\r\n <metadata>\r\n  <rdf:RDF xmlns:cc=\"http://creativecommons.org/ns#\" xmlns:dc=\"http://purl.org/dc/elements/1.1/\" xmlns:rdf=\"http://www.w3.org/1999/02/22-rdf-syntax-ns#\">\r\n   <cc:Work>\r\n    <dc:type rdf:resource=\"http://purl.org/dc/dcmitype/StillImage\"/>\r\n    <dc:date>2021-09-05T16:44:56.293249</dc:date>\r\n    <dc:format>image/svg+xml</dc:format>\r\n    <dc:creator>\r\n     <cc:Agent>\r\n      <dc:title>Matplotlib v3.3.4, https://matplotlib.org/</dc:title>\r\n     </cc:Agent>\r\n    </dc:creator>\r\n   </cc:Work>\r\n  </rdf:RDF>\r\n </metadata>\r\n <defs>\r\n  <style type=\"text/css\">*{stroke-linecap:butt;stroke-linejoin:round;}</style>\r\n </defs>\r\n <g id=\"figure_1\">\r\n  <g id=\"patch_1\">\r\n   <path d=\"M 0 248.810312 \r\nL 394.375 248.810312 \r\nL 394.375 0 \r\nL 0 0 \r\nz\r\n\" style=\"fill:none;\"/>\r\n  </g>\r\n  <g id=\"axes_1\">\r\n   <g id=\"patch_2\">\r\n    <path d=\"M 52.375 224.64 \r\nL 387.175 224.64 \r\nL 387.175 7.2 \r\nL 52.375 7.2 \r\nz\r\n\" style=\"fill:#ffffff;\"/>\r\n   </g>\r\n   <g id=\"patch_3\">\r\n    <path clip-path=\"url(#p8eed9f40c0)\" d=\"M 80.275 224.64 \r\nL 136.075 224.64 \r\nL 136.075 17.554286 \r\nL 80.275 17.554286 \r\nz\r\n\" style=\"fill:#1f77b4;\"/>\r\n   </g>\r\n   <g id=\"patch_4\">\r\n    <path clip-path=\"url(#p8eed9f40c0)\" d=\"M 191.875 224.64 \r\nL 247.675 224.64 \r\nL 247.675 24.964484 \r\nL 191.875 24.964484 \r\nz\r\n\" style=\"fill:#1f77b4;\"/>\r\n   </g>\r\n   <g id=\"patch_5\">\r\n    <path clip-path=\"url(#p8eed9f40c0)\" d=\"M 303.475 224.64 \r\nL 359.275 224.64 \r\nL 359.275 219.040845 \r\nL 303.475 219.040845 \r\nz\r\n\" style=\"fill:#1f77b4;\"/>\r\n   </g>\r\n   <g id=\"matplotlib.axis_1\">\r\n    <g id=\"xtick_1\">\r\n     <g id=\"line2d_1\">\r\n      <defs>\r\n       <path d=\"M 0 0 \r\nL 0 3.5 \r\n\" id=\"m21cd868c27\" style=\"stroke:#000000;stroke-width:0.8;\"/>\r\n      </defs>\r\n      <g>\r\n       <use style=\"stroke:#000000;stroke-width:0.8;\" x=\"108.175\" xlink:href=\"#m21cd868c27\" y=\"224.64\"/>\r\n      </g>\r\n     </g>\r\n     <g id=\"text_1\">\r\n      <!-- 1 -->\r\n      <g transform=\"translate(110.934375 238.0025)rotate(-90)scale(0.1 -0.1)\">\r\n       <defs>\r\n        <path d=\"M 12.40625 8.296875 \r\nL 28.515625 8.296875 \r\nL 28.515625 63.921875 \r\nL 10.984375 60.40625 \r\nL 10.984375 69.390625 \r\nL 28.421875 72.90625 \r\nL 38.28125 72.90625 \r\nL 38.28125 8.296875 \r\nL 54.390625 8.296875 \r\nL 54.390625 0 \r\nL 12.40625 0 \r\nz\r\n\" id=\"DejaVuSans-49\"/>\r\n       </defs>\r\n       <use xlink:href=\"#DejaVuSans-49\"/>\r\n      </g>\r\n     </g>\r\n    </g>\r\n    <g id=\"xtick_2\">\r\n     <g id=\"line2d_2\">\r\n      <g>\r\n       <use style=\"stroke:#000000;stroke-width:0.8;\" x=\"219.775\" xlink:href=\"#m21cd868c27\" y=\"224.64\"/>\r\n      </g>\r\n     </g>\r\n     <g id=\"text_2\">\r\n      <!-- -1 -->\r\n      <g transform=\"translate(222.534375 241.610312)rotate(-90)scale(0.1 -0.1)\">\r\n       <defs>\r\n        <path d=\"M 4.890625 31.390625 \r\nL 31.203125 31.390625 \r\nL 31.203125 23.390625 \r\nL 4.890625 23.390625 \r\nz\r\n\" id=\"DejaVuSans-45\"/>\r\n       </defs>\r\n       <use xlink:href=\"#DejaVuSans-45\"/>\r\n       <use x=\"36.083984\" xlink:href=\"#DejaVuSans-49\"/>\r\n      </g>\r\n     </g>\r\n    </g>\r\n    <g id=\"xtick_3\">\r\n     <g id=\"line2d_3\">\r\n      <g>\r\n       <use style=\"stroke:#000000;stroke-width:0.8;\" x=\"331.375\" xlink:href=\"#m21cd868c27\" y=\"224.64\"/>\r\n      </g>\r\n     </g>\r\n     <g id=\"text_3\">\r\n      <!-- 0 -->\r\n      <g transform=\"translate(334.134375 238.0025)rotate(-90)scale(0.1 -0.1)\">\r\n       <defs>\r\n        <path d=\"M 31.78125 66.40625 \r\nQ 24.171875 66.40625 20.328125 58.90625 \r\nQ 16.5 51.421875 16.5 36.375 \r\nQ 16.5 21.390625 20.328125 13.890625 \r\nQ 24.171875 6.390625 31.78125 6.390625 \r\nQ 39.453125 6.390625 43.28125 13.890625 \r\nQ 47.125 21.390625 47.125 36.375 \r\nQ 47.125 51.421875 43.28125 58.90625 \r\nQ 39.453125 66.40625 31.78125 66.40625 \r\nz\r\nM 31.78125 74.21875 \r\nQ 44.046875 74.21875 50.515625 64.515625 \r\nQ 56.984375 54.828125 56.984375 36.375 \r\nQ 56.984375 17.96875 50.515625 8.265625 \r\nQ 44.046875 -1.421875 31.78125 -1.421875 \r\nQ 19.53125 -1.421875 13.0625 8.265625 \r\nQ 6.59375 17.96875 6.59375 36.375 \r\nQ 6.59375 54.828125 13.0625 64.515625 \r\nQ 19.53125 74.21875 31.78125 74.21875 \r\nz\r\n\" id=\"DejaVuSans-48\"/>\r\n       </defs>\r\n       <use xlink:href=\"#DejaVuSans-48\"/>\r\n      </g>\r\n     </g>\r\n    </g>\r\n   </g>\r\n   <g id=\"matplotlib.axis_2\">\r\n    <g id=\"ytick_1\">\r\n     <g id=\"line2d_4\">\r\n      <defs>\r\n       <path d=\"M 0 0 \r\nL -3.5 0 \r\n\" id=\"mc9c14fb476\" style=\"stroke:#000000;stroke-width:0.8;\"/>\r\n      </defs>\r\n      <g>\r\n       <use style=\"stroke:#000000;stroke-width:0.8;\" x=\"52.375\" xlink:href=\"#mc9c14fb476\" y=\"224.64\"/>\r\n      </g>\r\n     </g>\r\n     <g id=\"text_4\">\r\n      <!-- 0 -->\r\n      <g transform=\"translate(39.0125 228.439219)scale(0.1 -0.1)\">\r\n       <use xlink:href=\"#DejaVuSans-48\"/>\r\n      </g>\r\n     </g>\r\n    </g>\r\n    <g id=\"ytick_2\">\r\n     <g id=\"line2d_5\">\r\n      <g>\r\n       <use style=\"stroke:#000000;stroke-width:0.8;\" x=\"52.375\" xlink:href=\"#mc9c14fb476\" y=\"196.969356\"/>\r\n      </g>\r\n     </g>\r\n     <g id=\"text_5\">\r\n      <!-- 20000 -->\r\n      <g transform=\"translate(13.5625 200.768575)scale(0.1 -0.1)\">\r\n       <defs>\r\n        <path d=\"M 19.1875 8.296875 \r\nL 53.609375 8.296875 \r\nL 53.609375 0 \r\nL 7.328125 0 \r\nL 7.328125 8.296875 \r\nQ 12.9375 14.109375 22.625 23.890625 \r\nQ 32.328125 33.6875 34.8125 36.53125 \r\nQ 39.546875 41.84375 41.421875 45.53125 \r\nQ 43.3125 49.21875 43.3125 52.78125 \r\nQ 43.3125 58.59375 39.234375 62.25 \r\nQ 35.15625 65.921875 28.609375 65.921875 \r\nQ 23.96875 65.921875 18.8125 64.3125 \r\nQ 13.671875 62.703125 7.8125 59.421875 \r\nL 7.8125 69.390625 \r\nQ 13.765625 71.78125 18.9375 73 \r\nQ 24.125 74.21875 28.421875 74.21875 \r\nQ 39.75 74.21875 46.484375 68.546875 \r\nQ 53.21875 62.890625 53.21875 53.421875 \r\nQ 53.21875 48.921875 51.53125 44.890625 \r\nQ 49.859375 40.875 45.40625 35.40625 \r\nQ 44.1875 33.984375 37.640625 27.21875 \r\nQ 31.109375 20.453125 19.1875 8.296875 \r\nz\r\n\" id=\"DejaVuSans-50\"/>\r\n       </defs>\r\n       <use xlink:href=\"#DejaVuSans-50\"/>\r\n       <use x=\"63.623047\" xlink:href=\"#DejaVuSans-48\"/>\r\n       <use x=\"127.246094\" xlink:href=\"#DejaVuSans-48\"/>\r\n       <use x=\"190.869141\" xlink:href=\"#DejaVuSans-48\"/>\r\n       <use x=\"254.492188\" xlink:href=\"#DejaVuSans-48\"/>\r\n      </g>\r\n     </g>\r\n    </g>\r\n    <g id=\"ytick_3\">\r\n     <g id=\"line2d_6\">\r\n      <g>\r\n       <use style=\"stroke:#000000;stroke-width:0.8;\" x=\"52.375\" xlink:href=\"#mc9c14fb476\" y=\"169.298713\"/>\r\n      </g>\r\n     </g>\r\n     <g id=\"text_6\">\r\n      <!-- 40000 -->\r\n      <g transform=\"translate(13.5625 173.097931)scale(0.1 -0.1)\">\r\n       <defs>\r\n        <path d=\"M 37.796875 64.3125 \r\nL 12.890625 25.390625 \r\nL 37.796875 25.390625 \r\nz\r\nM 35.203125 72.90625 \r\nL 47.609375 72.90625 \r\nL 47.609375 25.390625 \r\nL 58.015625 25.390625 \r\nL 58.015625 17.1875 \r\nL 47.609375 17.1875 \r\nL 47.609375 0 \r\nL 37.796875 0 \r\nL 37.796875 17.1875 \r\nL 4.890625 17.1875 \r\nL 4.890625 26.703125 \r\nz\r\n\" id=\"DejaVuSans-52\"/>\r\n       </defs>\r\n       <use xlink:href=\"#DejaVuSans-52\"/>\r\n       <use x=\"63.623047\" xlink:href=\"#DejaVuSans-48\"/>\r\n       <use x=\"127.246094\" xlink:href=\"#DejaVuSans-48\"/>\r\n       <use x=\"190.869141\" xlink:href=\"#DejaVuSans-48\"/>\r\n       <use x=\"254.492188\" xlink:href=\"#DejaVuSans-48\"/>\r\n      </g>\r\n     </g>\r\n    </g>\r\n    <g id=\"ytick_4\">\r\n     <g id=\"line2d_7\">\r\n      <g>\r\n       <use style=\"stroke:#000000;stroke-width:0.8;\" x=\"52.375\" xlink:href=\"#mc9c14fb476\" y=\"141.628069\"/>\r\n      </g>\r\n     </g>\r\n     <g id=\"text_7\">\r\n      <!-- 60000 -->\r\n      <g transform=\"translate(13.5625 145.427288)scale(0.1 -0.1)\">\r\n       <defs>\r\n        <path d=\"M 33.015625 40.375 \r\nQ 26.375 40.375 22.484375 35.828125 \r\nQ 18.609375 31.296875 18.609375 23.390625 \r\nQ 18.609375 15.53125 22.484375 10.953125 \r\nQ 26.375 6.390625 33.015625 6.390625 \r\nQ 39.65625 6.390625 43.53125 10.953125 \r\nQ 47.40625 15.53125 47.40625 23.390625 \r\nQ 47.40625 31.296875 43.53125 35.828125 \r\nQ 39.65625 40.375 33.015625 40.375 \r\nz\r\nM 52.59375 71.296875 \r\nL 52.59375 62.3125 \r\nQ 48.875 64.0625 45.09375 64.984375 \r\nQ 41.3125 65.921875 37.59375 65.921875 \r\nQ 27.828125 65.921875 22.671875 59.328125 \r\nQ 17.53125 52.734375 16.796875 39.40625 \r\nQ 19.671875 43.65625 24.015625 45.921875 \r\nQ 28.375 48.1875 33.59375 48.1875 \r\nQ 44.578125 48.1875 50.953125 41.515625 \r\nQ 57.328125 34.859375 57.328125 23.390625 \r\nQ 57.328125 12.15625 50.6875 5.359375 \r\nQ 44.046875 -1.421875 33.015625 -1.421875 \r\nQ 20.359375 -1.421875 13.671875 8.265625 \r\nQ 6.984375 17.96875 6.984375 36.375 \r\nQ 6.984375 53.65625 15.1875 63.9375 \r\nQ 23.390625 74.21875 37.203125 74.21875 \r\nQ 40.921875 74.21875 44.703125 73.484375 \r\nQ 48.484375 72.75 52.59375 71.296875 \r\nz\r\n\" id=\"DejaVuSans-54\"/>\r\n       </defs>\r\n       <use xlink:href=\"#DejaVuSans-54\"/>\r\n       <use x=\"63.623047\" xlink:href=\"#DejaVuSans-48\"/>\r\n       <use x=\"127.246094\" xlink:href=\"#DejaVuSans-48\"/>\r\n       <use x=\"190.869141\" xlink:href=\"#DejaVuSans-48\"/>\r\n       <use x=\"254.492188\" xlink:href=\"#DejaVuSans-48\"/>\r\n      </g>\r\n     </g>\r\n    </g>\r\n    <g id=\"ytick_5\">\r\n     <g id=\"line2d_8\">\r\n      <g>\r\n       <use style=\"stroke:#000000;stroke-width:0.8;\" x=\"52.375\" xlink:href=\"#mc9c14fb476\" y=\"113.957425\"/>\r\n      </g>\r\n     </g>\r\n     <g id=\"text_8\">\r\n      <!-- 80000 -->\r\n      <g transform=\"translate(13.5625 117.756644)scale(0.1 -0.1)\">\r\n       <defs>\r\n        <path d=\"M 31.78125 34.625 \r\nQ 24.75 34.625 20.71875 30.859375 \r\nQ 16.703125 27.09375 16.703125 20.515625 \r\nQ 16.703125 13.921875 20.71875 10.15625 \r\nQ 24.75 6.390625 31.78125 6.390625 \r\nQ 38.8125 6.390625 42.859375 10.171875 \r\nQ 46.921875 13.96875 46.921875 20.515625 \r\nQ 46.921875 27.09375 42.890625 30.859375 \r\nQ 38.875 34.625 31.78125 34.625 \r\nz\r\nM 21.921875 38.8125 \r\nQ 15.578125 40.375 12.03125 44.71875 \r\nQ 8.5 49.078125 8.5 55.328125 \r\nQ 8.5 64.0625 14.71875 69.140625 \r\nQ 20.953125 74.21875 31.78125 74.21875 \r\nQ 42.671875 74.21875 48.875 69.140625 \r\nQ 55.078125 64.0625 55.078125 55.328125 \r\nQ 55.078125 49.078125 51.53125 44.71875 \r\nQ 48 40.375 41.703125 38.8125 \r\nQ 48.828125 37.15625 52.796875 32.3125 \r\nQ 56.78125 27.484375 56.78125 20.515625 \r\nQ 56.78125 9.90625 50.3125 4.234375 \r\nQ 43.84375 -1.421875 31.78125 -1.421875 \r\nQ 19.734375 -1.421875 13.25 4.234375 \r\nQ 6.78125 9.90625 6.78125 20.515625 \r\nQ 6.78125 27.484375 10.78125 32.3125 \r\nQ 14.796875 37.15625 21.921875 38.8125 \r\nz\r\nM 18.3125 54.390625 \r\nQ 18.3125 48.734375 21.84375 45.5625 \r\nQ 25.390625 42.390625 31.78125 42.390625 \r\nQ 38.140625 42.390625 41.71875 45.5625 \r\nQ 45.3125 48.734375 45.3125 54.390625 \r\nQ 45.3125 60.0625 41.71875 63.234375 \r\nQ 38.140625 66.40625 31.78125 66.40625 \r\nQ 25.390625 66.40625 21.84375 63.234375 \r\nQ 18.3125 60.0625 18.3125 54.390625 \r\nz\r\n\" id=\"DejaVuSans-56\"/>\r\n       </defs>\r\n       <use xlink:href=\"#DejaVuSans-56\"/>\r\n       <use x=\"63.623047\" xlink:href=\"#DejaVuSans-48\"/>\r\n       <use x=\"127.246094\" xlink:href=\"#DejaVuSans-48\"/>\r\n       <use x=\"190.869141\" xlink:href=\"#DejaVuSans-48\"/>\r\n       <use x=\"254.492188\" xlink:href=\"#DejaVuSans-48\"/>\r\n      </g>\r\n     </g>\r\n    </g>\r\n    <g id=\"ytick_6\">\r\n     <g id=\"line2d_9\">\r\n      <g>\r\n       <use style=\"stroke:#000000;stroke-width:0.8;\" x=\"52.375\" xlink:href=\"#mc9c14fb476\" y=\"86.286781\"/>\r\n      </g>\r\n     </g>\r\n     <g id=\"text_9\">\r\n      <!-- 100000 -->\r\n      <g transform=\"translate(7.2 90.086)scale(0.1 -0.1)\">\r\n       <use xlink:href=\"#DejaVuSans-49\"/>\r\n       <use x=\"63.623047\" xlink:href=\"#DejaVuSans-48\"/>\r\n       <use x=\"127.246094\" xlink:href=\"#DejaVuSans-48\"/>\r\n       <use x=\"190.869141\" xlink:href=\"#DejaVuSans-48\"/>\r\n       <use x=\"254.492188\" xlink:href=\"#DejaVuSans-48\"/>\r\n       <use x=\"318.115234\" xlink:href=\"#DejaVuSans-48\"/>\r\n      </g>\r\n     </g>\r\n    </g>\r\n    <g id=\"ytick_7\">\r\n     <g id=\"line2d_10\">\r\n      <g>\r\n       <use style=\"stroke:#000000;stroke-width:0.8;\" x=\"52.375\" xlink:href=\"#mc9c14fb476\" y=\"58.616138\"/>\r\n      </g>\r\n     </g>\r\n     <g id=\"text_10\">\r\n      <!-- 120000 -->\r\n      <g transform=\"translate(7.2 62.415356)scale(0.1 -0.1)\">\r\n       <use xlink:href=\"#DejaVuSans-49\"/>\r\n       <use x=\"63.623047\" xlink:href=\"#DejaVuSans-50\"/>\r\n       <use x=\"127.246094\" xlink:href=\"#DejaVuSans-48\"/>\r\n       <use x=\"190.869141\" xlink:href=\"#DejaVuSans-48\"/>\r\n       <use x=\"254.492188\" xlink:href=\"#DejaVuSans-48\"/>\r\n       <use x=\"318.115234\" xlink:href=\"#DejaVuSans-48\"/>\r\n      </g>\r\n     </g>\r\n    </g>\r\n    <g id=\"ytick_8\">\r\n     <g id=\"line2d_11\">\r\n      <g>\r\n       <use style=\"stroke:#000000;stroke-width:0.8;\" x=\"52.375\" xlink:href=\"#mc9c14fb476\" y=\"30.945494\"/>\r\n      </g>\r\n     </g>\r\n     <g id=\"text_11\">\r\n      <!-- 140000 -->\r\n      <g transform=\"translate(7.2 34.744713)scale(0.1 -0.1)\">\r\n       <use xlink:href=\"#DejaVuSans-49\"/>\r\n       <use x=\"63.623047\" xlink:href=\"#DejaVuSans-52\"/>\r\n       <use x=\"127.246094\" xlink:href=\"#DejaVuSans-48\"/>\r\n       <use x=\"190.869141\" xlink:href=\"#DejaVuSans-48\"/>\r\n       <use x=\"254.492188\" xlink:href=\"#DejaVuSans-48\"/>\r\n       <use x=\"318.115234\" xlink:href=\"#DejaVuSans-48\"/>\r\n      </g>\r\n     </g>\r\n    </g>\r\n   </g>\r\n   <g id=\"patch_6\">\r\n    <path d=\"M 52.375 224.64 \r\nL 52.375 7.2 \r\n\" style=\"fill:none;stroke:#000000;stroke-linecap:square;stroke-linejoin:miter;stroke-width:0.8;\"/>\r\n   </g>\r\n   <g id=\"patch_7\">\r\n    <path d=\"M 387.175 224.64 \r\nL 387.175 7.2 \r\n\" style=\"fill:none;stroke:#000000;stroke-linecap:square;stroke-linejoin:miter;stroke-width:0.8;\"/>\r\n   </g>\r\n   <g id=\"patch_8\">\r\n    <path d=\"M 52.375 224.64 \r\nL 387.175 224.64 \r\n\" style=\"fill:none;stroke:#000000;stroke-linecap:square;stroke-linejoin:miter;stroke-width:0.8;\"/>\r\n   </g>\r\n   <g id=\"patch_9\">\r\n    <path d=\"M 52.375 7.2 \r\nL 387.175 7.2 \r\n\" style=\"fill:none;stroke:#000000;stroke-linecap:square;stroke-linejoin:miter;stroke-width:0.8;\"/>\r\n   </g>\r\n  </g>\r\n </g>\r\n <defs>\r\n  <clipPath id=\"p8eed9f40c0\">\r\n   <rect height=\"217.44\" width=\"334.8\" x=\"52.375\" y=\"7.2\"/>\r\n  </clipPath>\r\n </defs>\r\n</svg>\r\n",
      "text/plain": [
       "<Figure size 432x288 with 1 Axes>"
      ]
     },
     "metadata": {
      "needs_background": "light"
     }
    }
   ],
   "metadata": {}
  },
  {
   "cell_type": "markdown",
   "source": [
    "## 04. 토큰화 및 벡터화"
   ],
   "metadata": {}
  },
  {
   "cell_type": "markdown",
   "source": [
    "### - 토큰화"
   ],
   "metadata": {}
  },
  {
   "cell_type": "code",
   "execution_count": 84,
   "source": [
    "stopwords = ['의', '가', '이', '은', '들', '는', '좀', '잘', '걍', '과', '도', '를', '으로', '자', '에', '와', '한', '하다']"
   ],
   "outputs": [],
   "metadata": {}
  },
  {
   "cell_type": "code",
   "execution_count": 87,
   "source": [
    "import konlpy \r\n",
    "from konlpy.tag import Okt \r\n",
    "okt = Okt() \r\n",
    "X_train = [] \r\n",
    "for sentence in train_x:\r\n",
    "    temp_X = [] \r\n",
    "    temp_X = okt.morphs(sentence, stem=True) # 토큰화 \r\n",
    "    temp_X = [word for word in temp_X if not word in stopwords] # 불용어 제거 \r\n",
    "    X_train.append(temp_X) \r\n",
    "    \r\n",
    "X_test = [] \r\n",
    "for sentence in test_x:\r\n",
    "    temp_X = [] \r\n",
    "    temp_X = okt.morphs(sentence, stem=True) # 토큰화 \r\n",
    "    temp_X = [word for word in temp_X if not word in stopwords] # 불용어 제거 \r\n",
    "    X_test.append(temp_X)\r\n"
   ],
   "outputs": [],
   "metadata": {}
  },
  {
   "cell_type": "code",
   "execution_count": 88,
   "source": [
    "print(X_train[:3]) # 확인"
   ],
   "outputs": [
    {
     "output_type": "stream",
     "name": "stdout",
     "text": [
      "[['캠핑', '가다', '자다', '사용', '!'], ['너무', '좋다', '지금', '바로', '구매', '아이스', '아메리카노', '베다', '티', '로', '시원하다', '말다', '있다', 'ㅎ', '다음', '또', '구매'], ['롤']]\n"
     ]
    }
   ],
   "metadata": {}
  },
  {
   "cell_type": "markdown",
   "source": [
    "### - 정수 인코딩"
   ],
   "metadata": {}
  },
  {
   "cell_type": "code",
   "execution_count": 89,
   "source": [
    "# 정수 인코딩\r\n",
    "from keras.preprocessing.text import Tokenizer \r\n",
    "max_words = 35000 \r\n",
    "tokenizer = Tokenizer(num_words = max_words) \r\n",
    "tokenizer.fit_on_texts(X_train) \r\n",
    "X_train = tokenizer.texts_to_sequences(X_train) \r\n",
    "X_test = tokenizer.texts_to_sequences(X_test)"
   ],
   "outputs": [],
   "metadata": {}
  },
  {
   "cell_type": "markdown",
   "source": [
    "### - 데이터 분포확인"
   ],
   "metadata": {}
  },
  {
   "cell_type": "code",
   "execution_count": 97,
   "source": [
    "print(\"train 최대 길이 : \", max(len(l) for l in X_train)) \r\n",
    "print(\"train 평균 길이 : \", sum(map(len, X_train))/ len(X_train)) \r\n",
    "\r\n",
    "plt.xlim([0, 100]) \r\n",
    "plt.hist([len(s) for s in X_train], bins=50) \r\n",
    "plt.xlabel('length of Data') \r\n",
    "plt.ylabel('number of Data') \r\n",
    "plt.show()"
   ],
   "outputs": [
    {
     "output_type": "stream",
     "name": "stdout",
     "text": [
      "train 최대 길이 :  3291\n",
      "train 평균 길이 :  13.917956443403602\n"
     ]
    },
    {
     "output_type": "display_data",
     "data": {
      "image/png": "[encoded data removed]",
      "image/svg+xml": "<?xml version=\"1.0\" encoding=\"utf-8\" standalone=\"no\"?>\r\n<!DOCTYPE svg PUBLIC \"-//W3C//DTD SVG 1.1//EN\"\r\n  \"http://www.w3.org/Graphics/SVG/1.1/DTD/svg11.dtd\">\r\n<!-- Created with matplotlib (https://matplotlib.org/) -->\r\n<svg height=\"262.19625pt\" version=\"1.1\" viewBox=\"0 0 417.596875 262.19625\" width=\"417.596875pt\" xmlns=\"http://www.w3.org/2000/svg\" xmlns:xlink=\"http://www.w3.org/1999/xlink\">\r\n <metadata>\r\n  <rdf:RDF xmlns:cc=\"http://creativecommons.org/ns#\" xmlns:dc=\"http://purl.org/dc/elements/1.1/\" xmlns:rdf=\"http://www.w3.org/1999/02/22-rdf-syntax-ns#\">\r\n   <cc:Work>\r\n    <dc:type rdf:resource=\"http://purl.org/dc/dcmitype/StillImage\"/>\r\n    <dc:date>2021-09-05T17:20:00.249612</dc:date>\r\n    <dc:format>image/svg+xml</dc:format>\r\n    <dc:creator>\r\n     <cc:Agent>\r\n      <dc:title>Matplotlib v3.3.4, https://matplotlib.org/</dc:title>\r\n     </cc:Agent>\r\n    </dc:creator>\r\n   </cc:Work>\r\n  </rdf:RDF>\r\n </metadata>\r\n <defs>\r\n  <style type=\"text/css\">*{stroke-linecap:butt;stroke-linejoin:round;}</style>\r\n </defs>\r\n <g id=\"figure_1\">\r\n  <g id=\"patch_1\">\r\n   <path d=\"M 0 262.19625 \r\nL 417.596875 262.19625 \r\nL 417.596875 0 \r\nL 0 0 \r\nz\r\n\" style=\"fill:none;\"/>\r\n  </g>\r\n  <g id=\"axes_1\">\r\n   <g id=\"patch_2\">\r\n    <path d=\"M 66.053125 224.64 \r\nL 400.853125 224.64 \r\nL 400.853125 7.2 \r\nL 66.053125 7.2 \r\nz\r\n\" style=\"fill:#ffffff;\"/>\r\n   </g>\r\n   <g id=\"patch_3\">\r\n    <path clip-path=\"url(#p63a3aced7f)\" d=\"M 66.053125 224.64 \r\nL 286.418485 224.64 \r\nL 286.418485 17.554286 \r\nL 66.053125 17.554286 \r\nz\r\n\" style=\"fill:#1f77b4;\"/>\r\n   </g>\r\n   <g id=\"patch_4\">\r\n    <path clip-path=\"url(#p63a3aced7f)\" d=\"M 286.418485 224.64 \r\nL 506.783845 224.64 \r\nL 506.783845 224.355382 \r\nL 286.418485 224.355382 \r\nz\r\n\" style=\"fill:#1f77b4;\"/>\r\n   </g>\r\n   <g id=\"patch_5\">\r\n    <path clip-path=\"url(#p63a3aced7f)\" d=\"M 506.783845 224.64 \r\nL 727.149205 224.64 \r\nL 727.149205 224.612164 \r\nL 506.783845 224.612164 \r\nz\r\n\" style=\"fill:#1f77b4;\"/>\r\n   </g>\r\n   <g id=\"patch_6\">\r\n    <path clip-path=\"url(#p63a3aced7f)\" d=\"M 727.149205 224.64 \r\nL 947.514565 224.64 \r\nL 947.514565 224.635129 \r\nL 727.149205 224.635129 \r\nz\r\n\" style=\"fill:#1f77b4;\"/>\r\n   </g>\r\n   <g id=\"patch_7\">\r\n    <path clip-path=\"url(#p63a3aced7f)\" d=\"M 947.514565 224.64 \r\nL 1167.879925 224.64 \r\nL 1167.879925 224.637912 \r\nL 947.514565 224.637912 \r\nz\r\n\" style=\"fill:#1f77b4;\"/>\r\n   </g>\r\n   <g id=\"patch_8\">\r\n    <path clip-path=\"url(#p63a3aced7f)\" d=\"M 1167.879925 224.64 \r\nL 1388.245285 224.64 \r\nL 1388.245285 224.639304 \r\nL 1167.879925 224.639304 \r\nz\r\n\" style=\"fill:#1f77b4;\"/>\r\n   </g>\r\n   <g id=\"patch_9\">\r\n    <path clip-path=\"url(#p63a3aced7f)\" d=\"M 1388.245285 224.64 \r\nL 1608.610645 224.64 \r\nL 1608.610645 224.64 \r\nL 1388.245285 224.64 \r\nz\r\n\" style=\"fill:#1f77b4;\"/>\r\n   </g>\r\n   <g id=\"patch_10\">\r\n    <path clip-path=\"url(#p63a3aced7f)\" d=\"M 1608.610645 224.64 \r\nL 1828.976005 224.64 \r\nL 1828.976005 224.64 \r\nL 1608.610645 224.64 \r\nz\r\n\" style=\"fill:#1f77b4;\"/>\r\n   </g>\r\n   <g id=\"patch_11\">\r\n    <path clip-path=\"url(#p63a3aced7f)\" d=\"M 1828.976005 224.64 \r\nL 2049.341365 224.64 \r\nL 2049.341365 224.64 \r\nL 1828.976005 224.64 \r\nz\r\n\" style=\"fill:#1f77b4;\"/>\r\n   </g>\r\n   <g id=\"patch_12\">\r\n    <path clip-path=\"url(#p63a3aced7f)\" d=\"M 2049.341365 224.64 \r\nL 2269.706725 224.64 \r\nL 2269.706725 224.64 \r\nL 2049.341365 224.64 \r\nz\r\n\" style=\"fill:#1f77b4;\"/>\r\n   </g>\r\n   <g id=\"patch_13\">\r\n    <path clip-path=\"url(#p63a3aced7f)\" d=\"M 2269.706725 224.64 \r\nL 2490.072085 224.64 \r\nL 2490.072085 224.64 \r\nL 2269.706725 224.64 \r\nz\r\n\" style=\"fill:#1f77b4;\"/>\r\n   </g>\r\n   <g id=\"patch_14\">\r\n    <path clip-path=\"url(#p63a3aced7f)\" d=\"M 2490.072085 224.64 \r\nL 2710.437445 224.64 \r\nL 2710.437445 224.64 \r\nL 2490.072085 224.64 \r\nz\r\n\" style=\"fill:#1f77b4;\"/>\r\n   </g>\r\n   <g id=\"patch_15\">\r\n    <path clip-path=\"url(#p63a3aced7f)\" d=\"M 2710.437445 224.64 \r\nL 2930.802805 224.64 \r\nL 2930.802805 224.64 \r\nL 2710.437445 224.64 \r\nz\r\n\" style=\"fill:#1f77b4;\"/>\r\n   </g>\r\n   <g id=\"patch_16\">\r\n    <path clip-path=\"url(#p63a3aced7f)\" d=\"M 2930.802805 224.64 \r\nL 3151.168165 224.64 \r\nL 3151.168165 224.64 \r\nL 2930.802805 224.64 \r\nz\r\n\" style=\"fill:#1f77b4;\"/>\r\n   </g>\r\n   <g id=\"patch_17\">\r\n    <path clip-path=\"url(#p63a3aced7f)\" d=\"M 3151.168165 224.64 \r\nL 3371.533525 224.64 \r\nL 3371.533525 224.639304 \r\nL 3151.168165 224.639304 \r\nz\r\n\" style=\"fill:#1f77b4;\"/>\r\n   </g>\r\n   <g id=\"patch_18\">\r\n    <path clip-path=\"url(#p63a3aced7f)\" d=\"M 3371.533525 224.64 \r\nL 3591.898885 224.64 \r\nL 3591.898885 224.64 \r\nL 3371.533525 224.64 \r\nz\r\n\" style=\"fill:#1f77b4;\"/>\r\n   </g>\r\n   <g id=\"patch_19\">\r\n    <path clip-path=\"url(#p63a3aced7f)\" d=\"M 3591.898885 224.64 \r\nL 3812.264245 224.64 \r\nL 3812.264245 224.64 \r\nL 3591.898885 224.64 \r\nz\r\n\" style=\"fill:#1f77b4;\"/>\r\n   </g>\r\n   <g id=\"patch_20\">\r\n    <path clip-path=\"url(#p63a3aced7f)\" d=\"M 3812.264245 224.64 \r\nL 4032.629605 224.64 \r\nL 4032.629605 224.64 \r\nL 3812.264245 224.64 \r\nz\r\n\" style=\"fill:#1f77b4;\"/>\r\n   </g>\r\n   <g id=\"patch_21\">\r\n    <path clip-path=\"url(#p63a3aced7f)\" d=\"M 4032.629605 224.64 \r\nL 4252.994965 224.64 \r\nL 4252.994965 224.639304 \r\nL 4032.629605 224.639304 \r\nz\r\n\" style=\"fill:#1f77b4;\"/>\r\n   </g>\r\n   <g id=\"patch_22\">\r\n    <path clip-path=\"url(#p63a3aced7f)\" d=\"M 4252.994965 224.64 \r\nL 4473.360325 224.64 \r\nL 4473.360325 224.64 \r\nL 4252.994965 224.64 \r\nz\r\n\" style=\"fill:#1f77b4;\"/>\r\n   </g>\r\n   <g id=\"patch_23\">\r\n    <path clip-path=\"url(#p63a3aced7f)\" d=\"M 4473.360325 224.64 \r\nL 4693.725685 224.64 \r\nL 4693.725685 224.64 \r\nL 4473.360325 224.64 \r\nz\r\n\" style=\"fill:#1f77b4;\"/>\r\n   </g>\r\n   <g id=\"patch_24\">\r\n    <path clip-path=\"url(#p63a3aced7f)\" d=\"M 4693.725685 224.64 \r\nL 4914.091045 224.64 \r\nL 4914.091045 224.639304 \r\nL 4693.725685 224.639304 \r\nz\r\n\" style=\"fill:#1f77b4;\"/>\r\n   </g>\r\n   <g id=\"patch_25\">\r\n    <path clip-path=\"url(#p63a3aced7f)\" d=\"M 4914.091045 224.64 \r\nL 5134.456405 224.64 \r\nL 5134.456405 224.64 \r\nL 4914.091045 224.64 \r\nz\r\n\" style=\"fill:#1f77b4;\"/>\r\n   </g>\r\n   <g id=\"patch_26\">\r\n    <path clip-path=\"url(#p63a3aced7f)\" d=\"M 5134.456405 224.64 \r\nL 5354.821765 224.64 \r\nL 5354.821765 224.64 \r\nL 5134.456405 224.64 \r\nz\r\n\" style=\"fill:#1f77b4;\"/>\r\n   </g>\r\n   <g id=\"patch_27\">\r\n    <path clip-path=\"url(#p63a3aced7f)\" d=\"M 5354.821765 224.64 \r\nL 5575.187125 224.64 \r\nL 5575.187125 224.64 \r\nL 5354.821765 224.64 \r\nz\r\n\" style=\"fill:#1f77b4;\"/>\r\n   </g>\r\n   <g id=\"patch_28\">\r\n    <path clip-path=\"url(#p63a3aced7f)\" d=\"M 5575.187125 224.64 \r\nL 5795.552485 224.64 \r\nL 5795.552485 224.64 \r\nL 5575.187125 224.64 \r\nz\r\n\" style=\"fill:#1f77b4;\"/>\r\n   </g>\r\n   <g id=\"patch_29\">\r\n    <path clip-path=\"url(#p63a3aced7f)\" d=\"M 5795.552485 224.64 \r\nL 6015.917845 224.64 \r\nL 6015.917845 224.64 \r\nL 5795.552485 224.64 \r\nz\r\n\" style=\"fill:#1f77b4;\"/>\r\n   </g>\r\n   <g id=\"patch_30\">\r\n    <path clip-path=\"url(#p63a3aced7f)\" d=\"M 6015.917845 224.64 \r\nL 6236.283205 224.64 \r\nL 6236.283205 224.64 \r\nL 6015.917845 224.64 \r\nz\r\n\" style=\"fill:#1f77b4;\"/>\r\n   </g>\r\n   <g id=\"patch_31\">\r\n    <path clip-path=\"url(#p63a3aced7f)\" d=\"M 6236.283205 224.64 \r\nL 6456.648565 224.64 \r\nL 6456.648565 224.64 \r\nL 6236.283205 224.64 \r\nz\r\n\" style=\"fill:#1f77b4;\"/>\r\n   </g>\r\n   <g id=\"patch_32\">\r\n    <path clip-path=\"url(#p63a3aced7f)\" d=\"M 6456.648565 224.64 \r\nL 6677.013925 224.64 \r\nL 6677.013925 224.64 \r\nL 6456.648565 224.64 \r\nz\r\n\" style=\"fill:#1f77b4;\"/>\r\n   </g>\r\n   <g id=\"patch_33\">\r\n    <path clip-path=\"url(#p63a3aced7f)\" d=\"M 6677.013925 224.64 \r\nL 6897.379285 224.64 \r\nL 6897.379285 224.64 \r\nL 6677.013925 224.64 \r\nz\r\n\" style=\"fill:#1f77b4;\"/>\r\n   </g>\r\n   <g id=\"patch_34\">\r\n    <path clip-path=\"url(#p63a3aced7f)\" d=\"M 6897.379285 224.64 \r\nL 7117.744645 224.64 \r\nL 7117.744645 224.64 \r\nL 6897.379285 224.64 \r\nz\r\n\" style=\"fill:#1f77b4;\"/>\r\n   </g>\r\n   <g id=\"patch_35\">\r\n    <path clip-path=\"url(#p63a3aced7f)\" d=\"M 7117.744645 224.64 \r\nL 7338.110005 224.64 \r\nL 7338.110005 224.64 \r\nL 7117.744645 224.64 \r\nz\r\n\" style=\"fill:#1f77b4;\"/>\r\n   </g>\r\n   <g id=\"patch_36\">\r\n    <path clip-path=\"url(#p63a3aced7f)\" d=\"M 7338.110005 224.64 \r\nL 7558.475365 224.64 \r\nL 7558.475365 224.64 \r\nL 7338.110005 224.64 \r\nz\r\n\" style=\"fill:#1f77b4;\"/>\r\n   </g>\r\n   <g id=\"patch_37\">\r\n    <path clip-path=\"url(#p63a3aced7f)\" d=\"M 7558.475365 224.64 \r\nL 7778.840725 224.64 \r\nL 7778.840725 224.64 \r\nL 7558.475365 224.64 \r\nz\r\n\" style=\"fill:#1f77b4;\"/>\r\n   </g>\r\n   <g id=\"patch_38\">\r\n    <path clip-path=\"url(#p63a3aced7f)\" d=\"M 7778.840725 224.64 \r\nL 7999.206085 224.64 \r\nL 7999.206085 224.64 \r\nL 7778.840725 224.64 \r\nz\r\n\" style=\"fill:#1f77b4;\"/>\r\n   </g>\r\n   <g id=\"patch_39\">\r\n    <path clip-path=\"url(#p63a3aced7f)\" d=\"M 7999.206085 224.64 \r\nL 8219.571445 224.64 \r\nL 8219.571445 224.64 \r\nL 7999.206085 224.64 \r\nz\r\n\" style=\"fill:#1f77b4;\"/>\r\n   </g>\r\n   <g id=\"patch_40\">\r\n    <path clip-path=\"url(#p63a3aced7f)\" d=\"M 8219.571445 224.64 \r\nL 8439.936805 224.64 \r\nL 8439.936805 224.64 \r\nL 8219.571445 224.64 \r\nz\r\n\" style=\"fill:#1f77b4;\"/>\r\n   </g>\r\n   <g id=\"patch_41\">\r\n    <path clip-path=\"url(#p63a3aced7f)\" d=\"M 8439.936805 224.64 \r\nL 8660.302165 224.64 \r\nL 8660.302165 224.64 \r\nL 8439.936805 224.64 \r\nz\r\n\" style=\"fill:#1f77b4;\"/>\r\n   </g>\r\n   <g id=\"patch_42\">\r\n    <path clip-path=\"url(#p63a3aced7f)\" d=\"M 8660.302165 224.64 \r\nL 8880.667525 224.64 \r\nL 8880.667525 224.64 \r\nL 8660.302165 224.64 \r\nz\r\n\" style=\"fill:#1f77b4;\"/>\r\n   </g>\r\n   <g id=\"patch_43\">\r\n    <path clip-path=\"url(#p63a3aced7f)\" d=\"M 8880.667525 224.64 \r\nL 9101.032885 224.64 \r\nL 9101.032885 224.64 \r\nL 8880.667525 224.64 \r\nz\r\n\" style=\"fill:#1f77b4;\"/>\r\n   </g>\r\n   <g id=\"patch_44\">\r\n    <path clip-path=\"url(#p63a3aced7f)\" d=\"M 9101.032885 224.64 \r\nL 9321.398245 224.64 \r\nL 9321.398245 224.64 \r\nL 9101.032885 224.64 \r\nz\r\n\" style=\"fill:#1f77b4;\"/>\r\n   </g>\r\n   <g id=\"patch_45\">\r\n    <path clip-path=\"url(#p63a3aced7f)\" d=\"M 9321.398245 224.64 \r\nL 9541.763605 224.64 \r\nL 9541.763605 224.64 \r\nL 9321.398245 224.64 \r\nz\r\n\" style=\"fill:#1f77b4;\"/>\r\n   </g>\r\n   <g id=\"patch_46\">\r\n    <path clip-path=\"url(#p63a3aced7f)\" d=\"M 9541.763605 224.64 \r\nL 9762.128965 224.64 \r\nL 9762.128965 224.64 \r\nL 9541.763605 224.64 \r\nz\r\n\" style=\"fill:#1f77b4;\"/>\r\n   </g>\r\n   <g id=\"patch_47\">\r\n    <path clip-path=\"url(#p63a3aced7f)\" d=\"M 9762.128965 224.64 \r\nL 9982.494325 224.64 \r\nL 9982.494325 224.64 \r\nL 9762.128965 224.64 \r\nz\r\n\" style=\"fill:#1f77b4;\"/>\r\n   </g>\r\n   <g id=\"patch_48\">\r\n    <path clip-path=\"url(#p63a3aced7f)\" d=\"M 9982.494325 224.64 \r\nL 10202.859685 224.64 \r\nL 10202.859685 224.64 \r\nL 9982.494325 224.64 \r\nz\r\n\" style=\"fill:#1f77b4;\"/>\r\n   </g>\r\n   <g id=\"patch_49\">\r\n    <path clip-path=\"url(#p63a3aced7f)\" d=\"M 10202.859685 224.64 \r\nL 10423.225045 224.64 \r\nL 10423.225045 224.64 \r\nL 10202.859685 224.64 \r\nz\r\n\" style=\"fill:#1f77b4;\"/>\r\n   </g>\r\n   <g id=\"patch_50\">\r\n    <path clip-path=\"url(#p63a3aced7f)\" d=\"M 10423.225045 224.64 \r\nL 10643.590405 224.64 \r\nL 10643.590405 224.64 \r\nL 10423.225045 224.64 \r\nz\r\n\" style=\"fill:#1f77b4;\"/>\r\n   </g>\r\n   <g id=\"patch_51\">\r\n    <path clip-path=\"url(#p63a3aced7f)\" d=\"M 10643.590405 224.64 \r\nL 10863.955765 224.64 \r\nL 10863.955765 224.64 \r\nL 10643.590405 224.64 \r\nz\r\n\" style=\"fill:#1f77b4;\"/>\r\n   </g>\r\n   <g id=\"patch_52\">\r\n    <path clip-path=\"url(#p63a3aced7f)\" d=\"M 10863.955765 224.64 \r\nL 11084.321125 224.64 \r\nL 11084.321125 224.639304 \r\nL 10863.955765 224.639304 \r\nz\r\n\" style=\"fill:#1f77b4;\"/>\r\n   </g>\r\n   <g id=\"matplotlib.axis_1\">\r\n    <g id=\"xtick_1\">\r\n     <g id=\"line2d_1\">\r\n      <defs>\r\n       <path d=\"M 0 0 \r\nL 0 3.5 \r\n\" id=\"m8b6e02223b\" style=\"stroke:#000000;stroke-width:0.8;\"/>\r\n      </defs>\r\n      <g>\r\n       <use style=\"stroke:#000000;stroke-width:0.8;\" x=\"66.053125\" xlink:href=\"#m8b6e02223b\" y=\"224.64\"/>\r\n      </g>\r\n     </g>\r\n     <g id=\"text_1\">\r\n      <!-- 0 -->\r\n      <g transform=\"translate(62.871875 239.238437)scale(0.1 -0.1)\">\r\n       <defs>\r\n        <path d=\"M 31.78125 66.40625 \r\nQ 24.171875 66.40625 20.328125 58.90625 \r\nQ 16.5 51.421875 16.5 36.375 \r\nQ 16.5 21.390625 20.328125 13.890625 \r\nQ 24.171875 6.390625 31.78125 6.390625 \r\nQ 39.453125 6.390625 43.28125 13.890625 \r\nQ 47.125 21.390625 47.125 36.375 \r\nQ 47.125 51.421875 43.28125 58.90625 \r\nQ 39.453125 66.40625 31.78125 66.40625 \r\nz\r\nM 31.78125 74.21875 \r\nQ 44.046875 74.21875 50.515625 64.515625 \r\nQ 56.984375 54.828125 56.984375 36.375 \r\nQ 56.984375 17.96875 50.515625 8.265625 \r\nQ 44.046875 -1.421875 31.78125 -1.421875 \r\nQ 19.53125 -1.421875 13.0625 8.265625 \r\nQ 6.59375 17.96875 6.59375 36.375 \r\nQ 6.59375 54.828125 13.0625 64.515625 \r\nQ 19.53125 74.21875 31.78125 74.21875 \r\nz\r\n\" id=\"DejaVuSans-48\"/>\r\n       </defs>\r\n       <use xlink:href=\"#DejaVuSans-48\"/>\r\n      </g>\r\n     </g>\r\n    </g>\r\n    <g id=\"xtick_2\">\r\n     <g id=\"line2d_2\">\r\n      <g>\r\n       <use style=\"stroke:#000000;stroke-width:0.8;\" x=\"133.013125\" xlink:href=\"#m8b6e02223b\" y=\"224.64\"/>\r\n      </g>\r\n     </g>\r\n     <g id=\"text_2\">\r\n      <!-- 20 -->\r\n      <g transform=\"translate(126.650625 239.238437)scale(0.1 -0.1)\">\r\n       <defs>\r\n        <path d=\"M 19.1875 8.296875 \r\nL 53.609375 8.296875 \r\nL 53.609375 0 \r\nL 7.328125 0 \r\nL 7.328125 8.296875 \r\nQ 12.9375 14.109375 22.625 23.890625 \r\nQ 32.328125 33.6875 34.8125 36.53125 \r\nQ 39.546875 41.84375 41.421875 45.53125 \r\nQ 43.3125 49.21875 43.3125 52.78125 \r\nQ 43.3125 58.59375 39.234375 62.25 \r\nQ 35.15625 65.921875 28.609375 65.921875 \r\nQ 23.96875 65.921875 18.8125 64.3125 \r\nQ 13.671875 62.703125 7.8125 59.421875 \r\nL 7.8125 69.390625 \r\nQ 13.765625 71.78125 18.9375 73 \r\nQ 24.125 74.21875 28.421875 74.21875 \r\nQ 39.75 74.21875 46.484375 68.546875 \r\nQ 53.21875 62.890625 53.21875 53.421875 \r\nQ 53.21875 48.921875 51.53125 44.890625 \r\nQ 49.859375 40.875 45.40625 35.40625 \r\nQ 44.1875 33.984375 37.640625 27.21875 \r\nQ 31.109375 20.453125 19.1875 8.296875 \r\nz\r\n\" id=\"DejaVuSans-50\"/>\r\n       </defs>\r\n       <use xlink:href=\"#DejaVuSans-50\"/>\r\n       <use x=\"63.623047\" xlink:href=\"#DejaVuSans-48\"/>\r\n      </g>\r\n     </g>\r\n    </g>\r\n    <g id=\"xtick_3\">\r\n     <g id=\"line2d_3\">\r\n      <g>\r\n       <use style=\"stroke:#000000;stroke-width:0.8;\" x=\"199.973125\" xlink:href=\"#m8b6e02223b\" y=\"224.64\"/>\r\n      </g>\r\n     </g>\r\n     <g id=\"text_3\">\r\n      <!-- 40 -->\r\n      <g transform=\"translate(193.610625 239.238437)scale(0.1 -0.1)\">\r\n       <defs>\r\n        <path d=\"M 37.796875 64.3125 \r\nL 12.890625 25.390625 \r\nL 37.796875 25.390625 \r\nz\r\nM 35.203125 72.90625 \r\nL 47.609375 72.90625 \r\nL 47.609375 25.390625 \r\nL 58.015625 25.390625 \r\nL 58.015625 17.1875 \r\nL 47.609375 17.1875 \r\nL 47.609375 0 \r\nL 37.796875 0 \r\nL 37.796875 17.1875 \r\nL 4.890625 17.1875 \r\nL 4.890625 26.703125 \r\nz\r\n\" id=\"DejaVuSans-52\"/>\r\n       </defs>\r\n       <use xlink:href=\"#DejaVuSans-52\"/>\r\n       <use x=\"63.623047\" xlink:href=\"#DejaVuSans-48\"/>\r\n      </g>\r\n     </g>\r\n    </g>\r\n    <g id=\"xtick_4\">\r\n     <g id=\"line2d_4\">\r\n      <g>\r\n       <use style=\"stroke:#000000;stroke-width:0.8;\" x=\"266.933125\" xlink:href=\"#m8b6e02223b\" y=\"224.64\"/>\r\n      </g>\r\n     </g>\r\n     <g id=\"text_4\">\r\n      <!-- 60 -->\r\n      <g transform=\"translate(260.570625 239.238437)scale(0.1 -0.1)\">\r\n       <defs>\r\n        <path d=\"M 33.015625 40.375 \r\nQ 26.375 40.375 22.484375 35.828125 \r\nQ 18.609375 31.296875 18.609375 23.390625 \r\nQ 18.609375 15.53125 22.484375 10.953125 \r\nQ 26.375 6.390625 33.015625 6.390625 \r\nQ 39.65625 6.390625 43.53125 10.953125 \r\nQ 47.40625 15.53125 47.40625 23.390625 \r\nQ 47.40625 31.296875 43.53125 35.828125 \r\nQ 39.65625 40.375 33.015625 40.375 \r\nz\r\nM 52.59375 71.296875 \r\nL 52.59375 62.3125 \r\nQ 48.875 64.0625 45.09375 64.984375 \r\nQ 41.3125 65.921875 37.59375 65.921875 \r\nQ 27.828125 65.921875 22.671875 59.328125 \r\nQ 17.53125 52.734375 16.796875 39.40625 \r\nQ 19.671875 43.65625 24.015625 45.921875 \r\nQ 28.375 48.1875 33.59375 48.1875 \r\nQ 44.578125 48.1875 50.953125 41.515625 \r\nQ 57.328125 34.859375 57.328125 23.390625 \r\nQ 57.328125 12.15625 50.6875 5.359375 \r\nQ 44.046875 -1.421875 33.015625 -1.421875 \r\nQ 20.359375 -1.421875 13.671875 8.265625 \r\nQ 6.984375 17.96875 6.984375 36.375 \r\nQ 6.984375 53.65625 15.1875 63.9375 \r\nQ 23.390625 74.21875 37.203125 74.21875 \r\nQ 40.921875 74.21875 44.703125 73.484375 \r\nQ 48.484375 72.75 52.59375 71.296875 \r\nz\r\n\" id=\"DejaVuSans-54\"/>\r\n       </defs>\r\n       <use xlink:href=\"#DejaVuSans-54\"/>\r\n       <use x=\"63.623047\" xlink:href=\"#DejaVuSans-48\"/>\r\n      </g>\r\n     </g>\r\n    </g>\r\n    <g id=\"xtick_5\">\r\n     <g id=\"line2d_5\">\r\n      <g>\r\n       <use style=\"stroke:#000000;stroke-width:0.8;\" x=\"333.893125\" xlink:href=\"#m8b6e02223b\" y=\"224.64\"/>\r\n      </g>\r\n     </g>\r\n     <g id=\"text_5\">\r\n      <!-- 80 -->\r\n      <g transform=\"translate(327.530625 239.238437)scale(0.1 -0.1)\">\r\n       <defs>\r\n        <path d=\"M 31.78125 34.625 \r\nQ 24.75 34.625 20.71875 30.859375 \r\nQ 16.703125 27.09375 16.703125 20.515625 \r\nQ 16.703125 13.921875 20.71875 10.15625 \r\nQ 24.75 6.390625 31.78125 6.390625 \r\nQ 38.8125 6.390625 42.859375 10.171875 \r\nQ 46.921875 13.96875 46.921875 20.515625 \r\nQ 46.921875 27.09375 42.890625 30.859375 \r\nQ 38.875 34.625 31.78125 34.625 \r\nz\r\nM 21.921875 38.8125 \r\nQ 15.578125 40.375 12.03125 44.71875 \r\nQ 8.5 49.078125 8.5 55.328125 \r\nQ 8.5 64.0625 14.71875 69.140625 \r\nQ 20.953125 74.21875 31.78125 74.21875 \r\nQ 42.671875 74.21875 48.875 69.140625 \r\nQ 55.078125 64.0625 55.078125 55.328125 \r\nQ 55.078125 49.078125 51.53125 44.71875 \r\nQ 48 40.375 41.703125 38.8125 \r\nQ 48.828125 37.15625 52.796875 32.3125 \r\nQ 56.78125 27.484375 56.78125 20.515625 \r\nQ 56.78125 9.90625 50.3125 4.234375 \r\nQ 43.84375 -1.421875 31.78125 -1.421875 \r\nQ 19.734375 -1.421875 13.25 4.234375 \r\nQ 6.78125 9.90625 6.78125 20.515625 \r\nQ 6.78125 27.484375 10.78125 32.3125 \r\nQ 14.796875 37.15625 21.921875 38.8125 \r\nz\r\nM 18.3125 54.390625 \r\nQ 18.3125 48.734375 21.84375 45.5625 \r\nQ 25.390625 42.390625 31.78125 42.390625 \r\nQ 38.140625 42.390625 41.71875 45.5625 \r\nQ 45.3125 48.734375 45.3125 54.390625 \r\nQ 45.3125 60.0625 41.71875 63.234375 \r\nQ 38.140625 66.40625 31.78125 66.40625 \r\nQ 25.390625 66.40625 21.84375 63.234375 \r\nQ 18.3125 60.0625 18.3125 54.390625 \r\nz\r\n\" id=\"DejaVuSans-56\"/>\r\n       </defs>\r\n       <use xlink:href=\"#DejaVuSans-56\"/>\r\n       <use x=\"63.623047\" xlink:href=\"#DejaVuSans-48\"/>\r\n      </g>\r\n     </g>\r\n    </g>\r\n    <g id=\"xtick_6\">\r\n     <g id=\"line2d_6\">\r\n      <g>\r\n       <use style=\"stroke:#000000;stroke-width:0.8;\" x=\"400.853125\" xlink:href=\"#m8b6e02223b\" y=\"224.64\"/>\r\n      </g>\r\n     </g>\r\n     <g id=\"text_6\">\r\n      <!-- 100 -->\r\n      <g transform=\"translate(391.309375 239.238437)scale(0.1 -0.1)\">\r\n       <defs>\r\n        <path d=\"M 12.40625 8.296875 \r\nL 28.515625 8.296875 \r\nL 28.515625 63.921875 \r\nL 10.984375 60.40625 \r\nL 10.984375 69.390625 \r\nL 28.421875 72.90625 \r\nL 38.28125 72.90625 \r\nL 38.28125 8.296875 \r\nL 54.390625 8.296875 \r\nL 54.390625 0 \r\nL 12.40625 0 \r\nz\r\n\" id=\"DejaVuSans-49\"/>\r\n       </defs>\r\n       <use xlink:href=\"#DejaVuSans-49\"/>\r\n       <use x=\"63.623047\" xlink:href=\"#DejaVuSans-48\"/>\r\n       <use x=\"127.246094\" xlink:href=\"#DejaVuSans-48\"/>\r\n      </g>\r\n     </g>\r\n    </g>\r\n    <g id=\"text_7\">\r\n     <!-- length of Data -->\r\n     <g transform=\"translate(197.579688 252.916562)scale(0.1 -0.1)\">\r\n      <defs>\r\n       <path d=\"M 9.421875 75.984375 \r\nL 18.40625 75.984375 \r\nL 18.40625 0 \r\nL 9.421875 0 \r\nz\r\n\" id=\"DejaVuSans-108\"/>\r\n       <path d=\"M 56.203125 29.59375 \r\nL 56.203125 25.203125 \r\nL 14.890625 25.203125 \r\nQ 15.484375 15.921875 20.484375 11.0625 \r\nQ 25.484375 6.203125 34.421875 6.203125 \r\nQ 39.59375 6.203125 44.453125 7.46875 \r\nQ 49.3125 8.734375 54.109375 11.28125 \r\nL 54.109375 2.78125 \r\nQ 49.265625 0.734375 44.1875 -0.34375 \r\nQ 39.109375 -1.421875 33.890625 -1.421875 \r\nQ 20.796875 -1.421875 13.15625 6.1875 \r\nQ 5.515625 13.8125 5.515625 26.8125 \r\nQ 5.515625 40.234375 12.765625 48.109375 \r\nQ 20.015625 56 32.328125 56 \r\nQ 43.359375 56 49.78125 48.890625 \r\nQ 56.203125 41.796875 56.203125 29.59375 \r\nz\r\nM 47.21875 32.234375 \r\nQ 47.125 39.59375 43.09375 43.984375 \r\nQ 39.0625 48.390625 32.421875 48.390625 \r\nQ 24.90625 48.390625 20.390625 44.140625 \r\nQ 15.875 39.890625 15.1875 32.171875 \r\nz\r\n\" id=\"DejaVuSans-101\"/>\r\n       <path d=\"M 54.890625 33.015625 \r\nL 54.890625 0 \r\nL 45.90625 0 \r\nL 45.90625 32.71875 \r\nQ 45.90625 40.484375 42.875 44.328125 \r\nQ 39.84375 48.1875 33.796875 48.1875 \r\nQ 26.515625 48.1875 22.3125 43.546875 \r\nQ 18.109375 38.921875 18.109375 30.90625 \r\nL 18.109375 0 \r\nL 9.078125 0 \r\nL 9.078125 54.6875 \r\nL 18.109375 54.6875 \r\nL 18.109375 46.1875 \r\nQ 21.34375 51.125 25.703125 53.5625 \r\nQ 30.078125 56 35.796875 56 \r\nQ 45.21875 56 50.046875 50.171875 \r\nQ 54.890625 44.34375 54.890625 33.015625 \r\nz\r\n\" id=\"DejaVuSans-110\"/>\r\n       <path d=\"M 45.40625 27.984375 \r\nQ 45.40625 37.75 41.375 43.109375 \r\nQ 37.359375 48.484375 30.078125 48.484375 \r\nQ 22.859375 48.484375 18.828125 43.109375 \r\nQ 14.796875 37.75 14.796875 27.984375 \r\nQ 14.796875 18.265625 18.828125 12.890625 \r\nQ 22.859375 7.515625 30.078125 7.515625 \r\nQ 37.359375 7.515625 41.375 12.890625 \r\nQ 45.40625 18.265625 45.40625 27.984375 \r\nz\r\nM 54.390625 6.78125 \r\nQ 54.390625 -7.171875 48.1875 -13.984375 \r\nQ 42 -20.796875 29.203125 -20.796875 \r\nQ 24.46875 -20.796875 20.265625 -20.09375 \r\nQ 16.0625 -19.390625 12.109375 -17.921875 \r\nL 12.109375 -9.1875 \r\nQ 16.0625 -11.328125 19.921875 -12.34375 \r\nQ 23.78125 -13.375 27.78125 -13.375 \r\nQ 36.625 -13.375 41.015625 -8.765625 \r\nQ 45.40625 -4.15625 45.40625 5.171875 \r\nL 45.40625 9.625 \r\nQ 42.625 4.78125 38.28125 2.390625 \r\nQ 33.9375 0 27.875 0 \r\nQ 17.828125 0 11.671875 7.65625 \r\nQ 5.515625 15.328125 5.515625 27.984375 \r\nQ 5.515625 40.671875 11.671875 48.328125 \r\nQ 17.828125 56 27.875 56 \r\nQ 33.9375 56 38.28125 53.609375 \r\nQ 42.625 51.21875 45.40625 46.390625 \r\nL 45.40625 54.6875 \r\nL 54.390625 54.6875 \r\nz\r\n\" id=\"DejaVuSans-103\"/>\r\n       <path d=\"M 18.3125 70.21875 \r\nL 18.3125 54.6875 \r\nL 36.8125 54.6875 \r\nL 36.8125 47.703125 \r\nL 18.3125 47.703125 \r\nL 18.3125 18.015625 \r\nQ 18.3125 11.328125 20.140625 9.421875 \r\nQ 21.96875 7.515625 27.59375 7.515625 \r\nL 36.8125 7.515625 \r\nL 36.8125 0 \r\nL 27.59375 0 \r\nQ 17.1875 0 13.234375 3.875 \r\nQ 9.28125 7.765625 9.28125 18.015625 \r\nL 9.28125 47.703125 \r\nL 2.6875 47.703125 \r\nL 2.6875 54.6875 \r\nL 9.28125 54.6875 \r\nL 9.28125 70.21875 \r\nz\r\n\" id=\"DejaVuSans-116\"/>\r\n       <path d=\"M 54.890625 33.015625 \r\nL 54.890625 0 \r\nL 45.90625 0 \r\nL 45.90625 32.71875 \r\nQ 45.90625 40.484375 42.875 44.328125 \r\nQ 39.84375 48.1875 33.796875 48.1875 \r\nQ 26.515625 48.1875 22.3125 43.546875 \r\nQ 18.109375 38.921875 18.109375 30.90625 \r\nL 18.109375 0 \r\nL 9.078125 0 \r\nL 9.078125 75.984375 \r\nL 18.109375 75.984375 \r\nL 18.109375 46.1875 \r\nQ 21.34375 51.125 25.703125 53.5625 \r\nQ 30.078125 56 35.796875 56 \r\nQ 45.21875 56 50.046875 50.171875 \r\nQ 54.890625 44.34375 54.890625 33.015625 \r\nz\r\n\" id=\"DejaVuSans-104\"/>\r\n       <path id=\"DejaVuSans-32\"/>\r\n       <path d=\"M 30.609375 48.390625 \r\nQ 23.390625 48.390625 19.1875 42.75 \r\nQ 14.984375 37.109375 14.984375 27.296875 \r\nQ 14.984375 17.484375 19.15625 11.84375 \r\nQ 23.34375 6.203125 30.609375 6.203125 \r\nQ 37.796875 6.203125 41.984375 11.859375 \r\nQ 46.1875 17.53125 46.1875 27.296875 \r\nQ 46.1875 37.015625 41.984375 42.703125 \r\nQ 37.796875 48.390625 30.609375 48.390625 \r\nz\r\nM 30.609375 56 \r\nQ 42.328125 56 49.015625 48.375 \r\nQ 55.71875 40.765625 55.71875 27.296875 \r\nQ 55.71875 13.875 49.015625 6.21875 \r\nQ 42.328125 -1.421875 30.609375 -1.421875 \r\nQ 18.84375 -1.421875 12.171875 6.21875 \r\nQ 5.515625 13.875 5.515625 27.296875 \r\nQ 5.515625 40.765625 12.171875 48.375 \r\nQ 18.84375 56 30.609375 56 \r\nz\r\n\" id=\"DejaVuSans-111\"/>\r\n       <path d=\"M 37.109375 75.984375 \r\nL 37.109375 68.5 \r\nL 28.515625 68.5 \r\nQ 23.6875 68.5 21.796875 66.546875 \r\nQ 19.921875 64.59375 19.921875 59.515625 \r\nL 19.921875 54.6875 \r\nL 34.71875 54.6875 \r\nL 34.71875 47.703125 \r\nL 19.921875 47.703125 \r\nL 19.921875 0 \r\nL 10.890625 0 \r\nL 10.890625 47.703125 \r\nL 2.296875 47.703125 \r\nL 2.296875 54.6875 \r\nL 10.890625 54.6875 \r\nL 10.890625 58.5 \r\nQ 10.890625 67.625 15.140625 71.796875 \r\nQ 19.390625 75.984375 28.609375 75.984375 \r\nz\r\n\" id=\"DejaVuSans-102\"/>\r\n       <path d=\"M 19.671875 64.796875 \r\nL 19.671875 8.109375 \r\nL 31.59375 8.109375 \r\nQ 46.6875 8.109375 53.6875 14.9375 \r\nQ 60.6875 21.78125 60.6875 36.53125 \r\nQ 60.6875 51.171875 53.6875 57.984375 \r\nQ 46.6875 64.796875 31.59375 64.796875 \r\nz\r\nM 9.8125 72.90625 \r\nL 30.078125 72.90625 \r\nQ 51.265625 72.90625 61.171875 64.09375 \r\nQ 71.09375 55.28125 71.09375 36.53125 \r\nQ 71.09375 17.671875 61.125 8.828125 \r\nQ 51.171875 0 30.078125 0 \r\nL 9.8125 0 \r\nz\r\n\" id=\"DejaVuSans-68\"/>\r\n       <path d=\"M 34.28125 27.484375 \r\nQ 23.390625 27.484375 19.1875 25 \r\nQ 14.984375 22.515625 14.984375 16.5 \r\nQ 14.984375 11.71875 18.140625 8.90625 \r\nQ 21.296875 6.109375 26.703125 6.109375 \r\nQ 34.1875 6.109375 38.703125 11.40625 \r\nQ 43.21875 16.703125 43.21875 25.484375 \r\nL 43.21875 27.484375 \r\nz\r\nM 52.203125 31.203125 \r\nL 52.203125 0 \r\nL 43.21875 0 \r\nL 43.21875 8.296875 \r\nQ 40.140625 3.328125 35.546875 0.953125 \r\nQ 30.953125 -1.421875 24.3125 -1.421875 \r\nQ 15.921875 -1.421875 10.953125 3.296875 \r\nQ 6 8.015625 6 15.921875 \r\nQ 6 25.140625 12.171875 29.828125 \r\nQ 18.359375 34.515625 30.609375 34.515625 \r\nL 43.21875 34.515625 \r\nL 43.21875 35.40625 \r\nQ 43.21875 41.609375 39.140625 45 \r\nQ 35.0625 48.390625 27.6875 48.390625 \r\nQ 23 48.390625 18.546875 47.265625 \r\nQ 14.109375 46.140625 10.015625 43.890625 \r\nL 10.015625 52.203125 \r\nQ 14.9375 54.109375 19.578125 55.046875 \r\nQ 24.21875 56 28.609375 56 \r\nQ 40.484375 56 46.34375 49.84375 \r\nQ 52.203125 43.703125 52.203125 31.203125 \r\nz\r\n\" id=\"DejaVuSans-97\"/>\r\n      </defs>\r\n      <use xlink:href=\"#DejaVuSans-108\"/>\r\n      <use x=\"27.783203\" xlink:href=\"#DejaVuSans-101\"/>\r\n      <use x=\"89.306641\" xlink:href=\"#DejaVuSans-110\"/>\r\n      <use x=\"152.685547\" xlink:href=\"#DejaVuSans-103\"/>\r\n      <use x=\"216.162109\" xlink:href=\"#DejaVuSans-116\"/>\r\n      <use x=\"255.371094\" xlink:href=\"#DejaVuSans-104\"/>\r\n      <use x=\"318.75\" xlink:href=\"#DejaVuSans-32\"/>\r\n      <use x=\"350.537109\" xlink:href=\"#DejaVuSans-111\"/>\r\n      <use x=\"411.71875\" xlink:href=\"#DejaVuSans-102\"/>\r\n      <use x=\"446.923828\" xlink:href=\"#DejaVuSans-32\"/>\r\n      <use x=\"478.710938\" xlink:href=\"#DejaVuSans-68\"/>\r\n      <use x=\"555.712891\" xlink:href=\"#DejaVuSans-97\"/>\r\n      <use x=\"616.992188\" xlink:href=\"#DejaVuSans-116\"/>\r\n      <use x=\"656.201172\" xlink:href=\"#DejaVuSans-97\"/>\r\n     </g>\r\n    </g>\r\n   </g>\r\n   <g id=\"matplotlib.axis_2\">\r\n    <g id=\"ytick_1\">\r\n     <g id=\"line2d_7\">\r\n      <defs>\r\n       <path d=\"M 0 0 \r\nL -3.5 0 \r\n\" id=\"m9adecc5817\" style=\"stroke:#000000;stroke-width:0.8;\"/>\r\n      </defs>\r\n      <g>\r\n       <use style=\"stroke:#000000;stroke-width:0.8;\" x=\"66.053125\" xlink:href=\"#m9adecc5817\" y=\"224.64\"/>\r\n      </g>\r\n     </g>\r\n     <g id=\"text_8\">\r\n      <!-- 0 -->\r\n      <g transform=\"translate(52.690625 228.439219)scale(0.1 -0.1)\">\r\n       <use xlink:href=\"#DejaVuSans-48\"/>\r\n      </g>\r\n     </g>\r\n    </g>\r\n    <g id=\"ytick_2\">\r\n     <g id=\"line2d_8\">\r\n      <g>\r\n       <use style=\"stroke:#000000;stroke-width:0.8;\" x=\"66.053125\" xlink:href=\"#m9adecc5817\" y=\"189.84562\"/>\r\n      </g>\r\n     </g>\r\n     <g id=\"text_9\">\r\n      <!-- 50000 -->\r\n      <g transform=\"translate(27.240625 193.644838)scale(0.1 -0.1)\">\r\n       <defs>\r\n        <path d=\"M 10.796875 72.90625 \r\nL 49.515625 72.90625 \r\nL 49.515625 64.59375 \r\nL 19.828125 64.59375 \r\nL 19.828125 46.734375 \r\nQ 21.96875 47.46875 24.109375 47.828125 \r\nQ 26.265625 48.1875 28.421875 48.1875 \r\nQ 40.625 48.1875 47.75 41.5 \r\nQ 54.890625 34.8125 54.890625 23.390625 \r\nQ 54.890625 11.625 47.5625 5.09375 \r\nQ 40.234375 -1.421875 26.90625 -1.421875 \r\nQ 22.3125 -1.421875 17.546875 -0.640625 \r\nQ 12.796875 0.140625 7.71875 1.703125 \r\nL 7.71875 11.625 \r\nQ 12.109375 9.234375 16.796875 8.0625 \r\nQ 21.484375 6.890625 26.703125 6.890625 \r\nQ 35.15625 6.890625 40.078125 11.328125 \r\nQ 45.015625 15.765625 45.015625 23.390625 \r\nQ 45.015625 31 40.078125 35.4375 \r\nQ 35.15625 39.890625 26.703125 39.890625 \r\nQ 22.75 39.890625 18.8125 39.015625 \r\nQ 14.890625 38.140625 10.796875 36.28125 \r\nz\r\n\" id=\"DejaVuSans-53\"/>\r\n       </defs>\r\n       <use xlink:href=\"#DejaVuSans-53\"/>\r\n       <use x=\"63.623047\" xlink:href=\"#DejaVuSans-48\"/>\r\n       <use x=\"127.246094\" xlink:href=\"#DejaVuSans-48\"/>\r\n       <use x=\"190.869141\" xlink:href=\"#DejaVuSans-48\"/>\r\n       <use x=\"254.492188\" xlink:href=\"#DejaVuSans-48\"/>\r\n      </g>\r\n     </g>\r\n    </g>\r\n    <g id=\"ytick_3\">\r\n     <g id=\"line2d_9\">\r\n      <g>\r\n       <use style=\"stroke:#000000;stroke-width:0.8;\" x=\"66.053125\" xlink:href=\"#m9adecc5817\" y=\"155.051239\"/>\r\n      </g>\r\n     </g>\r\n     <g id=\"text_10\">\r\n      <!-- 100000 -->\r\n      <g transform=\"translate(20.878125 158.850458)scale(0.1 -0.1)\">\r\n       <use xlink:href=\"#DejaVuSans-49\"/>\r\n       <use x=\"63.623047\" xlink:href=\"#DejaVuSans-48\"/>\r\n       <use x=\"127.246094\" xlink:href=\"#DejaVuSans-48\"/>\r\n       <use x=\"190.869141\" xlink:href=\"#DejaVuSans-48\"/>\r\n       <use x=\"254.492188\" xlink:href=\"#DejaVuSans-48\"/>\r\n       <use x=\"318.115234\" xlink:href=\"#DejaVuSans-48\"/>\r\n      </g>\r\n     </g>\r\n    </g>\r\n    <g id=\"ytick_4\">\r\n     <g id=\"line2d_10\">\r\n      <g>\r\n       <use style=\"stroke:#000000;stroke-width:0.8;\" x=\"66.053125\" xlink:href=\"#m9adecc5817\" y=\"120.256859\"/>\r\n      </g>\r\n     </g>\r\n     <g id=\"text_11\">\r\n      <!-- 150000 -->\r\n      <g transform=\"translate(20.878125 124.056077)scale(0.1 -0.1)\">\r\n       <use xlink:href=\"#DejaVuSans-49\"/>\r\n       <use x=\"63.623047\" xlink:href=\"#DejaVuSans-53\"/>\r\n       <use x=\"127.246094\" xlink:href=\"#DejaVuSans-48\"/>\r\n       <use x=\"190.869141\" xlink:href=\"#DejaVuSans-48\"/>\r\n       <use x=\"254.492188\" xlink:href=\"#DejaVuSans-48\"/>\r\n       <use x=\"318.115234\" xlink:href=\"#DejaVuSans-48\"/>\r\n      </g>\r\n     </g>\r\n    </g>\r\n    <g id=\"ytick_5\">\r\n     <g id=\"line2d_11\">\r\n      <g>\r\n       <use style=\"stroke:#000000;stroke-width:0.8;\" x=\"66.053125\" xlink:href=\"#m9adecc5817\" y=\"85.462478\"/>\r\n      </g>\r\n     </g>\r\n     <g id=\"text_12\">\r\n      <!-- 200000 -->\r\n      <g transform=\"translate(20.878125 89.261697)scale(0.1 -0.1)\">\r\n       <use xlink:href=\"#DejaVuSans-50\"/>\r\n       <use x=\"63.623047\" xlink:href=\"#DejaVuSans-48\"/>\r\n       <use x=\"127.246094\" xlink:href=\"#DejaVuSans-48\"/>\r\n       <use x=\"190.869141\" xlink:href=\"#DejaVuSans-48\"/>\r\n       <use x=\"254.492188\" xlink:href=\"#DejaVuSans-48\"/>\r\n       <use x=\"318.115234\" xlink:href=\"#DejaVuSans-48\"/>\r\n      </g>\r\n     </g>\r\n    </g>\r\n    <g id=\"ytick_6\">\r\n     <g id=\"line2d_12\">\r\n      <g>\r\n       <use style=\"stroke:#000000;stroke-width:0.8;\" x=\"66.053125\" xlink:href=\"#m9adecc5817\" y=\"50.668098\"/>\r\n      </g>\r\n     </g>\r\n     <g id=\"text_13\">\r\n      <!-- 250000 -->\r\n      <g transform=\"translate(20.878125 54.467316)scale(0.1 -0.1)\">\r\n       <use xlink:href=\"#DejaVuSans-50\"/>\r\n       <use x=\"63.623047\" xlink:href=\"#DejaVuSans-53\"/>\r\n       <use x=\"127.246094\" xlink:href=\"#DejaVuSans-48\"/>\r\n       <use x=\"190.869141\" xlink:href=\"#DejaVuSans-48\"/>\r\n       <use x=\"254.492188\" xlink:href=\"#DejaVuSans-48\"/>\r\n       <use x=\"318.115234\" xlink:href=\"#DejaVuSans-48\"/>\r\n      </g>\r\n     </g>\r\n    </g>\r\n    <g id=\"ytick_7\">\r\n     <g id=\"line2d_13\">\r\n      <g>\r\n       <use style=\"stroke:#000000;stroke-width:0.8;\" x=\"66.053125\" xlink:href=\"#m9adecc5817\" y=\"15.873717\"/>\r\n      </g>\r\n     </g>\r\n     <g id=\"text_14\">\r\n      <!-- 300000 -->\r\n      <g transform=\"translate(20.878125 19.672936)scale(0.1 -0.1)\">\r\n       <defs>\r\n        <path d=\"M 40.578125 39.3125 \r\nQ 47.65625 37.796875 51.625 33 \r\nQ 55.609375 28.21875 55.609375 21.1875 \r\nQ 55.609375 10.40625 48.1875 4.484375 \r\nQ 40.765625 -1.421875 27.09375 -1.421875 \r\nQ 22.515625 -1.421875 17.65625 -0.515625 \r\nQ 12.796875 0.390625 7.625 2.203125 \r\nL 7.625 11.71875 \r\nQ 11.71875 9.328125 16.59375 8.109375 \r\nQ 21.484375 6.890625 26.8125 6.890625 \r\nQ 36.078125 6.890625 40.9375 10.546875 \r\nQ 45.796875 14.203125 45.796875 21.1875 \r\nQ 45.796875 27.640625 41.28125 31.265625 \r\nQ 36.765625 34.90625 28.71875 34.90625 \r\nL 20.21875 34.90625 \r\nL 20.21875 43.015625 \r\nL 29.109375 43.015625 \r\nQ 36.375 43.015625 40.234375 45.921875 \r\nQ 44.09375 48.828125 44.09375 54.296875 \r\nQ 44.09375 59.90625 40.109375 62.90625 \r\nQ 36.140625 65.921875 28.71875 65.921875 \r\nQ 24.65625 65.921875 20.015625 65.03125 \r\nQ 15.375 64.15625 9.8125 62.3125 \r\nL 9.8125 71.09375 \r\nQ 15.4375 72.65625 20.34375 73.4375 \r\nQ 25.25 74.21875 29.59375 74.21875 \r\nQ 40.828125 74.21875 47.359375 69.109375 \r\nQ 53.90625 64.015625 53.90625 55.328125 \r\nQ 53.90625 49.265625 50.4375 45.09375 \r\nQ 46.96875 40.921875 40.578125 39.3125 \r\nz\r\n\" id=\"DejaVuSans-51\"/>\r\n       </defs>\r\n       <use xlink:href=\"#DejaVuSans-51\"/>\r\n       <use x=\"63.623047\" xlink:href=\"#DejaVuSans-48\"/>\r\n       <use x=\"127.246094\" xlink:href=\"#DejaVuSans-48\"/>\r\n       <use x=\"190.869141\" xlink:href=\"#DejaVuSans-48\"/>\r\n       <use x=\"254.492188\" xlink:href=\"#DejaVuSans-48\"/>\r\n       <use x=\"318.115234\" xlink:href=\"#DejaVuSans-48\"/>\r\n      </g>\r\n     </g>\r\n    </g>\r\n    <g id=\"text_15\">\r\n     <!-- number of Data -->\r\n     <g transform=\"translate(14.798438 155.37)rotate(-90)scale(0.1 -0.1)\">\r\n      <defs>\r\n       <path d=\"M 8.5 21.578125 \r\nL 8.5 54.6875 \r\nL 17.484375 54.6875 \r\nL 17.484375 21.921875 \r\nQ 17.484375 14.15625 20.5 10.265625 \r\nQ 23.53125 6.390625 29.59375 6.390625 \r\nQ 36.859375 6.390625 41.078125 11.03125 \r\nQ 45.3125 15.671875 45.3125 23.6875 \r\nL 45.3125 54.6875 \r\nL 54.296875 54.6875 \r\nL 54.296875 0 \r\nL 45.3125 0 \r\nL 45.3125 8.40625 \r\nQ 42.046875 3.421875 37.71875 1 \r\nQ 33.40625 -1.421875 27.6875 -1.421875 \r\nQ 18.265625 -1.421875 13.375 4.4375 \r\nQ 8.5 10.296875 8.5 21.578125 \r\nz\r\nM 31.109375 56 \r\nz\r\n\" id=\"DejaVuSans-117\"/>\r\n       <path d=\"M 52 44.1875 \r\nQ 55.375 50.25 60.0625 53.125 \r\nQ 64.75 56 71.09375 56 \r\nQ 79.640625 56 84.28125 50.015625 \r\nQ 88.921875 44.046875 88.921875 33.015625 \r\nL 88.921875 0 \r\nL 79.890625 0 \r\nL 79.890625 32.71875 \r\nQ 79.890625 40.578125 77.09375 44.375 \r\nQ 74.3125 48.1875 68.609375 48.1875 \r\nQ 61.625 48.1875 57.5625 43.546875 \r\nQ 53.515625 38.921875 53.515625 30.90625 \r\nL 53.515625 0 \r\nL 44.484375 0 \r\nL 44.484375 32.71875 \r\nQ 44.484375 40.625 41.703125 44.40625 \r\nQ 38.921875 48.1875 33.109375 48.1875 \r\nQ 26.21875 48.1875 22.15625 43.53125 \r\nQ 18.109375 38.875 18.109375 30.90625 \r\nL 18.109375 0 \r\nL 9.078125 0 \r\nL 9.078125 54.6875 \r\nL 18.109375 54.6875 \r\nL 18.109375 46.1875 \r\nQ 21.1875 51.21875 25.484375 53.609375 \r\nQ 29.78125 56 35.6875 56 \r\nQ 41.65625 56 45.828125 52.96875 \r\nQ 50 49.953125 52 44.1875 \r\nz\r\n\" id=\"DejaVuSans-109\"/>\r\n       <path d=\"M 48.6875 27.296875 \r\nQ 48.6875 37.203125 44.609375 42.84375 \r\nQ 40.53125 48.484375 33.40625 48.484375 \r\nQ 26.265625 48.484375 22.1875 42.84375 \r\nQ 18.109375 37.203125 18.109375 27.296875 \r\nQ 18.109375 17.390625 22.1875 11.75 \r\nQ 26.265625 6.109375 33.40625 6.109375 \r\nQ 40.53125 6.109375 44.609375 11.75 \r\nQ 48.6875 17.390625 48.6875 27.296875 \r\nz\r\nM 18.109375 46.390625 \r\nQ 20.953125 51.265625 25.265625 53.625 \r\nQ 29.59375 56 35.59375 56 \r\nQ 45.5625 56 51.78125 48.09375 \r\nQ 58.015625 40.1875 58.015625 27.296875 \r\nQ 58.015625 14.40625 51.78125 6.484375 \r\nQ 45.5625 -1.421875 35.59375 -1.421875 \r\nQ 29.59375 -1.421875 25.265625 0.953125 \r\nQ 20.953125 3.328125 18.109375 8.203125 \r\nL 18.109375 0 \r\nL 9.078125 0 \r\nL 9.078125 75.984375 \r\nL 18.109375 75.984375 \r\nz\r\n\" id=\"DejaVuSans-98\"/>\r\n       <path d=\"M 41.109375 46.296875 \r\nQ 39.59375 47.171875 37.8125 47.578125 \r\nQ 36.03125 48 33.890625 48 \r\nQ 26.265625 48 22.1875 43.046875 \r\nQ 18.109375 38.09375 18.109375 28.8125 \r\nL 18.109375 0 \r\nL 9.078125 0 \r\nL 9.078125 54.6875 \r\nL 18.109375 54.6875 \r\nL 18.109375 46.1875 \r\nQ 20.953125 51.171875 25.484375 53.578125 \r\nQ 30.03125 56 36.53125 56 \r\nQ 37.453125 56 38.578125 55.875 \r\nQ 39.703125 55.765625 41.0625 55.515625 \r\nz\r\n\" id=\"DejaVuSans-114\"/>\r\n      </defs>\r\n      <use xlink:href=\"#DejaVuSans-110\"/>\r\n      <use x=\"63.378906\" xlink:href=\"#DejaVuSans-117\"/>\r\n      <use x=\"126.757812\" xlink:href=\"#DejaVuSans-109\"/>\r\n      <use x=\"224.169922\" xlink:href=\"#DejaVuSans-98\"/>\r\n      <use x=\"287.646484\" xlink:href=\"#DejaVuSans-101\"/>\r\n      <use x=\"349.169922\" xlink:href=\"#DejaVuSans-114\"/>\r\n      <use x=\"390.283203\" xlink:href=\"#DejaVuSans-32\"/>\r\n      <use x=\"422.070312\" xlink:href=\"#DejaVuSans-111\"/>\r\n      <use x=\"483.251953\" xlink:href=\"#DejaVuSans-102\"/>\r\n      <use x=\"518.457031\" xlink:href=\"#DejaVuSans-32\"/>\r\n      <use x=\"550.244141\" xlink:href=\"#DejaVuSans-68\"/>\r\n      <use x=\"627.246094\" xlink:href=\"#DejaVuSans-97\"/>\r\n      <use x=\"688.525391\" xlink:href=\"#DejaVuSans-116\"/>\r\n      <use x=\"727.734375\" xlink:href=\"#DejaVuSans-97\"/>\r\n     </g>\r\n    </g>\r\n   </g>\r\n   <g id=\"patch_53\">\r\n    <path d=\"M 66.053125 224.64 \r\nL 66.053125 7.2 \r\n\" style=\"fill:none;stroke:#000000;stroke-linecap:square;stroke-linejoin:miter;stroke-width:0.8;\"/>\r\n   </g>\r\n   <g id=\"patch_54\">\r\n    <path d=\"M 400.853125 224.64 \r\nL 400.853125 7.2 \r\n\" style=\"fill:none;stroke:#000000;stroke-linecap:square;stroke-linejoin:miter;stroke-width:0.8;\"/>\r\n   </g>\r\n   <g id=\"patch_55\">\r\n    <path d=\"M 66.053125 224.64 \r\nL 400.853125 224.64 \r\n\" style=\"fill:none;stroke:#000000;stroke-linecap:square;stroke-linejoin:miter;stroke-width:0.8;\"/>\r\n   </g>\r\n   <g id=\"patch_56\">\r\n    <path d=\"M 66.053125 7.2 \r\nL 400.853125 7.2 \r\n\" style=\"fill:none;stroke:#000000;stroke-linecap:square;stroke-linejoin:miter;stroke-width:0.8;\"/>\r\n   </g>\r\n  </g>\r\n </g>\r\n <defs>\r\n  <clipPath id=\"p63a3aced7f\">\r\n   <rect height=\"217.44\" width=\"334.8\" x=\"66.053125\" y=\"7.2\"/>\r\n  </clipPath>\r\n </defs>\r\n</svg>\r\n",
      "text/plain": [
       "<Figure size 432x288 with 1 Axes>"
      ]
     },
     "metadata": {
      "needs_background": "light"
     }
    }
   ],
   "metadata": {}
  },
  {
   "cell_type": "code",
   "execution_count": 98,
   "source": [
    "print(\"test 최대 길이 : \", max(len(l) for l in X_test)) \r\n",
    "print(\"test 평균 길이 : \", sum(map(len, X_test))/ len(X_test)) \r\n",
    "\r\n",
    "plt.xlim([0, 100]) \r\n",
    "plt.hist([len(s) for s in X_test], bins=50) \r\n",
    "plt.xlabel('length of Data') \r\n",
    "plt.ylabel('number of Data') \r\n",
    "plt.show()"
   ],
   "outputs": [
    {
     "output_type": "stream",
     "name": "stdout",
     "text": [
      "test 최대 길이 :  463\n",
      "test 평균 길이 :  13.848254666970863\n"
     ]
    },
    {
     "output_type": "display_data",
     "data": {
      "image/png": "[encoded data removed]",
      "image/svg+xml": "<?xml version=\"1.0\" encoding=\"utf-8\" standalone=\"no\"?>\r\n<!DOCTYPE svg PUBLIC \"-//W3C//DTD SVG 1.1//EN\"\r\n  \"http://www.w3.org/Graphics/SVG/1.1/DTD/svg11.dtd\">\r\n<!-- Created with matplotlib (https://matplotlib.org/) -->\r\n<svg height=\"262.19625pt\" version=\"1.1\" viewBox=\"0 0 411.234375 262.19625\" width=\"411.234375pt\" xmlns=\"http://www.w3.org/2000/svg\" xmlns:xlink=\"http://www.w3.org/1999/xlink\">\r\n <metadata>\r\n  <rdf:RDF xmlns:cc=\"http://creativecommons.org/ns#\" xmlns:dc=\"http://purl.org/dc/elements/1.1/\" xmlns:rdf=\"http://www.w3.org/1999/02/22-rdf-syntax-ns#\">\r\n   <cc:Work>\r\n    <dc:type rdf:resource=\"http://purl.org/dc/dcmitype/StillImage\"/>\r\n    <dc:date>2021-09-05T17:20:06.964535</dc:date>\r\n    <dc:format>image/svg+xml</dc:format>\r\n    <dc:creator>\r\n     <cc:Agent>\r\n      <dc:title>Matplotlib v3.3.4, https://matplotlib.org/</dc:title>\r\n     </cc:Agent>\r\n    </dc:creator>\r\n   </cc:Work>\r\n  </rdf:RDF>\r\n </metadata>\r\n <defs>\r\n  <style type=\"text/css\">*{stroke-linecap:butt;stroke-linejoin:round;}</style>\r\n </defs>\r\n <g id=\"figure_1\">\r\n  <g id=\"patch_1\">\r\n   <path d=\"M 0 262.19625 \r\nL 411.234375 262.19625 \r\nL 411.234375 0 \r\nL 0 0 \r\nz\r\n\" style=\"fill:none;\"/>\r\n  </g>\r\n  <g id=\"axes_1\">\r\n   <g id=\"patch_2\">\r\n    <path d=\"M 59.690625 224.64 \r\nL 394.490625 224.64 \r\nL 394.490625 7.2 \r\nL 59.690625 7.2 \r\nz\r\n\" style=\"fill:#ffffff;\"/>\r\n   </g>\r\n   <g id=\"patch_3\">\r\n    <path clip-path=\"url(#p9790ddf02e)\" d=\"M 59.690625 224.64 \r\nL 90.693105 224.64 \r\nL 90.693105 17.554286 \r\nL 59.690625 17.554286 \r\nz\r\n\" style=\"fill:#1f77b4;\"/>\r\n   </g>\r\n   <g id=\"patch_4\">\r\n    <path clip-path=\"url(#p9790ddf02e)\" d=\"M 90.693105 224.64 \r\nL 121.695585 224.64 \r\nL 121.695585 104.13166 \r\nL 90.693105 104.13166 \r\nz\r\n\" style=\"fill:#1f77b4;\"/>\r\n   </g>\r\n   <g id=\"patch_5\">\r\n    <path clip-path=\"url(#p9790ddf02e)\" d=\"M 121.695585 224.64 \r\nL 152.698065 224.64 \r\nL 152.698065 167.230625 \r\nL 121.695585 167.230625 \r\nz\r\n\" style=\"fill:#1f77b4;\"/>\r\n   </g>\r\n   <g id=\"patch_6\">\r\n    <path clip-path=\"url(#p9790ddf02e)\" d=\"M 152.698065 224.64 \r\nL 183.700545 224.64 \r\nL 183.700545 189.516818 \r\nL 152.698065 189.516818 \r\nz\r\n\" style=\"fill:#1f77b4;\"/>\r\n   </g>\r\n   <g id=\"patch_7\">\r\n    <path clip-path=\"url(#p9790ddf02e)\" d=\"M 183.700545 224.64 \r\nL 214.703025 224.64 \r\nL 214.703025 209.212005 \r\nL 183.700545 209.212005 \r\nz\r\n\" style=\"fill:#1f77b4;\"/>\r\n   </g>\r\n   <g id=\"patch_8\">\r\n    <path clip-path=\"url(#p9790ddf02e)\" d=\"M 214.703025 224.64 \r\nL 245.705505 224.64 \r\nL 245.705505 221.553221 \r\nL 214.703025 221.553221 \r\nz\r\n\" style=\"fill:#1f77b4;\"/>\r\n   </g>\r\n   <g id=\"patch_9\">\r\n    <path clip-path=\"url(#p9790ddf02e)\" d=\"M 245.705505 224.64 \r\nL 276.707985 224.64 \r\nL 276.707985 224.203247 \r\nL 245.705505 224.203247 \r\nz\r\n\" style=\"fill:#1f77b4;\"/>\r\n   </g>\r\n   <g id=\"patch_10\">\r\n    <path clip-path=\"url(#p9790ddf02e)\" d=\"M 276.707985 224.64 \r\nL 307.710465 224.64 \r\nL 307.710465 224.327191 \r\nL 276.707985 224.327191 \r\nz\r\n\" style=\"fill:#1f77b4;\"/>\r\n   </g>\r\n   <g id=\"patch_11\">\r\n    <path clip-path=\"url(#p9790ddf02e)\" d=\"M 307.710465 224.64 \r\nL 338.712945 224.64 \r\nL 338.712945 224.533763 \r\nL 307.710465 224.533763 \r\nz\r\n\" style=\"fill:#1f77b4;\"/>\r\n   </g>\r\n   <g id=\"patch_12\">\r\n    <path clip-path=\"url(#p9790ddf02e)\" d=\"M 338.712945 224.64 \r\nL 369.715425 224.64 \r\nL 369.715425 224.563273 \r\nL 338.712945 224.563273 \r\nz\r\n\" style=\"fill:#1f77b4;\"/>\r\n   </g>\r\n   <g id=\"patch_13\">\r\n    <path clip-path=\"url(#p9790ddf02e)\" d=\"M 369.715425 224.64 \r\nL 400.717905 224.64 \r\nL 400.717905 224.575077 \r\nL 369.715425 224.575077 \r\nz\r\n\" style=\"fill:#1f77b4;\"/>\r\n   </g>\r\n   <g id=\"patch_14\">\r\n    <path clip-path=\"url(#p9790ddf02e)\" d=\"M 400.717905 224.64 \r\nL 431.720385 224.64 \r\nL 431.720385 224.604588 \r\nL 400.717905 224.604588 \r\nz\r\n\" style=\"fill:#1f77b4;\"/>\r\n   </g>\r\n   <g id=\"patch_15\">\r\n    <path clip-path=\"url(#p9790ddf02e)\" d=\"M 431.720385 224.64 \r\nL 462.722865 224.64 \r\nL 462.722865 224.616392 \r\nL 431.720385 224.616392 \r\nz\r\n\" style=\"fill:#1f77b4;\"/>\r\n   </g>\r\n   <g id=\"patch_16\">\r\n    <path clip-path=\"url(#p9790ddf02e)\" d=\"M 462.722865 224.64 \r\nL 493.725345 224.64 \r\nL 493.725345 224.616392 \r\nL 462.722865 224.616392 \r\nz\r\n\" style=\"fill:#1f77b4;\"/>\r\n   </g>\r\n   <g id=\"patch_17\">\r\n    <path clip-path=\"url(#p9790ddf02e)\" d=\"M 493.725345 224.64 \r\nL 524.727825 224.64 \r\nL 524.727825 224.634098 \r\nL 493.725345 224.634098 \r\nz\r\n\" style=\"fill:#1f77b4;\"/>\r\n   </g>\r\n   <g id=\"patch_18\">\r\n    <path clip-path=\"url(#p9790ddf02e)\" d=\"M 524.727825 224.64 \r\nL 555.730305 224.64 \r\nL 555.730305 224.634098 \r\nL 524.727825 224.634098 \r\nz\r\n\" style=\"fill:#1f77b4;\"/>\r\n   </g>\r\n   <g id=\"patch_19\">\r\n    <path clip-path=\"url(#p9790ddf02e)\" d=\"M 555.730305 224.64 \r\nL 586.732785 224.64 \r\nL 586.732785 224.634098 \r\nL 555.730305 224.634098 \r\nz\r\n\" style=\"fill:#1f77b4;\"/>\r\n   </g>\r\n   <g id=\"patch_20\">\r\n    <path clip-path=\"url(#p9790ddf02e)\" d=\"M 586.732785 224.64 \r\nL 617.735265 224.64 \r\nL 617.735265 224.64 \r\nL 586.732785 224.64 \r\nz\r\n\" style=\"fill:#1f77b4;\"/>\r\n   </g>\r\n   <g id=\"patch_21\">\r\n    <path clip-path=\"url(#p9790ddf02e)\" d=\"M 617.735265 224.64 \r\nL 648.737745 224.64 \r\nL 648.737745 224.64 \r\nL 617.735265 224.64 \r\nz\r\n\" style=\"fill:#1f77b4;\"/>\r\n   </g>\r\n   <g id=\"patch_22\">\r\n    <path clip-path=\"url(#p9790ddf02e)\" d=\"M 648.737745 224.64 \r\nL 679.740225 224.64 \r\nL 679.740225 224.634098 \r\nL 648.737745 224.634098 \r\nz\r\n\" style=\"fill:#1f77b4;\"/>\r\n   </g>\r\n   <g id=\"patch_23\">\r\n    <path clip-path=\"url(#p9790ddf02e)\" d=\"M 679.740225 224.64 \r\nL 710.742705 224.64 \r\nL 710.742705 224.634098 \r\nL 679.740225 224.634098 \r\nz\r\n\" style=\"fill:#1f77b4;\"/>\r\n   </g>\r\n   <g id=\"patch_24\">\r\n    <path clip-path=\"url(#p9790ddf02e)\" d=\"M 710.742705 224.64 \r\nL 741.745185 224.64 \r\nL 741.745185 224.64 \r\nL 710.742705 224.64 \r\nz\r\n\" style=\"fill:#1f77b4;\"/>\r\n   </g>\r\n   <g id=\"patch_25\">\r\n    <path clip-path=\"url(#p9790ddf02e)\" d=\"M 741.745185 224.64 \r\nL 772.747665 224.64 \r\nL 772.747665 224.64 \r\nL 741.745185 224.64 \r\nz\r\n\" style=\"fill:#1f77b4;\"/>\r\n   </g>\r\n   <g id=\"patch_26\">\r\n    <path clip-path=\"url(#p9790ddf02e)\" d=\"M 772.747665 224.64 \r\nL 803.750145 224.64 \r\nL 803.750145 224.64 \r\nL 772.747665 224.64 \r\nz\r\n\" style=\"fill:#1f77b4;\"/>\r\n   </g>\r\n   <g id=\"patch_27\">\r\n    <path clip-path=\"url(#p9790ddf02e)\" d=\"M 803.750145 224.64 \r\nL 834.752625 224.64 \r\nL 834.752625 224.628196 \r\nL 803.750145 224.628196 \r\nz\r\n\" style=\"fill:#1f77b4;\"/>\r\n   </g>\r\n   <g id=\"patch_28\">\r\n    <path clip-path=\"url(#p9790ddf02e)\" d=\"M 834.752625 224.64 \r\nL 865.755105 224.64 \r\nL 865.755105 224.64 \r\nL 834.752625 224.64 \r\nz\r\n\" style=\"fill:#1f77b4;\"/>\r\n   </g>\r\n   <g id=\"patch_29\">\r\n    <path clip-path=\"url(#p9790ddf02e)\" d=\"M 865.755105 224.64 \r\nL 896.757585 224.64 \r\nL 896.757585 224.634098 \r\nL 865.755105 224.634098 \r\nz\r\n\" style=\"fill:#1f77b4;\"/>\r\n   </g>\r\n   <g id=\"patch_30\">\r\n    <path clip-path=\"url(#p9790ddf02e)\" d=\"M 896.757585 224.64 \r\nL 927.760065 224.64 \r\nL 927.760065 224.64 \r\nL 896.757585 224.64 \r\nz\r\n\" style=\"fill:#1f77b4;\"/>\r\n   </g>\r\n   <g id=\"patch_31\">\r\n    <path clip-path=\"url(#p9790ddf02e)\" d=\"M 927.760065 224.64 \r\nL 958.762545 224.64 \r\nL 958.762545 224.64 \r\nL 927.760065 224.64 \r\nz\r\n\" style=\"fill:#1f77b4;\"/>\r\n   </g>\r\n   <g id=\"patch_32\">\r\n    <path clip-path=\"url(#p9790ddf02e)\" d=\"M 958.762545 224.64 \r\nL 989.765025 224.64 \r\nL 989.765025 224.64 \r\nL 958.762545 224.64 \r\nz\r\n\" style=\"fill:#1f77b4;\"/>\r\n   </g>\r\n   <g id=\"patch_33\">\r\n    <path clip-path=\"url(#p9790ddf02e)\" d=\"M 989.765025 224.64 \r\nL 1020.767505 224.64 \r\nL 1020.767505 224.64 \r\nL 989.765025 224.64 \r\nz\r\n\" style=\"fill:#1f77b4;\"/>\r\n   </g>\r\n   <g id=\"patch_34\">\r\n    <path clip-path=\"url(#p9790ddf02e)\" d=\"M 1020.767505 224.64 \r\nL 1051.769985 224.64 \r\nL 1051.769985 224.64 \r\nL 1020.767505 224.64 \r\nz\r\n\" style=\"fill:#1f77b4;\"/>\r\n   </g>\r\n   <g id=\"patch_35\">\r\n    <path clip-path=\"url(#p9790ddf02e)\" d=\"M 1051.769985 224.64 \r\nL 1082.772465 224.64 \r\nL 1082.772465 224.634098 \r\nL 1051.769985 224.634098 \r\nz\r\n\" style=\"fill:#1f77b4;\"/>\r\n   </g>\r\n   <g id=\"patch_36\">\r\n    <path clip-path=\"url(#p9790ddf02e)\" d=\"M 1082.772465 224.64 \r\nL 1113.774945 224.64 \r\nL 1113.774945 224.64 \r\nL 1082.772465 224.64 \r\nz\r\n\" style=\"fill:#1f77b4;\"/>\r\n   </g>\r\n   <g id=\"patch_37\">\r\n    <path clip-path=\"url(#p9790ddf02e)\" d=\"M 1113.774945 224.64 \r\nL 1144.777425 224.64 \r\nL 1144.777425 224.64 \r\nL 1113.774945 224.64 \r\nz\r\n\" style=\"fill:#1f77b4;\"/>\r\n   </g>\r\n   <g id=\"patch_38\">\r\n    <path clip-path=\"url(#p9790ddf02e)\" d=\"M 1144.777425 224.64 \r\nL 1175.779905 224.64 \r\nL 1175.779905 224.64 \r\nL 1144.777425 224.64 \r\nz\r\n\" style=\"fill:#1f77b4;\"/>\r\n   </g>\r\n   <g id=\"patch_39\">\r\n    <path clip-path=\"url(#p9790ddf02e)\" d=\"M 1175.779905 224.64 \r\nL 1206.782385 224.64 \r\nL 1206.782385 224.64 \r\nL 1175.779905 224.64 \r\nz\r\n\" style=\"fill:#1f77b4;\"/>\r\n   </g>\r\n   <g id=\"patch_40\">\r\n    <path clip-path=\"url(#p9790ddf02e)\" d=\"M 1206.782385 224.64 \r\nL 1237.784865 224.64 \r\nL 1237.784865 224.64 \r\nL 1206.782385 224.64 \r\nz\r\n\" style=\"fill:#1f77b4;\"/>\r\n   </g>\r\n   <g id=\"patch_41\">\r\n    <path clip-path=\"url(#p9790ddf02e)\" d=\"M 1237.784865 224.64 \r\nL 1268.787345 224.64 \r\nL 1268.787345 224.64 \r\nL 1237.784865 224.64 \r\nz\r\n\" style=\"fill:#1f77b4;\"/>\r\n   </g>\r\n   <g id=\"patch_42\">\r\n    <path clip-path=\"url(#p9790ddf02e)\" d=\"M 1268.787345 224.64 \r\nL 1299.789825 224.64 \r\nL 1299.789825 224.64 \r\nL 1268.787345 224.64 \r\nz\r\n\" style=\"fill:#1f77b4;\"/>\r\n   </g>\r\n   <g id=\"patch_43\">\r\n    <path clip-path=\"url(#p9790ddf02e)\" d=\"M 1299.789825 224.64 \r\nL 1330.792305 224.64 \r\nL 1330.792305 224.64 \r\nL 1299.789825 224.64 \r\nz\r\n\" style=\"fill:#1f77b4;\"/>\r\n   </g>\r\n   <g id=\"patch_44\">\r\n    <path clip-path=\"url(#p9790ddf02e)\" d=\"M 1330.792305 224.64 \r\nL 1361.794785 224.64 \r\nL 1361.794785 224.64 \r\nL 1330.792305 224.64 \r\nz\r\n\" style=\"fill:#1f77b4;\"/>\r\n   </g>\r\n   <g id=\"patch_45\">\r\n    <path clip-path=\"url(#p9790ddf02e)\" d=\"M 1361.794785 224.64 \r\nL 1392.797265 224.64 \r\nL 1392.797265 224.64 \r\nL 1361.794785 224.64 \r\nz\r\n\" style=\"fill:#1f77b4;\"/>\r\n   </g>\r\n   <g id=\"patch_46\">\r\n    <path clip-path=\"url(#p9790ddf02e)\" d=\"M 1392.797265 224.64 \r\nL 1423.799745 224.64 \r\nL 1423.799745 224.64 \r\nL 1392.797265 224.64 \r\nz\r\n\" style=\"fill:#1f77b4;\"/>\r\n   </g>\r\n   <g id=\"patch_47\">\r\n    <path clip-path=\"url(#p9790ddf02e)\" d=\"M 1423.799745 224.64 \r\nL 1454.802225 224.64 \r\nL 1454.802225 224.64 \r\nL 1423.799745 224.64 \r\nz\r\n\" style=\"fill:#1f77b4;\"/>\r\n   </g>\r\n   <g id=\"patch_48\">\r\n    <path clip-path=\"url(#p9790ddf02e)\" d=\"M 1454.802225 224.64 \r\nL 1485.804705 224.64 \r\nL 1485.804705 224.64 \r\nL 1454.802225 224.64 \r\nz\r\n\" style=\"fill:#1f77b4;\"/>\r\n   </g>\r\n   <g id=\"patch_49\">\r\n    <path clip-path=\"url(#p9790ddf02e)\" d=\"M 1485.804705 224.64 \r\nL 1516.807185 224.64 \r\nL 1516.807185 224.64 \r\nL 1485.804705 224.64 \r\nz\r\n\" style=\"fill:#1f77b4;\"/>\r\n   </g>\r\n   <g id=\"patch_50\">\r\n    <path clip-path=\"url(#p9790ddf02e)\" d=\"M 1516.807185 224.64 \r\nL 1547.809665 224.64 \r\nL 1547.809665 224.64 \r\nL 1516.807185 224.64 \r\nz\r\n\" style=\"fill:#1f77b4;\"/>\r\n   </g>\r\n   <g id=\"patch_51\">\r\n    <path clip-path=\"url(#p9790ddf02e)\" d=\"M 1547.809665 224.64 \r\nL 1578.812145 224.64 \r\nL 1578.812145 224.64 \r\nL 1547.809665 224.64 \r\nz\r\n\" style=\"fill:#1f77b4;\"/>\r\n   </g>\r\n   <g id=\"patch_52\">\r\n    <path clip-path=\"url(#p9790ddf02e)\" d=\"M 1578.812145 224.64 \r\nL 1609.814625 224.64 \r\nL 1609.814625 224.634098 \r\nL 1578.812145 224.634098 \r\nz\r\n\" style=\"fill:#1f77b4;\"/>\r\n   </g>\r\n   <g id=\"matplotlib.axis_1\">\r\n    <g id=\"xtick_1\">\r\n     <g id=\"line2d_1\">\r\n      <defs>\r\n       <path d=\"M 0 0 \r\nL 0 3.5 \r\n\" id=\"m14dbcaa068\" style=\"stroke:#000000;stroke-width:0.8;\"/>\r\n      </defs>\r\n      <g>\r\n       <use style=\"stroke:#000000;stroke-width:0.8;\" x=\"59.690625\" xlink:href=\"#m14dbcaa068\" y=\"224.64\"/>\r\n      </g>\r\n     </g>\r\n     <g id=\"text_1\">\r\n      <!-- 0 -->\r\n      <g transform=\"translate(56.509375 239.238437)scale(0.1 -0.1)\">\r\n       <defs>\r\n        <path d=\"M 31.78125 66.40625 \r\nQ 24.171875 66.40625 20.328125 58.90625 \r\nQ 16.5 51.421875 16.5 36.375 \r\nQ 16.5 21.390625 20.328125 13.890625 \r\nQ 24.171875 6.390625 31.78125 6.390625 \r\nQ 39.453125 6.390625 43.28125 13.890625 \r\nQ 47.125 21.390625 47.125 36.375 \r\nQ 47.125 51.421875 43.28125 58.90625 \r\nQ 39.453125 66.40625 31.78125 66.40625 \r\nz\r\nM 31.78125 74.21875 \r\nQ 44.046875 74.21875 50.515625 64.515625 \r\nQ 56.984375 54.828125 56.984375 36.375 \r\nQ 56.984375 17.96875 50.515625 8.265625 \r\nQ 44.046875 -1.421875 31.78125 -1.421875 \r\nQ 19.53125 -1.421875 13.0625 8.265625 \r\nQ 6.59375 17.96875 6.59375 36.375 \r\nQ 6.59375 54.828125 13.0625 64.515625 \r\nQ 19.53125 74.21875 31.78125 74.21875 \r\nz\r\n\" id=\"DejaVuSans-48\"/>\r\n       </defs>\r\n       <use xlink:href=\"#DejaVuSans-48\"/>\r\n      </g>\r\n     </g>\r\n    </g>\r\n    <g id=\"xtick_2\">\r\n     <g id=\"line2d_2\">\r\n      <g>\r\n       <use style=\"stroke:#000000;stroke-width:0.8;\" x=\"126.650625\" xlink:href=\"#m14dbcaa068\" y=\"224.64\"/>\r\n      </g>\r\n     </g>\r\n     <g id=\"text_2\">\r\n      <!-- 20 -->\r\n      <g transform=\"translate(120.288125 239.238437)scale(0.1 -0.1)\">\r\n       <defs>\r\n        <path d=\"M 19.1875 8.296875 \r\nL 53.609375 8.296875 \r\nL 53.609375 0 \r\nL 7.328125 0 \r\nL 7.328125 8.296875 \r\nQ 12.9375 14.109375 22.625 23.890625 \r\nQ 32.328125 33.6875 34.8125 36.53125 \r\nQ 39.546875 41.84375 41.421875 45.53125 \r\nQ 43.3125 49.21875 43.3125 52.78125 \r\nQ 43.3125 58.59375 39.234375 62.25 \r\nQ 35.15625 65.921875 28.609375 65.921875 \r\nQ 23.96875 65.921875 18.8125 64.3125 \r\nQ 13.671875 62.703125 7.8125 59.421875 \r\nL 7.8125 69.390625 \r\nQ 13.765625 71.78125 18.9375 73 \r\nQ 24.125 74.21875 28.421875 74.21875 \r\nQ 39.75 74.21875 46.484375 68.546875 \r\nQ 53.21875 62.890625 53.21875 53.421875 \r\nQ 53.21875 48.921875 51.53125 44.890625 \r\nQ 49.859375 40.875 45.40625 35.40625 \r\nQ 44.1875 33.984375 37.640625 27.21875 \r\nQ 31.109375 20.453125 19.1875 8.296875 \r\nz\r\n\" id=\"DejaVuSans-50\"/>\r\n       </defs>\r\n       <use xlink:href=\"#DejaVuSans-50\"/>\r\n       <use x=\"63.623047\" xlink:href=\"#DejaVuSans-48\"/>\r\n      </g>\r\n     </g>\r\n    </g>\r\n    <g id=\"xtick_3\">\r\n     <g id=\"line2d_3\">\r\n      <g>\r\n       <use style=\"stroke:#000000;stroke-width:0.8;\" x=\"193.610625\" xlink:href=\"#m14dbcaa068\" y=\"224.64\"/>\r\n      </g>\r\n     </g>\r\n     <g id=\"text_3\">\r\n      <!-- 40 -->\r\n      <g transform=\"translate(187.248125 239.238437)scale(0.1 -0.1)\">\r\n       <defs>\r\n        <path d=\"M 37.796875 64.3125 \r\nL 12.890625 25.390625 \r\nL 37.796875 25.390625 \r\nz\r\nM 35.203125 72.90625 \r\nL 47.609375 72.90625 \r\nL 47.609375 25.390625 \r\nL 58.015625 25.390625 \r\nL 58.015625 17.1875 \r\nL 47.609375 17.1875 \r\nL 47.609375 0 \r\nL 37.796875 0 \r\nL 37.796875 17.1875 \r\nL 4.890625 17.1875 \r\nL 4.890625 26.703125 \r\nz\r\n\" id=\"DejaVuSans-52\"/>\r\n       </defs>\r\n       <use xlink:href=\"#DejaVuSans-52\"/>\r\n       <use x=\"63.623047\" xlink:href=\"#DejaVuSans-48\"/>\r\n      </g>\r\n     </g>\r\n    </g>\r\n    <g id=\"xtick_4\">\r\n     <g id=\"line2d_4\">\r\n      <g>\r\n       <use style=\"stroke:#000000;stroke-width:0.8;\" x=\"260.570625\" xlink:href=\"#m14dbcaa068\" y=\"224.64\"/>\r\n      </g>\r\n     </g>\r\n     <g id=\"text_4\">\r\n      <!-- 60 -->\r\n      <g transform=\"translate(254.208125 239.238437)scale(0.1 -0.1)\">\r\n       <defs>\r\n        <path d=\"M 33.015625 40.375 \r\nQ 26.375 40.375 22.484375 35.828125 \r\nQ 18.609375 31.296875 18.609375 23.390625 \r\nQ 18.609375 15.53125 22.484375 10.953125 \r\nQ 26.375 6.390625 33.015625 6.390625 \r\nQ 39.65625 6.390625 43.53125 10.953125 \r\nQ 47.40625 15.53125 47.40625 23.390625 \r\nQ 47.40625 31.296875 43.53125 35.828125 \r\nQ 39.65625 40.375 33.015625 40.375 \r\nz\r\nM 52.59375 71.296875 \r\nL 52.59375 62.3125 \r\nQ 48.875 64.0625 45.09375 64.984375 \r\nQ 41.3125 65.921875 37.59375 65.921875 \r\nQ 27.828125 65.921875 22.671875 59.328125 \r\nQ 17.53125 52.734375 16.796875 39.40625 \r\nQ 19.671875 43.65625 24.015625 45.921875 \r\nQ 28.375 48.1875 33.59375 48.1875 \r\nQ 44.578125 48.1875 50.953125 41.515625 \r\nQ 57.328125 34.859375 57.328125 23.390625 \r\nQ 57.328125 12.15625 50.6875 5.359375 \r\nQ 44.046875 -1.421875 33.015625 -1.421875 \r\nQ 20.359375 -1.421875 13.671875 8.265625 \r\nQ 6.984375 17.96875 6.984375 36.375 \r\nQ 6.984375 53.65625 15.1875 63.9375 \r\nQ 23.390625 74.21875 37.203125 74.21875 \r\nQ 40.921875 74.21875 44.703125 73.484375 \r\nQ 48.484375 72.75 52.59375 71.296875 \r\nz\r\n\" id=\"DejaVuSans-54\"/>\r\n       </defs>\r\n       <use xlink:href=\"#DejaVuSans-54\"/>\r\n       <use x=\"63.623047\" xlink:href=\"#DejaVuSans-48\"/>\r\n      </g>\r\n     </g>\r\n    </g>\r\n    <g id=\"xtick_5\">\r\n     <g id=\"line2d_5\">\r\n      <g>\r\n       <use style=\"stroke:#000000;stroke-width:0.8;\" x=\"327.530625\" xlink:href=\"#m14dbcaa068\" y=\"224.64\"/>\r\n      </g>\r\n     </g>\r\n     <g id=\"text_5\">\r\n      <!-- 80 -->\r\n      <g transform=\"translate(321.168125 239.238437)scale(0.1 -0.1)\">\r\n       <defs>\r\n        <path d=\"M 31.78125 34.625 \r\nQ 24.75 34.625 20.71875 30.859375 \r\nQ 16.703125 27.09375 16.703125 20.515625 \r\nQ 16.703125 13.921875 20.71875 10.15625 \r\nQ 24.75 6.390625 31.78125 6.390625 \r\nQ 38.8125 6.390625 42.859375 10.171875 \r\nQ 46.921875 13.96875 46.921875 20.515625 \r\nQ 46.921875 27.09375 42.890625 30.859375 \r\nQ 38.875 34.625 31.78125 34.625 \r\nz\r\nM 21.921875 38.8125 \r\nQ 15.578125 40.375 12.03125 44.71875 \r\nQ 8.5 49.078125 8.5 55.328125 \r\nQ 8.5 64.0625 14.71875 69.140625 \r\nQ 20.953125 74.21875 31.78125 74.21875 \r\nQ 42.671875 74.21875 48.875 69.140625 \r\nQ 55.078125 64.0625 55.078125 55.328125 \r\nQ 55.078125 49.078125 51.53125 44.71875 \r\nQ 48 40.375 41.703125 38.8125 \r\nQ 48.828125 37.15625 52.796875 32.3125 \r\nQ 56.78125 27.484375 56.78125 20.515625 \r\nQ 56.78125 9.90625 50.3125 4.234375 \r\nQ 43.84375 -1.421875 31.78125 -1.421875 \r\nQ 19.734375 -1.421875 13.25 4.234375 \r\nQ 6.78125 9.90625 6.78125 20.515625 \r\nQ 6.78125 27.484375 10.78125 32.3125 \r\nQ 14.796875 37.15625 21.921875 38.8125 \r\nz\r\nM 18.3125 54.390625 \r\nQ 18.3125 48.734375 21.84375 45.5625 \r\nQ 25.390625 42.390625 31.78125 42.390625 \r\nQ 38.140625 42.390625 41.71875 45.5625 \r\nQ 45.3125 48.734375 45.3125 54.390625 \r\nQ 45.3125 60.0625 41.71875 63.234375 \r\nQ 38.140625 66.40625 31.78125 66.40625 \r\nQ 25.390625 66.40625 21.84375 63.234375 \r\nQ 18.3125 60.0625 18.3125 54.390625 \r\nz\r\n\" id=\"DejaVuSans-56\"/>\r\n       </defs>\r\n       <use xlink:href=\"#DejaVuSans-56\"/>\r\n       <use x=\"63.623047\" xlink:href=\"#DejaVuSans-48\"/>\r\n      </g>\r\n     </g>\r\n    </g>\r\n    <g id=\"xtick_6\">\r\n     <g id=\"line2d_6\">\r\n      <g>\r\n       <use style=\"stroke:#000000;stroke-width:0.8;\" x=\"394.490625\" xlink:href=\"#m14dbcaa068\" y=\"224.64\"/>\r\n      </g>\r\n     </g>\r\n     <g id=\"text_6\">\r\n      <!-- 100 -->\r\n      <g transform=\"translate(384.946875 239.238437)scale(0.1 -0.1)\">\r\n       <defs>\r\n        <path d=\"M 12.40625 8.296875 \r\nL 28.515625 8.296875 \r\nL 28.515625 63.921875 \r\nL 10.984375 60.40625 \r\nL 10.984375 69.390625 \r\nL 28.421875 72.90625 \r\nL 38.28125 72.90625 \r\nL 38.28125 8.296875 \r\nL 54.390625 8.296875 \r\nL 54.390625 0 \r\nL 12.40625 0 \r\nz\r\n\" id=\"DejaVuSans-49\"/>\r\n       </defs>\r\n       <use xlink:href=\"#DejaVuSans-49\"/>\r\n       <use x=\"63.623047\" xlink:href=\"#DejaVuSans-48\"/>\r\n       <use x=\"127.246094\" xlink:href=\"#DejaVuSans-48\"/>\r\n      </g>\r\n     </g>\r\n    </g>\r\n    <g id=\"text_7\">\r\n     <!-- length of Data -->\r\n     <g transform=\"translate(191.217188 252.916562)scale(0.1 -0.1)\">\r\n      <defs>\r\n       <path d=\"M 9.421875 75.984375 \r\nL 18.40625 75.984375 \r\nL 18.40625 0 \r\nL 9.421875 0 \r\nz\r\n\" id=\"DejaVuSans-108\"/>\r\n       <path d=\"M 56.203125 29.59375 \r\nL 56.203125 25.203125 \r\nL 14.890625 25.203125 \r\nQ 15.484375 15.921875 20.484375 11.0625 \r\nQ 25.484375 6.203125 34.421875 6.203125 \r\nQ 39.59375 6.203125 44.453125 7.46875 \r\nQ 49.3125 8.734375 54.109375 11.28125 \r\nL 54.109375 2.78125 \r\nQ 49.265625 0.734375 44.1875 -0.34375 \r\nQ 39.109375 -1.421875 33.890625 -1.421875 \r\nQ 20.796875 -1.421875 13.15625 6.1875 \r\nQ 5.515625 13.8125 5.515625 26.8125 \r\nQ 5.515625 40.234375 12.765625 48.109375 \r\nQ 20.015625 56 32.328125 56 \r\nQ 43.359375 56 49.78125 48.890625 \r\nQ 56.203125 41.796875 56.203125 29.59375 \r\nz\r\nM 47.21875 32.234375 \r\nQ 47.125 39.59375 43.09375 43.984375 \r\nQ 39.0625 48.390625 32.421875 48.390625 \r\nQ 24.90625 48.390625 20.390625 44.140625 \r\nQ 15.875 39.890625 15.1875 32.171875 \r\nz\r\n\" id=\"DejaVuSans-101\"/>\r\n       <path d=\"M 54.890625 33.015625 \r\nL 54.890625 0 \r\nL 45.90625 0 \r\nL 45.90625 32.71875 \r\nQ 45.90625 40.484375 42.875 44.328125 \r\nQ 39.84375 48.1875 33.796875 48.1875 \r\nQ 26.515625 48.1875 22.3125 43.546875 \r\nQ 18.109375 38.921875 18.109375 30.90625 \r\nL 18.109375 0 \r\nL 9.078125 0 \r\nL 9.078125 54.6875 \r\nL 18.109375 54.6875 \r\nL 18.109375 46.1875 \r\nQ 21.34375 51.125 25.703125 53.5625 \r\nQ 30.078125 56 35.796875 56 \r\nQ 45.21875 56 50.046875 50.171875 \r\nQ 54.890625 44.34375 54.890625 33.015625 \r\nz\r\n\" id=\"DejaVuSans-110\"/>\r\n       <path d=\"M 45.40625 27.984375 \r\nQ 45.40625 37.75 41.375 43.109375 \r\nQ 37.359375 48.484375 30.078125 48.484375 \r\nQ 22.859375 48.484375 18.828125 43.109375 \r\nQ 14.796875 37.75 14.796875 27.984375 \r\nQ 14.796875 18.265625 18.828125 12.890625 \r\nQ 22.859375 7.515625 30.078125 7.515625 \r\nQ 37.359375 7.515625 41.375 12.890625 \r\nQ 45.40625 18.265625 45.40625 27.984375 \r\nz\r\nM 54.390625 6.78125 \r\nQ 54.390625 -7.171875 48.1875 -13.984375 \r\nQ 42 -20.796875 29.203125 -20.796875 \r\nQ 24.46875 -20.796875 20.265625 -20.09375 \r\nQ 16.0625 -19.390625 12.109375 -17.921875 \r\nL 12.109375 -9.1875 \r\nQ 16.0625 -11.328125 19.921875 -12.34375 \r\nQ 23.78125 -13.375 27.78125 -13.375 \r\nQ 36.625 -13.375 41.015625 -8.765625 \r\nQ 45.40625 -4.15625 45.40625 5.171875 \r\nL 45.40625 9.625 \r\nQ 42.625 4.78125 38.28125 2.390625 \r\nQ 33.9375 0 27.875 0 \r\nQ 17.828125 0 11.671875 7.65625 \r\nQ 5.515625 15.328125 5.515625 27.984375 \r\nQ 5.515625 40.671875 11.671875 48.328125 \r\nQ 17.828125 56 27.875 56 \r\nQ 33.9375 56 38.28125 53.609375 \r\nQ 42.625 51.21875 45.40625 46.390625 \r\nL 45.40625 54.6875 \r\nL 54.390625 54.6875 \r\nz\r\n\" id=\"DejaVuSans-103\"/>\r\n       <path d=\"M 18.3125 70.21875 \r\nL 18.3125 54.6875 \r\nL 36.8125 54.6875 \r\nL 36.8125 47.703125 \r\nL 18.3125 47.703125 \r\nL 18.3125 18.015625 \r\nQ 18.3125 11.328125 20.140625 9.421875 \r\nQ 21.96875 7.515625 27.59375 7.515625 \r\nL 36.8125 7.515625 \r\nL 36.8125 0 \r\nL 27.59375 0 \r\nQ 17.1875 0 13.234375 3.875 \r\nQ 9.28125 7.765625 9.28125 18.015625 \r\nL 9.28125 47.703125 \r\nL 2.6875 47.703125 \r\nL 2.6875 54.6875 \r\nL 9.28125 54.6875 \r\nL 9.28125 70.21875 \r\nz\r\n\" id=\"DejaVuSans-116\"/>\r\n       <path d=\"M 54.890625 33.015625 \r\nL 54.890625 0 \r\nL 45.90625 0 \r\nL 45.90625 32.71875 \r\nQ 45.90625 40.484375 42.875 44.328125 \r\nQ 39.84375 48.1875 33.796875 48.1875 \r\nQ 26.515625 48.1875 22.3125 43.546875 \r\nQ 18.109375 38.921875 18.109375 30.90625 \r\nL 18.109375 0 \r\nL 9.078125 0 \r\nL 9.078125 75.984375 \r\nL 18.109375 75.984375 \r\nL 18.109375 46.1875 \r\nQ 21.34375 51.125 25.703125 53.5625 \r\nQ 30.078125 56 35.796875 56 \r\nQ 45.21875 56 50.046875 50.171875 \r\nQ 54.890625 44.34375 54.890625 33.015625 \r\nz\r\n\" id=\"DejaVuSans-104\"/>\r\n       <path id=\"DejaVuSans-32\"/>\r\n       <path d=\"M 30.609375 48.390625 \r\nQ 23.390625 48.390625 19.1875 42.75 \r\nQ 14.984375 37.109375 14.984375 27.296875 \r\nQ 14.984375 17.484375 19.15625 11.84375 \r\nQ 23.34375 6.203125 30.609375 6.203125 \r\nQ 37.796875 6.203125 41.984375 11.859375 \r\nQ 46.1875 17.53125 46.1875 27.296875 \r\nQ 46.1875 37.015625 41.984375 42.703125 \r\nQ 37.796875 48.390625 30.609375 48.390625 \r\nz\r\nM 30.609375 56 \r\nQ 42.328125 56 49.015625 48.375 \r\nQ 55.71875 40.765625 55.71875 27.296875 \r\nQ 55.71875 13.875 49.015625 6.21875 \r\nQ 42.328125 -1.421875 30.609375 -1.421875 \r\nQ 18.84375 -1.421875 12.171875 6.21875 \r\nQ 5.515625 13.875 5.515625 27.296875 \r\nQ 5.515625 40.765625 12.171875 48.375 \r\nQ 18.84375 56 30.609375 56 \r\nz\r\n\" id=\"DejaVuSans-111\"/>\r\n       <path d=\"M 37.109375 75.984375 \r\nL 37.109375 68.5 \r\nL 28.515625 68.5 \r\nQ 23.6875 68.5 21.796875 66.546875 \r\nQ 19.921875 64.59375 19.921875 59.515625 \r\nL 19.921875 54.6875 \r\nL 34.71875 54.6875 \r\nL 34.71875 47.703125 \r\nL 19.921875 47.703125 \r\nL 19.921875 0 \r\nL 10.890625 0 \r\nL 10.890625 47.703125 \r\nL 2.296875 47.703125 \r\nL 2.296875 54.6875 \r\nL 10.890625 54.6875 \r\nL 10.890625 58.5 \r\nQ 10.890625 67.625 15.140625 71.796875 \r\nQ 19.390625 75.984375 28.609375 75.984375 \r\nz\r\n\" id=\"DejaVuSans-102\"/>\r\n       <path d=\"M 19.671875 64.796875 \r\nL 19.671875 8.109375 \r\nL 31.59375 8.109375 \r\nQ 46.6875 8.109375 53.6875 14.9375 \r\nQ 60.6875 21.78125 60.6875 36.53125 \r\nQ 60.6875 51.171875 53.6875 57.984375 \r\nQ 46.6875 64.796875 31.59375 64.796875 \r\nz\r\nM 9.8125 72.90625 \r\nL 30.078125 72.90625 \r\nQ 51.265625 72.90625 61.171875 64.09375 \r\nQ 71.09375 55.28125 71.09375 36.53125 \r\nQ 71.09375 17.671875 61.125 8.828125 \r\nQ 51.171875 0 30.078125 0 \r\nL 9.8125 0 \r\nz\r\n\" id=\"DejaVuSans-68\"/>\r\n       <path d=\"M 34.28125 27.484375 \r\nQ 23.390625 27.484375 19.1875 25 \r\nQ 14.984375 22.515625 14.984375 16.5 \r\nQ 14.984375 11.71875 18.140625 8.90625 \r\nQ 21.296875 6.109375 26.703125 6.109375 \r\nQ 34.1875 6.109375 38.703125 11.40625 \r\nQ 43.21875 16.703125 43.21875 25.484375 \r\nL 43.21875 27.484375 \r\nz\r\nM 52.203125 31.203125 \r\nL 52.203125 0 \r\nL 43.21875 0 \r\nL 43.21875 8.296875 \r\nQ 40.140625 3.328125 35.546875 0.953125 \r\nQ 30.953125 -1.421875 24.3125 -1.421875 \r\nQ 15.921875 -1.421875 10.953125 3.296875 \r\nQ 6 8.015625 6 15.921875 \r\nQ 6 25.140625 12.171875 29.828125 \r\nQ 18.359375 34.515625 30.609375 34.515625 \r\nL 43.21875 34.515625 \r\nL 43.21875 35.40625 \r\nQ 43.21875 41.609375 39.140625 45 \r\nQ 35.0625 48.390625 27.6875 48.390625 \r\nQ 23 48.390625 18.546875 47.265625 \r\nQ 14.109375 46.140625 10.015625 43.890625 \r\nL 10.015625 52.203125 \r\nQ 14.9375 54.109375 19.578125 55.046875 \r\nQ 24.21875 56 28.609375 56 \r\nQ 40.484375 56 46.34375 49.84375 \r\nQ 52.203125 43.703125 52.203125 31.203125 \r\nz\r\n\" id=\"DejaVuSans-97\"/>\r\n      </defs>\r\n      <use xlink:href=\"#DejaVuSans-108\"/>\r\n      <use x=\"27.783203\" xlink:href=\"#DejaVuSans-101\"/>\r\n      <use x=\"89.306641\" xlink:href=\"#DejaVuSans-110\"/>\r\n      <use x=\"152.685547\" xlink:href=\"#DejaVuSans-103\"/>\r\n      <use x=\"216.162109\" xlink:href=\"#DejaVuSans-116\"/>\r\n      <use x=\"255.371094\" xlink:href=\"#DejaVuSans-104\"/>\r\n      <use x=\"318.75\" xlink:href=\"#DejaVuSans-32\"/>\r\n      <use x=\"350.537109\" xlink:href=\"#DejaVuSans-111\"/>\r\n      <use x=\"411.71875\" xlink:href=\"#DejaVuSans-102\"/>\r\n      <use x=\"446.923828\" xlink:href=\"#DejaVuSans-32\"/>\r\n      <use x=\"478.710938\" xlink:href=\"#DejaVuSans-68\"/>\r\n      <use x=\"555.712891\" xlink:href=\"#DejaVuSans-97\"/>\r\n      <use x=\"616.992188\" xlink:href=\"#DejaVuSans-116\"/>\r\n      <use x=\"656.201172\" xlink:href=\"#DejaVuSans-97\"/>\r\n     </g>\r\n    </g>\r\n   </g>\r\n   <g id=\"matplotlib.axis_2\">\r\n    <g id=\"ytick_1\">\r\n     <g id=\"line2d_7\">\r\n      <defs>\r\n       <path d=\"M 0 0 \r\nL -3.5 0 \r\n\" id=\"m24f78a368e\" style=\"stroke:#000000;stroke-width:0.8;\"/>\r\n      </defs>\r\n      <g>\r\n       <use style=\"stroke:#000000;stroke-width:0.8;\" x=\"59.690625\" xlink:href=\"#m24f78a368e\" y=\"224.64\"/>\r\n      </g>\r\n     </g>\r\n     <g id=\"text_8\">\r\n      <!-- 0 -->\r\n      <g transform=\"translate(46.328125 228.439219)scale(0.1 -0.1)\">\r\n       <use xlink:href=\"#DejaVuSans-48\"/>\r\n      </g>\r\n     </g>\r\n    </g>\r\n    <g id=\"ytick_2\">\r\n     <g id=\"line2d_8\">\r\n      <g>\r\n       <use style=\"stroke:#000000;stroke-width:0.8;\" x=\"59.690625\" xlink:href=\"#m24f78a368e\" y=\"195.129681\"/>\r\n      </g>\r\n     </g>\r\n     <g id=\"text_9\">\r\n      <!-- 5000 -->\r\n      <g transform=\"translate(27.240625 198.9289)scale(0.1 -0.1)\">\r\n       <defs>\r\n        <path d=\"M 10.796875 72.90625 \r\nL 49.515625 72.90625 \r\nL 49.515625 64.59375 \r\nL 19.828125 64.59375 \r\nL 19.828125 46.734375 \r\nQ 21.96875 47.46875 24.109375 47.828125 \r\nQ 26.265625 48.1875 28.421875 48.1875 \r\nQ 40.625 48.1875 47.75 41.5 \r\nQ 54.890625 34.8125 54.890625 23.390625 \r\nQ 54.890625 11.625 47.5625 5.09375 \r\nQ 40.234375 -1.421875 26.90625 -1.421875 \r\nQ 22.3125 -1.421875 17.546875 -0.640625 \r\nQ 12.796875 0.140625 7.71875 1.703125 \r\nL 7.71875 11.625 \r\nQ 12.109375 9.234375 16.796875 8.0625 \r\nQ 21.484375 6.890625 26.703125 6.890625 \r\nQ 35.15625 6.890625 40.078125 11.328125 \r\nQ 45.015625 15.765625 45.015625 23.390625 \r\nQ 45.015625 31 40.078125 35.4375 \r\nQ 35.15625 39.890625 26.703125 39.890625 \r\nQ 22.75 39.890625 18.8125 39.015625 \r\nQ 14.890625 38.140625 10.796875 36.28125 \r\nz\r\n\" id=\"DejaVuSans-53\"/>\r\n       </defs>\r\n       <use xlink:href=\"#DejaVuSans-53\"/>\r\n       <use x=\"63.623047\" xlink:href=\"#DejaVuSans-48\"/>\r\n       <use x=\"127.246094\" xlink:href=\"#DejaVuSans-48\"/>\r\n       <use x=\"190.869141\" xlink:href=\"#DejaVuSans-48\"/>\r\n      </g>\r\n     </g>\r\n    </g>\r\n    <g id=\"ytick_3\">\r\n     <g id=\"line2d_9\">\r\n      <g>\r\n       <use style=\"stroke:#000000;stroke-width:0.8;\" x=\"59.690625\" xlink:href=\"#m24f78a368e\" y=\"165.619362\"/>\r\n      </g>\r\n     </g>\r\n     <g id=\"text_10\">\r\n      <!-- 10000 -->\r\n      <g transform=\"translate(20.878125 169.41858)scale(0.1 -0.1)\">\r\n       <use xlink:href=\"#DejaVuSans-49\"/>\r\n       <use x=\"63.623047\" xlink:href=\"#DejaVuSans-48\"/>\r\n       <use x=\"127.246094\" xlink:href=\"#DejaVuSans-48\"/>\r\n       <use x=\"190.869141\" xlink:href=\"#DejaVuSans-48\"/>\r\n       <use x=\"254.492188\" xlink:href=\"#DejaVuSans-48\"/>\r\n      </g>\r\n     </g>\r\n    </g>\r\n    <g id=\"ytick_4\">\r\n     <g id=\"line2d_10\">\r\n      <g>\r\n       <use style=\"stroke:#000000;stroke-width:0.8;\" x=\"59.690625\" xlink:href=\"#m24f78a368e\" y=\"136.109042\"/>\r\n      </g>\r\n     </g>\r\n     <g id=\"text_11\">\r\n      <!-- 15000 -->\r\n      <g transform=\"translate(20.878125 139.908261)scale(0.1 -0.1)\">\r\n       <use xlink:href=\"#DejaVuSans-49\"/>\r\n       <use x=\"63.623047\" xlink:href=\"#DejaVuSans-53\"/>\r\n       <use x=\"127.246094\" xlink:href=\"#DejaVuSans-48\"/>\r\n       <use x=\"190.869141\" xlink:href=\"#DejaVuSans-48\"/>\r\n       <use x=\"254.492188\" xlink:href=\"#DejaVuSans-48\"/>\r\n      </g>\r\n     </g>\r\n    </g>\r\n    <g id=\"ytick_5\">\r\n     <g id=\"line2d_11\">\r\n      <g>\r\n       <use style=\"stroke:#000000;stroke-width:0.8;\" x=\"59.690625\" xlink:href=\"#m24f78a368e\" y=\"106.598723\"/>\r\n      </g>\r\n     </g>\r\n     <g id=\"text_12\">\r\n      <!-- 20000 -->\r\n      <g transform=\"translate(20.878125 110.397942)scale(0.1 -0.1)\">\r\n       <use xlink:href=\"#DejaVuSans-50\"/>\r\n       <use x=\"63.623047\" xlink:href=\"#DejaVuSans-48\"/>\r\n       <use x=\"127.246094\" xlink:href=\"#DejaVuSans-48\"/>\r\n       <use x=\"190.869141\" xlink:href=\"#DejaVuSans-48\"/>\r\n       <use x=\"254.492188\" xlink:href=\"#DejaVuSans-48\"/>\r\n      </g>\r\n     </g>\r\n    </g>\r\n    <g id=\"ytick_6\">\r\n     <g id=\"line2d_12\">\r\n      <g>\r\n       <use style=\"stroke:#000000;stroke-width:0.8;\" x=\"59.690625\" xlink:href=\"#m24f78a368e\" y=\"77.088404\"/>\r\n      </g>\r\n     </g>\r\n     <g id=\"text_13\">\r\n      <!-- 25000 -->\r\n      <g transform=\"translate(20.878125 80.887623)scale(0.1 -0.1)\">\r\n       <use xlink:href=\"#DejaVuSans-50\"/>\r\n       <use x=\"63.623047\" xlink:href=\"#DejaVuSans-53\"/>\r\n       <use x=\"127.246094\" xlink:href=\"#DejaVuSans-48\"/>\r\n       <use x=\"190.869141\" xlink:href=\"#DejaVuSans-48\"/>\r\n       <use x=\"254.492188\" xlink:href=\"#DejaVuSans-48\"/>\r\n      </g>\r\n     </g>\r\n    </g>\r\n    <g id=\"ytick_7\">\r\n     <g id=\"line2d_13\">\r\n      <g>\r\n       <use style=\"stroke:#000000;stroke-width:0.8;\" x=\"59.690625\" xlink:href=\"#m24f78a368e\" y=\"47.578085\"/>\r\n      </g>\r\n     </g>\r\n     <g id=\"text_14\">\r\n      <!-- 30000 -->\r\n      <g transform=\"translate(20.878125 51.377303)scale(0.1 -0.1)\">\r\n       <defs>\r\n        <path d=\"M 40.578125 39.3125 \r\nQ 47.65625 37.796875 51.625 33 \r\nQ 55.609375 28.21875 55.609375 21.1875 \r\nQ 55.609375 10.40625 48.1875 4.484375 \r\nQ 40.765625 -1.421875 27.09375 -1.421875 \r\nQ 22.515625 -1.421875 17.65625 -0.515625 \r\nQ 12.796875 0.390625 7.625 2.203125 \r\nL 7.625 11.71875 \r\nQ 11.71875 9.328125 16.59375 8.109375 \r\nQ 21.484375 6.890625 26.8125 6.890625 \r\nQ 36.078125 6.890625 40.9375 10.546875 \r\nQ 45.796875 14.203125 45.796875 21.1875 \r\nQ 45.796875 27.640625 41.28125 31.265625 \r\nQ 36.765625 34.90625 28.71875 34.90625 \r\nL 20.21875 34.90625 \r\nL 20.21875 43.015625 \r\nL 29.109375 43.015625 \r\nQ 36.375 43.015625 40.234375 45.921875 \r\nQ 44.09375 48.828125 44.09375 54.296875 \r\nQ 44.09375 59.90625 40.109375 62.90625 \r\nQ 36.140625 65.921875 28.71875 65.921875 \r\nQ 24.65625 65.921875 20.015625 65.03125 \r\nQ 15.375 64.15625 9.8125 62.3125 \r\nL 9.8125 71.09375 \r\nQ 15.4375 72.65625 20.34375 73.4375 \r\nQ 25.25 74.21875 29.59375 74.21875 \r\nQ 40.828125 74.21875 47.359375 69.109375 \r\nQ 53.90625 64.015625 53.90625 55.328125 \r\nQ 53.90625 49.265625 50.4375 45.09375 \r\nQ 46.96875 40.921875 40.578125 39.3125 \r\nz\r\n\" id=\"DejaVuSans-51\"/>\r\n       </defs>\r\n       <use xlink:href=\"#DejaVuSans-51\"/>\r\n       <use x=\"63.623047\" xlink:href=\"#DejaVuSans-48\"/>\r\n       <use x=\"127.246094\" xlink:href=\"#DejaVuSans-48\"/>\r\n       <use x=\"190.869141\" xlink:href=\"#DejaVuSans-48\"/>\r\n       <use x=\"254.492188\" xlink:href=\"#DejaVuSans-48\"/>\r\n      </g>\r\n     </g>\r\n    </g>\r\n    <g id=\"ytick_8\">\r\n     <g id=\"line2d_14\">\r\n      <g>\r\n       <use style=\"stroke:#000000;stroke-width:0.8;\" x=\"59.690625\" xlink:href=\"#m24f78a368e\" y=\"18.067765\"/>\r\n      </g>\r\n     </g>\r\n     <g id=\"text_15\">\r\n      <!-- 35000 -->\r\n      <g transform=\"translate(20.878125 21.866984)scale(0.1 -0.1)\">\r\n       <use xlink:href=\"#DejaVuSans-51\"/>\r\n       <use x=\"63.623047\" xlink:href=\"#DejaVuSans-53\"/>\r\n       <use x=\"127.246094\" xlink:href=\"#DejaVuSans-48\"/>\r\n       <use x=\"190.869141\" xlink:href=\"#DejaVuSans-48\"/>\r\n       <use x=\"254.492188\" xlink:href=\"#DejaVuSans-48\"/>\r\n      </g>\r\n     </g>\r\n    </g>\r\n    <g id=\"text_16\">\r\n     <!-- number of Data -->\r\n     <g transform=\"translate(14.798438 155.37)rotate(-90)scale(0.1 -0.1)\">\r\n      <defs>\r\n       <path d=\"M 8.5 21.578125 \r\nL 8.5 54.6875 \r\nL 17.484375 54.6875 \r\nL 17.484375 21.921875 \r\nQ 17.484375 14.15625 20.5 10.265625 \r\nQ 23.53125 6.390625 29.59375 6.390625 \r\nQ 36.859375 6.390625 41.078125 11.03125 \r\nQ 45.3125 15.671875 45.3125 23.6875 \r\nL 45.3125 54.6875 \r\nL 54.296875 54.6875 \r\nL 54.296875 0 \r\nL 45.3125 0 \r\nL 45.3125 8.40625 \r\nQ 42.046875 3.421875 37.71875 1 \r\nQ 33.40625 -1.421875 27.6875 -1.421875 \r\nQ 18.265625 -1.421875 13.375 4.4375 \r\nQ 8.5 10.296875 8.5 21.578125 \r\nz\r\nM 31.109375 56 \r\nz\r\n\" id=\"DejaVuSans-117\"/>\r\n       <path d=\"M 52 44.1875 \r\nQ 55.375 50.25 60.0625 53.125 \r\nQ 64.75 56 71.09375 56 \r\nQ 79.640625 56 84.28125 50.015625 \r\nQ 88.921875 44.046875 88.921875 33.015625 \r\nL 88.921875 0 \r\nL 79.890625 0 \r\nL 79.890625 32.71875 \r\nQ 79.890625 40.578125 77.09375 44.375 \r\nQ 74.3125 48.1875 68.609375 48.1875 \r\nQ 61.625 48.1875 57.5625 43.546875 \r\nQ 53.515625 38.921875 53.515625 30.90625 \r\nL 53.515625 0 \r\nL 44.484375 0 \r\nL 44.484375 32.71875 \r\nQ 44.484375 40.625 41.703125 44.40625 \r\nQ 38.921875 48.1875 33.109375 48.1875 \r\nQ 26.21875 48.1875 22.15625 43.53125 \r\nQ 18.109375 38.875 18.109375 30.90625 \r\nL 18.109375 0 \r\nL 9.078125 0 \r\nL 9.078125 54.6875 \r\nL 18.109375 54.6875 \r\nL 18.109375 46.1875 \r\nQ 21.1875 51.21875 25.484375 53.609375 \r\nQ 29.78125 56 35.6875 56 \r\nQ 41.65625 56 45.828125 52.96875 \r\nQ 50 49.953125 52 44.1875 \r\nz\r\n\" id=\"DejaVuSans-109\"/>\r\n       <path d=\"M 48.6875 27.296875 \r\nQ 48.6875 37.203125 44.609375 42.84375 \r\nQ 40.53125 48.484375 33.40625 48.484375 \r\nQ 26.265625 48.484375 22.1875 42.84375 \r\nQ 18.109375 37.203125 18.109375 27.296875 \r\nQ 18.109375 17.390625 22.1875 11.75 \r\nQ 26.265625 6.109375 33.40625 6.109375 \r\nQ 40.53125 6.109375 44.609375 11.75 \r\nQ 48.6875 17.390625 48.6875 27.296875 \r\nz\r\nM 18.109375 46.390625 \r\nQ 20.953125 51.265625 25.265625 53.625 \r\nQ 29.59375 56 35.59375 56 \r\nQ 45.5625 56 51.78125 48.09375 \r\nQ 58.015625 40.1875 58.015625 27.296875 \r\nQ 58.015625 14.40625 51.78125 6.484375 \r\nQ 45.5625 -1.421875 35.59375 -1.421875 \r\nQ 29.59375 -1.421875 25.265625 0.953125 \r\nQ 20.953125 3.328125 18.109375 8.203125 \r\nL 18.109375 0 \r\nL 9.078125 0 \r\nL 9.078125 75.984375 \r\nL 18.109375 75.984375 \r\nz\r\n\" id=\"DejaVuSans-98\"/>\r\n       <path d=\"M 41.109375 46.296875 \r\nQ 39.59375 47.171875 37.8125 47.578125 \r\nQ 36.03125 48 33.890625 48 \r\nQ 26.265625 48 22.1875 43.046875 \r\nQ 18.109375 38.09375 18.109375 28.8125 \r\nL 18.109375 0 \r\nL 9.078125 0 \r\nL 9.078125 54.6875 \r\nL 18.109375 54.6875 \r\nL 18.109375 46.1875 \r\nQ 20.953125 51.171875 25.484375 53.578125 \r\nQ 30.03125 56 36.53125 56 \r\nQ 37.453125 56 38.578125 55.875 \r\nQ 39.703125 55.765625 41.0625 55.515625 \r\nz\r\n\" id=\"DejaVuSans-114\"/>\r\n      </defs>\r\n      <use xlink:href=\"#DejaVuSans-110\"/>\r\n      <use x=\"63.378906\" xlink:href=\"#DejaVuSans-117\"/>\r\n      <use x=\"126.757812\" xlink:href=\"#DejaVuSans-109\"/>\r\n      <use x=\"224.169922\" xlink:href=\"#DejaVuSans-98\"/>\r\n      <use x=\"287.646484\" xlink:href=\"#DejaVuSans-101\"/>\r\n      <use x=\"349.169922\" xlink:href=\"#DejaVuSans-114\"/>\r\n      <use x=\"390.283203\" xlink:href=\"#DejaVuSans-32\"/>\r\n      <use x=\"422.070312\" xlink:href=\"#DejaVuSans-111\"/>\r\n      <use x=\"483.251953\" xlink:href=\"#DejaVuSans-102\"/>\r\n      <use x=\"518.457031\" xlink:href=\"#DejaVuSans-32\"/>\r\n      <use x=\"550.244141\" xlink:href=\"#DejaVuSans-68\"/>\r\n      <use x=\"627.246094\" xlink:href=\"#DejaVuSans-97\"/>\r\n      <use x=\"688.525391\" xlink:href=\"#DejaVuSans-116\"/>\r\n      <use x=\"727.734375\" xlink:href=\"#DejaVuSans-97\"/>\r\n     </g>\r\n    </g>\r\n   </g>\r\n   <g id=\"patch_53\">\r\n    <path d=\"M 59.690625 224.64 \r\nL 59.690625 7.2 \r\n\" style=\"fill:none;stroke:#000000;stroke-linecap:square;stroke-linejoin:miter;stroke-width:0.8;\"/>\r\n   </g>\r\n   <g id=\"patch_54\">\r\n    <path d=\"M 394.490625 224.64 \r\nL 394.490625 7.2 \r\n\" style=\"fill:none;stroke:#000000;stroke-linecap:square;stroke-linejoin:miter;stroke-width:0.8;\"/>\r\n   </g>\r\n   <g id=\"patch_55\">\r\n    <path d=\"M 59.690625 224.64 \r\nL 394.490625 224.64 \r\n\" style=\"fill:none;stroke:#000000;stroke-linecap:square;stroke-linejoin:miter;stroke-width:0.8;\"/>\r\n   </g>\r\n   <g id=\"patch_56\">\r\n    <path d=\"M 59.690625 7.2 \r\nL 394.490625 7.2 \r\n\" style=\"fill:none;stroke:#000000;stroke-linecap:square;stroke-linejoin:miter;stroke-width:0.8;\"/>\r\n   </g>\r\n  </g>\r\n </g>\r\n <defs>\r\n  <clipPath id=\"p9790ddf02e\">\r\n   <rect height=\"217.44\" width=\"334.8\" x=\"59.690625\" y=\"7.2\"/>\r\n  </clipPath>\r\n </defs>\r\n</svg>\r\n",
      "text/plain": [
       "<Figure size 432x288 with 1 Axes>"
      ]
     },
     "metadata": {
      "needs_background": "light"
     }
    }
   ],
   "metadata": {}
  },
  {
   "cell_type": "code",
   "execution_count": 103,
   "source": [
    "# one- hot  encoding\r\n",
    "import numpy as np \r\n",
    "y_train = [] \r\n",
    "y_test = [] \r\n",
    "\r\n",
    "for i in range(len(train_y)):\r\n",
    "    if train_y.iloc[i] == 1: \r\n",
    "        y_train.append([0, 0, 1]) \r\n",
    "    elif train_y.iloc[i] == 0: \r\n",
    "        y_train.append([0, 1, 0]) \r\n",
    "    elif train_y.iloc[i] == -1: \r\n",
    "        y_train.append([1, 0, 0]) \r\n",
    "\r\n",
    "for i in range(len(test_y)): \r\n",
    "    if test_y.iloc[i] == 1: \r\n",
    "        y_test.append([0, 0, 1]) \r\n",
    "    elif test_y.iloc[i] == 0: \r\n",
    "        y_test.append([0, 1, 0]) \r\n",
    "    elif test_y.iloc[i] == -1: \r\n",
    "        y_test.append([1, 0, 0]) \r\n",
    "        \r\n",
    "y_train = np.array(y_train) \r\n",
    "y_test = np.array(y_test)"
   ],
   "outputs": [],
   "metadata": {}
  },
  {
   "cell_type": "markdown",
   "source": [
    "## 05. 모델 생성"
   ],
   "metadata": {}
  },
  {
   "cell_type": "code",
   "execution_count": 104,
   "source": [
    "from keras.layers import Embedding, Dense, LSTM \r\n",
    "from keras.models import Sequential \r\n",
    "from keras.preprocessing.sequence import pad_sequences\r\n",
    "max_len = 20 # 전체 데이터의 길이를 20로 맞춘다 \r\n",
    " \r\n",
    "X_train = pad_sequences(X_train, maxlen=max_len) \r\n",
    "X_test = pad_sequences(X_test, maxlen=max_len)"
   ],
   "outputs": [],
   "metadata": {}
  },
  {
   "cell_type": "code",
   "execution_count": 105,
   "source": [
    "model = Sequential() \r\n",
    "model.add(Embedding(max_words, 100)) \r\n",
    "model.add(LSTM(128)) \r\n",
    "model.add(Dense(3, activation='softmax')) \r\n",
    "\r\n",
    "model.compile(optimizer='rmsprop', loss='categorical_crossentropy', metrics=['accuracy'])  #optimizer: rmsprop\r\n",
    "history = model.fit(X_train, y_train, epochs=10, batch_size=10, validation_split=0.1)"
   ],
   "outputs": [
    {
     "output_type": "stream",
     "name": "stdout",
     "text": [
      "Epoch 1/10\n",
      "26825/26825 [==============================] - 528s 19ms/step - loss: 0.4492 - accuracy: 0.8079 - val_loss: 0.3917 - val_accuracy: 0.8436\n",
      "Epoch 2/10\n",
      "26825/26825 [==============================] - 505s 19ms/step - loss: 0.3736 - accuracy: 0.8512 - val_loss: 0.3844 - val_accuracy: 0.8472\n",
      "Epoch 3/10\n",
      "26825/26825 [==============================] - 526s 20ms/step - loss: 0.3607 - accuracy: 0.8587 - val_loss: 0.3833 - val_accuracy: 0.8489\n",
      "Epoch 4/10\n",
      "26825/26825 [==============================] - 536s 20ms/step - loss: 0.3536 - accuracy: 0.8627 - val_loss: 0.3823 - val_accuracy: 0.8503\n",
      "Epoch 5/10\n",
      "26825/26825 [==============================] - 549s 20ms/step - loss: 0.3488 - accuracy: 0.8670 - val_loss: 0.3970 - val_accuracy: 0.8520\n",
      "Epoch 6/10\n",
      "26825/26825 [==============================] - 579s 22ms/step - loss: 0.3454 - accuracy: 0.8698 - val_loss: 0.3827 - val_accuracy: 0.8509\n",
      "Epoch 7/10\n",
      "26825/26825 [==============================] - 643s 24ms/step - loss: 0.3443 - accuracy: 0.8711 - val_loss: 0.3991 - val_accuracy: 0.8508\n",
      "Epoch 8/10\n",
      "26825/26825 [==============================] - 541s 20ms/step - loss: 0.3440 - accuracy: 0.8723 - val_loss: 0.3938 - val_accuracy: 0.8493\n",
      "Epoch 9/10\n",
      "26825/26825 [==============================] - 482s 18ms/step - loss: 0.3390 - accuracy: 0.8752 - val_loss: 0.3962 - val_accuracy: 0.8488\n",
      "Epoch 10/10\n",
      "26825/26825 [==============================] - 586s 22ms/step - loss: 0.3382 - accuracy: 0.8761 - val_loss: 0.3991 - val_accuracy: 0.8494\n"
     ]
    }
   ],
   "metadata": {}
  },
  {
   "cell_type": "code",
   "execution_count": 106,
   "source": [
    "print('정확도 : {:.2f}%'.format(model.evaluate(X_test, y_test)[1]*100 ))"
   ],
   "outputs": [
    {
     "output_type": "stream",
     "name": "stdout",
     "text": [
      "2329/2329 [==============================] - 13s 5ms/step - loss: 0.4052 - accuracy: 0.8473\n",
      "정확도 : 84.73%\n"
     ]
    }
   ],
   "metadata": {}
  },
  {
   "cell_type": "code",
   "execution_count": 188,
   "source": [
    "model2 = Sequential() \r\n",
    "model2.add(Embedding(max_words, 100)) \r\n",
    "model2.add(LSTM(128)) \r\n",
    "model2.add(Dense(3, activation='softmax')) \r\n",
    "\r\n",
    "model2.compile(optimizer='adam', loss='categorical_crossentropy', metrics=['accuracy']) \r\n",
    "history = model2.fit(X_train, y_train, epochs=10, batch_size=10, validation_split=0.1)"
   ],
   "outputs": [
    {
     "output_type": "stream",
     "name": "stdout",
     "text": [
      "Epoch 1/10\n",
      "26825/26825 [==============================] - 1319s 49ms/step - loss: 0.4249 - accuracy: 0.8159 - val_loss: 0.3528 - val_accuracy: 0.8518\n",
      "Epoch 2/10\n",
      "26825/26825 [==============================] - 1581s 59ms/step - loss: 0.3057 - accuracy: 0.8752 - val_loss: 0.3418 - val_accuracy: 0.8574\n",
      "Epoch 3/10\n",
      "26825/26825 [==============================] - 2030s 76ms/step - loss: 0.2577 - accuracy: 0.8975 - val_loss: 0.3454 - val_accuracy: 0.8566\n",
      "Epoch 4/10\n",
      "26825/26825 [==============================] - 1265s 47ms/step - loss: 0.2165 - accuracy: 0.9161 - val_loss: 0.3735 - val_accuracy: 0.8507\n",
      "Epoch 5/10\n",
      "26825/26825 [==============================] - 1254s 47ms/step - loss: 0.1802 - accuracy: 0.9321 - val_loss: 0.4075 - val_accuracy: 0.8466\n",
      "Epoch 6/10\n",
      "26825/26825 [==============================] - 1159s 43ms/step - loss: 0.1445 - accuracy: 0.9466 - val_loss: 0.4522 - val_accuracy: 0.8422\n",
      "Epoch 7/10\n",
      "26825/26825 [==============================] - 1257s 47ms/step - loss: 0.1171 - accuracy: 0.9579 - val_loss: 0.5168 - val_accuracy: 0.8364\n",
      "Epoch 8/10\n",
      "26825/26825 [==============================] - 1320s 49ms/step - loss: 0.0949 - accuracy: 0.9652 - val_loss: 0.5801 - val_accuracy: 0.8309\n",
      "Epoch 9/10\n",
      "26825/26825 [==============================] - 1279s 48ms/step - loss: 0.0779 - accuracy: 0.9721 - val_loss: 0.6165 - val_accuracy: 0.8332\n",
      "Epoch 10/10\n",
      "26825/26825 [==============================] - 1193s 44ms/step - loss: 0.0664 - accuracy: 0.9762 - val_loss: 0.6999 - val_accuracy: 0.8282\n"
     ]
    }
   ],
   "metadata": {}
  },
  {
   "cell_type": "code",
   "execution_count": 192,
   "source": [
    "print('정확도 : {:.2f}%'.format(model2.evaluate(X_test, y_test)[1]*100 ))"
   ],
   "outputs": [
    {
     "output_type": "stream",
     "name": "stdout",
     "text": [
      "2329/2329 [==============================] - 33s 14ms/step - loss: 0.6969 - accuracy: 0.8297\n",
      "정확도 : 82.97%\n"
     ]
    }
   ],
   "metadata": {}
  },
  {
   "cell_type": "markdown",
   "source": [
    "## 07. 실제 test 값 매핑 확인"
   ],
   "metadata": {}
  },
  {
   "cell_type": "code",
   "execution_count": 125,
   "source": [
    "predict = model.predict(X_test) # x_test로 예측하기 이를 "
   ],
   "outputs": [],
   "metadata": {}
  },
  {
   "cell_type": "code",
   "execution_count": 122,
   "source": [
    "predict_labels = np.argmax(predict, axis=1) \r\n",
    "original_labels = np.argmax(y_test, axis=1)"
   ],
   "outputs": [],
   "metadata": {}
  },
  {
   "cell_type": "code",
   "execution_count": 114,
   "source": [
    "st, origin, pred =[],[],[]\r\n",
    "# 예시로 30개만 뽑아 데이터 직접 비교해보기\r\n",
    "for i in range(30): \r\n",
    "    st.append( test_x.iloc[i] ) ,\r\n",
    "    origin.append( original_labels[i]) , \r\n",
    "    pred.append( predict_labels[i])\r\n",
    "    \r\n",
    "# 데이터프레임 만들기\r\n",
    "ex_30 = pd.DataFrame({'문장' : st , '원래라벨' :origin , '예측': pred  })\r\n",
    "ex_30"
   ],
   "outputs": [
    {
     "output_type": "execute_result",
     "data": {
      "text/html": [
       "<div>\n",
       "<style scoped>\n",
       "    .dataframe tbody tr th:only-of-type {\n",
       "        vertical-align: middle;\n",
       "    }\n",
       "\n",
       "    .dataframe tbody tr th {\n",
       "        vertical-align: top;\n",
       "    }\n",
       "\n",
       "    .dataframe thead th {\n",
       "        text-align: right;\n",
       "    }\n",
       "</style>\n",
       "<table border=\"1\" class=\"dataframe\">\n",
       "  <thead>\n",
       "    <tr style=\"text-align: right;\">\n",
       "      <th></th>\n",
       "      <th>문장</th>\n",
       "      <th>원래라벨</th>\n",
       "      <th>예측</th>\n",
       "    </tr>\n",
       "  </thead>\n",
       "  <tbody>\n",
       "    <tr>\n",
       "      <th>0</th>\n",
       "      <td>생각보다 타이트한거같은데 이쁘네요</td>\n",
       "      <td>2</td>\n",
       "      <td>2</td>\n",
       "    </tr>\n",
       "    <tr>\n",
       "      <th>1</th>\n",
       "      <td>곰곰 브랜드가 생기고 나서 다른 제품들도 애용하지만 쌀은 꼭 곰곰으로 삽니다</td>\n",
       "      <td>1</td>\n",
       "      <td>2</td>\n",
       "    </tr>\n",
       "    <tr>\n",
       "      <th>2</th>\n",
       "      <td>\\n포장은 일반 쌀과는 좀 다르게\\n비닐에 포장되어 있습니다</td>\n",
       "      <td>1</td>\n",
       "      <td>1</td>\n",
       "    </tr>\n",
       "    <tr>\n",
       "      <th>3</th>\n",
       "      <td>콜 오브 듀티는 이제 나에겐 멀티 하려고 사는 게임이 되어버렸지만 트레이 아크 콜옵...</td>\n",
       "      <td>2</td>\n",
       "      <td>2</td>\n",
       "    </tr>\n",
       "    <tr>\n",
       "      <th>4</th>\n",
       "      <td>70% 세일 눈물 날 정도의 압도적 감사 8은 내스타일이 아니라서</td>\n",
       "      <td>2</td>\n",
       "      <td>0</td>\n",
       "    </tr>\n",
       "    <tr>\n",
       "      <th>5</th>\n",
       "      <td>파스가 이렇게 시원할줄 예상 못했는데 너무 좋아요!! 요즘 운동시작해서 근육통 달고...</td>\n",
       "      <td>2</td>\n",
       "      <td>2</td>\n",
       "    </tr>\n",
       "    <tr>\n",
       "      <th>6</th>\n",
       "      <td>무려 20년전의 명작이라는 부분을 감안해야 합니다. 수퍼마리오나 록맨 시대 직후의 ...</td>\n",
       "      <td>0</td>\n",
       "      <td>0</td>\n",
       "    </tr>\n",
       "    <tr>\n",
       "      <th>7</th>\n",
       "      <td>처음엔 편한거 같더니 조금 안고 있으면 어깨가 아파요ㅠㅠ아기 다리에 자국도 나구요</td>\n",
       "      <td>2</td>\n",
       "      <td>0</td>\n",
       "    </tr>\n",
       "    <tr>\n",
       "      <th>8</th>\n",
       "      <td>분위기랑 ost랑 김지수도 너무 예쁘게 나오고 괜찮았는데, 내용이 약간 공감불가.</td>\n",
       "      <td>0</td>\n",
       "      <td>2</td>\n",
       "    </tr>\n",
       "    <tr>\n",
       "      <th>9</th>\n",
       "      <td>쌀눈은 찾아보기 어려워요</td>\n",
       "      <td>0</td>\n",
       "      <td>2</td>\n",
       "    </tr>\n",
       "    <tr>\n",
       "      <th>10</th>\n",
       "      <td>핫.핑.크.로 주문했는데 그레이왔는데요 ㅡㅡ</td>\n",
       "      <td>0</td>\n",
       "      <td>0</td>\n",
       "    </tr>\n",
       "    <tr>\n",
       "      <th>11</th>\n",
       "      <td>만좋합니다 좋습니다어ㅏ</td>\n",
       "      <td>2</td>\n",
       "      <td>2</td>\n",
       "    </tr>\n",
       "    <tr>\n",
       "      <th>12</th>\n",
       "      <td>탈부착식 완전 별로 아무리 잘해도 떨어짐 바닥이랑 싱크대 박살났네요</td>\n",
       "      <td>0</td>\n",
       "      <td>0</td>\n",
       "    </tr>\n",
       "    <tr>\n",
       "      <th>13</th>\n",
       "      <td>그래픽도 그렇지만, 게임 자체의 속도감도 느림. 후반으로 갈수록 지랄맞아지는 난이도...</td>\n",
       "      <td>2</td>\n",
       "      <td>0</td>\n",
       "    </tr>\n",
       "    <tr>\n",
       "      <th>14</th>\n",
       "      <td>역시 인터넷으로 사니 다양한 크기와 종류 한꺼번에 살 수 있어 좋아요~마트에서는 비...</td>\n",
       "      <td>2</td>\n",
       "      <td>2</td>\n",
       "    </tr>\n",
       "    <tr>\n",
       "      <th>15</th>\n",
       "      <td>당일 배송이라고 되어있는데, 이틀후 발송되었습니다. 인쇄된 부분들이 다 벗겨져 왔습...</td>\n",
       "      <td>0</td>\n",
       "      <td>0</td>\n",
       "    </tr>\n",
       "    <tr>\n",
       "      <th>16</th>\n",
       "      <td>다크닝없이 처음 색상 그대로 유지되어 좋았어요 큰 불만없이 오래 쓸수있을것같아요~</td>\n",
       "      <td>2</td>\n",
       "      <td>2</td>\n",
       "    </tr>\n",
       "    <tr>\n",
       "      <th>17</th>\n",
       "      <td>학교에 가져가서 봤는데 애들한테 밝힐뻔 했다..완전 뷁~</td>\n",
       "      <td>0</td>\n",
       "      <td>0</td>\n",
       "    </tr>\n",
       "    <tr>\n",
       "      <th>18</th>\n",
       "      <td>너무 잘 찢어져요 ㅠㅠ 조금만 쳐도 찢어지네요</td>\n",
       "      <td>0</td>\n",
       "      <td>0</td>\n",
       "    </tr>\n",
       "    <tr>\n",
       "      <th>19</th>\n",
       "      <td>깨진 쌀알도 별로 없고 순정으로 밥을 지어 보았는데\\n윤기가 흐르고 밥맛도 좋네요</td>\n",
       "      <td>2</td>\n",
       "      <td>2</td>\n",
       "    </tr>\n",
       "    <tr>\n",
       "      <th>20</th>\n",
       "      <td>리모컨이 다소 불편하지만 설치쉽고 공간활용 좋아요 가성비좋네요</td>\n",
       "      <td>2</td>\n",
       "      <td>2</td>\n",
       "    </tr>\n",
       "    <tr>\n",
       "      <th>21</th>\n",
       "      <td>09년에 시작해서 10년 지난 지금도 보로스 못깸</td>\n",
       "      <td>2</td>\n",
       "      <td>0</td>\n",
       "    </tr>\n",
       "    <tr>\n",
       "      <th>22</th>\n",
       "      <td>ㅎㅎ 후기가 좋길래 주문해봤어요~~ 부들부들하네요~ 아직 세탁전이어서 세탁후 사용 ...</td>\n",
       "      <td>2</td>\n",
       "      <td>2</td>\n",
       "    </tr>\n",
       "    <tr>\n",
       "      <th>23</th>\n",
       "      <td>괜찮은 무료게임 더 이상은 생략한다...............</td>\n",
       "      <td>2</td>\n",
       "      <td>0</td>\n",
       "    </tr>\n",
       "    <tr>\n",
       "      <th>24</th>\n",
       "      <td>껍질들이 많이있네요 좋은 카카오는 아닌듯해요 이전거는맛있었는데 샀던곳에서도 살수가없...</td>\n",
       "      <td>0</td>\n",
       "      <td>0</td>\n",
       "    </tr>\n",
       "    <tr>\n",
       "      <th>25</th>\n",
       "      <td>게임을 위장삼아 박치인지 아닌지 가려내는 프로그램. + 저는 박치였습니다. + 사운...</td>\n",
       "      <td>2</td>\n",
       "      <td>0</td>\n",
       "    </tr>\n",
       "    <tr>\n",
       "      <th>26</th>\n",
       "      <td>상최악이다 와 내시간 내돈</td>\n",
       "      <td>0</td>\n",
       "      <td>0</td>\n",
       "    </tr>\n",
       "    <tr>\n",
       "      <th>27</th>\n",
       "      <td>너무좋아서 엄마도 사드리려고 또 주문했어요</td>\n",
       "      <td>2</td>\n",
       "      <td>2</td>\n",
       "    </tr>\n",
       "    <tr>\n",
       "      <th>28</th>\n",
       "      <td>네모하지 않고 동그란게 왔네요</td>\n",
       "      <td>0</td>\n",
       "      <td>0</td>\n",
       "    </tr>\n",
       "    <tr>\n",
       "      <th>29</th>\n",
       "      <td>산으로 가는 스토리</td>\n",
       "      <td>0</td>\n",
       "      <td>0</td>\n",
       "    </tr>\n",
       "  </tbody>\n",
       "</table>\n",
       "</div>"
      ],
      "text/plain": [
       "                                                   문장  원래라벨  예측\n",
       "0                                  생각보다 타이트한거같은데 이쁘네요     2   2\n",
       "1          곰곰 브랜드가 생기고 나서 다른 제품들도 애용하지만 쌀은 꼭 곰곰으로 삽니다     1   2\n",
       "2                   \\n포장은 일반 쌀과는 좀 다르게\\n비닐에 포장되어 있습니다     1   1\n",
       "3   콜 오브 듀티는 이제 나에겐 멀티 하려고 사는 게임이 되어버렸지만 트레이 아크 콜옵...     2   2\n",
       "4                70% 세일 눈물 날 정도의 압도적 감사 8은 내스타일이 아니라서     2   0\n",
       "5   파스가 이렇게 시원할줄 예상 못했는데 너무 좋아요!! 요즘 운동시작해서 근육통 달고...     2   2\n",
       "6   무려 20년전의 명작이라는 부분을 감안해야 합니다. 수퍼마리오나 록맨 시대 직후의 ...     0   0\n",
       "7       처음엔 편한거 같더니 조금 안고 있으면 어깨가 아파요ㅠㅠ아기 다리에 자국도 나구요     2   0\n",
       "8       분위기랑 ost랑 김지수도 너무 예쁘게 나오고 괜찮았는데, 내용이 약간 공감불가.     0   2\n",
       "9                                       쌀눈은 찾아보기 어려워요     0   2\n",
       "10                           핫.핑.크.로 주문했는데 그레이왔는데요 ㅡㅡ     0   0\n",
       "11                                       만좋합니다 좋습니다어ㅏ     2   2\n",
       "12              탈부착식 완전 별로 아무리 잘해도 떨어짐 바닥이랑 싱크대 박살났네요     0   0\n",
       "13  그래픽도 그렇지만, 게임 자체의 속도감도 느림. 후반으로 갈수록 지랄맞아지는 난이도...     2   0\n",
       "14  역시 인터넷으로 사니 다양한 크기와 종류 한꺼번에 살 수 있어 좋아요~마트에서는 비...     2   2\n",
       "15  당일 배송이라고 되어있는데, 이틀후 발송되었습니다. 인쇄된 부분들이 다 벗겨져 왔습...     0   0\n",
       "16      다크닝없이 처음 색상 그대로 유지되어 좋았어요 큰 불만없이 오래 쓸수있을것같아요~     2   2\n",
       "17                    학교에 가져가서 봤는데 애들한테 밝힐뻔 했다..완전 뷁~     0   0\n",
       "18                          너무 잘 찢어져요 ㅠㅠ 조금만 쳐도 찢어지네요     0   0\n",
       "19      깨진 쌀알도 별로 없고 순정으로 밥을 지어 보았는데\\n윤기가 흐르고 밥맛도 좋네요     2   2\n",
       "20                 리모컨이 다소 불편하지만 설치쉽고 공간활용 좋아요 가성비좋네요     2   2\n",
       "21                        09년에 시작해서 10년 지난 지금도 보로스 못깸     2   0\n",
       "22  ㅎㅎ 후기가 좋길래 주문해봤어요~~ 부들부들하네요~ 아직 세탁전이어서 세탁후 사용 ...     2   2\n",
       "23                 괜찮은 무료게임 더 이상은 생략한다...............     2   0\n",
       "24  껍질들이 많이있네요 좋은 카카오는 아닌듯해요 이전거는맛있었는데 샀던곳에서도 살수가없...     0   0\n",
       "25  게임을 위장삼아 박치인지 아닌지 가려내는 프로그램. + 저는 박치였습니다. + 사운...     2   0\n",
       "26                                     상최악이다 와 내시간 내돈     0   0\n",
       "27                            너무좋아서 엄마도 사드리려고 또 주문했어요     2   2\n",
       "28                                   네모하지 않고 동그란게 왔네요     0   0\n",
       "29                                         산으로 가는 스토리     0   0"
      ]
     },
     "metadata": {},
     "execution_count": 114
    }
   ],
   "metadata": {}
  },
  {
   "cell_type": "code",
   "execution_count": 145,
   "source": [
    "for i in range(30):\r\n",
    "    if ex_30['원래라벨'][i] == 2 :  \r\n",
    "        print ( i, \"번째 문장: \",  ex_30['문장'][i], '|||', ex_30['원래라벨'][i], ': 원래 | 예측 :', ex_30['예측'][i] )\r\n",
    "\r\n",
    "# 2가 긍정 / 1이 중립 / 0이 부정임을 확인"
   ],
   "outputs": [
    {
     "output_type": "stream",
     "name": "stdout",
     "text": [
      "0 번째 문장:  생각보다 타이트한거같은데 이쁘네요 ||| 2 : 원래 | 예측 : 2\n",
      "3 번째 문장:  콜 오브 듀티는 이제 나에겐 멀티 하려고 사는 게임이 되어버렸지만 트레이 아크 콜옵만의 찰진맛이 있음 아... 최대의 단점은 밀리어택이 두방으로 변한것.... 그리고 상자무기 왜 나온거냐.... ||| 2 : 원래 | 예측 : 2\n",
      "4 번째 문장:  70% 세일 눈물 날 정도의 압도적 감사 8은 내스타일이 아니라서 ||| 2 : 원래 | 예측 : 0\n",
      "5 번째 문장:  파스가 이렇게 시원할줄 예상 못했는데 너무 좋아요!! 요즘 운동시작해서 근육통 달고 사는데 이거 붙이니까 시원하게 잘 풀리네요. 만족입니다!♡ ||| 2 : 원래 | 예측 : 2\n",
      "7 번째 문장:  처음엔 편한거 같더니 조금 안고 있으면 어깨가 아파요ㅠㅠ아기 다리에 자국도 나구요 ||| 2 : 원래 | 예측 : 0\n",
      "11 번째 문장:  만좋합니다 좋습니다어ㅏ ||| 2 : 원래 | 예측 : 2\n",
      "13 번째 문장:  그래픽도 그렇지만, 게임 자체의 속도감도 느림. 후반으로 갈수록 지랄맞아지는 난이도하며, 우리 성벽은 왜 이리 잘 부숴지고 불타는지 모르겠음 두어판 하고나면 두세시간 훅 지나가는데 엄청 피곤하기까지 함. 그런데도 이상하게 계속 하게 되는 게임. ||| 2 : 원래 | 예측 : 0\n",
      "14 번째 문장:  역시 인터넷으로 사니 다양한 크기와 종류 한꺼번에 살 수 있어 좋아요~마트에서는 비싸게 파는 지퍼백 살림하다봄 지퍼백 아주 유용하게 쓰지요~ 슬라이드지퍼백 이중지퍼백 특히 스탠드지퍼백은 세워 놓을 수 있어 너무 좋아요 ~진짜 굿이에요 ||| 2 : 원래 | 예측 : 2\n",
      "16 번째 문장:  다크닝없이 처음 색상 그대로 유지되어 좋았어요 큰 불만없이 오래 쓸수있을것같아요~ ||| 2 : 원래 | 예측 : 2\n",
      "19 번째 문장:   깨진 쌀알도 별로 없고 순정으로 밥을 지어 보았는데\n",
      "윤기가 흐르고 밥맛도 좋네요 ||| 2 : 원래 | 예측 : 2\n",
      "20 번째 문장:  리모컨이 다소 불편하지만 설치쉽고 공간활용 좋아요 가성비좋네요 ||| 2 : 원래 | 예측 : 2\n",
      "21 번째 문장:  09년에 시작해서 10년 지난 지금도 보로스 못깸 ||| 2 : 원래 | 예측 : 0\n",
      "22 번째 문장:  ㅎㅎ 후기가 좋길래 주문해봤어요~~ 부들부들하네요~ 아직 세탁전이어서 세탁후 사용 해보겠습니다ㅋㅋ ||| 2 : 원래 | 예측 : 2\n",
      "23 번째 문장:  괜찮은 무료게임 더 이상은 생략한다............... ||| 2 : 원래 | 예측 : 0\n",
      "25 번째 문장:  게임을 위장삼아 박치인지 아닌지 가려내는 프로그램. + 저는 박치였습니다. + 사운드트랙 들으며 바닥 타일을 뛰는 나. ||| 2 : 원래 | 예측 : 0\n",
      "27 번째 문장:  너무좋아서 엄마도 사드리려고 또 주문했어요 ||| 2 : 원래 | 예측 : 2\n"
     ]
    }
   ],
   "metadata": {}
  },
  {
   "cell_type": "code",
   "execution_count": 146,
   "source": [
    "for i in range(30):\r\n",
    "    if ex_30['원래라벨'][i] !=  ex_30['예측'][i] : \r\n",
    "        print ( i, \"번째 문장: \",  ex_30['문장'][i], '|||', ex_30['원래라벨'][i], ': 원래 | 예측 :', ex_30['예측'][i] )"
   ],
   "outputs": [
    {
     "output_type": "stream",
     "name": "stdout",
     "text": [
      "1 번째 문장:   곰곰 브랜드가 생기고 나서 다른 제품들도 애용하지만 쌀은 꼭 곰곰으로 삽니다 ||| 1 : 원래 | 예측 : 2\n",
      "4 번째 문장:  70% 세일 눈물 날 정도의 압도적 감사 8은 내스타일이 아니라서 ||| 2 : 원래 | 예측 : 0\n",
      "7 번째 문장:  처음엔 편한거 같더니 조금 안고 있으면 어깨가 아파요ㅠㅠ아기 다리에 자국도 나구요 ||| 2 : 원래 | 예측 : 0\n",
      "8 번째 문장:  분위기랑 ost랑 김지수도 너무 예쁘게 나오고 괜찮았는데, 내용이 약간 공감불가. ||| 0 : 원래 | 예측 : 2\n",
      "9 번째 문장:   쌀눈은 찾아보기 어려워요 ||| 0 : 원래 | 예측 : 2\n",
      "13 번째 문장:  그래픽도 그렇지만, 게임 자체의 속도감도 느림. 후반으로 갈수록 지랄맞아지는 난이도하며, 우리 성벽은 왜 이리 잘 부숴지고 불타는지 모르겠음 두어판 하고나면 두세시간 훅 지나가는데 엄청 피곤하기까지 함. 그런데도 이상하게 계속 하게 되는 게임. ||| 2 : 원래 | 예측 : 0\n",
      "21 번째 문장:  09년에 시작해서 10년 지난 지금도 보로스 못깸 ||| 2 : 원래 | 예측 : 0\n",
      "23 번째 문장:  괜찮은 무료게임 더 이상은 생략한다............... ||| 2 : 원래 | 예측 : 0\n",
      "25 번째 문장:  게임을 위장삼아 박치인지 아닌지 가려내는 프로그램. + 저는 박치였습니다. + 사운드트랙 들으며 바닥 타일을 뛰는 나. ||| 2 : 원래 | 예측 : 0\n"
     ]
    }
   ],
   "metadata": {}
  },
  {
   "cell_type": "markdown",
   "source": [
    "## 08. 진짜 pred set 확인해보기"
   ],
   "metadata": {}
  },
  {
   "cell_type": "code",
   "execution_count": 149,
   "source": [
    "data_content['content'] # pred할 데이터 "
   ],
   "outputs": [
    {
     "output_type": "execute_result",
     "data": {
      "text/plain": [
       "0                     쌀구움과자  장여진  채미희 지음경향미디어메마른 쌀베이킹계의...\n",
       "1                  쌀베이킹을 하면서밀베이킹과는 조금다른 결과물에당황할 때도 종종 있거든요\n",
       "2          클래스를 다녀야하나 고민도해봤는데시간이 없는 저로썬 집에서 끙끙 앓고 있었는데너...\n",
       "3                             프롤로그 쌀베이킹을 시작한 이유에 대해 적혀져있어요\n",
       "4              떡으로 시작해서 베이킹까지  여러재료를 활용하고 다양한 가루를사용하셨다고 해요\n",
       "                               ...                        \n",
       "37238                                                  ...\n",
       "37239        윤기 좔좔 맛있는 평택쌀   쌀 추청 20    58 000원  54 000...\n",
       "37240         재난기금카드 돌봄쿠폰 카드결제 대면결제 계좌이체 온누리상품권  현금영수증 ...\n",
       "37241        전화문의 010 2856 8020 계좌  582 12 053282 농협 장유...\n",
       "37242                                                     \n",
       "Name: content, Length: 37243, dtype: object"
      ]
     },
     "metadata": {},
     "execution_count": 149
    }
   ],
   "metadata": {}
  },
  {
   "cell_type": "code",
   "execution_count": 163,
   "source": [
    "# pred 토큰화 벡터화\r\n",
    "X_pred = [] \r\n",
    "for sentence in data_content['content'] :\r\n",
    "    temp_X = [] \r\n",
    "    temp_X = okt.morphs(sentence, stem=True) # 토큰화 \r\n",
    "    temp_X = [word for word in temp_X if not word in stopwords] # 불용어 제거 \r\n",
    "    X_pred.append(temp_X) \r\n"
   ],
   "outputs": [],
   "metadata": {}
  },
  {
   "cell_type": "code",
   "execution_count": 164,
   "source": [
    "# 정수 인코딩\r\n",
    "tokenizer.fit_on_texts(X_pred ) \r\n",
    "X_pred  = tokenizer.texts_to_sequences(X_pred ) "
   ],
   "outputs": [],
   "metadata": {}
  },
  {
   "cell_type": "code",
   "execution_count": 165,
   "source": [
    "# pred 길이 확인\r\n",
    "print(\"pred 최대 길이 : \", max(len(l) for l in X_pred)) \r\n",
    "print(\"pred 평균 길이 : \", sum(map(len, X_pred))/ len(X_pred)) \r\n",
    "\r\n",
    "plt.xlim([0, 100]) \r\n",
    "plt.hist([len(s) for s in X_pred], bins=50) \r\n",
    "plt.xlabel('length of Data') \r\n",
    "plt.ylabel('number of Data') \r\n",
    "plt.show()"
   ],
   "outputs": [
    {
     "output_type": "stream",
     "name": "stdout",
     "text": [
      "pred 최대 길이 :  306\n",
      "pred 평균 길이 :  13.30099616035228\n"
     ]
    },
    {
     "output_type": "display_data",
     "data": {
      "image/png": "[encoded data removed]",
      "image/svg+xml": "<?xml version=\"1.0\" encoding=\"utf-8\" standalone=\"no\"?>\r\n<!DOCTYPE svg PUBLIC \"-//W3C//DTD SVG 1.1//EN\"\r\n  \"http://www.w3.org/Graphics/SVG/1.1/DTD/svg11.dtd\">\r\n<!-- Created with matplotlib (https://matplotlib.org/) -->\r\n<svg height=\"262.19625pt\" version=\"1.1\" viewBox=\"0 0 411.234375 262.19625\" width=\"411.234375pt\" xmlns=\"http://www.w3.org/2000/svg\" xmlns:xlink=\"http://www.w3.org/1999/xlink\">\r\n <metadata>\r\n  <rdf:RDF xmlns:cc=\"http://creativecommons.org/ns#\" xmlns:dc=\"http://purl.org/dc/elements/1.1/\" xmlns:rdf=\"http://www.w3.org/1999/02/22-rdf-syntax-ns#\">\r\n   <cc:Work>\r\n    <dc:type rdf:resource=\"http://purl.org/dc/dcmitype/StillImage\"/>\r\n    <dc:date>2021-09-05T19:55:26.567939</dc:date>\r\n    <dc:format>image/svg+xml</dc:format>\r\n    <dc:creator>\r\n     <cc:Agent>\r\n      <dc:title>Matplotlib v3.3.4, https://matplotlib.org/</dc:title>\r\n     </cc:Agent>\r\n    </dc:creator>\r\n   </cc:Work>\r\n  </rdf:RDF>\r\n </metadata>\r\n <defs>\r\n  <style type=\"text/css\">*{stroke-linecap:butt;stroke-linejoin:round;}</style>\r\n </defs>\r\n <g id=\"figure_1\">\r\n  <g id=\"patch_1\">\r\n   <path d=\"M 0 262.19625 \r\nL 411.234375 262.19625 \r\nL 411.234375 0 \r\nL 0 0 \r\nz\r\n\" style=\"fill:none;\"/>\r\n  </g>\r\n  <g id=\"axes_1\">\r\n   <g id=\"patch_2\">\r\n    <path d=\"M 59.690625 224.64 \r\nL 394.490625 224.64 \r\nL 394.490625 7.2 \r\nL 59.690625 7.2 \r\nz\r\n\" style=\"fill:#ffffff;\"/>\r\n   </g>\r\n   <g id=\"patch_3\">\r\n    <path clip-path=\"url(#pcffe39ec45)\" d=\"M 59.690625 224.64 \r\nL 80.180385 224.64 \r\nL 80.180385 51.728282 \r\nL 59.690625 51.728282 \r\nz\r\n\" style=\"fill:#1f77b4;\"/>\r\n   </g>\r\n   <g id=\"patch_4\">\r\n    <path clip-path=\"url(#pcffe39ec45)\" d=\"M 80.180385 224.64 \r\nL 100.670145 224.64 \r\nL 100.670145 17.554286 \r\nL 80.180385 17.554286 \r\nz\r\n\" style=\"fill:#1f77b4;\"/>\r\n   </g>\r\n   <g id=\"patch_5\">\r\n    <path clip-path=\"url(#pcffe39ec45)\" d=\"M 100.670145 224.64 \r\nL 121.159905 224.64 \r\nL 121.159905 108.478537 \r\nL 100.670145 108.478537 \r\nz\r\n\" style=\"fill:#1f77b4;\"/>\r\n   </g>\r\n   <g id=\"patch_6\">\r\n    <path clip-path=\"url(#pcffe39ec45)\" d=\"M 121.159905 224.64 \r\nL 141.649665 224.64 \r\nL 141.649665 167.789332 \r\nL 121.159905 167.789332 \r\nz\r\n\" style=\"fill:#1f77b4;\"/>\r\n   </g>\r\n   <g id=\"patch_7\">\r\n    <path clip-path=\"url(#pcffe39ec45)\" d=\"M 141.649665 224.64 \r\nL 162.139425 224.64 \r\nL 162.139425 195.654025 \r\nL 141.649665 195.654025 \r\nz\r\n\" style=\"fill:#1f77b4;\"/>\r\n   </g>\r\n   <g id=\"patch_8\">\r\n    <path clip-path=\"url(#pcffe39ec45)\" d=\"M 162.139425 224.64 \r\nL 182.629185 224.64 \r\nL 182.629185 208.523664 \r\nL 162.139425 208.523664 \r\nz\r\n\" style=\"fill:#1f77b4;\"/>\r\n   </g>\r\n   <g id=\"patch_9\">\r\n    <path clip-path=\"url(#pcffe39ec45)\" d=\"M 182.629185 224.64 \r\nL 203.118945 224.64 \r\nL 203.118945 215.586067 \r\nL 182.629185 215.586067 \r\nz\r\n\" style=\"fill:#1f77b4;\"/>\r\n   </g>\r\n   <g id=\"patch_10\">\r\n    <path clip-path=\"url(#pcffe39ec45)\" d=\"M 203.118945 224.64 \r\nL 223.608705 224.64 \r\nL 223.608705 218.799293 \r\nL 203.118945 218.799293 \r\nz\r\n\" style=\"fill:#1f77b4;\"/>\r\n   </g>\r\n   <g id=\"patch_11\">\r\n    <path clip-path=\"url(#pcffe39ec45)\" d=\"M 223.608705 224.64 \r\nL 244.098465 224.64 \r\nL 244.098465 221.125534 \r\nL 223.608705 221.125534 \r\nz\r\n\" style=\"fill:#1f77b4;\"/>\r\n   </g>\r\n   <g id=\"patch_12\">\r\n    <path clip-path=\"url(#pcffe39ec45)\" d=\"M 244.098465 224.64 \r\nL 264.588225 224.64 \r\nL 264.588225 222.782354 \r\nL 244.098465 222.782354 \r\nz\r\n\" style=\"fill:#1f77b4;\"/>\r\n   </g>\r\n   <g id=\"patch_13\">\r\n    <path clip-path=\"url(#pcffe39ec45)\" d=\"M 264.588225 224.64 \r\nL 285.077985 224.64 \r\nL 285.077985 223.518718 \r\nL 264.588225 223.518718 \r\nz\r\n\" style=\"fill:#1f77b4;\"/>\r\n   </g>\r\n   <g id=\"patch_14\">\r\n    <path clip-path=\"url(#pcffe39ec45)\" d=\"M 285.077985 224.64 \r\nL 305.567745 224.64 \r\nL 305.567745 223.853429 \r\nL 285.077985 223.853429 \r\nz\r\n\" style=\"fill:#1f77b4;\"/>\r\n   </g>\r\n   <g id=\"patch_15\">\r\n    <path clip-path=\"url(#pcffe39ec45)\" d=\"M 305.567745 224.64 \r\nL 326.057505 224.64 \r\nL 326.057505 223.8869 \r\nL 305.567745 223.8869 \r\nz\r\n\" style=\"fill:#1f77b4;\"/>\r\n   </g>\r\n   <g id=\"patch_16\">\r\n    <path clip-path=\"url(#pcffe39ec45)\" d=\"M 326.057505 224.64 \r\nL 346.547265 224.64 \r\nL 346.547265 224.121198 \r\nL 326.057505 224.121198 \r\nz\r\n\" style=\"fill:#1f77b4;\"/>\r\n   </g>\r\n   <g id=\"patch_17\">\r\n    <path clip-path=\"url(#pcffe39ec45)\" d=\"M 346.547265 224.64 \r\nL 367.037025 224.64 \r\nL 367.037025 224.255082 \r\nL 346.547265 224.255082 \r\nz\r\n\" style=\"fill:#1f77b4;\"/>\r\n   </g>\r\n   <g id=\"patch_18\">\r\n    <path clip-path=\"url(#pcffe39ec45)\" d=\"M 367.037025 224.64 \r\nL 387.526785 224.64 \r\nL 387.526785 224.355496 \r\nL 367.037025 224.355496 \r\nz\r\n\" style=\"fill:#1f77b4;\"/>\r\n   </g>\r\n   <g id=\"patch_19\">\r\n    <path clip-path=\"url(#pcffe39ec45)\" d=\"M 387.526785 224.64 \r\nL 408.016545 224.64 \r\nL 408.016545 224.455909 \r\nL 387.526785 224.455909 \r\nz\r\n\" style=\"fill:#1f77b4;\"/>\r\n   </g>\r\n   <g id=\"patch_20\">\r\n    <path clip-path=\"url(#pcffe39ec45)\" d=\"M 408.016545 224.64 \r\nL 428.506305 224.64 \r\nL 428.506305 224.48938 \r\nL 408.016545 224.48938 \r\nz\r\n\" style=\"fill:#1f77b4;\"/>\r\n   </g>\r\n   <g id=\"patch_21\">\r\n    <path clip-path=\"url(#pcffe39ec45)\" d=\"M 428.506305 224.64 \r\nL 448.996065 224.64 \r\nL 448.996065 224.439173 \r\nL 428.506305 224.439173 \r\nz\r\n\" style=\"fill:#1f77b4;\"/>\r\n   </g>\r\n   <g id=\"patch_22\">\r\n    <path clip-path=\"url(#pcffe39ec45)\" d=\"M 448.996065 224.64 \r\nL 469.485825 224.64 \r\nL 469.485825 224.573058 \r\nL 448.996065 224.573058 \r\nz\r\n\" style=\"fill:#1f77b4;\"/>\r\n   </g>\r\n   <g id=\"patch_23\">\r\n    <path clip-path=\"url(#pcffe39ec45)\" d=\"M 469.485825 224.64 \r\nL 489.975585 224.64 \r\nL 489.975585 224.623264 \r\nL 469.485825 224.623264 \r\nz\r\n\" style=\"fill:#1f77b4;\"/>\r\n   </g>\r\n   <g id=\"patch_24\">\r\n    <path clip-path=\"url(#pcffe39ec45)\" d=\"M 489.975585 224.64 \r\nL 510.465345 224.64 \r\nL 510.465345 224.606529 \r\nL 489.975585 224.606529 \r\nz\r\n\" style=\"fill:#1f77b4;\"/>\r\n   </g>\r\n   <g id=\"patch_25\">\r\n    <path clip-path=\"url(#pcffe39ec45)\" d=\"M 510.465345 224.64 \r\nL 530.955105 224.64 \r\nL 530.955105 224.606529 \r\nL 510.465345 224.606529 \r\nz\r\n\" style=\"fill:#1f77b4;\"/>\r\n   </g>\r\n   <g id=\"patch_26\">\r\n    <path clip-path=\"url(#pcffe39ec45)\" d=\"M 530.955105 224.64 \r\nL 551.444865 224.64 \r\nL 551.444865 224.606529 \r\nL 530.955105 224.606529 \r\nz\r\n\" style=\"fill:#1f77b4;\"/>\r\n   </g>\r\n   <g id=\"patch_27\">\r\n    <path clip-path=\"url(#pcffe39ec45)\" d=\"M 551.444865 224.64 \r\nL 571.934625 224.64 \r\nL 571.934625 224.606529 \r\nL 551.444865 224.606529 \r\nz\r\n\" style=\"fill:#1f77b4;\"/>\r\n   </g>\r\n   <g id=\"patch_28\">\r\n    <path clip-path=\"url(#pcffe39ec45)\" d=\"M 571.934625 224.64 \r\nL 592.424385 224.64 \r\nL 592.424385 224.589793 \r\nL 571.934625 224.589793 \r\nz\r\n\" style=\"fill:#1f77b4;\"/>\r\n   </g>\r\n   <g id=\"patch_29\">\r\n    <path clip-path=\"url(#pcffe39ec45)\" d=\"M 592.424385 224.64 \r\nL 612.914145 224.64 \r\nL 612.914145 224.589793 \r\nL 592.424385 224.589793 \r\nz\r\n\" style=\"fill:#1f77b4;\"/>\r\n   </g>\r\n   <g id=\"patch_30\">\r\n    <path clip-path=\"url(#pcffe39ec45)\" d=\"M 612.914145 224.64 \r\nL 633.403905 224.64 \r\nL 633.403905 224.556322 \r\nL 612.914145 224.556322 \r\nz\r\n\" style=\"fill:#1f77b4;\"/>\r\n   </g>\r\n   <g id=\"patch_31\">\r\n    <path clip-path=\"url(#pcffe39ec45)\" d=\"M 633.403905 224.64 \r\nL 653.893665 224.64 \r\nL 653.893665 224.623264 \r\nL 633.403905 224.623264 \r\nz\r\n\" style=\"fill:#1f77b4;\"/>\r\n   </g>\r\n   <g id=\"patch_32\">\r\n    <path clip-path=\"url(#pcffe39ec45)\" d=\"M 653.893665 224.64 \r\nL 674.383425 224.64 \r\nL 674.383425 224.606529 \r\nL 653.893665 224.606529 \r\nz\r\n\" style=\"fill:#1f77b4;\"/>\r\n   </g>\r\n   <g id=\"patch_33\">\r\n    <path clip-path=\"url(#pcffe39ec45)\" d=\"M 674.383425 224.64 \r\nL 694.873185 224.64 \r\nL 694.873185 224.623264 \r\nL 674.383425 224.623264 \r\nz\r\n\" style=\"fill:#1f77b4;\"/>\r\n   </g>\r\n   <g id=\"patch_34\">\r\n    <path clip-path=\"url(#pcffe39ec45)\" d=\"M 694.873185 224.64 \r\nL 715.362945 224.64 \r\nL 715.362945 224.623264 \r\nL 694.873185 224.623264 \r\nz\r\n\" style=\"fill:#1f77b4;\"/>\r\n   </g>\r\n   <g id=\"patch_35\">\r\n    <path clip-path=\"url(#pcffe39ec45)\" d=\"M 715.362945 224.64 \r\nL 735.852705 224.64 \r\nL 735.852705 224.64 \r\nL 715.362945 224.64 \r\nz\r\n\" style=\"fill:#1f77b4;\"/>\r\n   </g>\r\n   <g id=\"patch_36\">\r\n    <path clip-path=\"url(#pcffe39ec45)\" d=\"M 735.852705 224.64 \r\nL 756.342465 224.64 \r\nL 756.342465 224.64 \r\nL 735.852705 224.64 \r\nz\r\n\" style=\"fill:#1f77b4;\"/>\r\n   </g>\r\n   <g id=\"patch_37\">\r\n    <path clip-path=\"url(#pcffe39ec45)\" d=\"M 756.342465 224.64 \r\nL 776.832225 224.64 \r\nL 776.832225 224.64 \r\nL 756.342465 224.64 \r\nz\r\n\" style=\"fill:#1f77b4;\"/>\r\n   </g>\r\n   <g id=\"patch_38\">\r\n    <path clip-path=\"url(#pcffe39ec45)\" d=\"M 776.832225 224.64 \r\nL 797.321985 224.64 \r\nL 797.321985 224.64 \r\nL 776.832225 224.64 \r\nz\r\n\" style=\"fill:#1f77b4;\"/>\r\n   </g>\r\n   <g id=\"patch_39\">\r\n    <path clip-path=\"url(#pcffe39ec45)\" d=\"M 797.321985 224.64 \r\nL 817.811745 224.64 \r\nL 817.811745 224.64 \r\nL 797.321985 224.64 \r\nz\r\n\" style=\"fill:#1f77b4;\"/>\r\n   </g>\r\n   <g id=\"patch_40\">\r\n    <path clip-path=\"url(#pcffe39ec45)\" d=\"M 817.811745 224.64 \r\nL 838.301505 224.64 \r\nL 838.301505 224.64 \r\nL 817.811745 224.64 \r\nz\r\n\" style=\"fill:#1f77b4;\"/>\r\n   </g>\r\n   <g id=\"patch_41\">\r\n    <path clip-path=\"url(#pcffe39ec45)\" d=\"M 838.301505 224.64 \r\nL 858.791265 224.64 \r\nL 858.791265 224.64 \r\nL 838.301505 224.64 \r\nz\r\n\" style=\"fill:#1f77b4;\"/>\r\n   </g>\r\n   <g id=\"patch_42\">\r\n    <path clip-path=\"url(#pcffe39ec45)\" d=\"M 858.791265 224.64 \r\nL 879.281025 224.64 \r\nL 879.281025 224.64 \r\nL 858.791265 224.64 \r\nz\r\n\" style=\"fill:#1f77b4;\"/>\r\n   </g>\r\n   <g id=\"patch_43\">\r\n    <path clip-path=\"url(#pcffe39ec45)\" d=\"M 879.281025 224.64 \r\nL 899.770785 224.64 \r\nL 899.770785 224.64 \r\nL 879.281025 224.64 \r\nz\r\n\" style=\"fill:#1f77b4;\"/>\r\n   </g>\r\n   <g id=\"patch_44\">\r\n    <path clip-path=\"url(#pcffe39ec45)\" d=\"M 899.770785 224.64 \r\nL 920.260545 224.64 \r\nL 920.260545 224.64 \r\nL 899.770785 224.64 \r\nz\r\n\" style=\"fill:#1f77b4;\"/>\r\n   </g>\r\n   <g id=\"patch_45\">\r\n    <path clip-path=\"url(#pcffe39ec45)\" d=\"M 920.260545 224.64 \r\nL 940.750305 224.64 \r\nL 940.750305 224.623264 \r\nL 920.260545 224.623264 \r\nz\r\n\" style=\"fill:#1f77b4;\"/>\r\n   </g>\r\n   <g id=\"patch_46\">\r\n    <path clip-path=\"url(#pcffe39ec45)\" d=\"M 940.750305 224.64 \r\nL 961.240065 224.64 \r\nL 961.240065 224.64 \r\nL 940.750305 224.64 \r\nz\r\n\" style=\"fill:#1f77b4;\"/>\r\n   </g>\r\n   <g id=\"patch_47\">\r\n    <path clip-path=\"url(#pcffe39ec45)\" d=\"M 961.240065 224.64 \r\nL 981.729825 224.64 \r\nL 981.729825 224.64 \r\nL 961.240065 224.64 \r\nz\r\n\" style=\"fill:#1f77b4;\"/>\r\n   </g>\r\n   <g id=\"patch_48\">\r\n    <path clip-path=\"url(#pcffe39ec45)\" d=\"M 981.729825 224.64 \r\nL 1002.219585 224.64 \r\nL 1002.219585 224.64 \r\nL 981.729825 224.64 \r\nz\r\n\" style=\"fill:#1f77b4;\"/>\r\n   </g>\r\n   <g id=\"patch_49\">\r\n    <path clip-path=\"url(#pcffe39ec45)\" d=\"M 1002.219585 224.64 \r\nL 1022.709345 224.64 \r\nL 1022.709345 224.64 \r\nL 1002.219585 224.64 \r\nz\r\n\" style=\"fill:#1f77b4;\"/>\r\n   </g>\r\n   <g id=\"patch_50\">\r\n    <path clip-path=\"url(#pcffe39ec45)\" d=\"M 1022.709345 224.64 \r\nL 1043.199105 224.64 \r\nL 1043.199105 224.64 \r\nL 1022.709345 224.64 \r\nz\r\n\" style=\"fill:#1f77b4;\"/>\r\n   </g>\r\n   <g id=\"patch_51\">\r\n    <path clip-path=\"url(#pcffe39ec45)\" d=\"M 1043.199105 224.64 \r\nL 1063.688865 224.64 \r\nL 1063.688865 224.64 \r\nL 1043.199105 224.64 \r\nz\r\n\" style=\"fill:#1f77b4;\"/>\r\n   </g>\r\n   <g id=\"patch_52\">\r\n    <path clip-path=\"url(#pcffe39ec45)\" d=\"M 1063.688865 224.64 \r\nL 1084.178625 224.64 \r\nL 1084.178625 224.623264 \r\nL 1063.688865 224.623264 \r\nz\r\n\" style=\"fill:#1f77b4;\"/>\r\n   </g>\r\n   <g id=\"matplotlib.axis_1\">\r\n    <g id=\"xtick_1\">\r\n     <g id=\"line2d_1\">\r\n      <defs>\r\n       <path d=\"M 0 0 \r\nL 0 3.5 \r\n\" id=\"m440b61e360\" style=\"stroke:#000000;stroke-width:0.8;\"/>\r\n      </defs>\r\n      <g>\r\n       <use style=\"stroke:#000000;stroke-width:0.8;\" x=\"59.690625\" xlink:href=\"#m440b61e360\" y=\"224.64\"/>\r\n      </g>\r\n     </g>\r\n     <g id=\"text_1\">\r\n      <!-- 0 -->\r\n      <g transform=\"translate(56.509375 239.238437)scale(0.1 -0.1)\">\r\n       <defs>\r\n        <path d=\"M 31.78125 66.40625 \r\nQ 24.171875 66.40625 20.328125 58.90625 \r\nQ 16.5 51.421875 16.5 36.375 \r\nQ 16.5 21.390625 20.328125 13.890625 \r\nQ 24.171875 6.390625 31.78125 6.390625 \r\nQ 39.453125 6.390625 43.28125 13.890625 \r\nQ 47.125 21.390625 47.125 36.375 \r\nQ 47.125 51.421875 43.28125 58.90625 \r\nQ 39.453125 66.40625 31.78125 66.40625 \r\nz\r\nM 31.78125 74.21875 \r\nQ 44.046875 74.21875 50.515625 64.515625 \r\nQ 56.984375 54.828125 56.984375 36.375 \r\nQ 56.984375 17.96875 50.515625 8.265625 \r\nQ 44.046875 -1.421875 31.78125 -1.421875 \r\nQ 19.53125 -1.421875 13.0625 8.265625 \r\nQ 6.59375 17.96875 6.59375 36.375 \r\nQ 6.59375 54.828125 13.0625 64.515625 \r\nQ 19.53125 74.21875 31.78125 74.21875 \r\nz\r\n\" id=\"DejaVuSans-48\"/>\r\n       </defs>\r\n       <use xlink:href=\"#DejaVuSans-48\"/>\r\n      </g>\r\n     </g>\r\n    </g>\r\n    <g id=\"xtick_2\">\r\n     <g id=\"line2d_2\">\r\n      <g>\r\n       <use style=\"stroke:#000000;stroke-width:0.8;\" x=\"126.650625\" xlink:href=\"#m440b61e360\" y=\"224.64\"/>\r\n      </g>\r\n     </g>\r\n     <g id=\"text_2\">\r\n      <!-- 20 -->\r\n      <g transform=\"translate(120.288125 239.238437)scale(0.1 -0.1)\">\r\n       <defs>\r\n        <path d=\"M 19.1875 8.296875 \r\nL 53.609375 8.296875 \r\nL 53.609375 0 \r\nL 7.328125 0 \r\nL 7.328125 8.296875 \r\nQ 12.9375 14.109375 22.625 23.890625 \r\nQ 32.328125 33.6875 34.8125 36.53125 \r\nQ 39.546875 41.84375 41.421875 45.53125 \r\nQ 43.3125 49.21875 43.3125 52.78125 \r\nQ 43.3125 58.59375 39.234375 62.25 \r\nQ 35.15625 65.921875 28.609375 65.921875 \r\nQ 23.96875 65.921875 18.8125 64.3125 \r\nQ 13.671875 62.703125 7.8125 59.421875 \r\nL 7.8125 69.390625 \r\nQ 13.765625 71.78125 18.9375 73 \r\nQ 24.125 74.21875 28.421875 74.21875 \r\nQ 39.75 74.21875 46.484375 68.546875 \r\nQ 53.21875 62.890625 53.21875 53.421875 \r\nQ 53.21875 48.921875 51.53125 44.890625 \r\nQ 49.859375 40.875 45.40625 35.40625 \r\nQ 44.1875 33.984375 37.640625 27.21875 \r\nQ 31.109375 20.453125 19.1875 8.296875 \r\nz\r\n\" id=\"DejaVuSans-50\"/>\r\n       </defs>\r\n       <use xlink:href=\"#DejaVuSans-50\"/>\r\n       <use x=\"63.623047\" xlink:href=\"#DejaVuSans-48\"/>\r\n      </g>\r\n     </g>\r\n    </g>\r\n    <g id=\"xtick_3\">\r\n     <g id=\"line2d_3\">\r\n      <g>\r\n       <use style=\"stroke:#000000;stroke-width:0.8;\" x=\"193.610625\" xlink:href=\"#m440b61e360\" y=\"224.64\"/>\r\n      </g>\r\n     </g>\r\n     <g id=\"text_3\">\r\n      <!-- 40 -->\r\n      <g transform=\"translate(187.248125 239.238437)scale(0.1 -0.1)\">\r\n       <defs>\r\n        <path d=\"M 37.796875 64.3125 \r\nL 12.890625 25.390625 \r\nL 37.796875 25.390625 \r\nz\r\nM 35.203125 72.90625 \r\nL 47.609375 72.90625 \r\nL 47.609375 25.390625 \r\nL 58.015625 25.390625 \r\nL 58.015625 17.1875 \r\nL 47.609375 17.1875 \r\nL 47.609375 0 \r\nL 37.796875 0 \r\nL 37.796875 17.1875 \r\nL 4.890625 17.1875 \r\nL 4.890625 26.703125 \r\nz\r\n\" id=\"DejaVuSans-52\"/>\r\n       </defs>\r\n       <use xlink:href=\"#DejaVuSans-52\"/>\r\n       <use x=\"63.623047\" xlink:href=\"#DejaVuSans-48\"/>\r\n      </g>\r\n     </g>\r\n    </g>\r\n    <g id=\"xtick_4\">\r\n     <g id=\"line2d_4\">\r\n      <g>\r\n       <use style=\"stroke:#000000;stroke-width:0.8;\" x=\"260.570625\" xlink:href=\"#m440b61e360\" y=\"224.64\"/>\r\n      </g>\r\n     </g>\r\n     <g id=\"text_4\">\r\n      <!-- 60 -->\r\n      <g transform=\"translate(254.208125 239.238437)scale(0.1 -0.1)\">\r\n       <defs>\r\n        <path d=\"M 33.015625 40.375 \r\nQ 26.375 40.375 22.484375 35.828125 \r\nQ 18.609375 31.296875 18.609375 23.390625 \r\nQ 18.609375 15.53125 22.484375 10.953125 \r\nQ 26.375 6.390625 33.015625 6.390625 \r\nQ 39.65625 6.390625 43.53125 10.953125 \r\nQ 47.40625 15.53125 47.40625 23.390625 \r\nQ 47.40625 31.296875 43.53125 35.828125 \r\nQ 39.65625 40.375 33.015625 40.375 \r\nz\r\nM 52.59375 71.296875 \r\nL 52.59375 62.3125 \r\nQ 48.875 64.0625 45.09375 64.984375 \r\nQ 41.3125 65.921875 37.59375 65.921875 \r\nQ 27.828125 65.921875 22.671875 59.328125 \r\nQ 17.53125 52.734375 16.796875 39.40625 \r\nQ 19.671875 43.65625 24.015625 45.921875 \r\nQ 28.375 48.1875 33.59375 48.1875 \r\nQ 44.578125 48.1875 50.953125 41.515625 \r\nQ 57.328125 34.859375 57.328125 23.390625 \r\nQ 57.328125 12.15625 50.6875 5.359375 \r\nQ 44.046875 -1.421875 33.015625 -1.421875 \r\nQ 20.359375 -1.421875 13.671875 8.265625 \r\nQ 6.984375 17.96875 6.984375 36.375 \r\nQ 6.984375 53.65625 15.1875 63.9375 \r\nQ 23.390625 74.21875 37.203125 74.21875 \r\nQ 40.921875 74.21875 44.703125 73.484375 \r\nQ 48.484375 72.75 52.59375 71.296875 \r\nz\r\n\" id=\"DejaVuSans-54\"/>\r\n       </defs>\r\n       <use xlink:href=\"#DejaVuSans-54\"/>\r\n       <use x=\"63.623047\" xlink:href=\"#DejaVuSans-48\"/>\r\n      </g>\r\n     </g>\r\n    </g>\r\n    <g id=\"xtick_5\">\r\n     <g id=\"line2d_5\">\r\n      <g>\r\n       <use style=\"stroke:#000000;stroke-width:0.8;\" x=\"327.530625\" xlink:href=\"#m440b61e360\" y=\"224.64\"/>\r\n      </g>\r\n     </g>\r\n     <g id=\"text_5\">\r\n      <!-- 80 -->\r\n      <g transform=\"translate(321.168125 239.238437)scale(0.1 -0.1)\">\r\n       <defs>\r\n        <path d=\"M 31.78125 34.625 \r\nQ 24.75 34.625 20.71875 30.859375 \r\nQ 16.703125 27.09375 16.703125 20.515625 \r\nQ 16.703125 13.921875 20.71875 10.15625 \r\nQ 24.75 6.390625 31.78125 6.390625 \r\nQ 38.8125 6.390625 42.859375 10.171875 \r\nQ 46.921875 13.96875 46.921875 20.515625 \r\nQ 46.921875 27.09375 42.890625 30.859375 \r\nQ 38.875 34.625 31.78125 34.625 \r\nz\r\nM 21.921875 38.8125 \r\nQ 15.578125 40.375 12.03125 44.71875 \r\nQ 8.5 49.078125 8.5 55.328125 \r\nQ 8.5 64.0625 14.71875 69.140625 \r\nQ 20.953125 74.21875 31.78125 74.21875 \r\nQ 42.671875 74.21875 48.875 69.140625 \r\nQ 55.078125 64.0625 55.078125 55.328125 \r\nQ 55.078125 49.078125 51.53125 44.71875 \r\nQ 48 40.375 41.703125 38.8125 \r\nQ 48.828125 37.15625 52.796875 32.3125 \r\nQ 56.78125 27.484375 56.78125 20.515625 \r\nQ 56.78125 9.90625 50.3125 4.234375 \r\nQ 43.84375 -1.421875 31.78125 -1.421875 \r\nQ 19.734375 -1.421875 13.25 4.234375 \r\nQ 6.78125 9.90625 6.78125 20.515625 \r\nQ 6.78125 27.484375 10.78125 32.3125 \r\nQ 14.796875 37.15625 21.921875 38.8125 \r\nz\r\nM 18.3125 54.390625 \r\nQ 18.3125 48.734375 21.84375 45.5625 \r\nQ 25.390625 42.390625 31.78125 42.390625 \r\nQ 38.140625 42.390625 41.71875 45.5625 \r\nQ 45.3125 48.734375 45.3125 54.390625 \r\nQ 45.3125 60.0625 41.71875 63.234375 \r\nQ 38.140625 66.40625 31.78125 66.40625 \r\nQ 25.390625 66.40625 21.84375 63.234375 \r\nQ 18.3125 60.0625 18.3125 54.390625 \r\nz\r\n\" id=\"DejaVuSans-56\"/>\r\n       </defs>\r\n       <use xlink:href=\"#DejaVuSans-56\"/>\r\n       <use x=\"63.623047\" xlink:href=\"#DejaVuSans-48\"/>\r\n      </g>\r\n     </g>\r\n    </g>\r\n    <g id=\"xtick_6\">\r\n     <g id=\"line2d_6\">\r\n      <g>\r\n       <use style=\"stroke:#000000;stroke-width:0.8;\" x=\"394.490625\" xlink:href=\"#m440b61e360\" y=\"224.64\"/>\r\n      </g>\r\n     </g>\r\n     <g id=\"text_6\">\r\n      <!-- 100 -->\r\n      <g transform=\"translate(384.946875 239.238437)scale(0.1 -0.1)\">\r\n       <defs>\r\n        <path d=\"M 12.40625 8.296875 \r\nL 28.515625 8.296875 \r\nL 28.515625 63.921875 \r\nL 10.984375 60.40625 \r\nL 10.984375 69.390625 \r\nL 28.421875 72.90625 \r\nL 38.28125 72.90625 \r\nL 38.28125 8.296875 \r\nL 54.390625 8.296875 \r\nL 54.390625 0 \r\nL 12.40625 0 \r\nz\r\n\" id=\"DejaVuSans-49\"/>\r\n       </defs>\r\n       <use xlink:href=\"#DejaVuSans-49\"/>\r\n       <use x=\"63.623047\" xlink:href=\"#DejaVuSans-48\"/>\r\n       <use x=\"127.246094\" xlink:href=\"#DejaVuSans-48\"/>\r\n      </g>\r\n     </g>\r\n    </g>\r\n    <g id=\"text_7\">\r\n     <!-- length of Data -->\r\n     <g transform=\"translate(191.217188 252.916562)scale(0.1 -0.1)\">\r\n      <defs>\r\n       <path d=\"M 9.421875 75.984375 \r\nL 18.40625 75.984375 \r\nL 18.40625 0 \r\nL 9.421875 0 \r\nz\r\n\" id=\"DejaVuSans-108\"/>\r\n       <path d=\"M 56.203125 29.59375 \r\nL 56.203125 25.203125 \r\nL 14.890625 25.203125 \r\nQ 15.484375 15.921875 20.484375 11.0625 \r\nQ 25.484375 6.203125 34.421875 6.203125 \r\nQ 39.59375 6.203125 44.453125 7.46875 \r\nQ 49.3125 8.734375 54.109375 11.28125 \r\nL 54.109375 2.78125 \r\nQ 49.265625 0.734375 44.1875 -0.34375 \r\nQ 39.109375 -1.421875 33.890625 -1.421875 \r\nQ 20.796875 -1.421875 13.15625 6.1875 \r\nQ 5.515625 13.8125 5.515625 26.8125 \r\nQ 5.515625 40.234375 12.765625 48.109375 \r\nQ 20.015625 56 32.328125 56 \r\nQ 43.359375 56 49.78125 48.890625 \r\nQ 56.203125 41.796875 56.203125 29.59375 \r\nz\r\nM 47.21875 32.234375 \r\nQ 47.125 39.59375 43.09375 43.984375 \r\nQ 39.0625 48.390625 32.421875 48.390625 \r\nQ 24.90625 48.390625 20.390625 44.140625 \r\nQ 15.875 39.890625 15.1875 32.171875 \r\nz\r\n\" id=\"DejaVuSans-101\"/>\r\n       <path d=\"M 54.890625 33.015625 \r\nL 54.890625 0 \r\nL 45.90625 0 \r\nL 45.90625 32.71875 \r\nQ 45.90625 40.484375 42.875 44.328125 \r\nQ 39.84375 48.1875 33.796875 48.1875 \r\nQ 26.515625 48.1875 22.3125 43.546875 \r\nQ 18.109375 38.921875 18.109375 30.90625 \r\nL 18.109375 0 \r\nL 9.078125 0 \r\nL 9.078125 54.6875 \r\nL 18.109375 54.6875 \r\nL 18.109375 46.1875 \r\nQ 21.34375 51.125 25.703125 53.5625 \r\nQ 30.078125 56 35.796875 56 \r\nQ 45.21875 56 50.046875 50.171875 \r\nQ 54.890625 44.34375 54.890625 33.015625 \r\nz\r\n\" id=\"DejaVuSans-110\"/>\r\n       <path d=\"M 45.40625 27.984375 \r\nQ 45.40625 37.75 41.375 43.109375 \r\nQ 37.359375 48.484375 30.078125 48.484375 \r\nQ 22.859375 48.484375 18.828125 43.109375 \r\nQ 14.796875 37.75 14.796875 27.984375 \r\nQ 14.796875 18.265625 18.828125 12.890625 \r\nQ 22.859375 7.515625 30.078125 7.515625 \r\nQ 37.359375 7.515625 41.375 12.890625 \r\nQ 45.40625 18.265625 45.40625 27.984375 \r\nz\r\nM 54.390625 6.78125 \r\nQ 54.390625 -7.171875 48.1875 -13.984375 \r\nQ 42 -20.796875 29.203125 -20.796875 \r\nQ 24.46875 -20.796875 20.265625 -20.09375 \r\nQ 16.0625 -19.390625 12.109375 -17.921875 \r\nL 12.109375 -9.1875 \r\nQ 16.0625 -11.328125 19.921875 -12.34375 \r\nQ 23.78125 -13.375 27.78125 -13.375 \r\nQ 36.625 -13.375 41.015625 -8.765625 \r\nQ 45.40625 -4.15625 45.40625 5.171875 \r\nL 45.40625 9.625 \r\nQ 42.625 4.78125 38.28125 2.390625 \r\nQ 33.9375 0 27.875 0 \r\nQ 17.828125 0 11.671875 7.65625 \r\nQ 5.515625 15.328125 5.515625 27.984375 \r\nQ 5.515625 40.671875 11.671875 48.328125 \r\nQ 17.828125 56 27.875 56 \r\nQ 33.9375 56 38.28125 53.609375 \r\nQ 42.625 51.21875 45.40625 46.390625 \r\nL 45.40625 54.6875 \r\nL 54.390625 54.6875 \r\nz\r\n\" id=\"DejaVuSans-103\"/>\r\n       <path d=\"M 18.3125 70.21875 \r\nL 18.3125 54.6875 \r\nL 36.8125 54.6875 \r\nL 36.8125 47.703125 \r\nL 18.3125 47.703125 \r\nL 18.3125 18.015625 \r\nQ 18.3125 11.328125 20.140625 9.421875 \r\nQ 21.96875 7.515625 27.59375 7.515625 \r\nL 36.8125 7.515625 \r\nL 36.8125 0 \r\nL 27.59375 0 \r\nQ 17.1875 0 13.234375 3.875 \r\nQ 9.28125 7.765625 9.28125 18.015625 \r\nL 9.28125 47.703125 \r\nL 2.6875 47.703125 \r\nL 2.6875 54.6875 \r\nL 9.28125 54.6875 \r\nL 9.28125 70.21875 \r\nz\r\n\" id=\"DejaVuSans-116\"/>\r\n       <path d=\"M 54.890625 33.015625 \r\nL 54.890625 0 \r\nL 45.90625 0 \r\nL 45.90625 32.71875 \r\nQ 45.90625 40.484375 42.875 44.328125 \r\nQ 39.84375 48.1875 33.796875 48.1875 \r\nQ 26.515625 48.1875 22.3125 43.546875 \r\nQ 18.109375 38.921875 18.109375 30.90625 \r\nL 18.109375 0 \r\nL 9.078125 0 \r\nL 9.078125 75.984375 \r\nL 18.109375 75.984375 \r\nL 18.109375 46.1875 \r\nQ 21.34375 51.125 25.703125 53.5625 \r\nQ 30.078125 56 35.796875 56 \r\nQ 45.21875 56 50.046875 50.171875 \r\nQ 54.890625 44.34375 54.890625 33.015625 \r\nz\r\n\" id=\"DejaVuSans-104\"/>\r\n       <path id=\"DejaVuSans-32\"/>\r\n       <path d=\"M 30.609375 48.390625 \r\nQ 23.390625 48.390625 19.1875 42.75 \r\nQ 14.984375 37.109375 14.984375 27.296875 \r\nQ 14.984375 17.484375 19.15625 11.84375 \r\nQ 23.34375 6.203125 30.609375 6.203125 \r\nQ 37.796875 6.203125 41.984375 11.859375 \r\nQ 46.1875 17.53125 46.1875 27.296875 \r\nQ 46.1875 37.015625 41.984375 42.703125 \r\nQ 37.796875 48.390625 30.609375 48.390625 \r\nz\r\nM 30.609375 56 \r\nQ 42.328125 56 49.015625 48.375 \r\nQ 55.71875 40.765625 55.71875 27.296875 \r\nQ 55.71875 13.875 49.015625 6.21875 \r\nQ 42.328125 -1.421875 30.609375 -1.421875 \r\nQ 18.84375 -1.421875 12.171875 6.21875 \r\nQ 5.515625 13.875 5.515625 27.296875 \r\nQ 5.515625 40.765625 12.171875 48.375 \r\nQ 18.84375 56 30.609375 56 \r\nz\r\n\" id=\"DejaVuSans-111\"/>\r\n       <path d=\"M 37.109375 75.984375 \r\nL 37.109375 68.5 \r\nL 28.515625 68.5 \r\nQ 23.6875 68.5 21.796875 66.546875 \r\nQ 19.921875 64.59375 19.921875 59.515625 \r\nL 19.921875 54.6875 \r\nL 34.71875 54.6875 \r\nL 34.71875 47.703125 \r\nL 19.921875 47.703125 \r\nL 19.921875 0 \r\nL 10.890625 0 \r\nL 10.890625 47.703125 \r\nL 2.296875 47.703125 \r\nL 2.296875 54.6875 \r\nL 10.890625 54.6875 \r\nL 10.890625 58.5 \r\nQ 10.890625 67.625 15.140625 71.796875 \r\nQ 19.390625 75.984375 28.609375 75.984375 \r\nz\r\n\" id=\"DejaVuSans-102\"/>\r\n       <path d=\"M 19.671875 64.796875 \r\nL 19.671875 8.109375 \r\nL 31.59375 8.109375 \r\nQ 46.6875 8.109375 53.6875 14.9375 \r\nQ 60.6875 21.78125 60.6875 36.53125 \r\nQ 60.6875 51.171875 53.6875 57.984375 \r\nQ 46.6875 64.796875 31.59375 64.796875 \r\nz\r\nM 9.8125 72.90625 \r\nL 30.078125 72.90625 \r\nQ 51.265625 72.90625 61.171875 64.09375 \r\nQ 71.09375 55.28125 71.09375 36.53125 \r\nQ 71.09375 17.671875 61.125 8.828125 \r\nQ 51.171875 0 30.078125 0 \r\nL 9.8125 0 \r\nz\r\n\" id=\"DejaVuSans-68\"/>\r\n       <path d=\"M 34.28125 27.484375 \r\nQ 23.390625 27.484375 19.1875 25 \r\nQ 14.984375 22.515625 14.984375 16.5 \r\nQ 14.984375 11.71875 18.140625 8.90625 \r\nQ 21.296875 6.109375 26.703125 6.109375 \r\nQ 34.1875 6.109375 38.703125 11.40625 \r\nQ 43.21875 16.703125 43.21875 25.484375 \r\nL 43.21875 27.484375 \r\nz\r\nM 52.203125 31.203125 \r\nL 52.203125 0 \r\nL 43.21875 0 \r\nL 43.21875 8.296875 \r\nQ 40.140625 3.328125 35.546875 0.953125 \r\nQ 30.953125 -1.421875 24.3125 -1.421875 \r\nQ 15.921875 -1.421875 10.953125 3.296875 \r\nQ 6 8.015625 6 15.921875 \r\nQ 6 25.140625 12.171875 29.828125 \r\nQ 18.359375 34.515625 30.609375 34.515625 \r\nL 43.21875 34.515625 \r\nL 43.21875 35.40625 \r\nQ 43.21875 41.609375 39.140625 45 \r\nQ 35.0625 48.390625 27.6875 48.390625 \r\nQ 23 48.390625 18.546875 47.265625 \r\nQ 14.109375 46.140625 10.015625 43.890625 \r\nL 10.015625 52.203125 \r\nQ 14.9375 54.109375 19.578125 55.046875 \r\nQ 24.21875 56 28.609375 56 \r\nQ 40.484375 56 46.34375 49.84375 \r\nQ 52.203125 43.703125 52.203125 31.203125 \r\nz\r\n\" id=\"DejaVuSans-97\"/>\r\n      </defs>\r\n      <use xlink:href=\"#DejaVuSans-108\"/>\r\n      <use x=\"27.783203\" xlink:href=\"#DejaVuSans-101\"/>\r\n      <use x=\"89.306641\" xlink:href=\"#DejaVuSans-110\"/>\r\n      <use x=\"152.685547\" xlink:href=\"#DejaVuSans-103\"/>\r\n      <use x=\"216.162109\" xlink:href=\"#DejaVuSans-116\"/>\r\n      <use x=\"255.371094\" xlink:href=\"#DejaVuSans-104\"/>\r\n      <use x=\"318.75\" xlink:href=\"#DejaVuSans-32\"/>\r\n      <use x=\"350.537109\" xlink:href=\"#DejaVuSans-111\"/>\r\n      <use x=\"411.71875\" xlink:href=\"#DejaVuSans-102\"/>\r\n      <use x=\"446.923828\" xlink:href=\"#DejaVuSans-32\"/>\r\n      <use x=\"478.710938\" xlink:href=\"#DejaVuSans-68\"/>\r\n      <use x=\"555.712891\" xlink:href=\"#DejaVuSans-97\"/>\r\n      <use x=\"616.992188\" xlink:href=\"#DejaVuSans-116\"/>\r\n      <use x=\"656.201172\" xlink:href=\"#DejaVuSans-97\"/>\r\n     </g>\r\n    </g>\r\n   </g>\r\n   <g id=\"matplotlib.axis_2\">\r\n    <g id=\"ytick_1\">\r\n     <g id=\"line2d_7\">\r\n      <defs>\r\n       <path d=\"M 0 0 \r\nL -3.5 0 \r\n\" id=\"m952120ebdb\" style=\"stroke:#000000;stroke-width:0.8;\"/>\r\n      </defs>\r\n      <g>\r\n       <use style=\"stroke:#000000;stroke-width:0.8;\" x=\"59.690625\" xlink:href=\"#m952120ebdb\" y=\"224.64\"/>\r\n      </g>\r\n     </g>\r\n     <g id=\"text_8\">\r\n      <!-- 0 -->\r\n      <g transform=\"translate(46.328125 228.439219)scale(0.1 -0.1)\">\r\n       <use xlink:href=\"#DejaVuSans-48\"/>\r\n      </g>\r\n     </g>\r\n    </g>\r\n    <g id=\"ytick_2\">\r\n     <g id=\"line2d_8\">\r\n      <g>\r\n       <use style=\"stroke:#000000;stroke-width:0.8;\" x=\"59.690625\" xlink:href=\"#m952120ebdb\" y=\"191.168897\"/>\r\n      </g>\r\n     </g>\r\n     <g id=\"text_9\">\r\n      <!-- 2000 -->\r\n      <g transform=\"translate(27.240625 194.968116)scale(0.1 -0.1)\">\r\n       <use xlink:href=\"#DejaVuSans-50\"/>\r\n       <use x=\"63.623047\" xlink:href=\"#DejaVuSans-48\"/>\r\n       <use x=\"127.246094\" xlink:href=\"#DejaVuSans-48\"/>\r\n       <use x=\"190.869141\" xlink:href=\"#DejaVuSans-48\"/>\r\n      </g>\r\n     </g>\r\n    </g>\r\n    <g id=\"ytick_3\">\r\n     <g id=\"line2d_9\">\r\n      <g>\r\n       <use style=\"stroke:#000000;stroke-width:0.8;\" x=\"59.690625\" xlink:href=\"#m952120ebdb\" y=\"157.697794\"/>\r\n      </g>\r\n     </g>\r\n     <g id=\"text_10\">\r\n      <!-- 4000 -->\r\n      <g transform=\"translate(27.240625 161.497013)scale(0.1 -0.1)\">\r\n       <use xlink:href=\"#DejaVuSans-52\"/>\r\n       <use x=\"63.623047\" xlink:href=\"#DejaVuSans-48\"/>\r\n       <use x=\"127.246094\" xlink:href=\"#DejaVuSans-48\"/>\r\n       <use x=\"190.869141\" xlink:href=\"#DejaVuSans-48\"/>\r\n      </g>\r\n     </g>\r\n    </g>\r\n    <g id=\"ytick_4\">\r\n     <g id=\"line2d_10\">\r\n      <g>\r\n       <use style=\"stroke:#000000;stroke-width:0.8;\" x=\"59.690625\" xlink:href=\"#m952120ebdb\" y=\"124.226691\"/>\r\n      </g>\r\n     </g>\r\n     <g id=\"text_11\">\r\n      <!-- 6000 -->\r\n      <g transform=\"translate(27.240625 128.02591)scale(0.1 -0.1)\">\r\n       <use xlink:href=\"#DejaVuSans-54\"/>\r\n       <use x=\"63.623047\" xlink:href=\"#DejaVuSans-48\"/>\r\n       <use x=\"127.246094\" xlink:href=\"#DejaVuSans-48\"/>\r\n       <use x=\"190.869141\" xlink:href=\"#DejaVuSans-48\"/>\r\n      </g>\r\n     </g>\r\n    </g>\r\n    <g id=\"ytick_5\">\r\n     <g id=\"line2d_11\">\r\n      <g>\r\n       <use style=\"stroke:#000000;stroke-width:0.8;\" x=\"59.690625\" xlink:href=\"#m952120ebdb\" y=\"90.755588\"/>\r\n      </g>\r\n     </g>\r\n     <g id=\"text_12\">\r\n      <!-- 8000 -->\r\n      <g transform=\"translate(27.240625 94.554807)scale(0.1 -0.1)\">\r\n       <use xlink:href=\"#DejaVuSans-56\"/>\r\n       <use x=\"63.623047\" xlink:href=\"#DejaVuSans-48\"/>\r\n       <use x=\"127.246094\" xlink:href=\"#DejaVuSans-48\"/>\r\n       <use x=\"190.869141\" xlink:href=\"#DejaVuSans-48\"/>\r\n      </g>\r\n     </g>\r\n    </g>\r\n    <g id=\"ytick_6\">\r\n     <g id=\"line2d_12\">\r\n      <g>\r\n       <use style=\"stroke:#000000;stroke-width:0.8;\" x=\"59.690625\" xlink:href=\"#m952120ebdb\" y=\"57.284485\"/>\r\n      </g>\r\n     </g>\r\n     <g id=\"text_13\">\r\n      <!-- 10000 -->\r\n      <g transform=\"translate(20.878125 61.083704)scale(0.1 -0.1)\">\r\n       <use xlink:href=\"#DejaVuSans-49\"/>\r\n       <use x=\"63.623047\" xlink:href=\"#DejaVuSans-48\"/>\r\n       <use x=\"127.246094\" xlink:href=\"#DejaVuSans-48\"/>\r\n       <use x=\"190.869141\" xlink:href=\"#DejaVuSans-48\"/>\r\n       <use x=\"254.492188\" xlink:href=\"#DejaVuSans-48\"/>\r\n      </g>\r\n     </g>\r\n    </g>\r\n    <g id=\"ytick_7\">\r\n     <g id=\"line2d_13\">\r\n      <g>\r\n       <use style=\"stroke:#000000;stroke-width:0.8;\" x=\"59.690625\" xlink:href=\"#m952120ebdb\" y=\"23.813382\"/>\r\n      </g>\r\n     </g>\r\n     <g id=\"text_14\">\r\n      <!-- 12000 -->\r\n      <g transform=\"translate(20.878125 27.612601)scale(0.1 -0.1)\">\r\n       <use xlink:href=\"#DejaVuSans-49\"/>\r\n       <use x=\"63.623047\" xlink:href=\"#DejaVuSans-50\"/>\r\n       <use x=\"127.246094\" xlink:href=\"#DejaVuSans-48\"/>\r\n       <use x=\"190.869141\" xlink:href=\"#DejaVuSans-48\"/>\r\n       <use x=\"254.492188\" xlink:href=\"#DejaVuSans-48\"/>\r\n      </g>\r\n     </g>\r\n    </g>\r\n    <g id=\"text_15\">\r\n     <!-- number of Data -->\r\n     <g transform=\"translate(14.798438 155.37)rotate(-90)scale(0.1 -0.1)\">\r\n      <defs>\r\n       <path d=\"M 8.5 21.578125 \r\nL 8.5 54.6875 \r\nL 17.484375 54.6875 \r\nL 17.484375 21.921875 \r\nQ 17.484375 14.15625 20.5 10.265625 \r\nQ 23.53125 6.390625 29.59375 6.390625 \r\nQ 36.859375 6.390625 41.078125 11.03125 \r\nQ 45.3125 15.671875 45.3125 23.6875 \r\nL 45.3125 54.6875 \r\nL 54.296875 54.6875 \r\nL 54.296875 0 \r\nL 45.3125 0 \r\nL 45.3125 8.40625 \r\nQ 42.046875 3.421875 37.71875 1 \r\nQ 33.40625 -1.421875 27.6875 -1.421875 \r\nQ 18.265625 -1.421875 13.375 4.4375 \r\nQ 8.5 10.296875 8.5 21.578125 \r\nz\r\nM 31.109375 56 \r\nz\r\n\" id=\"DejaVuSans-117\"/>\r\n       <path d=\"M 52 44.1875 \r\nQ 55.375 50.25 60.0625 53.125 \r\nQ 64.75 56 71.09375 56 \r\nQ 79.640625 56 84.28125 50.015625 \r\nQ 88.921875 44.046875 88.921875 33.015625 \r\nL 88.921875 0 \r\nL 79.890625 0 \r\nL 79.890625 32.71875 \r\nQ 79.890625 40.578125 77.09375 44.375 \r\nQ 74.3125 48.1875 68.609375 48.1875 \r\nQ 61.625 48.1875 57.5625 43.546875 \r\nQ 53.515625 38.921875 53.515625 30.90625 \r\nL 53.515625 0 \r\nL 44.484375 0 \r\nL 44.484375 32.71875 \r\nQ 44.484375 40.625 41.703125 44.40625 \r\nQ 38.921875 48.1875 33.109375 48.1875 \r\nQ 26.21875 48.1875 22.15625 43.53125 \r\nQ 18.109375 38.875 18.109375 30.90625 \r\nL 18.109375 0 \r\nL 9.078125 0 \r\nL 9.078125 54.6875 \r\nL 18.109375 54.6875 \r\nL 18.109375 46.1875 \r\nQ 21.1875 51.21875 25.484375 53.609375 \r\nQ 29.78125 56 35.6875 56 \r\nQ 41.65625 56 45.828125 52.96875 \r\nQ 50 49.953125 52 44.1875 \r\nz\r\n\" id=\"DejaVuSans-109\"/>\r\n       <path d=\"M 48.6875 27.296875 \r\nQ 48.6875 37.203125 44.609375 42.84375 \r\nQ 40.53125 48.484375 33.40625 48.484375 \r\nQ 26.265625 48.484375 22.1875 42.84375 \r\nQ 18.109375 37.203125 18.109375 27.296875 \r\nQ 18.109375 17.390625 22.1875 11.75 \r\nQ 26.265625 6.109375 33.40625 6.109375 \r\nQ 40.53125 6.109375 44.609375 11.75 \r\nQ 48.6875 17.390625 48.6875 27.296875 \r\nz\r\nM 18.109375 46.390625 \r\nQ 20.953125 51.265625 25.265625 53.625 \r\nQ 29.59375 56 35.59375 56 \r\nQ 45.5625 56 51.78125 48.09375 \r\nQ 58.015625 40.1875 58.015625 27.296875 \r\nQ 58.015625 14.40625 51.78125 6.484375 \r\nQ 45.5625 -1.421875 35.59375 -1.421875 \r\nQ 29.59375 -1.421875 25.265625 0.953125 \r\nQ 20.953125 3.328125 18.109375 8.203125 \r\nL 18.109375 0 \r\nL 9.078125 0 \r\nL 9.078125 75.984375 \r\nL 18.109375 75.984375 \r\nz\r\n\" id=\"DejaVuSans-98\"/>\r\n       <path d=\"M 41.109375 46.296875 \r\nQ 39.59375 47.171875 37.8125 47.578125 \r\nQ 36.03125 48 33.890625 48 \r\nQ 26.265625 48 22.1875 43.046875 \r\nQ 18.109375 38.09375 18.109375 28.8125 \r\nL 18.109375 0 \r\nL 9.078125 0 \r\nL 9.078125 54.6875 \r\nL 18.109375 54.6875 \r\nL 18.109375 46.1875 \r\nQ 20.953125 51.171875 25.484375 53.578125 \r\nQ 30.03125 56 36.53125 56 \r\nQ 37.453125 56 38.578125 55.875 \r\nQ 39.703125 55.765625 41.0625 55.515625 \r\nz\r\n\" id=\"DejaVuSans-114\"/>\r\n      </defs>\r\n      <use xlink:href=\"#DejaVuSans-110\"/>\r\n      <use x=\"63.378906\" xlink:href=\"#DejaVuSans-117\"/>\r\n      <use x=\"126.757812\" xlink:href=\"#DejaVuSans-109\"/>\r\n      <use x=\"224.169922\" xlink:href=\"#DejaVuSans-98\"/>\r\n      <use x=\"287.646484\" xlink:href=\"#DejaVuSans-101\"/>\r\n      <use x=\"349.169922\" xlink:href=\"#DejaVuSans-114\"/>\r\n      <use x=\"390.283203\" xlink:href=\"#DejaVuSans-32\"/>\r\n      <use x=\"422.070312\" xlink:href=\"#DejaVuSans-111\"/>\r\n      <use x=\"483.251953\" xlink:href=\"#DejaVuSans-102\"/>\r\n      <use x=\"518.457031\" xlink:href=\"#DejaVuSans-32\"/>\r\n      <use x=\"550.244141\" xlink:href=\"#DejaVuSans-68\"/>\r\n      <use x=\"627.246094\" xlink:href=\"#DejaVuSans-97\"/>\r\n      <use x=\"688.525391\" xlink:href=\"#DejaVuSans-116\"/>\r\n      <use x=\"727.734375\" xlink:href=\"#DejaVuSans-97\"/>\r\n     </g>\r\n    </g>\r\n   </g>\r\n   <g id=\"patch_53\">\r\n    <path d=\"M 59.690625 224.64 \r\nL 59.690625 7.2 \r\n\" style=\"fill:none;stroke:#000000;stroke-linecap:square;stroke-linejoin:miter;stroke-width:0.8;\"/>\r\n   </g>\r\n   <g id=\"patch_54\">\r\n    <path d=\"M 394.490625 224.64 \r\nL 394.490625 7.2 \r\n\" style=\"fill:none;stroke:#000000;stroke-linecap:square;stroke-linejoin:miter;stroke-width:0.8;\"/>\r\n   </g>\r\n   <g id=\"patch_55\">\r\n    <path d=\"M 59.690625 224.64 \r\nL 394.490625 224.64 \r\n\" style=\"fill:none;stroke:#000000;stroke-linecap:square;stroke-linejoin:miter;stroke-width:0.8;\"/>\r\n   </g>\r\n   <g id=\"patch_56\">\r\n    <path d=\"M 59.690625 7.2 \r\nL 394.490625 7.2 \r\n\" style=\"fill:none;stroke:#000000;stroke-linecap:square;stroke-linejoin:miter;stroke-width:0.8;\"/>\r\n   </g>\r\n  </g>\r\n </g>\r\n <defs>\r\n  <clipPath id=\"pcffe39ec45\">\r\n   <rect height=\"217.44\" width=\"334.8\" x=\"59.690625\" y=\"7.2\"/>\r\n  </clipPath>\r\n </defs>\r\n</svg>\r\n",
      "text/plain": [
       "<Figure size 432x288 with 1 Axes>"
      ]
     },
     "metadata": {
      "needs_background": "light"
     }
    }
   ],
   "metadata": {}
  },
  {
   "cell_type": "code",
   "execution_count": 166,
   "source": [
    "# 데이터 길이 맞추기 : padding  씌움\r\n",
    "X_pred = pad_sequences(X_pred, maxlen=max_len)"
   ],
   "outputs": [],
   "metadata": {}
  },
  {
   "cell_type": "code",
   "execution_count": 167,
   "source": [
    "# pred 확인\r\n",
    "print(\"pred 최대 길이 : \", max(len(l) for l in X_pred)) \r\n",
    "print(\"pred 평균 길이 : \", sum(map(len, X_pred))/ len(X_pred)) \r\n",
    "\r\n",
    "plt.hist([len(s) for s in X_pred], bins=50) \r\n",
    "plt.xlabel('length of Data') \r\n",
    "plt.ylabel('number of Data') \r\n",
    "plt.show()"
   ],
   "outputs": [
    {
     "output_type": "stream",
     "name": "stdout",
     "text": [
      "pred 최대 길이 :  20\n",
      "pred 평균 길이 :  20.0\n"
     ]
    },
    {
     "output_type": "display_data",
     "data": {
      "image/png": "[encoded data removed]",
      "image/svg+xml": "<?xml version=\"1.0\" encoding=\"utf-8\" standalone=\"no\"?>\r\n<!DOCTYPE svg PUBLIC \"-//W3C//DTD SVG 1.1//EN\"\r\n  \"http://www.w3.org/Graphics/SVG/1.1/DTD/svg11.dtd\">\r\n<!-- Created with matplotlib (https://matplotlib.org/) -->\r\n<svg height=\"262.19625pt\" version=\"1.1\" viewBox=\"0 0 401.690625 262.19625\" width=\"401.690625pt\" xmlns=\"http://www.w3.org/2000/svg\" xmlns:xlink=\"http://www.w3.org/1999/xlink\">\r\n <metadata>\r\n  <rdf:RDF xmlns:cc=\"http://creativecommons.org/ns#\" xmlns:dc=\"http://purl.org/dc/elements/1.1/\" xmlns:rdf=\"http://www.w3.org/1999/02/22-rdf-syntax-ns#\">\r\n   <cc:Work>\r\n    <dc:type rdf:resource=\"http://purl.org/dc/dcmitype/StillImage\"/>\r\n    <dc:date>2021-09-05T19:55:27.383679</dc:date>\r\n    <dc:format>image/svg+xml</dc:format>\r\n    <dc:creator>\r\n     <cc:Agent>\r\n      <dc:title>Matplotlib v3.3.4, https://matplotlib.org/</dc:title>\r\n     </cc:Agent>\r\n    </dc:creator>\r\n   </cc:Work>\r\n  </rdf:RDF>\r\n </metadata>\r\n <defs>\r\n  <style type=\"text/css\">*{stroke-linecap:butt;stroke-linejoin:round;}</style>\r\n </defs>\r\n <g id=\"figure_1\">\r\n  <g id=\"patch_1\">\r\n   <path d=\"M 0 262.19625 \r\nL 401.690625 262.19625 \r\nL 401.690625 0 \r\nL 0 0 \r\nz\r\n\" style=\"fill:none;\"/>\r\n  </g>\r\n  <g id=\"axes_1\">\r\n   <g id=\"patch_2\">\r\n    <path d=\"M 59.690625 224.64 \r\nL 394.490625 224.64 \r\nL 394.490625 7.2 \r\nL 59.690625 7.2 \r\nz\r\n\" style=\"fill:#ffffff;\"/>\r\n   </g>\r\n   <g id=\"patch_3\">\r\n    <path clip-path=\"url(#pf07b439782)\" d=\"M 74.908807 224.64 \r\nL 80.99608 224.64 \r\nL 80.99608 224.64 \r\nL 74.908807 224.64 \r\nz\r\n\" style=\"fill:#1f77b4;\"/>\r\n   </g>\r\n   <g id=\"patch_4\">\r\n    <path clip-path=\"url(#pf07b439782)\" d=\"M 80.99608 224.64 \r\nL 87.083352 224.64 \r\nL 87.083352 224.64 \r\nL 80.99608 224.64 \r\nz\r\n\" style=\"fill:#1f77b4;\"/>\r\n   </g>\r\n   <g id=\"patch_5\">\r\n    <path clip-path=\"url(#pf07b439782)\" d=\"M 87.083352 224.64 \r\nL 93.170625 224.64 \r\nL 93.170625 224.64 \r\nL 87.083352 224.64 \r\nz\r\n\" style=\"fill:#1f77b4;\"/>\r\n   </g>\r\n   <g id=\"patch_6\">\r\n    <path clip-path=\"url(#pf07b439782)\" d=\"M 93.170625 224.64 \r\nL 99.257898 224.64 \r\nL 99.257898 224.64 \r\nL 93.170625 224.64 \r\nz\r\n\" style=\"fill:#1f77b4;\"/>\r\n   </g>\r\n   <g id=\"patch_7\">\r\n    <path clip-path=\"url(#pf07b439782)\" d=\"M 99.257898 224.64 \r\nL 105.34517 224.64 \r\nL 105.34517 224.64 \r\nL 99.257898 224.64 \r\nz\r\n\" style=\"fill:#1f77b4;\"/>\r\n   </g>\r\n   <g id=\"patch_8\">\r\n    <path clip-path=\"url(#pf07b439782)\" d=\"M 105.34517 224.64 \r\nL 111.432443 224.64 \r\nL 111.432443 224.64 \r\nL 105.34517 224.64 \r\nz\r\n\" style=\"fill:#1f77b4;\"/>\r\n   </g>\r\n   <g id=\"patch_9\">\r\n    <path clip-path=\"url(#pf07b439782)\" d=\"M 111.432443 224.64 \r\nL 117.519716 224.64 \r\nL 117.519716 224.64 \r\nL 111.432443 224.64 \r\nz\r\n\" style=\"fill:#1f77b4;\"/>\r\n   </g>\r\n   <g id=\"patch_10\">\r\n    <path clip-path=\"url(#pf07b439782)\" d=\"M 117.519716 224.64 \r\nL 123.606989 224.64 \r\nL 123.606989 224.64 \r\nL 117.519716 224.64 \r\nz\r\n\" style=\"fill:#1f77b4;\"/>\r\n   </g>\r\n   <g id=\"patch_11\">\r\n    <path clip-path=\"url(#pf07b439782)\" d=\"M 123.606989 224.64 \r\nL 129.694261 224.64 \r\nL 129.694261 224.64 \r\nL 123.606989 224.64 \r\nz\r\n\" style=\"fill:#1f77b4;\"/>\r\n   </g>\r\n   <g id=\"patch_12\">\r\n    <path clip-path=\"url(#pf07b439782)\" d=\"M 129.694261 224.64 \r\nL 135.781534 224.64 \r\nL 135.781534 224.64 \r\nL 129.694261 224.64 \r\nz\r\n\" style=\"fill:#1f77b4;\"/>\r\n   </g>\r\n   <g id=\"patch_13\">\r\n    <path clip-path=\"url(#pf07b439782)\" d=\"M 135.781534 224.64 \r\nL 141.868807 224.64 \r\nL 141.868807 224.64 \r\nL 135.781534 224.64 \r\nz\r\n\" style=\"fill:#1f77b4;\"/>\r\n   </g>\r\n   <g id=\"patch_14\">\r\n    <path clip-path=\"url(#pf07b439782)\" d=\"M 141.868807 224.64 \r\nL 147.95608 224.64 \r\nL 147.95608 224.64 \r\nL 141.868807 224.64 \r\nz\r\n\" style=\"fill:#1f77b4;\"/>\r\n   </g>\r\n   <g id=\"patch_15\">\r\n    <path clip-path=\"url(#pf07b439782)\" d=\"M 147.95608 224.64 \r\nL 154.043352 224.64 \r\nL 154.043352 224.64 \r\nL 147.95608 224.64 \r\nz\r\n\" style=\"fill:#1f77b4;\"/>\r\n   </g>\r\n   <g id=\"patch_16\">\r\n    <path clip-path=\"url(#pf07b439782)\" d=\"M 154.043352 224.64 \r\nL 160.130625 224.64 \r\nL 160.130625 224.64 \r\nL 154.043352 224.64 \r\nz\r\n\" style=\"fill:#1f77b4;\"/>\r\n   </g>\r\n   <g id=\"patch_17\">\r\n    <path clip-path=\"url(#pf07b439782)\" d=\"M 160.130625 224.64 \r\nL 166.217898 224.64 \r\nL 166.217898 224.64 \r\nL 160.130625 224.64 \r\nz\r\n\" style=\"fill:#1f77b4;\"/>\r\n   </g>\r\n   <g id=\"patch_18\">\r\n    <path clip-path=\"url(#pf07b439782)\" d=\"M 166.217898 224.64 \r\nL 172.30517 224.64 \r\nL 172.30517 224.64 \r\nL 166.217898 224.64 \r\nz\r\n\" style=\"fill:#1f77b4;\"/>\r\n   </g>\r\n   <g id=\"patch_19\">\r\n    <path clip-path=\"url(#pf07b439782)\" d=\"M 172.30517 224.64 \r\nL 178.392443 224.64 \r\nL 178.392443 224.64 \r\nL 172.30517 224.64 \r\nz\r\n\" style=\"fill:#1f77b4;\"/>\r\n   </g>\r\n   <g id=\"patch_20\">\r\n    <path clip-path=\"url(#pf07b439782)\" d=\"M 178.392443 224.64 \r\nL 184.479716 224.64 \r\nL 184.479716 224.64 \r\nL 178.392443 224.64 \r\nz\r\n\" style=\"fill:#1f77b4;\"/>\r\n   </g>\r\n   <g id=\"patch_21\">\r\n    <path clip-path=\"url(#pf07b439782)\" d=\"M 184.479716 224.64 \r\nL 190.566989 224.64 \r\nL 190.566989 224.64 \r\nL 184.479716 224.64 \r\nz\r\n\" style=\"fill:#1f77b4;\"/>\r\n   </g>\r\n   <g id=\"patch_22\">\r\n    <path clip-path=\"url(#pf07b439782)\" d=\"M 190.566989 224.64 \r\nL 196.654261 224.64 \r\nL 196.654261 224.64 \r\nL 190.566989 224.64 \r\nz\r\n\" style=\"fill:#1f77b4;\"/>\r\n   </g>\r\n   <g id=\"patch_23\">\r\n    <path clip-path=\"url(#pf07b439782)\" d=\"M 196.654261 224.64 \r\nL 202.741534 224.64 \r\nL 202.741534 224.64 \r\nL 196.654261 224.64 \r\nz\r\n\" style=\"fill:#1f77b4;\"/>\r\n   </g>\r\n   <g id=\"patch_24\">\r\n    <path clip-path=\"url(#pf07b439782)\" d=\"M 202.741534 224.64 \r\nL 208.828807 224.64 \r\nL 208.828807 224.64 \r\nL 202.741534 224.64 \r\nz\r\n\" style=\"fill:#1f77b4;\"/>\r\n   </g>\r\n   <g id=\"patch_25\">\r\n    <path clip-path=\"url(#pf07b439782)\" d=\"M 208.828807 224.64 \r\nL 214.91608 224.64 \r\nL 214.91608 224.64 \r\nL 208.828807 224.64 \r\nz\r\n\" style=\"fill:#1f77b4;\"/>\r\n   </g>\r\n   <g id=\"patch_26\">\r\n    <path clip-path=\"url(#pf07b439782)\" d=\"M 214.91608 224.64 \r\nL 221.003352 224.64 \r\nL 221.003352 224.64 \r\nL 214.91608 224.64 \r\nz\r\n\" style=\"fill:#1f77b4;\"/>\r\n   </g>\r\n   <g id=\"patch_27\">\r\n    <path clip-path=\"url(#pf07b439782)\" d=\"M 221.003352 224.64 \r\nL 227.090625 224.64 \r\nL 227.090625 224.64 \r\nL 221.003352 224.64 \r\nz\r\n\" style=\"fill:#1f77b4;\"/>\r\n   </g>\r\n   <g id=\"patch_28\">\r\n    <path clip-path=\"url(#pf07b439782)\" d=\"M 227.090625 224.64 \r\nL 233.177898 224.64 \r\nL 233.177898 17.554286 \r\nL 227.090625 17.554286 \r\nz\r\n\" style=\"fill:#1f77b4;\"/>\r\n   </g>\r\n   <g id=\"patch_29\">\r\n    <path clip-path=\"url(#pf07b439782)\" d=\"M 233.177898 224.64 \r\nL 239.26517 224.64 \r\nL 239.26517 224.64 \r\nL 233.177898 224.64 \r\nz\r\n\" style=\"fill:#1f77b4;\"/>\r\n   </g>\r\n   <g id=\"patch_30\">\r\n    <path clip-path=\"url(#pf07b439782)\" d=\"M 239.26517 224.64 \r\nL 245.352443 224.64 \r\nL 245.352443 224.64 \r\nL 239.26517 224.64 \r\nz\r\n\" style=\"fill:#1f77b4;\"/>\r\n   </g>\r\n   <g id=\"patch_31\">\r\n    <path clip-path=\"url(#pf07b439782)\" d=\"M 245.352443 224.64 \r\nL 251.439716 224.64 \r\nL 251.439716 224.64 \r\nL 245.352443 224.64 \r\nz\r\n\" style=\"fill:#1f77b4;\"/>\r\n   </g>\r\n   <g id=\"patch_32\">\r\n    <path clip-path=\"url(#pf07b439782)\" d=\"M 251.439716 224.64 \r\nL 257.526989 224.64 \r\nL 257.526989 224.64 \r\nL 251.439716 224.64 \r\nz\r\n\" style=\"fill:#1f77b4;\"/>\r\n   </g>\r\n   <g id=\"patch_33\">\r\n    <path clip-path=\"url(#pf07b439782)\" d=\"M 257.526989 224.64 \r\nL 263.614261 224.64 \r\nL 263.614261 224.64 \r\nL 257.526989 224.64 \r\nz\r\n\" style=\"fill:#1f77b4;\"/>\r\n   </g>\r\n   <g id=\"patch_34\">\r\n    <path clip-path=\"url(#pf07b439782)\" d=\"M 263.614261 224.64 \r\nL 269.701534 224.64 \r\nL 269.701534 224.64 \r\nL 263.614261 224.64 \r\nz\r\n\" style=\"fill:#1f77b4;\"/>\r\n   </g>\r\n   <g id=\"patch_35\">\r\n    <path clip-path=\"url(#pf07b439782)\" d=\"M 269.701534 224.64 \r\nL 275.788807 224.64 \r\nL 275.788807 224.64 \r\nL 269.701534 224.64 \r\nz\r\n\" style=\"fill:#1f77b4;\"/>\r\n   </g>\r\n   <g id=\"patch_36\">\r\n    <path clip-path=\"url(#pf07b439782)\" d=\"M 275.788807 224.64 \r\nL 281.87608 224.64 \r\nL 281.87608 224.64 \r\nL 275.788807 224.64 \r\nz\r\n\" style=\"fill:#1f77b4;\"/>\r\n   </g>\r\n   <g id=\"patch_37\">\r\n    <path clip-path=\"url(#pf07b439782)\" d=\"M 281.87608 224.64 \r\nL 287.963352 224.64 \r\nL 287.963352 224.64 \r\nL 281.87608 224.64 \r\nz\r\n\" style=\"fill:#1f77b4;\"/>\r\n   </g>\r\n   <g id=\"patch_38\">\r\n    <path clip-path=\"url(#pf07b439782)\" d=\"M 287.963352 224.64 \r\nL 294.050625 224.64 \r\nL 294.050625 224.64 \r\nL 287.963352 224.64 \r\nz\r\n\" style=\"fill:#1f77b4;\"/>\r\n   </g>\r\n   <g id=\"patch_39\">\r\n    <path clip-path=\"url(#pf07b439782)\" d=\"M 294.050625 224.64 \r\nL 300.137898 224.64 \r\nL 300.137898 224.64 \r\nL 294.050625 224.64 \r\nz\r\n\" style=\"fill:#1f77b4;\"/>\r\n   </g>\r\n   <g id=\"patch_40\">\r\n    <path clip-path=\"url(#pf07b439782)\" d=\"M 300.137898 224.64 \r\nL 306.22517 224.64 \r\nL 306.22517 224.64 \r\nL 300.137898 224.64 \r\nz\r\n\" style=\"fill:#1f77b4;\"/>\r\n   </g>\r\n   <g id=\"patch_41\">\r\n    <path clip-path=\"url(#pf07b439782)\" d=\"M 306.22517 224.64 \r\nL 312.312443 224.64 \r\nL 312.312443 224.64 \r\nL 306.22517 224.64 \r\nz\r\n\" style=\"fill:#1f77b4;\"/>\r\n   </g>\r\n   <g id=\"patch_42\">\r\n    <path clip-path=\"url(#pf07b439782)\" d=\"M 312.312443 224.64 \r\nL 318.399716 224.64 \r\nL 318.399716 224.64 \r\nL 312.312443 224.64 \r\nz\r\n\" style=\"fill:#1f77b4;\"/>\r\n   </g>\r\n   <g id=\"patch_43\">\r\n    <path clip-path=\"url(#pf07b439782)\" d=\"M 318.399716 224.64 \r\nL 324.486989 224.64 \r\nL 324.486989 224.64 \r\nL 318.399716 224.64 \r\nz\r\n\" style=\"fill:#1f77b4;\"/>\r\n   </g>\r\n   <g id=\"patch_44\">\r\n    <path clip-path=\"url(#pf07b439782)\" d=\"M 324.486989 224.64 \r\nL 330.574261 224.64 \r\nL 330.574261 224.64 \r\nL 324.486989 224.64 \r\nz\r\n\" style=\"fill:#1f77b4;\"/>\r\n   </g>\r\n   <g id=\"patch_45\">\r\n    <path clip-path=\"url(#pf07b439782)\" d=\"M 330.574261 224.64 \r\nL 336.661534 224.64 \r\nL 336.661534 224.64 \r\nL 330.574261 224.64 \r\nz\r\n\" style=\"fill:#1f77b4;\"/>\r\n   </g>\r\n   <g id=\"patch_46\">\r\n    <path clip-path=\"url(#pf07b439782)\" d=\"M 336.661534 224.64 \r\nL 342.748807 224.64 \r\nL 342.748807 224.64 \r\nL 336.661534 224.64 \r\nz\r\n\" style=\"fill:#1f77b4;\"/>\r\n   </g>\r\n   <g id=\"patch_47\">\r\n    <path clip-path=\"url(#pf07b439782)\" d=\"M 342.748807 224.64 \r\nL 348.83608 224.64 \r\nL 348.83608 224.64 \r\nL 342.748807 224.64 \r\nz\r\n\" style=\"fill:#1f77b4;\"/>\r\n   </g>\r\n   <g id=\"patch_48\">\r\n    <path clip-path=\"url(#pf07b439782)\" d=\"M 348.83608 224.64 \r\nL 354.923352 224.64 \r\nL 354.923352 224.64 \r\nL 348.83608 224.64 \r\nz\r\n\" style=\"fill:#1f77b4;\"/>\r\n   </g>\r\n   <g id=\"patch_49\">\r\n    <path clip-path=\"url(#pf07b439782)\" d=\"M 354.923352 224.64 \r\nL 361.010625 224.64 \r\nL 361.010625 224.64 \r\nL 354.923352 224.64 \r\nz\r\n\" style=\"fill:#1f77b4;\"/>\r\n   </g>\r\n   <g id=\"patch_50\">\r\n    <path clip-path=\"url(#pf07b439782)\" d=\"M 361.010625 224.64 \r\nL 367.097898 224.64 \r\nL 367.097898 224.64 \r\nL 361.010625 224.64 \r\nz\r\n\" style=\"fill:#1f77b4;\"/>\r\n   </g>\r\n   <g id=\"patch_51\">\r\n    <path clip-path=\"url(#pf07b439782)\" d=\"M 367.097898 224.64 \r\nL 373.18517 224.64 \r\nL 373.18517 224.64 \r\nL 367.097898 224.64 \r\nz\r\n\" style=\"fill:#1f77b4;\"/>\r\n   </g>\r\n   <g id=\"patch_52\">\r\n    <path clip-path=\"url(#pf07b439782)\" d=\"M 373.18517 224.64 \r\nL 379.272443 224.64 \r\nL 379.272443 224.64 \r\nL 373.18517 224.64 \r\nz\r\n\" style=\"fill:#1f77b4;\"/>\r\n   </g>\r\n   <g id=\"matplotlib.axis_1\">\r\n    <g id=\"xtick_1\">\r\n     <g id=\"line2d_1\">\r\n      <defs>\r\n       <path d=\"M 0 0 \r\nL 0 3.5 \r\n\" id=\"mda4a91a802\" style=\"stroke:#000000;stroke-width:0.8;\"/>\r\n      </defs>\r\n      <g>\r\n       <use style=\"stroke:#000000;stroke-width:0.8;\" x=\"105.34517\" xlink:href=\"#mda4a91a802\" y=\"224.64\"/>\r\n      </g>\r\n     </g>\r\n     <g id=\"text_1\">\r\n      <!-- 19.6 -->\r\n      <g transform=\"translate(94.212358 239.238438)scale(0.1 -0.1)\">\r\n       <defs>\r\n        <path d=\"M 12.40625 8.296875 \r\nL 28.515625 8.296875 \r\nL 28.515625 63.921875 \r\nL 10.984375 60.40625 \r\nL 10.984375 69.390625 \r\nL 28.421875 72.90625 \r\nL 38.28125 72.90625 \r\nL 38.28125 8.296875 \r\nL 54.390625 8.296875 \r\nL 54.390625 0 \r\nL 12.40625 0 \r\nz\r\n\" id=\"DejaVuSans-49\"/>\r\n        <path d=\"M 10.984375 1.515625 \r\nL 10.984375 10.5 \r\nQ 14.703125 8.734375 18.5 7.8125 \r\nQ 22.3125 6.890625 25.984375 6.890625 \r\nQ 35.75 6.890625 40.890625 13.453125 \r\nQ 46.046875 20.015625 46.78125 33.40625 \r\nQ 43.953125 29.203125 39.59375 26.953125 \r\nQ 35.25 24.703125 29.984375 24.703125 \r\nQ 19.046875 24.703125 12.671875 31.3125 \r\nQ 6.296875 37.9375 6.296875 49.421875 \r\nQ 6.296875 60.640625 12.9375 67.421875 \r\nQ 19.578125 74.21875 30.609375 74.21875 \r\nQ 43.265625 74.21875 49.921875 64.515625 \r\nQ 56.59375 54.828125 56.59375 36.375 \r\nQ 56.59375 19.140625 48.40625 8.859375 \r\nQ 40.234375 -1.421875 26.421875 -1.421875 \r\nQ 22.703125 -1.421875 18.890625 -0.6875 \r\nQ 15.09375 0.046875 10.984375 1.515625 \r\nz\r\nM 30.609375 32.421875 \r\nQ 37.25 32.421875 41.125 36.953125 \r\nQ 45.015625 41.5 45.015625 49.421875 \r\nQ 45.015625 57.28125 41.125 61.84375 \r\nQ 37.25 66.40625 30.609375 66.40625 \r\nQ 23.96875 66.40625 20.09375 61.84375 \r\nQ 16.21875 57.28125 16.21875 49.421875 \r\nQ 16.21875 41.5 20.09375 36.953125 \r\nQ 23.96875 32.421875 30.609375 32.421875 \r\nz\r\n\" id=\"DejaVuSans-57\"/>\r\n        <path d=\"M 10.6875 12.40625 \r\nL 21 12.40625 \r\nL 21 0 \r\nL 10.6875 0 \r\nz\r\n\" id=\"DejaVuSans-46\"/>\r\n        <path d=\"M 33.015625 40.375 \r\nQ 26.375 40.375 22.484375 35.828125 \r\nQ 18.609375 31.296875 18.609375 23.390625 \r\nQ 18.609375 15.53125 22.484375 10.953125 \r\nQ 26.375 6.390625 33.015625 6.390625 \r\nQ 39.65625 6.390625 43.53125 10.953125 \r\nQ 47.40625 15.53125 47.40625 23.390625 \r\nQ 47.40625 31.296875 43.53125 35.828125 \r\nQ 39.65625 40.375 33.015625 40.375 \r\nz\r\nM 52.59375 71.296875 \r\nL 52.59375 62.3125 \r\nQ 48.875 64.0625 45.09375 64.984375 \r\nQ 41.3125 65.921875 37.59375 65.921875 \r\nQ 27.828125 65.921875 22.671875 59.328125 \r\nQ 17.53125 52.734375 16.796875 39.40625 \r\nQ 19.671875 43.65625 24.015625 45.921875 \r\nQ 28.375 48.1875 33.59375 48.1875 \r\nQ 44.578125 48.1875 50.953125 41.515625 \r\nQ 57.328125 34.859375 57.328125 23.390625 \r\nQ 57.328125 12.15625 50.6875 5.359375 \r\nQ 44.046875 -1.421875 33.015625 -1.421875 \r\nQ 20.359375 -1.421875 13.671875 8.265625 \r\nQ 6.984375 17.96875 6.984375 36.375 \r\nQ 6.984375 53.65625 15.1875 63.9375 \r\nQ 23.390625 74.21875 37.203125 74.21875 \r\nQ 40.921875 74.21875 44.703125 73.484375 \r\nQ 48.484375 72.75 52.59375 71.296875 \r\nz\r\n\" id=\"DejaVuSans-54\"/>\r\n       </defs>\r\n       <use xlink:href=\"#DejaVuSans-49\"/>\r\n       <use x=\"63.623047\" xlink:href=\"#DejaVuSans-57\"/>\r\n       <use x=\"127.246094\" xlink:href=\"#DejaVuSans-46\"/>\r\n       <use x=\"159.033203\" xlink:href=\"#DejaVuSans-54\"/>\r\n      </g>\r\n     </g>\r\n    </g>\r\n    <g id=\"xtick_2\">\r\n     <g id=\"line2d_2\">\r\n      <g>\r\n       <use style=\"stroke:#000000;stroke-width:0.8;\" x=\"166.217898\" xlink:href=\"#mda4a91a802\" y=\"224.64\"/>\r\n      </g>\r\n     </g>\r\n     <g id=\"text_2\">\r\n      <!-- 19.8 -->\r\n      <g transform=\"translate(155.085085 239.238438)scale(0.1 -0.1)\">\r\n       <defs>\r\n        <path d=\"M 31.78125 34.625 \r\nQ 24.75 34.625 20.71875 30.859375 \r\nQ 16.703125 27.09375 16.703125 20.515625 \r\nQ 16.703125 13.921875 20.71875 10.15625 \r\nQ 24.75 6.390625 31.78125 6.390625 \r\nQ 38.8125 6.390625 42.859375 10.171875 \r\nQ 46.921875 13.96875 46.921875 20.515625 \r\nQ 46.921875 27.09375 42.890625 30.859375 \r\nQ 38.875 34.625 31.78125 34.625 \r\nz\r\nM 21.921875 38.8125 \r\nQ 15.578125 40.375 12.03125 44.71875 \r\nQ 8.5 49.078125 8.5 55.328125 \r\nQ 8.5 64.0625 14.71875 69.140625 \r\nQ 20.953125 74.21875 31.78125 74.21875 \r\nQ 42.671875 74.21875 48.875 69.140625 \r\nQ 55.078125 64.0625 55.078125 55.328125 \r\nQ 55.078125 49.078125 51.53125 44.71875 \r\nQ 48 40.375 41.703125 38.8125 \r\nQ 48.828125 37.15625 52.796875 32.3125 \r\nQ 56.78125 27.484375 56.78125 20.515625 \r\nQ 56.78125 9.90625 50.3125 4.234375 \r\nQ 43.84375 -1.421875 31.78125 -1.421875 \r\nQ 19.734375 -1.421875 13.25 4.234375 \r\nQ 6.78125 9.90625 6.78125 20.515625 \r\nQ 6.78125 27.484375 10.78125 32.3125 \r\nQ 14.796875 37.15625 21.921875 38.8125 \r\nz\r\nM 18.3125 54.390625 \r\nQ 18.3125 48.734375 21.84375 45.5625 \r\nQ 25.390625 42.390625 31.78125 42.390625 \r\nQ 38.140625 42.390625 41.71875 45.5625 \r\nQ 45.3125 48.734375 45.3125 54.390625 \r\nQ 45.3125 60.0625 41.71875 63.234375 \r\nQ 38.140625 66.40625 31.78125 66.40625 \r\nQ 25.390625 66.40625 21.84375 63.234375 \r\nQ 18.3125 60.0625 18.3125 54.390625 \r\nz\r\n\" id=\"DejaVuSans-56\"/>\r\n       </defs>\r\n       <use xlink:href=\"#DejaVuSans-49\"/>\r\n       <use x=\"63.623047\" xlink:href=\"#DejaVuSans-57\"/>\r\n       <use x=\"127.246094\" xlink:href=\"#DejaVuSans-46\"/>\r\n       <use x=\"159.033203\" xlink:href=\"#DejaVuSans-56\"/>\r\n      </g>\r\n     </g>\r\n    </g>\r\n    <g id=\"xtick_3\">\r\n     <g id=\"line2d_3\">\r\n      <g>\r\n       <use style=\"stroke:#000000;stroke-width:0.8;\" x=\"227.090625\" xlink:href=\"#mda4a91a802\" y=\"224.64\"/>\r\n      </g>\r\n     </g>\r\n     <g id=\"text_3\">\r\n      <!-- 20.0 -->\r\n      <g transform=\"translate(215.957813 239.238438)scale(0.1 -0.1)\">\r\n       <defs>\r\n        <path d=\"M 19.1875 8.296875 \r\nL 53.609375 8.296875 \r\nL 53.609375 0 \r\nL 7.328125 0 \r\nL 7.328125 8.296875 \r\nQ 12.9375 14.109375 22.625 23.890625 \r\nQ 32.328125 33.6875 34.8125 36.53125 \r\nQ 39.546875 41.84375 41.421875 45.53125 \r\nQ 43.3125 49.21875 43.3125 52.78125 \r\nQ 43.3125 58.59375 39.234375 62.25 \r\nQ 35.15625 65.921875 28.609375 65.921875 \r\nQ 23.96875 65.921875 18.8125 64.3125 \r\nQ 13.671875 62.703125 7.8125 59.421875 \r\nL 7.8125 69.390625 \r\nQ 13.765625 71.78125 18.9375 73 \r\nQ 24.125 74.21875 28.421875 74.21875 \r\nQ 39.75 74.21875 46.484375 68.546875 \r\nQ 53.21875 62.890625 53.21875 53.421875 \r\nQ 53.21875 48.921875 51.53125 44.890625 \r\nQ 49.859375 40.875 45.40625 35.40625 \r\nQ 44.1875 33.984375 37.640625 27.21875 \r\nQ 31.109375 20.453125 19.1875 8.296875 \r\nz\r\n\" id=\"DejaVuSans-50\"/>\r\n        <path d=\"M 31.78125 66.40625 \r\nQ 24.171875 66.40625 20.328125 58.90625 \r\nQ 16.5 51.421875 16.5 36.375 \r\nQ 16.5 21.390625 20.328125 13.890625 \r\nQ 24.171875 6.390625 31.78125 6.390625 \r\nQ 39.453125 6.390625 43.28125 13.890625 \r\nQ 47.125 21.390625 47.125 36.375 \r\nQ 47.125 51.421875 43.28125 58.90625 \r\nQ 39.453125 66.40625 31.78125 66.40625 \r\nz\r\nM 31.78125 74.21875 \r\nQ 44.046875 74.21875 50.515625 64.515625 \r\nQ 56.984375 54.828125 56.984375 36.375 \r\nQ 56.984375 17.96875 50.515625 8.265625 \r\nQ 44.046875 -1.421875 31.78125 -1.421875 \r\nQ 19.53125 -1.421875 13.0625 8.265625 \r\nQ 6.59375 17.96875 6.59375 36.375 \r\nQ 6.59375 54.828125 13.0625 64.515625 \r\nQ 19.53125 74.21875 31.78125 74.21875 \r\nz\r\n\" id=\"DejaVuSans-48\"/>\r\n       </defs>\r\n       <use xlink:href=\"#DejaVuSans-50\"/>\r\n       <use x=\"63.623047\" xlink:href=\"#DejaVuSans-48\"/>\r\n       <use x=\"127.246094\" xlink:href=\"#DejaVuSans-46\"/>\r\n       <use x=\"159.033203\" xlink:href=\"#DejaVuSans-48\"/>\r\n      </g>\r\n     </g>\r\n    </g>\r\n    <g id=\"xtick_4\">\r\n     <g id=\"line2d_4\">\r\n      <g>\r\n       <use style=\"stroke:#000000;stroke-width:0.8;\" x=\"287.963352\" xlink:href=\"#mda4a91a802\" y=\"224.64\"/>\r\n      </g>\r\n     </g>\r\n     <g id=\"text_4\">\r\n      <!-- 20.2 -->\r\n      <g transform=\"translate(276.83054 239.238438)scale(0.1 -0.1)\">\r\n       <use xlink:href=\"#DejaVuSans-50\"/>\r\n       <use x=\"63.623047\" xlink:href=\"#DejaVuSans-48\"/>\r\n       <use x=\"127.246094\" xlink:href=\"#DejaVuSans-46\"/>\r\n       <use x=\"159.033203\" xlink:href=\"#DejaVuSans-50\"/>\r\n      </g>\r\n     </g>\r\n    </g>\r\n    <g id=\"xtick_5\">\r\n     <g id=\"line2d_5\">\r\n      <g>\r\n       <use style=\"stroke:#000000;stroke-width:0.8;\" x=\"348.83608\" xlink:href=\"#mda4a91a802\" y=\"224.64\"/>\r\n      </g>\r\n     </g>\r\n     <g id=\"text_5\">\r\n      <!-- 20.4 -->\r\n      <g transform=\"translate(337.703267 239.238438)scale(0.1 -0.1)\">\r\n       <defs>\r\n        <path d=\"M 37.796875 64.3125 \r\nL 12.890625 25.390625 \r\nL 37.796875 25.390625 \r\nz\r\nM 35.203125 72.90625 \r\nL 47.609375 72.90625 \r\nL 47.609375 25.390625 \r\nL 58.015625 25.390625 \r\nL 58.015625 17.1875 \r\nL 47.609375 17.1875 \r\nL 47.609375 0 \r\nL 37.796875 0 \r\nL 37.796875 17.1875 \r\nL 4.890625 17.1875 \r\nL 4.890625 26.703125 \r\nz\r\n\" id=\"DejaVuSans-52\"/>\r\n       </defs>\r\n       <use xlink:href=\"#DejaVuSans-50\"/>\r\n       <use x=\"63.623047\" xlink:href=\"#DejaVuSans-48\"/>\r\n       <use x=\"127.246094\" xlink:href=\"#DejaVuSans-46\"/>\r\n       <use x=\"159.033203\" xlink:href=\"#DejaVuSans-52\"/>\r\n      </g>\r\n     </g>\r\n    </g>\r\n    <g id=\"text_6\">\r\n     <!-- length of Data -->\r\n     <g transform=\"translate(191.217188 252.916563)scale(0.1 -0.1)\">\r\n      <defs>\r\n       <path d=\"M 9.421875 75.984375 \r\nL 18.40625 75.984375 \r\nL 18.40625 0 \r\nL 9.421875 0 \r\nz\r\n\" id=\"DejaVuSans-108\"/>\r\n       <path d=\"M 56.203125 29.59375 \r\nL 56.203125 25.203125 \r\nL 14.890625 25.203125 \r\nQ 15.484375 15.921875 20.484375 11.0625 \r\nQ 25.484375 6.203125 34.421875 6.203125 \r\nQ 39.59375 6.203125 44.453125 7.46875 \r\nQ 49.3125 8.734375 54.109375 11.28125 \r\nL 54.109375 2.78125 \r\nQ 49.265625 0.734375 44.1875 -0.34375 \r\nQ 39.109375 -1.421875 33.890625 -1.421875 \r\nQ 20.796875 -1.421875 13.15625 6.1875 \r\nQ 5.515625 13.8125 5.515625 26.8125 \r\nQ 5.515625 40.234375 12.765625 48.109375 \r\nQ 20.015625 56 32.328125 56 \r\nQ 43.359375 56 49.78125 48.890625 \r\nQ 56.203125 41.796875 56.203125 29.59375 \r\nz\r\nM 47.21875 32.234375 \r\nQ 47.125 39.59375 43.09375 43.984375 \r\nQ 39.0625 48.390625 32.421875 48.390625 \r\nQ 24.90625 48.390625 20.390625 44.140625 \r\nQ 15.875 39.890625 15.1875 32.171875 \r\nz\r\n\" id=\"DejaVuSans-101\"/>\r\n       <path d=\"M 54.890625 33.015625 \r\nL 54.890625 0 \r\nL 45.90625 0 \r\nL 45.90625 32.71875 \r\nQ 45.90625 40.484375 42.875 44.328125 \r\nQ 39.84375 48.1875 33.796875 48.1875 \r\nQ 26.515625 48.1875 22.3125 43.546875 \r\nQ 18.109375 38.921875 18.109375 30.90625 \r\nL 18.109375 0 \r\nL 9.078125 0 \r\nL 9.078125 54.6875 \r\nL 18.109375 54.6875 \r\nL 18.109375 46.1875 \r\nQ 21.34375 51.125 25.703125 53.5625 \r\nQ 30.078125 56 35.796875 56 \r\nQ 45.21875 56 50.046875 50.171875 \r\nQ 54.890625 44.34375 54.890625 33.015625 \r\nz\r\n\" id=\"DejaVuSans-110\"/>\r\n       <path d=\"M 45.40625 27.984375 \r\nQ 45.40625 37.75 41.375 43.109375 \r\nQ 37.359375 48.484375 30.078125 48.484375 \r\nQ 22.859375 48.484375 18.828125 43.109375 \r\nQ 14.796875 37.75 14.796875 27.984375 \r\nQ 14.796875 18.265625 18.828125 12.890625 \r\nQ 22.859375 7.515625 30.078125 7.515625 \r\nQ 37.359375 7.515625 41.375 12.890625 \r\nQ 45.40625 18.265625 45.40625 27.984375 \r\nz\r\nM 54.390625 6.78125 \r\nQ 54.390625 -7.171875 48.1875 -13.984375 \r\nQ 42 -20.796875 29.203125 -20.796875 \r\nQ 24.46875 -20.796875 20.265625 -20.09375 \r\nQ 16.0625 -19.390625 12.109375 -17.921875 \r\nL 12.109375 -9.1875 \r\nQ 16.0625 -11.328125 19.921875 -12.34375 \r\nQ 23.78125 -13.375 27.78125 -13.375 \r\nQ 36.625 -13.375 41.015625 -8.765625 \r\nQ 45.40625 -4.15625 45.40625 5.171875 \r\nL 45.40625 9.625 \r\nQ 42.625 4.78125 38.28125 2.390625 \r\nQ 33.9375 0 27.875 0 \r\nQ 17.828125 0 11.671875 7.65625 \r\nQ 5.515625 15.328125 5.515625 27.984375 \r\nQ 5.515625 40.671875 11.671875 48.328125 \r\nQ 17.828125 56 27.875 56 \r\nQ 33.9375 56 38.28125 53.609375 \r\nQ 42.625 51.21875 45.40625 46.390625 \r\nL 45.40625 54.6875 \r\nL 54.390625 54.6875 \r\nz\r\n\" id=\"DejaVuSans-103\"/>\r\n       <path d=\"M 18.3125 70.21875 \r\nL 18.3125 54.6875 \r\nL 36.8125 54.6875 \r\nL 36.8125 47.703125 \r\nL 18.3125 47.703125 \r\nL 18.3125 18.015625 \r\nQ 18.3125 11.328125 20.140625 9.421875 \r\nQ 21.96875 7.515625 27.59375 7.515625 \r\nL 36.8125 7.515625 \r\nL 36.8125 0 \r\nL 27.59375 0 \r\nQ 17.1875 0 13.234375 3.875 \r\nQ 9.28125 7.765625 9.28125 18.015625 \r\nL 9.28125 47.703125 \r\nL 2.6875 47.703125 \r\nL 2.6875 54.6875 \r\nL 9.28125 54.6875 \r\nL 9.28125 70.21875 \r\nz\r\n\" id=\"DejaVuSans-116\"/>\r\n       <path d=\"M 54.890625 33.015625 \r\nL 54.890625 0 \r\nL 45.90625 0 \r\nL 45.90625 32.71875 \r\nQ 45.90625 40.484375 42.875 44.328125 \r\nQ 39.84375 48.1875 33.796875 48.1875 \r\nQ 26.515625 48.1875 22.3125 43.546875 \r\nQ 18.109375 38.921875 18.109375 30.90625 \r\nL 18.109375 0 \r\nL 9.078125 0 \r\nL 9.078125 75.984375 \r\nL 18.109375 75.984375 \r\nL 18.109375 46.1875 \r\nQ 21.34375 51.125 25.703125 53.5625 \r\nQ 30.078125 56 35.796875 56 \r\nQ 45.21875 56 50.046875 50.171875 \r\nQ 54.890625 44.34375 54.890625 33.015625 \r\nz\r\n\" id=\"DejaVuSans-104\"/>\r\n       <path id=\"DejaVuSans-32\"/>\r\n       <path d=\"M 30.609375 48.390625 \r\nQ 23.390625 48.390625 19.1875 42.75 \r\nQ 14.984375 37.109375 14.984375 27.296875 \r\nQ 14.984375 17.484375 19.15625 11.84375 \r\nQ 23.34375 6.203125 30.609375 6.203125 \r\nQ 37.796875 6.203125 41.984375 11.859375 \r\nQ 46.1875 17.53125 46.1875 27.296875 \r\nQ 46.1875 37.015625 41.984375 42.703125 \r\nQ 37.796875 48.390625 30.609375 48.390625 \r\nz\r\nM 30.609375 56 \r\nQ 42.328125 56 49.015625 48.375 \r\nQ 55.71875 40.765625 55.71875 27.296875 \r\nQ 55.71875 13.875 49.015625 6.21875 \r\nQ 42.328125 -1.421875 30.609375 -1.421875 \r\nQ 18.84375 -1.421875 12.171875 6.21875 \r\nQ 5.515625 13.875 5.515625 27.296875 \r\nQ 5.515625 40.765625 12.171875 48.375 \r\nQ 18.84375 56 30.609375 56 \r\nz\r\n\" id=\"DejaVuSans-111\"/>\r\n       <path d=\"M 37.109375 75.984375 \r\nL 37.109375 68.5 \r\nL 28.515625 68.5 \r\nQ 23.6875 68.5 21.796875 66.546875 \r\nQ 19.921875 64.59375 19.921875 59.515625 \r\nL 19.921875 54.6875 \r\nL 34.71875 54.6875 \r\nL 34.71875 47.703125 \r\nL 19.921875 47.703125 \r\nL 19.921875 0 \r\nL 10.890625 0 \r\nL 10.890625 47.703125 \r\nL 2.296875 47.703125 \r\nL 2.296875 54.6875 \r\nL 10.890625 54.6875 \r\nL 10.890625 58.5 \r\nQ 10.890625 67.625 15.140625 71.796875 \r\nQ 19.390625 75.984375 28.609375 75.984375 \r\nz\r\n\" id=\"DejaVuSans-102\"/>\r\n       <path d=\"M 19.671875 64.796875 \r\nL 19.671875 8.109375 \r\nL 31.59375 8.109375 \r\nQ 46.6875 8.109375 53.6875 14.9375 \r\nQ 60.6875 21.78125 60.6875 36.53125 \r\nQ 60.6875 51.171875 53.6875 57.984375 \r\nQ 46.6875 64.796875 31.59375 64.796875 \r\nz\r\nM 9.8125 72.90625 \r\nL 30.078125 72.90625 \r\nQ 51.265625 72.90625 61.171875 64.09375 \r\nQ 71.09375 55.28125 71.09375 36.53125 \r\nQ 71.09375 17.671875 61.125 8.828125 \r\nQ 51.171875 0 30.078125 0 \r\nL 9.8125 0 \r\nz\r\n\" id=\"DejaVuSans-68\"/>\r\n       <path d=\"M 34.28125 27.484375 \r\nQ 23.390625 27.484375 19.1875 25 \r\nQ 14.984375 22.515625 14.984375 16.5 \r\nQ 14.984375 11.71875 18.140625 8.90625 \r\nQ 21.296875 6.109375 26.703125 6.109375 \r\nQ 34.1875 6.109375 38.703125 11.40625 \r\nQ 43.21875 16.703125 43.21875 25.484375 \r\nL 43.21875 27.484375 \r\nz\r\nM 52.203125 31.203125 \r\nL 52.203125 0 \r\nL 43.21875 0 \r\nL 43.21875 8.296875 \r\nQ 40.140625 3.328125 35.546875 0.953125 \r\nQ 30.953125 -1.421875 24.3125 -1.421875 \r\nQ 15.921875 -1.421875 10.953125 3.296875 \r\nQ 6 8.015625 6 15.921875 \r\nQ 6 25.140625 12.171875 29.828125 \r\nQ 18.359375 34.515625 30.609375 34.515625 \r\nL 43.21875 34.515625 \r\nL 43.21875 35.40625 \r\nQ 43.21875 41.609375 39.140625 45 \r\nQ 35.0625 48.390625 27.6875 48.390625 \r\nQ 23 48.390625 18.546875 47.265625 \r\nQ 14.109375 46.140625 10.015625 43.890625 \r\nL 10.015625 52.203125 \r\nQ 14.9375 54.109375 19.578125 55.046875 \r\nQ 24.21875 56 28.609375 56 \r\nQ 40.484375 56 46.34375 49.84375 \r\nQ 52.203125 43.703125 52.203125 31.203125 \r\nz\r\n\" id=\"DejaVuSans-97\"/>\r\n      </defs>\r\n      <use xlink:href=\"#DejaVuSans-108\"/>\r\n      <use x=\"27.783203\" xlink:href=\"#DejaVuSans-101\"/>\r\n      <use x=\"89.306641\" xlink:href=\"#DejaVuSans-110\"/>\r\n      <use x=\"152.685547\" xlink:href=\"#DejaVuSans-103\"/>\r\n      <use x=\"216.162109\" xlink:href=\"#DejaVuSans-116\"/>\r\n      <use x=\"255.371094\" xlink:href=\"#DejaVuSans-104\"/>\r\n      <use x=\"318.75\" xlink:href=\"#DejaVuSans-32\"/>\r\n      <use x=\"350.537109\" xlink:href=\"#DejaVuSans-111\"/>\r\n      <use x=\"411.71875\" xlink:href=\"#DejaVuSans-102\"/>\r\n      <use x=\"446.923828\" xlink:href=\"#DejaVuSans-32\"/>\r\n      <use x=\"478.710938\" xlink:href=\"#DejaVuSans-68\"/>\r\n      <use x=\"555.712891\" xlink:href=\"#DejaVuSans-97\"/>\r\n      <use x=\"616.992188\" xlink:href=\"#DejaVuSans-116\"/>\r\n      <use x=\"656.201172\" xlink:href=\"#DejaVuSans-97\"/>\r\n     </g>\r\n    </g>\r\n   </g>\r\n   <g id=\"matplotlib.axis_2\">\r\n    <g id=\"ytick_1\">\r\n     <g id=\"line2d_6\">\r\n      <defs>\r\n       <path d=\"M 0 0 \r\nL -3.5 0 \r\n\" id=\"mcfb2d61605\" style=\"stroke:#000000;stroke-width:0.8;\"/>\r\n      </defs>\r\n      <g>\r\n       <use style=\"stroke:#000000;stroke-width:0.8;\" x=\"59.690625\" xlink:href=\"#mcfb2d61605\" y=\"224.64\"/>\r\n      </g>\r\n     </g>\r\n     <g id=\"text_7\">\r\n      <!-- 0 -->\r\n      <g transform=\"translate(46.328125 228.439219)scale(0.1 -0.1)\">\r\n       <use xlink:href=\"#DejaVuSans-48\"/>\r\n      </g>\r\n     </g>\r\n    </g>\r\n    <g id=\"ytick_2\">\r\n     <g id=\"line2d_7\">\r\n      <g>\r\n       <use style=\"stroke:#000000;stroke-width:0.8;\" x=\"59.690625\" xlink:href=\"#mcfb2d61605\" y=\"196.838035\"/>\r\n      </g>\r\n     </g>\r\n     <g id=\"text_8\">\r\n      <!-- 5000 -->\r\n      <g transform=\"translate(27.240625 200.637254)scale(0.1 -0.1)\">\r\n       <defs>\r\n        <path d=\"M 10.796875 72.90625 \r\nL 49.515625 72.90625 \r\nL 49.515625 64.59375 \r\nL 19.828125 64.59375 \r\nL 19.828125 46.734375 \r\nQ 21.96875 47.46875 24.109375 47.828125 \r\nQ 26.265625 48.1875 28.421875 48.1875 \r\nQ 40.625 48.1875 47.75 41.5 \r\nQ 54.890625 34.8125 54.890625 23.390625 \r\nQ 54.890625 11.625 47.5625 5.09375 \r\nQ 40.234375 -1.421875 26.90625 -1.421875 \r\nQ 22.3125 -1.421875 17.546875 -0.640625 \r\nQ 12.796875 0.140625 7.71875 1.703125 \r\nL 7.71875 11.625 \r\nQ 12.109375 9.234375 16.796875 8.0625 \r\nQ 21.484375 6.890625 26.703125 6.890625 \r\nQ 35.15625 6.890625 40.078125 11.328125 \r\nQ 45.015625 15.765625 45.015625 23.390625 \r\nQ 45.015625 31 40.078125 35.4375 \r\nQ 35.15625 39.890625 26.703125 39.890625 \r\nQ 22.75 39.890625 18.8125 39.015625 \r\nQ 14.890625 38.140625 10.796875 36.28125 \r\nz\r\n\" id=\"DejaVuSans-53\"/>\r\n       </defs>\r\n       <use xlink:href=\"#DejaVuSans-53\"/>\r\n       <use x=\"63.623047\" xlink:href=\"#DejaVuSans-48\"/>\r\n       <use x=\"127.246094\" xlink:href=\"#DejaVuSans-48\"/>\r\n       <use x=\"190.869141\" xlink:href=\"#DejaVuSans-48\"/>\r\n      </g>\r\n     </g>\r\n    </g>\r\n    <g id=\"ytick_3\">\r\n     <g id=\"line2d_8\">\r\n      <g>\r\n       <use style=\"stroke:#000000;stroke-width:0.8;\" x=\"59.690625\" xlink:href=\"#mcfb2d61605\" y=\"169.036071\"/>\r\n      </g>\r\n     </g>\r\n     <g id=\"text_9\">\r\n      <!-- 10000 -->\r\n      <g transform=\"translate(20.878125 172.835289)scale(0.1 -0.1)\">\r\n       <use xlink:href=\"#DejaVuSans-49\"/>\r\n       <use x=\"63.623047\" xlink:href=\"#DejaVuSans-48\"/>\r\n       <use x=\"127.246094\" xlink:href=\"#DejaVuSans-48\"/>\r\n       <use x=\"190.869141\" xlink:href=\"#DejaVuSans-48\"/>\r\n       <use x=\"254.492188\" xlink:href=\"#DejaVuSans-48\"/>\r\n      </g>\r\n     </g>\r\n    </g>\r\n    <g id=\"ytick_4\">\r\n     <g id=\"line2d_9\">\r\n      <g>\r\n       <use style=\"stroke:#000000;stroke-width:0.8;\" x=\"59.690625\" xlink:href=\"#mcfb2d61605\" y=\"141.234106\"/>\r\n      </g>\r\n     </g>\r\n     <g id=\"text_10\">\r\n      <!-- 15000 -->\r\n      <g transform=\"translate(20.878125 145.033325)scale(0.1 -0.1)\">\r\n       <use xlink:href=\"#DejaVuSans-49\"/>\r\n       <use x=\"63.623047\" xlink:href=\"#DejaVuSans-53\"/>\r\n       <use x=\"127.246094\" xlink:href=\"#DejaVuSans-48\"/>\r\n       <use x=\"190.869141\" xlink:href=\"#DejaVuSans-48\"/>\r\n       <use x=\"254.492188\" xlink:href=\"#DejaVuSans-48\"/>\r\n      </g>\r\n     </g>\r\n    </g>\r\n    <g id=\"ytick_5\">\r\n     <g id=\"line2d_10\">\r\n      <g>\r\n       <use style=\"stroke:#000000;stroke-width:0.8;\" x=\"59.690625\" xlink:href=\"#mcfb2d61605\" y=\"113.432141\"/>\r\n      </g>\r\n     </g>\r\n     <g id=\"text_11\">\r\n      <!-- 20000 -->\r\n      <g transform=\"translate(20.878125 117.23136)scale(0.1 -0.1)\">\r\n       <use xlink:href=\"#DejaVuSans-50\"/>\r\n       <use x=\"63.623047\" xlink:href=\"#DejaVuSans-48\"/>\r\n       <use x=\"127.246094\" xlink:href=\"#DejaVuSans-48\"/>\r\n       <use x=\"190.869141\" xlink:href=\"#DejaVuSans-48\"/>\r\n       <use x=\"254.492188\" xlink:href=\"#DejaVuSans-48\"/>\r\n      </g>\r\n     </g>\r\n    </g>\r\n    <g id=\"ytick_6\">\r\n     <g id=\"line2d_11\">\r\n      <g>\r\n       <use style=\"stroke:#000000;stroke-width:0.8;\" x=\"59.690625\" xlink:href=\"#mcfb2d61605\" y=\"85.630176\"/>\r\n      </g>\r\n     </g>\r\n     <g id=\"text_12\">\r\n      <!-- 25000 -->\r\n      <g transform=\"translate(20.878125 89.429395)scale(0.1 -0.1)\">\r\n       <use xlink:href=\"#DejaVuSans-50\"/>\r\n       <use x=\"63.623047\" xlink:href=\"#DejaVuSans-53\"/>\r\n       <use x=\"127.246094\" xlink:href=\"#DejaVuSans-48\"/>\r\n       <use x=\"190.869141\" xlink:href=\"#DejaVuSans-48\"/>\r\n       <use x=\"254.492188\" xlink:href=\"#DejaVuSans-48\"/>\r\n      </g>\r\n     </g>\r\n    </g>\r\n    <g id=\"ytick_7\">\r\n     <g id=\"line2d_12\">\r\n      <g>\r\n       <use style=\"stroke:#000000;stroke-width:0.8;\" x=\"59.690625\" xlink:href=\"#mcfb2d61605\" y=\"57.828212\"/>\r\n      </g>\r\n     </g>\r\n     <g id=\"text_13\">\r\n      <!-- 30000 -->\r\n      <g transform=\"translate(20.878125 61.627431)scale(0.1 -0.1)\">\r\n       <defs>\r\n        <path d=\"M 40.578125 39.3125 \r\nQ 47.65625 37.796875 51.625 33 \r\nQ 55.609375 28.21875 55.609375 21.1875 \r\nQ 55.609375 10.40625 48.1875 4.484375 \r\nQ 40.765625 -1.421875 27.09375 -1.421875 \r\nQ 22.515625 -1.421875 17.65625 -0.515625 \r\nQ 12.796875 0.390625 7.625 2.203125 \r\nL 7.625 11.71875 \r\nQ 11.71875 9.328125 16.59375 8.109375 \r\nQ 21.484375 6.890625 26.8125 6.890625 \r\nQ 36.078125 6.890625 40.9375 10.546875 \r\nQ 45.796875 14.203125 45.796875 21.1875 \r\nQ 45.796875 27.640625 41.28125 31.265625 \r\nQ 36.765625 34.90625 28.71875 34.90625 \r\nL 20.21875 34.90625 \r\nL 20.21875 43.015625 \r\nL 29.109375 43.015625 \r\nQ 36.375 43.015625 40.234375 45.921875 \r\nQ 44.09375 48.828125 44.09375 54.296875 \r\nQ 44.09375 59.90625 40.109375 62.90625 \r\nQ 36.140625 65.921875 28.71875 65.921875 \r\nQ 24.65625 65.921875 20.015625 65.03125 \r\nQ 15.375 64.15625 9.8125 62.3125 \r\nL 9.8125 71.09375 \r\nQ 15.4375 72.65625 20.34375 73.4375 \r\nQ 25.25 74.21875 29.59375 74.21875 \r\nQ 40.828125 74.21875 47.359375 69.109375 \r\nQ 53.90625 64.015625 53.90625 55.328125 \r\nQ 53.90625 49.265625 50.4375 45.09375 \r\nQ 46.96875 40.921875 40.578125 39.3125 \r\nz\r\n\" id=\"DejaVuSans-51\"/>\r\n       </defs>\r\n       <use xlink:href=\"#DejaVuSans-51\"/>\r\n       <use x=\"63.623047\" xlink:href=\"#DejaVuSans-48\"/>\r\n       <use x=\"127.246094\" xlink:href=\"#DejaVuSans-48\"/>\r\n       <use x=\"190.869141\" xlink:href=\"#DejaVuSans-48\"/>\r\n       <use x=\"254.492188\" xlink:href=\"#DejaVuSans-48\"/>\r\n      </g>\r\n     </g>\r\n    </g>\r\n    <g id=\"ytick_8\">\r\n     <g id=\"line2d_13\">\r\n      <g>\r\n       <use style=\"stroke:#000000;stroke-width:0.8;\" x=\"59.690625\" xlink:href=\"#mcfb2d61605\" y=\"30.026247\"/>\r\n      </g>\r\n     </g>\r\n     <g id=\"text_14\">\r\n      <!-- 35000 -->\r\n      <g transform=\"translate(20.878125 33.825466)scale(0.1 -0.1)\">\r\n       <use xlink:href=\"#DejaVuSans-51\"/>\r\n       <use x=\"63.623047\" xlink:href=\"#DejaVuSans-53\"/>\r\n       <use x=\"127.246094\" xlink:href=\"#DejaVuSans-48\"/>\r\n       <use x=\"190.869141\" xlink:href=\"#DejaVuSans-48\"/>\r\n       <use x=\"254.492188\" xlink:href=\"#DejaVuSans-48\"/>\r\n      </g>\r\n     </g>\r\n    </g>\r\n    <g id=\"text_15\">\r\n     <!-- number of Data -->\r\n     <g transform=\"translate(14.798438 155.37)rotate(-90)scale(0.1 -0.1)\">\r\n      <defs>\r\n       <path d=\"M 8.5 21.578125 \r\nL 8.5 54.6875 \r\nL 17.484375 54.6875 \r\nL 17.484375 21.921875 \r\nQ 17.484375 14.15625 20.5 10.265625 \r\nQ 23.53125 6.390625 29.59375 6.390625 \r\nQ 36.859375 6.390625 41.078125 11.03125 \r\nQ 45.3125 15.671875 45.3125 23.6875 \r\nL 45.3125 54.6875 \r\nL 54.296875 54.6875 \r\nL 54.296875 0 \r\nL 45.3125 0 \r\nL 45.3125 8.40625 \r\nQ 42.046875 3.421875 37.71875 1 \r\nQ 33.40625 -1.421875 27.6875 -1.421875 \r\nQ 18.265625 -1.421875 13.375 4.4375 \r\nQ 8.5 10.296875 8.5 21.578125 \r\nz\r\nM 31.109375 56 \r\nz\r\n\" id=\"DejaVuSans-117\"/>\r\n       <path d=\"M 52 44.1875 \r\nQ 55.375 50.25 60.0625 53.125 \r\nQ 64.75 56 71.09375 56 \r\nQ 79.640625 56 84.28125 50.015625 \r\nQ 88.921875 44.046875 88.921875 33.015625 \r\nL 88.921875 0 \r\nL 79.890625 0 \r\nL 79.890625 32.71875 \r\nQ 79.890625 40.578125 77.09375 44.375 \r\nQ 74.3125 48.1875 68.609375 48.1875 \r\nQ 61.625 48.1875 57.5625 43.546875 \r\nQ 53.515625 38.921875 53.515625 30.90625 \r\nL 53.515625 0 \r\nL 44.484375 0 \r\nL 44.484375 32.71875 \r\nQ 44.484375 40.625 41.703125 44.40625 \r\nQ 38.921875 48.1875 33.109375 48.1875 \r\nQ 26.21875 48.1875 22.15625 43.53125 \r\nQ 18.109375 38.875 18.109375 30.90625 \r\nL 18.109375 0 \r\nL 9.078125 0 \r\nL 9.078125 54.6875 \r\nL 18.109375 54.6875 \r\nL 18.109375 46.1875 \r\nQ 21.1875 51.21875 25.484375 53.609375 \r\nQ 29.78125 56 35.6875 56 \r\nQ 41.65625 56 45.828125 52.96875 \r\nQ 50 49.953125 52 44.1875 \r\nz\r\n\" id=\"DejaVuSans-109\"/>\r\n       <path d=\"M 48.6875 27.296875 \r\nQ 48.6875 37.203125 44.609375 42.84375 \r\nQ 40.53125 48.484375 33.40625 48.484375 \r\nQ 26.265625 48.484375 22.1875 42.84375 \r\nQ 18.109375 37.203125 18.109375 27.296875 \r\nQ 18.109375 17.390625 22.1875 11.75 \r\nQ 26.265625 6.109375 33.40625 6.109375 \r\nQ 40.53125 6.109375 44.609375 11.75 \r\nQ 48.6875 17.390625 48.6875 27.296875 \r\nz\r\nM 18.109375 46.390625 \r\nQ 20.953125 51.265625 25.265625 53.625 \r\nQ 29.59375 56 35.59375 56 \r\nQ 45.5625 56 51.78125 48.09375 \r\nQ 58.015625 40.1875 58.015625 27.296875 \r\nQ 58.015625 14.40625 51.78125 6.484375 \r\nQ 45.5625 -1.421875 35.59375 -1.421875 \r\nQ 29.59375 -1.421875 25.265625 0.953125 \r\nQ 20.953125 3.328125 18.109375 8.203125 \r\nL 18.109375 0 \r\nL 9.078125 0 \r\nL 9.078125 75.984375 \r\nL 18.109375 75.984375 \r\nz\r\n\" id=\"DejaVuSans-98\"/>\r\n       <path d=\"M 41.109375 46.296875 \r\nQ 39.59375 47.171875 37.8125 47.578125 \r\nQ 36.03125 48 33.890625 48 \r\nQ 26.265625 48 22.1875 43.046875 \r\nQ 18.109375 38.09375 18.109375 28.8125 \r\nL 18.109375 0 \r\nL 9.078125 0 \r\nL 9.078125 54.6875 \r\nL 18.109375 54.6875 \r\nL 18.109375 46.1875 \r\nQ 20.953125 51.171875 25.484375 53.578125 \r\nQ 30.03125 56 36.53125 56 \r\nQ 37.453125 56 38.578125 55.875 \r\nQ 39.703125 55.765625 41.0625 55.515625 \r\nz\r\n\" id=\"DejaVuSans-114\"/>\r\n      </defs>\r\n      <use xlink:href=\"#DejaVuSans-110\"/>\r\n      <use x=\"63.378906\" xlink:href=\"#DejaVuSans-117\"/>\r\n      <use x=\"126.757812\" xlink:href=\"#DejaVuSans-109\"/>\r\n      <use x=\"224.169922\" xlink:href=\"#DejaVuSans-98\"/>\r\n      <use x=\"287.646484\" xlink:href=\"#DejaVuSans-101\"/>\r\n      <use x=\"349.169922\" xlink:href=\"#DejaVuSans-114\"/>\r\n      <use x=\"390.283203\" xlink:href=\"#DejaVuSans-32\"/>\r\n      <use x=\"422.070312\" xlink:href=\"#DejaVuSans-111\"/>\r\n      <use x=\"483.251953\" xlink:href=\"#DejaVuSans-102\"/>\r\n      <use x=\"518.457031\" xlink:href=\"#DejaVuSans-32\"/>\r\n      <use x=\"550.244141\" xlink:href=\"#DejaVuSans-68\"/>\r\n      <use x=\"627.246094\" xlink:href=\"#DejaVuSans-97\"/>\r\n      <use x=\"688.525391\" xlink:href=\"#DejaVuSans-116\"/>\r\n      <use x=\"727.734375\" xlink:href=\"#DejaVuSans-97\"/>\r\n     </g>\r\n    </g>\r\n   </g>\r\n   <g id=\"patch_53\">\r\n    <path d=\"M 59.690625 224.64 \r\nL 59.690625 7.2 \r\n\" style=\"fill:none;stroke:#000000;stroke-linecap:square;stroke-linejoin:miter;stroke-width:0.8;\"/>\r\n   </g>\r\n   <g id=\"patch_54\">\r\n    <path d=\"M 394.490625 224.64 \r\nL 394.490625 7.2 \r\n\" style=\"fill:none;stroke:#000000;stroke-linecap:square;stroke-linejoin:miter;stroke-width:0.8;\"/>\r\n   </g>\r\n   <g id=\"patch_55\">\r\n    <path d=\"M 59.690625 224.64 \r\nL 394.490625 224.64 \r\n\" style=\"fill:none;stroke:#000000;stroke-linecap:square;stroke-linejoin:miter;stroke-width:0.8;\"/>\r\n   </g>\r\n   <g id=\"patch_56\">\r\n    <path d=\"M 59.690625 7.2 \r\nL 394.490625 7.2 \r\n\" style=\"fill:none;stroke:#000000;stroke-linecap:square;stroke-linejoin:miter;stroke-width:0.8;\"/>\r\n   </g>\r\n  </g>\r\n </g>\r\n <defs>\r\n  <clipPath id=\"pf07b439782\">\r\n   <rect height=\"217.44\" width=\"334.8\" x=\"59.690625\" y=\"7.2\"/>\r\n  </clipPath>\r\n </defs>\r\n</svg>\r\n",
      "text/plain": [
       "<Figure size 432x288 with 1 Axes>"
      ]
     },
     "metadata": {
      "needs_background": "light"
     }
    }
   ],
   "metadata": {}
  },
  {
   "cell_type": "code",
   "execution_count": 169,
   "source": [
    "# 2020 카페 pred로 감성분석 예측\r\n",
    "predict = model.predict( X_pred )"
   ],
   "outputs": [],
   "metadata": {}
  },
  {
   "cell_type": "code",
   "execution_count": 178,
   "source": [
    "pred_df['content']"
   ],
   "outputs": [
    {
     "output_type": "execute_result",
     "data": {
      "text/plain": [
       "0        #RICEBAKING#쌀구움과자→←장여진, 채미희 지음경향미디어메마른 쌀베이킹계의단...\n",
       "1        먹던게있어서 식탁밑에 보관만하다가 개봉햇더니만ᆢ쌀이 눈에 보이게 딱 구분되어있는거 ...\n",
       "2              어제 쌀이 똑 떨어져서 ...한인마트 가기는 너무 멀고 동네 수퍼 스토어...\n",
       "3        가와지쌀 쌕깔이 원래 이렇개누리끼리한가요?살짝 푸루딩긴힌것같기도하고.. 쌀냄새도 쫌...\n",
       "4        해원고 쌀꾸러미 한두달전에 받은듯해요얼마전 남은 쌀다먹고 5키로짜리 쌀 맛나게 잘먹...\n",
       "                               ...                        \n",
       "10000    친정에서 지난주에 쌀을가져왔는데 \\n저희먹을거빼고 10키로짜리 2만원에판매합니다\\n...\n",
       "10001    세상에 오대쌀 산지 이주된거같은데..ㅠ\\n지퍼백보관했고요\\n10키로 반반해서 하나는...\n",
       "10002    인터넷검색하니\\n\\n20배라해서\\n\\n쌀가루 20그람에 물400넣고 이유식 돌리니ㅠ...\n",
       "10003     일반쌀 20kg, 찹쌀 20kg 미개봉 상태인데 좀 오래되어서 가축 사료용으로 쓰...\n",
       "10004    [싱싱채소] 햇고구마, 감자,당근,호박,대파,쌀 배달해드려요~\\n~~~~~~텃밭지키...\n",
       "Name: content, Length: 10005, dtype: object"
      ]
     },
     "metadata": {},
     "execution_count": 178
    }
   ],
   "metadata": {}
  },
  {
   "cell_type": "code",
   "execution_count": 187,
   "source": [
    "predict_labels = np.argmax(predict, axis=1) \r\n",
    "\r\n",
    "st, origin, pred =[],[],[]\r\n",
    "# 예시로 30개만 뽑아 데이터 직접 비교해보기\r\n",
    "for i in range(300): \r\n",
    "    st.append( pred_df['content'].iloc[i] ) ,\r\n",
    "    pred.append( predict_labels[i])\r\n",
    "\r\n",
    "# 2가 긍정 / 1이 중립 / 0이 부정임을 확인\r\n",
    "#0,1,2로 이루어진 pred -1, 0 ,1 로바꾸기\r\n",
    "pnr=[]\r\n",
    "for i in range(len(pred)):\r\n",
    "    if pred[i] == 0:\r\n",
    "        pnr.append(-1)\r\n",
    "    elif pred[i] ==1:\r\n",
    "        pnr.append(0)\r\n",
    "    else:\r\n",
    "        pnr.append(1)\r\n",
    "    \r\n",
    "# 데이터프레임 만들기\r\n",
    "ex_300 = pd.DataFrame({'문장' : st , '감성':pnr ,'분류:': pred })\r\n",
    "ex_300"
   ],
   "outputs": [
    {
     "output_type": "execute_result",
     "data": {
      "text/html": [
       "<div>\n",
       "<style scoped>\n",
       "    .dataframe tbody tr th:only-of-type {\n",
       "        vertical-align: middle;\n",
       "    }\n",
       "\n",
       "    .dataframe tbody tr th {\n",
       "        vertical-align: top;\n",
       "    }\n",
       "\n",
       "    .dataframe thead th {\n",
       "        text-align: right;\n",
       "    }\n",
       "</style>\n",
       "<table border=\"1\" class=\"dataframe\">\n",
       "  <thead>\n",
       "    <tr style=\"text-align: right;\">\n",
       "      <th></th>\n",
       "      <th>문장</th>\n",
       "      <th>감성</th>\n",
       "      <th>분류:</th>\n",
       "    </tr>\n",
       "  </thead>\n",
       "  <tbody>\n",
       "    <tr>\n",
       "      <th>0</th>\n",
       "      <td>#RICEBAKING#쌀구움과자→←장여진, 채미희 지음경향미디어메마른 쌀베이킹계의단...</td>\n",
       "      <td>-1</td>\n",
       "      <td>0</td>\n",
       "    </tr>\n",
       "    <tr>\n",
       "      <th>1</th>\n",
       "      <td>먹던게있어서 식탁밑에 보관만하다가 개봉햇더니만ᆢ쌀이 눈에 보이게 딱 구분되어있는거 ...</td>\n",
       "      <td>-1</td>\n",
       "      <td>0</td>\n",
       "    </tr>\n",
       "    <tr>\n",
       "      <th>2</th>\n",
       "      <td>어제 쌀이 똑 떨어져서 ...한인마트 가기는 너무 멀고 동네 수퍼 스토어...</td>\n",
       "      <td>-1</td>\n",
       "      <td>0</td>\n",
       "    </tr>\n",
       "    <tr>\n",
       "      <th>3</th>\n",
       "      <td>가와지쌀 쌕깔이 원래 이렇개누리끼리한가요?살짝 푸루딩긴힌것같기도하고.. 쌀냄새도 쫌...</td>\n",
       "      <td>-1</td>\n",
       "      <td>0</td>\n",
       "    </tr>\n",
       "    <tr>\n",
       "      <th>4</th>\n",
       "      <td>해원고 쌀꾸러미 한두달전에 받은듯해요얼마전 남은 쌀다먹고 5키로짜리 쌀 맛나게 잘먹...</td>\n",
       "      <td>-1</td>\n",
       "      <td>0</td>\n",
       "    </tr>\n",
       "    <tr>\n",
       "      <th>...</th>\n",
       "      <td>...</td>\n",
       "      <td>...</td>\n",
       "      <td>...</td>\n",
       "    </tr>\n",
       "    <tr>\n",
       "      <th>295</th>\n",
       "      <td>원래 현미쌀 먹는데 애기가 유아식하는데 현미쌀주면 자꾸 헛구역질해서 요새 쌀밥만했는...</td>\n",
       "      <td>1</td>\n",
       "      <td>2</td>\n",
       "    </tr>\n",
       "    <tr>\n",
       "      <th>296</th>\n",
       "      <td>럭키는 아토피가 좀 있어서밀가루 음식을 먹이면 안되서 조심하고 있어요그런데 다른 ...</td>\n",
       "      <td>1</td>\n",
       "      <td>2</td>\n",
       "    </tr>\n",
       "    <tr>\n",
       "      <th>297</th>\n",
       "      <td>학교에서온건데 쌀이미 친정에서줘서 많아서팔아요~~10키로이구요서리태500그람까지같이...</td>\n",
       "      <td>1</td>\n",
       "      <td>2</td>\n",
       "    </tr>\n",
       "    <tr>\n",
       "      <th>298</th>\n",
       "      <td>제가 이용하는 곳에서는 이제 품절이래요 ㅜ또 어디서 백진주쌀 주문해드세요? 전 찰진...</td>\n",
       "      <td>1</td>\n",
       "      <td>2</td>\n",
       "    </tr>\n",
       "    <tr>\n",
       "      <th>299</th>\n",
       "      <td>고딩아들 쌀왔네요.일요일인데도 배송왔네요. 수고가 많으시네요.어제 쌀사다가 쌀통에 ...</td>\n",
       "      <td>-1</td>\n",
       "      <td>0</td>\n",
       "    </tr>\n",
       "  </tbody>\n",
       "</table>\n",
       "<p>300 rows × 3 columns</p>\n",
       "</div>"
      ],
      "text/plain": [
       "                                                    문장  감성  분류:\n",
       "0    #RICEBAKING#쌀구움과자→←장여진, 채미희 지음경향미디어메마른 쌀베이킹계의단...  -1    0\n",
       "1    먹던게있어서 식탁밑에 보관만하다가 개봉햇더니만ᆢ쌀이 눈에 보이게 딱 구분되어있는거 ...  -1    0\n",
       "2          어제 쌀이 똑 떨어져서 ...한인마트 가기는 너무 멀고 동네 수퍼 스토어...  -1    0\n",
       "3    가와지쌀 쌕깔이 원래 이렇개누리끼리한가요?살짝 푸루딩긴힌것같기도하고.. 쌀냄새도 쫌...  -1    0\n",
       "4    해원고 쌀꾸러미 한두달전에 받은듯해요얼마전 남은 쌀다먹고 5키로짜리 쌀 맛나게 잘먹...  -1    0\n",
       "..                                                 ...  ..  ...\n",
       "295  원래 현미쌀 먹는데 애기가 유아식하는데 현미쌀주면 자꾸 헛구역질해서 요새 쌀밥만했는...   1    2\n",
       "296   럭키는 아토피가 좀 있어서밀가루 음식을 먹이면 안되서 조심하고 있어요그런데 다른 ...   1    2\n",
       "297  학교에서온건데 쌀이미 친정에서줘서 많아서팔아요~~10키로이구요서리태500그람까지같이...   1    2\n",
       "298  제가 이용하는 곳에서는 이제 품절이래요 ㅜ또 어디서 백진주쌀 주문해드세요? 전 찰진...   1    2\n",
       "299  고딩아들 쌀왔네요.일요일인데도 배송왔네요. 수고가 많으시네요.어제 쌀사다가 쌀통에 ...  -1    0\n",
       "\n",
       "[300 rows x 3 columns]"
      ]
     },
     "metadata": {},
     "execution_count": 187
    }
   ],
   "metadata": {}
  },
  {
   "cell_type": "code",
   "execution_count": 186,
   "source": [
    "ex_300.to_excel('pred_lstm_pnr.xlsx',encoding='utf-8')"
   ],
   "outputs": [],
   "metadata": {}
  },
  {
   "cell_type": "markdown",
   "source": [
    "# 0906 LSTM 모델을 이용한 감성분석 \r\n",
    ": 데이터 2015 / 2020 데이터 예측 비교"
   ],
   "metadata": {}
  },
  {
   "cell_type": "markdown",
   "source": [
    "## 모델1과 2 모두 실행 하여 pred_data 폴더에 모든 데이터 저장\r\n",
    "train/test: 현대쇼핑 + 쿠팡  80:20\r\n",
    "\r\n",
    "pred: 2015 blog / 2015 cafe  //2020 blog / 2020 cafe"
   ],
   "metadata": {}
  },
  {
   "cell_type": "code",
   "execution_count": null,
   "source": [
    "for num in range(4): #4번 반복 작업수행\r\n",
    "# 데이터 지정 \r\n",
    "  if num ==0: # 2020blog\r\n",
    "    pred_df = pd.read_excel('test_data/0902_2020_blog.xlsx') # header있음 # 전처리 완료된 데이터 문서단위임\r\n",
    "    pred_df0= pred_df\r\n",
    "  if num ==1: # 2020cafe\r\n",
    "    pred_df = pd.read_excel('test_data/2020cafe_clean.xlsx') # header있음 # 전처리 완료된 데이터 문서단위임\r\n",
    "    pred_df1= pred_df\r\n",
    "  if num ==2: # 2015blog\r\n",
    "    pred_df = pd.read_excel('test_data/0902_2015_blog.xlsx') # header있음 # 전처리 완료된 데이터 문서단위임\r\n",
    "    pred_df2= pred_df\r\n",
    "  if num ==3: # 2015 cafe\r\n",
    "    pred_df = pd.read_excel('test_data/0902_2015_cafe.xlsx') # header있음 # 전처리 완료된 데이터 문서단위임\r\n",
    "    pred_df3= pred_df\r\n",
    "\r\n",
    "#데이터 전처리\r\n",
    "  # contents str로 처리\r\n",
    "  q= \" \"\r\n",
    "  for i in range(len(pred_df)):\r\n",
    "      try:\r\n",
    "        q += pred_df['content'][i]  \r\n",
    "      except:\r\n",
    "        pass\r\n",
    "\r\n",
    "  # 문장어미 구분자 대치\r\n",
    "  q = q.replace('네요','네요||-||').replace('하죠','하죠||-||').replace('데요','데요||-||').replace('이네요','이네요||-||')\r\n",
    "  q = q.replace('네요.','네요||-||').replace('되죠','되죠||-||').replace('대요','대요||-||').replace('이요','이요||-||')\r\n",
    "  q = q.replace('돼요.','돼요||-||').replace('되요','되요||-||').replace('다닙니다','다닙니다||-||').replace('입니다','입니다||-||')\r\n",
    "  q = q.replace('입니다.','입니다||-||').replace('니다','니다||-||').replace('중입니다','중입니다||-||').replace('입니다','입니다||-||')\r\n",
    "  q = q.replace('나요.','나요||-||').replace('어요','어요||-||').replace('까요','까요||-||').replace('에요','에요||-||')\r\n",
    "  q = q.replace('이에요','이에요||-||').replace('봐요','봐요||-||').replace('아요.','아요||-||').replace('와요','와요||-||')\r\n",
    "  q = q.replace('해요','해요||-||').replace('려요','려요||-||').replace('구요','구요||-||').replace('고요','고요||-||')\r\n",
    "  q = q.replace('죠','죠||-||').replace(':)','').replace('더라','더라||-||').replace('게요','게요||-||').replace('께요','께요||-||').replace('세요','세요||-||').replace('든요','든요||-||').replace('예요','예요||-||').replace('서요','서요||-||')\r\n",
    "  q = q.replace('않았다','않았다||-||').replace('었다','었다||-||').replace('있다','있다||-||').replace('이다','이다||-||').replace('싶다','싶다||-||').replace('않다','않다||-||').replace('되었다','되었다||-||').replace('아니다','아니다||-||')\r\n",
    "  q = q.replace('하자','하자||-||').replace('는다','는다||-||').replace('했다','했다||-||').replace('한다','한다||-||').replace('혔다','혔다||-||').replace('난다','난다||-||').replace('같아요','같아요||-||').replace('되었어','되었어||-||').replace('했어','했어||-||').replace('했지','했지||-||').replace('었어','었어||-||')\r\n",
    "\r\n",
    "  #특수문자 제거\r\n",
    "  q = q.replace('.','').replace('?','').replace('~','').replace('!','').replace('^','').replace('#','').replace('★','').replace('ㅋ','').replace('ㅜ','').replace('ㅠ','').replace('ㅎ','').replace('ㅏ','').replace('ㅡ','')\r\n",
    "\r\n",
    "  # 구분자로 문장 분리\r\n",
    "  p = q.split('||-||')\r\n",
    "  print ( '분리된 문장 수 : ',len(p), '// 이전 총 문자수 : ',len(q) ) \r\n",
    "\r\n",
    "  # 각 문장을 데이터 프레임으로 저장\r\n",
    "  sentence_Data = pd.DataFrame({'content': p})\r\n",
    "  print ( len(sentence_Data) ) \r\n",
    "  sentence_Data # pred할 셋 문장단위 설정 완\r\n",
    "\r\n",
    "# 2번 이상 중복인 데이터 확인\r\n",
    "  sentence = sentence_Data['content'].value_counts()\r\n",
    "  idx_sentence=sentence[sentence >= 2].index.tolist()\r\n",
    "  len(idx_sentence), idx_sentence\r\n",
    "\r\n",
    "# 중복제거\r\n",
    "  data2 = sentence_Data\r\n",
    "  for i in idx_sentence:\r\n",
    "      data2 = data2[sentence_Data['content'] != i] # 중복 완료해서 저장\r\n",
    "  # 데이터 사이즈 확인\r\n",
    "  print ('중복제거 전 데이터: ', len(sentence_Data), '중복제거완료 데이터: ', len(data2) ) #중복제거 전 데이터, 중복제거완료 데이터   \r\n",
    "\r\n",
    "# null 제거\r\n",
    "  data_content = data2[['content']].dropna(axis=0) # null 제거\r\n",
    "  data_content.reset_index(drop=True, inplace=True) # 인덱스 재정렬\r\n",
    "  data_content\r\n",
    "\r\n",
    "#pred의 data_content 저장\r\n",
    "  data_content.to_excel(f'test_data/st_pred/pred_naver_sentence{num}.xlsx',encoding='utf-8')\r\n",
    "\r\n",
    "  # pred 토큰화 벡터화\r\n",
    "  X_pred = [] \r\n",
    "  for sentence in data_content['content'] :\r\n",
    "      temp_X = [] \r\n",
    "      temp_X = okt.morphs(sentence, stem=True) # 토큰화 \r\n",
    "      temp_X = [word for word in temp_X if not word in stopwords] # 불용어 제거 \r\n",
    "      X_pred.append(temp_X) \r\n",
    "\r\n",
    "#벡터, 토큰화   \r\n",
    "  # 정수 인코딩\r\n",
    "  tokenizer.fit_on_texts(X_pred ) \r\n",
    "  X_pred  = tokenizer.texts_to_sequences(X_pred ) \r\n",
    "\r\n",
    "  # 데이터 길이 맞추기 : padding  씌움\r\n",
    "  X_pred = pad_sequences(X_pred, maxlen=max_len)\r\n",
    "\r\n",
    "##model1으로 해보기\r\n",
    "  # pred로 감성분석 예측\r\n",
    "  predict = model.predict( X_pred )\r\n",
    "  predict_labels = np.argmax(predict, axis=1) \r\n",
    "\r\n",
    "  ## 데이터 확인 \r\n",
    "  st, origin, pred =[],[],[]\r\n",
    "  # 데이터 직접 비교해보기\r\n",
    "  for i in range( len(data_content) ): \r\n",
    "      st.append( data_content['content'].iloc[i] ) ,\r\n",
    "      pred.append( predict_labels[i])\r\n",
    "\r\n",
    "  # 2가 긍정 / 1이 중립 / 0이 부정임을 확인\r\n",
    "  #0,1,2로 이루어진 pred -1, 0 ,1 로바꾸기\r\n",
    "  pnr=[]\r\n",
    "  for i in range(len(pred)):\r\n",
    "      if pred[i] == 0:\r\n",
    "          pnr.append(-1)\r\n",
    "      elif pred[i] ==1:\r\n",
    "          pnr.append(0)\r\n",
    "      else:\r\n",
    "          pnr.append(1)\r\n",
    "      \r\n",
    "  # 데이터프레임 만들기\r\n",
    "  total_ex = pd.DataFrame({'문장' : st , '감성':pnr ,'분류:': pred })\r\n",
    "  total_ex\r\n",
    "\r\n",
    "  #엑셀로 저장\r\n",
    "  total_ex.to_excel(f'pred_data/pred_lstm_pnr_md1_{num}.xlsx',encoding='utf-8')\r\n",
    "\r\n",
    "## model2로도 해보기!\r\n",
    "  # pred로 감성분석 예측\r\n",
    "  predict2 = model.predict( X_pred )\r\n",
    "  predict_labels2 = np.argmax(predict2, axis=1) \r\n",
    "\r\n",
    "  ## 전체 데이터 확인 \r\n",
    "  st, origin, pred =[],[],[]\r\n",
    "  # 데이터 직접 비교해보기\r\n",
    "  for i in range( len(data_content) ): \r\n",
    "      st.append( data_content['content'].iloc[i] ) ,\r\n",
    "      pred.append( predict_labels2[i])\r\n",
    "\r\n",
    "  # 2가 긍정 / 1이 중립 / 0이 부정임을 확인\r\n",
    "  #0,1,2로 이루어진 pred -1, 0 ,1 로바꾸기\r\n",
    "  pnr=[]\r\n",
    "  for i in range(len(pred)):\r\n",
    "      if pred[i] == 0:\r\n",
    "          pnr.append(-1)\r\n",
    "      elif pred[i] ==1:\r\n",
    "          pnr.append(0)\r\n",
    "      else:\r\n",
    "          pnr.append(1)\r\n",
    "      \r\n",
    "  # 데이터프레임 만들기\r\n",
    "  total_ex = pd.DataFrame({'문장' : st , '감성':pnr ,'분류:': pred })\r\n",
    "  total_ex\r\n",
    "\r\n",
    "  #엑셀로 저장\r\n",
    "  total_ex.to_excel(f'pred_data/pred_lstm_md2_pnr_{num}.xlsx',encoding='utf-8')"
   ],
   "outputs": [],
   "metadata": {}
  },
  {
   "cell_type": "markdown",
   "source": [
    "# 0906 머신러닝 test 셋 교체해서 모델 정확도 평가 다시 진행해보기"
   ],
   "metadata": {}
  },
  {
   "cell_type": "markdown",
   "source": [
    "train data : 현대쇼핑 + 쿠팡\r\n",
    "\r\n",
    "test : 우리가 다수결로 판단한 긍부정 300문장\r\n",
    "\r\n",
    "pred: 2020 cafe"
   ],
   "metadata": {}
  },
  {
   "cell_type": "code",
   "execution_count": 206,
   "source": [
    "# 데이터 불러오기\r\n",
    "retest_data = pd.read_excel('test_data/retest300st.xlsx')\r\n",
    "retest_data"
   ],
   "outputs": [
    {
     "output_type": "execute_result",
     "data": {
      "text/html": [
       "<div>\n",
       "<style scoped>\n",
       "    .dataframe tbody tr th:only-of-type {\n",
       "        vertical-align: middle;\n",
       "    }\n",
       "\n",
       "    .dataframe tbody tr th {\n",
       "        vertical-align: top;\n",
       "    }\n",
       "\n",
       "    .dataframe thead th {\n",
       "        text-align: right;\n",
       "    }\n",
       "</style>\n",
       "<table border=\"1\" class=\"dataframe\">\n",
       "  <thead>\n",
       "    <tr style=\"text-align: right;\">\n",
       "      <th></th>\n",
       "      <th>content</th>\n",
       "      <th>date</th>\n",
       "      <th>test</th>\n",
       "    </tr>\n",
       "  </thead>\n",
       "  <tbody>\n",
       "    <tr>\n",
       "      <th>0</th>\n",
       "      <td>혹시 어떻게 입력하셨는지 알려주세요</td>\n",
       "      <td>2020.06.16</td>\n",
       "      <td>중립</td>\n",
       "    </tr>\n",
       "    <tr>\n",
       "      <th>1</th>\n",
       "      <td>냄새도 구수 찰기도 굿 밥맛도 좋네요</td>\n",
       "      <td>2020.12.26.</td>\n",
       "      <td>긍정</td>\n",
       "    </tr>\n",
       "    <tr>\n",
       "      <th>2</th>\n",
       "      <td>미리 주문을해두자해서 트레이더스에 주문을 했는데 배송이 금요일로 되더라</td>\n",
       "      <td>2020.02.26</td>\n",
       "      <td>중립</td>\n",
       "    </tr>\n",
       "    <tr>\n",
       "      <th>3</th>\n",
       "      <td>20 다 버리려면 아깝기도 하고 어디 모이라도 기부할데 없나요 벌레가 많아서 모이로...</td>\n",
       "      <td>2020.09.18.</td>\n",
       "      <td>부정</td>\n",
       "    </tr>\n",
       "    <tr>\n",
       "      <th>4</th>\n",
       "      <td>눈금이 800 부터인걸보니 아무리 적게만들어도 800 인가봐요</td>\n",
       "      <td>2020.10.03.</td>\n",
       "      <td>중립</td>\n",
       "    </tr>\n",
       "    <tr>\n",
       "      <th>...</th>\n",
       "      <td>...</td>\n",
       "      <td>...</td>\n",
       "      <td>...</td>\n",
       "    </tr>\n",
       "    <tr>\n",
       "      <th>295</th>\n",
       "      <td>껍질이 얇고 촉촉보들보들한 쌀식빵 만들었어요</td>\n",
       "      <td>2020.11.23.</td>\n",
       "      <td>긍정</td>\n",
       "    </tr>\n",
       "    <tr>\n",
       "      <th>296</th>\n",
       "      <td>여유가있어 하나만 내놓아요8 만원이요</td>\n",
       "      <td>2020.07.30</td>\n",
       "      <td>중립</td>\n",
       "    </tr>\n",
       "    <tr>\n",
       "      <th>297</th>\n",
       "      <td>생선에도 전날 미리 소금 밑간을 해 놓으니 비린내도 잡아주고 감칠맛이 좋아졌어요</td>\n",
       "      <td>2020.09.22.</td>\n",
       "      <td>긍정</td>\n",
       "    </tr>\n",
       "    <tr>\n",
       "      <th>298</th>\n",
       "      <td>낼 아침밥 예약해두려구요</td>\n",
       "      <td>2020.03.22</td>\n",
       "      <td>중립</td>\n",
       "    </tr>\n",
       "    <tr>\n",
       "      <th>299</th>\n",
       "      <td>어제 저녁 대신 먹고 간식으로 먹고 하다보니 혼자 거의 다 먹었어요</td>\n",
       "      <td>2020.09.23.</td>\n",
       "      <td>중립</td>\n",
       "    </tr>\n",
       "  </tbody>\n",
       "</table>\n",
       "<p>300 rows × 3 columns</p>\n",
       "</div>"
      ],
      "text/plain": [
       "                                               content         date test\n",
       "0                                  혹시 어떻게 입력하셨는지 알려주세요   2020.06.16   중립\n",
       "1                                 냄새도 구수 찰기도 굿 밥맛도 좋네요  2020.12.26.   긍정\n",
       "2              미리 주문을해두자해서 트레이더스에 주문을 했는데 배송이 금요일로 되더라   2020.02.26   중립\n",
       "3    20 다 버리려면 아깝기도 하고 어디 모이라도 기부할데 없나요 벌레가 많아서 모이로...  2020.09.18.   부정\n",
       "4                   눈금이 800 부터인걸보니 아무리 적게만들어도 800 인가봐요  2020.10.03.   중립\n",
       "..                                                 ...          ...  ...\n",
       "295                           껍질이 얇고 촉촉보들보들한 쌀식빵 만들었어요  2020.11.23.   긍정\n",
       "296                               여유가있어 하나만 내놓아요8 만원이요   2020.07.30   중립\n",
       "297       생선에도 전날 미리 소금 밑간을 해 놓으니 비린내도 잡아주고 감칠맛이 좋아졌어요  2020.09.22.   긍정\n",
       "298                                      낼 아침밥 예약해두려구요   2020.03.22   중립\n",
       "299              어제 저녁 대신 먹고 간식으로 먹고 하다보니 혼자 거의 다 먹었어요  2020.09.23.   중립\n",
       "\n",
       "[300 rows x 3 columns]"
      ]
     },
     "metadata": {},
     "execution_count": 206
    }
   ],
   "metadata": {}
  },
  {
   "cell_type": "code",
   "execution_count": 214,
   "source": [
    "# retest_data의 test 칼럼을 긍정 1, 중립0 부정 -1로 교체\r\n",
    "y_score=[]\r\n",
    "for i in range(len(retest_data)):\r\n",
    "    if retest_data['test'][i] == '부정':\r\n",
    "        y_score.append(-1)\r\n",
    "    elif retest_data['test'][i] == '중립':\r\n",
    "        y_score.append(0)\r\n",
    "    else:\r\n",
    "        y_score.append(1)"
   ],
   "outputs": [],
   "metadata": {}
  },
  {
   "cell_type": "code",
   "execution_count": 281,
   "source": [
    "# test_x와 test_y 교체\r\n",
    "\r\n",
    "test_x = retest_data['content']\r\n",
    "test_y = y_score\r\n",
    "\r\n",
    "print(len(train_x), len(train_y), len(test_x), len(test_y))\r\n",
    "print(type(train_x), type(train_y), type(test_x), type(test_y))"
   ],
   "outputs": [
    {
     "output_type": "stream",
     "name": "stdout",
     "text": [
      "298049 298049 300 300\n",
      "<class 'pandas.core.series.Series'> <class 'pandas.core.series.Series'> <class 'pandas.core.series.Series'> <class 'list'>\n"
     ]
    }
   ],
   "metadata": {}
  },
  {
   "cell_type": "markdown",
   "source": [
    "### - 데이터 정제"
   ],
   "metadata": {}
  },
  {
   "cell_type": "code",
   "execution_count": 284,
   "source": [
    "test_x = retest_data['content'].astype(str)\r\n",
    "test_x"
   ],
   "outputs": [
    {
     "output_type": "execute_result",
     "data": {
      "text/plain": [
       "0                                    혹시 어떻게 입력하셨는지 알려주세요\n",
       "1                                   냄새도 구수 찰기도 굿 밥맛도 좋네요\n",
       "2                미리 주문을해두자해서 트레이더스에 주문을 했는데 배송이 금요일로 되더라\n",
       "3      20 다 버리려면 아깝기도 하고 어디 모이라도 기부할데 없나요 벌레가 많아서 모이로...\n",
       "4                     눈금이 800 부터인걸보니 아무리 적게만들어도 800 인가봐요\n",
       "                             ...                        \n",
       "295                             껍질이 얇고 촉촉보들보들한 쌀식빵 만들었어요\n",
       "296                                 여유가있어 하나만 내놓아요8 만원이요\n",
       "297         생선에도 전날 미리 소금 밑간을 해 놓으니 비린내도 잡아주고 감칠맛이 좋아졌어요\n",
       "298                                        낼 아침밥 예약해두려구요\n",
       "299                어제 저녁 대신 먹고 간식으로 먹고 하다보니 혼자 거의 다 먹었어요\n",
       "Name: content, Length: 300, dtype: object"
      ]
     },
     "metadata": {},
     "execution_count": 284
    }
   ],
   "metadata": {}
  },
  {
   "cell_type": "code",
   "execution_count": 285,
   "source": [
    "# X_test 정제\r\n",
    "\r\n",
    "#01. 형태소 분리 / stopwords 정제\r\n",
    "X_test = [] \r\n",
    "for sentence in test_x:\r\n",
    "    temp_X = [] \r\n",
    "    temp_X = okt.morphs(sentence, stem=True) # 토큰화 \r\n",
    "    temp_X = [word for word in temp_X if not word in stopwords] # 불용어 제거 \r\n",
    "    X_test.append(temp_X)\r\n",
    "\r\n",
    "#02. 정수 인코딩\r\n",
    "X_test = tokenizer.texts_to_sequences(X_test)\r\n",
    "\r\n",
    "##03. 패딩\r\n",
    "X_test = pad_sequences(X_test, maxlen=max_len)"
   ],
   "outputs": [],
   "metadata": {}
  },
  {
   "cell_type": "code",
   "execution_count": 292,
   "source": [
    "# y_test 정제\r\n",
    "# one- hot  encoding\r\n",
    "import numpy as np \r\n",
    "y_test = [] \r\n",
    "\r\n",
    "for i in range(len(test_y)): \r\n",
    "    if test_y[i] == 1: \r\n",
    "        y_test.append([0, 0, 1]) \r\n",
    "    elif test_y[i] == 0: \r\n",
    "        y_test.append([0, 1, 0]) \r\n",
    "    elif test_y[i] == -1: \r\n",
    "        y_test.append([1, 0, 0]) \r\n",
    "        \r\n",
    "y_test = np.array(y_test)"
   ],
   "outputs": [],
   "metadata": {}
  },
  {
   "cell_type": "code",
   "execution_count": 299,
   "source": [
    "X_test[0:100]"
   ],
   "outputs": [
    {
     "output_type": "execute_result",
     "data": {
      "text/plain": [
       "array([[0, 0, 0, ..., 0, 0, 0],\n",
       "       [0, 0, 0, ..., 0, 0, 0],\n",
       "       [0, 0, 0, ..., 0, 0, 0],\n",
       "       ...,\n",
       "       [0, 0, 0, ..., 0, 0, 0],\n",
       "       [0, 0, 0, ..., 0, 0, 0],\n",
       "       [0, 0, 0, ..., 0, 0, 0]])"
      ]
     },
     "metadata": {},
     "execution_count": 299
    }
   ],
   "metadata": {}
  },
  {
   "cell_type": "code",
   "execution_count": 295,
   "source": [
    "len(X_test), len(y_test)"
   ],
   "outputs": [
    {
     "output_type": "execute_result",
     "data": {
      "text/plain": [
       "(300, 300)"
      ]
     },
     "metadata": {},
     "execution_count": 295
    }
   ],
   "metadata": {}
  },
  {
   "cell_type": "code",
   "execution_count": 314,
   "source": [
    "# model1\r\n",
    "print('model1 정확도 : {:.2f}%'.format(model.evaluate(X_test[0:100], y_test[0:100])[1]*100 ))\r\n",
    "print('model1 정확도 : {:.2f}%'.format(model.evaluate(X_test[100:200], y_test[100:200])[1]*100 ))\r\n",
    "print('model1 정확도 : {:.2f}%'.format(model.evaluate(X_test[200:300], y_test[200:300])[1]*100 ))\r\n",
    "\r\n",
    "mean_md1= ( model.evaluate(X_test[0:100], y_test[0:100])[1]*100  + model.evaluate(X_test[100:200], y_test[100:200])[1]*100 + model.evaluate(X_test[200:300], y_test[200:300])[1]*100  ) /3\r\n",
    "print('model1의 정확도 평균 :',round(mean_md1,2),'%' )\r\n",
    "\r\n",
    "# model2\r\n",
    "print('model2 정확도 : {:.2f}%'.format(model2.evaluate(X_test[0:100], y_test[0:100])[1]*100 ))\r\n",
    "print('model2 정확도 : {:.2f}%'.format(model2.evaluate(X_test[100:200], y_test[100:200])[1]*100 ))\r\n",
    "print('model2 정확도 : {:.2f}%'.format(model2.evaluate(X_test[200:300], y_test[200:300])[1]*100 ))\r\n",
    "\r\n",
    "mean_md2= ( model2.evaluate(X_test[0:100], y_test[0:100])[1]*100  + model2.evaluate(X_test[100:200], y_test[100:200])[1]*100 + model2.evaluate(X_test[200:300], y_test[200:300])[1]*100  ) /3\r\n",
    "print('model2의 정확도 평균 :',round(mean_md2,2),'%' )"
   ],
   "outputs": [
    {
     "output_type": "stream",
     "name": "stdout",
     "text": [
      "4/4 [==============================] - 0s 6ms/step - loss: 2.3229 - accuracy: 0.1400\n",
      "model1 정확도 : 14.00%\n",
      "4/4 [==============================] - 0s 7ms/step - loss: 2.3238 - accuracy: 0.2100\n",
      "model1 정확도 : 21.00%\n",
      "4/4 [==============================] - 0s 6ms/step - loss: 2.3407 - accuracy: 0.1500\n",
      "model1 정확도 : 15.00%\n",
      "4/4 [==============================] - 0s 5ms/step - loss: 2.3229 - accuracy: 0.1400\n",
      "4/4 [==============================] - 0s 6ms/step - loss: 2.3238 - accuracy: 0.2100\n",
      "4/4 [==============================] - 0s 6ms/step - loss: 2.3407 - accuracy: 0.1500\n",
      "model1의 정확도 평균 : 16.67 %\n",
      "4/4 [==============================] - 0s 7ms/step - loss: 4.2028 - accuracy: 0.1400\n",
      "model2 정확도 : 14.00%\n",
      "4/4 [==============================] - 0s 6ms/step - loss: 4.2134 - accuracy: 0.2100\n",
      "model2 정확도 : 21.00%\n",
      "4/4 [==============================] - 0s 6ms/step - loss: 4.2440 - accuracy: 0.1500\n",
      "model2 정확도 : 15.00%\n",
      "4/4 [==============================] - 0s 6ms/step - loss: 4.2028 - accuracy: 0.1400\n",
      "4/4 [==============================] - 0s 7ms/step - loss: 4.2134 - accuracy: 0.2100\n",
      "4/4 [==============================] - 0s 8ms/step - loss: 4.2440 - accuracy: 0.1500\n",
      "model2의 정확도 평균 : 16.67 %\n"
     ]
    }
   ],
   "metadata": {}
  },
  {
   "cell_type": "markdown",
   "source": [
    "train/test를 분리해서 사용했을 떈 모델 평가 점수가 높게 나왔는데(약 85%), 실제 pred 데이터로 보았을 때에는 정확도가 높지 않아보였다.\r\n",
    "\r\n",
    "따라서 test셋을 분리하지 말고 직접 평가한 300문장을 기준으로 평가한 데이터를 사용해보니, 정확도가 매우 떨어지는 것(약 16%)을 확인하였다.\r\n",
    "\r\n",
    "train 데이터에 중립이 매우 적은 문제가 존재하여 해당 문제가 일어난 것으로 확인하였고, coupang 데이터만을 학습데이터로 사용하여 재학습한다."
   ],
   "metadata": {}
  }
 ],
 "metadata": {
  "orig_nbformat": 4,
  "language_info": {
   "name": "python",
   "version": "3.8.5",
   "mimetype": "text/x-python",
   "codemirror_mode": {
    "name": "ipython",
    "version": 3
   },
   "pygments_lexer": "ipython3",
   "nbconvert_exporter": "python",
   "file_extension": ".py"
  },
  "kernelspec": {
   "name": "python3",
   "display_name": "Python 3.8.5 64-bit ('base': conda)"
  },
  "interpreter": {
   "hash": "8c1eae21719a0790335dcb83aad72b63b602cfe5cdb2bda0f60bc11d4f154e4b"
  }
 },
 "nbformat": 4,
 "nbformat_minor": 2
}