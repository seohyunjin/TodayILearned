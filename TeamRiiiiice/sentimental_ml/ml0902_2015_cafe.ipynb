{
 "cells": [
  {
   "cell_type": "markdown",
   "source": [
    "# 머신러닝 비교 \r\n",
    "- 학습: 현대쇼핑 / 쿠팡 쌀 리뷰 ( 긍정 +1 / 부정 0)\r\n",
    "\r\n",
    "- 예측: sns데이터 ( 2015 카페 )"
   ],
   "metadata": {}
  },
  {
   "cell_type": "code",
   "execution_count": 1,
   "source": [
    "# 패키지 설치\r\n",
    "import pandas as pd\r\n",
    "#warning 메시지 표시 안함\r\n",
    "import warnings\r\n",
    "warnings.filterwarnings(action = 'ignore')\r\n",
    "from konlpy.tag import Okt \r\n",
    "okt = Okt()"
   ],
   "outputs": [],
   "metadata": {}
  },
  {
   "cell_type": "markdown",
   "source": [
    "## 01. 데이터 불러오기"
   ],
   "metadata": {}
  },
  {
   "cell_type": "markdown",
   "source": [
    "### - 일반 현대 쇼핑 train set"
   ],
   "metadata": {}
  },
  {
   "cell_type": "code",
   "execution_count": 2,
   "source": [
    "# Train 데이터 불러오기\r\n",
    "train_df = pd.read_excel('train_data/naver_steam_hyundai_shop.xlsx',header=None)"
   ],
   "outputs": [],
   "metadata": {}
  },
  {
   "cell_type": "code",
   "execution_count": 3,
   "source": [
    "train_df[0:3] # 데이터 확인"
   ],
   "outputs": [
    {
     "output_type": "execute_result",
     "data": {
      "text/plain": [
       "                                                   0  1\n",
       "0   +@음침한 분위기+@기괴한 크리쳐들-@눈만 아픈 그래픽-@왜 넣었는지 모를 레터박...  0\n",
       "1   +@음침한 분위기+@기괴한 크리쳐들-@눈만 아픈 그래픽-@왜 넣었는지 모를 레터박...  0\n",
       "2   +@음침한 분위기+@기괴한 크리쳐들-@눈만 아픈 그래픽-@왜 넣었는지 모를 레터박...  1"
      ],
      "text/html": [
       "<div>\n",
       "<style scoped>\n",
       "    .dataframe tbody tr th:only-of-type {\n",
       "        vertical-align: middle;\n",
       "    }\n",
       "\n",
       "    .dataframe tbody tr th {\n",
       "        vertical-align: top;\n",
       "    }\n",
       "\n",
       "    .dataframe thead th {\n",
       "        text-align: right;\n",
       "    }\n",
       "</style>\n",
       "<table border=\"1\" class=\"dataframe\">\n",
       "  <thead>\n",
       "    <tr style=\"text-align: right;\">\n",
       "      <th></th>\n",
       "      <th>0</th>\n",
       "      <th>1</th>\n",
       "    </tr>\n",
       "  </thead>\n",
       "  <tbody>\n",
       "    <tr>\n",
       "      <th>0</th>\n",
       "      <td>+@음침한 분위기+@기괴한 크리쳐들-@눈만 아픈 그래픽-@왜 넣었는지 모를 레터박...</td>\n",
       "      <td>0</td>\n",
       "    </tr>\n",
       "    <tr>\n",
       "      <th>1</th>\n",
       "      <td>+@음침한 분위기+@기괴한 크리쳐들-@눈만 아픈 그래픽-@왜 넣었는지 모를 레터박...</td>\n",
       "      <td>0</td>\n",
       "    </tr>\n",
       "    <tr>\n",
       "      <th>2</th>\n",
       "      <td>+@음침한 분위기+@기괴한 크리쳐들-@눈만 아픈 그래픽-@왜 넣었는지 모를 레터박...</td>\n",
       "      <td>1</td>\n",
       "    </tr>\n",
       "  </tbody>\n",
       "</table>\n",
       "</div>"
      ]
     },
     "metadata": {},
     "execution_count": 3
    }
   ],
   "metadata": {}
  },
  {
   "cell_type": "markdown",
   "source": [
    "### - 쿠팡 쌀 관련 train set"
   ],
   "metadata": {}
  },
  {
   "cell_type": "code",
   "execution_count": 4,
   "source": [
    "train_df_2 = pd.read_excel('train_data/coupang_train.xlsx') # 데이터 불러오기\r\n",
    "train_df_2[0:3] # 확인"
   ],
   "outputs": [
    {
     "output_type": "execute_result",
     "data": {
      "text/plain": [
       "    제품                                                 내용  긍부정  원별점\n",
       "0  메뚜기  2021년 2월 15일 최근 도정입니다.\\n2월 26일 배송 받았고 처음 밥해 먹었...    0    1\n",
       "1  메뚜기  쌀 반정도 부었는데\\n돌맹이 나왔어요 ㅡㅡ::\\n손톱으로 누르니 돌이네요..\\n왜 ...    0    1\n",
       "2  메뚜기  아 정말 사본쌀중에 제일 별로였어요\\n저는 31280원 주고 구매했는데 싸지도않도 ...    0    1"
      ],
      "text/html": [
       "<div>\n",
       "<style scoped>\n",
       "    .dataframe tbody tr th:only-of-type {\n",
       "        vertical-align: middle;\n",
       "    }\n",
       "\n",
       "    .dataframe tbody tr th {\n",
       "        vertical-align: top;\n",
       "    }\n",
       "\n",
       "    .dataframe thead th {\n",
       "        text-align: right;\n",
       "    }\n",
       "</style>\n",
       "<table border=\"1\" class=\"dataframe\">\n",
       "  <thead>\n",
       "    <tr style=\"text-align: right;\">\n",
       "      <th></th>\n",
       "      <th>제품</th>\n",
       "      <th>내용</th>\n",
       "      <th>긍부정</th>\n",
       "      <th>원별점</th>\n",
       "    </tr>\n",
       "  </thead>\n",
       "  <tbody>\n",
       "    <tr>\n",
       "      <th>0</th>\n",
       "      <td>메뚜기</td>\n",
       "      <td>2021년 2월 15일 최근 도정입니다.\\n2월 26일 배송 받았고 처음 밥해 먹었...</td>\n",
       "      <td>0</td>\n",
       "      <td>1</td>\n",
       "    </tr>\n",
       "    <tr>\n",
       "      <th>1</th>\n",
       "      <td>메뚜기</td>\n",
       "      <td>쌀 반정도 부었는데\\n돌맹이 나왔어요 ㅡㅡ::\\n손톱으로 누르니 돌이네요..\\n왜 ...</td>\n",
       "      <td>0</td>\n",
       "      <td>1</td>\n",
       "    </tr>\n",
       "    <tr>\n",
       "      <th>2</th>\n",
       "      <td>메뚜기</td>\n",
       "      <td>아 정말 사본쌀중에 제일 별로였어요\\n저는 31280원 주고 구매했는데 싸지도않도 ...</td>\n",
       "      <td>0</td>\n",
       "      <td>1</td>\n",
       "    </tr>\n",
       "  </tbody>\n",
       "</table>\n",
       "</div>"
      ]
     },
     "metadata": {},
     "execution_count": 4
    }
   ],
   "metadata": {}
  },
  {
   "cell_type": "markdown",
   "source": [
    "### - test set "
   ],
   "metadata": {}
  },
  {
   "cell_type": "code",
   "execution_count": 7,
   "source": [
    "# Test 데이터 불러오기\r\n",
    "pred_df = pd.read_excel('test_data/0902_2015_cafe.xlsx') # header있음 # 전처리 완료된 데이터 문서단위임"
   ],
   "outputs": [],
   "metadata": {}
  },
  {
   "cell_type": "code",
   "execution_count": 9,
   "source": [
    "# 데이터 확인\r\n",
    "pred_df['content']"
   ],
   "outputs": [
    {
     "output_type": "execute_result",
     "data": {
      "text/plain": [
       "0       세종시로 올해 1월 10일 이사했습니다||-|| 어제 쌀이 똑 떨어졌는데 마침 까페...\n",
       "1       저희 큰아버지께서 쌀도매를 하세요||-||  빨간쌀 이예요||-|| 저도 작녁부터 ...\n",
       "2                                     제가 변비가 심해서 현미쌀100 를\n",
       "3       그동안 계속 공구후기며 공구게시판에서 보던 쌀찐빵을 구입했어요||-|| 아기간식도 ...\n",
       "4       심심한 일요일 오후 당근쌀머핀 만들어 보았어요||-|| 당근이랑 우유는 휘리릭 갈아...\n",
       "                              ...                        \n",
       "9581    요리전용맛술 마트가면 보기는 했는데 저게 꼭 필요할까 하는 생각에 구매를 망설였는데...\n",
       "9582                           가능한가요     믹서기 청소가 귀찮아서    \n",
       "9583    담주부터 초기이유식 시작인데 아직 애가 못앉잖아요  다들 그냥 분유주듯 안아서 먹이...\n",
       "9584                 어뭉들어디서 사드시나요  아이간식사먹이는 사이트추천좀해주셔요   \n",
       "9585    간혹 동물 사료용으로 쓰신다고 무료나눔하신던데   벌레가 막 나오거나 하지는 않는데...\n",
       "Name: content, Length: 9586, dtype: object"
      ]
     },
     "metadata": {},
     "execution_count": 9
    }
   ],
   "metadata": {}
  },
  {
   "cell_type": "markdown",
   "source": [
    "## 02. 데이터 전처리_결측값 처리"
   ],
   "metadata": {}
  },
  {
   "cell_type": "markdown",
   "source": [
    "## - TRAIN SET 전처리"
   ],
   "metadata": {}
  },
  {
   "cell_type": "markdown",
   "source": [
    " - 쇼핑 학습데이터"
   ],
   "metadata": {}
  },
  {
   "cell_type": "code",
   "execution_count": 10,
   "source": [
    "# 댓글이 있는 항목만 담기(빈 댓글 삭제)\r\n",
    "# text 컬럼이 non-null인 샘플만 train_df에 다시 저장\r\n",
    "train_df = train_df[train_df[0].notnull()]\r\n",
    "\r\n",
    "# 수정된 train_df의 정보를 다시 확인\r\n",
    "print(train_df.info())\r\n",
    "\r\n",
    "# 분류 클래스의 구성을 확인\r\n",
    "print(train_df[1].value_counts())"
   ],
   "outputs": [
    {
     "output_type": "stream",
     "name": "stdout",
     "text": [
      "<class 'pandas.core.frame.DataFrame'>\n",
      "Int64Index: 356832 entries, 0 to 356831\n",
      "Data columns (total 2 columns):\n",
      " #   Column  Non-Null Count   Dtype \n",
      "---  ------  --------------   ----- \n",
      " 0   0       356832 non-null  object\n",
      " 1   1       356832 non-null  int64 \n",
      "dtypes: int64(1), object(1)\n",
      "memory usage: 8.2+ MB\n",
      "None\n",
      "1    179180\n",
      "0    177652\n",
      "Name: 1, dtype: int64\n"
     ]
    }
   ],
   "metadata": {}
  },
  {
   "cell_type": "markdown",
   "source": [
    " - 쿠팡 학습데이터"
   ],
   "metadata": {}
  },
  {
   "cell_type": "code",
   "execution_count": 11,
   "source": [
    "train_df_2 ['내용'] # train_x에 추가"
   ],
   "outputs": [
    {
     "output_type": "execute_result",
     "data": {
      "text/plain": [
       "0       2021년 2월 15일 최근 도정입니다.\\n2월 26일 배송 받았고 처음 밥해 먹었...\n",
       "1       쌀 반정도 부었는데\\n돌맹이 나왔어요 ㅡㅡ::\\n손톱으로 누르니 돌이네요..\\n왜 ...\n",
       "2       아 정말 사본쌀중에 제일 별로였어요\\n저는 31280원 주고 구매했는데 싸지도않도 ...\n",
       "3       아주 그냥 밥 할때마다 열받아서...\\n오늘도 저녁밥 짓기전에 쌀을보니... 아무래...\n",
       "4       최악이요!!자주 시켜먹었는데 2020년 쌀이 새로와서 시켰는데 정말 맛도 없어요!!...\n",
       "                              ...                        \n",
       "6780                      매번 재구매하고 있어요\\n찰지게 밥도 잘 되고 맛있습니다\n",
       "6781    곰곰에서 쌀도 나오다니 ㅎㅎㅎ 10킬로짜리 살 일이 없었는데 최근에 집에 있는 시간...\n",
       "6782                20kg 없어서 아쉬워요!!!\\n쌀 좋아요!! 곰곰쌀만 먹고있어요!\n",
       "6783    요즘 쌀 20 키로 에 비싼 것은 육만 원 가량 하고 저렴한 것은 사만원대 정도하는...\n",
       "6784    매일 그날 도정한 쌀 사다가 먹었는데..이번에 구매하려니 품절이라 곰곰 쌀을 구매해...\n",
       "Name: 내용, Length: 6785, dtype: object"
      ]
     },
     "metadata": {},
     "execution_count": 11
    }
   ],
   "metadata": {}
  },
  {
   "cell_type": "code",
   "execution_count": 12,
   "source": [
    "train_df_2 ['긍부정'] # train_y에 추가"
   ],
   "outputs": [
    {
     "output_type": "execute_result",
     "data": {
      "text/plain": [
       "0       0\n",
       "1       0\n",
       "2       0\n",
       "3       0\n",
       "4       0\n",
       "       ..\n",
       "6780    1\n",
       "6781    1\n",
       "6782    1\n",
       "6783    1\n",
       "6784    1\n",
       "Name: 긍부정, Length: 6785, dtype: int64"
      ]
     },
     "metadata": {},
     "execution_count": 12
    }
   ],
   "metadata": {}
  },
  {
   "cell_type": "code",
   "execution_count": 13,
   "source": [
    "train_df_2.isnull().sum()"
   ],
   "outputs": [
    {
     "output_type": "execute_result",
     "data": {
      "text/plain": [
       "제품     0\n",
       "내용     0\n",
       "긍부정    0\n",
       "원별점    0\n",
       "dtype: int64"
      ]
     },
     "metadata": {},
     "execution_count": 13
    }
   ],
   "metadata": {}
  },
  {
   "cell_type": "markdown",
   "source": [
    "## - train set 합치기"
   ],
   "metadata": {}
  },
  {
   "cell_type": "code",
   "execution_count": 14,
   "source": [
    "len (train_df[0]), len(train_df_2['내용'])"
   ],
   "outputs": [
    {
     "output_type": "execute_result",
     "data": {
      "text/plain": [
       "(356832, 6785)"
      ]
     },
     "metadata": {},
     "execution_count": 14
    }
   ],
   "metadata": {}
  },
  {
   "cell_type": "code",
   "execution_count": 15,
   "source": [
    "# train_x 합치기\r\n",
    "all_train_x_df= pd.concat( [train_df[0], train_df_2['내용'] ], axis = 0)\r\n",
    "all_train_x_df=all_train_x_df.reset_index()\r\n",
    "all_train_x_df"
   ],
   "outputs": [
    {
     "output_type": "execute_result",
     "data": {
      "text/plain": [
       "        index                                                  0\n",
       "0           0   +@음침한 분위기+@기괴한 크리쳐들-@눈만 아픈 그래픽-@왜 넣었는지 모를 레터박...\n",
       "1           1   +@음침한 분위기+@기괴한 크리쳐들-@눈만 아픈 그래픽-@왜 넣었는지 모를 레터박...\n",
       "2           2   +@음침한 분위기+@기괴한 크리쳐들-@눈만 아픈 그래픽-@왜 넣었는지 모를 레터박...\n",
       "3           3   +@음침한 분위기+@기괴한 크리쳐들-@눈만 아픈 그래픽-@왜 넣었는지 모를 레터박...\n",
       "4           4   +@음침한 분위기+@기괴한 크리쳐들-@눈만 아픈 그래픽-@왜 넣었는지 모를 레터박...\n",
       "...       ...                                                ...\n",
       "363612   6780                    매번 재구매하고 있어요\\n찰지게 밥도 잘 되고 맛있습니다\n",
       "363613   6781  곰곰에서 쌀도 나오다니 ㅎㅎㅎ 10킬로짜리 살 일이 없었는데 최근에 집에 있는 시간...\n",
       "363614   6782              20kg 없어서 아쉬워요!!!\\n쌀 좋아요!! 곰곰쌀만 먹고있어요!\n",
       "363615   6783  요즘 쌀 20 키로 에 비싼 것은 육만 원 가량 하고 저렴한 것은 사만원대 정도하는...\n",
       "363616   6784  매일 그날 도정한 쌀 사다가 먹었는데..이번에 구매하려니 품절이라 곰곰 쌀을 구매해...\n",
       "\n",
       "[363617 rows x 2 columns]"
      ],
      "text/html": [
       "<div>\n",
       "<style scoped>\n",
       "    .dataframe tbody tr th:only-of-type {\n",
       "        vertical-align: middle;\n",
       "    }\n",
       "\n",
       "    .dataframe tbody tr th {\n",
       "        vertical-align: top;\n",
       "    }\n",
       "\n",
       "    .dataframe thead th {\n",
       "        text-align: right;\n",
       "    }\n",
       "</style>\n",
       "<table border=\"1\" class=\"dataframe\">\n",
       "  <thead>\n",
       "    <tr style=\"text-align: right;\">\n",
       "      <th></th>\n",
       "      <th>index</th>\n",
       "      <th>0</th>\n",
       "    </tr>\n",
       "  </thead>\n",
       "  <tbody>\n",
       "    <tr>\n",
       "      <th>0</th>\n",
       "      <td>0</td>\n",
       "      <td>+@음침한 분위기+@기괴한 크리쳐들-@눈만 아픈 그래픽-@왜 넣었는지 모를 레터박...</td>\n",
       "    </tr>\n",
       "    <tr>\n",
       "      <th>1</th>\n",
       "      <td>1</td>\n",
       "      <td>+@음침한 분위기+@기괴한 크리쳐들-@눈만 아픈 그래픽-@왜 넣었는지 모를 레터박...</td>\n",
       "    </tr>\n",
       "    <tr>\n",
       "      <th>2</th>\n",
       "      <td>2</td>\n",
       "      <td>+@음침한 분위기+@기괴한 크리쳐들-@눈만 아픈 그래픽-@왜 넣었는지 모를 레터박...</td>\n",
       "    </tr>\n",
       "    <tr>\n",
       "      <th>3</th>\n",
       "      <td>3</td>\n",
       "      <td>+@음침한 분위기+@기괴한 크리쳐들-@눈만 아픈 그래픽-@왜 넣었는지 모를 레터박...</td>\n",
       "    </tr>\n",
       "    <tr>\n",
       "      <th>4</th>\n",
       "      <td>4</td>\n",
       "      <td>+@음침한 분위기+@기괴한 크리쳐들-@눈만 아픈 그래픽-@왜 넣었는지 모를 레터박...</td>\n",
       "    </tr>\n",
       "    <tr>\n",
       "      <th>...</th>\n",
       "      <td>...</td>\n",
       "      <td>...</td>\n",
       "    </tr>\n",
       "    <tr>\n",
       "      <th>363612</th>\n",
       "      <td>6780</td>\n",
       "      <td>매번 재구매하고 있어요\\n찰지게 밥도 잘 되고 맛있습니다</td>\n",
       "    </tr>\n",
       "    <tr>\n",
       "      <th>363613</th>\n",
       "      <td>6781</td>\n",
       "      <td>곰곰에서 쌀도 나오다니 ㅎㅎㅎ 10킬로짜리 살 일이 없었는데 최근에 집에 있는 시간...</td>\n",
       "    </tr>\n",
       "    <tr>\n",
       "      <th>363614</th>\n",
       "      <td>6782</td>\n",
       "      <td>20kg 없어서 아쉬워요!!!\\n쌀 좋아요!! 곰곰쌀만 먹고있어요!</td>\n",
       "    </tr>\n",
       "    <tr>\n",
       "      <th>363615</th>\n",
       "      <td>6783</td>\n",
       "      <td>요즘 쌀 20 키로 에 비싼 것은 육만 원 가량 하고 저렴한 것은 사만원대 정도하는...</td>\n",
       "    </tr>\n",
       "    <tr>\n",
       "      <th>363616</th>\n",
       "      <td>6784</td>\n",
       "      <td>매일 그날 도정한 쌀 사다가 먹었는데..이번에 구매하려니 품절이라 곰곰 쌀을 구매해...</td>\n",
       "    </tr>\n",
       "  </tbody>\n",
       "</table>\n",
       "<p>363617 rows × 2 columns</p>\n",
       "</div>"
      ]
     },
     "metadata": {},
     "execution_count": 15
    }
   ],
   "metadata": {}
  },
  {
   "cell_type": "code",
   "execution_count": 16,
   "source": [
    "# train_y합치기\r\n",
    "all_train_y_df= pd.concat( [train_df[1], train_df_2['긍부정'] ], axis = 0)\r\n",
    "all_train_y_df=all_train_y_df.reset_index()\r\n",
    "all_train_y_df"
   ],
   "outputs": [
    {
     "output_type": "execute_result",
     "data": {
      "text/plain": [
       "        index  0\n",
       "0           0  0\n",
       "1           1  0\n",
       "2           2  1\n",
       "3           3  1\n",
       "4           4  1\n",
       "...       ... ..\n",
       "363612   6780  1\n",
       "363613   6781  1\n",
       "363614   6782  1\n",
       "363615   6783  1\n",
       "363616   6784  1\n",
       "\n",
       "[363617 rows x 2 columns]"
      ],
      "text/html": [
       "<div>\n",
       "<style scoped>\n",
       "    .dataframe tbody tr th:only-of-type {\n",
       "        vertical-align: middle;\n",
       "    }\n",
       "\n",
       "    .dataframe tbody tr th {\n",
       "        vertical-align: top;\n",
       "    }\n",
       "\n",
       "    .dataframe thead th {\n",
       "        text-align: right;\n",
       "    }\n",
       "</style>\n",
       "<table border=\"1\" class=\"dataframe\">\n",
       "  <thead>\n",
       "    <tr style=\"text-align: right;\">\n",
       "      <th></th>\n",
       "      <th>index</th>\n",
       "      <th>0</th>\n",
       "    </tr>\n",
       "  </thead>\n",
       "  <tbody>\n",
       "    <tr>\n",
       "      <th>0</th>\n",
       "      <td>0</td>\n",
       "      <td>0</td>\n",
       "    </tr>\n",
       "    <tr>\n",
       "      <th>1</th>\n",
       "      <td>1</td>\n",
       "      <td>0</td>\n",
       "    </tr>\n",
       "    <tr>\n",
       "      <th>2</th>\n",
       "      <td>2</td>\n",
       "      <td>1</td>\n",
       "    </tr>\n",
       "    <tr>\n",
       "      <th>3</th>\n",
       "      <td>3</td>\n",
       "      <td>1</td>\n",
       "    </tr>\n",
       "    <tr>\n",
       "      <th>4</th>\n",
       "      <td>4</td>\n",
       "      <td>1</td>\n",
       "    </tr>\n",
       "    <tr>\n",
       "      <th>...</th>\n",
       "      <td>...</td>\n",
       "      <td>...</td>\n",
       "    </tr>\n",
       "    <tr>\n",
       "      <th>363612</th>\n",
       "      <td>6780</td>\n",
       "      <td>1</td>\n",
       "    </tr>\n",
       "    <tr>\n",
       "      <th>363613</th>\n",
       "      <td>6781</td>\n",
       "      <td>1</td>\n",
       "    </tr>\n",
       "    <tr>\n",
       "      <th>363614</th>\n",
       "      <td>6782</td>\n",
       "      <td>1</td>\n",
       "    </tr>\n",
       "    <tr>\n",
       "      <th>363615</th>\n",
       "      <td>6783</td>\n",
       "      <td>1</td>\n",
       "    </tr>\n",
       "    <tr>\n",
       "      <th>363616</th>\n",
       "      <td>6784</td>\n",
       "      <td>1</td>\n",
       "    </tr>\n",
       "  </tbody>\n",
       "</table>\n",
       "<p>363617 rows × 2 columns</p>\n",
       "</div>"
      ]
     },
     "metadata": {},
     "execution_count": 16
    }
   ],
   "metadata": {}
  },
  {
   "cell_type": "code",
   "execution_count": 17,
   "source": [
    "all_train_y_df[0][1] #확인"
   ],
   "outputs": [
    {
     "output_type": "execute_result",
     "data": {
      "text/plain": [
       "0"
      ]
     },
     "metadata": {},
     "execution_count": 17
    }
   ],
   "metadata": {}
  },
  {
   "cell_type": "markdown",
   "source": [
    "## - pred set 전처리"
   ],
   "metadata": {}
  },
  {
   "cell_type": "markdown",
   "source": [
    " - 문서 단위 pred   : pred_df['content']"
   ],
   "metadata": {}
  },
  {
   "cell_type": "code",
   "execution_count": 21,
   "source": [
    "# pred에 str이 아닌게 존재하네! nan임을 확인함 # 제거하고 데이터 다시 가져옴\r\n",
    "for i in range(len(pred_df)):\r\n",
    "    if type(pred_df['content'][i]) != str :\r\n",
    "        print(i)"
   ],
   "outputs": [],
   "metadata": {}
  },
  {
   "cell_type": "code",
   "execution_count": 22,
   "source": [
    "pred_df['content'].isnull().sum() # null값 없음"
   ],
   "outputs": [
    {
     "output_type": "execute_result",
     "data": {
      "text/plain": [
       "0"
      ]
     },
     "metadata": {},
     "execution_count": 22
    }
   ],
   "metadata": {}
  },
  {
   "cell_type": "code",
   "execution_count": 23,
   "source": [
    "# 댓글이 있는 항목만 담기(빈 댓글 삭제)\r\n",
    "# text 컬럼이 non-null인 샘플만 train_df에 다시 저장\r\n",
    "pred_df = pred_df[pred_df['content'].notnull()]\r\n",
    "\r\n",
    "# 수정된 train_df의 정보를 다시 확인\r\n",
    "print(pred_df.info())\r\n",
    "\r\n",
    "# null값 개수 확인\r\n",
    "print(pred_df['content'].isnull().sum())\r\n"
   ],
   "outputs": [
    {
     "output_type": "stream",
     "name": "stdout",
     "text": [
      "<class 'pandas.core.frame.DataFrame'>\n",
      "Int64Index: 9586 entries, 0 to 9585\n",
      "Data columns (total 7 columns):\n",
      " #   Column        Non-Null Count  Dtype \n",
      "---  ------        --------------  ----- \n",
      " 0   Unnamed: 0    9586 non-null   int64 \n",
      " 1   Unnamed: 0.1  9586 non-null   int64 \n",
      " 2   title         9586 non-null   object\n",
      " 3   nickname      9586 non-null   object\n",
      " 4   date          9586 non-null   object\n",
      " 5   content       9586 non-null   object\n",
      " 6   comments      8846 non-null   object\n",
      "dtypes: int64(2), object(5)\n",
      "memory usage: 599.1+ KB\n",
      "None\n",
      "0\n"
     ]
    }
   ],
   "metadata": {}
  },
  {
   "cell_type": "code",
   "execution_count": 24,
   "source": [
    "pred_df['content'].reset_index"
   ],
   "outputs": [
    {
     "output_type": "execute_result",
     "data": {
      "text/plain": [
       "<bound method Series.reset_index of 0       세종시로 올해 1월 10일 이사했습니다||-|| 어제 쌀이 똑 떨어졌는데 마침 까페...\n",
       "1       저희 큰아버지께서 쌀도매를 하세요||-||  빨간쌀 이예요||-|| 저도 작녁부터 ...\n",
       "2                                     제가 변비가 심해서 현미쌀100 를\n",
       "3       그동안 계속 공구후기며 공구게시판에서 보던 쌀찐빵을 구입했어요||-|| 아기간식도 ...\n",
       "4       심심한 일요일 오후 당근쌀머핀 만들어 보았어요||-|| 당근이랑 우유는 휘리릭 갈아...\n",
       "                              ...                        \n",
       "9581    요리전용맛술 마트가면 보기는 했는데 저게 꼭 필요할까 하는 생각에 구매를 망설였는데...\n",
       "9582                           가능한가요     믹서기 청소가 귀찮아서    \n",
       "9583    담주부터 초기이유식 시작인데 아직 애가 못앉잖아요  다들 그냥 분유주듯 안아서 먹이...\n",
       "9584                 어뭉들어디서 사드시나요  아이간식사먹이는 사이트추천좀해주셔요   \n",
       "9585    간혹 동물 사료용으로 쓰신다고 무료나눔하신던데   벌레가 막 나오거나 하지는 않는데...\n",
       "Name: content, Length: 9586, dtype: object>"
      ]
     },
     "metadata": {},
     "execution_count": 24
    }
   ],
   "metadata": {}
  },
  {
   "cell_type": "code",
   "execution_count": 25,
   "source": [
    "pred_df['content']"
   ],
   "outputs": [
    {
     "output_type": "execute_result",
     "data": {
      "text/plain": [
       "0       세종시로 올해 1월 10일 이사했습니다||-|| 어제 쌀이 똑 떨어졌는데 마침 까페...\n",
       "1       저희 큰아버지께서 쌀도매를 하세요||-||  빨간쌀 이예요||-|| 저도 작녁부터 ...\n",
       "2                                     제가 변비가 심해서 현미쌀100 를\n",
       "3       그동안 계속 공구후기며 공구게시판에서 보던 쌀찐빵을 구입했어요||-|| 아기간식도 ...\n",
       "4       심심한 일요일 오후 당근쌀머핀 만들어 보았어요||-|| 당근이랑 우유는 휘리릭 갈아...\n",
       "                              ...                        \n",
       "9581    요리전용맛술 마트가면 보기는 했는데 저게 꼭 필요할까 하는 생각에 구매를 망설였는데...\n",
       "9582                           가능한가요     믹서기 청소가 귀찮아서    \n",
       "9583    담주부터 초기이유식 시작인데 아직 애가 못앉잖아요  다들 그냥 분유주듯 안아서 먹이...\n",
       "9584                 어뭉들어디서 사드시나요  아이간식사먹이는 사이트추천좀해주셔요   \n",
       "9585    간혹 동물 사료용으로 쓰신다고 무료나눔하신던데   벌레가 막 나오거나 하지는 않는데...\n",
       "Name: content, Length: 9586, dtype: object"
      ]
     },
     "metadata": {},
     "execution_count": 25
    }
   ],
   "metadata": {}
  },
  {
   "cell_type": "markdown",
   "source": [
    "- 문장 단위 pred :data_content['content']"
   ],
   "metadata": {}
  },
  {
   "cell_type": "markdown",
   "source": [
    "    문서 -> 문장 변환"
   ],
   "metadata": {}
  },
  {
   "cell_type": "code",
   "execution_count": 26,
   "source": [
    "# contents str로 처리\r\n",
    "q= \" \"\r\n",
    "for i in range(len(pred_df)):\r\n",
    "    try:\r\n",
    "     q += pred_df['content'][i]\r\n",
    "    except:\r\n",
    "     pass"
   ],
   "outputs": [],
   "metadata": {}
  },
  {
   "cell_type": "code",
   "execution_count": 27,
   "source": [
    "# 문장어미 구분자 대치\r\n",
    "q = q.replace('네요','네요||-||').replace('하죠','하죠||-||').replace('데요','데요||-||').replace('이네요','이네요||-||')\r\n",
    "q = q.replace('네요.','네요||-||').replace('되죠','되죠||-||').replace('대요','대요||-||').replace('이요','이요||-||')\r\n",
    "q = q.replace('돼요.','돼요||-||').replace('되요','되요||-||').replace('다닙니다','다닙니다||-||').replace('입니다','입니다||-||')\r\n",
    "q = q.replace('입니다.','입니다||-||').replace('니다','니다||-||').replace('중입니다','중입니다||-||').replace('입니다','입니다||-||')\r\n",
    "q = q.replace('나요.','나요||-||').replace('어요','어요||-||').replace('까요','까요||-||').replace('에요','에요||-||')\r\n",
    "q = q.replace('이에요','이에요||-||').replace('봐요','봐요||-||').replace('아요.','아요||-||').replace('와요','와요||-||')\r\n",
    "q = q.replace('해요','해요||-||').replace('려요','려요||-||').replace('구요','구요||-||').replace('고요','고요||-||')\r\n",
    "q = q.replace('죠','죠||-||').replace(':)','').replace('더라','더라||-||').replace('게요','게요||-||').replace('께요','께요||-||').replace('세요','세요||-||').replace('든요','든요||-||').replace('예요','예요||-||').replace('서요','서요||-||')\r\n",
    "q = q.replace('않았다','않았다||-||').replace('었다','었다||-||').replace('있다','있다||-||').replace('이다','이다||-||').replace('싶다','싶다||-||').replace('않다','않다||-||').replace('되었다','되었다||-||').replace('아니다','아니다||-||')\r\n",
    "q = q.replace('하자','하자||-||').replace('는다','는다||-||').replace('했다','했다||-||').replace('한다','한다||-||').replace('혔다','혔다||-||').replace('난다','난다||-||').replace('같아요','같아요||-||').replace('되었어','되었어||-||').replace('했어','했어||-||').replace('했지','했지||-||').replace('었어','었어||-||')"
   ],
   "outputs": [],
   "metadata": {}
  },
  {
   "cell_type": "code",
   "execution_count": 28,
   "source": [
    "#특수문자 제거\r\n",
    "q = q.replace('.','').replace('?','').replace('~','').replace('!','').replace('^','').replace('#','').replace('★','').replace('ㅋ','').replace('ㅜ','').replace('ㅠ','').replace('ㅎ','').replace('ㅏ','').replace('ㅡ','')"
   ],
   "outputs": [],
   "metadata": {}
  },
  {
   "cell_type": "code",
   "execution_count": 29,
   "source": [
    "# 구분자로 문장 분리\r\n",
    "p = q.split('||-||')\r\n",
    "len(p), len(q)"
   ],
   "outputs": [
    {
     "output_type": "execute_result",
     "data": {
      "text/plain": [
       "(88910, 2099604)"
      ]
     },
     "metadata": {},
     "execution_count": 29
    }
   ],
   "metadata": {}
  },
  {
   "cell_type": "code",
   "execution_count": 30,
   "source": [
    "# 각 문장을 데이터 프레임으로 저장\r\n",
    "sentence_Data = pd.DataFrame({'content': p})\r\n",
    "len(sentence_Data)"
   ],
   "outputs": [
    {
     "output_type": "execute_result",
     "data": {
      "text/plain": [
       "88910"
      ]
     },
     "metadata": {},
     "execution_count": 30
    }
   ],
   "metadata": {}
  },
  {
   "cell_type": "code",
   "execution_count": 31,
   "source": [
    "sentence_Data # pred할 셋 문장단위 설정 완"
   ],
   "outputs": [
    {
     "output_type": "execute_result",
     "data": {
      "text/plain": [
       "                                                 content\n",
       "0                                  세종시로 올해 1월 10일 이사했습니다\n",
       "1                                                       \n",
       "2                          어제 쌀이 똑 떨어졌는데 마침 까페에 쌀공구가 떴네요\n",
       "3                                                       \n",
       "4                        내일아침 밥을 하기위해 저녁에 직접 방문드리기로 했습니다\n",
       "...                                                  ...\n",
       "88905  멸치도 생선이니     다음에는 캠핑장에가서 고기 구워먹을때 사용해 봐야 겠여요가능...\n",
       "88906                                                   \n",
       "88907                                       큰봉지로 한봉지정도되요\n",
       "88908                                                   \n",
       "88909                                                   \n",
       "\n",
       "[88910 rows x 1 columns]"
      ],
      "text/html": [
       "<div>\n",
       "<style scoped>\n",
       "    .dataframe tbody tr th:only-of-type {\n",
       "        vertical-align: middle;\n",
       "    }\n",
       "\n",
       "    .dataframe tbody tr th {\n",
       "        vertical-align: top;\n",
       "    }\n",
       "\n",
       "    .dataframe thead th {\n",
       "        text-align: right;\n",
       "    }\n",
       "</style>\n",
       "<table border=\"1\" class=\"dataframe\">\n",
       "  <thead>\n",
       "    <tr style=\"text-align: right;\">\n",
       "      <th></th>\n",
       "      <th>content</th>\n",
       "    </tr>\n",
       "  </thead>\n",
       "  <tbody>\n",
       "    <tr>\n",
       "      <th>0</th>\n",
       "      <td>세종시로 올해 1월 10일 이사했습니다</td>\n",
       "    </tr>\n",
       "    <tr>\n",
       "      <th>1</th>\n",
       "      <td></td>\n",
       "    </tr>\n",
       "    <tr>\n",
       "      <th>2</th>\n",
       "      <td>어제 쌀이 똑 떨어졌는데 마침 까페에 쌀공구가 떴네요</td>\n",
       "    </tr>\n",
       "    <tr>\n",
       "      <th>3</th>\n",
       "      <td></td>\n",
       "    </tr>\n",
       "    <tr>\n",
       "      <th>4</th>\n",
       "      <td>내일아침 밥을 하기위해 저녁에 직접 방문드리기로 했습니다</td>\n",
       "    </tr>\n",
       "    <tr>\n",
       "      <th>...</th>\n",
       "      <td>...</td>\n",
       "    </tr>\n",
       "    <tr>\n",
       "      <th>88905</th>\n",
       "      <td>멸치도 생선이니     다음에는 캠핑장에가서 고기 구워먹을때 사용해 봐야 겠여요가능...</td>\n",
       "    </tr>\n",
       "    <tr>\n",
       "      <th>88906</th>\n",
       "      <td></td>\n",
       "    </tr>\n",
       "    <tr>\n",
       "      <th>88907</th>\n",
       "      <td>큰봉지로 한봉지정도되요</td>\n",
       "    </tr>\n",
       "    <tr>\n",
       "      <th>88908</th>\n",
       "      <td></td>\n",
       "    </tr>\n",
       "    <tr>\n",
       "      <th>88909</th>\n",
       "      <td></td>\n",
       "    </tr>\n",
       "  </tbody>\n",
       "</table>\n",
       "<p>88910 rows × 1 columns</p>\n",
       "</div>"
      ]
     },
     "metadata": {},
     "execution_count": 31
    }
   ],
   "metadata": {}
  },
  {
   "cell_type": "markdown",
   "source": [
    "    문장단위 데이터 전처리"
   ],
   "metadata": {}
  },
  {
   "cell_type": "code",
   "execution_count": 32,
   "source": [
    "# 2번 이상 중복인 데이터 확인\r\n",
    "sentence = sentence_Data['content'].value_counts()\r\n",
    "idx_sentence=sentence[sentence >= 2].index.tolist()\r\n",
    "len(idx_sentence), idx_sentence"
   ],
   "outputs": [
    {
     "output_type": "execute_result",
     "data": {
      "text/plain": [
       "(495,\n",
       " ['',\n",
       "  '요',\n",
       "  '구요',\n",
       "  '고요',\n",
       "  '     공유소스 코드                                   주소복사     소스544   306740   416936   5261280   720복사      미지원으로        코드 퍼가기 기능은 더 이상 지원되지않습니다',\n",
       "  '360       도움말            멀티트랙의 트랙별 영상은 우측 관련영상에서 볼 수 있습니다',\n",
       "  ' 5분 이상 소요될 수 있으며  영상의 길이에 따라 소요 시간은 달라집니다',\n",
       "  '네요',\n",
       "  ' 감사합니다',\n",
       "  '  안녕하세요',\n",
       "  '고 합니다',\n",
       "  ' 안녕하세요',\n",
       "  '  감사합니다',\n",
       "  '   감사합니다',\n",
       "  '고 하네요',\n",
       "  '고 하더라',\n",
       "  '    안녕하세요',\n",
       "  '안녕하세요',\n",
       "  '  이전 질문 글 확인 후 꼭 작성해주세요',\n",
       "  '   안녕하세요',\n",
       "  '     타인의 사진을 이용한 질문은 금지합니다',\n",
       "  '고 해요',\n",
       "  '     안녕하세요',\n",
       "  ' 도와주세요',\n",
       "  '  알려주세요',\n",
       "  '감사합니다',\n",
       "  '                               639756    카페 규정 어길시 무통보삭제 및 무통보 활동정지 처리 됩니다',\n",
       "  ' 2  수다방에는 판매글 및 카페규정에 어긋나는 글 올릴시 삭제처리됩니다',\n",
       "  '  도와주세요',\n",
       "  '  1  카페 규정 확인 후 글 남겨주세요',\n",
       "  '   푸짐한 속재료  깔끔한 데코 덧글달아 주시고 쪽지보내주세요',\n",
       "  '죠',\n",
       "  '   질문이 아닌글을 남기시면 게시글 이동요청후 글이 삭제됩니다',\n",
       "  ' 알려주세요',\n",
       "  '   알려주세요',\n",
       "  '   3단계 등업 시 질문글을 포함되지 않으며 질문에 대한 답변글은 포함됩니다',\n",
       "  '   성실멤버 등업 시 질문글을 포함되지 않으며 질문에 대한 답변글은 포함됩니다',\n",
       "  '  양해 부탁드립니다',\n",
       "  ' 또한 덧글로             등  단순 기호나 10자 미만 덧글도 등업시 인정되지 않고 삭제될 수 있습니다',\n",
       "  ' 연락주세요',\n",
       "  ' 산해진미와 카카오톡 친구를 맺으시고 편리하게 주문해보세요',\n",
       "  ' 게시글 기본규정 숙지후 활동을 바랍니다',\n",
       "  '      안녕하세요',\n",
       "  '                                                         2            3                0   0                   0                    0                                                                              0 0 도움말라이센스                        4 17 48                 2020 2 12                 ',\n",
       "  '더라',\n",
       "  '    케익 샌드   아이싱   데코 이렇게 진행해요',\n",
       "  ' 3시간 정도 생각하셔야해요',\n",
       "  '    도와주세요',\n",
       "  '전문정미소에서 도정하여 품질이 뛰어나고 쌀알이 깨끗합니다',\n",
       "  '하네요',\n",
       "  '댓글주세요',\n",
       "  '    감사합니다',\n",
       "  '  많은 관심 부탁드립니다',\n",
       "  '  쫀득쫀득하면서 담백한 맛이라서 아침 대용으로 많이 찾으십니다',\n",
       "  '  무엇보다 식품이기 때문에 위생적으로 만듭니다',\n",
       "  '  떡집은 더럽다는 편견을 버리세요',\n",
       "  '  쌀농사를 지금도 하고 있구요',\n",
       "  ' 참고하세요',\n",
       "  '  잘먹겠습니다',\n",
       "  '     믿고 드셔요      무방부제  무화학첨가제  농라에서는 파는 모든 떡은 국산재료로만 만듭니다',\n",
       "  '고 한다',\n",
       "  '  저희도 매일 50분씩은 닦고 청소하는데 그래도 위생적으로 완벽하다 말 못할정도입니다',\n",
       "  '  특히 저 롤러라는 기계는 물로 씻으면 고장이 잘나서 잘 안씻는 경우가 많은데 저희는 매일 매일 물청소합니다',\n",
       "  '  하지만 분명한것은 저희는 재료도 절대 속이지 않고 속였다면 10배 보상하겠습니다',\n",
       "  '  참고하세요',\n",
       "  '  그래서 상표가 없는 것입니다',\n",
       "  '고맙습니다',\n",
       "  '    가래떡은 떡 받으시는 전날 저녁때 만들어서 그날 밤에 바로 택배로 보냅니다',\n",
       "  '  죄송합니다',\n",
       "  ' 판매하시는 생산자분들은     판매 게시글에 택배사를 반드시 게재해주세요',\n",
       "  '                                                        2            3                0   0                   0                    0                                                                              0 0 도움말라이센스                        4 17 48                 2020 2 12                 ',\n",
       "  ' 주문시 입금후 주문서 넣어주세요',\n",
       "  '   주의사항   상품은 리뷰상품 보너스 상품으로 구성되어 있습니다',\n",
       "  '고해요',\n",
       "  '  고맙습니다',\n",
       "  '    직접 농사지은 신동진쌀을 도정하여 사용합니다',\n",
       "  '  5만원 미만 배송료 3 000원 추가  입금 계좌번호   농협 김학영 352 0844 7142 93  010 6238 5444 문자로 이름 주소 주문내용 3종세트 주문주세요',\n",
       "  '  리뷰는 리뷰상품만 해주시면 됩니다',\n",
       "  ' 사랑합니다',\n",
       "  '기억력 기능에 효과를 준다알려져 치매예방에도 좋은쌀이구요',\n",
       "  ' 많은 관심 부탁드립니다',\n",
       "  '필요하신분 드려요',\n",
       "  '  필요하신분드려요',\n",
       "  ' 하시는분이 많으셔서 본인시트는 본인이 직접만드는 수업으로 바꿨어요',\n",
       "  '  그래서 멥쌀로 만들었는데도 불구하고 훨씬 더 쫄깃거립니다',\n",
       "  '  감사해요',\n",
       "  '   낮에는 일을 하다보니 주문을 놓칠 수 있습니다',\n",
       "  '    알려주세요',\n",
       "  '문자주세요',\n",
       "  ' 맛있어요',\n",
       "  ' 주문후 도정들어가니당일은 받아보실수없어요',\n",
       "  ' 선거광고 안내       음소거00 00   00 02 화질 선택 옵션720      270        480        720       화질  전체화면    00 00 광고정보 더보기초 후     초 후 재생    광고 후 계속됩니다',\n",
       "  ' 필요하신분 연락주세요',\n",
       "  '고 하시네요',\n",
       "  '고 하시더라',\n",
       "  '  택배는     택배로 배송됩니다',\n",
       "  ' 20 000원입니다',\n",
       "  '      택배  주문하신 분 핸드폰 번호로 확인 가능   찐 개떡의 경우 필요한 양만 드시고 나머지는 냉동보관 해주시기 바랍니다',\n",
       "  ' 추천 부탁드려요',\n",
       "  ' 고 말했다',\n",
       "  '   문의 주세요',\n",
       "  '쳇주세요',\n",
       "  ' 택5000별도 농협 356 0343 2825 73 농협 임지숙입니다',\n",
       "  '    이외에도 모든 잡곡있습니다',\n",
       "  '백미보다 포만감이 커 다이어트시 좋구요',\n",
       "  '식이섬유가 많아 변비예방도 좋구가장 알려진 효능으론 칼륨이 많아 뼈를 튼튼히 해 골다공증 예방과 성장기 어린이 성장촉진에 도움울 준다고 합니다',\n",
       "  '  시트 직접 만들고 싶다',\n",
       "  '      상품 판매 게시글 올리실때 이글을 삭제하고 올리시면 됩니다',\n",
       "  ' 도움말 플레이어     복사 레이어 닫기                                                       2            3                0   0                   0                    0                                                                              0 0 도움말라이센스                        4 17 48                 2020 2 12                 ',\n",
       "  ' 댓글주세요',\n",
       "  '  좀 알려주세요',\n",
       "  ' 시트 만들고 식히고 시간이 많이 소요되요',\n",
       "  ' 20키로구요',\n",
       "  '고 하죠',\n",
       "  '   필요하신분 가져가세요',\n",
       "  '   도와주세요',\n",
       "  ' 100 메밀로 건강하게 맛있게 요리해드세요',\n",
       "  '                                                          2            3                0   0                   0                    0                                                                              0 0 도움말라이센스                        4 17 48                 2020 2 12                 ',\n",
       "  '   업자분들은 자신의 사이트에서 판매하는 용품에 대한 글 작성하지 말아주세요',\n",
       "  ' 쳇주세요',\n",
       "  '    떡국떡은 진공포장하여 보내드립니다',\n",
       "  ' 산해진미와 카카오톡 친구를 맺으시고 편리하게 주문하세요',\n",
       "  ' 괜찮을까요',\n",
       "  '   모싯잎의 경우에도 영광에서 재배된 모싯잎을 이용해 만들기 때문에 떡이 맛나답니다',\n",
       "  ' 녹미말그대로 녹색쌀이며 클로로필 엽록소  햠량이 높아 당뇨와 혈액생성 순환에 도움을 주고 나쁜 노페물울 배출해주는 디톡스효과가 있다',\n",
       "  '   주문 받은 날 기준으로 다음날 택배 보내드립니다',\n",
       "  '  많은 참여 부탁드려요',\n",
       "  '        안녕하세요',\n",
       "  '  010 9459 1916이름 주소 전번 수량이요',\n",
       "  '    수업진행 방법       쌀시트 만들기      흑미  백미 두가지중 선택하세요',\n",
       "  ' 1 25그램씩담았구요',\n",
       "  '     타인의 명예를 훼손하거나 비방하는 글은 민 형사상 처벌받을 수 있습니다',\n",
       "  ' 대산이구가지러오셔야해요',\n",
       "  ' 6  질문글내용이 삭제된글 사항발견시 신문고 게시판에 신고하여주세요',\n",
       "  '  묵은쌀이예요',\n",
       "  '어디서들 구매하세요',\n",
       "  '  당일 2시까지 신청해주시면 바로 도정해서나요   저희쌀은 우렁 농법으로 재배하구요',\n",
       "  '   빠른 배송과 만족스러운 포장 그리고 무엇보다 아기가 넘넘 잘 먹네여   5살 첫째 아이도 동생 따라서 잘 먹구여     앞으로 계속 쭈욱   구매할 생각입니다',\n",
       "  '고 잘먹네요',\n",
       "  '   잘 먹겠습니다',\n",
       "  '  부탁드려요',\n",
       "  '  부탁드립니다',\n",
       "  '   집근처 공원도 있어서 아침운동하기에도 좋고  또 마트도 있습니다',\n",
       "  '  무엇보다 송편 속을 국산 참깨를 넣어 만들었습니다',\n",
       "  '  유통기한 2016년 3월 11일까지입니다',\n",
       "  '고 해서요',\n",
       "  ' 밥솥뚜껑 열어보시면 윤기좔좔 깜놀하실꺼에요',\n",
       "  '     매일 청소하는 깨끗한 떡집입니다',\n",
       "  '  닦아서 비닐에 싸놨습니다',\n",
       "  '  따뜻한 물로 씻고 정수기물 받아서 취사하는데  혹시 쌀은 꼭 찬물로 씻어야 한다',\n",
       "  '    달이 생쌀 씹는 소리가 들립니다',\n",
       "  '     들하늘 현미에서 나오는 다량의 검은 이물질은 무엇인가요  사진 및 동영상 첨부합니다',\n",
       "  ' 2 상품은 크기      가 중요합니다',\n",
       "  '   괜찮을까요',\n",
       "  '  연락주세요',\n",
       "  '    쌩초보맘이라    답변부탁드려요',\n",
       "  '  농협이나 정미소에서 저가로 나오는 쌀과는 천지차이라는거  신동진쌀은 일반 혼합미보다 가격이 더 비싸다는것도 아시죠',\n",
       "  '  그리고 쌀 제공합니다',\n",
       "  '  수다방 성격에 맞지않는 이탈글은 적합한 게시판으로 이동 또는 삭제예정게시판으로 이동됩니다',\n",
       "  ' 버스떠나고 손 흔드시면 안됩니다',\n",
       "  '  업자분들은 자신의 사이트에서 판매하는 용품에 대한 글 작성하지 말아주세요',\n",
       "  ' 그리고 떡집의 경우 쌀  콩 이런것들을 다루기 때문에 위생적으로 매우 취약한게 사실입니다',\n",
       "  '  햅쌀이라는데 윤기가 덜한것도 같고   쌀 어디서 어떤거 사드세요',\n",
       "  ' 입금후 주소 성함 연락처 주문   알려주세요',\n",
       "  '  입금계좌는 우리은행 1002 630 270706 홍종진입니다',\n",
       "  ' 문의주세요',\n",
       "  '   동물성생크림 뚜 주   파 바게  처럼  싼 식물성 휘핑크림 아님니다',\n",
       "  '   같이 해서 나눠 먹어요',\n",
       "  '맛있다',\n",
       "  ' 단 과천지역 독거 어르신을 위해서 쌀 모금 형식의회비를 받습니다',\n",
       "  '  조언 좀 부탁드려요',\n",
       "  '    국산 참깨 모싯잎 송편입니다',\n",
       "  '고 하던데요',\n",
       "  ' 아주 착한 가격으로 판매해요',\n",
       "  '   중복 질문이 너무 많습니다',\n",
       "  ' 상품 홍보 게시판의 효율적인 사용을 위하여  게시글을 작성시 아래에 양식에 맞게 작성바랍니다',\n",
       "  '  3  20분후 매끈해진 반죽을 저울로 정확히 10등분해서 분할해주세요',\n",
       "  '벼 수확하기 전에 노랗게 익어가고 있어요',\n",
       "  '    잘먹겠습니다',\n",
       "  '       저희 아이가 맛있게 먹는 모습이예용     처음으로 과자를 맛보았기에 다른 과자들은 잘 모르지만 매일유업에서 나온 요미요미 쌀과자를 잘 먹더라',\n",
       "  '예를들어 백미 10     7분도 10   이렇케 시키시는분들은 선연락주세요',\n",
       "  '  블루베리즙도 곧 판매 예정입니다',\n",
       "  '  칼슘제를 주는대 쌀표면에 코팅을 하는게아닌직접 살포하여 칼슘을 빨아먹고 자란 쌀이에요',\n",
       "  ' 즉 백미는 영양분이 없는 찌꺼기에 불과 하다는 말입니다',\n",
       "  ' 5  쌀을 독거어르신에게 증정할때는 가능하면 이 모임을 이끄는 줌마회원님들의 자제분으로 하여금쌀을 전달하도록 합니다',\n",
       "  '  기존 떡집에서는 싸래기나 절미 같은거 이용하는 곳이 많지만  저희는 농사를 직접 지어서 신동진 쌀 사용하고 있습니다',\n",
       "  '  좋은하루되세요',\n",
       "  ' 필요하신분 가져가세요',\n",
       "  ' 칠천원입니다',\n",
       "  '    고객만족을 위해 꾸준히 노력하고 있으며  많은 고객분들 덕분에 2015년 한경 비즈니스에서 주최한 한국소비자만족지수 조사에서  고객만족 브랜드  부문에서 1위를 수상하기도 했습니다',\n",
       "  '   그리고 집앞에 버스도 있음    지하철과 버스 가까워 교통편 편리 혹은 버스로 10분정도 가면 4호선과 13호선 타실수있어요',\n",
       "  ' 고 전했다',\n",
       "  '거나 그런건 아니겠죠',\n",
       "  '   별립법  공립법 두가지 다 배우세요',\n",
       "  '   리뷰는 카페 리뷰 게시판과 본인의 블로그 혹은    에 간단후기를 남겨주시면 됩니다',\n",
       "  '  현미를 신청하셔도 가격은 같아요',\n",
       "  '   이유식을 한다',\n",
       "  '  20키로예요',\n",
       "  ' 새거구요',\n",
       "  '  이리도 잘 먹는걸 보면        함께 도착한 치즈볼은 12개월부터 먹을 수 있는거라 아직 먹여보진 못했어',\n",
       "  ' 하네요',\n",
       "  '  포장 용량은 50   100   400   800  이 있으며다양한 용량으로 판매되고 있습니다',\n",
       "  '  버려야할까요',\n",
       "  ' 한번 맛보신 분들은 재구매율이 높으십니다',\n",
       "  '   핸드메이드 제품은 상업적 활동이라 볼 수 있고  많은 분들께서 제보를 통해 주신 의견을 고려하여 판매 불가로 결정 하였습니다',\n",
       "  '  입금하시고  입금하신분 성함과 닉네임  쌀 종류  수량  주소 문자로 부탁드립니다',\n",
       "  '    씻어도 성분이 안없어져요  밥맛 도 굿이죠',\n",
       "  '고 되어있어서 쌓고 흔드는것만 해봤어용     울 아들은 먹지 못하니 돌지난 조카에게 선물해줘야겠어요',\n",
       "  '  예  신세계상품권 롯데상품권  핸드메이드 제품은 물물교환  판매 모두 불가합니다',\n",
       "  '  시트 직접 만들어 가져가시기때문에 시간이 많이 소요되요',\n",
       "  '  김제지역은 신동진의 주생산지로 다른곳에 비해일조량이 풍부해 쌀의 품질이 우수합니다',\n",
       "  ' 아시는분 좀 알려주세요',\n",
       "  ' 쌀20키로부터 배달해드려요',\n",
       "  ' 재미있게도 백미를   를 깨어보면 쌀 변에 찌거기 자 입니다',\n",
       "  '   하얀  메밀꽃을 보신적 있으시나요  제주에는 늦은여름부터 가을까지 메밀꽃이 여기저기 예쁘게 피었었네요',\n",
       "  '  회비는 다음과 같이 걷어서 매년마다 근처 복지회관에 10   쌀을 구입하여 과천지역 독거어르신에게 드립니다',\n",
       "  '  크기는 첫 번째 사진에 보시면 종이컵이랑 비교해놨습니다',\n",
       "  '고하네요',\n",
       "  '   집은 한국식으로 2층 프랑스 식으로 1층 입니다',\n",
       "  '    1  카페이용 전 반드시 카페규정                               13264822 읽어주세요',\n",
       "  '  상황별  발음교정  연음연습  패턴별 훈련까지 다양하게 이어집니다',\n",
       "  ' 친환경 무농약 쌀에 천연원료를 코팅한 신개념 기능성 쌀 입니다',\n",
       "  ' 사진올려요',\n",
       "  ' 장기동입니다',\n",
       "  ' 추천부탁드려요',\n",
       "  '     이 제품을 써보니 이런 부분이 미흡했고 아쉬었어',\n",
       "  '       광고  음란성  욕설 등이 담긴 게시물은 삭제 및 아이디가 활동정지 될 수 있으니 유의하시기 바랍니다',\n",
       "  '  10   이상 무료배송 합니다',\n",
       "  '  일반 수입산 동부 송편보다는 크기가 작지만 국산 재료로 만든 건강한 송편입니다',\n",
       "  '  바로 도정하여 밥맛이 더 좋답니다',\n",
       "  '  여기서 병원가려면 신랑이 있어야해서 글 써요   아 그리구 왜 모기물린자국에 두드러기가 올라올까요',\n",
       "  '  아이들의 인성교육에 상당히 도움을 되는것을 저는 지금까지 서울 경기지역 약25년간 해오면서피부로 느껴왔습니다',\n",
       "  '왜 그런걸까요',\n",
       "  '     3단계 등업 시 질문글을 포함되지 않으며   질문에 대한 답변글은 포함됩니다',\n",
       "  '  4    15 900원 10    34 900원  20    63 900원 에 판매되고 있네요',\n",
       "  '  좋은방법 없을까요',\n",
       "  '  리뷰를 써주세요',\n",
       "  '고하니 말그대로 건강 기능성 약이되는쌀이랍니다',\n",
       "  '수강비  35000원 입니다',\n",
       "  '    송편 만들때 위생복과 마우스가드 침 방지  착용하고 만들고 있습니다',\n",
       "  '     한줄 게시글은 무통보 삭제됩니다',\n",
       "  '  직접 연락 주시면 공급에 관한 부분 상세히 설명드리겠습니다',\n",
       "  '고해서요',\n",
       "  '    밤을 밥으로 잘못 읽은 모양입니다',\n",
       "  '비가와도 바람이 불어도 한달에 10 12일정도 논에 나가서 피 풀 뽑으면서 농사지었어',\n",
       "  '주시면 감사하겠습니다',\n",
       "  ' 작년까지만해도 농협에서 전량 수거해 갔는데 올해는 전량 수거가 안되어 개인 판매하게 되었습니다',\n",
       "  ' 선거광고 안내       음소거00 00   00 05 화질 선택 옵션720      270        480        720       화질  전체화면    00 00  00 01  00 02  00 03 광고정보 더보기초 후     초 후 재생    광고 후 계속됩니다',\n",
       "  '  유기농쌀에 야채로만 맛을 내고 설탕  소금  밀가루  기름 무첨가로성장에 꼭 필요한 영양은 쏙 집어넣은  갓 도정한 100  유기농 쌀로 만든 쌀과자  요미요미 쌀과자 라고 하네요',\n",
       "  '  거의 사용되지 않았습니다',\n",
       "  '지난 5월 24일 모내기를 하였습니다',\n",
       "  '     저희는 압력밭솝에 매번 밥을 해먹어요',\n",
       "  '유가 증권인 상품권과 물물 교환을 요구하는 것은 당연히 판매 행위입니다',\n",
       "  '  찹쌀 품종은 동진찰 입니다',\n",
       "  '   1  생산자   이호은  시아버님 2  판매자   이영선  며느리 3  생산지   김포시 하성면 하사리4  생산자연락처   010 3015 2190 진순옥 시어머님     판매자연락처   010 8787 7683 이영선 궁금하신건 전화나 문자 주세요',\n",
       "  '   농협 진순옥 시어머님계좌 입니다',\n",
       "  ' 양식에 맞게 기입이 되지 않거나 성의 없는 게시글은 무통보 삭제하겠습니다',\n",
       "  '  가격과 상관없이 안전하고 믿을 수 있는 곳으로 선택했는데요',\n",
       "  '  기존 떡집들의 대부분이 싸래기나 절미 같은거 이용하는 곳이 많지만  저희는 농사를 직접 지어서 신동진 쌀 사용하고 있습니다',\n",
       "  '  모시개떡  멥쌀 국산 2015년 햅쌀  67   모싯잎 국산 2015년  25   설탕 2   천일염 1  유통기한  찐개떡은 1일  생개떡은 6개월입니다',\n",
       "  '    주 리치통상 배민수 대리 입니다',\n",
       "  '         에서는 10  의 같은 농협 강화군 농협 섬쌀이 34 900원에 판매되고 있네요',\n",
       "  '고 하고요',\n",
       "  ' 종류가 너무 많네요',\n",
       "  '    농약을 주시지 않았어요',\n",
       "  '   쌀은 조금 불려서 불을 켜는데 흑미쌀밥은     오래불리면 안된다고 해요',\n",
       "  ' 백미 5키로 15000원10키로 28000원20키로 52000원저희는 마트에서 흔히파는 혼합미 일반미가 아닌 신동진미만 취급합니다',\n",
       "  ' 특전으로 홀로그램 포스터 카드가 랜덤으로 들어있습니다',\n",
       "  '       타인의 사진을 이용한 질문은 금지합니다',\n",
       "  '  참고사항       선물용으로도 좋구요',\n",
       "  '  적이 자신에게 측면 또는 후면을 보이고 있다',\n",
       "  ' 감사드립니다',\n",
       "  '기계가 벨수 없어서  기계가 못들어가는곳은 다 손으로 베었구요',\n",
       "  '  참새방앗간 1급 지도자 정정희입니다',\n",
       "  ' 2발모두    즉 고폭탄을 사용했습니다',\n",
       "  ' 혹 이 곳만 비싸게 파는 게 아니냐구요',\n",
       "  ' 7년간 유기재배하고 인증은 무농약쌀입니다',\n",
       "  '    백미 와 현미는 삼광 품종입니다',\n",
       "  '  2  입금했다',\n",
       "  '  쌀도 소량의유기질비료와 미생물관리로 정성스럽게 기른 농산물입니다',\n",
       "  '  상품권 간의 교환은 인정됩니다',\n",
       "  ' 아무리 전면장갑이 두꺼워도 모든전차는 후면이 취약합니다',\n",
       "  '  제안서가 필요하시다면 제안서 송부 드리겠습니다',\n",
       "  '방충망은 쳐놨었지만 워낙에 들어올 놈들은맘 먹고 들어오는지라 영 찜찜하네요',\n",
       "  ' 하늘이 가을처럼 높고 푸르네요',\n",
       "  '     리뷰 작성시 멤버공개가 아닌  전체공개 로 올려주세요',\n",
       "  '     혹시나 김포쌀이나 맛있는 밥을 드시고 싶으신분이 있으시면 연락 주시면 주문과 동시에 도정하여 그날 택배로 배송하여 드리겠습니다',\n",
       "  ' 자신이 보다 높은티어와 1 1로 붙었을때  절대 정면전은 하지마시고 끊임없이 적전차 주위로 돌아다니세요',\n",
       "  '등의 질문금지2  질문자에게 지적질  질타등의 덧글작성금지 매너있는 검색유도 당부 3  질문글은 1일 최대 3개로 한정  질문글 초과시 폭탄성 질문글작성으로 인한 7일간 활동정지 됩니다',\n",
       "  ' 햅쌀이구요',\n",
       "  ' 죄송해요',\n",
       "  '  판매 상품 사진 옆에 줄자 종이컵 모나미볼펜 소주잔 1만원권 지폐 500원 동전 비타500병등으로   크기 비교를 쉽게 할수 있게 비교 물건을 올려주세요',\n",
       "  '용  손가락으로 잡고 먹을 수 있는 시기가 12개월이라고 써있더라',\n",
       "  ' 쌀가루 6그램에 물 150 넣으라는 분도 계시고 또 어떤분은 쌀가루 15그램에 물 150넣으라는 분도 계시고   어떤게 맞는건지요 전 일주일치를 만들어 놓을려고 하는데요',\n",
       "  '  다이어트 탈모땜에 고민되시면 검정콩을 볶아 드셔도 좋고 녹미나 현미밥 하실때 넣어드시면 더욱 좋답니다',\n",
       "  ' 덧글주세요',\n",
       "  '  덧글주세요',\n",
       "  '   먹거리인 관계로 주문하시고 선입금 부탁드립니다',\n",
       "  '   힘든일 하나도 없습니다',\n",
       "  '  비공개시 당첨불가합니다',\n",
       "  '     혹  주문량이 대량이면서 세금계산서가 필요하시면 아버님이 정미소를 하셔서 이것도 가능해요',\n",
       "  '  농협이나 정미소에서 저가로 나오는 쌀과는 천지차이라는거   신동진쌀은 일반 혼합미보다 가격이 더 비싸다는것도 아시죠',\n",
       "  ' 좋은 토질과 최고의 기후 깨끗한 환경을 자랑하는 이천땅에서 직접 농사 지은 믿을 수 있는 이천쌀 저렴한 가격으로 판매합니다',\n",
       "  '고 정신없이 보내면서 간식거리를 뭐로 줄까 검색하고 고민하다가 발견한 매일유업에서 나온 맘마밀 요미요미  매일유업에서 나온 건강한 유아간식으로 요미요미 쌀과자가 있더라',\n",
       "  '    님의 감사한 후기입니다',\n",
       "  ' 5  여행질답게시판에서 답글로 답변을 받고 질문 내용을 삭제한 경우 카페활동의사 없음으로     간주하여 재가입불가 강퇴처리됩니다',\n",
       "  '필요하신분 드릴께요',\n",
       "  '  아이들이 너무 좋아하는 색색 김밥이나 색색 도시락은모두 저희 쌀로 만든 것 아시죠',\n",
       "  '     도와주세요',\n",
       "  '  아침에 어른수저로 한숟갈 먹이고  언제부터 양을 얼마씩늘리나요   소고기나 야채 과일은 언제부터 먹이나요    질문이 많죠',\n",
       "  ' 잘먹겠습니다',\n",
       "  ' 수도권 음식점은 별도상담 가능합니다',\n",
       "  '   먹어도 될까요',\n",
       "  '  부엌의 식기류  세탁기 등 사용가능하구요',\n",
       "  '쭈니네에는 다이어트시 도움 주는 현미랑 녹미를 판답니다',\n",
       "  '   1키로 5000원  택배비 2000원   30000원이상무배입니다',\n",
       "  ' 선거광고 안내       음소거00 00   00 03 화질 선택 옵션720      270        480        720       화질  전체화면    00 00  00 01 광고정보 더보기초 후     초 후 재생    광고 후 계속됩니다',\n",
       "  '핸드메이드 제품에 대하여 고민이 많았는데요',\n",
       "  ' 배달해 드립니다',\n",
       "  '  1 1주세요',\n",
       "  '  필요하신분 가져가세요',\n",
       "  '        별립법  공립법 두가지 다 배우세요',\n",
       "  '   아 쌀가루도 체에 걸러야하니요   다들 건강조심 용 쌀 푸대 끝을 가위로 잘라서 쌀독에 부어놓는 다는 걸까먹고 하루종일 쌀을 열어뒀는데 혹시 벌레가 들어가거나 생기진 않았을까요',\n",
       "  '  국산 참깨는 동네 아낙들이 농사 진것을 이번에 전부 구입해 사용합니다',\n",
       "  ' 완모구요',\n",
       "  '  맛있다',\n",
       "  '  타 까페에서 제일 인기좋았던 상품이였구요',\n",
       "  '   밥맛을 중요시하는 한정식이나 기사식당 또는 바른먹거리로도 안심이니 어린이집도 주문 가능하니 참고하세요',\n",
       "  '      요미요미 쌀과자 빨강 자색고구마  초록  브로콜리   노랑  단호박 요미요미 고소한 치즈볼 12개월부터  이렇게 체험으로 받게 되었어',\n",
       "  ' 부탁드려요',\n",
       "  ' 으뜸농산입니다',\n",
       "  ' 241072 52 012544입니다',\n",
       "  ' 언제나 불보다 물이 부족한 밥입니다',\n",
       "  '   쌀종은 아끼바리 라 들었습니다',\n",
       "  '남을 돕고 있다',\n",
       "  '  임금님표 이천쌀이고 등급은 특 이예요',\n",
       "  '  그래야 답변글 삭제방지 보호됩니다',\n",
       "  '고 할 수 있는데 생후 2 3개월 아가들은 이유식을 할 수 있는 신체적 준비가전혀 되어있지 않았지만그당시엔 살찐 아기가 건강하다는 믿음때문에아기가 삼킬 수 있는 쌀미음 형태의 죽으로이유식을 아주 이른 시기에 시작하게 된다  1990년대에 들어서평균 4개월에 이유식을 시작하도록 바꼈지만여전히 아기에겐 이르기 때문에쌀미음을 먹이도록 권고되곤 했다',\n",
       "  ' 10분후 완성된 반죽이에요',\n",
       "  ' 속이 시커멓게 탄 사내에게 고독이란 밥으로 더럽힐 수 없는 쌀의 언어입니다',\n",
       "  '  참새방앗간 1급지도자 퓨전 떡 강사 최봉선입니다',\n",
       "  '   덧글로 부탁드립니다',\n",
       "  '  다들 어떻게 하시는지 궁금해요',\n",
       "  '  판매처는 관계 없으니 관심 있으신 분들 연락 부탁드립니다',\n",
       "  ' 꽃이 너무 예뻐 사진투척해드려요',\n",
       "  ' 3  과천문화원 줌마영어 매주 수요일 10시 12시  회원이 아닌분은 매월4만원을 냅니다',\n",
       "  '    계좌   401190 02 021081 우체국  문명진 010 9448 2767    대한통운 택배를 이용합니다',\n",
       "  ' 2  과천문화원에 줌마영어 회원분은 매월 1 만원을 냅니다',\n",
       "  ' 고물 전기밥통 가득 살이 타는 밤입니다',\n",
       "  '   10월 7일 도정  표기 보이시죠',\n",
       "  ' 중형전차는 물론이고 관통력이 높은 9 10티어 전에서 아주 유용합니다',\n",
       "  '   녹미는 흔히 녹색쌀이라고 불리는데 이쌀의 상분의 숙변을 제거해서 변비예방에 좋으며 당분의 흡수율을 느리고 맞춰져 다이어트시 가장 좋은쌀이란거 모르셨죠',\n",
       "  '  오셔서 직접 만들어가시는 거예요',\n",
       "  ' 챗주세요',\n",
       "  '   아래 사진  분위기 정도 나올 것으로 예상됩니다',\n",
       "  '  작년쌀은 10명에서 15명 정도 가능하실것 같아요',\n",
       "  ' 10   두개 이렇케 시키는 분들은  연락먼저 한번주세요',\n",
       "  '       안녕하세요',\n",
       "  '면 조준시 원래전차색이 나타나는 부분에 꼭 고폭탄을 쏘세요',\n",
       "  '  아직 농본기가 아니라서 직접 가져다 드릴수 있습니다',\n",
       "  ' 아시는분 도와주세요',\n",
       "  ' 으뜸농산 잘 모르시는분도 계실거 같아서 후기 모아봤어요',\n",
       "  '양념은 살짝 매콤한데 맛있어요',\n",
       "  '     포장지는 인터넷상의 농수산물 포장지를 이용합니다',\n",
       "  ' 흙애서는 국내산 쌀과 잡곡  유기농과 무농약 제품과 미숫가루  선식 등의 가공품  슈퍼푸드 등을 판매하는 믿을 수 있는 농산물쇼핑몰입니다',\n",
       "  ' 그냥 쉬었다',\n",
       "  '     게시물의 이동 삭제 강퇴에 대한 내용 꼭 확인하셔서  규정위반으로 인한 카페활동제약 등 불편함이 없으시길 바랍니다',\n",
       "  '  발견되는 경우 강퇴  삭제 처리됩니다',\n",
       "  '쌀봉투를 숨쉬는봉투를 사용하고있어 쌀 보관하시는데 생기는어려움이 없답니다',\n",
       "  '  내년 메밀농사를 기다리셔야 합니다',\n",
       "  '   반반 시켰는데  후라이드는 살짝 짜더라',\n",
       "  '    5만원 이상 무료 배송입니다',\n",
       "  ' 저의 엄마가 직접 농사 지으신 철원 오대쌀 판매해요',\n",
       "  '   이유식 중기이구요',\n",
       "  '  신고내용 확인후 조치하도록 하겠습니다',\n",
       "  ' 부탁드립니다',\n",
       "  '그이하는 3천원 택배비가 있으세요',\n",
       "  '  별이네개 입니다',\n",
       "  '괜찮을까요',\n",
       "  '   25개 1       1만원생 모시개떡 찌지 않은 냉동 생개떡  냉동실에 넣어뒀다가 먹고 싶을때 쪄 먹으면 좋아요   30개 1       1만원 원재료명흰가래떡  멥쌀 국산 2015년 햅쌀  99   천일염 1   유통기한  1일  택배 받으시는 그 날 바로 드시고 장기 보관시 냉동보관 모싯잎 가래떡  멥살 국산 2015년 햅쌀   모싯잎 국산 2015년  20   천일염 1   유통기한  1일  택배 받으시는 그 날 바로 드시고 장기 보관시 냉동보관 흰떡국떡  멥쌀 국산 2015년 햅쌀  99   천일염 1   유통기한  3일  주정처리를 하지 않았기 때문에 유통기한이 짧습니다',\n",
       "  '      클릭   산사모 규정을 위반하여 글을 작성하면 글삭제  활동정지 및 강퇴 될 수 있습니다',\n",
       "  '  쌀 20  에 4만원 찹쌀 20  에 5만원택배비 5천원입니다',\n",
       "  '  한편  위러브유는 지난해 4 5월 세월호 침몰사고 피해자 가족들을 위해 약 20일 동안 약 1만2천인분의 무료급식 자원봉사를 실시해 그들의 고통을 위로하기도 했으며 슈퍼태풍 하이옌의 피해로 초토화된 필리핀에는 초등학교  고등학교 건물 2개 동을 건립해 학생들에게 꿈과 희망을 심어준 바 있다',\n",
       "  '면 처녀가 아니었으면 좋겠습니다',\n",
       "  '   체험이벤트가 있어서 신청했는데 당첨이 되었지뭐예요',\n",
       "  '   대신올려주는거라 댓글은 사양합니다',\n",
       "  '         유식책보면서 하고있어요',\n",
       "  '   게시물 등록전 가이드라인 필독해주세요',\n",
       "  '       저희 시부모님쌀은  주문 받으신후에 도정해서 보내드립니다',\n",
       "  '  필요하신분들 연락주세요',\n",
       "  '필요하신분 계실까요',\n",
       "  ' 달은  아무래도 몰락한 공산주의자들을 위한 변기통 같습니다',\n",
       "  ' 10    25 000원20    49 000원 무지 저렴한 가격이에요',\n",
       "  '      체험으로 받은 과자 다 먹으면 또 사줘야겠어요',\n",
       "  '    윤기가 좌르르르    합니다',\n",
       "  '      감사합니다',\n",
       "  '                                                             2            3                0   0                   0                    0                                                                              0 0 도움말라이센스                        4 17 48                 2020 2 12                 ',\n",
       "  ' 문득 살이 운다는 말을 떠올렸습니다',\n",
       "  '  100 쌀가루로 만든 시트에 동물성생크림으로 아이싱하는 건강케익이예요',\n",
       "  '   요맘떼쯤이면 창고가 텅비어서 새로 농사 지을 준비도하고 해야하지만 저희 형님네 창고엔 작년에 농사지은 벼들이 저렇게 창고가득 자리잡고 있어요',\n",
       "  '는 생각 그리고 나보다 어렵게 살아가는 사람을 위해서 작은 쌀 이나마그분들이 고마워 하는 모습을 보면서 저의 존재감을 확인하는 계기가 되더군요그래서 목동지역을 비롯한 서울 경기지역에 25년째 하고 있습니다',\n",
       "  '  괜찮을까요',\n",
       "  ' 친환경 무농약 기능성 컬러쌀을판매하는  주 리치통상 배민수 대리 입니다',\n",
       "  '   자주하는 질문 게시판 확인 후 작성해주세요',\n",
       "  '  판매 불가한 상품  새상품 등을 상품권과 교환 요구 하신다면 판매 행위로 간주하여 무통보 삭제  지속적인 위반의 경우에는 활동정지 조치를 하게 됩니다',\n",
       "  '    아내가 없다는 게 얼마나 다행인 줄 모르겠습니다',\n",
       "  '  하단의 내용을 참고 하셔서 저희 흙애서 제품을 체험 해보시길 바랍니다',\n",
       "  '    든찬솔 맘이 적극추천하는 상품입니다',\n",
       "  '  이날 위러브유는 설을 맞아 화성시뿐 아니라 경기도  인천  울산  충청도  전라도 등 전국 각지에서 독거노인가정  저소득가정  장애인복지시설 등 사회적 사각지대에 놓인 이들에게 쌀  떡  식료품 등을 지원하며 어머니의 사랑을 전했다',\n",
       "  ' 죠',\n",
       "  '  흑미의 안토시안 색소는 물에 잘녹기때문에 오래불리지 않는게 좋다고 해요',\n",
       "  ' 그리고 줌마회원 여러분들도 본인이 매월 내는 성금이 좋은일에 쓰여지면서동시에 뇌건강을 위해서 영어도 배운다고 하니 그분들도 역시 엄청 흡족해 하시더군요그러기에 저도 당연히 같이 동등하게 매월 똑 같이 성금을 내서 기부의 바이러스를 과천지역에도퍼트리고자 합니다',\n",
       "  '      매일아이 이벤트에 당첨되어 요미요미 제품을 제공받고 쓴 리뷰예요',\n",
       "  '       택배비는 4000원 있어요',\n",
       "  '    올해는 쌀가격이 내려 작년에 비해 저렴해졌네요',\n",
       "  '          현재 판매가 입니다',\n",
       "  '  뭐가 문제일까요',\n",
       "  '   청암뜰 소개 떡은 주재료는 뭐니뭐니해도 쌀이지요    저희집은 대대로 농사짓는 집입니다',\n",
       "  '   미드  한국드라마도 줌마에 맞는 주제를 가지고 영어말하기 연습을 합니다',\n",
       "  ' 쌀가루로 쌀미음 만들때요 미리 일주일치를 만들어 놓을려고 하는데요',\n",
       "  '    수업진행 방법       쌀시트 만들기 흑미  백미 두가지중 선택하세요',\n",
       "  '  문자 주문은 누락될 수 있으니 가능한 쪽지 주문 부탁드립니다',\n",
       "  '  서울 강서구 화곡동  방화동  도봉구 방학동  인천시 계양구  김포지역은 10포대이상 주문하시면 직접 배달도 가능합니다',\n",
       "  '  5개씩 소포장되어 있기 때문에 냉동시켰다가 쪄먹기도 좋아요  찐 모시개떡 찐개떡  하루이틀은 그냥 먹어도 좋지만 오랫동안 두고 먹을땐 냉동보관해야 해요',\n",
       "  '   이 제품을 써보니 이런 부분이 나중에 이렇게 개선되면 좋겠어요',\n",
       "  '  처음 주는 간식이기에 신중에 신중을 기하여 선택한 곳은  맘스 쌀과자  였습니다',\n",
       "  '    중복 질문이 너무 많습니다',\n",
       "  '밥맛좋기로 유명한 신동진미만 취급합니다',\n",
       "  '  인터넷최저가는 34 800원부터인데 25 000원에 올리면 사실분 계실까요',\n",
       "  '  제 지인분의 판매가 입니다',\n",
       "  '고 잘먹더라',\n",
       "  '  도정일 10월 13일로 표시되어 있어요',\n",
       "  '   이 제품을 써보니 이랬어요',\n",
       "  ' 4  회비관리는 반드시 이 지역주민중에 한분이 총무가 되어서 전체 회비관리를 합니다',\n",
       "  '       해외 생활 이민      게시판은  해외맘들 카테고리 제일 상단에 위치해 있습니다',\n",
       "  '  만원입니다',\n",
       "  '   맘마밀 유기농쌀과자는 유아기 뼈와 치아의 구성성분인 칼슘과아이 면역에 도움이 되는 비타민 를 함유하고 있더라',\n",
       "  '현미쌀이나 쌀눈쌀은 연락주시면 다음 도정때 맞춰드리도록하겠습니다',\n",
       "  '  블루베리즙과 통곡물  가루곡물의 제품도 새로이 판매중입니다',\n",
       "  '  명절 보내러 시골 왔는데 쌀포대가 저를 반겨주네요',\n",
       "  '  저희는 청결을 위해 외부가 아닌 저온저장고에서 건조합니다',\n",
       "  '  제목 그대로에요',\n",
       "  ' 하얗게 옷도 좀 입었어',\n",
       "  '   쌀가루를 이용해 빵을 만들 때에는 밀가루와 달리 1차 발효 과정과 가스빼기의 과정을 거치지 않아도 되서 시간 단축과 건강을 동시에 챙길 수 있다',\n",
       "  '  덧글순으로 택배발송 하고  품절시 전화드리겠습니다',\n",
       "  '  이유식 시작하는 아기들한테 좋을거같아요',\n",
       "  '                               7583888순수 유아용품 후기는 꼭 아래 부분이 포함되게 써주세요',\n",
       "  '많은 인원을 뽑지않으니 서둘러서 전화로 예약하세요',\n",
       "  '  쭈니네 쌀은 보관용이 하도록5키로봉투만사용하고 있어요',\n",
       "  ' 윤기 좔좔좔   철원 오대쌀 맛있는것 아시죠',\n",
       "  ' 인터넷 서치를 했는데   약간씩 틀려서요',\n",
       "  '    사락사락 밤을 함께 지새울 여자가 있다',\n",
       "  '  위러브유 관계자는  소외되고 힘들게 살아가는 이웃들이 즐겁고 행복한 설을 보내기를 바라는 마음에 위러브유 회원들이 고향처럼 포근한 어머니의 마음으로 손길을 모았다 라면서  주변 어려운 이웃들을 보살피는 손길을 멈추지 않겠다 고 밝혔다',\n",
       "  '  카톡문의    34321323전화 문의 010 3432 1323  저희는 햅쌀이구요',\n",
       "  ' 선거광고 안내       음소거00 00   00 06 화질 선택 옵션1080      270        480        720           1080       화질  전체화면    00 00  00 01  00 02  00 03 광고정보 더보기초 후     초 후 재생    광고 후 계속됩니다',\n",
       "  ' 인테리어 소품으로도 사용가능합니다',\n",
       "  '  쌀가루 반죽을 1 2차에 걸쳐 발효를 시키면 반죽이 처져 구웠을 때 잘 부풀지 않고 식감도 질겨지므로 시간을 꼭 기억해주세요',\n",
       "  '  4  답변글이 삭제되는것을 원치 않으시면 답변글로만 작성해주세요',\n",
       "  ' 깨끗한 환경과 옥토의 기름진 평야에서 자란 믿을 수 있는 강화군 농협 강화섬쌀 햅쌀  저렴한 가에 들여가세요',\n",
       "  '고 했어',\n",
       "  '  올해 품종은 호품쌀입니다',\n",
       "  '  윤기가 자르르  침이 고일정도지요  요즘같이 계절이 바뀌어서 입맛 없는분들께 딱입니다',\n",
       "  '  물론 체력이 아주낮게 남은 전차 상대에도 유리하구요',\n",
       "  ' 홍미붉은약쌀   귀해서 임금님 수라상에 올라갔다고 기록되어있으며 몸에 좋은 가바성분이 많아 가바현미라고도 불려지곤해요',\n",
       "  ' 풍동이에요',\n",
       "  ' 직접드셔보면 알겠지만 밥맛이 정말 맛있어용    이건 정말 이가격에 드시기 힘드세요',\n",
       "  ' 상태 매우 양호하고요',\n",
       "  '  댓글주세요',\n",
       "  '고 하는데요',\n",
       "  '  오래뜰입니다',\n",
       "  '벼 베는중 논두렁 모서리쪽으로는 일일이 낫으로 베었어',\n",
       "  ' 조언 부탁드려요',\n",
       "  '223동 오셔서 가져가세요',\n",
       "  '  참고하여주세요',\n",
       "  '  이게 뭘까요',\n",
       "  '택배비 별도입니다',\n",
       "  ' 옛날에는 하루종일 걸리던 모내기도 이제는 기계로 하니깐 한나절도 걸리지 않습니다',\n",
       "  '     네이버 블로그에 카페에 올린 리뷰를 스크랩만 해주셔도 됩니다',\n",
       "  '  컵쌓기도 할 수 있고 손가락으로 집는 연습도 할 수 있고 흔들어서 청각자극도 할 수 있다',\n",
       "  '고들 하세요',\n",
       "  '  글작성 가이드라인 꼭 읽어주세요',\n",
       "  ' 집이 골목 으로 들어가는 곳이 아니라서 밤늦게 다니셔도 안전하고 동네 자체도 위험하지 않는 곳입니다',\n",
       "  '  당연히 인터넷 사용 가능하구요',\n",
       "  '   미리 감사합니다',\n",
       "  ' 밤을 밥이라 썼다 지우고  쌀을 살이라고 썼다가 지우는 사내의 입이 문밖 나뭇가지에 걸립니다',\n",
       "  ' 두개 있어요',\n",
       "  ' 엄청난 딜량을 넣습니다',\n",
       "  ' 의사쌤이 저체중이라 이유식빨리 하는게 좋다하여 시작할려하는데요',\n",
       "  '왜냐면 기존의 과천문화원 줌마멤버도 같이 하기때문에 5분이상은 받지 못합니다',\n",
       "  '   동물성생크림 뚜 주   파 바게  처럼 싼 식물성 휘핑크림 아님니다',\n",
       "  '    150일부터 이유식을 시작하고 170일쯤부터 쌀과자 간식을 시작했습니다',\n",
       "  '  순수하게 구입해서 사용한 글이 아닌 타 카페의 이벤트나 체험단 글은 여러 회원님들의 반대의견으로 2009년 5월 27일이후 부터는 게시불가합니다',\n",
       "  '  반드시 전체공개여야 합니다',\n",
       "  ' 20키로까지는 4000원 이라고 생각하시면 되요',\n",
       "  ' 문의 주세요'])"
      ]
     },
     "metadata": {},
     "execution_count": 32
    }
   ],
   "metadata": {}
  },
  {
   "cell_type": "code",
   "execution_count": 33,
   "source": [
    "# 중복제거\r\n",
    "data2 = sentence_Data\r\n",
    "for i in idx_sentence:\r\n",
    "    data2 = data2[sentence_Data['content'] != i] # 중복 완료해서 저장"
   ],
   "outputs": [],
   "metadata": {}
  },
  {
   "cell_type": "code",
   "execution_count": 34,
   "source": [
    "len(sentence_Data), len(data2) #중복제거 전 데이터, 중복제거완료 데이터"
   ],
   "outputs": [
    {
     "output_type": "execute_result",
     "data": {
      "text/plain": [
       "(88910, 36354)"
      ]
     },
     "metadata": {},
     "execution_count": 34
    }
   ],
   "metadata": {}
  },
  {
   "cell_type": "code",
   "execution_count": 35,
   "source": [
    "data2.isnull().sum()"
   ],
   "outputs": [
    {
     "output_type": "execute_result",
     "data": {
      "text/plain": [
       "content    0\n",
       "dtype: int64"
      ]
     },
     "metadata": {},
     "execution_count": 35
    }
   ],
   "metadata": {}
  },
  {
   "cell_type": "code",
   "execution_count": 36,
   "source": [
    "data2"
   ],
   "outputs": [
    {
     "output_type": "execute_result",
     "data": {
      "text/plain": [
       "                                                 content\n",
       "0                                  세종시로 올해 1월 10일 이사했습니다\n",
       "2                          어제 쌀이 똑 떨어졌는데 마침 까페에 쌀공구가 떴네요\n",
       "4                        내일아침 밥을 하기위해 저녁에 직접 방문드리기로 했습니다\n",
       "6                                 세종청사에서 출발해 15분 걸린듯 싶어요\n",
       "8       깜깜한 밤이라 아주 약간 길을 헤맸는데 큰길옆에 소나무가 있는집 이라 다음번엔 금...\n",
       "...                                                  ...\n",
       "88899        아이들 밑반찬으로 짱인   멸치볶음  멸치에 남아 있는 비린내 잡기 딱 좋더라\n",
       "88903  식용유 미림맛술 꿀 이렇게 3가지 양념만 넣고 조리 했는데 맛이 와  비린맛 잘 잡...\n",
       "88905  멸치도 생선이니     다음에는 캠핑장에가서 고기 구워먹을때 사용해 봐야 겠여요가능...\n",
       "88907                                       큰봉지로 한봉지정도되요\n",
       "88909                                                   \n",
       "\n",
       "[36354 rows x 1 columns]"
      ],
      "text/html": [
       "<div>\n",
       "<style scoped>\n",
       "    .dataframe tbody tr th:only-of-type {\n",
       "        vertical-align: middle;\n",
       "    }\n",
       "\n",
       "    .dataframe tbody tr th {\n",
       "        vertical-align: top;\n",
       "    }\n",
       "\n",
       "    .dataframe thead th {\n",
       "        text-align: right;\n",
       "    }\n",
       "</style>\n",
       "<table border=\"1\" class=\"dataframe\">\n",
       "  <thead>\n",
       "    <tr style=\"text-align: right;\">\n",
       "      <th></th>\n",
       "      <th>content</th>\n",
       "    </tr>\n",
       "  </thead>\n",
       "  <tbody>\n",
       "    <tr>\n",
       "      <th>0</th>\n",
       "      <td>세종시로 올해 1월 10일 이사했습니다</td>\n",
       "    </tr>\n",
       "    <tr>\n",
       "      <th>2</th>\n",
       "      <td>어제 쌀이 똑 떨어졌는데 마침 까페에 쌀공구가 떴네요</td>\n",
       "    </tr>\n",
       "    <tr>\n",
       "      <th>4</th>\n",
       "      <td>내일아침 밥을 하기위해 저녁에 직접 방문드리기로 했습니다</td>\n",
       "    </tr>\n",
       "    <tr>\n",
       "      <th>6</th>\n",
       "      <td>세종청사에서 출발해 15분 걸린듯 싶어요</td>\n",
       "    </tr>\n",
       "    <tr>\n",
       "      <th>8</th>\n",
       "      <td>깜깜한 밤이라 아주 약간 길을 헤맸는데 큰길옆에 소나무가 있는집 이라 다음번엔 금...</td>\n",
       "    </tr>\n",
       "    <tr>\n",
       "      <th>...</th>\n",
       "      <td>...</td>\n",
       "    </tr>\n",
       "    <tr>\n",
       "      <th>88899</th>\n",
       "      <td>아이들 밑반찬으로 짱인   멸치볶음  멸치에 남아 있는 비린내 잡기 딱 좋더라</td>\n",
       "    </tr>\n",
       "    <tr>\n",
       "      <th>88903</th>\n",
       "      <td>식용유 미림맛술 꿀 이렇게 3가지 양념만 넣고 조리 했는데 맛이 와  비린맛 잘 잡...</td>\n",
       "    </tr>\n",
       "    <tr>\n",
       "      <th>88905</th>\n",
       "      <td>멸치도 생선이니     다음에는 캠핑장에가서 고기 구워먹을때 사용해 봐야 겠여요가능...</td>\n",
       "    </tr>\n",
       "    <tr>\n",
       "      <th>88907</th>\n",
       "      <td>큰봉지로 한봉지정도되요</td>\n",
       "    </tr>\n",
       "    <tr>\n",
       "      <th>88909</th>\n",
       "      <td></td>\n",
       "    </tr>\n",
       "  </tbody>\n",
       "</table>\n",
       "<p>36354 rows × 1 columns</p>\n",
       "</div>"
      ]
     },
     "metadata": {},
     "execution_count": 36
    }
   ],
   "metadata": {}
  },
  {
   "cell_type": "code",
   "execution_count": 37,
   "source": [
    "data_content = data2[['content']].dropna(axis=0)\r\n",
    "data_content.reset_index(drop=True, inplace=True)\r\n",
    "data_content"
   ],
   "outputs": [
    {
     "output_type": "execute_result",
     "data": {
      "text/plain": [
       "                                                 content\n",
       "0                                  세종시로 올해 1월 10일 이사했습니다\n",
       "1                          어제 쌀이 똑 떨어졌는데 마침 까페에 쌀공구가 떴네요\n",
       "2                        내일아침 밥을 하기위해 저녁에 직접 방문드리기로 했습니다\n",
       "3                                 세종청사에서 출발해 15분 걸린듯 싶어요\n",
       "4       깜깜한 밤이라 아주 약간 길을 헤맸는데 큰길옆에 소나무가 있는집 이라 다음번엔 금...\n",
       "...                                                  ...\n",
       "36349        아이들 밑반찬으로 짱인   멸치볶음  멸치에 남아 있는 비린내 잡기 딱 좋더라\n",
       "36350  식용유 미림맛술 꿀 이렇게 3가지 양념만 넣고 조리 했는데 맛이 와  비린맛 잘 잡...\n",
       "36351  멸치도 생선이니     다음에는 캠핑장에가서 고기 구워먹을때 사용해 봐야 겠여요가능...\n",
       "36352                                       큰봉지로 한봉지정도되요\n",
       "36353                                                   \n",
       "\n",
       "[36354 rows x 1 columns]"
      ],
      "text/html": [
       "<div>\n",
       "<style scoped>\n",
       "    .dataframe tbody tr th:only-of-type {\n",
       "        vertical-align: middle;\n",
       "    }\n",
       "\n",
       "    .dataframe tbody tr th {\n",
       "        vertical-align: top;\n",
       "    }\n",
       "\n",
       "    .dataframe thead th {\n",
       "        text-align: right;\n",
       "    }\n",
       "</style>\n",
       "<table border=\"1\" class=\"dataframe\">\n",
       "  <thead>\n",
       "    <tr style=\"text-align: right;\">\n",
       "      <th></th>\n",
       "      <th>content</th>\n",
       "    </tr>\n",
       "  </thead>\n",
       "  <tbody>\n",
       "    <tr>\n",
       "      <th>0</th>\n",
       "      <td>세종시로 올해 1월 10일 이사했습니다</td>\n",
       "    </tr>\n",
       "    <tr>\n",
       "      <th>1</th>\n",
       "      <td>어제 쌀이 똑 떨어졌는데 마침 까페에 쌀공구가 떴네요</td>\n",
       "    </tr>\n",
       "    <tr>\n",
       "      <th>2</th>\n",
       "      <td>내일아침 밥을 하기위해 저녁에 직접 방문드리기로 했습니다</td>\n",
       "    </tr>\n",
       "    <tr>\n",
       "      <th>3</th>\n",
       "      <td>세종청사에서 출발해 15분 걸린듯 싶어요</td>\n",
       "    </tr>\n",
       "    <tr>\n",
       "      <th>4</th>\n",
       "      <td>깜깜한 밤이라 아주 약간 길을 헤맸는데 큰길옆에 소나무가 있는집 이라 다음번엔 금...</td>\n",
       "    </tr>\n",
       "    <tr>\n",
       "      <th>...</th>\n",
       "      <td>...</td>\n",
       "    </tr>\n",
       "    <tr>\n",
       "      <th>36349</th>\n",
       "      <td>아이들 밑반찬으로 짱인   멸치볶음  멸치에 남아 있는 비린내 잡기 딱 좋더라</td>\n",
       "    </tr>\n",
       "    <tr>\n",
       "      <th>36350</th>\n",
       "      <td>식용유 미림맛술 꿀 이렇게 3가지 양념만 넣고 조리 했는데 맛이 와  비린맛 잘 잡...</td>\n",
       "    </tr>\n",
       "    <tr>\n",
       "      <th>36351</th>\n",
       "      <td>멸치도 생선이니     다음에는 캠핑장에가서 고기 구워먹을때 사용해 봐야 겠여요가능...</td>\n",
       "    </tr>\n",
       "    <tr>\n",
       "      <th>36352</th>\n",
       "      <td>큰봉지로 한봉지정도되요</td>\n",
       "    </tr>\n",
       "    <tr>\n",
       "      <th>36353</th>\n",
       "      <td></td>\n",
       "    </tr>\n",
       "  </tbody>\n",
       "</table>\n",
       "<p>36354 rows × 1 columns</p>\n",
       "</div>"
      ]
     },
     "metadata": {},
     "execution_count": 37
    }
   ],
   "metadata": {}
  },
  {
   "cell_type": "code",
   "execution_count": 38,
   "source": [
    "# pred에 str이 아닌게 존재하네! nan임을 확인함 # 제거하고 데이터 다시 가져옴\r\n",
    "for i in range(len(data2)):\r\n",
    "    if type(data_content['content'][i]) != str :\r\n",
    "        print(i) # null없음 확인"
   ],
   "outputs": [],
   "metadata": {}
  },
  {
   "cell_type": "markdown",
   "source": [
    "## 03. train / test 셋 설정"
   ],
   "metadata": {}
  },
  {
   "cell_type": "code",
   "execution_count": 39,
   "source": [
    "all_train_x_df[0]"
   ],
   "outputs": [
    {
     "output_type": "execute_result",
     "data": {
      "text/plain": [
       "0          +@음침한 분위기+@기괴한 크리쳐들-@눈만 아픈 그래픽-@왜 넣었는지 모를 레터박...\n",
       "1          +@음침한 분위기+@기괴한 크리쳐들-@눈만 아픈 그래픽-@왜 넣었는지 모를 레터박...\n",
       "2          +@음침한 분위기+@기괴한 크리쳐들-@눈만 아픈 그래픽-@왜 넣었는지 모를 레터박...\n",
       "3          +@음침한 분위기+@기괴한 크리쳐들-@눈만 아픈 그래픽-@왜 넣었는지 모를 레터박...\n",
       "4          +@음침한 분위기+@기괴한 크리쳐들-@눈만 아픈 그래픽-@왜 넣었는지 모를 레터박...\n",
       "                                ...                        \n",
       "363612                      매번 재구매하고 있어요\\n찰지게 밥도 잘 되고 맛있습니다\n",
       "363613    곰곰에서 쌀도 나오다니 ㅎㅎㅎ 10킬로짜리 살 일이 없었는데 최근에 집에 있는 시간...\n",
       "363614                20kg 없어서 아쉬워요!!!\\n쌀 좋아요!! 곰곰쌀만 먹고있어요!\n",
       "363615    요즘 쌀 20 키로 에 비싼 것은 육만 원 가량 하고 저렴한 것은 사만원대 정도하는...\n",
       "363616    매일 그날 도정한 쌀 사다가 먹었는데..이번에 구매하려니 품절이라 곰곰 쌀을 구매해...\n",
       "Name: 0, Length: 363617, dtype: object"
      ]
     },
     "metadata": {},
     "execution_count": 39
    }
   ],
   "metadata": {}
  },
  {
   "cell_type": "code",
   "execution_count": 40,
   "source": [
    "# Train용 데이터셋과 Test용 데이터 셋 분리\r\n",
    "# 1. 예측력을 높이기 위해 수집된 데이터를 학습용과 테스트 용으로 분리하여 진행\r\n",
    "# 2. 보통 20~30%를 테스트용으로 분리해 두고 테스트\r\n",
    "\r\n",
    "from sklearn.model_selection import train_test_split\r\n",
    "# train_x, test_x, train_y, test_y = train_test_split(train_df[0], train_df[1] , test_size=0.2, random_state=0)  # 현대만 학습\r\n",
    "train_x, test_x, train_y, test_y = train_test_split(all_train_x_df[0], all_train_y_df[0] , test_size=0.2, random_state=0) # 현대 쿠팡학습\r\n",
    "\r\n",
    "print(len(train_x), len(train_y), len(test_x), len(test_y))"
   ],
   "outputs": [
    {
     "output_type": "stream",
     "name": "stdout",
     "text": [
      "290893 290893 72724 72724\n"
     ]
    }
   ],
   "metadata": {}
  },
  {
   "cell_type": "markdown",
   "source": [
    "## 04. 토큰화 및 TF-IDF 벡터화"
   ],
   "metadata": {}
  },
  {
   "cell_type": "code",
   "execution_count": 41,
   "source": [
    "from sklearn.feature_extraction.text import TfidfVectorizer\r\n",
    "tfv = TfidfVectorizer(tokenizer=okt.morphs, ngram_range=(1,2), min_df=3, max_df=0.9)\r\n",
    "tfv.fit(train_x)\r\n",
    "tfv_train_x = tfv.transform(train_x)\r\n",
    "print(tfv_train_x)"
   ],
   "outputs": [
    {
     "output_type": "stream",
     "name": "stdout",
     "text": [
      "  (0, 148569)\t0.47549836492869546\n",
      "  (0, 131056)\t0.4236714570780322\n",
      "  (0, 82234)\t0.2958985916358402\n",
      "  (0, 61807)\t0.4687309199118689\n",
      "  (0, 61752)\t0.27660664127719503\n",
      "  (0, 11956)\t0.36228504952231233\n",
      "  (0, 11642)\t0.28174005481645437\n",
      "  (1, 274307)\t0.08145756628760677\n",
      "  (1, 273064)\t0.20903522885535022\n",
      "  (1, 272493)\t0.08514052535169798\n",
      "  (1, 270011)\t0.21628201100834926\n",
      "  (1, 270010)\t0.2020164323997035\n",
      "  (1, 269913)\t0.16694685392740186\n",
      "  (1, 260953)\t0.139527533999439\n",
      "  (1, 260886)\t0.10005091061380157\n",
      "  (1, 253268)\t0.22502365763453194\n",
      "  (1, 253260)\t0.1333262115586509\n",
      "  (1, 248111)\t0.16402436846522514\n",
      "  (1, 248033)\t0.0930755117332171\n",
      "  (1, 242652)\t0.1881946337817182\n",
      "  (1, 242651)\t0.15587049379577164\n",
      "  (1, 203183)\t0.17766753546778244\n",
      "  (1, 200187)\t0.040631807130976916\n",
      "  (1, 194481)\t0.1338393835673231\n",
      "  (1, 193237)\t0.06019768758225192\n",
      "  :\t:\n",
      "  (290890, 33069)\t0.19244959995110983\n",
      "  (290890, 17890)\t0.27514216129565755\n",
      "  (290890, 8962)\t0.12715121731835666\n",
      "  (290891, 234730)\t0.3088098984879182\n",
      "  (290891, 234716)\t0.21762276012199336\n",
      "  (290891, 208073)\t0.44104629141517665\n",
      "  (290891, 208069)\t0.353586483693289\n",
      "  (290891, 77836)\t0.36504771908947475\n",
      "  (290891, 77235)\t0.19030484179813342\n",
      "  (290891, 35069)\t0.3846460388052219\n",
      "  (290891, 35029)\t0.19769895284657404\n",
      "  (290891, 32599)\t0.26841208300337527\n",
      "  (290891, 25691)\t0.309191201222672\n",
      "  (290891, 24887)\t0.1165078619061864\n",
      "  (290892, 280691)\t0.23988991026053905\n",
      "  (290892, 258624)\t0.3054321216559981\n",
      "  (290892, 249872)\t0.4001299111508658\n",
      "  (290892, 233486)\t0.12942531871988205\n",
      "  (290892, 215482)\t0.18951914539451292\n",
      "  (290892, 146846)\t0.2424777670148739\n",
      "  (290892, 58639)\t0.3940359654048204\n",
      "  (290892, 57430)\t0.26582549396227617\n",
      "  (290892, 55131)\t0.2936287358882711\n",
      "  (290892, 55127)\t0.2628371534475363\n",
      "  (290892, 12166)\t0.4431337022620067\n"
     ]
    }
   ],
   "metadata": {}
  },
  {
   "cell_type": "markdown",
   "source": [
    "## 05. 감성 분석 모델 구축"
   ],
   "metadata": {}
  },
  {
   "cell_type": "code",
   "execution_count": 42,
   "source": [
    "from sklearn.linear_model import LogisticRegression # 이진 분류 알고리즘\r\n",
    "from sklearn.model_selection import GridSearchCV # 하이퍼 파라미터 최적화\r\n",
    "\r\n",
    "clf = LogisticRegression(random_state=0)\r\n",
    "params = {'C': [3,5,8, 11, 13,]}\r\n",
    "grid_cv = GridSearchCV(clf, param_grid=params, cv=3, scoring='accuracy', verbose=1)\r\n",
    "grid_cv.fit(tfv_train_x, train_y)\r\n",
    "\r\n",
    "# 최적의 평가 파라미터는 grid_cv.best_estimator_에 저장됨\r\n",
    "print(grid_cv.best_params_, grid_cv.best_score_)# 가장 적합한 파라메터, 최고 정확도 확인"
   ],
   "outputs": [
    {
     "output_type": "stream",
     "name": "stdout",
     "text": [
      "Fitting 3 folds for each of 5 candidates, totalling 15 fits\n",
      "{'C': 3} 0.8673876584364476\n"
     ]
    }
   ],
   "metadata": {}
  },
  {
   "cell_type": "markdown",
   "source": [
    "## 06. 분석 모델 평가"
   ],
   "metadata": {}
  },
  {
   "cell_type": "code",
   "execution_count": 43,
   "source": [
    "tfv_test_x = tfv.transform(test_x)\r\n",
    "# test_predict = grid_cv.best_estimator_.score(tfv_test_x,test_y)\r\n",
    "test_predict = grid_cv.best_estimator_.predict(tfv_test_x)\r\n",
    "from sklearn.metrics import accuracy_score\r\n",
    "print('감성 분류 모델의 정확도 : ',round(accuracy_score(test_y, test_predict), 3))"
   ],
   "outputs": [
    {
     "output_type": "stream",
     "name": "stdout",
     "text": [
      "감성 분류 모델의 정확도 :  0.871\n"
     ]
    }
   ],
   "metadata": {}
  },
  {
   "cell_type": "markdown",
   "source": [
    "# 감성 평가 pred"
   ],
   "metadata": {}
  },
  {
   "cell_type": "markdown",
   "source": [
    "### - 예시 확인"
   ],
   "metadata": {}
  },
  {
   "cell_type": "code",
   "execution_count": 44,
   "source": [
    "import re\r\n",
    "input_text = '딱히 대단한 재미도 감동도 없는데 ~! 너무 과대 평과된 영화 중 하나'\r\n",
    "#입력 텍스트에 대한 전처리 수행\r\n",
    "input_text = re.compile(r'[ㄱ-ㅣ가-힣]+').findall(input_text)\r\n",
    "input_text = [\" \".join(input_text)]\r\n",
    "# 입력 텍스트의 피처 벡터화\r\n",
    "st_tfidf = tfv.transform(input_text)\r\n",
    "\r\n",
    "# 최적 감성 분석 모델에 적용하여 감성 분석 평가\r\n",
    "st_predict = grid_cv.best_estimator_.predict(st_tfidf)\r\n",
    "\r\n",
    "#예측 결과 출력\r\n",
    "if(st_predict == 0):\r\n",
    "    print(input_text)\r\n",
    "    print('예측 결과: ->> 부정 감성')\r\n",
    "else :\r\n",
    "    print(input_text)\r\n",
    "    print('예측 결과: ->> 긍정 감성')"
   ],
   "outputs": [
    {
     "output_type": "stream",
     "name": "stdout",
     "text": [
      "['딱히 대단한 재미도 감동도 없는데 너무 과대 평과된 영화 중 하나']\n",
      "예측 결과: ->> 부정 감성\n"
     ]
    }
   ],
   "metadata": {}
  },
  {
   "cell_type": "markdown",
   "source": [
    "### - 문서 단위 긍부정 평가"
   ],
   "metadata": {}
  },
  {
   "cell_type": "code",
   "execution_count": 45,
   "source": [
    "input_text_list = pred_df['content']"
   ],
   "outputs": [],
   "metadata": {}
  },
  {
   "cell_type": "code",
   "execution_count": 46,
   "source": [
    "input_text,st_tfidf,st_predict,result  = [],[],[],[]\r\n",
    "#입력 텍스트에 대한 전처리 수행\r\n",
    "for i in range(len(input_text_list)):\r\n",
    "    input_text_ex = ( re.compile(r'[ㄱ-ㅣ가-힣]+').findall(input_text_list[i]) )\r\n",
    "    input_text.append( [\" \".join(input_text_ex) ] )# 한문장 정리\r\n",
    "# 입력 텍스트의 피처 벡터화\r\n",
    "    st_tfidf.append(tfv.transform(input_text[i])  ) \r\n",
    "\r\n",
    "# 최적 감성 분석 모델에 적용하여 감성 분석 평가\r\n",
    "    st_predict.append (grid_cv.best_estimator_.predict(st_tfidf[i]) )\r\n",
    "\r\n",
    "# 결과 출력  \r\n",
    "    if(st_predict[i] == 0):\r\n",
    "        result.append('부정')\r\n",
    "    else :\r\n",
    "        result.append('긍정')"
   ],
   "outputs": [],
   "metadata": {}
  },
  {
   "cell_type": "code",
   "execution_count": 47,
   "source": [
    "result_df = pd.DataFrame({'sentence': input_text_list,\r\n",
    "                         'score':st_predict,\r\n",
    "                        'result':result })\r\n",
    "result_df"
   ],
   "outputs": [
    {
     "output_type": "execute_result",
     "data": {
      "text/plain": [
       "                                               sentence score result\n",
       "0     세종시로 올해 1월 10일 이사했습니다||-|| 어제 쌀이 똑 떨어졌는데 마침 까페...   [1]     긍정\n",
       "1     저희 큰아버지께서 쌀도매를 하세요||-||  빨간쌀 이예요||-|| 저도 작녁부터 ...   [1]     긍정\n",
       "2                                   제가 변비가 심해서 현미쌀100 를   [0]     부정\n",
       "3     그동안 계속 공구후기며 공구게시판에서 보던 쌀찐빵을 구입했어요||-|| 아기간식도 ...   [1]     긍정\n",
       "4     심심한 일요일 오후 당근쌀머핀 만들어 보았어요||-|| 당근이랑 우유는 휘리릭 갈아...   [0]     부정\n",
       "...                                                 ...   ...    ...\n",
       "9581  요리전용맛술 마트가면 보기는 했는데 저게 꼭 필요할까 하는 생각에 구매를 망설였는데...   [1]     긍정\n",
       "9582                         가능한가요     믹서기 청소가 귀찮아서       [0]     부정\n",
       "9583  담주부터 초기이유식 시작인데 아직 애가 못앉잖아요  다들 그냥 분유주듯 안아서 먹이...   [0]     부정\n",
       "9584               어뭉들어디서 사드시나요  아이간식사먹이는 사이트추천좀해주셔요      [1]     긍정\n",
       "9585  간혹 동물 사료용으로 쓰신다고 무료나눔하신던데   벌레가 막 나오거나 하지는 않는데...   [0]     부정\n",
       "\n",
       "[9586 rows x 3 columns]"
      ],
      "text/html": [
       "<div>\n",
       "<style scoped>\n",
       "    .dataframe tbody tr th:only-of-type {\n",
       "        vertical-align: middle;\n",
       "    }\n",
       "\n",
       "    .dataframe tbody tr th {\n",
       "        vertical-align: top;\n",
       "    }\n",
       "\n",
       "    .dataframe thead th {\n",
       "        text-align: right;\n",
       "    }\n",
       "</style>\n",
       "<table border=\"1\" class=\"dataframe\">\n",
       "  <thead>\n",
       "    <tr style=\"text-align: right;\">\n",
       "      <th></th>\n",
       "      <th>sentence</th>\n",
       "      <th>score</th>\n",
       "      <th>result</th>\n",
       "    </tr>\n",
       "  </thead>\n",
       "  <tbody>\n",
       "    <tr>\n",
       "      <th>0</th>\n",
       "      <td>세종시로 올해 1월 10일 이사했습니다||-|| 어제 쌀이 똑 떨어졌는데 마침 까페...</td>\n",
       "      <td>[1]</td>\n",
       "      <td>긍정</td>\n",
       "    </tr>\n",
       "    <tr>\n",
       "      <th>1</th>\n",
       "      <td>저희 큰아버지께서 쌀도매를 하세요||-||  빨간쌀 이예요||-|| 저도 작녁부터 ...</td>\n",
       "      <td>[1]</td>\n",
       "      <td>긍정</td>\n",
       "    </tr>\n",
       "    <tr>\n",
       "      <th>2</th>\n",
       "      <td>제가 변비가 심해서 현미쌀100 를</td>\n",
       "      <td>[0]</td>\n",
       "      <td>부정</td>\n",
       "    </tr>\n",
       "    <tr>\n",
       "      <th>3</th>\n",
       "      <td>그동안 계속 공구후기며 공구게시판에서 보던 쌀찐빵을 구입했어요||-|| 아기간식도 ...</td>\n",
       "      <td>[1]</td>\n",
       "      <td>긍정</td>\n",
       "    </tr>\n",
       "    <tr>\n",
       "      <th>4</th>\n",
       "      <td>심심한 일요일 오후 당근쌀머핀 만들어 보았어요||-|| 당근이랑 우유는 휘리릭 갈아...</td>\n",
       "      <td>[0]</td>\n",
       "      <td>부정</td>\n",
       "    </tr>\n",
       "    <tr>\n",
       "      <th>...</th>\n",
       "      <td>...</td>\n",
       "      <td>...</td>\n",
       "      <td>...</td>\n",
       "    </tr>\n",
       "    <tr>\n",
       "      <th>9581</th>\n",
       "      <td>요리전용맛술 마트가면 보기는 했는데 저게 꼭 필요할까 하는 생각에 구매를 망설였는데...</td>\n",
       "      <td>[1]</td>\n",
       "      <td>긍정</td>\n",
       "    </tr>\n",
       "    <tr>\n",
       "      <th>9582</th>\n",
       "      <td>가능한가요     믹서기 청소가 귀찮아서</td>\n",
       "      <td>[0]</td>\n",
       "      <td>부정</td>\n",
       "    </tr>\n",
       "    <tr>\n",
       "      <th>9583</th>\n",
       "      <td>담주부터 초기이유식 시작인데 아직 애가 못앉잖아요  다들 그냥 분유주듯 안아서 먹이...</td>\n",
       "      <td>[0]</td>\n",
       "      <td>부정</td>\n",
       "    </tr>\n",
       "    <tr>\n",
       "      <th>9584</th>\n",
       "      <td>어뭉들어디서 사드시나요  아이간식사먹이는 사이트추천좀해주셔요</td>\n",
       "      <td>[1]</td>\n",
       "      <td>긍정</td>\n",
       "    </tr>\n",
       "    <tr>\n",
       "      <th>9585</th>\n",
       "      <td>간혹 동물 사료용으로 쓰신다고 무료나눔하신던데   벌레가 막 나오거나 하지는 않는데...</td>\n",
       "      <td>[0]</td>\n",
       "      <td>부정</td>\n",
       "    </tr>\n",
       "  </tbody>\n",
       "</table>\n",
       "<p>9586 rows × 3 columns</p>\n",
       "</div>"
      ]
     },
     "metadata": {},
     "execution_count": 47
    }
   ],
   "metadata": {}
  },
  {
   "cell_type": "code",
   "execution_count": 48,
   "source": [
    "result_df.to_excel('result/2015_cafe_contents_senti_ml_pluscoupang.xlsx',encoding='utf-8')"
   ],
   "outputs": [],
   "metadata": {}
  },
  {
   "cell_type": "markdown",
   "source": [
    "### - 문장단위 긍부정 평가"
   ],
   "metadata": {}
  },
  {
   "cell_type": "code",
   "execution_count": 49,
   "source": [
    "input_text_list = data_content['content']"
   ],
   "outputs": [],
   "metadata": {}
  },
  {
   "cell_type": "code",
   "execution_count": 50,
   "source": [
    "input_text,st_tfidf,st_predict,result  = [],[],[],[]\r\n",
    "#입력 텍스트에 대한 전처리 수행\r\n",
    "for i in range(len(input_text_list)):\r\n",
    "    input_text_ex = ( re.compile(r'[ㄱ-ㅣ가-힣]+').findall(input_text_list[i]) )\r\n",
    "    input_text.append( [\" \".join(input_text_ex) ] )# 한문장 정리\r\n",
    "# 입력 텍스트의 피처 벡터화\r\n",
    "    st_tfidf.append(tfv.transform(input_text[i])  ) \r\n",
    "\r\n",
    "# 최적 감성 분석 모델에 적용하여 감성 분석 평가\r\n",
    "    st_predict.append (grid_cv.best_estimator_.predict(st_tfidf[i]) )\r\n",
    "\r\n",
    "# 결과 출력  \r\n",
    "    if(st_predict[i] == 0):\r\n",
    "        result.append('부정')\r\n",
    "    else :\r\n",
    "        result.append('긍정')"
   ],
   "outputs": [],
   "metadata": {}
  },
  {
   "cell_type": "code",
   "execution_count": 51,
   "source": [
    "result_df = pd.DataFrame({'sentence': input_text_list,\r\n",
    "                         'score':st_predict,\r\n",
    "                        'result':result })\r\n",
    "result_df"
   ],
   "outputs": [
    {
     "output_type": "execute_result",
     "data": {
      "text/plain": [
       "                                                sentence score result\n",
       "0                                  세종시로 올해 1월 10일 이사했습니다   [1]     긍정\n",
       "1                          어제 쌀이 똑 떨어졌는데 마침 까페에 쌀공구가 떴네요   [0]     부정\n",
       "2                        내일아침 밥을 하기위해 저녁에 직접 방문드리기로 했습니다   [1]     긍정\n",
       "3                                 세종청사에서 출발해 15분 걸린듯 싶어요   [1]     긍정\n",
       "4       깜깜한 밤이라 아주 약간 길을 헤맸는데 큰길옆에 소나무가 있는집 이라 다음번엔 금...   [1]     긍정\n",
       "...                                                  ...   ...    ...\n",
       "36349        아이들 밑반찬으로 짱인   멸치볶음  멸치에 남아 있는 비린내 잡기 딱 좋더라   [1]     긍정\n",
       "36350  식용유 미림맛술 꿀 이렇게 3가지 양념만 넣고 조리 했는데 맛이 와  비린맛 잘 잡...   [1]     긍정\n",
       "36351  멸치도 생선이니     다음에는 캠핑장에가서 고기 구워먹을때 사용해 봐야 겠여요가능...   [1]     긍정\n",
       "36352                                       큰봉지로 한봉지정도되요   [0]     부정\n",
       "36353                                                      [0]     부정\n",
       "\n",
       "[36354 rows x 3 columns]"
      ],
      "text/html": [
       "<div>\n",
       "<style scoped>\n",
       "    .dataframe tbody tr th:only-of-type {\n",
       "        vertical-align: middle;\n",
       "    }\n",
       "\n",
       "    .dataframe tbody tr th {\n",
       "        vertical-align: top;\n",
       "    }\n",
       "\n",
       "    .dataframe thead th {\n",
       "        text-align: right;\n",
       "    }\n",
       "</style>\n",
       "<table border=\"1\" class=\"dataframe\">\n",
       "  <thead>\n",
       "    <tr style=\"text-align: right;\">\n",
       "      <th></th>\n",
       "      <th>sentence</th>\n",
       "      <th>score</th>\n",
       "      <th>result</th>\n",
       "    </tr>\n",
       "  </thead>\n",
       "  <tbody>\n",
       "    <tr>\n",
       "      <th>0</th>\n",
       "      <td>세종시로 올해 1월 10일 이사했습니다</td>\n",
       "      <td>[1]</td>\n",
       "      <td>긍정</td>\n",
       "    </tr>\n",
       "    <tr>\n",
       "      <th>1</th>\n",
       "      <td>어제 쌀이 똑 떨어졌는데 마침 까페에 쌀공구가 떴네요</td>\n",
       "      <td>[0]</td>\n",
       "      <td>부정</td>\n",
       "    </tr>\n",
       "    <tr>\n",
       "      <th>2</th>\n",
       "      <td>내일아침 밥을 하기위해 저녁에 직접 방문드리기로 했습니다</td>\n",
       "      <td>[1]</td>\n",
       "      <td>긍정</td>\n",
       "    </tr>\n",
       "    <tr>\n",
       "      <th>3</th>\n",
       "      <td>세종청사에서 출발해 15분 걸린듯 싶어요</td>\n",
       "      <td>[1]</td>\n",
       "      <td>긍정</td>\n",
       "    </tr>\n",
       "    <tr>\n",
       "      <th>4</th>\n",
       "      <td>깜깜한 밤이라 아주 약간 길을 헤맸는데 큰길옆에 소나무가 있는집 이라 다음번엔 금...</td>\n",
       "      <td>[1]</td>\n",
       "      <td>긍정</td>\n",
       "    </tr>\n",
       "    <tr>\n",
       "      <th>...</th>\n",
       "      <td>...</td>\n",
       "      <td>...</td>\n",
       "      <td>...</td>\n",
       "    </tr>\n",
       "    <tr>\n",
       "      <th>36349</th>\n",
       "      <td>아이들 밑반찬으로 짱인   멸치볶음  멸치에 남아 있는 비린내 잡기 딱 좋더라</td>\n",
       "      <td>[1]</td>\n",
       "      <td>긍정</td>\n",
       "    </tr>\n",
       "    <tr>\n",
       "      <th>36350</th>\n",
       "      <td>식용유 미림맛술 꿀 이렇게 3가지 양념만 넣고 조리 했는데 맛이 와  비린맛 잘 잡...</td>\n",
       "      <td>[1]</td>\n",
       "      <td>긍정</td>\n",
       "    </tr>\n",
       "    <tr>\n",
       "      <th>36351</th>\n",
       "      <td>멸치도 생선이니     다음에는 캠핑장에가서 고기 구워먹을때 사용해 봐야 겠여요가능...</td>\n",
       "      <td>[1]</td>\n",
       "      <td>긍정</td>\n",
       "    </tr>\n",
       "    <tr>\n",
       "      <th>36352</th>\n",
       "      <td>큰봉지로 한봉지정도되요</td>\n",
       "      <td>[0]</td>\n",
       "      <td>부정</td>\n",
       "    </tr>\n",
       "    <tr>\n",
       "      <th>36353</th>\n",
       "      <td></td>\n",
       "      <td>[0]</td>\n",
       "      <td>부정</td>\n",
       "    </tr>\n",
       "  </tbody>\n",
       "</table>\n",
       "<p>36354 rows × 3 columns</p>\n",
       "</div>"
      ]
     },
     "metadata": {},
     "execution_count": 51
    }
   ],
   "metadata": {}
  },
  {
   "cell_type": "code",
   "execution_count": 52,
   "source": [
    "result_df.to_excel('result/2015_cafe_sentence_senti_ml_pluscoupang.xlsx',encoding='utf-8')"
   ],
   "outputs": [],
   "metadata": {}
  }
 ],
 "metadata": {
  "orig_nbformat": 4,
  "language_info": {
   "name": "python",
   "version": "3.8.5",
   "mimetype": "text/x-python",
   "codemirror_mode": {
    "name": "ipython",
    "version": 3
   },
   "pygments_lexer": "ipython3",
   "nbconvert_exporter": "python",
   "file_extension": ".py"
  },
  "kernelspec": {
   "name": "python3",
   "display_name": "Python 3.8.5 64-bit ('base': conda)"
  },
  "interpreter": {
   "hash": "8c1eae21719a0790335dcb83aad72b63b602cfe5cdb2bda0f60bc11d4f154e4b"
  }
 },
 "nbformat": 4,
 "nbformat_minor": 2
}