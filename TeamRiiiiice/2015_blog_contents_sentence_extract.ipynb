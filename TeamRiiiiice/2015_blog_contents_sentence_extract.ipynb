{
 "cells": [
  {
   "cell_type": "markdown",
   "source": [
    "### 21.08.23_ Riiiiice"
   ],
   "metadata": {}
  },
  {
   "cell_type": "markdown",
   "source": [
    "# 01. 문서 단위 문장으로 분리"
   ],
   "metadata": {}
  },
  {
   "cell_type": "markdown",
   "source": [
    "### - 2015년 네이버 카페 데이터"
   ],
   "metadata": {}
  },
  {
   "cell_type": "code",
   "execution_count": 1,
   "source": [
    "import pandas as pd"
   ],
   "outputs": [],
   "metadata": {}
  },
  {
   "cell_type": "code",
   "execution_count": 2,
   "source": [
    "data = pd.read_excel('preprocessing_cnts_dropna_data/preprocess_dropna_2015_cafe_ssal.xlsx')"
   ],
   "outputs": [],
   "metadata": {}
  },
  {
   "cell_type": "code",
   "execution_count": 130,
   "source": [
    "len(data)"
   ],
   "outputs": [
    {
     "output_type": "execute_result",
     "data": {
      "text/plain": [
       "9607"
      ]
     },
     "metadata": {},
     "execution_count": 130
    }
   ],
   "metadata": {}
  },
  {
   "cell_type": "code",
   "execution_count": 10,
   "source": [
    "#해당 키워드가 들어간 문서수 확인\r\n",
    "one = data[data['content'].str.contains('이유식|아이|아기|애기|아가|미음|분유')]\r\n",
    "len(one)"
   ],
   "outputs": [
    {
     "output_type": "execute_result",
     "data": {
      "text/plain": [
       "2889"
      ]
     },
     "metadata": {},
     "execution_count": 10
    }
   ],
   "metadata": {}
  },
  {
   "cell_type": "code",
   "execution_count": 3,
   "source": [
    "# contents str로 처리\r\n",
    "q= \" \"\r\n",
    "for i in range(len(data)):\r\n",
    "    try:\r\n",
    "     q += data['content'][i]\r\n",
    "    except:\r\n",
    "     pass"
   ],
   "outputs": [],
   "metadata": {}
  },
  {
   "cell_type": "markdown",
   "source": [
    "## case1. 문장 분리 라이브러리 이용_ kss"
   ],
   "metadata": {}
  },
  {
   "cell_type": "code",
   "execution_count": 16,
   "source": [
    "from kss import split_sentences"
   ],
   "outputs": [
    {
     "output_type": "stream",
     "name": "stderr",
     "text": [
      "[Korean Sentence Splitter]: Initializing Kss...\n"
     ]
    }
   ],
   "metadata": {}
  },
  {
   "cell_type": "code",
   "execution_count": 17,
   "source": [
    "# contents str로 처리\r\n",
    "s= ''' 저도 이유식 미음 배달안시키고 가루 끓여서 먹이기 시작했어요 맘스 어떤지 궁금했는데 참고할께요 좋은 정보 고맙습니다 이유식 시작이신가요\r\n",
    "우리모두 화이팅해요 초보엄마 화이팅감사합니다너무 간편하고 좋을거같네여\r\n",
    "저는 이유식시작할때 요런게 잇는지 몰랏어유ㅠㅠ 넵 믿을만한업체만 찾으면 확실히 편하게 할 수 있겠더라구요\r\n",
    "'''\r\n",
    "\r\n",
    "for sent in split_sentences(s):\r\n",
    "    print(sent)"
   ],
   "outputs": [
    {
     "output_type": "stream",
     "name": "stdout",
     "text": [
      "저도 이유식 미음 배달안시키고 가루 끓여서 먹이기 시작했어요\n",
      "맘스 어떤지 궁금했는데 참고할께요\n",
      "좋은 정보 고맙습니다\n",
      "이유식 시작이신가요\n",
      "우리모두 화이팅해요 초보엄마 화이팅감사합니다\n",
      "너무 간편하고 좋을거같네여\n",
      "저는 이유식시작할때 요런게 잇는지 몰랏어유ㅠㅠ 넵 믿을만한업체만 찾으면 확실히 편하게 할 수 있겠더라구요\n"
     ]
    }
   ],
   "metadata": {}
  },
  {
   "cell_type": "markdown",
   "source": [
    "## case2. 문장 구분자로 직접 문장 나누기"
   ],
   "metadata": {}
  },
  {
   "cell_type": "markdown",
   "source": [
    ". ? ! 을 기준으로 문장을 나눔"
   ],
   "metadata": {}
  },
  {
   "cell_type": "code",
   "execution_count": 5,
   "source": [
    "# 문장 구분자 대치\r\n",
    "q = q.replace('?','.').replace('!','.').replace('입니다','입니다.').replace('이네요','이네요.')"
   ],
   "outputs": [],
   "metadata": {}
  },
  {
   "cell_type": "code",
   "execution_count": 6,
   "source": [
    "# .으로 분리\r\n",
    "p = q.split('.')\r\n",
    "type(p)"
   ],
   "outputs": [
    {
     "output_type": "execute_result",
     "data": {
      "text/plain": [
       "list"
      ]
     },
     "metadata": {},
     "execution_count": 6
    }
   ],
   "metadata": {}
  },
  {
   "cell_type": "code",
   "execution_count": 12,
   "source": [
    "sentence_Data = pd.DataFrame({'content': p})\r\n",
    "len(sentence_Data)"
   ],
   "outputs": [
    {
     "output_type": "execute_result",
     "data": {
      "text/plain": [
       "55869"
      ]
     },
     "metadata": {},
     "execution_count": 12
    }
   ],
   "metadata": {}
  },
  {
   "cell_type": "code",
   "execution_count": 14,
   "source": [
    "# 데이터 엑셀로 자징하여 확인\r\n",
    "sentence_Data.to_excel('sentence_Data_toNAremove.xlsx',encoding='utf-8')"
   ],
   "outputs": [],
   "metadata": {}
  },
  {
   "cell_type": "markdown",
   "source": [
    "# 02. 조건에따라 특정 문장 추출\r\n",
    "문장에서 해당 키워드가 들어간 문장(문맥:앞뒤+1,-1 문장까지) 가져오기"
   ],
   "metadata": {}
  },
  {
   "cell_type": "code",
   "execution_count": null,
   "source": [
    "#데이터 불러오기\r\n",
    "data = pd.read_excel('sentence_Data_toNAremove.xlsx')"
   ],
   "outputs": [],
   "metadata": {}
  },
  {
   "cell_type": "markdown",
   "source": [
    "### (1) 아이를 위한 레시피관련 카테고리"
   ],
   "metadata": {}
  },
  {
   "cell_type": "code",
   "execution_count": 62,
   "source": [
    "sentence_Data['content'].str.contains('이유식|아이|아기|애기|아가|미음|분유') "
   ],
   "outputs": [
    {
     "output_type": "execute_result",
     "data": {
      "text/plain": [
       "0        False\n",
       "1        False\n",
       "2        False\n",
       "3        False\n",
       "4        False\n",
       "         ...  \n",
       "39534    False\n",
       "39536     True\n",
       "39537     True\n",
       "39540     True\n",
       "39542    False\n",
       "Name: content, Length: 25201, dtype: bool"
      ]
     },
     "metadata": {},
     "execution_count": 62
    }
   ],
   "metadata": {}
  },
  {
   "cell_type": "markdown",
   "source": [
    "위에서 조작했을떄 sentence_Data에 조건걸어서 데이터를 가져오고 싶다면, 재인덱싱 처리 필요"
   ],
   "metadata": {}
  }
 ],
 "metadata": {
  "orig_nbformat": 4,
  "language_info": {
   "name": "python",
   "version": "3.8.5",
   "mimetype": "text/x-python",
   "codemirror_mode": {
    "name": "ipython",
    "version": 3
   },
   "pygments_lexer": "ipython3",
   "nbconvert_exporter": "python",
   "file_extension": ".py"
  },
  "kernelspec": {
   "name": "python3",
   "display_name": "Python 3.8.5 64-bit ('base': conda)"
  },
  "interpreter": {
   "hash": "8c1eae21719a0790335dcb83aad72b63b602cfe5cdb2bda0f60bc11d4f154e4b"
  }
 },
 "nbformat": 4,
 "nbformat_minor": 2
}