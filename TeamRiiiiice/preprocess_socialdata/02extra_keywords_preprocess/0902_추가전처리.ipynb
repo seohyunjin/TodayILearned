{
 "cells": [
  {
   "cell_type": "markdown",
   "source": [
    "# 추가 전처리"
   ],
   "metadata": {}
  },
  {
   "cell_type": "markdown",
   "source": [
    "## 01. 데이터 불러오기\r\n"
   ],
   "metadata": {}
  },
  {
   "cell_type": "code",
   "execution_count": 2,
   "source": [
    "import pandas as pd"
   ],
   "outputs": [],
   "metadata": {}
  },
  {
   "cell_type": "code",
   "execution_count": 8,
   "source": [
    "data_2015_blog = pd.read_excel(\"data/2015_blog_preprocess_dropna.xlsx\")\r\n",
    "data_2015_cafe = pd.read_excel(\"data/preprocessing_2015_cafe_ssal.xlsx\")\r\n",
    "data_2019_blog = pd.read_excel(\"data/del_naver_blog_2019.xlsx\")\r\n",
    "data_2019_cafe = pd.read_excel(\"data/naver_cafe_ssal_contents_2019_전처리완.xlsx\")\r\n",
    "data_2020_blog = pd.read_excel(\"data/2020blogre.xlsx\")"
   ],
   "outputs": [
    {
     "output_type": "stream",
     "name": "stderr",
     "text": [
      "C:\\Users\\CPB06GameN\\miniconda3\\lib\\site-packages\\openpyxl\\worksheet\\header_footer.py:48: UserWarning: Cannot parse header or footer so it will be ignored\n",
      "  warn(\"\"\"Cannot parse header or footer so it will be ignored\"\"\")\n"
     ]
    }
   ],
   "metadata": {}
  },
  {
   "cell_type": "markdown",
   "source": [
    "## 02. 데이터확인"
   ],
   "metadata": {}
  },
  {
   "cell_type": "code",
   "execution_count": 12,
   "source": [
    "data_2015_blog['content']"
   ],
   "outputs": [
    {
     "output_type": "execute_result",
     "data": {
      "text/plain": [
       "0       한인마트는 귀찮아서 안가므로 떡볶이를 먹고싶을 때를 대비하여\\n이전에 마트에서 쌀가...\n",
       "1       2015. 1. 1(을미년 새해가...)\\n갑자기 만들어 보고싶은게 생각 났어요!\\...\n",
       "2       2014년 마지막 치킨 치킨은 쌀통닭 너로 정했따!!!!!!!\\n\\n \\n\\n\\n\\...\n",
       "3       이번 포스팅에서는 쌀벌레 없애는 방법에 대해서 알아보겠습니다\\n\\n\\n쌀 속에 벌레...\n",
       "4       조청은 따끈하게 차로 마셔도 좋고,\\n물엿 대신 요리에 넣어도 좋고,\\n가래떡이나 ...\n",
       "                              ...                        \n",
       "7238    [일본] 나나코시제과, 알레르기 표시 누락으로 쌀과자 회수\\n\\n- 일시: 2015...\n",
       "7239    12월 파우더룸박스 2번째 소개해드릴 제품은\\n어울이라는 브랜드의 클렌징폼이에요\\n...\n",
       "7240    김규흔 명장 ·명인의 대표상품인 명인 꿀약과,홍상꿀약과,쌀조청을 사용한 얼 한과세트...\n",
       "7241    쌀 20포(1포/20kg, 80만원 상당) 기탁\\n구미시 태권도협회(회장 손기수)는...\n",
       "7242    생후5개월 초기이유식 쌀미음 쌀가루(네슬러거버 라이스 시리얼)\\n\\n\\n\\n\\n\\n...\n",
       "Name: content, Length: 7243, dtype: object"
      ]
     },
     "metadata": {},
     "execution_count": 12
    }
   ],
   "metadata": {}
  },
  {
   "cell_type": "code",
   "execution_count": 13,
   "source": [
    "data_2015_cafe['content']\r\n"
   ],
   "outputs": [
    {
     "output_type": "execute_result",
     "data": {
      "text/plain": [
       "0       세종시로 올해 1월 10일 이사했습니다.어제 쌀이 똑 떨어졌는데 마침 까페에 쌀공구...\n",
       "1       저희 큰아버지께서 쌀도매를 하세요^^빨간쌀 이예요.저도 작녁부터 계속 먹고있는데요^...\n",
       "2                                     제가 변비가 심해서 현미쌀100%를\n",
       "3       그동안 계속 공구후기며 공구게시판에서 보던 쌀찐빵을 구입했어요 아기간식도 요즘 고민...\n",
       "4       심심한 일요일 오후.당근쌀머핀 만들어 보았어요~당근이랑 우유는 휘리릭 갈아주고밀가루...\n",
       "                              ...                        \n",
       "9648    요리전용맛술 마트가면 보기는 했는데 저게 꼭 필요할까 하는 생각에 구매를 망설였는데...\n",
       "9649                           가능한가요;;;;;믹서기 청소가 귀찮아서 ;;;\n",
       "9650    담주부터 초기이유식 시작인데 아직 애가 못앉잖아요. 다들 그냥 분유주듯 안아서 먹이...\n",
       "9651                 어뭉들어디서 사드시나요? 아이간식사먹이는 사이트추천좀해주셔요^ ^\n",
       "9652    간혹 동물 사료용으로 쓰신다고 무료나눔하신던데...벌레가 막 나오거나 하지는 않는데...\n",
       "Name: content, Length: 9653, dtype: object"
      ]
     },
     "metadata": {},
     "execution_count": 13
    }
   ],
   "metadata": {}
  },
  {
   "cell_type": "code",
   "execution_count": 14,
   "source": [
    "data_2019_blog['content']\r\n"
   ],
   "outputs": [
    {
     "output_type": "execute_result",
     "data": {
      "text/plain": [
       "0       :: Pocohol Recipe ::\\n우리 아이를 위한 첫 요리, 쌀미음 만들기\\...\n",
       "1       #쌀케이크만들기\\n\\n\\n\\n쌀케이크만들기의 기본은\\n#제누와즈만들기 !!\\n\\n#...\n",
       "2       일본식 소고기카레 만드는법 ⓦ. 전남쌀 10kg\\n어릴때는 지금도 때때로 ㅋ \\n노...\n",
       "3       건강요리 강좌에서  쌀누룩으로 다양한 요리를 만들 수 있는  것을 알고\\n호기심과 ...\n",
       "4       곤약밥\\n만드는 법\\n#곤약밥\\n글, 사진 / 카렌C\\n요즘 집에서 식사할 때 먹고...\n",
       "                              ...                        \n",
       "8466    요리꽝손 엄마의 초기이유식 만들기 _ 쌀미음 (쌀가루 이유식)\\n안녕하세요. \\n하...\n",
       "8467    날씨 추워진 요즘 겨울 간식으로 생각나는 그것!!! 바로 호빵이죠~~\\n예전에는 단...\n",
       "8468    대만에서 한창 놀고 있는데, 연락이 오더라고요. \\n11월 21일에 우리 동네 새공...\n",
       "8469    동래시장 동래부동헌 사거리 스타노래연습장 건물 간판없는 할매 떡볶이\\n  인정시정 ...\n",
       "8470    크리스마스\\n딸기쌀케이크&\\n쌀롤케이크\\n#크리스마스딸기케이크\\n#딸기롤케이크\\n주...\n",
       "Name: content, Length: 8471, dtype: object"
      ]
     },
     "metadata": {},
     "execution_count": 14
    }
   ],
   "metadata": {}
  },
  {
   "cell_type": "code",
   "execution_count": 15,
   "source": [
    "data_2019_cafe['content']\r\n"
   ],
   "outputs": [
    {
     "output_type": "execute_result",
     "data": {
      "text/plain": [
       "0       안녕하세요,,18개월 아기 기르는 엄마입니다..이럴땐 어떻게 대처 해야할지 모르겠어...\n",
       "1       엄청 오랜만에 베이킹 하는거 같네용..ㅠㅠ버터도 거의바닥이었고..가루류도 없는데다가...\n",
       "2       벌레얘기 죄송해요 ㅠ쌀을 상온 보관 중인데(냉장고에 도저히 자리가 안나서)혹시나 쌀...\n",
       "3       오늘 저희 집 쌀이 없어서 2식은 분식으로 떼웠는데남편이가 쌀을 사오긴 사왔는데매대...\n",
       "4       처음와서는 일본품종쌀 주문해먹었었고.그담엔 한국쌀먹었는데~마트에서 한국아주머니께서 ...\n",
       "                              ...                        \n",
       "9549                       쌀과자 냠냠 맛있게 먹으며 열심히 즐겁게 공부해봐요~💕\n",
       "9550             저울은 준비를 안했어요분유스푼으로 쌀가루 몇그램 나올까요?초기이유식입니다\n",
       "9551      *오늘의 최저가 정보롯데 백화점 납품 10kg 쌀등급 상두개 구매 개당 23.7...\n",
       "9552    쌀튀밥 두개 (유통기한 2020.3.17)어그 130사이즈(사용감 잇네용)검정 운동...\n",
       "9553    맘마밀 안심이유식 단호박과 소고기 5개사과와 고구마 퓨레 4개 (20년 5월까지)요...\n",
       "Name: content, Length: 9554, dtype: object"
      ]
     },
     "metadata": {},
     "execution_count": 15
    }
   ],
   "metadata": {}
  },
  {
   "cell_type": "code",
   "execution_count": 16,
   "source": [
    "data_2020_blog['content']"
   ],
   "outputs": [
    {
     "output_type": "execute_result",
     "data": {
      "text/plain": [
       "0       초기이유식 2단계\\n소고기미음 차례.\\n나는 튼이이유식 책을보고 만들고 있는데\\n(...\n",
       "1       * 2020년 1월호(628호) 소식지 내용입니다\\n건강한 단맛\\n쌀조청\\n한살림에...\n",
       "2       #누룩\\n#쌀\\n#효모\\n#쌀막걸리\\n이번 막걸리 만들기에서는 쌀의 양을 2kg에서...\n",
       "3       안녕하세요 해피밍입니다! 제가 며칠전 유튜브를 보다가 어떤 먹방 유튜버분이 59쌀피...\n",
       "4       아기떡뻥 지후쌀과자 이것만 먹어요\\n안녕하세요. 글뤽이에요.\\n23개월인 저희 아기...\n",
       "                              ...                        \n",
       "8136    피부트러블이나 장트러블이\\n있는 사람들은\\n글루텐에 신경쓰기 마련\\n둘다 갖고 있는...\n",
       "8137    집콕생활은 쌀 소비를 촉진시킵니다(하핫)\\n덕분에 한달넘게 먹을 수 있는 쌀 10k...\n",
       "8138    #201204\\n웨딩촬영 후 잠시 들렀던 본가에 핸드폰을 두고온 똥멍청이..\\n주말...\n",
       "8139    코로나 확산세가 가속화 되면서\\n요가 못간지 어언 1개월...\\n확진자는 아니지만 ...\n",
       "8140    항상 쿠팡프레시를 이용해서 장을 보다가 먹고 싶은 게 생겨서 마켓컬리로 주문!\\n배...\n",
       "Name: content, Length: 8141, dtype: object"
      ]
     },
     "metadata": {},
     "execution_count": 16
    }
   ],
   "metadata": {}
  },
  {
   "cell_type": "markdown",
   "source": [
    "## 03. 전처리 _ 문서단위 제거"
   ],
   "metadata": {}
  },
  {
   "cell_type": "code",
   "execution_count": null,
   "source": [
    "data_2015_blog = pd.read_excel(\"data/2015_blog_preprocess_dropna.xlsx\")\r\n",
    "data_2015_cafe = pd.read_excel(\"data/preprocessing_2015_cafe_ssal.xlsx\")\r\n",
    "data_2019_blog = pd.read_excel(\"data/del_naver_blog_2019.xlsx\")\r\n",
    "data_2019_cafe = pd.read_excel(\"data/naver_cafe_ssal_contents_2019_전처리완.xlsx\")\r\n",
    "data_2020_blog"
   ],
   "outputs": [],
   "metadata": {}
  },
  {
   "cell_type": "code",
   "execution_count": 17,
   "source": [
    "# 2015 blog\r\n",
    "data = data_2015_blog.dropna(axis=0, how='any', subset = ['content']) \r\n",
    "data = data[data['content'].str.contains(\"주군|뉴비|아이템\")!=True]\r\n",
    "data.reset_index(drop=True, inplace=True)\r\n",
    "data_2015_blog =data.copy()\r\n",
    "data_2015_blog .info()"
   ],
   "outputs": [
    {
     "output_type": "stream",
     "name": "stdout",
     "text": [
      "<class 'pandas.core.frame.DataFrame'>\n",
      "RangeIndex: 7187 entries, 0 to 7186\n",
      "Data columns (total 6 columns):\n",
      " #   Column      Non-Null Count  Dtype \n",
      "---  ------      --------------  ----- \n",
      " 0   Unnamed: 0  7187 non-null   int64 \n",
      " 1   title       7180 non-null   object\n",
      " 2   date        7187 non-null   object\n",
      " 3   chat        4786 non-null   object\n",
      " 4   content     7187 non-null   object\n",
      " 5   id          7167 non-null   object\n",
      "dtypes: int64(1), object(5)\n",
      "memory usage: 337.0+ KB\n"
     ]
    }
   ],
   "metadata": {}
  },
  {
   "cell_type": "code",
   "execution_count": 18,
   "source": [
    "#2015 cafe\r\n",
    "data = data_2015_cafe.dropna(axis=0, how='any', subset = ['content']) \r\n",
    "data = data[data['content'].str.contains(\"주군|뉴비|아이템\")!=True]\r\n",
    "data.reset_index(drop=True, inplace=True)\r\n",
    "data_2015_cafe =data.copy()\r\n",
    "data_2015_cafe.info()"
   ],
   "outputs": [
    {
     "output_type": "stream",
     "name": "stdout",
     "text": [
      "<class 'pandas.core.frame.DataFrame'>\n",
      "RangeIndex: 9586 entries, 0 to 9585\n",
      "Data columns (total 6 columns):\n",
      " #   Column      Non-Null Count  Dtype \n",
      "---  ------      --------------  ----- \n",
      " 0   Unnamed: 0  9586 non-null   int64 \n",
      " 1   title       9586 non-null   object\n",
      " 2   nickname    9586 non-null   object\n",
      " 3   date        9586 non-null   object\n",
      " 4   content     9586 non-null   object\n",
      " 5   comments    8846 non-null   object\n",
      "dtypes: int64(1), object(5)\n",
      "memory usage: 449.5+ KB\n"
     ]
    }
   ],
   "metadata": {}
  },
  {
   "cell_type": "code",
   "execution_count": 19,
   "source": [
    "# 2019 blog\r\n",
    "data = data_2019_blog.dropna(axis=0, how='any', subset = ['content']) \r\n",
    "data = data[data['content'].str.contains(\"주군|뉴비|아이템\")!=True]\r\n",
    "data.reset_index(drop=True, inplace=True)\r\n",
    "data_2019_blog =data.copy()\r\n",
    "data_2019_blog .info()"
   ],
   "outputs": [
    {
     "output_type": "stream",
     "name": "stdout",
     "text": [
      "<class 'pandas.core.frame.DataFrame'>\n",
      "RangeIndex: 8020 entries, 0 to 8019\n",
      "Data columns (total 5 columns):\n",
      " #   Column   Non-Null Count  Dtype \n",
      "---  ------   --------------  ----- \n",
      " 0   title    8018 non-null   object\n",
      " 1   date     8019 non-null   object\n",
      " 2   chat     3887 non-null   object\n",
      " 3   content  8020 non-null   object\n",
      " 4   id       7986 non-null   object\n",
      "dtypes: object(5)\n",
      "memory usage: 313.4+ KB\n"
     ]
    }
   ],
   "metadata": {}
  },
  {
   "cell_type": "code",
   "execution_count": 20,
   "source": [
    "#2019 cafe\r\n",
    "data = data_2019_cafe.dropna(axis=0, how='any', subset = ['content']) \r\n",
    "data = data[data['content'].str.contains(\"주군|뉴비|아이템\")!=True]\r\n",
    "data.reset_index(drop=True, inplace=True)\r\n",
    "data_2019_cafe =data.copy()\r\n",
    "data_2019_cafe.info()"
   ],
   "outputs": [
    {
     "output_type": "stream",
     "name": "stdout",
     "text": [
      "<class 'pandas.core.frame.DataFrame'>\n",
      "RangeIndex: 9534 entries, 0 to 9533\n",
      "Data columns (total 5 columns):\n",
      " #   Column    Non-Null Count  Dtype \n",
      "---  ------    --------------  ----- \n",
      " 0   title     9534 non-null   object\n",
      " 1   nickname  9534 non-null   object\n",
      " 2   date      9534 non-null   object\n",
      " 3   content   9534 non-null   object\n",
      " 4   comments  9019 non-null   object\n",
      "dtypes: object(5)\n",
      "memory usage: 372.5+ KB\n"
     ]
    }
   ],
   "metadata": {}
  },
  {
   "cell_type": "code",
   "execution_count": 21,
   "source": [
    "# 2020 blog\r\n",
    "data = data_2020_blog.dropna(axis=0, how='any', subset = ['content']) \r\n",
    "data = data[data['content'].str.contains(\"주군|뉴비|아이템\")!=True]\r\n",
    "data.reset_index(drop=True, inplace=True)\r\n",
    "data_2020_blog =data.copy()\r\n",
    "data_2020_blog .info()"
   ],
   "outputs": [
    {
     "output_type": "stream",
     "name": "stdout",
     "text": [
      "<class 'pandas.core.frame.DataFrame'>\n",
      "RangeIndex: 7794 entries, 0 to 7793\n",
      "Data columns (total 5 columns):\n",
      " #   Column   Non-Null Count  Dtype \n",
      "---  ------   --------------  ----- \n",
      " 0   title    7794 non-null   object\n",
      " 1   date     7794 non-null   object\n",
      " 2   chat     4045 non-null   object\n",
      " 3   content  7794 non-null   object\n",
      " 4   id       7767 non-null   object\n",
      "dtypes: object(5)\n",
      "memory usage: 304.6+ KB\n"
     ]
    }
   ],
   "metadata": {}
  },
  {
   "cell_type": "markdown",
   "source": [
    "## 04. 데이터 정제 "
   ],
   "metadata": {}
  },
  {
   "cell_type": "code",
   "execution_count": 23,
   "source": [
    "import re\r\n",
    "only_BMP_pattern = re.compile(\"[\"\r\n",
    "        u\"\\U00010000-\\U0010FFFF\"  #BMP characters 이외\r\n",
    "                           \"]+\", flags=re.UNICODE)  #이모지 제거"
   ],
   "outputs": [],
   "metadata": {}
  },
  {
   "cell_type": "code",
   "execution_count": 26,
   "source": [
    "import warnings\r\n",
    "warnings.filterwarnings('ignore')"
   ],
   "outputs": [],
   "metadata": {}
  },
  {
   "cell_type": "code",
   "execution_count": 24,
   "source": [
    "data2 = data_2015_blog "
   ],
   "outputs": [],
   "metadata": {}
  },
  {
   "cell_type": "code",
   "execution_count": 30,
   "source": [
    "data2 = data_2015_cafe"
   ],
   "outputs": [],
   "metadata": {}
  },
  {
   "cell_type": "code",
   "execution_count": 33,
   "source": [
    "data2 = data_2019_blog"
   ],
   "outputs": [],
   "metadata": {}
  },
  {
   "cell_type": "code",
   "execution_count": 36,
   "source": [
    "data2 = data_2019_cafe "
   ],
   "outputs": [],
   "metadata": {}
  },
  {
   "cell_type": "code",
   "execution_count": 39,
   "source": [
    "data2 = data_2020_blog "
   ],
   "outputs": [],
   "metadata": {}
  },
  {
   "cell_type": "code",
   "execution_count": 40,
   "source": [
    "for i in range(len(data2)):\r\n",
    "    try:\r\n",
    "\r\n",
    "        data2[\"content\"][i]=only_BMP_pattern.sub(r'', data2[\"content\"][i])\r\n",
    "    except:\r\n",
    "        pass\r\n",
    "\r\n",
    "for i in range(len(data2)):\r\n",
    "    try:\r\n",
    "        data2[\"content\"][i]=re.sub('[^가-힣0-9]', ' ',data2[\"content\"][i])\r\n",
    "\r\n",
    "    except:\r\n",
    "        pass\r\n",
    "\r\n",
    "\r\n",
    "for i in range(len(data2)):\r\n",
    "    data2[\"content\"][i]=str(data2[\"content\"][i]).replace('네요','네요||-||').replace('하죠','하죠||-||').replace('데요','데요||-||').replace('이네요','이네요||-||').replace('네요.','네요||-||').replace('되죠','되죠||-||').replace('대요','대요||-||').replace('이요','이요||-||').replace('돼요.','돼요||-||').replace('되요','되요||-||').replace('다닙니다','다닙니다||-||').replace('입니다','입니다||-||').replace('입니다.','입니다||-||').replace('니다','니다||-||').replace('중입니다','중입니다||-||').replace('입니다','입니다||-||').replace('나요.','나요||-||').replace('어요','어요||-||').replace('까요','까요||-||').replace('에요','에요||-||').replace('이에요','이에요||-||').replace('봐요','봐요||-||').replace('아요.','아요||-||').replace('해요','해요||-||').replace('려요','려요||-||').replace('구요','구요||-||').replace('고요','고요||-||').replace('죠','죠||-||').replace(':)','').replace('더라','더라||-||').replace('게요','게요||-||').replace('께요','께요||-||').replace('세요','세요||-||').replace('든요','든요||-||').replace('예요','예요||-||').replace('서요','서요||-||').replace('않았다','않았다||-||').replace('었다','었다||-||').replace('있다','있다||-||').replace('이다','이다||-||').replace('싶다','싶다||-||').replace('않다','않다||-||').replace('되었다','되었다||-||').replace('아니다','아니다||-||').replace('하자','하자||-||').replace('는다','는다||-||').replace('했다','했다||-||').replace('한다','한다||-||').replace('혔다','혔다||-||').replace('난다','난다||-||')\r\n",
    "for i in range(len(data2)):\r\n",
    "    data2[\"content\"][i]=str(data2[\"content\"][i]).replace('.','').replace('?','').replace('~','').replace('!','').replace('^','').replace('#','').replace('★','').replace('ㅋ','').replace('ㅜ','').replace('ㅠ','').replace('ㅎ','').replace('ㅏ','').replace('ㅡ','').replace(\"동영상 인코딩 중입니다\",\"\")"
   ],
   "outputs": [],
   "metadata": {}
  },
  {
   "cell_type": "code",
   "execution_count": 29,
   "source": [
    "data2.to_excel('result/0902_2015_blog.xlsx', encoding='utf-8')"
   ],
   "outputs": [],
   "metadata": {}
  },
  {
   "cell_type": "code",
   "execution_count": 32,
   "source": [
    "data2.to_excel('result/0902_2015_cafe.xlsx', encoding='utf-8')"
   ],
   "outputs": [],
   "metadata": {}
  },
  {
   "cell_type": "code",
   "execution_count": 35,
   "source": [
    "data2.to_excel('result/0902_2019_blog.xlsx', encoding='utf-8')"
   ],
   "outputs": [],
   "metadata": {}
  },
  {
   "cell_type": "code",
   "execution_count": 38,
   "source": [
    "data2.to_excel('result/0902_2019_cafe.xlsx', encoding='utf-8')"
   ],
   "outputs": [],
   "metadata": {}
  },
  {
   "cell_type": "code",
   "execution_count": 41,
   "source": [
    "data2.to_excel('result/0902_2020_blog.xlsx', encoding='utf-8')"
   ],
   "outputs": [],
   "metadata": {}
  }
 ],
 "metadata": {
  "orig_nbformat": 4,
  "language_info": {
   "name": "python",
   "version": "3.8.5",
   "mimetype": "text/x-python",
   "codemirror_mode": {
    "name": "ipython",
    "version": 3
   },
   "pygments_lexer": "ipython3",
   "nbconvert_exporter": "python",
   "file_extension": ".py"
  },
  "kernelspec": {
   "name": "python3",
   "display_name": "Python 3.8.5 64-bit ('base': conda)"
  },
  "interpreter": {
   "hash": "8c1eae21719a0790335dcb83aad72b63b602cfe5cdb2bda0f60bc11d4f154e4b"
  }
 },
 "nbformat": 4,
 "nbformat_minor": 2
}