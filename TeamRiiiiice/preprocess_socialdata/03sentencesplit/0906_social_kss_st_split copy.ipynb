{
 "cells": [
  {
   "cell_type": "markdown",
   "source": [
    "# social data sentence split kss로 쪼개서 다시 진행 (2019cafe와 2020cafe만 재진행)"
   ],
   "metadata": {}
  },
  {
   "cell_type": "code",
   "execution_count": 1,
   "source": [
    "from kss import split_sentences"
   ],
   "outputs": [
    {
     "output_type": "stream",
     "name": "stderr",
     "text": [
      "[Korean Sentence Splitter]: Initializing Kss...\n"
     ]
    }
   ],
   "metadata": {}
  },
  {
   "cell_type": "markdown",
   "source": [
    "## 01. 데이터 불러오기"
   ],
   "metadata": {}
  },
  {
   "cell_type": "code",
   "execution_count": 4,
   "source": [
    "# 데이터 불러오기\r\n",
    "import pandas as pd\r\n",
    "\r\n",
    "#data_2015_blog = pd.read_excel(\"C:/Workspace/TodayILearned/TeamRiiiiice/sentimental_ml/test_data/0902_2015_blog.xlsx\")\r\n",
    "#data_2015_cafe = pd.read_excel(\"C:/Workspace/TodayILearned/TeamRiiiiice/sentimental_ml/test_data/0902_2015_cafe.xlsx\")\r\n",
    "\r\n",
    "#data_2019_blog = pd.read_excel(\"C:/Workspace/TodayILearned/TeamRiiiiice/sentimental_ml/test_data/0902_2019_blog.xlsx\")\r\n",
    "data_2019_cafe = pd.read_excel(\"C:/Workspace/TodayILearned/TeamRiiiiice/sentimental_ml/test_data/0902_2019_cafe.xlsx\")\r\n",
    "\r\n",
    "#data_2020_blog = pd.read_excel(\"C:/Workspace/TodayILearned/TeamRiiiiice/sentimental_ml/test_data/0902_2020_blog.xlsx\")\r\n",
    "data_2020_cafe = pd.read_excel(\"C:/Workspace/TodayILearned/TeamRiiiiice/sentimental_ml/test_data/2020cafe_clean.xlsx\")"
   ],
   "outputs": [],
   "metadata": {}
  },
  {
   "cell_type": "markdown",
   "source": [
    "## 02. kss 문장 분리 실행 \r\n",
    "kss : 한번에 들어간 문자의 수가 조금만 많아져도 윈도우 멈춤에러 발생.. 한번에 여러번 실행하여 합쳐준다.\r\n",
    "\r\n",
    "엄청 오래 걸려서 한번에 돌리는 코드 작성후 밤에 돌림"
   ],
   "metadata": {}
  },
  {
   "cell_type": "code",
   "execution_count": 7,
   "source": [
    "import re\r\n",
    "\r\n",
    "hahaha=[3,5]\r\n",
    "for num in hahaha: #6개 한번에 돌림\r\n",
    "\r\n",
    "    #01. 데이터 셋 설정\r\n",
    "    #if num == 0: data =data_2015_blog\r\n",
    "    #if num == 1: data =data_2015_cafe\r\n",
    "    #if num == 2: data =data_2019_blog\r\n",
    "    if num == 3: data = data_2019_cafe\r\n",
    "    #if num == 4: data =data_2020_blog\r\n",
    "    if num == 5: data = data_2020_cafe\r\n",
    "\r\n",
    "    #02. 각 데이터 셋 정제\r\n",
    "    data_temp = [] #원데이터 임시저장\r\n",
    "    for i in range(len(data)):\r\n",
    "        data_temp.append(data['content'][i].replace('||-||','') )# 문장 다시 재분리할거라 원상복구\r\n",
    "        data_temp[i] = re.sub(' +', ' ', data_temp[i])\r\n",
    "\r\n",
    "    #03.각 temp를 적정량 kss 돌림\r\n",
    "    kss_temp = []\r\n",
    "    for k in range(len(data_temp)): \r\n",
    "        for sent in split_sentences( data_temp[k] ): # 총 rows를 각각 kss 문장 분리해 kss_temp로 저장\r\n",
    "            kss_temp.append(sent)\r\n",
    "    \r\n",
    "    #04. kss로 문장 분리된 데이터 데이터 프레임으로 생성\r\n",
    "    st_data = pd.DataFrame({'sentence_Data': kss_temp} )\r\n",
    "    \r\n",
    "    #05. 엑셀로 저장\r\n",
    "    #if num == 0: st_data.to_excel( 'result/kss_st_2015_blog.xlsx',encoding='utf-8' )\r\n",
    "    #if num == 1: st_data.to_excel( 'result/kss_st_2015_cafe.xlsx',encoding='utf-8' )\r\n",
    "    #if num == 2: st_data.to_excel( 'result/kss_st_2019_blog.xlsx',encoding='utf-8' )\r\n",
    "    if num == 3: st_data.to_excel( 'result/kss_st_2019_cafe2.xlsx',encoding='utf-8' )\r\n",
    "    #if num == 4: st_data.to_excel( 'result/kss_st_2020_blog.xlsx',encoding='utf-8' )\r\n",
    "    if num == 5: st_data.to_excel( 'result/kss_st_2020_cafe2.xlsx',encoding='utf-8' )\r\n",
    "\r\n",
    "    "
   ],
   "outputs": [],
   "metadata": {}
  }
 ],
 "metadata": {
  "orig_nbformat": 4,
  "language_info": {
   "name": "python",
   "version": "3.8.5",
   "mimetype": "text/x-python",
   "codemirror_mode": {
    "name": "ipython",
    "version": 3
   },
   "pygments_lexer": "ipython3",
   "nbconvert_exporter": "python",
   "file_extension": ".py"
  },
  "kernelspec": {
   "name": "python3",
   "display_name": "Python 3.8.5 64-bit ('base': conda)"
  },
  "interpreter": {
   "hash": "8c1eae21719a0790335dcb83aad72b63b602cfe5cdb2bda0f60bc11d4f154e4b"
  }
 },
 "nbformat": 4,
 "nbformat_minor": 2
}