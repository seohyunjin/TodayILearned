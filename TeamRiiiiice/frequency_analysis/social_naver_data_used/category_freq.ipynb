{
 "cells": [
  {
   "cell_type": "markdown",
   "source": [
    "### 카테고리별 데이터 빈도분석"
   ],
   "metadata": {}
  },
  {
   "cell_type": "code",
   "execution_count": 2,
   "source": [
    "import pandas as pd"
   ],
   "outputs": [],
   "metadata": {}
  },
  {
   "cell_type": "code",
   "execution_count": 7,
   "source": [
    "from konlpy.tag import Okt\r\n",
    "okt = Okt()"
   ],
   "outputs": [],
   "metadata": {}
  },
  {
   "cell_type": "code",
   "execution_count": 76,
   "source": [
    "from collections import Counter"
   ],
   "outputs": [],
   "metadata": {}
  },
  {
   "cell_type": "markdown",
   "source": [
    "# 01. 카테고리선정"
   ],
   "metadata": {}
  },
  {
   "cell_type": "code",
   "execution_count": 87,
   "source": [
    "# 카테고리 선정\r\n",
    "baking = [ \"베이킹\",\"빵\",\"케이크\",\"케잌\",\"쿠키\",\"머핀\",\"카스테라\",\"식빵\",\"다쿠아즈\",\r\n",
    "        \"마카롱\",\"버터\",\"초코\",\"크림\",\"오븐\",\"생크림\",\"앙금\",\"반죽\",\"설탕\",\"박력\",\"박력분\"]\r\n",
    "store = [ \"보관\",\"쌀통\",\"항아리\",\"페트병\",\"냉장고\",\"냉장\",\"냉동\",\"벌레\",\"쌀벌레\"]\r\n",
    "food = [ \"떡볶이\",\"찐빵\",\"떡국\",\"국물\",\"쌀국수\",\"쌀떡\",\"어묵\",\"꼬치\",\"탕\",\"멸치\",\"고추장\",\"스프\",\"만두\",\"국수\"]\r\n",
    "snack = [ \"조청\",\"막걸리\",\"백설기\",\"가래떡\",\"튀밥\",\"뻥튀기\",\"과자\",\"요거트\"]\r\n",
    "baby = [ \"미음\",\"이유식\",\"분유\"]\r\n",
    "family = [ \"죽\",\"김밥\",\"누룽지\",\"두부\",\"참기름\",\"멸치\",\"두부\",\"시댁\",\"친정\",\"신랑\",\"엄마\"]\r\n",
    "health = [ \"효능\",\"예방\",\"효과\",\"영양\",\"건강\",\"피부\",\"성분\",\"비타민\",\"다이어트\",\"함유\",\"소화\",\"단백질\",\"영양소\",\"혈당\",\"당뇨\"]\r\n",
    "ssal = [ \"현미\",\"백미\",\"잡곡\",\"흙애\",\"찰\",\"누룽지\",\"찹쌀\",\"신동진\",\"고시히카리\",\"쌀눈\",\"쌀눈쌀\",\"곤약\",\"윤기\",\"찰\",\"도정\",\"밥맛\"]\r\n",
    "purchase = [ \"배송\",\"배달\",\"포장\",\"마트\",\"인터넷\"]\r\n"
   ],
   "outputs": [],
   "metadata": {}
  },
  {
   "cell_type": "markdown",
   "source": [
    "### - 생략 : 전체 카테고리생성 "
   ],
   "metadata": {}
  },
  {
   "cell_type": "code",
   "execution_count": null,
   "source": [
    "# 각 카데고리 별 데이터 프레임 생성\r\n",
    "\r\n",
    "selected_cate, selected_senti =[],[]\r\n",
    "\r\n",
    "# 베이킹 카테고리 \r\n",
    "for i in range(len(data2015cafe)):\r\n",
    "    for word in baking:\r\n",
    "        if word in data2015cafe['문장'][i]:\r\n",
    "            selected_cate.append( data2015cafe['문장'][i] )\r\n",
    "            selected_senti.append( data2015cafe['감성'][i] )\r\n",
    "baking_cntts = pd.DataFrame({'문장':selected_cate, '감성':selected_senti })\r\n",
    "\r\n",
    "for i in range(len(data2015cafe)):\r\n",
    "    for word in store:\r\n",
    "        if word in data2015cafe['문장'][i]:\r\n",
    "            selected_cate.append( data2015cafe['문장'][i] )\r\n",
    "            selected_senti.append( data2015cafe['감성'][i] )\r\n",
    "store_cntts  = pd.DataFrame({'문장':selected_cate, '감성':selected_senti })\r\n",
    "\r\n",
    "for i in range(len(data2015cafe)):\r\n",
    "    for word in food :\r\n",
    "        if word in data2015cafe['문장'][i]:\r\n",
    "            selected_cate.append( data2015cafe['문장'][i] )\r\n",
    "            selected_senti.append( data2015cafe['감성'][i] )\r\n",
    "food_cntts  = pd.DataFrame({'문장':selected_cate, '감성':selected_senti })\r\n",
    "\r\n",
    "for i in range(len(data2015cafe)):\r\n",
    "    for word in snack:\r\n",
    "        if word in data2015cafe['문장'][i]:\r\n",
    "            selected_cate.append( data2015cafe['문장'][i] )\r\n",
    "            selected_senti.append( data2015cafe['감성'][i] )\r\n",
    "snack_cntts = pd.DataFrame({'문장':selected_cate, '감성':selected_senti })\r\n",
    "\r\n",
    "for i in range(len(data2015cafe)):\r\n",
    "    for word in baby:\r\n",
    "        if word in data2015cafe['문장'][i]:\r\n",
    "            selected_cate.append( data2015cafe['문장'][i] )\r\n",
    "            selected_senti.append( data2015cafe['감성'][i] )\r\n",
    "baby_cntts  = pd.DataFrame({'문장':selected_cate, '감성':selected_senti })\r\n",
    "\r\n",
    "for i in range(len(data2015cafe)):\r\n",
    "    for word in family:\r\n",
    "        if word in data2015cafe['문장'][i]:\r\n",
    "            selected_cate.append( data2015cafe['문장'][i] )\r\n",
    "            selected_senti.append( data2015cafe['감성'][i] )\r\n",
    "family_cntts  = pd.DataFrame({'문장':selected_cate, '감성':selected_senti })\r\n",
    "\r\n",
    "for i in range(len(data2015cafe)):\r\n",
    "    for word in health :\r\n",
    "        if word in data2015cafe['문장'][i]:\r\n",
    "            selected_cate.append( data2015cafe['문장'][i] )\r\n",
    "            selected_senti.append( data2015cafe['감성'][i] )\r\n",
    "health_cntts  = pd.DataFrame({'문장':selected_cate, '감성':selected_senti })\r\n",
    "\r\n",
    "\r\n",
    "for i in range(len(data2015cafe)):\r\n",
    "    for word in ssal :\r\n",
    "        if word in data2015cafe['문장'][i]:\r\n",
    "            selected_cate.append( data2015cafe['문장'][i] )\r\n",
    "            selected_senti.append( data2015cafe['감성'][i] )\r\n",
    "ssal_cntts  = pd.DataFrame({'문장':selected_cate, '감성':selected_senti })\r\n",
    "\r\n",
    "\r\n",
    "for i in range(len(data2015cafe)):\r\n",
    "    for word in purchase :\r\n",
    "        if word in data2015cafe['문장'][i]:\r\n",
    "            selected_cate.append( data2015cafe['문장'][i] )\r\n",
    "            selected_senti.append( data2015cafe['감성'][i] )\r\n",
    "purchase_cntts  = pd.DataFrame({'문장':selected_cate, '감성':selected_senti })"
   ],
   "outputs": [],
   "metadata": {}
  },
  {
   "cell_type": "markdown",
   "source": [
    "# 02. 함수 생성"
   ],
   "metadata": {}
  },
  {
   "cell_type": "code",
   "execution_count": 109,
   "source": [
    "# 각 카데고리 별 데이터 프레임 생성 함수\r\n",
    "def make_cate_dataframe(data1):\r\n",
    "    global baking_cntts\r\n",
    "    global baby_cntts\r\n",
    "\r\n",
    "    # 베이커리 카테고리 \r\n",
    "    selected_cate, selected_senti =[],[]\r\n",
    "    for i in range(len(data1)):\r\n",
    "        for word in baking:\r\n",
    "            if word in data1['문장'][i]:\r\n",
    "                selected_cate.append( data1['문장'][i] )\r\n",
    "                selected_senti.append( data1['감성'][i] )\r\n",
    "    baking_cntts = pd.DataFrame({'문장':selected_cate, '감성':selected_senti })\r\n",
    "\r\n",
    "    #아기음식 카테고리\r\n",
    "    selected_cate, selected_senti =[],[]\r\n",
    "    for i in range(len(data1)):\r\n",
    "        for word in baby:\r\n",
    "            if word in data1['문장'][i]:\r\n",
    "                selected_cate.append( data1['문장'][i] )\r\n",
    "                selected_senti.append( data1['감성'][i] )\r\n",
    "    baby_cntts  = pd.DataFrame({'문장':selected_cate, '감성':selected_senti })"
   ],
   "outputs": [],
   "metadata": {}
  },
  {
   "cell_type": "code",
   "execution_count": 124,
   "source": [
    "# 카테고리별 top100 명사 형용사 동사 빈도 데이터프레임 생성 함수\r\n",
    "def hj_top100_relation_keywords(data2):\r\n",
    "\r\n",
    "    # contents str로 처리\r\n",
    "    q= \"\"\r\n",
    "    for i in range(len(data2)):\r\n",
    "        try:\r\n",
    "            q += data2[i]\r\n",
    "        except:\r\n",
    "            pass\r\n",
    "\r\n",
    "    # 형태소 분석 ( norm : 정규화 )\r\n",
    "    okt_pos = Okt().pos(q, norm=True, stem=True)   \r\n",
    "    okt_filtering_n = [x for x, y in okt_pos if y in ['Noun']]   # 명사\r\n",
    "    okt_filtering_adj = [x for x, y in okt_pos if y in [ 'Adjective'] ]  # 형용사\r\n",
    "    okt_filtering_v = [x for x, y in okt_pos if y in [ 'Verb']]  # 동사\r\n",
    "        \r\n",
    "    \r\n",
    "    #정제\r\n",
    "    for anoun in okt_filtering_n:\r\n",
    "        if anoun =='피낭' :\r\n",
    "            okt_filtering_n.remove(anoun)\r\n",
    "            okt_filtering_n.append('피낭시에')\r\n",
    "\r\n",
    "    \r\n",
    "    #빈도파악\r\n",
    "    count_n = Counter(okt_filtering_n)\r\n",
    "    count_adj = Counter(okt_filtering_adj)\r\n",
    "    count_v = Counter(okt_filtering_v)\r\n",
    "\r\n",
    "    #데이터 프레임으로 저장하려고 각 리스트로 저장\r\n",
    "    what = [count_n, count_adj, count_v]\r\n",
    "    for w in what:\r\n",
    "        temp_w, temp_c, rank  =[], [], []\r\n",
    "        for num in range(0,100):\r\n",
    "            temp_w.append( w.most_common(100)[num][0] )\r\n",
    "            temp_c.append( w.most_common(100)[num][1] )            \r\n",
    "            rank.append(num + 1)\r\n",
    "\r\n",
    "        #저장\r\n",
    "        if w == count_n:\r\n",
    "            r_n = pd.DataFrame({ '순위': rank, '명사':temp_w , 'count': temp_c })\r\n",
    "        if w == count_adj:\r\n",
    "            r_adj = pd.DataFrame({ '순위': rank,'형용사':temp_w , 'count': temp_c })\r\n",
    "        if w == count_v:\r\n",
    "            r_v = pd.DataFrame({ '순위': rank,'동사':temp_w , 'count': temp_c })\r\n",
    "        \r\n",
    "    total = pd.concat(  [ r_n , r_adj, r_v] , axis= 1)\r\n",
    "    return total"
   ],
   "outputs": [],
   "metadata": {}
  },
  {
   "cell_type": "markdown",
   "source": [
    "# 03. 데이터 불러와서 카테고리별 연관키워드 빈도분석 진행"
   ],
   "metadata": {}
  },
  {
   "cell_type": "code",
   "execution_count": null,
   "source": [
    "# 2015 블로그 \r\n",
    "data2015blog = pd.read_excel('cou-2019_cnnlstm/blog2015.xlsx')\r\n",
    "\r\n",
    "# 프레임 만들때 사용할 데이터 지정-> 카테고리별 데이터프레임 생성\r\n",
    "make_cate_dataframe(data2015blog )\r\n",
    "\r\n",
    "# 빈도분석 진행할 데이터 지정하여 진행후 엑셀로 저장1\r\n",
    "result_baby= hj_top100_relation_keywords(baby_cntts['문장'])\r\n",
    "result_baby.to_excel('2015blog_babycategory_word_freq.xlsx', encoding='utf-8')\r\n",
    "\r\n",
    "# 빈도분석 진행할 데이터 지정하여 진행후 엑셀로 저장2\r\n",
    "result_baking = hj_top100_relation_keywords(baking_cntts['문장'])\r\n",
    "result_baking.to_excel('2015blog_bakingcategory_word_freq.xlsx', encoding='utf-8')"
   ],
   "outputs": [],
   "metadata": {}
  },
  {
   "cell_type": "code",
   "execution_count": null,
   "source": [
    "# 2015 카페\r\n",
    "data2015cafe = pd.read_excel('cou-2019_cnnlstm/cafe2015.xlsx')\r\n",
    "\r\n",
    "# 프레임 만들때 사용할 데이터 지정-> 카테고리별 데이터프레임 생성\r\n",
    "make_cate_dataframe(data2015cafe)\r\n",
    "\r\n",
    "# 빈도분석 진행할 데이터 지정하여 진행후 엑셀로 저장1\r\n",
    "result_baby= hj_top100_relation_keywords(baby_cntts['문장'])\r\n",
    "result_baby.to_excel('2015cafe_babycategory_word_freq.xlsx', encoding='utf-8')\r\n",
    "\r\n",
    "# 빈도분석 진행할 데이터 지정하여 진행후 엑셀로 저장2\r\n",
    "result_baking = hj_top100_relation_keywords(baking_cntts['문장'])\r\n",
    "result_baking.to_excel('2015cafe_bakingcategory_word_freq.xlsx', encoding='utf-8')"
   ],
   "outputs": [],
   "metadata": {}
  },
  {
   "cell_type": "code",
   "execution_count": 123,
   "source": [
    "# 2020 블로그 \r\n",
    "data2020blog = pd.read_excel('cou-2019_cnnlstm/blog2020.xlsx')\r\n",
    "\r\n",
    "# 프레임 만들때 사용할 데이터 지정-> 카테고리별 데이터프레임 생성\r\n",
    "make_cate_dataframe(data2020blog)\r\n",
    "\r\n",
    "# 빈도분석 진행할 데이터 지정하여 진행후 엑셀로 저장1\r\n",
    "result_baby= hj_top100_relation_keywords(baby_cntts['문장'])\r\n",
    "result_baby.to_excel('2020blog_babycategory_word_freq.xlsx', encoding='utf-8')\r\n",
    "\r\n",
    "# 빈도분석 진행할 데이터 지정하여 진행후 엑셀로 저장2\r\n",
    "result_baking = hj_top100_relation_keywords(baking_cntts['문장'])\r\n",
    "result_baking.to_excel('2020blog_bakingcategory_word_freq.xlsx', encoding='utf-8')"
   ],
   "outputs": [],
   "metadata": {}
  },
  {
   "cell_type": "code",
   "execution_count": 125,
   "source": [
    "# 2020 카페\r\n",
    "data2020cafe = pd.read_excel('cou-2019_cnnlstm/cafe2020.xlsx')\r\n",
    "\r\n",
    "# 프레임 만들때 사용할 데이터 지정 -> 카테고리별 데이터프레임 생성\r\n",
    "make_cate_dataframe( data2020cafe )\r\n",
    "\r\n",
    "# 빈도분석 진행할 데이터 지정하여 진행후 엑셀로 저장1\r\n",
    "result_baby= hj_top100_relation_keywords(baby_cntts['문장'])\r\n",
    "result_baby.to_excel('2020cafe_babycategory_word_freq.xlsx', encoding='utf-8')\r\n",
    "\r\n",
    "# 빈도분석 진행할 데이터 지정하여 진행후 엑셀로 저장2\r\n",
    "result_baking = hj_top100_relation_keywords(baking_cntts['문장'])\r\n",
    "result_baking.to_excel('2020cafe_bakingcategory_word_freq.xlsx', encoding='utf-8')"
   ],
   "outputs": [],
   "metadata": {}
  }
 ],
 "metadata": {
  "orig_nbformat": 4,
  "language_info": {
   "name": "python",
   "version": "3.8.5",
   "mimetype": "text/x-python",
   "codemirror_mode": {
    "name": "ipython",
    "version": 3
   },
   "pygments_lexer": "ipython3",
   "nbconvert_exporter": "python",
   "file_extension": ".py"
  },
  "kernelspec": {
   "name": "python3",
   "display_name": "Python 3.8.5 64-bit ('base': conda)"
  },
  "interpreter": {
   "hash": "8c1eae21719a0790335dcb83aad72b63b602cfe5cdb2bda0f60bc11d4f154e4b"
  }
 },
 "nbformat": 4,
 "nbformat_minor": 2
}