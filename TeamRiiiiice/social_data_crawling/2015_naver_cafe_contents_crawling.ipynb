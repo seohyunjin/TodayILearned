{
 "cells": [
  {
   "cell_type": "markdown",
   "source": [
    "# 네이버 카페 contents 크롤링\r\n",
    "제목/ 닉네임/ 날짜 / 내용/ 댓글 데이터 한 페이지에서 가져오기"
   ],
   "metadata": {}
  },
  {
   "cell_type": "code",
   "execution_count": 1,
   "source": [
    "import requests\r\n",
    "import pandas as pd\r\n",
    "\r\n",
    "import time\r\n",
    "from selenium import webdriver\r\n",
    "from selenium.webdriver.common.keys import Keys\r\n",
    "\r\n",
    "import urllib.request\r\n",
    "from bs4 import BeautifulSoup"
   ],
   "outputs": [],
   "metadata": {}
  },
  {
   "cell_type": "markdown",
   "source": [
    "### 2015 네이버 키워드 '쌀'\r\n",
    ": 쌀 -업체, -제공받, -지원받, -원고료, -무상, -협찬, -소정의, -사료, -고래밥, -길냥이, -고양이, -강아지\r\n",
    "https://search.naver.com/search.naver?sm=tab_hty.top&where=article&query=%EC%8C%80&oquery=Tkf&tqi=hdzB%2Fdp0YihssA3p2MGssssss3s-479049&nso=so%3Ar%2Cp%3Afrom20150101to20151231\r\n",
    "\r\n",
    "## 01월\r\n",
    "https://search.naver.com/search.naver?where=article&query=%EC%8C%80%20-%EC%97%85%EC%B2%B4%2C%20-%EC%A0%9C%EA%B3%B5%EB%B0%9B%2C%20-%EC%A7%80%EC%9B%90%EB%B0%9B%2C%20-%EC%9B%90%EA%B3%A0%EB%A3%8C%2C%20-%EB%AC%B4%EC%83%81%2C%20-%ED%98%91%EC%B0%AC%2C%20-%EC%86%8C%EC%A0%95%EC%9D%98%2C%20-%EC%82%AC%EB%A3%8C%2C%20-%EA%B3%A0%EB%9E%98%EB%B0%A5%2C%20-%EA%B8%B8%EB%83%A5%EC%9D%B4%2C%20-%EA%B3%A0%EC%96%91%EC%9D%B4%2C%20-%EA%B0%95%EC%95%84%EC%A7%80&ie=utf8&st=rel&date_option=99&date_from=2015.01.01&date_to=2015.01.31&board=&srchby=text&dup_remove=1&cafe_url=&without_cafe_url=&sm=tab_opt&nso=so%3Ar%2Cp%3Afrom20150101to20150131&nso_open=1&t=0&mson=0&prdtype=0"
   ],
   "metadata": {}
  },
  {
   "cell_type": "code",
   "execution_count": 37,
   "source": [
    "#쌀\r\n",
    "driver = webdriver.Chrome('./chromedriver')  \r\n",
    "driver.get('https://search.naver.com/search.naver?where=article&query=%EC%8C%80%20-%EC%97%85%EC%B2%B4%2C%20-%EC%A0%9C%EA%B3%B5%EB%B0%9B%2C%20-%EC%A7%80%EC%9B%90%EB%B0%9B%2C%20-%EC%9B%90%EA%B3%A0%EB%A3%8C%2C%20-%EB%AC%B4%EC%83%81%2C%20-%ED%98%91%EC%B0%AC%2C%20-%EC%86%8C%EC%A0%95%EC%9D%98%2C%20-%EC%82%AC%EB%A3%8C%2C%20-%EA%B3%A0%EB%9E%98%EB%B0%A5%2C%20-%EA%B8%B8%EB%83%A5%EC%9D%B4%2C%20-%EA%B3%A0%EC%96%91%EC%9D%B4%2C%20-%EA%B0%95%EC%95%84%EC%A7%80&ie=utf8&st=rel&date_option=99&date_from=2015.01.01&date_to=2015.01.31&board=&srchby=text&dup_remove=1&cafe_url=&without_cafe_url=&sm=tab_opt&nso=so%3Ar%2Cp%3Afrom20150101to20150131&nso_open=1&t=0&mson=0&prdtype=0')\r\n",
    "time.sleep(0.5)"
   ],
   "outputs": [],
   "metadata": {}
  },
  {
   "cell_type": "code",
   "execution_count": 38,
   "source": [
    "# second 동안 스크롤다운 함수\r\n",
    "import datetime\r\n",
    "\r\n",
    "def doScrollDown(whileSeconds):\r\n",
    "    start = datetime.datetime.now()\r\n",
    "    end = start + datetime.timedelta(seconds=whileSeconds)\r\n",
    "    while True:\r\n",
    "        driver.execute_script('window.scrollTo(0, document.body.scrollHeight);')\r\n",
    "        time.sleep(1)\r\n",
    "        if datetime.datetime.now() > end:\r\n",
    "            break\r\n",
    "        "
   ],
   "outputs": [],
   "metadata": {}
  },
  {
   "cell_type": "code",
   "execution_count": 6,
   "source": [
    "doScrollDown(100)"
   ],
   "outputs": [],
   "metadata": {}
  },
  {
   "cell_type": "code",
   "execution_count": 39,
   "source": [
    "# 크롤링할 주소 동적가져오기\r\n",
    "article_list = driver.find_elements_by_css_selector('.api_txt_lines.total_tit')\r\n",
    "len(article_list)"
   ],
   "outputs": [
    {
     "output_type": "execute_result",
     "data": {
      "text/plain": [
       "10"
      ]
     },
     "metadata": {},
     "execution_count": 39
    }
   ],
   "metadata": {}
  },
  {
   "cell_type": "markdown",
   "source": [
    "## 1. 카페 글 접속하기"
   ],
   "metadata": {}
  },
  {
   "cell_type": "code",
   "execution_count": 53,
   "source": [
    "#개별 패이지주소 들어감\r\n",
    "article_1 = article_list[0]\r\n",
    "article_1.click() # 첫번째 주소 입장"
   ],
   "outputs": [],
   "metadata": {}
  },
  {
   "cell_type": "code",
   "execution_count": 48,
   "source": [
    "# 열린 창 확인\r\n",
    "driver.window_handles "
   ],
   "outputs": [
    {
     "output_type": "execute_result",
     "data": {
      "text/plain": [
       "['CDwindow-C06F7AB683FE07C9A737C319E6B3B790',\n",
       " 'CDwindow-0C0381466C43EE275BDC01E0A61180A4']"
      ]
     },
     "metadata": {},
     "execution_count": 48
    }
   ],
   "metadata": {}
  },
  {
   "cell_type": "code",
   "execution_count": 56,
   "source": [
    "# 드라이버 윈도우 설정\r\n",
    "change_tab = driver.window_handles[-1]\r\n",
    "driver.switch_to.window(change_tab)"
   ],
   "outputs": [],
   "metadata": {}
  },
  {
   "cell_type": "markdown",
   "source": [
    "## 2. 필요데이터 수집하기"
   ],
   "metadata": {}
  },
  {
   "cell_type": "code",
   "execution_count": 57,
   "source": [
    "# 프레임 변경\r\n",
    "driver.switch_to.frame('cafe_main') #크롤링할 데이터 존재frame"
   ],
   "outputs": [],
   "metadata": {}
  },
  {
   "cell_type": "code",
   "execution_count": 58,
   "source": [
    "# 페이지 준비\r\n",
    "soup = BeautifulSoup(driver.page_source, 'html.parser')"
   ],
   "outputs": [],
   "metadata": {}
  },
  {
   "cell_type": "code",
   "execution_count": 81,
   "source": [
    "# 제목/ 닉네임/ 날짜 / 내용/ 댓글\r\n",
    "title = soup.select('h3.title_text')[0].text.strip() #h3태그에 title_text클래스\r\n",
    "nickname = soup.select('a.nickname')[0].text.strip() #a테그에 nickname클래스\r\n",
    "date = soup.select('span.date')[0].text[:10] #시간제외 날짜까지만 인덱싱하여 가져옴\r\n",
    "content = soup.select('div.ContentRenderer')[0].text #div태그에 ContentRenderer클래스\r\n",
    "\r\n",
    "# 댓글 : 여러개 존재하므로 모두가져온다음 text만 뽑음 \r\n",
    "comments_all = soup.select('span.text_comment')\r\n",
    "comment_list =[]\r\n",
    "for comment in comments_all:\r\n",
    "    comment = comment.text.strip()\r\n",
    "    comment_list.append(comment)\r\n",
    "# 댓글 : 리스트-> 문자열로 저장\r\n",
    "seperator = '||'\r\n",
    "comments = seperator.join(comment_list)\r\n",
    "\r\n",
    "# 제목/ 닉네임/ 날짜 / 내용/ 댓글 데이터-> 리스트로 저장\r\n",
    "post = [title , nickname, date, content,comments]\r\n",
    "post"
   ],
   "outputs": [
    {
     "output_type": "execute_result",
     "data": {
      "text/plain": [
       "['빨간쌀 필요하신분이요^^',\n",
       " '악기하는 여자',\n",
       " '2015.01.04',\n",
       " '저희 큰아버지께서 쌀도매를 하세요^^빨간쌀 이예요.저도 작녁부터 계속 먹고있는데요^^검정쌀처럼 찹쌀적미라 밥에 섞어 드시는건데요.항암효과.당뇨예방.노화방지~~빨간색성분은 몸에 좋다고들 하잖아요.저 아시는 지인분들께서 구매를 원하셔서 오늘 시골왔다가 내일 올라가는데요^^이번에 새로농사지은 햇찹쌀이예요♡2.5키로에 15000원이구요.시중에서는 보기힘든 귀한쌀이구요.백화점에서는1키로에 1만원에 판매되고 있는 비싼쌀이예요.필요하신분들~댓글주세요♡제가 차로 가지고 가는거라~~많이는 못가져가요^^;;\\xa0\\xa0\\xa0\\xa0',\n",
       " '네^^일반쌀 검정쌀 처럼 섞어드시는거구요♡\\n구입 하시는분 많으심~~메타로 가져다 드리구요^^많이 없으심~제가 집으로가져다 드릴께요^^||01050221953으로 키로수랑 문자주세요♡||네^^2.5키로가  사진에 보이는 팩으로 한팩이예요♡||01050221953으로 문자로 키로수랑 알려주세요♡||01050221953으로 키로수 문자주세요♡||네^^01050221953으로 문자주세요♡||키로수가~2.5키로가 기본키로수15000원이예요♡\\n01050221953으로 문자주세요♡']"
      ]
     },
     "metadata": {},
     "execution_count": 81
    }
   ],
   "metadata": {}
  },
  {
   "cell_type": "markdown",
   "source": [
    "## 3. 열린 창 닫기"
   ],
   "metadata": {}
  },
  {
   "cell_type": "code",
   "execution_count": 49,
   "source": [
    "driver.close()"
   ],
   "outputs": [],
   "metadata": {}
  },
  {
   "cell_type": "code",
   "execution_count": 50,
   "source": [
    "driver.window_handles # 열린 창 확인"
   ],
   "outputs": [
    {
     "output_type": "execute_result",
     "data": {
      "text/plain": [
       "['CDwindow-C06F7AB683FE07C9A737C319E6B3B790']"
      ]
     },
     "metadata": {},
     "execution_count": 50
    }
   ],
   "metadata": {}
  },
  {
   "cell_type": "code",
   "execution_count": 52,
   "source": [
    "# 다른 게시글 들어갈 준비 (必)\r\n",
    "change_tab = driver.window_handles[-1]\r\n",
    "driver.switch_to.window(change_tab)"
   ],
   "outputs": [],
   "metadata": {}
  },
  {
   "cell_type": "markdown",
   "source": [
    "## 4. 데이터 엑셀파일에 저장"
   ],
   "metadata": {}
  },
  {
   "cell_type": "code",
   "execution_count": 97,
   "source": [
    "# title , nickname, date, content,comments 데이터프레임으로 저장\r\n",
    "df = pd.DataFrame(post)\r\n",
    "df_T = df.transpose()\r\n",
    "df_T"
   ],
   "outputs": [
    {
     "output_type": "execute_result",
     "data": {
      "text/plain": [
       "               0        1           2  \\\n",
       "0  빨간쌀 필요하신분이요^^  악기하는 여자  2015.01.04   \n",
       "\n",
       "                                                   3  \\\n",
       "0  저희 큰아버지께서 쌀도매를 하세요^^빨간쌀 이예요.저도 작녁부터 계속 먹고있는데요^...   \n",
       "\n",
       "                                                   4  \n",
       "0  네^^일반쌀 검정쌀 처럼 섞어드시는거구요♡\\n구입 하시는분 많으심~~메타로 가져다 ...  "
      ],
      "text/html": [
       "<div>\n",
       "<style scoped>\n",
       "    .dataframe tbody tr th:only-of-type {\n",
       "        vertical-align: middle;\n",
       "    }\n",
       "\n",
       "    .dataframe tbody tr th {\n",
       "        vertical-align: top;\n",
       "    }\n",
       "\n",
       "    .dataframe thead th {\n",
       "        text-align: right;\n",
       "    }\n",
       "</style>\n",
       "<table border=\"1\" class=\"dataframe\">\n",
       "  <thead>\n",
       "    <tr style=\"text-align: right;\">\n",
       "      <th></th>\n",
       "      <th>0</th>\n",
       "      <th>1</th>\n",
       "      <th>2</th>\n",
       "      <th>3</th>\n",
       "      <th>4</th>\n",
       "    </tr>\n",
       "  </thead>\n",
       "  <tbody>\n",
       "    <tr>\n",
       "      <th>0</th>\n",
       "      <td>빨간쌀 필요하신분이요^^</td>\n",
       "      <td>악기하는 여자</td>\n",
       "      <td>2015.01.04</td>\n",
       "      <td>저희 큰아버지께서 쌀도매를 하세요^^빨간쌀 이예요.저도 작녁부터 계속 먹고있는데요^...</td>\n",
       "      <td>네^^일반쌀 검정쌀 처럼 섞어드시는거구요♡\\n구입 하시는분 많으심~~메타로 가져다 ...</td>\n",
       "    </tr>\n",
       "  </tbody>\n",
       "</table>\n",
       "</div>"
      ]
     },
     "metadata": {},
     "execution_count": 97
    }
   ],
   "metadata": {}
  },
  {
   "cell_type": "code",
   "execution_count": 95,
   "source": [
    "writer = pd.ExcelWriter('naver_cafe_ssal_contents_2015.xlsx')\r\n",
    "df.to_excel(writer,index =False)\r\n",
    "writer.save()"
   ],
   "outputs": [],
   "metadata": {}
  }
 ],
 "metadata": {
  "orig_nbformat": 4,
  "language_info": {
   "name": "python",
   "version": "3.8.5",
   "mimetype": "text/x-python",
   "codemirror_mode": {
    "name": "ipython",
    "version": 3
   },
   "pygments_lexer": "ipython3",
   "nbconvert_exporter": "python",
   "file_extension": ".py"
  },
  "kernelspec": {
   "name": "python3",
   "display_name": "Python 3.8.5 64-bit ('base': conda)"
  },
  "interpreter": {
   "hash": "8c1eae21719a0790335dcb83aad72b63b602cfe5cdb2bda0f60bc11d4f154e4b"
  }
 },
 "nbformat": 4,
 "nbformat_minor": 2
}