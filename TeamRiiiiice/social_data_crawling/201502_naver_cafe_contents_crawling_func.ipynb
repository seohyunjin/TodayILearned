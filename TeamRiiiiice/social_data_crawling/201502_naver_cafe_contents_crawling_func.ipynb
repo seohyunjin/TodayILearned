{
 "cells": [
  {
   "cell_type": "markdown",
   "source": [
    "# 네이버 카페 contents 크롤링 _함수이용\r\n",
    "제목/ 닉네임/ 날짜 / 내용/ 댓글 데이터 여러 페이지 한번에 가져오기"
   ],
   "metadata": {}
  },
  {
   "cell_type": "code",
   "execution_count": 2,
   "source": [
    "import requests\r\n",
    "import pandas as pd\r\n",
    "\r\n",
    "import time\r\n",
    "from selenium import webdriver\r\n",
    "from selenium.webdriver.common.keys import Keys\r\n",
    "\r\n",
    "import urllib.request\r\n",
    "from bs4 import BeautifulSoup"
   ],
   "outputs": [],
   "metadata": {}
  },
  {
   "cell_type": "markdown",
   "source": [
    "### 2015 네이버 키워드 '쌀'\r\n",
    "1차 바이럴제거를 위해 검색 설정\r\n",
    "\r\n",
    ": 쌀 -업체, -제공받, -지원받, -원고료, -무상, -협찬, -소정의, -사료, -고래밥, -길냥이, -고양이, -강아지\r\n",
    "\r\n",
    "https://search.naver.com/search.naver?sm=tab_hty.top&where=article&query=%EC%8C%80&oquery=Tkf&tqi=hdzB%2Fdp0YihssA3p2MGssssss3s-479049&nso=so%3Ar%2Cp%3Afrom20150101to20151231\r\n",
    "\r\n",
    "### 01월\r\n",
    "https://search.naver.com/search.naver?where=article&query=%EC%8C%80%20-%EC%97%85%EC%B2%B4%2C%20-%EC%A0%9C%EA%B3%B5%EB%B0%9B%2C%20-%EC%A7%80%EC%9B%90%EB%B0%9B%2C%20-%EC%9B%90%EA%B3%A0%EB%A3%8C%2C%20-%EB%AC%B4%EC%83%81%2C%20-%ED%98%91%EC%B0%AC%2C%20-%EC%86%8C%EC%A0%95%EC%9D%98%2C%20-%EC%82%AC%EB%A3%8C%2C%20-%EA%B3%A0%EB%9E%98%EB%B0%A5%2C%20-%EA%B8%B8%EB%83%A5%EC%9D%B4%2C%20-%EA%B3%A0%EC%96%91%EC%9D%B4%2C%20-%EA%B0%95%EC%95%84%EC%A7%80&ie=utf8&st=rel&date_option=99&date_from=2015.01.01&date_to=2015.01.31&board=&srchby=text&dup_remove=1&cafe_url=&without_cafe_url=&sm=tab_opt&nso=so%3Ar%2Cp%3Afrom20150101to20150131&nso_open=1&t=0&mson=0&prdtype=0\r\n",
    "\r\n",
    "### 02월\r\n",
    "https://search.naver.com/search.naver?where=article&query=%EC%8C%80%20-%EC%97%85%EC%B2%B4%2C%20-%EC%A0%9C%EA%B3%B5%EB%B0%9B%2C%20-%EC%A7%80%EC%9B%90%EB%B0%9B%2C%20-%EC%9B%90%EA%B3%A0%EB%A3%8C%2C%20-%EB%AC%B4%EC%83%81%2C%20-%ED%98%91%EC%B0%AC%2C%20-%EC%86%8C%EC%A0%95%EC%9D%98%2C%20-%EC%82%AC%EB%A3%8C%2C%20-%EA%B3%A0%EB%9E%98%EB%B0%A5%2C%20-%EA%B8%B8%EB%83%A5%EC%9D%B4%2C%20-%EA%B3%A0%EC%96%91%EC%9D%B4%2C%20-%EA%B0%95%EC%95%84%EC%A7%80&ie=utf8&st=rel&date_option=99&date_from=2015.02.01&date_to=2015.02.28&board=&srchby=text&dup_remove=1&cafe_url=&without_cafe_url=&sm=tab_opt&nso=so%3Ar%2Cp%3Afrom20150201to20150228&nso_open=1&t=0&mson=0&prdtype=0\r\n",
    "\r\n",
    "### 03월\r\n",
    "https://search.naver.com/search.naver?where=article&query=%EC%8C%80%20-%EC%97%85%EC%B2%B4%2C%20-%EC%A0%9C%EA%B3%B5%EB%B0%9B%2C%20-%EC%A7%80%EC%9B%90%EB%B0%9B%2C%20-%EC%9B%90%EA%B3%A0%EB%A3%8C%2C%20-%EB%AC%B4%EC%83%81%2C%20-%ED%98%91%EC%B0%AC%2C%20-%EC%86%8C%EC%A0%95%EC%9D%98%2C%20-%EC%82%AC%EB%A3%8C%2C%20-%EA%B3%A0%EB%9E%98%EB%B0%A5%2C%20-%EA%B8%B8%EB%83%A5%EC%9D%B4%2C%20-%EA%B3%A0%EC%96%91%EC%9D%B4%2C%20-%EA%B0%95%EC%95%84%EC%A7%80&ie=utf8&st=rel&date_option=99&date_from=2015.03.01&date_to=2015.03.31&board=&srchby=text&dup_remove=1&cafe_url=&without_cafe_url=&sm=tab_opt&nso=so%3Ar%2Cp%3Afrom20150301to20150331&nso_open=1&t=0&mson=0&prdtype=0\r\n",
    "\r\n",
    "### 04월\r\n",
    "https://search.naver.com/search.naver?where=article&query=%EC%8C%80%20-%EC%97%85%EC%B2%B4%2C%20-%EC%A0%9C%EA%B3%B5%EB%B0%9B%2C%20-%EC%A7%80%EC%9B%90%EB%B0%9B%2C%20-%EC%9B%90%EA%B3%A0%EB%A3%8C%2C%20-%EB%AC%B4%EC%83%81%2C%20-%ED%98%91%EC%B0%AC%2C%20-%EC%86%8C%EC%A0%95%EC%9D%98%2C%20-%EC%82%AC%EB%A3%8C%2C%20-%EA%B3%A0%EB%9E%98%EB%B0%A5%2C%20-%EA%B8%B8%EB%83%A5%EC%9D%B4%2C%20-%EA%B3%A0%EC%96%91%EC%9D%B4%2C%20-%EA%B0%95%EC%95%84%EC%A7%80&ie=utf8&st=rel&date_option=99&date_from=2015.04.01&date_to=2015.04.30&board=&srchby=text&dup_remove=1&cafe_url=&without_cafe_url=&sm=tab_opt&nso=so%3Ar%2Cp%3Afrom20150401to20150430&nso_open=1&t=0&mson=0&prdtype=0\r\n",
    "\r\n",
    "### 05월\r\n",
    "https://search.naver.com/search.naver?where=article&query=%EC%8C%80%20-%EC%97%85%EC%B2%B4%2C%20-%EC%A0%9C%EA%B3%B5%EB%B0%9B%2C%20-%EC%A7%80%EC%9B%90%EB%B0%9B%2C%20-%EC%9B%90%EA%B3%A0%EB%A3%8C%2C%20-%EB%AC%B4%EC%83%81%2C%20-%ED%98%91%EC%B0%AC%2C%20-%EC%86%8C%EC%A0%95%EC%9D%98%2C%20-%EC%82%AC%EB%A3%8C%2C%20-%EA%B3%A0%EB%9E%98%EB%B0%A5%2C%20-%EA%B8%B8%EB%83%A5%EC%9D%B4%2C%20-%EA%B3%A0%EC%96%91%EC%9D%B4%2C%20-%EA%B0%95%EC%95%84%EC%A7%80&ie=utf8&st=rel&date_option=99&date_from=2015.05.01&date_to=2015.05.31&board=&srchby=text&dup_remove=1&cafe_url=&without_cafe_url=&sm=tab_opt&nso=so%3Ar%2Cp%3Afrom20150501to20150531&nso_open=1&t=0&mson=0&prdtype=0\r\n",
    "\r\n",
    "### 06월\r\n",
    "https://search.naver.com/search.naver?where=article&query=%EC%8C%80%20-%EC%97%85%EC%B2%B4%2C%20-%EC%A0%9C%EA%B3%B5%EB%B0%9B%2C%20-%EC%A7%80%EC%9B%90%EB%B0%9B%2C%20-%EC%9B%90%EA%B3%A0%EB%A3%8C%2C%20-%EB%AC%B4%EC%83%81%2C%20-%ED%98%91%EC%B0%AC%2C%20-%EC%86%8C%EC%A0%95%EC%9D%98%2C%20-%EC%82%AC%EB%A3%8C%2C%20-%EA%B3%A0%EB%9E%98%EB%B0%A5%2C%20-%EA%B8%B8%EB%83%A5%EC%9D%B4%2C%20-%EA%B3%A0%EC%96%91%EC%9D%B4%2C%20-%EA%B0%95%EC%95%84%EC%A7%80&ie=utf8&st=rel&date_option=99&date_from=2015.06.01&date_to=2015.06.30&board=&srchby=text&dup_remove=1&cafe_url=&without_cafe_url=&sm=tab_opt&nso=so%3Ar%2Cp%3Afrom20150601to20150630&nso_open=1&t=0&mson=0&prdtype=0"
   ],
   "metadata": {}
  },
  {
   "cell_type": "code",
   "execution_count": 3,
   "source": [
    "#쌀\r\n",
    "driver = webdriver.Chrome('./chromedriver') \r\n",
    "driver.implicitly_wait(4) # 바로 에러넘기지 말고 기다리는 시간 4초 설정\r\n",
    "driver.get('https://search.naver.com/search.naver?where=article&query=%EC%8C%80%20-%EC%97%85%EC%B2%B4%2C%20-%EC%A0%9C%EA%B3%B5%EB%B0%9B%2C%20-%EC%A7%80%EC%9B%90%EB%B0%9B%2C%20-%EC%9B%90%EA%B3%A0%EB%A3%8C%2C%20-%EB%AC%B4%EC%83%81%2C%20-%ED%98%91%EC%B0%AC%2C%20-%EC%86%8C%EC%A0%95%EC%9D%98%2C%20-%EC%82%AC%EB%A3%8C%2C%20-%EA%B3%A0%EB%9E%98%EB%B0%A5%2C%20-%EA%B8%B8%EB%83%A5%EC%9D%B4%2C%20-%EA%B3%A0%EC%96%91%EC%9D%B4%2C%20-%EA%B0%95%EC%95%84%EC%A7%80&ie=utf8&st=rel&date_option=99&date_from=2015.02.01&date_to=2015.02.28&board=&srchby=text&dup_remove=1&cafe_url=&without_cafe_url=&sm=tab_opt&nso=so%3Ar%2Cp%3Afrom20150201to20150228&nso_open=1&t=0&mson=0&prdtype=0')\r\n",
    "time.sleep(0.5)"
   ],
   "outputs": [],
   "metadata": {}
  },
  {
   "cell_type": "code",
   "execution_count": 4,
   "source": [
    "# second 동안 스크롤다운 함수\r\n",
    "import datetime\r\n",
    "\r\n",
    "def doScrollDown(whileSeconds):\r\n",
    "    start = datetime.datetime.now()\r\n",
    "    end = start + datetime.timedelta(seconds=whileSeconds)\r\n",
    "    while True:\r\n",
    "        driver.execute_script('window.scrollTo(0, document.body.scrollHeight);')\r\n",
    "        time.sleep(1)\r\n",
    "        if datetime.datetime.now() > end:\r\n",
    "            break\r\n",
    "        "
   ],
   "outputs": [],
   "metadata": {}
  },
  {
   "cell_type": "code",
   "execution_count": 5,
   "source": [
    "doScrollDown(100)"
   ],
   "outputs": [],
   "metadata": {}
  },
  {
   "cell_type": "code",
   "execution_count": 6,
   "source": [
    "# 크롤링할 주소 동적가져오기\r\n",
    "article_list = driver.find_elements_by_css_selector('.api_txt_lines.total_tit')\r\n",
    "len(article_list)"
   ],
   "outputs": [
    {
     "output_type": "execute_result",
     "data": {
      "text/plain": [
       "980"
      ]
     },
     "metadata": {},
     "execution_count": 6
    }
   ],
   "metadata": {}
  },
  {
   "cell_type": "markdown",
   "source": [
    "## 1. 데이터 수집 함수 정의, 한번에 가져오기"
   ],
   "metadata": {}
  },
  {
   "cell_type": "code",
   "execution_count": 7,
   "source": [
    "def get_Data(driver):\r\n",
    "    driver.switch_to.frame('cafe_main') # 프레임 변경\r\n",
    "    soup = BeautifulSoup(driver.page_source, 'html.parser') # 페이지 준비\r\n",
    "\r\n",
    "    #제목/ 닉네임/ 날짜 \r\n",
    "    title = soup.select('h3.title_text')[0].text.strip() #h3태그에 title_text클래스\r\n",
    "    nickname = soup.select('a.nickname')[0].text.strip() #a테그에 nickname클래스\r\n",
    "    date = soup.select('span.date')[0].text[:10] #시간제외 날짜까지만 인덱싱하여 가져옴\r\n",
    "    \r\n",
    "    #내용\r\n",
    "    try:\r\n",
    "        content = soup.select('div.ContentRenderer')[0].text #div태그에 ContentRenderer클래스\r\n",
    "    except:\r\n",
    "        pass\r\n",
    "\r\n",
    "    # 댓글 : 여러개 존재하므로 모두가져온다음 text만 뽑음 \r\n",
    "    comments_all = soup.select('span.text_comment')\r\n",
    "    comment_list =[]\r\n",
    "    for comment in comments_all:\r\n",
    "        comment = comment.text.strip()\r\n",
    "        comment_list.append(comment)\r\n",
    "\r\n",
    "    # 댓글 : 리스트-> 문자열로 저장\r\n",
    "    seperator = '||'\r\n",
    "    comments = seperator.join(comment_list)\r\n",
    "\r\n",
    "    # 제목/ 닉네임/ 날짜 / 내용/ 댓글 데이터-> 리스트로 저장\r\n",
    "    post = [title , nickname, date, content,comments]\r\n",
    "\r\n",
    "    return post\r\n"
   ],
   "outputs": [],
   "metadata": {}
  },
  {
   "cell_type": "code",
   "execution_count": 8,
   "source": [
    "total_data=[] # 총데이터 저장할 리스트\r\n",
    "\r\n",
    "# 카페 개별 페이지 접속\r\n",
    "for article in article_list:\r\n",
    "    article.click()  # 한페이지에 접속완료\r\n",
    "    time.sleep(6)\r\n",
    "    \r\n",
    "    # 드라이버 윈도우 설정\r\n",
    "    change_tab = driver.window_handles[-1]\r\n",
    "    driver.switch_to.window(change_tab) \r\n",
    "\r\n",
    "    try:\r\n",
    "        data = get_Data(driver) # 수집\r\n",
    "        total_data.append(data)\r\n",
    "    except:\r\n",
    "        pass\r\n",
    "\r\n",
    "    driver.close() # 한페이지 수집완료\r\n",
    "\r\n",
    "    # 다른 게시글 들어갈 준비 (必)\r\n",
    "    change_tab = driver.window_handles[-1]\r\n",
    "    driver.switch_to.window(change_tab)\r\n"
   ],
   "outputs": [],
   "metadata": {}
  },
  {
   "cell_type": "markdown",
   "source": [
    "## 2.데이터 엑셀파일에 저장"
   ],
   "metadata": {}
  },
  {
   "cell_type": "code",
   "execution_count": 9,
   "source": [
    "# title , nickname, date, content,comments 데이터프레임으로 저장\r\n",
    "df = pd.DataFrame(total_data,columns=['title','nickname','date','content','comments'])\r\n",
    "df"
   ],
   "outputs": [
    {
     "output_type": "execute_result",
     "data": {
      "text/plain": [
       "                                                 title  nickname        date  \\\n",
       "0                                       쌀통(뒤주) 쌀나오는 쌀통      와호장롱  2015.02.15   \n",
       "1                                         박력쌀가루로 만든 머핀  yeonchan  2015.02.12   \n",
       "2                                            주조용 쌀 이야기       김종경  2015.02.24   \n",
       "3                                       “쌀 가공품 정말 많네요”     흙강쇠사당  2015.02.09   \n",
       "4                                       쌀 등급표시에 대해서...        듀잇  2015.02.08   \n",
       "..                                                 ...       ...         ...   \n",
       "939                                   방앗간 공임 아시는 분이요^^       나비야  2015.02.02   \n",
       "940                                        서현이~~ 샘플왔어요      아토서현  2015.02.16   \n",
       "941  다쿠아즈/쌀베이킹/no밀가루/머랭/디저트/쌀다쿠아즈/퓨전떡/베이킹수업/참새방앗간/버...  1급지도자박유리  2015.02.14   \n",
       "942                                         치즈어떻게주시나요?        모맘  2015.02.26   \n",
       "943              ::한아's miniature :: 포장마차 미니어쳐 (이벤트참여)      너의한아  2015.02.06   \n",
       "\n",
       "                                               content  \\\n",
       "0    상상으로만 나무로 무언가를 만드는 상상목공인입니다. ^^;나무를 만지면 쌀통을 만들...   \n",
       "1      지인이 밀가루를 못먹고 있어서 박력쌀가루로 머핀을 구워봤는데 찜케이크 같이 나왔...   \n",
       "2    이전, 포스팅에서 인용한 잡지에서 또 인용합니다.표 위에 적혀 있는 (붉은색으로) ...   \n",
       "3     “보리야! 쑥쑥 잘 자라거라”      아직 찬바람이 가시지 않았지만 남도의 들녘...   \n",
       "4    쌀에 대해 검색하다가,,,좋은 쌀 구매방법중에,,,'브랜드 쌀' 에 현혹되지 말고 ...   \n",
       "..                                                 ...   \n",
       "939  묵은쌀로 가래떡이랑 쌀가루랑 뺄려고 하는데요10키로는 가래떡이랑 떡볶이떡으로 하구요...   \n",
       "940  샘플왔는데 상담전화를 못드렸네요 어떻게사용하는것인지~~~^^ 아직 뜯질못했어요  그...   \n",
       "941   안녕하세요, 1급지도자 박유리입니다^^다들 설준비하느라 바쁘신 한 주을 지내고 계...   \n",
       "942  만7갤들어서서 치즈주는데 쌀튀밥크기로잘라서 식탁에놓아주니 잘안집히는지 짜증만내요ㅜ ...   \n",
       "943  안녕하세요 :) 한아입니다 ~오늘은 오랜만에 이벤트참여도하고 제작품도보여드릴겸 이렇...   \n",
       "\n",
       "                                              comments  \n",
       "0    소프트웨어를 이용한 디자인 기법이 예술입니다 ^^.\\n\\n저도 일전에 목선반으로 만...  \n",
       "1    와우  박력 쌀가루 좋은데요??? ㅋㅋ||저도 갈설탕이나 흑설탕, 올리고당, 꿀 넣...  \n",
       "2    ||미야마니시키가 3등인게 의외네요,,,\\n오마치가 높을줄 알았는데,,, \\n좋은 ...  \n",
       "3    강쇠생각\\n곧 허용되는 하우스막걸리와 조청, 오메기떡, 쌀과자, 누룽지제조, 현미차...  \n",
       "4    저도 궁금해요\\n저 '혼합'이라는게 단지 품종들의 혼합이 아니라는말도\\n있고해서\\n...  \n",
       "..                                                 ...  \n",
       "939  떡빼는건 조금이든 많이든 한말까지 2만원정도 하구요 가루 빻는건 삼사천원..양에따라...  \n",
       "940  샘플을 받으셨다니 내일 꼭 상담실로 문의하셔서 사용방법을 숙지하시고 써보시면 좋겠네...  \n",
       "941  맛있져~ 맛있져요~ㅎㅎ \\n쌤도 명절 잘 보내세용^^||맛있져용?ㅋㅋㅋㅋ고은대리님도...  \n",
       "942  9 갤아가 입에넣어줘요 스스로집어먹게놓아주는음식 아무것도없어요 입에넣어주거나 손에건...  \n",
       "943  넘 이쀼리해용 ㅎㅎ||당균님이 더이쀼리해영ㅇ (^-^)v||어떻게저많은걸다만들었뎅....  \n",
       "\n",
       "[944 rows x 5 columns]"
      ],
      "text/html": [
       "<div>\n",
       "<style scoped>\n",
       "    .dataframe tbody tr th:only-of-type {\n",
       "        vertical-align: middle;\n",
       "    }\n",
       "\n",
       "    .dataframe tbody tr th {\n",
       "        vertical-align: top;\n",
       "    }\n",
       "\n",
       "    .dataframe thead th {\n",
       "        text-align: right;\n",
       "    }\n",
       "</style>\n",
       "<table border=\"1\" class=\"dataframe\">\n",
       "  <thead>\n",
       "    <tr style=\"text-align: right;\">\n",
       "      <th></th>\n",
       "      <th>title</th>\n",
       "      <th>nickname</th>\n",
       "      <th>date</th>\n",
       "      <th>content</th>\n",
       "      <th>comments</th>\n",
       "    </tr>\n",
       "  </thead>\n",
       "  <tbody>\n",
       "    <tr>\n",
       "      <th>0</th>\n",
       "      <td>쌀통(뒤주) 쌀나오는 쌀통</td>\n",
       "      <td>와호장롱</td>\n",
       "      <td>2015.02.15</td>\n",
       "      <td>상상으로만 나무로 무언가를 만드는 상상목공인입니다. ^^;나무를 만지면 쌀통을 만들...</td>\n",
       "      <td>소프트웨어를 이용한 디자인 기법이 예술입니다 ^^.\\n\\n저도 일전에 목선반으로 만...</td>\n",
       "    </tr>\n",
       "    <tr>\n",
       "      <th>1</th>\n",
       "      <td>박력쌀가루로 만든 머핀</td>\n",
       "      <td>yeonchan</td>\n",
       "      <td>2015.02.12</td>\n",
       "      <td>지인이 밀가루를 못먹고 있어서 박력쌀가루로 머핀을 구워봤는데 찜케이크 같이 나왔...</td>\n",
       "      <td>와우  박력 쌀가루 좋은데요??? ㅋㅋ||저도 갈설탕이나 흑설탕, 올리고당, 꿀 넣...</td>\n",
       "    </tr>\n",
       "    <tr>\n",
       "      <th>2</th>\n",
       "      <td>주조용 쌀 이야기</td>\n",
       "      <td>김종경</td>\n",
       "      <td>2015.02.24</td>\n",
       "      <td>이전, 포스팅에서 인용한 잡지에서 또 인용합니다.표 위에 적혀 있는 (붉은색으로) ...</td>\n",
       "      <td>||미야마니시키가 3등인게 의외네요,,,\\n오마치가 높을줄 알았는데,,, \\n좋은 ...</td>\n",
       "    </tr>\n",
       "    <tr>\n",
       "      <th>3</th>\n",
       "      <td>“쌀 가공품 정말 많네요”</td>\n",
       "      <td>흙강쇠사당</td>\n",
       "      <td>2015.02.09</td>\n",
       "      <td>“보리야! 쑥쑥 잘 자라거라”      아직 찬바람이 가시지 않았지만 남도의 들녘...</td>\n",
       "      <td>강쇠생각\\n곧 허용되는 하우스막걸리와 조청, 오메기떡, 쌀과자, 누룽지제조, 현미차...</td>\n",
       "    </tr>\n",
       "    <tr>\n",
       "      <th>4</th>\n",
       "      <td>쌀 등급표시에 대해서...</td>\n",
       "      <td>듀잇</td>\n",
       "      <td>2015.02.08</td>\n",
       "      <td>쌀에 대해 검색하다가,,,좋은 쌀 구매방법중에,,,'브랜드 쌀' 에 현혹되지 말고 ...</td>\n",
       "      <td>저도 궁금해요\\n저 '혼합'이라는게 단지 품종들의 혼합이 아니라는말도\\n있고해서\\n...</td>\n",
       "    </tr>\n",
       "    <tr>\n",
       "      <th>...</th>\n",
       "      <td>...</td>\n",
       "      <td>...</td>\n",
       "      <td>...</td>\n",
       "      <td>...</td>\n",
       "      <td>...</td>\n",
       "    </tr>\n",
       "    <tr>\n",
       "      <th>939</th>\n",
       "      <td>방앗간 공임 아시는 분이요^^</td>\n",
       "      <td>나비야</td>\n",
       "      <td>2015.02.02</td>\n",
       "      <td>묵은쌀로 가래떡이랑 쌀가루랑 뺄려고 하는데요10키로는 가래떡이랑 떡볶이떡으로 하구요...</td>\n",
       "      <td>떡빼는건 조금이든 많이든 한말까지 2만원정도 하구요 가루 빻는건 삼사천원..양에따라...</td>\n",
       "    </tr>\n",
       "    <tr>\n",
       "      <th>940</th>\n",
       "      <td>서현이~~ 샘플왔어요</td>\n",
       "      <td>아토서현</td>\n",
       "      <td>2015.02.16</td>\n",
       "      <td>샘플왔는데 상담전화를 못드렸네요 어떻게사용하는것인지~~~^^ 아직 뜯질못했어요  그...</td>\n",
       "      <td>샘플을 받으셨다니 내일 꼭 상담실로 문의하셔서 사용방법을 숙지하시고 써보시면 좋겠네...</td>\n",
       "    </tr>\n",
       "    <tr>\n",
       "      <th>941</th>\n",
       "      <td>다쿠아즈/쌀베이킹/no밀가루/머랭/디저트/쌀다쿠아즈/퓨전떡/베이킹수업/참새방앗간/버...</td>\n",
       "      <td>1급지도자박유리</td>\n",
       "      <td>2015.02.14</td>\n",
       "      <td>안녕하세요, 1급지도자 박유리입니다^^다들 설준비하느라 바쁘신 한 주을 지내고 계...</td>\n",
       "      <td>맛있져~ 맛있져요~ㅎㅎ \\n쌤도 명절 잘 보내세용^^||맛있져용?ㅋㅋㅋㅋ고은대리님도...</td>\n",
       "    </tr>\n",
       "    <tr>\n",
       "      <th>942</th>\n",
       "      <td>치즈어떻게주시나요?</td>\n",
       "      <td>모맘</td>\n",
       "      <td>2015.02.26</td>\n",
       "      <td>만7갤들어서서 치즈주는데 쌀튀밥크기로잘라서 식탁에놓아주니 잘안집히는지 짜증만내요ㅜ ...</td>\n",
       "      <td>9 갤아가 입에넣어줘요 스스로집어먹게놓아주는음식 아무것도없어요 입에넣어주거나 손에건...</td>\n",
       "    </tr>\n",
       "    <tr>\n",
       "      <th>943</th>\n",
       "      <td>::한아's miniature :: 포장마차 미니어쳐 (이벤트참여)</td>\n",
       "      <td>너의한아</td>\n",
       "      <td>2015.02.06</td>\n",
       "      <td>안녕하세요 :) 한아입니다 ~오늘은 오랜만에 이벤트참여도하고 제작품도보여드릴겸 이렇...</td>\n",
       "      <td>넘 이쀼리해용 ㅎㅎ||당균님이 더이쀼리해영ㅇ (^-^)v||어떻게저많은걸다만들었뎅....</td>\n",
       "    </tr>\n",
       "  </tbody>\n",
       "</table>\n",
       "<p>944 rows × 5 columns</p>\n",
       "</div>"
      ]
     },
     "metadata": {},
     "execution_count": 9
    }
   ],
   "metadata": {}
  },
  {
   "cell_type": "code",
   "execution_count": 10,
   "source": [
    "# 엑셀 파일로 저장\r\n",
    "writer = pd.ExcelWriter('naver_cafe_ssal_contents_2015_02.xlsx')\r\n",
    "df.to_excel(writer,index =False)\r\n",
    "writer.save()"
   ],
   "outputs": [],
   "metadata": {}
  }
 ],
 "metadata": {
  "orig_nbformat": 4,
  "language_info": {
   "name": "python",
   "version": "3.8.5",
   "mimetype": "text/x-python",
   "codemirror_mode": {
    "name": "ipython",
    "version": 3
   },
   "pygments_lexer": "ipython3",
   "nbconvert_exporter": "python",
   "file_extension": ".py"
  },
  "kernelspec": {
   "name": "python3",
   "display_name": "Python 3.8.5 64-bit ('base': conda)"
  },
  "interpreter": {
   "hash": "8c1eae21719a0790335dcb83aad72b63b602cfe5cdb2bda0f60bc11d4f154e4b"
  }
 },
 "nbformat": 4,
 "nbformat_minor": 2
}