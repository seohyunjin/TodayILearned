{
 "cells": [
  {
   "cell_type": "markdown",
   "source": [
    "수집시간 너무 오래걸려 한번에 돌리기! 24hrs"
   ],
   "metadata": {}
  },
  {
   "cell_type": "markdown",
   "source": [
    "## 네이버 카페 contents 크롤링 _함수이용_ alldays 실행편\r\n",
    "제목/ 닉네임/ 날짜 / 내용/ 댓글 데이터 여러 페이지 한번에 가져오기"
   ],
   "metadata": {}
  },
  {
   "cell_type": "markdown",
   "source": [
    "## 01. 환경설정 및 함수 정의"
   ],
   "metadata": {}
  },
  {
   "cell_type": "code",
   "execution_count": 2,
   "source": [
    "import requests\r\n",
    "import pandas as pd\r\n",
    "\r\n",
    "import time\r\n",
    "from selenium import webdriver\r\n",
    "from selenium.webdriver.common.keys import Keys\r\n",
    "\r\n",
    "import urllib.request\r\n",
    "from bs4 import BeautifulSoup"
   ],
   "outputs": [],
   "metadata": {}
  },
  {
   "cell_type": "code",
   "execution_count": 3,
   "source": [
    "# second 동안 스크롤다운 함수 정의\r\n",
    "import datetime\r\n",
    "\r\n",
    "def doScrollDown(whileSeconds):\r\n",
    "    start = datetime.datetime.now()\r\n",
    "    end = start + datetime.timedelta(seconds=whileSeconds)\r\n",
    "    while True:\r\n",
    "        driver.execute_script('window.scrollTo(0, document.body.scrollHeight);')\r\n",
    "        time.sleep(1)\r\n",
    "        if datetime.datetime.now() > end:\r\n",
    "            break\r\n",
    "        "
   ],
   "outputs": [],
   "metadata": {}
  },
  {
   "cell_type": "code",
   "execution_count": 4,
   "source": [
    "def get_Data(driver):\r\n",
    "    driver.switch_to.frame('cafe_main') # 프레임 변경\r\n",
    "    soup = BeautifulSoup(driver.page_source, 'html.parser') # 페이지 준비\r\n",
    "\r\n",
    "    #제목/ 닉네임/ 날짜 \r\n",
    "    title = soup.select('h3.title_text')[0].text.strip() #h3태그에 title_text클래스\r\n",
    "    nickname = soup.select('a.nickname')[0].text.strip() #a테그에 nickname클래스\r\n",
    "    date = soup.select('span.date')[0].text[:10] #시간제외 날짜까지만 인덱싱하여 가져옴\r\n",
    "    \r\n",
    "    #내용\r\n",
    "    try:\r\n",
    "        content = soup.select('div.ContentRenderer')[0].text #div태그에 ContentRenderer클래스\r\n",
    "    except:\r\n",
    "        pass\r\n",
    "\r\n",
    "    # 댓글 : 여러개 존재하므로 모두가져온다음 text만 뽑음 \r\n",
    "    comments_all = soup.select('span.text_comment')\r\n",
    "    comment_list =[]\r\n",
    "    for comment in comments_all:\r\n",
    "        comment = comment.text.strip()\r\n",
    "        comment_list.append(comment)\r\n",
    "\r\n",
    "    # 댓글 : 리스트-> 문자열로 저장\r\n",
    "    seperator = '||'\r\n",
    "    comments = seperator.join(comment_list)\r\n",
    "\r\n",
    "    # 제목/ 닉네임/ 날짜 / 내용/ 댓글 데이터-> 리스트로 저장\r\n",
    "    post = [title , nickname, date, content,comments]\r\n",
    "\r\n",
    "    return post"
   ],
   "outputs": [],
   "metadata": {}
  },
  {
   "cell_type": "markdown",
   "source": [
    "## 02. 데이터 수집 및 저장"
   ],
   "metadata": {}
  },
  {
   "cell_type": "markdown",
   "source": [
    " if i == 3:\r\n",
    "    url = 'https://search.naver.com/search.naver?where=article&query=%EC%8C%80%20-%EC%97%85%EC%B2%B4%2C%20-%EC%A0%9C%EA%B3%B5%EB%B0%9B%2C%20-%EC%A7%80%EC%9B%90%EB%B0%9B%2C%20-%EC%9B%90%EA%B3%A0%EB%A3%8C%2C%20-%EB%AC%B4%EC%83%81%2C%20-%ED%98%91%EC%B0%AC%2C%20-%EC%86%8C%EC%A0%95%EC%9D%98%2C%20-%EC%82%AC%EB%A3%8C%2C%20-%EA%B3%A0%EB%9E%98%EB%B0%A5%2C%20-%EA%B8%B8%EB%83%A5%EC%9D%B4%2C%20-%EA%B3%A0%EC%96%91%EC%9D%B4%2C%20-%EA%B0%95%EC%95%84%EC%A7%80&ie=utf8&st=rel&date_option=99&date_from=2015.03.01&date_to=2015.03.31&board=&srchby=text&dup_remove=1&cafe_url=&without_cafe_url=&sm=tab_opt&nso=so%3Ar%2Cp%3Afrom20150301to20150331&nso_open=1&t=0&mson=0&prdtype=0'\r\n",
    "  if i == 4:\r\n",
    "    url = 'https://search.naver.com/search.naver?where=article&query=%EC%8C%80%20-%EC%97%85%EC%B2%B4%2C%20-%EC%A0%9C%EA%B3%B5%EB%B0%9B%2C%20-%EC%A7%80%EC%9B%90%EB%B0%9B%2C%20-%EC%9B%90%EA%B3%A0%EB%A3%8C%2C%20-%EB%AC%B4%EC%83%81%2C%20-%ED%98%91%EC%B0%AC%2C%20-%EC%86%8C%EC%A0%95%EC%9D%98%2C%20-%EC%82%AC%EB%A3%8C%2C%20-%EA%B3%A0%EB%9E%98%EB%B0%A5%2C%20-%EA%B8%B8%EB%83%A5%EC%9D%B4%2C%20-%EA%B3%A0%EC%96%91%EC%9D%B4%2C%20-%EA%B0%95%EC%95%84%EC%A7%80&ie=utf8&st=rel&date_option=99&date_from=2015.04.01&date_to=2015.04.30&board=&srchby=text&dup_remove=1&cafe_url=&without_cafe_url=&sm=tab_opt&nso=so%3Ar%2Cp%3Afrom20150401to20150430&nso_open=1&t=0&mson=0&prdtype=0'\r\n",
    "  if i == 5:\r\n",
    "    url = 'https://search.naver.com/search.naver?where=article&query=%EC%8C%80%20-%EC%97%85%EC%B2%B4%2C%20-%EC%A0%9C%EA%B3%B5%EB%B0%9B%2C%20-%EC%A7%80%EC%9B%90%EB%B0%9B%2C%20-%EC%9B%90%EA%B3%A0%EB%A3%8C%2C%20-%EB%AC%B4%EC%83%81%2C%20-%ED%98%91%EC%B0%AC%2C%20-%EC%86%8C%EC%A0%95%EC%9D%98%2C%20-%EC%82%AC%EB%A3%8C%2C%20-%EA%B3%A0%EB%9E%98%EB%B0%A5%2C%20-%EA%B8%B8%EB%83%A5%EC%9D%B4%2C%20-%EA%B3%A0%EC%96%91%EC%9D%B4%2C%20-%EA%B0%95%EC%95%84%EC%A7%80&ie=utf8&st=rel&date_option=99&date_from=2015.05.01&date_to=2015.05.31&board=&srchby=text&dup_remove=1&cafe_url=&without_cafe_url=&sm=tab_opt&nso=so%3Ar%2Cp%3Afrom20150501to20150531&nso_open=1&t=0&mson=0&prdtype=0'\r\n",
    "  if i == 6:\r\n",
    "    url = 'https://search.naver.com/search.naver?where=article&query=%EC%8C%80%20-%EC%97%85%EC%B2%B4%2C%20-%EC%A0%9C%EA%B3%B5%EB%B0%9B%2C%20-%EC%A7%80%EC%9B%90%EB%B0%9B%2C%20-%EC%9B%90%EA%B3%A0%EB%A3%8C%2C%20-%EB%AC%B4%EC%83%81%2C%20-%ED%98%91%EC%B0%AC%2C%20-%EC%86%8C%EC%A0%95%EC%9D%98%2C%20-%EC%82%AC%EB%A3%8C%2C%20-%EA%B3%A0%EB%9E%98%EB%B0%A5%2C%20-%EA%B8%B8%EB%83%A5%EC%9D%B4%2C%20-%EA%B3%A0%EC%96%91%EC%9D%B4%2C%20-%EA%B0%95%EC%95%84%EC%A7%80&ie=utf8&st=rel&date_option=99&date_from=2015.06.01&date_to=2015.06.30&board=&srchby=text&dup_remove=1&cafe_url=&without_cafe_url=&sm=tab_opt&nso=so%3Ar%2Cp%3Afrom20150601to20150630&nso_open=1&t=0&mson=0&prdtype=0'\r\n",
    "  if i == 7:    \r\n",
    "    url = 'https://search.naver.com/search.naver?where=article&query=%EC%8C%80%20-%EC%97%85%EC%B2%B4%2C%20-%EC%A0%9C%EA%B3%B5%EB%B0%9B%2C%20-%EC%A7%80%EC%9B%90%EB%B0%9B%2C%20-%EC%9B%90%EA%B3%A0%EB%A3%8C%2C%20-%EB%AC%B4%EC%83%81%2C%20-%ED%98%91%EC%B0%AC%2C%20-%EC%86%8C%EC%A0%95%EC%9D%98%2C%20-%EC%82%AC%EB%A3%8C%2C%20-%EA%B3%A0%EB%9E%98%EB%B0%A5%2C%20-%EA%B8%B8%EB%83%A5%EC%9D%B4%2C%20-%EA%B3%A0%EC%96%91%EC%9D%B4%2C%20-%EA%B0%95%EC%95%84%EC%A7%80&ie=utf8&st=rel&date_option=99&date_from=2015.07.01&date_to=2015.07.31&board=&srchby=text&dup_remove=1&cafe_url=&without_cafe_url=&sm=tab_opt&nso=so%3Ar%2Cp%3Afrom20150701to20150731&nso_open=1&t=0&mson=0&prdtype=0'\r\n",
    "  if i == 8:    \r\n",
    "    url = 'https://search.naver.com/search.naver?where=article&query=%EC%8C%80%20-%EC%97%85%EC%B2%B4%2C%20-%EC%A0%9C%EA%B3%B5%EB%B0%9B%2C%20-%EC%A7%80%EC%9B%90%EB%B0%9B%2C%20-%EC%9B%90%EA%B3%A0%EB%A3%8C%2C%20-%EB%AC%B4%EC%83%81%2C%20-%ED%98%91%EC%B0%AC%2C%20-%EC%86%8C%EC%A0%95%EC%9D%98%2C%20-%EC%82%AC%EB%A3%8C%2C%20-%EA%B3%A0%EB%9E%98%EB%B0%A5%2C%20-%EA%B8%B8%EB%83%A5%EC%9D%B4%2C%20-%EA%B3%A0%EC%96%91%EC%9D%B4%2C%20-%EA%B0%95%EC%95%84%EC%A7%80&ie=utf8&st=rel&date_option=99&date_from=2015.08.01&date_to=2015.08.31&board=&srchby=text&dup_remove=1&cafe_url=&without_cafe_url=&sm=tab_opt&nso=so%3Ar%2Cp%3Afrom20150801to20150831&nso_open=1&t=0&mson=0&prdtype=0'\r\n",
    "  if i == 9:    \r\n",
    "    url = 'https://search.naver.com/search.naver?where=article&query=%EC%8C%80%20-%EC%97%85%EC%B2%B4%2C%20-%EC%A0%9C%EA%B3%B5%EB%B0%9B%2C%20-%EC%A7%80%EC%9B%90%EB%B0%9B%2C%20-%EC%9B%90%EA%B3%A0%EB%A3%8C%2C%20-%EB%AC%B4%EC%83%81%2C%20-%ED%98%91%EC%B0%AC%2C%20-%EC%86%8C%EC%A0%95%EC%9D%98%2C%20-%EC%82%AC%EB%A3%8C%2C%20-%EA%B3%A0%EB%9E%98%EB%B0%A5%2C%20-%EA%B8%B8%EB%83%A5%EC%9D%B4%2C%20-%EA%B3%A0%EC%96%91%EC%9D%B4%2C%20-%EA%B0%95%EC%95%84%EC%A7%80&ie=utf8&st=rel&date_option=99&date_from=2015.09.01&date_to=2015.09.30&board=&srchby=text&dup_remove=1&cafe_url=&without_cafe_url=&sm=tab_opt&nso=so%3Ar%2Cp%3Afrom20150901to20150930&nso_open=1&t=0&mson=0&prdtype=0'\r\n",
    "  if i == 10:   \r\n",
    "    url = 'https://search.naver.com/search.naver?where=article&query=%EC%8C%80%20-%EC%97%85%EC%B2%B4%2C%20-%EC%A0%9C%EA%B3%B5%EB%B0%9B%2C%20-%EC%A7%80%EC%9B%90%EB%B0%9B%2C%20-%EC%9B%90%EA%B3%A0%EB%A3%8C%2C%20-%EB%AC%B4%EC%83%81%2C%20-%ED%98%91%EC%B0%AC%2C%20-%EC%86%8C%EC%A0%95%EC%9D%98%2C%20-%EC%82%AC%EB%A3%8C%2C%20-%EA%B3%A0%EB%9E%98%EB%B0%A5%2C%20-%EA%B8%B8%EB%83%A5%EC%9D%B4%2C%20-%EA%B3%A0%EC%96%91%EC%9D%B4%2C%20-%EA%B0%95%EC%95%84%EC%A7%80&ie=utf8&st=rel&date_option=99&date_from=2015.10.01&date_to=2015.10.31&board=&srchby=text&dup_remove=1&cafe_url=&without_cafe_url=&sm=tab_opt&nso=so%3Ar%2Cp%3Afrom20151001to20151031&nso_open=1&t=0&mson=0&prdtype=0'"
   ],
   "metadata": {}
  },
  {
   "cell_type": "code",
   "execution_count": 5,
   "source": [
    "for i in range(10,11):  # 3월부터 12월까지\r\n",
    "\r\n",
    "  # 01. 페이지 준비(3월~ 12월 설정)\r\n",
    "  if i == 10:   \r\n",
    "    url = 'https://search.naver.com/search.naver?where=article&query=%EC%8C%80%20-%EC%97%85%EC%B2%B4%2C%20-%EC%A0%9C%EA%B3%B5%EB%B0%9B%2C%20-%EC%A7%80%EC%9B%90%EB%B0%9B%2C%20-%EC%9B%90%EA%B3%A0%EB%A3%8C%2C%20-%EB%AC%B4%EC%83%81%2C%20-%ED%98%91%EC%B0%AC%2C%20-%EC%86%8C%EC%A0%95%EC%9D%98%2C%20-%EC%82%AC%EB%A3%8C%2C%20-%EA%B3%A0%EB%9E%98%EB%B0%A5%2C%20-%EA%B8%B8%EB%83%A5%EC%9D%B4%2C%20-%EA%B3%A0%EC%96%91%EC%9D%B4%2C%20-%EA%B0%95%EC%95%84%EC%A7%80&ie=utf8&st=rel&date_option=99&date_from=2015.10.01&date_to=2015.10.31&board=&srchby=text&dup_remove=1&cafe_url=&without_cafe_url=&sm=tab_opt&nso=so%3Ar%2Cp%3Afrom20151001to20151031&nso_open=1&t=0&mson=0&prdtype=0'\r\n",
    "\r\n",
    "  #if i == 11:    \r\n",
    "   # url = 'https://search.naver.com/search.naver?where=article&query=%EC%8C%80%20-%EC%97%85%EC%B2%B4%2C%20-%EC%A0%9C%EA%B3%B5%EB%B0%9B%2C%20-%EC%A7%80%EC%9B%90%EB%B0%9B%2C%20-%EC%9B%90%EA%B3%A0%EB%A3%8C%2C%20-%EB%AC%B4%EC%83%81%2C%20-%ED%98%91%EC%B0%AC%2C%20-%EC%86%8C%EC%A0%95%EC%9D%98%2C%20-%EC%82%AC%EB%A3%8C%2C%20-%EA%B3%A0%EB%9E%98%EB%B0%A5%2C%20-%EA%B8%B8%EB%83%A5%EC%9D%B4%2C%20-%EA%B3%A0%EC%96%91%EC%9D%B4%2C%20-%EA%B0%95%EC%95%84%EC%A7%80&ie=utf8&st=rel&date_option=99&date_from=2015.11.01&date_to=2015.11.30&board=&srchby=text&dup_remove=1&cafe_url=&without_cafe_url=&sm=tab_opt&nso=so%3Ar%2Cp%3Afrom20151101to20151130&nso_open=1&t=0&mson=0&prdtype=0'\r\n",
    "  #if i == 12:    \r\n",
    "   # url = 'https://search.naver.com/search.naver?where=article&query=%EC%8C%80%20-%EC%97%85%EC%B2%B4%2C%20-%EC%A0%9C%EA%B3%B5%EB%B0%9B%2C%20-%EC%A7%80%EC%9B%90%EB%B0%9B%2C%20-%EC%9B%90%EA%B3%A0%EB%A3%8C%2C%20-%EB%AC%B4%EC%83%81%2C%20-%ED%98%91%EC%B0%AC%2C%20-%EC%86%8C%EC%A0%95%EC%9D%98%2C%20-%EC%82%AC%EB%A3%8C%2C%20-%EA%B3%A0%EB%9E%98%EB%B0%A5%2C%20-%EA%B8%B8%EB%83%A5%EC%9D%B4%2C%20-%EA%B3%A0%EC%96%91%EC%9D%B4%2C%20-%EA%B0%95%EC%95%84%EC%A7%80&ie=utf8&st=rel&date_option=99&date_from=2015.12.01&date_to=2015.12.31&board=&srchby=text&dup_remove=1&cafe_url=&without_cafe_url=&sm=tab_opt&nso=so%3Ar%2Cp%3Afrom20151201to20151231&nso_open=1&t=0&mson=0&prdtype=0'\r\n",
    "\r\n",
    "  driver = webdriver.Chrome('./chromedriver') \r\n",
    "  #driver.implicitly_wait(4) \r\n",
    "  driver.get(url)\r\n",
    "  time.sleep(2)\r\n",
    "  \r\n",
    "  doScrollDown(100) # 스크롤다운 \r\n",
    "\r\n",
    "  #02. 크롤링할 개별 포스팅 주소 가져오기 (각 월(3~12)당 포스팅된 컨텐츠 )\r\n",
    "  article_list = driver.find_elements_by_css_selector('.api_txt_lines.total_tit')\r\n",
    "\r\n",
    "  #03. 데이터 수집 시작\r\n",
    "  total_data=[] # 총데이터 저장할 리스트\r\n",
    "\r\n",
    "  # 카페 개별 페이지 접속\r\n",
    "  for article in article_list:\r\n",
    "    article.click()  # 한페이지에 접속완료\r\n",
    "    time.sleep(5)\r\n",
    "      \r\n",
    "    # 드라이버 윈도우 설정\r\n",
    "    change_tab = driver.window_handles[-1]\r\n",
    "    driver.switch_to.window(change_tab) \r\n",
    "\r\n",
    "    try:\r\n",
    "        data = get_Data(driver) # 수집\r\n",
    "        total_data.append(data)\r\n",
    "    except:\r\n",
    "        pass\r\n",
    "\r\n",
    "    driver.close() # 한페이지 수집완료\r\n",
    "\r\n",
    "    # 다른 게시글 들어갈 준비 (必)\r\n",
    "    change_tab = driver.window_handles[-1]\r\n",
    "    driver.switch_to.window(change_tab)\r\n",
    "\r\n",
    "  #04.데이터프레임으로 저장\r\n",
    "  df = pd.DataFrame(total_data,columns=['title','nickname','date','content','comments'])\r\n",
    "\r\n",
    "  #05.엑셀파일로 저장\r\n",
    "  globals()['writer_{}'.format(i)] = pd.ExcelWriter(f'./alldayscrawl/naver_cafe_conents_ssal_2015_{i}월.xlsx')\r\n",
    "  df.to_excel(globals()['writer_{}'.format(i)],index =False)\r\n",
    "  globals()['writer_{}'.format(i)].save()\r\n",
    "\r\n",
    "  ##06. 드라이버 종료\r\n",
    "  driver.close()"
   ],
   "outputs": [],
   "metadata": {}
  }
 ],
 "metadata": {
  "orig_nbformat": 4,
  "language_info": {
   "name": "python",
   "version": "3.8.5",
   "mimetype": "text/x-python",
   "codemirror_mode": {
    "name": "ipython",
    "version": 3
   },
   "pygments_lexer": "ipython3",
   "nbconvert_exporter": "python",
   "file_extension": ".py"
  },
  "kernelspec": {
   "name": "python3",
   "display_name": "Python 3.8.5 64-bit ('base': conda)"
  },
  "interpreter": {
   "hash": "8c1eae21719a0790335dcb83aad72b63b602cfe5cdb2bda0f60bc11d4f154e4b"
  }
 },
 "nbformat": 4,
 "nbformat_minor": 2
}