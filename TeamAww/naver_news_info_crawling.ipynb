{
 "cells": [
  {
   "cell_type": "markdown",
   "metadata": {},
   "source": [
    "# 네이버 뉴스 검색 결과 크롤링 (제목, 언론사, 주소)\n",
    "\n",
    "\n",
    "*  검색환경 설정시 세부옵션에서 '기간 : 1일' 만을 설정하였으므로 cluster_rank~all부분은 필요없다. 페이지 자동넘김 설정은 필요하므로\n",
    "크롤링 페이지 설정부분인 &start=1은 남겨 수집페이지를 결정한다."
   ]
  },
  {
   "cell_type": "markdown",
   "metadata": {},
   "source": [
    "## 안심이, 안심귀가 현황파악 크롤링 \n",
    "* 2021.01.01~ 2021.09.30 기간 설정 \n",
    "* +서울시 +여성 \"안심이\" 검색어 설정\n",
    "\n",
    "https://search.naver.com/search.naver?where=news&sm=tab_pge&query=%2B%EC%84%9C%EC%9A%B8%EC%8B%9C%20%2B%EC%97%AC%EC%84%B1%20%22%EC%95%88%EC%8B%AC%EC%9D%B4%22&sort=0&photo=0&field=0&pd=3&ds=2021.01.01&de=2021.09.30&start={i}\n",
    "\n",
    "* 2021.01.01~ 2021.09.30 기간 설정 \n",
    "* +서울시 +여성 안심귀가 검색어 설정\n",
    "\n",
    "https://search.naver.com/search.naver?where=news&sm=tab_pge&query=%2B%EC%84%9C%EC%9A%B8%EC%8B%9C%20%2B%EC%97%AC%EC%84%B1%20%EC%95%88%EC%8B%AC%EA%B7%80%EA%B0%80&sort=0&photo=0&field=0&pd=3&ds=2021.01.01&de=2021.09.30&start={i}"
   ]
  },
  {
   "cell_type": "code",
   "execution_count": 1,
   "metadata": {},
   "outputs": [],
   "source": [
    "from bs4 import BeautifulSoup #  pip install beautifulsoup4 \n",
    "import requests\n",
    "import pandas as pd\n",
    "\n",
    "#01. 페이지 넘기기 설정\n",
    "pageNum =1 \n",
    "lastpage = 10 #마지막 페이지설정!\n",
    "\n",
    "# gui 이용하고 싶다면, 다음이용\n",
    "#import pyautogui  # pip install pyautogui\n",
    "#lastpage = pyautogui.prompt('몇 페이지까지 가져올까요?')"
   ]
  },
  {
   "cell_type": "code",
   "execution_count": 9,
   "metadata": {},
   "outputs": [],
   "source": [
    "# 02. 네이버 뉴스 검색결과 크롤링(제목, 언론사, 출처)\n",
    "# +서울시 +여성 \"안심이\" 검색어 설정\n",
    "\n",
    "title,url,press=[],[],[]\n",
    "for i in range(1, int(lastpage)*10, 10): #한페이지에 10개 뉴스 존재\n",
    "    #02_1) 페이지 설정\n",
    "    response =requests.get(f\"https://search.naver.com/search.naver?where=news&sm=tab_pge&query=%2B%EC%84%9C%EC%9A%B8%EC%8B%9C%20%2B%EC%97%AC%EC%84%B1%20%22%EC%95%88%EC%8B%AC%EC%9D%B4%22&sort=0&photo=0&field=0&pd=3&ds=2021.01.01&de=2021.09.30&start={i}\")  \n",
    "    html =response.text\n",
    "    soup = BeautifulSoup(html, 'html.parser')\n",
    "    links = soup.select(\".news_tit\" )\n",
    "    #02_2) 리스트로 저장\n",
    "    temps = soup.select(\"a.info.press\")\n",
    "    for temp in temps:\n",
    "        press.append(temp.text)\n",
    "    for link in links:\n",
    "        title.append(link.text)\n",
    "        url.append(link.attrs['href']) \n",
    "    pageNum = pageNum +1"
   ]
  },
  {
   "cell_type": "code",
   "execution_count": null,
   "metadata": {},
   "outputs": [],
   "source": [
    "# 02. 네이버 뉴스 검색결과 크롤링(제목, 언론사, 출처)\n",
    "# * +서울시 +여성 안심귀가 검색어 설정\n",
    "\n",
    "title,url,press=[],[],[]\n",
    "for i in range(1, int(lastpage)*10, 10): #한페이지에 10개 뉴스 존재\n",
    "    #02_1) 페이지 설정\n",
    "    response =requests.get(f\"https://search.naver.com/search.naver?where=news&sm=tab_pge&query=%2B%EC%84%9C%EC%9A%B8%EC%8B%9C%20%2B%EC%97%AC%EC%84%B1%20%EC%95%88%EC%8B%AC%EA%B7%80%EA%B0%80&sort=0&photo=0&field=0&pd=3&ds=2021.01.01&de=2021.09.30&start={i}\")  \n",
    "    html =response.text\n",
    "    soup = BeautifulSoup(html, 'html.parser')\n",
    "    links = soup.select(\".news_tit\" )\n",
    "    #02_2) 리스트로 저장\n",
    "    temps = soup.select(\"a.info.press\")\n",
    "    for temp in temps:\n",
    "        press.append(temp.text)\n",
    "    for link in links:\n",
    "        title.append(link.text)\n",
    "        url.append(link.attrs['href']) \n",
    "    pageNum = pageNum +1"
   ]
  },
  {
   "cell_type": "code",
   "execution_count": 10,
   "metadata": {},
   "outputs": [],
   "source": [
    "#03.데이터 저장\n",
    "data = pd.DataFrame({\n",
    "    '언론사':press, \n",
    "    '제목': title, \n",
    "    '주소':url\n",
    "}); data\n",
    "\n",
    "#data.to_excel('aww_data/안심이현황파악.xlsx',encoding='utf-8')\n",
    "data.to_excel('aww_data/안심귀가현황파악.xlsx',encoding='utf-8')"
   ]
  }
 ],
 "metadata": {
  "interpreter": {
   "hash": "380030d1298d5a27518acca789ff38fe82bbf2e68b73263de6a6bf23efb7704c"
  },
  "kernelspec": {
   "display_name": "Python 3.8.3 64-bit ('base': conda)",
   "name": "python3"
  },
  "language_info": {
   "codemirror_mode": {
    "name": "ipython",
    "version": 3
   },
   "file_extension": ".py",
   "mimetype": "text/x-python",
   "name": "python",
   "nbconvert_exporter": "python",
   "pygments_lexer": "ipython3",
   "version": "3.8.3"
  },
  "orig_nbformat": 4
 },
 "nbformat": 4,
 "nbformat_minor": 2
}
