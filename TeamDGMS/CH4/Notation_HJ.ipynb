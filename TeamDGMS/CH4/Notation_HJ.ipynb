{
 "cells": [
  {
   "cell_type": "markdown",
   "metadata": {},
   "source": [
    "2022-10-30"
   ]
  },
  {
   "cell_type": "markdown",
   "metadata": {},
   "source": [
    "# 1. 상점 신용카드 매출 예측\n",
    "## 1. 문제 정의\n",
    "\n",
    "2016년 6월~ 2019년 2월까지의 신용카드 매출 데이터 -> 2019년 3월~ 2019년 5월의 상점별 3개월 총매출 예측\n",
    "\n",
    "- 문제 해결 POINT\n",
    "    - 예측해야하는 결과는 봄 시계열 값으로, 새학기, 황사 등 날씨 영향, 기념일(5 가정의달)등의 변수 有\n",
    "    - 제출파일 평가하는 척도는 MAE : 실제값과 예측값의 차이에 절댓값을 취하고 평균을 계산한 손실함수\n",
    "    \n",
    "\n",
    "- 예측값에 영향을 미치는 변수 정의\n",
    "    - 자영업자 : 평일ㆍ주말 , 시간대, 학기로 나눈 4분기, 공휴일, 개업ㆍ휴업ㆍ폐업\n",
    "    - 카드사 : 포인트적립ㆍ사용, 할부, 현금, 환불ㆍ재결제, 통신장애\n",
    "    - 고객 : usual cost(기본유지비), nonusual cost(예상치못한 소비), 고객 성향(저축orX), 월급날 기준 근처 결제 상황, 경제적 여유에 따른 결제 상황, 국가경제지표(경제성장률, 소비자 물가지수, 주식종합지수, 빅맥지수. 스타벅스 지수 등 )"
   ]
  },
  {
   "cell_type": "markdown",
   "metadata": {},
   "source": [
    "### 1-1. 환경 설정"
   ]
  },
  {
   "cell_type": "code",
   "execution_count": 8,
   "metadata": {},
   "outputs": [
    {
     "name": "stdout",
     "output_type": "stream",
     "text": [
      "Collecting tqdm\n",
      "  Downloading https://files.pythonhosted.org/packages/47/bb/849011636c4da2e44f1253cd927cfb20ada4374d8b3a4e425416e84900cc/tqdm-4.64.1-py2.py3-none-any.whl (78kB)\n",
      "Requirement already satisfied: colorama; platform_system == \"Windows\" in c:\\users\\seohyunjin\\appdata\\local\\programs\\python\\python38\\lib\\site-packages (from tqdm) (0.4.5)\n",
      "Installing collected packages: tqdm\n",
      "Successfully installed tqdm-4.64.1\n"
     ]
    },
    {
     "name": "stderr",
     "output_type": "stream",
     "text": [
      "WARNING: You are using pip version 19.2.3, however version 22.3 is available.\n",
      "You should consider upgrading via the 'python -m pip install --upgrade pip' command.\n"
     ]
    }
   ],
   "source": [
    "! pip install tqdm"
   ]
  },
  {
   "cell_type": "code",
   "execution_count": 18,
   "metadata": {},
   "outputs": [
    {
     "name": "stdout",
     "output_type": "stream",
     "text": [
      "Collecting pmdariam\n"
     ]
    },
    {
     "name": "stderr",
     "output_type": "stream",
     "text": [
      "  ERROR: Could not find a version that satisfies the requirement pmdariam (from versions: none)\n",
      "ERROR: No matching distribution found for pmdariam\n",
      "WARNING: You are using pip version 19.2.3, however version 22.3 is available.\n",
      "You should consider upgrading via the 'python -m pip install --upgrade pip' command.\n"
     ]
    }
   ],
   "source": [
    "# 시계열 데이터 분석 패키지 \n",
    "! pip install pmdariam"
   ]
  },
  {
   "cell_type": "code",
   "execution_count": 12,
   "metadata": {},
   "outputs": [
    {
     "name": "stdout",
     "output_type": "stream",
     "text": [
      "Collecting statsmodels==0.11.1\n",
      "  Downloading https://files.pythonhosted.org/packages/2b/8d/7db2a7005ca66a105ff758c84a75290cd3c6ed4b2bda091a29cb03c7899b/statsmodels-0.11.1-cp38-none-win_amd64.whl (8.3MB)\n",
      "Requirement already satisfied: scipy>=1.0 in c:\\users\\seohyunjin\\appdata\\local\\programs\\python\\python38\\lib\\site-packages (from statsmodels==0.11.1) (1.7.3)\n",
      "Requirement already satisfied: pandas>=0.21 in c:\\users\\seohyunjin\\appdata\\local\\programs\\python\\python38\\lib\\site-packages (from statsmodels==0.11.1) (1.5.1)\n",
      "Collecting patsy>=0.5 (from statsmodels==0.11.1)\n",
      "  Downloading https://files.pythonhosted.org/packages/2a/e4/b3263b0e353f2be7b14f044d57874490c9cef1798a435f038683acea5c98/patsy-0.5.3-py2.py3-none-any.whl (233kB)\n",
      "Requirement already satisfied: numpy>=1.14 in c:\\users\\seohyunjin\\appdata\\local\\programs\\python\\python38\\lib\\site-packages (from statsmodels==0.11.1) (1.21.4)\n",
      "Requirement already satisfied: python-dateutil>=2.8.1 in c:\\users\\seohyunjin\\appdata\\local\\programs\\python\\python38\\lib\\site-packages (from pandas>=0.21->statsmodels==0.11.1) (2.8.2)\n",
      "Requirement already satisfied: pytz>=2020.1 in c:\\users\\seohyunjin\\appdata\\local\\programs\\python\\python38\\lib\\site-packages (from pandas>=0.21->statsmodels==0.11.1) (2022.5)\n",
      "Requirement already satisfied: six in c:\\users\\seohyunjin\\appdata\\local\\programs\\python\\python38\\lib\\site-packages (from patsy>=0.5->statsmodels==0.11.1) (1.16.0)\n",
      "Installing collected packages: patsy, statsmodels\n",
      "Successfully installed patsy-0.5.3 statsmodels-0.11.1\n"
     ]
    },
    {
     "name": "stderr",
     "output_type": "stream",
     "text": [
      "WARNING: You are using pip version 19.2.3, however version 22.3 is available.\n",
      "You should consider upgrading via the 'python -m pip install --upgrade pip' command.\n"
     ]
    }
   ],
   "source": [
    "# statmodels : 검정 및 추정, 회귀분석 , 시계열 데이터 분석 등 통계분석 패키지\n",
    "! pip install statsmodels==0.11.1"
   ]
  },
  {
   "cell_type": "markdown",
   "metadata": {},
   "source": [
    "- 가상환경 커널 추가"
   ]
  },
  {
   "cell_type": "code",
   "execution_count": 13,
   "metadata": {},
   "outputs": [
    {
     "name": "stdout",
     "output_type": "stream",
     "text": [
      "Installed kernelspec store_amount_prediction in C:\\Users\\Seohyunjin\\AppData\\Roaming\\jupyter\\kernels\\store_amount_prediction\n"
     ]
    }
   ],
   "source": [
    "! python -m ipykernel install --user --name store_amount_prediction --display-name \"dacon_prediction\""
   ]
  },
  {
   "cell_type": "markdown",
   "metadata": {},
   "source": [
    "\n",
    "### 1-2. 데이터 로드 및 확인"
   ]
  },
  {
   "cell_type": "code",
   "execution_count": 1,
   "metadata": {},
   "outputs": [],
   "source": [
    "import pandas as pd\n",
    "import os\n",
    "import warnings\n",
    "\n",
    "warnings.filterwarnings(\"ignore\")\n",
    "\n",
    "train = pd.read_csv('data/funda_train.csv')\n",
    "submission = pd.read_csv('data/submission.csv')"
   ]
  },
  {
   "cell_type": "code",
   "execution_count": 2,
   "metadata": {},
   "outputs": [
    {
     "data": {
      "text/plain": [
       "(6556613, 9)"
      ]
     },
     "execution_count": 2,
     "metadata": {},
     "output_type": "execute_result"
    }
   ],
   "source": [
    "train.shape"
   ]
  },
  {
   "cell_type": "code",
   "execution_count": 3,
   "metadata": {},
   "outputs": [
    {
     "data": {
      "text/html": [
       "<div>\n",
       "<style scoped>\n",
       "    .dataframe tbody tr th:only-of-type {\n",
       "        vertical-align: middle;\n",
       "    }\n",
       "\n",
       "    .dataframe tbody tr th {\n",
       "        vertical-align: top;\n",
       "    }\n",
       "\n",
       "    .dataframe thead th {\n",
       "        text-align: right;\n",
       "    }\n",
       "</style>\n",
       "<table border=\"1\" class=\"dataframe\">\n",
       "  <thead>\n",
       "    <tr style=\"text-align: right;\">\n",
       "      <th></th>\n",
       "      <th>store_id</th>\n",
       "      <th>card_id</th>\n",
       "      <th>card_company</th>\n",
       "      <th>transacted_date</th>\n",
       "      <th>transacted_time</th>\n",
       "      <th>installment_term</th>\n",
       "      <th>region</th>\n",
       "      <th>type_of_business</th>\n",
       "      <th>amount</th>\n",
       "    </tr>\n",
       "  </thead>\n",
       "  <tbody>\n",
       "    <tr>\n",
       "      <th>0</th>\n",
       "      <td>0</td>\n",
       "      <td>0</td>\n",
       "      <td>b</td>\n",
       "      <td>2016-06-01</td>\n",
       "      <td>13:13</td>\n",
       "      <td>0</td>\n",
       "      <td>NaN</td>\n",
       "      <td>기타 미용업</td>\n",
       "      <td>1857.142857</td>\n",
       "    </tr>\n",
       "    <tr>\n",
       "      <th>1</th>\n",
       "      <td>0</td>\n",
       "      <td>1</td>\n",
       "      <td>h</td>\n",
       "      <td>2016-06-01</td>\n",
       "      <td>18:12</td>\n",
       "      <td>0</td>\n",
       "      <td>NaN</td>\n",
       "      <td>기타 미용업</td>\n",
       "      <td>857.142857</td>\n",
       "    </tr>\n",
       "    <tr>\n",
       "      <th>2</th>\n",
       "      <td>0</td>\n",
       "      <td>2</td>\n",
       "      <td>c</td>\n",
       "      <td>2016-06-01</td>\n",
       "      <td>18:52</td>\n",
       "      <td>0</td>\n",
       "      <td>NaN</td>\n",
       "      <td>기타 미용업</td>\n",
       "      <td>2000.000000</td>\n",
       "    </tr>\n",
       "    <tr>\n",
       "      <th>3</th>\n",
       "      <td>0</td>\n",
       "      <td>3</td>\n",
       "      <td>a</td>\n",
       "      <td>2016-06-01</td>\n",
       "      <td>20:22</td>\n",
       "      <td>0</td>\n",
       "      <td>NaN</td>\n",
       "      <td>기타 미용업</td>\n",
       "      <td>7857.142857</td>\n",
       "    </tr>\n",
       "    <tr>\n",
       "      <th>4</th>\n",
       "      <td>0</td>\n",
       "      <td>4</td>\n",
       "      <td>c</td>\n",
       "      <td>2016-06-02</td>\n",
       "      <td>11:06</td>\n",
       "      <td>0</td>\n",
       "      <td>NaN</td>\n",
       "      <td>기타 미용업</td>\n",
       "      <td>2000.000000</td>\n",
       "    </tr>\n",
       "  </tbody>\n",
       "</table>\n",
       "</div>"
      ],
      "text/plain": [
       "   store_id  card_id card_company transacted_date transacted_time  \\\n",
       "0         0        0            b      2016-06-01           13:13   \n",
       "1         0        1            h      2016-06-01           18:12   \n",
       "2         0        2            c      2016-06-01           18:52   \n",
       "3         0        3            a      2016-06-01           20:22   \n",
       "4         0        4            c      2016-06-02           11:06   \n",
       "\n",
       "   installment_term region type_of_business       amount  \n",
       "0                 0    NaN           기타 미용업  1857.142857  \n",
       "1                 0    NaN           기타 미용업   857.142857  \n",
       "2                 0    NaN           기타 미용업  2000.000000  \n",
       "3                 0    NaN           기타 미용업  7857.142857  \n",
       "4                 0    NaN           기타 미용업  2000.000000  "
      ]
     },
     "execution_count": 3,
     "metadata": {},
     "output_type": "execute_result"
    }
   ],
   "source": [
    "train.head()"
   ]
  },
  {
   "cell_type": "code",
   "execution_count": 4,
   "metadata": {},
   "outputs": [
    {
     "name": "stdout",
     "output_type": "stream",
     "text": [
      "<class 'pandas.core.frame.DataFrame'>\n",
      "RangeIndex: 6556613 entries, 0 to 6556612\n",
      "Data columns (total 9 columns):\n",
      " #   Column            Dtype  \n",
      "---  ------            -----  \n",
      " 0   store_id          int64  \n",
      " 1   card_id           int64  \n",
      " 2   card_company      object \n",
      " 3   transacted_date   object \n",
      " 4   transacted_time   object \n",
      " 5   installment_term  int64  \n",
      " 6   region            object \n",
      " 7   type_of_business  object \n",
      " 8   amount            float64\n",
      "dtypes: float64(1), int64(3), object(5)\n",
      "memory usage: 450.2+ MB\n"
     ]
    }
   ],
   "source": [
    "train.info()"
   ]
  },
  {
   "cell_type": "code",
   "execution_count": 5,
   "metadata": {},
   "outputs": [
    {
     "data": {
      "text/html": [
       "<div>\n",
       "<style scoped>\n",
       "    .dataframe tbody tr th:only-of-type {\n",
       "        vertical-align: middle;\n",
       "    }\n",
       "\n",
       "    .dataframe tbody tr th {\n",
       "        vertical-align: top;\n",
       "    }\n",
       "\n",
       "    .dataframe thead th {\n",
       "        text-align: right;\n",
       "    }\n",
       "</style>\n",
       "<table border=\"1\" class=\"dataframe\">\n",
       "  <thead>\n",
       "    <tr style=\"text-align: right;\">\n",
       "      <th></th>\n",
       "      <th>store_id</th>\n",
       "      <th>card_id</th>\n",
       "      <th>card_company</th>\n",
       "      <th>transacted_date</th>\n",
       "      <th>transacted_time</th>\n",
       "      <th>installment_term</th>\n",
       "      <th>region</th>\n",
       "      <th>type_of_business</th>\n",
       "      <th>amount</th>\n",
       "    </tr>\n",
       "  </thead>\n",
       "  <tbody>\n",
       "    <tr>\n",
       "      <th>0</th>\n",
       "      <td>0</td>\n",
       "      <td>0</td>\n",
       "      <td>b</td>\n",
       "      <td>2016-06-01</td>\n",
       "      <td>13:13</td>\n",
       "      <td>0</td>\n",
       "      <td>NaN</td>\n",
       "      <td>기타 미용업</td>\n",
       "      <td>1857.142857</td>\n",
       "    </tr>\n",
       "    <tr>\n",
       "      <th>1</th>\n",
       "      <td>0</td>\n",
       "      <td>1</td>\n",
       "      <td>h</td>\n",
       "      <td>2016-06-01</td>\n",
       "      <td>18:12</td>\n",
       "      <td>0</td>\n",
       "      <td>NaN</td>\n",
       "      <td>기타 미용업</td>\n",
       "      <td>857.142857</td>\n",
       "    </tr>\n",
       "    <tr>\n",
       "      <th>2</th>\n",
       "      <td>0</td>\n",
       "      <td>2</td>\n",
       "      <td>c</td>\n",
       "      <td>2016-06-01</td>\n",
       "      <td>18:52</td>\n",
       "      <td>0</td>\n",
       "      <td>NaN</td>\n",
       "      <td>기타 미용업</td>\n",
       "      <td>2000.000000</td>\n",
       "    </tr>\n",
       "    <tr>\n",
       "      <th>3</th>\n",
       "      <td>0</td>\n",
       "      <td>3</td>\n",
       "      <td>a</td>\n",
       "      <td>2016-06-01</td>\n",
       "      <td>20:22</td>\n",
       "      <td>0</td>\n",
       "      <td>NaN</td>\n",
       "      <td>기타 미용업</td>\n",
       "      <td>7857.142857</td>\n",
       "    </tr>\n",
       "    <tr>\n",
       "      <th>4</th>\n",
       "      <td>0</td>\n",
       "      <td>4</td>\n",
       "      <td>c</td>\n",
       "      <td>2016-06-02</td>\n",
       "      <td>11:06</td>\n",
       "      <td>0</td>\n",
       "      <td>NaN</td>\n",
       "      <td>기타 미용업</td>\n",
       "      <td>2000.000000</td>\n",
       "    </tr>\n",
       "  </tbody>\n",
       "</table>\n",
       "</div>"
      ],
      "text/plain": [
       "   store_id  card_id card_company transacted_date transacted_time  \\\n",
       "0         0        0            b      2016-06-01           13:13   \n",
       "1         0        1            h      2016-06-01           18:12   \n",
       "2         0        2            c      2016-06-01           18:52   \n",
       "3         0        3            a      2016-06-01           20:22   \n",
       "4         0        4            c      2016-06-02           11:06   \n",
       "\n",
       "   installment_term region type_of_business       amount  \n",
       "0                 0    NaN           기타 미용업  1857.142857  \n",
       "1                 0    NaN           기타 미용업   857.142857  \n",
       "2                 0    NaN           기타 미용업  2000.000000  \n",
       "3                 0    NaN           기타 미용업  7857.142857  \n",
       "4                 0    NaN           기타 미용업  2000.000000  "
      ]
     },
     "execution_count": 5,
     "metadata": {},
     "output_type": "execute_result"
    }
   ],
   "source": [
    "train[:5]"
   ]
  },
  {
   "cell_type": "code",
   "execution_count": 6,
   "metadata": {},
   "outputs": [
    {
     "data": {
      "text/html": [
       "<div>\n",
       "<style scoped>\n",
       "    .dataframe tbody tr th:only-of-type {\n",
       "        vertical-align: middle;\n",
       "    }\n",
       "\n",
       "    .dataframe tbody tr th {\n",
       "        vertical-align: top;\n",
       "    }\n",
       "\n",
       "    .dataframe thead th {\n",
       "        text-align: right;\n",
       "    }\n",
       "</style>\n",
       "<table border=\"1\" class=\"dataframe\">\n",
       "  <thead>\n",
       "    <tr style=\"text-align: right;\">\n",
       "      <th></th>\n",
       "      <th>store_id</th>\n",
       "      <th>card_id</th>\n",
       "      <th>card_company</th>\n",
       "      <th>transacted_date</th>\n",
       "      <th>transacted_time</th>\n",
       "      <th>installment_term</th>\n",
       "      <th>region</th>\n",
       "      <th>type_of_business</th>\n",
       "      <th>amount</th>\n",
       "    </tr>\n",
       "  </thead>\n",
       "  <tbody>\n",
       "    <tr>\n",
       "      <th>41</th>\n",
       "      <td>0</td>\n",
       "      <td>40</td>\n",
       "      <td>a</td>\n",
       "      <td>2016-06-10</td>\n",
       "      <td>17:26</td>\n",
       "      <td>2</td>\n",
       "      <td>NaN</td>\n",
       "      <td>기타 미용업</td>\n",
       "      <td>-8571.428571</td>\n",
       "    </tr>\n",
       "    <tr>\n",
       "      <th>347</th>\n",
       "      <td>0</td>\n",
       "      <td>285</td>\n",
       "      <td>a</td>\n",
       "      <td>2016-08-04</td>\n",
       "      <td>17:52</td>\n",
       "      <td>0</td>\n",
       "      <td>NaN</td>\n",
       "      <td>기타 미용업</td>\n",
       "      <td>-1857.142857</td>\n",
       "    </tr>\n",
       "    <tr>\n",
       "      <th>731</th>\n",
       "      <td>0</td>\n",
       "      <td>473</td>\n",
       "      <td>g</td>\n",
       "      <td>2016-10-17</td>\n",
       "      <td>10:32</td>\n",
       "      <td>0</td>\n",
       "      <td>NaN</td>\n",
       "      <td>기타 미용업</td>\n",
       "      <td>-2000.000000</td>\n",
       "    </tr>\n",
       "    <tr>\n",
       "      <th>831</th>\n",
       "      <td>0</td>\n",
       "      <td>230</td>\n",
       "      <td>b</td>\n",
       "      <td>2016-11-03</td>\n",
       "      <td>15:36</td>\n",
       "      <td>0</td>\n",
       "      <td>NaN</td>\n",
       "      <td>기타 미용업</td>\n",
       "      <td>-85.714286</td>\n",
       "    </tr>\n",
       "    <tr>\n",
       "      <th>944</th>\n",
       "      <td>0</td>\n",
       "      <td>138</td>\n",
       "      <td>a</td>\n",
       "      <td>2016-11-28</td>\n",
       "      <td>13:21</td>\n",
       "      <td>0</td>\n",
       "      <td>NaN</td>\n",
       "      <td>기타 미용업</td>\n",
       "      <td>-57.142857</td>\n",
       "    </tr>\n",
       "    <tr>\n",
       "      <th>...</th>\n",
       "      <td>...</td>\n",
       "      <td>...</td>\n",
       "      <td>...</td>\n",
       "      <td>...</td>\n",
       "      <td>...</td>\n",
       "      <td>...</td>\n",
       "      <td>...</td>\n",
       "      <td>...</td>\n",
       "      <td>...</td>\n",
       "    </tr>\n",
       "    <tr>\n",
       "      <th>6556242</th>\n",
       "      <td>2136</td>\n",
       "      <td>4663626</td>\n",
       "      <td>b</td>\n",
       "      <td>2019-02-01</td>\n",
       "      <td>21:19</td>\n",
       "      <td>0</td>\n",
       "      <td>제주 제주시</td>\n",
       "      <td>기타 주점업</td>\n",
       "      <td>-13428.571429</td>\n",
       "    </tr>\n",
       "    <tr>\n",
       "      <th>6556448</th>\n",
       "      <td>2136</td>\n",
       "      <td>4663760</td>\n",
       "      <td>d</td>\n",
       "      <td>2019-02-15</td>\n",
       "      <td>00:46</td>\n",
       "      <td>0</td>\n",
       "      <td>제주 제주시</td>\n",
       "      <td>기타 주점업</td>\n",
       "      <td>-6928.571429</td>\n",
       "    </tr>\n",
       "    <tr>\n",
       "      <th>6556485</th>\n",
       "      <td>2136</td>\n",
       "      <td>4663779</td>\n",
       "      <td>b</td>\n",
       "      <td>2019-02-18</td>\n",
       "      <td>02:45</td>\n",
       "      <td>0</td>\n",
       "      <td>제주 제주시</td>\n",
       "      <td>기타 주점업</td>\n",
       "      <td>-5571.428571</td>\n",
       "    </tr>\n",
       "    <tr>\n",
       "      <th>6556489</th>\n",
       "      <td>2136</td>\n",
       "      <td>4663780</td>\n",
       "      <td>d</td>\n",
       "      <td>2019-02-18</td>\n",
       "      <td>21:43</td>\n",
       "      <td>0</td>\n",
       "      <td>제주 제주시</td>\n",
       "      <td>기타 주점업</td>\n",
       "      <td>-8571.428571</td>\n",
       "    </tr>\n",
       "    <tr>\n",
       "      <th>6556608</th>\n",
       "      <td>2136</td>\n",
       "      <td>4663855</td>\n",
       "      <td>d</td>\n",
       "      <td>2019-02-28</td>\n",
       "      <td>23:20</td>\n",
       "      <td>0</td>\n",
       "      <td>제주 제주시</td>\n",
       "      <td>기타 주점업</td>\n",
       "      <td>-4500.000000</td>\n",
       "    </tr>\n",
       "  </tbody>\n",
       "</table>\n",
       "<p>73100 rows × 9 columns</p>\n",
       "</div>"
      ],
      "text/plain": [
       "         store_id  card_id card_company transacted_date transacted_time  \\\n",
       "41              0       40            a      2016-06-10           17:26   \n",
       "347             0      285            a      2016-08-04           17:52   \n",
       "731             0      473            g      2016-10-17           10:32   \n",
       "831             0      230            b      2016-11-03           15:36   \n",
       "944             0      138            a      2016-11-28           13:21   \n",
       "...           ...      ...          ...             ...             ...   \n",
       "6556242      2136  4663626            b      2019-02-01           21:19   \n",
       "6556448      2136  4663760            d      2019-02-15           00:46   \n",
       "6556485      2136  4663779            b      2019-02-18           02:45   \n",
       "6556489      2136  4663780            d      2019-02-18           21:43   \n",
       "6556608      2136  4663855            d      2019-02-28           23:20   \n",
       "\n",
       "         installment_term  region type_of_business        amount  \n",
       "41                      2     NaN           기타 미용업  -8571.428571  \n",
       "347                     0     NaN           기타 미용업  -1857.142857  \n",
       "731                     0     NaN           기타 미용업  -2000.000000  \n",
       "831                     0     NaN           기타 미용업    -85.714286  \n",
       "944                     0     NaN           기타 미용업    -57.142857  \n",
       "...                   ...     ...              ...           ...  \n",
       "6556242                 0  제주 제주시           기타 주점업 -13428.571429  \n",
       "6556448                 0  제주 제주시           기타 주점업  -6928.571429  \n",
       "6556485                 0  제주 제주시           기타 주점업  -5571.428571  \n",
       "6556489                 0  제주 제주시           기타 주점업  -8571.428571  \n",
       "6556608                 0  제주 제주시           기타 주점업  -4500.000000  \n",
       "\n",
       "[73100 rows x 9 columns]"
      ]
     },
     "execution_count": 6,
     "metadata": {},
     "output_type": "execute_result"
    }
   ],
   "source": [
    "train[train['amount']<0] \n",
    "# 매출액에 음수값은 환불을 의미 -> 이상치로 제거함"
   ]
  },
  {
   "cell_type": "markdown",
   "metadata": {},
   "source": [
    "## 2. 데이터 전처리\n",
    "### 2-1. 노이즈 제거"
   ]
  },
  {
   "cell_type": "code",
   "execution_count": 9,
   "metadata": {},
   "outputs": [
    {
     "data": {
      "text/html": [
       "<div>\n",
       "<style scoped>\n",
       "    .dataframe tbody tr th:only-of-type {\n",
       "        vertical-align: middle;\n",
       "    }\n",
       "\n",
       "    .dataframe tbody tr th {\n",
       "        vertical-align: top;\n",
       "    }\n",
       "\n",
       "    .dataframe thead th {\n",
       "        text-align: right;\n",
       "    }\n",
       "</style>\n",
       "<table border=\"1\" class=\"dataframe\">\n",
       "  <thead>\n",
       "    <tr style=\"text-align: right;\">\n",
       "      <th></th>\n",
       "      <th>store_id</th>\n",
       "      <th>card_id</th>\n",
       "      <th>card_company</th>\n",
       "      <th>transacted_date</th>\n",
       "      <th>transacted_time</th>\n",
       "      <th>installment_term</th>\n",
       "      <th>region</th>\n",
       "      <th>type_of_business</th>\n",
       "      <th>amount</th>\n",
       "    </tr>\n",
       "  </thead>\n",
       "  <tbody>\n",
       "    <tr>\n",
       "      <th>0</th>\n",
       "      <td>0</td>\n",
       "      <td>0</td>\n",
       "      <td>b</td>\n",
       "      <td>2016-06-01</td>\n",
       "      <td>13:13</td>\n",
       "      <td>0</td>\n",
       "      <td>NaN</td>\n",
       "      <td>기타 미용업</td>\n",
       "      <td>1857.142857</td>\n",
       "    </tr>\n",
       "    <tr>\n",
       "      <th>1</th>\n",
       "      <td>0</td>\n",
       "      <td>1</td>\n",
       "      <td>h</td>\n",
       "      <td>2016-06-01</td>\n",
       "      <td>18:12</td>\n",
       "      <td>0</td>\n",
       "      <td>NaN</td>\n",
       "      <td>기타 미용업</td>\n",
       "      <td>857.142857</td>\n",
       "    </tr>\n",
       "    <tr>\n",
       "      <th>2</th>\n",
       "      <td>0</td>\n",
       "      <td>2</td>\n",
       "      <td>c</td>\n",
       "      <td>2016-06-01</td>\n",
       "      <td>18:52</td>\n",
       "      <td>0</td>\n",
       "      <td>NaN</td>\n",
       "      <td>기타 미용업</td>\n",
       "      <td>2000.000000</td>\n",
       "    </tr>\n",
       "    <tr>\n",
       "      <th>3</th>\n",
       "      <td>0</td>\n",
       "      <td>3</td>\n",
       "      <td>a</td>\n",
       "      <td>2016-06-01</td>\n",
       "      <td>20:22</td>\n",
       "      <td>0</td>\n",
       "      <td>NaN</td>\n",
       "      <td>기타 미용업</td>\n",
       "      <td>7857.142857</td>\n",
       "    </tr>\n",
       "    <tr>\n",
       "      <th>4</th>\n",
       "      <td>0</td>\n",
       "      <td>4</td>\n",
       "      <td>c</td>\n",
       "      <td>2016-06-02</td>\n",
       "      <td>11:06</td>\n",
       "      <td>0</td>\n",
       "      <td>NaN</td>\n",
       "      <td>기타 미용업</td>\n",
       "      <td>2000.000000</td>\n",
       "    </tr>\n",
       "  </tbody>\n",
       "</table>\n",
       "</div>"
      ],
      "text/plain": [
       "   store_id  card_id card_company transacted_date transacted_time  \\\n",
       "0         0        0            b      2016-06-01           13:13   \n",
       "1         0        1            h      2016-06-01           18:12   \n",
       "2         0        2            c      2016-06-01           18:52   \n",
       "3         0        3            a      2016-06-01           20:22   \n",
       "4         0        4            c      2016-06-02           11:06   \n",
       "\n",
       "   installment_term region type_of_business       amount  \n",
       "0                 0    NaN           기타 미용업  1857.142857  \n",
       "1                 0    NaN           기타 미용업   857.142857  \n",
       "2                 0    NaN           기타 미용업  2000.000000  \n",
       "3                 0    NaN           기타 미용업  7857.142857  \n",
       "4                 0    NaN           기타 미용업  2000.000000  "
      ]
     },
     "execution_count": 9,
     "metadata": {},
     "output_type": "execute_result"
    }
   ],
   "source": [
    "import pandas as pd\n",
    "import numpy as np\n",
    "import seaborn as sns\n",
    "from tqdm import tqdm\n",
    "import matplotlib.pyplot as plt\n",
    "\n",
    "train = pd.read_csv('data/funda_train.csv')\n",
    "train.head() # region에 결측치 확인"
   ]
  },
  {
   "cell_type": "markdown",
   "metadata": {},
   "source": [
    "#### (1) 단순 null 확인"
   ]
  },
  {
   "cell_type": "code",
   "execution_count": 16,
   "metadata": {},
   "outputs": [
    {
     "data": {
      "text/plain": [
       "([0, 1, 2, 3, 4, 5, 6, 7, 8],\n",
       " [Text(0, 0, 'store_id'),\n",
       "  Text(1, 0, 'card_id'),\n",
       "  Text(2, 0, 'card_company'),\n",
       "  Text(3, 0, 'transacted_date'),\n",
       "  Text(4, 0, 'transacted_time'),\n",
       "  Text(5, 0, 'installment_term'),\n",
       "  Text(6, 0, 'region'),\n",
       "  Text(7, 0, 'type_of_business'),\n",
       "  Text(8, 0, 'amount')])"
      ]
     },
     "execution_count": 16,
     "metadata": {},
     "output_type": "execute_result"
    },
    {
     "data": {
      "image/png": "[encoded data removed]",
      "text/plain": [
       "<Figure size 1300x400 with 1 Axes>"
      ]
     },
     "metadata": {},
     "output_type": "display_data"
    }
   ],
   "source": [
    "\n",
    "plt.figure(figsize=(13, 4))\n",
    "plt.bar(train.columns, train.isnull().sum())\n",
    "plt.xticks(rotation=45)\n",
    "# 지역과 업종(type of business) 결측치 절반이상이 존재함. 범주형 속성이고, 대치방법 없어 -> 열 제거"
   ]
  },
  {
   "cell_type": "code",
   "execution_count": 3,
   "metadata": {},
   "outputs": [
    {
     "data": {
      "text/html": [
       "<div>\n",
       "<style scoped>\n",
       "    .dataframe tbody tr th:only-of-type {\n",
       "        vertical-align: middle;\n",
       "    }\n",
       "\n",
       "    .dataframe tbody tr th {\n",
       "        vertical-align: top;\n",
       "    }\n",
       "\n",
       "    .dataframe thead th {\n",
       "        text-align: right;\n",
       "    }\n",
       "</style>\n",
       "<table border=\"1\" class=\"dataframe\">\n",
       "  <thead>\n",
       "    <tr style=\"text-align: right;\">\n",
       "      <th></th>\n",
       "      <th>store_id</th>\n",
       "      <th>card_id</th>\n",
       "      <th>card_company</th>\n",
       "      <th>transacted_date</th>\n",
       "      <th>transacted_time</th>\n",
       "      <th>installment_term</th>\n",
       "      <th>amount</th>\n",
       "    </tr>\n",
       "  </thead>\n",
       "  <tbody>\n",
       "    <tr>\n",
       "      <td>0</td>\n",
       "      <td>0</td>\n",
       "      <td>0</td>\n",
       "      <td>b</td>\n",
       "      <td>2016-06-01</td>\n",
       "      <td>13:13</td>\n",
       "      <td>0</td>\n",
       "      <td>1857.142857</td>\n",
       "    </tr>\n",
       "    <tr>\n",
       "      <td>1</td>\n",
       "      <td>0</td>\n",
       "      <td>1</td>\n",
       "      <td>h</td>\n",
       "      <td>2016-06-01</td>\n",
       "      <td>18:12</td>\n",
       "      <td>0</td>\n",
       "      <td>857.142857</td>\n",
       "    </tr>\n",
       "    <tr>\n",
       "      <td>2</td>\n",
       "      <td>0</td>\n",
       "      <td>2</td>\n",
       "      <td>c</td>\n",
       "      <td>2016-06-01</td>\n",
       "      <td>18:52</td>\n",
       "      <td>0</td>\n",
       "      <td>2000.000000</td>\n",
       "    </tr>\n",
       "    <tr>\n",
       "      <td>3</td>\n",
       "      <td>0</td>\n",
       "      <td>3</td>\n",
       "      <td>a</td>\n",
       "      <td>2016-06-01</td>\n",
       "      <td>20:22</td>\n",
       "      <td>0</td>\n",
       "      <td>7857.142857</td>\n",
       "    </tr>\n",
       "    <tr>\n",
       "      <td>4</td>\n",
       "      <td>0</td>\n",
       "      <td>4</td>\n",
       "      <td>c</td>\n",
       "      <td>2016-06-02</td>\n",
       "      <td>11:06</td>\n",
       "      <td>0</td>\n",
       "      <td>2000.000000</td>\n",
       "    </tr>\n",
       "  </tbody>\n",
       "</table>\n",
       "</div>"
      ],
      "text/plain": [
       "   store_id  card_id card_company transacted_date transacted_time  \\\n",
       "0         0        0            b      2016-06-01           13:13   \n",
       "1         0        1            h      2016-06-01           18:12   \n",
       "2         0        2            c      2016-06-01           18:52   \n",
       "3         0        3            a      2016-06-01           20:22   \n",
       "4         0        4            c      2016-06-02           11:06   \n",
       "\n",
       "   installment_term       amount  \n",
       "0                 0  1857.142857  \n",
       "1                 0   857.142857  \n",
       "2                 0  2000.000000  \n",
       "3                 0  7857.142857  \n",
       "4                 0  2000.000000  "
      ]
     },
     "execution_count": 3,
     "metadata": {},
     "output_type": "execute_result"
    }
   ],
   "source": [
    "train = train.drop(['region','type_of_business'],axis=1)\n",
    "train.head()"
   ]
  },
  {
   "cell_type": "markdown",
   "metadata": {},
   "source": [
    "#### (2) 변수 특성에 맞는 이상치 탐색\n",
    "- amount 매출액에 음수가 있을 경우는 '환불'을 의미하여, 추후 상점의 매출액을 예측할때 방해가 되는 noise임.\n",
    "\n",
    "-> 환불 발생 시간 이전 거래중 음수값과 같은 절댓값(크기)의 양수값을 삭제 ( 결국 구매를 안한 것이기 때문 )\n",
    "- 환불 발생일 및 발생 시간 이전 시점 확인 / 카드 아이디 확인 / 같은 절댓값을 가지는 거래 확인 -> index 기준 행제거"
   ]
  },
  {
   "cell_type": "code",
   "execution_count": 4,
   "metadata": {},
   "outputs": [
    {
     "name": "stderr",
     "output_type": "stream",
     "text": [
      "C:\\Users\\sk8er\\anaconda3\\envs\\store_amount_prediction\\lib\\site-packages\\seaborn\\_decorators.py:43: FutureWarning: Pass the following variable as a keyword arg: x. From version 0.12, the only valid positional argument will be `data`, and passing other arguments without an explicit keyword will result in an error or misinterpretation.\n",
      "  FutureWarning\n"
     ]
    },
    {
     "data": {
      "text/plain": [
       "<AxesSubplot:xlabel='amount'>"
      ]
     },
     "execution_count": 4,
     "metadata": {},
     "output_type": "execute_result"
    },
    {
     "data": {
      "image/png": "[encoded data removed]",
      "text/plain": [
       "<Figure size 576x288 with 1 Axes>"
      ]
     },
     "metadata": {
      "needs_background": "light"
     },
     "output_type": "display_data"
    }
   ],
   "source": [
    "#2. \n",
    "plt.figure(figsize=(8, 4))\n",
    "sns.boxplot(train['amount'])"
   ]
  },
  {
   "cell_type": "code",
   "execution_count": 5,
   "metadata": {},
   "outputs": [
    {
     "data": {
      "text/html": [
       "<div>\n",
       "<style scoped>\n",
       "    .dataframe tbody tr th:only-of-type {\n",
       "        vertical-align: middle;\n",
       "    }\n",
       "\n",
       "    .dataframe tbody tr th {\n",
       "        vertical-align: top;\n",
       "    }\n",
       "\n",
       "    .dataframe thead th {\n",
       "        text-align: right;\n",
       "    }\n",
       "</style>\n",
       "<table border=\"1\" class=\"dataframe\">\n",
       "  <thead>\n",
       "    <tr style=\"text-align: right;\">\n",
       "      <th></th>\n",
       "      <th>store_id</th>\n",
       "      <th>card_id</th>\n",
       "      <th>card_company</th>\n",
       "      <th>transacted_date</th>\n",
       "      <th>transacted_time</th>\n",
       "      <th>installment_term</th>\n",
       "      <th>amount</th>\n",
       "    </tr>\n",
       "  </thead>\n",
       "  <tbody>\n",
       "    <tr>\n",
       "      <td>41</td>\n",
       "      <td>0</td>\n",
       "      <td>40</td>\n",
       "      <td>a</td>\n",
       "      <td>2016-06-10</td>\n",
       "      <td>17:26</td>\n",
       "      <td>2</td>\n",
       "      <td>-8571.428571</td>\n",
       "    </tr>\n",
       "    <tr>\n",
       "      <td>347</td>\n",
       "      <td>0</td>\n",
       "      <td>285</td>\n",
       "      <td>a</td>\n",
       "      <td>2016-08-04</td>\n",
       "      <td>17:52</td>\n",
       "      <td>0</td>\n",
       "      <td>-1857.142857</td>\n",
       "    </tr>\n",
       "    <tr>\n",
       "      <td>731</td>\n",
       "      <td>0</td>\n",
       "      <td>473</td>\n",
       "      <td>g</td>\n",
       "      <td>2016-10-17</td>\n",
       "      <td>10:32</td>\n",
       "      <td>0</td>\n",
       "      <td>-2000.000000</td>\n",
       "    </tr>\n",
       "    <tr>\n",
       "      <td>831</td>\n",
       "      <td>0</td>\n",
       "      <td>230</td>\n",
       "      <td>b</td>\n",
       "      <td>2016-11-03</td>\n",
       "      <td>15:36</td>\n",
       "      <td>0</td>\n",
       "      <td>-85.714286</td>\n",
       "    </tr>\n",
       "    <tr>\n",
       "      <td>944</td>\n",
       "      <td>0</td>\n",
       "      <td>138</td>\n",
       "      <td>a</td>\n",
       "      <td>2016-11-28</td>\n",
       "      <td>13:21</td>\n",
       "      <td>0</td>\n",
       "      <td>-57.142857</td>\n",
       "    </tr>\n",
       "  </tbody>\n",
       "</table>\n",
       "</div>"
      ],
      "text/plain": [
       "     store_id  card_id card_company transacted_date transacted_time  \\\n",
       "41          0       40            a      2016-06-10           17:26   \n",
       "347         0      285            a      2016-08-04           17:52   \n",
       "731         0      473            g      2016-10-17           10:32   \n",
       "831         0      230            b      2016-11-03           15:36   \n",
       "944         0      138            a      2016-11-28           13:21   \n",
       "\n",
       "     installment_term       amount  \n",
       "41                  2 -8571.428571  \n",
       "347                 0 -1857.142857  \n",
       "731                 0 -2000.000000  \n",
       "831                 0   -85.714286  \n",
       "944                 0   -57.142857  "
      ]
     },
     "execution_count": 5,
     "metadata": {},
     "output_type": "execute_result"
    }
   ],
   "source": [
    "train[train['amount']<0].head()"
   ]
  },
  {
   "cell_type": "code",
   "execution_count": 6,
   "metadata": {},
   "outputs": [],
   "source": [
    "# 거래일와 거래시간을 합친 변수를 생성합니다.\n",
    "train['datetime'] = pd.to_datetime(train.transacted_date + \" \" + \n",
    "                                train.transacted_time, format='%Y-%m-%d %H:%M:%S')\n",
    "## 환불 거래를 제거하는 함수를 정의합니다.\n",
    "def remove_refund(df):\n",
    "    refund = df[df['amount']<0] # 매출액 음숫값 데이터를 추출합니다.\n",
    "    non_refund = df[df['amount']>0] # 매출액 양숫값 데이터를 추출합니다.\n",
    "    removed_data = pd.DataFrame()\n",
    "    \n",
    "    for i in tqdm(df.store_id.unique()):\n",
    "        # 매출액이 양숫값인 데이터를 상점별로 나눕니다.\n",
    "        divided_data = non_refund[non_refund['store_id']==i] \n",
    "        # 매출액이 음숫값인 데이터를 상점별로 나눕니다.\n",
    "        divided_data2 = refund[refund['store_id']==i] \n",
    "        \n",
    "        for neg in divided_data2.to_records()[:]: # 환불 데이터를 차례대로 검사합니다.\n",
    "            refund_store = neg['store_id']\n",
    "            refund_id = neg['card_id'] # 환불 카드 아이디를 추출합니다.\n",
    "            refund_datetime = neg['datetime'] # 환불 시간을 추출합니다.\n",
    "            refund_amount = abs(neg['amount']) # 매출 음숫값의 절댓값을 구합니다.\n",
    "                \n",
    "            ## 환불 시간 이전의 데이터 중 카드 이이디와 환불액이 같은 후보 리스트를 뽑습니다.\n",
    "            refund_pay_list = divided_data[divided_data['datetime']<=refund_datetime]\n",
    "            refund_pay_list = refund_pay_list[refund_pay_list['card_id']==refund_id]\n",
    "            refund_pay_list = refund_pay_list[refund_pay_list['amount']==refund_amount]\n",
    "                     \n",
    "            # 후보 리스트가 있으면 카드 아이디, 환불액이 같으면서 가장 최근시간을 제거합니다.\n",
    "            if(len(refund_pay_list)!=0):\n",
    "                refund_datetime = max(refund_pay_list['datetime']) # 가장 최근 시간을 구합니다\n",
    "                noise_list = divided_data[divided_data['datetime']==refund_datetime] # 가장 최근시간\n",
    "                noise_list = noise_list[noise_list['card_id']==refund_id] # 환불 카드 아이디\n",
    "                noise_list = noise_list[noise_list['amount']==refund_amount] ## 환불액\n",
    "                divided_data = divided_data.drop(index=noise_list.index) # 인덱스를 통해 제거\n",
    "                    \n",
    "        ## 제거한 데이터를 데이터프레임에 추가합니다.\n",
    "        removed_data = pd.concat([removed_data,divided_data],axis=0)\n",
    "    \n",
    "    return removed_data"
   ]
  },
  {
   "cell_type": "code",
   "execution_count": 7,
   "metadata": {},
   "outputs": [
    {
     "name": "stderr",
     "output_type": "stream",
     "text": [
      "100%|██████████████████████████████████████████████████████████████████████████████| 1967/1967 [08:15<00:00,  3.97it/s]\n",
      "C:\\Users\\sk8er\\anaconda3\\envs\\store_amount_prediction\\lib\\site-packages\\seaborn\\_decorators.py:43: FutureWarning: Pass the following variable as a keyword arg: x. From version 0.12, the only valid positional argument will be `data`, and passing other arguments without an explicit keyword will result in an error or misinterpretation.\n",
      "  FutureWarning\n"
     ]
    },
    {
     "data": {
      "text/plain": [
       "<AxesSubplot:xlabel='amount'>"
      ]
     },
     "execution_count": 7,
     "metadata": {},
     "output_type": "execute_result"
    },
    {
     "data": {
      "image/png": "[encoded data removed]",
      "text/plain": [
       "<Figure size 576x288 with 1 Axes>"
      ]
     },
     "metadata": {
      "needs_background": "light"
     },
     "output_type": "display_data"
    }
   ],
   "source": [
    "## 환불 거래 제거 함수를 통해 환불 거래를 제거\n",
    "positive_data = remove_refund(train)\n",
    "plt.figure(figsize=(8, 4))\n",
    "sns.boxplot(positive_data['amount'])"
   ]
  },
  {
   "cell_type": "markdown",
   "metadata": {},
   "source": [
    "### 2-2. 다운 샘플링\n",
    "다운 샘플링 Downsampling : 시계열 데이터에서 시간간격을 넓게 재조정하여 데이터 샘플 수를 줄이는 것( 타임스탬프의 빈도를 줄임)\n",
    "\n",
    "업 샘플링 Upsampling : (타임스탬프의 빈도를 늘림)\n",
    "\n",
    "- 다운샘플링과 업샘플링은 index가 datetime 형식이여야 지원 가능 \n",
    "- ★이때 , 목적 = 3개월간의 매출을 예측하는 것. BUT, 시간간격을 좁게해 시계열 모델을 만들면 예측해야하는 구간의 불확실성이 증가함 -> 다운샘플링을 통해 샘플의 수를 줄여 예측구간을 작게 해야함 \n",
    "\n",
    "\n",
    "#### 다운 샘플링\n",
    "\n",
    "원본 시계열보다 타임스탬프가 더 낮은 빈도로 발생하게끔 데이터의 부분집합을 생성\n",
    "1) 원본데이터의 시간단위가 실용적이지 않은 경우 ( 너무 자주 측정하는 경우, 즉, 저장 공간 및 처리에 대한 부담만큼 새로운 정보가 아님)\n",
    "2) 계절 주기의 특정 부분에 집중하는 경우 ( 1월만 보고싶을때만 매년 1월만 추출해서 확인)\n",
    "3) 더 낮은 빈도의 데이터에 맞추는 경우 \n",
    "\n",
    "\n",
    "#### 업 샘플링 \n",
    "데이터가 실제보다 더 자주 수집된 것처럼 데이터를 표현\n",
    "1) 시계열이 불규칙적인 상황 ( 불규칙한 시계열을 규칙적으로 변환할때)\n",
    "2) 입력이 서로 다른 빈도로 샘플링된 상황 ( 서로 다른 빈도 데이터를 같은 시간대로 정렬하기 위해, 사전 관찰에 유의 필요)\n",
    "\n",
    "\n",
    "\n",
    "\n",
    "\n"
   ]
  },
  {
   "cell_type": "code",
   "execution_count": 8,
   "metadata": {},
   "outputs": [
    {
     "data": {
      "text/html": [
       "<div>\n",
       "<style scoped>\n",
       "    .dataframe tbody tr th:only-of-type {\n",
       "        vertical-align: middle;\n",
       "    }\n",
       "\n",
       "    .dataframe tbody tr th {\n",
       "        vertical-align: top;\n",
       "    }\n",
       "\n",
       "    .dataframe thead th {\n",
       "        text-align: right;\n",
       "    }\n",
       "</style>\n",
       "<table border=\"1\" class=\"dataframe\">\n",
       "  <thead>\n",
       "    <tr style=\"text-align: right;\">\n",
       "      <th></th>\n",
       "      <th>store_id</th>\n",
       "      <th>card_id</th>\n",
       "      <th>card_company</th>\n",
       "      <th>transacted_date</th>\n",
       "      <th>transacted_time</th>\n",
       "      <th>installment_term</th>\n",
       "      <th>amount</th>\n",
       "      <th>datetime</th>\n",
       "    </tr>\n",
       "  </thead>\n",
       "  <tbody>\n",
       "    <tr>\n",
       "      <td>0</td>\n",
       "      <td>0</td>\n",
       "      <td>0</td>\n",
       "      <td>b</td>\n",
       "      <td>2016-06-01</td>\n",
       "      <td>13:13</td>\n",
       "      <td>0</td>\n",
       "      <td>1857.142857</td>\n",
       "      <td>2016-06-01 13:13:00</td>\n",
       "    </tr>\n",
       "    <tr>\n",
       "      <td>1</td>\n",
       "      <td>0</td>\n",
       "      <td>1</td>\n",
       "      <td>h</td>\n",
       "      <td>2016-06-01</td>\n",
       "      <td>18:12</td>\n",
       "      <td>0</td>\n",
       "      <td>857.142857</td>\n",
       "      <td>2016-06-01 18:12:00</td>\n",
       "    </tr>\n",
       "    <tr>\n",
       "      <td>2</td>\n",
       "      <td>0</td>\n",
       "      <td>2</td>\n",
       "      <td>c</td>\n",
       "      <td>2016-06-01</td>\n",
       "      <td>18:52</td>\n",
       "      <td>0</td>\n",
       "      <td>2000.000000</td>\n",
       "      <td>2016-06-01 18:52:00</td>\n",
       "    </tr>\n",
       "    <tr>\n",
       "      <td>3</td>\n",
       "      <td>0</td>\n",
       "      <td>3</td>\n",
       "      <td>a</td>\n",
       "      <td>2016-06-01</td>\n",
       "      <td>20:22</td>\n",
       "      <td>0</td>\n",
       "      <td>7857.142857</td>\n",
       "      <td>2016-06-01 20:22:00</td>\n",
       "    </tr>\n",
       "    <tr>\n",
       "      <td>4</td>\n",
       "      <td>0</td>\n",
       "      <td>4</td>\n",
       "      <td>c</td>\n",
       "      <td>2016-06-02</td>\n",
       "      <td>11:06</td>\n",
       "      <td>0</td>\n",
       "      <td>2000.000000</td>\n",
       "      <td>2016-06-02 11:06:00</td>\n",
       "    </tr>\n",
       "  </tbody>\n",
       "</table>\n",
       "</div>"
      ],
      "text/plain": [
       "   store_id  card_id card_company transacted_date transacted_time  \\\n",
       "0         0        0            b      2016-06-01           13:13   \n",
       "1         0        1            h      2016-06-01           18:12   \n",
       "2         0        2            c      2016-06-01           18:52   \n",
       "3         0        3            a      2016-06-01           20:22   \n",
       "4         0        4            c      2016-06-02           11:06   \n",
       "\n",
       "   installment_term       amount            datetime  \n",
       "0                 0  1857.142857 2016-06-01 13:13:00  \n",
       "1                 0   857.142857 2016-06-01 18:12:00  \n",
       "2                 0  2000.000000 2016-06-01 18:52:00  \n",
       "3                 0  7857.142857 2016-06-01 20:22:00  \n",
       "4                 0  2000.000000 2016-06-02 11:06:00  "
      ]
     },
     "execution_count": 8,
     "metadata": {},
     "output_type": "execute_result"
    }
   ],
   "source": [
    "# 5개의 행을 출력합니다.\n",
    "positive_data.head()"
   ]
  },
  {
   "cell_type": "code",
   "execution_count": 9,
   "metadata": {},
   "outputs": [],
   "source": [
    "## 월 단위 다운 샘플링 함수를 정의\n",
    "def month_resampling(df):\n",
    "    new_data = pd.DataFrame() \n",
    "    # 년도와 월을 합친 변수를 생성합니다.\n",
    "    df['year_month'] = df['transacted_date'].str.slice(stop=7)\n",
    "    # 데이터의 전체 기간을 추출합니다.\n",
    "    year_month = df['year_month'].drop_duplicates()\n",
    "    # 상점 아이디별로 월 단위 매출액 총합을 구합니다.\n",
    "    downsampling_data = df.groupby(['store_id', 'year_month']).amount.sum()\n",
    "    downsampling_data = pd.DataFrame(downsampling_data)\n",
    "    downsampling_data = downsampling_data.reset_index(drop=False,inplace=False)\n",
    "    \n",
    "    for i in tqdm(df.store_id.unique()):\n",
    "        # 상점별로 데이터를 처리합니다.\n",
    "        store = downsampling_data[downsampling_data['store_id']==i]\n",
    "        # 각 상점의 처음 매출이 발생한 월을 구합니다.\n",
    "        start_time = min(store['year_month'])\n",
    "        # 모든 상점을 전체 기간 데이터로 만듭니다.\n",
    "        store = store.merge(year_month,how='outer')\n",
    "        # 데이터를 시간순으로 정렬합니다.\n",
    "        store = store.sort_values(by=['year_month'], axis=0, ascending=True) \n",
    "        store['amount'] = store['amount'].fillna(2)   # 매출이 발생하지 않는 월은 2로 채웁니다.\n",
    "        store['store_id'] = store['store_id'].fillna(i)  # 상점 아이디 결측치를 채웁니다.\n",
    "        store = store[store['year_month']>=start_time]  # 처음 매출이 발생한 월 이후만 뽑습니다.\n",
    "        \n",
    "        new_data = pd.concat([new_data,store],axis=0)\n",
    "        \n",
    "    return new_data\n"
   ]
  },
  {
   "cell_type": "code",
   "execution_count": 10,
   "metadata": {},
   "outputs": [
    {
     "name": "stderr",
     "output_type": "stream",
     "text": [
      "100%|█████████████████████████████████████████████████████████████████████████████| 1967/1967 [00:08<00:00, 236.62it/s]\n"
     ]
    },
    {
     "data": {
      "text/html": [
       "<div>\n",
       "<style scoped>\n",
       "    .dataframe tbody tr th:only-of-type {\n",
       "        vertical-align: middle;\n",
       "    }\n",
       "\n",
       "    .dataframe tbody tr th {\n",
       "        vertical-align: top;\n",
       "    }\n",
       "\n",
       "    .dataframe thead th {\n",
       "        text-align: right;\n",
       "    }\n",
       "</style>\n",
       "<table border=\"1\" class=\"dataframe\">\n",
       "  <thead>\n",
       "    <tr style=\"text-align: right;\">\n",
       "      <th></th>\n",
       "      <th>store_id</th>\n",
       "      <th>year_month</th>\n",
       "      <th>amount</th>\n",
       "    </tr>\n",
       "  </thead>\n",
       "  <tbody>\n",
       "    <tr>\n",
       "      <td>0</td>\n",
       "      <td>0</td>\n",
       "      <td>2016-06</td>\n",
       "      <td>7.470000e+05</td>\n",
       "    </tr>\n",
       "    <tr>\n",
       "      <td>1</td>\n",
       "      <td>0</td>\n",
       "      <td>2016-07</td>\n",
       "      <td>1.005000e+06</td>\n",
       "    </tr>\n",
       "    <tr>\n",
       "      <td>2</td>\n",
       "      <td>0</td>\n",
       "      <td>2016-08</td>\n",
       "      <td>8.697143e+05</td>\n",
       "    </tr>\n",
       "    <tr>\n",
       "      <td>3</td>\n",
       "      <td>0</td>\n",
       "      <td>2016-09</td>\n",
       "      <td>8.978571e+05</td>\n",
       "    </tr>\n",
       "    <tr>\n",
       "      <td>4</td>\n",
       "      <td>0</td>\n",
       "      <td>2016-10</td>\n",
       "      <td>8.354286e+05</td>\n",
       "    </tr>\n",
       "    <tr>\n",
       "      <td>...</td>\n",
       "      <td>...</td>\n",
       "      <td>...</td>\n",
       "      <td>...</td>\n",
       "    </tr>\n",
       "    <tr>\n",
       "      <td>17</td>\n",
       "      <td>2136</td>\n",
       "      <td>2018-10</td>\n",
       "      <td>2.012214e+06</td>\n",
       "    </tr>\n",
       "    <tr>\n",
       "      <td>18</td>\n",
       "      <td>2136</td>\n",
       "      <td>2018-11</td>\n",
       "      <td>2.127643e+06</td>\n",
       "    </tr>\n",
       "    <tr>\n",
       "      <td>19</td>\n",
       "      <td>2136</td>\n",
       "      <td>2018-12</td>\n",
       "      <td>2.427429e+06</td>\n",
       "    </tr>\n",
       "    <tr>\n",
       "      <td>20</td>\n",
       "      <td>2136</td>\n",
       "      <td>2019-01</td>\n",
       "      <td>1.867786e+06</td>\n",
       "    </tr>\n",
       "    <tr>\n",
       "      <td>21</td>\n",
       "      <td>2136</td>\n",
       "      <td>2019-02</td>\n",
       "      <td>2.227429e+06</td>\n",
       "    </tr>\n",
       "  </tbody>\n",
       "</table>\n",
       "<p>60982 rows × 3 columns</p>\n",
       "</div>"
      ],
      "text/plain": [
       "    store_id year_month        amount\n",
       "0          0    2016-06  7.470000e+05\n",
       "1          0    2016-07  1.005000e+06\n",
       "2          0    2016-08  8.697143e+05\n",
       "3          0    2016-09  8.978571e+05\n",
       "4          0    2016-10  8.354286e+05\n",
       "..       ...        ...           ...\n",
       "17      2136    2018-10  2.012214e+06\n",
       "18      2136    2018-11  2.127643e+06\n",
       "19      2136    2018-12  2.427429e+06\n",
       "20      2136    2019-01  1.867786e+06\n",
       "21      2136    2019-02  2.227429e+06\n",
       "\n",
       "[60982 rows x 3 columns]"
      ]
     },
     "execution_count": 10,
     "metadata": {},
     "output_type": "execute_result"
    }
   ],
   "source": [
    "# 환불 제거 데이터를 월 단위로 다운 샘플링\n",
    "resampling_data = month_resampling(positive_data)\n",
    "resampling_data['store_id'] = resampling_data['store_id'].astype(int)\n",
    "resampling_data\n"
   ]
  },
  {
   "cell_type": "markdown",
   "metadata": {},
   "source": [
    "\n",
    "- 다운 샘플링 이유\n",
    "\n",
    "거래 시간을 준으로 분단위로 기록된 결제 이력 데이터: positive_data\n",
    "이를 그대로 사용하면, 예측구간이 분단위로 너무 많아져 불확실성이 커짐-> 정확도 떨어짐\n",
    "따라서, 시간간격을 재조정해 예측구간을 최소화. 분단위 데이터 -> 월단위로 재조정 : 다운 샘플링 진행\n",
    "\n",
    "- 매출 미발생월 대치 값 설정 \n",
    "\n",
    "다운 샘플링 진행시 매출 미발생월은 2로 대치. \n",
    "0으로 대치하지 않은 이유 :  시계열 데이터의 진동폭을 안정화 하기 위해 로그 정규화를 진행하기 때문.\n",
    "(1이하의 값을 로그정규화 진행시 음수 또는 무한대가 나오기 때문)\n",
    "\n",
    "- 이번 과제는 월단위로 다운 샘플링을 진행 했을때 예측성능이 가장 우수했음."
   ]
  },
  {
   "cell_type": "markdown",
   "metadata": {},
   "source": [
    "### 2-3. 날짜 지정 범위 생성과 시리즈 객체 변환\n",
    "데이터 프레임을 시리즈 객체로 변환\n",
    "\n",
    "시계열 데이터의 정상성을 확인하기 위한 단위근 검정과 시계열 모델 구축 과정에서 시리즈 객체를 사용\n",
    "\n",
    "- 시계열 분석을 위해 date_range 함수를 이용해 인덱스를 시간변수로 정의"
   ]
  },
  {
   "cell_type": "code",
   "execution_count": 11,
   "metadata": {},
   "outputs": [
    {
     "name": "stdout",
     "output_type": "stream",
     "text": [
      "<class 'pandas.core.frame.DataFrame'>\n"
     ]
    }
   ],
   "source": [
    "## 데이터 타입을 출력\n",
    "print(type(resampling_data))"
   ]
  },
  {
   "cell_type": "code",
   "execution_count": 12,
   "metadata": {},
   "outputs": [],
   "source": [
    "# 데이터프레임을 Series로 변환하는 함수\n",
    "def time_series(df, i):\n",
    "    # 상점별로 데이터를 뽑습니다.\n",
    "    store = df[df['store_id']==i]\n",
    "    ## 날짜 지정 범위는 영업 시작 월부터 2019년 3월 전까지 영업 마감일 기준\n",
    "    index = pd.date_range(min(store['year_month']),'2019-03',freq='BM') \n",
    "    ## 시리즈 객체로 변환\n",
    "    ts = pd.Series(store['amount'].values,index=index)\n",
    "    return ts"
   ]
  },
  {
   "cell_type": "code",
   "execution_count": 13,
   "metadata": {},
   "outputs": [
    {
     "data": {
      "text/plain": [
       "2016-06-30    7.470000e+05\n",
       "2016-07-29    1.005000e+06\n",
       "2016-08-31    8.697143e+05\n",
       "2016-09-30    8.978571e+05\n",
       "2016-10-31    8.354286e+05\n",
       "2016-11-30    6.970000e+05\n",
       "2016-12-30    7.618571e+05\n",
       "2017-01-31    5.856429e+05\n",
       "2017-02-28    7.940000e+05\n",
       "2017-03-31    7.202571e+05\n",
       "2017-04-28    6.852857e+05\n",
       "2017-05-31    7.444286e+05\n",
       "2017-06-30    6.820000e+05\n",
       "2017-07-31    7.282857e+05\n",
       "2017-08-31    7.490000e+05\n",
       "2017-09-29    8.408571e+05\n",
       "2017-10-31    6.005714e+05\n",
       "2017-11-30    6.308571e+05\n",
       "2017-12-29    8.127143e+05\n",
       "2018-01-31    6.431429e+05\n",
       "2018-02-28    6.852857e+05\n",
       "2018-03-30    8.484286e+05\n",
       "2018-04-30    6.361429e+05\n",
       "2018-05-31    6.864286e+05\n",
       "2018-06-29    7.072857e+05\n",
       "2018-07-31    7.587143e+05\n",
       "2018-08-31    6.798571e+05\n",
       "2018-09-28    6.518571e+05\n",
       "2018-10-31    7.390000e+05\n",
       "2018-11-30    6.760000e+05\n",
       "2018-12-31    8.745714e+05\n",
       "2019-01-31    6.828571e+05\n",
       "2019-02-28    5.152857e+05\n",
       "Freq: BM, dtype: float64"
      ]
     },
     "execution_count": 13,
     "metadata": {},
     "output_type": "execute_result"
    }
   ],
   "source": [
    "# 상점 아이디가 0번인 데이터를 시리즈 객체로 변환\n",
    "store_0 = time_series(resampling_data, 0)\n",
    "store_0"
   ]
  },
  {
   "cell_type": "code",
   "execution_count": 14,
   "metadata": {
    "scrolled": true
   },
   "outputs": [
    {
     "name": "stdout",
     "output_type": "stream",
     "text": [
      "<class 'pandas.core.series.Series'>\n"
     ]
    }
   ],
   "source": [
    "## 데이터 타입을 출력\n",
    "store_1 = time_series(resampling_data, 1)\n",
    "print(type(store_1))"
   ]
  },
  {
   "cell_type": "code",
   "execution_count": 15,
   "metadata": {},
   "outputs": [
    {
     "data": {
      "text/plain": [
       "<AxesSubplot:>"
      ]
     },
     "execution_count": 15,
     "metadata": {},
     "output_type": "execute_result"
    },
    {
     "data": {
      "image/png": "[encoded data removed]",
      "text/plain": [
       "<Figure size 432x288 with 1 Axes>"
      ]
     },
     "metadata": {
      "needs_background": "light"
     },
     "output_type": "display_data"
    }
   ],
   "source": [
    "# 상점 아이디가 2번인 데이터를 시리즈 객체로 변환\n",
    "store_2 = time_series(resampling_data, 2)\n",
    "store_2.plot()"
   ]
  },
  {
   "cell_type": "markdown",
   "metadata": {},
   "source": [
    "매출의 자잘한 변동 폭 기록 -> 로그 정규화 진행시 변동이 안정화 되어 더 큰 트렌드를 파악 할 수 있음."
   ]
  },
  {
   "cell_type": "markdown",
   "metadata": {},
   "source": [
    "## 3. 탐색적 데이터 분석\n",
    "\n",
    "시계열 데이터의 평균과 분산이 안정적인지 확인하기 위하여 ADF-TEST를 진행\n",
    "\n",
    "### 3-1. 상점별 매출 특성\n",
    "#### (1) 계절성이 있는 상점"
   ]
  },
  {
   "cell_type": "code",
   "execution_count": 16,
   "metadata": {},
   "outputs": [
    {
     "data": {
      "text/plain": [
       "2016-06-30    4.891857e+05\n",
       "2016-07-29    1.595280e+06\n",
       "2016-08-31    1.518714e+06\n",
       "2016-09-30    3.369143e+05\n",
       "2016-10-31    4.245714e+05\n",
       "2016-11-30    2.000000e+00\n",
       "2016-12-30    2.000000e+00\n",
       "2017-01-31    2.000000e+00\n",
       "2017-02-28    2.000000e+00\n",
       "2017-03-31    2.000000e+00\n",
       "2017-04-28    3.928571e+04\n",
       "2017-05-31    1.557286e+05\n",
       "2017-06-30    5.481143e+05\n",
       "2017-07-31    7.359286e+05\n",
       "2017-08-31    7.909700e+05\n",
       "2017-09-29    6.191429e+04\n",
       "2017-10-31    1.027143e+06\n",
       "2017-11-30    2.000000e+00\n",
       "2017-12-29    2.000000e+00\n",
       "2018-01-31    2.000000e+00\n",
       "2018-02-28    2.000000e+00\n",
       "2018-03-30    2.000000e+00\n",
       "2018-04-30    2.000000e+00\n",
       "2018-05-31    2.493857e+05\n",
       "2018-06-29    4.822286e+05\n",
       "2018-07-31    8.999714e+05\n",
       "2018-08-31    1.645877e+06\n",
       "2018-09-28    2.767857e+05\n",
       "2018-10-31    2.000000e+00\n",
       "2018-11-30    2.000000e+00\n",
       "2018-12-31    2.000000e+00\n",
       "2019-01-31    2.000000e+00\n",
       "2019-02-28    2.000000e+00\n",
       "Freq: BM, dtype: float64"
      ]
     },
     "execution_count": 16,
     "metadata": {},
     "output_type": "execute_result"
    }
   ],
   "source": [
    "# 상점 아이디가 257번인 데이터를 시리즈 객체로 데이터 출력\n",
    "store_257 = time_series(resampling_data, 257)\n",
    "store_257"
   ]
  },
  {
   "cell_type": "code",
   "execution_count": 17,
   "metadata": {},
   "outputs": [
    {
     "data": {
      "image/png": "[encoded data removed]",
      "text/plain": [
       "<Figure size 972x360 with 1 Axes>"
      ]
     },
     "metadata": {
      "needs_background": "light"
     },
     "output_type": "display_data"
    }
   ],
   "source": [
    "# 시계열 그래프 그리기\n",
    "store_plot_257 = store_257.plot()\n",
    "fig = store_plot_257.get_figure()\n",
    "fig.set_size_inches(13.5,5)"
   ]
  },
  {
   "cell_type": "code",
   "execution_count": 18,
   "metadata": {},
   "outputs": [
    {
     "data": {
      "text/plain": [
       "2016-07-29    5.075429e+04\n",
       "2016-08-31    9.219543e+05\n",
       "2016-09-30    4.720786e+05\n",
       "2016-10-31    5.145714e+05\n",
       "2016-11-30    1.494286e+05\n",
       "2016-12-30    1.071686e+06\n",
       "2017-01-31    1.602857e+06\n",
       "2017-02-28    1.332143e+06\n",
       "2017-03-31    2.432143e+05\n",
       "2017-04-28    3.903143e+06\n",
       "2017-05-31    1.729500e+06\n",
       "2017-06-30    4.280214e+06\n",
       "2017-07-31    1.775714e+06\n",
       "2017-08-31    7.428571e+05\n",
       "2017-09-29    1.415714e+06\n",
       "2017-10-31    1.180714e+06\n",
       "2017-11-30    4.640000e+05\n",
       "2017-12-29    1.389729e+06\n",
       "2018-01-31    2.000000e+00\n",
       "2018-02-28    8.285714e+05\n",
       "2018-03-30    7.857143e+05\n",
       "2018-04-30    6.670429e+06\n",
       "2018-05-31    1.837286e+05\n",
       "2018-06-29    3.285714e+06\n",
       "2018-07-31    9.502857e+05\n",
       "2018-08-31    3.675200e+06\n",
       "2018-09-28    1.793886e+06\n",
       "2018-10-31    4.717743e+06\n",
       "2018-11-30    7.593600e+06\n",
       "2018-12-31    1.428571e+06\n",
       "2019-01-31    4.285714e+05\n",
       "2019-02-28    1.428571e+06\n",
       "Freq: BM, dtype: float64"
      ]
     },
     "execution_count": 18,
     "metadata": {},
     "output_type": "execute_result"
    }
   ],
   "source": [
    "# 상점 아이디가 2096번인 데이터를 시리즈 객체로 데이터 출력\n",
    "store_2096 = time_series(resampling_data, 2096)\n",
    "store_2096"
   ]
  },
  {
   "cell_type": "code",
   "execution_count": 19,
   "metadata": {},
   "outputs": [
    {
     "data": {
      "image/png": "[encoded data removed]",
      "text/plain": [
       "<Figure size 972x360 with 1 Axes>"
      ]
     },
     "metadata": {
      "needs_background": "light"
     },
     "output_type": "display_data"
    }
   ],
   "source": [
    "# 상점 아이디가 2096번인 상점의 시계열 그래프\n",
    "store_plot_2096 = store_2096.plot()\n",
    "fig = store_plot_2096.get_figure()\n",
    "fig.set_size_inches(13.5,5)"
   ]
  },
  {
   "cell_type": "markdown",
   "metadata": {},
   "source": [
    "#### (2) 추세가 있는 상점\n",
    "\n",
    "꾸준히 증가 또는 꾸준히 감소하는 추세\n",
    "( SNS 마케팅, 광고 등이 상승의 이유가 될 수 있으며, 위생단속 적발, 취급제품의 문제점 부각, 상점이미지 추락이 하락의 이유가 될수 있음 )"
   ]
  },
  {
   "cell_type": "code",
   "execution_count": 20,
   "metadata": {},
   "outputs": [
    {
     "data": {
      "image/png": "[encoded data removed]",
      "text/plain": [
       "<Figure size 972x360 with 1 Axes>"
      ]
     },
     "metadata": {
      "needs_background": "light"
     },
     "output_type": "display_data"
    }
   ],
   "source": [
    "# 상점 아이디가 335번인 상점의 시계열 그래프\n",
    "store_335 = time_series(resampling_data, 335)\n",
    "store_plot_335 = store_335.plot()\n",
    "fig = store_plot_335.get_figure()\n",
    "fig.set_size_inches(13.5,5)"
   ]
  },
  {
   "cell_type": "code",
   "execution_count": 21,
   "metadata": {},
   "outputs": [
    {
     "data": {
      "image/png": "[encoded data removed]",
      "text/plain": [
       "<Figure size 972x360 with 1 Axes>"
      ]
     },
     "metadata": {
      "needs_background": "light"
     },
     "output_type": "display_data"
    }
   ],
   "source": [
    "# 상점 아이디가 510번인 상점의 시계열 그래프\n",
    "store_510 = time_series(resampling_data, 510)\n",
    "store_plot_510 = store_510.plot()\n",
    "fig = store_plot_510.get_figure()\n",
    "fig.set_size_inches(13.5,5)"
   ]
  },
  {
   "cell_type": "markdown",
   "metadata": {},
   "source": [
    "#### (3) 휴업 중인 상점"
   ]
  },
  {
   "cell_type": "code",
   "execution_count": 22,
   "metadata": {
    "scrolled": true
   },
   "outputs": [
    {
     "data": {
      "text/plain": [
       "2016-06-30    812428.571429\n",
       "2016-07-29    391142.857143\n",
       "2016-08-31     13071.428571\n",
       "2016-09-30    495714.285714\n",
       "2016-10-31    182714.285714\n",
       "2016-11-30    178571.428571\n",
       "2016-12-30     43005.714286\n",
       "2017-01-31         2.000000\n",
       "2017-02-28      5428.571429\n",
       "2017-03-31     24857.142857\n",
       "2017-04-28    108000.000000\n",
       "2017-05-31    459142.857143\n",
       "2017-06-30    137571.428571\n",
       "2017-07-31    216285.714286\n",
       "2017-08-31     77000.000000\n",
       "2017-09-29     78005.714286\n",
       "2017-10-31         2.000000\n",
       "2017-11-30         2.000000\n",
       "2017-12-29         2.000000\n",
       "2018-01-31      1428.571429\n",
       "2018-02-28    309785.714286\n",
       "2018-03-30    259071.428571\n",
       "2018-04-30    225858.571429\n",
       "2018-05-31    105571.428571\n",
       "2018-06-29         2.000000\n",
       "2018-07-31    123285.714286\n",
       "2018-08-31         2.000000\n",
       "2018-09-28     83000.000000\n",
       "2018-10-31         2.000000\n",
       "2018-11-30         2.000000\n",
       "2018-12-31         2.000000\n",
       "2019-01-31         2.000000\n",
       "2019-02-28         2.000000\n",
       "Freq: BM, dtype: float64"
      ]
     },
     "execution_count": 22,
     "metadata": {},
     "output_type": "execute_result"
    }
   ],
   "source": [
    "# 상점 아이디가 111번인 데이터를 시리즈 객체로 데이터 출력\n",
    "store_111 = time_series(resampling_data, 111)\n",
    "store_111"
   ]
  },
  {
   "cell_type": "code",
   "execution_count": 23,
   "metadata": {},
   "outputs": [
    {
     "data": {
      "image/png": "[encoded data removed]",
      "text/plain": [
       "<Figure size 972x360 with 1 Axes>"
      ]
     },
     "metadata": {
      "needs_background": "light"
     },
     "output_type": "display_data"
    }
   ],
   "source": [
    "# 상점 아이디가 111번인 상점의 시계열 그래프\n",
    "store_plot_111 = store_111.plot()\n",
    "fig = store_plot_111.get_figure()\n",
    "fig.set_size_inches(13.5,5)"
   ]
  },
  {
   "cell_type": "code",
   "execution_count": 24,
   "metadata": {},
   "outputs": [
    {
     "data": {
      "text/plain": [
       "2016-06-30    4.488571e+05\n",
       "2016-07-29    1.156286e+06\n",
       "2016-08-31    1.372857e+06\n",
       "2016-09-30    3.150000e+05\n",
       "2016-10-31    8.748571e+05\n",
       "2016-11-30    3.128571e+05\n",
       "2016-12-30    5.828571e+05\n",
       "2017-01-31    3.214286e+04\n",
       "2017-02-28    2.000000e+00\n",
       "2017-03-31    4.955714e+05\n",
       "2017-04-28    5.940000e+05\n",
       "2017-05-31    1.041143e+06\n",
       "2017-06-30    8.354286e+05\n",
       "2017-07-31    6.171429e+05\n",
       "2017-08-31    4.284286e+05\n",
       "2017-09-29    1.581258e+06\n",
       "2017-10-31    3.294286e+05\n",
       "2017-11-30    2.241429e+05\n",
       "2017-12-29    2.785714e+05\n",
       "2018-01-31    4.018571e+05\n",
       "2018-02-28    1.282857e+05\n",
       "2018-03-30    2.000000e+00\n",
       "2018-04-30    2.000000e+00\n",
       "2018-05-31    2.000000e+00\n",
       "2018-06-29    2.000000e+00\n",
       "2018-07-31    2.000000e+00\n",
       "2018-08-31    2.000000e+00\n",
       "2018-09-28    2.000000e+00\n",
       "2018-10-31    2.000000e+00\n",
       "2018-11-30    2.101429e+05\n",
       "2018-12-31    2.191571e+05\n",
       "2019-01-31    1.779286e+05\n",
       "2019-02-28    5.157143e+04\n",
       "Freq: BM, dtype: float64"
      ]
     },
     "execution_count": 24,
     "metadata": {},
     "output_type": "execute_result"
    }
   ],
   "source": [
    "# 상점 아이디가 279번인 데이터를 시리즈 객체로 데이터 출력\n",
    "store_279 = time_series(resampling_data, 279)\n",
    "store_279"
   ]
  },
  {
   "cell_type": "code",
   "execution_count": 25,
   "metadata": {},
   "outputs": [
    {
     "data": {
      "image/png": "[encoded data removed]",
      "text/plain": [
       "<Figure size 972x360 with 1 Axes>"
      ]
     },
     "metadata": {
      "needs_background": "light"
     },
     "output_type": "display_data"
    }
   ],
   "source": [
    "# 상점 아이디가 279번인 상점의 시계열 그래프\n",
    "store_plot_279 = store_279.plot()\n",
    "fig = store_plot_279.get_figure()\n",
    "fig.set_size_inches(13.5,5)"
   ]
  },
  {
   "cell_type": "markdown",
   "metadata": {},
   "source": [
    "### 3-2. 시계열 데이터의 정상성\n",
    "\n",
    "시계열 데이터 內 정상성 = 추세나 계절성이 없는 시계열 데이터, 즉 시간의 변동에 따라 평균과 분산이 일정함을 의미\n",
    "\n",
    "따라서, 정상성 판단을 위해 ADF-TEST 진행\n",
    "\n",
    "(https://geniewishescometrue.tistory.com/entry/Time-Series-Stationarity-%EC%8B%9C%EA%B3%84%EC%97%B4%EB%B6%84%EC%84%9D-%EC%A0%95%EC%83%81%EC%84%B1-ADF-Test-%EC%B0%A8%EB%B6%84)\n",
    "(https://otexts.com/fppkr/stationarity.html)\n",
    "\n",
    "\n",
    "\n",
    "#### ADF-TEST\n",
    "시계열 데이터가 정상성을 가지는지 판단할때 사용하며, 회귀 분석의 결과로 나온 계수를 검정통계량으로 사용.\n",
    " \n",
    "시계열데 단위근이 존재하는지 여부를 검정함으로써 정상시계열 여부를 확인 ( 단위근 존재시, 비정상 시계열) \n",
    "\n",
    "\n",
    "from statsmodels.tsa.stattools import adfuller (https://rfriend.tistory.com/694)\n",
    "\n",
    "만약, 정상성을 가지지 않는 다면 차분을 통해 평균을 일정하게 만들어 주어야 함. \n",
    " * 차분 = 비정상 시계열 데이터를 평균이 일정한 정상 시계열로 바꾸는 기법 "
   ]
  },
  {
   "cell_type": "markdown",
   "metadata": {},
   "source": [
    "#### 차분\n",
    "차분은 t 시점의 데이터가 t-1시점의 데이터에 비해 얼마나 증감했는지 알수 있음\n",
    "\n",
    "n차 차분 : t시점 y의 n차 미분값 = t시점 y - (t-1)시점 y -....- (t-n)시점 y\n",
    "\n",
    "- 1차 차분 공식\n",
    "\n",
    "    rides[\"lag_1\"] = rides[\"rides\"].shift(periods=1)  # shift함수를 통해 t기의 데이터를 t-1로 미룸\n",
    "\n",
    "    rides['직접 구한 diff_1'] = rides['rides'] - rides['lag_1'] \n",
    "\n",
    "    rides['함수로 구한 diff_1'] = rides['rides'].diff(1) \n",
    "\n",
    "- 2차 차분 공식 \n",
    "\n",
    "    rides['diff_1 + lag_1'] = rides['diff_1'].shift(1)\n",
    "\n",
    "    rides['직접 구한 diff_2'] = rides['diff_1'] - rides['diff_1 + lag_1']\n",
    "    \n",
    "    rides['함수로 구한 diff_2'] = rides['rides'].diff().diff()\n"
   ]
  },
  {
   "cell_type": "markdown",
   "metadata": {},
   "source": [
    "**** 단, ADF -TEST는 추세가 있는 비정상 시계열에 대해서는 정상 시계열이 아님을 잘 검정하지만, 분산이 변하거나 계절성이 있는 시계열에 대해서는 정상성 여부를 제대로 검정해내지 못함\n",
    "\n",
    "반면에 ,KPSS test 는 잘 검정함.\n",
    "from statsmodels.tsa.stattools import kpss\n"
   ]
  },
  {
   "cell_type": "code",
   "execution_count": 26,
   "metadata": {},
   "outputs": [
    {
     "data": {
      "image/png": "[encoded data removed]",
      "text/plain": [
       "<Figure size 972x360 with 1 Axes>"
      ]
     },
     "metadata": {
      "needs_background": "light"
     },
     "output_type": "display_data"
    }
   ],
   "source": [
    "# 상점 아이디가 0번인 상점의 시계열 그래프\n",
    "store_0 = time_series(resampling_data, 0)\n",
    "store_plot_0 = store_0.plot()\n",
    "fig = store_plot_0.get_figure()\n",
    "fig.set_size_inches(13.5,5)"
   ]
  },
  {
   "cell_type": "code",
   "execution_count": 27,
   "metadata": {},
   "outputs": [
    {
     "data": {
      "image/png": "[encoded data removed]",
      "text/plain": [
       "<Figure size 972x360 with 1 Axes>"
      ]
     },
     "metadata": {
      "needs_background": "light"
     },
     "output_type": "display_data"
    }
   ],
   "source": [
    "# 상점 아이디가 257번인 상점의 시계열 그래프\n",
    "store_257 = time_series(resampling_data, 257)\n",
    "store_plot_257 = store_257.plot()\n",
    "fig = store_plot_257.get_figure()\n",
    "fig.set_size_inches(13.5,5)"
   ]
  },
  {
   "cell_type": "code",
   "execution_count": 28,
   "metadata": {},
   "outputs": [
    {
     "name": "stdout",
     "output_type": "stream",
     "text": [
      "p_val : nan , should_diff : False\n"
     ]
    }
   ],
   "source": [
    "# pmdarima 패키지에 있는 ADFTest 클래스를 임포트\n",
    "from pmdarima.arima import ADFTest\n",
    "\n",
    "# 상점 아이디가 0번인 데이터를 시리즈 객체로 변환\n",
    "store_0 = time_series(resampling_data, 0)\n",
    "# ADF-Test 시행\n",
    "p_val, should_diff = ADFTest().should_diff(store_0)\n",
    "print('p_val : %f , should_diff : %s' %(p_val, should_diff))"
   ]
  },
  {
   "cell_type": "code",
   "execution_count": 29,
   "metadata": {},
   "outputs": [
    {
     "name": "stdout",
     "output_type": "stream",
     "text": [
      "p_val : 0.093614 , should_diff : True\n"
     ]
    }
   ],
   "source": [
    "# 상점 아이디가 257번인 데이터를 시리즈 객체로 변환\n",
    "store_257 = time_series(resampling_data, 257)\n",
    "# ADF-Test 시행\n",
    "p_val, should_diff = ADFTest().should_diff(store_257)\n",
    "print('p_val : %f , should_diff : %s' %(p_val, should_diff))"
   ]
  },
  {
   "cell_type": "markdown",
   "metadata": {},
   "source": [
    "257번 매출 시계열은 정상 P-value가 0.05보다 큼. 정상 시계열이 아니며, 차분이 필요함.\n",
    "\n",
    "이렇게 일일히 확인 할 수 는 없음. p-value 값을 리스트에 저장해 상자그림으로 p-value의 분포를 확인\n",
    "\n",
    "매출이 수개월간 발생하지 않는 상점을 예외처리 진행"
   ]
  },
  {
   "cell_type": "code",
   "execution_count": 30,
   "metadata": {},
   "outputs": [
    {
     "name": "stderr",
     "output_type": "stream",
     "text": [
      "100%|█████████████████████████████████████████████████████████████████████████████| 1967/1967 [00:04<00:00, 450.89it/s]\n",
      "C:\\Users\\sk8er\\anaconda3\\envs\\store_amount_prediction\\lib\\site-packages\\seaborn\\_decorators.py:43: FutureWarning: Pass the following variable as a keyword arg: x. From version 0.12, the only valid positional argument will be `data`, and passing other arguments without an explicit keyword will result in an error or misinterpretation.\n",
      "  FutureWarning\n"
     ]
    },
    {
     "data": {
      "text/plain": [
       "<AxesSubplot:>"
      ]
     },
     "execution_count": 30,
     "metadata": {},
     "output_type": "execute_result"
    },
    {
     "data": {
      "image/png": "[encoded data removed]",
      "text/plain": [
       "<Figure size 576x288 with 1 Axes>"
      ]
     },
     "metadata": {
      "needs_background": "light"
     },
     "output_type": "display_data"
    }
   ],
   "source": [
    "## ARIMA 모델의 차분 여부를 결정하기 위한 단위근 검정\n",
    "def adf_test(y):\n",
    "    return ADFTest().should_diff(y)[0]\n",
    "\n",
    "adf_p = []\n",
    "count = 0\n",
    "skipped = []\n",
    "\n",
    "for i in tqdm(resampling_data['store_id'].unique()):\n",
    "    ts = time_series(resampling_data,i)\n",
    "    try:\n",
    "        p_val = adf_test(ts)\n",
    "        if p_val < 0.05:\n",
    "            count += 1\n",
    "        adf_p.append(p_val)\n",
    "    except:\n",
    "        skipped.append(i)\n",
    "\n",
    "plt.figure(figsize=(8, 4))\n",
    "sns.boxplot(adf_p)"
   ]
  },
  {
   "cell_type": "code",
   "execution_count": 31,
   "metadata": {},
   "outputs": [
    {
     "name": "stdout",
     "output_type": "stream",
     "text": [
      "259\n"
     ]
    }
   ],
   "source": [
    "# p-value가 0.05보다 작은 상점의 개수\n",
    "print(count)"
   ]
  },
  {
   "cell_type": "code",
   "execution_count": 32,
   "metadata": {},
   "outputs": [
    {
     "name": "stdout",
     "output_type": "stream",
     "text": [
      "WarningCount: 1, store_id_list:[795]\n"
     ]
    }
   ],
   "source": [
    "# ADF-Test 오류 상점 개수\n",
    "if skipped:\n",
    "    print(f\"WarningCount: {len(skipped)}, store_id_list:{skipped}\")"
   ]
  },
  {
   "cell_type": "markdown",
   "metadata": {},
   "source": [
    "비정상 시계열 값은 차분해 정상시계열로 변환"
   ]
  },
  {
   "cell_type": "markdown",
   "metadata": {},
   "source": [
    "## 4 모델 구축과 검증\n",
    "### 4-1. 파이썬에서 R 시계열 패키지 forecast를 통한 모델링"
   ]
  },
  {
   "cell_type": "code",
   "execution_count": 33,
   "metadata": {},
   "outputs": [
    {
     "data": {
      "text/plain": [
       "rpy2.rinterface.NULL"
      ]
     },
     "execution_count": 33,
     "metadata": {},
     "output_type": "execute_result"
    }
   ],
   "source": [
    "from rpy2.robjects.packages import importr # rpy2 내의 패키지를 불러올 importr 클래스\n",
    "\n",
    "utils = importr('utils') # utils 패키지를 임포트\n",
    "utils.install_packages('forecast') # r의 forecast 패키지 설치.\n",
    "utils.install_packages('forecastHybrid') # r의 forecastHybrid 패키지 설치"
   ]
  },
  {
   "cell_type": "code",
   "execution_count": 34,
   "metadata": {},
   "outputs": [
    {
     "name": "stderr",
     "output_type": "stream",
     "text": [
      "C:\\Users\\sk8er\\anaconda3\\envs\\store_amount_prediction\\lib\\site-packages\\rpy2\\robjects\\pandas2ri.py:191: FutureWarning: from_items is deprecated. Please use DataFrame.from_dict(dict(items), ...) instead. DataFrame.from_dict(OrderedDict(items)) may be used to preserve the key order.\n",
      "  res = PandasDataFrame.from_items(items)\n"
     ]
    },
    {
     "data": {
      "text/plain": [
       "2007226.9722140946"
      ]
     },
     "execution_count": 34,
     "metadata": {},
     "output_type": "execute_result"
    }
   ],
   "source": [
    "import rpy2.robjects as robjects # r 함수를 파이썬에서 사용 가능하게 변환하는 모듈\n",
    "from rpy2.robjects import pandas2ri # 파이썬 자료형과 R 자료형의 호환을 도와주는 모듈\n",
    "\n",
    "# pandas2ri를 활성화 \n",
    "pandas2ri.activate()\n",
    "\n",
    "auto_arima = \"\"\"\n",
    "    function(ts){\n",
    "        library(forecast) # forecast 패키지 로드\n",
    "        d_params = ndiffs(ts) # 시계열 자료의 차분 횟수 계산\n",
    "        model = auto.arima(ts, max.p=2, d=d_params) # auto.arima 모델 생성\n",
    "        forecasted_data = forecast(model, h=3) # 이후 3개월(h=3)을 예측\n",
    "        out_df = data.frame(forecasted_data$mean) # 예측값을 R의 데이터프레임으로 변환\n",
    "        colnames(out_df) = c('amount') # amount라는 열로 이름을 지정\n",
    "        out_df\n",
    "    }\n",
    "\"\"\"\n",
    "# r() 함수로 r 자료형을 파이썬에서 사용 가능\n",
    "auto_arima = robjects.r(auto_arima)\n",
    "ts = robjects.r('ts')# r 자료형 time series 자료형으로 만들어주는 함수\n",
    "c = robjects.r('c') # r 자료형 벡터를 만들어주는 함수\n",
    "\n",
    "store_0 = resampling_data[resampling_data['store_id']==0]\n",
    "start_year = int(min(store_0['year_month'])[:4]) # 영업 시작 년도\n",
    "start_month = int(min(store_0['year_month'])[5:]) # 영업 시작 월\n",
    "    \n",
    "# R의 ts 함수로 r의 time series 자료형으로 변환\n",
    "train = ts(store_0['amount'], start=c(start_year, start_month), frequency=12) \n",
    "\n",
    "#ensemble model\n",
    "forecast = auto_arima(train)\n",
    "np.sum(pandas2ri.ri2py(forecast).values) # 3개월 매출을 합산"
   ]
  },
  {
   "cell_type": "markdown",
   "metadata": {},
   "source": [
    "### 4-2. 시계열 모델 선택과 검증\n",
    "#### (1) 자기회귀누적이동평균 모델\n",
    "\n",
    "\n",
    "- AR모델 : 자기회귀 모델\n",
    "미래 예측에 자기 과거를 사용하여, 자신의 이전 관측값이 자신의 이후 관측값에 영향을 주는 모델 \n",
    "\n",
    "- MA모델 : 이동평균 과정\n",
    "현재 시계열 데이터가 과거 잔차들의 가중평균으로 구성된다는 모델\n",
    "잔차항은 백색잡음을 의히하며, 현재 데이터는 과거 백색잡음의 평균값으로 설명된다.\n",
    "\n",
    "- ARiMA : 자기회귀누적이동평균 ( I : 차분을 구함)\n",
    "시계열 데이터가 정상성인 경우에 주로 적용하며, 초기 차분단계를 한번 이상 적용해 비 정상성을 제거할 수 있음."
   ]
  },
  {
   "cell_type": "code",
   "execution_count": 35,
   "metadata": {},
   "outputs": [
    {
     "name": "stderr",
     "output_type": "stream",
     "text": [
      "100%|██████████████████████████████████████████████████████████████████████████████| 1967/1967 [01:24<00:00, 23.39it/s]\n"
     ]
    }
   ],
   "source": [
    "import rpy2.robjects as robjects # r 함수를 파이썬에서 사용 가능하게 변환하는 모듈\n",
    "from rpy2.robjects import pandas2ri # 파이썬 자료형과 R 자료형의 호환을 도와주는 모듈\n",
    "\n",
    "# pandas2ri를 활성화 \n",
    "pandas2ri.activate()\n",
    "\n",
    "auto_arima = \"\"\"\n",
    "    function(ts){\n",
    "        library(forecast) # forecast 패키지 로드\n",
    "        d_params = ndiffs(ts) # 시계열 자료의 차분 횟수 계산\n",
    "        model = auto.arima(ts, max.p=2, d=d_params) # auto.arima 모델 생성\n",
    "        forecasted_data = forecast(model, h=3) # 이후 3개월(h=3)을 예측\n",
    "        out_df = data.frame(forecasted_data$mean) # 예측값을 R의 데이터프레임으로 변환\n",
    "        colnames(out_df) = c('amount') # amount라는 열로 이름을 지정\n",
    "        out_df\n",
    "    }\n",
    "\"\"\"\n",
    "# r() 함수로 r 자료형을 파이썬에서 사용 가능\n",
    "auto_arima = robjects.r(auto_arima)# str 형식으로 정의된 auto_arima\n",
    "ts = robjects.r('ts')# r 자료형 time series 자료형으로 만들어주는 함수\n",
    "c = robjects.r('c') # r 자료형 벡터를 만들어주는 함수\n",
    "\n",
    "final_pred = []\n",
    "\n",
    "for i in tqdm(resampling_data.store_id.unique()):\n",
    "    store = resampling_data[resampling_data['store_id']==i]\n",
    "    start_year = int(min(store['year_month'])[:4]) ## 영업 시작 년도\n",
    "    start_month = int(min(store['year_month'])[5:]) ## 영업 시작 월\n",
    "    # R의 ts 함수로 time series 데이터로 변환\n",
    "    train = ts(store['amount'], start=c(start_year, start_month), frequency=12) \n",
    "    # 자동회귀누적이동평균 model\n",
    "    forecast = auto_arima(train)\n",
    "    # 3개월 매출을 합산, final_pred에 추가\n",
    "    final_pred.append(np.sum(pandas2ri.ri2py(forecast).values))"
   ]
  },
  {
   "cell_type": "code",
   "execution_count": 36,
   "metadata": {},
   "outputs": [
    {
     "data": {
      "text/html": [
       "<div>\n",
       "<style scoped>\n",
       "    .dataframe tbody tr th:only-of-type {\n",
       "        vertical-align: middle;\n",
       "    }\n",
       "\n",
       "    .dataframe tbody tr th {\n",
       "        vertical-align: top;\n",
       "    }\n",
       "\n",
       "    .dataframe thead th {\n",
       "        text-align: right;\n",
       "    }\n",
       "</style>\n",
       "<table border=\"1\" class=\"dataframe\">\n",
       "  <thead>\n",
       "    <tr style=\"text-align: right;\">\n",
       "      <th></th>\n",
       "      <th>store_id</th>\n",
       "      <th>amount</th>\n",
       "    </tr>\n",
       "  </thead>\n",
       "  <tbody>\n",
       "    <tr>\n",
       "      <td>0</td>\n",
       "      <td>0</td>\n",
       "      <td>2.007227e+06</td>\n",
       "    </tr>\n",
       "    <tr>\n",
       "      <td>1</td>\n",
       "      <td>1</td>\n",
       "      <td>2.886210e+05</td>\n",
       "    </tr>\n",
       "    <tr>\n",
       "      <td>2</td>\n",
       "      <td>2</td>\n",
       "      <td>1.276695e+06</td>\n",
       "    </tr>\n",
       "    <tr>\n",
       "      <td>3</td>\n",
       "      <td>4</td>\n",
       "      <td>2.697649e+06</td>\n",
       "    </tr>\n",
       "    <tr>\n",
       "      <td>4</td>\n",
       "      <td>5</td>\n",
       "      <td>8.291391e+05</td>\n",
       "    </tr>\n",
       "    <tr>\n",
       "      <td>...</td>\n",
       "      <td>...</td>\n",
       "      <td>...</td>\n",
       "    </tr>\n",
       "    <tr>\n",
       "      <td>1962</td>\n",
       "      <td>2132</td>\n",
       "      <td>2.190377e+06</td>\n",
       "    </tr>\n",
       "    <tr>\n",
       "      <td>1963</td>\n",
       "      <td>2133</td>\n",
       "      <td>7.414846e+05</td>\n",
       "    </tr>\n",
       "    <tr>\n",
       "      <td>1964</td>\n",
       "      <td>2134</td>\n",
       "      <td>9.818183e+04</td>\n",
       "    </tr>\n",
       "    <tr>\n",
       "      <td>1965</td>\n",
       "      <td>2135</td>\n",
       "      <td>1.755864e+06</td>\n",
       "    </tr>\n",
       "    <tr>\n",
       "      <td>1966</td>\n",
       "      <td>2136</td>\n",
       "      <td>6.935529e+06</td>\n",
       "    </tr>\n",
       "  </tbody>\n",
       "</table>\n",
       "<p>1967 rows × 2 columns</p>\n",
       "</div>"
      ],
      "text/plain": [
       "      store_id        amount\n",
       "0            0  2.007227e+06\n",
       "1            1  2.886210e+05\n",
       "2            2  1.276695e+06\n",
       "3            4  2.697649e+06\n",
       "4            5  8.291391e+05\n",
       "...        ...           ...\n",
       "1962      2132  2.190377e+06\n",
       "1963      2133  7.414846e+05\n",
       "1964      2134  9.818183e+04\n",
       "1965      2135  1.755864e+06\n",
       "1966      2136  6.935529e+06\n",
       "\n",
       "[1967 rows x 2 columns]"
      ]
     },
     "execution_count": 36,
     "metadata": {},
     "output_type": "execute_result"
    }
   ],
   "source": [
    "submission = pd.read_csv('./submission.csv')\n",
    "submission['amount'] = final_pred\n",
    "submission.to_csv('submission.csv', index=False)\n",
    "submission"
   ]
  },
  {
   "cell_type": "markdown",
   "metadata": {},
   "source": [
    "#### (2) 지수평활법\n",
    "\n",
    "- 단순지수평활법\n",
    "\n",
    ": 가장 최근 관측값을 가장 중요하게 생각하여 이전 모든 관측값은 미래를 예측할때 아무런 정보도 주지 않는다고 가정.\n",
    "따라서, 미래를 예측할 때, 가장 최근에 관측된 값에 가중치를 더 많이 줌. \n",
    "\n",
    "-> 추세나 계절성이 없을 때 주로 사용\n",
    "\n",
    "단순지수평활법에서 가중치에 해당하는 계수는 잔차 제곱의 합을 최소화해 추정.\n",
    "\n",
    "- 홀트선형추세 기법 \n",
    ": 추세가 있는 데이터를 예측할 수 있게 단순지수평활법을 확장한 방법\n",
    "\n",
    "\n",
    "★ 여러 지수평활모델 중 해당 시계열 데이터에 맞는 모델을 찾아야함 "
   ]
  },
  {
   "cell_type": "markdown",
   "metadata": {},
   "source": [
    "=> R의 ets() 함수를 이용하면, 시계열 데이터에 대해 AIC 값을 최소로 해주는 지수평활 모델을 추정 할 수 있음\n",
    "\n",
    "AIC는 주어진 데이터 셋에서 통계모델의 상대적 품질을 나타내는 값으로, 낮을수록 좋은 모델\n",
    "\n",
    "(모델의 적합도가 높고 파라미터의 개수가 작은 모델을 찾을때 도움 됨)\n"
   ]
  },
  {
   "cell_type": "code",
   "execution_count": 37,
   "metadata": {},
   "outputs": [
    {
     "name": "stderr",
     "output_type": "stream",
     "text": [
      "100%|██████████████████████████████████████████████████████████████████████████████| 1967/1967 [09:07<00:00,  3.59it/s]\n"
     ]
    }
   ],
   "source": [
    "import rpy2.robjects as robjects # r 함수를 파이썬에서 사용 가능하게 변환하는 모듈\n",
    "from rpy2.robjects import pandas2ri # 파이썬 자료형과 R 자료형의 호환을 도와주는 모듈\n",
    "\n",
    "# pandas2ri를 활성화 \n",
    "pandas2ri.activate()\n",
    "\n",
    "ets = \"\"\"\n",
    "    function(ts){\n",
    "        library(forecast) # forecast 패키지 로드\n",
    "        model = ets(ts) # AIC가 낮은 지수평활 모델을 찾음 \n",
    "        forecasted_data = forecast(model, h=3) # 이후 3개월(h=3)을 예측\n",
    "        out_df = data.frame(forecasted_data$mean) # 예측값을 R의 데이터프레임으로 변환\n",
    "        colnames(out_df) = c('amount') # amount라는 열로 이름을 지정\n",
    "        out_df\n",
    "    }\n",
    "\"\"\"\n",
    "# r() 함수로 r 자료형을 파이썬에서 사용 가능\n",
    "ets = robjects.r(ets)# str 형식으로 정의된 ets\n",
    "ts = robjects.r('ts')# r 자료형 time series 자료형으로 만들어주는 함수\n",
    "c = robjects.r('c') # r 자료형 벡터를 만들어주는 함수\n",
    "\n",
    "final_pred = []\n",
    "\n",
    "for i in tqdm(resampling_data.store_id.unique()):\n",
    "    store = resampling_data[resampling_data['store_id']==i]\n",
    "    start_year = int(min(store['year_month'])[:4]) # 영업 시작 년도\n",
    "    start_month = int(min(store['year_month'])[5:]) # 영업 시작 월\n",
    "    # R의 ts 함수로 time series 데이터로 변환\n",
    "    train = ts(store['amount'], start=c(start_year, start_month), frequency=12) \n",
    "    # 지수평활법l\n",
    "    forecast = ets(train)\n",
    "    # 3개월 매출을 합산, final_pred에 추가\n",
    "    final_pred.append(np.sum(pandas2ri.ri2py(forecast).values))"
   ]
  },
  {
   "cell_type": "code",
   "execution_count": 38,
   "metadata": {},
   "outputs": [
    {
     "data": {
      "text/html": [
       "<div>\n",
       "<style scoped>\n",
       "    .dataframe tbody tr th:only-of-type {\n",
       "        vertical-align: middle;\n",
       "    }\n",
       "\n",
       "    .dataframe tbody tr th {\n",
       "        vertical-align: top;\n",
       "    }\n",
       "\n",
       "    .dataframe thead th {\n",
       "        text-align: right;\n",
       "    }\n",
       "</style>\n",
       "<table border=\"1\" class=\"dataframe\">\n",
       "  <thead>\n",
       "    <tr style=\"text-align: right;\">\n",
       "      <th></th>\n",
       "      <th>store_id</th>\n",
       "      <th>amount</th>\n",
       "    </tr>\n",
       "  </thead>\n",
       "  <tbody>\n",
       "    <tr>\n",
       "      <td>0</td>\n",
       "      <td>0</td>\n",
       "      <td>2.060501e+06</td>\n",
       "    </tr>\n",
       "    <tr>\n",
       "      <td>1</td>\n",
       "      <td>1</td>\n",
       "      <td>2.878790e+05</td>\n",
       "    </tr>\n",
       "    <tr>\n",
       "      <td>2</td>\n",
       "      <td>2</td>\n",
       "      <td>1.260318e+06</td>\n",
       "    </tr>\n",
       "    <tr>\n",
       "      <td>3</td>\n",
       "      <td>4</td>\n",
       "      <td>2.668637e+06</td>\n",
       "    </tr>\n",
       "    <tr>\n",
       "      <td>4</td>\n",
       "      <td>5</td>\n",
       "      <td>7.091162e+05</td>\n",
       "    </tr>\n",
       "    <tr>\n",
       "      <td>...</td>\n",
       "      <td>...</td>\n",
       "      <td>...</td>\n",
       "    </tr>\n",
       "    <tr>\n",
       "      <td>1962</td>\n",
       "      <td>2132</td>\n",
       "      <td>2.190512e+06</td>\n",
       "    </tr>\n",
       "    <tr>\n",
       "      <td>1963</td>\n",
       "      <td>2133</td>\n",
       "      <td>3.488475e+05</td>\n",
       "    </tr>\n",
       "    <tr>\n",
       "      <td>1964</td>\n",
       "      <td>2134</td>\n",
       "      <td>4.249576e+05</td>\n",
       "    </tr>\n",
       "    <tr>\n",
       "      <td>1965</td>\n",
       "      <td>2135</td>\n",
       "      <td>1.622992e+06</td>\n",
       "    </tr>\n",
       "    <tr>\n",
       "      <td>1966</td>\n",
       "      <td>2136</td>\n",
       "      <td>6.469047e+06</td>\n",
       "    </tr>\n",
       "  </tbody>\n",
       "</table>\n",
       "<p>1967 rows × 2 columns</p>\n",
       "</div>"
      ],
      "text/plain": [
       "      store_id        amount\n",
       "0            0  2.060501e+06\n",
       "1            1  2.878790e+05\n",
       "2            2  1.260318e+06\n",
       "3            4  2.668637e+06\n",
       "4            5  7.091162e+05\n",
       "...        ...           ...\n",
       "1962      2132  2.190512e+06\n",
       "1963      2133  3.488475e+05\n",
       "1964      2134  4.249576e+05\n",
       "1965      2135  1.622992e+06\n",
       "1966      2136  6.469047e+06\n",
       "\n",
       "[1967 rows x 2 columns]"
      ]
     },
     "execution_count": 38,
     "metadata": {},
     "output_type": "execute_result"
    }
   ],
   "source": [
    "submission = pd.read_csv('./submission.csv')\n",
    "submission['amount'] = final_pred\n",
    "submission.to_csv('submission.csv', index=False)\n",
    "submission"
   ]
  },
  {
   "cell_type": "markdown",
   "metadata": {},
   "source": [
    "#### (3) STL 분해를 적용한 지수평활법\n",
    "\n",
    "STL : 시계열 분해 기법으로, 시계열 데이터가 가진 시간 주기를 알고 있는 경우 시계열 데이터의 계절성과 추세, 나머지 성분으로 분해해 분석하는 기법"
   ]
  },
  {
   "cell_type": "code",
   "execution_count": 39,
   "metadata": {},
   "outputs": [
    {
     "name": "stderr",
     "output_type": "stream",
     "text": [
      "C:\\Users\\sk8er\\anaconda3\\envs\\store_amount_prediction\\lib\\site-packages\\ipykernel_launcher.py:6: FutureWarning: the 'freq' keyword is deprecated, use 'period' instead\n",
      "  \n"
     ]
    },
    {
     "data": {
      "image/png": "[encoded data removed]",
      "text/plain": [
       "<Figure size 432x288 with 4 Axes>"
      ]
     },
     "metadata": {
      "needs_background": "light"
     },
     "output_type": "display_data"
    }
   ],
   "source": [
    "from statsmodels.tsa.seasonal import seasonal_decompose\n",
    "import matplotlib.pyplot as plt\n",
    "\n",
    "store_0 = time_series(resampling_data, 0)\n",
    "# STL 분해\n",
    "stl = seasonal_decompose(store_0.values, freq=12)\n",
    "stl.plot()\n",
    "plt.show()"
   ]
  },
  {
   "cell_type": "code",
   "execution_count": 40,
   "metadata": {},
   "outputs": [
    {
     "name": "stderr",
     "output_type": "stream",
     "text": [
      "  0%|                                                                                         | 0/1967 [00:00<?, ?it/s]C:\\Users\\sk8er\\anaconda3\\envs\\store_amount_prediction\\lib\\site-packages\\rpy2\\robjects\\pandas2ri.py:191: FutureWarning: from_items is deprecated. Please use DataFrame.from_dict(dict(items), ...) instead. DataFrame.from_dict(OrderedDict(items)) may be used to preserve the key order.\n",
      "  res = PandasDataFrame.from_items(items)\n",
      "100%|██████████████████████████████████████████████████████████████████████████████| 1967/1967 [01:17<00:00, 25.27it/s]\n"
     ]
    }
   ],
   "source": [
    "import rpy2.robjects as robjects # r 함수를 파이썬에서 사용 가능하게 변환하는 모듈\n",
    "from rpy2.robjects import pandas2ri # 파이썬 자료형과 R 자료형의 호환을 도와주는 모듈\n",
    "\n",
    "# pandas2ri를 활성화 \n",
    "pandas2ri.activate()\n",
    "stlm = \"\"\"\n",
    "    function(ts){\n",
    "        library(forecast) # forecast 패키지 로드\n",
    "        model = stlm(ts, s.window=\"periodic\", method='ets') # STL 분해 후 지수평활법을 통한 예측 \n",
    "        forecasted_data = forecast(model, h=3) # 이후 3개월(h=3)을 예측\n",
    "        out_df = data.frame(forecasted_data$mean) # 예측값을 R의 데이터프레임으로 변환\n",
    "        colnames(out_df) = c('amount') # amount라는 열로 이름을 지정\n",
    "        out_df\n",
    "    }\n",
    "\"\"\"\n",
    "ets = \"\"\"\n",
    "    function(ts){\n",
    "        library(forecast) # forecast 패키지 로드\n",
    "        model = ets(ts) # AIC가 낮은 지수평활 모델을 찾음 \n",
    "        forecasted_data = forecast(model, h=3) # 이후 3개월(h=3)을 예측\n",
    "        out_df = data.frame(forecasted_data$mean) # 예측값을 R의 데이터프레임으로 변환\n",
    "        colnames(out_df) = c('amount') # amount라는 열로 이름을 지정\n",
    "        out_df\n",
    "    }\n",
    "\"\"\"\n",
    "# r() 함수로 r을 파이썬에서 사용 가능\n",
    "stlm = robjects.r(stlm)# str 형식으로 정의된 stlm\n",
    "ets = robjects.r(ets)# str 형식으로 정의된 ets\n",
    "ts = robjects.r('ts')# r 자료형 time series 자료형으로 만들어주는 함수\n",
    "c = robjects.r('c') # r 자료형 벡터를 만들어주는 함수\n",
    "\n",
    "final_pred = []\n",
    "\n",
    "for i in tqdm(resampling_data.store_id.unique()):\n",
    "    store = resampling_data[resampling_data['store_id']==i]\n",
    "    data_len = len(store)\n",
    "    \n",
    "    start_year = int(min(store['year_month'])[:4]) # 영업 시작 년도\n",
    "    start_month = int(min(store['year_month'])[5:]) # 영업 시작 월\n",
    "    # R의 ts 함수로 time series 데이터로 변환\n",
    "    train = ts(store['amount'], start=c(start_year, start_month), frequency=12) \n",
    "    # STL 분해를 적용한 지수평활 model\n",
    "    if data_len > 24:\n",
    "        forecast = stlm(train)\n",
    "    # 지수평활 model\n",
    "    else:\n",
    "        forecast = ets(train)    # 3개월 매출을 합산, final_pred에 추가\n",
    "    final_pred.append(np.sum(pandas2ri.ri2py(forecast).values))\n"
   ]
  },
  {
   "cell_type": "code",
   "execution_count": 41,
   "metadata": {},
   "outputs": [
    {
     "data": {
      "text/html": [
       "<div>\n",
       "<style scoped>\n",
       "    .dataframe tbody tr th:only-of-type {\n",
       "        vertical-align: middle;\n",
       "    }\n",
       "\n",
       "    .dataframe tbody tr th {\n",
       "        vertical-align: top;\n",
       "    }\n",
       "\n",
       "    .dataframe thead th {\n",
       "        text-align: right;\n",
       "    }\n",
       "</style>\n",
       "<table border=\"1\" class=\"dataframe\">\n",
       "  <thead>\n",
       "    <tr style=\"text-align: right;\">\n",
       "      <th></th>\n",
       "      <th>store_id</th>\n",
       "      <th>amount</th>\n",
       "    </tr>\n",
       "  </thead>\n",
       "  <tbody>\n",
       "    <tr>\n",
       "      <td>0</td>\n",
       "      <td>0</td>\n",
       "      <td>2.094277e+06</td>\n",
       "    </tr>\n",
       "    <tr>\n",
       "      <td>1</td>\n",
       "      <td>1</td>\n",
       "      <td>2.774723e+05</td>\n",
       "    </tr>\n",
       "    <tr>\n",
       "      <td>2</td>\n",
       "      <td>2</td>\n",
       "      <td>1.164701e+06</td>\n",
       "    </tr>\n",
       "    <tr>\n",
       "      <td>3</td>\n",
       "      <td>4</td>\n",
       "      <td>2.750955e+06</td>\n",
       "    </tr>\n",
       "    <tr>\n",
       "      <td>4</td>\n",
       "      <td>5</td>\n",
       "      <td>9.395993e+05</td>\n",
       "    </tr>\n",
       "    <tr>\n",
       "      <td>...</td>\n",
       "      <td>...</td>\n",
       "      <td>...</td>\n",
       "    </tr>\n",
       "    <tr>\n",
       "      <td>1962</td>\n",
       "      <td>2132</td>\n",
       "      <td>2.138210e+06</td>\n",
       "    </tr>\n",
       "    <tr>\n",
       "      <td>1963</td>\n",
       "      <td>2133</td>\n",
       "      <td>8.242583e+05</td>\n",
       "    </tr>\n",
       "    <tr>\n",
       "      <td>1964</td>\n",
       "      <td>2134</td>\n",
       "      <td>4.061268e+05</td>\n",
       "    </tr>\n",
       "    <tr>\n",
       "      <td>1965</td>\n",
       "      <td>2135</td>\n",
       "      <td>1.578473e+06</td>\n",
       "    </tr>\n",
       "    <tr>\n",
       "      <td>1966</td>\n",
       "      <td>2136</td>\n",
       "      <td>6.469047e+06</td>\n",
       "    </tr>\n",
       "  </tbody>\n",
       "</table>\n",
       "<p>1967 rows × 2 columns</p>\n",
       "</div>"
      ],
      "text/plain": [
       "      store_id        amount\n",
       "0            0  2.094277e+06\n",
       "1            1  2.774723e+05\n",
       "2            2  1.164701e+06\n",
       "3            4  2.750955e+06\n",
       "4            5  9.395993e+05\n",
       "...        ...           ...\n",
       "1962      2132  2.138210e+06\n",
       "1963      2133  8.242583e+05\n",
       "1964      2134  4.061268e+05\n",
       "1965      2135  1.578473e+06\n",
       "1966      2136  6.469047e+06\n",
       "\n",
       "[1967 rows x 2 columns]"
      ]
     },
     "execution_count": 41,
     "metadata": {},
     "output_type": "execute_result"
    }
   ],
   "source": [
    "submission = pd.read_csv('./submission.csv')\n",
    "submission['amount'] = final_pred\n",
    "submission.to_csv('submission.csv', index=False)\n",
    "submission"
   ]
  },
  {
   "cell_type": "markdown",
   "metadata": {},
   "source": [
    "## 5. 성능 향상을 위한 방법\n",
    "### 5.1 상점 매출액의 로그 정규화\n",
    "\n",
    "더 튼 트렌드를 파악하기 위해 진행\n",
    "-> 결과를 보면 실제값(TEST)와의 차이가 더 작은 로그정규화 취한 것이 더 성능이 좋음\n",
    "\n",
    "\n",
    "BUT, 정규화 한다고 무조건 성능이 좋아지는 것은 아님.\n",
    "\n",
    "실험결과, \n",
    "매출액 변동계수가 높은 상점을 로그정규화 진행시 예측 성능이 저하됨. -> 변동계수 0.3 미만인 상점만 로그정규화 진행해 예측\n"
   ]
  },
  {
   "cell_type": "code",
   "execution_count": 42,
   "metadata": {},
   "outputs": [
    {
     "name": "stdout",
     "output_type": "stream",
     "text": [
      "log-regularization mae:  2401.9664819482714\n",
      "mae: 5884.674066892825\n"
     ]
    }
   ],
   "source": [
    "import rpy2.robjects as robjects # r 함수를 파이썬에서 사용 가능하게 변환하는 모듈\n",
    "from rpy2.robjects import pandas2ri # 파이썬 자료형과 R 자료형의 호환을 도와주는 모듈\n",
    "import numpy as np\n",
    "\n",
    "# pandas2ri를 활성화 \n",
    "pandas2ri.activate()\n",
    "\n",
    "auto_arima = \"\"\"\n",
    "    function(ts){\n",
    "        library(forecast) # forecast 패키지 로드\n",
    "        d_params = ndiffs(ts) # 시계열 자료의 차분 횟수 계산\n",
    "        model = auto.arima(ts, max.p=2, d=d_params) # auto.arima 모델 생성\n",
    "        forecasted_data = forecast(model, h=3) # 이후 3개월(h=3)을 예측\n",
    "        out_df = data.frame(forecasted_data$mean) # 예측값을 R의 데이터프레임으로 변환\n",
    "        colnames(out_df) = c('amount') # amount라는 열로 이름을 지정\n",
    "        out_df\n",
    "    }\n",
    "\"\"\"\n",
    "\n",
    "# r() 함수로 r 자료형을 파이썬에서 사용 가능\n",
    "auto_arima = robjects.r(auto_arima)\n",
    "ts = robjects.r('ts')# r 자료형 time series 자료형으로 만들어주는 함수\n",
    "c = robjects.r('c') # r 자료형 벡터를 만들어주는 함수\n",
    "log = robjects.r('log')# 로그 변환 함수\n",
    "exp = robjects.r('exp')# 로그 역변환 함수\n",
    "\n",
    "# 0번 상점 추출\n",
    "store_0 = resampling_data[resampling_data['store_id']==0]\n",
    "start_year = int(min(store_0['year_month'])[:4]) # 영업 시작 년도\n",
    "start_month = int(min(store_0['year_month'])[5:]) # 영업 시작 월\n",
    "\n",
    "# train, test 분리\n",
    "train = store_0[store_0.index <= len(store_0)-4]\n",
    "test = store_0[store_0.index > len(store_0)-4]\n",
    "\n",
    "# R의 ts 함수로 r의 time series 자료형으로 변환\n",
    "train_log = ts(log(train['amount']), start=c(start_year, start_month), frequency=12) # log 정규화 \n",
    "train = ts(train['amount'], start=c(start_year, start_month), frequency=12) # log 정규화를 하지 않음\n",
    "\n",
    "# model arima\n",
    "forecast_log = auto_arima(train_log)\n",
    "forecast = auto_arima(train)\n",
    "\n",
    "# pred\n",
    "pred_log = np.sum(pandas2ri.ri2py(exp(forecast_log)).values) #로그 역변환 후 3개월 합산\n",
    "pred = np.sum(pandas2ri.ri2py(forecast).values) #3개월 매출을 합산\n",
    "\n",
    "# test(2018-12~2019-02)\n",
    "test = np.sum(test['amount'])\n",
    "\n",
    "# mae\n",
    "print('log-regularization mae: ', abs(test-pred_log))\n",
    "print('mae:', abs(test-pred))"
   ]
  },
  {
   "cell_type": "code",
   "execution_count": 43,
   "metadata": {},
   "outputs": [],
   "source": [
    "# 매출 변동 계수를 구하는 함수\n",
    "def coefficient_variation(df, i):\n",
    "    cv_data = df.groupby(['store_id']).amount.std()/df.groupby(['store_id']).amount.mean()\n",
    "    cv = cv_data[i]\n",
    "    return cv"
   ]
  },
  {
   "cell_type": "code",
   "execution_count": 44,
   "metadata": {},
   "outputs": [
    {
     "name": "stderr",
     "output_type": "stream",
     "text": [
      "100%|██████████████████████████████████████████████████████████████████████████████| 1967/1967 [10:34<00:00,  3.10it/s]\n"
     ]
    }
   ],
   "source": [
    "import rpy2.robjects as robjects # r 함수를 파이썬에서 사용 가능하게 변환하는 모듈\n",
    "from rpy2.robjects import pandas2ri # 파이썬 자료형과 R 자료형의 호환을 도와주는 모듈\n",
    "import numpy as np\n",
    "\n",
    "# pandas2ri를 활성화 \n",
    "pandas2ri.activate()\n",
    "\n",
    "ets = \"\"\"\n",
    "    function(ts){\n",
    "        library(forecast) # forecast 패키지 로드\n",
    "        model = ets(ts) # AIC가 낮은 지수평활 모델을 찾음 \n",
    "        forecasted_data = forecast(model, h=3) # 이후 3개월(h=3)을 예측\n",
    "        out_df = data.frame(forecasted_data$mean) # 예측값을 R의 데이터프레임으로 변환\n",
    "        colnames(out_df) = c('amount') # amount라는 열로 이름을 지정\n",
    "        out_df\n",
    "    }\n",
    "\"\"\"\n",
    "\n",
    "# r() 함수로 r 자료형을 파이썬에서 사용 가능\n",
    "ets = robjects.r(ets)\n",
    "ts = robjects.r('ts') # r 자료형 time series 자료형으로 만들어주는 함수\n",
    "c = robjects.r('c') # r 자료형 벡터를 만들어주는 함수\n",
    "log = robjects.r('log') # 로그 변환 함수\n",
    "exp = robjects.r('exp')# 로그 역변환 함수\n",
    "\n",
    "final_pred = []\n",
    "\n",
    "for i in tqdm(resampling_data.store_id.unique()):\n",
    "    store = resampling_data[resampling_data['store_id']==i]\n",
    "    start_year = int(min(store['year_month'])[:4]) # 영업 시작 년도\n",
    "    start_month = int(min(store['year_month'])[5:]) # 영업 시작 월\n",
    "    \n",
    "    cv = coefficient_variation(resampling_data, i)\n",
    "    # 매출액 변동 계수가 0.3 미만인 경우만 log를 씌움\n",
    "    if cv < 0.3:\n",
    "        train_log = ts(log(store['amount']), start=c(start_year,start_month), frequency=12) \n",
    "        # ets model\n",
    "        forecast_log = ets(train_log)\n",
    "        final_pred.append(np.sum(pandas2ri.ri2py(exp(forecast_log)).values))\n",
    "    # 매출액 변동 계수가 0.3 이상인 경우\n",
    "    else:\n",
    "        train = ts(store['amount'], start=c(start_year,start_month), frequency=12)\n",
    "        # 지수평활법\n",
    "        forecast = ets(train)\n",
    "        final_pred.append(np.sum(pandas2ri.ri2py(forecast).values)) "
   ]
  },
  {
   "cell_type": "code",
   "execution_count": 45,
   "metadata": {},
   "outputs": [
    {
     "data": {
      "text/html": [
       "<div>\n",
       "<style scoped>\n",
       "    .dataframe tbody tr th:only-of-type {\n",
       "        vertical-align: middle;\n",
       "    }\n",
       "\n",
       "    .dataframe tbody tr th {\n",
       "        vertical-align: top;\n",
       "    }\n",
       "\n",
       "    .dataframe thead th {\n",
       "        text-align: right;\n",
       "    }\n",
       "</style>\n",
       "<table border=\"1\" class=\"dataframe\">\n",
       "  <thead>\n",
       "    <tr style=\"text-align: right;\">\n",
       "      <th></th>\n",
       "      <th>store_id</th>\n",
       "      <th>amount</th>\n",
       "    </tr>\n",
       "  </thead>\n",
       "  <tbody>\n",
       "    <tr>\n",
       "      <td>0</td>\n",
       "      <td>0</td>\n",
       "      <td>1.963401e+06</td>\n",
       "    </tr>\n",
       "    <tr>\n",
       "      <td>1</td>\n",
       "      <td>1</td>\n",
       "      <td>2.483335e+05</td>\n",
       "    </tr>\n",
       "    <tr>\n",
       "      <td>2</td>\n",
       "      <td>2</td>\n",
       "      <td>1.260318e+06</td>\n",
       "    </tr>\n",
       "    <tr>\n",
       "      <td>3</td>\n",
       "      <td>4</td>\n",
       "      <td>2.660373e+06</td>\n",
       "    </tr>\n",
       "    <tr>\n",
       "      <td>4</td>\n",
       "      <td>5</td>\n",
       "      <td>7.091162e+05</td>\n",
       "    </tr>\n",
       "    <tr>\n",
       "      <td>...</td>\n",
       "      <td>...</td>\n",
       "      <td>...</td>\n",
       "    </tr>\n",
       "    <tr>\n",
       "      <td>1962</td>\n",
       "      <td>2132</td>\n",
       "      <td>2.122653e+06</td>\n",
       "    </tr>\n",
       "    <tr>\n",
       "      <td>1963</td>\n",
       "      <td>2133</td>\n",
       "      <td>3.488475e+05</td>\n",
       "    </tr>\n",
       "    <tr>\n",
       "      <td>1964</td>\n",
       "      <td>2134</td>\n",
       "      <td>4.249576e+05</td>\n",
       "    </tr>\n",
       "    <tr>\n",
       "      <td>1965</td>\n",
       "      <td>2135</td>\n",
       "      <td>1.603989e+06</td>\n",
       "    </tr>\n",
       "    <tr>\n",
       "      <td>1966</td>\n",
       "      <td>2136</td>\n",
       "      <td>6.504026e+06</td>\n",
       "    </tr>\n",
       "  </tbody>\n",
       "</table>\n",
       "<p>1967 rows × 2 columns</p>\n",
       "</div>"
      ],
      "text/plain": [
       "      store_id        amount\n",
       "0            0  1.963401e+06\n",
       "1            1  2.483335e+05\n",
       "2            2  1.260318e+06\n",
       "3            4  2.660373e+06\n",
       "4            5  7.091162e+05\n",
       "...        ...           ...\n",
       "1962      2132  2.122653e+06\n",
       "1963      2133  3.488475e+05\n",
       "1964      2134  4.249576e+05\n",
       "1965      2135  1.603989e+06\n",
       "1966      2136  6.504026e+06\n",
       "\n",
       "[1967 rows x 2 columns]"
      ]
     },
     "execution_count": 45,
     "metadata": {},
     "output_type": "execute_result"
    }
   ],
   "source": [
    "submission = pd.read_csv('./submission.csv')\n",
    "submission['amount'] = final_pred\n",
    "submission.to_csv('submission.csv', index=False)\n",
    "submission"
   ]
  },
  {
   "cell_type": "markdown",
   "metadata": {},
   "source": [
    "### 5.2.\t파이썬에서 R 시계열 패키지 forecastHybrid를 통한 앙상블"
   ]
  },
  {
   "cell_type": "code",
   "execution_count": 46,
   "metadata": {},
   "outputs": [
    {
     "name": "stderr",
     "output_type": "stream",
     "text": [
      "100%|██████████████████████████████████████████████████████████████████████████████| 1967/1967 [12:32<00:00,  2.61it/s]\n"
     ]
    }
   ],
   "source": [
    "import rpy2.robjects as robjects # r 함수를 파이썬에서 사용 가능하게 변환하는 모듈\n",
    "from rpy2.robjects import pandas2ri # 파이썬 자료형과 R 자료형의 호환을 도와주는 모듈\n",
    "import numpy as np\n",
    "\n",
    "# pandas2ri를 활성화 \n",
    "pandas2ri.activate()\n",
    "\n",
    "hybridModel = \"\"\"\n",
    "    function(ts){\n",
    "        library(forecast)\n",
    "        library(forecastHybrid)\n",
    "        d_params=ndiffs(ts)\n",
    "        hb_mdl<-hybridModel(ts, models=\"aes\", # auto_arima, ets, stlm\n",
    "                        a.arg=list(max.p=2, d=d_params), # auto_arima parameter\n",
    "                        weight=\"equal\") # 가중치를 동일하게 줌(평균)\n",
    "        forecasted_data<-forecast(hb_mdl, h=3) # 이후 3개월(h=3)을 예측\n",
    "        outdf<-data.frame(forecasted_data$mean)\n",
    "        colnames(outdf)<-c('amount')\n",
    "        outdf\n",
    "    }\n",
    "\"\"\" \n",
    "\n",
    "# r() 함수로 r 자료형을 파이썬에서 사용 가능\n",
    "hybridModel = robjects.r(hybridModel)\n",
    "ts = robjects.r('ts') # r 자료형 time series 자료형으로 만들어주는 함수\n",
    "c = robjects.r('c') # r 자료형 벡터를 만들어주는 함수\n",
    "log = robjects.r('log') # 로그 변환 함수\n",
    "exp = robjects.r('exp')# 로그 역변환 함수\n",
    "\n",
    "final_pred = []\n",
    "\n",
    "for i in tqdm(resampling_data.store_id.unique()):\n",
    "    store = resampling_data[resampling_data['store_id']==i]\n",
    "    start_year = int(min(store['year_month'])[:4]) # 영업 시작 년도\n",
    "    start_month = int(min(store['year_month'])[5:]) # 영업 시작 월\n",
    "    \n",
    "    cv = coefficient_variation(resampling_data, i)\n",
    "    # 매출액 변동 계수가 0.3 미만인 경우만 log를 씌움\n",
    "    if cv < 0.3:\n",
    "        train_log = ts(log(store['amount']), start=c(start_year,start_month), frequency=12) \n",
    "        # 앙상블 예측\n",
    "        forecast_log = hybridModel(train_log)\n",
    "        final_pred.append(np.sum(pandas2ri.ri2py(exp(forecast_log)).values)) \n",
    "    # 매출액 변동 계수가 0.3 이상인 경우\n",
    "    else:\n",
    "        train = ts(store['amount'], start=c(start_year,start_month), frequency=12)\n",
    "        # 앙상블 예측\n",
    "        forecast = hybridModel(train)\n",
    "        final_pred.append(np.sum(pandas2ri.ri2py(forecast).values))\n"
   ]
  },
  {
   "cell_type": "code",
   "execution_count": 47,
   "metadata": {},
   "outputs": [
    {
     "data": {
      "text/html": [
       "<div>\n",
       "<style scoped>\n",
       "    .dataframe tbody tr th:only-of-type {\n",
       "        vertical-align: middle;\n",
       "    }\n",
       "\n",
       "    .dataframe tbody tr th {\n",
       "        vertical-align: top;\n",
       "    }\n",
       "\n",
       "    .dataframe thead th {\n",
       "        text-align: right;\n",
       "    }\n",
       "</style>\n",
       "<table border=\"1\" class=\"dataframe\">\n",
       "  <thead>\n",
       "    <tr style=\"text-align: right;\">\n",
       "      <th></th>\n",
       "      <th>store_id</th>\n",
       "      <th>amount</th>\n",
       "    </tr>\n",
       "  </thead>\n",
       "  <tbody>\n",
       "    <tr>\n",
       "      <td>0</td>\n",
       "      <td>0</td>\n",
       "      <td>1.996290e+06</td>\n",
       "    </tr>\n",
       "    <tr>\n",
       "      <td>1</td>\n",
       "      <td>1</td>\n",
       "      <td>2.653045e+05</td>\n",
       "    </tr>\n",
       "    <tr>\n",
       "      <td>2</td>\n",
       "      <td>2</td>\n",
       "      <td>1.240681e+06</td>\n",
       "    </tr>\n",
       "    <tr>\n",
       "      <td>3</td>\n",
       "      <td>4</td>\n",
       "      <td>2.695279e+06</td>\n",
       "    </tr>\n",
       "    <tr>\n",
       "      <td>4</td>\n",
       "      <td>5</td>\n",
       "      <td>8.240620e+05</td>\n",
       "    </tr>\n",
       "    <tr>\n",
       "      <td>...</td>\n",
       "      <td>...</td>\n",
       "      <td>...</td>\n",
       "    </tr>\n",
       "    <tr>\n",
       "      <td>1962</td>\n",
       "      <td>2132</td>\n",
       "      <td>2.115933e+06</td>\n",
       "    </tr>\n",
       "    <tr>\n",
       "      <td>1963</td>\n",
       "      <td>2133</td>\n",
       "      <td>6.311052e+05</td>\n",
       "    </tr>\n",
       "    <tr>\n",
       "      <td>1964</td>\n",
       "      <td>2134</td>\n",
       "      <td>3.021292e+05</td>\n",
       "    </tr>\n",
       "    <tr>\n",
       "      <td>1965</td>\n",
       "      <td>2135</td>\n",
       "      <td>1.626442e+06</td>\n",
       "    </tr>\n",
       "    <tr>\n",
       "      <td>1966</td>\n",
       "      <td>2136</td>\n",
       "      <td>6.504046e+06</td>\n",
       "    </tr>\n",
       "  </tbody>\n",
       "</table>\n",
       "<p>1967 rows × 2 columns</p>\n",
       "</div>"
      ],
      "text/plain": [
       "      store_id        amount\n",
       "0            0  1.996290e+06\n",
       "1            1  2.653045e+05\n",
       "2            2  1.240681e+06\n",
       "3            4  2.695279e+06\n",
       "4            5  8.240620e+05\n",
       "...        ...           ...\n",
       "1962      2132  2.115933e+06\n",
       "1963      2133  6.311052e+05\n",
       "1964      2134  3.021292e+05\n",
       "1965      2135  1.626442e+06\n",
       "1966      2136  6.504046e+06\n",
       "\n",
       "[1967 rows x 2 columns]"
      ]
     },
     "execution_count": 47,
     "metadata": {},
     "output_type": "execute_result"
    }
   ],
   "source": [
    "submission = pd.read_csv('./submission.csv')\n",
    "submission['amount'] = final_pred\n",
    "submission.to_csv('submission.csv', index=False)\n",
    "submission"
   ]
  }
 ],
 "metadata": {
  "kernelspec": {
   "display_name": "Python 3.8.3 64-bit",
   "language": "python",
   "name": "python3"
  },
  "language_info": {
   "codemirror_mode": {
    "name": "ipython",
    "version": 3
   },
   "file_extension": ".py",
   "mimetype": "text/x-python",
   "name": "python",
   "nbconvert_exporter": "python",
   "pygments_lexer": "ipython3",
   "version": "3.8.3"
  },
  "vscode": {
   "interpreter": {
    "hash": "fe08583166d69e6349a6e28a1c9d5f587f01dee4313e0bf770d3d74da5416c83"
   }
  }
 },
 "nbformat": 4,
 "nbformat_minor": 4
}
